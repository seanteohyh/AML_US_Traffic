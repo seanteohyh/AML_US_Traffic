{
  "nbformat": 4,
  "nbformat_minor": 0,
  "metadata": {
    "kernelspec": {
      "display_name": "Python 3",
      "language": "python",
      "name": "python3"
    },
    "language_info": {
      "codemirror_mode": {
        "name": "ipython",
        "version": 3
      },
      "file_extension": ".py",
      "mimetype": "text/x-python",
      "name": "python",
      "nbconvert_exporter": "python",
      "pygments_lexer": "ipython3",
      "version": "3.7.4"
    },
    "colab": {
      "name": "NY Person Trip Predictor.ipynb",
      "provenance": [],
      "toc_visible": true
    }
  },
  "cells": [
    {
      "cell_type": "markdown",
      "metadata": {
        "id": "ll1aufb7kQAV"
      },
      "source": [
        "# NY Person Trip Predictor"
      ]
    },
    {
      "cell_type": "code",
      "metadata": {
        "id": "ouCMz3AHkQAV"
      },
      "source": [
        "import pandas as pd\n",
        "import numpy as np\n",
        "import datetime\n",
        "import matplotlib.pyplot as plt\n",
        "import seaborn as sns\n",
        "%matplotlib inline\n",
        "from sklearn import model_selection\n",
        "import warnings\n",
        "import math\n",
        "import time\n",
        "warnings.filterwarnings('ignore')"
      ],
      "execution_count": 1,
      "outputs": []
    },
    {
      "cell_type": "code",
      "metadata": {
        "colab": {
          "base_uri": "https://localhost:8080/"
        },
        "id": "Y6FHVntHlAUi",
        "outputId": "4359c7e6-67f6-4902-862e-4b32ab0caed0"
      },
      "source": [
        "from google.colab import drive\n",
        "drive.mount('/content/drive')"
      ],
      "execution_count": 2,
      "outputs": [
        {
          "output_type": "stream",
          "text": [
            "Mounted at /content/drive\n"
          ],
          "name": "stdout"
        }
      ]
    },
    {
      "cell_type": "code",
      "metadata": {
        "id": "nEljGWi-kQAW"
      },
      "source": [
        "#path = \"C:/Users/Seant/Desktop/aml_data\" #edit this path to change to your path folder\n",
        "#path = \"/Users/weijilim/Downloads/csv\"\n",
        "#path = \"/Users/jayneteo/Dropbox/SMU MITB/Term 2 2021/AML/Project/NHTS/csv\" \n",
        "\n",
        "#household = pd.read_csv(\"\".join([path,'/hhpub.csv']))\n",
        "#person =  pd.read_csv(\"\".join([path,'/perpub.csv']))\n",
        "#trip =  pd.read_csv(\"\".join([path,'/trippub.csv']))\n",
        "\n",
        "household = pd.read_csv('/content/drive/MyDrive/AML Project/hhpub.csv')\n",
        "person = pd.read_csv('/content/drive/MyDrive/AML Project/perpub.csv')\n",
        "trip = pd.read_csv('/content/drive/MyDrive/AML Project/trippub.csv')\n",
        "\n"
      ],
      "execution_count": 4,
      "outputs": []
    },
    {
      "cell_type": "code",
      "metadata": {
        "id": "N4Ieuj1wkQAW"
      },
      "source": [
        "#define function \n",
        "\n",
        "def cat_col_prop(data, col):\n",
        "    print(pd.concat([data[col].value_counts(),\n",
        "          data[col].value_counts(normalize = True).mul(100)],axis = 1, keys = ('counts','percentage')))\n",
        "\n",
        "    sns.countplot(data[col], order =  data[col].value_counts().index)"
      ],
      "execution_count": 5,
      "outputs": []
    },
    {
      "cell_type": "markdown",
      "metadata": {
        "id": "MJ3ktcxGkQAX"
      },
      "source": [
        "## Objective of Study"
      ]
    },
    {
      "cell_type": "code",
      "metadata": {
        "id": "ZNts5h0qkQAX"
      },
      "source": [
        "ny = household[household['HHSTATE']==\"NY\"]\n",
        "ny = ny[ny['HHVEHCNT']>0]\n",
        "ny_trip = trip[trip['HOUSEID'].isin(ny['HOUSEID'])]\n",
        "nyorker = person[person['HOUSEID'].isin(ny['HOUSEID'])]"
      ],
      "execution_count": 6,
      "outputs": []
    },
    {
      "cell_type": "code",
      "metadata": {
        "colab": {
          "base_uri": "https://localhost:8080/"
        },
        "id": "7F-EF3BOkQAX",
        "outputId": "65181592-f5c9-4656-ab37-326daf051135"
      },
      "source": [
        "# HOSEHOLD match\n",
        "\n",
        "ny_hh_trip = ny_trip[['HOUSEID','TDTRPNUM']].groupby(['HOUSEID']).count().reset_index()\n",
        "\n",
        "hh_check = ny[['HOUSEID']].merge(ny_hh_trip, how = 'left')\n",
        "\n",
        "hh_missing = sum(hh_check['TDTRPNUM'].isna())\n",
        "\n",
        "print(str(hh_missing), ' out of ',str(len(set(ny['HOUSEID']))),' ny household no trips recorded at all',str(hh_missing/len(set(ny['HOUSEID']))*100),'%')"
      ],
      "execution_count": 7,
      "outputs": [
        {
          "output_type": "stream",
          "text": [
            "1411  out of  15636  ny household no trips recorded at all 9.024047070862114 %\n"
          ],
          "name": "stdout"
        }
      ]
    },
    {
      "cell_type": "code",
      "metadata": {
        "id": "slzfHUESkQAY"
      },
      "source": [
        "# Person  rate in household\n",
        "\n",
        "ny_trip_check = ny_trip[['HOUSEID','PERSONID','WHYTRP90']].groupby(['HOUSEID','PERSONID']).count().reset_index()\n",
        "ny_check = nyorker.merge(ny_trip_check, how = 'left', left_on=['HOUSEID','PERSONID'],right_on=['HOUSEID','PERSONID'])"
      ],
      "execution_count": 8,
      "outputs": []
    },
    {
      "cell_type": "code",
      "metadata": {
        "id": "uINIl3WikQAZ"
      },
      "source": [
        "ny_check['WHYTRP90'][ny_check['WHYTRP90']>0] =1\n",
        "ny_check['WHYTRP90'][ny_check['WHYTRP90'].isna()] =0"
      ],
      "execution_count": 9,
      "outputs": []
    },
    {
      "cell_type": "code",
      "metadata": {
        "colab": {
          "base_uri": "https://localhost:8080/"
        },
        "id": "twlRtA84kQAZ",
        "outputId": "599cf98b-5c6b-4c3c-9014-443383015879"
      },
      "source": [
        "person_hitrate = sum(ny_check['WHYTRP90']==0)/ny_check.shape[0]*100\n",
        "\n",
        "print('of', str(ny_check.shape[0]),' person info,',str(person_hitrate),'% did not provide any trip info')\n"
      ],
      "execution_count": 10,
      "outputs": [
        {
          "output_type": "stream",
          "text": [
            "of 32292  person info, 17.100210578471447 % did not provide any trip info\n"
          ],
          "name": "stdout"
        }
      ]
    },
    {
      "cell_type": "code",
      "metadata": {
        "colab": {
          "base_uri": "https://localhost:8080/"
        },
        "id": "AQXBEAoYkQAa",
        "outputId": "9123cbe0-6232-4340-969a-b4d9e5a5a1de"
      },
      "source": [
        "summ = ny_check[['HOUSEID','PERSONID','WHYTRP90']].groupby(['HOUSEID']).agg({'PERSONID':'sum',\n",
        "                                                                     'WHYTRP90':'sum'}).reset_index().rename(columns = {'WHYTRP90':'TRIP_COUNTED',\n",
        "                                                                                                                       'PERSONID':'HHSIZE'})\n",
        "summ['percent_trips'] = summ['TRIP_COUNTED']/summ['HHSIZE'] * 100\n",
        "\n",
        "print('average percent of household members surveyed: ',summ['percent_trips'].mean(),'%')"
      ],
      "execution_count": 11,
      "outputs": [
        {
          "output_type": "stream",
          "text": [
            "average percent of household members surveyed:  60.106623043559715 %\n"
          ],
          "name": "stdout"
        }
      ]
    },
    {
      "cell_type": "code",
      "metadata": {
        "colab": {
          "base_uri": "https://localhost:8080/",
          "height": 297
        },
        "id": "y5p87HLkkQAa",
        "outputId": "6e20e4f1-f445-4d85-8205-8db2742810ea"
      },
      "source": [
        "missing = ny_check[ny_check['WHYTRP90']==0]\n",
        "sns.histplot(missing['R_AGE'])"
      ],
      "execution_count": 12,
      "outputs": [
        {
          "output_type": "execute_result",
          "data": {
            "text/plain": [
              "<matplotlib.axes._subplots.AxesSubplot at 0x7f9797092c90>"
            ]
          },
          "metadata": {
            "tags": []
          },
          "execution_count": 12
        },
        {
          "output_type": "display_data",
          "data": {
            "image/png": "[encoded data removed]",
            "text/plain": [
              "<Figure size 432x288 with 1 Axes>"
            ]
          },
          "metadata": {
            "tags": [],
            "needs_background": "light"
          }
        }
      ]
    },
    {
      "cell_type": "markdown",
      "metadata": {
        "id": "13eH6Xi4kQAd"
      },
      "source": [
        "### Goal is to create a predictive model to help predict and impute missing person trips in order to evaluate Household level trips "
      ]
    },
    {
      "cell_type": "markdown",
      "metadata": {
        "id": "VvVBJWOLkQAd"
      },
      "source": [
        "## 1. Merging of Data"
      ]
    },
    {
      "cell_type": "markdown",
      "metadata": {
        "id": "HvcQizsHkQAd"
      },
      "source": [
        "### 1.1. Household"
      ]
    },
    {
      "cell_type": "code",
      "metadata": {
        "id": "17npfyQ0kQAd"
      },
      "source": [
        "#filtering NY Households\n",
        "ny = household[household['HHSTATE'] == \"NY\"]\n",
        "\n",
        "# as only studying hh with car will also filter out hh with HHVEHCNT == 0\n",
        "ny = ny[ny['HHVEHCNT']>0]"
      ],
      "execution_count": 13,
      "outputs": []
    },
    {
      "cell_type": "code",
      "metadata": {
        "id": "QCSWnI-rkQAe"
      },
      "source": [
        "# selection of columns based on prior background inference of potential features\n",
        "ny = ny[['HOUSEID','HH_CBSA','HOMEOWN','HHSIZE','HHVEHCNT','HHFAMINC','NUMADLT','YOUNGCHILD','WRKCOUNT','MSACAT','MSASIZE','URBAN','URBANSIZE','URBRUR','LIF_CYC']]"
      ],
      "execution_count": 14,
      "outputs": []
    },
    {
      "cell_type": "markdown",
      "metadata": {
        "id": "SQJCZiyQkQAe"
      },
      "source": [
        "### 1.2 Trips"
      ]
    },
    {
      "cell_type": "code",
      "metadata": {
        "id": "KK7mR9K1kQAe"
      },
      "source": [
        "ny_trip = trip[trip['HOUSEID'].isin(ny['HOUSEID'])]"
      ],
      "execution_count": 15,
      "outputs": []
    },
    {
      "cell_type": "markdown",
      "metadata": {
        "id": "MtmB3l30kQAf"
      },
      "source": [
        "* get most frequent distance bins for each WHYREASON "
      ]
    },
    {
      "cell_type": "code",
      "metadata": {
        "colab": {
          "base_uri": "https://localhost:8080/"
        },
        "id": "FF3WtULnkQAf",
        "outputId": "0d46acbf-d0cd-4e09-ffba-418c159b8f15"
      },
      "source": [
        "trips_data = ny_trip[['HOUSEID','PERSONID','WHYTRP90','TRPMILES']]\n",
        "trips_data['WHYTRP90'].value_counts()\n",
        "\n",
        "# top why trips are [3,10,4,1,,8,5]"
      ],
      "execution_count": 16,
      "outputs": [
        {
          "output_type": "execute_result",
          "data": {
            "text/plain": [
              "10    25627\n",
              "3     23806\n",
              "4     19880\n",
              "1     18001\n",
              "5      8440\n",
              "8      8325\n",
              "11     4385\n",
              "6      3164\n",
              "2      1954\n",
              "99       34\n",
              "Name: WHYTRP90, dtype: int64"
            ]
          },
          "metadata": {
            "tags": []
          },
          "execution_count": 16
        }
      ]
    },
    {
      "cell_type": "code",
      "metadata": {
        "id": "kvPtEvo0kQAf"
      },
      "source": [
        "trips_data =trips_data[trips_data['WHYTRP90'].isin([1,10,4,3,8,5])]"
      ],
      "execution_count": 17,
      "outputs": []
    },
    {
      "cell_type": "code",
      "metadata": {
        "colab": {
          "base_uri": "https://localhost:8080/",
          "height": 382
        },
        "id": "Mktpt_I8kQAg",
        "outputId": "a6fc56fb-a02c-4f0a-f1a6-c7958f234380"
      },
      "source": [
        "trips_data['round_dist']= trips_data['TRPMILES'].apply(lambda x: math.floor(x))\n",
        "trips_data['trip_dist'] = pd.qcut(trips_data['round_dist'],5)\n",
        "cat_col_prop(trips_data,'trip_dist')"
      ],
      "execution_count": 18,
      "outputs": [
        {
          "output_type": "stream",
          "text": [
            "                counts  percentage\n",
            "(0.0, 2.0]       26629   25.585373\n",
            "(-9.001, 0.0]    21629   20.781330\n",
            "(4.0, 10.0]      20679   19.868561\n",
            "(10.0, 3621.0]   20273   19.478473\n",
            "(2.0, 4.0]       14869   14.286263\n"
          ],
          "name": "stdout"
        },
        {
          "output_type": "display_data",
          "data": {
            "image/png": "[encoded data removed]",
            "text/plain": [
              "<Figure size 432x288 with 1 Axes>"
            ]
          },
          "metadata": {
            "tags": [],
            "needs_background": "light"
          }
        }
      ]
    },
    {
      "cell_type": "code",
      "metadata": {
        "id": "aWpl0kHCkQAg"
      },
      "source": [
        "# Summarise to Person trip counts \n",
        "ny_trip_count = ny_trip[['HOUSEID','PERSONID','TRAVDAY']].groupby(['HOUSEID','PERSONID']).agg('count').reset_index().rename(columns = {'TRAVDAY':'n_trips'})"
      ],
      "execution_count": 19,
      "outputs": []
    },
    {
      "cell_type": "code",
      "metadata": {
        "colab": {
          "base_uri": "https://localhost:8080/",
          "height": 204
        },
        "id": "q7LlkUegkQAg",
        "outputId": "c117300a-e68f-42b7-b3a7-95b5f043f68e"
      },
      "source": [
        "ny_trip_count.head()"
      ],
      "execution_count": 20,
      "outputs": [
        {
          "output_type": "execute_result",
          "data": {
            "text/html": [
              "<div>\n",
              "<style scoped>\n",
              "    .dataframe tbody tr th:only-of-type {\n",
              "        vertical-align: middle;\n",
              "    }\n",
              "\n",
              "    .dataframe tbody tr th {\n",
              "        vertical-align: top;\n",
              "    }\n",
              "\n",
              "    .dataframe thead th {\n",
              "        text-align: right;\n",
              "    }\n",
              "</style>\n",
              "<table border=\"1\" class=\"dataframe\">\n",
              "  <thead>\n",
              "    <tr style=\"text-align: right;\">\n",
              "      <th></th>\n",
              "      <th>HOUSEID</th>\n",
              "      <th>PERSONID</th>\n",
              "      <th>n_trips</th>\n",
              "    </tr>\n",
              "  </thead>\n",
              "  <tbody>\n",
              "    <tr>\n",
              "      <th>0</th>\n",
              "      <td>30000012</td>\n",
              "      <td>1</td>\n",
              "      <td>9</td>\n",
              "    </tr>\n",
              "    <tr>\n",
              "      <th>1</th>\n",
              "      <td>30000082</td>\n",
              "      <td>1</td>\n",
              "      <td>5</td>\n",
              "    </tr>\n",
              "    <tr>\n",
              "      <th>2</th>\n",
              "      <td>30000082</td>\n",
              "      <td>2</td>\n",
              "      <td>7</td>\n",
              "    </tr>\n",
              "    <tr>\n",
              "      <th>3</th>\n",
              "      <td>30000130</td>\n",
              "      <td>1</td>\n",
              "      <td>4</td>\n",
              "    </tr>\n",
              "    <tr>\n",
              "      <th>4</th>\n",
              "      <td>30000380</td>\n",
              "      <td>1</td>\n",
              "      <td>6</td>\n",
              "    </tr>\n",
              "  </tbody>\n",
              "</table>\n",
              "</div>"
            ],
            "text/plain": [
              "    HOUSEID  PERSONID  n_trips\n",
              "0  30000012         1        9\n",
              "1  30000082         1        5\n",
              "2  30000082         2        7\n",
              "3  30000130         1        4\n",
              "4  30000380         1        6"
            ]
          },
          "metadata": {
            "tags": []
          },
          "execution_count": 20
        }
      ]
    },
    {
      "cell_type": "code",
      "metadata": {
        "id": "uNvLnROZkQAh"
      },
      "source": [
        "trip_summary = trips_data[['HOUSEID','PERSONID','WHYTRP90','trip_dist']].groupby(['HOUSEID','PERSONID','WHYTRP90'])['trip_dist'].apply(pd.Series.mode).reset_index()\n",
        "trip_summary['max_dist'] = trip_summary['trip_dist'].apply(lambda x: x.right)"
      ],
      "execution_count": 21,
      "outputs": []
    },
    {
      "cell_type": "code",
      "metadata": {
        "id": "OrL-_arZkQAh"
      },
      "source": [
        "trip_summary = trip_summary[trip_summary.groupby(['HOUSEID','PERSONID','WHYTRP90'])['max_dist'].transform(max) == trip_summary['max_dist']]\n",
        "\n",
        "trip_summary = trip_summary[['HOUSEID','PERSONID','WHYTRP90','trip_dist']]\n"
      ],
      "execution_count": 22,
      "outputs": []
    },
    {
      "cell_type": "code",
      "metadata": {
        "id": "_ytskBnlkQAh"
      },
      "source": [
        "pivoted = trip_summary.pivot(index = ['HOUSEID','PERSONID'],\n",
        "                  columns = 'WHYTRP90',\n",
        "                  values = 'trip_dist')\n",
        "\n",
        "trip_why_common = pd.DataFrame(pivoted.to_records()).rename(columns = {'1':'dist_to_work',\n",
        "                                                       '3':'dist_to_shopping',\n",
        "                                                        '4':'dist_to_family',\n",
        "                                                       '5':'dist_to_school_or_church',\n",
        "                                                        '8': 'dist_to_relatives',\n",
        "                                                        '10':'dist_to_social'})\n"
      ],
      "execution_count": 23,
      "outputs": []
    },
    {
      "cell_type": "markdown",
      "metadata": {
        "id": "69Weg034kQAi"
      },
      "source": [
        "* Get the Count of Car Trips"
      ]
    },
    {
      "cell_type": "code",
      "metadata": {
        "id": "YT9YBmy_kQAi"
      },
      "source": [
        "# selecting trips that were done using either 3.Car, 4.SUV, 5.Van\n",
        "ny_trip = ny_trip[ny_trip['TRPTRANS'].isin([3,4,5])]"
      ],
      "execution_count": 24,
      "outputs": []
    },
    {
      "cell_type": "code",
      "metadata": {
        "colab": {
          "base_uri": "https://localhost:8080/"
        },
        "id": "36FeL8iNkQAi",
        "outputId": "c8f1dd24-3c0d-4182-f914-44f12420c133"
      },
      "source": [
        "print(str(sum(ny_trip['TRVLCMIN']<=0)), ' trips missing TRVLCMIN info so will just remove since only ',str(sum(ny_trip['TRVLCMIN']<=0)/len(ny_trip)*100),\"%\")\n",
        "ny_trip = ny_trip[ny_trip['TRVLCMIN']>0]"
      ],
      "execution_count": 25,
      "outputs": [
        {
          "output_type": "stream",
          "text": [
            "84  trips missing TRVLCMIN info so will just remove since only  0.09621221666074885 %\n"
          ],
          "name": "stdout"
        }
      ]
    },
    {
      "cell_type": "code",
      "metadata": {
        "colab": {
          "base_uri": "https://localhost:8080/"
        },
        "id": "qHfQIo12kQAi",
        "outputId": "3b05f750-009a-4221-a572-3b9740a06020"
      },
      "source": [
        "# since only 24 lines with trip distance <= 0, removed lines\n",
        "print('# of trips with dist <=0,', str(sum(ny_trip['TRPMILES']<=0)),' out of', str(len(ny_trip)))\n",
        "ny_trip = ny_trip[ny_trip['TRPMILES']>0]"
      ],
      "execution_count": 26,
      "outputs": [
        {
          "output_type": "stream",
          "text": [
            "# of trips with dist <=0, 22  out of 87223\n"
          ],
          "name": "stdout"
        }
      ]
    },
    {
      "cell_type": "code",
      "metadata": {
        "colab": {
          "base_uri": "https://localhost:8080/",
          "height": 279
        },
        "id": "VTWPK2b-kQAj",
        "outputId": "8bc4b3cd-7f06-45a3-8212-f155d80111ec"
      },
      "source": [
        "#Remove outlier trip miles\n",
        "sns.histplot(ny_trip['TRPMILES'])\n",
        "#ny_trip = ny_trip[ny_trip['TRPMILES']<40]\n",
        "ny_trip = ny_trip[ny_trip['TRPMILES']<100]"
      ],
      "execution_count": 27,
      "outputs": [
        {
          "output_type": "display_data",
          "data": {
            "image/png": "[encoded data removed]",
            "text/plain": [
              "<Figure size 432x288 with 1 Axes>"
            ]
          },
          "metadata": {
            "tags": [],
            "needs_background": "light"
          }
        }
      ]
    },
    {
      "cell_type": "code",
      "metadata": {
        "id": "qhwNODlnkQAj"
      },
      "source": [
        "ny_trip_count = ny_trip_count.merge(trip_why_common, how = 'left',left_on = ['HOUSEID','PERSONID'],right_on = ['HOUSEID','PERSONID'])"
      ],
      "execution_count": 28,
      "outputs": []
    },
    {
      "cell_type": "markdown",
      "metadata": {
        "id": "yCRhQyZHkQAk"
      },
      "source": [
        "## 1.3 People"
      ]
    },
    {
      "cell_type": "code",
      "metadata": {
        "id": "yyDcuSZnkQAk"
      },
      "source": [
        "# filtering people from New York\n",
        "nyorker = person[person['HOUSEID'].isin(ny['HOUSEID'])]"
      ],
      "execution_count": 29,
      "outputs": []
    },
    {
      "cell_type": "code",
      "metadata": {
        "id": "ghD1aP4XkQAk"
      },
      "source": [
        "# selection of columns based on prior background inference of potential features\n",
        "nyorker = nyorker[['HOUSEID','PERSONID','R_AGE','EDUC','R_RACE','R_SEX','WRK_HOME','WKFTPT','OCCAT','DRIVER','TRAVDAY','DISTTOWK17','DISTTOSC17','OUTOFTWN']]\n"
      ],
      "execution_count": 30,
      "outputs": []
    },
    {
      "cell_type": "code",
      "metadata": {
        "id": "EM2BaIc9kQAk"
      },
      "source": [
        "# Remove those out of town\n",
        "nyorker = nyorker[nyorker['OUTOFTWN']==2]\n",
        "nyorker.drop(['OUTOFTWN'],axis =1, inplace = True)"
      ],
      "execution_count": 31,
      "outputs": []
    },
    {
      "cell_type": "code",
      "metadata": {
        "colab": {
          "base_uri": "https://localhost:8080/",
          "height": 419
        },
        "id": "6uoZhU4ZkQAl",
        "outputId": "8608633c-4cdb-457a-e998-478868d94b7d"
      },
      "source": [
        "ny_trip_count"
      ],
      "execution_count": 32,
      "outputs": [
        {
          "output_type": "execute_result",
          "data": {
            "text/html": [
              "<div>\n",
              "<style scoped>\n",
              "    .dataframe tbody tr th:only-of-type {\n",
              "        vertical-align: middle;\n",
              "    }\n",
              "\n",
              "    .dataframe tbody tr th {\n",
              "        vertical-align: top;\n",
              "    }\n",
              "\n",
              "    .dataframe thead th {\n",
              "        text-align: right;\n",
              "    }\n",
              "</style>\n",
              "<table border=\"1\" class=\"dataframe\">\n",
              "  <thead>\n",
              "    <tr style=\"text-align: right;\">\n",
              "      <th></th>\n",
              "      <th>HOUSEID</th>\n",
              "      <th>PERSONID</th>\n",
              "      <th>n_trips</th>\n",
              "      <th>dist_to_work</th>\n",
              "      <th>dist_to_shopping</th>\n",
              "      <th>dist_to_family</th>\n",
              "      <th>dist_to_school_or_church</th>\n",
              "      <th>dist_to_relatives</th>\n",
              "      <th>dist_to_social</th>\n",
              "    </tr>\n",
              "  </thead>\n",
              "  <tbody>\n",
              "    <tr>\n",
              "      <th>0</th>\n",
              "      <td>30000012</td>\n",
              "      <td>1</td>\n",
              "      <td>9</td>\n",
              "      <td>(4.0, 10.0]</td>\n",
              "      <td>NaN</td>\n",
              "      <td>NaN</td>\n",
              "      <td>NaN</td>\n",
              "      <td>(10.0, 3621.0]</td>\n",
              "      <td>(2.0, 4.0]</td>\n",
              "    </tr>\n",
              "    <tr>\n",
              "      <th>1</th>\n",
              "      <td>30000082</td>\n",
              "      <td>1</td>\n",
              "      <td>5</td>\n",
              "      <td>(0.0, 2.0]</td>\n",
              "      <td>NaN</td>\n",
              "      <td>(0.0, 2.0]</td>\n",
              "      <td>NaN</td>\n",
              "      <td>NaN</td>\n",
              "      <td>(0.0, 2.0]</td>\n",
              "    </tr>\n",
              "    <tr>\n",
              "      <th>2</th>\n",
              "      <td>30000082</td>\n",
              "      <td>2</td>\n",
              "      <td>7</td>\n",
              "      <td>NaN</td>\n",
              "      <td>(0.0, 2.0]</td>\n",
              "      <td>NaN</td>\n",
              "      <td>NaN</td>\n",
              "      <td>NaN</td>\n",
              "      <td>(10.0, 3621.0]</td>\n",
              "    </tr>\n",
              "    <tr>\n",
              "      <th>3</th>\n",
              "      <td>30000130</td>\n",
              "      <td>1</td>\n",
              "      <td>4</td>\n",
              "      <td>(10.0, 3621.0]</td>\n",
              "      <td>NaN</td>\n",
              "      <td>NaN</td>\n",
              "      <td>NaN</td>\n",
              "      <td>NaN</td>\n",
              "      <td>NaN</td>\n",
              "    </tr>\n",
              "    <tr>\n",
              "      <th>4</th>\n",
              "      <td>30000380</td>\n",
              "      <td>1</td>\n",
              "      <td>6</td>\n",
              "      <td>NaN</td>\n",
              "      <td>(0.0, 2.0]</td>\n",
              "      <td>NaN</td>\n",
              "      <td>NaN</td>\n",
              "      <td>NaN</td>\n",
              "      <td>(-9.001, 0.0]</td>\n",
              "    </tr>\n",
              "    <tr>\n",
              "      <th>...</th>\n",
              "      <td>...</td>\n",
              "      <td>...</td>\n",
              "      <td>...</td>\n",
              "      <td>...</td>\n",
              "      <td>...</td>\n",
              "      <td>...</td>\n",
              "      <td>...</td>\n",
              "      <td>...</td>\n",
              "      <td>...</td>\n",
              "    </tr>\n",
              "    <tr>\n",
              "      <th>26765</th>\n",
              "      <td>40793808</td>\n",
              "      <td>2</td>\n",
              "      <td>9</td>\n",
              "      <td>NaN</td>\n",
              "      <td>(0.0, 2.0]</td>\n",
              "      <td>(4.0, 10.0]</td>\n",
              "      <td>NaN</td>\n",
              "      <td>NaN</td>\n",
              "      <td>(0.0, 2.0]</td>\n",
              "    </tr>\n",
              "    <tr>\n",
              "      <th>26766</th>\n",
              "      <td>40793808</td>\n",
              "      <td>3</td>\n",
              "      <td>5</td>\n",
              "      <td>NaN</td>\n",
              "      <td>(4.0, 10.0]</td>\n",
              "      <td>NaN</td>\n",
              "      <td>NaN</td>\n",
              "      <td>NaN</td>\n",
              "      <td>(-9.001, 0.0]</td>\n",
              "    </tr>\n",
              "    <tr>\n",
              "      <th>26767</th>\n",
              "      <td>40793974</td>\n",
              "      <td>1</td>\n",
              "      <td>7</td>\n",
              "      <td>NaN</td>\n",
              "      <td>(4.0, 10.0]</td>\n",
              "      <td>NaN</td>\n",
              "      <td>NaN</td>\n",
              "      <td>(4.0, 10.0]</td>\n",
              "      <td>(2.0, 4.0]</td>\n",
              "    </tr>\n",
              "    <tr>\n",
              "      <th>26768</th>\n",
              "      <td>40794020</td>\n",
              "      <td>1</td>\n",
              "      <td>6</td>\n",
              "      <td>NaN</td>\n",
              "      <td>(4.0, 10.0]</td>\n",
              "      <td>(-9.001, 0.0]</td>\n",
              "      <td>NaN</td>\n",
              "      <td>NaN</td>\n",
              "      <td>NaN</td>\n",
              "    </tr>\n",
              "    <tr>\n",
              "      <th>26769</th>\n",
              "      <td>40794020</td>\n",
              "      <td>2</td>\n",
              "      <td>5</td>\n",
              "      <td>NaN</td>\n",
              "      <td>(4.0, 10.0]</td>\n",
              "      <td>(-9.001, 0.0]</td>\n",
              "      <td>NaN</td>\n",
              "      <td>NaN</td>\n",
              "      <td>NaN</td>\n",
              "    </tr>\n",
              "  </tbody>\n",
              "</table>\n",
              "<p>26770 rows × 9 columns</p>\n",
              "</div>"
            ],
            "text/plain": [
              "        HOUSEID  PERSONID  ...  dist_to_relatives  dist_to_social\n",
              "0      30000012         1  ...     (10.0, 3621.0]      (2.0, 4.0]\n",
              "1      30000082         1  ...                NaN      (0.0, 2.0]\n",
              "2      30000082         2  ...                NaN  (10.0, 3621.0]\n",
              "3      30000130         1  ...                NaN             NaN\n",
              "4      30000380         1  ...                NaN   (-9.001, 0.0]\n",
              "...         ...       ...  ...                ...             ...\n",
              "26765  40793808         2  ...                NaN      (0.0, 2.0]\n",
              "26766  40793808         3  ...                NaN   (-9.001, 0.0]\n",
              "26767  40793974         1  ...        (4.0, 10.0]      (2.0, 4.0]\n",
              "26768  40794020         1  ...                NaN             NaN\n",
              "26769  40794020         2  ...                NaN             NaN\n",
              "\n",
              "[26770 rows x 9 columns]"
            ]
          },
          "metadata": {
            "tags": []
          },
          "execution_count": 32
        }
      ]
    },
    {
      "cell_type": "code",
      "metadata": {
        "id": "pV3tchPbkQAl"
      },
      "source": [
        "# merging of Person, Household and Trips to Person\n",
        "df= nyorker.merge(ny_trip_count, how = 'left', left_on = ['HOUSEID','PERSONID'],right_on = ['HOUSEID','PERSONID'])\n",
        "df = df.merge(ny, how = 'left', left_on = 'HOUSEID', right_on = 'HOUSEID')"
      ],
      "execution_count": 33,
      "outputs": []
    },
    {
      "cell_type": "code",
      "metadata": {
        "colab": {
          "base_uri": "https://localhost:8080/",
          "height": 280
        },
        "id": "K_h2IOGtkQAl",
        "outputId": "5352962b-4e47-4c24-a243-c40ee4b335c6"
      },
      "source": [
        "# Replace NA trip counts with 0\n",
        "sns.histplot(df['n_trips'])\n",
        "df['n_trips'][df['n_trips'].isna()] = 0\n",
        "#df = df[df['n_trips']>0]\n",
        "df = df[df['n_trips']<10]"
      ],
      "execution_count": 34,
      "outputs": [
        {
          "output_type": "display_data",
          "data": {
            "image/png": "[encoded data removed]",
            "text/plain": [
              "<Figure size 432x288 with 1 Axes>"
            ]
          },
          "metadata": {
            "tags": [],
            "needs_background": "light"
          }
        }
      ]
    },
    {
      "cell_type": "code",
      "metadata": {
        "colab": {
          "base_uri": "https://localhost:8080/"
        },
        "id": "oDLddr7okQAl",
        "outputId": "00ed0aab-fb68-43e8-f3dd-c0203af6678f"
      },
      "source": [
        "[c for c in df]"
      ],
      "execution_count": 35,
      "outputs": [
        {
          "output_type": "execute_result",
          "data": {
            "text/plain": [
              "['HOUSEID',\n",
              " 'PERSONID',\n",
              " 'R_AGE',\n",
              " 'EDUC',\n",
              " 'R_RACE',\n",
              " 'R_SEX',\n",
              " 'WRK_HOME',\n",
              " 'WKFTPT',\n",
              " 'OCCAT',\n",
              " 'DRIVER',\n",
              " 'TRAVDAY',\n",
              " 'DISTTOWK17',\n",
              " 'DISTTOSC17',\n",
              " 'n_trips',\n",
              " 'dist_to_work',\n",
              " 'dist_to_shopping',\n",
              " 'dist_to_family',\n",
              " 'dist_to_school_or_church',\n",
              " 'dist_to_relatives',\n",
              " 'dist_to_social',\n",
              " 'HH_CBSA',\n",
              " 'HOMEOWN',\n",
              " 'HHSIZE',\n",
              " 'HHVEHCNT',\n",
              " 'HHFAMINC',\n",
              " 'NUMADLT',\n",
              " 'YOUNGCHILD',\n",
              " 'WRKCOUNT',\n",
              " 'MSACAT',\n",
              " 'MSASIZE',\n",
              " 'URBAN',\n",
              " 'URBANSIZE',\n",
              " 'URBRUR',\n",
              " 'LIF_CYC']"
            ]
          },
          "metadata": {
            "tags": []
          },
          "execution_count": 35
        }
      ]
    },
    {
      "cell_type": "code",
      "metadata": {
        "colab": {
          "base_uri": "https://localhost:8080/"
        },
        "id": "8cXcb0lNkQAm",
        "outputId": "75a226a9-2966-444b-9d5d-d0865b806aab"
      },
      "source": [
        "df.shape"
      ],
      "execution_count": 36,
      "outputs": [
        {
          "output_type": "execute_result",
          "data": {
            "text/plain": [
              "(30150, 34)"
            ]
          },
          "metadata": {
            "tags": []
          },
          "execution_count": 36
        }
      ]
    },
    {
      "cell_type": "markdown",
      "metadata": {
        "id": "5xjKQveFkQAm"
      },
      "source": [
        "## Reason for Model"
      ]
    },
    {
      "cell_type": "code",
      "metadata": {
        "colab": {
          "base_uri": "https://localhost:8080/",
          "height": 419
        },
        "id": "M_MxEW4TkQAm",
        "outputId": "94727769-86f2-4857-e606-fd479cd0ac52"
      },
      "source": [
        "ny_trip_count"
      ],
      "execution_count": 37,
      "outputs": [
        {
          "output_type": "execute_result",
          "data": {
            "text/html": [
              "<div>\n",
              "<style scoped>\n",
              "    .dataframe tbody tr th:only-of-type {\n",
              "        vertical-align: middle;\n",
              "    }\n",
              "\n",
              "    .dataframe tbody tr th {\n",
              "        vertical-align: top;\n",
              "    }\n",
              "\n",
              "    .dataframe thead th {\n",
              "        text-align: right;\n",
              "    }\n",
              "</style>\n",
              "<table border=\"1\" class=\"dataframe\">\n",
              "  <thead>\n",
              "    <tr style=\"text-align: right;\">\n",
              "      <th></th>\n",
              "      <th>HOUSEID</th>\n",
              "      <th>PERSONID</th>\n",
              "      <th>n_trips</th>\n",
              "      <th>dist_to_work</th>\n",
              "      <th>dist_to_shopping</th>\n",
              "      <th>dist_to_family</th>\n",
              "      <th>dist_to_school_or_church</th>\n",
              "      <th>dist_to_relatives</th>\n",
              "      <th>dist_to_social</th>\n",
              "    </tr>\n",
              "  </thead>\n",
              "  <tbody>\n",
              "    <tr>\n",
              "      <th>0</th>\n",
              "      <td>30000012</td>\n",
              "      <td>1</td>\n",
              "      <td>9</td>\n",
              "      <td>(4.0, 10.0]</td>\n",
              "      <td>NaN</td>\n",
              "      <td>NaN</td>\n",
              "      <td>NaN</td>\n",
              "      <td>(10.0, 3621.0]</td>\n",
              "      <td>(2.0, 4.0]</td>\n",
              "    </tr>\n",
              "    <tr>\n",
              "      <th>1</th>\n",
              "      <td>30000082</td>\n",
              "      <td>1</td>\n",
              "      <td>5</td>\n",
              "      <td>(0.0, 2.0]</td>\n",
              "      <td>NaN</td>\n",
              "      <td>(0.0, 2.0]</td>\n",
              "      <td>NaN</td>\n",
              "      <td>NaN</td>\n",
              "      <td>(0.0, 2.0]</td>\n",
              "    </tr>\n",
              "    <tr>\n",
              "      <th>2</th>\n",
              "      <td>30000082</td>\n",
              "      <td>2</td>\n",
              "      <td>7</td>\n",
              "      <td>NaN</td>\n",
              "      <td>(0.0, 2.0]</td>\n",
              "      <td>NaN</td>\n",
              "      <td>NaN</td>\n",
              "      <td>NaN</td>\n",
              "      <td>(10.0, 3621.0]</td>\n",
              "    </tr>\n",
              "    <tr>\n",
              "      <th>3</th>\n",
              "      <td>30000130</td>\n",
              "      <td>1</td>\n",
              "      <td>4</td>\n",
              "      <td>(10.0, 3621.0]</td>\n",
              "      <td>NaN</td>\n",
              "      <td>NaN</td>\n",
              "      <td>NaN</td>\n",
              "      <td>NaN</td>\n",
              "      <td>NaN</td>\n",
              "    </tr>\n",
              "    <tr>\n",
              "      <th>4</th>\n",
              "      <td>30000380</td>\n",
              "      <td>1</td>\n",
              "      <td>6</td>\n",
              "      <td>NaN</td>\n",
              "      <td>(0.0, 2.0]</td>\n",
              "      <td>NaN</td>\n",
              "      <td>NaN</td>\n",
              "      <td>NaN</td>\n",
              "      <td>(-9.001, 0.0]</td>\n",
              "    </tr>\n",
              "    <tr>\n",
              "      <th>...</th>\n",
              "      <td>...</td>\n",
              "      <td>...</td>\n",
              "      <td>...</td>\n",
              "      <td>...</td>\n",
              "      <td>...</td>\n",
              "      <td>...</td>\n",
              "      <td>...</td>\n",
              "      <td>...</td>\n",
              "      <td>...</td>\n",
              "    </tr>\n",
              "    <tr>\n",
              "      <th>26765</th>\n",
              "      <td>40793808</td>\n",
              "      <td>2</td>\n",
              "      <td>9</td>\n",
              "      <td>NaN</td>\n",
              "      <td>(0.0, 2.0]</td>\n",
              "      <td>(4.0, 10.0]</td>\n",
              "      <td>NaN</td>\n",
              "      <td>NaN</td>\n",
              "      <td>(0.0, 2.0]</td>\n",
              "    </tr>\n",
              "    <tr>\n",
              "      <th>26766</th>\n",
              "      <td>40793808</td>\n",
              "      <td>3</td>\n",
              "      <td>5</td>\n",
              "      <td>NaN</td>\n",
              "      <td>(4.0, 10.0]</td>\n",
              "      <td>NaN</td>\n",
              "      <td>NaN</td>\n",
              "      <td>NaN</td>\n",
              "      <td>(-9.001, 0.0]</td>\n",
              "    </tr>\n",
              "    <tr>\n",
              "      <th>26767</th>\n",
              "      <td>40793974</td>\n",
              "      <td>1</td>\n",
              "      <td>7</td>\n",
              "      <td>NaN</td>\n",
              "      <td>(4.0, 10.0]</td>\n",
              "      <td>NaN</td>\n",
              "      <td>NaN</td>\n",
              "      <td>(4.0, 10.0]</td>\n",
              "      <td>(2.0, 4.0]</td>\n",
              "    </tr>\n",
              "    <tr>\n",
              "      <th>26768</th>\n",
              "      <td>40794020</td>\n",
              "      <td>1</td>\n",
              "      <td>6</td>\n",
              "      <td>NaN</td>\n",
              "      <td>(4.0, 10.0]</td>\n",
              "      <td>(-9.001, 0.0]</td>\n",
              "      <td>NaN</td>\n",
              "      <td>NaN</td>\n",
              "      <td>NaN</td>\n",
              "    </tr>\n",
              "    <tr>\n",
              "      <th>26769</th>\n",
              "      <td>40794020</td>\n",
              "      <td>2</td>\n",
              "      <td>5</td>\n",
              "      <td>NaN</td>\n",
              "      <td>(4.0, 10.0]</td>\n",
              "      <td>(-9.001, 0.0]</td>\n",
              "      <td>NaN</td>\n",
              "      <td>NaN</td>\n",
              "      <td>NaN</td>\n",
              "    </tr>\n",
              "  </tbody>\n",
              "</table>\n",
              "<p>26770 rows × 9 columns</p>\n",
              "</div>"
            ],
            "text/plain": [
              "        HOUSEID  PERSONID  ...  dist_to_relatives  dist_to_social\n",
              "0      30000012         1  ...     (10.0, 3621.0]      (2.0, 4.0]\n",
              "1      30000082         1  ...                NaN      (0.0, 2.0]\n",
              "2      30000082         2  ...                NaN  (10.0, 3621.0]\n",
              "3      30000130         1  ...                NaN             NaN\n",
              "4      30000380         1  ...                NaN   (-9.001, 0.0]\n",
              "...         ...       ...  ...                ...             ...\n",
              "26765  40793808         2  ...                NaN      (0.0, 2.0]\n",
              "26766  40793808         3  ...                NaN   (-9.001, 0.0]\n",
              "26767  40793974         1  ...        (4.0, 10.0]      (2.0, 4.0]\n",
              "26768  40794020         1  ...                NaN             NaN\n",
              "26769  40794020         2  ...                NaN             NaN\n",
              "\n",
              "[26770 rows x 9 columns]"
            ]
          },
          "metadata": {
            "tags": []
          },
          "execution_count": 37
        }
      ]
    },
    {
      "cell_type": "code",
      "metadata": {
        "id": "EwATTwhukQAm"
      },
      "source": [
        "ny_trip_check = ny_trip[['HOUSEID','PERSONID','WHYTRP90']].groupby(['HOUSEID','PERSONID']).count().reset_index()\n",
        "ny_check = nyorker.merge(ny_trip_check, how = 'left', left_on=['HOUSEID','PERSONID'],right_on=['HOUSEID','PERSONID'])"
      ],
      "execution_count": 38,
      "outputs": []
    },
    {
      "cell_type": "code",
      "metadata": {
        "id": "70oOE1sWkQAn"
      },
      "source": [
        "ny_check['WHYTRP90'][ny_check['WHYTRP90']>0] =1\n",
        "ny_check['WHYTRP90'][ny_check['WHYTRP90'].isna()] =0"
      ],
      "execution_count": 39,
      "outputs": []
    },
    {
      "cell_type": "code",
      "metadata": {
        "colab": {
          "base_uri": "https://localhost:8080/"
        },
        "id": "dCAe4d5rkQAn",
        "outputId": "61fab7ae-432c-46e7-bcc5-f7a491185679"
      },
      "source": [
        "hh_rate = ny_check.groupby(['HOUSEID']).agg({'HOUSEID':'count',\n",
        "                                  'WHYTRP90':'sum'})\n",
        "\n",
        "hh_hitrate = sum(hh_rate['WHYTRP90']==0)/hh_rate.shape[0]*100\n",
        "\n",
        "print('of ',str(hh_rate.shape[0]),' households, ',str(hh_hitrate), '% did not provide any trip info')"
      ],
      "execution_count": 40,
      "outputs": [
        {
          "output_type": "stream",
          "text": [
            "of  15230  households,  18.01050558108995 % did not provide any trip info\n"
          ],
          "name": "stdout"
        }
      ]
    },
    {
      "cell_type": "code",
      "metadata": {
        "colab": {
          "base_uri": "https://localhost:8080/"
        },
        "id": "osyV6kwPkQAn",
        "outputId": "3d2a543f-890d-4fca-8d96-aad9e160bc4c"
      },
      "source": [
        "person_hitrate = sum(ny_check['WHYTRP90']==0)/ny_check.shape[0]*100\n",
        "\n",
        "print('of', str(ny_check.shape[0]),' person info,',str(person_hitrate),'% did not provide any trip info')\n"
      ],
      "execution_count": 41,
      "outputs": [
        {
          "output_type": "stream",
          "text": [
            "of 31051  person info, 30.8428069949438 % did not provide any trip info\n"
          ],
          "name": "stdout"
        }
      ]
    },
    {
      "cell_type": "code",
      "metadata": {
        "colab": {
          "base_uri": "https://localhost:8080/",
          "height": 297
        },
        "id": "6Dfgbn90kQAn",
        "outputId": "3c032006-a939-4075-c8c1-4826eff3c959"
      },
      "source": [
        "sns.histplot(ny_check['R_AGE'][ny_check['WHYTRP90']==0])\n",
        "\n",
        "# not only those too young missing"
      ],
      "execution_count": 42,
      "outputs": [
        {
          "output_type": "execute_result",
          "data": {
            "text/plain": [
              "<matplotlib.axes._subplots.AxesSubplot at 0x7f979475ead0>"
            ]
          },
          "metadata": {
            "tags": []
          },
          "execution_count": 42
        },
        {
          "output_type": "display_data",
          "data": {
            "image/png": "[encoded data removed]",
            "text/plain": [
              "<Figure size 432x288 with 1 Axes>"
            ]
          },
          "metadata": {
            "tags": [],
            "needs_background": "light"
          }
        }
      ]
    },
    {
      "cell_type": "markdown",
      "metadata": {
        "id": "N8xfRaJFkQAo"
      },
      "source": [
        "### Therefore to create predictive model to help 'fill up' missing trip info to provide household level trip estimates. \n",
        "\n",
        "other reccommendation: for future survey can get volunteer to provide some of the key features of family members (e.g. dist to workplace or school) to help provide estimate of houshold total trips"
      ]
    },
    {
      "cell_type": "markdown",
      "metadata": {
        "id": "Xt8sGoP3kQAo"
      },
      "source": [
        "## 2. EDA & Feature Engineering "
      ]
    },
    {
      "cell_type": "markdown",
      "metadata": {
        "id": "rfYCIR0fkQAo"
      },
      "source": [
        "### 2.1. Train, Test, Split"
      ]
    },
    {
      "cell_type": "code",
      "metadata": {
        "id": "8QCNOguJkQAo"
      },
      "source": [
        "x_col = [c for c in df if c not in [\"HOUSEID\",\"PERSONID\",\"n_trips\"]]\n",
        "x_df = df[x_col]\n",
        "y_df = df['n_trips']\n",
        "\n",
        "x_train , x_test, y_train, y_test = model_selection.train_test_split(x_df, y_df, test_size = 0.2, random_state = 888)"
      ],
      "execution_count": 43,
      "outputs": []
    },
    {
      "cell_type": "code",
      "metadata": {
        "colab": {
          "base_uri": "https://localhost:8080/",
          "height": 299
        },
        "id": "708cw2iSkQAo",
        "outputId": "114efc8d-3f52-4376-af14-e674b70a4c75"
      },
      "source": [
        "sns.histplot(y_train)"
      ],
      "execution_count": 44,
      "outputs": [
        {
          "output_type": "execute_result",
          "data": {
            "text/plain": [
              "<matplotlib.axes._subplots.AxesSubplot at 0x7f9794778690>"
            ]
          },
          "metadata": {
            "tags": []
          },
          "execution_count": 44
        },
        {
          "output_type": "display_data",
          "data": {
            "image/png": "[encoded data removed]",
            "text/plain": [
              "<Figure size 432x288 with 1 Axes>"
            ]
          },
          "metadata": {
            "tags": [],
            "needs_background": "light"
          }
        }
      ]
    },
    {
      "cell_type": "code",
      "metadata": {
        "colab": {
          "base_uri": "https://localhost:8080/"
        },
        "id": "Phf_e9T8kQAp",
        "outputId": "3bfbc19e-994f-4d5a-c731-e4d11eb887d9"
      },
      "source": [
        "x_train.info()"
      ],
      "execution_count": 45,
      "outputs": [
        {
          "output_type": "stream",
          "text": [
            "<class 'pandas.core.frame.DataFrame'>\n",
            "Int64Index: 24120 entries, 8781 to 11121\n",
            "Data columns (total 31 columns):\n",
            " #   Column                    Non-Null Count  Dtype            \n",
            "---  ------                    --------------  -----            \n",
            " 0   R_AGE                     24120 non-null  int64            \n",
            " 1   EDUC                      24120 non-null  int64            \n",
            " 2   R_RACE                    24120 non-null  int64            \n",
            " 3   R_SEX                     24120 non-null  int64            \n",
            " 4   WRK_HOME                  24120 non-null  int64            \n",
            " 5   WKFTPT                    24120 non-null  int64            \n",
            " 6   OCCAT                     24120 non-null  int64            \n",
            " 7   DRIVER                    24120 non-null  int64            \n",
            " 8   TRAVDAY                   24120 non-null  int64            \n",
            " 9   DISTTOWK17                24120 non-null  float64          \n",
            " 10  DISTTOSC17                24120 non-null  float64          \n",
            " 11  dist_to_work              6726 non-null   interval[float64]\n",
            " 12  dist_to_shopping          8078 non-null   interval[float64]\n",
            " 13  dist_to_family            6260 non-null   interval[float64]\n",
            " 14  dist_to_school_or_church  3122 non-null   interval[float64]\n",
            " 15  dist_to_relatives         3107 non-null   interval[float64]\n",
            " 16  dist_to_social            8451 non-null   interval[float64]\n",
            " 17  HH_CBSA                   24120 non-null  object           \n",
            " 18  HOMEOWN                   24120 non-null  int64            \n",
            " 19  HHSIZE                    24120 non-null  int64            \n",
            " 20  HHVEHCNT                  24120 non-null  int64            \n",
            " 21  HHFAMINC                  24120 non-null  int64            \n",
            " 22  NUMADLT                   24120 non-null  int64            \n",
            " 23  YOUNGCHILD                24120 non-null  int64            \n",
            " 24  WRKCOUNT                  24120 non-null  int64            \n",
            " 25  MSACAT                    24120 non-null  int64            \n",
            " 26  MSASIZE                   24120 non-null  int64            \n",
            " 27  URBAN                     24120 non-null  int64            \n",
            " 28  URBANSIZE                 24120 non-null  int64            \n",
            " 29  URBRUR                    24120 non-null  int64            \n",
            " 30  LIF_CYC                   24120 non-null  int64            \n",
            "dtypes: float64(2), int64(22), interval(6), object(1)\n",
            "memory usage: 7.0+ MB\n"
          ],
          "name": "stdout"
        }
      ]
    },
    {
      "cell_type": "code",
      "metadata": {
        "colab": {
          "base_uri": "https://localhost:8080/",
          "height": 299
        },
        "id": "LXAlk2azkQAp",
        "outputId": "894ecf32-5119-4be6-b605-0d279affbf17"
      },
      "source": [
        "sns.histplot(y_train)"
      ],
      "execution_count": 46,
      "outputs": [
        {
          "output_type": "execute_result",
          "data": {
            "text/plain": [
              "<matplotlib.axes._subplots.AxesSubplot at 0x7f9794625290>"
            ]
          },
          "metadata": {
            "tags": []
          },
          "execution_count": 46
        },
        {
          "output_type": "display_data",
          "data": {
            "image/png": "[encoded data removed]",
            "text/plain": [
              "<Figure size 432x288 with 1 Axes>"
            ]
          },
          "metadata": {
            "tags": [],
            "needs_background": "light"
          }
        }
      ]
    },
    {
      "cell_type": "markdown",
      "metadata": {
        "id": "dVivL2cpkQAp"
      },
      "source": [
        "### 2.2. Feature Engineering"
      ]
    },
    {
      "cell_type": "markdown",
      "metadata": {
        "id": "_BvZVuiPkQAp"
      },
      "source": [
        "#### Age (R_AGE)"
      ]
    },
    {
      "cell_type": "code",
      "metadata": {
        "colab": {
          "base_uri": "https://localhost:8080/",
          "height": 300
        },
        "id": "ljQHxA_mkQAq",
        "outputId": "749692e4-466a-4586-a880-0eaf2b5c038e"
      },
      "source": [
        "print(str(sum(x_train['R_AGE']<0)), \"count of people with no age. \",str(sum(nyorker['R_AGE']<0)/person.shape[0]),\"%.\")\n",
        "\n",
        "sns.histplot(x_train['R_AGE'])\n",
        "\n",
        "# impute missing values (<0) with mean age\n",
        "mean_age = round(x_train['R_AGE'][x_train['R_AGE']>0].mean())\n",
        "x_train['R_AGE'][x_train['R_AGE']<0] = mean_age\n",
        "x_test['R_AGE'][x_test['R_AGE']<0] = mean_age"
      ],
      "execution_count": 47,
      "outputs": [
        {
          "output_type": "stream",
          "text": [
            "59 count of people with no age.  0.0002762702755890612 %.\n"
          ],
          "name": "stdout"
        },
        {
          "output_type": "display_data",
          "data": {
            "image/png": "[encoded data removed]",
            "text/plain": [
              "<Figure size 432x288 with 1 Axes>"
            ]
          },
          "metadata": {
            "tags": [],
            "needs_background": "light"
          }
        }
      ]
    },
    {
      "cell_type": "code",
      "metadata": {
        "id": "hY5jzZIIkQAq"
      },
      "source": [
        "x_train['AGE_bins']= 'NA'\n",
        "x_train.loc[x_train['R_AGE'].between(5,15,inclusive = True), 'AGE_bins'] = \"5_to_15\"\n",
        "x_train.loc[x_train['R_AGE'].between(16,25,inclusive = True), 'AGE_bins'] = \"16_to_25\"\n",
        "x_train.loc[x_train['R_AGE'].between(26,35,inclusive = True), 'AGE_bins'] = \"26_to_35\"\n",
        "x_train.loc[x_train['R_AGE'].between(36,45,inclusive = True), 'AGE_bins'] = \"36_to_45\"\n",
        "x_train.loc[x_train['R_AGE'].between(46,55,inclusive = True), 'AGE_bins'] = \"46_to_55\"\n",
        "x_train.loc[x_train['R_AGE'].between(56,65,inclusive = True), 'AGE_bins'] = \"56_to_65\"\n",
        "x_train.loc[x_train['R_AGE'].between(66,75,inclusive = True), 'AGE_bins'] = \"66_to_75\"\n",
        "x_train.loc[x_train['R_AGE']>75, 'AGE_bins'] = \"more_than_75\"\n",
        "\n",
        "x_test['AGE_bins']= 'NA'\n",
        "x_test.loc[x_test['R_AGE'].between(5,15,inclusive = True), 'AGE_bins'] = \"5_to_15\"\n",
        "x_test.loc[x_test['R_AGE'].between(16,25,inclusive = True), 'AGE_bins'] = \"16_to_25\"\n",
        "x_test.loc[x_test['R_AGE'].between(26,35,inclusive = True), 'AGE_bins'] = \"26_to_35\"\n",
        "x_test.loc[x_test['R_AGE'].between(36,45,inclusive = True), 'AGE_bins'] = \"36_to_45\"\n",
        "x_test.loc[x_test['R_AGE'].between(46,55,inclusive = True), 'AGE_bins'] = \"46_to_55\"\n",
        "x_test.loc[x_test['R_AGE'].between(56,65,inclusive = True), 'AGE_bins'] = \"56_to_65\"\n",
        "x_test.loc[x_test['R_AGE'].between(66,75,inclusive = True), 'AGE_bins'] = \"66_to_75\"\n",
        "x_test.loc[x_test['R_AGE']>75, 'AGE_bins'] = \"more_than_75\"\n"
      ],
      "execution_count": 48,
      "outputs": []
    },
    {
      "cell_type": "code",
      "metadata": {
        "colab": {
          "base_uri": "https://localhost:8080/",
          "height": 434
        },
        "id": "Hnkqi1kSkQAq",
        "outputId": "d2323e05-04d7-48ad-9995-b07cfaf0423b"
      },
      "source": [
        "cat_col_prop(x_train,'AGE_bins')"
      ],
      "execution_count": 49,
      "outputs": [
        {
          "output_type": "stream",
          "text": [
            "              counts  percentage\n",
            "56_to_65        5199   21.554726\n",
            "66_to_75        4137   17.151741\n",
            "46_to_55        3542   14.684909\n",
            "5_to_15         2414   10.008292\n",
            "26_to_35        2328    9.651741\n",
            "36_to_45        2313    9.589552\n",
            "more_than_75    2237    9.274461\n",
            "16_to_25        1950    8.084577\n"
          ],
          "name": "stdout"
        },
        {
          "output_type": "display_data",
          "data": {
            "image/png": "[encoded data removed]",
            "text/plain": [
              "<Figure size 432x288 with 1 Axes>"
            ]
          },
          "metadata": {
            "tags": [],
            "needs_background": "light"
          }
        }
      ]
    },
    {
      "cell_type": "markdown",
      "metadata": {
        "id": "1PE7QShykQAq"
      },
      "source": [
        "#### Educational Attainment (EDUC)"
      ]
    },
    {
      "cell_type": "code",
      "metadata": {
        "colab": {
          "base_uri": "https://localhost:8080/",
          "height": 432
        },
        "id": "OK5Xy5ASkQAr",
        "outputId": "b8de4255-5e4a-4ec5-ae19-34d96f552cdc"
      },
      "source": [
        "cat_col_prop(x_train,'EDUC')\n",
        "# approx 8% missing values (<0). To take note of but will addresss in one-hot encoding"
      ],
      "execution_count": 50,
      "outputs": [
        {
          "output_type": "stream",
          "text": [
            "    counts  percentage\n",
            " 3    5970   24.751244\n",
            " 5    5211   21.604478\n",
            " 2    4764   19.751244\n",
            " 4    4610   19.112769\n",
            "-1    1928    7.993367\n",
            " 1    1622    6.724710\n",
            "-7       9    0.037313\n",
            "-8       6    0.024876\n"
          ],
          "name": "stdout"
        },
        {
          "output_type": "display_data",
          "data": {
            "image/png": "[encoded data removed]",
            "text/plain": [
              "<Figure size 432x288 with 1 Axes>"
            ]
          },
          "metadata": {
            "tags": [],
            "needs_background": "light"
          }
        }
      ]
    },
    {
      "cell_type": "markdown",
      "metadata": {
        "id": "h5b3bWPqkQAr"
      },
      "source": [
        "#### Race (R_RACE)"
      ]
    },
    {
      "cell_type": "code",
      "metadata": {
        "colab": {
          "base_uri": "https://localhost:8080/",
          "height": 450
        },
        "id": "HV3pgaKhkQAr",
        "outputId": "c10f9d12-9545-46ef-e230-95776345ebc8"
      },
      "source": [
        "cat_col_prop(x_train,'R_RACE')\n",
        "# approx 1% missing values (<0). To take note of but will address in one-hot encoding\n",
        "# Significant proportion of members 'white'"
      ],
      "execution_count": 51,
      "outputs": [
        {
          "output_type": "stream",
          "text": [
            "     counts  percentage\n",
            " 1    21536   89.286899\n",
            " 3      787    3.262852\n",
            " 2      770    3.192371\n",
            " 6      518    2.147595\n",
            " 97     308    1.276949\n",
            "-7      116    0.480929\n",
            " 4       55    0.228027\n",
            " 5       18    0.074627\n",
            "-8       12    0.049751\n"
          ],
          "name": "stdout"
        },
        {
          "output_type": "display_data",
          "data": {
            "image/png": "[encoded data removed]",
            "text/plain": [
              "<Figure size 432x288 with 1 Axes>"
            ]
          },
          "metadata": {
            "tags": [],
            "needs_background": "light"
          }
        }
      ]
    },
    {
      "cell_type": "markdown",
      "metadata": {
        "id": "aTQunhNskQAs"
      },
      "source": [
        "#### Gender (R_SEX)"
      ]
    },
    {
      "cell_type": "code",
      "metadata": {
        "colab": {
          "base_uri": "https://localhost:8080/",
          "height": 365
        },
        "id": "wiE4la07kQAs",
        "outputId": "e6f56b1f-b22a-4443-cb05-33eaaad3d44b"
      },
      "source": [
        "cat_col_prop(x_train, 'R_SEX')\n",
        "# <1% missing values. To take note but will be addressed in one-hot encoding"
      ],
      "execution_count": 52,
      "outputs": [
        {
          "output_type": "stream",
          "text": [
            "    counts  percentage\n",
            " 2   12603   52.251244\n",
            " 1   11496   47.661692\n",
            "-7      17    0.070481\n",
            "-8       4    0.016584\n"
          ],
          "name": "stdout"
        },
        {
          "output_type": "display_data",
          "data": {
            "image/png": "[encoded data removed]",
            "text/plain": [
              "<Figure size 432x288 with 1 Axes>"
            ]
          },
          "metadata": {
            "tags": [],
            "needs_background": "light"
          }
        }
      ]
    },
    {
      "cell_type": "markdown",
      "metadata": {
        "id": "InwdlfmbkQAs"
      },
      "source": [
        "#### Work From Home (WRK_HOME)"
      ]
    },
    {
      "cell_type": "code",
      "metadata": {
        "colab": {
          "base_uri": "https://localhost:8080/",
          "height": 382
        },
        "id": "9rYhuYPbkQAs",
        "outputId": "1bea6884-e2ff-44fd-893d-dc776d3bf32f"
      },
      "source": [
        "cat_col_prop(x_train,'WRK_HOME')\n",
        "# Significant proportion -1 (50%) which is the appropriate skip (due to not working) - to address in one-hot"
      ],
      "execution_count": 53,
      "outputs": [
        {
          "output_type": "stream",
          "text": [
            "    counts  percentage\n",
            "-1   12108   50.199005\n",
            " 2   10277   42.607794\n",
            " 1    1282    5.315091\n",
            "-9     452    1.873964\n",
            "-7       1    0.004146\n"
          ],
          "name": "stdout"
        },
        {
          "output_type": "display_data",
          "data": {
            "image/png": "[encoded data removed]",
            "text/plain": [
              "<Figure size 432x288 with 1 Axes>"
            ]
          },
          "metadata": {
            "tags": [],
            "needs_background": "light"
          }
        }
      ]
    },
    {
      "cell_type": "markdown",
      "metadata": {
        "id": "XsznYM-jkQAt"
      },
      "source": [
        "#### Work - Part Time or Full Time (WKFTPT)"
      ]
    },
    {
      "cell_type": "code",
      "metadata": {
        "colab": {
          "base_uri": "https://localhost:8080/",
          "height": 381
        },
        "id": "wC7bVTFkkQAt",
        "outputId": "c1301fa8-8110-4a53-ec9b-8a1b123d669c"
      },
      "source": [
        "cat_col_prop(x_train,'WKFTPT')\n",
        "# Significant proportion -1 (52%) which is the appropriate skip (due to not working) - to address in one-hot"
      ],
      "execution_count": 54,
      "outputs": [
        {
          "output_type": "stream",
          "text": [
            "    counts  percentage\n",
            "-1   12560   52.072968\n",
            " 1    8975   37.209784\n",
            " 2    2581   10.700663\n",
            "-7       3    0.012438\n",
            "-8       1    0.004146\n"
          ],
          "name": "stdout"
        },
        {
          "output_type": "display_data",
          "data": {
            "image/png": "[encoded data removed]",
            "text/plain": [
              "<Figure size 432x288 with 1 Axes>"
            ]
          },
          "metadata": {
            "tags": [],
            "needs_background": "light"
          }
        }
      ]
    },
    {
      "cell_type": "markdown",
      "metadata": {
        "id": "IWMvCtlbkQAt"
      },
      "source": [
        "#### Job Category (OCCAT)"
      ]
    },
    {
      "cell_type": "code",
      "metadata": {
        "colab": {
          "base_uri": "https://localhost:8080/",
          "height": 449
        },
        "id": "pym7PzhbkQAt",
        "outputId": "b85f42ef-39ec-48e1-b161-7e74a425bbd1"
      },
      "source": [
        "cat_col_prop(x_train,'OCCAT')\n",
        "# Significant proportion -1 (50%) which is the appropriate skip (due to not working) - to address in one-hot"
      ],
      "execution_count": 55,
      "outputs": [
        {
          "output_type": "stream",
          "text": [
            "     counts  percentage\n",
            "-1    12108   50.199005\n",
            " 4     6329   26.239635\n",
            " 1     2432   10.082919\n",
            " 3     1423    5.899668\n",
            " 2     1354    5.613599\n",
            "-9      452    1.873964\n",
            " 97      15    0.062189\n",
            "-8        5    0.020730\n",
            "-7        2    0.008292\n"
          ],
          "name": "stdout"
        },
        {
          "output_type": "display_data",
          "data": {
            "image/png": "[encoded data removed]",
            "text/plain": [
              "<Figure size 432x288 with 1 Axes>"
            ]
          },
          "metadata": {
            "tags": [],
            "needs_background": "light"
          }
        }
      ]
    },
    {
      "cell_type": "markdown",
      "metadata": {
        "id": "FJL_ypVtkQAt"
      },
      "source": [
        "#### Driver Status (DRIVER)"
      ]
    },
    {
      "cell_type": "code",
      "metadata": {
        "colab": {
          "base_uri": "https://localhost:8080/",
          "height": 347
        },
        "id": "1-wXGjiDkQAu",
        "outputId": "3c8ac73b-78ca-4240-c193-d6391eed9266"
      },
      "source": [
        "cat_col_prop(x_train,'DRIVER')\n",
        "\n",
        "#Significant proportion -1 (8.7%) (due to too young) - to address in one-hot encoding\n",
        "#sns.boxplot(data = x_train, x='DRIVER',y='AGE_bins')"
      ],
      "execution_count": 56,
      "outputs": [
        {
          "output_type": "stream",
          "text": [
            "    counts  percentage\n",
            " 1   20240   83.913765\n",
            "-1    2181    9.042289\n",
            " 2    1699    7.043947\n"
          ],
          "name": "stdout"
        },
        {
          "output_type": "display_data",
          "data": {
            "image/png": "[encoded data removed]",
            "text/plain": [
              "<Figure size 432x288 with 1 Axes>"
            ]
          },
          "metadata": {
            "tags": [],
            "needs_background": "light"
          }
        }
      ]
    },
    {
      "cell_type": "markdown",
      "metadata": {
        "id": "S19WHtG8kQAu"
      },
      "source": [
        "#### Distance to Work"
      ]
    },
    {
      "cell_type": "code",
      "metadata": {
        "colab": {
          "base_uri": "https://localhost:8080/"
        },
        "id": "j9u2I6M7kQAu",
        "outputId": "38e3cd6e-7550-4d3a-b00e-68cc24ec9773"
      },
      "source": [
        "#To Bin Non zeros\n",
        "#sns.histplot(x_train['DISTTOWK17'])\n",
        "pd.qcut(x_train['DISTTOWK17'][x_train['DISTTOWK17']>0],5)"
      ],
      "execution_count": 57,
      "outputs": [
        {
          "output_type": "execute_result",
          "data": {
            "text/plain": [
              "7436                   (6.89, 12.302]\n",
              "26206                    (3.12, 6.89]\n",
              "12559                  (6.89, 12.302]\n",
              "17206                    (3.12, 6.89]\n",
              "18789    (0.009000000000000001, 3.12]\n",
              "                     ...             \n",
              "19447                    (3.12, 6.89]\n",
              "25328                    (3.12, 6.89]\n",
              "17769                    (3.12, 6.89]\n",
              "5456                   (6.89, 12.302]\n",
              "15324    (0.009000000000000001, 3.12]\n",
              "Name: DISTTOWK17, Length: 10223, dtype: category\n",
              "Categories (5, interval[float64]): [(0.009000000000000001, 3.12] < (3.12, 6.89] < (6.89, 12.302] < (12.302, 22.27] <\n",
              "                                    (22.27, 2919.7]]"
            ]
          },
          "metadata": {
            "tags": []
          },
          "execution_count": 57
        }
      ]
    },
    {
      "cell_type": "code",
      "metadata": {
        "colab": {
          "base_uri": "https://localhost:8080/",
          "height": 399
        },
        "id": "OmqQJY_1kQAu",
        "outputId": "8d5e44b0-1317-4c87-96df-829c54ea48f8"
      },
      "source": [
        "x_train['DISTTOWK'] = 'NA'\n",
        "x_train.loc[x_train['DISTTOWK17']==0, 'DISTTOWK'] = 'NA'\n",
        "x_train.loc[x_train['DISTTOWK17']==-9, 'DISTTOWK'] = 'NA'\n",
        "x_train.loc[x_train['DISTTOWK17'].between(.009000000000000000,3,inclusive = True),'DISTTOWK'] = 'DISTTOWK_0_to_3'\n",
        "x_train.loc[x_train['DISTTOWK17'].between(3,7, inclusive = True),'DISTTOWK'] = 'DISTTOWK_3_to_7'\n",
        "x_train.loc[x_train['DISTTOWK17'].between(7,12, inclusive = True),'DISTTOWK'] = 'DISTTOWK_7_to_12'\n",
        "x_train.loc[x_train['DISTTOWK17'].between(12,22, inclusive = True),'DISTTOWK'] = 'DISTTOWK_12_to_22'\n",
        "x_train.loc[x_train['DISTTOWK17']>22,'DISTTOWK'] = 'DISTTOWK_above_22'\n",
        "cat_col_prop(x_train,'DISTTOWK')\n",
        "x_train.drop(['DISTTOWK17'],axis=1, inplace = True)\n",
        "\n",
        "x_test['DISTTOWK'] = 'NA'\n",
        "x_test.loc[x_test['DISTTOWK17']==0, 'DISTTOWK'] = 'NA'\n",
        "x_test.loc[x_test['DISTTOWK17']==-9, 'DISTTOWK'] = 'NA'\n",
        "x_test.loc[x_test['DISTTOWK17'].between(.009000000000000000,3,inclusive = True),'DISTTOWK'] = 'DISTTOWK_0_to_3'\n",
        "x_test.loc[x_test['DISTTOWK17'].between(3,7, inclusive = True),'DISTTOWK'] = 'DISTTOWK_3_to_7'\n",
        "x_test.loc[x_test['DISTTOWK17'].between(7,12, inclusive = True),'DISTTOWK'] = 'DISTTOWK_7_to_12'\n",
        "x_test.loc[x_test['DISTTOWK17'].between(12,22, inclusive = True),'DISTTOWK'] = 'DISTTOWK_12_to_22'\n",
        "x_test.loc[x_test['DISTTOWK17']>22,'DISTTOWK'] = 'DISTTOWK_above_22'\n",
        "x_test.drop(['DISTTOWK17'],axis=1, inplace = True)"
      ],
      "execution_count": 58,
      "outputs": [
        {
          "output_type": "stream",
          "text": [
            "                   counts  percentage\n",
            "NA                  13897   57.616086\n",
            "DISTTOWK_3_to_7      2180    9.038143\n",
            "DISTTOWK_12_to_22    2093    8.677446\n",
            "DISTTOWK_above_22    2088    8.656716\n",
            "DISTTOWK_0_to_3      1962    8.134328\n",
            "DISTTOWK_7_to_12     1900    7.877280\n"
          ],
          "name": "stdout"
        },
        {
          "output_type": "display_data",
          "data": {
            "image/png": "[encoded data removed]",
            "text/plain": [
              "<Figure size 432x288 with 1 Axes>"
            ]
          },
          "metadata": {
            "tags": [],
            "needs_background": "light"
          }
        }
      ]
    },
    {
      "cell_type": "markdown",
      "metadata": {
        "id": "wwWbiJJQkQAv"
      },
      "source": [
        "#### Distance to School"
      ]
    },
    {
      "cell_type": "code",
      "metadata": {
        "colab": {
          "base_uri": "https://localhost:8080/"
        },
        "id": "WGDgq1aekQAv",
        "outputId": "b0b6e170-6960-40b3-e5d6-3fe7d8de7af6"
      },
      "source": [
        "pd.qcut(x_train['DISTTOSC17'][x_train['DISTTOSC17']>0],2)"
      ],
      "execution_count": 59,
      "outputs": [
        {
          "output_type": "execute_result",
          "data": {
            "text/plain": [
              "7420     (0.009000000000000001, 2.81]\n",
              "7678     (0.009000000000000001, 2.81]\n",
              "6543                  (2.81, 2784.08]\n",
              "30559                 (2.81, 2784.08]\n",
              "20075    (0.009000000000000001, 2.81]\n",
              "                     ...             \n",
              "673      (0.009000000000000001, 2.81]\n",
              "5423     (0.009000000000000001, 2.81]\n",
              "17111    (0.009000000000000001, 2.81]\n",
              "23385    (0.009000000000000001, 2.81]\n",
              "11121                 (2.81, 2784.08]\n",
              "Name: DISTTOSC17, Length: 2729, dtype: category\n",
              "Categories (2, interval[float64]): [(0.009000000000000001, 2.81] < (2.81, 2784.08]]"
            ]
          },
          "metadata": {
            "tags": []
          },
          "execution_count": 59
        }
      ]
    },
    {
      "cell_type": "code",
      "metadata": {
        "colab": {
          "base_uri": "https://localhost:8080/",
          "height": 348
        },
        "id": "1_0jxm45kQAv",
        "outputId": "e6cbae22-b898-472d-85c9-5b9f62d3da82"
      },
      "source": [
        "x_train['DISTTOSC'] = 'NA'\n",
        "x_train.loc[x_train['DISTTOSC17']<=0, 'DISTTOSC'] = 'NA'\n",
        "x_train.loc[x_train['DISTTOSC17'].between(.008,3,inclusive = True),'DISTTOSC'] = 'DISTTOSC_under_3'\n",
        "x_train.loc[x_train['DISTTOSC17']>3,'DISTTOSC'] = 'DISTTOSC_above_3'\n",
        "cat_col_prop(x_train,'DISTTOSC')\n",
        "x_train.drop(['DISTTOSC17'],axis=1, inplace = True)\n",
        "\n",
        "\n",
        "x_test['DISTTOSC'] = 'NA'\n",
        "x_test.loc[x_test['DISTTOSC17']<=0, 'DISTTOSC'] = 'NA'\n",
        "x_test.loc[x_test['DISTTOSC17'].between(.008,3,inclusive = True),'DISTTOSC'] = 'DISTTOSC_under_3'\n",
        "x_test.loc[x_test['DISTTOSC17']>3,'DISTTOSC'] = 'DISTTOSC_above_3'\n",
        "x_test.drop(['DISTTOSC17'],axis=1, inplace = True)"
      ],
      "execution_count": 60,
      "outputs": [
        {
          "output_type": "stream",
          "text": [
            "                  counts  percentage\n",
            "NA                 21391   88.685738\n",
            "DISTTOSC_under_3    1428    5.920398\n",
            "DISTTOSC_above_3    1301    5.393864\n"
          ],
          "name": "stdout"
        },
        {
          "output_type": "display_data",
          "data": {
            "image/png": "[encoded data removed]",
            "text/plain": [
              "<Figure size 432x288 with 1 Axes>"
            ]
          },
          "metadata": {
            "tags": [],
            "needs_background": "light"
          }
        }
      ]
    },
    {
      "cell_type": "markdown",
      "metadata": {
        "id": "4QSOlFYykQAv"
      },
      "source": [
        "#### Travel Day (TRAVDAY)"
      ]
    },
    {
      "cell_type": "code",
      "metadata": {
        "colab": {
          "base_uri": "https://localhost:8080/",
          "height": 415
        },
        "id": "XXPqxQb8kQAv",
        "outputId": "31e24ee9-539b-4827-e788-bcd45b38a016"
      },
      "source": [
        "cat_col_prop(x_train,'TRAVDAY')"
      ],
      "execution_count": 61,
      "outputs": [
        {
          "output_type": "stream",
          "text": [
            "   counts  percentage\n",
            "1    3620   15.008292\n",
            "2    3548   14.709784\n",
            "7    3460   14.344942\n",
            "6    3427   14.208126\n",
            "5    3408   14.129353\n",
            "3    3355   13.909619\n",
            "4    3302   13.689884\n"
          ],
          "name": "stdout"
        },
        {
          "output_type": "display_data",
          "data": {
            "image/png": "[encoded data removed]",
            "text/plain": [
              "<Figure size 432x288 with 1 Axes>"
            ]
          },
          "metadata": {
            "tags": [],
            "needs_background": "light"
          }
        }
      ]
    },
    {
      "cell_type": "markdown",
      "metadata": {
        "id": "N32kQxnrkQAw"
      },
      "source": [
        "#### Core Based Statiscal Area FIPS code (HH_CBSA)"
      ]
    },
    {
      "cell_type": "code",
      "metadata": {
        "colab": {
          "base_uri": "https://localhost:8080/",
          "height": 365
        },
        "id": "DQGntOXGkQAw",
        "outputId": "3d2a64ad-8ba6-4760-9306-25eb6a470650"
      },
      "source": [
        "#Core Based Statistical Area (CBSA) FIPS code for the respondent's home address\n",
        "\n",
        "cat_col_prop(x_train,'HH_CBSA')\n",
        "\n",
        "# significant number of households under the 'XXXXX=Suppressed, in an MSA of less than 1 million ' category"
      ],
      "execution_count": 62,
      "outputs": [
        {
          "output_type": "stream",
          "text": [
            "       counts  percentage\n",
            "XXXXX   14272   59.170813\n",
            "35620    7306   30.290216\n",
            "40380    1365    5.659204\n",
            "15380    1177    4.879768\n"
          ],
          "name": "stdout"
        },
        {
          "output_type": "display_data",
          "data": {
            "image/png": "[encoded data removed]",
            "text/plain": [
              "<Figure size 432x288 with 1 Axes>"
            ]
          },
          "metadata": {
            "tags": [],
            "needs_background": "light"
          }
        }
      ]
    },
    {
      "cell_type": "markdown",
      "metadata": {
        "id": "mZ93NF_GkQAw"
      },
      "source": [
        "####  Home Ownership (HOMEOWN)"
      ]
    },
    {
      "cell_type": "code",
      "metadata": {
        "colab": {
          "base_uri": "https://localhost:8080/",
          "height": 364
        },
        "id": "dxfFTvEJkQAw",
        "outputId": "20cd6aa2-5bab-4188-8a07-a2473cf15406"
      },
      "source": [
        "cat_col_prop(x_train,'HOMEOWN')\n",
        "#Small count with missing value 2. to address in one-hot encoding"
      ],
      "execution_count": 63,
      "outputs": [
        {
          "output_type": "stream",
          "text": [
            "     counts  percentage\n",
            " 1    20319   84.241294\n",
            " 2     3622   15.016584\n",
            " 97     176    0.729685\n",
            "-7        3    0.012438\n"
          ],
          "name": "stdout"
        },
        {
          "output_type": "display_data",
          "data": {
            "image/png": "[encoded data removed]",
            "text/plain": [
              "<Figure size 432x288 with 1 Axes>"
            ]
          },
          "metadata": {
            "tags": [],
            "needs_background": "light"
          }
        }
      ]
    },
    {
      "cell_type": "markdown",
      "metadata": {
        "id": "X62TRRNWkQAw"
      },
      "source": [
        "#### Household Vehicle Count (HHVEHCNT)"
      ]
    },
    {
      "cell_type": "code",
      "metadata": {
        "colab": {
          "base_uri": "https://localhost:8080/",
          "height": 602
        },
        "id": "R6kepo_NkQAw",
        "outputId": "30227181-a2e1-4d59-a51f-d7aebf36d0bf"
      },
      "source": [
        "#count of household vehicles\n",
        "\n",
        "cat_col_prop(x_train,'HHVEHCNT')\n",
        "\n",
        "# as group size significantly smaller from 4 and above to bin to a single group\n",
        "\n",
        "x_train['HHVEHCNT'][x_train['HHVEHCNT']>3] = \">3\"\n",
        "x_test['HHVEHCNT'][x_test['HHVEHCNT']>3] = \">3\"\n",
        "\n",
        "print(\"________\")\n",
        "print(\"new HHVEHCNT\")\n",
        "print(pd.concat([x_train['HHVEHCNT'].value_counts(),\n",
        "          x_train['HHVEHCNT'].value_counts(normalize = True).mul(100)],axis = 1, keys = ('counts','percentage'))\n",
        "    )"
      ],
      "execution_count": 64,
      "outputs": [
        {
          "output_type": "stream",
          "text": [
            "    counts  percentage\n",
            "2    10752   44.577114\n",
            "1     6353   26.339138\n",
            "3     4362   18.084577\n",
            "4     1699    7.043947\n",
            "5      617    2.558043\n",
            "6      221    0.916252\n",
            "7       77    0.319237\n",
            "8       21    0.087065\n",
            "11      11    0.045605\n",
            "9        5    0.020730\n",
            "12       2    0.008292\n",
            "________\n",
            "new HHVEHCNT\n",
            "    counts  percentage\n",
            "2    10752   44.577114\n",
            "1     6353   26.339138\n",
            "3     4362   18.084577\n",
            ">3    2653   10.999171\n"
          ],
          "name": "stdout"
        },
        {
          "output_type": "display_data",
          "data": {
            "image/png": "[encoded data removed]",
            "text/plain": [
              "<Figure size 432x288 with 1 Axes>"
            ]
          },
          "metadata": {
            "tags": [],
            "needs_background": "light"
          }
        }
      ]
    },
    {
      "cell_type": "markdown",
      "metadata": {
        "id": "q5U0zo3EkQAx"
      },
      "source": [
        "#### Family Income (HHFAMINC)"
      ]
    },
    {
      "cell_type": "code",
      "metadata": {
        "colab": {
          "base_uri": "https://localhost:8080/",
          "height": 534
        },
        "id": "gGNUjpd0kQAx",
        "outputId": "779d73e9-9c51-4a4b-f1a0-3e9b2c3a3483"
      },
      "source": [
        "cat_col_prop(x_train,'HHFAMINC')\n",
        "# approx 3% missing (<0) to address in one-hot encoding"
      ],
      "execution_count": 65,
      "outputs": [
        {
          "output_type": "stream",
          "text": [
            "     counts  percentage\n",
            " 6     4299   17.823383\n",
            " 7     3605   14.946103\n",
            " 8     2962   12.280265\n",
            " 5     2608   10.812604\n",
            " 4     1859    7.707297\n",
            " 9     1764    7.313433\n",
            " 11    1704    7.064677\n",
            " 10    1676    6.948590\n",
            " 3     1561    6.471808\n",
            " 2      746    3.092869\n",
            "-7      714    2.960199\n",
            " 1      516    2.139303\n",
            "-8      104    0.431177\n",
            "-9        2    0.008292\n"
          ],
          "name": "stdout"
        },
        {
          "output_type": "display_data",
          "data": {
            "image/png": "[encoded data removed]",
            "text/plain": [
              "<Figure size 432x288 with 1 Axes>"
            ]
          },
          "metadata": {
            "tags": [],
            "needs_background": "light"
          }
        }
      ]
    },
    {
      "cell_type": "markdown",
      "metadata": {
        "id": "01srhtE_kQAx"
      },
      "source": [
        "#### Adult Ratio  (NUMADLT)"
      ]
    },
    {
      "cell_type": "code",
      "metadata": {
        "colab": {
          "base_uri": "https://localhost:8080/",
          "height": 452
        },
        "id": "4tCX3iX6kQAx",
        "outputId": "9b737750-9074-449f-ae65-bec01580200f"
      },
      "source": [
        "cat_col_prop(x_train, 'NUMADLT')\n",
        "#no missing values"
      ],
      "execution_count": 66,
      "outputs": [
        {
          "output_type": "stream",
          "text": [
            "    counts  percentage\n",
            "2    15351   63.644279\n",
            "1     4041   16.753731\n",
            "3     3270   13.557214\n",
            "4     1137    4.713930\n",
            "5      258    1.069652\n",
            "6       36    0.149254\n",
            "7       13    0.053897\n",
            "10       8    0.033167\n",
            "8        6    0.024876\n"
          ],
          "name": "stdout"
        },
        {
          "output_type": "display_data",
          "data": {
            "image/png": "[encoded data removed]",
            "text/plain": [
              "<Figure size 432x288 with 1 Axes>"
            ]
          },
          "metadata": {
            "tags": [],
            "needs_background": "light"
          }
        }
      ]
    },
    {
      "cell_type": "code",
      "metadata": {
        "colab": {
          "base_uri": "https://localhost:8080/",
          "height": 825
        },
        "id": "wfEfq9g4kQAx",
        "outputId": "fe388898-9efa-408e-93eb-8f426445ac37"
      },
      "source": [
        "#Convert against proportion of Household size\n",
        "x_train['NUMADLT'] = x_train['NUMADLT']/x_train['HHSIZE']\n",
        "x_test['NUMADLT'] = x_test['NUMADLT']/x_test['HHSIZE']\n",
        "print('Before')\n",
        "cat_col_prop(x_train,'NUMADLT')\n",
        "#significant number of varying factors\n",
        "#to bin into groups\n",
        "x_train['NUMADLT_ratio'] = 'NA'\n",
        "x_train.loc[x_train['NUMADLT']==0, 'NUMADLT_ratio'] = '0'\n",
        "x_train.loc[x_train['NUMADLT'].between(0,0.5,inclusive = False),'NUMADLT_ratio'] = 'less_than_0.5'\n",
        "x_train.loc[x_train['NUMADLT'].between(0.5,1, inclusive = True),'NUMADLT_ratio'] = 'more_than_0.5'\n",
        "x_train.loc[x_train['NUMADLT']==1,'NUMADLT_ratio'] ='1'\n",
        "print('')\n",
        "print('After')\n",
        "cat_col_prop(x_train,'NUMADLT_ratio')\n",
        "\n",
        "\n",
        "x_test['NUMADLT_ratio'] = 'NA'\n",
        "x_test.loc[x_test['NUMADLT']==0, 'NUMADLT_ratio'] = '0'\n",
        "x_test.loc[x_test['NUMADLT'].between(0,0.5,inclusive = False),'NUMADLT_ratio'] = 'less_than_0.5'\n",
        "x_test.loc[x_test['NUMADLT'].between(0.5,1, inclusive = True),'NUMADLT_ratio'] = 'more_than_0.5'\n",
        "x_test.loc[x_test['NUMADLT']==1,'NUMADLT_ratio'] ='1'"
      ],
      "execution_count": 67,
      "outputs": [
        {
          "output_type": "stream",
          "text": [
            "Before\n",
            "          counts  percentage\n",
            "1.000000   16710   69.278607\n",
            "0.500000    2674   11.086235\n",
            "0.666667    1829    7.582919\n",
            "0.400000     835    3.461857\n",
            "0.750000     629    2.607794\n",
            "0.333333     496    2.056385\n",
            "0.600000     329    1.364013\n",
            "0.800000     194    0.804312\n",
            "0.250000      84    0.348259\n",
            "0.285714      78    0.323383\n",
            "0.714286      43    0.178275\n",
            "0.428571      42    0.174129\n",
            "0.833333      39    0.161692\n",
            "0.571429      33    0.136816\n",
            "0.375000      19    0.078773\n",
            "0.200000      15    0.062189\n",
            "0.222222      14    0.058043\n",
            "0.444444      12    0.049751\n",
            "0.625000      11    0.045605\n",
            "0.166667      10    0.041459\n",
            "0.700000       7    0.029022\n",
            "0.857143       6    0.024876\n",
            "0.142857       6    0.024876\n",
            "0.363636       5    0.020730\n",
            "\n",
            "After\n",
            "               counts  percentage\n",
            "1               16710   69.278607\n",
            "more_than_0.5    5794   24.021559\n",
            "less_than_0.5    1616    6.699834\n"
          ],
          "name": "stdout"
        },
        {
          "output_type": "display_data",
          "data": {
            "image/png": "[encoded data removed]",
            "text/plain": [
              "<Figure size 432x288 with 1 Axes>"
            ]
          },
          "metadata": {
            "tags": [],
            "needs_background": "light"
          }
        }
      ]
    },
    {
      "cell_type": "markdown",
      "metadata": {
        "id": "WXLfqu2OkQAy"
      },
      "source": [
        "#### Young Child Ratio (YOUNGCHILD)"
      ]
    },
    {
      "cell_type": "code",
      "metadata": {
        "colab": {
          "base_uri": "https://localhost:8080/",
          "height": 398
        },
        "id": "_akk0uPBkQAy",
        "outputId": "b9435691-d98c-45eb-b328-916ff4afb57e"
      },
      "source": [
        "cat_col_prop(x_train,'YOUNGCHILD')"
      ],
      "execution_count": 68,
      "outputs": [
        {
          "output_type": "stream",
          "text": [
            "   counts  percentage\n",
            "0   21994   91.185738\n",
            "1    1579    6.546434\n",
            "2     496    2.056385\n",
            "3      44    0.182421\n",
            "5       5    0.020730\n",
            "4       2    0.008292\n"
          ],
          "name": "stdout"
        },
        {
          "output_type": "display_data",
          "data": {
            "image/png": "[encoded data removed]",
            "text/plain": [
              "<Figure size 432x288 with 1 Axes>"
            ]
          },
          "metadata": {
            "tags": [],
            "needs_background": "light"
          }
        }
      ]
    },
    {
      "cell_type": "code",
      "metadata": {
        "colab": {
          "base_uri": "https://localhost:8080/",
          "height": 349
        },
        "id": "PrOjxLtakQAy",
        "outputId": "859279b2-7d5d-42ce-d944-f1b3528c5db7"
      },
      "source": [
        "#Convert against proportion of Household size\n",
        "\n",
        "x_train['YOUNGCHILD'] = x_train['YOUNGCHILD']/x_train['HHSIZE']\n",
        "x_test['YOUNGCHILD'] = x_test['YOUNGCHILD']/x_test['HHSIZE']\n",
        "\n",
        "#Bin to groups\n",
        "x_train['YOUNGCHILD_ratio'] = 'NA'\n",
        "x_train.loc[x_train['YOUNGCHILD']==0,'YOUNGCHILD_ratio']= '0'\n",
        "x_train.loc[x_train['YOUNGCHILD'].between(0,0.5,inclusive = False),'YOUNGCHILD_ratio'] = 'less_than_0.5'\n",
        "x_train.loc[x_train['YOUNGCHILD'].between(0.5,1, inclusive = True),'YOUNGCHILD_ratio'] = 'more_than_0.5'\n",
        "x_train.loc[x_train['YOUNGCHILD']==1,'YOUNGCHILD_ratio'] ='1'\n",
        " \n",
        "\n",
        "cat_col_prop(x_train,'YOUNGCHILD_ratio')    \n",
        "\n",
        "x_test['YOUNGCHILD_ratio'] = 'NA'\n",
        "x_test.loc[x_test['YOUNGCHILD']==0,'YOUNGCHILD_ratio']= '0'\n",
        "x_test.loc[x_test['YOUNGCHILD'].between(0,0.5,inclusive = False),'YOUNGCHILD_ratio'] = 'less_than_0.5'\n",
        "x_test.loc[x_test['YOUNGCHILD'].between(0.5,1, inclusive = True),'YOUNGCHILD_ratio'] = 'more_than_0.5'\n",
        "x_test.loc[x_test['YOUNGCHILD']==1,'YOUNGCHILD_ratio'] ='1'\n",
        " \n"
      ],
      "execution_count": 69,
      "outputs": [
        {
          "output_type": "stream",
          "text": [
            "               counts  percentage\n",
            "0               21994   91.185738\n",
            "less_than_0.5    1825    7.566335\n",
            "more_than_0.5     301    1.247927\n"
          ],
          "name": "stdout"
        },
        {
          "output_type": "display_data",
          "data": {
            "image/png": "[encoded data removed]",
            "text/plain": [
              "<Figure size 432x288 with 1 Axes>"
            ]
          },
          "metadata": {
            "tags": [],
            "needs_background": "light"
          }
        }
      ]
    },
    {
      "cell_type": "markdown",
      "metadata": {
        "id": "vuA2ePDgkQAy"
      },
      "source": [
        "#### Worker Count Proportion (WRKCOUNT)"
      ]
    },
    {
      "cell_type": "code",
      "metadata": {
        "colab": {
          "base_uri": "https://localhost:8080/",
          "height": 432
        },
        "id": "6lNgCCiDkQAz",
        "outputId": "57be4b0a-e037-4d31-8ea5-4e5c0e12d041"
      },
      "source": [
        "cat_col_prop(x_train,'WRKCOUNT')"
      ],
      "execution_count": 70,
      "outputs": [
        {
          "output_type": "stream",
          "text": [
            "   counts  percentage\n",
            "2    8295   34.390547\n",
            "1    7378   30.588723\n",
            "0    6333   26.256219\n",
            "3    1574    6.525705\n",
            "4     481    1.994196\n",
            "5      47    0.194859\n",
            "7       6    0.024876\n",
            "6       6    0.024876\n"
          ],
          "name": "stdout"
        },
        {
          "output_type": "display_data",
          "data": {
            "image/png": "[encoded data removed]",
            "text/plain": [
              "<Figure size 432x288 with 1 Axes>"
            ]
          },
          "metadata": {
            "tags": [],
            "needs_background": "light"
          }
        }
      ]
    },
    {
      "cell_type": "code",
      "metadata": {
        "colab": {
          "base_uri": "https://localhost:8080/",
          "height": 366
        },
        "id": "SDjDlouakQAz",
        "outputId": "d63f010d-4fcf-4d4c-eec6-8b60f2a87d7e"
      },
      "source": [
        "#Convert against proportion of Household size\n",
        "\n",
        "x_train['WRKCOUNT'] = x_train['WRKCOUNT']/x_train['HHSIZE']\n",
        "x_test['WRKCOUNT'] = x_test['WRKCOUNT']/x_test['HHSIZE']\n",
        "\n",
        "#Bin to groups\n",
        "x_train['WRKCOUNT_ratio'] = 'NA'\n",
        "x_train.loc[x_train['WRKCOUNT']==0,'WRKCOUNT_ratio']= '0'\n",
        "x_train.loc[x_train['WRKCOUNT'].between(0,0.5,inclusive = False),'WRKCOUNT_ratio'] = 'less_than_0.5'\n",
        "x_train.loc[x_train['WRKCOUNT'].between(0.5,1, inclusive = True),'WRKCOUNT_ratio'] = 'more_than_0.5'\n",
        "x_train.loc[x_train['WRKCOUNT']==1,'WRKCOUNT_ratio'] ='1'\n",
        "\n",
        "cat_col_prop(x_train,'WRKCOUNT_ratio')\n",
        "\n",
        "x_test['WRKCOUNT_ratio'] = 'NA'\n",
        "x_test.loc[x_test['WRKCOUNT']==0,'WRKCOUNT_ratio']= '0'\n",
        "x_test.loc[x_test['WRKCOUNT'].between(0,0.5,inclusive = False),'WRKCOUNT_ratio'] = 'less_than_0.5'\n",
        "x_test.loc[x_test['WRKCOUNT'].between(0.5,1, inclusive = True),'WRKCOUNT_ratio'] = 'more_than_0.5'\n",
        "x_test.loc[x_test['WRKCOUNT']==1,'WRKCOUNT_ratio'] ='1'\n",
        "\n",
        " "
      ],
      "execution_count": 71,
      "outputs": [
        {
          "output_type": "stream",
          "text": [
            "               counts  percentage\n",
            "more_than_0.5    7994   33.142620\n",
            "0                6333   26.256219\n",
            "1                6006   24.900498\n",
            "less_than_0.5    3787   15.700663\n"
          ],
          "name": "stdout"
        },
        {
          "output_type": "display_data",
          "data": {
            "image/png": "[encoded data removed]",
            "text/plain": [
              "<Figure size 432x288 with 1 Axes>"
            ]
          },
          "metadata": {
            "tags": [],
            "needs_background": "light"
          }
        }
      ]
    },
    {
      "cell_type": "markdown",
      "metadata": {
        "id": "GoUSwBpkkQAz"
      },
      "source": [
        "#### Household Size (HHSIZE)"
      ]
    },
    {
      "cell_type": "code",
      "metadata": {
        "colab": {
          "base_uri": "https://localhost:8080/",
          "height": 620
        },
        "id": "Z2C--XGekQAz",
        "outputId": "9b0e58d8-8e95-4b5c-dc99-96c45c3cd932"
      },
      "source": [
        "#count of household members\n",
        "print(\"Before\")\n",
        "cat_col_prop(x_train,'HHSIZE')\n",
        "\n",
        "# to bin tail HHSIZE\n",
        "\n",
        "x_train['HHSIZE'][x_train['HHSIZE']>3] = \"above_3\"\n",
        "\n",
        "print(\"\")\n",
        "print(\"After\")\n",
        "\n",
        "cat_col_prop(x_train,'HHSIZE')\n",
        "\n",
        "x_test['HHSIZE'][x_test['HHSIZE']>3] = \" above_3\""
      ],
      "execution_count": 72,
      "outputs": [
        {
          "output_type": "stream",
          "text": [
            "Before\n",
            "    counts  percentage\n",
            "2    10322   42.794362\n",
            "3     4130   17.122720\n",
            "4     3794   15.729685\n",
            "1     3482   14.436153\n",
            "5     1526    6.326700\n",
            "6      497    2.060531\n",
            "7      214    0.887231\n",
            "8       83    0.344113\n",
            "9       40    0.165837\n",
            "10      27    0.111940\n",
            "11       5    0.020730\n",
            "\n",
            "After\n",
            "         counts  percentage\n",
            "2         10322   42.794362\n",
            "above_3    6186   25.646766\n",
            "3          4130   17.122720\n",
            "1          3482   14.436153\n"
          ],
          "name": "stdout"
        },
        {
          "output_type": "display_data",
          "data": {
            "image/png": "[encoded data removed]",
            "text/plain": [
              "<Figure size 432x288 with 1 Axes>"
            ]
          },
          "metadata": {
            "tags": [],
            "needs_background": "light"
          }
        }
      ]
    },
    {
      "cell_type": "markdown",
      "metadata": {
        "id": "z-Cnotr6kQA0"
      },
      "source": [
        "#### Metropolitan Statistical Area (MSACAT)\n"
      ]
    },
    {
      "cell_type": "code",
      "metadata": {
        "colab": {
          "base_uri": "https://localhost:8080/",
          "height": 364
        },
        "id": "l10BdQ6fkQA0",
        "outputId": "67110018-0193-4fb3-f581-8fb494715e05"
      },
      "source": [
        "cat_col_prop(x_train,'MSACAT')\n",
        "             \n",
        "#no missing values and relatively proportional distribution"
      ],
      "execution_count": 73,
      "outputs": [
        {
          "output_type": "stream",
          "text": [
            "   counts  percentage\n",
            "3   10347   42.898010\n",
            "1    7306   30.290216\n",
            "4    3925   16.272803\n",
            "2    2542   10.538972\n"
          ],
          "name": "stdout"
        },
        {
          "output_type": "display_data",
          "data": {
            "image/png": "[encoded data removed]",
            "text/plain": [
              "<Figure size 432x288 with 1 Axes>"
            ]
          },
          "metadata": {
            "tags": [],
            "needs_background": "light"
          }
        }
      ]
    },
    {
      "cell_type": "markdown",
      "metadata": {
        "id": "qNVqSOHdkQA0"
      },
      "source": [
        "#### Population size of MSA (MSASIZE)"
      ]
    },
    {
      "cell_type": "code",
      "metadata": {
        "colab": {
          "base_uri": "https://localhost:8080/",
          "height": 398
        },
        "id": "0WaGSvQdkQA0",
        "outputId": "cfe157a1-a4c4-486c-a54d-eefbb24524f2"
      },
      "source": [
        "cat_col_prop(x_train,'MSASIZE')\n",
        "             \n",
        "#no missing values and relatively proportional distribution"
      ],
      "execution_count": 74,
      "outputs": [
        {
          "output_type": "stream",
          "text": [
            "   counts  percentage\n",
            "5    7306   30.290216\n",
            "1    6038   25.033167\n",
            "6    3925   16.272803\n",
            "3    3284   13.615257\n",
            "4    2542   10.538972\n",
            "2    1025    4.249585\n"
          ],
          "name": "stdout"
        },
        {
          "output_type": "display_data",
          "data": {
            "image/png": "[encoded data removed]",
            "text/plain": [
              "<Figure size 432x288 with 1 Axes>"
            ]
          },
          "metadata": {
            "tags": [],
            "needs_background": "light"
          }
        }
      ]
    },
    {
      "cell_type": "markdown",
      "metadata": {
        "id": "FRElzXznkQA0"
      },
      "source": [
        "#### House in Urban or Rural Area (URBAN)"
      ]
    },
    {
      "cell_type": "code",
      "metadata": {
        "colab": {
          "base_uri": "https://localhost:8080/",
          "height": 466
        },
        "id": "SQJJT6VJkQA1",
        "outputId": "78da3d9b-96f7-47d2-ed69-354dd0936eb0"
      },
      "source": [
        "print('Before')\n",
        "cat_col_prop(x_train,'URBAN')\n",
        "\n",
        "# combine 1 and 2 (in an urban area and in an urban cluster ) & combine 3 and 4 (surround by urban and not in urban)\n",
        "\n",
        "x_train['URBAN'][x_train['URBAN'].isin([1,2])] = 'urban'\n",
        "x_train['URBAN'][x_train['URBAN'].isin([3,4])] = 'rural'\n",
        "\n",
        "print(\"\")\n",
        "print('After')\n",
        "\n",
        "cat_col_prop(x_train, 'URBAN')\n",
        "\n",
        "x_test['URBAN'][x_test['URBAN'].isin([1,2])] = 'urban'\n",
        "x_test['URBAN'][x_test['URBAN'].isin([3,4])] = 'rural'"
      ],
      "execution_count": 75,
      "outputs": [
        {
          "output_type": "stream",
          "text": [
            "Before\n",
            "   counts  percentage\n",
            "1   13551   56.181592\n",
            "4    8248   34.195688\n",
            "2    2317    9.606136\n",
            "3       4    0.016584\n",
            "\n",
            "After\n",
            "       counts  percentage\n",
            "urban   15868   65.787728\n",
            "rural    8252   34.212272\n"
          ],
          "name": "stdout"
        },
        {
          "output_type": "display_data",
          "data": {
            "image/png": "[encoded data removed]",
            "text/plain": [
              "<Figure size 432x288 with 1 Axes>"
            ]
          },
          "metadata": {
            "tags": [],
            "needs_background": "light"
          }
        }
      ]
    },
    {
      "cell_type": "markdown",
      "metadata": {
        "id": "kV3gJWFXkQA1"
      },
      "source": [
        "#### URBANSIZE"
      ]
    },
    {
      "cell_type": "code",
      "metadata": {
        "colab": {
          "base_uri": "https://localhost:8080/",
          "height": 381
        },
        "id": "bcpASAfmkQA1",
        "outputId": "23650143-3612-4c48-a177-b9ec70ed8afd"
      },
      "source": [
        "#06 = not in an urbanised area \n",
        "#05 - 1 million with heavy rail \n",
        "\n",
        "#Relatively proportional classes\n",
        "cat_col_prop(x_train,'URBANSIZE')"
      ],
      "execution_count": 76,
      "outputs": [
        {
          "output_type": "stream",
          "text": [
            "   counts  percentage\n",
            "6   10569   43.818408\n",
            "5    4724   19.585406\n",
            "1    3653   15.145108\n",
            "3    2702   11.202322\n",
            "2    2472   10.248756\n"
          ],
          "name": "stdout"
        },
        {
          "output_type": "display_data",
          "data": {
            "image/png": "[encoded data removed]",
            "text/plain": [
              "<Figure size 432x288 with 1 Axes>"
            ]
          },
          "metadata": {
            "tags": [],
            "needs_background": "light"
          }
        }
      ]
    },
    {
      "cell_type": "markdown",
      "metadata": {
        "id": "0JbpzIN-kQA1"
      },
      "source": [
        "#### URBRUR"
      ]
    },
    {
      "cell_type": "code",
      "metadata": {
        "colab": {
          "base_uri": "https://localhost:8080/",
          "height": 330
        },
        "id": "AvsVHhI-kQA2",
        "outputId": "5e765b13-d847-4867-e468-4faeac1c4e93"
      },
      "source": [
        "cat_col_prop(x_train,'URBRUR')\n",
        "# missing values nor disproportion"
      ],
      "execution_count": 77,
      "outputs": [
        {
          "output_type": "stream",
          "text": [
            "   counts  percentage\n",
            "1   15868   65.787728\n",
            "2    8252   34.212272\n"
          ],
          "name": "stdout"
        },
        {
          "output_type": "display_data",
          "data": {
            "image/png": "[encoded data removed]",
            "text/plain": [
              "<Figure size 432x288 with 1 Axes>"
            ]
          },
          "metadata": {
            "tags": [],
            "needs_background": "light"
          }
        }
      ]
    },
    {
      "cell_type": "markdown",
      "metadata": {
        "id": "NsCsNhN1kQA2"
      },
      "source": [
        "#### LIF_CYC "
      ]
    },
    {
      "cell_type": "code",
      "metadata": {
        "colab": {
          "base_uri": "https://localhost:8080/",
          "height": 470
        },
        "id": "eT6S86N0kQA2",
        "outputId": "0347f3ce-2ec8-4861-bc05-c318f9b35efc"
      },
      "source": [
        "cat_col_prop(x_train,\"LIF_CYC\")\n",
        "\n",
        "# No major disproportion"
      ],
      "execution_count": 78,
      "outputs": [
        {
          "output_type": "stream",
          "text": [
            "    counts  percentage\n",
            "10    6699   27.773632\n",
            "2     5495   22.781924\n",
            "6     3639   15.087065\n",
            "4     2435   10.095357\n",
            "1     1830    7.587065\n",
            "9     1652    6.849088\n",
            "8     1572    6.517413\n",
            "5      457    1.894693\n",
            "7      200    0.829187\n",
            "3      141    0.584577\n"
          ],
          "name": "stdout"
        },
        {
          "output_type": "display_data",
          "data": {
            "image/png": "[encoded data removed]",
            "text/plain": [
              "<Figure size 432x288 with 1 Axes>"
            ]
          },
          "metadata": {
            "tags": [],
            "needs_background": "light"
          }
        }
      ]
    },
    {
      "cell_type": "markdown",
      "metadata": {
        "id": "L09Dym8PkQA2"
      },
      "source": [
        "## 3. One-Hot- Encoding"
      ]
    },
    {
      "cell_type": "code",
      "metadata": {
        "colab": {
          "base_uri": "https://localhost:8080/"
        },
        "id": "Tf92TtvekQA2",
        "outputId": "d18eddd1-ec53-43b2-8c3e-d07f98b2b527"
      },
      "source": [
        "x_train.dtypes"
      ],
      "execution_count": 79,
      "outputs": [
        {
          "output_type": "execute_result",
          "data": {
            "text/plain": [
              "R_AGE                                   int64\n",
              "EDUC                                    int64\n",
              "R_RACE                                  int64\n",
              "R_SEX                                   int64\n",
              "WRK_HOME                                int64\n",
              "WKFTPT                                  int64\n",
              "OCCAT                                   int64\n",
              "DRIVER                                  int64\n",
              "TRAVDAY                                 int64\n",
              "dist_to_work                interval[float64]\n",
              "dist_to_shopping            interval[float64]\n",
              "dist_to_family              interval[float64]\n",
              "dist_to_school_or_church    interval[float64]\n",
              "dist_to_relatives           interval[float64]\n",
              "dist_to_social              interval[float64]\n",
              "HH_CBSA                                object\n",
              "HOMEOWN                                 int64\n",
              "HHSIZE                                 object\n",
              "HHVEHCNT                               object\n",
              "HHFAMINC                                int64\n",
              "NUMADLT                               float64\n",
              "YOUNGCHILD                            float64\n",
              "WRKCOUNT                              float64\n",
              "MSACAT                                  int64\n",
              "MSASIZE                                 int64\n",
              "URBAN                                  object\n",
              "URBANSIZE                               int64\n",
              "URBRUR                                  int64\n",
              "LIF_CYC                                 int64\n",
              "AGE_bins                               object\n",
              "DISTTOWK                               object\n",
              "DISTTOSC                               object\n",
              "NUMADLT_ratio                          object\n",
              "YOUNGCHILD_ratio                       object\n",
              "WRKCOUNT_ratio                         object\n",
              "dtype: object"
            ]
          },
          "metadata": {
            "tags": []
          },
          "execution_count": 79
        }
      ]
    },
    {
      "cell_type": "code",
      "metadata": {
        "id": "NM9J3ng_kQA3"
      },
      "source": [
        "to_obj = ['EDUC','R_RACE','AGE_bins','HHFAMINC','HOMEOWN','R_SEX','TRAVDAY','WRK_HOME','WKFTPT','OCCAT','DRIVER','MSACAT','MSASIZE','URBAN','URBANSIZE','URBRUR','LIF_CYC','dist_to_work','dist_to_shopping','dist_to_family','dist_to_school_or_church','dist_to_relatives','dist_to_social']\n",
        "\n",
        "x_train[to_obj] = x_train[to_obj].astype(str)\n",
        "x_test[to_obj]= x_test[to_obj].astype(str)\n",
        "\n",
        "x_train.drop(['R_AGE'], axis = 1, inplace =True)\n",
        "x_test.drop(['R_AGE'],axis = 1, inplace = True)"
      ],
      "execution_count": 80,
      "outputs": []
    },
    {
      "cell_type": "code",
      "metadata": {
        "id": "Cn5qOmMDkQA3"
      },
      "source": [
        "one_hot_col = [c for c in x_train if x_train[c].dtypes == 'O' ]\n",
        "x_train = pd.concat([x_train,pd.get_dummies(x_train[one_hot_col],prefix = one_hot_col)],axis = 1)\n",
        "x_train.drop(one_hot_col, axis = 1, inplace = True)\n",
        "\n",
        "x_test = pd.concat([x_test,pd.get_dummies(x_test[one_hot_col],prefix = one_hot_col)],axis = 1)\n",
        "x_test.drop(one_hot_col, axis = 1, inplace = True)"
      ],
      "execution_count": 81,
      "outputs": []
    },
    {
      "cell_type": "code",
      "metadata": {
        "id": "zmfG1w7kkQA3"
      },
      "source": [
        "#drop all negative value columns  \n",
        "\n",
        "na_cols_train =[c for c in x_train if ('NA' in c) or ('-' in c) or ('nan' in c)]\n",
        "\n",
        "x_train.drop(na_cols_train, axis = 1, inplace = True)\n",
        "\n",
        "\n",
        "na_cols_test =[c for c in x_test if ('NA' in c) or ('-' in c) or ('nan' in c)]\n",
        "x_test.drop(na_cols_test, axis = 1 , inplace = True)"
      ],
      "execution_count": 82,
      "outputs": []
    },
    {
      "cell_type": "code",
      "metadata": {
        "id": "nXhiBinpkQA3"
      },
      "source": [
        "\n",
        "dist_cols = [c for c in x_train if ('dist' in c)]\n",
        "\n",
        "x_train_with_dist = x_train[dist_cols]\n",
        "x_test_with_dist = x_test[dist_cols]\n",
        "\n",
        "x_train.drop(dist_cols, axis =1, inplace = True)\n",
        "x_test.drop(dist_cols, axis =1, inplace = True)\n",
        "\n",
        "\n",
        "#y_train = y_train.astype('int64')\n",
        "#y_test = y_test.astype('int64')"
      ],
      "execution_count": 83,
      "outputs": []
    },
    {
      "cell_type": "code",
      "metadata": {
        "colab": {
          "base_uri": "https://localhost:8080/"
        },
        "id": "i512maWlkQA3",
        "outputId": "674e6b09-1b7a-4a19-a7a6-8cd0d09b4d98"
      },
      "source": [
        "x_train.shape"
      ],
      "execution_count": 84,
      "outputs": [
        {
          "output_type": "execute_result",
          "data": {
            "text/plain": [
              "(24120, 115)"
            ]
          },
          "metadata": {
            "tags": []
          },
          "execution_count": 84
        }
      ]
    },
    {
      "cell_type": "code",
      "metadata": {
        "id": "iUa_WCfgkQA4"
      },
      "source": [
        "\n",
        "x_train_with_dist = pd.concat([x_train,x_train_with_dist],axis=1)\n",
        "x_test_with_dist = pd.concat([x_test,x_test_with_dist],axis=1)\n"
      ],
      "execution_count": 85,
      "outputs": []
    },
    {
      "cell_type": "code",
      "metadata": {
        "id": "kPrXYdfzkQA4"
      },
      "source": [
        "dist_dict = {'dist_to_work_(1.0, 2.0]':'dist_to_work_between_1_and_2',\n",
        "            'dist_to_work_(11.0, 99.0]':'dist_to_work_more_than_11',\n",
        "            'dist_to_work_(2.0, 5.0]':'dist_to_work_between_2_and_5',\n",
        "            'dist_to_work_(5.0, 11.0]':'dist_to_work_between_5_and_11',\n",
        "             'dist_to_shopping_(1.0, 2.0]':'dist_to_shopping_between_1_and_2',\n",
        "             'dist_to_shopping_(11.0, 99.0]':'dist_to_shopping_more_than_11',\n",
        "             'dist_to_shopping_(2.0, 5.0]':'dist_to_shopping_between_2_and_5',\n",
        "             'dist_to_shopping_(5.0, 11.0]':'dist_to_shopping_between_5_and_11',\n",
        "             'dist_to_family_(1.0, 2.0]':'dist_to_family_between_1_and_2',\n",
        "             'dist_to_family_(11.0, 99.0]':'dist_to_family_greater_than_11',\n",
        "             'dist_to_family_(2.0, 5.0]':'dist_to_family_between_2_and_5',\n",
        "             'dist_to_family_(5.0, 11.0]':'dist_to_family_between_5_and_11',\n",
        "             'dist_to_school_or_church_(1.0, 2.0]':'dist_to_school_or_church_between_1_and_2',\n",
        "             'dist_to_school_or_church_(11.0, 99.0]':'dist_to_school_or_church_greater_than_11',\n",
        "             'dist_to_school_or_church_(2.0, 5.0]':'dist_to_school_or_church_between_2_and_5',\n",
        "             'dist_to_school_or_church_(5.0, 11.0]':'dist_to_school_or_church_between_5_and_11',\n",
        "             'dist_to_relatives_(1.0, 2.0]':'dist_to_relatvies_between_1_and_2',\n",
        "             'dist_to_relatives_(11.0, 99.0]':'dist_to_relatvies_greater_than_11',\n",
        "             'dist_to_relatives_(2.0, 5.0]':'dist_to_relatvies_between_2_and_5',\n",
        "             'dist_to_relatives_(5.0, 11.0]':'dist_to_relatvies_between_5_and_11',\n",
        "             'dist_to_social_(1.0, 2.0]':'dist_to_social_between_1_and_2',\n",
        "             'dist_to_social_(11.0, 99.0]':'dist_to_social_greater_than_11',\n",
        "             'dist_to_social_(2.0, 5.0]':'dist_to_social_between_2_and_5',\n",
        "             'dist_to_social_(5.0, 11.0]':'dist_to_social_between_5_and_11'}\n",
        "\n",
        "dist_cols = [c for c in x_train_with_dist if 'dist' in c]\n",
        "\n",
        "x_train_with_dist.rename(columns=dist_dict,inplace = True)\n",
        "x_test_with_dist.rename(columns = dist_dict, inplace = True)"
      ],
      "execution_count": 86,
      "outputs": []
    },
    {
      "cell_type": "code",
      "metadata": {
        "colab": {
          "base_uri": "https://localhost:8080/",
          "height": 439
        },
        "id": "2C8mDz6ukQA4",
        "outputId": "eafee3ca-33f4-4356-a607-77e7ca334ee9"
      },
      "source": [
        "x_test"
      ],
      "execution_count": 87,
      "outputs": [
        {
          "output_type": "execute_result",
          "data": {
            "text/html": [
              "<div>\n",
              "<style scoped>\n",
              "    .dataframe tbody tr th:only-of-type {\n",
              "        vertical-align: middle;\n",
              "    }\n",
              "\n",
              "    .dataframe tbody tr th {\n",
              "        vertical-align: top;\n",
              "    }\n",
              "\n",
              "    .dataframe thead th {\n",
              "        text-align: right;\n",
              "    }\n",
              "</style>\n",
              "<table border=\"1\" class=\"dataframe\">\n",
              "  <thead>\n",
              "    <tr style=\"text-align: right;\">\n",
              "      <th></th>\n",
              "      <th>NUMADLT</th>\n",
              "      <th>YOUNGCHILD</th>\n",
              "      <th>WRKCOUNT</th>\n",
              "      <th>EDUC_1</th>\n",
              "      <th>EDUC_2</th>\n",
              "      <th>EDUC_3</th>\n",
              "      <th>EDUC_4</th>\n",
              "      <th>EDUC_5</th>\n",
              "      <th>R_RACE_1</th>\n",
              "      <th>R_RACE_2</th>\n",
              "      <th>R_RACE_3</th>\n",
              "      <th>R_RACE_4</th>\n",
              "      <th>R_RACE_5</th>\n",
              "      <th>R_RACE_6</th>\n",
              "      <th>R_RACE_97</th>\n",
              "      <th>R_SEX_1</th>\n",
              "      <th>R_SEX_2</th>\n",
              "      <th>WRK_HOME_1</th>\n",
              "      <th>WRK_HOME_2</th>\n",
              "      <th>WKFTPT_1</th>\n",
              "      <th>WKFTPT_2</th>\n",
              "      <th>OCCAT_1</th>\n",
              "      <th>OCCAT_2</th>\n",
              "      <th>OCCAT_3</th>\n",
              "      <th>OCCAT_4</th>\n",
              "      <th>OCCAT_97</th>\n",
              "      <th>DRIVER_1</th>\n",
              "      <th>DRIVER_2</th>\n",
              "      <th>TRAVDAY_1</th>\n",
              "      <th>TRAVDAY_2</th>\n",
              "      <th>TRAVDAY_3</th>\n",
              "      <th>TRAVDAY_4</th>\n",
              "      <th>TRAVDAY_5</th>\n",
              "      <th>TRAVDAY_6</th>\n",
              "      <th>TRAVDAY_7</th>\n",
              "      <th>HH_CBSA_15380</th>\n",
              "      <th>HH_CBSA_35620</th>\n",
              "      <th>HH_CBSA_40380</th>\n",
              "      <th>HH_CBSA_XXXXX</th>\n",
              "      <th>HOMEOWN_1</th>\n",
              "      <th>...</th>\n",
              "      <th>URBANSIZE_3</th>\n",
              "      <th>URBANSIZE_5</th>\n",
              "      <th>URBANSIZE_6</th>\n",
              "      <th>URBRUR_1</th>\n",
              "      <th>URBRUR_2</th>\n",
              "      <th>LIF_CYC_1</th>\n",
              "      <th>LIF_CYC_10</th>\n",
              "      <th>LIF_CYC_2</th>\n",
              "      <th>LIF_CYC_3</th>\n",
              "      <th>LIF_CYC_4</th>\n",
              "      <th>LIF_CYC_5</th>\n",
              "      <th>LIF_CYC_6</th>\n",
              "      <th>LIF_CYC_7</th>\n",
              "      <th>LIF_CYC_8</th>\n",
              "      <th>LIF_CYC_9</th>\n",
              "      <th>AGE_bins_16_to_25</th>\n",
              "      <th>AGE_bins_26_to_35</th>\n",
              "      <th>AGE_bins_36_to_45</th>\n",
              "      <th>AGE_bins_46_to_55</th>\n",
              "      <th>AGE_bins_56_to_65</th>\n",
              "      <th>AGE_bins_5_to_15</th>\n",
              "      <th>AGE_bins_66_to_75</th>\n",
              "      <th>AGE_bins_more_than_75</th>\n",
              "      <th>DISTTOWK_DISTTOWK_0_to_3</th>\n",
              "      <th>DISTTOWK_DISTTOWK_12_to_22</th>\n",
              "      <th>DISTTOWK_DISTTOWK_3_to_7</th>\n",
              "      <th>DISTTOWK_DISTTOWK_7_to_12</th>\n",
              "      <th>DISTTOWK_DISTTOWK_above_22</th>\n",
              "      <th>DISTTOSC_DISTTOSC_above_3</th>\n",
              "      <th>DISTTOSC_DISTTOSC_under_3</th>\n",
              "      <th>NUMADLT_ratio_1</th>\n",
              "      <th>NUMADLT_ratio_less_than_0.5</th>\n",
              "      <th>NUMADLT_ratio_more_than_0.5</th>\n",
              "      <th>YOUNGCHILD_ratio_0</th>\n",
              "      <th>YOUNGCHILD_ratio_less_than_0.5</th>\n",
              "      <th>YOUNGCHILD_ratio_more_than_0.5</th>\n",
              "      <th>WRKCOUNT_ratio_0</th>\n",
              "      <th>WRKCOUNT_ratio_1</th>\n",
              "      <th>WRKCOUNT_ratio_less_than_0.5</th>\n",
              "      <th>WRKCOUNT_ratio_more_than_0.5</th>\n",
              "    </tr>\n",
              "  </thead>\n",
              "  <tbody>\n",
              "    <tr>\n",
              "      <th>23586</th>\n",
              "      <td>0.5</td>\n",
              "      <td>0.25</td>\n",
              "      <td>0.500000</td>\n",
              "      <td>0</td>\n",
              "      <td>0</td>\n",
              "      <td>0</td>\n",
              "      <td>1</td>\n",
              "      <td>0</td>\n",
              "      <td>1</td>\n",
              "      <td>0</td>\n",
              "      <td>0</td>\n",
              "      <td>0</td>\n",
              "      <td>0</td>\n",
              "      <td>0</td>\n",
              "      <td>0</td>\n",
              "      <td>1</td>\n",
              "      <td>0</td>\n",
              "      <td>0</td>\n",
              "      <td>1</td>\n",
              "      <td>1</td>\n",
              "      <td>0</td>\n",
              "      <td>0</td>\n",
              "      <td>0</td>\n",
              "      <td>0</td>\n",
              "      <td>1</td>\n",
              "      <td>0</td>\n",
              "      <td>1</td>\n",
              "      <td>0</td>\n",
              "      <td>0</td>\n",
              "      <td>1</td>\n",
              "      <td>0</td>\n",
              "      <td>0</td>\n",
              "      <td>0</td>\n",
              "      <td>0</td>\n",
              "      <td>0</td>\n",
              "      <td>0</td>\n",
              "      <td>1</td>\n",
              "      <td>0</td>\n",
              "      <td>0</td>\n",
              "      <td>1</td>\n",
              "      <td>...</td>\n",
              "      <td>0</td>\n",
              "      <td>0</td>\n",
              "      <td>1</td>\n",
              "      <td>0</td>\n",
              "      <td>1</td>\n",
              "      <td>0</td>\n",
              "      <td>0</td>\n",
              "      <td>0</td>\n",
              "      <td>0</td>\n",
              "      <td>1</td>\n",
              "      <td>0</td>\n",
              "      <td>0</td>\n",
              "      <td>0</td>\n",
              "      <td>0</td>\n",
              "      <td>0</td>\n",
              "      <td>0</td>\n",
              "      <td>0</td>\n",
              "      <td>1</td>\n",
              "      <td>0</td>\n",
              "      <td>0</td>\n",
              "      <td>0</td>\n",
              "      <td>0</td>\n",
              "      <td>0</td>\n",
              "      <td>0</td>\n",
              "      <td>0</td>\n",
              "      <td>0</td>\n",
              "      <td>0</td>\n",
              "      <td>1</td>\n",
              "      <td>0</td>\n",
              "      <td>0</td>\n",
              "      <td>0</td>\n",
              "      <td>0</td>\n",
              "      <td>1</td>\n",
              "      <td>0</td>\n",
              "      <td>1</td>\n",
              "      <td>0</td>\n",
              "      <td>0</td>\n",
              "      <td>0</td>\n",
              "      <td>0</td>\n",
              "      <td>1</td>\n",
              "    </tr>\n",
              "    <tr>\n",
              "      <th>27418</th>\n",
              "      <td>1.0</td>\n",
              "      <td>0.00</td>\n",
              "      <td>0.500000</td>\n",
              "      <td>0</td>\n",
              "      <td>0</td>\n",
              "      <td>0</td>\n",
              "      <td>0</td>\n",
              "      <td>1</td>\n",
              "      <td>1</td>\n",
              "      <td>0</td>\n",
              "      <td>0</td>\n",
              "      <td>0</td>\n",
              "      <td>0</td>\n",
              "      <td>0</td>\n",
              "      <td>0</td>\n",
              "      <td>1</td>\n",
              "      <td>0</td>\n",
              "      <td>0</td>\n",
              "      <td>0</td>\n",
              "      <td>0</td>\n",
              "      <td>0</td>\n",
              "      <td>0</td>\n",
              "      <td>0</td>\n",
              "      <td>0</td>\n",
              "      <td>0</td>\n",
              "      <td>0</td>\n",
              "      <td>1</td>\n",
              "      <td>0</td>\n",
              "      <td>0</td>\n",
              "      <td>0</td>\n",
              "      <td>0</td>\n",
              "      <td>0</td>\n",
              "      <td>1</td>\n",
              "      <td>0</td>\n",
              "      <td>0</td>\n",
              "      <td>0</td>\n",
              "      <td>1</td>\n",
              "      <td>0</td>\n",
              "      <td>0</td>\n",
              "      <td>1</td>\n",
              "      <td>...</td>\n",
              "      <td>0</td>\n",
              "      <td>0</td>\n",
              "      <td>1</td>\n",
              "      <td>0</td>\n",
              "      <td>1</td>\n",
              "      <td>0</td>\n",
              "      <td>1</td>\n",
              "      <td>0</td>\n",
              "      <td>0</td>\n",
              "      <td>0</td>\n",
              "      <td>0</td>\n",
              "      <td>0</td>\n",
              "      <td>0</td>\n",
              "      <td>0</td>\n",
              "      <td>0</td>\n",
              "      <td>0</td>\n",
              "      <td>0</td>\n",
              "      <td>0</td>\n",
              "      <td>0</td>\n",
              "      <td>1</td>\n",
              "      <td>0</td>\n",
              "      <td>0</td>\n",
              "      <td>0</td>\n",
              "      <td>0</td>\n",
              "      <td>0</td>\n",
              "      <td>0</td>\n",
              "      <td>0</td>\n",
              "      <td>0</td>\n",
              "      <td>0</td>\n",
              "      <td>0</td>\n",
              "      <td>1</td>\n",
              "      <td>0</td>\n",
              "      <td>0</td>\n",
              "      <td>1</td>\n",
              "      <td>0</td>\n",
              "      <td>0</td>\n",
              "      <td>0</td>\n",
              "      <td>0</td>\n",
              "      <td>0</td>\n",
              "      <td>1</td>\n",
              "    </tr>\n",
              "    <tr>\n",
              "      <th>8894</th>\n",
              "      <td>0.5</td>\n",
              "      <td>0.00</td>\n",
              "      <td>0.250000</td>\n",
              "      <td>0</td>\n",
              "      <td>0</td>\n",
              "      <td>0</td>\n",
              "      <td>0</td>\n",
              "      <td>1</td>\n",
              "      <td>1</td>\n",
              "      <td>0</td>\n",
              "      <td>0</td>\n",
              "      <td>0</td>\n",
              "      <td>0</td>\n",
              "      <td>0</td>\n",
              "      <td>0</td>\n",
              "      <td>0</td>\n",
              "      <td>1</td>\n",
              "      <td>0</td>\n",
              "      <td>0</td>\n",
              "      <td>0</td>\n",
              "      <td>0</td>\n",
              "      <td>0</td>\n",
              "      <td>0</td>\n",
              "      <td>0</td>\n",
              "      <td>0</td>\n",
              "      <td>0</td>\n",
              "      <td>1</td>\n",
              "      <td>0</td>\n",
              "      <td>0</td>\n",
              "      <td>0</td>\n",
              "      <td>0</td>\n",
              "      <td>0</td>\n",
              "      <td>0</td>\n",
              "      <td>0</td>\n",
              "      <td>1</td>\n",
              "      <td>0</td>\n",
              "      <td>0</td>\n",
              "      <td>0</td>\n",
              "      <td>1</td>\n",
              "      <td>1</td>\n",
              "      <td>...</td>\n",
              "      <td>0</td>\n",
              "      <td>0</td>\n",
              "      <td>1</td>\n",
              "      <td>1</td>\n",
              "      <td>0</td>\n",
              "      <td>0</td>\n",
              "      <td>0</td>\n",
              "      <td>0</td>\n",
              "      <td>0</td>\n",
              "      <td>0</td>\n",
              "      <td>0</td>\n",
              "      <td>1</td>\n",
              "      <td>0</td>\n",
              "      <td>0</td>\n",
              "      <td>0</td>\n",
              "      <td>0</td>\n",
              "      <td>0</td>\n",
              "      <td>1</td>\n",
              "      <td>0</td>\n",
              "      <td>0</td>\n",
              "      <td>0</td>\n",
              "      <td>0</td>\n",
              "      <td>0</td>\n",
              "      <td>0</td>\n",
              "      <td>0</td>\n",
              "      <td>0</td>\n",
              "      <td>0</td>\n",
              "      <td>0</td>\n",
              "      <td>0</td>\n",
              "      <td>0</td>\n",
              "      <td>0</td>\n",
              "      <td>0</td>\n",
              "      <td>1</td>\n",
              "      <td>1</td>\n",
              "      <td>0</td>\n",
              "      <td>0</td>\n",
              "      <td>0</td>\n",
              "      <td>0</td>\n",
              "      <td>1</td>\n",
              "      <td>0</td>\n",
              "    </tr>\n",
              "    <tr>\n",
              "      <th>512</th>\n",
              "      <td>1.0</td>\n",
              "      <td>0.00</td>\n",
              "      <td>1.000000</td>\n",
              "      <td>0</td>\n",
              "      <td>0</td>\n",
              "      <td>0</td>\n",
              "      <td>1</td>\n",
              "      <td>0</td>\n",
              "      <td>1</td>\n",
              "      <td>0</td>\n",
              "      <td>0</td>\n",
              "      <td>0</td>\n",
              "      <td>0</td>\n",
              "      <td>0</td>\n",
              "      <td>0</td>\n",
              "      <td>0</td>\n",
              "      <td>1</td>\n",
              "      <td>0</td>\n",
              "      <td>1</td>\n",
              "      <td>1</td>\n",
              "      <td>0</td>\n",
              "      <td>0</td>\n",
              "      <td>1</td>\n",
              "      <td>0</td>\n",
              "      <td>0</td>\n",
              "      <td>0</td>\n",
              "      <td>1</td>\n",
              "      <td>0</td>\n",
              "      <td>0</td>\n",
              "      <td>1</td>\n",
              "      <td>0</td>\n",
              "      <td>0</td>\n",
              "      <td>0</td>\n",
              "      <td>0</td>\n",
              "      <td>0</td>\n",
              "      <td>0</td>\n",
              "      <td>0</td>\n",
              "      <td>0</td>\n",
              "      <td>1</td>\n",
              "      <td>0</td>\n",
              "      <td>...</td>\n",
              "      <td>1</td>\n",
              "      <td>0</td>\n",
              "      <td>0</td>\n",
              "      <td>1</td>\n",
              "      <td>0</td>\n",
              "      <td>1</td>\n",
              "      <td>0</td>\n",
              "      <td>0</td>\n",
              "      <td>0</td>\n",
              "      <td>0</td>\n",
              "      <td>0</td>\n",
              "      <td>0</td>\n",
              "      <td>0</td>\n",
              "      <td>0</td>\n",
              "      <td>0</td>\n",
              "      <td>0</td>\n",
              "      <td>1</td>\n",
              "      <td>0</td>\n",
              "      <td>0</td>\n",
              "      <td>0</td>\n",
              "      <td>0</td>\n",
              "      <td>0</td>\n",
              "      <td>0</td>\n",
              "      <td>0</td>\n",
              "      <td>1</td>\n",
              "      <td>0</td>\n",
              "      <td>0</td>\n",
              "      <td>0</td>\n",
              "      <td>0</td>\n",
              "      <td>0</td>\n",
              "      <td>1</td>\n",
              "      <td>0</td>\n",
              "      <td>0</td>\n",
              "      <td>1</td>\n",
              "      <td>0</td>\n",
              "      <td>0</td>\n",
              "      <td>0</td>\n",
              "      <td>1</td>\n",
              "      <td>0</td>\n",
              "      <td>0</td>\n",
              "    </tr>\n",
              "    <tr>\n",
              "      <th>17910</th>\n",
              "      <td>0.4</td>\n",
              "      <td>0.00</td>\n",
              "      <td>0.400000</td>\n",
              "      <td>1</td>\n",
              "      <td>0</td>\n",
              "      <td>0</td>\n",
              "      <td>0</td>\n",
              "      <td>0</td>\n",
              "      <td>1</td>\n",
              "      <td>0</td>\n",
              "      <td>0</td>\n",
              "      <td>0</td>\n",
              "      <td>0</td>\n",
              "      <td>0</td>\n",
              "      <td>0</td>\n",
              "      <td>1</td>\n",
              "      <td>0</td>\n",
              "      <td>0</td>\n",
              "      <td>0</td>\n",
              "      <td>0</td>\n",
              "      <td>0</td>\n",
              "      <td>0</td>\n",
              "      <td>0</td>\n",
              "      <td>0</td>\n",
              "      <td>0</td>\n",
              "      <td>0</td>\n",
              "      <td>1</td>\n",
              "      <td>0</td>\n",
              "      <td>0</td>\n",
              "      <td>0</td>\n",
              "      <td>0</td>\n",
              "      <td>0</td>\n",
              "      <td>0</td>\n",
              "      <td>1</td>\n",
              "      <td>0</td>\n",
              "      <td>0</td>\n",
              "      <td>1</td>\n",
              "      <td>0</td>\n",
              "      <td>0</td>\n",
              "      <td>1</td>\n",
              "      <td>...</td>\n",
              "      <td>0</td>\n",
              "      <td>0</td>\n",
              "      <td>0</td>\n",
              "      <td>1</td>\n",
              "      <td>0</td>\n",
              "      <td>0</td>\n",
              "      <td>0</td>\n",
              "      <td>0</td>\n",
              "      <td>0</td>\n",
              "      <td>0</td>\n",
              "      <td>0</td>\n",
              "      <td>1</td>\n",
              "      <td>0</td>\n",
              "      <td>0</td>\n",
              "      <td>0</td>\n",
              "      <td>1</td>\n",
              "      <td>0</td>\n",
              "      <td>0</td>\n",
              "      <td>0</td>\n",
              "      <td>0</td>\n",
              "      <td>0</td>\n",
              "      <td>0</td>\n",
              "      <td>0</td>\n",
              "      <td>0</td>\n",
              "      <td>0</td>\n",
              "      <td>0</td>\n",
              "      <td>0</td>\n",
              "      <td>0</td>\n",
              "      <td>0</td>\n",
              "      <td>1</td>\n",
              "      <td>0</td>\n",
              "      <td>1</td>\n",
              "      <td>0</td>\n",
              "      <td>1</td>\n",
              "      <td>0</td>\n",
              "      <td>0</td>\n",
              "      <td>0</td>\n",
              "      <td>0</td>\n",
              "      <td>1</td>\n",
              "      <td>0</td>\n",
              "    </tr>\n",
              "    <tr>\n",
              "      <th>...</th>\n",
              "      <td>...</td>\n",
              "      <td>...</td>\n",
              "      <td>...</td>\n",
              "      <td>...</td>\n",
              "      <td>...</td>\n",
              "      <td>...</td>\n",
              "      <td>...</td>\n",
              "      <td>...</td>\n",
              "      <td>...</td>\n",
              "      <td>...</td>\n",
              "      <td>...</td>\n",
              "      <td>...</td>\n",
              "      <td>...</td>\n",
              "      <td>...</td>\n",
              "      <td>...</td>\n",
              "      <td>...</td>\n",
              "      <td>...</td>\n",
              "      <td>...</td>\n",
              "      <td>...</td>\n",
              "      <td>...</td>\n",
              "      <td>...</td>\n",
              "      <td>...</td>\n",
              "      <td>...</td>\n",
              "      <td>...</td>\n",
              "      <td>...</td>\n",
              "      <td>...</td>\n",
              "      <td>...</td>\n",
              "      <td>...</td>\n",
              "      <td>...</td>\n",
              "      <td>...</td>\n",
              "      <td>...</td>\n",
              "      <td>...</td>\n",
              "      <td>...</td>\n",
              "      <td>...</td>\n",
              "      <td>...</td>\n",
              "      <td>...</td>\n",
              "      <td>...</td>\n",
              "      <td>...</td>\n",
              "      <td>...</td>\n",
              "      <td>...</td>\n",
              "      <td>...</td>\n",
              "      <td>...</td>\n",
              "      <td>...</td>\n",
              "      <td>...</td>\n",
              "      <td>...</td>\n",
              "      <td>...</td>\n",
              "      <td>...</td>\n",
              "      <td>...</td>\n",
              "      <td>...</td>\n",
              "      <td>...</td>\n",
              "      <td>...</td>\n",
              "      <td>...</td>\n",
              "      <td>...</td>\n",
              "      <td>...</td>\n",
              "      <td>...</td>\n",
              "      <td>...</td>\n",
              "      <td>...</td>\n",
              "      <td>...</td>\n",
              "      <td>...</td>\n",
              "      <td>...</td>\n",
              "      <td>...</td>\n",
              "      <td>...</td>\n",
              "      <td>...</td>\n",
              "      <td>...</td>\n",
              "      <td>...</td>\n",
              "      <td>...</td>\n",
              "      <td>...</td>\n",
              "      <td>...</td>\n",
              "      <td>...</td>\n",
              "      <td>...</td>\n",
              "      <td>...</td>\n",
              "      <td>...</td>\n",
              "      <td>...</td>\n",
              "      <td>...</td>\n",
              "      <td>...</td>\n",
              "      <td>...</td>\n",
              "      <td>...</td>\n",
              "      <td>...</td>\n",
              "      <td>...</td>\n",
              "      <td>...</td>\n",
              "      <td>...</td>\n",
              "    </tr>\n",
              "    <tr>\n",
              "      <th>19483</th>\n",
              "      <td>0.5</td>\n",
              "      <td>0.50</td>\n",
              "      <td>0.250000</td>\n",
              "      <td>0</td>\n",
              "      <td>0</td>\n",
              "      <td>1</td>\n",
              "      <td>0</td>\n",
              "      <td>0</td>\n",
              "      <td>0</td>\n",
              "      <td>0</td>\n",
              "      <td>1</td>\n",
              "      <td>0</td>\n",
              "      <td>0</td>\n",
              "      <td>0</td>\n",
              "      <td>0</td>\n",
              "      <td>1</td>\n",
              "      <td>0</td>\n",
              "      <td>0</td>\n",
              "      <td>1</td>\n",
              "      <td>1</td>\n",
              "      <td>0</td>\n",
              "      <td>0</td>\n",
              "      <td>0</td>\n",
              "      <td>0</td>\n",
              "      <td>1</td>\n",
              "      <td>0</td>\n",
              "      <td>1</td>\n",
              "      <td>0</td>\n",
              "      <td>0</td>\n",
              "      <td>0</td>\n",
              "      <td>0</td>\n",
              "      <td>0</td>\n",
              "      <td>0</td>\n",
              "      <td>1</td>\n",
              "      <td>0</td>\n",
              "      <td>0</td>\n",
              "      <td>0</td>\n",
              "      <td>0</td>\n",
              "      <td>1</td>\n",
              "      <td>0</td>\n",
              "      <td>...</td>\n",
              "      <td>0</td>\n",
              "      <td>0</td>\n",
              "      <td>0</td>\n",
              "      <td>1</td>\n",
              "      <td>0</td>\n",
              "      <td>0</td>\n",
              "      <td>0</td>\n",
              "      <td>0</td>\n",
              "      <td>0</td>\n",
              "      <td>1</td>\n",
              "      <td>0</td>\n",
              "      <td>0</td>\n",
              "      <td>0</td>\n",
              "      <td>0</td>\n",
              "      <td>0</td>\n",
              "      <td>0</td>\n",
              "      <td>1</td>\n",
              "      <td>0</td>\n",
              "      <td>0</td>\n",
              "      <td>0</td>\n",
              "      <td>0</td>\n",
              "      <td>0</td>\n",
              "      <td>0</td>\n",
              "      <td>0</td>\n",
              "      <td>0</td>\n",
              "      <td>1</td>\n",
              "      <td>0</td>\n",
              "      <td>0</td>\n",
              "      <td>0</td>\n",
              "      <td>0</td>\n",
              "      <td>0</td>\n",
              "      <td>0</td>\n",
              "      <td>1</td>\n",
              "      <td>0</td>\n",
              "      <td>0</td>\n",
              "      <td>1</td>\n",
              "      <td>0</td>\n",
              "      <td>0</td>\n",
              "      <td>1</td>\n",
              "      <td>0</td>\n",
              "    </tr>\n",
              "    <tr>\n",
              "      <th>29418</th>\n",
              "      <td>1.0</td>\n",
              "      <td>0.00</td>\n",
              "      <td>1.000000</td>\n",
              "      <td>0</td>\n",
              "      <td>0</td>\n",
              "      <td>0</td>\n",
              "      <td>0</td>\n",
              "      <td>1</td>\n",
              "      <td>1</td>\n",
              "      <td>0</td>\n",
              "      <td>0</td>\n",
              "      <td>0</td>\n",
              "      <td>0</td>\n",
              "      <td>0</td>\n",
              "      <td>0</td>\n",
              "      <td>1</td>\n",
              "      <td>0</td>\n",
              "      <td>1</td>\n",
              "      <td>0</td>\n",
              "      <td>1</td>\n",
              "      <td>0</td>\n",
              "      <td>0</td>\n",
              "      <td>0</td>\n",
              "      <td>1</td>\n",
              "      <td>0</td>\n",
              "      <td>0</td>\n",
              "      <td>1</td>\n",
              "      <td>0</td>\n",
              "      <td>0</td>\n",
              "      <td>0</td>\n",
              "      <td>0</td>\n",
              "      <td>0</td>\n",
              "      <td>1</td>\n",
              "      <td>0</td>\n",
              "      <td>0</td>\n",
              "      <td>0</td>\n",
              "      <td>0</td>\n",
              "      <td>0</td>\n",
              "      <td>1</td>\n",
              "      <td>1</td>\n",
              "      <td>...</td>\n",
              "      <td>0</td>\n",
              "      <td>0</td>\n",
              "      <td>1</td>\n",
              "      <td>0</td>\n",
              "      <td>1</td>\n",
              "      <td>0</td>\n",
              "      <td>0</td>\n",
              "      <td>1</td>\n",
              "      <td>0</td>\n",
              "      <td>0</td>\n",
              "      <td>0</td>\n",
              "      <td>0</td>\n",
              "      <td>0</td>\n",
              "      <td>0</td>\n",
              "      <td>0</td>\n",
              "      <td>0</td>\n",
              "      <td>0</td>\n",
              "      <td>0</td>\n",
              "      <td>0</td>\n",
              "      <td>0</td>\n",
              "      <td>0</td>\n",
              "      <td>1</td>\n",
              "      <td>0</td>\n",
              "      <td>0</td>\n",
              "      <td>0</td>\n",
              "      <td>0</td>\n",
              "      <td>0</td>\n",
              "      <td>0</td>\n",
              "      <td>0</td>\n",
              "      <td>0</td>\n",
              "      <td>1</td>\n",
              "      <td>0</td>\n",
              "      <td>0</td>\n",
              "      <td>1</td>\n",
              "      <td>0</td>\n",
              "      <td>0</td>\n",
              "      <td>0</td>\n",
              "      <td>1</td>\n",
              "      <td>0</td>\n",
              "      <td>0</td>\n",
              "    </tr>\n",
              "    <tr>\n",
              "      <th>28658</th>\n",
              "      <td>1.0</td>\n",
              "      <td>0.00</td>\n",
              "      <td>0.333333</td>\n",
              "      <td>0</td>\n",
              "      <td>1</td>\n",
              "      <td>0</td>\n",
              "      <td>0</td>\n",
              "      <td>0</td>\n",
              "      <td>1</td>\n",
              "      <td>0</td>\n",
              "      <td>0</td>\n",
              "      <td>0</td>\n",
              "      <td>0</td>\n",
              "      <td>0</td>\n",
              "      <td>0</td>\n",
              "      <td>0</td>\n",
              "      <td>1</td>\n",
              "      <td>0</td>\n",
              "      <td>0</td>\n",
              "      <td>0</td>\n",
              "      <td>0</td>\n",
              "      <td>0</td>\n",
              "      <td>0</td>\n",
              "      <td>0</td>\n",
              "      <td>0</td>\n",
              "      <td>0</td>\n",
              "      <td>1</td>\n",
              "      <td>0</td>\n",
              "      <td>0</td>\n",
              "      <td>0</td>\n",
              "      <td>1</td>\n",
              "      <td>0</td>\n",
              "      <td>0</td>\n",
              "      <td>0</td>\n",
              "      <td>0</td>\n",
              "      <td>0</td>\n",
              "      <td>0</td>\n",
              "      <td>0</td>\n",
              "      <td>1</td>\n",
              "      <td>1</td>\n",
              "      <td>...</td>\n",
              "      <td>0</td>\n",
              "      <td>0</td>\n",
              "      <td>0</td>\n",
              "      <td>1</td>\n",
              "      <td>0</td>\n",
              "      <td>0</td>\n",
              "      <td>1</td>\n",
              "      <td>0</td>\n",
              "      <td>0</td>\n",
              "      <td>0</td>\n",
              "      <td>0</td>\n",
              "      <td>0</td>\n",
              "      <td>0</td>\n",
              "      <td>0</td>\n",
              "      <td>0</td>\n",
              "      <td>0</td>\n",
              "      <td>0</td>\n",
              "      <td>0</td>\n",
              "      <td>0</td>\n",
              "      <td>0</td>\n",
              "      <td>0</td>\n",
              "      <td>0</td>\n",
              "      <td>1</td>\n",
              "      <td>0</td>\n",
              "      <td>0</td>\n",
              "      <td>0</td>\n",
              "      <td>0</td>\n",
              "      <td>0</td>\n",
              "      <td>0</td>\n",
              "      <td>0</td>\n",
              "      <td>1</td>\n",
              "      <td>0</td>\n",
              "      <td>0</td>\n",
              "      <td>1</td>\n",
              "      <td>0</td>\n",
              "      <td>0</td>\n",
              "      <td>0</td>\n",
              "      <td>0</td>\n",
              "      <td>1</td>\n",
              "      <td>0</td>\n",
              "    </tr>\n",
              "    <tr>\n",
              "      <th>26759</th>\n",
              "      <td>1.0</td>\n",
              "      <td>0.00</td>\n",
              "      <td>0.000000</td>\n",
              "      <td>1</td>\n",
              "      <td>0</td>\n",
              "      <td>0</td>\n",
              "      <td>0</td>\n",
              "      <td>0</td>\n",
              "      <td>1</td>\n",
              "      <td>0</td>\n",
              "      <td>0</td>\n",
              "      <td>0</td>\n",
              "      <td>0</td>\n",
              "      <td>0</td>\n",
              "      <td>0</td>\n",
              "      <td>0</td>\n",
              "      <td>1</td>\n",
              "      <td>0</td>\n",
              "      <td>0</td>\n",
              "      <td>0</td>\n",
              "      <td>0</td>\n",
              "      <td>0</td>\n",
              "      <td>0</td>\n",
              "      <td>0</td>\n",
              "      <td>0</td>\n",
              "      <td>0</td>\n",
              "      <td>1</td>\n",
              "      <td>0</td>\n",
              "      <td>0</td>\n",
              "      <td>0</td>\n",
              "      <td>1</td>\n",
              "      <td>0</td>\n",
              "      <td>0</td>\n",
              "      <td>0</td>\n",
              "      <td>0</td>\n",
              "      <td>0</td>\n",
              "      <td>0</td>\n",
              "      <td>0</td>\n",
              "      <td>1</td>\n",
              "      <td>0</td>\n",
              "      <td>...</td>\n",
              "      <td>1</td>\n",
              "      <td>0</td>\n",
              "      <td>0</td>\n",
              "      <td>1</td>\n",
              "      <td>0</td>\n",
              "      <td>0</td>\n",
              "      <td>0</td>\n",
              "      <td>0</td>\n",
              "      <td>0</td>\n",
              "      <td>0</td>\n",
              "      <td>0</td>\n",
              "      <td>0</td>\n",
              "      <td>0</td>\n",
              "      <td>0</td>\n",
              "      <td>1</td>\n",
              "      <td>0</td>\n",
              "      <td>0</td>\n",
              "      <td>0</td>\n",
              "      <td>0</td>\n",
              "      <td>0</td>\n",
              "      <td>0</td>\n",
              "      <td>0</td>\n",
              "      <td>1</td>\n",
              "      <td>0</td>\n",
              "      <td>0</td>\n",
              "      <td>0</td>\n",
              "      <td>0</td>\n",
              "      <td>0</td>\n",
              "      <td>0</td>\n",
              "      <td>0</td>\n",
              "      <td>1</td>\n",
              "      <td>0</td>\n",
              "      <td>0</td>\n",
              "      <td>1</td>\n",
              "      <td>0</td>\n",
              "      <td>0</td>\n",
              "      <td>1</td>\n",
              "      <td>0</td>\n",
              "      <td>0</td>\n",
              "      <td>0</td>\n",
              "    </tr>\n",
              "    <tr>\n",
              "      <th>20501</th>\n",
              "      <td>1.0</td>\n",
              "      <td>0.00</td>\n",
              "      <td>0.000000</td>\n",
              "      <td>0</td>\n",
              "      <td>0</td>\n",
              "      <td>1</td>\n",
              "      <td>0</td>\n",
              "      <td>0</td>\n",
              "      <td>1</td>\n",
              "      <td>0</td>\n",
              "      <td>0</td>\n",
              "      <td>0</td>\n",
              "      <td>0</td>\n",
              "      <td>0</td>\n",
              "      <td>0</td>\n",
              "      <td>1</td>\n",
              "      <td>0</td>\n",
              "      <td>0</td>\n",
              "      <td>0</td>\n",
              "      <td>0</td>\n",
              "      <td>0</td>\n",
              "      <td>0</td>\n",
              "      <td>0</td>\n",
              "      <td>0</td>\n",
              "      <td>0</td>\n",
              "      <td>0</td>\n",
              "      <td>0</td>\n",
              "      <td>1</td>\n",
              "      <td>0</td>\n",
              "      <td>1</td>\n",
              "      <td>0</td>\n",
              "      <td>0</td>\n",
              "      <td>0</td>\n",
              "      <td>0</td>\n",
              "      <td>0</td>\n",
              "      <td>0</td>\n",
              "      <td>0</td>\n",
              "      <td>1</td>\n",
              "      <td>0</td>\n",
              "      <td>1</td>\n",
              "      <td>...</td>\n",
              "      <td>1</td>\n",
              "      <td>0</td>\n",
              "      <td>0</td>\n",
              "      <td>1</td>\n",
              "      <td>0</td>\n",
              "      <td>0</td>\n",
              "      <td>0</td>\n",
              "      <td>1</td>\n",
              "      <td>0</td>\n",
              "      <td>0</td>\n",
              "      <td>0</td>\n",
              "      <td>0</td>\n",
              "      <td>0</td>\n",
              "      <td>0</td>\n",
              "      <td>0</td>\n",
              "      <td>0</td>\n",
              "      <td>1</td>\n",
              "      <td>0</td>\n",
              "      <td>0</td>\n",
              "      <td>0</td>\n",
              "      <td>0</td>\n",
              "      <td>0</td>\n",
              "      <td>0</td>\n",
              "      <td>0</td>\n",
              "      <td>0</td>\n",
              "      <td>0</td>\n",
              "      <td>0</td>\n",
              "      <td>0</td>\n",
              "      <td>0</td>\n",
              "      <td>0</td>\n",
              "      <td>1</td>\n",
              "      <td>0</td>\n",
              "      <td>0</td>\n",
              "      <td>1</td>\n",
              "      <td>0</td>\n",
              "      <td>0</td>\n",
              "      <td>1</td>\n",
              "      <td>0</td>\n",
              "      <td>0</td>\n",
              "      <td>0</td>\n",
              "    </tr>\n",
              "  </tbody>\n",
              "</table>\n",
              "<p>6030 rows × 115 columns</p>\n",
              "</div>"
            ],
            "text/plain": [
              "       NUMADLT  ...  WRKCOUNT_ratio_more_than_0.5\n",
              "23586      0.5  ...                             1\n",
              "27418      1.0  ...                             1\n",
              "8894       0.5  ...                             0\n",
              "512        1.0  ...                             0\n",
              "17910      0.4  ...                             0\n",
              "...        ...  ...                           ...\n",
              "19483      0.5  ...                             0\n",
              "29418      1.0  ...                             0\n",
              "28658      1.0  ...                             0\n",
              "26759      1.0  ...                             0\n",
              "20501      1.0  ...                             0\n",
              "\n",
              "[6030 rows x 115 columns]"
            ]
          },
          "metadata": {
            "tags": []
          },
          "execution_count": 87
        }
      ]
    },
    {
      "cell_type": "code",
      "metadata": {
        "colab": {
          "base_uri": "https://localhost:8080/",
          "height": 456
        },
        "id": "FuEnFtu1kQA4",
        "outputId": "0eda50c4-9c5c-43f1-d46f-95076c696b39"
      },
      "source": [
        "x_test_with_dist"
      ],
      "execution_count": 88,
      "outputs": [
        {
          "output_type": "execute_result",
          "data": {
            "text/html": [
              "<div>\n",
              "<style scoped>\n",
              "    .dataframe tbody tr th:only-of-type {\n",
              "        vertical-align: middle;\n",
              "    }\n",
              "\n",
              "    .dataframe tbody tr th {\n",
              "        vertical-align: top;\n",
              "    }\n",
              "\n",
              "    .dataframe thead th {\n",
              "        text-align: right;\n",
              "    }\n",
              "</style>\n",
              "<table border=\"1\" class=\"dataframe\">\n",
              "  <thead>\n",
              "    <tr style=\"text-align: right;\">\n",
              "      <th></th>\n",
              "      <th>NUMADLT</th>\n",
              "      <th>YOUNGCHILD</th>\n",
              "      <th>WRKCOUNT</th>\n",
              "      <th>EDUC_1</th>\n",
              "      <th>EDUC_2</th>\n",
              "      <th>EDUC_3</th>\n",
              "      <th>EDUC_4</th>\n",
              "      <th>EDUC_5</th>\n",
              "      <th>R_RACE_1</th>\n",
              "      <th>R_RACE_2</th>\n",
              "      <th>R_RACE_3</th>\n",
              "      <th>R_RACE_4</th>\n",
              "      <th>R_RACE_5</th>\n",
              "      <th>R_RACE_6</th>\n",
              "      <th>R_RACE_97</th>\n",
              "      <th>R_SEX_1</th>\n",
              "      <th>R_SEX_2</th>\n",
              "      <th>WRK_HOME_1</th>\n",
              "      <th>WRK_HOME_2</th>\n",
              "      <th>WKFTPT_1</th>\n",
              "      <th>WKFTPT_2</th>\n",
              "      <th>OCCAT_1</th>\n",
              "      <th>OCCAT_2</th>\n",
              "      <th>OCCAT_3</th>\n",
              "      <th>OCCAT_4</th>\n",
              "      <th>OCCAT_97</th>\n",
              "      <th>DRIVER_1</th>\n",
              "      <th>DRIVER_2</th>\n",
              "      <th>TRAVDAY_1</th>\n",
              "      <th>TRAVDAY_2</th>\n",
              "      <th>TRAVDAY_3</th>\n",
              "      <th>TRAVDAY_4</th>\n",
              "      <th>TRAVDAY_5</th>\n",
              "      <th>TRAVDAY_6</th>\n",
              "      <th>TRAVDAY_7</th>\n",
              "      <th>HH_CBSA_15380</th>\n",
              "      <th>HH_CBSA_35620</th>\n",
              "      <th>HH_CBSA_40380</th>\n",
              "      <th>HH_CBSA_XXXXX</th>\n",
              "      <th>HOMEOWN_1</th>\n",
              "      <th>...</th>\n",
              "      <th>DISTTOWK_DISTTOWK_12_to_22</th>\n",
              "      <th>DISTTOWK_DISTTOWK_3_to_7</th>\n",
              "      <th>DISTTOWK_DISTTOWK_7_to_12</th>\n",
              "      <th>DISTTOWK_DISTTOWK_above_22</th>\n",
              "      <th>DISTTOSC_DISTTOSC_above_3</th>\n",
              "      <th>DISTTOSC_DISTTOSC_under_3</th>\n",
              "      <th>NUMADLT_ratio_1</th>\n",
              "      <th>NUMADLT_ratio_less_than_0.5</th>\n",
              "      <th>NUMADLT_ratio_more_than_0.5</th>\n",
              "      <th>YOUNGCHILD_ratio_0</th>\n",
              "      <th>YOUNGCHILD_ratio_less_than_0.5</th>\n",
              "      <th>YOUNGCHILD_ratio_more_than_0.5</th>\n",
              "      <th>WRKCOUNT_ratio_0</th>\n",
              "      <th>WRKCOUNT_ratio_1</th>\n",
              "      <th>WRKCOUNT_ratio_less_than_0.5</th>\n",
              "      <th>WRKCOUNT_ratio_more_than_0.5</th>\n",
              "      <th>dist_to_work_(0.0, 2.0]</th>\n",
              "      <th>dist_to_work_(10.0, 3621.0]</th>\n",
              "      <th>dist_to_work_(2.0, 4.0]</th>\n",
              "      <th>dist_to_work_(4.0, 10.0]</th>\n",
              "      <th>dist_to_shopping_(0.0, 2.0]</th>\n",
              "      <th>dist_to_shopping_(10.0, 3621.0]</th>\n",
              "      <th>dist_to_shopping_(2.0, 4.0]</th>\n",
              "      <th>dist_to_shopping_(4.0, 10.0]</th>\n",
              "      <th>dist_to_family_(0.0, 2.0]</th>\n",
              "      <th>dist_to_family_(10.0, 3621.0]</th>\n",
              "      <th>dist_to_family_(2.0, 4.0]</th>\n",
              "      <th>dist_to_family_(4.0, 10.0]</th>\n",
              "      <th>dist_to_school_or_church_(0.0, 2.0]</th>\n",
              "      <th>dist_to_school_or_church_(10.0, 3621.0]</th>\n",
              "      <th>dist_to_school_or_church_(2.0, 4.0]</th>\n",
              "      <th>dist_to_school_or_church_(4.0, 10.0]</th>\n",
              "      <th>dist_to_relatives_(0.0, 2.0]</th>\n",
              "      <th>dist_to_relatives_(10.0, 3621.0]</th>\n",
              "      <th>dist_to_relatives_(2.0, 4.0]</th>\n",
              "      <th>dist_to_relatives_(4.0, 10.0]</th>\n",
              "      <th>dist_to_social_(0.0, 2.0]</th>\n",
              "      <th>dist_to_social_(10.0, 3621.0]</th>\n",
              "      <th>dist_to_social_(2.0, 4.0]</th>\n",
              "      <th>dist_to_social_(4.0, 10.0]</th>\n",
              "    </tr>\n",
              "  </thead>\n",
              "  <tbody>\n",
              "    <tr>\n",
              "      <th>23586</th>\n",
              "      <td>0.5</td>\n",
              "      <td>0.25</td>\n",
              "      <td>0.500000</td>\n",
              "      <td>0</td>\n",
              "      <td>0</td>\n",
              "      <td>0</td>\n",
              "      <td>1</td>\n",
              "      <td>0</td>\n",
              "      <td>1</td>\n",
              "      <td>0</td>\n",
              "      <td>0</td>\n",
              "      <td>0</td>\n",
              "      <td>0</td>\n",
              "      <td>0</td>\n",
              "      <td>0</td>\n",
              "      <td>1</td>\n",
              "      <td>0</td>\n",
              "      <td>0</td>\n",
              "      <td>1</td>\n",
              "      <td>1</td>\n",
              "      <td>0</td>\n",
              "      <td>0</td>\n",
              "      <td>0</td>\n",
              "      <td>0</td>\n",
              "      <td>1</td>\n",
              "      <td>0</td>\n",
              "      <td>1</td>\n",
              "      <td>0</td>\n",
              "      <td>0</td>\n",
              "      <td>1</td>\n",
              "      <td>0</td>\n",
              "      <td>0</td>\n",
              "      <td>0</td>\n",
              "      <td>0</td>\n",
              "      <td>0</td>\n",
              "      <td>0</td>\n",
              "      <td>1</td>\n",
              "      <td>0</td>\n",
              "      <td>0</td>\n",
              "      <td>1</td>\n",
              "      <td>...</td>\n",
              "      <td>0</td>\n",
              "      <td>0</td>\n",
              "      <td>0</td>\n",
              "      <td>1</td>\n",
              "      <td>0</td>\n",
              "      <td>0</td>\n",
              "      <td>0</td>\n",
              "      <td>0</td>\n",
              "      <td>1</td>\n",
              "      <td>0</td>\n",
              "      <td>1</td>\n",
              "      <td>0</td>\n",
              "      <td>0</td>\n",
              "      <td>0</td>\n",
              "      <td>0</td>\n",
              "      <td>1</td>\n",
              "      <td>0</td>\n",
              "      <td>1</td>\n",
              "      <td>0</td>\n",
              "      <td>0</td>\n",
              "      <td>0</td>\n",
              "      <td>0</td>\n",
              "      <td>0</td>\n",
              "      <td>0</td>\n",
              "      <td>0</td>\n",
              "      <td>0</td>\n",
              "      <td>0</td>\n",
              "      <td>0</td>\n",
              "      <td>0</td>\n",
              "      <td>0</td>\n",
              "      <td>0</td>\n",
              "      <td>0</td>\n",
              "      <td>0</td>\n",
              "      <td>0</td>\n",
              "      <td>0</td>\n",
              "      <td>0</td>\n",
              "      <td>0</td>\n",
              "      <td>0</td>\n",
              "      <td>0</td>\n",
              "      <td>0</td>\n",
              "    </tr>\n",
              "    <tr>\n",
              "      <th>27418</th>\n",
              "      <td>1.0</td>\n",
              "      <td>0.00</td>\n",
              "      <td>0.500000</td>\n",
              "      <td>0</td>\n",
              "      <td>0</td>\n",
              "      <td>0</td>\n",
              "      <td>0</td>\n",
              "      <td>1</td>\n",
              "      <td>1</td>\n",
              "      <td>0</td>\n",
              "      <td>0</td>\n",
              "      <td>0</td>\n",
              "      <td>0</td>\n",
              "      <td>0</td>\n",
              "      <td>0</td>\n",
              "      <td>1</td>\n",
              "      <td>0</td>\n",
              "      <td>0</td>\n",
              "      <td>0</td>\n",
              "      <td>0</td>\n",
              "      <td>0</td>\n",
              "      <td>0</td>\n",
              "      <td>0</td>\n",
              "      <td>0</td>\n",
              "      <td>0</td>\n",
              "      <td>0</td>\n",
              "      <td>1</td>\n",
              "      <td>0</td>\n",
              "      <td>0</td>\n",
              "      <td>0</td>\n",
              "      <td>0</td>\n",
              "      <td>0</td>\n",
              "      <td>1</td>\n",
              "      <td>0</td>\n",
              "      <td>0</td>\n",
              "      <td>0</td>\n",
              "      <td>1</td>\n",
              "      <td>0</td>\n",
              "      <td>0</td>\n",
              "      <td>1</td>\n",
              "      <td>...</td>\n",
              "      <td>0</td>\n",
              "      <td>0</td>\n",
              "      <td>0</td>\n",
              "      <td>0</td>\n",
              "      <td>0</td>\n",
              "      <td>0</td>\n",
              "      <td>1</td>\n",
              "      <td>0</td>\n",
              "      <td>0</td>\n",
              "      <td>1</td>\n",
              "      <td>0</td>\n",
              "      <td>0</td>\n",
              "      <td>0</td>\n",
              "      <td>0</td>\n",
              "      <td>0</td>\n",
              "      <td>1</td>\n",
              "      <td>0</td>\n",
              "      <td>0</td>\n",
              "      <td>0</td>\n",
              "      <td>0</td>\n",
              "      <td>0</td>\n",
              "      <td>0</td>\n",
              "      <td>0</td>\n",
              "      <td>0</td>\n",
              "      <td>0</td>\n",
              "      <td>0</td>\n",
              "      <td>0</td>\n",
              "      <td>0</td>\n",
              "      <td>0</td>\n",
              "      <td>0</td>\n",
              "      <td>0</td>\n",
              "      <td>0</td>\n",
              "      <td>0</td>\n",
              "      <td>0</td>\n",
              "      <td>0</td>\n",
              "      <td>0</td>\n",
              "      <td>0</td>\n",
              "      <td>1</td>\n",
              "      <td>0</td>\n",
              "      <td>0</td>\n",
              "    </tr>\n",
              "    <tr>\n",
              "      <th>8894</th>\n",
              "      <td>0.5</td>\n",
              "      <td>0.00</td>\n",
              "      <td>0.250000</td>\n",
              "      <td>0</td>\n",
              "      <td>0</td>\n",
              "      <td>0</td>\n",
              "      <td>0</td>\n",
              "      <td>1</td>\n",
              "      <td>1</td>\n",
              "      <td>0</td>\n",
              "      <td>0</td>\n",
              "      <td>0</td>\n",
              "      <td>0</td>\n",
              "      <td>0</td>\n",
              "      <td>0</td>\n",
              "      <td>0</td>\n",
              "      <td>1</td>\n",
              "      <td>0</td>\n",
              "      <td>0</td>\n",
              "      <td>0</td>\n",
              "      <td>0</td>\n",
              "      <td>0</td>\n",
              "      <td>0</td>\n",
              "      <td>0</td>\n",
              "      <td>0</td>\n",
              "      <td>0</td>\n",
              "      <td>1</td>\n",
              "      <td>0</td>\n",
              "      <td>0</td>\n",
              "      <td>0</td>\n",
              "      <td>0</td>\n",
              "      <td>0</td>\n",
              "      <td>0</td>\n",
              "      <td>0</td>\n",
              "      <td>1</td>\n",
              "      <td>0</td>\n",
              "      <td>0</td>\n",
              "      <td>0</td>\n",
              "      <td>1</td>\n",
              "      <td>1</td>\n",
              "      <td>...</td>\n",
              "      <td>0</td>\n",
              "      <td>0</td>\n",
              "      <td>0</td>\n",
              "      <td>0</td>\n",
              "      <td>0</td>\n",
              "      <td>0</td>\n",
              "      <td>0</td>\n",
              "      <td>0</td>\n",
              "      <td>1</td>\n",
              "      <td>1</td>\n",
              "      <td>0</td>\n",
              "      <td>0</td>\n",
              "      <td>0</td>\n",
              "      <td>0</td>\n",
              "      <td>1</td>\n",
              "      <td>0</td>\n",
              "      <td>0</td>\n",
              "      <td>0</td>\n",
              "      <td>0</td>\n",
              "      <td>0</td>\n",
              "      <td>0</td>\n",
              "      <td>0</td>\n",
              "      <td>0</td>\n",
              "      <td>0</td>\n",
              "      <td>0</td>\n",
              "      <td>0</td>\n",
              "      <td>0</td>\n",
              "      <td>0</td>\n",
              "      <td>0</td>\n",
              "      <td>0</td>\n",
              "      <td>0</td>\n",
              "      <td>0</td>\n",
              "      <td>0</td>\n",
              "      <td>0</td>\n",
              "      <td>0</td>\n",
              "      <td>0</td>\n",
              "      <td>0</td>\n",
              "      <td>0</td>\n",
              "      <td>0</td>\n",
              "      <td>0</td>\n",
              "    </tr>\n",
              "    <tr>\n",
              "      <th>512</th>\n",
              "      <td>1.0</td>\n",
              "      <td>0.00</td>\n",
              "      <td>1.000000</td>\n",
              "      <td>0</td>\n",
              "      <td>0</td>\n",
              "      <td>0</td>\n",
              "      <td>1</td>\n",
              "      <td>0</td>\n",
              "      <td>1</td>\n",
              "      <td>0</td>\n",
              "      <td>0</td>\n",
              "      <td>0</td>\n",
              "      <td>0</td>\n",
              "      <td>0</td>\n",
              "      <td>0</td>\n",
              "      <td>0</td>\n",
              "      <td>1</td>\n",
              "      <td>0</td>\n",
              "      <td>1</td>\n",
              "      <td>1</td>\n",
              "      <td>0</td>\n",
              "      <td>0</td>\n",
              "      <td>1</td>\n",
              "      <td>0</td>\n",
              "      <td>0</td>\n",
              "      <td>0</td>\n",
              "      <td>1</td>\n",
              "      <td>0</td>\n",
              "      <td>0</td>\n",
              "      <td>1</td>\n",
              "      <td>0</td>\n",
              "      <td>0</td>\n",
              "      <td>0</td>\n",
              "      <td>0</td>\n",
              "      <td>0</td>\n",
              "      <td>0</td>\n",
              "      <td>0</td>\n",
              "      <td>0</td>\n",
              "      <td>1</td>\n",
              "      <td>0</td>\n",
              "      <td>...</td>\n",
              "      <td>1</td>\n",
              "      <td>0</td>\n",
              "      <td>0</td>\n",
              "      <td>0</td>\n",
              "      <td>0</td>\n",
              "      <td>0</td>\n",
              "      <td>1</td>\n",
              "      <td>0</td>\n",
              "      <td>0</td>\n",
              "      <td>1</td>\n",
              "      <td>0</td>\n",
              "      <td>0</td>\n",
              "      <td>0</td>\n",
              "      <td>1</td>\n",
              "      <td>0</td>\n",
              "      <td>0</td>\n",
              "      <td>0</td>\n",
              "      <td>1</td>\n",
              "      <td>0</td>\n",
              "      <td>0</td>\n",
              "      <td>0</td>\n",
              "      <td>0</td>\n",
              "      <td>0</td>\n",
              "      <td>0</td>\n",
              "      <td>0</td>\n",
              "      <td>0</td>\n",
              "      <td>0</td>\n",
              "      <td>0</td>\n",
              "      <td>0</td>\n",
              "      <td>0</td>\n",
              "      <td>0</td>\n",
              "      <td>1</td>\n",
              "      <td>1</td>\n",
              "      <td>0</td>\n",
              "      <td>0</td>\n",
              "      <td>0</td>\n",
              "      <td>0</td>\n",
              "      <td>0</td>\n",
              "      <td>0</td>\n",
              "      <td>0</td>\n",
              "    </tr>\n",
              "    <tr>\n",
              "      <th>17910</th>\n",
              "      <td>0.4</td>\n",
              "      <td>0.00</td>\n",
              "      <td>0.400000</td>\n",
              "      <td>1</td>\n",
              "      <td>0</td>\n",
              "      <td>0</td>\n",
              "      <td>0</td>\n",
              "      <td>0</td>\n",
              "      <td>1</td>\n",
              "      <td>0</td>\n",
              "      <td>0</td>\n",
              "      <td>0</td>\n",
              "      <td>0</td>\n",
              "      <td>0</td>\n",
              "      <td>0</td>\n",
              "      <td>1</td>\n",
              "      <td>0</td>\n",
              "      <td>0</td>\n",
              "      <td>0</td>\n",
              "      <td>0</td>\n",
              "      <td>0</td>\n",
              "      <td>0</td>\n",
              "      <td>0</td>\n",
              "      <td>0</td>\n",
              "      <td>0</td>\n",
              "      <td>0</td>\n",
              "      <td>1</td>\n",
              "      <td>0</td>\n",
              "      <td>0</td>\n",
              "      <td>0</td>\n",
              "      <td>0</td>\n",
              "      <td>0</td>\n",
              "      <td>0</td>\n",
              "      <td>1</td>\n",
              "      <td>0</td>\n",
              "      <td>0</td>\n",
              "      <td>1</td>\n",
              "      <td>0</td>\n",
              "      <td>0</td>\n",
              "      <td>1</td>\n",
              "      <td>...</td>\n",
              "      <td>0</td>\n",
              "      <td>0</td>\n",
              "      <td>0</td>\n",
              "      <td>0</td>\n",
              "      <td>0</td>\n",
              "      <td>1</td>\n",
              "      <td>0</td>\n",
              "      <td>1</td>\n",
              "      <td>0</td>\n",
              "      <td>1</td>\n",
              "      <td>0</td>\n",
              "      <td>0</td>\n",
              "      <td>0</td>\n",
              "      <td>0</td>\n",
              "      <td>1</td>\n",
              "      <td>0</td>\n",
              "      <td>0</td>\n",
              "      <td>0</td>\n",
              "      <td>0</td>\n",
              "      <td>0</td>\n",
              "      <td>0</td>\n",
              "      <td>0</td>\n",
              "      <td>0</td>\n",
              "      <td>0</td>\n",
              "      <td>0</td>\n",
              "      <td>0</td>\n",
              "      <td>0</td>\n",
              "      <td>0</td>\n",
              "      <td>0</td>\n",
              "      <td>0</td>\n",
              "      <td>0</td>\n",
              "      <td>0</td>\n",
              "      <td>0</td>\n",
              "      <td>0</td>\n",
              "      <td>0</td>\n",
              "      <td>0</td>\n",
              "      <td>0</td>\n",
              "      <td>0</td>\n",
              "      <td>0</td>\n",
              "      <td>0</td>\n",
              "    </tr>\n",
              "    <tr>\n",
              "      <th>...</th>\n",
              "      <td>...</td>\n",
              "      <td>...</td>\n",
              "      <td>...</td>\n",
              "      <td>...</td>\n",
              "      <td>...</td>\n",
              "      <td>...</td>\n",
              "      <td>...</td>\n",
              "      <td>...</td>\n",
              "      <td>...</td>\n",
              "      <td>...</td>\n",
              "      <td>...</td>\n",
              "      <td>...</td>\n",
              "      <td>...</td>\n",
              "      <td>...</td>\n",
              "      <td>...</td>\n",
              "      <td>...</td>\n",
              "      <td>...</td>\n",
              "      <td>...</td>\n",
              "      <td>...</td>\n",
              "      <td>...</td>\n",
              "      <td>...</td>\n",
              "      <td>...</td>\n",
              "      <td>...</td>\n",
              "      <td>...</td>\n",
              "      <td>...</td>\n",
              "      <td>...</td>\n",
              "      <td>...</td>\n",
              "      <td>...</td>\n",
              "      <td>...</td>\n",
              "      <td>...</td>\n",
              "      <td>...</td>\n",
              "      <td>...</td>\n",
              "      <td>...</td>\n",
              "      <td>...</td>\n",
              "      <td>...</td>\n",
              "      <td>...</td>\n",
              "      <td>...</td>\n",
              "      <td>...</td>\n",
              "      <td>...</td>\n",
              "      <td>...</td>\n",
              "      <td>...</td>\n",
              "      <td>...</td>\n",
              "      <td>...</td>\n",
              "      <td>...</td>\n",
              "      <td>...</td>\n",
              "      <td>...</td>\n",
              "      <td>...</td>\n",
              "      <td>...</td>\n",
              "      <td>...</td>\n",
              "      <td>...</td>\n",
              "      <td>...</td>\n",
              "      <td>...</td>\n",
              "      <td>...</td>\n",
              "      <td>...</td>\n",
              "      <td>...</td>\n",
              "      <td>...</td>\n",
              "      <td>...</td>\n",
              "      <td>...</td>\n",
              "      <td>...</td>\n",
              "      <td>...</td>\n",
              "      <td>...</td>\n",
              "      <td>...</td>\n",
              "      <td>...</td>\n",
              "      <td>...</td>\n",
              "      <td>...</td>\n",
              "      <td>...</td>\n",
              "      <td>...</td>\n",
              "      <td>...</td>\n",
              "      <td>...</td>\n",
              "      <td>...</td>\n",
              "      <td>...</td>\n",
              "      <td>...</td>\n",
              "      <td>...</td>\n",
              "      <td>...</td>\n",
              "      <td>...</td>\n",
              "      <td>...</td>\n",
              "      <td>...</td>\n",
              "      <td>...</td>\n",
              "      <td>...</td>\n",
              "      <td>...</td>\n",
              "      <td>...</td>\n",
              "    </tr>\n",
              "    <tr>\n",
              "      <th>19483</th>\n",
              "      <td>0.5</td>\n",
              "      <td>0.50</td>\n",
              "      <td>0.250000</td>\n",
              "      <td>0</td>\n",
              "      <td>0</td>\n",
              "      <td>1</td>\n",
              "      <td>0</td>\n",
              "      <td>0</td>\n",
              "      <td>0</td>\n",
              "      <td>0</td>\n",
              "      <td>1</td>\n",
              "      <td>0</td>\n",
              "      <td>0</td>\n",
              "      <td>0</td>\n",
              "      <td>0</td>\n",
              "      <td>1</td>\n",
              "      <td>0</td>\n",
              "      <td>0</td>\n",
              "      <td>1</td>\n",
              "      <td>1</td>\n",
              "      <td>0</td>\n",
              "      <td>0</td>\n",
              "      <td>0</td>\n",
              "      <td>0</td>\n",
              "      <td>1</td>\n",
              "      <td>0</td>\n",
              "      <td>1</td>\n",
              "      <td>0</td>\n",
              "      <td>0</td>\n",
              "      <td>0</td>\n",
              "      <td>0</td>\n",
              "      <td>0</td>\n",
              "      <td>0</td>\n",
              "      <td>1</td>\n",
              "      <td>0</td>\n",
              "      <td>0</td>\n",
              "      <td>0</td>\n",
              "      <td>0</td>\n",
              "      <td>1</td>\n",
              "      <td>0</td>\n",
              "      <td>...</td>\n",
              "      <td>0</td>\n",
              "      <td>1</td>\n",
              "      <td>0</td>\n",
              "      <td>0</td>\n",
              "      <td>0</td>\n",
              "      <td>0</td>\n",
              "      <td>0</td>\n",
              "      <td>0</td>\n",
              "      <td>1</td>\n",
              "      <td>0</td>\n",
              "      <td>0</td>\n",
              "      <td>1</td>\n",
              "      <td>0</td>\n",
              "      <td>0</td>\n",
              "      <td>1</td>\n",
              "      <td>0</td>\n",
              "      <td>0</td>\n",
              "      <td>0</td>\n",
              "      <td>0</td>\n",
              "      <td>0</td>\n",
              "      <td>0</td>\n",
              "      <td>0</td>\n",
              "      <td>0</td>\n",
              "      <td>0</td>\n",
              "      <td>0</td>\n",
              "      <td>0</td>\n",
              "      <td>0</td>\n",
              "      <td>0</td>\n",
              "      <td>0</td>\n",
              "      <td>0</td>\n",
              "      <td>0</td>\n",
              "      <td>0</td>\n",
              "      <td>0</td>\n",
              "      <td>0</td>\n",
              "      <td>0</td>\n",
              "      <td>0</td>\n",
              "      <td>0</td>\n",
              "      <td>0</td>\n",
              "      <td>0</td>\n",
              "      <td>0</td>\n",
              "    </tr>\n",
              "    <tr>\n",
              "      <th>29418</th>\n",
              "      <td>1.0</td>\n",
              "      <td>0.00</td>\n",
              "      <td>1.000000</td>\n",
              "      <td>0</td>\n",
              "      <td>0</td>\n",
              "      <td>0</td>\n",
              "      <td>0</td>\n",
              "      <td>1</td>\n",
              "      <td>1</td>\n",
              "      <td>0</td>\n",
              "      <td>0</td>\n",
              "      <td>0</td>\n",
              "      <td>0</td>\n",
              "      <td>0</td>\n",
              "      <td>0</td>\n",
              "      <td>1</td>\n",
              "      <td>0</td>\n",
              "      <td>1</td>\n",
              "      <td>0</td>\n",
              "      <td>1</td>\n",
              "      <td>0</td>\n",
              "      <td>0</td>\n",
              "      <td>0</td>\n",
              "      <td>1</td>\n",
              "      <td>0</td>\n",
              "      <td>0</td>\n",
              "      <td>1</td>\n",
              "      <td>0</td>\n",
              "      <td>0</td>\n",
              "      <td>0</td>\n",
              "      <td>0</td>\n",
              "      <td>0</td>\n",
              "      <td>1</td>\n",
              "      <td>0</td>\n",
              "      <td>0</td>\n",
              "      <td>0</td>\n",
              "      <td>0</td>\n",
              "      <td>0</td>\n",
              "      <td>1</td>\n",
              "      <td>1</td>\n",
              "      <td>...</td>\n",
              "      <td>0</td>\n",
              "      <td>0</td>\n",
              "      <td>0</td>\n",
              "      <td>0</td>\n",
              "      <td>0</td>\n",
              "      <td>0</td>\n",
              "      <td>1</td>\n",
              "      <td>0</td>\n",
              "      <td>0</td>\n",
              "      <td>1</td>\n",
              "      <td>0</td>\n",
              "      <td>0</td>\n",
              "      <td>0</td>\n",
              "      <td>1</td>\n",
              "      <td>0</td>\n",
              "      <td>0</td>\n",
              "      <td>0</td>\n",
              "      <td>0</td>\n",
              "      <td>0</td>\n",
              "      <td>1</td>\n",
              "      <td>0</td>\n",
              "      <td>0</td>\n",
              "      <td>0</td>\n",
              "      <td>0</td>\n",
              "      <td>0</td>\n",
              "      <td>0</td>\n",
              "      <td>0</td>\n",
              "      <td>1</td>\n",
              "      <td>0</td>\n",
              "      <td>0</td>\n",
              "      <td>0</td>\n",
              "      <td>0</td>\n",
              "      <td>0</td>\n",
              "      <td>0</td>\n",
              "      <td>0</td>\n",
              "      <td>0</td>\n",
              "      <td>0</td>\n",
              "      <td>0</td>\n",
              "      <td>0</td>\n",
              "      <td>0</td>\n",
              "    </tr>\n",
              "    <tr>\n",
              "      <th>28658</th>\n",
              "      <td>1.0</td>\n",
              "      <td>0.00</td>\n",
              "      <td>0.333333</td>\n",
              "      <td>0</td>\n",
              "      <td>1</td>\n",
              "      <td>0</td>\n",
              "      <td>0</td>\n",
              "      <td>0</td>\n",
              "      <td>1</td>\n",
              "      <td>0</td>\n",
              "      <td>0</td>\n",
              "      <td>0</td>\n",
              "      <td>0</td>\n",
              "      <td>0</td>\n",
              "      <td>0</td>\n",
              "      <td>0</td>\n",
              "      <td>1</td>\n",
              "      <td>0</td>\n",
              "      <td>0</td>\n",
              "      <td>0</td>\n",
              "      <td>0</td>\n",
              "      <td>0</td>\n",
              "      <td>0</td>\n",
              "      <td>0</td>\n",
              "      <td>0</td>\n",
              "      <td>0</td>\n",
              "      <td>1</td>\n",
              "      <td>0</td>\n",
              "      <td>0</td>\n",
              "      <td>0</td>\n",
              "      <td>1</td>\n",
              "      <td>0</td>\n",
              "      <td>0</td>\n",
              "      <td>0</td>\n",
              "      <td>0</td>\n",
              "      <td>0</td>\n",
              "      <td>0</td>\n",
              "      <td>0</td>\n",
              "      <td>1</td>\n",
              "      <td>1</td>\n",
              "      <td>...</td>\n",
              "      <td>0</td>\n",
              "      <td>0</td>\n",
              "      <td>0</td>\n",
              "      <td>0</td>\n",
              "      <td>0</td>\n",
              "      <td>0</td>\n",
              "      <td>1</td>\n",
              "      <td>0</td>\n",
              "      <td>0</td>\n",
              "      <td>1</td>\n",
              "      <td>0</td>\n",
              "      <td>0</td>\n",
              "      <td>0</td>\n",
              "      <td>0</td>\n",
              "      <td>1</td>\n",
              "      <td>0</td>\n",
              "      <td>0</td>\n",
              "      <td>0</td>\n",
              "      <td>0</td>\n",
              "      <td>0</td>\n",
              "      <td>0</td>\n",
              "      <td>0</td>\n",
              "      <td>0</td>\n",
              "      <td>0</td>\n",
              "      <td>0</td>\n",
              "      <td>0</td>\n",
              "      <td>0</td>\n",
              "      <td>0</td>\n",
              "      <td>0</td>\n",
              "      <td>0</td>\n",
              "      <td>0</td>\n",
              "      <td>0</td>\n",
              "      <td>0</td>\n",
              "      <td>0</td>\n",
              "      <td>0</td>\n",
              "      <td>0</td>\n",
              "      <td>0</td>\n",
              "      <td>0</td>\n",
              "      <td>0</td>\n",
              "      <td>0</td>\n",
              "    </tr>\n",
              "    <tr>\n",
              "      <th>26759</th>\n",
              "      <td>1.0</td>\n",
              "      <td>0.00</td>\n",
              "      <td>0.000000</td>\n",
              "      <td>1</td>\n",
              "      <td>0</td>\n",
              "      <td>0</td>\n",
              "      <td>0</td>\n",
              "      <td>0</td>\n",
              "      <td>1</td>\n",
              "      <td>0</td>\n",
              "      <td>0</td>\n",
              "      <td>0</td>\n",
              "      <td>0</td>\n",
              "      <td>0</td>\n",
              "      <td>0</td>\n",
              "      <td>0</td>\n",
              "      <td>1</td>\n",
              "      <td>0</td>\n",
              "      <td>0</td>\n",
              "      <td>0</td>\n",
              "      <td>0</td>\n",
              "      <td>0</td>\n",
              "      <td>0</td>\n",
              "      <td>0</td>\n",
              "      <td>0</td>\n",
              "      <td>0</td>\n",
              "      <td>1</td>\n",
              "      <td>0</td>\n",
              "      <td>0</td>\n",
              "      <td>0</td>\n",
              "      <td>1</td>\n",
              "      <td>0</td>\n",
              "      <td>0</td>\n",
              "      <td>0</td>\n",
              "      <td>0</td>\n",
              "      <td>0</td>\n",
              "      <td>0</td>\n",
              "      <td>0</td>\n",
              "      <td>1</td>\n",
              "      <td>0</td>\n",
              "      <td>...</td>\n",
              "      <td>0</td>\n",
              "      <td>0</td>\n",
              "      <td>0</td>\n",
              "      <td>0</td>\n",
              "      <td>0</td>\n",
              "      <td>0</td>\n",
              "      <td>1</td>\n",
              "      <td>0</td>\n",
              "      <td>0</td>\n",
              "      <td>1</td>\n",
              "      <td>0</td>\n",
              "      <td>0</td>\n",
              "      <td>1</td>\n",
              "      <td>0</td>\n",
              "      <td>0</td>\n",
              "      <td>0</td>\n",
              "      <td>0</td>\n",
              "      <td>0</td>\n",
              "      <td>0</td>\n",
              "      <td>0</td>\n",
              "      <td>0</td>\n",
              "      <td>0</td>\n",
              "      <td>0</td>\n",
              "      <td>0</td>\n",
              "      <td>0</td>\n",
              "      <td>0</td>\n",
              "      <td>0</td>\n",
              "      <td>0</td>\n",
              "      <td>0</td>\n",
              "      <td>0</td>\n",
              "      <td>0</td>\n",
              "      <td>0</td>\n",
              "      <td>0</td>\n",
              "      <td>0</td>\n",
              "      <td>0</td>\n",
              "      <td>0</td>\n",
              "      <td>0</td>\n",
              "      <td>0</td>\n",
              "      <td>0</td>\n",
              "      <td>0</td>\n",
              "    </tr>\n",
              "    <tr>\n",
              "      <th>20501</th>\n",
              "      <td>1.0</td>\n",
              "      <td>0.00</td>\n",
              "      <td>0.000000</td>\n",
              "      <td>0</td>\n",
              "      <td>0</td>\n",
              "      <td>1</td>\n",
              "      <td>0</td>\n",
              "      <td>0</td>\n",
              "      <td>1</td>\n",
              "      <td>0</td>\n",
              "      <td>0</td>\n",
              "      <td>0</td>\n",
              "      <td>0</td>\n",
              "      <td>0</td>\n",
              "      <td>0</td>\n",
              "      <td>1</td>\n",
              "      <td>0</td>\n",
              "      <td>0</td>\n",
              "      <td>0</td>\n",
              "      <td>0</td>\n",
              "      <td>0</td>\n",
              "      <td>0</td>\n",
              "      <td>0</td>\n",
              "      <td>0</td>\n",
              "      <td>0</td>\n",
              "      <td>0</td>\n",
              "      <td>0</td>\n",
              "      <td>1</td>\n",
              "      <td>0</td>\n",
              "      <td>1</td>\n",
              "      <td>0</td>\n",
              "      <td>0</td>\n",
              "      <td>0</td>\n",
              "      <td>0</td>\n",
              "      <td>0</td>\n",
              "      <td>0</td>\n",
              "      <td>0</td>\n",
              "      <td>1</td>\n",
              "      <td>0</td>\n",
              "      <td>1</td>\n",
              "      <td>...</td>\n",
              "      <td>0</td>\n",
              "      <td>0</td>\n",
              "      <td>0</td>\n",
              "      <td>0</td>\n",
              "      <td>0</td>\n",
              "      <td>0</td>\n",
              "      <td>1</td>\n",
              "      <td>0</td>\n",
              "      <td>0</td>\n",
              "      <td>1</td>\n",
              "      <td>0</td>\n",
              "      <td>0</td>\n",
              "      <td>1</td>\n",
              "      <td>0</td>\n",
              "      <td>0</td>\n",
              "      <td>0</td>\n",
              "      <td>0</td>\n",
              "      <td>0</td>\n",
              "      <td>0</td>\n",
              "      <td>0</td>\n",
              "      <td>0</td>\n",
              "      <td>0</td>\n",
              "      <td>0</td>\n",
              "      <td>0</td>\n",
              "      <td>0</td>\n",
              "      <td>0</td>\n",
              "      <td>0</td>\n",
              "      <td>0</td>\n",
              "      <td>0</td>\n",
              "      <td>0</td>\n",
              "      <td>0</td>\n",
              "      <td>0</td>\n",
              "      <td>0</td>\n",
              "      <td>0</td>\n",
              "      <td>0</td>\n",
              "      <td>0</td>\n",
              "      <td>0</td>\n",
              "      <td>0</td>\n",
              "      <td>0</td>\n",
              "      <td>0</td>\n",
              "    </tr>\n",
              "  </tbody>\n",
              "</table>\n",
              "<p>6030 rows × 139 columns</p>\n",
              "</div>"
            ],
            "text/plain": [
              "       NUMADLT  ...  dist_to_social_(4.0, 10.0]\n",
              "23586      0.5  ...                           0\n",
              "27418      1.0  ...                           0\n",
              "8894       0.5  ...                           0\n",
              "512        1.0  ...                           0\n",
              "17910      0.4  ...                           0\n",
              "...        ...  ...                         ...\n",
              "19483      0.5  ...                           0\n",
              "29418      1.0  ...                           0\n",
              "28658      1.0  ...                           0\n",
              "26759      1.0  ...                           0\n",
              "20501      1.0  ...                           0\n",
              "\n",
              "[6030 rows x 139 columns]"
            ]
          },
          "metadata": {
            "tags": []
          },
          "execution_count": 88
        }
      ]
    },
    {
      "cell_type": "code",
      "metadata": {
        "colab": {
          "base_uri": "https://localhost:8080/"
        },
        "id": "eGKXlJC2kQA5",
        "outputId": "cd1acc72-c21d-407b-f383-f90613025cbe"
      },
      "source": [
        "[c for c in x_test_with_dist]"
      ],
      "execution_count": 89,
      "outputs": [
        {
          "output_type": "execute_result",
          "data": {
            "text/plain": [
              "['NUMADLT',\n",
              " 'YOUNGCHILD',\n",
              " 'WRKCOUNT',\n",
              " 'EDUC_1',\n",
              " 'EDUC_2',\n",
              " 'EDUC_3',\n",
              " 'EDUC_4',\n",
              " 'EDUC_5',\n",
              " 'R_RACE_1',\n",
              " 'R_RACE_2',\n",
              " 'R_RACE_3',\n",
              " 'R_RACE_4',\n",
              " 'R_RACE_5',\n",
              " 'R_RACE_6',\n",
              " 'R_RACE_97',\n",
              " 'R_SEX_1',\n",
              " 'R_SEX_2',\n",
              " 'WRK_HOME_1',\n",
              " 'WRK_HOME_2',\n",
              " 'WKFTPT_1',\n",
              " 'WKFTPT_2',\n",
              " 'OCCAT_1',\n",
              " 'OCCAT_2',\n",
              " 'OCCAT_3',\n",
              " 'OCCAT_4',\n",
              " 'OCCAT_97',\n",
              " 'DRIVER_1',\n",
              " 'DRIVER_2',\n",
              " 'TRAVDAY_1',\n",
              " 'TRAVDAY_2',\n",
              " 'TRAVDAY_3',\n",
              " 'TRAVDAY_4',\n",
              " 'TRAVDAY_5',\n",
              " 'TRAVDAY_6',\n",
              " 'TRAVDAY_7',\n",
              " 'HH_CBSA_15380',\n",
              " 'HH_CBSA_35620',\n",
              " 'HH_CBSA_40380',\n",
              " 'HH_CBSA_XXXXX',\n",
              " 'HOMEOWN_1',\n",
              " 'HOMEOWN_2',\n",
              " 'HOMEOWN_97',\n",
              " 'HHSIZE_1',\n",
              " 'HHSIZE_2',\n",
              " 'HHSIZE_3',\n",
              " 'HHSIZE_ above_3',\n",
              " 'HHVEHCNT_1',\n",
              " 'HHVEHCNT_2',\n",
              " 'HHVEHCNT_3',\n",
              " 'HHVEHCNT_>3',\n",
              " 'HHFAMINC_1',\n",
              " 'HHFAMINC_10',\n",
              " 'HHFAMINC_11',\n",
              " 'HHFAMINC_2',\n",
              " 'HHFAMINC_3',\n",
              " 'HHFAMINC_4',\n",
              " 'HHFAMINC_5',\n",
              " 'HHFAMINC_6',\n",
              " 'HHFAMINC_7',\n",
              " 'HHFAMINC_8',\n",
              " 'HHFAMINC_9',\n",
              " 'MSACAT_1',\n",
              " 'MSACAT_2',\n",
              " 'MSACAT_3',\n",
              " 'MSACAT_4',\n",
              " 'MSASIZE_1',\n",
              " 'MSASIZE_2',\n",
              " 'MSASIZE_3',\n",
              " 'MSASIZE_4',\n",
              " 'MSASIZE_5',\n",
              " 'MSASIZE_6',\n",
              " 'URBAN_rural',\n",
              " 'URBAN_urban',\n",
              " 'URBANSIZE_1',\n",
              " 'URBANSIZE_2',\n",
              " 'URBANSIZE_3',\n",
              " 'URBANSIZE_5',\n",
              " 'URBANSIZE_6',\n",
              " 'URBRUR_1',\n",
              " 'URBRUR_2',\n",
              " 'LIF_CYC_1',\n",
              " 'LIF_CYC_10',\n",
              " 'LIF_CYC_2',\n",
              " 'LIF_CYC_3',\n",
              " 'LIF_CYC_4',\n",
              " 'LIF_CYC_5',\n",
              " 'LIF_CYC_6',\n",
              " 'LIF_CYC_7',\n",
              " 'LIF_CYC_8',\n",
              " 'LIF_CYC_9',\n",
              " 'AGE_bins_16_to_25',\n",
              " 'AGE_bins_26_to_35',\n",
              " 'AGE_bins_36_to_45',\n",
              " 'AGE_bins_46_to_55',\n",
              " 'AGE_bins_56_to_65',\n",
              " 'AGE_bins_5_to_15',\n",
              " 'AGE_bins_66_to_75',\n",
              " 'AGE_bins_more_than_75',\n",
              " 'DISTTOWK_DISTTOWK_0_to_3',\n",
              " 'DISTTOWK_DISTTOWK_12_to_22',\n",
              " 'DISTTOWK_DISTTOWK_3_to_7',\n",
              " 'DISTTOWK_DISTTOWK_7_to_12',\n",
              " 'DISTTOWK_DISTTOWK_above_22',\n",
              " 'DISTTOSC_DISTTOSC_above_3',\n",
              " 'DISTTOSC_DISTTOSC_under_3',\n",
              " 'NUMADLT_ratio_1',\n",
              " 'NUMADLT_ratio_less_than_0.5',\n",
              " 'NUMADLT_ratio_more_than_0.5',\n",
              " 'YOUNGCHILD_ratio_0',\n",
              " 'YOUNGCHILD_ratio_less_than_0.5',\n",
              " 'YOUNGCHILD_ratio_more_than_0.5',\n",
              " 'WRKCOUNT_ratio_0',\n",
              " 'WRKCOUNT_ratio_1',\n",
              " 'WRKCOUNT_ratio_less_than_0.5',\n",
              " 'WRKCOUNT_ratio_more_than_0.5',\n",
              " 'dist_to_work_(0.0, 2.0]',\n",
              " 'dist_to_work_(10.0, 3621.0]',\n",
              " 'dist_to_work_(2.0, 4.0]',\n",
              " 'dist_to_work_(4.0, 10.0]',\n",
              " 'dist_to_shopping_(0.0, 2.0]',\n",
              " 'dist_to_shopping_(10.0, 3621.0]',\n",
              " 'dist_to_shopping_(2.0, 4.0]',\n",
              " 'dist_to_shopping_(4.0, 10.0]',\n",
              " 'dist_to_family_(0.0, 2.0]',\n",
              " 'dist_to_family_(10.0, 3621.0]',\n",
              " 'dist_to_family_(2.0, 4.0]',\n",
              " 'dist_to_family_(4.0, 10.0]',\n",
              " 'dist_to_school_or_church_(0.0, 2.0]',\n",
              " 'dist_to_school_or_church_(10.0, 3621.0]',\n",
              " 'dist_to_school_or_church_(2.0, 4.0]',\n",
              " 'dist_to_school_or_church_(4.0, 10.0]',\n",
              " 'dist_to_relatives_(0.0, 2.0]',\n",
              " 'dist_to_relatives_(10.0, 3621.0]',\n",
              " 'dist_to_relatives_(2.0, 4.0]',\n",
              " 'dist_to_relatives_(4.0, 10.0]',\n",
              " 'dist_to_social_(0.0, 2.0]',\n",
              " 'dist_to_social_(10.0, 3621.0]',\n",
              " 'dist_to_social_(2.0, 4.0]',\n",
              " 'dist_to_social_(4.0, 10.0]']"
            ]
          },
          "metadata": {
            "tags": []
          },
          "execution_count": 89
        }
      ]
    },
    {
      "cell_type": "code",
      "metadata": {
        "colab": {
          "base_uri": "https://localhost:8080/"
        },
        "id": "363JHV6YkQA5",
        "outputId": "393bc041-203e-4c27-c8bd-1f9869032fe3"
      },
      "source": [
        "[c for c in x_train_with_dist]"
      ],
      "execution_count": 90,
      "outputs": [
        {
          "output_type": "execute_result",
          "data": {
            "text/plain": [
              "['NUMADLT',\n",
              " 'YOUNGCHILD',\n",
              " 'WRKCOUNT',\n",
              " 'EDUC_1',\n",
              " 'EDUC_2',\n",
              " 'EDUC_3',\n",
              " 'EDUC_4',\n",
              " 'EDUC_5',\n",
              " 'R_RACE_1',\n",
              " 'R_RACE_2',\n",
              " 'R_RACE_3',\n",
              " 'R_RACE_4',\n",
              " 'R_RACE_5',\n",
              " 'R_RACE_6',\n",
              " 'R_RACE_97',\n",
              " 'R_SEX_1',\n",
              " 'R_SEX_2',\n",
              " 'WRK_HOME_1',\n",
              " 'WRK_HOME_2',\n",
              " 'WKFTPT_1',\n",
              " 'WKFTPT_2',\n",
              " 'OCCAT_1',\n",
              " 'OCCAT_2',\n",
              " 'OCCAT_3',\n",
              " 'OCCAT_4',\n",
              " 'OCCAT_97',\n",
              " 'DRIVER_1',\n",
              " 'DRIVER_2',\n",
              " 'TRAVDAY_1',\n",
              " 'TRAVDAY_2',\n",
              " 'TRAVDAY_3',\n",
              " 'TRAVDAY_4',\n",
              " 'TRAVDAY_5',\n",
              " 'TRAVDAY_6',\n",
              " 'TRAVDAY_7',\n",
              " 'HH_CBSA_15380',\n",
              " 'HH_CBSA_35620',\n",
              " 'HH_CBSA_40380',\n",
              " 'HH_CBSA_XXXXX',\n",
              " 'HOMEOWN_1',\n",
              " 'HOMEOWN_2',\n",
              " 'HOMEOWN_97',\n",
              " 'HHSIZE_1',\n",
              " 'HHSIZE_2',\n",
              " 'HHSIZE_3',\n",
              " 'HHSIZE_above_3',\n",
              " 'HHVEHCNT_1',\n",
              " 'HHVEHCNT_2',\n",
              " 'HHVEHCNT_3',\n",
              " 'HHVEHCNT_>3',\n",
              " 'HHFAMINC_1',\n",
              " 'HHFAMINC_10',\n",
              " 'HHFAMINC_11',\n",
              " 'HHFAMINC_2',\n",
              " 'HHFAMINC_3',\n",
              " 'HHFAMINC_4',\n",
              " 'HHFAMINC_5',\n",
              " 'HHFAMINC_6',\n",
              " 'HHFAMINC_7',\n",
              " 'HHFAMINC_8',\n",
              " 'HHFAMINC_9',\n",
              " 'MSACAT_1',\n",
              " 'MSACAT_2',\n",
              " 'MSACAT_3',\n",
              " 'MSACAT_4',\n",
              " 'MSASIZE_1',\n",
              " 'MSASIZE_2',\n",
              " 'MSASIZE_3',\n",
              " 'MSASIZE_4',\n",
              " 'MSASIZE_5',\n",
              " 'MSASIZE_6',\n",
              " 'URBAN_rural',\n",
              " 'URBAN_urban',\n",
              " 'URBANSIZE_1',\n",
              " 'URBANSIZE_2',\n",
              " 'URBANSIZE_3',\n",
              " 'URBANSIZE_5',\n",
              " 'URBANSIZE_6',\n",
              " 'URBRUR_1',\n",
              " 'URBRUR_2',\n",
              " 'LIF_CYC_1',\n",
              " 'LIF_CYC_10',\n",
              " 'LIF_CYC_2',\n",
              " 'LIF_CYC_3',\n",
              " 'LIF_CYC_4',\n",
              " 'LIF_CYC_5',\n",
              " 'LIF_CYC_6',\n",
              " 'LIF_CYC_7',\n",
              " 'LIF_CYC_8',\n",
              " 'LIF_CYC_9',\n",
              " 'AGE_bins_16_to_25',\n",
              " 'AGE_bins_26_to_35',\n",
              " 'AGE_bins_36_to_45',\n",
              " 'AGE_bins_46_to_55',\n",
              " 'AGE_bins_56_to_65',\n",
              " 'AGE_bins_5_to_15',\n",
              " 'AGE_bins_66_to_75',\n",
              " 'AGE_bins_more_than_75',\n",
              " 'DISTTOWK_DISTTOWK_0_to_3',\n",
              " 'DISTTOWK_DISTTOWK_12_to_22',\n",
              " 'DISTTOWK_DISTTOWK_3_to_7',\n",
              " 'DISTTOWK_DISTTOWK_7_to_12',\n",
              " 'DISTTOWK_DISTTOWK_above_22',\n",
              " 'DISTTOSC_DISTTOSC_above_3',\n",
              " 'DISTTOSC_DISTTOSC_under_3',\n",
              " 'NUMADLT_ratio_1',\n",
              " 'NUMADLT_ratio_less_than_0.5',\n",
              " 'NUMADLT_ratio_more_than_0.5',\n",
              " 'YOUNGCHILD_ratio_0',\n",
              " 'YOUNGCHILD_ratio_less_than_0.5',\n",
              " 'YOUNGCHILD_ratio_more_than_0.5',\n",
              " 'WRKCOUNT_ratio_0',\n",
              " 'WRKCOUNT_ratio_1',\n",
              " 'WRKCOUNT_ratio_less_than_0.5',\n",
              " 'WRKCOUNT_ratio_more_than_0.5',\n",
              " 'dist_to_work_(0.0, 2.0]',\n",
              " 'dist_to_work_(10.0, 3621.0]',\n",
              " 'dist_to_work_(2.0, 4.0]',\n",
              " 'dist_to_work_(4.0, 10.0]',\n",
              " 'dist_to_shopping_(0.0, 2.0]',\n",
              " 'dist_to_shopping_(10.0, 3621.0]',\n",
              " 'dist_to_shopping_(2.0, 4.0]',\n",
              " 'dist_to_shopping_(4.0, 10.0]',\n",
              " 'dist_to_family_(0.0, 2.0]',\n",
              " 'dist_to_family_(10.0, 3621.0]',\n",
              " 'dist_to_family_(2.0, 4.0]',\n",
              " 'dist_to_family_(4.0, 10.0]',\n",
              " 'dist_to_school_or_church_(0.0, 2.0]',\n",
              " 'dist_to_school_or_church_(10.0, 3621.0]',\n",
              " 'dist_to_school_or_church_(2.0, 4.0]',\n",
              " 'dist_to_school_or_church_(4.0, 10.0]',\n",
              " 'dist_to_relatives_(0.0, 2.0]',\n",
              " 'dist_to_relatives_(10.0, 3621.0]',\n",
              " 'dist_to_relatives_(2.0, 4.0]',\n",
              " 'dist_to_relatives_(4.0, 10.0]',\n",
              " 'dist_to_social_(0.0, 2.0]',\n",
              " 'dist_to_social_(10.0, 3621.0]',\n",
              " 'dist_to_social_(2.0, 4.0]',\n",
              " 'dist_to_social_(4.0, 10.0]']"
            ]
          },
          "metadata": {
            "tags": []
          },
          "execution_count": 90
        }
      ]
    },
    {
      "cell_type": "markdown",
      "metadata": {
        "id": "vIeNkQ3YkQA5"
      },
      "source": [
        "## 4. Models (first round run x_train to get low score then second run x_train_dist)"
      ]
    },
    {
      "cell_type": "markdown",
      "metadata": {
        "id": "zpm0CGTokQA5"
      },
      "source": [
        "## 4.1. X_train\n",
        "\n",
        "To train models using only data from person and household dataset. Doing so will allow current survey method to be sufficient in predicting trips of people who did not participate in the trips measuring but participated in the household and person information survey"
      ]
    },
    {
      "cell_type": "markdown",
      "metadata": {
        "id": "p2NhKDdDkQA5"
      },
      "source": [
        "### 4.1.1. Linear Models"
      ]
    },
    {
      "cell_type": "markdown",
      "metadata": {
        "id": "Nja-fkedkQA6"
      },
      "source": [
        "#### 4.1.1.1. Standard Linear Regression"
      ]
    },
    {
      "cell_type": "code",
      "metadata": {
        "id": "-QuUNy7UkQA6"
      },
      "source": [
        "#Checking for multicollinearity through variance Inflation Factor \n",
        "#VIF=1, Very Less Multicollinearity\n",
        "#VIF<5, Moderate Multicollinearity\n",
        "#VIF>5, Extreme Multicollinearity (This is what we have to avoid)\n",
        "\n",
        "import statsmodels.api as sm\n",
        "from statsmodels.stats.outliers_influence import variance_inflation_factor\n",
        "from sklearn import linear_model, model_selection, metrics\n"
      ],
      "execution_count": 91,
      "outputs": []
    },
    {
      "cell_type": "code",
      "metadata": {
        "id": "iZrmLAbPkQA7"
      },
      "source": [
        "LRmodel = linear_model.LinearRegression()  #create the linear regression \n",
        "LRmodel.fit(x_train,y_train) #train the model using the training set \n",
        "LR_pred = LRmodel.predict(x_test) #use this model to predict the test data set "
      ],
      "execution_count": 92,
      "outputs": []
    },
    {
      "cell_type": "code",
      "metadata": {
        "colab": {
          "base_uri": "https://localhost:8080/"
        },
        "id": "WmYFS2XFkQA9",
        "outputId": "b5aec2dd-21eb-4046-8b2e-c2de91139deb"
      },
      "source": [
        "print('R^2 score:\\t\\t\\t\\t',LRmodel.score(x_test, y_test)) #compute R^2 score \n",
        "print('Explained Variance: \\t\\t\\t', metrics.explained_variance_score(y_test, LR_pred)) #compute explained variance score\n",
        "print('Mean Absolute Error: \\t\\t\\t', metrics.mean_absolute_error(y_test, LR_pred)) #compute MAE results\n",
        "print('Mean Squared Error:\\t\\t\\t', metrics.mean_squared_error(y_test, LR_pred)) #compute MSE results\n",
        "print('Root Mean Squared Error:\\t\\t', metrics.mean_squared_error(y_test, LR_pred, squared = False)) #compute RSME results\n",
        "print('Intercept:\\t', LRmodel.intercept_) #find intercept value \n",
        "print('Coef:\\t', np.sum(LRmodel.coef_!=0))#find no of features used in regression model "
      ],
      "execution_count": 93,
      "outputs": [
        {
          "output_type": "stream",
          "text": [
            "R^2 score:\t\t\t\t 0.07305578346615371\n",
            "Explained Variance: \t\t\t 0.07312222382101519\n",
            "Mean Absolute Error: \t\t\t 1.862289464137645\n",
            "Mean Squared Error:\t\t\t 5.232439509908951\n",
            "Root Mean Squared Error:\t\t 2.2874526246261255\n",
            "Intercept:\t -19352483552410.605\n",
            "Coef:\t 115\n"
          ],
          "name": "stdout"
        }
      ]
    },
    {
      "cell_type": "code",
      "metadata": {
        "colab": {
          "base_uri": "https://localhost:8080/",
          "height": 297
        },
        "id": "SBnCzPPAkQA9",
        "outputId": "2b936a04-71db-46f9-b247-18376e5e52ed"
      },
      "source": [
        "sns.regplot(y_test,LR_pred) #plotting predictions "
      ],
      "execution_count": 94,
      "outputs": [
        {
          "output_type": "execute_result",
          "data": {
            "text/plain": [
              "<matplotlib.axes._subplots.AxesSubplot at 0x7f97951cc1d0>"
            ]
          },
          "metadata": {
            "tags": []
          },
          "execution_count": 94
        },
        {
          "output_type": "display_data",
          "data": {
            "image/png": "[encoded data removed]",
            "text/plain": [
              "<Figure size 432x288 with 1 Axes>"
            ]
          },
          "metadata": {
            "tags": [],
            "needs_background": "light"
          }
        }
      ]
    },
    {
      "cell_type": "code",
      "metadata": {
        "colab": {
          "base_uri": "https://localhost:8080/"
        },
        "id": "pLgsHKOEkQA-",
        "outputId": "480ebe22-5b9a-4acf-a2bf-18a27d4a4735"
      },
      "source": [
        "#calculate VIF scores to detect multicolinearity \n",
        "\n",
        "# VIF dataframe\n",
        "vif_data = pd.DataFrame()\n",
        "vif_data[\"feature\"] = x_train.columns\n",
        "  \n",
        "# calculating VIF for each feature\n",
        "vif_data[\"VIF\"] = [variance_inflation_factor(x_train.values, i)\n",
        "                          for i in range(len(x_train.columns))]\n",
        "  \n",
        "print(vif_data)"
      ],
      "execution_count": 95,
      "outputs": [
        {
          "output_type": "stream",
          "text": [
            "                            feature        VIF\n",
            "0                           NUMADLT  30.035299\n",
            "1                        YOUNGCHILD  20.802478\n",
            "2                          WRKCOUNT  60.887279\n",
            "3                            EDUC_1   6.504826\n",
            "4                            EDUC_2  21.702208\n",
            "..                              ...        ...\n",
            "110  YOUNGCHILD_ratio_more_than_0.5        inf\n",
            "111                WRKCOUNT_ratio_0        inf\n",
            "112                WRKCOUNT_ratio_1        inf\n",
            "113    WRKCOUNT_ratio_less_than_0.5        inf\n",
            "114    WRKCOUNT_ratio_more_than_0.5        inf\n",
            "\n",
            "[115 rows x 2 columns]\n"
          ],
          "name": "stdout"
        }
      ]
    },
    {
      "cell_type": "code",
      "metadata": {
        "colab": {
          "base_uri": "https://localhost:8080/",
          "height": 419
        },
        "id": "Du8R-OUpkQA-",
        "outputId": "2a7e767e-0abd-4921-ebd3-d0044f7c50be"
      },
      "source": [
        "vif_data.sort_values(by = 'VIF', ascending = False)"
      ],
      "execution_count": 96,
      "outputs": [
        {
          "output_type": "execute_result",
          "data": {
            "text/html": [
              "<div>\n",
              "<style scoped>\n",
              "    .dataframe tbody tr th:only-of-type {\n",
              "        vertical-align: middle;\n",
              "    }\n",
              "\n",
              "    .dataframe tbody tr th {\n",
              "        vertical-align: top;\n",
              "    }\n",
              "\n",
              "    .dataframe thead th {\n",
              "        text-align: right;\n",
              "    }\n",
              "</style>\n",
              "<table border=\"1\" class=\"dataframe\">\n",
              "  <thead>\n",
              "    <tr style=\"text-align: right;\">\n",
              "      <th></th>\n",
              "      <th>feature</th>\n",
              "      <th>VIF</th>\n",
              "    </tr>\n",
              "  </thead>\n",
              "  <tbody>\n",
              "    <tr>\n",
              "      <th>114</th>\n",
              "      <td>WRKCOUNT_ratio_more_than_0.5</td>\n",
              "      <td>inf</td>\n",
              "    </tr>\n",
              "    <tr>\n",
              "      <th>90</th>\n",
              "      <td>AGE_bins_16_to_25</td>\n",
              "      <td>inf</td>\n",
              "    </tr>\n",
              "    <tr>\n",
              "      <th>83</th>\n",
              "      <td>LIF_CYC_3</td>\n",
              "      <td>inf</td>\n",
              "    </tr>\n",
              "    <tr>\n",
              "      <th>84</th>\n",
              "      <td>LIF_CYC_4</td>\n",
              "      <td>inf</td>\n",
              "    </tr>\n",
              "    <tr>\n",
              "      <th>85</th>\n",
              "      <td>LIF_CYC_5</td>\n",
              "      <td>inf</td>\n",
              "    </tr>\n",
              "    <tr>\n",
              "      <th>...</th>\n",
              "      <td>...</td>\n",
              "      <td>...</td>\n",
              "    </tr>\n",
              "    <tr>\n",
              "      <th>54</th>\n",
              "      <td>HHFAMINC_3</td>\n",
              "      <td>2.882588</td>\n",
              "    </tr>\n",
              "    <tr>\n",
              "      <th>53</th>\n",
              "      <td>HHFAMINC_2</td>\n",
              "      <td>1.975827</td>\n",
              "    </tr>\n",
              "    <tr>\n",
              "      <th>50</th>\n",
              "      <td>HHFAMINC_1</td>\n",
              "      <td>1.707035</td>\n",
              "    </tr>\n",
              "    <tr>\n",
              "      <th>11</th>\n",
              "      <td>R_RACE_4</td>\n",
              "      <td>1.450180</td>\n",
              "    </tr>\n",
              "    <tr>\n",
              "      <th>12</th>\n",
              "      <td>R_RACE_5</td>\n",
              "      <td>1.151169</td>\n",
              "    </tr>\n",
              "  </tbody>\n",
              "</table>\n",
              "<p>115 rows × 2 columns</p>\n",
              "</div>"
            ],
            "text/plain": [
              "                          feature       VIF\n",
              "114  WRKCOUNT_ratio_more_than_0.5       inf\n",
              "90              AGE_bins_16_to_25       inf\n",
              "83                      LIF_CYC_3       inf\n",
              "84                      LIF_CYC_4       inf\n",
              "85                      LIF_CYC_5       inf\n",
              "..                            ...       ...\n",
              "54                     HHFAMINC_3  2.882588\n",
              "53                     HHFAMINC_2  1.975827\n",
              "50                     HHFAMINC_1  1.707035\n",
              "11                       R_RACE_4  1.450180\n",
              "12                       R_RACE_5  1.151169\n",
              "\n",
              "[115 rows x 2 columns]"
            ]
          },
          "metadata": {
            "tags": []
          },
          "execution_count": 96
        }
      ]
    },
    {
      "cell_type": "code",
      "metadata": {
        "colab": {
          "base_uri": "https://localhost:8080/"
        },
        "id": "G9fgk6f_kQA-",
        "outputId": "23bcead5-4af2-4a18-9ece-84f75b179056"
      },
      "source": [
        "# counting number of infinity features \n",
        "\n",
        "vif_data_inf = np.isinf(vif_data['VIF']).values.sum()\n",
        "print(\"It contains \" + str(vif_data_inf) + \" infinite values\")"
      ],
      "execution_count": 97,
      "outputs": [
        {
          "output_type": "stream",
          "text": [
            "It contains 65 infinite values\n"
          ],
          "name": "stdout"
        }
      ]
    },
    {
      "cell_type": "code",
      "metadata": {
        "colab": {
          "base_uri": "https://localhost:8080/"
        },
        "id": "UA6dL-IAkQA-",
        "outputId": "0368448e-f635-448d-bac1-58398faf9de9"
      },
      "source": [
        "#cross validation to see if it will improve results \n",
        "\n",
        "folds = model_selection.KFold(n_splits = 5, shuffle = True, random_state = 100)\n",
        "scores = model_selection.cross_val_score(LRmodel, x_train, y_train, scoring='neg_mean_squared_error', cv=folds)\n",
        "\n",
        "print('\\nR2 score:',scores)"
      ],
      "execution_count": 98,
      "outputs": [
        {
          "output_type": "stream",
          "text": [
            "\n",
            "R2 score: [-5.16890101 -5.04827876 -5.03715234 -5.10345416 -5.03476532]\n"
          ],
          "name": "stdout"
        }
      ]
    },
    {
      "cell_type": "code",
      "metadata": {
        "colab": {
          "base_uri": "https://localhost:8080/"
        },
        "id": "sQekoagykQA-",
        "outputId": "101fff5b-c2c0-463c-8a6d-011d554794be"
      },
      "source": [
        "np.set_printoptions(formatter={'float_kind':'{:f}'.format})\n",
        "scores"
      ],
      "execution_count": 99,
      "outputs": [
        {
          "output_type": "execute_result",
          "data": {
            "text/plain": [
              "array([-5.168901, -5.048279, -5.037152, -5.103454, -5.034765])"
            ]
          },
          "metadata": {
            "tags": []
          },
          "execution_count": 99
        }
      ]
    },
    {
      "cell_type": "code",
      "metadata": {
        "colab": {
          "base_uri": "https://localhost:8080/"
        },
        "id": "5a9vodTokQA_",
        "outputId": "81c78807-e868-4598-8e0c-ddf0a9b224ed"
      },
      "source": [
        "start_time = time.time()\n",
        "from sklearn.feature_selection import RFE\n",
        "\n",
        "\n",
        "#specify range of hyperparameters to tune\n",
        "hyper_params = [{'n_features_to_select': list(range(1,133))}]\n",
        "\n",
        "\n",
        "# perform grid search\n",
        "\n",
        "rfe = RFE(LRmodel)             \n",
        "\n",
        "# 3.2 call GridSearchCV()\n",
        "model_cv = model_selection.GridSearchCV(estimator = rfe, \n",
        "                        param_grid = hyper_params, \n",
        "                        scoring= 'neg_mean_squared_error', \n",
        "                        cv = folds, \n",
        "                        verbose = 10,\n",
        "                        return_train_score=True)      \n",
        "\n",
        "# fit the model\n",
        "model_cv.fit(x_train, y_train)   \n",
        "\n",
        "print(\"run time:\", str(time.time()-start_time), \"start time:\", str(start_time), \"end time\",str(time.time()))"
      ],
      "execution_count": 100,
      "outputs": [
        {
          "output_type": "stream",
          "text": [
            "Fitting 5 folds for each of 132 candidates, totalling 660 fits\n",
            "[CV] n_features_to_select=1 ..........................................\n"
          ],
          "name": "stdout"
        },
        {
          "output_type": "stream",
          "text": [
            "[Parallel(n_jobs=1)]: Using backend SequentialBackend with 1 concurrent workers.\n"
          ],
          "name": "stderr"
        },
        {
          "output_type": "stream",
          "text": [
            "[CV]  n_features_to_select=1, score=(train=-5.451, test=-5.613), total=   8.1s\n",
            "[CV] n_features_to_select=1 ..........................................\n"
          ],
          "name": "stdout"
        },
        {
          "output_type": "stream",
          "text": [
            "[Parallel(n_jobs=1)]: Done   1 out of   1 | elapsed:    8.1s remaining:    0.0s\n"
          ],
          "name": "stderr"
        },
        {
          "output_type": "stream",
          "text": [
            "[CV]  n_features_to_select=1, score=(train=-5.476, test=-5.432), total=   7.9s\n",
            "[CV] n_features_to_select=1 ..........................................\n"
          ],
          "name": "stdout"
        },
        {
          "output_type": "stream",
          "text": [
            "[Parallel(n_jobs=1)]: Done   2 out of   2 | elapsed:   16.0s remaining:    0.0s\n"
          ],
          "name": "stderr"
        },
        {
          "output_type": "stream",
          "text": [
            "[CV]  n_features_to_select=1, score=(train=-5.452, test=-5.408), total=   7.9s\n",
            "[CV] n_features_to_select=1 ..........................................\n"
          ],
          "name": "stdout"
        },
        {
          "output_type": "stream",
          "text": [
            "[Parallel(n_jobs=1)]: Done   3 out of   3 | elapsed:   23.9s remaining:    0.0s\n"
          ],
          "name": "stderr"
        },
        {
          "output_type": "stream",
          "text": [
            "[CV]  n_features_to_select=1, score=(train=-5.468, test=-5.524), total=   7.9s\n",
            "[CV] n_features_to_select=1 ..........................................\n"
          ],
          "name": "stdout"
        },
        {
          "output_type": "stream",
          "text": [
            "[Parallel(n_jobs=1)]: Done   4 out of   4 | elapsed:   31.8s remaining:    0.0s\n"
          ],
          "name": "stderr"
        },
        {
          "output_type": "stream",
          "text": [
            "[CV]  n_features_to_select=1, score=(train=-5.466, test=-5.391), total=   7.9s\n",
            "[CV] n_features_to_select=2 ..........................................\n"
          ],
          "name": "stdout"
        },
        {
          "output_type": "stream",
          "text": [
            "[Parallel(n_jobs=1)]: Done   5 out of   5 | elapsed:   39.7s remaining:    0.0s\n"
          ],
          "name": "stderr"
        },
        {
          "output_type": "stream",
          "text": [
            "[CV]  n_features_to_select=2, score=(train=-5.451, test=-5.613), total=   7.9s\n",
            "[CV] n_features_to_select=2 ..........................................\n"
          ],
          "name": "stdout"
        },
        {
          "output_type": "stream",
          "text": [
            "[Parallel(n_jobs=1)]: Done   6 out of   6 | elapsed:   47.6s remaining:    0.0s\n"
          ],
          "name": "stderr"
        },
        {
          "output_type": "stream",
          "text": [
            "[CV]  n_features_to_select=2, score=(train=-5.468, test=-5.423), total=   7.9s\n",
            "[CV] n_features_to_select=2 ..........................................\n"
          ],
          "name": "stdout"
        },
        {
          "output_type": "stream",
          "text": [
            "[Parallel(n_jobs=1)]: Done   7 out of   7 | elapsed:   55.5s remaining:    0.0s\n"
          ],
          "name": "stderr"
        },
        {
          "output_type": "stream",
          "text": [
            "[CV]  n_features_to_select=2, score=(train=-5.445, test=-5.409), total=   7.9s\n",
            "[CV] n_features_to_select=2 ..........................................\n"
          ],
          "name": "stdout"
        },
        {
          "output_type": "stream",
          "text": [
            "[Parallel(n_jobs=1)]: Done   8 out of   8 | elapsed:  1.1min remaining:    0.0s\n"
          ],
          "name": "stderr"
        },
        {
          "output_type": "stream",
          "text": [
            "[CV]  n_features_to_select=2, score=(train=-5.452, test=-5.510), total=   8.0s\n",
            "[CV] n_features_to_select=2 ..........................................\n"
          ],
          "name": "stdout"
        },
        {
          "output_type": "stream",
          "text": [
            "[Parallel(n_jobs=1)]: Done   9 out of   9 | elapsed:  1.2min remaining:    0.0s\n"
          ],
          "name": "stderr"
        },
        {
          "output_type": "stream",
          "text": [
            "[CV]  n_features_to_select=2, score=(train=-5.463, test=-5.387), total=  10.3s\n",
            "[CV] n_features_to_select=3 ..........................................\n",
            "[CV]  n_features_to_select=3, score=(train=-5.451, test=-5.613), total=   8.1s\n",
            "[CV] n_features_to_select=3 ..........................................\n",
            "[CV]  n_features_to_select=3, score=(train=-5.448, test=-5.405), total=   8.0s\n",
            "[CV] n_features_to_select=3 ..........................................\n",
            "[CV]  n_features_to_select=3, score=(train=-5.442, test=-5.409), total=   8.0s\n",
            "[CV] n_features_to_select=3 ..........................................\n",
            "[CV]  n_features_to_select=3, score=(train=-5.437, test=-5.500), total=   8.0s\n",
            "[CV] n_features_to_select=3 ..........................................\n",
            "[CV]  n_features_to_select=3, score=(train=-5.463, test=-5.387), total=   8.0s\n",
            "[CV] n_features_to_select=4 ..........................................\n",
            "[CV]  n_features_to_select=4, score=(train=-5.451, test=-5.614), total=   7.9s\n",
            "[CV] n_features_to_select=4 ..........................................\n",
            "[CV]  n_features_to_select=4, score=(train=-5.449, test=-5.406), total=   8.0s\n",
            "[CV] n_features_to_select=4 ..........................................\n",
            "[CV]  n_features_to_select=4, score=(train=-5.443, test=-5.410), total=   7.9s\n",
            "[CV] n_features_to_select=4 ..........................................\n",
            "[CV]  n_features_to_select=4, score=(train=-5.417, test=-5.464), total=   8.0s\n",
            "[CV] n_features_to_select=4 ..........................................\n",
            "[CV]  n_features_to_select=4, score=(train=-5.453, test=-5.385), total=   7.9s\n",
            "[CV] n_features_to_select=5 ..........................................\n",
            "[CV]  n_features_to_select=5, score=(train=-5.448, test=-5.604), total=   8.0s\n",
            "[CV] n_features_to_select=5 ..........................................\n",
            "[CV]  n_features_to_select=5, score=(train=-5.442, test=-5.393), total=   7.9s\n",
            "[CV] n_features_to_select=5 ..........................................\n",
            "[CV]  n_features_to_select=5, score=(train=-5.442, test=-5.405), total=   7.9s\n",
            "[CV] n_features_to_select=5 ..........................................\n",
            "[CV]  n_features_to_select=5, score=(train=-5.396, test=-5.438), total=   7.9s\n",
            "[CV] n_features_to_select=5 ..........................................\n",
            "[CV]  n_features_to_select=5, score=(train=-5.450, test=-5.383), total=   8.0s\n",
            "[CV] n_features_to_select=6 ..........................................\n",
            "[CV]  n_features_to_select=6, score=(train=-5.447, test=-5.606), total=   8.0s\n",
            "[CV] n_features_to_select=6 ..........................................\n",
            "[CV]  n_features_to_select=6, score=(train=-5.440, test=-5.391), total=   7.9s\n",
            "[CV] n_features_to_select=6 ..........................................\n",
            "[CV]  n_features_to_select=6, score=(train=-5.441, test=-5.407), total=   7.9s\n",
            "[CV] n_features_to_select=6 ..........................................\n",
            "[CV]  n_features_to_select=6, score=(train=-5.395, test=-5.437), total=   7.9s\n",
            "[CV] n_features_to_select=6 ..........................................\n",
            "[CV]  n_features_to_select=6, score=(train=-5.451, test=-5.385), total=   7.9s\n",
            "[CV] n_features_to_select=7 ..........................................\n",
            "[CV]  n_features_to_select=7, score=(train=-5.446, test=-5.605), total=   8.0s\n",
            "[CV] n_features_to_select=7 ..........................................\n",
            "[CV]  n_features_to_select=7, score=(train=-5.440, test=-5.392), total=   7.9s\n",
            "[CV] n_features_to_select=7 ..........................................\n",
            "[CV]  n_features_to_select=7, score=(train=-5.442, test=-5.409), total=   8.0s\n",
            "[CV] n_features_to_select=7 ..........................................\n",
            "[CV]  n_features_to_select=7, score=(train=-5.394, test=-5.437), total=   7.9s\n",
            "[CV] n_features_to_select=7 ..........................................\n",
            "[CV]  n_features_to_select=7, score=(train=-5.435, test=-5.353), total=   7.9s\n",
            "[CV] n_features_to_select=8 ..........................................\n",
            "[CV]  n_features_to_select=8, score=(train=-5.446, test=-5.604), total=   7.8s\n",
            "[CV] n_features_to_select=8 ..........................................\n",
            "[CV]  n_features_to_select=8, score=(train=-5.440, test=-5.387), total=   7.9s\n",
            "[CV] n_features_to_select=8 ..........................................\n",
            "[CV]  n_features_to_select=8, score=(train=-5.435, test=-5.393), total=   7.9s\n",
            "[CV] n_features_to_select=8 ..........................................\n",
            "[CV]  n_features_to_select=8, score=(train=-5.394, test=-5.438), total=   7.9s\n",
            "[CV] n_features_to_select=8 ..........................................\n",
            "[CV]  n_features_to_select=8, score=(train=-5.424, test=-5.330), total=   7.9s\n",
            "[CV] n_features_to_select=9 ..........................................\n",
            "[CV]  n_features_to_select=9, score=(train=-5.445, test=-5.604), total=   7.9s\n",
            "[CV] n_features_to_select=9 ..........................................\n",
            "[CV]  n_features_to_select=9, score=(train=-5.439, test=-5.385), total=   8.0s\n",
            "[CV] n_features_to_select=9 ..........................................\n",
            "[CV]  n_features_to_select=9, score=(train=-5.433, test=-5.398), total=   7.9s\n",
            "[CV] n_features_to_select=9 ..........................................\n",
            "[CV]  n_features_to_select=9, score=(train=-5.394, test=-5.439), total=   7.9s\n",
            "[CV] n_features_to_select=9 ..........................................\n",
            "[CV]  n_features_to_select=9, score=(train=-5.422, test=-5.328), total=   7.9s\n",
            "[CV] n_features_to_select=10 .........................................\n",
            "[CV]  n_features_to_select=10, score=(train=-5.445, test=-5.604), total=   7.9s\n",
            "[CV] n_features_to_select=10 .........................................\n",
            "[CV]  n_features_to_select=10, score=(train=-5.439, test=-5.385), total=   7.9s\n",
            "[CV] n_features_to_select=10 .........................................\n",
            "[CV]  n_features_to_select=10, score=(train=-5.431, test=-5.400), total=   7.9s\n",
            "[CV] n_features_to_select=10 .........................................\n",
            "[CV]  n_features_to_select=10, score=(train=-5.391, test=-5.443), total=   7.9s\n",
            "[CV] n_features_to_select=10 .........................................\n",
            "[CV]  n_features_to_select=10, score=(train=-5.423, test=-5.327), total=   7.9s\n",
            "[CV] n_features_to_select=11 .........................................\n",
            "[CV]  n_features_to_select=11, score=(train=-5.446, test=-5.605), total=   7.9s\n",
            "[CV] n_features_to_select=11 .........................................\n",
            "[CV]  n_features_to_select=11, score=(train=-5.427, test=-5.369), total=   8.6s\n",
            "[CV] n_features_to_select=11 .........................................\n",
            "[CV]  n_features_to_select=11, score=(train=-5.429, test=-5.393), total=   7.9s\n",
            "[CV] n_features_to_select=11 .........................................\n",
            "[CV]  n_features_to_select=11, score=(train=-5.391, test=-5.443), total=   7.9s\n",
            "[CV] n_features_to_select=11 .........................................\n",
            "[CV]  n_features_to_select=11, score=(train=-5.421, test=-5.326), total=   8.0s\n",
            "[CV] n_features_to_select=12 .........................................\n",
            "[CV]  n_features_to_select=12, score=(train=-5.428, test=-5.598), total=   7.9s\n",
            "[CV] n_features_to_select=12 .........................................\n",
            "[CV]  n_features_to_select=12, score=(train=-5.428, test=-5.366), total=   7.8s\n",
            "[CV] n_features_to_select=12 .........................................\n",
            "[CV]  n_features_to_select=12, score=(train=-5.429, test=-5.393), total=   7.7s\n",
            "[CV] n_features_to_select=12 .........................................\n",
            "[CV]  n_features_to_select=12, score=(train=-5.392, test=-5.440), total=   7.7s\n",
            "[CV] n_features_to_select=12 .........................................\n",
            "[CV]  n_features_to_select=12, score=(train=-5.421, test=-5.330), total=   7.7s\n",
            "[CV] n_features_to_select=13 .........................................\n",
            "[CV]  n_features_to_select=13, score=(train=-5.417, test=-5.585), total=   7.7s\n",
            "[CV] n_features_to_select=13 .........................................\n",
            "[CV]  n_features_to_select=13, score=(train=-5.426, test=-5.368), total=   7.7s\n",
            "[CV] n_features_to_select=13 .........................................\n",
            "[CV]  n_features_to_select=13, score=(train=-5.429, test=-5.392), total=   7.7s\n",
            "[CV] n_features_to_select=13 .........................................\n",
            "[CV]  n_features_to_select=13, score=(train=-5.389, test=-5.445), total=   7.8s\n",
            "[CV] n_features_to_select=13 .........................................\n",
            "[CV]  n_features_to_select=13, score=(train=-5.417, test=-5.328), total=   7.8s\n",
            "[CV] n_features_to_select=14 .........................................\n",
            "[CV]  n_features_to_select=14, score=(train=-5.411, test=-5.580), total=   7.9s\n",
            "[CV] n_features_to_select=14 .........................................\n",
            "[CV]  n_features_to_select=14, score=(train=-5.426, test=-5.369), total=   7.8s\n",
            "[CV] n_features_to_select=14 .........................................\n",
            "[CV]  n_features_to_select=14, score=(train=-5.428, test=-5.392), total=   7.9s\n",
            "[CV] n_features_to_select=14 .........................................\n",
            "[CV]  n_features_to_select=14, score=(train=-5.388, test=-5.445), total=   7.8s\n",
            "[CV] n_features_to_select=14 .........................................\n",
            "[CV]  n_features_to_select=14, score=(train=-5.417, test=-5.323), total=   7.8s\n",
            "[CV] n_features_to_select=15 .........................................\n",
            "[CV]  n_features_to_select=15, score=(train=-5.405, test=-5.567), total=   7.8s\n",
            "[CV] n_features_to_select=15 .........................................\n",
            "[CV]  n_features_to_select=15, score=(train=-5.427, test=-5.371), total=   7.9s\n",
            "[CV] n_features_to_select=15 .........................................\n",
            "[CV]  n_features_to_select=15, score=(train=-5.428, test=-5.393), total=   7.8s\n",
            "[CV] n_features_to_select=15 .........................................\n",
            "[CV]  n_features_to_select=15, score=(train=-5.350, test=-5.400), total=   7.7s\n",
            "[CV] n_features_to_select=15 .........................................\n",
            "[CV]  n_features_to_select=15, score=(train=-5.410, test=-5.327), total=   7.9s\n",
            "[CV] n_features_to_select=16 .........................................\n",
            "[CV]  n_features_to_select=16, score=(train=-5.398, test=-5.565), total=   7.8s\n",
            "[CV] n_features_to_select=16 .........................................\n",
            "[CV]  n_features_to_select=16, score=(train=-5.427, test=-5.370), total=   7.9s\n",
            "[CV] n_features_to_select=16 .........................................\n",
            "[CV]  n_features_to_select=16, score=(train=-5.428, test=-5.392), total=   7.8s\n",
            "[CV] n_features_to_select=16 .........................................\n",
            "[CV]  n_features_to_select=16, score=(train=-5.343, test=-5.407), total=   7.8s\n",
            "[CV] n_features_to_select=16 .........................................\n",
            "[CV]  n_features_to_select=16, score=(train=-5.408, test=-5.328), total=   7.8s\n",
            "[CV] n_features_to_select=17 .........................................\n",
            "[CV]  n_features_to_select=17, score=(train=-5.384, test=-5.562), total=   7.8s\n",
            "[CV] n_features_to_select=17 .........................................\n",
            "[CV]  n_features_to_select=17, score=(train=-5.426, test=-5.368), total=   7.8s\n",
            "[CV] n_features_to_select=17 .........................................\n",
            "[CV]  n_features_to_select=17, score=(train=-5.426, test=-5.393), total=   7.8s\n",
            "[CV] n_features_to_select=17 .........................................\n",
            "[CV]  n_features_to_select=17, score=(train=-5.337, test=-5.393), total=   7.7s\n",
            "[CV] n_features_to_select=17 .........................................\n",
            "[CV]  n_features_to_select=17, score=(train=-5.407, test=-5.325), total=   7.8s\n",
            "[CV] n_features_to_select=18 .........................................\n",
            "[CV]  n_features_to_select=18, score=(train=-5.385, test=-5.558), total=   7.8s\n",
            "[CV] n_features_to_select=18 .........................................\n",
            "[CV]  n_features_to_select=18, score=(train=-5.426, test=-5.368), total=   9.8s\n",
            "[CV] n_features_to_select=18 .........................................\n",
            "[CV]  n_features_to_select=18, score=(train=-5.426, test=-5.392), total=   7.8s\n",
            "[CV] n_features_to_select=18 .........................................\n",
            "[CV]  n_features_to_select=18, score=(train=-5.336, test=-5.391), total=   7.7s\n",
            "[CV] n_features_to_select=18 .........................................\n",
            "[CV]  n_features_to_select=18, score=(train=-5.408, test=-5.322), total=   7.7s\n",
            "[CV] n_features_to_select=19 .........................................\n",
            "[CV]  n_features_to_select=19, score=(train=-5.351, test=-5.523), total=   7.7s\n",
            "[CV] n_features_to_select=19 .........................................\n",
            "[CV]  n_features_to_select=19, score=(train=-5.410, test=-5.357), total=   7.7s\n",
            "[CV] n_features_to_select=19 .........................................\n",
            "[CV]  n_features_to_select=19, score=(train=-5.427, test=-5.390), total=   7.7s\n",
            "[CV] n_features_to_select=19 .........................................\n",
            "[CV]  n_features_to_select=19, score=(train=-5.333, test=-5.389), total=   7.7s\n",
            "[CV] n_features_to_select=19 .........................................\n",
            "[CV]  n_features_to_select=19, score=(train=-5.407, test=-5.323), total=   7.8s\n",
            "[CV] n_features_to_select=20 .........................................\n",
            "[CV]  n_features_to_select=20, score=(train=-5.336, test=-5.504), total=   7.7s\n",
            "[CV] n_features_to_select=20 .........................................\n",
            "[CV]  n_features_to_select=20, score=(train=-5.399, test=-5.346), total=   7.7s\n",
            "[CV] n_features_to_select=20 .........................................\n",
            "[CV]  n_features_to_select=20, score=(train=-5.426, test=-5.394), total=   7.7s\n",
            "[CV] n_features_to_select=20 .........................................\n",
            "[CV]  n_features_to_select=20, score=(train=-5.333, test=-5.389), total=   7.7s\n",
            "[CV] n_features_to_select=20 .........................................\n",
            "[CV]  n_features_to_select=20, score=(train=-5.397, test=-5.308), total=   7.6s\n",
            "[CV] n_features_to_select=21 .........................................\n",
            "[CV]  n_features_to_select=21, score=(train=-5.328, test=-5.495), total=   7.7s\n",
            "[CV] n_features_to_select=21 .........................................\n",
            "[CV]  n_features_to_select=21, score=(train=-5.393, test=-5.343), total=   7.8s\n",
            "[CV] n_features_to_select=21 .........................................\n",
            "[CV]  n_features_to_select=21, score=(train=-5.427, test=-5.392), total=   7.7s\n",
            "[CV] n_features_to_select=21 .........................................\n",
            "[CV]  n_features_to_select=21, score=(train=-5.334, test=-5.392), total=   7.7s\n",
            "[CV] n_features_to_select=21 .........................................\n",
            "[CV]  n_features_to_select=21, score=(train=-5.398, test=-5.305), total=   7.8s\n",
            "[CV] n_features_to_select=22 .........................................\n",
            "[CV]  n_features_to_select=22, score=(train=-5.328, test=-5.496), total=   7.7s\n",
            "[CV] n_features_to_select=22 .........................................\n",
            "[CV]  n_features_to_select=22, score=(train=-5.388, test=-5.333), total=   7.7s\n",
            "[CV] n_features_to_select=22 .........................................\n",
            "[CV]  n_features_to_select=22, score=(train=-5.423, test=-5.390), total=   7.7s\n",
            "[CV] n_features_to_select=22 .........................................\n",
            "[CV]  n_features_to_select=22, score=(train=-5.314, test=-5.382), total=   7.6s\n",
            "[CV] n_features_to_select=22 .........................................\n",
            "[CV]  n_features_to_select=22, score=(train=-5.395, test=-5.314), total=   7.8s\n",
            "[CV] n_features_to_select=23 .........................................\n",
            "[CV]  n_features_to_select=23, score=(train=-5.327, test=-5.496), total=   7.7s\n",
            "[CV] n_features_to_select=23 .........................................\n",
            "[CV]  n_features_to_select=23, score=(train=-5.382, test=-5.325), total=   7.7s\n",
            "[CV] n_features_to_select=23 .........................................\n",
            "[CV]  n_features_to_select=23, score=(train=-5.423, test=-5.394), total=   7.6s\n",
            "[CV] n_features_to_select=23 .........................................\n",
            "[CV]  n_features_to_select=23, score=(train=-5.314, test=-5.385), total=   7.7s\n",
            "[CV] n_features_to_select=23 .........................................\n",
            "[CV]  n_features_to_select=23, score=(train=-5.387, test=-5.307), total=   7.7s\n",
            "[CV] n_features_to_select=24 .........................................\n",
            "[CV]  n_features_to_select=24, score=(train=-5.326, test=-5.493), total=   7.6s\n",
            "[CV] n_features_to_select=24 .........................................\n",
            "[CV]  n_features_to_select=24, score=(train=-5.371, test=-5.315), total=   7.6s\n",
            "[CV] n_features_to_select=24 .........................................\n",
            "[CV]  n_features_to_select=24, score=(train=-5.422, test=-5.391), total=   7.7s\n",
            "[CV] n_features_to_select=24 .........................................\n",
            "[CV]  n_features_to_select=24, score=(train=-5.315, test=-5.380), total=   7.6s\n",
            "[CV] n_features_to_select=24 .........................................\n",
            "[CV]  n_features_to_select=24, score=(train=-5.389, test=-5.307), total=   7.5s\n",
            "[CV] n_features_to_select=25 .........................................\n",
            "[CV]  n_features_to_select=25, score=(train=-5.326, test=-5.494), total=   7.6s\n",
            "[CV] n_features_to_select=25 .........................................\n",
            "[CV]  n_features_to_select=25, score=(train=-5.373, test=-5.310), total=   7.6s\n",
            "[CV] n_features_to_select=25 .........................................\n",
            "[CV]  n_features_to_select=25, score=(train=-5.423, test=-5.394), total=   7.6s\n",
            "[CV] n_features_to_select=25 .........................................\n",
            "[CV]  n_features_to_select=25, score=(train=-5.315, test=-5.375), total=   7.5s\n",
            "[CV] n_features_to_select=25 .........................................\n",
            "[CV]  n_features_to_select=25, score=(train=-5.387, test=-5.305), total=   7.6s\n",
            "[CV] n_features_to_select=26 .........................................\n",
            "[CV]  n_features_to_select=26, score=(train=-5.326, test=-5.493), total=   7.7s\n",
            "[CV] n_features_to_select=26 .........................................\n",
            "[CV]  n_features_to_select=26, score=(train=-5.370, test=-5.313), total=   7.6s\n",
            "[CV] n_features_to_select=26 .........................................\n",
            "[CV]  n_features_to_select=26, score=(train=-5.422, test=-5.390), total=   7.6s\n",
            "[CV] n_features_to_select=26 .........................................\n",
            "[CV]  n_features_to_select=26, score=(train=-5.316, test=-5.375), total=   7.6s\n",
            "[CV] n_features_to_select=26 .........................................\n",
            "[CV]  n_features_to_select=26, score=(train=-5.389, test=-5.305), total=   7.6s\n",
            "[CV] n_features_to_select=27 .........................................\n",
            "[CV]  n_features_to_select=27, score=(train=-5.329, test=-5.501), total=   7.5s\n",
            "[CV] n_features_to_select=27 .........................................\n",
            "[CV]  n_features_to_select=27, score=(train=-5.370, test=-5.316), total=   7.6s\n",
            "[CV] n_features_to_select=27 .........................................\n",
            "[CV]  n_features_to_select=27, score=(train=-5.423, test=-5.394), total=   7.6s\n",
            "[CV] n_features_to_select=27 .........................................\n",
            "[CV]  n_features_to_select=27, score=(train=-5.313, test=-5.378), total=   7.7s\n",
            "[CV] n_features_to_select=27 .........................................\n",
            "[CV]  n_features_to_select=27, score=(train=-5.388, test=-5.308), total=   7.6s\n",
            "[CV] n_features_to_select=28 .........................................\n",
            "[CV]  n_features_to_select=28, score=(train=-5.326, test=-5.497), total=   7.6s\n",
            "[CV] n_features_to_select=28 .........................................\n",
            "[CV]  n_features_to_select=28, score=(train=-5.370, test=-5.314), total=   7.6s\n",
            "[CV] n_features_to_select=28 .........................................\n",
            "[CV]  n_features_to_select=28, score=(train=-5.422, test=-5.393), total=   7.5s\n",
            "[CV] n_features_to_select=28 .........................................\n",
            "[CV]  n_features_to_select=28, score=(train=-5.317, test=-5.376), total=   7.5s\n",
            "[CV] n_features_to_select=28 .........................................\n",
            "[CV]  n_features_to_select=28, score=(train=-5.391, test=-5.307), total=   7.6s\n",
            "[CV] n_features_to_select=29 .........................................\n",
            "[CV]  n_features_to_select=29, score=(train=-5.326, test=-5.498), total=   7.5s\n",
            "[CV] n_features_to_select=29 .........................................\n",
            "[CV]  n_features_to_select=29, score=(train=-5.369, test=-5.315), total=   7.6s\n",
            "[CV] n_features_to_select=29 .........................................\n",
            "[CV]  n_features_to_select=29, score=(train=-5.423, test=-5.392), total=   7.6s\n",
            "[CV] n_features_to_select=29 .........................................\n",
            "[CV]  n_features_to_select=29, score=(train=-5.314, test=-5.374), total=   7.6s\n",
            "[CV] n_features_to_select=29 .........................................\n",
            "[CV]  n_features_to_select=29, score=(train=-5.387, test=-5.306), total=   7.6s\n",
            "[CV] n_features_to_select=30 .........................................\n",
            "[CV]  n_features_to_select=30, score=(train=-5.326, test=-5.495), total=   7.6s\n",
            "[CV] n_features_to_select=30 .........................................\n",
            "[CV]  n_features_to_select=30, score=(train=-5.368, test=-5.312), total=   7.6s\n",
            "[CV] n_features_to_select=30 .........................................\n",
            "[CV]  n_features_to_select=30, score=(train=-5.421, test=-5.393), total=   7.6s\n",
            "[CV] n_features_to_select=30 .........................................\n",
            "[CV]  n_features_to_select=30, score=(train=-5.307, test=-5.371), total=   7.5s\n",
            "[CV] n_features_to_select=30 .........................................\n",
            "[CV]  n_features_to_select=30, score=(train=-5.390, test=-5.310), total=   7.6s\n",
            "[CV] n_features_to_select=31 .........................................\n",
            "[CV]  n_features_to_select=31, score=(train=-5.300, test=-5.484), total=   7.6s\n",
            "[CV] n_features_to_select=31 .........................................\n",
            "[CV]  n_features_to_select=31, score=(train=-5.368, test=-5.312), total=   7.5s\n",
            "[CV] n_features_to_select=31 .........................................\n",
            "[CV]  n_features_to_select=31, score=(train=-5.425, test=-5.395), total=   7.7s\n",
            "[CV] n_features_to_select=31 .........................................\n",
            "[CV]  n_features_to_select=31, score=(train=-5.292, test=-5.365), total=   7.6s\n",
            "[CV] n_features_to_select=31 .........................................\n",
            "[CV]  n_features_to_select=31, score=(train=-5.390, test=-5.310), total=   7.5s\n",
            "[CV] n_features_to_select=32 .........................................\n",
            "[CV]  n_features_to_select=32, score=(train=-5.295, test=-5.480), total=   7.5s\n",
            "[CV] n_features_to_select=32 .........................................\n",
            "[CV]  n_features_to_select=32, score=(train=-5.364, test=-5.311), total=   7.6s\n",
            "[CV] n_features_to_select=32 .........................................\n",
            "[CV]  n_features_to_select=32, score=(train=-5.427, test=-5.399), total=   7.6s\n",
            "[CV] n_features_to_select=32 .........................................\n",
            "[CV]  n_features_to_select=32, score=(train=-5.276, test=-5.343), total=   7.6s\n",
            "[CV] n_features_to_select=32 .........................................\n",
            "[CV]  n_features_to_select=32, score=(train=-5.388, test=-5.303), total=   7.5s\n",
            "[CV] n_features_to_select=33 .........................................\n",
            "[CV]  n_features_to_select=33, score=(train=-5.287, test=-5.468), total=   7.5s\n",
            "[CV] n_features_to_select=33 .........................................\n",
            "[CV]  n_features_to_select=33, score=(train=-5.368, test=-5.311), total=   7.5s\n",
            "[CV] n_features_to_select=33 .........................................\n",
            "[CV]  n_features_to_select=33, score=(train=-5.413, test=-5.386), total=   7.5s\n",
            "[CV] n_features_to_select=33 .........................................\n",
            "[CV]  n_features_to_select=33, score=(train=-5.275, test=-5.337), total=   7.5s\n",
            "[CV] n_features_to_select=33 .........................................\n",
            "[CV]  n_features_to_select=33, score=(train=-5.387, test=-5.315), total=   7.6s\n",
            "[CV] n_features_to_select=34 .........................................\n",
            "[CV]  n_features_to_select=34, score=(train=-5.288, test=-5.467), total=   7.6s\n",
            "[CV] n_features_to_select=34 .........................................\n",
            "[CV]  n_features_to_select=34, score=(train=-5.339, test=-5.310), total=   7.4s\n",
            "[CV] n_features_to_select=34 .........................................\n",
            "[CV]  n_features_to_select=34, score=(train=-5.396, test=-5.377), total=   7.5s\n",
            "[CV] n_features_to_select=34 .........................................\n",
            "[CV]  n_features_to_select=34, score=(train=-5.277, test=-5.330), total=   7.5s\n",
            "[CV] n_features_to_select=34 .........................................\n",
            "[CV]  n_features_to_select=34, score=(train=-5.385, test=-5.312), total=   7.4s\n",
            "[CV] n_features_to_select=35 .........................................\n",
            "[CV]  n_features_to_select=35, score=(train=-5.287, test=-5.467), total=   8.2s\n",
            "[CV] n_features_to_select=35 .........................................\n",
            "[CV]  n_features_to_select=35, score=(train=-5.326, test=-5.286), total=   7.5s\n",
            "[CV] n_features_to_select=35 .........................................\n",
            "[CV]  n_features_to_select=35, score=(train=-5.371, test=-5.357), total=   7.5s\n",
            "[CV] n_features_to_select=35 .........................................\n",
            "[CV]  n_features_to_select=35, score=(train=-5.269, test=-5.318), total=   7.5s\n",
            "[CV] n_features_to_select=35 .........................................\n",
            "[CV]  n_features_to_select=35, score=(train=-5.381, test=-5.303), total=   7.4s\n",
            "[CV] n_features_to_select=36 .........................................\n",
            "[CV]  n_features_to_select=36, score=(train=-5.288, test=-5.467), total=   7.5s\n",
            "[CV] n_features_to_select=36 .........................................\n",
            "[CV]  n_features_to_select=36, score=(train=-5.328, test=-5.288), total=   7.5s\n",
            "[CV] n_features_to_select=36 .........................................\n",
            "[CV]  n_features_to_select=36, score=(train=-5.375, test=-5.365), total=   7.4s\n",
            "[CV] n_features_to_select=36 .........................................\n",
            "[CV]  n_features_to_select=36, score=(train=-5.249, test=-5.301), total=   7.4s\n",
            "[CV] n_features_to_select=36 .........................................\n",
            "[CV]  n_features_to_select=36, score=(train=-5.382, test=-5.303), total=   7.5s\n",
            "[CV] n_features_to_select=37 .........................................\n",
            "[CV]  n_features_to_select=37, score=(train=-5.283, test=-5.456), total=   7.4s\n",
            "[CV] n_features_to_select=37 .........................................\n",
            "[CV]  n_features_to_select=37, score=(train=-5.326, test=-5.287), total=   7.5s\n",
            "[CV] n_features_to_select=37 .........................................\n",
            "[CV]  n_features_to_select=37, score=(train=-5.372, test=-5.362), total=   7.4s\n",
            "[CV] n_features_to_select=37 .........................................\n",
            "[CV]  n_features_to_select=37, score=(train=-5.246, test=-5.304), total=   7.4s\n",
            "[CV] n_features_to_select=37 .........................................\n",
            "[CV]  n_features_to_select=37, score=(train=-5.339, test=-5.250), total=   7.5s\n",
            "[CV] n_features_to_select=38 .........................................\n",
            "[CV]  n_features_to_select=38, score=(train=-5.278, test=-5.446), total=   7.4s\n",
            "[CV] n_features_to_select=38 .........................................\n",
            "[CV]  n_features_to_select=38, score=(train=-5.324, test=-5.287), total=   7.4s\n",
            "[CV] n_features_to_select=38 .........................................\n",
            "[CV]  n_features_to_select=38, score=(train=-5.371, test=-5.360), total=   7.3s\n",
            "[CV] n_features_to_select=38 .........................................\n",
            "[CV]  n_features_to_select=38, score=(train=-5.247, test=-5.299), total=   7.3s\n",
            "[CV] n_features_to_select=38 .........................................\n",
            "[CV]  n_features_to_select=38, score=(train=-5.339, test=-5.254), total=   7.4s\n",
            "[CV] n_features_to_select=39 .........................................\n",
            "[CV]  n_features_to_select=39, score=(train=-5.267, test=-5.426), total=   7.2s\n",
            "[CV] n_features_to_select=39 .........................................\n",
            "[CV]  n_features_to_select=39, score=(train=-5.324, test=-5.284), total=   7.3s\n",
            "[CV] n_features_to_select=39 .........................................\n",
            "[CV]  n_features_to_select=39, score=(train=-5.372, test=-5.361), total=   7.3s\n",
            "[CV] n_features_to_select=39 .........................................\n",
            "[CV]  n_features_to_select=39, score=(train=-5.245, test=-5.303), total=   7.3s\n",
            "[CV] n_features_to_select=39 .........................................\n",
            "[CV]  n_features_to_select=39, score=(train=-5.334, test=-5.241), total=   7.3s\n",
            "[CV] n_features_to_select=40 .........................................\n",
            "[CV]  n_features_to_select=40, score=(train=-5.254, test=-5.409), total=   7.3s\n",
            "[CV] n_features_to_select=40 .........................................\n",
            "[CV]  n_features_to_select=40, score=(train=-5.328, test=-5.290), total=   7.4s\n",
            "[CV] n_features_to_select=40 .........................................\n",
            "[CV]  n_features_to_select=40, score=(train=-5.372, test=-5.368), total=   7.3s\n",
            "[CV] n_features_to_select=40 .........................................\n",
            "[CV]  n_features_to_select=40, score=(train=-5.248, test=-5.298), total=   7.3s\n",
            "[CV] n_features_to_select=40 .........................................\n",
            "[CV]  n_features_to_select=40, score=(train=-5.330, test=-5.240), total=   7.3s\n",
            "[CV] n_features_to_select=41 .........................................\n",
            "[CV]  n_features_to_select=41, score=(train=-5.239, test=-5.391), total=   7.3s\n",
            "[CV] n_features_to_select=41 .........................................\n",
            "[CV]  n_features_to_select=41, score=(train=-5.326, test=-5.284), total=   7.3s\n",
            "[CV] n_features_to_select=41 .........................................\n",
            "[CV]  n_features_to_select=41, score=(train=-5.371, test=-5.365), total=   7.3s\n",
            "[CV] n_features_to_select=41 .........................................\n",
            "[CV]  n_features_to_select=41, score=(train=-5.245, test=-5.301), total=   7.3s\n",
            "[CV] n_features_to_select=41 .........................................\n",
            "[CV]  n_features_to_select=41, score=(train=-5.326, test=-5.231), total=   7.3s\n",
            "[CV] n_features_to_select=42 .........................................\n",
            "[CV]  n_features_to_select=42, score=(train=-5.236, test=-5.391), total=   7.4s\n",
            "[CV] n_features_to_select=42 .........................................\n",
            "[CV]  n_features_to_select=42, score=(train=-5.325, test=-5.288), total=   7.4s\n",
            "[CV] n_features_to_select=42 .........................................\n",
            "[CV]  n_features_to_select=42, score=(train=-5.343, test=-5.348), total=   7.4s\n",
            "[CV] n_features_to_select=42 .........................................\n",
            "[CV]  n_features_to_select=42, score=(train=-5.246, test=-5.305), total=   7.3s\n",
            "[CV] n_features_to_select=42 .........................................\n",
            "[CV]  n_features_to_select=42, score=(train=-5.327, test=-5.232), total=   7.3s\n",
            "[CV] n_features_to_select=43 .........................................\n",
            "[CV]  n_features_to_select=43, score=(train=-5.232, test=-5.374), total=   7.3s\n",
            "[CV] n_features_to_select=43 .........................................\n",
            "[CV]  n_features_to_select=43, score=(train=-5.325, test=-5.287), total=   7.3s\n",
            "[CV] n_features_to_select=43 .........................................\n",
            "[CV]  n_features_to_select=43, score=(train=-5.323, test=-5.332), total=   7.3s\n",
            "[CV] n_features_to_select=43 .........................................\n",
            "[CV]  n_features_to_select=43, score=(train=-5.245, test=-5.310), total=   7.2s\n",
            "[CV] n_features_to_select=43 .........................................\n",
            "[CV]  n_features_to_select=43, score=(train=-5.331, test=-5.231), total=   7.3s\n",
            "[CV] n_features_to_select=44 .........................................\n",
            "[CV]  n_features_to_select=44, score=(train=-5.234, test=-5.378), total=   7.3s\n",
            "[CV] n_features_to_select=44 .........................................\n",
            "[CV]  n_features_to_select=44, score=(train=-5.319, test=-5.281), total=   7.2s\n",
            "[CV] n_features_to_select=44 .........................................\n",
            "[CV]  n_features_to_select=44, score=(train=-5.312, test=-5.319), total=   7.3s\n",
            "[CV] n_features_to_select=44 .........................................\n",
            "[CV]  n_features_to_select=44, score=(train=-5.241, test=-5.302), total=   7.4s\n",
            "[CV] n_features_to_select=44 .........................................\n",
            "[CV]  n_features_to_select=44, score=(train=-5.326, test=-5.230), total=   7.4s\n",
            "[CV] n_features_to_select=45 .........................................\n",
            "[CV]  n_features_to_select=45, score=(train=-5.234, test=-5.376), total=   7.3s\n",
            "[CV] n_features_to_select=45 .........................................\n",
            "[CV]  n_features_to_select=45, score=(train=-5.320, test=-5.280), total=   7.4s\n",
            "[CV] n_features_to_select=45 .........................................\n",
            "[CV]  n_features_to_select=45, score=(train=-5.310, test=-5.317), total=   7.4s\n",
            "[CV] n_features_to_select=45 .........................................\n",
            "[CV]  n_features_to_select=45, score=(train=-5.241, test=-5.301), total=   7.3s\n",
            "[CV] n_features_to_select=45 .........................................\n",
            "[CV]  n_features_to_select=45, score=(train=-5.327, test=-5.233), total=   7.2s\n",
            "[CV] n_features_to_select=46 .........................................\n",
            "[CV]  n_features_to_select=46, score=(train=-5.217, test=-5.373), total=   7.3s\n",
            "[CV] n_features_to_select=46 .........................................\n",
            "[CV]  n_features_to_select=46, score=(train=-5.318, test=-5.278), total=   7.4s\n",
            "[CV] n_features_to_select=46 .........................................\n",
            "[CV]  n_features_to_select=46, score=(train=-5.305, test=-5.311), total=   7.3s\n",
            "[CV] n_features_to_select=46 .........................................\n",
            "[CV]  n_features_to_select=46, score=(train=-5.240, test=-5.305), total=   7.4s\n",
            "[CV] n_features_to_select=46 .........................................\n",
            "[CV]  n_features_to_select=46, score=(train=-5.329, test=-5.231), total=   7.4s\n",
            "[CV] n_features_to_select=47 .........................................\n",
            "[CV]  n_features_to_select=47, score=(train=-5.217, test=-5.376), total=   7.4s\n",
            "[CV] n_features_to_select=47 .........................................\n",
            "[CV]  n_features_to_select=47, score=(train=-5.316, test=-5.275), total=   7.3s\n",
            "[CV] n_features_to_select=47 .........................................\n",
            "[CV]  n_features_to_select=47, score=(train=-5.304, test=-5.308), total=   7.3s\n",
            "[CV] n_features_to_select=47 .........................................\n",
            "[CV]  n_features_to_select=47, score=(train=-5.240, test=-5.301), total=   7.3s\n",
            "[CV] n_features_to_select=47 .........................................\n",
            "[CV]  n_features_to_select=47, score=(train=-5.328, test=-5.230), total=   7.2s\n",
            "[CV] n_features_to_select=48 .........................................\n",
            "[CV]  n_features_to_select=48, score=(train=-5.215, test=-5.371), total=   7.1s\n",
            "[CV] n_features_to_select=48 .........................................\n",
            "[CV]  n_features_to_select=48, score=(train=-5.316, test=-5.280), total=   7.1s\n",
            "[CV] n_features_to_select=48 .........................................\n",
            "[CV]  n_features_to_select=48, score=(train=-5.306, test=-5.316), total=   7.1s\n",
            "[CV] n_features_to_select=48 .........................................\n",
            "[CV]  n_features_to_select=48, score=(train=-5.240, test=-5.310), total=   7.3s\n",
            "[CV] n_features_to_select=48 .........................................\n",
            "[CV]  n_features_to_select=48, score=(train=-5.323, test=-5.225), total=   7.2s\n",
            "[CV] n_features_to_select=49 .........................................\n",
            "[CV]  n_features_to_select=49, score=(train=-5.214, test=-5.371), total=   7.1s\n",
            "[CV] n_features_to_select=49 .........................................\n",
            "[CV]  n_features_to_select=49, score=(train=-5.316, test=-5.275), total=   7.2s\n",
            "[CV] n_features_to_select=49 .........................................\n",
            "[CV]  n_features_to_select=49, score=(train=-5.304, test=-5.312), total=   7.1s\n",
            "[CV] n_features_to_select=49 .........................................\n",
            "[CV]  n_features_to_select=49, score=(train=-5.241, test=-5.306), total=   7.2s\n",
            "[CV] n_features_to_select=49 .........................................\n",
            "[CV]  n_features_to_select=49, score=(train=-5.325, test=-5.223), total=   7.2s\n",
            "[CV] n_features_to_select=50 .........................................\n",
            "[CV]  n_features_to_select=50, score=(train=-5.213, test=-5.368), total=   7.1s\n",
            "[CV] n_features_to_select=50 .........................................\n",
            "[CV]  n_features_to_select=50, score=(train=-5.317, test=-5.276), total=   7.1s\n",
            "[CV] n_features_to_select=50 .........................................\n",
            "[CV]  n_features_to_select=50, score=(train=-5.302, test=-5.315), total=   7.1s\n",
            "[CV] n_features_to_select=50 .........................................\n",
            "[CV]  n_features_to_select=50, score=(train=-5.235, test=-5.298), total=   7.1s\n",
            "[CV] n_features_to_select=50 .........................................\n",
            "[CV]  n_features_to_select=50, score=(train=-5.324, test=-5.230), total=   6.9s\n",
            "[CV] n_features_to_select=51 .........................................\n",
            "[CV]  n_features_to_select=51, score=(train=-5.210, test=-5.361), total=   7.0s\n",
            "[CV] n_features_to_select=51 .........................................\n",
            "[CV]  n_features_to_select=51, score=(train=-5.311, test=-5.269), total=   7.0s\n",
            "[CV] n_features_to_select=51 .........................................\n",
            "[CV]  n_features_to_select=51, score=(train=-5.304, test=-5.320), total=   7.0s\n",
            "[CV] n_features_to_select=51 .........................................\n",
            "[CV]  n_features_to_select=51, score=(train=-5.234, test=-5.300), total=   7.0s\n",
            "[CV] n_features_to_select=51 .........................................\n",
            "[CV]  n_features_to_select=51, score=(train=-5.324, test=-5.226), total=   7.0s\n",
            "[CV] n_features_to_select=52 .........................................\n",
            "[CV]  n_features_to_select=52, score=(train=-5.213, test=-5.364), total=   7.0s\n",
            "[CV] n_features_to_select=52 .........................................\n",
            "[CV]  n_features_to_select=52, score=(train=-5.298, test=-5.260), total=   6.9s\n",
            "[CV] n_features_to_select=52 .........................................\n",
            "[CV]  n_features_to_select=52, score=(train=-5.303, test=-5.317), total=   6.9s\n",
            "[CV] n_features_to_select=52 .........................................\n",
            "[CV]  n_features_to_select=52, score=(train=-5.233, test=-5.300), total=   7.0s\n",
            "[CV] n_features_to_select=52 .........................................\n",
            "[CV]  n_features_to_select=52, score=(train=-5.327, test=-5.224), total=   6.8s\n",
            "[CV] n_features_to_select=53 .........................................\n",
            "[CV]  n_features_to_select=53, score=(train=-5.210, test=-5.361), total=   6.9s\n",
            "[CV] n_features_to_select=53 .........................................\n",
            "[CV]  n_features_to_select=53, score=(train=-5.286, test=-5.282), total=   7.0s\n",
            "[CV] n_features_to_select=53 .........................................\n",
            "[CV]  n_features_to_select=53, score=(train=-5.299, test=-5.314), total=   6.9s\n",
            "[CV] n_features_to_select=53 .........................................\n",
            "[CV]  n_features_to_select=53, score=(train=-5.233, test=-5.301), total=   6.9s\n",
            "[CV] n_features_to_select=53 .........................................\n",
            "[CV]  n_features_to_select=53, score=(train=-5.328, test=-5.221), total=   6.8s\n",
            "[CV] n_features_to_select=54 .........................................\n",
            "[CV]  n_features_to_select=54, score=(train=-5.210, test=-5.362), total=   6.8s\n",
            "[CV] n_features_to_select=54 .........................................\n",
            "[CV]  n_features_to_select=54, score=(train=-5.267, test=-5.248), total=   6.8s\n",
            "[CV] n_features_to_select=54 .........................................\n",
            "[CV]  n_features_to_select=54, score=(train=-5.294, test=-5.309), total=   6.8s\n",
            "[CV] n_features_to_select=54 .........................................\n",
            "[CV]  n_features_to_select=54, score=(train=-5.231, test=-5.298), total=   6.8s\n",
            "[CV] n_features_to_select=54 .........................................\n",
            "[CV]  n_features_to_select=54, score=(train=-5.325, test=-5.226), total=   6.8s\n",
            "[CV] n_features_to_select=55 .........................................\n",
            "[CV]  n_features_to_select=55, score=(train=-5.211, test=-5.363), total=   6.7s\n",
            "[CV] n_features_to_select=55 .........................................\n",
            "[CV]  n_features_to_select=55, score=(train=-5.251, test=-5.229), total=   6.8s\n",
            "[CV] n_features_to_select=55 .........................................\n",
            "[CV]  n_features_to_select=55, score=(train=-5.293, test=-5.314), total=   6.9s\n",
            "[CV] n_features_to_select=55 .........................................\n",
            "[CV]  n_features_to_select=55, score=(train=-5.230, test=-5.302), total=   6.9s\n",
            "[CV] n_features_to_select=55 .........................................\n",
            "[CV]  n_features_to_select=55, score=(train=-5.323, test=-5.222), total=   6.9s\n",
            "[CV] n_features_to_select=56 .........................................\n",
            "[CV]  n_features_to_select=56, score=(train=-5.212, test=-5.364), total=   6.8s\n",
            "[CV] n_features_to_select=56 .........................................\n",
            "[CV]  n_features_to_select=56, score=(train=-5.250, test=-5.225), total=   6.8s\n",
            "[CV] n_features_to_select=56 .........................................\n",
            "[CV]  n_features_to_select=56, score=(train=-5.292, test=-5.312), total=   6.8s\n",
            "[CV] n_features_to_select=56 .........................................\n",
            "[CV]  n_features_to_select=56, score=(train=-5.232, test=-5.298), total=   6.7s\n",
            "[CV] n_features_to_select=56 .........................................\n",
            "[CV]  n_features_to_select=56, score=(train=-5.317, test=-5.225), total=   6.7s\n",
            "[CV] n_features_to_select=57 .........................................\n",
            "[CV]  n_features_to_select=57, score=(train=-5.206, test=-5.358), total=   6.7s\n",
            "[CV] n_features_to_select=57 .........................................\n",
            "[CV]  n_features_to_select=57, score=(train=-5.247, test=-5.222), total=   6.6s\n",
            "[CV] n_features_to_select=57 .........................................\n",
            "[CV]  n_features_to_select=57, score=(train=-5.294, test=-5.314), total=   6.6s\n",
            "[CV] n_features_to_select=57 .........................................\n",
            "[CV]  n_features_to_select=57, score=(train=-5.230, test=-5.298), total=   6.7s\n",
            "[CV] n_features_to_select=57 .........................................\n",
            "[CV]  n_features_to_select=57, score=(train=-5.317, test=-5.223), total=   6.7s\n",
            "[CV] n_features_to_select=58 .........................................\n",
            "[CV]  n_features_to_select=58, score=(train=-5.206, test=-5.359), total=   6.7s\n",
            "[CV] n_features_to_select=58 .........................................\n",
            "[CV]  n_features_to_select=58, score=(train=-5.246, test=-5.218), total=   6.7s\n",
            "[CV] n_features_to_select=58 .........................................\n",
            "[CV]  n_features_to_select=58, score=(train=-5.292, test=-5.312), total=   6.5s\n",
            "[CV] n_features_to_select=58 .........................................\n",
            "[CV]  n_features_to_select=58, score=(train=-5.227, test=-5.304), total=   6.6s\n",
            "[CV] n_features_to_select=58 .........................................\n",
            "[CV]  n_features_to_select=58, score=(train=-5.295, test=-5.204), total=   6.6s\n",
            "[CV] n_features_to_select=59 .........................................\n",
            "[CV]  n_features_to_select=59, score=(train=-5.208, test=-5.359), total=   6.5s\n",
            "[CV] n_features_to_select=59 .........................................\n",
            "[CV]  n_features_to_select=59, score=(train=-5.247, test=-5.222), total=   6.5s\n",
            "[CV] n_features_to_select=59 .........................................\n",
            "[CV]  n_features_to_select=59, score=(train=-5.292, test=-5.310), total=   6.6s\n",
            "[CV] n_features_to_select=59 .........................................\n",
            "[CV]  n_features_to_select=59, score=(train=-5.227, test=-5.299), total=   6.6s\n",
            "[CV] n_features_to_select=59 .........................................\n",
            "[CV]  n_features_to_select=59, score=(train=-5.291, test=-5.195), total=   6.6s\n",
            "[CV] n_features_to_select=60 .........................................\n",
            "[CV]  n_features_to_select=60, score=(train=-5.204, test=-5.353), total=   6.5s\n",
            "[CV] n_features_to_select=60 .........................................\n",
            "[CV]  n_features_to_select=60, score=(train=-5.242, test=-5.218), total=   6.5s\n",
            "[CV] n_features_to_select=60 .........................................\n",
            "[CV]  n_features_to_select=60, score=(train=-5.274, test=-5.291), total=   6.5s\n",
            "[CV] n_features_to_select=60 .........................................\n",
            "[CV]  n_features_to_select=60, score=(train=-5.223, test=-5.297), total=   6.5s\n",
            "[CV] n_features_to_select=60 .........................................\n",
            "[CV]  n_features_to_select=60, score=(train=-5.267, test=-5.174), total=   6.5s\n",
            "[CV] n_features_to_select=61 .........................................\n",
            "[CV]  n_features_to_select=61, score=(train=-5.204, test=-5.355), total=   6.4s\n",
            "[CV] n_features_to_select=61 .........................................\n",
            "[CV]  n_features_to_select=61, score=(train=-5.248, test=-5.224), total=   6.4s\n",
            "[CV] n_features_to_select=61 .........................................\n",
            "[CV]  n_features_to_select=61, score=(train=-5.265, test=-5.287), total=   6.4s\n",
            "[CV] n_features_to_select=61 .........................................\n",
            "[CV]  n_features_to_select=61, score=(train=-5.222, test=-5.292), total=   6.4s\n",
            "[CV] n_features_to_select=61 .........................................\n",
            "[CV]  n_features_to_select=61, score=(train=-5.264, test=-5.162), total=   6.4s\n",
            "[CV] n_features_to_select=62 .........................................\n",
            "[CV]  n_features_to_select=62, score=(train=-5.215, test=-5.356), total=   6.4s\n",
            "[CV] n_features_to_select=62 .........................................\n",
            "[CV]  n_features_to_select=62, score=(train=-5.252, test=-5.227), total=   6.4s\n",
            "[CV] n_features_to_select=62 .........................................\n",
            "[CV]  n_features_to_select=62, score=(train=-5.255, test=-5.273), total=   6.4s\n",
            "[CV] n_features_to_select=62 .........................................\n",
            "[CV]  n_features_to_select=62, score=(train=-5.223, test=-5.294), total=   6.3s\n",
            "[CV] n_features_to_select=62 .........................................\n",
            "[CV]  n_features_to_select=62, score=(train=-5.261, test=-5.164), total=   6.4s\n",
            "[CV] n_features_to_select=63 .........................................\n",
            "[CV]  n_features_to_select=63, score=(train=-5.205, test=-5.355), total=   6.2s\n",
            "[CV] n_features_to_select=63 .........................................\n",
            "[CV]  n_features_to_select=63, score=(train=-5.247, test=-5.222), total=   6.3s\n",
            "[CV] n_features_to_select=63 .........................................\n",
            "[CV]  n_features_to_select=63, score=(train=-5.250, test=-5.267), total=   6.3s\n",
            "[CV] n_features_to_select=63 .........................................\n",
            "[CV]  n_features_to_select=63, score=(train=-5.223, test=-5.299), total=   6.3s\n",
            "[CV] n_features_to_select=63 .........................................\n",
            "[CV]  n_features_to_select=63, score=(train=-5.260, test=-5.159), total=   6.3s\n",
            "[CV] n_features_to_select=64 .........................................\n",
            "[CV]  n_features_to_select=64, score=(train=-5.204, test=-5.354), total=   6.2s\n",
            "[CV] n_features_to_select=64 .........................................\n",
            "[CV]  n_features_to_select=64, score=(train=-5.245, test=-5.220), total=   6.2s\n",
            "[CV] n_features_to_select=64 .........................................\n",
            "[CV]  n_features_to_select=64, score=(train=-5.243, test=-5.269), total=   6.3s\n",
            "[CV] n_features_to_select=64 .........................................\n",
            "[CV]  n_features_to_select=64, score=(train=-5.222, test=-5.301), total=   6.2s\n",
            "[CV] n_features_to_select=64 .........................................\n",
            "[CV]  n_features_to_select=64, score=(train=-5.259, test=-5.160), total=   6.3s\n",
            "[CV] n_features_to_select=65 .........................................\n",
            "[CV]  n_features_to_select=65, score=(train=-5.203, test=-5.356), total=   6.2s\n",
            "[CV] n_features_to_select=65 .........................................\n",
            "[CV]  n_features_to_select=65, score=(train=-5.243, test=-5.212), total=   6.2s\n",
            "[CV] n_features_to_select=65 .........................................\n",
            "[CV]  n_features_to_select=65, score=(train=-5.227, test=-5.254), total=   6.3s\n",
            "[CV] n_features_to_select=65 .........................................\n",
            "[CV]  n_features_to_select=65, score=(train=-5.221, test=-5.295), total=   6.2s\n",
            "[CV] n_features_to_select=65 .........................................\n",
            "[CV]  n_features_to_select=65, score=(train=-5.256, test=-5.167), total=   6.2s\n",
            "[CV] n_features_to_select=66 .........................................\n",
            "[CV]  n_features_to_select=66, score=(train=-5.204, test=-5.354), total=   6.1s\n",
            "[CV] n_features_to_select=66 .........................................\n",
            "[CV]  n_features_to_select=66, score=(train=-5.246, test=-5.214), total=   6.1s\n",
            "[CV] n_features_to_select=66 .........................................\n",
            "[CV]  n_features_to_select=66, score=(train=-5.228, test=-5.254), total=   6.1s\n",
            "[CV] n_features_to_select=66 .........................................\n",
            "[CV]  n_features_to_select=66, score=(train=-5.222, test=-5.296), total=   6.1s\n",
            "[CV] n_features_to_select=66 .........................................\n",
            "[CV]  n_features_to_select=66, score=(train=-5.258, test=-5.159), total=   6.1s\n",
            "[CV] n_features_to_select=67 .........................................\n",
            "[CV]  n_features_to_select=67, score=(train=-5.195, test=-5.365), total=   5.9s\n",
            "[CV] n_features_to_select=67 .........................................\n",
            "[CV]  n_features_to_select=67, score=(train=-5.239, test=-5.204), total=   6.0s\n",
            "[CV] n_features_to_select=67 .........................................\n",
            "[CV]  n_features_to_select=67, score=(train=-5.228, test=-5.253), total=   6.1s\n",
            "[CV] n_features_to_select=67 .........................................\n",
            "[CV]  n_features_to_select=67, score=(train=-5.214, test=-5.279), total=   6.0s\n",
            "[CV] n_features_to_select=67 .........................................\n",
            "[CV]  n_features_to_select=67, score=(train=-5.247, test=-5.153), total=   6.0s\n",
            "[CV] n_features_to_select=68 .........................................\n",
            "[CV]  n_features_to_select=68, score=(train=-5.186, test=-5.356), total=   5.9s\n",
            "[CV] n_features_to_select=68 .........................................\n",
            "[CV]  n_features_to_select=68, score=(train=-5.227, test=-5.184), total=   5.9s\n",
            "[CV] n_features_to_select=68 .........................................\n",
            "[CV]  n_features_to_select=68, score=(train=-5.225, test=-5.251), total=   6.0s\n",
            "[CV] n_features_to_select=68 .........................................\n",
            "[CV]  n_features_to_select=68, score=(train=-5.205, test=-5.270), total=   5.9s\n",
            "[CV] n_features_to_select=68 .........................................\n",
            "[CV]  n_features_to_select=68, score=(train=-5.237, test=-5.165), total=   5.9s\n",
            "[CV] n_features_to_select=69 .........................................\n",
            "[CV]  n_features_to_select=69, score=(train=-5.123, test=-5.279), total=   5.8s\n",
            "[CV] n_features_to_select=69 .........................................\n",
            "[CV]  n_features_to_select=69, score=(train=-5.162, test=-5.150), total=   5.9s\n",
            "[CV] n_features_to_select=69 .........................................\n",
            "[CV]  n_features_to_select=69, score=(train=-5.226, test=-5.256), total=   5.9s\n",
            "[CV] n_features_to_select=69 .........................................\n",
            "[CV]  n_features_to_select=69, score=(train=-5.143, test=-5.206), total=   5.8s\n",
            "[CV] n_features_to_select=69 .........................................\n",
            "[CV]  n_features_to_select=69, score=(train=-5.235, test=-5.152), total=   5.8s\n",
            "[CV] n_features_to_select=70 .........................................\n",
            "[CV]  n_features_to_select=70, score=(train=-5.095, test=-5.265), total=   5.8s\n",
            "[CV] n_features_to_select=70 .........................................\n",
            "[CV]  n_features_to_select=70, score=(train=-5.157, test=-5.140), total=   5.8s\n",
            "[CV] n_features_to_select=70 .........................................\n",
            "[CV]  n_features_to_select=70, score=(train=-5.221, test=-5.245), total=   5.8s\n",
            "[CV] n_features_to_select=70 .........................................\n",
            "[CV]  n_features_to_select=70, score=(train=-5.138, test=-5.211), total=   5.7s\n",
            "[CV] n_features_to_select=70 .........................................\n",
            "[CV]  n_features_to_select=70, score=(train=-5.233, test=-5.155), total=   5.8s\n",
            "[CV] n_features_to_select=71 .........................................\n",
            "[CV]  n_features_to_select=71, score=(train=-5.075, test=-5.250), total=   5.6s\n",
            "[CV] n_features_to_select=71 .........................................\n",
            "[CV]  n_features_to_select=71, score=(train=-5.153, test=-5.142), total=   5.6s\n",
            "[CV] n_features_to_select=71 .........................................\n",
            "[CV]  n_features_to_select=71, score=(train=-5.212, test=-5.232), total=   5.6s\n",
            "[CV] n_features_to_select=71 .........................................\n",
            "[CV]  n_features_to_select=71, score=(train=-5.138, test=-5.210), total=   5.7s\n",
            "[CV] n_features_to_select=71 .........................................\n",
            "[CV]  n_features_to_select=71, score=(train=-5.234, test=-5.157), total=   5.6s\n",
            "[CV] n_features_to_select=72 .........................................\n",
            "[CV]  n_features_to_select=72, score=(train=-5.071, test=-5.243), total=   5.6s\n",
            "[CV] n_features_to_select=72 .........................................\n",
            "[CV]  n_features_to_select=72, score=(train=-5.153, test=-5.142), total=   5.6s\n",
            "[CV] n_features_to_select=72 .........................................\n",
            "[CV]  n_features_to_select=72, score=(train=-5.155, test=-5.157), total=   5.6s\n",
            "[CV] n_features_to_select=72 .........................................\n",
            "[CV]  n_features_to_select=72, score=(train=-5.137, test=-5.209), total=   5.6s\n",
            "[CV] n_features_to_select=72 .........................................\n",
            "[CV]  n_features_to_select=72, score=(train=-5.212, test=-5.131), total=   5.6s\n",
            "[CV] n_features_to_select=73 .........................................\n",
            "[CV]  n_features_to_select=73, score=(train=-5.073, test=-5.240), total=   5.5s\n",
            "[CV] n_features_to_select=73 .........................................\n",
            "[CV]  n_features_to_select=73, score=(train=-5.146, test=-5.151), total=   5.5s\n",
            "[CV] n_features_to_select=73 .........................................\n",
            "[CV]  n_features_to_select=73, score=(train=-5.139, test=-5.124), total=   5.5s\n",
            "[CV] n_features_to_select=73 .........................................\n",
            "[CV]  n_features_to_select=73, score=(train=-5.133, test=-5.208), total=   5.4s\n",
            "[CV] n_features_to_select=73 .........................................\n",
            "[CV]  n_features_to_select=73, score=(train=-5.208, test=-5.136), total=   5.5s\n",
            "[CV] n_features_to_select=74 .........................................\n",
            "[CV]  n_features_to_select=74, score=(train=-5.071, test=-5.244), total=   5.3s\n",
            "[CV] n_features_to_select=74 .........................................\n",
            "[CV]  n_features_to_select=74, score=(train=-5.150, test=-5.153), total=   5.5s\n",
            "[CV] n_features_to_select=74 .........................................\n",
            "[CV]  n_features_to_select=74, score=(train=-5.140, test=-5.125), total=   5.3s\n",
            "[CV] n_features_to_select=74 .........................................\n",
            "[CV]  n_features_to_select=74, score=(train=-5.119, test=-5.203), total=   5.4s\n",
            "[CV] n_features_to_select=74 .........................................\n",
            "[CV]  n_features_to_select=74, score=(train=-5.196, test=-5.130), total=   5.4s\n",
            "[CV] n_features_to_select=75 .........................................\n",
            "[CV]  n_features_to_select=75, score=(train=-5.069, test=-5.239), total=   5.3s\n",
            "[CV] n_features_to_select=75 .........................................\n",
            "[CV]  n_features_to_select=75, score=(train=-5.145, test=-5.154), total=   5.3s\n",
            "[CV] n_features_to_select=75 .........................................\n",
            "[CV]  n_features_to_select=75, score=(train=-5.140, test=-5.117), total=   5.3s\n",
            "[CV] n_features_to_select=75 .........................................\n",
            "[CV]  n_features_to_select=75, score=(train=-5.119, test=-5.206), total=   5.3s\n",
            "[CV] n_features_to_select=75 .........................................\n",
            "[CV]  n_features_to_select=75, score=(train=-5.186, test=-5.143), total=   5.3s\n",
            "[CV] n_features_to_select=76 .........................................\n",
            "[CV]  n_features_to_select=76, score=(train=-5.069, test=-5.235), total=   5.2s\n",
            "[CV] n_features_to_select=76 .........................................\n",
            "[CV]  n_features_to_select=76, score=(train=-5.126, test=-5.135), total=   5.2s\n",
            "[CV] n_features_to_select=76 .........................................\n",
            "[CV]  n_features_to_select=76, score=(train=-5.128, test=-5.117), total=   5.2s\n",
            "[CV] n_features_to_select=76 .........................................\n",
            "[CV]  n_features_to_select=76, score=(train=-5.117, test=-5.202), total=   5.2s\n",
            "[CV] n_features_to_select=76 .........................................\n",
            "[CV]  n_features_to_select=76, score=(train=-5.186, test=-5.143), total=   5.2s\n",
            "[CV] n_features_to_select=77 .........................................\n",
            "[CV]  n_features_to_select=77, score=(train=-5.068, test=-5.237), total=   5.1s\n",
            "[CV] n_features_to_select=77 .........................................\n",
            "[CV]  n_features_to_select=77, score=(train=-5.126, test=-5.138), total=   5.1s\n",
            "[CV] n_features_to_select=77 .........................................\n",
            "[CV]  n_features_to_select=77, score=(train=-5.109, test=-5.103), total=   5.1s\n",
            "[CV] n_features_to_select=77 .........................................\n",
            "[CV]  n_features_to_select=77, score=(train=-5.111, test=-5.195), total=   5.1s\n",
            "[CV] n_features_to_select=77 .........................................\n",
            "[CV]  n_features_to_select=77, score=(train=-5.187, test=-5.140), total=   5.1s\n",
            "[CV] n_features_to_select=78 .........................................\n",
            "[CV]  n_features_to_select=78, score=(train=-5.066, test=-5.230), total=   5.0s\n",
            "[CV] n_features_to_select=78 .........................................\n",
            "[CV]  n_features_to_select=78, score=(train=-5.123, test=-5.139), total=   5.1s\n",
            "[CV] n_features_to_select=78 .........................................\n",
            "[CV]  n_features_to_select=78, score=(train=-5.106, test=-5.096), total=   5.0s\n",
            "[CV] n_features_to_select=78 .........................................\n",
            "[CV]  n_features_to_select=78, score=(train=-5.082, test=-5.164), total=   5.0s\n",
            "[CV] n_features_to_select=78 .........................................\n",
            "[CV]  n_features_to_select=78, score=(train=-5.184, test=-5.142), total=   5.0s\n",
            "[CV] n_features_to_select=79 .........................................\n",
            "[CV]  n_features_to_select=79, score=(train=-5.066, test=-5.236), total=   4.9s\n",
            "[CV] n_features_to_select=79 .........................................\n",
            "[CV]  n_features_to_select=79, score=(train=-5.101, test=-5.105), total=   4.9s\n",
            "[CV] n_features_to_select=79 .........................................\n",
            "[CV]  n_features_to_select=79, score=(train=-5.103, test=-5.101), total=   4.9s\n",
            "[CV] n_features_to_select=79 .........................................\n",
            "[CV]  n_features_to_select=79, score=(train=-5.083, test=-5.174), total=   4.9s\n",
            "[CV] n_features_to_select=79 .........................................\n",
            "[CV]  n_features_to_select=79, score=(train=-5.129, test=-5.097), total=   4.9s\n",
            "[CV] n_features_to_select=80 .........................................\n",
            "[CV]  n_features_to_select=80, score=(train=-5.066, test=-5.235), total=   4.8s\n",
            "[CV] n_features_to_select=80 .........................................\n",
            "[CV]  n_features_to_select=80, score=(train=-5.087, test=-5.086), total=   4.8s\n",
            "[CV] n_features_to_select=80 .........................................\n",
            "[CV]  n_features_to_select=80, score=(train=-5.104, test=-5.099), total=   4.8s\n",
            "[CV] n_features_to_select=80 .........................................\n",
            "[CV]  n_features_to_select=80, score=(train=-5.081, test=-5.174), total=   4.9s\n",
            "[CV] n_features_to_select=80 .........................................\n",
            "[CV]  n_features_to_select=80, score=(train=-5.130, test=-5.106), total=   4.8s\n",
            "[CV] n_features_to_select=81 .........................................\n",
            "[CV]  n_features_to_select=81, score=(train=-5.066, test=-5.234), total=   4.7s\n",
            "[CV] n_features_to_select=81 .........................................\n",
            "[CV]  n_features_to_select=81, score=(train=-5.080, test=-5.081), total=   4.8s\n",
            "[CV] n_features_to_select=81 .........................................\n",
            "[CV]  n_features_to_select=81, score=(train=-5.103, test=-5.075), total=   4.8s\n",
            "[CV] n_features_to_select=81 .........................................\n",
            "[CV]  n_features_to_select=81, score=(train=-5.079, test=-5.170), total=   4.7s\n",
            "[CV] n_features_to_select=81 .........................................\n",
            "[CV]  n_features_to_select=81, score=(train=-5.127, test=-5.100), total=   4.7s\n",
            "[CV] n_features_to_select=82 .........................................\n",
            "[CV]  n_features_to_select=82, score=(train=-5.062, test=-5.229), total=   4.8s\n",
            "[CV] n_features_to_select=82 .........................................\n",
            "[CV]  n_features_to_select=82, score=(train=-5.076, test=-5.076), total=   4.7s\n",
            "[CV] n_features_to_select=82 .........................................\n",
            "[CV]  n_features_to_select=82, score=(train=-5.080, test=-5.065), total=   4.7s\n",
            "[CV] n_features_to_select=82 .........................................\n",
            "[CV]  n_features_to_select=82, score=(train=-5.079, test=-5.170), total=   4.6s\n",
            "[CV] n_features_to_select=82 .........................................\n",
            "[CV]  n_features_to_select=82, score=(train=-5.127, test=-5.096), total=   4.7s\n",
            "[CV] n_features_to_select=83 .........................................\n",
            "[CV]  n_features_to_select=83, score=(train=-5.058, test=-5.219), total=   4.6s\n",
            "[CV] n_features_to_select=83 .........................................\n",
            "[CV]  n_features_to_select=83, score=(train=-5.066, test=-5.071), total=   4.7s\n",
            "[CV] n_features_to_select=83 .........................................\n",
            "[CV]  n_features_to_select=83, score=(train=-5.075, test=-5.050), total=   4.5s\n",
            "[CV] n_features_to_select=83 .........................................\n",
            "[CV]  n_features_to_select=83, score=(train=-5.078, test=-5.171), total=   4.5s\n",
            "[CV] n_features_to_select=83 .........................................\n",
            "[CV]  n_features_to_select=83, score=(train=-5.126, test=-5.105), total=   4.6s\n",
            "[CV] n_features_to_select=84 .........................................\n",
            "[CV]  n_features_to_select=84, score=(train=-5.056, test=-5.216), total=   4.5s\n",
            "[CV] n_features_to_select=84 .........................................\n",
            "[CV]  n_features_to_select=84, score=(train=-5.062, test=-5.078), total=   4.4s\n",
            "[CV] n_features_to_select=84 .........................................\n",
            "[CV]  n_features_to_select=84, score=(train=-5.073, test=-5.051), total=   4.4s\n",
            "[CV] n_features_to_select=84 .........................................\n",
            "[CV]  n_features_to_select=84, score=(train=-5.078, test=-5.170), total=   4.5s\n",
            "[CV] n_features_to_select=84 .........................................\n",
            "[CV]  n_features_to_select=84, score=(train=-5.199, test=-5.198), total=   4.5s\n",
            "[CV] n_features_to_select=85 .........................................\n",
            "[CV]  n_features_to_select=85, score=(train=-5.054, test=-5.211), total=   4.3s\n",
            "[CV] n_features_to_select=85 .........................................\n",
            "[CV]  n_features_to_select=85, score=(train=-5.061, test=-5.077), total=   4.4s\n",
            "[CV] n_features_to_select=85 .........................................\n",
            "[CV]  n_features_to_select=85, score=(train=-5.072, test=-5.052), total=   4.4s\n",
            "[CV] n_features_to_select=85 .........................................\n",
            "[CV]  n_features_to_select=85, score=(train=-5.075, test=-5.169), total=   4.3s\n",
            "[CV] n_features_to_select=85 .........................................\n",
            "[CV]  n_features_to_select=85, score=(train=-5.102, test=-5.066), total=   4.4s\n",
            "[CV] n_features_to_select=86 .........................................\n",
            "[CV]  n_features_to_select=86, score=(train=-5.084, test=-5.239), total=   4.2s\n",
            "[CV] n_features_to_select=86 .........................................\n",
            "[CV]  n_features_to_select=86, score=(train=-5.057, test=-5.078), total=   4.3s\n",
            "[CV] n_features_to_select=86 .........................................\n",
            "[CV]  n_features_to_select=86, score=(train=-5.068, test=-5.051), total=   4.2s\n",
            "[CV] n_features_to_select=86 .........................................\n",
            "[CV]  n_features_to_select=86, score=(train=-5.071, test=-5.178), total=   4.3s\n",
            "[CV] n_features_to_select=86 .........................................\n",
            "[CV]  n_features_to_select=86, score=(train=-5.084, test=-5.070), total=   4.3s\n",
            "[CV] n_features_to_select=87 .........................................\n",
            "[CV]  n_features_to_select=87, score=(train=-5.049, test=-5.211), total=   4.1s\n",
            "[CV] n_features_to_select=87 .........................................\n",
            "[CV]  n_features_to_select=87, score=(train=-5.053, test=-5.070), total=   4.1s\n",
            "[CV] n_features_to_select=87 .........................................\n",
            "[CV]  n_features_to_select=87, score=(train=-5.067, test=-5.049), total=   4.1s\n",
            "[CV] n_features_to_select=87 .........................................\n",
            "[CV]  n_features_to_select=87, score=(train=-5.065, test=-5.166), total=   4.1s\n",
            "[CV] n_features_to_select=87 .........................................\n",
            "[CV]  n_features_to_select=87, score=(train=-5.077, test=-5.070), total=   4.1s\n",
            "[CV] n_features_to_select=88 .........................................\n",
            "[CV]  n_features_to_select=88, score=(train=-5.047, test=-5.206), total=   4.0s\n",
            "[CV] n_features_to_select=88 .........................................\n",
            "[CV]  n_features_to_select=88, score=(train=-5.052, test=-5.070), total=   4.0s\n",
            "[CV] n_features_to_select=88 .........................................\n",
            "[CV]  n_features_to_select=88, score=(train=-5.067, test=-5.050), total=   4.0s\n",
            "[CV] n_features_to_select=88 .........................................\n",
            "[CV]  n_features_to_select=88, score=(train=-5.062, test=-5.158), total=   4.0s\n",
            "[CV] n_features_to_select=88 .........................................\n",
            "[CV]  n_features_to_select=88, score=(train=-5.071, test=-5.080), total=   4.0s\n",
            "[CV] n_features_to_select=89 .........................................\n",
            "[CV]  n_features_to_select=89, score=(train=-5.036, test=-5.207), total=   3.8s\n",
            "[CV] n_features_to_select=89 .........................................\n",
            "[CV]  n_features_to_select=89, score=(train=-5.050, test=-5.067), total=   3.9s\n",
            "[CV] n_features_to_select=89 .........................................\n",
            "[CV]  n_features_to_select=89, score=(train=-5.068, test=-5.048), total=   3.9s\n",
            "[CV] n_features_to_select=89 .........................................\n",
            "[CV]  n_features_to_select=89, score=(train=-5.061, test=-5.153), total=   3.9s\n",
            "[CV] n_features_to_select=89 .........................................\n",
            "[CV]  n_features_to_select=89, score=(train=-5.070, test=-5.078), total=   3.9s\n",
            "[CV] n_features_to_select=90 .........................................\n",
            "[CV]  n_features_to_select=90, score=(train=-5.030, test=-5.208), total=   3.7s\n",
            "[CV] n_features_to_select=90 .........................................\n",
            "[CV]  n_features_to_select=90, score=(train=-5.050, test=-5.067), total=   3.8s\n",
            "[CV] n_features_to_select=90 .........................................\n",
            "[CV]  n_features_to_select=90, score=(train=-5.068, test=-5.050), total=   3.9s\n",
            "[CV] n_features_to_select=90 .........................................\n",
            "[CV]  n_features_to_select=90, score=(train=-5.060, test=-5.143), total=   3.8s\n",
            "[CV] n_features_to_select=90 .........................................\n",
            "[CV]  n_features_to_select=90, score=(train=-5.073, test=-5.086), total=   3.8s\n",
            "[CV] n_features_to_select=91 .........................................\n",
            "[CV]  n_features_to_select=91, score=(train=-5.029, test=-5.203), total=   3.6s\n",
            "[CV] n_features_to_select=91 .........................................\n",
            "[CV]  n_features_to_select=91, score=(train=-5.049, test=-5.068), total=   3.6s\n",
            "[CV] n_features_to_select=91 .........................................\n",
            "[CV]  n_features_to_select=91, score=(train=-5.065, test=-5.047), total=   3.7s\n",
            "[CV] n_features_to_select=91 .........................................\n",
            "[CV]  n_features_to_select=91, score=(train=-5.057, test=-5.145), total=   3.7s\n",
            "[CV] n_features_to_select=91 .........................................\n",
            "[CV]  n_features_to_select=91, score=(train=-5.067, test=-5.074), total=   3.7s\n",
            "[CV] n_features_to_select=92 .........................................\n",
            "[CV]  n_features_to_select=92, score=(train=-5.029, test=-5.207), total=   3.5s\n",
            "[CV] n_features_to_select=92 .........................................\n",
            "[CV]  n_features_to_select=92, score=(train=-5.049, test=-5.067), total=   3.5s\n",
            "[CV] n_features_to_select=92 .........................................\n",
            "[CV]  n_features_to_select=92, score=(train=-5.062, test=-5.044), total=   3.5s\n",
            "[CV] n_features_to_select=92 .........................................\n",
            "[CV]  n_features_to_select=92, score=(train=-5.056, test=-5.141), total=   3.5s\n",
            "[CV] n_features_to_select=92 .........................................\n",
            "[CV]  n_features_to_select=92, score=(train=-5.071, test=-5.084), total=   3.6s\n",
            "[CV] n_features_to_select=93 .........................................\n",
            "[CV]  n_features_to_select=93, score=(train=-5.027, test=-5.208), total=   3.4s\n",
            "[CV] n_features_to_select=93 .........................................\n",
            "[CV]  n_features_to_select=93, score=(train=-5.049, test=-5.069), total=   3.5s\n",
            "[CV] n_features_to_select=93 .........................................\n",
            "[CV]  n_features_to_select=93, score=(train=-5.060, test=-5.046), total=   3.5s\n",
            "[CV] n_features_to_select=93 .........................................\n",
            "[CV]  n_features_to_select=93, score=(train=-5.056, test=-5.139), total=   3.5s\n",
            "[CV] n_features_to_select=93 .........................................\n",
            "[CV]  n_features_to_select=93, score=(train=-5.067, test=-5.072), total=   3.5s\n",
            "[CV] n_features_to_select=94 .........................................\n",
            "[CV]  n_features_to_select=94, score=(train=-5.026, test=-5.209), total=   3.3s\n",
            "[CV] n_features_to_select=94 .........................................\n",
            "[CV]  n_features_to_select=94, score=(train=-5.047, test=-5.061), total=   3.4s\n",
            "[CV] n_features_to_select=94 .........................................\n",
            "[CV]  n_features_to_select=94, score=(train=-5.060, test=-5.042), total=   3.3s\n",
            "[CV] n_features_to_select=94 .........................................\n",
            "[CV]  n_features_to_select=94, score=(train=-5.057, test=-5.141), total=   3.3s\n",
            "[CV] n_features_to_select=94 .........................................\n",
            "[CV]  n_features_to_select=94, score=(train=-5.067, test=-5.071), total=   3.3s\n",
            "[CV] n_features_to_select=95 .........................................\n",
            "[CV]  n_features_to_select=95, score=(train=-5.029, test=-5.210), total=   3.3s\n",
            "[CV] n_features_to_select=95 .........................................\n",
            "[CV]  n_features_to_select=95, score=(train=-5.047, test=-5.065), total=   3.2s\n",
            "[CV] n_features_to_select=95 .........................................\n",
            "[CV]  n_features_to_select=95, score=(train=-5.058, test=-5.047), total=   3.3s\n",
            "[CV] n_features_to_select=95 .........................................\n",
            "[CV]  n_features_to_select=95, score=(train=-5.045, test=-5.135), total=   3.2s\n",
            "[CV] n_features_to_select=95 .........................................\n",
            "[CV]  n_features_to_select=95, score=(train=-5.063, test=-5.071), total=   3.2s\n",
            "[CV] n_features_to_select=96 .........................................\n",
            "[CV]  n_features_to_select=96, score=(train=-5.031, test=-5.206), total=   3.1s\n",
            "[CV] n_features_to_select=96 .........................................\n",
            "[CV]  n_features_to_select=96, score=(train=-5.043, test=-5.065), total=   3.1s\n",
            "[CV] n_features_to_select=96 .........................................\n",
            "[CV]  n_features_to_select=96, score=(train=-5.055, test=-5.040), total=   3.1s\n",
            "[CV] n_features_to_select=96 .........................................\n",
            "[CV]  n_features_to_select=96, score=(train=-5.041, test=-5.130), total=   3.1s\n",
            "[CV] n_features_to_select=96 .........................................\n",
            "[CV]  n_features_to_select=96, score=(train=-5.064, test=-5.072), total=   3.1s\n",
            "[CV] n_features_to_select=97 .........................................\n",
            "[CV]  n_features_to_select=97, score=(train=-5.033, test=-5.218), total=   3.0s\n",
            "[CV] n_features_to_select=97 .........................................\n",
            "[CV]  n_features_to_select=97, score=(train=-5.039, test=-5.053), total=   2.9s\n",
            "[CV] n_features_to_select=97 .........................................\n",
            "[CV]  n_features_to_select=97, score=(train=-5.048, test=-5.038), total=   3.0s\n",
            "[CV] n_features_to_select=97 .........................................\n",
            "[CV]  n_features_to_select=97, score=(train=-5.037, test=-5.131), total=   2.9s\n",
            "[CV] n_features_to_select=97 .........................................\n",
            "[CV]  n_features_to_select=97, score=(train=-5.064, test=-5.072), total=   3.0s\n",
            "[CV] n_features_to_select=98 .........................................\n",
            "[CV]  n_features_to_select=98, score=(train=-5.017, test=-5.209), total=   2.8s\n",
            "[CV] n_features_to_select=98 .........................................\n",
            "[CV]  n_features_to_select=98, score=(train=-5.040, test=-5.050), total=   2.8s\n",
            "[CV] n_features_to_select=98 .........................................\n",
            "[CV]  n_features_to_select=98, score=(train=-5.046, test=-5.037), total=   2.9s\n",
            "[CV] n_features_to_select=98 .........................................\n",
            "[CV]  n_features_to_select=98, score=(train=-5.037, test=-5.134), total=   2.8s\n",
            "[CV] n_features_to_select=98 .........................................\n",
            "[CV]  n_features_to_select=98, score=(train=-5.064, test=-5.065), total=   2.9s\n",
            "[CV] n_features_to_select=99 .........................................\n",
            "[CV]  n_features_to_select=99, score=(train=-5.015, test=-5.205), total=   2.7s\n",
            "[CV] n_features_to_select=99 .........................................\n",
            "[CV]  n_features_to_select=99, score=(train=-5.040, test=-5.060), total=   2.7s\n",
            "[CV] n_features_to_select=99 .........................................\n",
            "[CV]  n_features_to_select=99, score=(train=-5.045, test=-5.037), total=   2.7s\n",
            "[CV] n_features_to_select=99 .........................................\n",
            "[CV]  n_features_to_select=99, score=(train=-5.033, test=-5.117), total=   2.7s\n",
            "[CV] n_features_to_select=99 .........................................\n",
            "[CV]  n_features_to_select=99, score=(train=-5.058, test=-5.057), total=   2.7s\n",
            "[CV] n_features_to_select=100 ........................................\n",
            "[CV]  n_features_to_select=100, score=(train=-5.014, test=-5.201), total=   2.6s\n",
            "[CV] n_features_to_select=100 ........................................\n",
            "[CV]  n_features_to_select=100, score=(train=-5.039, test=-5.054), total=   2.6s\n",
            "[CV] n_features_to_select=100 ........................................\n",
            "[CV]  n_features_to_select=100, score=(train=-5.044, test=-5.045), total=   2.6s\n",
            "[CV] n_features_to_select=100 ........................................\n",
            "[CV]  n_features_to_select=100, score=(train=-5.033, test=-5.119), total=   2.6s\n",
            "[CV] n_features_to_select=100 ........................................\n",
            "[CV]  n_features_to_select=100, score=(train=-5.054, test=-5.050), total=   2.6s\n",
            "[CV] n_features_to_select=101 ........................................\n",
            "[CV]  n_features_to_select=101, score=(train=-5.007, test=-5.189), total=   2.4s\n",
            "[CV] n_features_to_select=101 ........................................\n",
            "[CV]  n_features_to_select=101, score=(train=-5.038, test=-5.056), total=   2.4s\n",
            "[CV] n_features_to_select=101 ........................................\n",
            "[CV]  n_features_to_select=101, score=(train=-5.040, test=-5.041), total=   2.4s\n",
            "[CV] n_features_to_select=101 ........................................\n",
            "[CV]  n_features_to_select=101, score=(train=-5.029, test=-5.121), total=   2.4s\n",
            "[CV] n_features_to_select=101 ........................................\n",
            "[CV]  n_features_to_select=101, score=(train=-5.051, test=-5.048), total=   2.4s\n",
            "[CV] n_features_to_select=102 ........................................\n",
            "[CV]  n_features_to_select=102, score=(train=-5.008, test=-5.193), total=   2.3s\n",
            "[CV] n_features_to_select=102 ........................................\n",
            "[CV]  n_features_to_select=102, score=(train=-5.037, test=-5.054), total=   2.3s\n",
            "[CV] n_features_to_select=102 ........................................\n",
            "[CV]  n_features_to_select=102, score=(train=-5.037, test=-5.041), total=   2.3s\n",
            "[CV] n_features_to_select=102 ........................................\n",
            "[CV]  n_features_to_select=102, score=(train=-5.029, test=-5.121), total=   2.3s\n",
            "[CV] n_features_to_select=102 ........................................\n",
            "[CV]  n_features_to_select=102, score=(train=-5.049, test=-5.044), total=   2.3s\n",
            "[CV] n_features_to_select=103 ........................................\n",
            "[CV]  n_features_to_select=103, score=(train=-5.007, test=-5.190), total=   2.1s\n",
            "[CV] n_features_to_select=103 ........................................\n",
            "[CV]  n_features_to_select=103, score=(train=-5.035, test=-5.045), total=   2.1s\n",
            "[CV] n_features_to_select=103 ........................................\n",
            "[CV]  n_features_to_select=103, score=(train=-5.036, test=-5.041), total=   2.1s\n",
            "[CV] n_features_to_select=103 ........................................\n",
            "[CV]  n_features_to_select=103, score=(train=-5.030, test=-5.111), total=   2.1s\n",
            "[CV] n_features_to_select=103 ........................................\n",
            "[CV]  n_features_to_select=103, score=(train=-5.048, test=-5.044), total=   2.1s\n",
            "[CV] n_features_to_select=104 ........................................\n",
            "[CV]  n_features_to_select=104, score=(train=-5.006, test=-5.183), total=   2.0s\n",
            "[CV] n_features_to_select=104 ........................................\n",
            "[CV]  n_features_to_select=104, score=(train=-5.035, test=-5.045), total=   2.0s\n",
            "[CV] n_features_to_select=104 ........................................\n",
            "[CV]  n_features_to_select=104, score=(train=-5.035, test=-5.040), total=   2.0s\n",
            "[CV] n_features_to_select=104 ........................................\n",
            "[CV]  n_features_to_select=104, score=(train=-5.024, test=-5.116), total=   2.0s\n",
            "[CV] n_features_to_select=104 ........................................\n",
            "[CV]  n_features_to_select=104, score=(train=-5.045, test=-5.043), total=   2.0s\n",
            "[CV] n_features_to_select=105 ........................................\n",
            "[CV]  n_features_to_select=105, score=(train=-5.003, test=-5.179), total=   1.8s\n",
            "[CV] n_features_to_select=105 ........................................\n",
            "[CV]  n_features_to_select=105, score=(train=-5.033, test=-5.047), total=   1.9s\n",
            "[CV] n_features_to_select=105 ........................................\n",
            "[CV]  n_features_to_select=105, score=(train=-5.033, test=-5.040), total=   1.9s\n",
            "[CV] n_features_to_select=105 ........................................\n",
            "[CV]  n_features_to_select=105, score=(train=-5.022, test=-5.118), total=   1.8s\n",
            "[CV] n_features_to_select=105 ........................................\n",
            "[CV]  n_features_to_select=105, score=(train=-5.042, test=-5.039), total=   1.8s\n",
            "[CV] n_features_to_select=106 ........................................\n",
            "[CV]  n_features_to_select=106, score=(train=-5.001, test=-5.175), total=   1.7s\n",
            "[CV] n_features_to_select=106 ........................................\n",
            "[CV]  n_features_to_select=106, score=(train=-5.033, test=-5.047), total=   1.7s\n",
            "[CV] n_features_to_select=106 ........................................\n",
            "[CV]  n_features_to_select=106, score=(train=-5.033, test=-5.041), total=   1.7s\n",
            "[CV] n_features_to_select=106 ........................................\n",
            "[CV]  n_features_to_select=106, score=(train=-5.020, test=-5.114), total=   1.7s\n",
            "[CV] n_features_to_select=106 ........................................\n",
            "[CV]  n_features_to_select=106, score=(train=-5.042, test=-5.041), total=   1.7s\n",
            "[CV] n_features_to_select=107 ........................................\n",
            "[CV]  n_features_to_select=107, score=(train=-5.003, test=-5.178), total=   1.5s\n",
            "[CV] n_features_to_select=107 ........................................\n",
            "[CV]  n_features_to_select=107, score=(train=-5.035, test=-5.052), total=   1.6s\n",
            "[CV] n_features_to_select=107 ........................................\n",
            "[CV]  n_features_to_select=107, score=(train=-5.032, test=-5.040), total=   1.6s\n",
            "[CV] n_features_to_select=107 ........................................\n",
            "[CV]  n_features_to_select=107, score=(train=-5.019, test=-5.114), total=   1.6s\n",
            "[CV] n_features_to_select=107 ........................................\n",
            "[CV]  n_features_to_select=107, score=(train=-5.042, test=-5.045), total=   1.6s\n",
            "[CV] n_features_to_select=108 ........................................\n",
            "[CV]  n_features_to_select=108, score=(train=-5.000, test=-5.173), total=   1.4s\n",
            "[CV] n_features_to_select=108 ........................................\n",
            "[CV]  n_features_to_select=108, score=(train=-5.032, test=-5.050), total=   1.4s\n",
            "[CV] n_features_to_select=108 ........................................\n",
            "[CV]  n_features_to_select=108, score=(train=-5.033, test=-5.040), total=   1.4s\n",
            "[CV] n_features_to_select=108 ........................................\n",
            "[CV]  n_features_to_select=108, score=(train=-5.017, test=-5.106), total=   1.4s\n",
            "[CV] n_features_to_select=108 ........................................\n",
            "[CV]  n_features_to_select=108, score=(train=-5.040, test=-5.031), total=   1.4s\n",
            "[CV] n_features_to_select=109 ........................................\n",
            "[CV]  n_features_to_select=109, score=(train=-5.001, test=-5.172), total=   1.3s\n",
            "[CV] n_features_to_select=109 ........................................\n",
            "[CV]  n_features_to_select=109, score=(train=-5.031, test=-5.045), total=   1.3s\n",
            "[CV] n_features_to_select=109 ........................................\n",
            "[CV]  n_features_to_select=109, score=(train=-5.033, test=-5.041), total=   1.3s\n",
            "[CV] n_features_to_select=109 ........................................\n",
            "[CV]  n_features_to_select=109, score=(train=-5.017, test=-5.104), total=   1.2s\n",
            "[CV] n_features_to_select=109 ........................................\n",
            "[CV]  n_features_to_select=109, score=(train=-5.038, test=-5.034), total=   1.2s\n",
            "[CV] n_features_to_select=110 ........................................\n",
            "[CV]  n_features_to_select=110, score=(train=-4.999, test=-5.167), total=   1.1s\n",
            "[CV] n_features_to_select=110 ........................................\n",
            "[CV]  n_features_to_select=110, score=(train=-5.030, test=-5.043), total=   1.1s\n",
            "[CV] n_features_to_select=110 ........................................\n",
            "[CV]  n_features_to_select=110, score=(train=-5.034, test=-5.041), total=   1.1s\n",
            "[CV] n_features_to_select=110 ........................................\n",
            "[CV]  n_features_to_select=110, score=(train=-5.017, test=-5.102), total=   1.1s\n",
            "[CV] n_features_to_select=110 ........................................\n",
            "[CV]  n_features_to_select=110, score=(train=-5.037, test=-5.032), total=   1.1s\n",
            "[CV] n_features_to_select=111 ........................................\n",
            "[CV]  n_features_to_select=111, score=(train=-5.000, test=-5.167), total=   0.9s\n",
            "[CV] n_features_to_select=111 ........................................\n",
            "[CV]  n_features_to_select=111, score=(train=-5.031, test=-5.045), total=   0.9s\n",
            "[CV] n_features_to_select=111 ........................................\n",
            "[CV]  n_features_to_select=111, score=(train=-5.034, test=-5.041), total=   0.9s\n",
            "[CV] n_features_to_select=111 ........................................\n",
            "[CV]  n_features_to_select=111, score=(train=-5.018, test=-5.104), total=   0.9s\n",
            "[CV] n_features_to_select=111 ........................................\n",
            "[CV]  n_features_to_select=111, score=(train=-5.036, test=-5.032), total=   1.0s\n",
            "[CV] n_features_to_select=112 ........................................\n",
            "[CV]  n_features_to_select=112, score=(train=-4.999, test=-5.167), total=   0.8s\n",
            "[CV] n_features_to_select=112 ........................................\n",
            "[CV]  n_features_to_select=112, score=(train=-5.030, test=-5.046), total=   0.8s\n",
            "[CV] n_features_to_select=112 ........................................\n",
            "[CV]  n_features_to_select=112, score=(train=-5.034, test=-5.040), total=   0.8s\n",
            "[CV] n_features_to_select=112 ........................................\n",
            "[CV]  n_features_to_select=112, score=(train=-5.018, test=-5.107), total=   0.8s\n",
            "[CV] n_features_to_select=112 ........................................\n",
            "[CV]  n_features_to_select=112, score=(train=-5.035, test=-5.031), total=   0.8s\n",
            "[CV] n_features_to_select=113 ........................................\n",
            "[CV]  n_features_to_select=113, score=(train=-4.999, test=-5.167), total=   0.6s\n",
            "[CV] n_features_to_select=113 ........................................\n",
            "[CV]  n_features_to_select=113, score=(train=-5.031, test=-5.045), total=   0.6s\n",
            "[CV] n_features_to_select=113 ........................................\n",
            "[CV]  n_features_to_select=113, score=(train=-5.038, test=-5.037), total=   0.6s\n",
            "[CV] n_features_to_select=113 ........................................\n",
            "[CV]  n_features_to_select=113, score=(train=-5.017, test=-5.104), total=   0.6s\n",
            "[CV] n_features_to_select=113 ........................................\n",
            "[CV]  n_features_to_select=113, score=(train=-5.035, test=-5.034), total=   0.6s\n",
            "[CV] n_features_to_select=114 ........................................\n",
            "[CV]  n_features_to_select=114, score=(train=-5.000, test=-5.168), total=   0.4s\n",
            "[CV] n_features_to_select=114 ........................................\n",
            "[CV]  n_features_to_select=114, score=(train=-5.032, test=-5.042), total=   0.4s\n",
            "[CV] n_features_to_select=114 ........................................\n",
            "[CV]  n_features_to_select=114, score=(train=-5.033, test=-5.038), total=   0.4s\n",
            "[CV] n_features_to_select=114 ........................................\n",
            "[CV]  n_features_to_select=114, score=(train=-5.018, test=-5.106), total=   0.4s\n",
            "[CV] n_features_to_select=114 ........................................\n",
            "[CV]  n_features_to_select=114, score=(train=-5.035, test=-5.032), total=   0.4s\n",
            "[CV] n_features_to_select=115 ........................................\n",
            "[CV]  n_features_to_select=115, score=(train=-5.000, test=-5.169), total=   0.3s\n",
            "[CV] n_features_to_select=115 ........................................\n",
            "[CV]  n_features_to_select=115, score=(train=-5.033, test=-5.048), total=   0.2s\n",
            "[CV] n_features_to_select=115 ........................................\n",
            "[CV]  n_features_to_select=115, score=(train=-5.035, test=-5.037), total=   0.2s\n",
            "[CV] n_features_to_select=115 ........................................\n",
            "[CV]  n_features_to_select=115, score=(train=-5.017, test=-5.103), total=   0.2s\n",
            "[CV] n_features_to_select=115 ........................................\n",
            "[CV]  n_features_to_select=115, score=(train=-5.036, test=-5.035), total=   0.3s\n",
            "[CV] n_features_to_select=116 ........................................\n",
            "[CV]  n_features_to_select=116, score=(train=-5.000, test=-5.169), total=   0.2s\n",
            "[CV] n_features_to_select=116 ........................................\n",
            "[CV]  n_features_to_select=116, score=(train=-5.033, test=-5.048), total=   0.2s\n",
            "[CV] n_features_to_select=116 ........................................\n",
            "[CV]  n_features_to_select=116, score=(train=-5.035, test=-5.037), total=   0.2s\n",
            "[CV] n_features_to_select=116 ........................................\n",
            "[CV]  n_features_to_select=116, score=(train=-5.017, test=-5.103), total=   0.3s\n",
            "[CV] n_features_to_select=116 ........................................\n",
            "[CV]  n_features_to_select=116, score=(train=-5.036, test=-5.035), total=   0.3s\n",
            "[CV] n_features_to_select=117 ........................................\n",
            "[CV]  n_features_to_select=117, score=(train=-5.000, test=-5.169), total=   0.2s\n",
            "[CV] n_features_to_select=117 ........................................\n",
            "[CV]  n_features_to_select=117, score=(train=-5.033, test=-5.048), total=   0.2s\n",
            "[CV] n_features_to_select=117 ........................................\n",
            "[CV]  n_features_to_select=117, score=(train=-5.035, test=-5.037), total=   0.2s\n",
            "[CV] n_features_to_select=117 ........................................\n",
            "[CV]  n_features_to_select=117, score=(train=-5.017, test=-5.103), total=   0.2s\n",
            "[CV] n_features_to_select=117 ........................................\n",
            "[CV]  n_features_to_select=117, score=(train=-5.036, test=-5.035), total=   0.2s\n",
            "[CV] n_features_to_select=118 ........................................\n",
            "[CV]  n_features_to_select=118, score=(train=-5.000, test=-5.169), total=   0.3s\n",
            "[CV] n_features_to_select=118 ........................................\n",
            "[CV]  n_features_to_select=118, score=(train=-5.033, test=-5.048), total=   0.2s\n",
            "[CV] n_features_to_select=118 ........................................\n",
            "[CV]  n_features_to_select=118, score=(train=-5.035, test=-5.037), total=   0.2s\n",
            "[CV] n_features_to_select=118 ........................................\n",
            "[CV]  n_features_to_select=118, score=(train=-5.017, test=-5.103), total=   0.3s\n",
            "[CV] n_features_to_select=118 ........................................\n",
            "[CV]  n_features_to_select=118, score=(train=-5.036, test=-5.035), total=   0.3s\n",
            "[CV] n_features_to_select=119 ........................................\n",
            "[CV]  n_features_to_select=119, score=(train=-5.000, test=-5.169), total=   0.3s\n",
            "[CV] n_features_to_select=119 ........................................\n",
            "[CV]  n_features_to_select=119, score=(train=-5.033, test=-5.048), total=   0.3s\n",
            "[CV] n_features_to_select=119 ........................................\n",
            "[CV]  n_features_to_select=119, score=(train=-5.035, test=-5.037), total=   0.2s\n",
            "[CV] n_features_to_select=119 ........................................\n",
            "[CV]  n_features_to_select=119, score=(train=-5.017, test=-5.103), total=   0.3s\n",
            "[CV] n_features_to_select=119 ........................................\n",
            "[CV]  n_features_to_select=119, score=(train=-5.036, test=-5.035), total=   0.3s\n",
            "[CV] n_features_to_select=120 ........................................\n",
            "[CV]  n_features_to_select=120, score=(train=-5.000, test=-5.169), total=   0.3s\n",
            "[CV] n_features_to_select=120 ........................................\n",
            "[CV]  n_features_to_select=120, score=(train=-5.033, test=-5.048), total=   0.3s\n",
            "[CV] n_features_to_select=120 ........................................\n",
            "[CV]  n_features_to_select=120, score=(train=-5.035, test=-5.037), total=   0.2s\n",
            "[CV] n_features_to_select=120 ........................................\n",
            "[CV]  n_features_to_select=120, score=(train=-5.017, test=-5.103), total=   0.2s\n",
            "[CV] n_features_to_select=120 ........................................\n",
            "[CV]  n_features_to_select=120, score=(train=-5.036, test=-5.035), total=   0.2s\n",
            "[CV] n_features_to_select=121 ........................................\n",
            "[CV]  n_features_to_select=121, score=(train=-5.000, test=-5.169), total=   0.3s\n",
            "[CV] n_features_to_select=121 ........................................\n",
            "[CV]  n_features_to_select=121, score=(train=-5.033, test=-5.048), total=   0.2s\n",
            "[CV] n_features_to_select=121 ........................................\n",
            "[CV]  n_features_to_select=121, score=(train=-5.035, test=-5.037), total=   0.2s\n",
            "[CV] n_features_to_select=121 ........................................\n",
            "[CV]  n_features_to_select=121, score=(train=-5.017, test=-5.103), total=   0.2s\n",
            "[CV] n_features_to_select=121 ........................................\n",
            "[CV]  n_features_to_select=121, score=(train=-5.036, test=-5.035), total=   0.3s\n",
            "[CV] n_features_to_select=122 ........................................\n",
            "[CV]  n_features_to_select=122, score=(train=-5.000, test=-5.169), total=   0.3s\n",
            "[CV] n_features_to_select=122 ........................................\n",
            "[CV]  n_features_to_select=122, score=(train=-5.033, test=-5.048), total=   0.2s\n",
            "[CV] n_features_to_select=122 ........................................\n",
            "[CV]  n_features_to_select=122, score=(train=-5.035, test=-5.037), total=   0.3s\n",
            "[CV] n_features_to_select=122 ........................................\n",
            "[CV]  n_features_to_select=122, score=(train=-5.017, test=-5.103), total=   0.2s\n",
            "[CV] n_features_to_select=122 ........................................\n",
            "[CV]  n_features_to_select=122, score=(train=-5.036, test=-5.035), total=   0.2s\n",
            "[CV] n_features_to_select=123 ........................................\n",
            "[CV]  n_features_to_select=123, score=(train=-5.000, test=-5.169), total=   0.2s\n",
            "[CV] n_features_to_select=123 ........................................\n",
            "[CV]  n_features_to_select=123, score=(train=-5.033, test=-5.048), total=   0.3s\n",
            "[CV] n_features_to_select=123 ........................................\n",
            "[CV]  n_features_to_select=123, score=(train=-5.035, test=-5.037), total=   0.2s\n",
            "[CV] n_features_to_select=123 ........................................\n",
            "[CV]  n_features_to_select=123, score=(train=-5.017, test=-5.103), total=   0.2s\n",
            "[CV] n_features_to_select=123 ........................................\n",
            "[CV]  n_features_to_select=123, score=(train=-5.036, test=-5.035), total=   0.2s\n",
            "[CV] n_features_to_select=124 ........................................\n",
            "[CV]  n_features_to_select=124, score=(train=-5.000, test=-5.169), total=   0.3s\n",
            "[CV] n_features_to_select=124 ........................................\n",
            "[CV]  n_features_to_select=124, score=(train=-5.033, test=-5.048), total=   0.3s\n",
            "[CV] n_features_to_select=124 ........................................\n",
            "[CV]  n_features_to_select=124, score=(train=-5.035, test=-5.037), total=   0.2s\n",
            "[CV] n_features_to_select=124 ........................................\n",
            "[CV]  n_features_to_select=124, score=(train=-5.017, test=-5.103), total=   0.2s\n",
            "[CV] n_features_to_select=124 ........................................\n",
            "[CV]  n_features_to_select=124, score=(train=-5.036, test=-5.035), total=   0.2s\n",
            "[CV] n_features_to_select=125 ........................................\n",
            "[CV]  n_features_to_select=125, score=(train=-5.000, test=-5.169), total=   0.2s\n",
            "[CV] n_features_to_select=125 ........................................\n",
            "[CV]  n_features_to_select=125, score=(train=-5.033, test=-5.048), total=   0.2s\n",
            "[CV] n_features_to_select=125 ........................................\n",
            "[CV]  n_features_to_select=125, score=(train=-5.035, test=-5.037), total=   0.3s\n",
            "[CV] n_features_to_select=125 ........................................\n",
            "[CV]  n_features_to_select=125, score=(train=-5.017, test=-5.103), total=   0.2s\n",
            "[CV] n_features_to_select=125 ........................................\n",
            "[CV]  n_features_to_select=125, score=(train=-5.036, test=-5.035), total=   0.2s\n",
            "[CV] n_features_to_select=126 ........................................\n",
            "[CV]  n_features_to_select=126, score=(train=-5.000, test=-5.169), total=   0.3s\n",
            "[CV] n_features_to_select=126 ........................................\n",
            "[CV]  n_features_to_select=126, score=(train=-5.033, test=-5.048), total=   0.3s\n",
            "[CV] n_features_to_select=126 ........................................\n",
            "[CV]  n_features_to_select=126, score=(train=-5.035, test=-5.037), total=   0.2s\n",
            "[CV] n_features_to_select=126 ........................................\n",
            "[CV]  n_features_to_select=126, score=(train=-5.017, test=-5.103), total=   0.2s\n",
            "[CV] n_features_to_select=126 ........................................\n",
            "[CV]  n_features_to_select=126, score=(train=-5.036, test=-5.035), total=   0.2s\n",
            "[CV] n_features_to_select=127 ........................................\n",
            "[CV]  n_features_to_select=127, score=(train=-5.000, test=-5.169), total=   0.3s\n",
            "[CV] n_features_to_select=127 ........................................\n",
            "[CV]  n_features_to_select=127, score=(train=-5.033, test=-5.048), total=   0.3s\n",
            "[CV] n_features_to_select=127 ........................................\n",
            "[CV]  n_features_to_select=127, score=(train=-5.035, test=-5.037), total=   0.2s\n",
            "[CV] n_features_to_select=127 ........................................\n",
            "[CV]  n_features_to_select=127, score=(train=-5.017, test=-5.103), total=   0.2s\n",
            "[CV] n_features_to_select=127 ........................................\n",
            "[CV]  n_features_to_select=127, score=(train=-5.036, test=-5.035), total=   0.3s\n",
            "[CV] n_features_to_select=128 ........................................\n",
            "[CV]  n_features_to_select=128, score=(train=-5.000, test=-5.169), total=   0.3s\n",
            "[CV] n_features_to_select=128 ........................................\n",
            "[CV]  n_features_to_select=128, score=(train=-5.033, test=-5.048), total=   0.3s\n",
            "[CV] n_features_to_select=128 ........................................\n",
            "[CV]  n_features_to_select=128, score=(train=-5.035, test=-5.037), total=   0.3s\n",
            "[CV] n_features_to_select=128 ........................................\n",
            "[CV]  n_features_to_select=128, score=(train=-5.017, test=-5.103), total=   0.2s\n",
            "[CV] n_features_to_select=128 ........................................\n",
            "[CV]  n_features_to_select=128, score=(train=-5.036, test=-5.035), total=   0.2s\n",
            "[CV] n_features_to_select=129 ........................................\n",
            "[CV]  n_features_to_select=129, score=(train=-5.000, test=-5.169), total=   0.2s\n",
            "[CV] n_features_to_select=129 ........................................\n",
            "[CV]  n_features_to_select=129, score=(train=-5.033, test=-5.048), total=   0.3s\n",
            "[CV] n_features_to_select=129 ........................................\n",
            "[CV]  n_features_to_select=129, score=(train=-5.035, test=-5.037), total=   0.2s\n",
            "[CV] n_features_to_select=129 ........................................\n",
            "[CV]  n_features_to_select=129, score=(train=-5.017, test=-5.103), total=   0.2s\n",
            "[CV] n_features_to_select=129 ........................................\n",
            "[CV]  n_features_to_select=129, score=(train=-5.036, test=-5.035), total=   0.2s\n",
            "[CV] n_features_to_select=130 ........................................\n",
            "[CV]  n_features_to_select=130, score=(train=-5.000, test=-5.169), total=   0.3s\n",
            "[CV] n_features_to_select=130 ........................................\n",
            "[CV]  n_features_to_select=130, score=(train=-5.033, test=-5.048), total=   0.2s\n",
            "[CV] n_features_to_select=130 ........................................\n",
            "[CV]  n_features_to_select=130, score=(train=-5.035, test=-5.037), total=   0.2s\n",
            "[CV] n_features_to_select=130 ........................................\n",
            "[CV]  n_features_to_select=130, score=(train=-5.017, test=-5.103), total=   0.3s\n",
            "[CV] n_features_to_select=130 ........................................\n",
            "[CV]  n_features_to_select=130, score=(train=-5.036, test=-5.035), total=   0.2s\n",
            "[CV] n_features_to_select=131 ........................................\n",
            "[CV]  n_features_to_select=131, score=(train=-5.000, test=-5.169), total=   0.2s\n",
            "[CV] n_features_to_select=131 ........................................\n",
            "[CV]  n_features_to_select=131, score=(train=-5.033, test=-5.048), total=   0.2s\n",
            "[CV] n_features_to_select=131 ........................................\n",
            "[CV]  n_features_to_select=131, score=(train=-5.035, test=-5.037), total=   0.2s\n",
            "[CV] n_features_to_select=131 ........................................\n",
            "[CV]  n_features_to_select=131, score=(train=-5.017, test=-5.103), total=   0.3s\n",
            "[CV] n_features_to_select=131 ........................................\n",
            "[CV]  n_features_to_select=131, score=(train=-5.036, test=-5.035), total=   0.2s\n",
            "[CV] n_features_to_select=132 ........................................\n",
            "[CV]  n_features_to_select=132, score=(train=-5.000, test=-5.169), total=   0.2s\n",
            "[CV] n_features_to_select=132 ........................................\n",
            "[CV]  n_features_to_select=132, score=(train=-5.033, test=-5.048), total=   0.2s\n",
            "[CV] n_features_to_select=132 ........................................\n",
            "[CV]  n_features_to_select=132, score=(train=-5.035, test=-5.037), total=   0.3s\n",
            "[CV] n_features_to_select=132 ........................................\n",
            "[CV]  n_features_to_select=132, score=(train=-5.017, test=-5.103), total=   0.2s\n",
            "[CV] n_features_to_select=132 ........................................\n",
            "[CV]  n_features_to_select=132, score=(train=-5.036, test=-5.035), total=   0.3s\n"
          ],
          "name": "stdout"
        },
        {
          "output_type": "stream",
          "text": [
            "[Parallel(n_jobs=1)]: Done 660 out of 660 | elapsed: 55.4min finished\n"
          ],
          "name": "stderr"
        },
        {
          "output_type": "stream",
          "text": [
            "run time: 3323.8260781764984 start time: 1627702047.5906324 end time 1627705371.4167566\n"
          ],
          "name": "stdout"
        }
      ]
    },
    {
      "cell_type": "code",
      "metadata": {
        "id": "u4rtVhcqn8Fj"
      },
      "source": [
        "#grid_search.fit(train_features, train_labels)\n",
        "print(model_cv.best_params_)\n",
        "\n",
        "print(model_cv.best_estimator_)\n",
        "print(model_cv.best_score_)\n",
        "\n",
        "model_cv_y_pred_rfgs = model_cv.predict(x_test)\n",
        "model_cv_rmse = np.sqrt(metrics.mean_squared_error(y_test, model_cv_y_pred_rfgs))\n",
        "print(\"RMSE: %f\" % (model_cv_rmse))\n",
        "\n",
        "print(\"Mean squared error: %.2f\"\n",
        "      % metrics.mean_squared_error(y_test, model_cv_y_pred_rfgs))\n",
        "# Explained variance score: 1 is perfect prediction\n",
        "print('R2 score: %.2f' % metrics.r2_score(y_test, model_cv_y_pred_rfgs))"
      ],
      "execution_count": null,
      "outputs": []
    },
    {
      "cell_type": "code",
      "metadata": {
        "colab": {
          "base_uri": "https://localhost:8080/",
          "height": 609
        },
        "id": "5OwzulXJkQA_",
        "outputId": "c0e28947-cce8-4c72-eea8-af0d1ba00162"
      },
      "source": [
        "# cv results\n",
        "cv_results = pd.DataFrame(model_cv.cv_results_)\n",
        "cv_results"
      ],
      "execution_count": 101,
      "outputs": [
        {
          "output_type": "execute_result",
          "data": {
            "text/html": [
              "<div>\n",
              "<style scoped>\n",
              "    .dataframe tbody tr th:only-of-type {\n",
              "        vertical-align: middle;\n",
              "    }\n",
              "\n",
              "    .dataframe tbody tr th {\n",
              "        vertical-align: top;\n",
              "    }\n",
              "\n",
              "    .dataframe thead th {\n",
              "        text-align: right;\n",
              "    }\n",
              "</style>\n",
              "<table border=\"1\" class=\"dataframe\">\n",
              "  <thead>\n",
              "    <tr style=\"text-align: right;\">\n",
              "      <th></th>\n",
              "      <th>mean_fit_time</th>\n",
              "      <th>std_fit_time</th>\n",
              "      <th>mean_score_time</th>\n",
              "      <th>std_score_time</th>\n",
              "      <th>param_n_features_to_select</th>\n",
              "      <th>params</th>\n",
              "      <th>split0_test_score</th>\n",
              "      <th>split1_test_score</th>\n",
              "      <th>split2_test_score</th>\n",
              "      <th>split3_test_score</th>\n",
              "      <th>split4_test_score</th>\n",
              "      <th>mean_test_score</th>\n",
              "      <th>std_test_score</th>\n",
              "      <th>rank_test_score</th>\n",
              "      <th>split0_train_score</th>\n",
              "      <th>split1_train_score</th>\n",
              "      <th>split2_train_score</th>\n",
              "      <th>split3_train_score</th>\n",
              "      <th>split4_train_score</th>\n",
              "      <th>mean_train_score</th>\n",
              "      <th>std_train_score</th>\n",
              "    </tr>\n",
              "  </thead>\n",
              "  <tbody>\n",
              "    <tr>\n",
              "      <th>0</th>\n",
              "      <td>7.924850</td>\n",
              "      <td>0.074362</td>\n",
              "      <td>0.003754</td>\n",
              "      <td>0.000177</td>\n",
              "      <td>1</td>\n",
              "      <td>{'n_features_to_select': 1}</td>\n",
              "      <td>-5.613107</td>\n",
              "      <td>-5.432113</td>\n",
              "      <td>-5.408015</td>\n",
              "      <td>-5.524198</td>\n",
              "      <td>-5.390630</td>\n",
              "      <td>-5.473612</td>\n",
              "      <td>0.083581</td>\n",
              "      <td>132</td>\n",
              "      <td>-5.450948</td>\n",
              "      <td>-5.476474</td>\n",
              "      <td>-5.451703</td>\n",
              "      <td>-5.468488</td>\n",
              "      <td>-5.465797</td>\n",
              "      <td>-5.462682</td>\n",
              "      <td>0.009918</td>\n",
              "    </tr>\n",
              "    <tr>\n",
              "      <th>1</th>\n",
              "      <td>8.403971</td>\n",
              "      <td>0.967076</td>\n",
              "      <td>0.008908</td>\n",
              "      <td>0.003507</td>\n",
              "      <td>2</td>\n",
              "      <td>{'n_features_to_select': 2}</td>\n",
              "      <td>-5.612859</td>\n",
              "      <td>-5.423491</td>\n",
              "      <td>-5.408938</td>\n",
              "      <td>-5.509767</td>\n",
              "      <td>-5.387096</td>\n",
              "      <td>-5.468430</td>\n",
              "      <td>0.083358</td>\n",
              "      <td>131</td>\n",
              "      <td>-5.450738</td>\n",
              "      <td>-5.467581</td>\n",
              "      <td>-5.445438</td>\n",
              "      <td>-5.451510</td>\n",
              "      <td>-5.462573</td>\n",
              "      <td>-5.455568</td>\n",
              "      <td>0.008195</td>\n",
              "    </tr>\n",
              "    <tr>\n",
              "      <th>2</th>\n",
              "      <td>8.015444</td>\n",
              "      <td>0.059023</td>\n",
              "      <td>0.003940</td>\n",
              "      <td>0.000028</td>\n",
              "      <td>3</td>\n",
              "      <td>{'n_features_to_select': 3}</td>\n",
              "      <td>-5.612938</td>\n",
              "      <td>-5.405084</td>\n",
              "      <td>-5.408508</td>\n",
              "      <td>-5.499613</td>\n",
              "      <td>-5.387060</td>\n",
              "      <td>-5.462640</td>\n",
              "      <td>0.084749</td>\n",
              "      <td>130</td>\n",
              "      <td>-5.450651</td>\n",
              "      <td>-5.448468</td>\n",
              "      <td>-5.442184</td>\n",
              "      <td>-5.437466</td>\n",
              "      <td>-5.462589</td>\n",
              "      <td>-5.448271</td>\n",
              "      <td>0.008538</td>\n",
              "    </tr>\n",
              "    <tr>\n",
              "      <th>3</th>\n",
              "      <td>7.951608</td>\n",
              "      <td>0.058556</td>\n",
              "      <td>0.003989</td>\n",
              "      <td>0.000046</td>\n",
              "      <td>4</td>\n",
              "      <td>{'n_features_to_select': 4}</td>\n",
              "      <td>-5.613683</td>\n",
              "      <td>-5.405709</td>\n",
              "      <td>-5.409667</td>\n",
              "      <td>-5.463576</td>\n",
              "      <td>-5.385051</td>\n",
              "      <td>-5.455537</td>\n",
              "      <td>0.083223</td>\n",
              "      <td>129</td>\n",
              "      <td>-5.450947</td>\n",
              "      <td>-5.448569</td>\n",
              "      <td>-5.442776</td>\n",
              "      <td>-5.416922</td>\n",
              "      <td>-5.452752</td>\n",
              "      <td>-5.442393</td>\n",
              "      <td>0.013172</td>\n",
              "    </tr>\n",
              "    <tr>\n",
              "      <th>4</th>\n",
              "      <td>7.941562</td>\n",
              "      <td>0.018377</td>\n",
              "      <td>0.004921</td>\n",
              "      <td>0.001497</td>\n",
              "      <td>5</td>\n",
              "      <td>{'n_features_to_select': 5}</td>\n",
              "      <td>-5.604478</td>\n",
              "      <td>-5.393331</td>\n",
              "      <td>-5.404640</td>\n",
              "      <td>-5.438279</td>\n",
              "      <td>-5.383467</td>\n",
              "      <td>-5.444839</td>\n",
              "      <td>0.081931</td>\n",
              "      <td>127</td>\n",
              "      <td>-5.447997</td>\n",
              "      <td>-5.441978</td>\n",
              "      <td>-5.442053</td>\n",
              "      <td>-5.396066</td>\n",
              "      <td>-5.449614</td>\n",
              "      <td>-5.435542</td>\n",
              "      <td>0.019977</td>\n",
              "    </tr>\n",
              "    <tr>\n",
              "      <th>...</th>\n",
              "      <td>...</td>\n",
              "      <td>...</td>\n",
              "      <td>...</td>\n",
              "      <td>...</td>\n",
              "      <td>...</td>\n",
              "      <td>...</td>\n",
              "      <td>...</td>\n",
              "      <td>...</td>\n",
              "      <td>...</td>\n",
              "      <td>...</td>\n",
              "      <td>...</td>\n",
              "      <td>...</td>\n",
              "      <td>...</td>\n",
              "      <td>...</td>\n",
              "      <td>...</td>\n",
              "      <td>...</td>\n",
              "      <td>...</td>\n",
              "      <td>...</td>\n",
              "      <td>...</td>\n",
              "      <td>...</td>\n",
              "      <td>...</td>\n",
              "    </tr>\n",
              "    <tr>\n",
              "      <th>127</th>\n",
              "      <td>0.236168</td>\n",
              "      <td>0.009329</td>\n",
              "      <td>0.011969</td>\n",
              "      <td>0.004160</td>\n",
              "      <td>128</td>\n",
              "      <td>{'n_features_to_select': 128}</td>\n",
              "      <td>-5.168901</td>\n",
              "      <td>-5.048279</td>\n",
              "      <td>-5.037152</td>\n",
              "      <td>-5.103454</td>\n",
              "      <td>-5.034765</td>\n",
              "      <td>-5.078510</td>\n",
              "      <td>0.051635</td>\n",
              "      <td>6</td>\n",
              "      <td>-5.000245</td>\n",
              "      <td>-5.032897</td>\n",
              "      <td>-5.035166</td>\n",
              "      <td>-5.017054</td>\n",
              "      <td>-5.035646</td>\n",
              "      <td>-5.024202</td>\n",
              "      <td>0.013797</td>\n",
              "    </tr>\n",
              "    <tr>\n",
              "      <th>128</th>\n",
              "      <td>0.239127</td>\n",
              "      <td>0.006552</td>\n",
              "      <td>0.007606</td>\n",
              "      <td>0.001476</td>\n",
              "      <td>129</td>\n",
              "      <td>{'n_features_to_select': 129}</td>\n",
              "      <td>-5.168901</td>\n",
              "      <td>-5.048279</td>\n",
              "      <td>-5.037152</td>\n",
              "      <td>-5.103454</td>\n",
              "      <td>-5.034765</td>\n",
              "      <td>-5.078510</td>\n",
              "      <td>0.051635</td>\n",
              "      <td>6</td>\n",
              "      <td>-5.000245</td>\n",
              "      <td>-5.032897</td>\n",
              "      <td>-5.035166</td>\n",
              "      <td>-5.017054</td>\n",
              "      <td>-5.035646</td>\n",
              "      <td>-5.024202</td>\n",
              "      <td>0.013797</td>\n",
              "    </tr>\n",
              "    <tr>\n",
              "      <th>129</th>\n",
              "      <td>0.240245</td>\n",
              "      <td>0.005902</td>\n",
              "      <td>0.006523</td>\n",
              "      <td>0.000127</td>\n",
              "      <td>130</td>\n",
              "      <td>{'n_features_to_select': 130}</td>\n",
              "      <td>-5.168901</td>\n",
              "      <td>-5.048279</td>\n",
              "      <td>-5.037152</td>\n",
              "      <td>-5.103454</td>\n",
              "      <td>-5.034765</td>\n",
              "      <td>-5.078510</td>\n",
              "      <td>0.051635</td>\n",
              "      <td>6</td>\n",
              "      <td>-5.000245</td>\n",
              "      <td>-5.032897</td>\n",
              "      <td>-5.035166</td>\n",
              "      <td>-5.017054</td>\n",
              "      <td>-5.035646</td>\n",
              "      <td>-5.024202</td>\n",
              "      <td>0.013797</td>\n",
              "    </tr>\n",
              "    <tr>\n",
              "      <th>130</th>\n",
              "      <td>0.235604</td>\n",
              "      <td>0.008218</td>\n",
              "      <td>0.006825</td>\n",
              "      <td>0.000196</td>\n",
              "      <td>131</td>\n",
              "      <td>{'n_features_to_select': 131}</td>\n",
              "      <td>-5.168901</td>\n",
              "      <td>-5.048279</td>\n",
              "      <td>-5.037152</td>\n",
              "      <td>-5.103454</td>\n",
              "      <td>-5.034765</td>\n",
              "      <td>-5.078510</td>\n",
              "      <td>0.051635</td>\n",
              "      <td>6</td>\n",
              "      <td>-5.000245</td>\n",
              "      <td>-5.032897</td>\n",
              "      <td>-5.035166</td>\n",
              "      <td>-5.017054</td>\n",
              "      <td>-5.035646</td>\n",
              "      <td>-5.024202</td>\n",
              "      <td>0.013797</td>\n",
              "    </tr>\n",
              "    <tr>\n",
              "      <th>131</th>\n",
              "      <td>0.237927</td>\n",
              "      <td>0.008728</td>\n",
              "      <td>0.007446</td>\n",
              "      <td>0.001803</td>\n",
              "      <td>132</td>\n",
              "      <td>{'n_features_to_select': 132}</td>\n",
              "      <td>-5.168901</td>\n",
              "      <td>-5.048279</td>\n",
              "      <td>-5.037152</td>\n",
              "      <td>-5.103454</td>\n",
              "      <td>-5.034765</td>\n",
              "      <td>-5.078510</td>\n",
              "      <td>0.051635</td>\n",
              "      <td>6</td>\n",
              "      <td>-5.000245</td>\n",
              "      <td>-5.032897</td>\n",
              "      <td>-5.035166</td>\n",
              "      <td>-5.017054</td>\n",
              "      <td>-5.035646</td>\n",
              "      <td>-5.024202</td>\n",
              "      <td>0.013797</td>\n",
              "    </tr>\n",
              "  </tbody>\n",
              "</table>\n",
              "<p>132 rows × 21 columns</p>\n",
              "</div>"
            ],
            "text/plain": [
              "     mean_fit_time  std_fit_time  ...  mean_train_score  std_train_score\n",
              "0         7.924850      0.074362  ...         -5.462682         0.009918\n",
              "1         8.403971      0.967076  ...         -5.455568         0.008195\n",
              "2         8.015444      0.059023  ...         -5.448271         0.008538\n",
              "3         7.951608      0.058556  ...         -5.442393         0.013172\n",
              "4         7.941562      0.018377  ...         -5.435542         0.019977\n",
              "..             ...           ...  ...               ...              ...\n",
              "127       0.236168      0.009329  ...         -5.024202         0.013797\n",
              "128       0.239127      0.006552  ...         -5.024202         0.013797\n",
              "129       0.240245      0.005902  ...         -5.024202         0.013797\n",
              "130       0.235604      0.008218  ...         -5.024202         0.013797\n",
              "131       0.237927      0.008728  ...         -5.024202         0.013797\n",
              "\n",
              "[132 rows x 21 columns]"
            ]
          },
          "metadata": {
            "tags": []
          },
          "execution_count": 101
        }
      ]
    },
    {
      "cell_type": "code",
      "metadata": {
        "colab": {
          "base_uri": "https://localhost:8080/",
          "height": 421
        },
        "id": "FGP-6DE5kQA_",
        "outputId": "75ff49a0-7e16-44b5-8bb8-de76f76de1c6"
      },
      "source": [
        "# plotting cv results\n",
        "plt.figure(figsize=(16,6))\n",
        "\n",
        "#plt.plot(cv_results[\"param_n_features_to_select\"], cv_results[\"mean_test_score\"])\n",
        "plt.plot(cv_results[\"param_n_features_to_select\"], cv_results[\"mean_train_score\"])\n",
        "plt.xlabel('number of features')\n",
        "plt.ylabel('r-squared')\n",
        "plt.title(\"Optimal Number of Features\")\n",
        "plt.legend(['test score', 'train score'], loc='upper left')"
      ],
      "execution_count": 102,
      "outputs": [
        {
          "output_type": "execute_result",
          "data": {
            "text/plain": [
              "<matplotlib.legend.Legend at 0x7f9792e56250>"
            ]
          },
          "metadata": {
            "tags": []
          },
          "execution_count": 102
        },
        {
          "output_type": "display_data",
          "data": {
            "image/png": "[encoded data removed]",
            "text/plain": [
              "<Figure size 1152x432 with 1 Axes>"
            ]
          },
          "metadata": {
            "tags": [],
            "needs_background": "light"
          }
        }
      ]
    },
    {
      "cell_type": "markdown",
      "metadata": {
        "id": "plboPj-CkQBA"
      },
      "source": [
        "#### 4.1.1.2 Linear Regression - Regularisation"
      ]
    },
    {
      "cell_type": "markdown",
      "metadata": {
        "id": "Tz9DAByekQBA"
      },
      "source": [
        "**Lasso Regularisation**"
      ]
    },
    {
      "cell_type": "code",
      "metadata": {
        "colab": {
          "base_uri": "https://localhost:8080/"
        },
        "id": "6RdZvir-kQBA",
        "outputId": "9e5db925-e3ee-4a38-f951-d32557ce283e"
      },
      "source": [
        "start_time = time.time()\n",
        "alpha = [0.0001, 0.001, 0.005, 0.01]\n",
        "\n",
        "for i in range(4):\n",
        "    #build lasso regressor model here\n",
        "    lasso = linear_model.Lasso(alpha=alpha[i])\n",
        "    lasso.fit(x_train, y_train) #fit a lasso regression on the training data\n",
        "    y_predlasso = lasso.predict(x_test) #use this model to predict the test data\n",
        "    lasso_mse = metrics.mean_squared_error(y_test, y_predlasso) #calculate the test MSE\n",
        "    lasso_rmse = metrics.mean_squared_error(y_test, y_predlasso,squared = False) #calculate the test RMSE\n",
        "    msemanual = np.mean((y_predlasso-y_test)**2) #calculate mse manually to cross validate\n",
        "    lasso_cplxy = (np.sum(abs(lasso.coef_))) #calculate l1norm / model complexity\n",
        "    \n",
        "    print('-' * 32)\n",
        "    print('lasso with alpha', alpha[i])\n",
        "    print('-' * 32)\n",
        "    print('\\nTrain score:', round(lasso.score(x_train, y_train), 3)) #compute train R^2 score\n",
        "    print('Test score:', round(lasso.score(x_test, y_test), 3)) #compute test R^2 score\n",
        "    print(list(map(lambda x: round(x, 3), lasso.coef_))) #list out the coef values \n",
        "    print('-' * 32)\n",
        "    print('MSE on test set:', lasso_mse) #compute MSE results\n",
        "    print('Manual MSE on test set:',msemanual) #compute MSE results\n",
        "    print('RMSE on test set:', lasso_rmse) #compute RMSE results\n",
        "    print('model complexity:', lasso_cplxy) #compute L1 NOMR score\n",
        "    print('regularized cost:', lasso_mse + alpha[i] * lasso_cplxy) #compute regularised cost function scores\n",
        "    print('\\n')\n",
        "print(\"run time:\", str(time.time()-start_time), \"start time:\", str(start_time), \"end time\",str(time.time()))   "
      ],
      "execution_count": 103,
      "outputs": [
        {
          "output_type": "stream",
          "text": [
            "--------------------------------\n",
            "lasso with alpha 0.0001\n",
            "--------------------------------\n",
            "\n",
            "Train score: 0.083\n",
            "Test score: 0.073\n",
            "[-1.57, 0.0, 0.955, -0.245, -0.087, 0.157, 0.326, 0.457, -0.273, -0.375, -0.529, -0.418, -0.109, -0.394, -0.479, 0.019, -0.0, 0.171, 0.255, -0.0, 0.19, 0.085, 0.075, 0.032, 0.072, -0.0, 1.071, 0.159, -0.555, -0.105, 0.052, 0.148, 0.0, 0.238, -0.103, 0.154, -0.01, 0.0, 0.0, 0.191, 0.238, -0.0, 0.472, 0.304, -0.004, -0.105, 0.08, -0.015, -0.001, 0.017, -0.168, 0.533, 0.663, 0.007, 0.135, 0.23, 0.352, 0.384, 0.409, 0.469, 0.677, -0.022, 0.056, 0.011, -0.026, 0.001, 0.045, -0.003, 0.0, -0.0, -0.0, -0.178, 0.0, 0.111, -0.009, -0.016, 0.0, 0.001, 0.0, -0.0, -0.0, -0.034, -0.232, 0.166, 0.146, 0.03, 0.0, -0.02, -0.11, 0.262, -0.256, -0.057, -0.077, 0.0, 0.159, 0.138, 0.158, -0.138, 0.398, 0.026, 0.209, 0.167, -0.133, 0.543, 0.618, 0.209, -0.27, 0.0, 0.37, 0.0, -0.301, 0.565, -0.385, 0.311, -0.0]\n",
            "--------------------------------\n",
            "MSE on test set: 5.231999339952996\n",
            "Manual MSE on test set: 5.231999339953008\n",
            "RMSE on test set: 2.287356408597706\n",
            "model complexity: 22.285026794989196\n",
            "regularized cost: 5.234227842632494\n",
            "\n",
            "\n",
            "--------------------------------\n",
            "lasso with alpha 0.001\n",
            "--------------------------------\n",
            "\n",
            "Train score: 0.082\n",
            "Test score: 0.073\n",
            "[-0.892, -0.0, 0.058, -0.283, -0.209, 0.031, 0.2, 0.335, 0.094, -0.0, -0.133, -0.0, 0.0, -0.0, -0.051, 0.004, -0.009, 0.195, 0.331, 0.0, 0.185, 0.033, 0.016, -0.0, 0.028, -0.0, 0.903, 0.0, -0.544, -0.099, 0.047, 0.141, 0.0, 0.235, -0.093, 0.132, -0.015, -0.0, 0.0, 0.0, 0.032, -0.074, 0.435, 0.225, -0.0, -0.127, 0.068, -0.015, -0.001, 0.005, -0.277, 0.37, 0.499, -0.106, -0.0, 0.071, 0.198, 0.23, 0.255, 0.312, 0.514, -0.013, 0.044, 0.008, -0.021, 0.0, 0.031, -0.0, 0.002, -0.001, -0.0, -0.172, 0.0, 0.112, -0.0, -0.0, -0.0, -0.0, 0.001, -0.0, -0.0, -0.004, -0.207, 0.0, 0.016, 0.016, -0.0, 0.0, -0.095, 0.246, -0.228, -0.028, -0.039, 0.007, 0.162, 0.004, 0.163, -0.123, 0.352, -0.0, 0.166, 0.118, -0.159, 0.432, 0.502, -0.0, -0.0, 0.066, 0.267, -0.0, -0.189, 0.035, -0.0, 0.0, -0.027]\n",
            "--------------------------------\n",
            "MSE on test set: 5.231887536656713\n",
            "Manual MSE on test set: 5.231887536656706\n",
            "RMSE on test set: 2.287331969054058\n",
            "model complexity: 13.164575188048644\n",
            "regularized cost: 5.245052111844762\n",
            "\n",
            "\n",
            "--------------------------------\n",
            "lasso with alpha 0.005\n",
            "--------------------------------\n",
            "\n",
            "Train score: 0.077\n",
            "Test score: 0.07\n",
            "[-0.303, -0.0, 0.0, -0.142, -0.257, -0.0, 0.148, 0.31, 0.131, -0.0, -0.0, -0.0, 0.0, -0.0, -0.0, 0.0, -0.0, 0.103, 0.348, 0.0, 0.164, 0.0, 0.0, -0.0, 0.04, -0.0, 0.528, -0.307, -0.512, -0.071, 0.017, 0.111, -0.0, 0.211, -0.066, 0.038, -0.007, 0.0, -0.0, 0.0, -0.0, -0.0, 0.452, 0.168, -0.0, -0.081, 0.021, -0.0, -0.0, -0.0, -0.264, 0.075, 0.203, -0.133, -0.097, -0.028, 0.0, 0.007, 0.014, 0.053, 0.224, -0.006, 0.038, 0.001, -0.013, 0.0, 0.0, 0.0, 0.0, -0.001, -0.0, -0.176, 0.0, 0.089, -0.0, 0.0, -0.0, -0.0, 0.001, -0.0, 0.0, -0.0, -0.143, 0.0, -0.0, 0.0, 0.0, 0.0, -0.045, 0.101, -0.169, -0.0, -0.0, 0.0, 0.142, 0.0, 0.149, -0.095, 0.254, -0.0, 0.078, 0.025, -0.16, 0.029, 0.101, -0.214, 0.0, 0.0, 0.204, -0.0, -0.0, -0.0, 0.024, -0.0, -0.0]\n",
            "--------------------------------\n",
            "MSE on test set: 5.248811755260963\n",
            "Manual MSE on test set: 5.248811755260957\n",
            "RMSE on test set: 2.291028536544441\n",
            "model complexity: 7.895919115846441\n",
            "regularized cost: 5.288291350840195\n",
            "\n",
            "\n",
            "--------------------------------\n",
            "lasso with alpha 0.01\n",
            "--------------------------------\n",
            "\n",
            "Train score: 0.069\n",
            "Test score: 0.065\n",
            "[-0.0, -0.0, 0.0, -0.062, -0.257, -0.0, 0.128, 0.322, 0.104, -0.0, -0.0, -0.0, 0.0, -0.0, -0.0, 0.0, -0.0, 0.0, 0.333, 0.0, 0.135, 0.0, 0.0, -0.0, 0.075, -0.0, 0.424, -0.395, -0.467, -0.027, 0.0, 0.082, 0.0, 0.189, -0.027, 0.0, -0.0, 0.0, -0.0, 0.0, -0.0, -0.0, 0.368, 0.071, -0.014, -0.042, 0.0, -0.0, -0.0, -0.0, -0.022, 0.0, 0.086, -0.0, -0.002, -0.0, 0.0, 0.0, 0.0, 0.0, 0.116, -0.0, 0.0, 0.0, -0.0, 0.0, 0.0, 0.0, 0.0, -0.0, -0.0, -0.169, 0.0, 0.047, -0.0, 0.0, -0.0, -0.015, 0.0, -0.0, 0.0, -0.0, -0.08, 0.0, -0.0, 0.0, 0.016, 0.0, -0.0, 0.0, -0.147, -0.0, 0.0, 0.0, 0.114, 0.0, 0.129, -0.046, 0.177, -0.0, 0.013, 0.0, -0.115, 0.0, 0.0, -0.173, 0.0, 0.0, 0.075, -0.0, -0.0, -0.0, 0.009, -0.0, -0.0]\n",
            "--------------------------------\n",
            "MSE on test set: 5.279908704114693\n",
            "Manual MSE on test set: 5.279908704114692\n",
            "RMSE on test set: 2.297805192812196\n",
            "model complexity: 5.069717509639812\n",
            "regularized cost: 5.330605879211091\n",
            "\n",
            "\n",
            "run time: 5.029609203338623 start time: 1627705371.855661 end time 1627705376.885279\n"
          ],
          "name": "stdout"
        }
      ]
    },
    {
      "cell_type": "markdown",
      "metadata": {
        "id": "XjbTv5OJkQBA"
      },
      "source": [
        "**Ridge Regularisation**"
      ]
    },
    {
      "cell_type": "code",
      "metadata": {
        "colab": {
          "base_uri": "https://localhost:8080/"
        },
        "id": "9EM6SZDBkQBA",
        "outputId": "a4c81e07-04a6-45d4-df80-1266ac3380d3"
      },
      "source": [
        "start_time = time.time()\n",
        "ridgealpha = [0.001, 0.01, 0.1, 1]\n",
        "\n",
        "for i in range(4):\n",
        "    #build ridge regressor here\n",
        "    ridge = linear_model.Ridge(alpha=ridgealpha[i])\n",
        "    ridge.fit(x_train, y_train) #fit a ridge regression on the training data\n",
        "    y_pred_ridge = ridge.predict(x_test) #use this model to predict the test data\n",
        "    ridge_mse = metrics.mean_squared_error(y_test, y_pred_ridge) #calculate the test mse\n",
        "    ridge_rmse = metrics.mean_squared_error(y_test, y_pred_ridge,squared = False) #calculate the test rmse\n",
        "    ridge_cplxy = (np.linalg.norm(ridge.coef_)) #calculate l2norm / model complexity\n",
        "    \n",
        "    print('-' * 32)\n",
        "    print('ridge with alpha', ridgealpha[i])\n",
        "    print('-' * 32)\n",
        "    print('\\nTrain score:', round(ridge.score(x_train, y_train), 3))\n",
        "    print('Test score:', round(ridge.score(x_test, y_test), 3))\n",
        "    print(list(map(lambda x: round(x, 3), ridge.coef_)))\n",
        "    print('-' * 32)\n",
        "    print('MSE on test set:', ridge_mse)\n",
        "    print('RMSE on test set:', ridge_rmse)\n",
        "    print('model complexity:', ridge_cplxy)\n",
        "    print('regularized cost:', ridge_mse + ridgealpha[i] * ridge_cplxy)\n",
        "    print('\\n')\n",
        "print(\"run time:\", str(time.time()-start_time), \"start time:\", str(start_time), \"end time\",str(time.time()))"
      ],
      "execution_count": 104,
      "outputs": [
        {
          "output_type": "stream",
          "text": [
            "--------------------------------\n",
            "ridge with alpha 0.001\n",
            "--------------------------------\n",
            "\n",
            "Train score: 0.083\n",
            "Test score: 0.073\n",
            "[-1.696, 0.218, 1.074, -0.247, -0.082, 0.163, 0.332, 0.462, -0.418, -0.522, -0.679, -0.609, -0.389, -0.544, -0.633, 0.054, 0.034, 0.586, 0.609, -0.817, -0.627, 0.489, 0.48, 0.438, 0.475, 0.292, 1.11, 0.197, -0.51, -0.059, 0.1, 0.195, 0.047, 0.285, -0.058, 0.098, -0.022, -0.058, -0.018, 1.102, 1.15, 0.9, 0.275, 0.153, -0.166, -0.263, 0.06, -0.036, -0.022, -0.002, -0.141, 0.562, 0.692, 0.04, 0.165, 0.261, 0.381, 0.414, 0.438, 0.498, 0.705, -0.022, 0.04, 0.006, -0.023, -0.012, 0.033, -0.016, 0.04, -0.022, -0.023, -0.045, 0.045, 0.094, -0.028, -0.035, -0.017, -0.014, 0.045, -0.045, 0.006, -0.071, -0.269, 0.163, 0.136, 0.001, -0.026, -0.069, -0.141, 0.27, -0.251, -0.054, -0.074, 0.007, 0.167, 0.17, 0.166, -0.131, 0.461, 0.088, 0.271, 0.229, -0.072, 0.558, 0.633, 0.28, -0.292, 0.012, 0.417, -0.024, -0.393, 0.496, -0.575, 0.215, -0.136]\n",
            "--------------------------------\n",
            "MSE on test set: 5.232777083084832\n",
            "RMSE on test set: 2.2875264114507687\n",
            "model complexity: 4.402757840696874\n",
            "regularized cost: 5.237179840925529\n",
            "\n",
            "\n",
            "--------------------------------\n",
            "ridge with alpha 0.01\n",
            "--------------------------------\n",
            "\n",
            "Train score: 0.083\n",
            "Test score: 0.073\n",
            "[-1.695, 0.218, 1.074, -0.247, -0.082, 0.163, 0.332, 0.462, -0.418, -0.522, -0.678, -0.609, -0.389, -0.544, -0.633, 0.054, 0.034, 0.579, 0.602, -0.809, -0.619, 0.488, 0.479, 0.437, 0.474, 0.291, 1.11, 0.197, -0.51, -0.059, 0.1, 0.195, 0.047, 0.285, -0.058, 0.098, -0.022, -0.058, -0.018, 1.092, 1.14, 0.89, 0.275, 0.153, -0.166, -0.263, 0.06, -0.036, -0.022, -0.002, -0.141, 0.562, 0.692, 0.04, 0.165, 0.261, 0.381, 0.413, 0.438, 0.498, 0.705, -0.022, 0.04, 0.006, -0.023, -0.012, 0.033, -0.016, 0.04, -0.022, -0.023, -0.045, 0.045, 0.094, -0.028, -0.035, -0.017, -0.014, 0.045, -0.045, 0.006, -0.072, -0.269, 0.164, 0.136, 0.002, -0.026, -0.069, -0.141, 0.27, -0.251, -0.054, -0.074, 0.007, 0.167, 0.17, 0.166, -0.131, 0.461, 0.088, 0.271, 0.229, -0.072, 0.558, 0.633, 0.279, -0.292, 0.012, 0.417, -0.024, -0.393, 0.496, -0.575, 0.215, -0.136]\n",
            "--------------------------------\n",
            "MSE on test set: 5.232772053832038\n",
            "RMSE on test set: 2.287525312172969\n",
            "model complexity: 4.390319560112429\n",
            "regularized cost: 5.276675249433162\n",
            "\n",
            "\n",
            "--------------------------------\n",
            "ridge with alpha 0.1\n",
            "--------------------------------\n",
            "\n",
            "Train score: 0.083\n",
            "Test score: 0.073\n",
            "[-1.69, 0.214, 1.07, -0.247, -0.082, 0.163, 0.332, 0.462, -0.415, -0.519, -0.675, -0.605, -0.384, -0.541, -0.629, 0.053, 0.033, 0.521, 0.544, -0.739, -0.549, 0.476, 0.466, 0.425, 0.462, 0.277, 1.109, 0.196, -0.51, -0.059, 0.1, 0.195, 0.047, 0.285, -0.058, 0.098, -0.022, -0.058, -0.018, 1.007, 1.055, 0.804, 0.275, 0.153, -0.166, -0.263, 0.06, -0.036, -0.022, -0.002, -0.141, 0.562, 0.692, 0.04, 0.164, 0.26, 0.381, 0.413, 0.438, 0.498, 0.705, -0.022, 0.04, 0.006, -0.023, -0.012, 0.033, -0.016, 0.04, -0.022, -0.023, -0.045, 0.045, 0.094, -0.028, -0.035, -0.017, -0.014, 0.045, -0.045, 0.006, -0.072, -0.269, 0.164, 0.136, 0.002, -0.025, -0.069, -0.142, 0.269, -0.251, -0.054, -0.074, 0.007, 0.167, 0.17, 0.166, -0.131, 0.461, 0.088, 0.27, 0.228, -0.073, 0.558, 0.633, 0.278, -0.29, 0.012, 0.416, -0.024, -0.391, 0.494, -0.573, 0.214, -0.135]\n",
            "--------------------------------\n",
            "MSE on test set: 5.232729162165205\n",
            "RMSE on test set: 2.2875159370297737\n",
            "model complexity: 4.280439017449963\n",
            "regularized cost: 5.660773063910201\n",
            "\n",
            "\n",
            "--------------------------------\n",
            "ridge with alpha 1\n",
            "--------------------------------\n",
            "\n",
            "Train score: 0.083\n",
            "Test score: 0.073\n",
            "[-1.639, 0.179, 1.033, -0.246, -0.082, 0.163, 0.332, 0.463, -0.388, -0.492, -0.647, -0.568, -0.34, -0.513, -0.6, 0.046, 0.026, 0.294, 0.323, -0.403, -0.213, 0.368, 0.359, 0.317, 0.354, 0.161, 1.101, 0.188, -0.51, -0.059, 0.1, 0.195, 0.047, 0.285, -0.058, 0.098, -0.022, -0.058, -0.017, 0.578, 0.626, 0.373, 0.274, 0.152, -0.164, -0.262, 0.06, -0.036, -0.022, -0.002, -0.146, 0.558, 0.688, 0.036, 0.161, 0.257, 0.377, 0.409, 0.434, 0.494, 0.701, -0.022, 0.04, 0.006, -0.023, -0.012, 0.033, -0.016, 0.04, -0.022, -0.023, -0.045, 0.045, 0.094, -0.028, -0.035, -0.016, -0.014, 0.045, -0.045, 0.005, -0.074, -0.271, 0.165, 0.136, 0.006, -0.025, -0.068, -0.143, 0.269, -0.25, -0.053, -0.073, 0.008, 0.168, 0.165, 0.166, -0.131, 0.454, 0.081, 0.264, 0.222, -0.079, 0.557, 0.632, 0.263, -0.277, 0.014, 0.405, -0.025, -0.38, 0.478, -0.553, 0.206, -0.132]\n",
            "--------------------------------\n",
            "MSE on test set: 5.232507884951069\n",
            "RMSE on test set: 2.2874675702512306\n",
            "model complexity: 3.78990881957108\n",
            "regularized cost: 9.022416704522149\n",
            "\n",
            "\n",
            "run time: 0.40949368476867676 start time: 1627705376.9204767 end time 1627705377.3299835\n"
          ],
          "name": "stdout"
        }
      ]
    },
    {
      "cell_type": "markdown",
      "metadata": {
        "id": "o30nKClnkQBA"
      },
      "source": [
        "### 4.1.1.3. Principal Component Regression"
      ]
    },
    {
      "cell_type": "code",
      "metadata": {
        "id": "ptf_97LMkQBB"
      },
      "source": [
        "from sklearn.preprocessing import scale\n",
        "from sklearn.decomposition import PCA\n",
        "from sklearn.cross_decomposition import PLSRegression\n",
        "from sklearn.cross_decomposition import PLSRegression, PLSSVD\n",
        "from sklearn import model_selection\n"
      ],
      "execution_count": 105,
      "outputs": []
    },
    {
      "cell_type": "code",
      "metadata": {
        "id": "tklhlnJYkQBB"
      },
      "source": [
        "pca = PCA()\n",
        "x_reduced = pca.fit_transform(scale(x_train))\n"
      ],
      "execution_count": 106,
      "outputs": []
    },
    {
      "cell_type": "code",
      "metadata": {
        "colab": {
          "base_uri": "https://localhost:8080/",
          "height": 204
        },
        "id": "OtMPEk1OkQBB",
        "outputId": "b66d88c7-cc87-4d9a-8ca5-6acf8e3e7a36"
      },
      "source": [
        "pd.DataFrame(pca.components_.T).loc[:4,:5]\n",
        "#pd.DataFrame(pca.components_.T)"
      ],
      "execution_count": 107,
      "outputs": [
        {
          "output_type": "execute_result",
          "data": {
            "text/html": [
              "<div>\n",
              "<style scoped>\n",
              "    .dataframe tbody tr th:only-of-type {\n",
              "        vertical-align: middle;\n",
              "    }\n",
              "\n",
              "    .dataframe tbody tr th {\n",
              "        vertical-align: top;\n",
              "    }\n",
              "\n",
              "    .dataframe thead th {\n",
              "        text-align: right;\n",
              "    }\n",
              "</style>\n",
              "<table border=\"1\" class=\"dataframe\">\n",
              "  <thead>\n",
              "    <tr style=\"text-align: right;\">\n",
              "      <th></th>\n",
              "      <th>0</th>\n",
              "      <th>1</th>\n",
              "      <th>2</th>\n",
              "      <th>3</th>\n",
              "      <th>4</th>\n",
              "      <th>5</th>\n",
              "    </tr>\n",
              "  </thead>\n",
              "  <tbody>\n",
              "    <tr>\n",
              "      <th>0</th>\n",
              "      <td>-0.286303</td>\n",
              "      <td>-0.157607</td>\n",
              "      <td>0.028898</td>\n",
              "      <td>-0.025952</td>\n",
              "      <td>0.003959</td>\n",
              "      <td>0.022556</td>\n",
              "    </tr>\n",
              "    <tr>\n",
              "      <th>1</th>\n",
              "      <td>0.174029</td>\n",
              "      <td>0.090812</td>\n",
              "      <td>-0.080363</td>\n",
              "      <td>0.104877</td>\n",
              "      <td>-0.018270</td>\n",
              "      <td>0.343070</td>\n",
              "    </tr>\n",
              "    <tr>\n",
              "      <th>2</th>\n",
              "      <td>-0.004683</td>\n",
              "      <td>-0.126841</td>\n",
              "      <td>-0.319286</td>\n",
              "      <td>-0.000288</td>\n",
              "      <td>-0.012773</td>\n",
              "      <td>-0.120349</td>\n",
              "    </tr>\n",
              "    <tr>\n",
              "      <th>3</th>\n",
              "      <td>0.072694</td>\n",
              "      <td>0.063710</td>\n",
              "      <td>0.066315</td>\n",
              "      <td>-0.022605</td>\n",
              "      <td>-0.004061</td>\n",
              "      <td>-0.155781</td>\n",
              "    </tr>\n",
              "    <tr>\n",
              "      <th>4</th>\n",
              "      <td>-0.071956</td>\n",
              "      <td>0.025142</td>\n",
              "      <td>0.048226</td>\n",
              "      <td>0.003507</td>\n",
              "      <td>0.017952</td>\n",
              "      <td>0.038386</td>\n",
              "    </tr>\n",
              "  </tbody>\n",
              "</table>\n",
              "</div>"
            ],
            "text/plain": [
              "          0         1         2         3         4         5\n",
              "0 -0.286303 -0.157607  0.028898 -0.025952  0.003959  0.022556\n",
              "1  0.174029  0.090812 -0.080363  0.104877 -0.018270  0.343070\n",
              "2 -0.004683 -0.126841 -0.319286 -0.000288 -0.012773 -0.120349\n",
              "3  0.072694  0.063710  0.066315 -0.022605 -0.004061 -0.155781\n",
              "4 -0.071956  0.025142  0.048226  0.003507  0.017952  0.038386"
            ]
          },
          "metadata": {
            "tags": []
          },
          "execution_count": 107
        }
      ]
    },
    {
      "cell_type": "code",
      "metadata": {
        "colab": {
          "base_uri": "https://localhost:8080/"
        },
        "id": "RyNipq7HkQBB",
        "outputId": "4ade8303-303b-4d17-b608-8c7e3a7f10fd"
      },
      "source": [
        "# 5-fold CV, with shuffle\n",
        "kf_5 = model_selection.KFold(n_splits=10, shuffle=True, random_state=100) \n",
        "\n",
        "pcascores = model_selection.cross_validate(LRmodel, x_reduced, y_train, scoring=('r2','neg_mean_squared_error'), cv=kf_5)\n"
      ],
      "execution_count": 108,
      "outputs": [
        {
          "output_type": "stream",
          "text": [
            "\n",
            "R2 score: [-5.035390 -5.309350 -5.011983 -5.078199 -5.028956 -5.077662 -5.162977\n",
            " -5.026459 -5.134920 -4.894614]\n"
          ],
          "name": "stdout"
        }
      ]
    },
    {
      "cell_type": "code",
      "metadata": {
        "colab": {
          "base_uri": "https://localhost:8080/"
        },
        "id": "Jq2-EcMDpvQA",
        "outputId": "cb34ec09-881c-4234-e8c7-9d1621310751"
      },
      "source": [
        "pcascores\n"
      ],
      "execution_count": 110,
      "outputs": [
        {
          "output_type": "execute_result",
          "data": {
            "text/plain": [
              "array([-5.035390, -5.309350, -5.011983, -5.078199, -5.028956, -5.077662,\n",
              "       -5.162977, -5.026459, -5.134920, -4.894614])"
            ]
          },
          "metadata": {
            "tags": []
          },
          "execution_count": 110
        }
      ]
    },
    {
      "cell_type": "code",
      "metadata": {
        "colab": {
          "base_uri": "https://localhost:8080/",
          "height": 953
        },
        "id": "L31rlXRkkQBB",
        "outputId": "afa3c7e7-d4c4-4899-868a-85fa8394c126"
      },
      "source": [
        "#specify range of hyperparameters to tune\n",
        "#hyper_params = [{'n_features_to_select': list(range(1,109))}]\n",
        "   \n",
        "\n",
        "# GridSearchCV()\n",
        "#pcamodel_cv = model_selection.GridSearchCV(estimator = rfe, \n",
        "                        #param_grid = hyper_params, \n",
        "                        #scoring= 'neg_mean_squared_error', \n",
        "                        #cv = kf_10, \n",
        "                        #verbose = 10,\n",
        "                        #return_train_score=True)      \n",
        "\n",
        "# fit the model\n",
        "#pcamodel_cv.fit(x_reduced, y_train)              "
      ],
      "execution_count": 109,
      "outputs": [
        {
          "output_type": "stream",
          "text": [
            "Fitting 10 folds for each of 108 candidates, totalling 1080 fits\n",
            "[CV] n_features_to_select=1 ..........................................\n"
          ],
          "name": "stdout"
        },
        {
          "output_type": "stream",
          "text": [
            "[Parallel(n_jobs=1)]: Using backend SequentialBackend with 1 concurrent workers.\n"
          ],
          "name": "stderr"
        },
        {
          "output_type": "stream",
          "text": [
            "[CV]  n_features_to_select=1, score=(train=-5.487, test=-5.459), total=  10.4s\n",
            "[CV] n_features_to_select=1 ..........................................\n"
          ],
          "name": "stdout"
        },
        {
          "output_type": "stream",
          "text": [
            "[Parallel(n_jobs=1)]: Done   1 out of   1 | elapsed:   10.4s remaining:    0.0s\n"
          ],
          "name": "stderr"
        },
        {
          "output_type": "stream",
          "text": [
            "[CV]  n_features_to_select=1, score=(train=-5.452, test=-5.770), total=  10.2s\n",
            "[CV] n_features_to_select=1 ..........................................\n"
          ],
          "name": "stdout"
        },
        {
          "output_type": "stream",
          "text": [
            "[Parallel(n_jobs=1)]: Done   2 out of   2 | elapsed:   20.6s remaining:    0.0s\n"
          ],
          "name": "stderr"
        },
        {
          "output_type": "stream",
          "text": [
            "[CV]  n_features_to_select=1, score=(train=-5.498, test=-5.369), total=  10.3s\n",
            "[CV] n_features_to_select=1 ..........................................\n"
          ],
          "name": "stdout"
        },
        {
          "output_type": "stream",
          "text": [
            "[Parallel(n_jobs=1)]: Done   3 out of   3 | elapsed:   30.9s remaining:    0.0s\n"
          ],
          "name": "stderr"
        },
        {
          "output_type": "stream",
          "text": [
            "[CV]  n_features_to_select=1, score=(train=-5.484, test=-5.491), total=  10.2s\n",
            "[CV] n_features_to_select=1 ..........................................\n"
          ],
          "name": "stdout"
        },
        {
          "output_type": "stream",
          "text": [
            "[Parallel(n_jobs=1)]: Done   4 out of   4 | elapsed:   41.0s remaining:    0.0s\n"
          ],
          "name": "stderr"
        },
        {
          "output_type": "stream",
          "text": [
            "[CV]  n_features_to_select=1, score=(train=-5.484, test=-5.493), total=  10.2s\n",
            "[CV] n_features_to_select=1 ..........................................\n"
          ],
          "name": "stdout"
        },
        {
          "output_type": "stream",
          "text": [
            "[Parallel(n_jobs=1)]: Done   5 out of   5 | elapsed:   51.2s remaining:    0.0s\n"
          ],
          "name": "stderr"
        },
        {
          "output_type": "stream",
          "text": [
            "[CV]  n_features_to_select=1, score=(train=-5.495, test=-5.394), total=  10.3s\n",
            "[CV] n_features_to_select=1 ..........................................\n"
          ],
          "name": "stdout"
        },
        {
          "output_type": "stream",
          "text": [
            "[Parallel(n_jobs=1)]: Done   6 out of   6 | elapsed:  1.0min remaining:    0.0s\n"
          ],
          "name": "stderr"
        },
        {
          "output_type": "stream",
          "text": [
            "[CV]  n_features_to_select=1, score=(train=-5.465, test=-5.652), total=  10.1s\n",
            "[CV] n_features_to_select=1 ..........................................\n"
          ],
          "name": "stdout"
        },
        {
          "output_type": "stream",
          "text": [
            "[Parallel(n_jobs=1)]: Done   7 out of   7 | elapsed:  1.2min remaining:    0.0s\n"
          ],
          "name": "stderr"
        },
        {
          "output_type": "stream",
          "text": [
            "[CV]  n_features_to_select=1, score=(train=-5.495, test=-5.381), total=  10.3s\n",
            "[CV] n_features_to_select=1 ..........................................\n"
          ],
          "name": "stdout"
        },
        {
          "output_type": "stream",
          "text": [
            "[Parallel(n_jobs=1)]: Done   8 out of   8 | elapsed:  1.4min remaining:    0.0s\n"
          ],
          "name": "stderr"
        },
        {
          "output_type": "stream",
          "text": [
            "[CV]  n_features_to_select=1, score=(train=-5.477, test=-5.543), total=  10.2s\n",
            "[CV] n_features_to_select=1 ..........................................\n"
          ],
          "name": "stdout"
        },
        {
          "output_type": "stream",
          "text": [
            "[Parallel(n_jobs=1)]: Done   9 out of   9 | elapsed:  1.5min remaining:    0.0s\n"
          ],
          "name": "stderr"
        },
        {
          "output_type": "stream",
          "text": [
            "[CV]  n_features_to_select=1, score=(train=-5.502, test=-5.322), total=  10.2s\n",
            "[CV] n_features_to_select=2 ..........................................\n",
            "[CV]  n_features_to_select=2, score=(train=-5.486, test=-5.459), total=  10.1s\n",
            "[CV] n_features_to_select=2 ..........................................\n",
            "[CV]  n_features_to_select=2, score=(train=-5.452, test=-5.772), total=  10.3s\n",
            "[CV] n_features_to_select=2 ..........................................\n"
          ],
          "name": "stdout"
        },
        {
          "output_type": "error",
          "ename": "KeyboardInterrupt",
          "evalue": "ignored",
          "traceback": [
            "\u001b[0;31m---------------------------------------------------------------------------\u001b[0m",
            "\u001b[0;31mKeyboardInterrupt\u001b[0m                         Traceback (most recent call last)",
            "\u001b[0;32m<ipython-input-109-10ed8ea77ce8>\u001b[0m in \u001b[0;36m<module>\u001b[0;34m()\u001b[0m\n\u001b[1;32m     12\u001b[0m \u001b[0;34m\u001b[0m\u001b[0m\n\u001b[1;32m     13\u001b[0m \u001b[0;31m# fit the model\u001b[0m\u001b[0;34m\u001b[0m\u001b[0;34m\u001b[0m\u001b[0;34m\u001b[0m\u001b[0m\n\u001b[0;32m---> 14\u001b[0;31m \u001b[0mpcamodel_cv\u001b[0m\u001b[0;34m.\u001b[0m\u001b[0mfit\u001b[0m\u001b[0;34m(\u001b[0m\u001b[0mx_reduced\u001b[0m\u001b[0;34m,\u001b[0m \u001b[0my_train\u001b[0m\u001b[0;34m)\u001b[0m\u001b[0;34m\u001b[0m\u001b[0;34m\u001b[0m\u001b[0m\n\u001b[0m",
            "\u001b[0;32m/usr/local/lib/python3.7/dist-packages/sklearn/model_selection/_search.py\u001b[0m in \u001b[0;36mfit\u001b[0;34m(self, X, y, groups, **fit_params)\u001b[0m\n\u001b[1;32m    708\u001b[0m                 \u001b[0;32mreturn\u001b[0m \u001b[0mresults\u001b[0m\u001b[0;34m\u001b[0m\u001b[0;34m\u001b[0m\u001b[0m\n\u001b[1;32m    709\u001b[0m \u001b[0;34m\u001b[0m\u001b[0m\n\u001b[0;32m--> 710\u001b[0;31m             \u001b[0mself\u001b[0m\u001b[0;34m.\u001b[0m\u001b[0m_run_search\u001b[0m\u001b[0;34m(\u001b[0m\u001b[0mevaluate_candidates\u001b[0m\u001b[0;34m)\u001b[0m\u001b[0;34m\u001b[0m\u001b[0;34m\u001b[0m\u001b[0m\n\u001b[0m\u001b[1;32m    711\u001b[0m \u001b[0;34m\u001b[0m\u001b[0m\n\u001b[1;32m    712\u001b[0m         \u001b[0;31m# For multi-metric evaluation, store the best_index_, best_params_ and\u001b[0m\u001b[0;34m\u001b[0m\u001b[0;34m\u001b[0m\u001b[0;34m\u001b[0m\u001b[0m\n",
            "\u001b[0;32m/usr/local/lib/python3.7/dist-packages/sklearn/model_selection/_search.py\u001b[0m in \u001b[0;36m_run_search\u001b[0;34m(self, evaluate_candidates)\u001b[0m\n\u001b[1;32m   1149\u001b[0m     \u001b[0;32mdef\u001b[0m \u001b[0m_run_search\u001b[0m\u001b[0;34m(\u001b[0m\u001b[0mself\u001b[0m\u001b[0;34m,\u001b[0m \u001b[0mevaluate_candidates\u001b[0m\u001b[0;34m)\u001b[0m\u001b[0;34m:\u001b[0m\u001b[0;34m\u001b[0m\u001b[0;34m\u001b[0m\u001b[0m\n\u001b[1;32m   1150\u001b[0m         \u001b[0;34m\"\"\"Search all candidates in param_grid\"\"\"\u001b[0m\u001b[0;34m\u001b[0m\u001b[0;34m\u001b[0m\u001b[0m\n\u001b[0;32m-> 1151\u001b[0;31m         \u001b[0mevaluate_candidates\u001b[0m\u001b[0;34m(\u001b[0m\u001b[0mParameterGrid\u001b[0m\u001b[0;34m(\u001b[0m\u001b[0mself\u001b[0m\u001b[0;34m.\u001b[0m\u001b[0mparam_grid\u001b[0m\u001b[0;34m)\u001b[0m\u001b[0;34m)\u001b[0m\u001b[0;34m\u001b[0m\u001b[0;34m\u001b[0m\u001b[0m\n\u001b[0m\u001b[1;32m   1152\u001b[0m \u001b[0;34m\u001b[0m\u001b[0m\n\u001b[1;32m   1153\u001b[0m \u001b[0;34m\u001b[0m\u001b[0m\n",
            "\u001b[0;32m/usr/local/lib/python3.7/dist-packages/sklearn/model_selection/_search.py\u001b[0m in \u001b[0;36mevaluate_candidates\u001b[0;34m(candidate_params)\u001b[0m\n\u001b[1;32m    687\u001b[0m                                \u001b[0;32mfor\u001b[0m \u001b[0mparameters\u001b[0m\u001b[0;34m,\u001b[0m \u001b[0;34m(\u001b[0m\u001b[0mtrain\u001b[0m\u001b[0;34m,\u001b[0m \u001b[0mtest\u001b[0m\u001b[0;34m)\u001b[0m\u001b[0;34m\u001b[0m\u001b[0;34m\u001b[0m\u001b[0m\n\u001b[1;32m    688\u001b[0m                                in product(candidate_params,\n\u001b[0;32m--> 689\u001b[0;31m                                           cv.split(X, y, groups)))\n\u001b[0m\u001b[1;32m    690\u001b[0m \u001b[0;34m\u001b[0m\u001b[0m\n\u001b[1;32m    691\u001b[0m                 \u001b[0;32mif\u001b[0m \u001b[0mlen\u001b[0m\u001b[0;34m(\u001b[0m\u001b[0mout\u001b[0m\u001b[0;34m)\u001b[0m \u001b[0;34m<\u001b[0m \u001b[0;36m1\u001b[0m\u001b[0;34m:\u001b[0m\u001b[0;34m\u001b[0m\u001b[0;34m\u001b[0m\u001b[0m\n",
            "\u001b[0;32m/usr/local/lib/python3.7/dist-packages/joblib/parallel.py\u001b[0m in \u001b[0;36m__call__\u001b[0;34m(self, iterable)\u001b[0m\n\u001b[1;32m   1042\u001b[0m                 \u001b[0mself\u001b[0m\u001b[0;34m.\u001b[0m\u001b[0m_iterating\u001b[0m \u001b[0;34m=\u001b[0m \u001b[0mself\u001b[0m\u001b[0;34m.\u001b[0m\u001b[0m_original_iterator\u001b[0m \u001b[0;32mis\u001b[0m \u001b[0;32mnot\u001b[0m \u001b[0;32mNone\u001b[0m\u001b[0;34m\u001b[0m\u001b[0;34m\u001b[0m\u001b[0m\n\u001b[1;32m   1043\u001b[0m \u001b[0;34m\u001b[0m\u001b[0m\n\u001b[0;32m-> 1044\u001b[0;31m             \u001b[0;32mwhile\u001b[0m \u001b[0mself\u001b[0m\u001b[0;34m.\u001b[0m\u001b[0mdispatch_one_batch\u001b[0m\u001b[0;34m(\u001b[0m\u001b[0miterator\u001b[0m\u001b[0;34m)\u001b[0m\u001b[0;34m:\u001b[0m\u001b[0;34m\u001b[0m\u001b[0;34m\u001b[0m\u001b[0m\n\u001b[0m\u001b[1;32m   1045\u001b[0m                 \u001b[0;32mpass\u001b[0m\u001b[0;34m\u001b[0m\u001b[0;34m\u001b[0m\u001b[0m\n\u001b[1;32m   1046\u001b[0m \u001b[0;34m\u001b[0m\u001b[0m\n",
            "\u001b[0;32m/usr/local/lib/python3.7/dist-packages/joblib/parallel.py\u001b[0m in \u001b[0;36mdispatch_one_batch\u001b[0;34m(self, iterator)\u001b[0m\n\u001b[1;32m    857\u001b[0m                 \u001b[0;32mreturn\u001b[0m \u001b[0;32mFalse\u001b[0m\u001b[0;34m\u001b[0m\u001b[0;34m\u001b[0m\u001b[0m\n\u001b[1;32m    858\u001b[0m             \u001b[0;32melse\u001b[0m\u001b[0;34m:\u001b[0m\u001b[0;34m\u001b[0m\u001b[0;34m\u001b[0m\u001b[0m\n\u001b[0;32m--> 859\u001b[0;31m                 \u001b[0mself\u001b[0m\u001b[0;34m.\u001b[0m\u001b[0m_dispatch\u001b[0m\u001b[0;34m(\u001b[0m\u001b[0mtasks\u001b[0m\u001b[0;34m)\u001b[0m\u001b[0;34m\u001b[0m\u001b[0;34m\u001b[0m\u001b[0m\n\u001b[0m\u001b[1;32m    860\u001b[0m                 \u001b[0;32mreturn\u001b[0m \u001b[0;32mTrue\u001b[0m\u001b[0;34m\u001b[0m\u001b[0;34m\u001b[0m\u001b[0m\n\u001b[1;32m    861\u001b[0m \u001b[0;34m\u001b[0m\u001b[0m\n",
            "\u001b[0;32m/usr/local/lib/python3.7/dist-packages/joblib/parallel.py\u001b[0m in \u001b[0;36m_dispatch\u001b[0;34m(self, batch)\u001b[0m\n\u001b[1;32m    775\u001b[0m         \u001b[0;32mwith\u001b[0m \u001b[0mself\u001b[0m\u001b[0;34m.\u001b[0m\u001b[0m_lock\u001b[0m\u001b[0;34m:\u001b[0m\u001b[0;34m\u001b[0m\u001b[0;34m\u001b[0m\u001b[0m\n\u001b[1;32m    776\u001b[0m             \u001b[0mjob_idx\u001b[0m \u001b[0;34m=\u001b[0m \u001b[0mlen\u001b[0m\u001b[0;34m(\u001b[0m\u001b[0mself\u001b[0m\u001b[0;34m.\u001b[0m\u001b[0m_jobs\u001b[0m\u001b[0;34m)\u001b[0m\u001b[0;34m\u001b[0m\u001b[0;34m\u001b[0m\u001b[0m\n\u001b[0;32m--> 777\u001b[0;31m             \u001b[0mjob\u001b[0m \u001b[0;34m=\u001b[0m \u001b[0mself\u001b[0m\u001b[0;34m.\u001b[0m\u001b[0m_backend\u001b[0m\u001b[0;34m.\u001b[0m\u001b[0mapply_async\u001b[0m\u001b[0;34m(\u001b[0m\u001b[0mbatch\u001b[0m\u001b[0;34m,\u001b[0m \u001b[0mcallback\u001b[0m\u001b[0;34m=\u001b[0m\u001b[0mcb\u001b[0m\u001b[0;34m)\u001b[0m\u001b[0;34m\u001b[0m\u001b[0;34m\u001b[0m\u001b[0m\n\u001b[0m\u001b[1;32m    778\u001b[0m             \u001b[0;31m# A job can complete so quickly than its callback is\u001b[0m\u001b[0;34m\u001b[0m\u001b[0;34m\u001b[0m\u001b[0;34m\u001b[0m\u001b[0m\n\u001b[1;32m    779\u001b[0m             \u001b[0;31m# called before we get here, causing self._jobs to\u001b[0m\u001b[0;34m\u001b[0m\u001b[0;34m\u001b[0m\u001b[0;34m\u001b[0m\u001b[0m\n",
            "\u001b[0;32m/usr/local/lib/python3.7/dist-packages/joblib/_parallel_backends.py\u001b[0m in \u001b[0;36mapply_async\u001b[0;34m(self, func, callback)\u001b[0m\n\u001b[1;32m    206\u001b[0m     \u001b[0;32mdef\u001b[0m \u001b[0mapply_async\u001b[0m\u001b[0;34m(\u001b[0m\u001b[0mself\u001b[0m\u001b[0;34m,\u001b[0m \u001b[0mfunc\u001b[0m\u001b[0;34m,\u001b[0m \u001b[0mcallback\u001b[0m\u001b[0;34m=\u001b[0m\u001b[0;32mNone\u001b[0m\u001b[0;34m)\u001b[0m\u001b[0;34m:\u001b[0m\u001b[0;34m\u001b[0m\u001b[0;34m\u001b[0m\u001b[0m\n\u001b[1;32m    207\u001b[0m         \u001b[0;34m\"\"\"Schedule a func to be run\"\"\"\u001b[0m\u001b[0;34m\u001b[0m\u001b[0;34m\u001b[0m\u001b[0m\n\u001b[0;32m--> 208\u001b[0;31m         \u001b[0mresult\u001b[0m \u001b[0;34m=\u001b[0m \u001b[0mImmediateResult\u001b[0m\u001b[0;34m(\u001b[0m\u001b[0mfunc\u001b[0m\u001b[0;34m)\u001b[0m\u001b[0;34m\u001b[0m\u001b[0;34m\u001b[0m\u001b[0m\n\u001b[0m\u001b[1;32m    209\u001b[0m         \u001b[0;32mif\u001b[0m \u001b[0mcallback\u001b[0m\u001b[0;34m:\u001b[0m\u001b[0;34m\u001b[0m\u001b[0;34m\u001b[0m\u001b[0m\n\u001b[1;32m    210\u001b[0m             \u001b[0mcallback\u001b[0m\u001b[0;34m(\u001b[0m\u001b[0mresult\u001b[0m\u001b[0;34m)\u001b[0m\u001b[0;34m\u001b[0m\u001b[0;34m\u001b[0m\u001b[0m\n",
            "\u001b[0;32m/usr/local/lib/python3.7/dist-packages/joblib/_parallel_backends.py\u001b[0m in \u001b[0;36m__init__\u001b[0;34m(self, batch)\u001b[0m\n\u001b[1;32m    570\u001b[0m         \u001b[0;31m# Don't delay the application, to avoid keeping the input\u001b[0m\u001b[0;34m\u001b[0m\u001b[0;34m\u001b[0m\u001b[0;34m\u001b[0m\u001b[0m\n\u001b[1;32m    571\u001b[0m         \u001b[0;31m# arguments in memory\u001b[0m\u001b[0;34m\u001b[0m\u001b[0;34m\u001b[0m\u001b[0;34m\u001b[0m\u001b[0m\n\u001b[0;32m--> 572\u001b[0;31m         \u001b[0mself\u001b[0m\u001b[0;34m.\u001b[0m\u001b[0mresults\u001b[0m \u001b[0;34m=\u001b[0m \u001b[0mbatch\u001b[0m\u001b[0;34m(\u001b[0m\u001b[0;34m)\u001b[0m\u001b[0;34m\u001b[0m\u001b[0;34m\u001b[0m\u001b[0m\n\u001b[0m\u001b[1;32m    573\u001b[0m \u001b[0;34m\u001b[0m\u001b[0m\n\u001b[1;32m    574\u001b[0m     \u001b[0;32mdef\u001b[0m \u001b[0mget\u001b[0m\u001b[0;34m(\u001b[0m\u001b[0mself\u001b[0m\u001b[0;34m)\u001b[0m\u001b[0;34m:\u001b[0m\u001b[0;34m\u001b[0m\u001b[0;34m\u001b[0m\u001b[0m\n",
            "\u001b[0;32m/usr/local/lib/python3.7/dist-packages/joblib/parallel.py\u001b[0m in \u001b[0;36m__call__\u001b[0;34m(self)\u001b[0m\n\u001b[1;32m    261\u001b[0m         \u001b[0;32mwith\u001b[0m \u001b[0mparallel_backend\u001b[0m\u001b[0;34m(\u001b[0m\u001b[0mself\u001b[0m\u001b[0;34m.\u001b[0m\u001b[0m_backend\u001b[0m\u001b[0;34m,\u001b[0m \u001b[0mn_jobs\u001b[0m\u001b[0;34m=\u001b[0m\u001b[0mself\u001b[0m\u001b[0;34m.\u001b[0m\u001b[0m_n_jobs\u001b[0m\u001b[0;34m)\u001b[0m\u001b[0;34m:\u001b[0m\u001b[0;34m\u001b[0m\u001b[0;34m\u001b[0m\u001b[0m\n\u001b[1;32m    262\u001b[0m             return [func(*args, **kwargs)\n\u001b[0;32m--> 263\u001b[0;31m                     for func, args, kwargs in self.items]\n\u001b[0m\u001b[1;32m    264\u001b[0m \u001b[0;34m\u001b[0m\u001b[0m\n\u001b[1;32m    265\u001b[0m     \u001b[0;32mdef\u001b[0m \u001b[0m__reduce__\u001b[0m\u001b[0;34m(\u001b[0m\u001b[0mself\u001b[0m\u001b[0;34m)\u001b[0m\u001b[0;34m:\u001b[0m\u001b[0;34m\u001b[0m\u001b[0;34m\u001b[0m\u001b[0m\n",
            "\u001b[0;32m/usr/local/lib/python3.7/dist-packages/joblib/parallel.py\u001b[0m in \u001b[0;36m<listcomp>\u001b[0;34m(.0)\u001b[0m\n\u001b[1;32m    261\u001b[0m         \u001b[0;32mwith\u001b[0m \u001b[0mparallel_backend\u001b[0m\u001b[0;34m(\u001b[0m\u001b[0mself\u001b[0m\u001b[0;34m.\u001b[0m\u001b[0m_backend\u001b[0m\u001b[0;34m,\u001b[0m \u001b[0mn_jobs\u001b[0m\u001b[0;34m=\u001b[0m\u001b[0mself\u001b[0m\u001b[0;34m.\u001b[0m\u001b[0m_n_jobs\u001b[0m\u001b[0;34m)\u001b[0m\u001b[0;34m:\u001b[0m\u001b[0;34m\u001b[0m\u001b[0;34m\u001b[0m\u001b[0m\n\u001b[1;32m    262\u001b[0m             return [func(*args, **kwargs)\n\u001b[0;32m--> 263\u001b[0;31m                     for func, args, kwargs in self.items]\n\u001b[0m\u001b[1;32m    264\u001b[0m \u001b[0;34m\u001b[0m\u001b[0m\n\u001b[1;32m    265\u001b[0m     \u001b[0;32mdef\u001b[0m \u001b[0m__reduce__\u001b[0m\u001b[0;34m(\u001b[0m\u001b[0mself\u001b[0m\u001b[0;34m)\u001b[0m\u001b[0;34m:\u001b[0m\u001b[0;34m\u001b[0m\u001b[0;34m\u001b[0m\u001b[0m\n",
            "\u001b[0;32m/usr/local/lib/python3.7/dist-packages/sklearn/model_selection/_validation.py\u001b[0m in \u001b[0;36m_fit_and_score\u001b[0;34m(estimator, X, y, scorer, train, test, verbose, parameters, fit_params, return_train_score, return_parameters, return_n_test_samples, return_times, return_estimator, error_score)\u001b[0m\n\u001b[1;32m    513\u001b[0m             \u001b[0mestimator\u001b[0m\u001b[0;34m.\u001b[0m\u001b[0mfit\u001b[0m\u001b[0;34m(\u001b[0m\u001b[0mX_train\u001b[0m\u001b[0;34m,\u001b[0m \u001b[0;34m**\u001b[0m\u001b[0mfit_params\u001b[0m\u001b[0;34m)\u001b[0m\u001b[0;34m\u001b[0m\u001b[0;34m\u001b[0m\u001b[0m\n\u001b[1;32m    514\u001b[0m         \u001b[0;32melse\u001b[0m\u001b[0;34m:\u001b[0m\u001b[0;34m\u001b[0m\u001b[0;34m\u001b[0m\u001b[0m\n\u001b[0;32m--> 515\u001b[0;31m             \u001b[0mestimator\u001b[0m\u001b[0;34m.\u001b[0m\u001b[0mfit\u001b[0m\u001b[0;34m(\u001b[0m\u001b[0mX_train\u001b[0m\u001b[0;34m,\u001b[0m \u001b[0my_train\u001b[0m\u001b[0;34m,\u001b[0m \u001b[0;34m**\u001b[0m\u001b[0mfit_params\u001b[0m\u001b[0;34m)\u001b[0m\u001b[0;34m\u001b[0m\u001b[0;34m\u001b[0m\u001b[0m\n\u001b[0m\u001b[1;32m    516\u001b[0m \u001b[0;34m\u001b[0m\u001b[0m\n\u001b[1;32m    517\u001b[0m     \u001b[0;32mexcept\u001b[0m \u001b[0mException\u001b[0m \u001b[0;32mas\u001b[0m \u001b[0me\u001b[0m\u001b[0;34m:\u001b[0m\u001b[0;34m\u001b[0m\u001b[0;34m\u001b[0m\u001b[0m\n",
            "\u001b[0;32m/usr/local/lib/python3.7/dist-packages/sklearn/feature_selection/_rfe.py\u001b[0m in \u001b[0;36mfit\u001b[0;34m(self, X, y)\u001b[0m\n\u001b[1;32m    147\u001b[0m             \u001b[0mThe\u001b[0m \u001b[0mtarget\u001b[0m \u001b[0mvalues\u001b[0m\u001b[0;34m.\u001b[0m\u001b[0;34m\u001b[0m\u001b[0;34m\u001b[0m\u001b[0m\n\u001b[1;32m    148\u001b[0m         \"\"\"\n\u001b[0;32m--> 149\u001b[0;31m         \u001b[0;32mreturn\u001b[0m \u001b[0mself\u001b[0m\u001b[0;34m.\u001b[0m\u001b[0m_fit\u001b[0m\u001b[0;34m(\u001b[0m\u001b[0mX\u001b[0m\u001b[0;34m,\u001b[0m \u001b[0my\u001b[0m\u001b[0;34m)\u001b[0m\u001b[0;34m\u001b[0m\u001b[0;34m\u001b[0m\u001b[0m\n\u001b[0m\u001b[1;32m    150\u001b[0m \u001b[0;34m\u001b[0m\u001b[0m\n\u001b[1;32m    151\u001b[0m     \u001b[0;32mdef\u001b[0m \u001b[0m_fit\u001b[0m\u001b[0;34m(\u001b[0m\u001b[0mself\u001b[0m\u001b[0;34m,\u001b[0m \u001b[0mX\u001b[0m\u001b[0;34m,\u001b[0m \u001b[0my\u001b[0m\u001b[0;34m,\u001b[0m \u001b[0mstep_score\u001b[0m\u001b[0;34m=\u001b[0m\u001b[0;32mNone\u001b[0m\u001b[0;34m)\u001b[0m\u001b[0;34m:\u001b[0m\u001b[0;34m\u001b[0m\u001b[0;34m\u001b[0m\u001b[0m\n",
            "\u001b[0;32m/usr/local/lib/python3.7/dist-packages/sklearn/feature_selection/_rfe.py\u001b[0m in \u001b[0;36m_fit\u001b[0;34m(self, X, y, step_score)\u001b[0m\n\u001b[1;32m    188\u001b[0m                 \u001b[0mprint\u001b[0m\u001b[0;34m(\u001b[0m\u001b[0;34m\"Fitting estimator with %d features.\"\u001b[0m \u001b[0;34m%\u001b[0m \u001b[0mnp\u001b[0m\u001b[0;34m.\u001b[0m\u001b[0msum\u001b[0m\u001b[0;34m(\u001b[0m\u001b[0msupport_\u001b[0m\u001b[0;34m)\u001b[0m\u001b[0;34m)\u001b[0m\u001b[0;34m\u001b[0m\u001b[0;34m\u001b[0m\u001b[0m\n\u001b[1;32m    189\u001b[0m \u001b[0;34m\u001b[0m\u001b[0m\n\u001b[0;32m--> 190\u001b[0;31m             \u001b[0mestimator\u001b[0m\u001b[0;34m.\u001b[0m\u001b[0mfit\u001b[0m\u001b[0;34m(\u001b[0m\u001b[0mX\u001b[0m\u001b[0;34m[\u001b[0m\u001b[0;34m:\u001b[0m\u001b[0;34m,\u001b[0m \u001b[0mfeatures\u001b[0m\u001b[0;34m]\u001b[0m\u001b[0;34m,\u001b[0m \u001b[0my\u001b[0m\u001b[0;34m)\u001b[0m\u001b[0;34m\u001b[0m\u001b[0;34m\u001b[0m\u001b[0m\n\u001b[0m\u001b[1;32m    191\u001b[0m \u001b[0;34m\u001b[0m\u001b[0m\n\u001b[1;32m    192\u001b[0m             \u001b[0;31m# Get coefs\u001b[0m\u001b[0;34m\u001b[0m\u001b[0;34m\u001b[0m\u001b[0;34m\u001b[0m\u001b[0m\n",
            "\u001b[0;32m/usr/local/lib/python3.7/dist-packages/sklearn/linear_model/_base.py\u001b[0m in \u001b[0;36mfit\u001b[0;34m(self, X, y, sample_weight)\u001b[0m\n\u001b[1;32m    531\u001b[0m         \u001b[0;32melse\u001b[0m\u001b[0;34m:\u001b[0m\u001b[0;34m\u001b[0m\u001b[0;34m\u001b[0m\u001b[0m\n\u001b[1;32m    532\u001b[0m             \u001b[0mself\u001b[0m\u001b[0;34m.\u001b[0m\u001b[0mcoef_\u001b[0m\u001b[0;34m,\u001b[0m \u001b[0mself\u001b[0m\u001b[0;34m.\u001b[0m\u001b[0m_residues\u001b[0m\u001b[0;34m,\u001b[0m \u001b[0mself\u001b[0m\u001b[0;34m.\u001b[0m\u001b[0mrank_\u001b[0m\u001b[0;34m,\u001b[0m \u001b[0mself\u001b[0m\u001b[0;34m.\u001b[0m\u001b[0msingular_\u001b[0m \u001b[0;34m=\u001b[0m\u001b[0;31m \u001b[0m\u001b[0;31m\\\u001b[0m\u001b[0;34m\u001b[0m\u001b[0;34m\u001b[0m\u001b[0m\n\u001b[0;32m--> 533\u001b[0;31m                 \u001b[0mlinalg\u001b[0m\u001b[0;34m.\u001b[0m\u001b[0mlstsq\u001b[0m\u001b[0;34m(\u001b[0m\u001b[0mX\u001b[0m\u001b[0;34m,\u001b[0m \u001b[0my\u001b[0m\u001b[0;34m)\u001b[0m\u001b[0;34m\u001b[0m\u001b[0;34m\u001b[0m\u001b[0m\n\u001b[0m\u001b[1;32m    534\u001b[0m             \u001b[0mself\u001b[0m\u001b[0;34m.\u001b[0m\u001b[0mcoef_\u001b[0m \u001b[0;34m=\u001b[0m \u001b[0mself\u001b[0m\u001b[0;34m.\u001b[0m\u001b[0mcoef_\u001b[0m\u001b[0;34m.\u001b[0m\u001b[0mT\u001b[0m\u001b[0;34m\u001b[0m\u001b[0;34m\u001b[0m\u001b[0m\n\u001b[1;32m    535\u001b[0m \u001b[0;34m\u001b[0m\u001b[0m\n",
            "\u001b[0;32m/usr/local/lib/python3.7/dist-packages/scipy/linalg/basic.py\u001b[0m in \u001b[0;36mlstsq\u001b[0;34m(a, b, cond, overwrite_a, overwrite_b, check_finite, lapack_driver)\u001b[0m\n\u001b[1;32m   1214\u001b[0m                 \u001b[0mlwork\u001b[0m\u001b[0;34m,\u001b[0m \u001b[0miwork\u001b[0m \u001b[0;34m=\u001b[0m \u001b[0m_compute_lwork\u001b[0m\u001b[0;34m(\u001b[0m\u001b[0mlapack_lwork\u001b[0m\u001b[0;34m,\u001b[0m \u001b[0mm\u001b[0m\u001b[0;34m,\u001b[0m \u001b[0mn\u001b[0m\u001b[0;34m,\u001b[0m \u001b[0mnrhs\u001b[0m\u001b[0;34m,\u001b[0m \u001b[0mcond\u001b[0m\u001b[0;34m)\u001b[0m\u001b[0;34m\u001b[0m\u001b[0;34m\u001b[0m\u001b[0m\n\u001b[1;32m   1215\u001b[0m                 x, s, rank, info = lapack_func(a1, b1, lwork,\n\u001b[0;32m-> 1216\u001b[0;31m                                                iwork, cond, False, False)\n\u001b[0m\u001b[1;32m   1217\u001b[0m             \u001b[0;32melse\u001b[0m\u001b[0;34m:\u001b[0m  \u001b[0;31m# complex data\u001b[0m\u001b[0;34m\u001b[0m\u001b[0;34m\u001b[0m\u001b[0m\n\u001b[1;32m   1218\u001b[0m                 lwork, rwork, iwork = _compute_lwork(lapack_lwork, m, n,\n",
            "\u001b[0;31mKeyboardInterrupt\u001b[0m: "
          ]
        }
      ]
    },
    {
      "cell_type": "code",
      "metadata": {
        "id": "mvp1-CtEkQBB"
      },
      "source": [
        "#pcacv_results = pd.DataFrame(pcamodel_cv.cv_results_)\n",
        "#pcacv_results"
      ],
      "execution_count": null,
      "outputs": []
    },
    {
      "cell_type": "code",
      "metadata": {
        "id": "ifOQftwVkQBB"
      },
      "source": [
        "# plotting cv results\n",
        "#plt.figure(figsize=(16,6))\n",
        "\n",
        "#plt.plot(cv_results[\"param_n_features_to_select\"], pcacv_results[\"mean_test_score\"])\n",
        "#plt.plot(pcacv_results[\"param_n_features_to_select\"], pcacv_results[\"mean_train_score\"])\n",
        "#plt.xlabel('number of features')\n",
        "#plt.ylabel('r-squared')\n",
        "#plt.title(\"Optimal Number of Features\")\n",
        "#plt.legend(['test score', 'train score'], loc='upper left')"
      ],
      "execution_count": null,
      "outputs": []
    },
    {
      "cell_type": "code",
      "metadata": {
        "id": "kTud0PTIkQBB"
      },
      "source": [
        "#plt.plot(np.cumsum(pca.explained_variance_ratio_))\n",
        "#plt.xlabel('number of components')\n",
        "#plt.ylabel('cumulative explained variance')"
      ],
      "execution_count": null,
      "outputs": []
    },
    {
      "cell_type": "markdown",
      "metadata": {
        "id": "xJMWl35OkQBB"
      },
      "source": [
        "### 4.1.2. Ensemble Models"
      ]
    },
    {
      "cell_type": "code",
      "metadata": {
        "id": "PBJXsI7PkQBB"
      },
      "source": [
        "def evaluate_model(model, test_features, test_labels):\n",
        "    predictions = model.predict(test_features)\n",
        "    errors = abs(predictions-test_labels)\n",
        "    mse = metrics.mean_squared_error(test_labels,predictions)\n",
        "    rmse = np.sqrt(mse)\n",
        "    \n",
        "    mape = 100 * np.mean(errors / test_labels)\n",
        "    accuracy = 100 - mape\n",
        "    rsquare = model.score(test_features,test_labels)\n",
        "    importance = model.feature_importances_\n",
        "\n",
        "    \n",
        "    print('Model Preformance')\n",
        "    print('Average Error: {:0.4f} degrees.'.format(np.mean(errors)))\n",
        "    print('Accuracy = {:0.2f}%,'.format(accuracy))\n",
        "    print('rmse',rmse)\n",
        "    print('mse',mse)\n",
        "    print('R square:', rsquare)\n",
        "    \n",
        "    print(\"__________\")\n",
        "    print(\"Top 5 Features\")\n",
        "    feature_dict = {}\n",
        "    for i,v in enumerate(importance):\n",
        "        #print('Feature %0d, Score: %.5f' % (i,v))\n",
        "        feature_dict[i]=v\n",
        "    feature_names = test_features.columns\n",
        "    sorted_features = sorted(feature_dict.items(), key=lambda x: x[1], reverse=True)\n",
        "    \n",
        "    for i in sorted_features[:5]:\n",
        "        print(feature_names[i[0]],i[1])\n",
        "        \n",
        "    plt.bar([x for x in range(len(importance))],importance)\n",
        "    plt.show()\n",
        "    \n",
        "    \n",
        "    \n",
        "    return accuracy"
      ],
      "execution_count": 112,
      "outputs": []
    },
    {
      "cell_type": "markdown",
      "metadata": {
        "id": "Z4XCK5HhkQBC"
      },
      "source": [
        "### 4.1.2.1. Random Forest"
      ]
    },
    {
      "cell_type": "code",
      "metadata": {
        "colab": {
          "base_uri": "https://localhost:8080/"
        },
        "id": "acqHOKxekQBC",
        "outputId": "1feec800-6a1f-4dce-fbe7-962bf6e0d8fc"
      },
      "source": [
        "from sklearn.ensemble import RandomForestRegressor\n",
        "from sklearn.model_selection import GridSearchCV\n",
        "from sklearn.metrics import mean_squared_error\n",
        "from sklearn.metrics import r2_score\n",
        "# Create the parameter grid based on the results of random search \n",
        "param_grid = {\n",
        "    'bootstrap': [True],\n",
        "    'max_features': [27, 30, 33],\n",
        "    'oob_score': [True],\n",
        "    'n_estimators': [2250, 2500, 2750]\n",
        "}\n",
        "# Create a based model\n",
        "rfgs = RandomForestRegressor()\n",
        "# Instantiate the grid search model\n",
        "grid_search = GridSearchCV(estimator = rfgs, param_grid = param_grid, cv = 3, n_jobs = -1, verbose = 10)\n",
        "#wrapper_gs = RegressorChain(grid_search)\n",
        "grid_search.fit(x_train, y_train)\n",
        "\n",
        "#grid_search.fit(train_features, train_labels)\n",
        "print(grid_search.best_params_)\n",
        "\n",
        "print(grid_search.best_estimator_)\n",
        "print(grid_search.best_score_)\n",
        "\n",
        "y_pred_rfgs = grid_search.predict(x_test)\n",
        "rmse = np.sqrt(mean_squared_error(y_test, y_pred_rfgs))\n",
        "print(\"RMSE: %f\" % (rmse))\n",
        "\n",
        "print(\"Mean squared error: %.2f\"\n",
        "      % mean_squared_error(y_test, y_pred_rfgs))\n",
        "# Explained variance score: 1 is perfect prediction\n",
        "print('R2 score: %.2f' % r2_score(y_test, y_pred_rfgs))"
      ],
      "execution_count": 113,
      "outputs": [
        {
          "output_type": "stream",
          "text": [
            "Fitting 3 folds for each of 9 candidates, totalling 27 fits\n"
          ],
          "name": "stdout"
        },
        {
          "output_type": "stream",
          "text": [
            "[Parallel(n_jobs=-1)]: Using backend LokyBackend with 2 concurrent workers.\n",
            "[Parallel(n_jobs=-1)]: Done   1 tasks      | elapsed:  4.3min\n",
            "[Parallel(n_jobs=-1)]: Done   4 tasks      | elapsed:  9.1min\n",
            "[Parallel(n_jobs=-1)]: Done   9 tasks      | elapsed: 24.1min\n",
            "[Parallel(n_jobs=-1)]: Done  14 tasks      | elapsed: 34.6min\n",
            "[Parallel(n_jobs=-1)]: Done  21 tasks      | elapsed: 55.6min\n",
            "[Parallel(n_jobs=-1)]: Done  27 out of  27 | elapsed: 71.8min remaining:    0.0s\n",
            "[Parallel(n_jobs=-1)]: Done  27 out of  27 | elapsed: 71.8min finished\n"
          ],
          "name": "stderr"
        },
        {
          "output_type": "stream",
          "text": [
            "{'bootstrap': True, 'max_features': 27, 'n_estimators': 2750, 'oob_score': True}\n",
            "RandomForestRegressor(bootstrap=True, ccp_alpha=0.0, criterion='mse',\n",
            "                      max_depth=None, max_features=27, max_leaf_nodes=None,\n",
            "                      max_samples=None, min_impurity_decrease=0.0,\n",
            "                      min_impurity_split=None, min_samples_leaf=1,\n",
            "                      min_samples_split=2, min_weight_fraction_leaf=0.0,\n",
            "                      n_estimators=2750, n_jobs=None, oob_score=True,\n",
            "                      random_state=None, verbose=0, warm_start=False)\n",
            "0.06824058890222633\n",
            "RMSE: 2.295689\n",
            "Mean squared error: 5.27\n",
            "R2 score: 0.07\n"
          ],
          "name": "stdout"
        }
      ]
    },
    {
      "cell_type": "code",
      "metadata": {
        "colab": {
          "base_uri": "https://localhost:8080/",
          "height": 488
        },
        "id": "i3Jx8jJ5kQBC",
        "outputId": "35f5e790-d519-46cb-cf73-e0a46119cd77"
      },
      "source": [
        "best_rf = grid_search.best_estimator_\n",
        "rf_accuracy = evaluate_model(best_rf, x_test, y_test)\n"
      ],
      "execution_count": 114,
      "outputs": [
        {
          "output_type": "stream",
          "text": [
            "Model Preformance\n",
            "Average Error: 1.8557 degrees.\n",
            "Accuracy = -inf%,\n",
            "rmse 2.2956894177931915\n",
            "mse 5.270189902967643\n",
            "R square: 0.0663681746650645\n",
            "__________\n",
            "Top 5 Features\n",
            "WRKCOUNT 0.02889712059753841\n",
            "R_SEX_2 0.021079186150024652\n",
            "R_SEX_1 0.021076069465816197\n",
            "HHVEHCNT_2 0.019684382688811213\n",
            "HHFAMINC_6 0.01898342462209337\n"
          ],
          "name": "stdout"
        },
        {
          "output_type": "display_data",
          "data": {
            "image/png": "[encoded data removed]",
            "text/plain": [
              "<Figure size 432x288 with 1 Axes>"
            ]
          },
          "metadata": {
            "tags": [],
            "needs_background": "light"
          }
        }
      ]
    },
    {
      "cell_type": "markdown",
      "metadata": {
        "id": "zUD7lHjmkQBC"
      },
      "source": [
        "### 4.1.2.2.Adaboost"
      ]
    },
    {
      "cell_type": "code",
      "metadata": {
        "colab": {
          "base_uri": "https://localhost:8080/",
          "height": 545
        },
        "id": "7CuXCEEDkQBC",
        "outputId": "7d5d6b6d-c668-4823-9e35-a02c973d006e"
      },
      "source": [
        "from sklearn import tree, ensemble, model_selection, metrics\n",
        "from sklearn.model_selection import GridSearchCV\n",
        "\n",
        "ada2=ensemble.AdaBoostRegressor(tree.DecisionTreeRegressor(), random_state = 888)\n",
        "\n",
        "parameters ={\n",
        "    'n_estimators':[350, 400, 500],\n",
        "    'learning_rate':[0.01, 0.1],\n",
        "    'base_estimator__max_depth':[25, 30, 35]\n",
        "}\n",
        "\n",
        "grid_ADA = GridSearchCV(estimator=ada2, param_grid=parameters, scoring='neg_mean_squared_error',n_jobs=-1, cv=3, verbose=10)\n",
        "grid_ADA.fit(x_train, y_train)\n",
        "\n",
        " \n",
        "\n",
        "print(\" Results from Grid Search \" )\n",
        "print(\"\\n The best estimator across ALL searched params:\\n\",grid_ADA.best_estimator_)\n",
        "print(\"\\n The best score across ALL searched params:\\n\",grid_ADA.best_score_)\n",
        "print(\"\\n The best parameters across ALL searched params:\\n\",grid_ADA.best_params_)\n",
        "\n",
        "#print(\"\\n The best accuracy across ALL searched params:\\n\",evaluate(best_grid, x_test, y_test_one))\n",
        "\n",
        " \n",
        "\n",
        "y_pred_ADA = grid_ADA.predict(x_test)\n",
        "rmse = np.sqrt(mean_squared_error(y_test, y_pred_ADA))\n",
        "print(\"RMSE: %f\" % (rmse))\n",
        "print(\"Mean squared error: %.2f\" % mean_squared_error(y_test, y_pred_ADA))\n",
        "# Explained variance score: 1 is perfect prediction\n",
        "print('R2 score: %.2f' % r2_score(y_test, y_pred_ADA))"
      ],
      "execution_count": 115,
      "outputs": [
        {
          "output_type": "stream",
          "text": [
            "Fitting 3 folds for each of 18 candidates, totalling 54 fits\n"
          ],
          "name": "stdout"
        },
        {
          "output_type": "stream",
          "text": [
            "[Parallel(n_jobs=-1)]: Using backend LokyBackend with 2 concurrent workers.\n",
            "[Parallel(n_jobs=-1)]: Done   1 tasks      | elapsed:  3.3min\n",
            "[Parallel(n_jobs=-1)]: Done   4 tasks      | elapsed:  6.9min\n",
            "[Parallel(n_jobs=-1)]: Done   9 tasks      | elapsed: 18.2min\n",
            "[Parallel(n_jobs=-1)]: Done  14 tasks      | elapsed: 26.1min\n",
            "[Parallel(n_jobs=-1)]: Done  21 tasks      | elapsed: 39.0min\n",
            "[Parallel(n_jobs=-1)]: Done  28 tasks      | elapsed: 52.9min\n",
            "[Parallel(n_jobs=-1)]: Done  37 tasks      | elapsed: 70.4min\n",
            "[Parallel(n_jobs=-1)]: Done  46 tasks      | elapsed: 87.5min\n"
          ],
          "name": "stderr"
        },
        {
          "output_type": "error",
          "ename": "KeyboardInterrupt",
          "evalue": "ignored",
          "traceback": [
            "\u001b[0;31m---------------------------------------------------------------------------\u001b[0m",
            "\u001b[0;31mKeyboardInterrupt\u001b[0m                         Traceback (most recent call last)",
            "\u001b[0;32m<ipython-input-115-505bc46319a3>\u001b[0m in \u001b[0;36m<module>\u001b[0;34m()\u001b[0m\n\u001b[1;32m     11\u001b[0m \u001b[0;34m\u001b[0m\u001b[0m\n\u001b[1;32m     12\u001b[0m \u001b[0mgrid_ADA\u001b[0m \u001b[0;34m=\u001b[0m \u001b[0mGridSearchCV\u001b[0m\u001b[0;34m(\u001b[0m\u001b[0mestimator\u001b[0m\u001b[0;34m=\u001b[0m\u001b[0mada2\u001b[0m\u001b[0;34m,\u001b[0m \u001b[0mparam_grid\u001b[0m\u001b[0;34m=\u001b[0m\u001b[0mparameters\u001b[0m\u001b[0;34m,\u001b[0m \u001b[0mscoring\u001b[0m\u001b[0;34m=\u001b[0m\u001b[0;34m'neg_mean_squared_error'\u001b[0m\u001b[0;34m,\u001b[0m\u001b[0mn_jobs\u001b[0m\u001b[0;34m=\u001b[0m\u001b[0;34m-\u001b[0m\u001b[0;36m1\u001b[0m\u001b[0;34m,\u001b[0m \u001b[0mcv\u001b[0m\u001b[0;34m=\u001b[0m\u001b[0;36m3\u001b[0m\u001b[0;34m,\u001b[0m \u001b[0mverbose\u001b[0m\u001b[0;34m=\u001b[0m\u001b[0;36m10\u001b[0m\u001b[0;34m)\u001b[0m\u001b[0;34m\u001b[0m\u001b[0;34m\u001b[0m\u001b[0m\n\u001b[0;32m---> 13\u001b[0;31m \u001b[0mgrid_ADA\u001b[0m\u001b[0;34m.\u001b[0m\u001b[0mfit\u001b[0m\u001b[0;34m(\u001b[0m\u001b[0mx_train\u001b[0m\u001b[0;34m,\u001b[0m \u001b[0my_train\u001b[0m\u001b[0;34m)\u001b[0m\u001b[0;34m\u001b[0m\u001b[0;34m\u001b[0m\u001b[0m\n\u001b[0m\u001b[1;32m     14\u001b[0m \u001b[0;34m\u001b[0m\u001b[0m\n\u001b[1;32m     15\u001b[0m \u001b[0;34m\u001b[0m\u001b[0m\n",
            "\u001b[0;32m/usr/local/lib/python3.7/dist-packages/sklearn/model_selection/_search.py\u001b[0m in \u001b[0;36mfit\u001b[0;34m(self, X, y, groups, **fit_params)\u001b[0m\n\u001b[1;32m    708\u001b[0m                 \u001b[0;32mreturn\u001b[0m \u001b[0mresults\u001b[0m\u001b[0;34m\u001b[0m\u001b[0;34m\u001b[0m\u001b[0m\n\u001b[1;32m    709\u001b[0m \u001b[0;34m\u001b[0m\u001b[0m\n\u001b[0;32m--> 710\u001b[0;31m             \u001b[0mself\u001b[0m\u001b[0;34m.\u001b[0m\u001b[0m_run_search\u001b[0m\u001b[0;34m(\u001b[0m\u001b[0mevaluate_candidates\u001b[0m\u001b[0;34m)\u001b[0m\u001b[0;34m\u001b[0m\u001b[0;34m\u001b[0m\u001b[0m\n\u001b[0m\u001b[1;32m    711\u001b[0m \u001b[0;34m\u001b[0m\u001b[0m\n\u001b[1;32m    712\u001b[0m         \u001b[0;31m# For multi-metric evaluation, store the best_index_, best_params_ and\u001b[0m\u001b[0;34m\u001b[0m\u001b[0;34m\u001b[0m\u001b[0;34m\u001b[0m\u001b[0m\n",
            "\u001b[0;32m/usr/local/lib/python3.7/dist-packages/sklearn/model_selection/_search.py\u001b[0m in \u001b[0;36m_run_search\u001b[0;34m(self, evaluate_candidates)\u001b[0m\n\u001b[1;32m   1149\u001b[0m     \u001b[0;32mdef\u001b[0m \u001b[0m_run_search\u001b[0m\u001b[0;34m(\u001b[0m\u001b[0mself\u001b[0m\u001b[0;34m,\u001b[0m \u001b[0mevaluate_candidates\u001b[0m\u001b[0;34m)\u001b[0m\u001b[0;34m:\u001b[0m\u001b[0;34m\u001b[0m\u001b[0;34m\u001b[0m\u001b[0m\n\u001b[1;32m   1150\u001b[0m         \u001b[0;34m\"\"\"Search all candidates in param_grid\"\"\"\u001b[0m\u001b[0;34m\u001b[0m\u001b[0;34m\u001b[0m\u001b[0m\n\u001b[0;32m-> 1151\u001b[0;31m         \u001b[0mevaluate_candidates\u001b[0m\u001b[0;34m(\u001b[0m\u001b[0mParameterGrid\u001b[0m\u001b[0;34m(\u001b[0m\u001b[0mself\u001b[0m\u001b[0;34m.\u001b[0m\u001b[0mparam_grid\u001b[0m\u001b[0;34m)\u001b[0m\u001b[0;34m)\u001b[0m\u001b[0;34m\u001b[0m\u001b[0;34m\u001b[0m\u001b[0m\n\u001b[0m\u001b[1;32m   1152\u001b[0m \u001b[0;34m\u001b[0m\u001b[0m\n\u001b[1;32m   1153\u001b[0m \u001b[0;34m\u001b[0m\u001b[0m\n",
            "\u001b[0;32m/usr/local/lib/python3.7/dist-packages/sklearn/model_selection/_search.py\u001b[0m in \u001b[0;36mevaluate_candidates\u001b[0;34m(candidate_params)\u001b[0m\n\u001b[1;32m    687\u001b[0m                                \u001b[0;32mfor\u001b[0m \u001b[0mparameters\u001b[0m\u001b[0;34m,\u001b[0m \u001b[0;34m(\u001b[0m\u001b[0mtrain\u001b[0m\u001b[0;34m,\u001b[0m \u001b[0mtest\u001b[0m\u001b[0;34m)\u001b[0m\u001b[0;34m\u001b[0m\u001b[0;34m\u001b[0m\u001b[0m\n\u001b[1;32m    688\u001b[0m                                in product(candidate_params,\n\u001b[0;32m--> 689\u001b[0;31m                                           cv.split(X, y, groups)))\n\u001b[0m\u001b[1;32m    690\u001b[0m \u001b[0;34m\u001b[0m\u001b[0m\n\u001b[1;32m    691\u001b[0m                 \u001b[0;32mif\u001b[0m \u001b[0mlen\u001b[0m\u001b[0;34m(\u001b[0m\u001b[0mout\u001b[0m\u001b[0;34m)\u001b[0m \u001b[0;34m<\u001b[0m \u001b[0;36m1\u001b[0m\u001b[0;34m:\u001b[0m\u001b[0;34m\u001b[0m\u001b[0;34m\u001b[0m\u001b[0m\n",
            "\u001b[0;32m/usr/local/lib/python3.7/dist-packages/joblib/parallel.py\u001b[0m in \u001b[0;36m__call__\u001b[0;34m(self, iterable)\u001b[0m\n\u001b[1;32m   1052\u001b[0m \u001b[0;34m\u001b[0m\u001b[0m\n\u001b[1;32m   1053\u001b[0m             \u001b[0;32mwith\u001b[0m \u001b[0mself\u001b[0m\u001b[0;34m.\u001b[0m\u001b[0m_backend\u001b[0m\u001b[0;34m.\u001b[0m\u001b[0mretrieval_context\u001b[0m\u001b[0;34m(\u001b[0m\u001b[0;34m)\u001b[0m\u001b[0;34m:\u001b[0m\u001b[0;34m\u001b[0m\u001b[0;34m\u001b[0m\u001b[0m\n\u001b[0;32m-> 1054\u001b[0;31m                 \u001b[0mself\u001b[0m\u001b[0;34m.\u001b[0m\u001b[0mretrieve\u001b[0m\u001b[0;34m(\u001b[0m\u001b[0;34m)\u001b[0m\u001b[0;34m\u001b[0m\u001b[0;34m\u001b[0m\u001b[0m\n\u001b[0m\u001b[1;32m   1055\u001b[0m             \u001b[0;31m# Make sure that we get a last message telling us we are done\u001b[0m\u001b[0;34m\u001b[0m\u001b[0;34m\u001b[0m\u001b[0;34m\u001b[0m\u001b[0m\n\u001b[1;32m   1056\u001b[0m             \u001b[0melapsed_time\u001b[0m \u001b[0;34m=\u001b[0m \u001b[0mtime\u001b[0m\u001b[0;34m.\u001b[0m\u001b[0mtime\u001b[0m\u001b[0;34m(\u001b[0m\u001b[0;34m)\u001b[0m \u001b[0;34m-\u001b[0m \u001b[0mself\u001b[0m\u001b[0;34m.\u001b[0m\u001b[0m_start_time\u001b[0m\u001b[0;34m\u001b[0m\u001b[0;34m\u001b[0m\u001b[0m\n",
            "\u001b[0;32m/usr/local/lib/python3.7/dist-packages/joblib/parallel.py\u001b[0m in \u001b[0;36mretrieve\u001b[0;34m(self)\u001b[0m\n\u001b[1;32m    931\u001b[0m             \u001b[0;32mtry\u001b[0m\u001b[0;34m:\u001b[0m\u001b[0;34m\u001b[0m\u001b[0;34m\u001b[0m\u001b[0m\n\u001b[1;32m    932\u001b[0m                 \u001b[0;32mif\u001b[0m \u001b[0mgetattr\u001b[0m\u001b[0;34m(\u001b[0m\u001b[0mself\u001b[0m\u001b[0;34m.\u001b[0m\u001b[0m_backend\u001b[0m\u001b[0;34m,\u001b[0m \u001b[0;34m'supports_timeout'\u001b[0m\u001b[0;34m,\u001b[0m \u001b[0;32mFalse\u001b[0m\u001b[0;34m)\u001b[0m\u001b[0;34m:\u001b[0m\u001b[0;34m\u001b[0m\u001b[0;34m\u001b[0m\u001b[0m\n\u001b[0;32m--> 933\u001b[0;31m                     \u001b[0mself\u001b[0m\u001b[0;34m.\u001b[0m\u001b[0m_output\u001b[0m\u001b[0;34m.\u001b[0m\u001b[0mextend\u001b[0m\u001b[0;34m(\u001b[0m\u001b[0mjob\u001b[0m\u001b[0;34m.\u001b[0m\u001b[0mget\u001b[0m\u001b[0;34m(\u001b[0m\u001b[0mtimeout\u001b[0m\u001b[0;34m=\u001b[0m\u001b[0mself\u001b[0m\u001b[0;34m.\u001b[0m\u001b[0mtimeout\u001b[0m\u001b[0;34m)\u001b[0m\u001b[0;34m)\u001b[0m\u001b[0;34m\u001b[0m\u001b[0;34m\u001b[0m\u001b[0m\n\u001b[0m\u001b[1;32m    934\u001b[0m                 \u001b[0;32melse\u001b[0m\u001b[0;34m:\u001b[0m\u001b[0;34m\u001b[0m\u001b[0;34m\u001b[0m\u001b[0m\n\u001b[1;32m    935\u001b[0m                     \u001b[0mself\u001b[0m\u001b[0;34m.\u001b[0m\u001b[0m_output\u001b[0m\u001b[0;34m.\u001b[0m\u001b[0mextend\u001b[0m\u001b[0;34m(\u001b[0m\u001b[0mjob\u001b[0m\u001b[0;34m.\u001b[0m\u001b[0mget\u001b[0m\u001b[0;34m(\u001b[0m\u001b[0;34m)\u001b[0m\u001b[0;34m)\u001b[0m\u001b[0;34m\u001b[0m\u001b[0;34m\u001b[0m\u001b[0m\n",
            "\u001b[0;32m/usr/local/lib/python3.7/dist-packages/joblib/_parallel_backends.py\u001b[0m in \u001b[0;36mwrap_future_result\u001b[0;34m(future, timeout)\u001b[0m\n\u001b[1;32m    540\u001b[0m         AsyncResults.get from multiprocessing.\"\"\"\n\u001b[1;32m    541\u001b[0m         \u001b[0;32mtry\u001b[0m\u001b[0;34m:\u001b[0m\u001b[0;34m\u001b[0m\u001b[0;34m\u001b[0m\u001b[0m\n\u001b[0;32m--> 542\u001b[0;31m             \u001b[0;32mreturn\u001b[0m \u001b[0mfuture\u001b[0m\u001b[0;34m.\u001b[0m\u001b[0mresult\u001b[0m\u001b[0;34m(\u001b[0m\u001b[0mtimeout\u001b[0m\u001b[0;34m=\u001b[0m\u001b[0mtimeout\u001b[0m\u001b[0;34m)\u001b[0m\u001b[0;34m\u001b[0m\u001b[0;34m\u001b[0m\u001b[0m\n\u001b[0m\u001b[1;32m    543\u001b[0m         \u001b[0;32mexcept\u001b[0m \u001b[0mCfTimeoutError\u001b[0m \u001b[0;32mas\u001b[0m \u001b[0me\u001b[0m\u001b[0;34m:\u001b[0m\u001b[0;34m\u001b[0m\u001b[0;34m\u001b[0m\u001b[0m\n\u001b[1;32m    544\u001b[0m             \u001b[0;32mraise\u001b[0m \u001b[0mTimeoutError\u001b[0m \u001b[0;32mfrom\u001b[0m \u001b[0me\u001b[0m\u001b[0;34m\u001b[0m\u001b[0;34m\u001b[0m\u001b[0m\n",
            "\u001b[0;32m/usr/lib/python3.7/concurrent/futures/_base.py\u001b[0m in \u001b[0;36mresult\u001b[0;34m(self, timeout)\u001b[0m\n\u001b[1;32m    428\u001b[0m                 \u001b[0;32mreturn\u001b[0m \u001b[0mself\u001b[0m\u001b[0;34m.\u001b[0m\u001b[0m__get_result\u001b[0m\u001b[0;34m(\u001b[0m\u001b[0;34m)\u001b[0m\u001b[0;34m\u001b[0m\u001b[0;34m\u001b[0m\u001b[0m\n\u001b[1;32m    429\u001b[0m \u001b[0;34m\u001b[0m\u001b[0m\n\u001b[0;32m--> 430\u001b[0;31m             \u001b[0mself\u001b[0m\u001b[0;34m.\u001b[0m\u001b[0m_condition\u001b[0m\u001b[0;34m.\u001b[0m\u001b[0mwait\u001b[0m\u001b[0;34m(\u001b[0m\u001b[0mtimeout\u001b[0m\u001b[0;34m)\u001b[0m\u001b[0;34m\u001b[0m\u001b[0;34m\u001b[0m\u001b[0m\n\u001b[0m\u001b[1;32m    431\u001b[0m \u001b[0;34m\u001b[0m\u001b[0m\n\u001b[1;32m    432\u001b[0m             \u001b[0;32mif\u001b[0m \u001b[0mself\u001b[0m\u001b[0;34m.\u001b[0m\u001b[0m_state\u001b[0m \u001b[0;32min\u001b[0m \u001b[0;34m[\u001b[0m\u001b[0mCANCELLED\u001b[0m\u001b[0;34m,\u001b[0m \u001b[0mCANCELLED_AND_NOTIFIED\u001b[0m\u001b[0;34m]\u001b[0m\u001b[0;34m:\u001b[0m\u001b[0;34m\u001b[0m\u001b[0;34m\u001b[0m\u001b[0m\n",
            "\u001b[0;32m/usr/lib/python3.7/threading.py\u001b[0m in \u001b[0;36mwait\u001b[0;34m(self, timeout)\u001b[0m\n\u001b[1;32m    294\u001b[0m         \u001b[0;32mtry\u001b[0m\u001b[0;34m:\u001b[0m    \u001b[0;31m# restore state no matter what (e.g., KeyboardInterrupt)\u001b[0m\u001b[0;34m\u001b[0m\u001b[0;34m\u001b[0m\u001b[0m\n\u001b[1;32m    295\u001b[0m             \u001b[0;32mif\u001b[0m \u001b[0mtimeout\u001b[0m \u001b[0;32mis\u001b[0m \u001b[0;32mNone\u001b[0m\u001b[0;34m:\u001b[0m\u001b[0;34m\u001b[0m\u001b[0;34m\u001b[0m\u001b[0m\n\u001b[0;32m--> 296\u001b[0;31m                 \u001b[0mwaiter\u001b[0m\u001b[0;34m.\u001b[0m\u001b[0macquire\u001b[0m\u001b[0;34m(\u001b[0m\u001b[0;34m)\u001b[0m\u001b[0;34m\u001b[0m\u001b[0;34m\u001b[0m\u001b[0m\n\u001b[0m\u001b[1;32m    297\u001b[0m                 \u001b[0mgotit\u001b[0m \u001b[0;34m=\u001b[0m \u001b[0;32mTrue\u001b[0m\u001b[0;34m\u001b[0m\u001b[0;34m\u001b[0m\u001b[0m\n\u001b[1;32m    298\u001b[0m             \u001b[0;32melse\u001b[0m\u001b[0;34m:\u001b[0m\u001b[0;34m\u001b[0m\u001b[0;34m\u001b[0m\u001b[0m\n",
            "\u001b[0;31mKeyboardInterrupt\u001b[0m: "
          ]
        }
      ]
    },
    {
      "cell_type": "markdown",
      "metadata": {
        "id": "Qj0RaUTZkQBC"
      },
      "source": [
        "### 4.1.2.3. Gradient Boosting Regressor"
      ]
    },
    {
      "cell_type": "code",
      "metadata": {
        "id": "toavZqDPkQBC"
      },
      "source": [
        "GBR = ensemble.GradientBoostingRegressor(random_state = 888)\n",
        "\n",
        "parameters = {\n",
        "    'learning_rate': [0.1, 0.2],\n",
        "    'n_estimators' : [180, 200, 225],\n",
        "    'max_depth'    : [5, 6, 8]\n",
        "}\n",
        "\n",
        " \n",
        "\n",
        "grid_GBR = GridSearchCV(estimator=GBR, param_grid = parameters, cv = 3, n_jobs=-1, verbose = 10)\n",
        "grid_GBR.fit(x_train, y_train)\n",
        "\n",
        "print(\" Results from Grid Search \" )\n",
        "print(\"\\n The best estimator across ALL searched params:\\n\",grid_GBR.best_estimator_)\n",
        "print(\"\\n The best score across ALL searched params:\\n\",grid_GBR.best_score_)\n",
        "print(\"\\n The best parameters across ALL searched params:\\n\",grid_GBR.best_params_)\n",
        "\n",
        "#print(\"\\n The best accuracy across ALL searched params:\\n\",evaluate(best_grid, x_test, y_test_one))\n",
        "\n",
        "\n",
        "y_pred_GBR = grid_GBR.predict(x_test)\n",
        "rmse = np.sqrt(mean_squared_error(y_test, y_pred_GBR))\n",
        "\n",
        "print(\"RMSE: %f\" % (rmse))\n",
        "print(\"Mean squared error: %.2f\" % mean_squared_error(y_test, y_pred_GBR))\n",
        "\n",
        "# Explained variance score: 1 is perfect prediction\n",
        "print('R2 score: %.4f' % r2_score(y_test, y_pred_GBR))"
      ],
      "execution_count": null,
      "outputs": []
    },
    {
      "cell_type": "markdown",
      "metadata": {
        "id": "yPH92ZZWkQBD"
      },
      "source": [
        "## 4.1.2.4 XGBoost"
      ]
    },
    {
      "cell_type": "code",
      "metadata": {
        "scrolled": true,
        "id": "3jzTy0NdkQBD"
      },
      "source": [
        "#pip install xgboost if yall need"
      ],
      "execution_count": null,
      "outputs": []
    },
    {
      "cell_type": "code",
      "metadata": {
        "id": "76BEyrG8kQBD"
      },
      "source": [
        "import xgboost as xgb\n",
        "from xgboost.sklearn import XGBRegressor\n",
        "\n",
        "\n",
        "xgb1 = XGBRegressor()\n",
        "parameters = {'nthread':[4], #when use hyperthread, xgboost may become slower\n",
        "              'objective':['reg:linear'],\n",
        "              'learning_rate': [0.001, 0.01, 0.03], #so called `eta` value\n",
        "              'max_depth': [11,13,15],\n",
        "              'min_child_weight': [4],\n",
        "              'silent': [1],\n",
        "              'subsample': [0.7],\n",
        "              'colsample_bytree': [0.7],\n",
        "              'n_estimators': [700, 800, 900]}\n",
        "\n",
        "grid_xgb = GridSearchCV(estimator = xgb1,\n",
        "                        param_grid = parameters,\n",
        "                        cv = 3,\n",
        "                        n_jobs = -1,\n",
        "                        verbose=3)\n",
        "\n",
        "grid_xgb.fit(x_train,\n",
        "         y_train)\n",
        "\n",
        "print(\" Results from Grid Search \" )\n",
        "print(\"\\n The best estimator across ALL searched params:\\n\",grid_xgb.best_estimator_)\n",
        "print(\"\\n The best score across ALL searched params:\\n\",grid_xgb.best_score_)\n",
        "print(\"\\n The best parameters across ALL searched params:\\n\",grid_xgb.best_params_)\n",
        "\n",
        "#print(\"\\n The best accuracy across ALL searched params:\\n\",evaluate(best_grid, x_test, y_test_one))\n",
        "\n",
        "\n",
        "y_pred_xgb = grid_xgb.predict(x_test)\n",
        "rmse = np.sqrt(mean_squared_error(y_test, y_pred_xgb))\n",
        "\n",
        "print(\"RMSE: %f\" % (rmse))\n",
        "print(\"Mean squared error: %.2f\" % mean_squared_error(y_test, y_pred_xgb))\n",
        "\n",
        "# Explained variance score: 1 is perfect prediction\n",
        "print('R2 score: %.4f' % r2_score(y_test, y_pred_xgb))"
      ],
      "execution_count": null,
      "outputs": []
    },
    {
      "cell_type": "markdown",
      "metadata": {
        "id": "n92HKUnCkQBD"
      },
      "source": [
        "### 4.1.3. Neural Network"
      ]
    },
    {
      "cell_type": "code",
      "metadata": {
        "id": "d2QS6vCvkQBD"
      },
      "source": [
        "train_df = pd.concat([y_train,x_train], axis = 1)\n",
        "test_df = pd.concat([y_test, x_train],axis =1)\n",
        "test_df.rename(columns = {'HHSIZE_ above_3':'HHSIZE_above_3'} , inplace = True)"
      ],
      "execution_count": null,
      "outputs": []
    },
    {
      "cell_type": "code",
      "metadata": {
        "id": "cCYjICKDkQBD"
      },
      "source": [
        "from sklearn.model_selection import RandomizedSearchCV\n",
        "from keras.models import Sequential\n",
        "from keras.layers import Dense\n",
        "from keras.wrappers.scikit_learn import KerasRegressor\n",
        "import tensorflow as tf\n",
        "from keras.layers import Dropout"
      ],
      "execution_count": null,
      "outputs": []
    },
    {
      "cell_type": "code",
      "metadata": {
        "id": "HBlEfUZukQBD"
      },
      "source": [
        "def create_model_deep(input_shape,learn_rate,dropout_rate, layers,kernel_reg): #name,my_feature_layer,dropout_rate, layers):\n",
        "    model = tf.keras.models.Sequential()#name = name)\n",
        "    model.add(tf.keras.Input(shape=(input_shape,)))\n",
        "    #model.add(my_feature_layer)\n",
        "    for index, layer in enumerate(layers):\n",
        "        model.add(tf.keras.layers.Dense(units = layer,\n",
        "                                        activation = 'relu',\n",
        "                                        kernel_regularizer=kernel_reg,\n",
        "                                        name=f'Hidden{index}'))\n",
        "    model.add(Dropout(dropout_rate))  \n",
        "    model.add(tf.keras.layers.Dense(units=1, name='Output'))  \n",
        "    model.compile(optimizer=tf.keras.optimizers.Adam(lr=learn_rate),\n",
        "                  loss=\"mean_squared_error\",\n",
        "                  metrics=[tf.keras.metrics.MeanSquaredError()])\n",
        "    return model"
      ],
      "execution_count": null,
      "outputs": []
    },
    {
      "cell_type": "code",
      "metadata": {
        "id": "41sQF5aNkQBD"
      },
      "source": [
        "one_hot_labs = [c for c in train_df if train_df[c].dtype == 'uint8']\n",
        "num_labs = ['tier diff','bay diff','quantity','pos diff']"
      ],
      "execution_count": null,
      "outputs": []
    },
    {
      "cell_type": "code",
      "metadata": {
        "id": "HmEIPZsokQBE"
      },
      "source": [
        "feature_columns = []\n",
        "for i in num_labs:\n",
        "    i = tf.feature_column.numeric_column(i)\n",
        "    feature_columns.append(i)\n",
        "for k in one_hot_labs:\n",
        "    k = tf.feature_column.numeric_column(k)\n",
        "    feature_columns.append(k)\n",
        "my_feature_layer = tf.keras.layers.DenseFeatures(feature_columns)"
      ],
      "execution_count": null,
      "outputs": []
    },
    {
      "cell_type": "code",
      "metadata": {
        "id": "yN5SbCd3kQBE"
      },
      "source": [
        "import time\n",
        "start_time = time.time()\n",
        "\n",
        "input_shape = [x_train.shape[1]]\n",
        "learn_rate = ((0.01),(0.1),(0.3))\n",
        "batch_size = ((128,),(256,))\n",
        "dropout_rate = ((0.1),(0),(0.2))\n",
        "name = ['deep']\n",
        "kernel_reg = ((tf.keras.regularizers.l2(0.04)),('glorot_uniform'))\n",
        "layers = ((64,32,16,8),(64,16,8,4),(64,16),(64,32,16,8,4),(30,20,10,8))\n",
        "\n",
        " \n",
        "param_grid = dict(input_shape = input_shape,\n",
        "                  learn_rate = learn_rate,\n",
        "                  dropout_rate = dropout_rate,\n",
        "                  layers = layers,\n",
        "                  kernel_reg = kernel_reg)\n",
        "\n",
        "    \n",
        "model_deep = KerasRegressor(build_fn = create_model_deep, epochs = 1000, batch_size = 256, verbose =2)\n",
        "nn_grid = GridSearchCV(estimator = model_deep, param_grid = param_grid, n_jobs = -1, scoring='neg_mean_squared_error',verbose =5, cv = model_selection.KFold(n_splits = 5, shuffle = True, random_state = 888))\n",
        "nn_grid_result = nn_grid.fit(x_train, y_train)\n",
        "best_nn = nn_grid.best_estimator_\n",
        "\n",
        "print(\"run time:\", str(time.time()-start_time), \"start time:\", str(start_time), \"end time\",str(time.time()))"
      ],
      "execution_count": null,
      "outputs": []
    },
    {
      "cell_type": "code",
      "metadata": {
        "id": "VXBFA-7ikQBE"
      },
      "source": [
        "from sklearn.metrics import mean_squared_error\n",
        "from sklearn.metrics import r2_score\n",
        "\n",
        "\n",
        "\n",
        "predictions = best_nn.predict(x_test)\n",
        "mse = metrics.mean_squared_error(y_test,predictions)\n",
        "rmse = np.sqrt(mse)\n",
        "rsquare = r2_score(y_test, predictions)\n",
        "\n",
        "print('Model Preformance')\n",
        "print('rmse',rmse)\n",
        "print('mse',mse)\n",
        "print('R square:', rsquare)"
      ],
      "execution_count": null,
      "outputs": []
    },
    {
      "cell_type": "code",
      "metadata": {
        "scrolled": true,
        "id": "GcG1qzrlkQBE"
      },
      "source": [
        "nn_grid_result.best_params_"
      ],
      "execution_count": null,
      "outputs": []
    },
    {
      "cell_type": "code",
      "metadata": {
        "id": "qzsXzj9vkQBE"
      },
      "source": [
        "# Create a table to compare the best results from X_train"
      ],
      "execution_count": null,
      "outputs": []
    },
    {
      "cell_type": "markdown",
      "metadata": {
        "id": "MiCeN_NtkQBE"
      },
      "source": [
        "| X_Train | Linear - Lasso | Ensemble - Random Forest | Nerual Network | \n",
        "|---|---|---|---|\n",
        "| Parameters | 0 | 0 | 0 |\n",
        "| MSE  | 0 | 0.0180 | 0.0420 |\n",
        "| RMSE | 1.362 | 0.647 | 0 | \n",
        "| R-Square| 0.0172 | 0.0245 | 0.0420 | \n",
        "| Top Features| - | - | NA |"
      ]
    },
    {
      "cell_type": "markdown",
      "metadata": {
        "id": "t4nwCwtlkQBE"
      },
      "source": [
        "Overall best model is ___ for x_train dataset. However as model is week explore using trip distances"
      ]
    },
    {
      "cell_type": "markdown",
      "metadata": {
        "id": "ob_raKnRkQBE"
      },
      "source": [
        "## 4.2. X_train_dist\n",
        "X_train now to include the distances columns obtained from the trips data. Should there be improvement, would suggest that obtaining binned distance measures for different WHY categories would prove to aid the model better"
      ]
    },
    {
      "cell_type": "code",
      "metadata": {
        "id": "lXW-XnufkQBE"
      },
      "source": [
        "# run models with x_train_dist here - probably for each (linear vs ensemble vs nn) choose the best (E.G. run L2_linear, xgboost , NN )"
      ],
      "execution_count": null,
      "outputs": []
    },
    {
      "cell_type": "code",
      "metadata": {
        "id": "VTuLzRl9kQBF"
      },
      "source": [
        ""
      ],
      "execution_count": null,
      "outputs": []
    },
    {
      "cell_type": "markdown",
      "metadata": {
        "id": "tXUuJxQPkQBF"
      },
      "source": [
        "### 4.2.1. Linear Models"
      ]
    },
    {
      "cell_type": "markdown",
      "metadata": {
        "id": "bJDkIdQjkQBF"
      },
      "source": [
        "#### 4.2.1.1. Linear Regression"
      ]
    },
    {
      "cell_type": "code",
      "metadata": {
        "id": "Cnz5FzuvkQBF"
      },
      "source": [
        "LRmodel_with_dist = linear_model.LinearRegression()  #create the linear regression \n",
        "LRmodel_with_dist.fit(x_train_with_dist,y_train) #train the model using the training set \n",
        "LR_pred_with_dist = LRmodel_with_dist.predict(x_test_with_dist) #use this model to predict the test data set "
      ],
      "execution_count": null,
      "outputs": []
    },
    {
      "cell_type": "code",
      "metadata": {
        "id": "_87AQREpkQBF"
      },
      "source": [
        "print('R^2 score:\\t\\t\\t\\t',LRmodel_with_dist.score(x_test_with_dist, y_test)) #compute R^2 score \n",
        "print('Explained Variance: \\t\\t\\t', metrics.explained_variance_score(y_test, LR_pred_with_dist)) #compute explained variance score\n",
        "print('Mean Absolute Error: \\t\\t\\t', metrics.mean_absolute_error(y_test, LR_pred_with_dist)) #compute MAE results\n",
        "print('Mean Squared Error:\\t\\t\\t', metrics.mean_squared_error(y_test, LR_pred_with_dist)) #compute MSE results\n",
        "print('Root Mean Squared Error:\\t\\t', metrics.mean_squared_error(y_test, LR_pred_with_dist, squared = False)) #compute RSME results\n",
        "print('Intercept:\\t', LRmodel_with_dist.intercept_) #find intercept value \n",
        "print('Coef:\\t', np.sum(LRmodel_with_dist.coef_!=0))#find no of features used in regression model "
      ],
      "execution_count": null,
      "outputs": []
    },
    {
      "cell_type": "code",
      "metadata": {
        "id": "nfVH61eIkQBF"
      },
      "source": [
        "sns.regplot(y_test,LR_pred_with_dist) #plotting predictions "
      ],
      "execution_count": null,
      "outputs": []
    },
    {
      "cell_type": "code",
      "metadata": {
        "id": "EGkivOIhkQBF"
      },
      "source": [
        "#calculate VIF scores to detect multicolinearity \n",
        "\n",
        "# VIF dataframe\n",
        "vif_data_with_dist = pd.DataFrame()\n",
        "vif_data_with_dist[\"feature\"] = x_train_with_dist.columns\n",
        "  \n",
        "# calculating VIF for each feature\n",
        "vif_data_with_dist[\"VIF\"] = [variance_inflation_factor(x_train_with_dist.values, i)\n",
        "                          for i in range(len(x_train_with_dist.columns))]\n",
        "  \n",
        "print(vif_data_with_dist)"
      ],
      "execution_count": null,
      "outputs": []
    },
    {
      "cell_type": "code",
      "metadata": {
        "id": "LeBGFDIekQBG"
      },
      "source": [
        "vif_data_with_dist.sort_values(by = 'VIF', ascending = False)"
      ],
      "execution_count": null,
      "outputs": []
    },
    {
      "cell_type": "code",
      "metadata": {
        "id": "ULEZt_IPkQBG"
      },
      "source": [
        "# counting number of infinity features \n",
        "\n",
        "vif_data_inf_with_dist = np.isinf(vif_data_with_dist['VIF']).values.sum()\n",
        "print(\"It contains \" + str(vif_data_inf_with_dist) + \" infinite values\")\n"
      ],
      "execution_count": null,
      "outputs": []
    },
    {
      "cell_type": "code",
      "metadata": {
        "id": "c4YqmNDNkQBG"
      },
      "source": [
        "#cross validation to see if it will improve results \n",
        "folds = model_selection.KFold(n_splits = 5, shuffle = True, random_state = 100)\n",
        "scores_with_dist = model_selection.cross_validate(LRmodel, x_train_with_dist, y_train, scoring=('r2','neg_mean_squared_error'), cv=folds)\n",
        "print('\\nR2 score:',scores)"
      ],
      "execution_count": null,
      "outputs": []
    },
    {
      "cell_type": "code",
      "metadata": {
        "id": "YoWX2NIJkQBG"
      },
      "source": [
        "np.set_printoptions(formatter={'float_kind':'{:f}'.format})\n",
        "scores_with_dist"
      ],
      "execution_count": null,
      "outputs": []
    },
    {
      "cell_type": "code",
      "metadata": {
        "id": "5UEkZtbukQBG"
      },
      "source": [
        "from sklearn.feature_selection import RFE\n",
        "import time\n",
        "start_time = time.time()\n",
        "#specify range of hyperparameters to tune\n",
        "hyper_params = [{'n_features_to_select': list(range(1,109))}]\n",
        "\n",
        "\n",
        "# perform grid search\n",
        "\n",
        "rfe_with_dist = RFE(LRmodel_with_dist)             \n",
        "\n",
        "# 3.2 call GridSearchCV()\n",
        "model_cv_with_dist = model_selection.GridSearchCV(estimator = rfe_with_dist, \n",
        "                        param_grid = hyper_params, \n",
        "                        scoring= 'neg_mean_squared_error', \n",
        "                        cv = folds, \n",
        "                        verbose = 10,\n",
        "                        return_train_score=True)      \n",
        "\n",
        "# fit the model\n",
        "model_cv_with_dist.fit(x_train_with_dist, y_train)\n",
        "print(\"run time:\", str(time.time()-start_time), \"start time:\", str(start_time), \"end time\",str(time.time()))"
      ],
      "execution_count": null,
      "outputs": []
    },
    {
      "cell_type": "code",
      "metadata": {
        "id": "Xr2KxGuuqdrH"
      },
      "source": [
        "#grid_search.fit(train_features, train_labels)\n",
        "print(model_cv_with_dist.best_params_)\n",
        "\n",
        "print(model_cv_with_dist.best_estimator_)\n",
        "print(model_cv_with_dist.best_score_)\n",
        "\n",
        "model_cv_with_dist_y_pred_rfgs = model_cv_with_dist.predict(x_test)\n",
        "model_cv_with_dist_rmse = np.sqrt(metrics.mean_squared_error(y_test, model_cv_with_dist_y_pred_rfgs))\n",
        "print(\"RMSE: %f\" % (model_cv_with_dist_rmse))\n",
        "\n",
        "print(\"Mean squared error: %.2f\"\n",
        "      % metrics.mean_squared_error(y_test, model_cv_with_dist_y_pred_rfgs))\n",
        "# Explained variance score: 1 is perfect prediction\n",
        "print('R2 score: %.2f' % metrics.r2_score(y_test, model_cv_with_dist_y_pred_rfgs))"
      ],
      "execution_count": null,
      "outputs": []
    },
    {
      "cell_type": "code",
      "metadata": {
        "id": "9NRxLfzbkQBG"
      },
      "source": [
        "# cv results\n",
        "cv_results_with_dist = pd.DataFrame(model_cv_with_dist.cv_results_)\n",
        "cv_results_with_dist\n"
      ],
      "execution_count": null,
      "outputs": []
    },
    {
      "cell_type": "code",
      "metadata": {
        "id": "Cn1M8vBhkQBG"
      },
      "source": [
        "# plotting cv results\n",
        "plt.figure(figsize=(16,6))\n",
        "\n",
        "#plt.plot(cv_results[\"param_n_features_to_select\"], cv_results[\"mean_test_score\"])\n",
        "plt.plot(cv_results_with_dist[\"param_n_features_to_select\"], cv_results[\"mean_train_score\"])\n",
        "plt.xlabel('number of features')\n",
        "plt.ylabel('r-squared')\n",
        "plt.title(\"Optimal Number of Features\")\n",
        "plt.legend(['test score', 'train score'], loc='upper left')\n"
      ],
      "execution_count": null,
      "outputs": []
    },
    {
      "cell_type": "markdown",
      "metadata": {
        "id": "PpqzbO8KkQBH"
      },
      "source": [
        "#### 4.1.1.2 Linear Regression – Regularisation"
      ]
    },
    {
      "cell_type": "markdown",
      "metadata": {
        "id": "um3dnf6EkQBH"
      },
      "source": [
        "**Lasso Regularisation**"
      ]
    },
    {
      "cell_type": "code",
      "metadata": {
        "id": "CKhk7WZEkQBH"
      },
      "source": [
        "alpha = [0.0001, 0.001, 0.005, 0.01]\n",
        "\n",
        "for i in range(4):\n",
        "    #build lasso regressor model here\n",
        "    lasso_with_dist = linear_model.Lasso(alpha=alpha[i])\n",
        "    lasso_with_dist.fit(x_train_with_dist, y_train) #fit a lasso regression on the training data\n",
        "    y_predlasso_with_dist = lasso_with_dist.predict(x_test_with_dist) #use this model to predict the test data\n",
        "    lasso_mse_with_dist = metrics.mean_squared_error(y_test, y_predlasso_with_dist) #calculate the test MSE\n",
        "    lasso_rmse_with_dist = metrics.mean_squared_error(y_test, y_predlasso_with_dist,squared = False) #calculate the test RMSE\n",
        "    msemanual_with_dist = np.mean((y_predlasso_with_dist-y_test)**2) #calculate mse manually to cross validate\n",
        "    lasso_cplxy_with_dist = (np.sum(abs(lasso_with_dist.coef_))) #calculate l1norm / model complexity\n",
        "    \n",
        "    print('-' * 32)\n",
        "    print('lasso with alpha', alpha[i])\n",
        "    print('-' * 32)\n",
        "    print('\\nTrain score:', round(lasso_with_dist.score(x_train_with_dist, y_train), 3)) #compute train R^2 score\n",
        "    print('Test score:', round(lasso_with_dist.score(x_test_with_dist, y_test), 3)) #compute test R^2 score\n",
        "    print(list(map(lambda x: round(x, 3), lasso_with_dist.coef_))) #list out the coef values \n",
        "    print('-' * 32)\n",
        "    print('MSE on test set:', lasso_mse_with_dist) #compute MSE results\n",
        "    print('Manual MSE on test set:',msemanual_with_dist) #compute MSE results\n",
        "    print('RMSE on test set:', lasso_rmse_with_dist) #compute RMSE results\n",
        "    print('model complexity:', lasso_cplxy_with_dist) #compute L1 NOMR score\n",
        "    print('regularized cost:', lasso_mse_with_dist + alpha[i] * lasso_cplxy_with_dist) #compute regularised cost function scores\n",
        "    print('\\n')\n"
      ],
      "execution_count": null,
      "outputs": []
    },
    {
      "cell_type": "markdown",
      "metadata": {
        "id": "uGTj6QMtkQBH"
      },
      "source": [
        "**Ridge Regularisation**"
      ]
    },
    {
      "cell_type": "code",
      "metadata": {
        "id": "5XL744LVkQBH"
      },
      "source": [
        "ridgealpha = [0.001, 0.01, 0.1, 1]\n",
        "\n",
        "for i in range(4):\n",
        "    #build ridge regressor here\n",
        "    ridge_with_dist = linear_model.Ridge(alpha=ridgealpha[i])\n",
        "    ridge_with_dist.fit(x_train_with_dist, y_train) #fit a ridge regression on the training data\n",
        "    y_pred_ridge_with_dist = ridge_with_dist.predict(x_test_with_dist) #use this model to predict the test data\n",
        "    ridge_mse_with_dist = metrics.mean_squared_error(y_test, y_pred_ridge_with_dist) #calculate the test mse\n",
        "    ridge_rmse_with_dist = metrics.mean_squared_error(y_test, y_pred_ridge_with_dist,squared = False) #calculate the test rmse\n",
        "    ridge_cplxy_with_dist = (np.linalg.norm(ridge_with_dist.coef_)) #calculate l2norm / model complexity\n",
        "    \n",
        "    print('-' * 32)\n",
        "    print('ridge with alpha', ridgealpha[i])\n",
        "    print('-' * 32)\n",
        "    print('\\nTrain score:', round(ridge_with_dist.score(x_train_with_dist, y_train), 3))\n",
        "    print('Test score:', round(ridge_with_dist.score(x_test_with_dist, y_test), 3))\n",
        "    print(list(map(lambda x: round(x, 3), ridge_with_dist.coef_)))\n",
        "    print('-' * 32)\n",
        "    print('MSE on test set:', ridge_mse_with_dist)\n",
        "    print('RMSE on test set:', ridge_rmse_with_dist)\n",
        "    print('model complexity:', ridge_cplxy_with_dist)\n",
        "    print('regularized cost:', ridge_mse_with_dist + ridgealpha_with_dist[i] * ridge_cplxy_with_dist)\n",
        "    print('\\n')\n"
      ],
      "execution_count": null,
      "outputs": []
    },
    {
      "cell_type": "markdown",
      "metadata": {
        "id": "USFs06z6kQBI"
      },
      "source": [
        "### 4.2.1.3. Principal Component Regression"
      ]
    },
    {
      "cell_type": "code",
      "metadata": {
        "id": "MDn0G8iNkQBI"
      },
      "source": [
        "pca_with_dist = PCA()\n",
        "x_reduced_with_dist = pca_with_dist.fit_transform(scale(x_train_with_dist))"
      ],
      "execution_count": null,
      "outputs": []
    },
    {
      "cell_type": "code",
      "metadata": {
        "id": "sG4jFG_bkQBI"
      },
      "source": [
        "pd.DataFrame(pca.components_.T).loc[:4,:5]\n",
        "#pd.DataFrame(pca.components_.T)"
      ],
      "execution_count": null,
      "outputs": []
    },
    {
      "cell_type": "code",
      "metadata": {
        "id": "dkzD5rOekQBI"
      },
      "source": [
        "# 10-fold CV, with shuffle\n",
        "kf_5 = model_selection.KFold(n_splits=5, shuffle=True, random_state=100)\n",
        "\n",
        "pcascores_with_dist = model_selection_with_dist.cross_validate(LRmodel, x_reduced_with_dist, y_train, scoring=('r2','neg_mean_squared_error'), cv=kf_5)\n",
        "\n",
        "\n"
      ],
      "execution_count": null,
      "outputs": []
    },
    {
      "cell_type": "code",
      "metadata": {
        "id": "LShfS2HFq1oD"
      },
      "source": [
        "pcascores_with_dist"
      ],
      "execution_count": null,
      "outputs": []
    },
    {
      "cell_type": "code",
      "metadata": {
        "id": "9YOl9iTukQBI"
      },
      "source": [
        "#specify range of hyperparameters to tune\n",
        "#hyper_params = [{'n_features_to_select': list(range(1,133))}]\n",
        "   \n",
        "\n",
        "# GridSearchCV()\n",
        "#pcamodel_cv_with_dist = model_selection.GridSearchCV(estimator = rfe, \n",
        "                        #param_grid = hyper_params, \n",
        "                        #scoring= 'neg_mean_squared_error', \n",
        "                        #cv = kf_5, \n",
        "                        #verbose = 10,\n",
        "                        #return_train_score=True)      \n",
        "\n",
        "# fit the model\n",
        "#pcamodel_cv_with_dist.fit(x_reduced_with_dist, y_train)  \n"
      ],
      "execution_count": null,
      "outputs": []
    },
    {
      "cell_type": "code",
      "metadata": {
        "id": "1zrTzlw2kQBI"
      },
      "source": [
        "#pcacv_results_with_dist = pd.DataFrame(pcamodel_cv_with_dist.cv_results_)\n",
        "#pcacv_results_with_dist\n"
      ],
      "execution_count": null,
      "outputs": []
    },
    {
      "cell_type": "code",
      "metadata": {
        "id": "fLduWxHEkQBI"
      },
      "source": [
        "# plotting cv results\n",
        "#plt.figure(figsize=(16,6))\n",
        "\n",
        "#plt.plot(cv_results[\"param_n_features_to_select\"], pcacv_results[\"mean_test_score\"])\n",
        "#plt.plot(pcacv_results_with_dist[\"param_n_features_to_select\"], pcacv_results[\"mean_train_score\"])\n",
        "#plt.xlabel('number of features')\n",
        "#plt.ylabel('r-squared')\n",
        "#plt.title(\"Optimal Number of Features\")\n",
        "#plt.legend(['test score', 'train score'], loc='upper left')\n"
      ],
      "execution_count": null,
      "outputs": []
    },
    {
      "cell_type": "code",
      "metadata": {
        "id": "Bh4LeRdokQBI"
      },
      "source": [
        "#plt.plot(np.cumsum(pca_with_dist.explained_variance_ratio_))\n",
        "#plt.xlabel('number of components')\n",
        "#plt.ylabel('cumulative explained variance')\n"
      ],
      "execution_count": null,
      "outputs": []
    },
    {
      "cell_type": "markdown",
      "metadata": {
        "id": "FFEOf0kokQBI"
      },
      "source": [
        "### 4.2.2.1. Random Forest"
      ]
    },
    {
      "cell_type": "code",
      "metadata": {
        "id": "mZMDI3dnkQBJ"
      },
      "source": [
        "\n",
        "# Create the parameter grid based on the results of random search \n",
        "param_grid = {\n",
        "    'bootstrap': [True],\n",
        "    'max_features': [27, 30, 33],\n",
        "    'oob_score': [True],\n",
        "    'n_estimators': [2250, 2500, 2750]\n",
        "}\n",
        "# Create a based model\n",
        "rfgs = RandomForestRegressor()\n",
        "# Instantiate the grid search model\n",
        "grid_search = GridSearchCV(estimator = rfgs, param_grid = param_grid, cv = 3, n_jobs = -1, verbose = 10)\n",
        "#wrapper_gs = RegressorChain(grid_search)\n",
        "grid_search.fit(x_train_with_dist, y_train)\n",
        "\n",
        "#grid_search.fit(train_features, train_labels)\n",
        "print(grid_search.best_params_)\n",
        "\n",
        "print(grid_search.best_estimator_)\n",
        "print(grid_search.best_score_)\n",
        "\n",
        "y_pred_rfgs = grid_search.predict(x_test_with_dist)\n",
        "rmse = np.sqrt(mean_squared_error(y_test, y_pred_rfgs))\n",
        "print(\"RMSE: %f\" % (rmse))\n",
        "\n",
        "print(\"Mean squared error: %.2f\"\n",
        "      % mean_squared_error(y_test, y_pred_rfgs))\n",
        "# Explained variance score: 1 is perfect prediction\n",
        "print('R2 score: %.2f' % r2_score(y_test, y_pred_rfgs))"
      ],
      "execution_count": null,
      "outputs": []
    },
    {
      "cell_type": "code",
      "metadata": {
        "id": "J2zRADPVkQBJ"
      },
      "source": [
        "best_rf = grid_search.best_estimator_\n",
        "rf_accuracy = evaluate_model(best_rf, x_test_with_dist, y_test)"
      ],
      "execution_count": null,
      "outputs": []
    },
    {
      "cell_type": "markdown",
      "metadata": {
        "id": "Fm5J-hd6kQBJ"
      },
      "source": [
        "### 4.2..2. Adaboost"
      ]
    },
    {
      "cell_type": "code",
      "metadata": {
        "id": "NzcsURORkQBJ"
      },
      "source": [
        "ada2=ensemble.AdaBoostRegressor(tree.DecisionTreeRegressor(), random_state = 888)\n",
        "\n",
        "parameters ={\n",
        "    'n_estimators':[350, 400, 500],\n",
        "    'learning_rate':[0.01, 0.1],\n",
        "    'base_estimator__max_depth':[25, 30, 35]\n",
        "}\n",
        "\n",
        "grid_ADA = GridSearchCV(estimator=ada2, param_grid=parameters, scoring='neg_mean_squared_error',n_jobs=-1, cv=3, verbose=10)\n",
        "grid_ADA.fit(x_train_with_dist, y_train)\n",
        "\n",
        " \n",
        "print(\" Results from Grid Search \" )\n",
        "print(\"\\n The best estimator across ALL searched params:\\n\",grid_ADA.best_estimator_)\n",
        "print(\"\\n The best score across ALL searched params:\\n\",grid_ADA.best_score_)\n",
        "print(\"\\n The best parameters across ALL searched params:\\n\",grid_ADA.best_params_)\n",
        "#print(\"\\n The best accuracy across ALL searched params:\\n\",evaluate(best_grid, x_test, y_test_one))\n",
        "\n",
        " \n",
        "y_pred_ADA = grid_ADA.predict(x_test_with_dist)\n",
        "rmse = np.sqrt(mean_squared_error(y_test, y_pred_ADA))\n",
        "print(\"RMSE: %f\" % (rmse))\n",
        "print(\"Mean squared error: %.2f\" % mean_squared_error(y_test, y_pred_ADA))\n",
        "\n",
        "# Explained variance score: 1 is perfect prediction\n",
        "print('R2 score: %.2f' % r2_score(y_test, y_pred_ADA))"
      ],
      "execution_count": null,
      "outputs": []
    },
    {
      "cell_type": "markdown",
      "metadata": {
        "id": "Gy7SeyvNkQBJ"
      },
      "source": [
        "### 4.2.3. Gradient Boosting Regressor"
      ]
    },
    {
      "cell_type": "code",
      "metadata": {
        "id": "QF_q8nobkQBJ"
      },
      "source": [
        "GBR = ensemble.GradientBoostingRegressor(random_state = 888)\n",
        "\n",
        "parameters = {\n",
        "    'learning_rate': [0.1, 0.2],\n",
        "    'n_estimators' : [180, 200, 225],\n",
        "    'max_depth'    : [5, 6, 8]\n",
        "}\n",
        "\n",
        " \n",
        "grid_GBR = GridSearchCV(estimator=GBR, param_grid = parameters, cv = 3, n_jobs=-1, verbose = 10)\n",
        "grid_GBR.fit(x_train_with_dist, y_train)\n",
        "\n",
        "\n",
        "print(\" Results from Grid Search \" )\n",
        "print(\"\\n The best estimator across ALL searched params:\\n\",grid_GBR.best_estimator_)\n",
        "print(\"\\n The best score across ALL searched params:\\n\",grid_GBR.best_score_)\n",
        "print(\"\\n The best parameters across ALL searched params:\\n\",grid_GBR.best_params_)\n",
        "#print(\"\\n The best accuracy across ALL searched params:\\n\",evaluate(best_grid, x_test, y_test_one))\n",
        " \n",
        "\n",
        "y_pred_GBR = grid_GBR.predict(x_test_with_dist)\n",
        "rmse = np.sqrt(mean_squared_error(y_test, y_pred_GBR))\n",
        "\n",
        "print(\"RMSE: %f\" % (rmse))\n",
        "print(\"Mean squared error: %.2f\" % mean_squared_error(y_test, y_pred_GBR))\n",
        "\n",
        "# Explained variance score: 1 is perfect prediction\n",
        "print('R2 score: %.4f' % r2_score(y_test, y_pred_GBR))"
      ],
      "execution_count": null,
      "outputs": []
    },
    {
      "cell_type": "markdown",
      "metadata": {
        "id": "PhxyfeMokQBJ"
      },
      "source": [
        "### 4.2.4. XGBoost"
      ]
    },
    {
      "cell_type": "code",
      "metadata": {
        "id": "lYtYttv5kQBJ"
      },
      "source": [
        "\n",
        "xgb1 = XGBRegressor()\n",
        "parameters = {'nthread':[4], #when use hyperthread, xgboost may become slower\n",
        "              'objective':['reg:linear'],\n",
        "              'learning_rate': [0.001, 0.01, 0.03], #so called `eta` value\n",
        "              'max_depth': [11,13,15],\n",
        "              'min_child_weight': [4],\n",
        "              'silent': [1],\n",
        "              'subsample': [0.7],\n",
        "              'colsample_bytree': [0.7],\n",
        "              'n_estimators': [700, 800, 900]}\n",
        "\n",
        "grid_xgb = GridSearchCV(estimator = xgb1,\n",
        "                        param_grid = parameters,\n",
        "                        cv = 3,\n",
        "                        n_jobs = -1,\n",
        "                        verbose=3)\n",
        "\n",
        "grid_xgb.fit(x_train_with_dist,\n",
        "         y_train)\n",
        "\n",
        "print(\" Results from Grid Search \" )\n",
        "print(\"\\n The best estimator across ALL searched params:\\n\",grid_xgb.best_estimator_)\n",
        "print(\"\\n The best score across ALL searched params:\\n\",grid_xgb.best_score_)\n",
        "print(\"\\n The best parameters across ALL searched params:\\n\",grid_xgb.best_params_)\n",
        "\n",
        "#print(\"\\n The best accuracy across ALL searched params:\\n\",evaluate(best_grid, x_test, y_test_one))\n",
        "\n",
        "\n",
        "y_pred_xgb = grid_xgb.predict(x_test_with_dist)\n",
        "rmse = np.sqrt(mean_squared_error(y_test, y_pred_xgb))\n",
        "\n",
        "print(\"RMSE: %f\" % (rmse))\n",
        "print(\"Mean squared error: %.2f\" % mean_squared_error(y_test, y_pred_xgb))\n",
        "\n",
        "# Explained variance score: 1 is perfect prediction\n",
        "print('R2 score: %.4f' % r2_score(y_test, y_pred_xgb))"
      ],
      "execution_count": null,
      "outputs": []
    },
    {
      "cell_type": "markdown",
      "metadata": {
        "id": "ZYsz0m8CkQBK"
      },
      "source": [
        "### 4.2.3. Neural Network"
      ]
    },
    {
      "cell_type": "code",
      "metadata": {
        "id": "nqG7P535kQBK"
      },
      "source": [
        "#use the same param_grid as earlier\n",
        "\n",
        "start_time = time.time()\n",
        "\n",
        "input_shape = [x_train_with_dist.shape[1]]\n",
        "learn_rate = ((0.01),(0.1),(0.3))\n",
        "batch_size = ((128,),(256,))\n",
        "dropout_rate = ((0.1),(0),(0.2))\n",
        "name = ['deep']\n",
        "kernel_reg = ((tf.keras.regularizers.l2(0.04)),('glorot_uniform'))\n",
        "layers = ((64,32,16,8),(64,16,8,4),(64,16),(64,32,16,8,4),(30,20,10,8))\n",
        "\n",
        " \n",
        "param_grid = dict(input_shape = input_shape,\n",
        "                  learn_rate = learn_rate,\n",
        "                  dropout_rate = dropout_rate,\n",
        "                  layers = layers,\n",
        "                  kernel_reg = kernel_reg)\n",
        "\n",
        "    \n",
        "model_deep = KerasRegressor(build_fn = create_model_deep, epochs = 1000, batch_size = 256, verbose =10)\n",
        "nn_grid = GridSearchCV(estimator = model_deep, param_grid = param_grid, n_jobs = -1, scoring='neg_mean_squared_error',verbose =5, cv = model_selection.KFold(n_splits = 5, shuffle = True, random_state = 888))\n",
        "nn_grid_result = nn_grid.fit(x_train_with_dist, y_train)\n",
        "best_nn = nn_grid.best_estimator_\n",
        "\n",
        "print(\"run time:\", str(time.time()-start_time), \"start time:\", str(start_time), \"end time\",str(time.time()))"
      ],
      "execution_count": null,
      "outputs": []
    },
    {
      "cell_type": "code",
      "metadata": {
        "id": "7Cz14OaqkQBK"
      },
      "source": [
        "from sklearn.metrics import mean_squared_error\n",
        "from sklearn.metrics import r2_score\n",
        "\n",
        "\n",
        "\n",
        "predictions = best_nn.predict(x_test_with_dist)\n",
        "mse = metrics.mean_squared_error(y_test,predictions)\n",
        "rmse = np.sqrt(mse)\n",
        "rsquare = r2_score(y_test, predictions)\n",
        "\n",
        "print('Model Preformance')\n",
        "print('rmse',rmse)\n",
        "print('mse',mse)\n",
        "print('R square:', rsquare)"
      ],
      "execution_count": null,
      "outputs": []
    },
    {
      "cell_type": "code",
      "metadata": {
        "id": "hPoJZb0rkQBK"
      },
      "source": [
        "nn_grid_result.best_params_"
      ],
      "execution_count": null,
      "outputs": []
    },
    {
      "cell_type": "markdown",
      "metadata": {
        "id": "XYQBepI4kQBK"
      },
      "source": [
        "| X_Train_with_dist | Linear - Lasso | Ensemble - Random Forest | Nerual Network | \n",
        "|---|---|---|---|\n",
        "| MSE  | 0 | 0.0180 | 2.49 |\n",
        "| RMSE | 1.362 | 0.647 | 1.58 | \n",
        "| R-Square| 0.0172 | 0.0245 | 0.55 | \n",
        "|Top Features | - | - | NA|"
      ]
    },
    {
      "cell_type": "markdown",
      "metadata": {
        "id": "Dj4PHKWEkQBK"
      },
      "source": [
        "Overall, adding distance features improved all models significantly and hence reccommendation is for future surveys to add in questions regarding main why column to ask distance bins.\n",
        "\n",
        "e.g. select from bins the distance to workplace for each member of the family \n"
      ]
    },
    {
      "cell_type": "code",
      "metadata": {
        "id": "Pby4gmhLkQBK"
      },
      "source": [
        ""
      ],
      "execution_count": null,
      "outputs": []
    }
  ]
}