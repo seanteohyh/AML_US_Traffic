{
 "cells": [
  {
   "cell_type": "markdown",
   "metadata": {},
   "source": [
    "# NY Person Trip Predictor"
   ]
  },
  {
   "cell_type": "code",
   "execution_count": 1,
   "metadata": {},
   "outputs": [],
   "source": [
    "import pandas as pd\n",
    "import numpy as np\n",
    "import datetime\n",
    "import matplotlib.pyplot as plt\n",
    "import seaborn as sns\n",
    "%matplotlib inline\n",
    "from sklearn import model_selection\n",
    "import warnings\n",
    "import math\n",
    "\n",
    "warnings.filterwarnings('ignore')"
   ]
  },
  {
   "cell_type": "code",
   "execution_count": 2,
   "metadata": {},
   "outputs": [],
   "source": [
    "#path = \"C:/Users/Seant/Desktop/aml_data\" #edit this path to change to your path folder\n",
    "\n",
    "path = \"/Users/jayneteo/Dropbox/SMU MITB/Term 2 2021/AML/Project/NHTS/csv\" \n",
    "\n",
    "household = pd.read_csv(\"\".join([path,'/hhpub.csv']))\n",
    "person =  pd.read_csv(\"\".join([path,'/perpub.csv']))\n",
    "trip =  pd.read_csv(\"\".join([path,'/trippub.csv']))\n",
    "\n"
   ]
  },
  {
   "cell_type": "code",
   "execution_count": 3,
   "metadata": {},
   "outputs": [],
   "source": [
    "#for weiji checking\n",
    "#household = pd.read_csv('/Users/weijilim/Downloads/csv/hhpub.csv')\n",
    "#person =  pd.read_csv('/Users/weijilim/Downloads/csv//perpub.csv')\n",
    "#trip =  pd.read_csv('/Users/weijilim/Downloads/csv/trippub.csv')"
   ]
  },
  {
   "cell_type": "code",
   "execution_count": 4,
   "metadata": {},
   "outputs": [],
   "source": [
    "#define function \n",
    "\n",
    "def cat_col_prop(data, col):\n",
    "    print(pd.concat([data[col].value_counts(),\n",
    "          data[col].value_counts(normalize = True).mul(100)],axis = 1, keys = ('counts','percentage')))\n",
    "\n",
    "    sns.countplot(data[col], order =  data[col].value_counts().index)"
   ]
  },
  {
   "cell_type": "markdown",
   "metadata": {},
   "source": [
    "## 1. Merging of Data"
   ]
  },
  {
   "cell_type": "markdown",
   "metadata": {},
   "source": [
    "### 1.1. Household"
   ]
  },
  {
   "cell_type": "code",
   "execution_count": 5,
   "metadata": {},
   "outputs": [],
   "source": [
    "#filtering NY Households\n",
    "ny = household[household['HHSTATE'] == \"NY\"]\n",
    "\n",
    "# as only studying hh with car will also filter out hh with HHVEHCNT == 0\n",
    "ny = ny[ny['HHVEHCNT']>0]"
   ]
  },
  {
   "cell_type": "code",
   "execution_count": 6,
   "metadata": {},
   "outputs": [],
   "source": [
    "# selection of columns based on prior background inference of potential features\n",
    "ny = ny[['HOUSEID','HH_CBSA','HOMEOWN','HHSIZE','HHVEHCNT','HHFAMINC','NUMADLT','YOUNGCHILD','WRKCOUNT','MSACAT','MSASIZE','URBAN','URBANSIZE','URBRUR','LIF_CYC']]"
   ]
  },
  {
   "cell_type": "markdown",
   "metadata": {},
   "source": [
    "### 1.2 Trips"
   ]
  },
  {
   "cell_type": "code",
   "execution_count": 7,
   "metadata": {},
   "outputs": [],
   "source": [
    "ny_trip = trip[trip['HOUSEID'].isin(ny['HOUSEID'])]"
   ]
  },
  {
   "cell_type": "code",
   "execution_count": 8,
   "metadata": {},
   "outputs": [],
   "source": [
    "# selecting trips that were done using either 3.Car, 4.SUV, 5.Van\n",
    "ny_trip = ny_trip[ny_trip['TRPTRANS'].isin([3,4,5])]"
   ]
  },
  {
   "cell_type": "code",
   "execution_count": 9,
   "metadata": {},
   "outputs": [
    {
     "name": "stdout",
     "output_type": "stream",
     "text": [
      "# of trips with dist <=0, 22  out of 87307\n"
     ]
    }
   ],
   "source": [
    "# since only 24 lines with trip distance <= 0, removed lines\n",
    "print('# of trips with dist <=0,', str(sum(ny_trip['TRPMILES']<=0)),' out of', str(len(ny_trip)))\n",
    "ny_trip = ny_trip[ny_trip['TRPMILES']>0]"
   ]
  },
  {
   "cell_type": "code",
   "execution_count": 10,
   "metadata": {},
   "outputs": [
    {
     "name": "stdout",
     "output_type": "stream",
     "text": [
      "84  trips missing TRVLCMIN info so will just remove since only  0.09623646674686373 %\n"
     ]
    }
   ],
   "source": [
    "print(str(sum(ny_trip['TRVLCMIN']<=0)), ' trips missing TRVLCMIN info so will just remove since only ',str(sum(ny_trip['TRVLCMIN']<=0)/len(ny_trip)*100),\"%\")\n",
    "ny_trip = ny_trip[ny_trip['TRVLCMIN']>0]"
   ]
  },
  {
   "cell_type": "code",
   "execution_count": 11,
   "metadata": {},
   "outputs": [
    {
     "data": {
      "image/png": "[encoded data removed]",
      "text/plain": [
       "<Figure size 432x288 with 1 Axes>"
      ]
     },
     "metadata": {
      "needs_background": "light"
     },
     "output_type": "display_data"
    }
   ],
   "source": [
    "#Remove outlier trip miles\n",
    "sns.histplot(ny_trip['TRPMILES'])\n",
    "#ny_trip = ny_trip[ny_trip['TRPMILES']<40]\n",
    "ny_trip = ny_trip[ny_trip['TRPMILES']<100]"
   ]
  },
  {
   "cell_type": "code",
   "execution_count": 12,
   "metadata": {},
   "outputs": [],
   "source": [
    "# Summarise to Person trip counts \n",
    "ny_trip_count = ny_trip[['HOUSEID','PERSONID','TRAVDAY']].groupby(['HOUSEID','PERSONID']).agg('count').reset_index().rename(columns = {'TRAVDAY':'n_trips'})"
   ]
  },
  {
   "cell_type": "code",
   "execution_count": 13,
   "metadata": {},
   "outputs": [
    {
     "data": {
      "text/html": [
       "<div>\n",
       "<style scoped>\n",
       "    .dataframe tbody tr th:only-of-type {\n",
       "        vertical-align: middle;\n",
       "    }\n",
       "\n",
       "    .dataframe tbody tr th {\n",
       "        vertical-align: top;\n",
       "    }\n",
       "\n",
       "    .dataframe thead th {\n",
       "        text-align: right;\n",
       "    }\n",
       "</style>\n",
       "<table border=\"1\" class=\"dataframe\">\n",
       "  <thead>\n",
       "    <tr style=\"text-align: right;\">\n",
       "      <th></th>\n",
       "      <th>HOUSEID</th>\n",
       "      <th>PERSONID</th>\n",
       "      <th>n_trips</th>\n",
       "    </tr>\n",
       "  </thead>\n",
       "  <tbody>\n",
       "    <tr>\n",
       "      <th>0</th>\n",
       "      <td>30000012</td>\n",
       "      <td>1</td>\n",
       "      <td>9</td>\n",
       "    </tr>\n",
       "    <tr>\n",
       "      <th>1</th>\n",
       "      <td>30000082</td>\n",
       "      <td>1</td>\n",
       "      <td>5</td>\n",
       "    </tr>\n",
       "    <tr>\n",
       "      <th>2</th>\n",
       "      <td>30000082</td>\n",
       "      <td>2</td>\n",
       "      <td>5</td>\n",
       "    </tr>\n",
       "    <tr>\n",
       "      <th>3</th>\n",
       "      <td>30000380</td>\n",
       "      <td>1</td>\n",
       "      <td>3</td>\n",
       "    </tr>\n",
       "    <tr>\n",
       "      <th>4</th>\n",
       "      <td>30000380</td>\n",
       "      <td>2</td>\n",
       "      <td>8</td>\n",
       "    </tr>\n",
       "  </tbody>\n",
       "</table>\n",
       "</div>"
      ],
      "text/plain": [
       "    HOUSEID  PERSONID  n_trips\n",
       "0  30000012         1        9\n",
       "1  30000082         1        5\n",
       "2  30000082         2        5\n",
       "3  30000380         1        3\n",
       "4  30000380         2        8"
      ]
     },
     "execution_count": 13,
     "metadata": {},
     "output_type": "execute_result"
    }
   ],
   "source": [
    "ny_trip_count.head()"
   ]
  },
  {
   "cell_type": "code",
   "execution_count": 14,
   "metadata": {},
   "outputs": [
    {
     "data": {
      "text/plain": [
       "3     20107\n",
       "10    17647\n",
       "4     16164\n",
       "1     14051\n",
       "8      6467\n",
       "5      5381\n",
       "6      2746\n",
       "11     2595\n",
       "2      1257\n",
       "99       22\n",
       "Name: WHYTRP90, dtype: int64"
      ]
     },
     "execution_count": 14,
     "metadata": {},
     "output_type": "execute_result"
    }
   ],
   "source": [
    "trips_data = ny_trip[['HOUSEID','PERSONID','WHYTRP90','TRPMILES']]\n",
    "trips_data['WHYTRP90'].value_counts()\n",
    "\n",
    "# top why trips are [3,10,4,1,,8,5]"
   ]
  },
  {
   "cell_type": "code",
   "execution_count": 15,
   "metadata": {},
   "outputs": [],
   "source": [
    "trips_data =trips_data[trips_data['WHYTRP90'].isin([1,10,4,3,8,5])]"
   ]
  },
  {
   "cell_type": "code",
   "execution_count": 16,
   "metadata": {},
   "outputs": [
    {
     "name": "stdout",
     "output_type": "stream",
     "text": [
      "               counts  percentage\n",
      "(-0.001, 1.0]   24049   30.130173\n",
      "(2.0, 5.0]      16890   21.160906\n",
      "(5.0, 11.0]     14795   18.536151\n",
      "(11.0, 99.0]    14614   18.309383\n",
      "(1.0, 2.0]       9469   11.863387\n"
     ]
    },
    {
     "data": {
      "image/png": "[encoded data removed]",
      "text/plain": [
       "<Figure size 432x288 with 1 Axes>"
      ]
     },
     "metadata": {
      "needs_background": "light"
     },
     "output_type": "display_data"
    }
   ],
   "source": [
    "trips_data['round_dist']= trips_data['TRPMILES'].apply(lambda x: math.floor(x))\n",
    "trips_data['trip_dist'] = pd.qcut(trips_data['round_dist'],5)\n",
    "cat_col_prop(trips_data,'trip_dist')"
   ]
  },
  {
   "cell_type": "code",
   "execution_count": 17,
   "metadata": {},
   "outputs": [],
   "source": [
    "trip_summary = trips_data[['HOUSEID','PERSONID','WHYTRP90','trip_dist']].groupby(['HOUSEID','PERSONID','WHYTRP90'])['trip_dist'].apply(pd.Series.mode).reset_index()\n",
    "trip_summary['max_dist'] = trip_summary['trip_dist'].apply(lambda x: x.right)"
   ]
  },
  {
   "cell_type": "code",
   "execution_count": 18,
   "metadata": {},
   "outputs": [],
   "source": [
    "trip_summary = trip_summary[trip_summary.groupby(['HOUSEID','PERSONID','WHYTRP90'])['max_dist'].transform(max) == trip_summary['max_dist']]\n",
    "\n",
    "trip_summary = trip_summary[['HOUSEID','PERSONID','WHYTRP90','trip_dist']]\n"
   ]
  },
  {
   "cell_type": "code",
   "execution_count": 19,
   "metadata": {},
   "outputs": [],
   "source": [
    "pivoted = trip_summary.pivot(index = ['HOUSEID','PERSONID'],\n",
    "                  columns = 'WHYTRP90',\n",
    "                  values = 'trip_dist')\n",
    "\n",
    "trip_why_common = pd.DataFrame(pivoted.to_records()).rename(columns = {'1':'dist_to_work',\n",
    "                                                       '3':'dist_to_shopping',\n",
    "                                                        '4':'dist_to_family',\n",
    "                                                       '5':'dist_to_school_or_church',\n",
    "                                                        '8': 'dist_to_relatives',\n",
    "                                                        '10':'dist_to_social'})\n"
   ]
  },
  {
   "cell_type": "code",
   "execution_count": 20,
   "metadata": {},
   "outputs": [],
   "source": [
    "ny_trip_count = ny_trip_count.merge(trip_why_common, how = 'left',left_on = ['HOUSEID','PERSONID'],right_on = ['HOUSEID','PERSONID'])"
   ]
  },
  {
   "cell_type": "markdown",
   "metadata": {},
   "source": [
    "## 1.3 People"
   ]
  },
  {
   "cell_type": "code",
   "execution_count": 21,
   "metadata": {},
   "outputs": [],
   "source": [
    "# filtering people from New York\n",
    "nyorker = person[person['HOUSEID'].isin(ny['HOUSEID'])]"
   ]
  },
  {
   "cell_type": "code",
   "execution_count": 22,
   "metadata": {},
   "outputs": [],
   "source": [
    "# selection of columns based on prior background inference of potential features\n",
    "nyorker = nyorker[['HOUSEID','PERSONID','R_AGE','EDUC','R_RACE','R_SEX','WRK_HOME','WKFTPT','OCCAT','DRIVER','TRAVDAY']]"
   ]
  },
  {
   "cell_type": "code",
   "execution_count": 23,
   "metadata": {},
   "outputs": [],
   "source": [
    "# merging of Person, Household and Trips to Person\n",
    "df= nyorker.merge(ny_trip_count, how = 'left', left_on = ['HOUSEID','PERSONID'],right_on = ['HOUSEID','PERSONID'])\n",
    "df = df.merge(ny, how = 'left', left_on = 'HOUSEID', right_on = 'HOUSEID')"
   ]
  },
  {
   "cell_type": "code",
   "execution_count": null,
   "metadata": {},
   "outputs": [],
   "source": []
  },
  {
   "cell_type": "code",
   "execution_count": 24,
   "metadata": {},
   "outputs": [
    {
     "data": {
      "image/png": "[encoded data removed]",
      "text/plain": [
       "<Figure size 432x288 with 1 Axes>"
      ]
     },
     "metadata": {
      "needs_background": "light"
     },
     "output_type": "display_data"
    }
   ],
   "source": [
    "# Replace NA trip counts with 0\n",
    "sns.histplot(df['n_trips'])\n",
    "df['n_trips'][df['n_trips'].isna()] = 0\n",
    "#df = df[df['n_trips']>0]\n",
    "df = df[df['n_trips']<10]"
   ]
  },
  {
   "cell_type": "code",
   "execution_count": 25,
   "metadata": {},
   "outputs": [
    {
     "data": {
      "text/plain": [
       "['HOUSEID',\n",
       " 'PERSONID',\n",
       " 'R_AGE',\n",
       " 'EDUC',\n",
       " 'R_RACE',\n",
       " 'R_SEX',\n",
       " 'WRK_HOME',\n",
       " 'WKFTPT',\n",
       " 'OCCAT',\n",
       " 'DRIVER',\n",
       " 'TRAVDAY',\n",
       " 'n_trips',\n",
       " 'dist_to_work',\n",
       " 'dist_to_shopping',\n",
       " 'dist_to_family',\n",
       " 'dist_to_school_or_church',\n",
       " 'dist_to_relatives',\n",
       " 'dist_to_social',\n",
       " 'HH_CBSA',\n",
       " 'HOMEOWN',\n",
       " 'HHSIZE',\n",
       " 'HHVEHCNT',\n",
       " 'HHFAMINC',\n",
       " 'NUMADLT',\n",
       " 'YOUNGCHILD',\n",
       " 'WRKCOUNT',\n",
       " 'MSACAT',\n",
       " 'MSASIZE',\n",
       " 'URBAN',\n",
       " 'URBANSIZE',\n",
       " 'URBRUR',\n",
       " 'LIF_CYC']"
      ]
     },
     "execution_count": 25,
     "metadata": {},
     "output_type": "execute_result"
    }
   ],
   "source": [
    "[c for c in df]"
   ]
  },
  {
   "cell_type": "code",
   "execution_count": 26,
   "metadata": {},
   "outputs": [
    {
     "data": {
      "text/plain": [
       "(31782, 32)"
      ]
     },
     "execution_count": 26,
     "metadata": {},
     "output_type": "execute_result"
    }
   ],
   "source": [
    "df.shape"
   ]
  },
  {
   "cell_type": "markdown",
   "metadata": {},
   "source": [
    "## 2. EDA & Feature Engineering "
   ]
  },
  {
   "cell_type": "markdown",
   "metadata": {},
   "source": [
    "### 2.1. Train, Test, Split"
   ]
  },
  {
   "cell_type": "code",
   "execution_count": 27,
   "metadata": {},
   "outputs": [],
   "source": [
    "x_col = [c for c in df if c not in [\"HOUSEID\",\"PERSONID\",\"n_trips\"]]\n",
    "x_df = df[x_col]\n",
    "y_df = df['n_trips']\n",
    "\n",
    "x_train , x_test, y_train, y_test = model_selection.train_test_split(x_df, y_df, test_size = 0.2, random_state = 888)"
   ]
  },
  {
   "cell_type": "code",
   "execution_count": 28,
   "metadata": {},
   "outputs": [
    {
     "name": "stdout",
     "output_type": "stream",
     "text": [
      "<class 'pandas.core.frame.DataFrame'>\n",
      "Int64Index: 25425 entries, 19406 to 10938\n",
      "Data columns (total 29 columns):\n",
      " #   Column                    Non-Null Count  Dtype            \n",
      "---  ------                    --------------  -----            \n",
      " 0   R_AGE                     25425 non-null  int64            \n",
      " 1   EDUC                      25425 non-null  int64            \n",
      " 2   R_RACE                    25425 non-null  int64            \n",
      " 3   R_SEX                     25425 non-null  int64            \n",
      " 4   WRK_HOME                  25425 non-null  int64            \n",
      " 5   WKFTPT                    25425 non-null  int64            \n",
      " 6   OCCAT                     25425 non-null  int64            \n",
      " 7   DRIVER                    25425 non-null  int64            \n",
      " 8   TRAVDAY                   25425 non-null  int64            \n",
      " 9   dist_to_work              5541 non-null   interval[float64]\n",
      " 10  dist_to_shopping          7272 non-null   interval[float64]\n",
      " 11  dist_to_family            5551 non-null   interval[float64]\n",
      " 12  dist_to_school_or_church  2291 non-null   interval[float64]\n",
      " 13  dist_to_relatives         2679 non-null   interval[float64]\n",
      " 14  dist_to_social            6676 non-null   interval[float64]\n",
      " 15  HH_CBSA                   25425 non-null  object           \n",
      " 16  HOMEOWN                   25425 non-null  int64            \n",
      " 17  HHSIZE                    25425 non-null  int64            \n",
      " 18  HHVEHCNT                  25425 non-null  int64            \n",
      " 19  HHFAMINC                  25425 non-null  int64            \n",
      " 20  NUMADLT                   25425 non-null  int64            \n",
      " 21  YOUNGCHILD                25425 non-null  int64            \n",
      " 22  WRKCOUNT                  25425 non-null  int64            \n",
      " 23  MSACAT                    25425 non-null  int64            \n",
      " 24  MSASIZE                   25425 non-null  int64            \n",
      " 25  URBAN                     25425 non-null  int64            \n",
      " 26  URBANSIZE                 25425 non-null  int64            \n",
      " 27  URBRUR                    25425 non-null  int64            \n",
      " 28  LIF_CYC                   25425 non-null  int64            \n",
      "dtypes: int64(22), interval(6), object(1)\n",
      "memory usage: 7.0+ MB\n"
     ]
    }
   ],
   "source": [
    "x_train.info()"
   ]
  },
  {
   "cell_type": "markdown",
   "metadata": {},
   "source": [
    "### 2.2. Feature Engineering"
   ]
  },
  {
   "cell_type": "markdown",
   "metadata": {},
   "source": [
    "#### Age (R_AGE)"
   ]
  },
  {
   "cell_type": "code",
   "execution_count": 29,
   "metadata": {},
   "outputs": [
    {
     "name": "stdout",
     "output_type": "stream",
     "text": [
      "65 count of people with no age.  0.00029519289720475033 %.\n"
     ]
    },
    {
     "data": {
      "image/png": "[encoded data removed]",
      "text/plain": [
       "<Figure size 432x288 with 1 Axes>"
      ]
     },
     "metadata": {
      "needs_background": "light"
     },
     "output_type": "display_data"
    }
   ],
   "source": [
    "print(str(sum(x_train['R_AGE']<0)), \"count of people with no age. \",str(sum(nyorker['R_AGE']<0)/person.shape[0]),\"%.\")\n",
    "\n",
    "sns.histplot(x_train['R_AGE'])\n",
    "\n",
    "# impute missing values (<0) with mean age\n",
    "mean_age = round(x_train['R_AGE'][x_train['R_AGE']>0].mean())\n",
    "x_train['R_AGE'][x_train['R_AGE']<0] = mean_age\n",
    "x_test['R_AGE'][x_test['R_AGE']<0] = mean_age"
   ]
  },
  {
   "cell_type": "code",
   "execution_count": 30,
   "metadata": {},
   "outputs": [],
   "source": [
    "x_train['AGE_bins']= 'NA'\n",
    "x_train.loc[x_train['R_AGE'].between(5,15,inclusive = True), 'AGE_bins'] = \"5_to_15\"\n",
    "x_train.loc[x_train['R_AGE'].between(16,25,inclusive = True), 'AGE_bins'] = \"16_to_25\"\n",
    "x_train.loc[x_train['R_AGE'].between(26,35,inclusive = True), 'AGE_bins'] = \"26_to_35\"\n",
    "x_train.loc[x_train['R_AGE'].between(36,45,inclusive = True), 'AGE_bins'] = \"36_to_45\"\n",
    "x_train.loc[x_train['R_AGE'].between(46,55,inclusive = True), 'AGE_bins'] = \"46_to_55\"\n",
    "x_train.loc[x_train['R_AGE'].between(56,65,inclusive = True), 'AGE_bins'] = \"56_to_65\"\n",
    "x_train.loc[x_train['R_AGE'].between(66,75,inclusive = True), 'AGE_bins'] = \"66_to_75\"\n",
    "x_train.loc[x_train['R_AGE']>75, 'AGE_bins'] = \"more_than_75\"\n",
    "\n",
    "x_test['AGE_bins']= 'NA'\n",
    "x_test.loc[x_test['R_AGE'].between(5,15,inclusive = True), 'AGE_bins'] = \"5_to_15\"\n",
    "x_test.loc[x_test['R_AGE'].between(16,25,inclusive = True), 'AGE_bins'] = \"16_to_25\"\n",
    "x_test.loc[x_test['R_AGE'].between(26,35,inclusive = True), 'AGE_bins'] = \"26_to_35\"\n",
    "x_test.loc[x_test['R_AGE'].between(36,45,inclusive = True), 'AGE_bins'] = \"36_to_45\"\n",
    "x_test.loc[x_test['R_AGE'].between(46,55,inclusive = True), 'AGE_bins'] = \"46_to_55\"\n",
    "x_test.loc[x_test['R_AGE'].between(56,65,inclusive = True), 'AGE_bins'] = \"56_to_65\"\n",
    "x_test.loc[x_test['R_AGE'].between(66,75,inclusive = True), 'AGE_bins'] = \"66_to_75\"\n",
    "x_test.loc[x_test['R_AGE']>75, 'AGE_bins'] = \"more_than_75\"\n"
   ]
  },
  {
   "cell_type": "code",
   "execution_count": 31,
   "metadata": {},
   "outputs": [
    {
     "name": "stdout",
     "output_type": "stream",
     "text": [
      "              counts  percentage\n",
      "56_to_65        5534   21.765978\n",
      "66_to_75        4356   17.132743\n",
      "46_to_55        3724   14.647001\n",
      "5_to_15         2491    9.797443\n",
      "26_to_35        2466    9.699115\n",
      "36_to_45        2436    9.581121\n",
      "more_than_75    2322    9.132743\n",
      "16_to_25        2096    8.243854\n"
     ]
    },
    {
     "data": {
      "image/png": "[encoded data removed]",
      "text/plain": [
       "<Figure size 432x288 with 1 Axes>"
      ]
     },
     "metadata": {
      "needs_background": "light"
     },
     "output_type": "display_data"
    }
   ],
   "source": [
    "cat_col_prop(x_train,'AGE_bins')"
   ]
  },
  {
   "cell_type": "markdown",
   "metadata": {},
   "source": [
    "#### Educational Attainment (EDUC)"
   ]
  },
  {
   "cell_type": "code",
   "execution_count": 32,
   "metadata": {},
   "outputs": [
    {
     "name": "stdout",
     "output_type": "stream",
     "text": [
      "    counts  percentage\n",
      " 3    6293   24.751229\n",
      " 5    5612   22.072763\n",
      " 2    4965   19.528024\n",
      " 4    4870   19.154376\n",
      "-1    2002    7.874140\n",
      " 1    1668    6.560472\n",
      "-7      10    0.039331\n",
      "-8       5    0.019666\n"
     ]
    },
    {
     "data": {
      "image/png": "[encoded data removed]",
      "text/plain": [
       "<Figure size 432x288 with 1 Axes>"
      ]
     },
     "metadata": {
      "needs_background": "light"
     },
     "output_type": "display_data"
    }
   ],
   "source": [
    "cat_col_prop(x_train,'EDUC')\n",
    "# approx 8% missing values (<0). To take note of but will addresss in one-hot encoding"
   ]
  },
  {
   "cell_type": "markdown",
   "metadata": {},
   "source": [
    "#### Race (R_RACE)"
   ]
  },
  {
   "cell_type": "code",
   "execution_count": 33,
   "metadata": {},
   "outputs": [
    {
     "name": "stdout",
     "output_type": "stream",
     "text": [
      "     counts  percentage\n",
      " 1    22734   89.415929\n",
      " 3      834    3.280236\n",
      " 2      794    3.122911\n",
      " 6      530    2.084562\n",
      " 97     323    1.270403\n",
      "-7      113    0.444444\n",
      " 4       69    0.271386\n",
      " 5       14    0.055064\n",
      "-8       14    0.055064\n"
     ]
    },
    {
     "data": {
      "image/png": "[encoded data removed]",
      "text/plain": [
       "<Figure size 432x288 with 1 Axes>"
      ]
     },
     "metadata": {
      "needs_background": "light"
     },
     "output_type": "display_data"
    }
   ],
   "source": [
    "cat_col_prop(x_train,'R_RACE')\n",
    "# approx 1% missing values (<0). To take note of but will address in one-hot encoding\n",
    "# Significant proportion of members 'white'"
   ]
  },
  {
   "cell_type": "markdown",
   "metadata": {},
   "source": [
    "#### Gender (R_SEX)"
   ]
  },
  {
   "cell_type": "code",
   "execution_count": 34,
   "metadata": {},
   "outputs": [
    {
     "name": "stdout",
     "output_type": "stream",
     "text": [
      "    counts  percentage\n",
      " 2   13302   52.318584\n",
      " 1   12098   47.583088\n",
      "-7      21    0.082596\n",
      "-8       4    0.015733\n"
     ]
    },
    {
     "data": {
      "image/png": "[encoded data removed]",
      "text/plain": [
       "<Figure size 432x288 with 1 Axes>"
      ]
     },
     "metadata": {
      "needs_background": "light"
     },
     "output_type": "display_data"
    }
   ],
   "source": [
    "cat_col_prop(x_train, 'R_SEX')\n",
    "# <1% missing values. To take note but will be addressed in one-hot encoding"
   ]
  },
  {
   "cell_type": "markdown",
   "metadata": {},
   "source": [
    "#### Work From Home (WRK_HOME)"
   ]
  },
  {
   "cell_type": "code",
   "execution_count": 35,
   "metadata": {},
   "outputs": [
    {
     "name": "stdout",
     "output_type": "stream",
     "text": [
      "    counts  percentage\n",
      "-1   12738   50.100295\n",
      " 2   10825   42.576205\n",
      " 1    1371    5.392330\n",
      "-9     490    1.927237\n",
      "-7       1    0.003933\n"
     ]
    },
    {
     "data": {
      "image/png": "[encoded data removed]",
      "text/plain": [
       "<Figure size 432x288 with 1 Axes>"
      ]
     },
     "metadata": {
      "needs_background": "light"
     },
     "output_type": "display_data"
    }
   ],
   "source": [
    "cat_col_prop(x_train,'WRK_HOME')\n",
    "# Significant proportion -1 (50%) which is the appropriate skip (due to not working) - to address in one-hot"
   ]
  },
  {
   "cell_type": "markdown",
   "metadata": {},
   "source": [
    "#### Work - Part Time or Full Time (WKFTPT)"
   ]
  },
  {
   "cell_type": "code",
   "execution_count": 36,
   "metadata": {},
   "outputs": [
    {
     "name": "stdout",
     "output_type": "stream",
     "text": [
      "    counts  percentage\n",
      "-1   13228   52.027532\n",
      " 1    9442   37.136676\n",
      " 2    2747   10.804326\n",
      "-7       6    0.023599\n",
      "-8       2    0.007866\n"
     ]
    },
    {
     "data": {
      "image/png": "[encoded data removed]",
      "text/plain": [
       "<Figure size 432x288 with 1 Axes>"
      ]
     },
     "metadata": {
      "needs_background": "light"
     },
     "output_type": "display_data"
    }
   ],
   "source": [
    "cat_col_prop(x_train,'WKFTPT')\n",
    "# Significant proportion -1 (52%) which is the appropriate skip (due to not working) - to address in one-hot"
   ]
  },
  {
   "cell_type": "markdown",
   "metadata": {},
   "source": [
    "#### Job Category (OCCAT)"
   ]
  },
  {
   "cell_type": "code",
   "execution_count": 37,
   "metadata": {},
   "outputs": [
    {
     "name": "stdout",
     "output_type": "stream",
     "text": [
      "     counts  percentage\n",
      "-1    12738   50.100295\n",
      " 4     6694   26.328417\n",
      " 1     2585   10.167158\n",
      " 3     1482    5.828909\n",
      " 2     1415    5.565388\n",
      "-9      490    1.927237\n",
      " 97      15    0.058997\n",
      "-8        4    0.015733\n",
      "-7        2    0.007866\n"
     ]
    },
    {
     "data": {
      "image/png": "[encoded data removed]",
      "text/plain": [
       "<Figure size 432x288 with 1 Axes>"
      ]
     },
     "metadata": {
      "needs_background": "light"
     },
     "output_type": "display_data"
    }
   ],
   "source": [
    "cat_col_prop(x_train,'OCCAT')\n",
    "# Significant proportion -1 (50%) which is the appropriate skip (due to not working) - to address in one-hot"
   ]
  },
  {
   "cell_type": "markdown",
   "metadata": {},
   "source": [
    "#### Driver Status (DRIVER)"
   ]
  },
  {
   "cell_type": "code",
   "execution_count": 38,
   "metadata": {},
   "outputs": [
    {
     "name": "stdout",
     "output_type": "stream",
     "text": [
      "    counts  percentage\n",
      " 1   21439   84.322517\n",
      "-1    2265    8.908555\n",
      " 2    1721    6.768928\n"
     ]
    },
    {
     "data": {
      "text/plain": [
       "<AxesSubplot:xlabel='DRIVER', ylabel='AGE_bins'>"
      ]
     },
     "execution_count": 38,
     "metadata": {},
     "output_type": "execute_result"
    },
    {
     "data": {
      "image/png": "[encoded data removed]",
      "text/plain": [
       "<Figure size 432x288 with 1 Axes>"
      ]
     },
     "metadata": {
      "needs_background": "light"
     },
     "output_type": "display_data"
    }
   ],
   "source": [
    "cat_col_prop(x_train,'DRIVER')\n",
    "\n",
    "#Significant proportion -1 (8.7%) (due to too young) - to address in one-hot encoding\n",
    "sns.boxplot(data = x_train, x='DRIVER',y='AGE_bins')"
   ]
  },
  {
   "cell_type": "markdown",
   "metadata": {},
   "source": [
    "#### Travel Day (TRAVDAY)"
   ]
  },
  {
   "cell_type": "code",
   "execution_count": 39,
   "metadata": {},
   "outputs": [
    {
     "name": "stdout",
     "output_type": "stream",
     "text": [
      "   counts  percentage\n",
      "1    3763   14.800393\n",
      "2    3720   14.631268\n",
      "7    3716   14.615536\n",
      "5    3636   14.300885\n",
      "6    3574   14.057030\n",
      "3    3547   13.950836\n",
      "4    3469   13.644051\n"
     ]
    },
    {
     "data": {
      "image/png": "[encoded data removed]",
      "text/plain": [
       "<Figure size 432x288 with 1 Axes>"
      ]
     },
     "metadata": {
      "needs_background": "light"
     },
     "output_type": "display_data"
    }
   ],
   "source": [
    "cat_col_prop(x_train,'TRAVDAY')"
   ]
  },
  {
   "cell_type": "markdown",
   "metadata": {},
   "source": [
    "#### Core Based Statiscal Area FIPS code (HH_CBSA)"
   ]
  },
  {
   "cell_type": "code",
   "execution_count": 40,
   "metadata": {},
   "outputs": [
    {
     "name": "stdout",
     "output_type": "stream",
     "text": [
      "       counts  percentage\n",
      "XXXXX   15006   59.020649\n",
      "35620    7719   30.359882\n",
      "40380    1467    5.769912\n",
      "15380    1233    4.849558\n"
     ]
    },
    {
     "data": {
      "image/png": "[encoded data removed]",
      "text/plain": [
       "<Figure size 432x288 with 1 Axes>"
      ]
     },
     "metadata": {
      "needs_background": "light"
     },
     "output_type": "display_data"
    }
   ],
   "source": [
    "#Core Based Statistical Area (CBSA) FIPS code for the respondent's home address\n",
    "\n",
    "cat_col_prop(x_train,'HH_CBSA')\n",
    "\n",
    "# significant number of households under the 'XXXXX=Suppressed, in an MSA of less than 1 million ' category"
   ]
  },
  {
   "cell_type": "markdown",
   "metadata": {},
   "source": [
    "####  Home Ownership (HOMEOWN)"
   ]
  },
  {
   "cell_type": "code",
   "execution_count": 41,
   "metadata": {},
   "outputs": [
    {
     "name": "stdout",
     "output_type": "stream",
     "text": [
      "     counts  percentage\n",
      " 1    21452   84.373648\n",
      " 2     3776   14.851524\n",
      " 97     196    0.770895\n",
      "-7        1    0.003933\n"
     ]
    },
    {
     "data": {
      "image/png": "[encoded data removed]",
      "text/plain": [
       "<Figure size 432x288 with 1 Axes>"
      ]
     },
     "metadata": {
      "needs_background": "light"
     },
     "output_type": "display_data"
    }
   ],
   "source": [
    "cat_col_prop(x_train,'HOMEOWN')\n",
    "#Small count with missing value 2. to address in one-hot encoding"
   ]
  },
  {
   "cell_type": "markdown",
   "metadata": {},
   "source": [
    "#### Household Vehicle Count (HHVEHCNT)"
   ]
  },
  {
   "cell_type": "code",
   "execution_count": 42,
   "metadata": {},
   "outputs": [
    {
     "name": "stdout",
     "output_type": "stream",
     "text": [
      "    counts  percentage\n",
      "2    11356   44.664700\n",
      "1     6591   25.923304\n",
      "3     4623   18.182891\n",
      "4     1829    7.193707\n",
      "5      662    2.603736\n",
      "6      245    0.963618\n",
      "7       80    0.314651\n",
      "8       22    0.086529\n",
      "11       9    0.035398\n",
      "9        6    0.023599\n",
      "12       2    0.007866\n",
      "________\n",
      "new HHVEHCNT\n",
      "    counts  percentage\n",
      "2    11356   44.664700\n",
      "1     6591   25.923304\n",
      "3     4623   18.182891\n",
      ">3    2855   11.229105\n"
     ]
    },
    {
     "data": {
      "image/png": "[encoded data removed]",
      "text/plain": [
       "<Figure size 432x288 with 1 Axes>"
      ]
     },
     "metadata": {
      "needs_background": "light"
     },
     "output_type": "display_data"
    }
   ],
   "source": [
    "#count of household vehicles\n",
    "\n",
    "cat_col_prop(x_train,'HHVEHCNT')\n",
    "\n",
    "# as group size significantly smaller from 4 and above to bin to a single group\n",
    "\n",
    "x_train['HHVEHCNT'][x_train['HHVEHCNT']>3] = \">3\"\n",
    "x_test['HHVEHCNT'][x_test['HHVEHCNT']>3] = \">3\"\n",
    "\n",
    "print(\"________\")\n",
    "print(\"new HHVEHCNT\")\n",
    "print(pd.concat([x_train['HHVEHCNT'].value_counts(),\n",
    "          x_train['HHVEHCNT'].value_counts(normalize = True).mul(100)],axis = 1, keys = ('counts','percentage'))\n",
    "    )"
   ]
  },
  {
   "cell_type": "markdown",
   "metadata": {},
   "source": [
    "#### Family Income (HHFAMINC)"
   ]
  },
  {
   "cell_type": "code",
   "execution_count": 43,
   "metadata": {},
   "outputs": [
    {
     "name": "stdout",
     "output_type": "stream",
     "text": [
      "     counts  percentage\n",
      " 6     4580   18.013766\n",
      " 7     3829   15.059980\n",
      " 8     3144   12.365782\n",
      " 5     2664   10.477876\n",
      " 4     1974    7.764012\n",
      " 11    1874    7.370698\n",
      " 9     1860    7.315634\n",
      " 10    1780    7.000983\n",
      " 3     1590    6.253687\n",
      "-7      742    2.918387\n",
      " 2      732    2.879056\n",
      " 1      557    2.190757\n",
      "-8       97    0.381514\n",
      "-9        2    0.007866\n"
     ]
    },
    {
     "data": {
      "image/png": "[encoded data removed]",
      "text/plain": [
       "<Figure size 432x288 with 1 Axes>"
      ]
     },
     "metadata": {
      "needs_background": "light"
     },
     "output_type": "display_data"
    }
   ],
   "source": [
    "cat_col_prop(x_train,'HHFAMINC')\n",
    "# approx 3% missing (<0) to address in one-hot encoding"
   ]
  },
  {
   "cell_type": "markdown",
   "metadata": {},
   "source": [
    "#### Adult Ratio  (NUMADLT)"
   ]
  },
  {
   "cell_type": "code",
   "execution_count": 44,
   "metadata": {},
   "outputs": [
    {
     "name": "stdout",
     "output_type": "stream",
     "text": [
      "    counts  percentage\n",
      "2    16118   63.394297\n",
      "1     4266   16.778761\n",
      "3     3501   13.769912\n",
      "4     1192    4.688299\n",
      "5      286    1.124877\n",
      "6       38    0.149459\n",
      "7       11    0.043265\n",
      "10       7    0.027532\n",
      "8        6    0.023599\n"
     ]
    },
    {
     "data": {
      "image/png": "[encoded data removed]",
      "text/plain": [
       "<Figure size 432x288 with 1 Axes>"
      ]
     },
     "metadata": {
      "needs_background": "light"
     },
     "output_type": "display_data"
    }
   ],
   "source": [
    "cat_col_prop(x_train, 'NUMADLT')\n",
    "#no missing values"
   ]
  },
  {
   "cell_type": "code",
   "execution_count": 45,
   "metadata": {},
   "outputs": [
    {
     "name": "stdout",
     "output_type": "stream",
     "text": [
      "Before\n",
      "          counts  percentage\n",
      "1.000000   17591   69.187807\n",
      "0.500000    2802   11.020649\n",
      "0.666667    1929    7.587021\n",
      "0.400000     895    3.520157\n",
      "0.750000     656    2.580138\n",
      "0.333333     509    2.001967\n",
      "0.600000     378    1.486726\n",
      "0.800000     213    0.837758\n",
      "0.250000      93    0.365782\n",
      "0.285714      78    0.306785\n",
      "0.714286      53    0.208456\n",
      "0.833333      42    0.165192\n",
      "0.428571      40    0.157325\n",
      "0.571429      34    0.133727\n",
      "0.375000      20    0.078663\n",
      "0.222222      17    0.066863\n",
      "0.625000      17    0.066863\n",
      "0.200000      15    0.058997\n",
      "0.444444      11    0.043265\n",
      "0.166667      10    0.039331\n",
      "0.700000       7    0.027532\n",
      "0.142857       6    0.023599\n",
      "0.857143       5    0.019666\n",
      "0.363636       4    0.015733\n",
      "\n",
      "After\n",
      "               counts  percentage\n",
      "1               17591   69.187807\n",
      "more_than_0.5    6136   24.133727\n",
      "less_than_0.5    1698    6.678466\n"
     ]
    },
    {
     "data": {
      "image/png": "[encoded data removed]",
      "text/plain": [
       "<Figure size 432x288 with 1 Axes>"
      ]
     },
     "metadata": {
      "needs_background": "light"
     },
     "output_type": "display_data"
    }
   ],
   "source": [
    "#Convert against proportion of Household size\n",
    "x_train['NUMADLT'] = x_train['NUMADLT']/x_train['HHSIZE']\n",
    "x_test['NUMADLT'] = x_test['NUMADLT']/x_test['HHSIZE']\n",
    "print('Before')\n",
    "cat_col_prop(x_train,'NUMADLT')\n",
    "#significant number of varying factors\n",
    "#to bin into groups\n",
    "x_train['NUMADLT_ratio'] = 'NA'\n",
    "x_train.loc[x_train['NUMADLT']==0, 'NUMADLT_ratio'] = '0'\n",
    "x_train.loc[x_train['NUMADLT'].between(0,0.5,inclusive = False),'NUMADLT_ratio'] = 'less_than_0.5'\n",
    "x_train.loc[x_train['NUMADLT'].between(0.5,1, inclusive = True),'NUMADLT_ratio'] = 'more_than_0.5'\n",
    "x_train.loc[x_train['NUMADLT']==1,'NUMADLT_ratio'] ='1'\n",
    "print('')\n",
    "print('After')\n",
    "cat_col_prop(x_train,'NUMADLT_ratio')\n",
    "\n",
    "\n",
    "x_test['NUMADLT_ratio'] = 'NA'\n",
    "x_test.loc[x_test['NUMADLT']==0, 'NUMADLT_ratio'] = '0'\n",
    "x_test.loc[x_test['NUMADLT'].between(0,0.5,inclusive = False),'NUMADLT_ratio'] = 'less_than_0.5'\n",
    "x_test.loc[x_test['NUMADLT'].between(0.5,1, inclusive = True),'NUMADLT_ratio'] = 'more_than_0.5'\n",
    "x_test.loc[x_test['NUMADLT']==1,'NUMADLT_ratio'] ='1'"
   ]
  },
  {
   "cell_type": "markdown",
   "metadata": {},
   "source": [
    "#### Young Child Ratio (YOUNGCHILD)"
   ]
  },
  {
   "cell_type": "code",
   "execution_count": 46,
   "metadata": {},
   "outputs": [
    {
     "name": "stdout",
     "output_type": "stream",
     "text": [
      "   counts  percentage\n",
      "0   23182   91.177974\n",
      "1    1671    6.572271\n",
      "2     518    2.037365\n",
      "3      49    0.192724\n",
      "5       4    0.015733\n",
      "4       1    0.003933\n"
     ]
    },
    {
     "data": {
      "image/png": "[encoded data removed]",
      "text/plain": [
       "<Figure size 432x288 with 1 Axes>"
      ]
     },
     "metadata": {
      "needs_background": "light"
     },
     "output_type": "display_data"
    }
   ],
   "source": [
    "cat_col_prop(x_train,'YOUNGCHILD')"
   ]
  },
  {
   "cell_type": "code",
   "execution_count": 47,
   "metadata": {},
   "outputs": [
    {
     "name": "stdout",
     "output_type": "stream",
     "text": [
      "               counts  percentage\n",
      "0               23182   91.177974\n",
      "less_than_0.5    1938    7.622419\n",
      "more_than_0.5     305    1.199607\n"
     ]
    },
    {
     "data": {
      "image/png": "[encoded data removed]",
      "text/plain": [
       "<Figure size 432x288 with 1 Axes>"
      ]
     },
     "metadata": {
      "needs_background": "light"
     },
     "output_type": "display_data"
    }
   ],
   "source": [
    "#Convert against proportion of Household size\n",
    "\n",
    "x_train['YOUNGCHILD'] = x_train['YOUNGCHILD']/x_train['HHSIZE']\n",
    "x_test['YOUNGCHILD'] = x_test['YOUNGCHILD']/x_test['HHSIZE']\n",
    "\n",
    "#Bin to groups\n",
    "x_train['YOUNGCHILD_ratio'] = 'NA'\n",
    "x_train.loc[x_train['YOUNGCHILD']==0,'YOUNGCHILD_ratio']= '0'\n",
    "x_train.loc[x_train['YOUNGCHILD'].between(0,0.5,inclusive = False),'YOUNGCHILD_ratio'] = 'less_than_0.5'\n",
    "x_train.loc[x_train['YOUNGCHILD'].between(0.5,1, inclusive = True),'YOUNGCHILD_ratio'] = 'more_than_0.5'\n",
    "x_train.loc[x_train['YOUNGCHILD']==1,'YOUNGCHILD_ratio'] ='1'\n",
    " \n",
    "\n",
    "cat_col_prop(x_train,'YOUNGCHILD_ratio')    \n",
    "\n",
    "x_test['YOUNGCHILD_ratio'] = 'NA'\n",
    "x_test.loc[x_test['YOUNGCHILD']==0,'YOUNGCHILD_ratio']= '0'\n",
    "x_test.loc[x_test['YOUNGCHILD'].between(0,0.5,inclusive = False),'YOUNGCHILD_ratio'] = 'less_than_0.5'\n",
    "x_test.loc[x_test['YOUNGCHILD'].between(0.5,1, inclusive = True),'YOUNGCHILD_ratio'] = 'more_than_0.5'\n",
    "x_test.loc[x_test['YOUNGCHILD']==1,'YOUNGCHILD_ratio'] ='1'\n",
    " \n"
   ]
  },
  {
   "cell_type": "markdown",
   "metadata": {},
   "source": [
    "#### Worker Count Proportion (WRKCOUNT)"
   ]
  },
  {
   "cell_type": "code",
   "execution_count": 48,
   "metadata": {},
   "outputs": [
    {
     "name": "stdout",
     "output_type": "stream",
     "text": [
      "   counts  percentage\n",
      "2    8775   34.513274\n",
      "1    7693   30.257620\n",
      "0    6707   26.379548\n",
      "3    1671    6.572271\n",
      "4     513    2.017699\n",
      "5      55    0.216323\n",
      "7       6    0.023599\n",
      "6       5    0.019666\n"
     ]
    },
    {
     "data": {
      "image/png": "[encoded data removed]",
      "text/plain": [
       "<Figure size 432x288 with 1 Axes>"
      ]
     },
     "metadata": {
      "needs_background": "light"
     },
     "output_type": "display_data"
    }
   ],
   "source": [
    "cat_col_prop(x_train,'WRKCOUNT')"
   ]
  },
  {
   "cell_type": "code",
   "execution_count": 49,
   "metadata": {},
   "outputs": [
    {
     "name": "stdout",
     "output_type": "stream",
     "text": [
      "               counts  percentage\n",
      "more_than_0.5    8284   32.582104\n",
      "0                6707   26.379548\n",
      "1                6416   25.235005\n",
      "less_than_0.5    4018   15.803343\n"
     ]
    },
    {
     "data": {
      "image/png": "[encoded data removed]",
      "text/plain": [
       "<Figure size 432x288 with 1 Axes>"
      ]
     },
     "metadata": {
      "needs_background": "light"
     },
     "output_type": "display_data"
    }
   ],
   "source": [
    "#Convert against proportion of Household size\n",
    "\n",
    "x_train['WRKCOUNT'] = x_train['WRKCOUNT']/x_train['HHSIZE']\n",
    "x_test['WRKCOUNT'] = x_test['WRKCOUNT']/x_test['HHSIZE']\n",
    "\n",
    "#Bin to groups\n",
    "x_train['WRKCOUNT_ratio'] = 'NA'\n",
    "x_train.loc[x_train['WRKCOUNT']==0,'WRKCOUNT_ratio']= '0'\n",
    "x_train.loc[x_train['WRKCOUNT'].between(0,0.5,inclusive = False),'WRKCOUNT_ratio'] = 'less_than_0.5'\n",
    "x_train.loc[x_train['WRKCOUNT'].between(0.5,1, inclusive = True),'WRKCOUNT_ratio'] = 'more_than_0.5'\n",
    "x_train.loc[x_train['WRKCOUNT']==1,'WRKCOUNT_ratio'] ='1'\n",
    "\n",
    "cat_col_prop(x_train,'WRKCOUNT_ratio')\n",
    "\n",
    "x_test['WRKCOUNT_ratio'] = 'NA'\n",
    "x_test.loc[x_test['WRKCOUNT']==0,'WRKCOUNT_ratio']= '0'\n",
    "x_test.loc[x_test['WRKCOUNT'].between(0,0.5,inclusive = False),'WRKCOUNT_ratio'] = 'less_than_0.5'\n",
    "x_test.loc[x_test['WRKCOUNT'].between(0.5,1, inclusive = True),'WRKCOUNT_ratio'] = 'more_than_0.5'\n",
    "x_test.loc[x_test['WRKCOUNT']==1,'WRKCOUNT_ratio'] ='1'\n",
    "\n",
    " "
   ]
  },
  {
   "cell_type": "markdown",
   "metadata": {},
   "source": [
    "#### Household Size (HHSIZE)"
   ]
  },
  {
   "cell_type": "code",
   "execution_count": 50,
   "metadata": {},
   "outputs": [
    {
     "name": "stdout",
     "output_type": "stream",
     "text": [
      "Before\n",
      "    counts  percentage\n",
      "2    10847   42.662734\n",
      "3     4371   17.191740\n",
      "4     3952   15.543756\n",
      "1     3675   14.454277\n",
      "5     1663    6.540806\n",
      "6      537    2.112094\n",
      "7      220    0.865290\n",
      "8       91    0.357915\n",
      "9       39    0.153392\n",
      "10      26    0.102262\n",
      "11       4    0.015733\n",
      "\n",
      "After\n",
      "         counts  percentage\n",
      "2         10847   42.662734\n",
      "above_3    6532   25.691249\n",
      "3          4371   17.191740\n",
      "1          3675   14.454277\n"
     ]
    },
    {
     "data": {
      "image/png": "[encoded data removed]",
      "text/plain": [
       "<Figure size 432x288 with 1 Axes>"
      ]
     },
     "metadata": {
      "needs_background": "light"
     },
     "output_type": "display_data"
    }
   ],
   "source": [
    "#count of household members\n",
    "print(\"Before\")\n",
    "cat_col_prop(x_train,'HHSIZE')\n",
    "\n",
    "# to bin tail HHSIZE\n",
    "\n",
    "x_train['HHSIZE'][x_train['HHSIZE']>3] = \"above_3\"\n",
    "\n",
    "print(\"\")\n",
    "print(\"After\")\n",
    "\n",
    "cat_col_prop(x_train,'HHSIZE')\n",
    "\n",
    "x_test['HHSIZE'][x_test['HHSIZE']>3] = \" above_3\""
   ]
  },
  {
   "cell_type": "markdown",
   "metadata": {},
   "source": [
    "#### Metropolitan Statistical Area (MSACAT)\n"
   ]
  },
  {
   "cell_type": "code",
   "execution_count": 51,
   "metadata": {},
   "outputs": [
    {
     "name": "stdout",
     "output_type": "stream",
     "text": [
      "   counts  percentage\n",
      "3   10912   42.918387\n",
      "1    7719   30.359882\n",
      "4    4094   16.102262\n",
      "2    2700   10.619469\n"
     ]
    },
    {
     "data": {
      "image/png": "[encoded data removed]",
      "text/plain": [
       "<Figure size 432x288 with 1 Axes>"
      ]
     },
     "metadata": {
      "needs_background": "light"
     },
     "output_type": "display_data"
    }
   ],
   "source": [
    "cat_col_prop(x_train,'MSACAT')\n",
    "             \n",
    "#no missing values and relatively proportional distribution"
   ]
  },
  {
   "cell_type": "markdown",
   "metadata": {},
   "source": [
    "#### Population size of MSA (MSASIZE)"
   ]
  },
  {
   "cell_type": "code",
   "execution_count": 52,
   "metadata": {},
   "outputs": [
    {
     "name": "stdout",
     "output_type": "stream",
     "text": [
      "   counts  percentage\n",
      "5    7719   30.359882\n",
      "1    6322   24.865290\n",
      "6    4094   16.102262\n",
      "3    3471   13.651917\n",
      "4    2700   10.619469\n",
      "2    1119    4.401180\n"
     ]
    },
    {
     "data": {
      "image/png": "[encoded data removed]",
      "text/plain": [
       "<Figure size 432x288 with 1 Axes>"
      ]
     },
     "metadata": {
      "needs_background": "light"
     },
     "output_type": "display_data"
    }
   ],
   "source": [
    "cat_col_prop(x_train,'MSASIZE')\n",
    "             \n",
    "#no missing values and relatively proportional distribution"
   ]
  },
  {
   "cell_type": "markdown",
   "metadata": {},
   "source": [
    "#### House in Urban or Rural Area (URBAN)"
   ]
  },
  {
   "cell_type": "code",
   "execution_count": 53,
   "metadata": {},
   "outputs": [
    {
     "name": "stdout",
     "output_type": "stream",
     "text": [
      "Before\n",
      "   counts  percentage\n",
      "1   14285   56.184857\n",
      "4    8638   33.974435\n",
      "2    2497    9.821042\n",
      "3       5    0.019666\n",
      "\n",
      "After\n",
      "       counts  percentage\n",
      "urban   16782     66.0059\n",
      "rural    8643     33.9941\n"
     ]
    },
    {
     "data": {
      "image/png": "[encoded data removed]",
      "text/plain": [
       "<Figure size 432x288 with 1 Axes>"
      ]
     },
     "metadata": {
      "needs_background": "light"
     },
     "output_type": "display_data"
    }
   ],
   "source": [
    "print('Before')\n",
    "cat_col_prop(x_train,'URBAN')\n",
    "\n",
    "# combine 1 and 2 (in an urban area and in an urban cluster ) & combine 3 and 4 (surround by urban and not in urban)\n",
    "\n",
    "x_train['URBAN'][x_train['URBAN'].isin([1,2])] = 'urban'\n",
    "x_train['URBAN'][x_train['URBAN'].isin([3,4])] = 'rural'\n",
    "\n",
    "print(\"\")\n",
    "print('After')\n",
    "\n",
    "cat_col_prop(x_train, 'URBAN')\n",
    "\n",
    "x_test['URBAN'][x_test['URBAN'].isin([1,2])] = 'urban'\n",
    "x_test['URBAN'][x_test['URBAN'].isin([3,4])] = 'rural'"
   ]
  },
  {
   "cell_type": "markdown",
   "metadata": {},
   "source": [
    "#### URBANSIZE"
   ]
  },
  {
   "cell_type": "code",
   "execution_count": 54,
   "metadata": {},
   "outputs": [
    {
     "name": "stdout",
     "output_type": "stream",
     "text": [
      "   counts  percentage\n",
      "6   11140   43.815143\n",
      "5    4990   19.626352\n",
      "1    3821   15.028515\n",
      "3    2868   11.280236\n",
      "2    2606   10.249754\n"
     ]
    },
    {
     "data": {
      "image/png": "[encoded data removed]",
      "text/plain": [
       "<Figure size 432x288 with 1 Axes>"
      ]
     },
     "metadata": {
      "needs_background": "light"
     },
     "output_type": "display_data"
    }
   ],
   "source": [
    "#06 = not in an urbanised area \n",
    "#05 - 1 million with heavy rail \n",
    "\n",
    "#Relatively proportional classes\n",
    "cat_col_prop(x_train,'URBANSIZE')"
   ]
  },
  {
   "cell_type": "markdown",
   "metadata": {},
   "source": [
    "#### URBRUR"
   ]
  },
  {
   "cell_type": "code",
   "execution_count": 55,
   "metadata": {},
   "outputs": [
    {
     "name": "stdout",
     "output_type": "stream",
     "text": [
      "   counts  percentage\n",
      "1   16782     66.0059\n",
      "2    8643     33.9941\n"
     ]
    },
    {
     "data": {
      "image/png": "[encoded data removed]",
      "text/plain": [
       "<Figure size 432x288 with 1 Axes>"
      ]
     },
     "metadata": {
      "needs_background": "light"
     },
     "output_type": "display_data"
    }
   ],
   "source": [
    "cat_col_prop(x_train,'URBRUR')\n",
    "# missing values nor disproportion"
   ]
  },
  {
   "cell_type": "markdown",
   "metadata": {},
   "source": [
    "#### LIF_CYC "
   ]
  },
  {
   "cell_type": "code",
   "execution_count": 56,
   "metadata": {},
   "outputs": [
    {
     "name": "stdout",
     "output_type": "stream",
     "text": [
      "    counts  percentage\n",
      "10    7019   27.606686\n",
      "2     5796   22.796460\n",
      "6     3870   15.221239\n",
      "4     2543   10.001967\n",
      "1     1937    7.618486\n",
      "9     1738    6.835792\n",
      "8     1693    6.658800\n",
      "5      460    1.809243\n",
      "7      211    0.829892\n",
      "3      158    0.621436\n"
     ]
    },
    {
     "data": {
      "image/png": "[encoded data removed]",
      "text/plain": [
       "<Figure size 432x288 with 1 Axes>"
      ]
     },
     "metadata": {
      "needs_background": "light"
     },
     "output_type": "display_data"
    }
   ],
   "source": [
    "cat_col_prop(x_train,\"LIF_CYC\")\n",
    "\n",
    "# No major disproportion"
   ]
  },
  {
   "cell_type": "markdown",
   "metadata": {},
   "source": [
    "## 3. One-Hot- Encoding"
   ]
  },
  {
   "cell_type": "code",
   "execution_count": 57,
   "metadata": {},
   "outputs": [
    {
     "data": {
      "text/plain": [
       "R_AGE                                   int64\n",
       "EDUC                                    int64\n",
       "R_RACE                                  int64\n",
       "R_SEX                                   int64\n",
       "WRK_HOME                                int64\n",
       "WKFTPT                                  int64\n",
       "OCCAT                                   int64\n",
       "DRIVER                                  int64\n",
       "TRAVDAY                                 int64\n",
       "dist_to_work                interval[float64]\n",
       "dist_to_shopping            interval[float64]\n",
       "dist_to_family              interval[float64]\n",
       "dist_to_school_or_church    interval[float64]\n",
       "dist_to_relatives           interval[float64]\n",
       "dist_to_social              interval[float64]\n",
       "HH_CBSA                                object\n",
       "HOMEOWN                                 int64\n",
       "HHSIZE                                 object\n",
       "HHVEHCNT                               object\n",
       "HHFAMINC                                int64\n",
       "NUMADLT                               float64\n",
       "YOUNGCHILD                            float64\n",
       "WRKCOUNT                              float64\n",
       "MSACAT                                  int64\n",
       "MSASIZE                                 int64\n",
       "URBAN                                  object\n",
       "URBANSIZE                               int64\n",
       "URBRUR                                  int64\n",
       "LIF_CYC                                 int64\n",
       "AGE_bins                               object\n",
       "NUMADLT_ratio                          object\n",
       "YOUNGCHILD_ratio                       object\n",
       "WRKCOUNT_ratio                         object\n",
       "dtype: object"
      ]
     },
     "execution_count": 57,
     "metadata": {},
     "output_type": "execute_result"
    }
   ],
   "source": [
    "x_train.dtypes"
   ]
  },
  {
   "cell_type": "code",
   "execution_count": 58,
   "metadata": {},
   "outputs": [],
   "source": [
    "to_obj = ['EDUC','R_RACE','AGE_bins','HHFAMINC','HOMEOWN','R_SEX','TRAVDAY','WRK_HOME','WKFTPT','OCCAT','DRIVER','MSACAT','MSASIZE','URBAN','URBANSIZE','URBRUR','LIF_CYC','dist_to_work','dist_to_shopping','dist_to_family','dist_to_school_or_church','dist_to_relatives','dist_to_social']\n",
    "\n",
    "x_train[to_obj] = x_train[to_obj].astype(str)\n",
    "x_test[to_obj]= x_test[to_obj].astype(str)\n",
    "\n",
    "x_train.drop(['R_AGE'], axis = 1, inplace =True)\n",
    "x_test.drop(['R_AGE'],axis = 1, inplace = True)"
   ]
  },
  {
   "cell_type": "code",
   "execution_count": 59,
   "metadata": {},
   "outputs": [],
   "source": [
    "one_hot_col = [c for c in x_train if x_train[c].dtypes == 'O' ]\n",
    "x_train = pd.concat([x_train,pd.get_dummies(x_train[one_hot_col],prefix = one_hot_col)],axis = 1)\n",
    "x_train.drop(one_hot_col, axis = 1, inplace = True)\n",
    "\n",
    "x_test = pd.concat([x_test,pd.get_dummies(x_test[one_hot_col],prefix = one_hot_col)],axis = 1)\n",
    "x_test.drop(one_hot_col, axis = 1, inplace = True)"
   ]
  },
  {
   "cell_type": "code",
   "execution_count": 60,
   "metadata": {},
   "outputs": [],
   "source": [
    "\n",
    "#y_train = y_train.astype('int64')\n",
    "#y_test = y_test.astype('int64')"
   ]
  },
  {
   "cell_type": "code",
   "execution_count": 61,
   "metadata": {},
   "outputs": [],
   "source": [
    "#drop all negative value columns  \n",
    "\n",
    "na_cols_train =[c for c in x_train if ('NA' in c) or ('-' in c) or ('nan' in c)]\n",
    "\n",
    "x_train.drop(na_cols_train, axis = 1, inplace = True)\n",
    "\n",
    "\n",
    "na_cols_test =[c for c in x_test if ('NA' in c) or ('-' in c) or ('nan' in c)]\n",
    "x_test.drop(na_cols_test, axis = 1 , inplace = True)"
   ]
  },
  {
   "cell_type": "code",
   "execution_count": 62,
   "metadata": {},
   "outputs": [
    {
     "data": {
      "text/plain": [
       "(25425, 132)"
      ]
     },
     "execution_count": 62,
     "metadata": {},
     "output_type": "execute_result"
    }
   ],
   "source": [
    "x_train.shape"
   ]
  },
  {
   "cell_type": "code",
   "execution_count": 63,
   "metadata": {},
   "outputs": [
    {
     "data": {
      "text/plain": [
       "(6357, 132)"
      ]
     },
     "execution_count": 63,
     "metadata": {},
     "output_type": "execute_result"
    }
   ],
   "source": [
    "x_test.shape"
   ]
  },
  {
   "cell_type": "code",
   "execution_count": 64,
   "metadata": {},
   "outputs": [
    {
     "data": {
      "text/html": [
       "<div>\n",
       "<style scoped>\n",
       "    .dataframe tbody tr th:only-of-type {\n",
       "        vertical-align: middle;\n",
       "    }\n",
       "\n",
       "    .dataframe tbody tr th {\n",
       "        vertical-align: top;\n",
       "    }\n",
       "\n",
       "    .dataframe thead th {\n",
       "        text-align: right;\n",
       "    }\n",
       "</style>\n",
       "<table border=\"1\" class=\"dataframe\">\n",
       "  <thead>\n",
       "    <tr style=\"text-align: right;\">\n",
       "      <th></th>\n",
       "      <th>NUMADLT</th>\n",
       "      <th>YOUNGCHILD</th>\n",
       "      <th>WRKCOUNT</th>\n",
       "      <th>EDUC_1</th>\n",
       "      <th>EDUC_2</th>\n",
       "      <th>EDUC_3</th>\n",
       "      <th>EDUC_4</th>\n",
       "      <th>EDUC_5</th>\n",
       "      <th>R_RACE_1</th>\n",
       "      <th>R_RACE_2</th>\n",
       "      <th>...</th>\n",
       "      <th>NUMADLT_ratio_1</th>\n",
       "      <th>NUMADLT_ratio_less_than_0.5</th>\n",
       "      <th>NUMADLT_ratio_more_than_0.5</th>\n",
       "      <th>YOUNGCHILD_ratio_0</th>\n",
       "      <th>YOUNGCHILD_ratio_less_than_0.5</th>\n",
       "      <th>YOUNGCHILD_ratio_more_than_0.5</th>\n",
       "      <th>WRKCOUNT_ratio_0</th>\n",
       "      <th>WRKCOUNT_ratio_1</th>\n",
       "      <th>WRKCOUNT_ratio_less_than_0.5</th>\n",
       "      <th>WRKCOUNT_ratio_more_than_0.5</th>\n",
       "    </tr>\n",
       "  </thead>\n",
       "  <tbody>\n",
       "    <tr>\n",
       "      <th>19406</th>\n",
       "      <td>1.0</td>\n",
       "      <td>0.0</td>\n",
       "      <td>1.00</td>\n",
       "      <td>0</td>\n",
       "      <td>0</td>\n",
       "      <td>0</td>\n",
       "      <td>0</td>\n",
       "      <td>1</td>\n",
       "      <td>1</td>\n",
       "      <td>0</td>\n",
       "      <td>...</td>\n",
       "      <td>1</td>\n",
       "      <td>0</td>\n",
       "      <td>0</td>\n",
       "      <td>1</td>\n",
       "      <td>0</td>\n",
       "      <td>0</td>\n",
       "      <td>0</td>\n",
       "      <td>1</td>\n",
       "      <td>0</td>\n",
       "      <td>0</td>\n",
       "    </tr>\n",
       "    <tr>\n",
       "      <th>19181</th>\n",
       "      <td>1.0</td>\n",
       "      <td>0.0</td>\n",
       "      <td>1.00</td>\n",
       "      <td>0</td>\n",
       "      <td>0</td>\n",
       "      <td>1</td>\n",
       "      <td>0</td>\n",
       "      <td>0</td>\n",
       "      <td>1</td>\n",
       "      <td>0</td>\n",
       "      <td>...</td>\n",
       "      <td>1</td>\n",
       "      <td>0</td>\n",
       "      <td>0</td>\n",
       "      <td>1</td>\n",
       "      <td>0</td>\n",
       "      <td>0</td>\n",
       "      <td>0</td>\n",
       "      <td>1</td>\n",
       "      <td>0</td>\n",
       "      <td>0</td>\n",
       "    </tr>\n",
       "    <tr>\n",
       "      <th>15046</th>\n",
       "      <td>0.5</td>\n",
       "      <td>0.0</td>\n",
       "      <td>0.25</td>\n",
       "      <td>0</td>\n",
       "      <td>0</td>\n",
       "      <td>0</td>\n",
       "      <td>0</td>\n",
       "      <td>0</td>\n",
       "      <td>1</td>\n",
       "      <td>0</td>\n",
       "      <td>...</td>\n",
       "      <td>0</td>\n",
       "      <td>0</td>\n",
       "      <td>1</td>\n",
       "      <td>1</td>\n",
       "      <td>0</td>\n",
       "      <td>0</td>\n",
       "      <td>0</td>\n",
       "      <td>0</td>\n",
       "      <td>1</td>\n",
       "      <td>0</td>\n",
       "    </tr>\n",
       "    <tr>\n",
       "      <th>229</th>\n",
       "      <td>1.0</td>\n",
       "      <td>0.0</td>\n",
       "      <td>0.00</td>\n",
       "      <td>0</td>\n",
       "      <td>0</td>\n",
       "      <td>0</td>\n",
       "      <td>0</td>\n",
       "      <td>1</td>\n",
       "      <td>1</td>\n",
       "      <td>0</td>\n",
       "      <td>...</td>\n",
       "      <td>1</td>\n",
       "      <td>0</td>\n",
       "      <td>0</td>\n",
       "      <td>1</td>\n",
       "      <td>0</td>\n",
       "      <td>0</td>\n",
       "      <td>1</td>\n",
       "      <td>0</td>\n",
       "      <td>0</td>\n",
       "      <td>0</td>\n",
       "    </tr>\n",
       "    <tr>\n",
       "      <th>11509</th>\n",
       "      <td>1.0</td>\n",
       "      <td>0.0</td>\n",
       "      <td>0.00</td>\n",
       "      <td>0</td>\n",
       "      <td>0</td>\n",
       "      <td>1</td>\n",
       "      <td>0</td>\n",
       "      <td>0</td>\n",
       "      <td>1</td>\n",
       "      <td>0</td>\n",
       "      <td>...</td>\n",
       "      <td>1</td>\n",
       "      <td>0</td>\n",
       "      <td>0</td>\n",
       "      <td>1</td>\n",
       "      <td>0</td>\n",
       "      <td>0</td>\n",
       "      <td>1</td>\n",
       "      <td>0</td>\n",
       "      <td>0</td>\n",
       "      <td>0</td>\n",
       "    </tr>\n",
       "    <tr>\n",
       "      <th>...</th>\n",
       "      <td>...</td>\n",
       "      <td>...</td>\n",
       "      <td>...</td>\n",
       "      <td>...</td>\n",
       "      <td>...</td>\n",
       "      <td>...</td>\n",
       "      <td>...</td>\n",
       "      <td>...</td>\n",
       "      <td>...</td>\n",
       "      <td>...</td>\n",
       "      <td>...</td>\n",
       "      <td>...</td>\n",
       "      <td>...</td>\n",
       "      <td>...</td>\n",
       "      <td>...</td>\n",
       "      <td>...</td>\n",
       "      <td>...</td>\n",
       "      <td>...</td>\n",
       "      <td>...</td>\n",
       "      <td>...</td>\n",
       "      <td>...</td>\n",
       "    </tr>\n",
       "    <tr>\n",
       "      <th>5378</th>\n",
       "      <td>1.0</td>\n",
       "      <td>0.0</td>\n",
       "      <td>1.00</td>\n",
       "      <td>0</td>\n",
       "      <td>1</td>\n",
       "      <td>0</td>\n",
       "      <td>0</td>\n",
       "      <td>0</td>\n",
       "      <td>1</td>\n",
       "      <td>0</td>\n",
       "      <td>...</td>\n",
       "      <td>1</td>\n",
       "      <td>0</td>\n",
       "      <td>0</td>\n",
       "      <td>1</td>\n",
       "      <td>0</td>\n",
       "      <td>0</td>\n",
       "      <td>0</td>\n",
       "      <td>1</td>\n",
       "      <td>0</td>\n",
       "      <td>0</td>\n",
       "    </tr>\n",
       "    <tr>\n",
       "      <th>26272</th>\n",
       "      <td>1.0</td>\n",
       "      <td>0.0</td>\n",
       "      <td>0.50</td>\n",
       "      <td>0</td>\n",
       "      <td>0</td>\n",
       "      <td>0</td>\n",
       "      <td>1</td>\n",
       "      <td>0</td>\n",
       "      <td>1</td>\n",
       "      <td>0</td>\n",
       "      <td>...</td>\n",
       "      <td>1</td>\n",
       "      <td>0</td>\n",
       "      <td>0</td>\n",
       "      <td>1</td>\n",
       "      <td>0</td>\n",
       "      <td>0</td>\n",
       "      <td>0</td>\n",
       "      <td>0</td>\n",
       "      <td>0</td>\n",
       "      <td>1</td>\n",
       "    </tr>\n",
       "    <tr>\n",
       "      <th>15091</th>\n",
       "      <td>1.0</td>\n",
       "      <td>0.0</td>\n",
       "      <td>1.00</td>\n",
       "      <td>0</td>\n",
       "      <td>0</td>\n",
       "      <td>0</td>\n",
       "      <td>0</td>\n",
       "      <td>1</td>\n",
       "      <td>1</td>\n",
       "      <td>0</td>\n",
       "      <td>...</td>\n",
       "      <td>1</td>\n",
       "      <td>0</td>\n",
       "      <td>0</td>\n",
       "      <td>1</td>\n",
       "      <td>0</td>\n",
       "      <td>0</td>\n",
       "      <td>0</td>\n",
       "      <td>1</td>\n",
       "      <td>0</td>\n",
       "      <td>0</td>\n",
       "    </tr>\n",
       "    <tr>\n",
       "      <th>1984</th>\n",
       "      <td>1.0</td>\n",
       "      <td>0.0</td>\n",
       "      <td>1.00</td>\n",
       "      <td>0</td>\n",
       "      <td>0</td>\n",
       "      <td>0</td>\n",
       "      <td>0</td>\n",
       "      <td>1</td>\n",
       "      <td>0</td>\n",
       "      <td>0</td>\n",
       "      <td>...</td>\n",
       "      <td>1</td>\n",
       "      <td>0</td>\n",
       "      <td>0</td>\n",
       "      <td>1</td>\n",
       "      <td>0</td>\n",
       "      <td>0</td>\n",
       "      <td>0</td>\n",
       "      <td>1</td>\n",
       "      <td>0</td>\n",
       "      <td>0</td>\n",
       "    </tr>\n",
       "    <tr>\n",
       "      <th>10938</th>\n",
       "      <td>1.0</td>\n",
       "      <td>0.0</td>\n",
       "      <td>0.00</td>\n",
       "      <td>0</td>\n",
       "      <td>1</td>\n",
       "      <td>0</td>\n",
       "      <td>0</td>\n",
       "      <td>0</td>\n",
       "      <td>1</td>\n",
       "      <td>0</td>\n",
       "      <td>...</td>\n",
       "      <td>1</td>\n",
       "      <td>0</td>\n",
       "      <td>0</td>\n",
       "      <td>1</td>\n",
       "      <td>0</td>\n",
       "      <td>0</td>\n",
       "      <td>1</td>\n",
       "      <td>0</td>\n",
       "      <td>0</td>\n",
       "      <td>0</td>\n",
       "    </tr>\n",
       "  </tbody>\n",
       "</table>\n",
       "<p>25425 rows × 132 columns</p>\n",
       "</div>"
      ],
      "text/plain": [
       "       NUMADLT  YOUNGCHILD  WRKCOUNT  EDUC_1  EDUC_2  EDUC_3  EDUC_4  EDUC_5  \\\n",
       "19406      1.0         0.0      1.00       0       0       0       0       1   \n",
       "19181      1.0         0.0      1.00       0       0       1       0       0   \n",
       "15046      0.5         0.0      0.25       0       0       0       0       0   \n",
       "229        1.0         0.0      0.00       0       0       0       0       1   \n",
       "11509      1.0         0.0      0.00       0       0       1       0       0   \n",
       "...        ...         ...       ...     ...     ...     ...     ...     ...   \n",
       "5378       1.0         0.0      1.00       0       1       0       0       0   \n",
       "26272      1.0         0.0      0.50       0       0       0       1       0   \n",
       "15091      1.0         0.0      1.00       0       0       0       0       1   \n",
       "1984       1.0         0.0      1.00       0       0       0       0       1   \n",
       "10938      1.0         0.0      0.00       0       1       0       0       0   \n",
       "\n",
       "       R_RACE_1  R_RACE_2  ...  NUMADLT_ratio_1  NUMADLT_ratio_less_than_0.5  \\\n",
       "19406         1         0  ...                1                            0   \n",
       "19181         1         0  ...                1                            0   \n",
       "15046         1         0  ...                0                            0   \n",
       "229           1         0  ...                1                            0   \n",
       "11509         1         0  ...                1                            0   \n",
       "...         ...       ...  ...              ...                          ...   \n",
       "5378          1         0  ...                1                            0   \n",
       "26272         1         0  ...                1                            0   \n",
       "15091         1         0  ...                1                            0   \n",
       "1984          0         0  ...                1                            0   \n",
       "10938         1         0  ...                1                            0   \n",
       "\n",
       "       NUMADLT_ratio_more_than_0.5  YOUNGCHILD_ratio_0  \\\n",
       "19406                            0                   1   \n",
       "19181                            0                   1   \n",
       "15046                            1                   1   \n",
       "229                              0                   1   \n",
       "11509                            0                   1   \n",
       "...                            ...                 ...   \n",
       "5378                             0                   1   \n",
       "26272                            0                   1   \n",
       "15091                            0                   1   \n",
       "1984                             0                   1   \n",
       "10938                            0                   1   \n",
       "\n",
       "       YOUNGCHILD_ratio_less_than_0.5  YOUNGCHILD_ratio_more_than_0.5  \\\n",
       "19406                               0                               0   \n",
       "19181                               0                               0   \n",
       "15046                               0                               0   \n",
       "229                                 0                               0   \n",
       "11509                               0                               0   \n",
       "...                               ...                             ...   \n",
       "5378                                0                               0   \n",
       "26272                               0                               0   \n",
       "15091                               0                               0   \n",
       "1984                                0                               0   \n",
       "10938                               0                               0   \n",
       "\n",
       "       WRKCOUNT_ratio_0  WRKCOUNT_ratio_1  WRKCOUNT_ratio_less_than_0.5  \\\n",
       "19406                 0                 1                             0   \n",
       "19181                 0                 1                             0   \n",
       "15046                 0                 0                             1   \n",
       "229                   1                 0                             0   \n",
       "11509                 1                 0                             0   \n",
       "...                 ...               ...                           ...   \n",
       "5378                  0                 1                             0   \n",
       "26272                 0                 0                             0   \n",
       "15091                 0                 1                             0   \n",
       "1984                  0                 1                             0   \n",
       "10938                 1                 0                             0   \n",
       "\n",
       "       WRKCOUNT_ratio_more_than_0.5  \n",
       "19406                             0  \n",
       "19181                             0  \n",
       "15046                             0  \n",
       "229                               0  \n",
       "11509                             0  \n",
       "...                             ...  \n",
       "5378                              0  \n",
       "26272                             1  \n",
       "15091                             0  \n",
       "1984                              0  \n",
       "10938                             0  \n",
       "\n",
       "[25425 rows x 132 columns]"
      ]
     },
     "execution_count": 64,
     "metadata": {},
     "output_type": "execute_result"
    }
   ],
   "source": [
    "x_train"
   ]
  },
  {
   "cell_type": "code",
   "execution_count": 65,
   "metadata": {},
   "outputs": [
    {
     "data": {
      "text/plain": [
       "['NUMADLT',\n",
       " 'YOUNGCHILD',\n",
       " 'WRKCOUNT',\n",
       " 'EDUC_1',\n",
       " 'EDUC_2',\n",
       " 'EDUC_3',\n",
       " 'EDUC_4',\n",
       " 'EDUC_5',\n",
       " 'R_RACE_1',\n",
       " 'R_RACE_2',\n",
       " 'R_RACE_3',\n",
       " 'R_RACE_4',\n",
       " 'R_RACE_5',\n",
       " 'R_RACE_6',\n",
       " 'R_RACE_97',\n",
       " 'R_SEX_1',\n",
       " 'R_SEX_2',\n",
       " 'WRK_HOME_1',\n",
       " 'WRK_HOME_2',\n",
       " 'WKFTPT_1',\n",
       " 'WKFTPT_2',\n",
       " 'OCCAT_1',\n",
       " 'OCCAT_2',\n",
       " 'OCCAT_3',\n",
       " 'OCCAT_4',\n",
       " 'OCCAT_97',\n",
       " 'DRIVER_1',\n",
       " 'DRIVER_2',\n",
       " 'TRAVDAY_1',\n",
       " 'TRAVDAY_2',\n",
       " 'TRAVDAY_3',\n",
       " 'TRAVDAY_4',\n",
       " 'TRAVDAY_5',\n",
       " 'TRAVDAY_6',\n",
       " 'TRAVDAY_7',\n",
       " 'dist_to_work_(1.0, 2.0]',\n",
       " 'dist_to_work_(11.0, 99.0]',\n",
       " 'dist_to_work_(2.0, 5.0]',\n",
       " 'dist_to_work_(5.0, 11.0]',\n",
       " 'dist_to_shopping_(1.0, 2.0]',\n",
       " 'dist_to_shopping_(11.0, 99.0]',\n",
       " 'dist_to_shopping_(2.0, 5.0]',\n",
       " 'dist_to_shopping_(5.0, 11.0]',\n",
       " 'dist_to_family_(1.0, 2.0]',\n",
       " 'dist_to_family_(11.0, 99.0]',\n",
       " 'dist_to_family_(2.0, 5.0]',\n",
       " 'dist_to_family_(5.0, 11.0]',\n",
       " 'dist_to_school_or_church_(1.0, 2.0]',\n",
       " 'dist_to_school_or_church_(11.0, 99.0]',\n",
       " 'dist_to_school_or_church_(2.0, 5.0]',\n",
       " 'dist_to_school_or_church_(5.0, 11.0]',\n",
       " 'dist_to_relatives_(1.0, 2.0]',\n",
       " 'dist_to_relatives_(11.0, 99.0]',\n",
       " 'dist_to_relatives_(2.0, 5.0]',\n",
       " 'dist_to_relatives_(5.0, 11.0]',\n",
       " 'dist_to_social_(1.0, 2.0]',\n",
       " 'dist_to_social_(11.0, 99.0]',\n",
       " 'dist_to_social_(2.0, 5.0]',\n",
       " 'dist_to_social_(5.0, 11.0]',\n",
       " 'HH_CBSA_15380',\n",
       " 'HH_CBSA_35620',\n",
       " 'HH_CBSA_40380',\n",
       " 'HH_CBSA_XXXXX',\n",
       " 'HOMEOWN_1',\n",
       " 'HOMEOWN_2',\n",
       " 'HOMEOWN_97',\n",
       " 'HHSIZE_1',\n",
       " 'HHSIZE_2',\n",
       " 'HHSIZE_3',\n",
       " 'HHSIZE_above_3',\n",
       " 'HHVEHCNT_1',\n",
       " 'HHVEHCNT_2',\n",
       " 'HHVEHCNT_3',\n",
       " 'HHVEHCNT_>3',\n",
       " 'HHFAMINC_1',\n",
       " 'HHFAMINC_10',\n",
       " 'HHFAMINC_11',\n",
       " 'HHFAMINC_2',\n",
       " 'HHFAMINC_3',\n",
       " 'HHFAMINC_4',\n",
       " 'HHFAMINC_5',\n",
       " 'HHFAMINC_6',\n",
       " 'HHFAMINC_7',\n",
       " 'HHFAMINC_8',\n",
       " 'HHFAMINC_9',\n",
       " 'MSACAT_1',\n",
       " 'MSACAT_2',\n",
       " 'MSACAT_3',\n",
       " 'MSACAT_4',\n",
       " 'MSASIZE_1',\n",
       " 'MSASIZE_2',\n",
       " 'MSASIZE_3',\n",
       " 'MSASIZE_4',\n",
       " 'MSASIZE_5',\n",
       " 'MSASIZE_6',\n",
       " 'URBAN_rural',\n",
       " 'URBAN_urban',\n",
       " 'URBANSIZE_1',\n",
       " 'URBANSIZE_2',\n",
       " 'URBANSIZE_3',\n",
       " 'URBANSIZE_5',\n",
       " 'URBANSIZE_6',\n",
       " 'URBRUR_1',\n",
       " 'URBRUR_2',\n",
       " 'LIF_CYC_1',\n",
       " 'LIF_CYC_10',\n",
       " 'LIF_CYC_2',\n",
       " 'LIF_CYC_3',\n",
       " 'LIF_CYC_4',\n",
       " 'LIF_CYC_5',\n",
       " 'LIF_CYC_6',\n",
       " 'LIF_CYC_7',\n",
       " 'LIF_CYC_8',\n",
       " 'LIF_CYC_9',\n",
       " 'AGE_bins_16_to_25',\n",
       " 'AGE_bins_26_to_35',\n",
       " 'AGE_bins_36_to_45',\n",
       " 'AGE_bins_46_to_55',\n",
       " 'AGE_bins_56_to_65',\n",
       " 'AGE_bins_5_to_15',\n",
       " 'AGE_bins_66_to_75',\n",
       " 'AGE_bins_more_than_75',\n",
       " 'NUMADLT_ratio_1',\n",
       " 'NUMADLT_ratio_less_than_0.5',\n",
       " 'NUMADLT_ratio_more_than_0.5',\n",
       " 'YOUNGCHILD_ratio_0',\n",
       " 'YOUNGCHILD_ratio_less_than_0.5',\n",
       " 'YOUNGCHILD_ratio_more_than_0.5',\n",
       " 'WRKCOUNT_ratio_0',\n",
       " 'WRKCOUNT_ratio_1',\n",
       " 'WRKCOUNT_ratio_less_than_0.5',\n",
       " 'WRKCOUNT_ratio_more_than_0.5']"
      ]
     },
     "execution_count": 65,
     "metadata": {},
     "output_type": "execute_result"
    }
   ],
   "source": [
    "[c for c in x_train]"
   ]
  },
  {
   "cell_type": "code",
   "execution_count": 66,
   "metadata": {},
   "outputs": [],
   "source": [
    "dist_dict = {'dist_to_work_(1.0, 2.0]':'dist_to_work_between_1_and_2',\n",
    "            'dist_to_work_(11.0, 99.0]':'dist_to_work_more_than_11',\n",
    "            'dist_to_work_(2.0, 5.0]':'dist_to_work_between_2_and_5',\n",
    "            'dist_to_work_(5.0, 11.0]':'dist_to_work_between_5_and_11',\n",
    "             'dist_to_shopping_(1.0, 2.0]':'dist_to_shopping_between_1_and_2',\n",
    "             'dist_to_shopping_(11.0, 99.0]':'dist_to_shopping_more_than_11',\n",
    "             'dist_to_shopping_(2.0, 5.0]':'dist_to_shopping_between_2_and_5',\n",
    "             'dist_to_shopping_(5.0, 11.0]':'dist_to_shopping_between_5_and_11',\n",
    "             'dist_to_family_(1.0, 2.0]':'dist_to_family_between_1_and_2',\n",
    "             'dist_to_family_(11.0, 99.0]':'dist_to_family_greater_than_11',\n",
    "             'dist_to_family_(2.0, 5.0]':'dist_to_family_between_2_and_5',\n",
    "             'dist_to_family_(5.0, 11.0]':'dist_to_family_between_5_and_11',\n",
    "             'dist_to_school_or_church_(1.0, 2.0]':'dist_to_school_or_church_between_1_and_2',\n",
    "             'dist_to_school_or_church_(11.0, 99.0]':'dist_to_school_or_church_greater_than_11',\n",
    "             'dist_to_school_or_church_(2.0, 5.0]':'dist_to_school_or_church_between_2_and_5',\n",
    "             'dist_to_school_or_church_(5.0, 11.0]':'dist_to_school_or_church_between_5_and_11',\n",
    "             'dist_to_relatives_(1.0, 2.0]':'dist_to_relatvies_between_1_and_2',\n",
    "             'dist_to_relatives_(11.0, 99.0]':'dist_to_relatvies_greater_than_11',\n",
    "             'dist_to_relatives_(2.0, 5.0]':'dist_to_relatvies_between_2_and_5',\n",
    "             'dist_to_relatives_(5.0, 11.0]':'dist_to_relatvies_between_5_and_11',\n",
    "             'dist_to_social_(1.0, 2.0]':'dist_to_social_between_1_and_2',\n",
    "             'dist_to_social_(11.0, 99.0]':'dist_to_social_greater_than_11',\n",
    "             'dist_to_social_(2.0, 5.0]':'dist_to_social_between_2_and_5',\n",
    "             'dist_to_social_(5.0, 11.0]':'dist_to_social_between_5_and_11'}\n",
    "\n",
    "dist_cols = [c for c in x_train if 'dist' in c]\n",
    "\n",
    "x_train.rename(columns=dist_dict,inplace = True)\n",
    "x_test.rename(columns = dist_dict, inplace = True)"
   ]
  },
  {
   "cell_type": "markdown",
   "metadata": {},
   "source": [
    "## Models"
   ]
  },
  {
   "cell_type": "markdown",
   "metadata": {},
   "source": [
    "### Linear Regression"
   ]
  },
  {
   "cell_type": "code",
   "execution_count": 67,
   "metadata": {},
   "outputs": [],
   "source": [
    "#Checking for multicollinearity through variance Inflation Factor \n",
    "#VIF=1, Very Less Multicollinearity\n",
    "#VIF<5, Moderate Multicollinearity\n",
    "#VIF>5, Extreme Multicollinearity (This is what we have to avoid)\n",
    "\n",
    "import statsmodels.api as sm\n",
    "from statsmodels.stats.outliers_influence import variance_inflation_factor\n",
    "from sklearn import linear_model, model_selection, metrics\n"
   ]
  },
  {
   "cell_type": "code",
   "execution_count": 68,
   "metadata": {},
   "outputs": [],
   "source": [
    "LRmodel = linear_model.LinearRegression()  #create the linear regression \n",
    "LRmodel.fit(x_train,y_train) #train the model using the training set \n",
    "LR_pred = LRmodel.predict(x_test) #use this model to predict the test data set "
   ]
  },
  {
   "cell_type": "code",
   "execution_count": 79,
   "metadata": {},
   "outputs": [
    {
     "name": "stdout",
     "output_type": "stream",
     "text": [
      "R^2 score:\t\t\t\t 0.5658446460485766\n",
      "Explained Variance: \t\t\t 0.5658538504443935\n",
      "Mean Absolute Error: \t\t\t 1.16453949017815\n",
      "Mean Squared Error:\t\t\t 2.393734193849586\n",
      "Root Mean Squared Error:\t\t 1.547169736599571\n",
      "Intercept:\t -4763054202046.348\n",
      "Coef:\t 132\n"
     ]
    }
   ],
   "source": [
    "print('R^2 score:\\t\\t\\t\\t',LRmodel.score(x_test, y_test)) #compute R^2 score \n",
    "#print('R^2 score:\\t\\t\\t\\t', metrics.r2_score(y_test, LR_pred))\n",
    "print('Explained Variance: \\t\\t\\t', metrics.explained_variance_score(y_test, LR_pred)) #compute explained variance score\n",
    "print('Mean Absolute Error: \\t\\t\\t', metrics.mean_absolute_error(y_test, LR_pred)) #compute MAE results\n",
    "print('Mean Squared Error:\\t\\t\\t', metrics.mean_squared_error(y_test, LR_pred)) #compute MSE results\n",
    "print('Root Mean Squared Error:\\t\\t', metrics.mean_squared_error(y_test, LR_pred, squared = False)) #compute RSME results\n",
    "print('Intercept:\\t', LRmodel.intercept_) #find intercept value \n",
    "print('Coef:\\t', np.sum(LRmodel.coef_!=0))#find no of features used in regression model "
   ]
  },
  {
   "cell_type": "code",
   "execution_count": 71,
   "metadata": {},
   "outputs": [
    {
     "data": {
      "text/plain": [
       "<AxesSubplot:xlabel='n_trips'>"
      ]
     },
     "execution_count": 71,
     "metadata": {},
     "output_type": "execute_result"
    },
    {
     "data": {
      "image/png": "[encoded data removed]",
      "text/plain": [
       "<Figure size 432x288 with 1 Axes>"
      ]
     },
     "metadata": {
      "needs_background": "light"
     },
     "output_type": "display_data"
    }
   ],
   "source": [
    "sns.regplot(y_test,LR_pred) #plotting predictions "
   ]
  },
  {
   "cell_type": "code",
   "execution_count": 72,
   "metadata": {},
   "outputs": [
    {
     "name": "stdout",
     "output_type": "stream",
     "text": [
      "                            feature        VIF\n",
      "0                           NUMADLT  29.510298\n",
      "1                        YOUNGCHILD  20.291842\n",
      "2                          WRKCOUNT  60.887213\n",
      "3                            EDUC_1   6.456246\n",
      "4                            EDUC_2  21.060117\n",
      "..                              ...        ...\n",
      "127  YOUNGCHILD_ratio_more_than_0.5        inf\n",
      "128                WRKCOUNT_ratio_0        inf\n",
      "129                WRKCOUNT_ratio_1        inf\n",
      "130    WRKCOUNT_ratio_less_than_0.5        inf\n",
      "131    WRKCOUNT_ratio_more_than_0.5        inf\n",
      "\n",
      "[132 rows x 2 columns]\n"
     ]
    }
   ],
   "source": [
    "#calculate VIF scores to detect multicolinearity \n",
    "\n",
    "# VIF dataframe\n",
    "vif_data = pd.DataFrame()\n",
    "vif_data[\"feature\"] = x_train.columns\n",
    "  \n",
    "# calculating VIF for each feature\n",
    "vif_data[\"VIF\"] = [variance_inflation_factor(x_train.values, i)\n",
    "                          for i in range(len(x_train.columns))]\n",
    "  \n",
    "print(vif_data)"
   ]
  },
  {
   "cell_type": "code",
   "execution_count": 73,
   "metadata": {},
   "outputs": [
    {
     "data": {
      "text/html": [
       "<div>\n",
       "<style scoped>\n",
       "    .dataframe tbody tr th:only-of-type {\n",
       "        vertical-align: middle;\n",
       "    }\n",
       "\n",
       "    .dataframe tbody tr th {\n",
       "        vertical-align: top;\n",
       "    }\n",
       "\n",
       "    .dataframe thead th {\n",
       "        text-align: right;\n",
       "    }\n",
       "</style>\n",
       "<table border=\"1\" class=\"dataframe\">\n",
       "  <thead>\n",
       "    <tr style=\"text-align: right;\">\n",
       "      <th></th>\n",
       "      <th>feature</th>\n",
       "      <th>VIF</th>\n",
       "    </tr>\n",
       "  </thead>\n",
       "  <tbody>\n",
       "    <tr>\n",
       "      <th>66</th>\n",
       "      <td>HHSIZE_1</td>\n",
       "      <td>inf</td>\n",
       "    </tr>\n",
       "    <tr>\n",
       "      <th>89</th>\n",
       "      <td>MSASIZE_1</td>\n",
       "      <td>inf</td>\n",
       "    </tr>\n",
       "    <tr>\n",
       "      <th>101</th>\n",
       "      <td>URBANSIZE_6</td>\n",
       "      <td>inf</td>\n",
       "    </tr>\n",
       "    <tr>\n",
       "      <th>100</th>\n",
       "      <td>URBANSIZE_5</td>\n",
       "      <td>inf</td>\n",
       "    </tr>\n",
       "    <tr>\n",
       "      <th>99</th>\n",
       "      <td>URBANSIZE_3</td>\n",
       "      <td>inf</td>\n",
       "    </tr>\n",
       "    <tr>\n",
       "      <th>...</th>\n",
       "      <td>...</td>\n",
       "      <td>...</td>\n",
       "    </tr>\n",
       "    <tr>\n",
       "      <th>54</th>\n",
       "      <td>dist_to_relatvies_between_5_and_11</td>\n",
       "      <td>1.018572</td>\n",
       "    </tr>\n",
       "    <tr>\n",
       "      <th>48</th>\n",
       "      <td>dist_to_school_or_church_greater_than_11</td>\n",
       "      <td>1.018423</td>\n",
       "    </tr>\n",
       "    <tr>\n",
       "      <th>50</th>\n",
       "      <td>dist_to_school_or_church_between_5_and_11</td>\n",
       "      <td>1.018231</td>\n",
       "    </tr>\n",
       "    <tr>\n",
       "      <th>53</th>\n",
       "      <td>dist_to_relatvies_between_2_and_5</td>\n",
       "      <td>1.016029</td>\n",
       "    </tr>\n",
       "    <tr>\n",
       "      <th>51</th>\n",
       "      <td>dist_to_relatvies_between_1_and_2</td>\n",
       "      <td>1.009819</td>\n",
       "    </tr>\n",
       "  </tbody>\n",
       "</table>\n",
       "<p>132 rows × 2 columns</p>\n",
       "</div>"
      ],
      "text/plain": [
       "                                       feature       VIF\n",
       "66                                    HHSIZE_1       inf\n",
       "89                                   MSASIZE_1       inf\n",
       "101                                URBANSIZE_6       inf\n",
       "100                                URBANSIZE_5       inf\n",
       "99                                 URBANSIZE_3       inf\n",
       "..                                         ...       ...\n",
       "54          dist_to_relatvies_between_5_and_11  1.018572\n",
       "48    dist_to_school_or_church_greater_than_11  1.018423\n",
       "50   dist_to_school_or_church_between_5_and_11  1.018231\n",
       "53           dist_to_relatvies_between_2_and_5  1.016029\n",
       "51           dist_to_relatvies_between_1_and_2  1.009819\n",
       "\n",
       "[132 rows x 2 columns]"
      ]
     },
     "execution_count": 73,
     "metadata": {},
     "output_type": "execute_result"
    }
   ],
   "source": [
    "vif_data.sort_values(by = 'VIF', ascending = False)"
   ]
  },
  {
   "cell_type": "code",
   "execution_count": 74,
   "metadata": {},
   "outputs": [
    {
     "name": "stdout",
     "output_type": "stream",
     "text": [
      "It contains 66 infinite values\n"
     ]
    }
   ],
   "source": [
    "# counting number of infinity features \n",
    "\n",
    "vif_data_inf = np.isinf(vif_data['VIF']).values.sum()\n",
    "print(\"It contains \" + str(vif_data_inf) + \" infinite values\")"
   ]
  },
  {
   "cell_type": "code",
   "execution_count": 105,
   "metadata": {},
   "outputs": [
    {
     "name": "stdout",
     "output_type": "stream",
     "text": [
      "\n",
      "R2 score: [-4.60641359e+18  5.53847030e-01  5.60198488e-01  5.69332006e-01\n",
      "  5.68501513e-01]\n"
     ]
    }
   ],
   "source": [
    "#cross validation to see if it will improve results \n",
    "\n",
    "folds = model_selection.KFold(n_splits = 5, shuffle = True, random_state = 100)\n",
    "scores = model_selection.cross_val_score(LRmodel, x_train, y_train, scoring='r2', cv=folds)\n",
    "\n",
    "print('\\nR2 score:',scores)"
   ]
  },
  {
   "cell_type": "code",
   "execution_count": 106,
   "metadata": {},
   "outputs": [
    {
     "name": "stdout",
     "output_type": "stream",
     "text": [
      "Fitting 5 folds for each of 13 candidates, totalling 65 fits\n",
      "[CV 1/5; 1/13] START n_features_to_select=1.....................................\n",
      "[CV 1/5; 1/13] END n_features_to_select=1;, score=(train=0.002, test=0.001) total time=   2.8s\n",
      "[CV 2/5; 1/13] START n_features_to_select=1.....................................\n",
      "[CV 2/5; 1/13] END n_features_to_select=1;, score=(train=0.003, test=0.001) total time=   2.5s\n",
      "[CV 3/5; 1/13] START n_features_to_select=1.....................................\n",
      "[CV 3/5; 1/13] END n_features_to_select=1;, score=(train=0.002, test=0.003) total time=   2.5s\n",
      "[CV 4/5; 1/13] START n_features_to_select=1.....................................\n",
      "[CV 4/5; 1/13] END n_features_to_select=1;, score=(train=0.002, test=0.000) total time=   2.9s\n",
      "[CV 5/5; 1/13] START n_features_to_select=1.....................................\n",
      "[CV 5/5; 1/13] END n_features_to_select=1;, score=(train=0.001, test=0.001) total time=   2.6s\n",
      "[CV 1/5; 2/13] START n_features_to_select=2.....................................\n",
      "[CV 1/5; 2/13] END n_features_to_select=2;, score=(train=0.003, test=0.003) total time=   2.7s\n",
      "[CV 2/5; 2/13] START n_features_to_select=2.....................................\n",
      "[CV 2/5; 2/13] END n_features_to_select=2;, score=(train=0.005, test=0.003) total time=   2.8s\n",
      "[CV 3/5; 2/13] START n_features_to_select=2.....................................\n",
      "[CV 3/5; 2/13] END n_features_to_select=2;, score=(train=0.003, test=0.004) total time=   3.2s\n",
      "[CV 4/5; 2/13] START n_features_to_select=2.....................................\n",
      "[CV 4/5; 2/13] END n_features_to_select=2;, score=(train=0.002, test=0.000) total time=   3.5s\n",
      "[CV 5/5; 2/13] START n_features_to_select=2.....................................\n",
      "[CV 5/5; 2/13] END n_features_to_select=2;, score=(train=0.002, test=0.001) total time=   3.0s\n",
      "[CV 1/5; 3/13] START n_features_to_select=3.....................................\n",
      "[CV 1/5; 3/13] END n_features_to_select=3;, score=(train=0.003, test=0.003) total time=   3.0s\n",
      "[CV 2/5; 3/13] START n_features_to_select=3.....................................\n",
      "[CV 2/5; 3/13] END n_features_to_select=3;, score=(train=0.006, test=0.005) total time=   3.9s\n",
      "[CV 3/5; 3/13] START n_features_to_select=3.....................................\n",
      "[CV 3/5; 3/13] END n_features_to_select=3;, score=(train=0.004, test=0.004) total time=   3.2s\n",
      "[CV 4/5; 3/13] START n_features_to_select=3.....................................\n",
      "[CV 4/5; 3/13] END n_features_to_select=3;, score=(train=0.002, test=0.000) total time=   3.4s\n",
      "[CV 5/5; 3/13] START n_features_to_select=3.....................................\n",
      "[CV 5/5; 3/13] END n_features_to_select=3;, score=(train=0.002, test=0.001) total time=   3.2s\n",
      "[CV 1/5; 4/13] START n_features_to_select=4.....................................\n",
      "[CV 1/5; 4/13] END n_features_to_select=4;, score=(train=0.003, test=0.003) total time=   3.2s\n",
      "[CV 2/5; 4/13] START n_features_to_select=4.....................................\n",
      "[CV 2/5; 4/13] END n_features_to_select=4;, score=(train=0.006, test=0.005) total time=   3.5s\n",
      "[CV 3/5; 4/13] START n_features_to_select=4.....................................\n",
      "[CV 3/5; 4/13] END n_features_to_select=4;, score=(train=0.004, test=0.003) total time=   3.3s\n",
      "[CV 4/5; 4/13] START n_features_to_select=4.....................................\n",
      "[CV 4/5; 4/13] END n_features_to_select=4;, score=(train=0.002, test=0.000) total time=   3.1s\n",
      "[CV 5/5; 4/13] START n_features_to_select=4.....................................\n",
      "[CV 5/5; 4/13] END n_features_to_select=4;, score=(train=0.002, test=0.001) total time=   4.1s\n",
      "[CV 1/5; 5/13] START n_features_to_select=5.....................................\n",
      "[CV 1/5; 5/13] END n_features_to_select=5;, score=(train=0.006, test=0.005) total time=   4.9s\n",
      "[CV 2/5; 5/13] START n_features_to_select=5.....................................\n",
      "[CV 2/5; 5/13] END n_features_to_select=5;, score=(train=0.011, test=0.007) total time=   5.0s\n",
      "[CV 3/5; 5/13] START n_features_to_select=5.....................................\n",
      "[CV 3/5; 5/13] END n_features_to_select=5;, score=(train=0.004, test=0.003) total time=   4.3s\n",
      "[CV 4/5; 5/13] START n_features_to_select=5.....................................\n",
      "[CV 4/5; 5/13] END n_features_to_select=5;, score=(train=0.003, test=0.003) total time=   3.3s\n",
      "[CV 5/5; 5/13] START n_features_to_select=5.....................................\n",
      "[CV 5/5; 5/13] END n_features_to_select=5;, score=(train=0.002, test=0.001) total time=   3.1s\n",
      "[CV 1/5; 6/13] START n_features_to_select=6.....................................\n",
      "[CV 1/5; 6/13] END n_features_to_select=6;, score=(train=0.007, test=0.006) total time=   3.0s\n",
      "[CV 2/5; 6/13] START n_features_to_select=6.....................................\n",
      "[CV 2/5; 6/13] END n_features_to_select=6;, score=(train=0.012, test=0.008) total time=   3.2s\n",
      "[CV 3/5; 6/13] START n_features_to_select=6.....................................\n",
      "[CV 3/5; 6/13] END n_features_to_select=6;, score=(train=0.004, test=0.003) total time=   3.4s\n",
      "[CV 4/5; 6/13] START n_features_to_select=6.....................................\n",
      "[CV 4/5; 6/13] END n_features_to_select=6;, score=(train=0.003, test=0.003) total time=   3.9s\n",
      "[CV 5/5; 6/13] START n_features_to_select=6.....................................\n",
      "[CV 5/5; 6/13] END n_features_to_select=6;, score=(train=0.001, test=0.001) total time=   4.1s\n",
      "[CV 1/5; 7/13] START n_features_to_select=7.....................................\n",
      "[CV 1/5; 7/13] END n_features_to_select=7;, score=(train=0.008, test=0.006) total time=   4.0s\n",
      "[CV 2/5; 7/13] START n_features_to_select=7.....................................\n",
      "[CV 2/5; 7/13] END n_features_to_select=7;, score=(train=0.012, test=0.008) total time=   3.7s\n",
      "[CV 3/5; 7/13] START n_features_to_select=7.....................................\n",
      "[CV 3/5; 7/13] END n_features_to_select=7;, score=(train=0.004, test=0.003) total time=   3.5s\n",
      "[CV 4/5; 7/13] START n_features_to_select=7.....................................\n",
      "[CV 4/5; 7/13] END n_features_to_select=7;, score=(train=0.003, test=0.004) total time=   3.6s\n",
      "[CV 5/5; 7/13] START n_features_to_select=7.....................................\n",
      "[CV 5/5; 7/13] END n_features_to_select=7;, score=(train=0.001, test=0.001) total time=   3.3s\n",
      "[CV 1/5; 8/13] START n_features_to_select=8.....................................\n",
      "[CV 1/5; 8/13] END n_features_to_select=8;, score=(train=0.008, test=0.006) total time=   3.3s\n",
      "[CV 2/5; 8/13] START n_features_to_select=8.....................................\n",
      "[CV 2/5; 8/13] END n_features_to_select=8;, score=(train=0.012, test=0.007) total time=   3.5s\n",
      "[CV 3/5; 8/13] START n_features_to_select=8.....................................\n",
      "[CV 3/5; 8/13] END n_features_to_select=8;, score=(train=0.008, test=0.010) total time=   3.4s\n",
      "[CV 4/5; 8/13] START n_features_to_select=8.....................................\n",
      "[CV 4/5; 8/13] END n_features_to_select=8;, score=(train=0.004, test=0.003) total time=   3.3s\n",
      "[CV 5/5; 8/13] START n_features_to_select=8.....................................\n",
      "[CV 5/5; 8/13] END n_features_to_select=8;, score=(train=0.003, test=0.004) total time=   3.3s\n",
      "[CV 1/5; 9/13] START n_features_to_select=9.....................................\n",
      "[CV 1/5; 9/13] END n_features_to_select=9;, score=(train=0.008, test=0.006) total time=   3.4s\n",
      "[CV 2/5; 9/13] START n_features_to_select=9.....................................\n",
      "[CV 2/5; 9/13] END n_features_to_select=9;, score=(train=0.013, test=0.007) total time=   3.2s\n",
      "[CV 3/5; 9/13] START n_features_to_select=9.....................................\n",
      "[CV 3/5; 9/13] END n_features_to_select=9;, score=(train=0.008, test=0.010) total time=   3.6s\n",
      "[CV 4/5; 9/13] START n_features_to_select=9.....................................\n",
      "[CV 4/5; 9/13] END n_features_to_select=9;, score=(train=0.004, test=0.005) total time=   4.0s\n",
      "[CV 5/5; 9/13] START n_features_to_select=9.....................................\n",
      "[CV 5/5; 9/13] END n_features_to_select=9;, score=(train=0.003, test=0.004) total time=   4.0s\n",
      "[CV 1/5; 10/13] START n_features_to_select=10...................................\n",
      "[CV 1/5; 10/13] END n_features_to_select=10;, score=(train=0.008, test=0.005) total time=   3.9s\n",
      "[CV 2/5; 10/13] START n_features_to_select=10...................................\n"
     ]
    },
    {
     "name": "stdout",
     "output_type": "stream",
     "text": [
      "[CV 2/5; 10/13] END n_features_to_select=10;, score=(train=0.013, test=0.008) total time=   3.7s\n",
      "[CV 3/5; 10/13] START n_features_to_select=10...................................\n",
      "[CV 3/5; 10/13] END n_features_to_select=10;, score=(train=0.008, test=0.010) total time=   3.2s\n",
      "[CV 4/5; 10/13] START n_features_to_select=10...................................\n",
      "[CV 4/5; 10/13] END n_features_to_select=10;, score=(train=0.004, test=0.005) total time=   3.2s\n",
      "[CV 5/5; 10/13] START n_features_to_select=10...................................\n",
      "[CV 5/5; 10/13] END n_features_to_select=10;, score=(train=0.006, test=0.007) total time=   3.6s\n",
      "[CV 1/5; 11/13] START n_features_to_select=11...................................\n",
      "[CV 1/5; 11/13] END n_features_to_select=11;, score=(train=0.008, test=0.006) total time=   3.8s\n",
      "[CV 2/5; 11/13] START n_features_to_select=11...................................\n",
      "[CV 2/5; 11/13] END n_features_to_select=11;, score=(train=0.013, test=0.007) total time=   3.9s\n",
      "[CV 3/5; 11/13] START n_features_to_select=11...................................\n",
      "[CV 3/5; 11/13] END n_features_to_select=11;, score=(train=0.010, test=0.011) total time=   4.2s\n",
      "[CV 4/5; 11/13] START n_features_to_select=11...................................\n",
      "[CV 4/5; 11/13] END n_features_to_select=11;, score=(train=0.004, test=0.004) total time=   4.0s\n",
      "[CV 5/5; 11/13] START n_features_to_select=11...................................\n",
      "[CV 5/5; 11/13] END n_features_to_select=11;, score=(train=0.006, test=0.008) total time=   3.5s\n",
      "[CV 1/5; 12/13] START n_features_to_select=12...................................\n",
      "[CV 1/5; 12/13] END n_features_to_select=12;, score=(train=0.008, test=0.005) total time=   3.1s\n",
      "[CV 2/5; 12/13] START n_features_to_select=12...................................\n",
      "[CV 2/5; 12/13] END n_features_to_select=12;, score=(train=0.014, test=0.007) total time=   3.1s\n",
      "[CV 3/5; 12/13] START n_features_to_select=12...................................\n",
      "[CV 3/5; 12/13] END n_features_to_select=12;, score=(train=0.010, test=0.011) total time=   3.2s\n",
      "[CV 4/5; 12/13] START n_features_to_select=12...................................\n",
      "[CV 4/5; 12/13] END n_features_to_select=12;, score=(train=0.014, test=0.012) total time=   3.2s\n",
      "[CV 5/5; 12/13] START n_features_to_select=12...................................\n",
      "[CV 5/5; 12/13] END n_features_to_select=12;, score=(train=0.007, test=0.008) total time=   3.3s\n",
      "[CV 1/5; 13/13] START n_features_to_select=13...................................\n",
      "[CV 1/5; 13/13] END n_features_to_select=13;, score=(train=0.008, test=0.005) total time=   3.6s\n",
      "[CV 2/5; 13/13] START n_features_to_select=13...................................\n",
      "[CV 2/5; 13/13] END n_features_to_select=13;, score=(train=0.015, test=0.006) total time=   4.8s\n",
      "[CV 3/5; 13/13] START n_features_to_select=13...................................\n",
      "[CV 3/5; 13/13] END n_features_to_select=13;, score=(train=0.014, test=0.015) total time=   4.4s\n",
      "[CV 4/5; 13/13] START n_features_to_select=13...................................\n",
      "[CV 4/5; 13/13] END n_features_to_select=13;, score=(train=0.014, test=0.012) total time=   4.4s\n",
      "[CV 5/5; 13/13] START n_features_to_select=13...................................\n",
      "[CV 5/5; 13/13] END n_features_to_select=13;, score=(train=0.007, test=0.008) total time=   4.0s\n"
     ]
    },
    {
     "data": {
      "text/plain": [
       "GridSearchCV(cv=KFold(n_splits=5, random_state=100, shuffle=True),\n",
       "             estimator=RFE(estimator=LinearRegression()),\n",
       "             param_grid=[{'n_features_to_select': [1, 2, 3, 4, 5, 6, 7, 8, 9,\n",
       "                                                   10, 11, 12, 13]}],\n",
       "             return_train_score=True, scoring='r2', verbose=10)"
      ]
     },
     "execution_count": 106,
     "metadata": {},
     "output_type": "execute_result"
    }
   ],
   "source": [
    "from sklearn.feature_selection import RFE\n",
    "\n",
    "\n",
    "#specify range of hyperparameters to tune\n",
    "hyper_params = [{'n_features_to_select': list(range(1, 14))}]\n",
    "\n",
    "\n",
    "# perform grid search\n",
    "\n",
    "rfe = RFE(LRmodel)             \n",
    "\n",
    "# 3.2 call GridSearchCV()\n",
    "model_cv = model_selection.GridSearchCV(estimator = rfe, \n",
    "                        param_grid = hyper_params, \n",
    "                        scoring= 'r2', \n",
    "                        cv = folds, \n",
    "                        verbose = 10,\n",
    "                        return_train_score=True)      \n",
    "\n",
    "# fit the model\n",
    "model_cv.fit(x_train, y_train)              "
   ]
  },
  {
   "cell_type": "code",
   "execution_count": 107,
   "metadata": {},
   "outputs": [
    {
     "data": {
      "text/html": [
       "<div>\n",
       "<style scoped>\n",
       "    .dataframe tbody tr th:only-of-type {\n",
       "        vertical-align: middle;\n",
       "    }\n",
       "\n",
       "    .dataframe tbody tr th {\n",
       "        vertical-align: top;\n",
       "    }\n",
       "\n",
       "    .dataframe thead th {\n",
       "        text-align: right;\n",
       "    }\n",
       "</style>\n",
       "<table border=\"1\" class=\"dataframe\">\n",
       "  <thead>\n",
       "    <tr style=\"text-align: right;\">\n",
       "      <th></th>\n",
       "      <th>mean_fit_time</th>\n",
       "      <th>std_fit_time</th>\n",
       "      <th>mean_score_time</th>\n",
       "      <th>std_score_time</th>\n",
       "      <th>param_n_features_to_select</th>\n",
       "      <th>params</th>\n",
       "      <th>split0_test_score</th>\n",
       "      <th>split1_test_score</th>\n",
       "      <th>split2_test_score</th>\n",
       "      <th>split3_test_score</th>\n",
       "      <th>...</th>\n",
       "      <th>mean_test_score</th>\n",
       "      <th>std_test_score</th>\n",
       "      <th>rank_test_score</th>\n",
       "      <th>split0_train_score</th>\n",
       "      <th>split1_train_score</th>\n",
       "      <th>split2_train_score</th>\n",
       "      <th>split3_train_score</th>\n",
       "      <th>split4_train_score</th>\n",
       "      <th>mean_train_score</th>\n",
       "      <th>std_train_score</th>\n",
       "    </tr>\n",
       "  </thead>\n",
       "  <tbody>\n",
       "    <tr>\n",
       "      <th>0</th>\n",
       "      <td>2.671947</td>\n",
       "      <td>0.161083</td>\n",
       "      <td>0.005912</td>\n",
       "      <td>0.000160</td>\n",
       "      <td>1</td>\n",
       "      <td>{'n_features_to_select': 1}</td>\n",
       "      <td>0.000750</td>\n",
       "      <td>0.000995</td>\n",
       "      <td>0.003170</td>\n",
       "      <td>0.000307</td>\n",
       "      <td>...</td>\n",
       "      <td>0.001230</td>\n",
       "      <td>0.000999</td>\n",
       "      <td>13</td>\n",
       "      <td>0.002038</td>\n",
       "      <td>0.003338</td>\n",
       "      <td>0.002383</td>\n",
       "      <td>0.001640</td>\n",
       "      <td>0.001432</td>\n",
       "      <td>0.002166</td>\n",
       "      <td>0.000671</td>\n",
       "    </tr>\n",
       "    <tr>\n",
       "      <th>1</th>\n",
       "      <td>3.023139</td>\n",
       "      <td>0.275613</td>\n",
       "      <td>0.008033</td>\n",
       "      <td>0.000887</td>\n",
       "      <td>2</td>\n",
       "      <td>{'n_features_to_select': 2}</td>\n",
       "      <td>0.002592</td>\n",
       "      <td>0.003290</td>\n",
       "      <td>0.003816</td>\n",
       "      <td>0.000247</td>\n",
       "      <td>...</td>\n",
       "      <td>0.002193</td>\n",
       "      <td>0.001353</td>\n",
       "      <td>12</td>\n",
       "      <td>0.002834</td>\n",
       "      <td>0.004844</td>\n",
       "      <td>0.003401</td>\n",
       "      <td>0.001641</td>\n",
       "      <td>0.001536</td>\n",
       "      <td>0.002851</td>\n",
       "      <td>0.001222</td>\n",
       "    </tr>\n",
       "    <tr>\n",
       "      <th>2</th>\n",
       "      <td>3.354766</td>\n",
       "      <td>0.279094</td>\n",
       "      <td>0.008519</td>\n",
       "      <td>0.001160</td>\n",
       "      <td>3</td>\n",
       "      <td>{'n_features_to_select': 3}</td>\n",
       "      <td>0.003329</td>\n",
       "      <td>0.004924</td>\n",
       "      <td>0.003731</td>\n",
       "      <td>0.000349</td>\n",
       "      <td>...</td>\n",
       "      <td>0.002665</td>\n",
       "      <td>0.001723</td>\n",
       "      <td>10</td>\n",
       "      <td>0.003328</td>\n",
       "      <td>0.005817</td>\n",
       "      <td>0.003684</td>\n",
       "      <td>0.001580</td>\n",
       "      <td>0.001508</td>\n",
       "      <td>0.003183</td>\n",
       "      <td>0.001587</td>\n",
       "    </tr>\n",
       "    <tr>\n",
       "      <th>3</th>\n",
       "      <td>3.439186</td>\n",
       "      <td>0.364004</td>\n",
       "      <td>0.007545</td>\n",
       "      <td>0.001061</td>\n",
       "      <td>4</td>\n",
       "      <td>{'n_features_to_select': 4}</td>\n",
       "      <td>0.003304</td>\n",
       "      <td>0.004927</td>\n",
       "      <td>0.003142</td>\n",
       "      <td>0.000350</td>\n",
       "      <td>...</td>\n",
       "      <td>0.002549</td>\n",
       "      <td>0.001658</td>\n",
       "      <td>11</td>\n",
       "      <td>0.003325</td>\n",
       "      <td>0.005817</td>\n",
       "      <td>0.003968</td>\n",
       "      <td>0.001569</td>\n",
       "      <td>0.001535</td>\n",
       "      <td>0.003243</td>\n",
       "      <td>0.001605</td>\n",
       "    </tr>\n",
       "    <tr>\n",
       "      <th>4</th>\n",
       "      <td>4.144510</td>\n",
       "      <td>0.789887</td>\n",
       "      <td>0.008139</td>\n",
       "      <td>0.001346</td>\n",
       "      <td>5</td>\n",
       "      <td>{'n_features_to_select': 5}</td>\n",
       "      <td>0.005236</td>\n",
       "      <td>0.007206</td>\n",
       "      <td>0.003124</td>\n",
       "      <td>0.002820</td>\n",
       "      <td>...</td>\n",
       "      <td>0.003891</td>\n",
       "      <td>0.002121</td>\n",
       "      <td>9</td>\n",
       "      <td>0.006209</td>\n",
       "      <td>0.010868</td>\n",
       "      <td>0.004246</td>\n",
       "      <td>0.002757</td>\n",
       "      <td>0.001539</td>\n",
       "      <td>0.005124</td>\n",
       "      <td>0.003268</td>\n",
       "    </tr>\n",
       "    <tr>\n",
       "      <th>5</th>\n",
       "      <td>3.507738</td>\n",
       "      <td>0.423425</td>\n",
       "      <td>0.006939</td>\n",
       "      <td>0.000756</td>\n",
       "      <td>6</td>\n",
       "      <td>{'n_features_to_select': 6}</td>\n",
       "      <td>0.005670</td>\n",
       "      <td>0.007568</td>\n",
       "      <td>0.002927</td>\n",
       "      <td>0.003408</td>\n",
       "      <td>...</td>\n",
       "      <td>0.004104</td>\n",
       "      <td>0.002293</td>\n",
       "      <td>8</td>\n",
       "      <td>0.007296</td>\n",
       "      <td>0.012260</td>\n",
       "      <td>0.004308</td>\n",
       "      <td>0.003231</td>\n",
       "      <td>0.001473</td>\n",
       "      <td>0.005714</td>\n",
       "      <td>0.003781</td>\n",
       "    </tr>\n",
       "    <tr>\n",
       "      <th>6</th>\n",
       "      <td>3.615354</td>\n",
       "      <td>0.226340</td>\n",
       "      <td>0.007369</td>\n",
       "      <td>0.000390</td>\n",
       "      <td>7</td>\n",
       "      <td>{'n_features_to_select': 7}</td>\n",
       "      <td>0.005644</td>\n",
       "      <td>0.007727</td>\n",
       "      <td>0.003003</td>\n",
       "      <td>0.003547</td>\n",
       "      <td>...</td>\n",
       "      <td>0.004175</td>\n",
       "      <td>0.002321</td>\n",
       "      <td>7</td>\n",
       "      <td>0.007572</td>\n",
       "      <td>0.012444</td>\n",
       "      <td>0.004265</td>\n",
       "      <td>0.003220</td>\n",
       "      <td>0.001488</td>\n",
       "      <td>0.005798</td>\n",
       "      <td>0.003870</td>\n",
       "    </tr>\n",
       "    <tr>\n",
       "      <th>7</th>\n",
       "      <td>3.362590</td>\n",
       "      <td>0.071484</td>\n",
       "      <td>0.007070</td>\n",
       "      <td>0.000684</td>\n",
       "      <td>8</td>\n",
       "      <td>{'n_features_to_select': 8}</td>\n",
       "      <td>0.005669</td>\n",
       "      <td>0.007344</td>\n",
       "      <td>0.009958</td>\n",
       "      <td>0.003034</td>\n",
       "      <td>...</td>\n",
       "      <td>0.005916</td>\n",
       "      <td>0.002538</td>\n",
       "      <td>6</td>\n",
       "      <td>0.007750</td>\n",
       "      <td>0.012483</td>\n",
       "      <td>0.008375</td>\n",
       "      <td>0.003645</td>\n",
       "      <td>0.003138</td>\n",
       "      <td>0.007078</td>\n",
       "      <td>0.003425</td>\n",
       "    </tr>\n",
       "    <tr>\n",
       "      <th>8</th>\n",
       "      <td>3.634751</td>\n",
       "      <td>0.318741</td>\n",
       "      <td>0.009599</td>\n",
       "      <td>0.001817</td>\n",
       "      <td>9</td>\n",
       "      <td>{'n_features_to_select': 9}</td>\n",
       "      <td>0.005580</td>\n",
       "      <td>0.007357</td>\n",
       "      <td>0.009964</td>\n",
       "      <td>0.004691</td>\n",
       "      <td>...</td>\n",
       "      <td>0.006234</td>\n",
       "      <td>0.002238</td>\n",
       "      <td>5</td>\n",
       "      <td>0.008054</td>\n",
       "      <td>0.012665</td>\n",
       "      <td>0.008366</td>\n",
       "      <td>0.004008</td>\n",
       "      <td>0.003127</td>\n",
       "      <td>0.007244</td>\n",
       "      <td>0.003427</td>\n",
       "    </tr>\n",
       "    <tr>\n",
       "      <th>9</th>\n",
       "      <td>3.493219</td>\n",
       "      <td>0.272868</td>\n",
       "      <td>0.007668</td>\n",
       "      <td>0.000708</td>\n",
       "      <td>10</td>\n",
       "      <td>{'n_features_to_select': 10}</td>\n",
       "      <td>0.005467</td>\n",
       "      <td>0.007658</td>\n",
       "      <td>0.009971</td>\n",
       "      <td>0.004645</td>\n",
       "      <td>...</td>\n",
       "      <td>0.006978</td>\n",
       "      <td>0.001853</td>\n",
       "      <td>4</td>\n",
       "      <td>0.008095</td>\n",
       "      <td>0.012719</td>\n",
       "      <td>0.008377</td>\n",
       "      <td>0.004122</td>\n",
       "      <td>0.005643</td>\n",
       "      <td>0.007791</td>\n",
       "      <td>0.002926</td>\n",
       "    </tr>\n",
       "    <tr>\n",
       "      <th>10</th>\n",
       "      <td>3.868919</td>\n",
       "      <td>0.238256</td>\n",
       "      <td>0.008685</td>\n",
       "      <td>0.001115</td>\n",
       "      <td>11</td>\n",
       "      <td>{'n_features_to_select': 11}</td>\n",
       "      <td>0.005548</td>\n",
       "      <td>0.007182</td>\n",
       "      <td>0.010853</td>\n",
       "      <td>0.003683</td>\n",
       "      <td>...</td>\n",
       "      <td>0.007144</td>\n",
       "      <td>0.002450</td>\n",
       "      <td>3</td>\n",
       "      <td>0.008023</td>\n",
       "      <td>0.012881</td>\n",
       "      <td>0.010273</td>\n",
       "      <td>0.003845</td>\n",
       "      <td>0.006471</td>\n",
       "      <td>0.008299</td>\n",
       "      <td>0.003103</td>\n",
       "    </tr>\n",
       "    <tr>\n",
       "      <th>11</th>\n",
       "      <td>3.164208</td>\n",
       "      <td>0.063582</td>\n",
       "      <td>0.007412</td>\n",
       "      <td>0.000744</td>\n",
       "      <td>12</td>\n",
       "      <td>{'n_features_to_select': 12}</td>\n",
       "      <td>0.005400</td>\n",
       "      <td>0.006522</td>\n",
       "      <td>0.010831</td>\n",
       "      <td>0.012249</td>\n",
       "      <td>...</td>\n",
       "      <td>0.008555</td>\n",
       "      <td>0.002590</td>\n",
       "      <td>2</td>\n",
       "      <td>0.008087</td>\n",
       "      <td>0.014013</td>\n",
       "      <td>0.010269</td>\n",
       "      <td>0.013888</td>\n",
       "      <td>0.006858</td>\n",
       "      <td>0.010623</td>\n",
       "      <td>0.002929</td>\n",
       "    </tr>\n",
       "    <tr>\n",
       "      <th>12</th>\n",
       "      <td>4.224268</td>\n",
       "      <td>0.424275</td>\n",
       "      <td>0.008730</td>\n",
       "      <td>0.000529</td>\n",
       "      <td>13</td>\n",
       "      <td>{'n_features_to_select': 13}</td>\n",
       "      <td>0.005441</td>\n",
       "      <td>0.006406</td>\n",
       "      <td>0.015122</td>\n",
       "      <td>0.011960</td>\n",
       "      <td>...</td>\n",
       "      <td>0.009326</td>\n",
       "      <td>0.003654</td>\n",
       "      <td>1</td>\n",
       "      <td>0.008087</td>\n",
       "      <td>0.014564</td>\n",
       "      <td>0.013897</td>\n",
       "      <td>0.013873</td>\n",
       "      <td>0.006999</td>\n",
       "      <td>0.011484</td>\n",
       "      <td>0.003246</td>\n",
       "    </tr>\n",
       "  </tbody>\n",
       "</table>\n",
       "<p>13 rows × 21 columns</p>\n",
       "</div>"
      ],
      "text/plain": [
       "    mean_fit_time  std_fit_time  mean_score_time  std_score_time  \\\n",
       "0        2.671947      0.161083         0.005912        0.000160   \n",
       "1        3.023139      0.275613         0.008033        0.000887   \n",
       "2        3.354766      0.279094         0.008519        0.001160   \n",
       "3        3.439186      0.364004         0.007545        0.001061   \n",
       "4        4.144510      0.789887         0.008139        0.001346   \n",
       "5        3.507738      0.423425         0.006939        0.000756   \n",
       "6        3.615354      0.226340         0.007369        0.000390   \n",
       "7        3.362590      0.071484         0.007070        0.000684   \n",
       "8        3.634751      0.318741         0.009599        0.001817   \n",
       "9        3.493219      0.272868         0.007668        0.000708   \n",
       "10       3.868919      0.238256         0.008685        0.001115   \n",
       "11       3.164208      0.063582         0.007412        0.000744   \n",
       "12       4.224268      0.424275         0.008730        0.000529   \n",
       "\n",
       "   param_n_features_to_select                        params  \\\n",
       "0                           1   {'n_features_to_select': 1}   \n",
       "1                           2   {'n_features_to_select': 2}   \n",
       "2                           3   {'n_features_to_select': 3}   \n",
       "3                           4   {'n_features_to_select': 4}   \n",
       "4                           5   {'n_features_to_select': 5}   \n",
       "5                           6   {'n_features_to_select': 6}   \n",
       "6                           7   {'n_features_to_select': 7}   \n",
       "7                           8   {'n_features_to_select': 8}   \n",
       "8                           9   {'n_features_to_select': 9}   \n",
       "9                          10  {'n_features_to_select': 10}   \n",
       "10                         11  {'n_features_to_select': 11}   \n",
       "11                         12  {'n_features_to_select': 12}   \n",
       "12                         13  {'n_features_to_select': 13}   \n",
       "\n",
       "    split0_test_score  split1_test_score  split2_test_score  \\\n",
       "0            0.000750           0.000995           0.003170   \n",
       "1            0.002592           0.003290           0.003816   \n",
       "2            0.003329           0.004924           0.003731   \n",
       "3            0.003304           0.004927           0.003142   \n",
       "4            0.005236           0.007206           0.003124   \n",
       "5            0.005670           0.007568           0.002927   \n",
       "6            0.005644           0.007727           0.003003   \n",
       "7            0.005669           0.007344           0.009958   \n",
       "8            0.005580           0.007357           0.009964   \n",
       "9            0.005467           0.007658           0.009971   \n",
       "10           0.005548           0.007182           0.010853   \n",
       "11           0.005400           0.006522           0.010831   \n",
       "12           0.005441           0.006406           0.015122   \n",
       "\n",
       "    split3_test_score  ...  mean_test_score  std_test_score  rank_test_score  \\\n",
       "0            0.000307  ...         0.001230        0.000999               13   \n",
       "1            0.000247  ...         0.002193        0.001353               12   \n",
       "2            0.000349  ...         0.002665        0.001723               10   \n",
       "3            0.000350  ...         0.002549        0.001658               11   \n",
       "4            0.002820  ...         0.003891        0.002121                9   \n",
       "5            0.003408  ...         0.004104        0.002293                8   \n",
       "6            0.003547  ...         0.004175        0.002321                7   \n",
       "7            0.003034  ...         0.005916        0.002538                6   \n",
       "8            0.004691  ...         0.006234        0.002238                5   \n",
       "9            0.004645  ...         0.006978        0.001853                4   \n",
       "10           0.003683  ...         0.007144        0.002450                3   \n",
       "11           0.012249  ...         0.008555        0.002590                2   \n",
       "12           0.011960  ...         0.009326        0.003654                1   \n",
       "\n",
       "    split0_train_score  split1_train_score  split2_train_score  \\\n",
       "0             0.002038            0.003338            0.002383   \n",
       "1             0.002834            0.004844            0.003401   \n",
       "2             0.003328            0.005817            0.003684   \n",
       "3             0.003325            0.005817            0.003968   \n",
       "4             0.006209            0.010868            0.004246   \n",
       "5             0.007296            0.012260            0.004308   \n",
       "6             0.007572            0.012444            0.004265   \n",
       "7             0.007750            0.012483            0.008375   \n",
       "8             0.008054            0.012665            0.008366   \n",
       "9             0.008095            0.012719            0.008377   \n",
       "10            0.008023            0.012881            0.010273   \n",
       "11            0.008087            0.014013            0.010269   \n",
       "12            0.008087            0.014564            0.013897   \n",
       "\n",
       "    split3_train_score  split4_train_score  mean_train_score  std_train_score  \n",
       "0             0.001640            0.001432          0.002166         0.000671  \n",
       "1             0.001641            0.001536          0.002851         0.001222  \n",
       "2             0.001580            0.001508          0.003183         0.001587  \n",
       "3             0.001569            0.001535          0.003243         0.001605  \n",
       "4             0.002757            0.001539          0.005124         0.003268  \n",
       "5             0.003231            0.001473          0.005714         0.003781  \n",
       "6             0.003220            0.001488          0.005798         0.003870  \n",
       "7             0.003645            0.003138          0.007078         0.003425  \n",
       "8             0.004008            0.003127          0.007244         0.003427  \n",
       "9             0.004122            0.005643          0.007791         0.002926  \n",
       "10            0.003845            0.006471          0.008299         0.003103  \n",
       "11            0.013888            0.006858          0.010623         0.002929  \n",
       "12            0.013873            0.006999          0.011484         0.003246  \n",
       "\n",
       "[13 rows x 21 columns]"
      ]
     },
     "execution_count": 107,
     "metadata": {},
     "output_type": "execute_result"
    }
   ],
   "source": [
    "# cv results\n",
    "cv_results = pd.DataFrame(model_cv.cv_results_)\n",
    "cv_results\n"
   ]
  },
  {
   "cell_type": "markdown",
   "metadata": {},
   "source": [
    "#### Linear Regression - Regularisation"
   ]
  },
  {
   "cell_type": "markdown",
   "metadata": {},
   "source": [
    "**Lasso Regularisation**"
   ]
  },
  {
   "cell_type": "code",
   "execution_count": 75,
   "metadata": {},
   "outputs": [
    {
     "name": "stdout",
     "output_type": "stream",
     "text": [
      "--------------------------------\n",
      "lasso with alpha 0.0001\n",
      "--------------------------------\n",
      "\n",
      "Train score: 0.568\n",
      "Test score: 0.566\n",
      "[-0.732, 0.0, 0.145, -0.227, -0.184, -0.118, -0.056, -0.052, -0.056, -0.123, -0.26, 0.084, -0.048, -0.131, -0.24, 0.002, 0.116, -0.0, 0.009, 0.0, 0.168, 0.108, 0.047, -0.153, 0.036, 0.848, 0.64, 0.152, -0.175, -0.051, 0.02, 0.082, -0.0, 0.071, -0.018, 1.626, 1.254, 1.471, 1.375, 1.786, 1.834, 1.862, 1.939, 2.252, 1.987, 2.172, 2.118, 1.569, 1.448, 1.527, 1.58, 1.656, 1.402, 1.751, 1.665, 1.942, 1.646, 1.944, 1.849, 0.111, -0.106, -0.038, 0.009, 0.003, -0.027, 0.0, 0.076, 0.037, -0.011, -0.01, 0.042, 0.045, -0.019, -0.027, -0.114, 0.029, 0.088, 0.023, 0.018, 0.1, 0.095, 0.063, 0.082, 0.037, 0.065, -0.008, 0.0, -0.0, 0.04, -0.0, 0.074, -0.026, 0.0, -0.0, 0.001, -0.4, 0.0, 0.021, -0.105, -0.048, -0.0, 0.215, 0.203, -0.0, -0.0, -0.104, -0.126, 0.0, 0.028, 0.005, -0.099, 0.003, -0.073, 0.081, -0.283, -0.18, -0.119, -0.073, 0.014, 0.0, 0.071, 0.096, 0.112, -0.132, -0.0, 0.141, 0.0, -0.188, 0.081, -0.076, 0.098, -0.014]\n",
      "--------------------------------\n",
      "MSE on test set: 2.3920394598351686\n",
      "Manual MSE on test set: 2.392039459835163\n",
      "RMSE on test set: 1.5466219511681478\n",
      "model complexity: 51.42150503996062\n",
      "regularized cost: 2.3971816103391648\n",
      "\n",
      "\n",
      "--------------------------------\n",
      "lasso with alpha 0.001\n",
      "--------------------------------\n",
      "\n",
      "Train score: 0.567\n",
      "Test score: 0.567\n",
      "[-0.361, -0.0, 0.0, -0.151, -0.116, -0.046, 0.005, 0.014, 0.065, -0.0, -0.11, 0.0, -0.0, -0.0, -0.062, -0.0, 0.114, 0.0, 0.027, 0.011, 0.18, 0.059, 0.0, -0.182, 0.0, 0.0, 0.485, -0.0, -0.168, -0.047, 0.015, 0.075, -0.0, 0.065, -0.011, 1.558, 1.233, 1.438, 1.35, 1.763, 1.811, 1.85, 1.921, 2.23, 1.97, 2.161, 2.107, 1.493, 1.38, 1.483, 1.521, 1.559, 1.372, 1.707, 1.618, 1.921, 1.634, 1.936, 1.837, 0.079, -0.101, -0.031, 0.007, 0.005, -0.02, 0.0, 0.147, 0.016, -0.009, -0.007, 0.035, 0.043, -0.018, -0.026, -0.115, -0.0, 0.035, -0.0, -0.0, 0.051, 0.049, 0.019, 0.035, -0.0, 0.01, -0.006, 0.0, 0.0, 0.036, 0.0, 0.059, -0.025, -0.0, -0.003, 0.0, -0.394, 0.0, 0.027, -0.089, -0.022, -0.0, 0.205, 0.186, -0.0, 0.0, -0.005, -0.041, 0.0, 0.0, 0.053, -0.018, 0.0, -0.0, 0.075, -0.204, -0.1, -0.023, -0.0, 0.073, 0.0, 0.123, 0.138, -0.0, -0.0, 0.018, 0.039, -0.0, -0.077, 0.0, -0.0, 0.029, -0.011]\n",
      "--------------------------------\n",
      "MSE on test set: 2.389088500570172\n",
      "Manual MSE on test set: 2.3890885005701694\n",
      "RMSE on test set: 1.5456676552772177\n",
      "model complexity: 46.16222307629617\n",
      "regularized cost: 2.4352507236464684\n",
      "\n",
      "\n",
      "--------------------------------\n",
      "lasso with alpha 0.005\n",
      "--------------------------------\n",
      "\n",
      "Train score: 0.561\n",
      "Test score: 0.563\n",
      "[-0.0, -0.0, -0.0, -0.06, -0.066, -0.0, 0.018, 0.045, 0.089, 0.0, -0.0, 0.0, -0.0, -0.0, -0.0, -0.0, 0.119, 0.0, 0.027, 0.0, 0.154, 0.016, 0.0, -0.142, 0.0, 0.0, 0.416, -0.055, -0.142, -0.026, 0.0, 0.047, 0.0, 0.041, -0.0, 1.243, 1.136, 1.284, 1.227, 1.661, 1.719, 1.793, 1.845, 2.126, 1.893, 2.108, 2.048, 1.142, 1.078, 1.284, 1.265, 1.126, 1.233, 1.514, 1.42, 1.81, 1.579, 1.886, 1.773, 0.0, -0.121, -0.0, 0.0, 0.0, -0.0, -0.0, 0.141, 0.0, -0.006, -0.0, 0.009, 0.029, -0.011, -0.019, -0.0, -0.0, 0.0, -0.0, -0.0, 0.0, 0.0, 0.0, 0.0, -0.0, 0.0, -0.001, 0.0, -0.0, 0.011, 0.0, 0.0, -0.022, 0.0, -0.004, 0.0, -0.377, 0.0, 0.001, -0.043, -0.0, -0.0, 0.113, 0.103, -0.0, 0.0, -0.0, -0.063, 0.0, 0.0, 0.0, 0.0, 0.0, -0.0, 0.036, -0.191, -0.063, -0.0, -0.0, 0.007, 0.0, 0.036, 0.02, -0.039, 0.0, 0.0, 0.0, 0.0, -0.0, 0.0, -0.0, 0.0, -0.009]\n",
      "--------------------------------\n",
      "MSE on test set: 2.4115499964615847\n",
      "Manual MSE on test set: 2.411549996461584\n",
      "RMSE on test set: 1.5529166096289861\n",
      "model complexity: 40.130499933576885\n",
      "regularized cost: 2.612202496129469\n",
      "\n",
      "\n",
      "--------------------------------\n",
      "lasso with alpha 0.01\n",
      "--------------------------------\n",
      "\n",
      "Train score: 0.546\n",
      "Test score: 0.549\n",
      "[-0.0, -0.0, -0.0, -0.0, -0.055, -0.0, 0.0, 0.045, 0.055, -0.0, -0.0, 0.0, -0.0, -0.0, -0.0, -0.0, 0.127, 0.0, 0.03, 0.0, 0.12, 0.0, 0.0, -0.078, 0.004, 0.0, 0.405, -0.073, -0.111, -0.0, 0.0, 0.012, 0.0, 0.008, -0.0, 0.847, 1.013, 1.086, 1.075, 1.533, 1.609, 1.726, 1.753, 1.984, 1.796, 2.036, 1.972, 0.687, 0.697, 1.024, 0.944, 0.577, 1.064, 1.273, 1.176, 1.664, 1.505, 1.822, 1.691, 0.0, -0.119, -0.0, 0.0, 0.0, -0.0, -0.0, 0.154, 0.0, -0.0, -0.0, 0.0, 0.02, -0.0, -0.0, -0.0, -0.0, 0.0, -0.0, -0.0, 0.0, 0.0, 0.0, 0.0, -0.0, 0.0, -0.0, 0.0, -0.0, 0.0, 0.0, 0.0, -0.0, 0.0, -0.0, 0.0, -0.354, 0.0, 0.0, -0.0, -0.0, -0.0, 0.0, 0.0, -0.0, 0.0, -0.0, -0.049, 0.0, 0.0, 0.0, 0.0, 0.0, -0.0, 0.0, -0.124, -0.0, 0.0, -0.0, 0.0, 0.0, 0.004, 0.0, -0.0, 0.0, 0.0, 0.0, 0.0, -0.0, 0.0, 0.0, 0.0, -0.0]\n",
      "--------------------------------\n",
      "MSE on test set: 2.4864979594662504\n",
      "Manual MSE on test set: 2.4864979594662624\n",
      "RMSE on test set: 1.5768633293555439\n",
      "model complexity: 34.50208762688697\n",
      "regularized cost: 2.83151883573512\n",
      "\n",
      "\n"
     ]
    }
   ],
   "source": [
    "alpha = [0.0001, 0.001, 0.005, 0.01]\n",
    "\n",
    "for i in range(4):\n",
    "    #build lasso regressor model here\n",
    "    lasso = linear_model.Lasso(alpha=alpha[i])\n",
    "    lasso.fit(x_train, y_train) #fit a lasso regression on the training data\n",
    "    y_predlasso = lasso.predict(x_test) #use this model to predict the test data\n",
    "    lasso_mse = metrics.mean_squared_error(y_test, y_predlasso) #calculate the test MSE\n",
    "    lasso_rmse = metrics.mean_squared_error(y_test, y_predlasso,squared = False) #calculate the test RMSE\n",
    "    msemanual = np.mean((y_predlasso-y_test)**2) #calculate mse manually to cross validate\n",
    "    lasso_cplxy = (np.sum(abs(lasso.coef_))) #calculate l1norm / model complexity\n",
    "    \n",
    "    print('-' * 32)\n",
    "    print('lasso with alpha', alpha[i])\n",
    "    print('-' * 32)\n",
    "    print('\\nTrain score:', round(lasso.score(x_train, y_train), 3)) #compute train R^2 score\n",
    "    print('Test score:', round(lasso.score(x_test, y_test), 3)) #compute test R^2 score\n",
    "    print(list(map(lambda x: round(x, 3), lasso.coef_))) #list out the coef values \n",
    "    print('-' * 32)\n",
    "    print('MSE on test set:', lasso_mse) #compute MSE results\n",
    "    print('Manual MSE on test set:',msemanual) #compute MSE results\n",
    "    print('RMSE on test set:', lasso_rmse) #compute RMSE results\n",
    "    print('model complexity:', lasso_cplxy) #compute L1 NOMR score\n",
    "    print('regularized cost:', lasso_mse + alpha[i] * lasso_cplxy) #compute regularised cost function scores\n",
    "    print('\\n')\n",
    "   "
   ]
  },
  {
   "cell_type": "markdown",
   "metadata": {},
   "source": [
    "**Ridge Regularisation**"
   ]
  },
  {
   "cell_type": "code",
   "execution_count": 76,
   "metadata": {},
   "outputs": [
    {
     "name": "stdout",
     "output_type": "stream",
     "text": [
      "--------------------------------\n",
      "ridge with alpha 0.001\n",
      "--------------------------------\n",
      "\n",
      "Train score: 0.568\n",
      "Test score: 0.566\n",
      "[-0.857, 0.345, 0.261, -0.297, -0.263, -0.198, -0.137, -0.133, -0.176, -0.246, -0.385, -0.001, -0.353, -0.256, -0.363, 0.251, 0.365, -1.343, -1.332, 0.365, 0.533, 1.086, 1.024, 0.821, 1.014, 2.023, 0.744, 0.252, -0.166, -0.041, 0.031, 0.092, 0.011, 0.082, -0.01, 1.631, 1.256, 1.474, 1.377, 1.788, 1.837, 1.864, 1.94, 2.254, 1.989, 2.173, 2.119, 1.575, 1.455, 1.531, 1.588, 1.67, 1.403, 1.755, 1.669, 1.944, 1.648, 1.945, 1.85, 0.085, -0.037, -0.069, 0.021, 0.135, 0.105, 0.135, 0.08, 0.01, -0.048, -0.041, 0.032, 0.035, -0.03, -0.037, -0.087, 0.06, 0.118, 0.056, 0.049, 0.13, 0.124, 0.094, 0.112, 0.068, 0.096, -0.037, 0.016, 0.005, 0.016, -0.014, 0.061, -0.041, 0.016, -0.037, 0.016, -0.152, 0.152, 0.005, -0.124, -0.065, -0.016, 0.201, 0.152, -0.152, -0.001, -0.073, -0.093, 0.031, 0.072, 0.039, -0.064, 0.045, -0.037, 0.081, -0.231, -0.128, -0.065, -0.017, 0.071, 0.086, 0.13, 0.155, 0.164, -0.164, -0.0, 0.255, 0.014, -0.27, 0.11, -0.162, 0.1, -0.048]\n",
      "--------------------------------\n",
      "MSE on test set: 2.393793639436416\n",
      "RMSE on test set: 1.5471889475550218\n",
      "model complexity: 9.459586177695455\n",
      "regularized cost: 2.3947395980541852\n",
      "\n",
      "\n",
      "--------------------------------\n",
      "ridge with alpha 0.01\n",
      "--------------------------------\n",
      "\n",
      "Train score: 0.568\n",
      "Test score: 0.566\n",
      "[-0.856, 0.344, 0.26, -0.297, -0.263, -0.198, -0.137, -0.133, -0.176, -0.246, -0.384, -0.0, -0.352, -0.256, -0.363, 0.251, 0.365, -1.327, -1.316, 0.36, 0.528, 1.074, 1.013, 0.81, 1.003, 2.01, 0.744, 0.252, -0.166, -0.041, 0.031, 0.092, 0.011, 0.082, -0.01, 1.631, 1.256, 1.474, 1.377, 1.788, 1.837, 1.864, 1.94, 2.254, 1.989, 2.173, 2.119, 1.575, 1.455, 1.531, 1.588, 1.67, 1.403, 1.755, 1.669, 1.944, 1.648, 1.945, 1.85, 0.085, -0.037, -0.069, 0.021, 0.132, 0.101, 0.132, 0.08, 0.01, -0.048, -0.041, 0.032, 0.035, -0.03, -0.037, -0.087, 0.06, 0.118, 0.056, 0.049, 0.13, 0.124, 0.094, 0.112, 0.068, 0.096, -0.037, 0.016, 0.005, 0.016, -0.014, 0.061, -0.041, 0.016, -0.037, 0.016, -0.152, 0.152, 0.005, -0.124, -0.065, -0.016, 0.201, 0.152, -0.152, -0.001, -0.073, -0.093, 0.031, 0.072, 0.039, -0.064, 0.045, -0.037, 0.081, -0.231, -0.128, -0.065, -0.017, 0.071, 0.086, 0.13, 0.155, 0.164, -0.164, -0.0, 0.255, 0.014, -0.27, 0.11, -0.162, 0.1, -0.048]\n",
      "--------------------------------\n",
      "MSE on test set: 2.3937823069086996\n",
      "RMSE on test set: 1.5471852852547103\n",
      "model complexity: 9.447065642014207\n",
      "regularized cost: 2.403229372550714\n",
      "\n",
      "\n",
      "--------------------------------\n",
      "ridge with alpha 0.1\n",
      "--------------------------------\n",
      "\n",
      "Train score: 0.568\n",
      "Test score: 0.566\n",
      "[-0.854, 0.341, 0.259, -0.296, -0.263, -0.197, -0.136, -0.132, -0.174, -0.244, -0.383, 0.001, -0.349, -0.254, -0.361, 0.248, 0.362, -1.185, -1.174, 0.317, 0.486, 0.975, 0.914, 0.711, 0.904, 1.897, 0.743, 0.251, -0.166, -0.041, 0.031, 0.092, 0.011, 0.082, -0.01, 1.631, 1.256, 1.473, 1.377, 1.787, 1.837, 1.864, 1.94, 2.253, 1.989, 2.173, 2.119, 1.575, 1.455, 1.531, 1.587, 1.669, 1.403, 1.754, 1.668, 1.943, 1.647, 1.945, 1.85, 0.085, -0.037, -0.069, 0.021, 0.107, 0.076, 0.107, 0.08, 0.01, -0.048, -0.041, 0.032, 0.035, -0.03, -0.037, -0.087, 0.06, 0.119, 0.056, 0.049, 0.13, 0.124, 0.094, 0.112, 0.068, 0.096, -0.037, 0.016, 0.005, 0.016, -0.014, 0.061, -0.041, 0.016, -0.037, 0.016, -0.152, 0.152, 0.005, -0.124, -0.065, -0.016, 0.201, 0.152, -0.152, -0.001, -0.073, -0.093, 0.032, 0.072, 0.039, -0.064, 0.045, -0.037, 0.081, -0.231, -0.128, -0.065, -0.017, 0.071, 0.085, 0.13, 0.155, 0.163, -0.163, 0.0, 0.254, 0.014, -0.269, 0.11, -0.162, 0.1, -0.048]\n",
      "--------------------------------\n",
      "MSE on test set: 2.393683134375083\n",
      "RMSE on test set: 1.5471532355830442\n",
      "model complexity: 9.339734346565738\n",
      "regularized cost: 2.4403818061079114\n",
      "\n",
      "\n",
      "--------------------------------\n",
      "ridge with alpha 1\n",
      "--------------------------------\n",
      "\n",
      "Train score: 0.568\n",
      "Test score: 0.566\n",
      "[-0.832, 0.305, 0.249, -0.29, -0.256, -0.19, -0.129, -0.125, -0.16, -0.23, -0.368, 0.015, -0.314, -0.24, -0.347, 0.223, 0.336, -0.534, -0.523, 0.134, 0.303, 0.508, 0.447, 0.244, 0.436, 1.34, 0.732, 0.24, -0.166, -0.041, 0.031, 0.092, 0.011, 0.082, -0.009, 1.627, 1.255, 1.471, 1.376, 1.786, 1.836, 1.863, 1.939, 2.251, 1.987, 2.172, 2.117, 1.57, 1.451, 1.528, 1.583, 1.661, 1.402, 1.752, 1.666, 1.942, 1.647, 1.944, 1.849, 0.085, -0.037, -0.069, 0.021, 0.042, 0.011, 0.042, 0.079, 0.009, -0.048, -0.041, 0.032, 0.035, -0.03, -0.037, -0.088, 0.06, 0.118, 0.055, 0.048, 0.13, 0.124, 0.093, 0.112, 0.067, 0.096, -0.037, 0.016, 0.005, 0.016, -0.014, 0.061, -0.041, 0.016, -0.037, 0.016, -0.151, 0.151, 0.005, -0.124, -0.065, -0.016, 0.2, 0.151, -0.151, -0.001, -0.074, -0.094, 0.034, 0.071, 0.041, -0.064, 0.046, -0.039, 0.08, -0.23, -0.127, -0.065, -0.017, 0.072, 0.082, 0.13, 0.155, 0.157, -0.158, 0.001, 0.244, 0.014, -0.258, 0.105, -0.156, 0.098, -0.047]\n",
      "--------------------------------\n",
      "MSE on test set: 2.393165931071341\n",
      "RMSE on test set: 1.5469860797923622\n",
      "model complexity: 8.952547441497495\n",
      "regularized cost: 2.482691405486316\n",
      "\n",
      "\n"
     ]
    }
   ],
   "source": [
    "ridgealpha = [0.001, 0.01, 0.1, 1]\n",
    "\n",
    "for i in range(4):\n",
    "    #build ridge regressor here\n",
    "    ridge = linear_model.Ridge(alpha=ridgealpha[i])\n",
    "    ridge.fit(x_train, y_train) #fit a ridge regression on the training data\n",
    "    y_pred_ridge = ridge.predict(x_test) #use this model to predict the test data\n",
    "    ridge_mse = metrics.mean_squared_error(y_test, y_pred_ridge) #calculate the test mse\n",
    "    ridge_rmse = metrics.mean_squared_error(y_test, y_pred_ridge,squared = False) #calculate the test rmse\n",
    "    ridge_cplxy = (np.linalg.norm(ridge.coef_)) #calculate l2norm / model complexity\n",
    "    \n",
    "    print('-' * 32)\n",
    "    print('ridge with alpha', ridgealpha[i])\n",
    "    print('-' * 32)\n",
    "    print('\\nTrain score:', round(ridge.score(x_train, y_train), 3))\n",
    "    print('Test score:', round(ridge.score(x_test, y_test), 3))\n",
    "    print(list(map(lambda x: round(x, 3), ridge.coef_)))\n",
    "    print('-' * 32)\n",
    "    print('MSE on test set:', ridge_mse)\n",
    "    print('RMSE on test set:', ridge_rmse)\n",
    "    print('model complexity:', ridge_cplxy)\n",
    "    print('regularized cost:', ridge_mse + alpha[i] * ridge_cplxy)\n",
    "    print('\\n')"
   ]
  },
  {
   "cell_type": "markdown",
   "metadata": {},
   "source": [
    "### Principal Component Regression"
   ]
  },
  {
   "cell_type": "code",
   "execution_count": 75,
   "metadata": {},
   "outputs": [],
   "source": [
    "from sklearn.preprocessing import scale\n",
    "from sklearn.decomposition import PCA\n",
    "from sklearn.cross_decomposition import PLSRegression\n",
    "from sklearn.cross_decomposition import PLSRegression, PLSSVD\n",
    "from sklearn import model_selection\n"
   ]
  },
  {
   "cell_type": "code",
   "execution_count": 76,
   "metadata": {},
   "outputs": [],
   "source": [
    "pca = PCA()\n",
    "x_reduced = pca.fit_transform(scale(x_train))\n"
   ]
  },
  {
   "cell_type": "code",
   "execution_count": 77,
   "metadata": {},
   "outputs": [
    {
     "data": {
      "text/html": [
       "<div>\n",
       "<style scoped>\n",
       "    .dataframe tbody tr th:only-of-type {\n",
       "        vertical-align: middle;\n",
       "    }\n",
       "\n",
       "    .dataframe tbody tr th {\n",
       "        vertical-align: top;\n",
       "    }\n",
       "\n",
       "    .dataframe thead th {\n",
       "        text-align: right;\n",
       "    }\n",
       "</style>\n",
       "<table border=\"1\" class=\"dataframe\">\n",
       "  <thead>\n",
       "    <tr style=\"text-align: right;\">\n",
       "      <th></th>\n",
       "      <th>0</th>\n",
       "      <th>1</th>\n",
       "      <th>2</th>\n",
       "      <th>3</th>\n",
       "      <th>4</th>\n",
       "      <th>5</th>\n",
       "    </tr>\n",
       "  </thead>\n",
       "  <tbody>\n",
       "    <tr>\n",
       "      <th>0</th>\n",
       "      <td>-0.270902</td>\n",
       "      <td>-0.194997</td>\n",
       "      <td>-0.002249</td>\n",
       "      <td>-0.021970</td>\n",
       "      <td>0.000938</td>\n",
       "      <td>0.034461</td>\n",
       "    </tr>\n",
       "    <tr>\n",
       "      <th>1</th>\n",
       "      <td>0.173251</td>\n",
       "      <td>0.134481</td>\n",
       "      <td>-0.047238</td>\n",
       "      <td>0.101146</td>\n",
       "      <td>-0.023086</td>\n",
       "      <td>0.285606</td>\n",
       "    </tr>\n",
       "    <tr>\n",
       "      <th>2</th>\n",
       "      <td>0.008301</td>\n",
       "      <td>-0.097557</td>\n",
       "      <td>-0.349333</td>\n",
       "      <td>0.010191</td>\n",
       "      <td>-0.015625</td>\n",
       "      <td>-0.047923</td>\n",
       "    </tr>\n",
       "    <tr>\n",
       "      <th>3</th>\n",
       "      <td>0.061964</td>\n",
       "      <td>0.059343</td>\n",
       "      <td>0.069994</td>\n",
       "      <td>-0.026719</td>\n",
       "      <td>0.001765</td>\n",
       "      <td>-0.128893</td>\n",
       "    </tr>\n",
       "    <tr>\n",
       "      <th>4</th>\n",
       "      <td>-0.070860</td>\n",
       "      <td>0.013958</td>\n",
       "      <td>0.054563</td>\n",
       "      <td>0.002249</td>\n",
       "      <td>0.019730</td>\n",
       "      <td>0.034307</td>\n",
       "    </tr>\n",
       "  </tbody>\n",
       "</table>\n",
       "</div>"
      ],
      "text/plain": [
       "          0         1         2         3         4         5\n",
       "0 -0.270902 -0.194997 -0.002249 -0.021970  0.000938  0.034461\n",
       "1  0.173251  0.134481 -0.047238  0.101146 -0.023086  0.285606\n",
       "2  0.008301 -0.097557 -0.349333  0.010191 -0.015625 -0.047923\n",
       "3  0.061964  0.059343  0.069994 -0.026719  0.001765 -0.128893\n",
       "4 -0.070860  0.013958  0.054563  0.002249  0.019730  0.034307"
      ]
     },
     "execution_count": 77,
     "metadata": {},
     "output_type": "execute_result"
    }
   ],
   "source": [
    "pd.DataFrame(pca.components_.T).loc[:4,:5]"
   ]
  },
  {
   "cell_type": "code",
   "execution_count": 78,
   "metadata": {},
   "outputs": [],
   "source": [
    "# 10-fold CV, with shuffle\n",
    "#n = len(x_reduced)\n",
    "#kf_10 = model_selection.KFold( n_splits=10, shuffle=True, random_state=1)\n",
    "\n",
    "\n",
    "#pcamse = []\n",
    "\n",
    "# Calculate MSE with only the intercept (no principal components in regression)\n",
    "#pcascore = -1*model_selection.cross_val_score(regr, np.ones((n,1)), y.ravel(), cv=kf_10, scoring='neg_mean_squared_error').mean()    \n",
    "#mse.append(score)\n",
    "\n",
    "# Calculate MSE using CV for the 19 principle components, adding one component at the time.\n",
    "#for i in np.arange(1, 20):\n",
    " #   score = -1*model_selection.cross_val_score(regr, X_reduced[:,:i], y.ravel(), cv=kf_10, scoring='neg_mean_squared_error').mean()\n",
    "  #  mse.append(score)\n",
    "    \n",
    "# Plot results    \n",
    "#plt.plot(mse, '-v')\n",
    "#plt.xlabel('Number of principal components in regression')\n",
    "#plt.ylabel('MSE')\n",
    "#plt.title('Salary')\n",
    "#plt.xlim(xmin=-1);"
   ]
  },
  {
   "cell_type": "code",
   "execution_count": null,
   "metadata": {},
   "outputs": [],
   "source": []
  },
  {
   "cell_type": "code",
   "execution_count": null,
   "metadata": {},
   "outputs": [],
   "source": []
  },
  {
   "cell_type": "code",
   "execution_count": null,
   "metadata": {},
   "outputs": [],
   "source": []
  },
  {
   "cell_type": "code",
   "execution_count": null,
   "metadata": {},
   "outputs": [],
   "source": []
  },
  {
   "cell_type": "markdown",
   "metadata": {},
   "source": [
    "### Random Forest"
   ]
  },
  {
   "cell_type": "code",
   "execution_count": 79,
   "metadata": {},
   "outputs": [
    {
     "data": {
      "text/plain": [
       "RandomForestRegressor(max_features=50, n_estimators=1000, oob_score=True,\n",
       "                      random_state=2019)"
      ]
     },
     "execution_count": 79,
     "metadata": {},
     "output_type": "execute_result"
    }
   ],
   "source": [
    "from sklearn import tree, ensemble, model_selection, metrics\n",
    "\n",
    "rforest = ensemble.RandomForestRegressor(n_estimators = 1000, max_features = 50, oob_score = True, random_state = 2019)\n",
    "rforest.fit(x_train, y_train)\n"
   ]
  },
  {
   "cell_type": "code",
   "execution_count": 80,
   "metadata": {},
   "outputs": [
    {
     "data": {
      "text/plain": [
       "0.5817565273801386"
      ]
     },
     "execution_count": 80,
     "metadata": {},
     "output_type": "execute_result"
    }
   ],
   "source": [
    "rforest.score(x_test, y_test)"
   ]
  },
  {
   "cell_type": "code",
   "execution_count": 81,
   "metadata": {},
   "outputs": [
    {
     "data": {
      "text/plain": [
       "(6357, 132)"
      ]
     },
     "execution_count": 81,
     "metadata": {},
     "output_type": "execute_result"
    }
   ],
   "source": [
    "x_test.shape"
   ]
  },
  {
   "cell_type": "code",
   "execution_count": 82,
   "metadata": {},
   "outputs": [
    {
     "data": {
      "text/plain": [
       "<matplotlib.axes._subplots.AxesSubplot at 0x23991345a88>"
      ]
     },
     "execution_count": 82,
     "metadata": {},
     "output_type": "execute_result"
    },
    {
     "data": {
      "image/png": "[encoded data removed]",
      "text/plain": [
       "<Figure size 432x288 with 1 Axes>"
      ]
     },
     "metadata": {
      "needs_background": "light"
     },
     "output_type": "display_data"
    }
   ],
   "source": [
    "sns.histplot(data = y_train)"
   ]
  },
  {
   "cell_type": "code",
   "execution_count": 83,
   "metadata": {},
   "outputs": [
    {
     "data": {
      "text/plain": [
       "['NUMADLT',\n",
       " 'YOUNGCHILD',\n",
       " 'WRKCOUNT',\n",
       " 'EDUC_1',\n",
       " 'EDUC_2',\n",
       " 'EDUC_3',\n",
       " 'EDUC_4',\n",
       " 'EDUC_5',\n",
       " 'R_RACE_1',\n",
       " 'R_RACE_2',\n",
       " 'R_RACE_3',\n",
       " 'R_RACE_4',\n",
       " 'R_RACE_5',\n",
       " 'R_RACE_6',\n",
       " 'R_RACE_97',\n",
       " 'R_SEX_1',\n",
       " 'R_SEX_2',\n",
       " 'WRK_HOME_1',\n",
       " 'WRK_HOME_2',\n",
       " 'WKFTPT_1',\n",
       " 'WKFTPT_2',\n",
       " 'OCCAT_1',\n",
       " 'OCCAT_2',\n",
       " 'OCCAT_3',\n",
       " 'OCCAT_4',\n",
       " 'OCCAT_97',\n",
       " 'DRIVER_1',\n",
       " 'DRIVER_2',\n",
       " 'TRAVDAY_1',\n",
       " 'TRAVDAY_2',\n",
       " 'TRAVDAY_3',\n",
       " 'TRAVDAY_4',\n",
       " 'TRAVDAY_5',\n",
       " 'TRAVDAY_6',\n",
       " 'TRAVDAY_7',\n",
       " 'dist_to_work_between_1_and_2',\n",
       " 'dist_to_work_more_than_11',\n",
       " 'dist_to_work_between_2_and_5',\n",
       " 'dist_to_work_between_5_and_11',\n",
       " 'dist_to_shopping_between_1_and_2',\n",
       " 'dist_to_shopping_more_than_11',\n",
       " 'dist_to_shopping_between_2_and_5',\n",
       " 'dist_to_shopping_between_5_and_11',\n",
       " 'dist_to_family_between_1_and_2',\n",
       " 'dist_to_family_greater_than_11',\n",
       " 'dist_to_family_between_2_and_5',\n",
       " 'dist_to_family_between_5_and_11',\n",
       " 'dist_to_school_or_church_between_1_and_2',\n",
       " 'dist_to_school_or_church_greater_than_11',\n",
       " 'dist_to_school_or_church_between_2_and_5',\n",
       " 'dist_to_school_or_church_between_5_and_11',\n",
       " 'dist_to_relatvies_between_1_and_2',\n",
       " 'dist_to_relatvies_greater_than_11',\n",
       " 'dist_to_relatvies_between_2_and_5',\n",
       " 'dist_to_relatvies_between_5_and_11',\n",
       " 'dist_to_social_between_1_and_2',\n",
       " 'dist_to_social_greater_than_11',\n",
       " 'dist_to_social_between_2_and_5',\n",
       " 'dist_to_social_between_5_and_11',\n",
       " 'HH_CBSA_15380',\n",
       " 'HH_CBSA_35620',\n",
       " 'HH_CBSA_40380',\n",
       " 'HH_CBSA_XXXXX',\n",
       " 'HOMEOWN_1',\n",
       " 'HOMEOWN_2',\n",
       " 'HOMEOWN_97',\n",
       " 'HHSIZE_1',\n",
       " 'HHSIZE_2',\n",
       " 'HHSIZE_3',\n",
       " 'HHSIZE_above_3',\n",
       " 'HHVEHCNT_1',\n",
       " 'HHVEHCNT_2',\n",
       " 'HHVEHCNT_3',\n",
       " 'HHVEHCNT_>3',\n",
       " 'HHFAMINC_1',\n",
       " 'HHFAMINC_10',\n",
       " 'HHFAMINC_11',\n",
       " 'HHFAMINC_2',\n",
       " 'HHFAMINC_3',\n",
       " 'HHFAMINC_4',\n",
       " 'HHFAMINC_5',\n",
       " 'HHFAMINC_6',\n",
       " 'HHFAMINC_7',\n",
       " 'HHFAMINC_8',\n",
       " 'HHFAMINC_9',\n",
       " 'MSACAT_1',\n",
       " 'MSACAT_2',\n",
       " 'MSACAT_3',\n",
       " 'MSACAT_4',\n",
       " 'MSASIZE_1',\n",
       " 'MSASIZE_2',\n",
       " 'MSASIZE_3',\n",
       " 'MSASIZE_4',\n",
       " 'MSASIZE_5',\n",
       " 'MSASIZE_6',\n",
       " 'URBAN_rural',\n",
       " 'URBAN_urban',\n",
       " 'URBANSIZE_1',\n",
       " 'URBANSIZE_2',\n",
       " 'URBANSIZE_3',\n",
       " 'URBANSIZE_5',\n",
       " 'URBANSIZE_6',\n",
       " 'URBRUR_1',\n",
       " 'URBRUR_2',\n",
       " 'LIF_CYC_1',\n",
       " 'LIF_CYC_10',\n",
       " 'LIF_CYC_2',\n",
       " 'LIF_CYC_3',\n",
       " 'LIF_CYC_4',\n",
       " 'LIF_CYC_5',\n",
       " 'LIF_CYC_6',\n",
       " 'LIF_CYC_7',\n",
       " 'LIF_CYC_8',\n",
       " 'LIF_CYC_9',\n",
       " 'AGE_bins_16_to_25',\n",
       " 'AGE_bins_26_to_35',\n",
       " 'AGE_bins_36_to_45',\n",
       " 'AGE_bins_46_to_55',\n",
       " 'AGE_bins_56_to_65',\n",
       " 'AGE_bins_5_to_15',\n",
       " 'AGE_bins_66_to_75',\n",
       " 'AGE_bins_more_than_75',\n",
       " 'NUMADLT_ratio_1',\n",
       " 'NUMADLT_ratio_less_than_0.5',\n",
       " 'NUMADLT_ratio_more_than_0.5',\n",
       " 'YOUNGCHILD_ratio_0',\n",
       " 'YOUNGCHILD_ratio_less_than_0.5',\n",
       " 'YOUNGCHILD_ratio_more_than_0.5',\n",
       " 'WRKCOUNT_ratio_0',\n",
       " 'WRKCOUNT_ratio_1',\n",
       " 'WRKCOUNT_ratio_less_than_0.5',\n",
       " 'WRKCOUNT_ratio_more_than_0.5']"
      ]
     },
     "execution_count": 83,
     "metadata": {},
     "output_type": "execute_result"
    }
   ],
   "source": [
    "[c for c in x_train]"
   ]
  },
  {
   "cell_type": "markdown",
   "metadata": {},
   "source": [
    "### Neural Network"
   ]
  },
  {
   "cell_type": "code",
   "execution_count": 84,
   "metadata": {},
   "outputs": [],
   "source": [
    "from sklearn.model_selection import GridSearchCV\n",
    "from keras.models import Sequential\n",
    "from keras.layers import Dense\n",
    "from keras.wrappers.scikit_learn import KerasRegressor\n",
    "import tensorflow as tf"
   ]
  },
  {
   "cell_type": "code",
   "execution_count": 85,
   "metadata": {},
   "outputs": [],
   "source": [
    "def train_model(model, dataset, epochs, batch_size, label_name):\n",
    "    \"\"\"Feed a dataset into the model in order to train it.\"\"\"\n",
    "\n",
    "    # Split the dataset into features and label.\n",
    "    features = {name:np.array(value) for name, value in dataset.items()}\n",
    "    label = np.array(features.pop(label_name))\n",
    "    history = model.fit(x=features, \n",
    "                        y=label, \n",
    "                        batch_size=batch_size,\n",
    "                        epochs=epochs, \n",
    "                        verbose=2,\n",
    "                        validation_split=0.2, \n",
    "                        shuffle=True, \n",
    "                        workers=4, \n",
    "                        use_multiprocessing=True)\n",
    "\n",
    "    # Get details that will be useful for plotting the loss curve.\n",
    "    mse_train = history.history['loss']\n",
    "    mse_val = history.history['val_loss']\n",
    "\n",
    "    return mse_train, mse_val"
   ]
  },
  {
   "cell_type": "code",
   "execution_count": 86,
   "metadata": {},
   "outputs": [],
   "source": [
    "def create_model_deep(name, my_learning_rate, my_feature_layer, layers):\n",
    "    model = tf.keras.models.Sequential(name = name)\n",
    "    \n",
    "    model.add(my_feature_layer)\n",
    "    \n",
    "    for index, layer in enumerate(layers):\n",
    "        print('index',index)\n",
    "        print('layer',layer)\n",
    "        model.add(tf.keras.layers.Dense(units = layer,\n",
    "                                       activation = 'relu',\n",
    "                                       name=f'Hidden{index}'))\n",
    "        \n",
    "    model.add(tf.keras.layers.Dense(units=1, name='Output'))                              \n",
    "\n",
    "    model.compile(optimizer=tf.keras.optimizers.Adam(lr=my_learning_rate),\n",
    "                loss=\"mean_squared_error\",\n",
    "                metrics=[tf.keras.metrics.MeanSquaredError()])\n",
    "    return model"
   ]
  },
  {
   "cell_type": "code",
   "execution_count": 87,
   "metadata": {},
   "outputs": [
    {
     "data": {
      "text/html": [
       "<div>\n",
       "<style scoped>\n",
       "    .dataframe tbody tr th:only-of-type {\n",
       "        vertical-align: middle;\n",
       "    }\n",
       "\n",
       "    .dataframe tbody tr th {\n",
       "        vertical-align: top;\n",
       "    }\n",
       "\n",
       "    .dataframe thead th {\n",
       "        text-align: right;\n",
       "    }\n",
       "</style>\n",
       "<table border=\"1\" class=\"dataframe\">\n",
       "  <thead>\n",
       "    <tr style=\"text-align: right;\">\n",
       "      <th></th>\n",
       "      <th>NUMADLT</th>\n",
       "      <th>YOUNGCHILD</th>\n",
       "      <th>WRKCOUNT</th>\n",
       "      <th>EDUC_1</th>\n",
       "      <th>EDUC_2</th>\n",
       "      <th>EDUC_3</th>\n",
       "      <th>EDUC_4</th>\n",
       "      <th>EDUC_5</th>\n",
       "      <th>R_RACE_1</th>\n",
       "      <th>R_RACE_2</th>\n",
       "      <th>...</th>\n",
       "      <th>NUMADLT_ratio_less_than_0.5</th>\n",
       "      <th>NUMADLT_ratio_more_than_0.5</th>\n",
       "      <th>YOUNGCHILD_ratio_0</th>\n",
       "      <th>YOUNGCHILD_ratio_less_than_0.5</th>\n",
       "      <th>YOUNGCHILD_ratio_more_than_0.5</th>\n",
       "      <th>WRKCOUNT_ratio_0</th>\n",
       "      <th>WRKCOUNT_ratio_1</th>\n",
       "      <th>WRKCOUNT_ratio_less_than_0.5</th>\n",
       "      <th>WRKCOUNT_ratio_more_than_0.5</th>\n",
       "      <th>n_trips</th>\n",
       "    </tr>\n",
       "  </thead>\n",
       "  <tbody>\n",
       "    <tr>\n",
       "      <th>19406</th>\n",
       "      <td>1.0</td>\n",
       "      <td>0.0</td>\n",
       "      <td>1.00</td>\n",
       "      <td>0</td>\n",
       "      <td>0</td>\n",
       "      <td>0</td>\n",
       "      <td>0</td>\n",
       "      <td>1</td>\n",
       "      <td>1</td>\n",
       "      <td>0</td>\n",
       "      <td>...</td>\n",
       "      <td>0</td>\n",
       "      <td>0</td>\n",
       "      <td>1</td>\n",
       "      <td>0</td>\n",
       "      <td>0</td>\n",
       "      <td>0</td>\n",
       "      <td>1</td>\n",
       "      <td>0</td>\n",
       "      <td>0</td>\n",
       "      <td>2.0</td>\n",
       "    </tr>\n",
       "    <tr>\n",
       "      <th>19181</th>\n",
       "      <td>1.0</td>\n",
       "      <td>0.0</td>\n",
       "      <td>1.00</td>\n",
       "      <td>0</td>\n",
       "      <td>0</td>\n",
       "      <td>1</td>\n",
       "      <td>0</td>\n",
       "      <td>0</td>\n",
       "      <td>1</td>\n",
       "      <td>0</td>\n",
       "      <td>...</td>\n",
       "      <td>0</td>\n",
       "      <td>0</td>\n",
       "      <td>1</td>\n",
       "      <td>0</td>\n",
       "      <td>0</td>\n",
       "      <td>0</td>\n",
       "      <td>1</td>\n",
       "      <td>0</td>\n",
       "      <td>0</td>\n",
       "      <td>5.0</td>\n",
       "    </tr>\n",
       "    <tr>\n",
       "      <th>15046</th>\n",
       "      <td>0.5</td>\n",
       "      <td>0.0</td>\n",
       "      <td>0.25</td>\n",
       "      <td>0</td>\n",
       "      <td>0</td>\n",
       "      <td>0</td>\n",
       "      <td>0</td>\n",
       "      <td>0</td>\n",
       "      <td>1</td>\n",
       "      <td>0</td>\n",
       "      <td>...</td>\n",
       "      <td>0</td>\n",
       "      <td>1</td>\n",
       "      <td>1</td>\n",
       "      <td>0</td>\n",
       "      <td>0</td>\n",
       "      <td>0</td>\n",
       "      <td>0</td>\n",
       "      <td>1</td>\n",
       "      <td>0</td>\n",
       "      <td>3.0</td>\n",
       "    </tr>\n",
       "    <tr>\n",
       "      <th>229</th>\n",
       "      <td>1.0</td>\n",
       "      <td>0.0</td>\n",
       "      <td>0.00</td>\n",
       "      <td>0</td>\n",
       "      <td>0</td>\n",
       "      <td>0</td>\n",
       "      <td>0</td>\n",
       "      <td>1</td>\n",
       "      <td>1</td>\n",
       "      <td>0</td>\n",
       "      <td>...</td>\n",
       "      <td>0</td>\n",
       "      <td>0</td>\n",
       "      <td>1</td>\n",
       "      <td>0</td>\n",
       "      <td>0</td>\n",
       "      <td>1</td>\n",
       "      <td>0</td>\n",
       "      <td>0</td>\n",
       "      <td>0</td>\n",
       "      <td>3.0</td>\n",
       "    </tr>\n",
       "    <tr>\n",
       "      <th>11509</th>\n",
       "      <td>1.0</td>\n",
       "      <td>0.0</td>\n",
       "      <td>0.00</td>\n",
       "      <td>0</td>\n",
       "      <td>0</td>\n",
       "      <td>1</td>\n",
       "      <td>0</td>\n",
       "      <td>0</td>\n",
       "      <td>1</td>\n",
       "      <td>0</td>\n",
       "      <td>...</td>\n",
       "      <td>0</td>\n",
       "      <td>0</td>\n",
       "      <td>1</td>\n",
       "      <td>0</td>\n",
       "      <td>0</td>\n",
       "      <td>1</td>\n",
       "      <td>0</td>\n",
       "      <td>0</td>\n",
       "      <td>0</td>\n",
       "      <td>6.0</td>\n",
       "    </tr>\n",
       "    <tr>\n",
       "      <th>...</th>\n",
       "      <td>...</td>\n",
       "      <td>...</td>\n",
       "      <td>...</td>\n",
       "      <td>...</td>\n",
       "      <td>...</td>\n",
       "      <td>...</td>\n",
       "      <td>...</td>\n",
       "      <td>...</td>\n",
       "      <td>...</td>\n",
       "      <td>...</td>\n",
       "      <td>...</td>\n",
       "      <td>...</td>\n",
       "      <td>...</td>\n",
       "      <td>...</td>\n",
       "      <td>...</td>\n",
       "      <td>...</td>\n",
       "      <td>...</td>\n",
       "      <td>...</td>\n",
       "      <td>...</td>\n",
       "      <td>...</td>\n",
       "      <td>...</td>\n",
       "    </tr>\n",
       "    <tr>\n",
       "      <th>5378</th>\n",
       "      <td>1.0</td>\n",
       "      <td>0.0</td>\n",
       "      <td>1.00</td>\n",
       "      <td>0</td>\n",
       "      <td>1</td>\n",
       "      <td>0</td>\n",
       "      <td>0</td>\n",
       "      <td>0</td>\n",
       "      <td>1</td>\n",
       "      <td>0</td>\n",
       "      <td>...</td>\n",
       "      <td>0</td>\n",
       "      <td>0</td>\n",
       "      <td>1</td>\n",
       "      <td>0</td>\n",
       "      <td>0</td>\n",
       "      <td>0</td>\n",
       "      <td>1</td>\n",
       "      <td>0</td>\n",
       "      <td>0</td>\n",
       "      <td>7.0</td>\n",
       "    </tr>\n",
       "    <tr>\n",
       "      <th>26272</th>\n",
       "      <td>1.0</td>\n",
       "      <td>0.0</td>\n",
       "      <td>0.50</td>\n",
       "      <td>0</td>\n",
       "      <td>0</td>\n",
       "      <td>0</td>\n",
       "      <td>1</td>\n",
       "      <td>0</td>\n",
       "      <td>1</td>\n",
       "      <td>0</td>\n",
       "      <td>...</td>\n",
       "      <td>0</td>\n",
       "      <td>0</td>\n",
       "      <td>1</td>\n",
       "      <td>0</td>\n",
       "      <td>0</td>\n",
       "      <td>0</td>\n",
       "      <td>0</td>\n",
       "      <td>0</td>\n",
       "      <td>1</td>\n",
       "      <td>6.0</td>\n",
       "    </tr>\n",
       "    <tr>\n",
       "      <th>15091</th>\n",
       "      <td>1.0</td>\n",
       "      <td>0.0</td>\n",
       "      <td>1.00</td>\n",
       "      <td>0</td>\n",
       "      <td>0</td>\n",
       "      <td>0</td>\n",
       "      <td>0</td>\n",
       "      <td>1</td>\n",
       "      <td>1</td>\n",
       "      <td>0</td>\n",
       "      <td>...</td>\n",
       "      <td>0</td>\n",
       "      <td>0</td>\n",
       "      <td>1</td>\n",
       "      <td>0</td>\n",
       "      <td>0</td>\n",
       "      <td>0</td>\n",
       "      <td>1</td>\n",
       "      <td>0</td>\n",
       "      <td>0</td>\n",
       "      <td>6.0</td>\n",
       "    </tr>\n",
       "    <tr>\n",
       "      <th>1984</th>\n",
       "      <td>1.0</td>\n",
       "      <td>0.0</td>\n",
       "      <td>1.00</td>\n",
       "      <td>0</td>\n",
       "      <td>0</td>\n",
       "      <td>0</td>\n",
       "      <td>0</td>\n",
       "      <td>1</td>\n",
       "      <td>0</td>\n",
       "      <td>0</td>\n",
       "      <td>...</td>\n",
       "      <td>0</td>\n",
       "      <td>0</td>\n",
       "      <td>1</td>\n",
       "      <td>0</td>\n",
       "      <td>0</td>\n",
       "      <td>0</td>\n",
       "      <td>1</td>\n",
       "      <td>0</td>\n",
       "      <td>0</td>\n",
       "      <td>4.0</td>\n",
       "    </tr>\n",
       "    <tr>\n",
       "      <th>10938</th>\n",
       "      <td>1.0</td>\n",
       "      <td>0.0</td>\n",
       "      <td>0.00</td>\n",
       "      <td>0</td>\n",
       "      <td>1</td>\n",
       "      <td>0</td>\n",
       "      <td>0</td>\n",
       "      <td>0</td>\n",
       "      <td>1</td>\n",
       "      <td>0</td>\n",
       "      <td>...</td>\n",
       "      <td>0</td>\n",
       "      <td>0</td>\n",
       "      <td>1</td>\n",
       "      <td>0</td>\n",
       "      <td>0</td>\n",
       "      <td>1</td>\n",
       "      <td>0</td>\n",
       "      <td>0</td>\n",
       "      <td>0</td>\n",
       "      <td>0.0</td>\n",
       "    </tr>\n",
       "  </tbody>\n",
       "</table>\n",
       "<p>25425 rows × 133 columns</p>\n",
       "</div>"
      ],
      "text/plain": [
       "       NUMADLT  YOUNGCHILD  WRKCOUNT  EDUC_1  EDUC_2  EDUC_3  EDUC_4  EDUC_5  \\\n",
       "19406      1.0         0.0      1.00       0       0       0       0       1   \n",
       "19181      1.0         0.0      1.00       0       0       1       0       0   \n",
       "15046      0.5         0.0      0.25       0       0       0       0       0   \n",
       "229        1.0         0.0      0.00       0       0       0       0       1   \n",
       "11509      1.0         0.0      0.00       0       0       1       0       0   \n",
       "...        ...         ...       ...     ...     ...     ...     ...     ...   \n",
       "5378       1.0         0.0      1.00       0       1       0       0       0   \n",
       "26272      1.0         0.0      0.50       0       0       0       1       0   \n",
       "15091      1.0         0.0      1.00       0       0       0       0       1   \n",
       "1984       1.0         0.0      1.00       0       0       0       0       1   \n",
       "10938      1.0         0.0      0.00       0       1       0       0       0   \n",
       "\n",
       "       R_RACE_1  R_RACE_2  ...  NUMADLT_ratio_less_than_0.5  \\\n",
       "19406         1         0  ...                            0   \n",
       "19181         1         0  ...                            0   \n",
       "15046         1         0  ...                            0   \n",
       "229           1         0  ...                            0   \n",
       "11509         1         0  ...                            0   \n",
       "...         ...       ...  ...                          ...   \n",
       "5378          1         0  ...                            0   \n",
       "26272         1         0  ...                            0   \n",
       "15091         1         0  ...                            0   \n",
       "1984          0         0  ...                            0   \n",
       "10938         1         0  ...                            0   \n",
       "\n",
       "       NUMADLT_ratio_more_than_0.5  YOUNGCHILD_ratio_0  \\\n",
       "19406                            0                   1   \n",
       "19181                            0                   1   \n",
       "15046                            1                   1   \n",
       "229                              0                   1   \n",
       "11509                            0                   1   \n",
       "...                            ...                 ...   \n",
       "5378                             0                   1   \n",
       "26272                            0                   1   \n",
       "15091                            0                   1   \n",
       "1984                             0                   1   \n",
       "10938                            0                   1   \n",
       "\n",
       "       YOUNGCHILD_ratio_less_than_0.5  YOUNGCHILD_ratio_more_than_0.5  \\\n",
       "19406                               0                               0   \n",
       "19181                               0                               0   \n",
       "15046                               0                               0   \n",
       "229                                 0                               0   \n",
       "11509                               0                               0   \n",
       "...                               ...                             ...   \n",
       "5378                                0                               0   \n",
       "26272                               0                               0   \n",
       "15091                               0                               0   \n",
       "1984                                0                               0   \n",
       "10938                               0                               0   \n",
       "\n",
       "       WRKCOUNT_ratio_0  WRKCOUNT_ratio_1  WRKCOUNT_ratio_less_than_0.5  \\\n",
       "19406                 0                 1                             0   \n",
       "19181                 0                 1                             0   \n",
       "15046                 0                 0                             1   \n",
       "229                   1                 0                             0   \n",
       "11509                 1                 0                             0   \n",
       "...                 ...               ...                           ...   \n",
       "5378                  0                 1                             0   \n",
       "26272                 0                 0                             0   \n",
       "15091                 0                 1                             0   \n",
       "1984                  0                 1                             0   \n",
       "10938                 1                 0                             0   \n",
       "\n",
       "       WRKCOUNT_ratio_more_than_0.5  n_trips  \n",
       "19406                             0      2.0  \n",
       "19181                             0      5.0  \n",
       "15046                             0      3.0  \n",
       "229                               0      3.0  \n",
       "11509                             0      6.0  \n",
       "...                             ...      ...  \n",
       "5378                              0      7.0  \n",
       "26272                             1      6.0  \n",
       "15091                             0      6.0  \n",
       "1984                              0      4.0  \n",
       "10938                             0      0.0  \n",
       "\n",
       "[25425 rows x 133 columns]"
      ]
     },
     "execution_count": 87,
     "metadata": {},
     "output_type": "execute_result"
    }
   ],
   "source": [
    "train_df = pd.concat([x_train, y_train],axis = 1)\n",
    "\n",
    "test_df = pd.concat([x_test,y_test],axis =1)\n"
   ]
  },
  {
   "cell_type": "code",
   "execution_count": 88,
   "metadata": {},
   "outputs": [],
   "source": [
    "one_hot_labs = [c for c in train_df if train_df[c].dtype == 'uint8']\n",
    "num_labs = ['NUMADLT','YOUNGCHILD','WRKCOUNT']"
   ]
  },
  {
   "cell_type": "code",
   "execution_count": 89,
   "metadata": {},
   "outputs": [
    {
     "data": {
      "text/plain": [
       "['EDUC_1',\n",
       " 'EDUC_2',\n",
       " 'EDUC_3',\n",
       " 'EDUC_4',\n",
       " 'EDUC_5',\n",
       " 'R_RACE_1',\n",
       " 'R_RACE_2',\n",
       " 'R_RACE_3',\n",
       " 'R_RACE_4',\n",
       " 'R_RACE_5',\n",
       " 'R_RACE_6',\n",
       " 'R_RACE_97',\n",
       " 'R_SEX_1',\n",
       " 'R_SEX_2',\n",
       " 'WRK_HOME_1',\n",
       " 'WRK_HOME_2',\n",
       " 'WKFTPT_1',\n",
       " 'WKFTPT_2',\n",
       " 'OCCAT_1',\n",
       " 'OCCAT_2',\n",
       " 'OCCAT_3',\n",
       " 'OCCAT_4',\n",
       " 'OCCAT_97',\n",
       " 'DRIVER_1',\n",
       " 'DRIVER_2',\n",
       " 'TRAVDAY_1',\n",
       " 'TRAVDAY_2',\n",
       " 'TRAVDAY_3',\n",
       " 'TRAVDAY_4',\n",
       " 'TRAVDAY_5',\n",
       " 'TRAVDAY_6',\n",
       " 'TRAVDAY_7',\n",
       " 'dist_to_work_between_1_and_2',\n",
       " 'dist_to_work_more_than_11',\n",
       " 'dist_to_work_between_2_and_5',\n",
       " 'dist_to_work_between_5_and_11',\n",
       " 'dist_to_shopping_between_1_and_2',\n",
       " 'dist_to_shopping_more_than_11',\n",
       " 'dist_to_shopping_between_2_and_5',\n",
       " 'dist_to_shopping_between_5_and_11',\n",
       " 'dist_to_family_between_1_and_2',\n",
       " 'dist_to_family_greater_than_11',\n",
       " 'dist_to_family_between_2_and_5',\n",
       " 'dist_to_family_between_5_and_11',\n",
       " 'dist_to_school_or_church_between_1_and_2',\n",
       " 'dist_to_school_or_church_greater_than_11',\n",
       " 'dist_to_school_or_church_between_2_and_5',\n",
       " 'dist_to_school_or_church_between_5_and_11',\n",
       " 'dist_to_relatvies_between_1_and_2',\n",
       " 'dist_to_relatvies_greater_than_11',\n",
       " 'dist_to_relatvies_between_2_and_5',\n",
       " 'dist_to_relatvies_between_5_and_11',\n",
       " 'dist_to_social_between_1_and_2',\n",
       " 'dist_to_social_greater_than_11',\n",
       " 'dist_to_social_between_2_and_5',\n",
       " 'dist_to_social_between_5_and_11',\n",
       " 'HH_CBSA_15380',\n",
       " 'HH_CBSA_35620',\n",
       " 'HH_CBSA_40380',\n",
       " 'HH_CBSA_XXXXX',\n",
       " 'HOMEOWN_1',\n",
       " 'HOMEOWN_2',\n",
       " 'HOMEOWN_97',\n",
       " 'HHSIZE_1',\n",
       " 'HHSIZE_2',\n",
       " 'HHSIZE_3',\n",
       " 'HHSIZE_above_3',\n",
       " 'HHVEHCNT_1',\n",
       " 'HHVEHCNT_2',\n",
       " 'HHVEHCNT_3',\n",
       " 'HHVEHCNT_>3',\n",
       " 'HHFAMINC_1',\n",
       " 'HHFAMINC_10',\n",
       " 'HHFAMINC_11',\n",
       " 'HHFAMINC_2',\n",
       " 'HHFAMINC_3',\n",
       " 'HHFAMINC_4',\n",
       " 'HHFAMINC_5',\n",
       " 'HHFAMINC_6',\n",
       " 'HHFAMINC_7',\n",
       " 'HHFAMINC_8',\n",
       " 'HHFAMINC_9',\n",
       " 'MSACAT_1',\n",
       " 'MSACAT_2',\n",
       " 'MSACAT_3',\n",
       " 'MSACAT_4',\n",
       " 'MSASIZE_1',\n",
       " 'MSASIZE_2',\n",
       " 'MSASIZE_3',\n",
       " 'MSASIZE_4',\n",
       " 'MSASIZE_5',\n",
       " 'MSASIZE_6',\n",
       " 'URBAN_rural',\n",
       " 'URBAN_urban',\n",
       " 'URBANSIZE_1',\n",
       " 'URBANSIZE_2',\n",
       " 'URBANSIZE_3',\n",
       " 'URBANSIZE_5',\n",
       " 'URBANSIZE_6',\n",
       " 'URBRUR_1',\n",
       " 'URBRUR_2',\n",
       " 'LIF_CYC_1',\n",
       " 'LIF_CYC_10',\n",
       " 'LIF_CYC_2',\n",
       " 'LIF_CYC_3',\n",
       " 'LIF_CYC_4',\n",
       " 'LIF_CYC_5',\n",
       " 'LIF_CYC_6',\n",
       " 'LIF_CYC_7',\n",
       " 'LIF_CYC_8',\n",
       " 'LIF_CYC_9',\n",
       " 'AGE_bins_16_to_25',\n",
       " 'AGE_bins_26_to_35',\n",
       " 'AGE_bins_36_to_45',\n",
       " 'AGE_bins_46_to_55',\n",
       " 'AGE_bins_56_to_65',\n",
       " 'AGE_bins_5_to_15',\n",
       " 'AGE_bins_66_to_75',\n",
       " 'AGE_bins_more_than_75',\n",
       " 'NUMADLT_ratio_1',\n",
       " 'NUMADLT_ratio_less_than_0.5',\n",
       " 'NUMADLT_ratio_more_than_0.5',\n",
       " 'YOUNGCHILD_ratio_0',\n",
       " 'YOUNGCHILD_ratio_less_than_0.5',\n",
       " 'YOUNGCHILD_ratio_more_than_0.5',\n",
       " 'WRKCOUNT_ratio_0',\n",
       " 'WRKCOUNT_ratio_1',\n",
       " 'WRKCOUNT_ratio_less_than_0.5',\n",
       " 'WRKCOUNT_ratio_more_than_0.5']"
      ]
     },
     "execution_count": 89,
     "metadata": {},
     "output_type": "execute_result"
    }
   ],
   "source": [
    "one_hot_labs"
   ]
  },
  {
   "cell_type": "code",
   "execution_count": 90,
   "metadata": {},
   "outputs": [],
   "source": [
    "for i in one_hot_labs:\n",
    "    train_df[i] = train_df[i]\n"
   ]
  },
  {
   "cell_type": "code",
   "execution_count": 91,
   "metadata": {},
   "outputs": [],
   "source": [
    "feature_columns = []\n",
    "\n",
    "for i in num_labs: \n",
    "    i = tf.feature_column.numeric_column(i)\n",
    "    feature_columns.append(i)\n",
    "\n",
    "for k in one_hot_labs:\n",
    "    k = tf.feature_column.numeric_column(k)\n",
    "    feature_columns.append(k)\n",
    "    \n",
    "my_feature_layer = tf.keras.layers.DenseFeatures(feature_columns)"
   ]
  },
  {
   "cell_type": "code",
   "execution_count": 92,
   "metadata": {},
   "outputs": [
    {
     "name": "stdout",
     "output_type": "stream",
     "text": [
      "index 0\n",
      "layer 128\n",
      "index 1\n",
      "layer 64\n",
      "index 2\n",
      "layer 32\n",
      "index 3\n",
      "layer 16\n",
      "Epoch 1/1000\n",
      "WARNING:tensorflow:Layers in a Sequential model should only have a single input tensor, but we receive a <class 'dict'> input: {'NUMADLT': <tf.Tensor 'ExpandDims_61:0' shape=(None, 1) dtype=float32>, 'YOUNGCHILD': <tf.Tensor 'ExpandDims_104:0' shape=(None, 1) dtype=float32>, 'WRKCOUNT': <tf.Tensor 'ExpandDims_97:0' shape=(None, 1) dtype=float32>, 'EDUC_1': <tf.Tensor 'ExpandDims_10:0' shape=(None, 1) dtype=uint8>, 'EDUC_2': <tf.Tensor 'ExpandDims_11:0' shape=(None, 1) dtype=uint8>, 'EDUC_3': <tf.Tensor 'ExpandDims_12:0' shape=(None, 1) dtype=uint8>, 'EDUC_4': <tf.Tensor 'ExpandDims_13:0' shape=(None, 1) dtype=uint8>, 'EDUC_5': <tf.Tensor 'ExpandDims_14:0' shape=(None, 1) dtype=uint8>, 'R_RACE_1': <tf.Tensor 'ExpandDims_70:0' shape=(None, 1) dtype=uint8>, 'R_RACE_2': <tf.Tensor 'ExpandDims_71:0' shape=(None, 1) dtype=uint8>, 'R_RACE_3': <tf.Tensor 'ExpandDims_72:0' shape=(None, 1) dtype=uint8>, 'R_RACE_4': <tf.Tensor 'ExpandDims_73:0' shape=(None, 1) dtype=uint8>, 'R_RACE_5': <tf.Tensor 'ExpandDims_74:0' shape=(None, 1) dtype=uint8>, 'R_RACE_6': <tf.Tensor 'ExpandDims_75:0' shape=(None, 1) dtype=uint8>, 'R_RACE_97': <tf.Tensor 'ExpandDims_76:0' shape=(None, 1) dtype=uint8>, 'R_SEX_1': <tf.Tensor 'ExpandDims_77:0' shape=(None, 1) dtype=uint8>, 'R_SEX_2': <tf.Tensor 'ExpandDims_78:0' shape=(None, 1) dtype=uint8>, 'WRK_HOME_1': <tf.Tensor 'ExpandDims_102:0' shape=(None, 1) dtype=uint8>, 'WRK_HOME_2': <tf.Tensor 'ExpandDims_103:0' shape=(None, 1) dtype=uint8>, 'WKFTPT_1': <tf.Tensor 'ExpandDims_95:0' shape=(None, 1) dtype=uint8>, 'WKFTPT_2': <tf.Tensor 'ExpandDims_96:0' shape=(None, 1) dtype=uint8>, 'OCCAT_1': <tf.Tensor 'ExpandDims_65:0' shape=(None, 1) dtype=uint8>, 'OCCAT_2': <tf.Tensor 'ExpandDims_66:0' shape=(None, 1) dtype=uint8>, 'OCCAT_3': <tf.Tensor 'ExpandDims_67:0' shape=(None, 1) dtype=uint8>, 'OCCAT_4': <tf.Tensor 'ExpandDims_68:0' shape=(None, 1) dtype=uint8>, 'OCCAT_97': <tf.Tensor 'ExpandDims_69:0' shape=(None, 1) dtype=uint8>, 'DRIVER_1': <tf.Tensor 'ExpandDims_8:0' shape=(None, 1) dtype=uint8>, 'DRIVER_2': <tf.Tensor 'ExpandDims_9:0' shape=(None, 1) dtype=uint8>, 'TRAVDAY_1': <tf.Tensor 'ExpandDims_79:0' shape=(None, 1) dtype=uint8>, 'TRAVDAY_2': <tf.Tensor 'ExpandDims_80:0' shape=(None, 1) dtype=uint8>, 'TRAVDAY_3': <tf.Tensor 'ExpandDims_81:0' shape=(None, 1) dtype=uint8>, 'TRAVDAY_4': <tf.Tensor 'ExpandDims_82:0' shape=(None, 1) dtype=uint8>, 'TRAVDAY_5': <tf.Tensor 'ExpandDims_83:0' shape=(None, 1) dtype=uint8>, 'TRAVDAY_6': <tf.Tensor 'ExpandDims_84:0' shape=(None, 1) dtype=uint8>, 'TRAVDAY_7': <tf.Tensor 'ExpandDims_85:0' shape=(None, 1) dtype=uint8>, 'dist_to_work_between_1_and_2': <tf.Tensor 'ExpandDims_128:0' shape=(None, 1) dtype=uint8>, 'dist_to_work_more_than_11': <tf.Tensor 'ExpandDims_131:0' shape=(None, 1) dtype=uint8>, 'dist_to_work_between_2_and_5': <tf.Tensor 'ExpandDims_129:0' shape=(None, 1) dtype=uint8>, 'dist_to_work_between_5_and_11': <tf.Tensor 'ExpandDims_130:0' shape=(None, 1) dtype=uint8>, 'dist_to_shopping_between_1_and_2': <tf.Tensor 'ExpandDims_120:0' shape=(None, 1) dtype=uint8>, 'dist_to_shopping_more_than_11': <tf.Tensor 'ExpandDims_123:0' shape=(None, 1) dtype=uint8>, 'dist_to_shopping_between_2_and_5': <tf.Tensor 'ExpandDims_121:0' shape=(None, 1) dtype=uint8>, 'dist_to_shopping_between_5_and_11': <tf.Tensor 'ExpandDims_122:0' shape=(None, 1) dtype=uint8>, 'dist_to_family_between_1_and_2': <tf.Tensor 'ExpandDims_108:0' shape=(None, 1) dtype=uint8>, 'dist_to_family_greater_than_11': <tf.Tensor 'ExpandDims_111:0' shape=(None, 1) dtype=uint8>, 'dist_to_family_between_2_and_5': <tf.Tensor 'ExpandDims_109:0' shape=(None, 1) dtype=uint8>, 'dist_to_family_between_5_and_11': <tf.Tensor 'ExpandDims_110:0' shape=(None, 1) dtype=uint8>, 'dist_to_school_or_church_between_1_and_2': <tf.Tensor 'ExpandDims_116:0' shape=(None, 1) dtype=uint8>, 'dist_to_school_or_church_greater_than_11': <tf.Tensor 'ExpandDims_119:0' shape=(None, 1) dtype=uint8>, 'dist_to_school_or_church_between_2_and_5': <tf.Tensor 'ExpandDims_117:0' shape=(None, 1) dtype=uint8>, 'dist_to_school_or_church_between_5_and_11': <tf.Tensor 'ExpandDims_118:0' shape=(None, 1) dtype=uint8>, 'dist_to_relatvies_between_1_and_2': <tf.Tensor 'ExpandDims_112:0' shape=(None, 1) dtype=uint8>, 'dist_to_relatvies_greater_than_11': <tf.Tensor 'ExpandDims_115:0' shape=(None, 1) dtype=uint8>, 'dist_to_relatvies_between_2_and_5': <tf.Tensor 'ExpandDims_113:0' shape=(None, 1) dtype=uint8>, 'dist_to_relatvies_between_5_and_11': <tf.Tensor 'ExpandDims_114:0' shape=(None, 1) dtype=uint8>, 'dist_to_social_between_1_and_2': <tf.Tensor 'ExpandDims_124:0' shape=(None, 1) dtype=uint8>, 'dist_to_social_greater_than_11': <tf.Tensor 'ExpandDims_127:0' shape=(None, 1) dtype=uint8>, 'dist_to_social_between_2_and_5': <tf.Tensor 'ExpandDims_125:0' shape=(None, 1) dtype=uint8>, 'dist_to_social_between_5_and_11': <tf.Tensor 'ExpandDims_126:0' shape=(None, 1) dtype=uint8>, 'HH_CBSA_15380': <tf.Tensor 'ExpandDims_34:0' shape=(None, 1) dtype=uint8>, 'HH_CBSA_35620': <tf.Tensor 'ExpandDims_35:0' shape=(None, 1) dtype=uint8>, 'HH_CBSA_40380': <tf.Tensor 'ExpandDims_36:0' shape=(None, 1) dtype=uint8>, 'HH_CBSA_XXXXX': <tf.Tensor 'ExpandDims_37:0' shape=(None, 1) dtype=uint8>, 'HOMEOWN_1': <tf.Tensor 'ExpandDims_38:0' shape=(None, 1) dtype=uint8>, 'HOMEOWN_2': <tf.Tensor 'ExpandDims_39:0' shape=(None, 1) dtype=uint8>, 'HOMEOWN_97': <tf.Tensor 'ExpandDims_40:0' shape=(None, 1) dtype=uint8>, 'HHSIZE_1': <tf.Tensor 'ExpandDims_26:0' shape=(None, 1) dtype=uint8>, 'HHSIZE_2': <tf.Tensor 'ExpandDims_27:0' shape=(None, 1) dtype=uint8>, 'HHSIZE_3': <tf.Tensor 'ExpandDims_28:0' shape=(None, 1) dtype=uint8>, 'HHSIZE_above_3': <tf.Tensor 'ExpandDims_29:0' shape=(None, 1) dtype=uint8>, 'HHVEHCNT_1': <tf.Tensor 'ExpandDims_30:0' shape=(None, 1) dtype=uint8>, 'HHVEHCNT_2': <tf.Tensor 'ExpandDims_31:0' shape=(None, 1) dtype=uint8>, 'HHVEHCNT_3': <tf.Tensor 'ExpandDims_32:0' shape=(None, 1) dtype=uint8>, 'HHVEHCNT_>3': <tf.Tensor 'ExpandDims_33:0' shape=(None, 1) dtype=uint8>, 'HHFAMINC_1': <tf.Tensor 'ExpandDims_15:0' shape=(None, 1) dtype=uint8>, 'HHFAMINC_10': <tf.Tensor 'ExpandDims_16:0' shape=(None, 1) dtype=uint8>, 'HHFAMINC_11': <tf.Tensor 'ExpandDims_17:0' shape=(None, 1) dtype=uint8>, 'HHFAMINC_2': <tf.Tensor 'ExpandDims_18:0' shape=(None, 1) dtype=uint8>, 'HHFAMINC_3': <tf.Tensor 'ExpandDims_19:0' shape=(None, 1) dtype=uint8>, 'HHFAMINC_4': <tf.Tensor 'ExpandDims_20:0' shape=(None, 1) dtype=uint8>, 'HHFAMINC_5': <tf.Tensor 'ExpandDims_21:0' shape=(None, 1) dtype=uint8>, 'HHFAMINC_6': <tf.Tensor 'ExpandDims_22:0' shape=(None, 1) dtype=uint8>, 'HHFAMINC_7': <tf.Tensor 'ExpandDims_23:0' shape=(None, 1) dtype=uint8>, 'HHFAMINC_8': <tf.Tensor 'ExpandDims_24:0' shape=(None, 1) dtype=uint8>, 'HHFAMINC_9': <tf.Tensor 'ExpandDims_25:0' shape=(None, 1) dtype=uint8>, 'MSACAT_1': <tf.Tensor 'ExpandDims_51:0' shape=(None, 1) dtype=uint8>, 'MSACAT_2': <tf.Tensor 'ExpandDims_52:0' shape=(None, 1) dtype=uint8>, 'MSACAT_3': <tf.Tensor 'ExpandDims_53:0' shape=(None, 1) dtype=uint8>, 'MSACAT_4': <tf.Tensor 'ExpandDims_54:0' shape=(None, 1) dtype=uint8>, 'MSASIZE_1': <tf.Tensor 'ExpandDims_55:0' shape=(None, 1) dtype=uint8>, 'MSASIZE_2': <tf.Tensor 'ExpandDims_56:0' shape=(None, 1) dtype=uint8>, 'MSASIZE_3': <tf.Tensor 'ExpandDims_57:0' shape=(None, 1) dtype=uint8>, 'MSASIZE_4': <tf.Tensor 'ExpandDims_58:0' shape=(None, 1) dtype=uint8>, 'MSASIZE_5': <tf.Tensor 'ExpandDims_59:0' shape=(None, 1) dtype=uint8>, 'MSASIZE_6': <tf.Tensor 'ExpandDims_60:0' shape=(None, 1) dtype=uint8>, 'URBAN_rural': <tf.Tensor 'ExpandDims_91:0' shape=(None, 1) dtype=uint8>, 'URBAN_urban': <tf.Tensor 'ExpandDims_92:0' shape=(None, 1) dtype=uint8>, 'URBANSIZE_1': <tf.Tensor 'ExpandDims_86:0' shape=(None, 1) dtype=uint8>, 'URBANSIZE_2': <tf.Tensor 'ExpandDims_87:0' shape=(None, 1) dtype=uint8>, 'URBANSIZE_3': <tf.Tensor 'ExpandDims_88:0' shape=(None, 1) dtype=uint8>, 'URBANSIZE_5': <tf.Tensor 'ExpandDims_89:0' shape=(None, 1) dtype=uint8>, 'URBANSIZE_6': <tf.Tensor 'ExpandDims_90:0' shape=(None, 1) dtype=uint8>, 'URBRUR_1': <tf.Tensor 'ExpandDims_93:0' shape=(None, 1) dtype=uint8>, 'URBRUR_2': <tf.Tensor 'ExpandDims_94:0' shape=(None, 1) dtype=uint8>, 'LIF_CYC_1': <tf.Tensor 'ExpandDims_41:0' shape=(None, 1) dtype=uint8>, 'LIF_CYC_10': <tf.Tensor 'ExpandDims_42:0' shape=(None, 1) dtype=uint8>, 'LIF_CYC_2': <tf.Tensor 'ExpandDims_43:0' shape=(None, 1) dtype=uint8>, 'LIF_CYC_3': <tf.Tensor 'ExpandDims_44:0' shape=(None, 1) dtype=uint8>, 'LIF_CYC_4': <tf.Tensor 'ExpandDims_45:0' shape=(None, 1) dtype=uint8>, 'LIF_CYC_5': <tf.Tensor 'ExpandDims_46:0' shape=(None, 1) dtype=uint8>, 'LIF_CYC_6': <tf.Tensor 'ExpandDims_47:0' shape=(None, 1) dtype=uint8>, 'LIF_CYC_7': <tf.Tensor 'ExpandDims_48:0' shape=(None, 1) dtype=uint8>, 'LIF_CYC_8': <tf.Tensor 'ExpandDims_49:0' shape=(None, 1) dtype=uint8>, 'LIF_CYC_9': <tf.Tensor 'ExpandDims_50:0' shape=(None, 1) dtype=uint8>, 'AGE_bins_16_to_25': <tf.Tensor 'ExpandDims:0' shape=(None, 1) dtype=uint8>, 'AGE_bins_26_to_35': <tf.Tensor 'ExpandDims_1:0' shape=(None, 1) dtype=uint8>, 'AGE_bins_36_to_45': <tf.Tensor 'ExpandDims_2:0' shape=(None, 1) dtype=uint8>, 'AGE_bins_46_to_55': <tf.Tensor 'ExpandDims_3:0' shape=(None, 1) dtype=uint8>, 'AGE_bins_56_to_65': <tf.Tensor 'ExpandDims_4:0' shape=(None, 1) dtype=uint8>, 'AGE_bins_5_to_15': <tf.Tensor 'ExpandDims_5:0' shape=(None, 1) dtype=uint8>, 'AGE_bins_66_to_75': <tf.Tensor 'ExpandDims_6:0' shape=(None, 1) dtype=uint8>, 'AGE_bins_more_than_75': <tf.Tensor 'ExpandDims_7:0' shape=(None, 1) dtype=uint8>, 'NUMADLT_ratio_1': <tf.Tensor 'ExpandDims_62:0' shape=(None, 1) dtype=uint8>, 'NUMADLT_ratio_less_than_0.5': <tf.Tensor 'ExpandDims_63:0' shape=(None, 1) dtype=uint8>, 'NUMADLT_ratio_more_than_0.5': <tf.Tensor 'ExpandDims_64:0' shape=(None, 1) dtype=uint8>, 'YOUNGCHILD_ratio_0': <tf.Tensor 'ExpandDims_105:0' shape=(None, 1) dtype=uint8>, 'YOUNGCHILD_ratio_less_than_0.5': <tf.Tensor 'ExpandDims_106:0' shape=(None, 1) dtype=uint8>, 'YOUNGCHILD_ratio_more_than_0.5': <tf.Tensor 'ExpandDims_107:0' shape=(None, 1) dtype=uint8>, 'WRKCOUNT_ratio_0': <tf.Tensor 'ExpandDims_98:0' shape=(None, 1) dtype=uint8>, 'WRKCOUNT_ratio_1': <tf.Tensor 'ExpandDims_99:0' shape=(None, 1) dtype=uint8>, 'WRKCOUNT_ratio_less_than_0.5': <tf.Tensor 'ExpandDims_100:0' shape=(None, 1) dtype=uint8>, 'WRKCOUNT_ratio_more_than_0.5': <tf.Tensor 'ExpandDims_101:0' shape=(None, 1) dtype=uint8>}\n",
      "Consider rewriting this model with the Functional API.\n"
     ]
    },
    {
     "name": "stdout",
     "output_type": "stream",
     "text": [
      "WARNING:tensorflow:Layers in a Sequential model should only have a single input tensor, but we receive a <class 'dict'> input: {'NUMADLT': <tf.Tensor 'ExpandDims_61:0' shape=(None, 1) dtype=float32>, 'YOUNGCHILD': <tf.Tensor 'ExpandDims_104:0' shape=(None, 1) dtype=float32>, 'WRKCOUNT': <tf.Tensor 'ExpandDims_97:0' shape=(None, 1) dtype=float32>, 'EDUC_1': <tf.Tensor 'ExpandDims_10:0' shape=(None, 1) dtype=uint8>, 'EDUC_2': <tf.Tensor 'ExpandDims_11:0' shape=(None, 1) dtype=uint8>, 'EDUC_3': <tf.Tensor 'ExpandDims_12:0' shape=(None, 1) dtype=uint8>, 'EDUC_4': <tf.Tensor 'ExpandDims_13:0' shape=(None, 1) dtype=uint8>, 'EDUC_5': <tf.Tensor 'ExpandDims_14:0' shape=(None, 1) dtype=uint8>, 'R_RACE_1': <tf.Tensor 'ExpandDims_70:0' shape=(None, 1) dtype=uint8>, 'R_RACE_2': <tf.Tensor 'ExpandDims_71:0' shape=(None, 1) dtype=uint8>, 'R_RACE_3': <tf.Tensor 'ExpandDims_72:0' shape=(None, 1) dtype=uint8>, 'R_RACE_4': <tf.Tensor 'ExpandDims_73:0' shape=(None, 1) dtype=uint8>, 'R_RACE_5': <tf.Tensor 'ExpandDims_74:0' shape=(None, 1) dtype=uint8>, 'R_RACE_6': <tf.Tensor 'ExpandDims_75:0' shape=(None, 1) dtype=uint8>, 'R_RACE_97': <tf.Tensor 'ExpandDims_76:0' shape=(None, 1) dtype=uint8>, 'R_SEX_1': <tf.Tensor 'ExpandDims_77:0' shape=(None, 1) dtype=uint8>, 'R_SEX_2': <tf.Tensor 'ExpandDims_78:0' shape=(None, 1) dtype=uint8>, 'WRK_HOME_1': <tf.Tensor 'ExpandDims_102:0' shape=(None, 1) dtype=uint8>, 'WRK_HOME_2': <tf.Tensor 'ExpandDims_103:0' shape=(None, 1) dtype=uint8>, 'WKFTPT_1': <tf.Tensor 'ExpandDims_95:0' shape=(None, 1) dtype=uint8>, 'WKFTPT_2': <tf.Tensor 'ExpandDims_96:0' shape=(None, 1) dtype=uint8>, 'OCCAT_1': <tf.Tensor 'ExpandDims_65:0' shape=(None, 1) dtype=uint8>, 'OCCAT_2': <tf.Tensor 'ExpandDims_66:0' shape=(None, 1) dtype=uint8>, 'OCCAT_3': <tf.Tensor 'ExpandDims_67:0' shape=(None, 1) dtype=uint8>, 'OCCAT_4': <tf.Tensor 'ExpandDims_68:0' shape=(None, 1) dtype=uint8>, 'OCCAT_97': <tf.Tensor 'ExpandDims_69:0' shape=(None, 1) dtype=uint8>, 'DRIVER_1': <tf.Tensor 'ExpandDims_8:0' shape=(None, 1) dtype=uint8>, 'DRIVER_2': <tf.Tensor 'ExpandDims_9:0' shape=(None, 1) dtype=uint8>, 'TRAVDAY_1': <tf.Tensor 'ExpandDims_79:0' shape=(None, 1) dtype=uint8>, 'TRAVDAY_2': <tf.Tensor 'ExpandDims_80:0' shape=(None, 1) dtype=uint8>, 'TRAVDAY_3': <tf.Tensor 'ExpandDims_81:0' shape=(None, 1) dtype=uint8>, 'TRAVDAY_4': <tf.Tensor 'ExpandDims_82:0' shape=(None, 1) dtype=uint8>, 'TRAVDAY_5': <tf.Tensor 'ExpandDims_83:0' shape=(None, 1) dtype=uint8>, 'TRAVDAY_6': <tf.Tensor 'ExpandDims_84:0' shape=(None, 1) dtype=uint8>, 'TRAVDAY_7': <tf.Tensor 'ExpandDims_85:0' shape=(None, 1) dtype=uint8>, 'dist_to_work_between_1_and_2': <tf.Tensor 'ExpandDims_128:0' shape=(None, 1) dtype=uint8>, 'dist_to_work_more_than_11': <tf.Tensor 'ExpandDims_131:0' shape=(None, 1) dtype=uint8>, 'dist_to_work_between_2_and_5': <tf.Tensor 'ExpandDims_129:0' shape=(None, 1) dtype=uint8>, 'dist_to_work_between_5_and_11': <tf.Tensor 'ExpandDims_130:0' shape=(None, 1) dtype=uint8>, 'dist_to_shopping_between_1_and_2': <tf.Tensor 'ExpandDims_120:0' shape=(None, 1) dtype=uint8>, 'dist_to_shopping_more_than_11': <tf.Tensor 'ExpandDims_123:0' shape=(None, 1) dtype=uint8>, 'dist_to_shopping_between_2_and_5': <tf.Tensor 'ExpandDims_121:0' shape=(None, 1) dtype=uint8>, 'dist_to_shopping_between_5_and_11': <tf.Tensor 'ExpandDims_122:0' shape=(None, 1) dtype=uint8>, 'dist_to_family_between_1_and_2': <tf.Tensor 'ExpandDims_108:0' shape=(None, 1) dtype=uint8>, 'dist_to_family_greater_than_11': <tf.Tensor 'ExpandDims_111:0' shape=(None, 1) dtype=uint8>, 'dist_to_family_between_2_and_5': <tf.Tensor 'ExpandDims_109:0' shape=(None, 1) dtype=uint8>, 'dist_to_family_between_5_and_11': <tf.Tensor 'ExpandDims_110:0' shape=(None, 1) dtype=uint8>, 'dist_to_school_or_church_between_1_and_2': <tf.Tensor 'ExpandDims_116:0' shape=(None, 1) dtype=uint8>, 'dist_to_school_or_church_greater_than_11': <tf.Tensor 'ExpandDims_119:0' shape=(None, 1) dtype=uint8>, 'dist_to_school_or_church_between_2_and_5': <tf.Tensor 'ExpandDims_117:0' shape=(None, 1) dtype=uint8>, 'dist_to_school_or_church_between_5_and_11': <tf.Tensor 'ExpandDims_118:0' shape=(None, 1) dtype=uint8>, 'dist_to_relatvies_between_1_and_2': <tf.Tensor 'ExpandDims_112:0' shape=(None, 1) dtype=uint8>, 'dist_to_relatvies_greater_than_11': <tf.Tensor 'ExpandDims_115:0' shape=(None, 1) dtype=uint8>, 'dist_to_relatvies_between_2_and_5': <tf.Tensor 'ExpandDims_113:0' shape=(None, 1) dtype=uint8>, 'dist_to_relatvies_between_5_and_11': <tf.Tensor 'ExpandDims_114:0' shape=(None, 1) dtype=uint8>, 'dist_to_social_between_1_and_2': <tf.Tensor 'ExpandDims_124:0' shape=(None, 1) dtype=uint8>, 'dist_to_social_greater_than_11': <tf.Tensor 'ExpandDims_127:0' shape=(None, 1) dtype=uint8>, 'dist_to_social_between_2_and_5': <tf.Tensor 'ExpandDims_125:0' shape=(None, 1) dtype=uint8>, 'dist_to_social_between_5_and_11': <tf.Tensor 'ExpandDims_126:0' shape=(None, 1) dtype=uint8>, 'HH_CBSA_15380': <tf.Tensor 'ExpandDims_34:0' shape=(None, 1) dtype=uint8>, 'HH_CBSA_35620': <tf.Tensor 'ExpandDims_35:0' shape=(None, 1) dtype=uint8>, 'HH_CBSA_40380': <tf.Tensor 'ExpandDims_36:0' shape=(None, 1) dtype=uint8>, 'HH_CBSA_XXXXX': <tf.Tensor 'ExpandDims_37:0' shape=(None, 1) dtype=uint8>, 'HOMEOWN_1': <tf.Tensor 'ExpandDims_38:0' shape=(None, 1) dtype=uint8>, 'HOMEOWN_2': <tf.Tensor 'ExpandDims_39:0' shape=(None, 1) dtype=uint8>, 'HOMEOWN_97': <tf.Tensor 'ExpandDims_40:0' shape=(None, 1) dtype=uint8>, 'HHSIZE_1': <tf.Tensor 'ExpandDims_26:0' shape=(None, 1) dtype=uint8>, 'HHSIZE_2': <tf.Tensor 'ExpandDims_27:0' shape=(None, 1) dtype=uint8>, 'HHSIZE_3': <tf.Tensor 'ExpandDims_28:0' shape=(None, 1) dtype=uint8>, 'HHSIZE_above_3': <tf.Tensor 'ExpandDims_29:0' shape=(None, 1) dtype=uint8>, 'HHVEHCNT_1': <tf.Tensor 'ExpandDims_30:0' shape=(None, 1) dtype=uint8>, 'HHVEHCNT_2': <tf.Tensor 'ExpandDims_31:0' shape=(None, 1) dtype=uint8>, 'HHVEHCNT_3': <tf.Tensor 'ExpandDims_32:0' shape=(None, 1) dtype=uint8>, 'HHVEHCNT_>3': <tf.Tensor 'ExpandDims_33:0' shape=(None, 1) dtype=uint8>, 'HHFAMINC_1': <tf.Tensor 'ExpandDims_15:0' shape=(None, 1) dtype=uint8>, 'HHFAMINC_10': <tf.Tensor 'ExpandDims_16:0' shape=(None, 1) dtype=uint8>, 'HHFAMINC_11': <tf.Tensor 'ExpandDims_17:0' shape=(None, 1) dtype=uint8>, 'HHFAMINC_2': <tf.Tensor 'ExpandDims_18:0' shape=(None, 1) dtype=uint8>, 'HHFAMINC_3': <tf.Tensor 'ExpandDims_19:0' shape=(None, 1) dtype=uint8>, 'HHFAMINC_4': <tf.Tensor 'ExpandDims_20:0' shape=(None, 1) dtype=uint8>, 'HHFAMINC_5': <tf.Tensor 'ExpandDims_21:0' shape=(None, 1) dtype=uint8>, 'HHFAMINC_6': <tf.Tensor 'ExpandDims_22:0' shape=(None, 1) dtype=uint8>, 'HHFAMINC_7': <tf.Tensor 'ExpandDims_23:0' shape=(None, 1) dtype=uint8>, 'HHFAMINC_8': <tf.Tensor 'ExpandDims_24:0' shape=(None, 1) dtype=uint8>, 'HHFAMINC_9': <tf.Tensor 'ExpandDims_25:0' shape=(None, 1) dtype=uint8>, 'MSACAT_1': <tf.Tensor 'ExpandDims_51:0' shape=(None, 1) dtype=uint8>, 'MSACAT_2': <tf.Tensor 'ExpandDims_52:0' shape=(None, 1) dtype=uint8>, 'MSACAT_3': <tf.Tensor 'ExpandDims_53:0' shape=(None, 1) dtype=uint8>, 'MSACAT_4': <tf.Tensor 'ExpandDims_54:0' shape=(None, 1) dtype=uint8>, 'MSASIZE_1': <tf.Tensor 'ExpandDims_55:0' shape=(None, 1) dtype=uint8>, 'MSASIZE_2': <tf.Tensor 'ExpandDims_56:0' shape=(None, 1) dtype=uint8>, 'MSASIZE_3': <tf.Tensor 'ExpandDims_57:0' shape=(None, 1) dtype=uint8>, 'MSASIZE_4': <tf.Tensor 'ExpandDims_58:0' shape=(None, 1) dtype=uint8>, 'MSASIZE_5': <tf.Tensor 'ExpandDims_59:0' shape=(None, 1) dtype=uint8>, 'MSASIZE_6': <tf.Tensor 'ExpandDims_60:0' shape=(None, 1) dtype=uint8>, 'URBAN_rural': <tf.Tensor 'ExpandDims_91:0' shape=(None, 1) dtype=uint8>, 'URBAN_urban': <tf.Tensor 'ExpandDims_92:0' shape=(None, 1) dtype=uint8>, 'URBANSIZE_1': <tf.Tensor 'ExpandDims_86:0' shape=(None, 1) dtype=uint8>, 'URBANSIZE_2': <tf.Tensor 'ExpandDims_87:0' shape=(None, 1) dtype=uint8>, 'URBANSIZE_3': <tf.Tensor 'ExpandDims_88:0' shape=(None, 1) dtype=uint8>, 'URBANSIZE_5': <tf.Tensor 'ExpandDims_89:0' shape=(None, 1) dtype=uint8>, 'URBANSIZE_6': <tf.Tensor 'ExpandDims_90:0' shape=(None, 1) dtype=uint8>, 'URBRUR_1': <tf.Tensor 'ExpandDims_93:0' shape=(None, 1) dtype=uint8>, 'URBRUR_2': <tf.Tensor 'ExpandDims_94:0' shape=(None, 1) dtype=uint8>, 'LIF_CYC_1': <tf.Tensor 'ExpandDims_41:0' shape=(None, 1) dtype=uint8>, 'LIF_CYC_10': <tf.Tensor 'ExpandDims_42:0' shape=(None, 1) dtype=uint8>, 'LIF_CYC_2': <tf.Tensor 'ExpandDims_43:0' shape=(None, 1) dtype=uint8>, 'LIF_CYC_3': <tf.Tensor 'ExpandDims_44:0' shape=(None, 1) dtype=uint8>, 'LIF_CYC_4': <tf.Tensor 'ExpandDims_45:0' shape=(None, 1) dtype=uint8>, 'LIF_CYC_5': <tf.Tensor 'ExpandDims_46:0' shape=(None, 1) dtype=uint8>, 'LIF_CYC_6': <tf.Tensor 'ExpandDims_47:0' shape=(None, 1) dtype=uint8>, 'LIF_CYC_7': <tf.Tensor 'ExpandDims_48:0' shape=(None, 1) dtype=uint8>, 'LIF_CYC_8': <tf.Tensor 'ExpandDims_49:0' shape=(None, 1) dtype=uint8>, 'LIF_CYC_9': <tf.Tensor 'ExpandDims_50:0' shape=(None, 1) dtype=uint8>, 'AGE_bins_16_to_25': <tf.Tensor 'ExpandDims:0' shape=(None, 1) dtype=uint8>, 'AGE_bins_26_to_35': <tf.Tensor 'ExpandDims_1:0' shape=(None, 1) dtype=uint8>, 'AGE_bins_36_to_45': <tf.Tensor 'ExpandDims_2:0' shape=(None, 1) dtype=uint8>, 'AGE_bins_46_to_55': <tf.Tensor 'ExpandDims_3:0' shape=(None, 1) dtype=uint8>, 'AGE_bins_56_to_65': <tf.Tensor 'ExpandDims_4:0' shape=(None, 1) dtype=uint8>, 'AGE_bins_5_to_15': <tf.Tensor 'ExpandDims_5:0' shape=(None, 1) dtype=uint8>, 'AGE_bins_66_to_75': <tf.Tensor 'ExpandDims_6:0' shape=(None, 1) dtype=uint8>, 'AGE_bins_more_than_75': <tf.Tensor 'ExpandDims_7:0' shape=(None, 1) dtype=uint8>, 'NUMADLT_ratio_1': <tf.Tensor 'ExpandDims_62:0' shape=(None, 1) dtype=uint8>, 'NUMADLT_ratio_less_than_0.5': <tf.Tensor 'ExpandDims_63:0' shape=(None, 1) dtype=uint8>, 'NUMADLT_ratio_more_than_0.5': <tf.Tensor 'ExpandDims_64:0' shape=(None, 1) dtype=uint8>, 'YOUNGCHILD_ratio_0': <tf.Tensor 'ExpandDims_105:0' shape=(None, 1) dtype=uint8>, 'YOUNGCHILD_ratio_less_than_0.5': <tf.Tensor 'ExpandDims_106:0' shape=(None, 1) dtype=uint8>, 'YOUNGCHILD_ratio_more_than_0.5': <tf.Tensor 'ExpandDims_107:0' shape=(None, 1) dtype=uint8>, 'WRKCOUNT_ratio_0': <tf.Tensor 'ExpandDims_98:0' shape=(None, 1) dtype=uint8>, 'WRKCOUNT_ratio_1': <tf.Tensor 'ExpandDims_99:0' shape=(None, 1) dtype=uint8>, 'WRKCOUNT_ratio_less_than_0.5': <tf.Tensor 'ExpandDims_100:0' shape=(None, 1) dtype=uint8>, 'WRKCOUNT_ratio_more_than_0.5': <tf.Tensor 'ExpandDims_101:0' shape=(None, 1) dtype=uint8>}\n",
      "Consider rewriting this model with the Functional API.\n"
     ]
    },
    {
     "name": "stdout",
     "output_type": "stream",
     "text": [
      "WARNING:tensorflow:Layers in a Sequential model should only have a single input tensor, but we receive a <class 'dict'> input: {'NUMADLT': <tf.Tensor 'ExpandDims_61:0' shape=(None, 1) dtype=float32>, 'YOUNGCHILD': <tf.Tensor 'ExpandDims_104:0' shape=(None, 1) dtype=float32>, 'WRKCOUNT': <tf.Tensor 'ExpandDims_97:0' shape=(None, 1) dtype=float32>, 'EDUC_1': <tf.Tensor 'ExpandDims_10:0' shape=(None, 1) dtype=uint8>, 'EDUC_2': <tf.Tensor 'ExpandDims_11:0' shape=(None, 1) dtype=uint8>, 'EDUC_3': <tf.Tensor 'ExpandDims_12:0' shape=(None, 1) dtype=uint8>, 'EDUC_4': <tf.Tensor 'ExpandDims_13:0' shape=(None, 1) dtype=uint8>, 'EDUC_5': <tf.Tensor 'ExpandDims_14:0' shape=(None, 1) dtype=uint8>, 'R_RACE_1': <tf.Tensor 'ExpandDims_70:0' shape=(None, 1) dtype=uint8>, 'R_RACE_2': <tf.Tensor 'ExpandDims_71:0' shape=(None, 1) dtype=uint8>, 'R_RACE_3': <tf.Tensor 'ExpandDims_72:0' shape=(None, 1) dtype=uint8>, 'R_RACE_4': <tf.Tensor 'ExpandDims_73:0' shape=(None, 1) dtype=uint8>, 'R_RACE_5': <tf.Tensor 'ExpandDims_74:0' shape=(None, 1) dtype=uint8>, 'R_RACE_6': <tf.Tensor 'ExpandDims_75:0' shape=(None, 1) dtype=uint8>, 'R_RACE_97': <tf.Tensor 'ExpandDims_76:0' shape=(None, 1) dtype=uint8>, 'R_SEX_1': <tf.Tensor 'ExpandDims_77:0' shape=(None, 1) dtype=uint8>, 'R_SEX_2': <tf.Tensor 'ExpandDims_78:0' shape=(None, 1) dtype=uint8>, 'WRK_HOME_1': <tf.Tensor 'ExpandDims_102:0' shape=(None, 1) dtype=uint8>, 'WRK_HOME_2': <tf.Tensor 'ExpandDims_103:0' shape=(None, 1) dtype=uint8>, 'WKFTPT_1': <tf.Tensor 'ExpandDims_95:0' shape=(None, 1) dtype=uint8>, 'WKFTPT_2': <tf.Tensor 'ExpandDims_96:0' shape=(None, 1) dtype=uint8>, 'OCCAT_1': <tf.Tensor 'ExpandDims_65:0' shape=(None, 1) dtype=uint8>, 'OCCAT_2': <tf.Tensor 'ExpandDims_66:0' shape=(None, 1) dtype=uint8>, 'OCCAT_3': <tf.Tensor 'ExpandDims_67:0' shape=(None, 1) dtype=uint8>, 'OCCAT_4': <tf.Tensor 'ExpandDims_68:0' shape=(None, 1) dtype=uint8>, 'OCCAT_97': <tf.Tensor 'ExpandDims_69:0' shape=(None, 1) dtype=uint8>, 'DRIVER_1': <tf.Tensor 'ExpandDims_8:0' shape=(None, 1) dtype=uint8>, 'DRIVER_2': <tf.Tensor 'ExpandDims_9:0' shape=(None, 1) dtype=uint8>, 'TRAVDAY_1': <tf.Tensor 'ExpandDims_79:0' shape=(None, 1) dtype=uint8>, 'TRAVDAY_2': <tf.Tensor 'ExpandDims_80:0' shape=(None, 1) dtype=uint8>, 'TRAVDAY_3': <tf.Tensor 'ExpandDims_81:0' shape=(None, 1) dtype=uint8>, 'TRAVDAY_4': <tf.Tensor 'ExpandDims_82:0' shape=(None, 1) dtype=uint8>, 'TRAVDAY_5': <tf.Tensor 'ExpandDims_83:0' shape=(None, 1) dtype=uint8>, 'TRAVDAY_6': <tf.Tensor 'ExpandDims_84:0' shape=(None, 1) dtype=uint8>, 'TRAVDAY_7': <tf.Tensor 'ExpandDims_85:0' shape=(None, 1) dtype=uint8>, 'dist_to_work_between_1_and_2': <tf.Tensor 'ExpandDims_128:0' shape=(None, 1) dtype=uint8>, 'dist_to_work_more_than_11': <tf.Tensor 'ExpandDims_131:0' shape=(None, 1) dtype=uint8>, 'dist_to_work_between_2_and_5': <tf.Tensor 'ExpandDims_129:0' shape=(None, 1) dtype=uint8>, 'dist_to_work_between_5_and_11': <tf.Tensor 'ExpandDims_130:0' shape=(None, 1) dtype=uint8>, 'dist_to_shopping_between_1_and_2': <tf.Tensor 'ExpandDims_120:0' shape=(None, 1) dtype=uint8>, 'dist_to_shopping_more_than_11': <tf.Tensor 'ExpandDims_123:0' shape=(None, 1) dtype=uint8>, 'dist_to_shopping_between_2_and_5': <tf.Tensor 'ExpandDims_121:0' shape=(None, 1) dtype=uint8>, 'dist_to_shopping_between_5_and_11': <tf.Tensor 'ExpandDims_122:0' shape=(None, 1) dtype=uint8>, 'dist_to_family_between_1_and_2': <tf.Tensor 'ExpandDims_108:0' shape=(None, 1) dtype=uint8>, 'dist_to_family_greater_than_11': <tf.Tensor 'ExpandDims_111:0' shape=(None, 1) dtype=uint8>, 'dist_to_family_between_2_and_5': <tf.Tensor 'ExpandDims_109:0' shape=(None, 1) dtype=uint8>, 'dist_to_family_between_5_and_11': <tf.Tensor 'ExpandDims_110:0' shape=(None, 1) dtype=uint8>, 'dist_to_school_or_church_between_1_and_2': <tf.Tensor 'ExpandDims_116:0' shape=(None, 1) dtype=uint8>, 'dist_to_school_or_church_greater_than_11': <tf.Tensor 'ExpandDims_119:0' shape=(None, 1) dtype=uint8>, 'dist_to_school_or_church_between_2_and_5': <tf.Tensor 'ExpandDims_117:0' shape=(None, 1) dtype=uint8>, 'dist_to_school_or_church_between_5_and_11': <tf.Tensor 'ExpandDims_118:0' shape=(None, 1) dtype=uint8>, 'dist_to_relatvies_between_1_and_2': <tf.Tensor 'ExpandDims_112:0' shape=(None, 1) dtype=uint8>, 'dist_to_relatvies_greater_than_11': <tf.Tensor 'ExpandDims_115:0' shape=(None, 1) dtype=uint8>, 'dist_to_relatvies_between_2_and_5': <tf.Tensor 'ExpandDims_113:0' shape=(None, 1) dtype=uint8>, 'dist_to_relatvies_between_5_and_11': <tf.Tensor 'ExpandDims_114:0' shape=(None, 1) dtype=uint8>, 'dist_to_social_between_1_and_2': <tf.Tensor 'ExpandDims_124:0' shape=(None, 1) dtype=uint8>, 'dist_to_social_greater_than_11': <tf.Tensor 'ExpandDims_127:0' shape=(None, 1) dtype=uint8>, 'dist_to_social_between_2_and_5': <tf.Tensor 'ExpandDims_125:0' shape=(None, 1) dtype=uint8>, 'dist_to_social_between_5_and_11': <tf.Tensor 'ExpandDims_126:0' shape=(None, 1) dtype=uint8>, 'HH_CBSA_15380': <tf.Tensor 'ExpandDims_34:0' shape=(None, 1) dtype=uint8>, 'HH_CBSA_35620': <tf.Tensor 'ExpandDims_35:0' shape=(None, 1) dtype=uint8>, 'HH_CBSA_40380': <tf.Tensor 'ExpandDims_36:0' shape=(None, 1) dtype=uint8>, 'HH_CBSA_XXXXX': <tf.Tensor 'ExpandDims_37:0' shape=(None, 1) dtype=uint8>, 'HOMEOWN_1': <tf.Tensor 'ExpandDims_38:0' shape=(None, 1) dtype=uint8>, 'HOMEOWN_2': <tf.Tensor 'ExpandDims_39:0' shape=(None, 1) dtype=uint8>, 'HOMEOWN_97': <tf.Tensor 'ExpandDims_40:0' shape=(None, 1) dtype=uint8>, 'HHSIZE_1': <tf.Tensor 'ExpandDims_26:0' shape=(None, 1) dtype=uint8>, 'HHSIZE_2': <tf.Tensor 'ExpandDims_27:0' shape=(None, 1) dtype=uint8>, 'HHSIZE_3': <tf.Tensor 'ExpandDims_28:0' shape=(None, 1) dtype=uint8>, 'HHSIZE_above_3': <tf.Tensor 'ExpandDims_29:0' shape=(None, 1) dtype=uint8>, 'HHVEHCNT_1': <tf.Tensor 'ExpandDims_30:0' shape=(None, 1) dtype=uint8>, 'HHVEHCNT_2': <tf.Tensor 'ExpandDims_31:0' shape=(None, 1) dtype=uint8>, 'HHVEHCNT_3': <tf.Tensor 'ExpandDims_32:0' shape=(None, 1) dtype=uint8>, 'HHVEHCNT_>3': <tf.Tensor 'ExpandDims_33:0' shape=(None, 1) dtype=uint8>, 'HHFAMINC_1': <tf.Tensor 'ExpandDims_15:0' shape=(None, 1) dtype=uint8>, 'HHFAMINC_10': <tf.Tensor 'ExpandDims_16:0' shape=(None, 1) dtype=uint8>, 'HHFAMINC_11': <tf.Tensor 'ExpandDims_17:0' shape=(None, 1) dtype=uint8>, 'HHFAMINC_2': <tf.Tensor 'ExpandDims_18:0' shape=(None, 1) dtype=uint8>, 'HHFAMINC_3': <tf.Tensor 'ExpandDims_19:0' shape=(None, 1) dtype=uint8>, 'HHFAMINC_4': <tf.Tensor 'ExpandDims_20:0' shape=(None, 1) dtype=uint8>, 'HHFAMINC_5': <tf.Tensor 'ExpandDims_21:0' shape=(None, 1) dtype=uint8>, 'HHFAMINC_6': <tf.Tensor 'ExpandDims_22:0' shape=(None, 1) dtype=uint8>, 'HHFAMINC_7': <tf.Tensor 'ExpandDims_23:0' shape=(None, 1) dtype=uint8>, 'HHFAMINC_8': <tf.Tensor 'ExpandDims_24:0' shape=(None, 1) dtype=uint8>, 'HHFAMINC_9': <tf.Tensor 'ExpandDims_25:0' shape=(None, 1) dtype=uint8>, 'MSACAT_1': <tf.Tensor 'ExpandDims_51:0' shape=(None, 1) dtype=uint8>, 'MSACAT_2': <tf.Tensor 'ExpandDims_52:0' shape=(None, 1) dtype=uint8>, 'MSACAT_3': <tf.Tensor 'ExpandDims_53:0' shape=(None, 1) dtype=uint8>, 'MSACAT_4': <tf.Tensor 'ExpandDims_54:0' shape=(None, 1) dtype=uint8>, 'MSASIZE_1': <tf.Tensor 'ExpandDims_55:0' shape=(None, 1) dtype=uint8>, 'MSASIZE_2': <tf.Tensor 'ExpandDims_56:0' shape=(None, 1) dtype=uint8>, 'MSASIZE_3': <tf.Tensor 'ExpandDims_57:0' shape=(None, 1) dtype=uint8>, 'MSASIZE_4': <tf.Tensor 'ExpandDims_58:0' shape=(None, 1) dtype=uint8>, 'MSASIZE_5': <tf.Tensor 'ExpandDims_59:0' shape=(None, 1) dtype=uint8>, 'MSASIZE_6': <tf.Tensor 'ExpandDims_60:0' shape=(None, 1) dtype=uint8>, 'URBAN_rural': <tf.Tensor 'ExpandDims_91:0' shape=(None, 1) dtype=uint8>, 'URBAN_urban': <tf.Tensor 'ExpandDims_92:0' shape=(None, 1) dtype=uint8>, 'URBANSIZE_1': <tf.Tensor 'ExpandDims_86:0' shape=(None, 1) dtype=uint8>, 'URBANSIZE_2': <tf.Tensor 'ExpandDims_87:0' shape=(None, 1) dtype=uint8>, 'URBANSIZE_3': <tf.Tensor 'ExpandDims_88:0' shape=(None, 1) dtype=uint8>, 'URBANSIZE_5': <tf.Tensor 'ExpandDims_89:0' shape=(None, 1) dtype=uint8>, 'URBANSIZE_6': <tf.Tensor 'ExpandDims_90:0' shape=(None, 1) dtype=uint8>, 'URBRUR_1': <tf.Tensor 'ExpandDims_93:0' shape=(None, 1) dtype=uint8>, 'URBRUR_2': <tf.Tensor 'ExpandDims_94:0' shape=(None, 1) dtype=uint8>, 'LIF_CYC_1': <tf.Tensor 'ExpandDims_41:0' shape=(None, 1) dtype=uint8>, 'LIF_CYC_10': <tf.Tensor 'ExpandDims_42:0' shape=(None, 1) dtype=uint8>, 'LIF_CYC_2': <tf.Tensor 'ExpandDims_43:0' shape=(None, 1) dtype=uint8>, 'LIF_CYC_3': <tf.Tensor 'ExpandDims_44:0' shape=(None, 1) dtype=uint8>, 'LIF_CYC_4': <tf.Tensor 'ExpandDims_45:0' shape=(None, 1) dtype=uint8>, 'LIF_CYC_5': <tf.Tensor 'ExpandDims_46:0' shape=(None, 1) dtype=uint8>, 'LIF_CYC_6': <tf.Tensor 'ExpandDims_47:0' shape=(None, 1) dtype=uint8>, 'LIF_CYC_7': <tf.Tensor 'ExpandDims_48:0' shape=(None, 1) dtype=uint8>, 'LIF_CYC_8': <tf.Tensor 'ExpandDims_49:0' shape=(None, 1) dtype=uint8>, 'LIF_CYC_9': <tf.Tensor 'ExpandDims_50:0' shape=(None, 1) dtype=uint8>, 'AGE_bins_16_to_25': <tf.Tensor 'ExpandDims:0' shape=(None, 1) dtype=uint8>, 'AGE_bins_26_to_35': <tf.Tensor 'ExpandDims_1:0' shape=(None, 1) dtype=uint8>, 'AGE_bins_36_to_45': <tf.Tensor 'ExpandDims_2:0' shape=(None, 1) dtype=uint8>, 'AGE_bins_46_to_55': <tf.Tensor 'ExpandDims_3:0' shape=(None, 1) dtype=uint8>, 'AGE_bins_56_to_65': <tf.Tensor 'ExpandDims_4:0' shape=(None, 1) dtype=uint8>, 'AGE_bins_5_to_15': <tf.Tensor 'ExpandDims_5:0' shape=(None, 1) dtype=uint8>, 'AGE_bins_66_to_75': <tf.Tensor 'ExpandDims_6:0' shape=(None, 1) dtype=uint8>, 'AGE_bins_more_than_75': <tf.Tensor 'ExpandDims_7:0' shape=(None, 1) dtype=uint8>, 'NUMADLT_ratio_1': <tf.Tensor 'ExpandDims_62:0' shape=(None, 1) dtype=uint8>, 'NUMADLT_ratio_less_than_0.5': <tf.Tensor 'ExpandDims_63:0' shape=(None, 1) dtype=uint8>, 'NUMADLT_ratio_more_than_0.5': <tf.Tensor 'ExpandDims_64:0' shape=(None, 1) dtype=uint8>, 'YOUNGCHILD_ratio_0': <tf.Tensor 'ExpandDims_105:0' shape=(None, 1) dtype=uint8>, 'YOUNGCHILD_ratio_less_than_0.5': <tf.Tensor 'ExpandDims_106:0' shape=(None, 1) dtype=uint8>, 'YOUNGCHILD_ratio_more_than_0.5': <tf.Tensor 'ExpandDims_107:0' shape=(None, 1) dtype=uint8>, 'WRKCOUNT_ratio_0': <tf.Tensor 'ExpandDims_98:0' shape=(None, 1) dtype=uint8>, 'WRKCOUNT_ratio_1': <tf.Tensor 'ExpandDims_99:0' shape=(None, 1) dtype=uint8>, 'WRKCOUNT_ratio_less_than_0.5': <tf.Tensor 'ExpandDims_100:0' shape=(None, 1) dtype=uint8>, 'WRKCOUNT_ratio_more_than_0.5': <tf.Tensor 'ExpandDims_101:0' shape=(None, 1) dtype=uint8>}\n",
      "Consider rewriting this model with the Functional API.\n"
     ]
    },
    {
     "name": "stdout",
     "output_type": "stream",
     "text": [
      "80/80 - 3s - loss: 3.3705 - mean_squared_error: 3.3705 - val_loss: 2.4963 - val_mean_squared_error: 2.4963\n",
      "Epoch 2/1000\n",
      "80/80 - 1s - loss: 2.4445 - mean_squared_error: 2.4445 - val_loss: 2.3497 - val_mean_squared_error: 2.3497\n",
      "Epoch 3/1000\n",
      "80/80 - 0s - loss: 2.3394 - mean_squared_error: 2.3394 - val_loss: 2.3448 - val_mean_squared_error: 2.3448\n",
      "Epoch 4/1000\n",
      "80/80 - 1s - loss: 2.2924 - mean_squared_error: 2.2924 - val_loss: 2.3196 - val_mean_squared_error: 2.3196\n",
      "Epoch 5/1000\n",
      "80/80 - 1s - loss: 2.2504 - mean_squared_error: 2.2504 - val_loss: 2.3279 - val_mean_squared_error: 2.3279\n",
      "Epoch 6/1000\n",
      "80/80 - 1s - loss: 2.2040 - mean_squared_error: 2.2040 - val_loss: 2.3293 - val_mean_squared_error: 2.3293\n",
      "Epoch 7/1000\n",
      "80/80 - 0s - loss: 2.1621 - mean_squared_error: 2.1621 - val_loss: 2.3682 - val_mean_squared_error: 2.3682\n",
      "Epoch 8/1000\n",
      "80/80 - 0s - loss: 2.1061 - mean_squared_error: 2.1061 - val_loss: 2.6055 - val_mean_squared_error: 2.6055\n",
      "Epoch 9/1000\n",
      "80/80 - 1s - loss: 2.0489 - mean_squared_error: 2.0489 - val_loss: 2.4832 - val_mean_squared_error: 2.4832\n",
      "Epoch 10/1000\n",
      "80/80 - 0s - loss: 1.9948 - mean_squared_error: 1.9948 - val_loss: 2.4088 - val_mean_squared_error: 2.4088\n",
      "Epoch 11/1000\n",
      "80/80 - 0s - loss: 1.9160 - mean_squared_error: 1.9160 - val_loss: 2.4430 - val_mean_squared_error: 2.4430\n",
      "Epoch 12/1000\n",
      "80/80 - 1s - loss: 1.8670 - mean_squared_error: 1.8670 - val_loss: 2.4947 - val_mean_squared_error: 2.4947\n",
      "Epoch 13/1000\n",
      "80/80 - 1s - loss: 1.8201 - mean_squared_error: 1.8201 - val_loss: 2.5007 - val_mean_squared_error: 2.5007\n",
      "Epoch 14/1000\n",
      "80/80 - 1s - loss: 1.7817 - mean_squared_error: 1.7817 - val_loss: 2.5475 - val_mean_squared_error: 2.5475\n",
      "Epoch 15/1000\n",
      "80/80 - 0s - loss: 1.7274 - mean_squared_error: 1.7274 - val_loss: 2.5246 - val_mean_squared_error: 2.5246\n",
      "Epoch 16/1000\n",
      "80/80 - 0s - loss: 1.7304 - mean_squared_error: 1.7304 - val_loss: 2.5732 - val_mean_squared_error: 2.5732\n",
      "Epoch 17/1000\n",
      "80/80 - 0s - loss: 1.6523 - mean_squared_error: 1.6523 - val_loss: 2.7312 - val_mean_squared_error: 2.7312\n",
      "Epoch 18/1000\n",
      "80/80 - 1s - loss: 1.6298 - mean_squared_error: 1.6298 - val_loss: 2.6349 - val_mean_squared_error: 2.6349\n",
      "Epoch 19/1000\n",
      "80/80 - 1s - loss: 1.5691 - mean_squared_error: 1.5691 - val_loss: 2.6588 - val_mean_squared_error: 2.6588\n",
      "Epoch 20/1000\n",
      "80/80 - 1s - loss: 1.5341 - mean_squared_error: 1.5341 - val_loss: 2.6812 - val_mean_squared_error: 2.6812\n",
      "Epoch 21/1000\n",
      "80/80 - 1s - loss: 1.5337 - mean_squared_error: 1.5337 - val_loss: 2.6244 - val_mean_squared_error: 2.6244\n",
      "Epoch 22/1000\n",
      "80/80 - 1s - loss: 1.4856 - mean_squared_error: 1.4856 - val_loss: 2.7089 - val_mean_squared_error: 2.7089\n",
      "Epoch 23/1000\n",
      "80/80 - 1s - loss: 1.4344 - mean_squared_error: 1.4344 - val_loss: 2.9548 - val_mean_squared_error: 2.9548\n",
      "Epoch 24/1000\n",
      "80/80 - 1s - loss: 1.4522 - mean_squared_error: 1.4522 - val_loss: 2.8670 - val_mean_squared_error: 2.8670\n",
      "Epoch 25/1000\n",
      "80/80 - 0s - loss: 1.3797 - mean_squared_error: 1.3797 - val_loss: 2.8849 - val_mean_squared_error: 2.8849\n",
      "Epoch 26/1000\n",
      "80/80 - 0s - loss: 1.3930 - mean_squared_error: 1.3930 - val_loss: 2.8590 - val_mean_squared_error: 2.8590\n",
      "Epoch 27/1000\n",
      "80/80 - 1s - loss: 1.3304 - mean_squared_error: 1.3304 - val_loss: 2.7645 - val_mean_squared_error: 2.7645\n",
      "Epoch 28/1000\n",
      "80/80 - 0s - loss: 1.3254 - mean_squared_error: 1.3254 - val_loss: 2.9523 - val_mean_squared_error: 2.9523\n",
      "Epoch 29/1000\n",
      "80/80 - 1s - loss: 1.2802 - mean_squared_error: 1.2802 - val_loss: 2.9263 - val_mean_squared_error: 2.9263\n",
      "Epoch 30/1000\n",
      "80/80 - 1s - loss: 1.2397 - mean_squared_error: 1.2397 - val_loss: 2.9661 - val_mean_squared_error: 2.9661\n",
      "Epoch 31/1000\n",
      "80/80 - 1s - loss: 1.1982 - mean_squared_error: 1.1982 - val_loss: 3.0309 - val_mean_squared_error: 3.0309\n",
      "Epoch 32/1000\n",
      "80/80 - 1s - loss: 1.2073 - mean_squared_error: 1.2073 - val_loss: 2.8472 - val_mean_squared_error: 2.8472\n",
      "Epoch 33/1000\n",
      "80/80 - 1s - loss: 1.1725 - mean_squared_error: 1.1725 - val_loss: 2.9618 - val_mean_squared_error: 2.9618\n",
      "Epoch 34/1000\n",
      "80/80 - 0s - loss: 1.1970 - mean_squared_error: 1.1970 - val_loss: 3.0348 - val_mean_squared_error: 3.0348\n",
      "Epoch 35/1000\n",
      "80/80 - 0s - loss: 1.1502 - mean_squared_error: 1.1502 - val_loss: 2.9721 - val_mean_squared_error: 2.9721\n",
      "Epoch 36/1000\n",
      "80/80 - 1s - loss: 1.1300 - mean_squared_error: 1.1300 - val_loss: 2.9919 - val_mean_squared_error: 2.9919\n",
      "Epoch 37/1000\n",
      "80/80 - 1s - loss: 1.0769 - mean_squared_error: 1.0769 - val_loss: 2.9709 - val_mean_squared_error: 2.9709\n",
      "Epoch 38/1000\n",
      "80/80 - 1s - loss: 1.0691 - mean_squared_error: 1.0691 - val_loss: 3.0362 - val_mean_squared_error: 3.0362\n",
      "Epoch 39/1000\n",
      "80/80 - 1s - loss: 1.0661 - mean_squared_error: 1.0661 - val_loss: 3.0026 - val_mean_squared_error: 3.0026\n",
      "Epoch 40/1000\n",
      "80/80 - 1s - loss: 1.0340 - mean_squared_error: 1.0340 - val_loss: 3.0120 - val_mean_squared_error: 3.0120\n",
      "Epoch 41/1000\n",
      "80/80 - 1s - loss: 1.0022 - mean_squared_error: 1.0022 - val_loss: 3.2888 - val_mean_squared_error: 3.2888\n",
      "Epoch 42/1000\n",
      "80/80 - 1s - loss: 0.9986 - mean_squared_error: 0.9986 - val_loss: 3.3042 - val_mean_squared_error: 3.3042\n",
      "Epoch 43/1000\n",
      "80/80 - 1s - loss: 0.9797 - mean_squared_error: 0.9797 - val_loss: 3.2628 - val_mean_squared_error: 3.2628\n",
      "Epoch 44/1000\n",
      "80/80 - 1s - loss: 0.9396 - mean_squared_error: 0.9396 - val_loss: 3.1140 - val_mean_squared_error: 3.1140\n",
      "Epoch 45/1000\n",
      "80/80 - 1s - loss: 0.9184 - mean_squared_error: 0.9184 - val_loss: 3.1586 - val_mean_squared_error: 3.1586\n",
      "Epoch 46/1000\n",
      "80/80 - 1s - loss: 0.9079 - mean_squared_error: 0.9079 - val_loss: 3.2788 - val_mean_squared_error: 3.2788\n",
      "Epoch 47/1000\n",
      "80/80 - 1s - loss: 0.9049 - mean_squared_error: 0.9049 - val_loss: 3.2713 - val_mean_squared_error: 3.2713\n",
      "Epoch 48/1000\n",
      "80/80 - 1s - loss: 0.8889 - mean_squared_error: 0.8889 - val_loss: 3.1755 - val_mean_squared_error: 3.1755\n",
      "Epoch 49/1000\n",
      "80/80 - 1s - loss: 0.8795 - mean_squared_error: 0.8795 - val_loss: 3.3668 - val_mean_squared_error: 3.3668\n",
      "Epoch 50/1000\n",
      "80/80 - 1s - loss: 0.9148 - mean_squared_error: 0.9148 - val_loss: 3.4407 - val_mean_squared_error: 3.4407\n",
      "Epoch 51/1000\n",
      "80/80 - 1s - loss: 0.8597 - mean_squared_error: 0.8597 - val_loss: 3.3054 - val_mean_squared_error: 3.3054\n",
      "Epoch 52/1000\n",
      "80/80 - 1s - loss: 0.8362 - mean_squared_error: 0.8362 - val_loss: 3.2777 - val_mean_squared_error: 3.2777\n",
      "Epoch 53/1000\n",
      "80/80 - 1s - loss: 0.8297 - mean_squared_error: 0.8297 - val_loss: 3.6690 - val_mean_squared_error: 3.6690\n",
      "Epoch 54/1000\n",
      "80/80 - 1s - loss: 0.8895 - mean_squared_error: 0.8895 - val_loss: 3.6566 - val_mean_squared_error: 3.6566\n",
      "Epoch 55/1000\n",
      "80/80 - 1s - loss: 0.8562 - mean_squared_error: 0.8562 - val_loss: 3.3567 - val_mean_squared_error: 3.3567\n",
      "Epoch 56/1000\n",
      "80/80 - 1s - loss: 0.8136 - mean_squared_error: 0.8136 - val_loss: 3.5424 - val_mean_squared_error: 3.5424\n",
      "Epoch 57/1000\n",
      "80/80 - 1s - loss: 0.7980 - mean_squared_error: 0.7980 - val_loss: 3.5135 - val_mean_squared_error: 3.5135\n",
      "Epoch 58/1000\n",
      "80/80 - 1s - loss: 0.7705 - mean_squared_error: 0.7705 - val_loss: 3.4324 - val_mean_squared_error: 3.4324\n",
      "Epoch 59/1000\n",
      "80/80 - 1s - loss: 0.7576 - mean_squared_error: 0.7576 - val_loss: 3.6870 - val_mean_squared_error: 3.6870\n",
      "Epoch 60/1000\n",
      "80/80 - 1s - loss: 0.7631 - mean_squared_error: 0.7631 - val_loss: 3.2142 - val_mean_squared_error: 3.2142\n",
      "Epoch 61/1000\n",
      "80/80 - 1s - loss: 0.7670 - mean_squared_error: 0.7670 - val_loss: 3.3078 - val_mean_squared_error: 3.3078\n",
      "Epoch 62/1000\n",
      "80/80 - 0s - loss: 0.7775 - mean_squared_error: 0.7775 - val_loss: 3.3858 - val_mean_squared_error: 3.3858\n",
      "Epoch 63/1000\n",
      "80/80 - 0s - loss: 0.7453 - mean_squared_error: 0.7453 - val_loss: 3.5030 - val_mean_squared_error: 3.5030\n",
      "Epoch 64/1000\n",
      "80/80 - 0s - loss: 0.7194 - mean_squared_error: 0.7194 - val_loss: 3.3640 - val_mean_squared_error: 3.3640\n",
      "Epoch 65/1000\n",
      "80/80 - 1s - loss: 0.7026 - mean_squared_error: 0.7026 - val_loss: 3.2806 - val_mean_squared_error: 3.2806\n",
      "Epoch 66/1000\n",
      "80/80 - 1s - loss: 0.7075 - mean_squared_error: 0.7075 - val_loss: 3.3660 - val_mean_squared_error: 3.3660\n",
      "Epoch 67/1000\n",
      "80/80 - 0s - loss: 0.6896 - mean_squared_error: 0.6896 - val_loss: 3.4363 - val_mean_squared_error: 3.4363\n",
      "Epoch 68/1000\n",
      "80/80 - 0s - loss: 0.6702 - mean_squared_error: 0.6702 - val_loss: 3.4738 - val_mean_squared_error: 3.4738\n"
     ]
    },
    {
     "name": "stdout",
     "output_type": "stream",
     "text": [
      "Epoch 69/1000\n",
      "80/80 - 1s - loss: 0.6682 - mean_squared_error: 0.6682 - val_loss: 3.4603 - val_mean_squared_error: 3.4603\n",
      "Epoch 70/1000\n",
      "80/80 - 0s - loss: 0.6695 - mean_squared_error: 0.6695 - val_loss: 3.4781 - val_mean_squared_error: 3.4781\n",
      "Epoch 71/1000\n",
      "80/80 - 1s - loss: 0.6677 - mean_squared_error: 0.6677 - val_loss: 3.5238 - val_mean_squared_error: 3.5238\n",
      "Epoch 72/1000\n",
      "80/80 - 1s - loss: 0.6745 - mean_squared_error: 0.6745 - val_loss: 3.7500 - val_mean_squared_error: 3.7500\n",
      "Epoch 73/1000\n",
      "80/80 - 0s - loss: 0.6739 - mean_squared_error: 0.6739 - val_loss: 3.5855 - val_mean_squared_error: 3.5855\n",
      "Epoch 74/1000\n",
      "80/80 - 1s - loss: 0.6526 - mean_squared_error: 0.6526 - val_loss: 3.6470 - val_mean_squared_error: 3.6470\n",
      "Epoch 75/1000\n",
      "80/80 - 1s - loss: 0.6493 - mean_squared_error: 0.6493 - val_loss: 3.4441 - val_mean_squared_error: 3.4441\n",
      "Epoch 76/1000\n",
      "80/80 - 0s - loss: 0.6276 - mean_squared_error: 0.6276 - val_loss: 3.7298 - val_mean_squared_error: 3.7298\n",
      "Epoch 77/1000\n",
      "80/80 - 1s - loss: 0.6512 - mean_squared_error: 0.6512 - val_loss: 3.4057 - val_mean_squared_error: 3.4057\n",
      "Epoch 78/1000\n",
      "80/80 - 1s - loss: 0.6507 - mean_squared_error: 0.6507 - val_loss: 3.8403 - val_mean_squared_error: 3.8403\n",
      "Epoch 79/1000\n",
      "80/80 - 1s - loss: 0.6413 - mean_squared_error: 0.6413 - val_loss: 3.4892 - val_mean_squared_error: 3.4892\n",
      "Epoch 80/1000\n",
      "80/80 - 0s - loss: 0.6439 - mean_squared_error: 0.6439 - val_loss: 3.5079 - val_mean_squared_error: 3.5079\n",
      "Epoch 81/1000\n",
      "80/80 - 1s - loss: 0.6168 - mean_squared_error: 0.6168 - val_loss: 3.6158 - val_mean_squared_error: 3.6158\n",
      "Epoch 82/1000\n",
      "80/80 - 0s - loss: 0.6140 - mean_squared_error: 0.6140 - val_loss: 3.5453 - val_mean_squared_error: 3.5453\n",
      "Epoch 83/1000\n",
      "80/80 - 0s - loss: 0.6275 - mean_squared_error: 0.6275 - val_loss: 3.8073 - val_mean_squared_error: 3.8073\n",
      "Epoch 84/1000\n",
      "80/80 - 1s - loss: 0.5998 - mean_squared_error: 0.5998 - val_loss: 3.6767 - val_mean_squared_error: 3.6767\n",
      "Epoch 85/1000\n",
      "80/80 - 1s - loss: 0.5909 - mean_squared_error: 0.5909 - val_loss: 3.6769 - val_mean_squared_error: 3.6769\n",
      "Epoch 86/1000\n",
      "80/80 - 1s - loss: 0.5805 - mean_squared_error: 0.5805 - val_loss: 3.5757 - val_mean_squared_error: 3.5757\n",
      "Epoch 87/1000\n",
      "80/80 - 1s - loss: 0.5982 - mean_squared_error: 0.5982 - val_loss: 3.4767 - val_mean_squared_error: 3.4767\n",
      "Epoch 88/1000\n",
      "80/80 - 1s - loss: 0.5966 - mean_squared_error: 0.5966 - val_loss: 3.4875 - val_mean_squared_error: 3.4875\n",
      "Epoch 89/1000\n",
      "80/80 - 0s - loss: 0.5688 - mean_squared_error: 0.5688 - val_loss: 3.5233 - val_mean_squared_error: 3.5233\n",
      "Epoch 90/1000\n",
      "80/80 - 1s - loss: 0.5678 - mean_squared_error: 0.5678 - val_loss: 3.6708 - val_mean_squared_error: 3.6708\n",
      "Epoch 91/1000\n",
      "80/80 - 1s - loss: 0.5644 - mean_squared_error: 0.5644 - val_loss: 3.5595 - val_mean_squared_error: 3.5595\n",
      "Epoch 92/1000\n",
      "80/80 - 1s - loss: 0.6102 - mean_squared_error: 0.6102 - val_loss: 3.6445 - val_mean_squared_error: 3.6445\n",
      "Epoch 93/1000\n",
      "80/80 - 1s - loss: 0.5971 - mean_squared_error: 0.5971 - val_loss: 3.7440 - val_mean_squared_error: 3.7440\n",
      "Epoch 94/1000\n",
      "80/80 - 1s - loss: 0.5718 - mean_squared_error: 0.5718 - val_loss: 3.5737 - val_mean_squared_error: 3.5737\n",
      "Epoch 95/1000\n",
      "80/80 - 0s - loss: 0.5626 - mean_squared_error: 0.5626 - val_loss: 3.7385 - val_mean_squared_error: 3.7385\n",
      "Epoch 96/1000\n",
      "80/80 - 1s - loss: 0.5497 - mean_squared_error: 0.5497 - val_loss: 3.5009 - val_mean_squared_error: 3.5009\n",
      "Epoch 97/1000\n",
      "80/80 - 1s - loss: 0.5432 - mean_squared_error: 0.5432 - val_loss: 3.7583 - val_mean_squared_error: 3.7583\n",
      "Epoch 98/1000\n",
      "80/80 - 1s - loss: 0.5464 - mean_squared_error: 0.5464 - val_loss: 3.7192 - val_mean_squared_error: 3.7192\n",
      "Epoch 99/1000\n",
      "80/80 - 1s - loss: 0.5835 - mean_squared_error: 0.5835 - val_loss: 3.6332 - val_mean_squared_error: 3.6332\n",
      "Epoch 100/1000\n",
      "80/80 - 1s - loss: 0.5588 - mean_squared_error: 0.5588 - val_loss: 3.5749 - val_mean_squared_error: 3.5749\n",
      "Epoch 101/1000\n",
      "80/80 - 0s - loss: 0.5403 - mean_squared_error: 0.5403 - val_loss: 3.5378 - val_mean_squared_error: 3.5378\n",
      "Epoch 102/1000\n",
      "80/80 - 1s - loss: 0.5290 - mean_squared_error: 0.5290 - val_loss: 3.6189 - val_mean_squared_error: 3.6189\n",
      "Epoch 103/1000\n",
      "80/80 - 0s - loss: 0.5396 - mean_squared_error: 0.5396 - val_loss: 3.6233 - val_mean_squared_error: 3.6233\n",
      "Epoch 104/1000\n",
      "80/80 - 1s - loss: 0.5241 - mean_squared_error: 0.5241 - val_loss: 3.7249 - val_mean_squared_error: 3.7249\n",
      "Epoch 105/1000\n",
      "80/80 - 1s - loss: 0.5296 - mean_squared_error: 0.5296 - val_loss: 3.6711 - val_mean_squared_error: 3.6711\n",
      "Epoch 106/1000\n",
      "80/80 - 1s - loss: 0.5277 - mean_squared_error: 0.5277 - val_loss: 3.7623 - val_mean_squared_error: 3.7623\n",
      "Epoch 107/1000\n",
      "80/80 - 0s - loss: 0.5345 - mean_squared_error: 0.5345 - val_loss: 3.9167 - val_mean_squared_error: 3.9167\n",
      "Epoch 108/1000\n",
      "80/80 - 1s - loss: 0.5218 - mean_squared_error: 0.5218 - val_loss: 3.6094 - val_mean_squared_error: 3.6094\n",
      "Epoch 109/1000\n",
      "80/80 - 1s - loss: 0.5268 - mean_squared_error: 0.5268 - val_loss: 3.7127 - val_mean_squared_error: 3.7127\n",
      "Epoch 110/1000\n",
      "80/80 - 1s - loss: 0.5251 - mean_squared_error: 0.5251 - val_loss: 3.5181 - val_mean_squared_error: 3.5181\n",
      "Epoch 111/1000\n",
      "80/80 - 0s - loss: 0.5208 - mean_squared_error: 0.5208 - val_loss: 3.6478 - val_mean_squared_error: 3.6478\n",
      "Epoch 112/1000\n",
      "80/80 - 0s - loss: 0.5163 - mean_squared_error: 0.5163 - val_loss: 3.8847 - val_mean_squared_error: 3.8847\n",
      "Epoch 113/1000\n",
      "80/80 - 0s - loss: 0.5247 - mean_squared_error: 0.5247 - val_loss: 3.6895 - val_mean_squared_error: 3.6895\n",
      "Epoch 114/1000\n",
      "80/80 - 0s - loss: 0.5019 - mean_squared_error: 0.5019 - val_loss: 3.8310 - val_mean_squared_error: 3.8310\n",
      "Epoch 115/1000\n",
      "80/80 - 0s - loss: 0.5058 - mean_squared_error: 0.5058 - val_loss: 3.8206 - val_mean_squared_error: 3.8206\n",
      "Epoch 116/1000\n",
      "80/80 - 0s - loss: 0.5014 - mean_squared_error: 0.5014 - val_loss: 3.8155 - val_mean_squared_error: 3.8155\n",
      "Epoch 117/1000\n",
      "80/80 - 1s - loss: 0.4963 - mean_squared_error: 0.4963 - val_loss: 3.7302 - val_mean_squared_error: 3.7302\n",
      "Epoch 118/1000\n",
      "80/80 - 1s - loss: 0.5019 - mean_squared_error: 0.5019 - val_loss: 3.6973 - val_mean_squared_error: 3.6973\n",
      "Epoch 119/1000\n",
      "80/80 - 1s - loss: 0.5122 - mean_squared_error: 0.5122 - val_loss: 3.6656 - val_mean_squared_error: 3.6656\n",
      "Epoch 120/1000\n",
      "80/80 - 1s - loss: 0.5494 - mean_squared_error: 0.5494 - val_loss: 3.9549 - val_mean_squared_error: 3.9549\n",
      "Epoch 121/1000\n",
      "80/80 - 1s - loss: 0.5258 - mean_squared_error: 0.5258 - val_loss: 3.6717 - val_mean_squared_error: 3.6717\n",
      "Epoch 122/1000\n",
      "80/80 - 1s - loss: 0.5047 - mean_squared_error: 0.5047 - val_loss: 3.6516 - val_mean_squared_error: 3.6516\n",
      "Epoch 123/1000\n",
      "80/80 - 1s - loss: 0.4911 - mean_squared_error: 0.4911 - val_loss: 3.7190 - val_mean_squared_error: 3.7190\n",
      "Epoch 124/1000\n",
      "80/80 - 1s - loss: 0.4684 - mean_squared_error: 0.4684 - val_loss: 3.8171 - val_mean_squared_error: 3.8171\n",
      "Epoch 125/1000\n",
      "80/80 - 1s - loss: 0.4731 - mean_squared_error: 0.4731 - val_loss: 3.6393 - val_mean_squared_error: 3.6393\n",
      "Epoch 126/1000\n",
      "80/80 - 1s - loss: 0.4804 - mean_squared_error: 0.4804 - val_loss: 3.6784 - val_mean_squared_error: 3.6784\n",
      "Epoch 127/1000\n",
      "80/80 - 1s - loss: 0.4864 - mean_squared_error: 0.4864 - val_loss: 3.8136 - val_mean_squared_error: 3.8136\n",
      "Epoch 128/1000\n",
      "80/80 - 1s - loss: 0.5068 - mean_squared_error: 0.5068 - val_loss: 3.8828 - val_mean_squared_error: 3.8828\n",
      "Epoch 129/1000\n",
      "80/80 - 1s - loss: 0.5003 - mean_squared_error: 0.5003 - val_loss: 3.8177 - val_mean_squared_error: 3.8177\n",
      "Epoch 130/1000\n",
      "80/80 - 1s - loss: 0.4858 - mean_squared_error: 0.4858 - val_loss: 3.9082 - val_mean_squared_error: 3.9082\n",
      "Epoch 131/1000\n",
      "80/80 - 1s - loss: 0.4624 - mean_squared_error: 0.4624 - val_loss: 3.7508 - val_mean_squared_error: 3.7508\n",
      "Epoch 132/1000\n",
      "80/80 - 0s - loss: 0.4641 - mean_squared_error: 0.4641 - val_loss: 3.8264 - val_mean_squared_error: 3.8264\n",
      "Epoch 133/1000\n",
      "80/80 - 1s - loss: 0.4845 - mean_squared_error: 0.4845 - val_loss: 3.7542 - val_mean_squared_error: 3.7542\n",
      "Epoch 134/1000\n",
      "80/80 - 1s - loss: 0.4715 - mean_squared_error: 0.4715 - val_loss: 3.9198 - val_mean_squared_error: 3.9198\n",
      "Epoch 135/1000\n",
      "80/80 - 1s - loss: 0.4893 - mean_squared_error: 0.4893 - val_loss: 3.8397 - val_mean_squared_error: 3.8397\n",
      "Epoch 136/1000\n",
      "80/80 - 1s - loss: 0.4618 - mean_squared_error: 0.4618 - val_loss: 3.9004 - val_mean_squared_error: 3.9004\n"
     ]
    },
    {
     "name": "stdout",
     "output_type": "stream",
     "text": [
      "Epoch 137/1000\n",
      "80/80 - 1s - loss: 0.4618 - mean_squared_error: 0.4618 - val_loss: 3.6527 - val_mean_squared_error: 3.6527\n",
      "Epoch 138/1000\n",
      "80/80 - 1s - loss: 0.5029 - mean_squared_error: 0.5029 - val_loss: 3.6523 - val_mean_squared_error: 3.6523\n",
      "Epoch 139/1000\n",
      "80/80 - 1s - loss: 0.4678 - mean_squared_error: 0.4678 - val_loss: 3.6834 - val_mean_squared_error: 3.6834\n",
      "Epoch 140/1000\n",
      "80/80 - 1s - loss: 0.4616 - mean_squared_error: 0.4616 - val_loss: 3.7009 - val_mean_squared_error: 3.7009\n",
      "Epoch 141/1000\n",
      "80/80 - 0s - loss: 0.5036 - mean_squared_error: 0.5036 - val_loss: 3.7904 - val_mean_squared_error: 3.7904\n",
      "Epoch 142/1000\n",
      "80/80 - 1s - loss: 0.4752 - mean_squared_error: 0.4752 - val_loss: 3.6394 - val_mean_squared_error: 3.6394\n",
      "Epoch 143/1000\n",
      "80/80 - 0s - loss: 0.4795 - mean_squared_error: 0.4795 - val_loss: 3.6848 - val_mean_squared_error: 3.6848\n",
      "Epoch 144/1000\n",
      "80/80 - 1s - loss: 0.4478 - mean_squared_error: 0.4478 - val_loss: 3.6478 - val_mean_squared_error: 3.6478\n",
      "Epoch 145/1000\n",
      "80/80 - 1s - loss: 0.4338 - mean_squared_error: 0.4338 - val_loss: 3.7481 - val_mean_squared_error: 3.7481\n",
      "Epoch 146/1000\n",
      "80/80 - 1s - loss: 0.4318 - mean_squared_error: 0.4318 - val_loss: 3.8851 - val_mean_squared_error: 3.8851\n",
      "Epoch 147/1000\n",
      "80/80 - 0s - loss: 0.4202 - mean_squared_error: 0.4202 - val_loss: 3.8579 - val_mean_squared_error: 3.8579\n",
      "Epoch 148/1000\n",
      "80/80 - 1s - loss: 0.4379 - mean_squared_error: 0.4379 - val_loss: 3.8072 - val_mean_squared_error: 3.8072\n",
      "Epoch 149/1000\n",
      "80/80 - 1s - loss: 0.4463 - mean_squared_error: 0.4463 - val_loss: 3.8852 - val_mean_squared_error: 3.8852\n",
      "Epoch 150/1000\n",
      "80/80 - 1s - loss: 0.4525 - mean_squared_error: 0.4525 - val_loss: 3.7197 - val_mean_squared_error: 3.7197\n",
      "Epoch 151/1000\n",
      "80/80 - 1s - loss: 0.4507 - mean_squared_error: 0.4507 - val_loss: 3.7092 - val_mean_squared_error: 3.7092\n",
      "Epoch 152/1000\n",
      "80/80 - 0s - loss: 0.4655 - mean_squared_error: 0.4655 - val_loss: 3.7503 - val_mean_squared_error: 3.7503\n",
      "Epoch 153/1000\n",
      "80/80 - 1s - loss: 0.4615 - mean_squared_error: 0.4615 - val_loss: 3.6536 - val_mean_squared_error: 3.6536\n",
      "Epoch 154/1000\n",
      "80/80 - 1s - loss: 0.4424 - mean_squared_error: 0.4424 - val_loss: 3.8830 - val_mean_squared_error: 3.8830\n",
      "Epoch 155/1000\n",
      "80/80 - 1s - loss: 0.4362 - mean_squared_error: 0.4362 - val_loss: 3.7613 - val_mean_squared_error: 3.7613\n",
      "Epoch 156/1000\n",
      "80/80 - 1s - loss: 0.4270 - mean_squared_error: 0.4270 - val_loss: 3.9216 - val_mean_squared_error: 3.9216\n",
      "Epoch 157/1000\n",
      "80/80 - 1s - loss: 0.4406 - mean_squared_error: 0.4406 - val_loss: 3.7724 - val_mean_squared_error: 3.7724\n",
      "Epoch 158/1000\n",
      "80/80 - 1s - loss: 0.4234 - mean_squared_error: 0.4234 - val_loss: 3.8731 - val_mean_squared_error: 3.8731\n",
      "Epoch 159/1000\n",
      "80/80 - 0s - loss: 0.4358 - mean_squared_error: 0.4358 - val_loss: 3.7273 - val_mean_squared_error: 3.7273\n",
      "Epoch 160/1000\n",
      "80/80 - 0s - loss: 0.4515 - mean_squared_error: 0.4515 - val_loss: 3.6177 - val_mean_squared_error: 3.6177\n",
      "Epoch 161/1000\n",
      "80/80 - 1s - loss: 0.4594 - mean_squared_error: 0.4594 - val_loss: 3.9231 - val_mean_squared_error: 3.9231\n",
      "Epoch 162/1000\n",
      "80/80 - 1s - loss: 0.4503 - mean_squared_error: 0.4503 - val_loss: 3.7029 - val_mean_squared_error: 3.7029\n",
      "Epoch 163/1000\n",
      "80/80 - 0s - loss: 0.4304 - mean_squared_error: 0.4304 - val_loss: 3.7599 - val_mean_squared_error: 3.7599\n",
      "Epoch 164/1000\n",
      "80/80 - 1s - loss: 0.4095 - mean_squared_error: 0.4095 - val_loss: 3.6876 - val_mean_squared_error: 3.6876\n",
      "Epoch 165/1000\n",
      "80/80 - 1s - loss: 0.4156 - mean_squared_error: 0.4156 - val_loss: 3.7450 - val_mean_squared_error: 3.7450\n",
      "Epoch 166/1000\n",
      "80/80 - 1s - loss: 0.4316 - mean_squared_error: 0.4316 - val_loss: 3.8250 - val_mean_squared_error: 3.8250\n",
      "Epoch 167/1000\n",
      "80/80 - 1s - loss: 0.4527 - mean_squared_error: 0.4527 - val_loss: 3.9155 - val_mean_squared_error: 3.9155\n",
      "Epoch 168/1000\n",
      "80/80 - 1s - loss: 0.4274 - mean_squared_error: 0.4274 - val_loss: 3.7607 - val_mean_squared_error: 3.7607\n",
      "Epoch 169/1000\n",
      "80/80 - 1s - loss: 0.4224 - mean_squared_error: 0.4224 - val_loss: 3.8628 - val_mean_squared_error: 3.8628\n",
      "Epoch 170/1000\n",
      "80/80 - 1s - loss: 0.4277 - mean_squared_error: 0.4277 - val_loss: 3.6650 - val_mean_squared_error: 3.6650\n",
      "Epoch 171/1000\n",
      "80/80 - 1s - loss: 0.4176 - mean_squared_error: 0.4176 - val_loss: 3.7767 - val_mean_squared_error: 3.7767\n",
      "Epoch 172/1000\n",
      "80/80 - 0s - loss: 0.4121 - mean_squared_error: 0.4121 - val_loss: 3.8626 - val_mean_squared_error: 3.8626\n",
      "Epoch 173/1000\n",
      "80/80 - 1s - loss: 0.4080 - mean_squared_error: 0.4080 - val_loss: 3.9021 - val_mean_squared_error: 3.9021\n",
      "Epoch 174/1000\n",
      "80/80 - 1s - loss: 0.4030 - mean_squared_error: 0.4030 - val_loss: 3.9360 - val_mean_squared_error: 3.9360\n",
      "Epoch 175/1000\n",
      "80/80 - 0s - loss: 0.3987 - mean_squared_error: 0.3987 - val_loss: 4.0260 - val_mean_squared_error: 4.0260\n",
      "Epoch 176/1000\n",
      "80/80 - 1s - loss: 0.4531 - mean_squared_error: 0.4531 - val_loss: 3.6183 - val_mean_squared_error: 3.6183\n",
      "Epoch 177/1000\n",
      "80/80 - 0s - loss: 0.4861 - mean_squared_error: 0.4861 - val_loss: 3.7355 - val_mean_squared_error: 3.7355\n",
      "Epoch 178/1000\n",
      "80/80 - 0s - loss: 0.4626 - mean_squared_error: 0.4626 - val_loss: 4.1018 - val_mean_squared_error: 4.1018\n",
      "Epoch 179/1000\n",
      "80/80 - 0s - loss: 0.4383 - mean_squared_error: 0.4383 - val_loss: 3.7901 - val_mean_squared_error: 3.7901\n",
      "Epoch 180/1000\n",
      "80/80 - 1s - loss: 0.4153 - mean_squared_error: 0.4153 - val_loss: 3.7468 - val_mean_squared_error: 3.7468\n",
      "Epoch 181/1000\n",
      "80/80 - 1s - loss: 0.4155 - mean_squared_error: 0.4155 - val_loss: 3.8252 - val_mean_squared_error: 3.8252\n",
      "Epoch 182/1000\n",
      "80/80 - 1s - loss: 0.4102 - mean_squared_error: 0.4102 - val_loss: 3.7326 - val_mean_squared_error: 3.7326\n",
      "Epoch 183/1000\n",
      "80/80 - 1s - loss: 0.3978 - mean_squared_error: 0.3978 - val_loss: 3.7864 - val_mean_squared_error: 3.7864\n",
      "Epoch 184/1000\n",
      "80/80 - 1s - loss: 0.4006 - mean_squared_error: 0.4006 - val_loss: 3.9449 - val_mean_squared_error: 3.9449\n",
      "Epoch 185/1000\n",
      "80/80 - 0s - loss: 0.3906 - mean_squared_error: 0.3906 - val_loss: 3.8375 - val_mean_squared_error: 3.8375\n",
      "Epoch 186/1000\n",
      "80/80 - 0s - loss: 0.3993 - mean_squared_error: 0.3993 - val_loss: 4.2023 - val_mean_squared_error: 4.2023\n",
      "Epoch 187/1000\n",
      "80/80 - 1s - loss: 0.3886 - mean_squared_error: 0.3886 - val_loss: 3.9662 - val_mean_squared_error: 3.9662\n",
      "Epoch 188/1000\n",
      "80/80 - 0s - loss: 0.3791 - mean_squared_error: 0.3791 - val_loss: 3.8212 - val_mean_squared_error: 3.8212\n",
      "Epoch 189/1000\n",
      "80/80 - 1s - loss: 0.3864 - mean_squared_error: 0.3864 - val_loss: 4.0428 - val_mean_squared_error: 4.0428\n",
      "Epoch 190/1000\n",
      "80/80 - 0s - loss: 0.4031 - mean_squared_error: 0.4031 - val_loss: 3.8841 - val_mean_squared_error: 3.8841\n",
      "Epoch 191/1000\n",
      "80/80 - 0s - loss: 0.4103 - mean_squared_error: 0.4103 - val_loss: 3.8727 - val_mean_squared_error: 3.8727\n",
      "Epoch 192/1000\n",
      "80/80 - 1s - loss: 0.4283 - mean_squared_error: 0.4283 - val_loss: 3.8957 - val_mean_squared_error: 3.8957\n",
      "Epoch 193/1000\n",
      "80/80 - 1s - loss: 0.4100 - mean_squared_error: 0.4100 - val_loss: 3.8906 - val_mean_squared_error: 3.8906\n",
      "Epoch 194/1000\n",
      "80/80 - 0s - loss: 0.4161 - mean_squared_error: 0.4161 - val_loss: 4.0380 - val_mean_squared_error: 4.0380\n",
      "Epoch 195/1000\n",
      "80/80 - 1s - loss: 0.3954 - mean_squared_error: 0.3954 - val_loss: 3.8008 - val_mean_squared_error: 3.8008\n",
      "Epoch 196/1000\n",
      "80/80 - 1s - loss: 0.4003 - mean_squared_error: 0.4003 - val_loss: 3.9893 - val_mean_squared_error: 3.9893\n",
      "Epoch 197/1000\n",
      "80/80 - 1s - loss: 0.4035 - mean_squared_error: 0.4035 - val_loss: 3.9176 - val_mean_squared_error: 3.9176\n",
      "Epoch 198/1000\n",
      "80/80 - 0s - loss: 0.3923 - mean_squared_error: 0.3923 - val_loss: 3.7667 - val_mean_squared_error: 3.7667\n",
      "Epoch 199/1000\n",
      "80/80 - 0s - loss: 0.3827 - mean_squared_error: 0.3827 - val_loss: 4.0685 - val_mean_squared_error: 4.0685\n",
      "Epoch 200/1000\n",
      "80/80 - 0s - loss: 0.3756 - mean_squared_error: 0.3756 - val_loss: 4.0407 - val_mean_squared_error: 4.0407\n",
      "Epoch 201/1000\n",
      "80/80 - 0s - loss: 0.3991 - mean_squared_error: 0.3991 - val_loss: 3.9634 - val_mean_squared_error: 3.9634\n",
      "Epoch 202/1000\n",
      "80/80 - 0s - loss: 0.4192 - mean_squared_error: 0.4192 - val_loss: 4.1147 - val_mean_squared_error: 4.1147\n",
      "Epoch 203/1000\n",
      "80/80 - 0s - loss: 0.4231 - mean_squared_error: 0.4231 - val_loss: 3.7538 - val_mean_squared_error: 3.7538\n",
      "Epoch 204/1000\n",
      "80/80 - 1s - loss: 0.4262 - mean_squared_error: 0.4262 - val_loss: 3.8602 - val_mean_squared_error: 3.8602\n"
     ]
    },
    {
     "name": "stdout",
     "output_type": "stream",
     "text": [
      "Epoch 205/1000\n",
      "80/80 - 1s - loss: 0.4605 - mean_squared_error: 0.4605 - val_loss: 3.8539 - val_mean_squared_error: 3.8539\n",
      "Epoch 206/1000\n",
      "80/80 - 1s - loss: 0.4209 - mean_squared_error: 0.4209 - val_loss: 3.9689 - val_mean_squared_error: 3.9689\n",
      "Epoch 207/1000\n"
     ]
    },
    {
     "ename": "KeyboardInterrupt",
     "evalue": "",
     "output_type": "error",
     "traceback": [
      "\u001b[1;31m---------------------------------------------------------------------------\u001b[0m",
      "\u001b[1;31mKeyboardInterrupt\u001b[0m                         Traceback (most recent call last)",
      "\u001b[1;32m<ipython-input-92-8148b4ed90cb>\u001b[0m in \u001b[0;36m<module>\u001b[1;34m\u001b[0m\n\u001b[0;32m     10\u001b[0m \u001b[1;31m# defined by the feature_layer.\u001b[0m\u001b[1;33m\u001b[0m\u001b[1;33m\u001b[0m\u001b[1;33m\u001b[0m\u001b[0m\n\u001b[0;32m     11\u001b[0m \u001b[1;33m\u001b[0m\u001b[0m\n\u001b[1;32m---> 12\u001b[1;33m \u001b[0mmse_train_deep\u001b[0m\u001b[1;33m,\u001b[0m \u001b[0mmse_val_deep\u001b[0m \u001b[1;33m=\u001b[0m \u001b[0mtrain_model\u001b[0m\u001b[1;33m(\u001b[0m\u001b[0mmodel_deep\u001b[0m\u001b[1;33m,\u001b[0m \u001b[0mtrain_df\u001b[0m\u001b[1;33m,\u001b[0m \u001b[0mnumber_epochs\u001b[0m\u001b[1;33m,\u001b[0m \u001b[0mbatch_size\u001b[0m\u001b[1;33m,\u001b[0m \u001b[0mlabel_name\u001b[0m\u001b[1;33m)\u001b[0m\u001b[1;33m\u001b[0m\u001b[1;33m\u001b[0m\u001b[0m\n\u001b[0m\u001b[0;32m     13\u001b[0m \u001b[0mplot_the_loss_curve\u001b[0m\u001b[1;33m(\u001b[0m\u001b[0mmse_train_deep\u001b[0m\u001b[1;33m,\u001b[0m \u001b[0mmse_val_deep\u001b[0m\u001b[1;33m)\u001b[0m\u001b[1;33m\u001b[0m\u001b[1;33m\u001b[0m\u001b[0m\n",
      "\u001b[1;32m<ipython-input-85-f377df9d5f2c>\u001b[0m in \u001b[0;36mtrain_model\u001b[1;34m(model, dataset, epochs, batch_size, label_name)\u001b[0m\n\u001b[0;32m     13\u001b[0m                         \u001b[0mshuffle\u001b[0m\u001b[1;33m=\u001b[0m\u001b[1;32mTrue\u001b[0m\u001b[1;33m,\u001b[0m\u001b[1;33m\u001b[0m\u001b[1;33m\u001b[0m\u001b[0m\n\u001b[0;32m     14\u001b[0m                         \u001b[0mworkers\u001b[0m\u001b[1;33m=\u001b[0m\u001b[1;36m4\u001b[0m\u001b[1;33m,\u001b[0m\u001b[1;33m\u001b[0m\u001b[1;33m\u001b[0m\u001b[0m\n\u001b[1;32m---> 15\u001b[1;33m                         use_multiprocessing=True)\n\u001b[0m\u001b[0;32m     16\u001b[0m \u001b[1;33m\u001b[0m\u001b[0m\n\u001b[0;32m     17\u001b[0m     \u001b[1;31m# Get details that will be useful for plotting the loss curve.\u001b[0m\u001b[1;33m\u001b[0m\u001b[1;33m\u001b[0m\u001b[1;33m\u001b[0m\u001b[0m\n",
      "\u001b[1;32m~\\AppData\\Local\\Continuum\\anaconda3\\lib\\site-packages\\tensorflow\\python\\keras\\engine\\training.py\u001b[0m in \u001b[0;36mfit\u001b[1;34m(self, x, y, batch_size, epochs, verbose, callbacks, validation_split, validation_data, shuffle, class_weight, sample_weight, initial_epoch, steps_per_epoch, validation_steps, validation_batch_size, validation_freq, max_queue_size, workers, use_multiprocessing)\u001b[0m\n\u001b[0;32m   1181\u001b[0m                 _r=1):\n\u001b[0;32m   1182\u001b[0m               \u001b[0mcallbacks\u001b[0m\u001b[1;33m.\u001b[0m\u001b[0mon_train_batch_begin\u001b[0m\u001b[1;33m(\u001b[0m\u001b[0mstep\u001b[0m\u001b[1;33m)\u001b[0m\u001b[1;33m\u001b[0m\u001b[1;33m\u001b[0m\u001b[0m\n\u001b[1;32m-> 1183\u001b[1;33m               \u001b[0mtmp_logs\u001b[0m \u001b[1;33m=\u001b[0m \u001b[0mself\u001b[0m\u001b[1;33m.\u001b[0m\u001b[0mtrain_function\u001b[0m\u001b[1;33m(\u001b[0m\u001b[0miterator\u001b[0m\u001b[1;33m)\u001b[0m\u001b[1;33m\u001b[0m\u001b[1;33m\u001b[0m\u001b[0m\n\u001b[0m\u001b[0;32m   1184\u001b[0m               \u001b[1;32mif\u001b[0m \u001b[0mdata_handler\u001b[0m\u001b[1;33m.\u001b[0m\u001b[0mshould_sync\u001b[0m\u001b[1;33m:\u001b[0m\u001b[1;33m\u001b[0m\u001b[1;33m\u001b[0m\u001b[0m\n\u001b[0;32m   1185\u001b[0m                 \u001b[0mcontext\u001b[0m\u001b[1;33m.\u001b[0m\u001b[0masync_wait\u001b[0m\u001b[1;33m(\u001b[0m\u001b[1;33m)\u001b[0m\u001b[1;33m\u001b[0m\u001b[1;33m\u001b[0m\u001b[0m\n",
      "\u001b[1;32m~\\AppData\\Local\\Continuum\\anaconda3\\lib\\site-packages\\tensorflow\\python\\eager\\def_function.py\u001b[0m in \u001b[0;36m__call__\u001b[1;34m(self, *args, **kwds)\u001b[0m\n\u001b[0;32m    887\u001b[0m \u001b[1;33m\u001b[0m\u001b[0m\n\u001b[0;32m    888\u001b[0m       \u001b[1;32mwith\u001b[0m \u001b[0mOptionalXlaContext\u001b[0m\u001b[1;33m(\u001b[0m\u001b[0mself\u001b[0m\u001b[1;33m.\u001b[0m\u001b[0m_jit_compile\u001b[0m\u001b[1;33m)\u001b[0m\u001b[1;33m:\u001b[0m\u001b[1;33m\u001b[0m\u001b[1;33m\u001b[0m\u001b[0m\n\u001b[1;32m--> 889\u001b[1;33m         \u001b[0mresult\u001b[0m \u001b[1;33m=\u001b[0m \u001b[0mself\u001b[0m\u001b[1;33m.\u001b[0m\u001b[0m_call\u001b[0m\u001b[1;33m(\u001b[0m\u001b[1;33m*\u001b[0m\u001b[0margs\u001b[0m\u001b[1;33m,\u001b[0m \u001b[1;33m**\u001b[0m\u001b[0mkwds\u001b[0m\u001b[1;33m)\u001b[0m\u001b[1;33m\u001b[0m\u001b[1;33m\u001b[0m\u001b[0m\n\u001b[0m\u001b[0;32m    890\u001b[0m \u001b[1;33m\u001b[0m\u001b[0m\n\u001b[0;32m    891\u001b[0m       \u001b[0mnew_tracing_count\u001b[0m \u001b[1;33m=\u001b[0m \u001b[0mself\u001b[0m\u001b[1;33m.\u001b[0m\u001b[0mexperimental_get_tracing_count\u001b[0m\u001b[1;33m(\u001b[0m\u001b[1;33m)\u001b[0m\u001b[1;33m\u001b[0m\u001b[1;33m\u001b[0m\u001b[0m\n",
      "\u001b[1;32m~\\AppData\\Local\\Continuum\\anaconda3\\lib\\site-packages\\tensorflow\\python\\eager\\def_function.py\u001b[0m in \u001b[0;36m_call\u001b[1;34m(self, *args, **kwds)\u001b[0m\n\u001b[0;32m    915\u001b[0m       \u001b[1;31m# In this case we have created variables on the first call, so we run the\u001b[0m\u001b[1;33m\u001b[0m\u001b[1;33m\u001b[0m\u001b[1;33m\u001b[0m\u001b[0m\n\u001b[0;32m    916\u001b[0m       \u001b[1;31m# defunned version which is guaranteed to never create variables.\u001b[0m\u001b[1;33m\u001b[0m\u001b[1;33m\u001b[0m\u001b[1;33m\u001b[0m\u001b[0m\n\u001b[1;32m--> 917\u001b[1;33m       \u001b[1;32mreturn\u001b[0m \u001b[0mself\u001b[0m\u001b[1;33m.\u001b[0m\u001b[0m_stateless_fn\u001b[0m\u001b[1;33m(\u001b[0m\u001b[1;33m*\u001b[0m\u001b[0margs\u001b[0m\u001b[1;33m,\u001b[0m \u001b[1;33m**\u001b[0m\u001b[0mkwds\u001b[0m\u001b[1;33m)\u001b[0m  \u001b[1;31m# pylint: disable=not-callable\u001b[0m\u001b[1;33m\u001b[0m\u001b[1;33m\u001b[0m\u001b[0m\n\u001b[0m\u001b[0;32m    918\u001b[0m     \u001b[1;32melif\u001b[0m \u001b[0mself\u001b[0m\u001b[1;33m.\u001b[0m\u001b[0m_stateful_fn\u001b[0m \u001b[1;32mis\u001b[0m \u001b[1;32mnot\u001b[0m \u001b[1;32mNone\u001b[0m\u001b[1;33m:\u001b[0m\u001b[1;33m\u001b[0m\u001b[1;33m\u001b[0m\u001b[0m\n\u001b[0;32m    919\u001b[0m       \u001b[1;31m# Release the lock early so that multiple threads can perform the call\u001b[0m\u001b[1;33m\u001b[0m\u001b[1;33m\u001b[0m\u001b[1;33m\u001b[0m\u001b[0m\n",
      "\u001b[1;32m~\\AppData\\Local\\Continuum\\anaconda3\\lib\\site-packages\\tensorflow\\python\\eager\\function.py\u001b[0m in \u001b[0;36m__call__\u001b[1;34m(self, *args, **kwargs)\u001b[0m\n\u001b[0;32m   3022\u001b[0m        filtered_flat_args) = self._maybe_define_function(args, kwargs)\n\u001b[0;32m   3023\u001b[0m     return graph_function._call_flat(\n\u001b[1;32m-> 3024\u001b[1;33m         filtered_flat_args, captured_inputs=graph_function.captured_inputs)  # pylint: disable=protected-access\n\u001b[0m\u001b[0;32m   3025\u001b[0m \u001b[1;33m\u001b[0m\u001b[0m\n\u001b[0;32m   3026\u001b[0m   \u001b[1;33m@\u001b[0m\u001b[0mproperty\u001b[0m\u001b[1;33m\u001b[0m\u001b[1;33m\u001b[0m\u001b[0m\n",
      "\u001b[1;32m~\\AppData\\Local\\Continuum\\anaconda3\\lib\\site-packages\\tensorflow\\python\\eager\\function.py\u001b[0m in \u001b[0;36m_call_flat\u001b[1;34m(self, args, captured_inputs, cancellation_manager)\u001b[0m\n\u001b[0;32m   1959\u001b[0m       \u001b[1;31m# No tape is watching; skip to running the function.\u001b[0m\u001b[1;33m\u001b[0m\u001b[1;33m\u001b[0m\u001b[1;33m\u001b[0m\u001b[0m\n\u001b[0;32m   1960\u001b[0m       return self._build_call_outputs(self._inference_function.call(\n\u001b[1;32m-> 1961\u001b[1;33m           ctx, args, cancellation_manager=cancellation_manager))\n\u001b[0m\u001b[0;32m   1962\u001b[0m     forward_backward = self._select_forward_and_backward_functions(\n\u001b[0;32m   1963\u001b[0m         \u001b[0margs\u001b[0m\u001b[1;33m,\u001b[0m\u001b[1;33m\u001b[0m\u001b[1;33m\u001b[0m\u001b[0m\n",
      "\u001b[1;32m~\\AppData\\Local\\Continuum\\anaconda3\\lib\\site-packages\\tensorflow\\python\\eager\\function.py\u001b[0m in \u001b[0;36mcall\u001b[1;34m(self, ctx, args, cancellation_manager)\u001b[0m\n\u001b[0;32m    594\u001b[0m               \u001b[0minputs\u001b[0m\u001b[1;33m=\u001b[0m\u001b[0margs\u001b[0m\u001b[1;33m,\u001b[0m\u001b[1;33m\u001b[0m\u001b[1;33m\u001b[0m\u001b[0m\n\u001b[0;32m    595\u001b[0m               \u001b[0mattrs\u001b[0m\u001b[1;33m=\u001b[0m\u001b[0mattrs\u001b[0m\u001b[1;33m,\u001b[0m\u001b[1;33m\u001b[0m\u001b[1;33m\u001b[0m\u001b[0m\n\u001b[1;32m--> 596\u001b[1;33m               ctx=ctx)\n\u001b[0m\u001b[0;32m    597\u001b[0m         \u001b[1;32melse\u001b[0m\u001b[1;33m:\u001b[0m\u001b[1;33m\u001b[0m\u001b[1;33m\u001b[0m\u001b[0m\n\u001b[0;32m    598\u001b[0m           outputs = execute.execute_with_cancellation(\n",
      "\u001b[1;32m~\\AppData\\Local\\Continuum\\anaconda3\\lib\\site-packages\\tensorflow\\python\\eager\\execute.py\u001b[0m in \u001b[0;36mquick_execute\u001b[1;34m(op_name, num_outputs, inputs, attrs, ctx, name)\u001b[0m\n\u001b[0;32m     58\u001b[0m     \u001b[0mctx\u001b[0m\u001b[1;33m.\u001b[0m\u001b[0mensure_initialized\u001b[0m\u001b[1;33m(\u001b[0m\u001b[1;33m)\u001b[0m\u001b[1;33m\u001b[0m\u001b[1;33m\u001b[0m\u001b[0m\n\u001b[0;32m     59\u001b[0m     tensors = pywrap_tfe.TFE_Py_Execute(ctx._handle, device_name, op_name,\n\u001b[1;32m---> 60\u001b[1;33m                                         inputs, attrs, num_outputs)\n\u001b[0m\u001b[0;32m     61\u001b[0m   \u001b[1;32mexcept\u001b[0m \u001b[0mcore\u001b[0m\u001b[1;33m.\u001b[0m\u001b[0m_NotOkStatusException\u001b[0m \u001b[1;32mas\u001b[0m \u001b[0me\u001b[0m\u001b[1;33m:\u001b[0m\u001b[1;33m\u001b[0m\u001b[1;33m\u001b[0m\u001b[0m\n\u001b[0;32m     62\u001b[0m     \u001b[1;32mif\u001b[0m \u001b[0mname\u001b[0m \u001b[1;32mis\u001b[0m \u001b[1;32mnot\u001b[0m \u001b[1;32mNone\u001b[0m\u001b[1;33m:\u001b[0m\u001b[1;33m\u001b[0m\u001b[1;33m\u001b[0m\u001b[0m\n",
      "\u001b[1;31mKeyboardInterrupt\u001b[0m: "
     ]
    }
   ],
   "source": [
    "learning_rate = 0.01\n",
    "number_epochs = 1000\n",
    "batch_size = 256\n",
    "label_name = \"n_trips\"\n",
    "\n",
    "\n",
    "model_deep = create_model_deep('deep', learning_rate, my_feature_layer, [128, 64, 32,16])\n",
    "# Train the model on the normalized training set. We're passing the entire\n",
    "# normalized training set, but the model will only use the features\n",
    "# defined by the feature_layer.\n",
    "\n",
    "mse_train_deep, mse_val_deep = train_model(model_deep, train_df, number_epochs, batch_size, label_name)\n",
    "plot_the_loss_curve(mse_train_deep, mse_val_deep)"
   ]
  },
  {
   "cell_type": "code",
   "execution_count": null,
   "metadata": {},
   "outputs": [],
   "source": [
    "train_features = {name:np.array(value) for name, value in train_df.items()}\n",
    "train_label = np.array(train_features.pop(label_name)) # isolate the label\n",
    "\n",
    "print(\"\\nEvaluate the linear regression model on the training set:\")\n",
    "result = model_deep.evaluate(x=train_features, y=train_label, batch_size=batch_size)\n",
    "\n",
    "for item in zip(model_lr.metrics_names, result):\n",
    "    print (item[0], np.round(item[1], 3))\n",
    "    \n",
    "test_features = {name:np.array(value) for name, value in test_df.items()}\n",
    "test_label = np.array(test_features.pop(label_name)) # isolate the label\n",
    "\n",
    "print(\"\\nEvaluate the linear regression model on the test set:\")\n",
    "result = model_deep.evaluate(x=test_features, y=test_label, batch_size=batch_size)\n",
    "\n",
    "for item in zip(model_lr.metrics_names, result):\n",
    "    print (item[0], np.round(item[1], 3))"
   ]
  },
  {
   "cell_type": "code",
   "execution_count": null,
   "metadata": {},
   "outputs": [],
   "source": [
    "model_deep.summary()"
   ]
  },
  {
   "cell_type": "code",
   "execution_count": null,
   "metadata": {},
   "outputs": [],
   "source": [
    "plt.figure(figsize=(10, 8))\n",
    "plt.xlabel(\"Epoch\")\n",
    "plt.ylabel(\"Mean Squared Error\")\n",
    "\n",
    "plt.plot(savgol_filter(mse_train_deep, 51, 2), label=\"(Training Loss) Deep Model\")\n",
    "plt.plot(savgol_filter(mse_val_deep, 51, 2), label=\"(Validation Loss) Deep Model\")\n",
    "\n",
    "plt.legend()\n",
    "plt.show() "
   ]
  }
 ],
 "metadata": {
  "kernelspec": {
   "display_name": "Python 3",
   "language": "python",
   "name": "python3"
  },
  "language_info": {
   "codemirror_mode": {
    "name": "ipython",
    "version": 3
   },
   "file_extension": ".py",
   "mimetype": "text/x-python",
   "name": "python",
   "nbconvert_exporter": "python",
   "pygments_lexer": "ipython3",
   "version": "3.7.7"
  }
 },
 "nbformat": 4,
 "nbformat_minor": 2
}
