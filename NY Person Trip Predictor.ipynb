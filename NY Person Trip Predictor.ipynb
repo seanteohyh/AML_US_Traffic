{
 "cells": [
  {
   "cell_type": "markdown",
   "metadata": {},
   "source": [
    "# NY Person Trip Predictor"
   ]
  },
  {
   "cell_type": "code",
   "execution_count": 1,
   "metadata": {},
   "outputs": [],
   "source": [
    "import pandas as pd\n",
    "import numpy as np\n",
    "import datetime\n",
    "import matplotlib.pyplot as plt\n",
    "import seaborn as sns\n",
    "%matplotlib inline\n",
    "from sklearn import model_selection\n",
    "import warnings\n",
    "import math\n",
    "import time\n",
    "warnings.filterwarnings('ignore')"
   ]
  },
  {
   "cell_type": "code",
   "execution_count": 2,
   "metadata": {},
   "outputs": [],
   "source": [
    "path = \"C:/Users/Seant/Desktop/aml_data\" #edit this path to change to your path folder\n",
    "#path = \"/Users/weijilim/Downloads/csv\"\n",
    "#path = \"/Users/jayneteo/Dropbox/SMU MITB/Term 2 2021/AML/Project/NHTS/csv\" \n",
    "\n",
    "household = pd.read_csv(\"\".join([path,'/hhpub.csv']))\n",
    "person =  pd.read_csv(\"\".join([path,'/perpub.csv']))\n",
    "trip =  pd.read_csv(\"\".join([path,'/trippub.csv']))\n",
    "\n"
   ]
  },
  {
   "cell_type": "code",
   "execution_count": 3,
   "metadata": {},
   "outputs": [],
   "source": [
    "#define function \n",
    "\n",
    "def cat_col_prop(data, col):\n",
    "    print(pd.concat([data[col].value_counts(),\n",
    "          data[col].value_counts(normalize = True).mul(100)],axis = 1, keys = ('counts','percentage')))\n",
    "\n",
    "    sns.countplot(data[col], order =  data[col].value_counts().index)"
   ]
  },
  {
   "cell_type": "markdown",
   "metadata": {},
   "source": [
    "## Objective of Study"
   ]
  },
  {
   "cell_type": "code",
   "execution_count": 4,
   "metadata": {},
   "outputs": [],
   "source": [
    "ny = household[household['HHSTATE']==\"NY\"]\n",
    "ny = ny[ny['HHVEHCNT']>0]\n",
    "ny_trip = trip[trip['HOUSEID'].isin(ny['HOUSEID'])]\n",
    "nyorker = person[person['HOUSEID'].isin(ny['HOUSEID'])]"
   ]
  },
  {
   "cell_type": "code",
   "execution_count": 5,
   "metadata": {},
   "outputs": [
    {
     "name": "stdout",
     "output_type": "stream",
     "text": [
      "1411  out of  15636  ny household no trips recorded at all 9.024047070862114 %\n"
     ]
    }
   ],
   "source": [
    "# HOSEHOLD match\n",
    "\n",
    "ny_hh_trip = ny_trip[['HOUSEID','TDTRPNUM']].groupby(['HOUSEID']).count().reset_index()\n",
    "\n",
    "hh_check = ny[['HOUSEID']].merge(ny_hh_trip, how = 'left')\n",
    "\n",
    "hh_missing = sum(hh_check['TDTRPNUM'].isna())\n",
    "\n",
    "print(str(hh_missing), ' out of ',str(len(set(ny['HOUSEID']))),' ny household no trips recorded at all',str(hh_missing/len(set(ny['HOUSEID']))*100),'%')"
   ]
  },
  {
   "cell_type": "code",
   "execution_count": 6,
   "metadata": {},
   "outputs": [],
   "source": [
    "# Person  rate in household\n",
    "\n",
    "ny_trip_check = ny_trip[['HOUSEID','PERSONID','WHYTRP90']].groupby(['HOUSEID','PERSONID']).count().reset_index()\n",
    "ny_check = nyorker.merge(ny_trip_check, how = 'left', left_on=['HOUSEID','PERSONID'],right_on=['HOUSEID','PERSONID'])"
   ]
  },
  {
   "cell_type": "code",
   "execution_count": 7,
   "metadata": {},
   "outputs": [],
   "source": [
    "ny_check['WHYTRP90'][ny_check['WHYTRP90']>0] =1\n",
    "ny_check['WHYTRP90'][ny_check['WHYTRP90'].isna()] =0"
   ]
  },
  {
   "cell_type": "code",
   "execution_count": 8,
   "metadata": {},
   "outputs": [
    {
     "name": "stdout",
     "output_type": "stream",
     "text": [
      "of 32292  person info, 17.100210578471447 % did not provide any trip info\n"
     ]
    }
   ],
   "source": [
    "person_hitrate = sum(ny_check['WHYTRP90']==0)/ny_check.shape[0]*100\n",
    "\n",
    "print('of', str(ny_check.shape[0]),' person info,',str(person_hitrate),'% did not provide any trip info')\n"
   ]
  },
  {
   "cell_type": "code",
   "execution_count": 9,
   "metadata": {},
   "outputs": [
    {
     "name": "stdout",
     "output_type": "stream",
     "text": [
      "average percent of household members surveyed:  60.106623043559715 %\n"
     ]
    }
   ],
   "source": [
    "summ = ny_check[['HOUSEID','PERSONID','WHYTRP90']].groupby(['HOUSEID']).agg({'PERSONID':'sum',\n",
    "                                                                     'WHYTRP90':'sum'}).reset_index().rename(columns = {'WHYTRP90':'TRIP_COUNTED',\n",
    "                                                                                                                       'PERSONID':'HHSIZE'})\n",
    "summ['percent_trips'] = summ['TRIP_COUNTED']/summ['HHSIZE'] * 100\n",
    "\n",
    "print('average percent of household members surveyed: ',summ['percent_trips'].mean(),'%')"
   ]
  },
  {
   "cell_type": "code",
   "execution_count": 10,
   "metadata": {},
   "outputs": [
    {
     "data": {
      "text/plain": [
       "<matplotlib.axes._subplots.AxesSubplot at 0x18ae1812648>"
      ]
     },
     "execution_count": 10,
     "metadata": {},
     "output_type": "execute_result"
    },
    {
     "data": {
      "image/png": "[encoded data removed]",
      "text/plain": [
       "<Figure size 432x288 with 1 Axes>"
      ]
     },
     "metadata": {
      "needs_background": "light"
     },
     "output_type": "display_data"
    }
   ],
   "source": [
    "missing = ny_check[ny_check['WHYTRP90']==0]\n",
    "sns.histplot(missing['R_AGE'])"
   ]
  },
  {
   "cell_type": "markdown",
   "metadata": {},
   "source": [
    "### Goal is to create a predictive model to help predict and impute missing person trips in order to evaluate Household level trips "
   ]
  },
  {
   "cell_type": "markdown",
   "metadata": {},
   "source": [
    "## 1. Merging of Data"
   ]
  },
  {
   "cell_type": "markdown",
   "metadata": {},
   "source": [
    "### 1.1. Household"
   ]
  },
  {
   "cell_type": "code",
   "execution_count": 11,
   "metadata": {},
   "outputs": [],
   "source": [
    "#filtering NY Households\n",
    "ny = household[household['HHSTATE'] == \"NY\"]\n",
    "\n",
    "# as only studying hh with car will also filter out hh with HHVEHCNT == 0\n",
    "ny = ny[ny['HHVEHCNT']>0]"
   ]
  },
  {
   "cell_type": "code",
   "execution_count": 12,
   "metadata": {},
   "outputs": [],
   "source": [
    "# selection of columns based on prior background inference of potential features\n",
    "ny = ny[['HOUSEID','HH_CBSA','HOMEOWN','HHSIZE','HHVEHCNT','HHFAMINC','NUMADLT','YOUNGCHILD','WRKCOUNT','MSACAT','MSASIZE','URBAN','URBANSIZE','URBRUR','LIF_CYC']]"
   ]
  },
  {
   "cell_type": "markdown",
   "metadata": {},
   "source": [
    "### 1.2 Trips"
   ]
  },
  {
   "cell_type": "code",
   "execution_count": 13,
   "metadata": {},
   "outputs": [],
   "source": [
    "ny_trip = trip[trip['HOUSEID'].isin(ny['HOUSEID'])]"
   ]
  },
  {
   "cell_type": "markdown",
   "metadata": {},
   "source": [
    "* get most frequent distance bins for each WHYREASON "
   ]
  },
  {
   "cell_type": "code",
   "execution_count": 14,
   "metadata": {},
   "outputs": [
    {
     "data": {
      "text/plain": [
       "10    25627\n",
       "3     23806\n",
       "4     19880\n",
       "1     18001\n",
       "5      8440\n",
       "8      8325\n",
       "11     4385\n",
       "6      3164\n",
       "2      1954\n",
       "99       34\n",
       "Name: WHYTRP90, dtype: int64"
      ]
     },
     "execution_count": 14,
     "metadata": {},
     "output_type": "execute_result"
    }
   ],
   "source": [
    "trips_data = ny_trip[['HOUSEID','PERSONID','WHYTRP90','TRPMILES']]\n",
    "trips_data['WHYTRP90'].value_counts()\n",
    "\n",
    "# top why trips are [3,10,4,1,,8,5]"
   ]
  },
  {
   "cell_type": "code",
   "execution_count": 15,
   "metadata": {},
   "outputs": [],
   "source": [
    "trips_data =trips_data[trips_data['WHYTRP90'].isin([1,10,4,3,8,5])]"
   ]
  },
  {
   "cell_type": "code",
   "execution_count": 16,
   "metadata": {},
   "outputs": [
    {
     "name": "stdout",
     "output_type": "stream",
     "text": [
      "                counts  percentage\n",
      "(0.0, 2.0]       26629   25.585373\n",
      "(-9.001, 0.0]    21629   20.781330\n",
      "(4.0, 10.0]      20679   19.868561\n",
      "(10.0, 3621.0]   20273   19.478473\n",
      "(2.0, 4.0]       14869   14.286263\n"
     ]
    },
    {
     "data": {
      "image/png": "[encoded data removed]",
      "text/plain": [
       "<Figure size 432x288 with 1 Axes>"
      ]
     },
     "metadata": {
      "needs_background": "light"
     },
     "output_type": "display_data"
    }
   ],
   "source": [
    "trips_data['round_dist']= trips_data['TRPMILES'].apply(lambda x: math.floor(x))\n",
    "trips_data['trip_dist'] = pd.qcut(trips_data['round_dist'],5)\n",
    "cat_col_prop(trips_data,'trip_dist')"
   ]
  },
  {
   "cell_type": "code",
   "execution_count": 17,
   "metadata": {},
   "outputs": [],
   "source": [
    "# Summarise to Person trip counts \n",
    "ny_trip_count = ny_trip[['HOUSEID','PERSONID','TRAVDAY']].groupby(['HOUSEID','PERSONID']).agg('count').reset_index().rename(columns = {'TRAVDAY':'n_trips'})"
   ]
  },
  {
   "cell_type": "code",
   "execution_count": 18,
   "metadata": {},
   "outputs": [
    {
     "data": {
      "text/html": [
       "<div>\n",
       "<style scoped>\n",
       "    .dataframe tbody tr th:only-of-type {\n",
       "        vertical-align: middle;\n",
       "    }\n",
       "\n",
       "    .dataframe tbody tr th {\n",
       "        vertical-align: top;\n",
       "    }\n",
       "\n",
       "    .dataframe thead th {\n",
       "        text-align: right;\n",
       "    }\n",
       "</style>\n",
       "<table border=\"1\" class=\"dataframe\">\n",
       "  <thead>\n",
       "    <tr style=\"text-align: right;\">\n",
       "      <th></th>\n",
       "      <th>HOUSEID</th>\n",
       "      <th>PERSONID</th>\n",
       "      <th>n_trips</th>\n",
       "    </tr>\n",
       "  </thead>\n",
       "  <tbody>\n",
       "    <tr>\n",
       "      <th>0</th>\n",
       "      <td>30000012</td>\n",
       "      <td>1</td>\n",
       "      <td>9</td>\n",
       "    </tr>\n",
       "    <tr>\n",
       "      <th>1</th>\n",
       "      <td>30000082</td>\n",
       "      <td>1</td>\n",
       "      <td>5</td>\n",
       "    </tr>\n",
       "    <tr>\n",
       "      <th>2</th>\n",
       "      <td>30000082</td>\n",
       "      <td>2</td>\n",
       "      <td>7</td>\n",
       "    </tr>\n",
       "    <tr>\n",
       "      <th>3</th>\n",
       "      <td>30000130</td>\n",
       "      <td>1</td>\n",
       "      <td>4</td>\n",
       "    </tr>\n",
       "    <tr>\n",
       "      <th>4</th>\n",
       "      <td>30000380</td>\n",
       "      <td>1</td>\n",
       "      <td>6</td>\n",
       "    </tr>\n",
       "  </tbody>\n",
       "</table>\n",
       "</div>"
      ],
      "text/plain": [
       "    HOUSEID  PERSONID  n_trips\n",
       "0  30000012         1        9\n",
       "1  30000082         1        5\n",
       "2  30000082         2        7\n",
       "3  30000130         1        4\n",
       "4  30000380         1        6"
      ]
     },
     "execution_count": 18,
     "metadata": {},
     "output_type": "execute_result"
    }
   ],
   "source": [
    "ny_trip_count.head()"
   ]
  },
  {
   "cell_type": "code",
   "execution_count": 19,
   "metadata": {},
   "outputs": [],
   "source": [
    "trip_summary = trips_data[['HOUSEID','PERSONID','WHYTRP90','trip_dist']].groupby(['HOUSEID','PERSONID','WHYTRP90'])['trip_dist'].apply(pd.Series.mode).reset_index()\n",
    "trip_summary['max_dist'] = trip_summary['trip_dist'].apply(lambda x: x.right)"
   ]
  },
  {
   "cell_type": "code",
   "execution_count": 20,
   "metadata": {},
   "outputs": [],
   "source": [
    "trip_summary = trip_summary[trip_summary.groupby(['HOUSEID','PERSONID','WHYTRP90'])['max_dist'].transform(max) == trip_summary['max_dist']]\n",
    "\n",
    "trip_summary = trip_summary[['HOUSEID','PERSONID','WHYTRP90','trip_dist']]\n"
   ]
  },
  {
   "cell_type": "code",
   "execution_count": 21,
   "metadata": {},
   "outputs": [],
   "source": [
    "pivoted = trip_summary.pivot(index = ['HOUSEID','PERSONID'],\n",
    "                  columns = 'WHYTRP90',\n",
    "                  values = 'trip_dist')\n",
    "\n",
    "trip_why_common = pd.DataFrame(pivoted.to_records()).rename(columns = {'1':'dist_to_work',\n",
    "                                                       '3':'dist_to_shopping',\n",
    "                                                        '4':'dist_to_family',\n",
    "                                                       '5':'dist_to_school_or_church',\n",
    "                                                        '8': 'dist_to_relatives',\n",
    "                                                        '10':'dist_to_social'})\n"
   ]
  },
  {
   "cell_type": "markdown",
   "metadata": {},
   "source": [
    "* Get the Count of Car Trips"
   ]
  },
  {
   "cell_type": "code",
   "execution_count": 22,
   "metadata": {},
   "outputs": [],
   "source": [
    "# selecting trips that were done using either 3.Car, 4.SUV, 5.Van\n",
    "ny_trip = ny_trip[ny_trip['TRPTRANS'].isin([3,4,5])]"
   ]
  },
  {
   "cell_type": "code",
   "execution_count": 23,
   "metadata": {},
   "outputs": [
    {
     "name": "stdout",
     "output_type": "stream",
     "text": [
      "84  trips missing TRVLCMIN info so will just remove since only  0.09621221666074885 %\n"
     ]
    }
   ],
   "source": [
    "print(str(sum(ny_trip['TRVLCMIN']<=0)), ' trips missing TRVLCMIN info so will just remove since only ',str(sum(ny_trip['TRVLCMIN']<=0)/len(ny_trip)*100),\"%\")\n",
    "ny_trip = ny_trip[ny_trip['TRVLCMIN']>0]"
   ]
  },
  {
   "cell_type": "code",
   "execution_count": 24,
   "metadata": {},
   "outputs": [
    {
     "name": "stdout",
     "output_type": "stream",
     "text": [
      "# of trips with dist <=0, 22  out of 87223\n"
     ]
    }
   ],
   "source": [
    "# since only 24 lines with trip distance <= 0, removed lines\n",
    "print('# of trips with dist <=0,', str(sum(ny_trip['TRPMILES']<=0)),' out of', str(len(ny_trip)))\n",
    "ny_trip = ny_trip[ny_trip['TRPMILES']>0]"
   ]
  },
  {
   "cell_type": "code",
   "execution_count": 25,
   "metadata": {},
   "outputs": [
    {
     "data": {
      "image/png": "[encoded data removed]",
      "text/plain": [
       "<Figure size 432x288 with 1 Axes>"
      ]
     },
     "metadata": {
      "needs_background": "light"
     },
     "output_type": "display_data"
    }
   ],
   "source": [
    "#Remove outlier trip miles\n",
    "sns.histplot(ny_trip['TRPMILES'])\n",
    "#ny_trip = ny_trip[ny_trip['TRPMILES']<40]\n",
    "ny_trip = ny_trip[ny_trip['TRPMILES']<100]"
   ]
  },
  {
   "cell_type": "code",
   "execution_count": 26,
   "metadata": {},
   "outputs": [],
   "source": [
    "ny_trip_count = ny_trip_count.merge(trip_why_common, how = 'left',left_on = ['HOUSEID','PERSONID'],right_on = ['HOUSEID','PERSONID'])"
   ]
  },
  {
   "cell_type": "markdown",
   "metadata": {},
   "source": [
    "## 1.3 People"
   ]
  },
  {
   "cell_type": "code",
   "execution_count": 27,
   "metadata": {},
   "outputs": [],
   "source": [
    "# filtering people from New York\n",
    "nyorker = person[person['HOUSEID'].isin(ny['HOUSEID'])]"
   ]
  },
  {
   "cell_type": "code",
   "execution_count": 28,
   "metadata": {},
   "outputs": [],
   "source": [
    "# selection of columns based on prior background inference of potential features\n",
    "nyorker = nyorker[['HOUSEID','PERSONID','R_AGE','EDUC','R_RACE','R_SEX','WRK_HOME','WKFTPT','OCCAT','DRIVER','TRAVDAY','DISTTOWK17','DISTTOSC17','OUTOFTWN']]\n"
   ]
  },
  {
   "cell_type": "code",
   "execution_count": 29,
   "metadata": {},
   "outputs": [],
   "source": [
    "# Remove those out of town\n",
    "nyorker = nyorker[nyorker['OUTOFTWN']==2]\n",
    "nyorker.drop(['OUTOFTWN'],axis =1, inplace = True)"
   ]
  },
  {
   "cell_type": "code",
   "execution_count": 30,
   "metadata": {},
   "outputs": [
    {
     "data": {
      "text/html": [
       "<div>\n",
       "<style scoped>\n",
       "    .dataframe tbody tr th:only-of-type {\n",
       "        vertical-align: middle;\n",
       "    }\n",
       "\n",
       "    .dataframe tbody tr th {\n",
       "        vertical-align: top;\n",
       "    }\n",
       "\n",
       "    .dataframe thead th {\n",
       "        text-align: right;\n",
       "    }\n",
       "</style>\n",
       "<table border=\"1\" class=\"dataframe\">\n",
       "  <thead>\n",
       "    <tr style=\"text-align: right;\">\n",
       "      <th></th>\n",
       "      <th>HOUSEID</th>\n",
       "      <th>PERSONID</th>\n",
       "      <th>n_trips</th>\n",
       "      <th>dist_to_work</th>\n",
       "      <th>dist_to_shopping</th>\n",
       "      <th>dist_to_family</th>\n",
       "      <th>dist_to_school_or_church</th>\n",
       "      <th>dist_to_relatives</th>\n",
       "      <th>dist_to_social</th>\n",
       "    </tr>\n",
       "  </thead>\n",
       "  <tbody>\n",
       "    <tr>\n",
       "      <th>0</th>\n",
       "      <td>30000012</td>\n",
       "      <td>1</td>\n",
       "      <td>9</td>\n",
       "      <td>(4.0, 10.0]</td>\n",
       "      <td>NaN</td>\n",
       "      <td>NaN</td>\n",
       "      <td>NaN</td>\n",
       "      <td>(10.0, 3621.0]</td>\n",
       "      <td>(2.0, 4.0]</td>\n",
       "    </tr>\n",
       "    <tr>\n",
       "      <th>1</th>\n",
       "      <td>30000082</td>\n",
       "      <td>1</td>\n",
       "      <td>5</td>\n",
       "      <td>(0.0, 2.0]</td>\n",
       "      <td>NaN</td>\n",
       "      <td>(0.0, 2.0]</td>\n",
       "      <td>NaN</td>\n",
       "      <td>NaN</td>\n",
       "      <td>(0.0, 2.0]</td>\n",
       "    </tr>\n",
       "    <tr>\n",
       "      <th>2</th>\n",
       "      <td>30000082</td>\n",
       "      <td>2</td>\n",
       "      <td>7</td>\n",
       "      <td>NaN</td>\n",
       "      <td>(0.0, 2.0]</td>\n",
       "      <td>NaN</td>\n",
       "      <td>NaN</td>\n",
       "      <td>NaN</td>\n",
       "      <td>(10.0, 3621.0]</td>\n",
       "    </tr>\n",
       "    <tr>\n",
       "      <th>3</th>\n",
       "      <td>30000130</td>\n",
       "      <td>1</td>\n",
       "      <td>4</td>\n",
       "      <td>(10.0, 3621.0]</td>\n",
       "      <td>NaN</td>\n",
       "      <td>NaN</td>\n",
       "      <td>NaN</td>\n",
       "      <td>NaN</td>\n",
       "      <td>NaN</td>\n",
       "    </tr>\n",
       "    <tr>\n",
       "      <th>4</th>\n",
       "      <td>30000380</td>\n",
       "      <td>1</td>\n",
       "      <td>6</td>\n",
       "      <td>NaN</td>\n",
       "      <td>(0.0, 2.0]</td>\n",
       "      <td>NaN</td>\n",
       "      <td>NaN</td>\n",
       "      <td>NaN</td>\n",
       "      <td>(-9.001, 0.0]</td>\n",
       "    </tr>\n",
       "    <tr>\n",
       "      <th>...</th>\n",
       "      <td>...</td>\n",
       "      <td>...</td>\n",
       "      <td>...</td>\n",
       "      <td>...</td>\n",
       "      <td>...</td>\n",
       "      <td>...</td>\n",
       "      <td>...</td>\n",
       "      <td>...</td>\n",
       "      <td>...</td>\n",
       "    </tr>\n",
       "    <tr>\n",
       "      <th>26765</th>\n",
       "      <td>40793808</td>\n",
       "      <td>2</td>\n",
       "      <td>9</td>\n",
       "      <td>NaN</td>\n",
       "      <td>(0.0, 2.0]</td>\n",
       "      <td>(4.0, 10.0]</td>\n",
       "      <td>NaN</td>\n",
       "      <td>NaN</td>\n",
       "      <td>(0.0, 2.0]</td>\n",
       "    </tr>\n",
       "    <tr>\n",
       "      <th>26766</th>\n",
       "      <td>40793808</td>\n",
       "      <td>3</td>\n",
       "      <td>5</td>\n",
       "      <td>NaN</td>\n",
       "      <td>(4.0, 10.0]</td>\n",
       "      <td>NaN</td>\n",
       "      <td>NaN</td>\n",
       "      <td>NaN</td>\n",
       "      <td>(-9.001, 0.0]</td>\n",
       "    </tr>\n",
       "    <tr>\n",
       "      <th>26767</th>\n",
       "      <td>40793974</td>\n",
       "      <td>1</td>\n",
       "      <td>7</td>\n",
       "      <td>NaN</td>\n",
       "      <td>(4.0, 10.0]</td>\n",
       "      <td>NaN</td>\n",
       "      <td>NaN</td>\n",
       "      <td>(4.0, 10.0]</td>\n",
       "      <td>(2.0, 4.0]</td>\n",
       "    </tr>\n",
       "    <tr>\n",
       "      <th>26768</th>\n",
       "      <td>40794020</td>\n",
       "      <td>1</td>\n",
       "      <td>6</td>\n",
       "      <td>NaN</td>\n",
       "      <td>(4.0, 10.0]</td>\n",
       "      <td>(-9.001, 0.0]</td>\n",
       "      <td>NaN</td>\n",
       "      <td>NaN</td>\n",
       "      <td>NaN</td>\n",
       "    </tr>\n",
       "    <tr>\n",
       "      <th>26769</th>\n",
       "      <td>40794020</td>\n",
       "      <td>2</td>\n",
       "      <td>5</td>\n",
       "      <td>NaN</td>\n",
       "      <td>(4.0, 10.0]</td>\n",
       "      <td>(-9.001, 0.0]</td>\n",
       "      <td>NaN</td>\n",
       "      <td>NaN</td>\n",
       "      <td>NaN</td>\n",
       "    </tr>\n",
       "  </tbody>\n",
       "</table>\n",
       "<p>26770 rows × 9 columns</p>\n",
       "</div>"
      ],
      "text/plain": [
       "        HOUSEID  PERSONID  n_trips    dist_to_work dist_to_shopping  \\\n",
       "0      30000012         1        9     (4.0, 10.0]              NaN   \n",
       "1      30000082         1        5      (0.0, 2.0]              NaN   \n",
       "2      30000082         2        7             NaN       (0.0, 2.0]   \n",
       "3      30000130         1        4  (10.0, 3621.0]              NaN   \n",
       "4      30000380         1        6             NaN       (0.0, 2.0]   \n",
       "...         ...       ...      ...             ...              ...   \n",
       "26765  40793808         2        9             NaN       (0.0, 2.0]   \n",
       "26766  40793808         3        5             NaN      (4.0, 10.0]   \n",
       "26767  40793974         1        7             NaN      (4.0, 10.0]   \n",
       "26768  40794020         1        6             NaN      (4.0, 10.0]   \n",
       "26769  40794020         2        5             NaN      (4.0, 10.0]   \n",
       "\n",
       "      dist_to_family dist_to_school_or_church dist_to_relatives  \\\n",
       "0                NaN                      NaN    (10.0, 3621.0]   \n",
       "1         (0.0, 2.0]                      NaN               NaN   \n",
       "2                NaN                      NaN               NaN   \n",
       "3                NaN                      NaN               NaN   \n",
       "4                NaN                      NaN               NaN   \n",
       "...              ...                      ...               ...   \n",
       "26765    (4.0, 10.0]                      NaN               NaN   \n",
       "26766            NaN                      NaN               NaN   \n",
       "26767            NaN                      NaN       (4.0, 10.0]   \n",
       "26768  (-9.001, 0.0]                      NaN               NaN   \n",
       "26769  (-9.001, 0.0]                      NaN               NaN   \n",
       "\n",
       "       dist_to_social  \n",
       "0          (2.0, 4.0]  \n",
       "1          (0.0, 2.0]  \n",
       "2      (10.0, 3621.0]  \n",
       "3                 NaN  \n",
       "4       (-9.001, 0.0]  \n",
       "...               ...  \n",
       "26765      (0.0, 2.0]  \n",
       "26766   (-9.001, 0.0]  \n",
       "26767      (2.0, 4.0]  \n",
       "26768             NaN  \n",
       "26769             NaN  \n",
       "\n",
       "[26770 rows x 9 columns]"
      ]
     },
     "execution_count": 30,
     "metadata": {},
     "output_type": "execute_result"
    }
   ],
   "source": [
    "ny_trip_count"
   ]
  },
  {
   "cell_type": "code",
   "execution_count": 31,
   "metadata": {},
   "outputs": [],
   "source": [
    "# merging of Person, Household and Trips to Person\n",
    "df= nyorker.merge(ny_trip_count, how = 'left', left_on = ['HOUSEID','PERSONID'],right_on = ['HOUSEID','PERSONID'])\n",
    "df = df.merge(ny, how = 'left', left_on = 'HOUSEID', right_on = 'HOUSEID')"
   ]
  },
  {
   "cell_type": "code",
   "execution_count": 32,
   "metadata": {},
   "outputs": [
    {
     "data": {
      "image/png": "[encoded data removed]",
      "text/plain": [
       "<Figure size 432x288 with 1 Axes>"
      ]
     },
     "metadata": {
      "needs_background": "light"
     },
     "output_type": "display_data"
    }
   ],
   "source": [
    "# Replace NA trip counts with 0\n",
    "sns.histplot(df['n_trips'])\n",
    "df['n_trips'][df['n_trips'].isna()] = 0\n",
    "#df = df[df['n_trips']>0]\n",
    "df = df[df['n_trips']<10]"
   ]
  },
  {
   "cell_type": "code",
   "execution_count": 33,
   "metadata": {},
   "outputs": [
    {
     "data": {
      "text/plain": [
       "['HOUSEID',\n",
       " 'PERSONID',\n",
       " 'R_AGE',\n",
       " 'EDUC',\n",
       " 'R_RACE',\n",
       " 'R_SEX',\n",
       " 'WRK_HOME',\n",
       " 'WKFTPT',\n",
       " 'OCCAT',\n",
       " 'DRIVER',\n",
       " 'TRAVDAY',\n",
       " 'DISTTOWK17',\n",
       " 'DISTTOSC17',\n",
       " 'n_trips',\n",
       " 'dist_to_work',\n",
       " 'dist_to_shopping',\n",
       " 'dist_to_family',\n",
       " 'dist_to_school_or_church',\n",
       " 'dist_to_relatives',\n",
       " 'dist_to_social',\n",
       " 'HH_CBSA',\n",
       " 'HOMEOWN',\n",
       " 'HHSIZE',\n",
       " 'HHVEHCNT',\n",
       " 'HHFAMINC',\n",
       " 'NUMADLT',\n",
       " 'YOUNGCHILD',\n",
       " 'WRKCOUNT',\n",
       " 'MSACAT',\n",
       " 'MSASIZE',\n",
       " 'URBAN',\n",
       " 'URBANSIZE',\n",
       " 'URBRUR',\n",
       " 'LIF_CYC']"
      ]
     },
     "execution_count": 33,
     "metadata": {},
     "output_type": "execute_result"
    }
   ],
   "source": [
    "[c for c in df]"
   ]
  },
  {
   "cell_type": "code",
   "execution_count": 34,
   "metadata": {},
   "outputs": [
    {
     "data": {
      "text/plain": [
       "(30150, 34)"
      ]
     },
     "execution_count": 34,
     "metadata": {},
     "output_type": "execute_result"
    }
   ],
   "source": [
    "df.shape"
   ]
  },
  {
   "cell_type": "markdown",
   "metadata": {},
   "source": [
    "## Reason for Model"
   ]
  },
  {
   "cell_type": "code",
   "execution_count": 35,
   "metadata": {},
   "outputs": [
    {
     "data": {
      "text/html": [
       "<div>\n",
       "<style scoped>\n",
       "    .dataframe tbody tr th:only-of-type {\n",
       "        vertical-align: middle;\n",
       "    }\n",
       "\n",
       "    .dataframe tbody tr th {\n",
       "        vertical-align: top;\n",
       "    }\n",
       "\n",
       "    .dataframe thead th {\n",
       "        text-align: right;\n",
       "    }\n",
       "</style>\n",
       "<table border=\"1\" class=\"dataframe\">\n",
       "  <thead>\n",
       "    <tr style=\"text-align: right;\">\n",
       "      <th></th>\n",
       "      <th>HOUSEID</th>\n",
       "      <th>PERSONID</th>\n",
       "      <th>n_trips</th>\n",
       "      <th>dist_to_work</th>\n",
       "      <th>dist_to_shopping</th>\n",
       "      <th>dist_to_family</th>\n",
       "      <th>dist_to_school_or_church</th>\n",
       "      <th>dist_to_relatives</th>\n",
       "      <th>dist_to_social</th>\n",
       "    </tr>\n",
       "  </thead>\n",
       "  <tbody>\n",
       "    <tr>\n",
       "      <th>0</th>\n",
       "      <td>30000012</td>\n",
       "      <td>1</td>\n",
       "      <td>9</td>\n",
       "      <td>(4.0, 10.0]</td>\n",
       "      <td>NaN</td>\n",
       "      <td>NaN</td>\n",
       "      <td>NaN</td>\n",
       "      <td>(10.0, 3621.0]</td>\n",
       "      <td>(2.0, 4.0]</td>\n",
       "    </tr>\n",
       "    <tr>\n",
       "      <th>1</th>\n",
       "      <td>30000082</td>\n",
       "      <td>1</td>\n",
       "      <td>5</td>\n",
       "      <td>(0.0, 2.0]</td>\n",
       "      <td>NaN</td>\n",
       "      <td>(0.0, 2.0]</td>\n",
       "      <td>NaN</td>\n",
       "      <td>NaN</td>\n",
       "      <td>(0.0, 2.0]</td>\n",
       "    </tr>\n",
       "    <tr>\n",
       "      <th>2</th>\n",
       "      <td>30000082</td>\n",
       "      <td>2</td>\n",
       "      <td>7</td>\n",
       "      <td>NaN</td>\n",
       "      <td>(0.0, 2.0]</td>\n",
       "      <td>NaN</td>\n",
       "      <td>NaN</td>\n",
       "      <td>NaN</td>\n",
       "      <td>(10.0, 3621.0]</td>\n",
       "    </tr>\n",
       "    <tr>\n",
       "      <th>3</th>\n",
       "      <td>30000130</td>\n",
       "      <td>1</td>\n",
       "      <td>4</td>\n",
       "      <td>(10.0, 3621.0]</td>\n",
       "      <td>NaN</td>\n",
       "      <td>NaN</td>\n",
       "      <td>NaN</td>\n",
       "      <td>NaN</td>\n",
       "      <td>NaN</td>\n",
       "    </tr>\n",
       "    <tr>\n",
       "      <th>4</th>\n",
       "      <td>30000380</td>\n",
       "      <td>1</td>\n",
       "      <td>6</td>\n",
       "      <td>NaN</td>\n",
       "      <td>(0.0, 2.0]</td>\n",
       "      <td>NaN</td>\n",
       "      <td>NaN</td>\n",
       "      <td>NaN</td>\n",
       "      <td>(-9.001, 0.0]</td>\n",
       "    </tr>\n",
       "    <tr>\n",
       "      <th>...</th>\n",
       "      <td>...</td>\n",
       "      <td>...</td>\n",
       "      <td>...</td>\n",
       "      <td>...</td>\n",
       "      <td>...</td>\n",
       "      <td>...</td>\n",
       "      <td>...</td>\n",
       "      <td>...</td>\n",
       "      <td>...</td>\n",
       "    </tr>\n",
       "    <tr>\n",
       "      <th>26765</th>\n",
       "      <td>40793808</td>\n",
       "      <td>2</td>\n",
       "      <td>9</td>\n",
       "      <td>NaN</td>\n",
       "      <td>(0.0, 2.0]</td>\n",
       "      <td>(4.0, 10.0]</td>\n",
       "      <td>NaN</td>\n",
       "      <td>NaN</td>\n",
       "      <td>(0.0, 2.0]</td>\n",
       "    </tr>\n",
       "    <tr>\n",
       "      <th>26766</th>\n",
       "      <td>40793808</td>\n",
       "      <td>3</td>\n",
       "      <td>5</td>\n",
       "      <td>NaN</td>\n",
       "      <td>(4.0, 10.0]</td>\n",
       "      <td>NaN</td>\n",
       "      <td>NaN</td>\n",
       "      <td>NaN</td>\n",
       "      <td>(-9.001, 0.0]</td>\n",
       "    </tr>\n",
       "    <tr>\n",
       "      <th>26767</th>\n",
       "      <td>40793974</td>\n",
       "      <td>1</td>\n",
       "      <td>7</td>\n",
       "      <td>NaN</td>\n",
       "      <td>(4.0, 10.0]</td>\n",
       "      <td>NaN</td>\n",
       "      <td>NaN</td>\n",
       "      <td>(4.0, 10.0]</td>\n",
       "      <td>(2.0, 4.0]</td>\n",
       "    </tr>\n",
       "    <tr>\n",
       "      <th>26768</th>\n",
       "      <td>40794020</td>\n",
       "      <td>1</td>\n",
       "      <td>6</td>\n",
       "      <td>NaN</td>\n",
       "      <td>(4.0, 10.0]</td>\n",
       "      <td>(-9.001, 0.0]</td>\n",
       "      <td>NaN</td>\n",
       "      <td>NaN</td>\n",
       "      <td>NaN</td>\n",
       "    </tr>\n",
       "    <tr>\n",
       "      <th>26769</th>\n",
       "      <td>40794020</td>\n",
       "      <td>2</td>\n",
       "      <td>5</td>\n",
       "      <td>NaN</td>\n",
       "      <td>(4.0, 10.0]</td>\n",
       "      <td>(-9.001, 0.0]</td>\n",
       "      <td>NaN</td>\n",
       "      <td>NaN</td>\n",
       "      <td>NaN</td>\n",
       "    </tr>\n",
       "  </tbody>\n",
       "</table>\n",
       "<p>26770 rows × 9 columns</p>\n",
       "</div>"
      ],
      "text/plain": [
       "        HOUSEID  PERSONID  n_trips    dist_to_work dist_to_shopping  \\\n",
       "0      30000012         1        9     (4.0, 10.0]              NaN   \n",
       "1      30000082         1        5      (0.0, 2.0]              NaN   \n",
       "2      30000082         2        7             NaN       (0.0, 2.0]   \n",
       "3      30000130         1        4  (10.0, 3621.0]              NaN   \n",
       "4      30000380         1        6             NaN       (0.0, 2.0]   \n",
       "...         ...       ...      ...             ...              ...   \n",
       "26765  40793808         2        9             NaN       (0.0, 2.0]   \n",
       "26766  40793808         3        5             NaN      (4.0, 10.0]   \n",
       "26767  40793974         1        7             NaN      (4.0, 10.0]   \n",
       "26768  40794020         1        6             NaN      (4.0, 10.0]   \n",
       "26769  40794020         2        5             NaN      (4.0, 10.0]   \n",
       "\n",
       "      dist_to_family dist_to_school_or_church dist_to_relatives  \\\n",
       "0                NaN                      NaN    (10.0, 3621.0]   \n",
       "1         (0.0, 2.0]                      NaN               NaN   \n",
       "2                NaN                      NaN               NaN   \n",
       "3                NaN                      NaN               NaN   \n",
       "4                NaN                      NaN               NaN   \n",
       "...              ...                      ...               ...   \n",
       "26765    (4.0, 10.0]                      NaN               NaN   \n",
       "26766            NaN                      NaN               NaN   \n",
       "26767            NaN                      NaN       (4.0, 10.0]   \n",
       "26768  (-9.001, 0.0]                      NaN               NaN   \n",
       "26769  (-9.001, 0.0]                      NaN               NaN   \n",
       "\n",
       "       dist_to_social  \n",
       "0          (2.0, 4.0]  \n",
       "1          (0.0, 2.0]  \n",
       "2      (10.0, 3621.0]  \n",
       "3                 NaN  \n",
       "4       (-9.001, 0.0]  \n",
       "...               ...  \n",
       "26765      (0.0, 2.0]  \n",
       "26766   (-9.001, 0.0]  \n",
       "26767      (2.0, 4.0]  \n",
       "26768             NaN  \n",
       "26769             NaN  \n",
       "\n",
       "[26770 rows x 9 columns]"
      ]
     },
     "execution_count": 35,
     "metadata": {},
     "output_type": "execute_result"
    }
   ],
   "source": [
    "ny_trip_count"
   ]
  },
  {
   "cell_type": "code",
   "execution_count": 36,
   "metadata": {},
   "outputs": [],
   "source": [
    "ny_trip_check = ny_trip[['HOUSEID','PERSONID','WHYTRP90']].groupby(['HOUSEID','PERSONID']).count().reset_index()\n",
    "ny_check = nyorker.merge(ny_trip_check, how = 'left', left_on=['HOUSEID','PERSONID'],right_on=['HOUSEID','PERSONID'])"
   ]
  },
  {
   "cell_type": "code",
   "execution_count": 37,
   "metadata": {},
   "outputs": [],
   "source": [
    "ny_check['WHYTRP90'][ny_check['WHYTRP90']>0] =1\n",
    "ny_check['WHYTRP90'][ny_check['WHYTRP90'].isna()] =0"
   ]
  },
  {
   "cell_type": "code",
   "execution_count": 38,
   "metadata": {},
   "outputs": [
    {
     "name": "stdout",
     "output_type": "stream",
     "text": [
      "of  15230  households,  18.01050558108995 % did not provide any trip info\n"
     ]
    }
   ],
   "source": [
    "hh_rate = ny_check.groupby(['HOUSEID']).agg({'HOUSEID':'count',\n",
    "                                  'WHYTRP90':'sum'})\n",
    "\n",
    "hh_hitrate = sum(hh_rate['WHYTRP90']==0)/hh_rate.shape[0]*100\n",
    "\n",
    "print('of ',str(hh_rate.shape[0]),' households, ',str(hh_hitrate), '% did not provide any trip info')"
   ]
  },
  {
   "cell_type": "code",
   "execution_count": 39,
   "metadata": {},
   "outputs": [
    {
     "name": "stdout",
     "output_type": "stream",
     "text": [
      "of 31051  person info, 30.8428069949438 % did not provide any trip info\n"
     ]
    }
   ],
   "source": [
    "person_hitrate = sum(ny_check['WHYTRP90']==0)/ny_check.shape[0]*100\n",
    "\n",
    "print('of', str(ny_check.shape[0]),' person info,',str(person_hitrate),'% did not provide any trip info')\n"
   ]
  },
  {
   "cell_type": "code",
   "execution_count": 40,
   "metadata": {},
   "outputs": [
    {
     "data": {
      "text/plain": [
       "<matplotlib.axes._subplots.AxesSubplot at 0x18aed55f248>"
      ]
     },
     "execution_count": 40,
     "metadata": {},
     "output_type": "execute_result"
    },
    {
     "data": {
      "image/png": "[encoded data removed]",
      "text/plain": [
       "<Figure size 432x288 with 1 Axes>"
      ]
     },
     "metadata": {
      "needs_background": "light"
     },
     "output_type": "display_data"
    }
   ],
   "source": [
    "sns.histplot(ny_check['R_AGE'][ny_check['WHYTRP90']==0])\n",
    "\n",
    "# not only those too young missing"
   ]
  },
  {
   "cell_type": "markdown",
   "metadata": {},
   "source": [
    "### Therefore to create predictive model to help 'fill up' missing trip info to provide household level trip estimates. \n",
    "\n",
    "other reccommendation: for future survey can get volunteer to provide some of the key features of family members (e.g. dist to workplace or school) to help provide estimate of houshold total trips"
   ]
  },
  {
   "cell_type": "markdown",
   "metadata": {},
   "source": [
    "## 2. EDA & Feature Engineering "
   ]
  },
  {
   "cell_type": "markdown",
   "metadata": {},
   "source": [
    "### 2.1. Train, Test, Split"
   ]
  },
  {
   "cell_type": "code",
   "execution_count": 41,
   "metadata": {},
   "outputs": [],
   "source": [
    "x_col = [c for c in df if c not in [\"HOUSEID\",\"PERSONID\",\"n_trips\"]]\n",
    "x_df = df[x_col]\n",
    "y_df = df['n_trips']\n",
    "\n",
    "x_train , x_test, y_train, y_test = model_selection.train_test_split(x_df, y_df, test_size = 0.2, random_state = 888)"
   ]
  },
  {
   "cell_type": "code",
   "execution_count": 42,
   "metadata": {},
   "outputs": [
    {
     "data": {
      "text/plain": [
       "<matplotlib.axes._subplots.AxesSubplot at 0x18aecfef4c8>"
      ]
     },
     "execution_count": 42,
     "metadata": {},
     "output_type": "execute_result"
    },
    {
     "data": {
      "image/png": "[encoded data removed]",
      "text/plain": [
       "<Figure size 432x288 with 1 Axes>"
      ]
     },
     "metadata": {
      "needs_background": "light"
     },
     "output_type": "display_data"
    }
   ],
   "source": [
    "sns.histplot(y_train)"
   ]
  },
  {
   "cell_type": "code",
   "execution_count": 43,
   "metadata": {},
   "outputs": [
    {
     "name": "stdout",
     "output_type": "stream",
     "text": [
      "<class 'pandas.core.frame.DataFrame'>\n",
      "Int64Index: 24120 entries, 8781 to 11121\n",
      "Data columns (total 31 columns):\n",
      " #   Column                    Non-Null Count  Dtype            \n",
      "---  ------                    --------------  -----            \n",
      " 0   R_AGE                     24120 non-null  int64            \n",
      " 1   EDUC                      24120 non-null  int64            \n",
      " 2   R_RACE                    24120 non-null  int64            \n",
      " 3   R_SEX                     24120 non-null  int64            \n",
      " 4   WRK_HOME                  24120 non-null  int64            \n",
      " 5   WKFTPT                    24120 non-null  int64            \n",
      " 6   OCCAT                     24120 non-null  int64            \n",
      " 7   DRIVER                    24120 non-null  int64            \n",
      " 8   TRAVDAY                   24120 non-null  int64            \n",
      " 9   DISTTOWK17                24120 non-null  float64          \n",
      " 10  DISTTOSC17                24120 non-null  float64          \n",
      " 11  dist_to_work              6726 non-null   interval[float64]\n",
      " 12  dist_to_shopping          8078 non-null   interval[float64]\n",
      " 13  dist_to_family            6260 non-null   interval[float64]\n",
      " 14  dist_to_school_or_church  3122 non-null   interval[float64]\n",
      " 15  dist_to_relatives         3107 non-null   interval[float64]\n",
      " 16  dist_to_social            8451 non-null   interval[float64]\n",
      " 17  HH_CBSA                   24120 non-null  object           \n",
      " 18  HOMEOWN                   24120 non-null  int64            \n",
      " 19  HHSIZE                    24120 non-null  int64            \n",
      " 20  HHVEHCNT                  24120 non-null  int64            \n",
      " 21  HHFAMINC                  24120 non-null  int64            \n",
      " 22  NUMADLT                   24120 non-null  int64            \n",
      " 23  YOUNGCHILD                24120 non-null  int64            \n",
      " 24  WRKCOUNT                  24120 non-null  int64            \n",
      " 25  MSACAT                    24120 non-null  int64            \n",
      " 26  MSASIZE                   24120 non-null  int64            \n",
      " 27  URBAN                     24120 non-null  int64            \n",
      " 28  URBANSIZE                 24120 non-null  int64            \n",
      " 29  URBRUR                    24120 non-null  int64            \n",
      " 30  LIF_CYC                   24120 non-null  int64            \n",
      "dtypes: float64(2), int64(22), interval(6), object(1)\n",
      "memory usage: 7.0+ MB\n"
     ]
    }
   ],
   "source": [
    "x_train.info()"
   ]
  },
  {
   "cell_type": "code",
   "execution_count": 44,
   "metadata": {},
   "outputs": [
    {
     "data": {
      "text/plain": [
       "<matplotlib.axes._subplots.AxesSubplot at 0x18aed26f4c8>"
      ]
     },
     "execution_count": 44,
     "metadata": {},
     "output_type": "execute_result"
    },
    {
     "data": {
      "image/png": "[encoded data removed]",
      "text/plain": [
       "<Figure size 432x288 with 1 Axes>"
      ]
     },
     "metadata": {
      "needs_background": "light"
     },
     "output_type": "display_data"
    }
   ],
   "source": [
    "sns.histplot(y_train)"
   ]
  },
  {
   "cell_type": "markdown",
   "metadata": {},
   "source": [
    "### 2.2. Feature Engineering"
   ]
  },
  {
   "cell_type": "markdown",
   "metadata": {},
   "source": [
    "#### Age (R_AGE)"
   ]
  },
  {
   "cell_type": "code",
   "execution_count": 45,
   "metadata": {},
   "outputs": [
    {
     "name": "stdout",
     "output_type": "stream",
     "text": [
      "59 count of people with no age.  0.0002762702755890612 %.\n"
     ]
    },
    {
     "data": {
      "image/png": "[encoded data removed]",
      "text/plain": [
       "<Figure size 432x288 with 1 Axes>"
      ]
     },
     "metadata": {
      "needs_background": "light"
     },
     "output_type": "display_data"
    }
   ],
   "source": [
    "print(str(sum(x_train['R_AGE']<0)), \"count of people with no age. \",str(sum(nyorker['R_AGE']<0)/person.shape[0]),\"%.\")\n",
    "\n",
    "sns.histplot(x_train['R_AGE'])\n",
    "\n",
    "# impute missing values (<0) with mean age\n",
    "mean_age = round(x_train['R_AGE'][x_train['R_AGE']>0].mean())\n",
    "x_train['R_AGE'][x_train['R_AGE']<0] = mean_age\n",
    "x_test['R_AGE'][x_test['R_AGE']<0] = mean_age"
   ]
  },
  {
   "cell_type": "code",
   "execution_count": 46,
   "metadata": {},
   "outputs": [],
   "source": [
    "x_train['AGE_bins']= 'NA'\n",
    "x_train.loc[x_train['R_AGE'].between(5,15,inclusive = True), 'AGE_bins'] = \"5_to_15\"\n",
    "x_train.loc[x_train['R_AGE'].between(16,25,inclusive = True), 'AGE_bins'] = \"16_to_25\"\n",
    "x_train.loc[x_train['R_AGE'].between(26,35,inclusive = True), 'AGE_bins'] = \"26_to_35\"\n",
    "x_train.loc[x_train['R_AGE'].between(36,45,inclusive = True), 'AGE_bins'] = \"36_to_45\"\n",
    "x_train.loc[x_train['R_AGE'].between(46,55,inclusive = True), 'AGE_bins'] = \"46_to_55\"\n",
    "x_train.loc[x_train['R_AGE'].between(56,65,inclusive = True), 'AGE_bins'] = \"56_to_65\"\n",
    "x_train.loc[x_train['R_AGE'].between(66,75,inclusive = True), 'AGE_bins'] = \"66_to_75\"\n",
    "x_train.loc[x_train['R_AGE']>75, 'AGE_bins'] = \"more_than_75\"\n",
    "\n",
    "x_test['AGE_bins']= 'NA'\n",
    "x_test.loc[x_test['R_AGE'].between(5,15,inclusive = True), 'AGE_bins'] = \"5_to_15\"\n",
    "x_test.loc[x_test['R_AGE'].between(16,25,inclusive = True), 'AGE_bins'] = \"16_to_25\"\n",
    "x_test.loc[x_test['R_AGE'].between(26,35,inclusive = True), 'AGE_bins'] = \"26_to_35\"\n",
    "x_test.loc[x_test['R_AGE'].between(36,45,inclusive = True), 'AGE_bins'] = \"36_to_45\"\n",
    "x_test.loc[x_test['R_AGE'].between(46,55,inclusive = True), 'AGE_bins'] = \"46_to_55\"\n",
    "x_test.loc[x_test['R_AGE'].between(56,65,inclusive = True), 'AGE_bins'] = \"56_to_65\"\n",
    "x_test.loc[x_test['R_AGE'].between(66,75,inclusive = True), 'AGE_bins'] = \"66_to_75\"\n",
    "x_test.loc[x_test['R_AGE']>75, 'AGE_bins'] = \"more_than_75\"\n"
   ]
  },
  {
   "cell_type": "code",
   "execution_count": 47,
   "metadata": {},
   "outputs": [
    {
     "name": "stdout",
     "output_type": "stream",
     "text": [
      "              counts  percentage\n",
      "56_to_65        5199   21.554726\n",
      "66_to_75        4137   17.151741\n",
      "46_to_55        3542   14.684909\n",
      "5_to_15         2414   10.008292\n",
      "26_to_35        2328    9.651741\n",
      "36_to_45        2313    9.589552\n",
      "more_than_75    2237    9.274461\n",
      "16_to_25        1950    8.084577\n"
     ]
    },
    {
     "data": {
      "image/png": "[encoded data removed]",
      "text/plain": [
       "<Figure size 432x288 with 1 Axes>"
      ]
     },
     "metadata": {
      "needs_background": "light"
     },
     "output_type": "display_data"
    }
   ],
   "source": [
    "cat_col_prop(x_train,'AGE_bins')"
   ]
  },
  {
   "cell_type": "markdown",
   "metadata": {},
   "source": [
    "#### Educational Attainment (EDUC)"
   ]
  },
  {
   "cell_type": "code",
   "execution_count": 48,
   "metadata": {},
   "outputs": [
    {
     "name": "stdout",
     "output_type": "stream",
     "text": [
      "    counts  percentage\n",
      " 3    5970   24.751244\n",
      " 5    5211   21.604478\n",
      " 2    4764   19.751244\n",
      " 4    4610   19.112769\n",
      "-1    1928    7.993367\n",
      " 1    1622    6.724710\n",
      "-7       9    0.037313\n",
      "-8       6    0.024876\n"
     ]
    },
    {
     "data": {
      "image/png": "[encoded data removed]",
      "text/plain": [
       "<Figure size 432x288 with 1 Axes>"
      ]
     },
     "metadata": {
      "needs_background": "light"
     },
     "output_type": "display_data"
    }
   ],
   "source": [
    "cat_col_prop(x_train,'EDUC')\n",
    "# approx 8% missing values (<0). To take note of but will addresss in one-hot encoding"
   ]
  },
  {
   "cell_type": "markdown",
   "metadata": {},
   "source": [
    "#### Race (R_RACE)"
   ]
  },
  {
   "cell_type": "code",
   "execution_count": 49,
   "metadata": {},
   "outputs": [
    {
     "name": "stdout",
     "output_type": "stream",
     "text": [
      "     counts  percentage\n",
      " 1    21536   89.286899\n",
      " 3      787    3.262852\n",
      " 2      770    3.192371\n",
      " 6      518    2.147595\n",
      " 97     308    1.276949\n",
      "-7      116    0.480929\n",
      " 4       55    0.228027\n",
      " 5       18    0.074627\n",
      "-8       12    0.049751\n"
     ]
    },
    {
     "data": {
      "image/png": "[encoded data removed]",
      "text/plain": [
       "<Figure size 432x288 with 1 Axes>"
      ]
     },
     "metadata": {
      "needs_background": "light"
     },
     "output_type": "display_data"
    }
   ],
   "source": [
    "cat_col_prop(x_train,'R_RACE')\n",
    "# approx 1% missing values (<0). To take note of but will address in one-hot encoding\n",
    "# Significant proportion of members 'white'"
   ]
  },
  {
   "cell_type": "markdown",
   "metadata": {},
   "source": [
    "#### Gender (R_SEX)"
   ]
  },
  {
   "cell_type": "code",
   "execution_count": 50,
   "metadata": {},
   "outputs": [
    {
     "name": "stdout",
     "output_type": "stream",
     "text": [
      "    counts  percentage\n",
      " 2   12603   52.251244\n",
      " 1   11496   47.661692\n",
      "-7      17    0.070481\n",
      "-8       4    0.016584\n"
     ]
    },
    {
     "data": {
      "image/png": "[encoded data removed]",
      "text/plain": [
       "<Figure size 432x288 with 1 Axes>"
      ]
     },
     "metadata": {
      "needs_background": "light"
     },
     "output_type": "display_data"
    }
   ],
   "source": [
    "cat_col_prop(x_train, 'R_SEX')\n",
    "# <1% missing values. To take note but will be addressed in one-hot encoding"
   ]
  },
  {
   "cell_type": "markdown",
   "metadata": {},
   "source": [
    "#### Work From Home (WRK_HOME)"
   ]
  },
  {
   "cell_type": "code",
   "execution_count": 51,
   "metadata": {},
   "outputs": [
    {
     "name": "stdout",
     "output_type": "stream",
     "text": [
      "    counts  percentage\n",
      "-1   12108   50.199005\n",
      " 2   10277   42.607794\n",
      " 1    1282    5.315091\n",
      "-9     452    1.873964\n",
      "-7       1    0.004146\n"
     ]
    },
    {
     "data": {
      "image/png": "[encoded data removed]",
      "text/plain": [
       "<Figure size 432x288 with 1 Axes>"
      ]
     },
     "metadata": {
      "needs_background": "light"
     },
     "output_type": "display_data"
    }
   ],
   "source": [
    "cat_col_prop(x_train,'WRK_HOME')\n",
    "# Significant proportion -1 (50%) which is the appropriate skip (due to not working) - to address in one-hot"
   ]
  },
  {
   "cell_type": "markdown",
   "metadata": {},
   "source": [
    "#### Work - Part Time or Full Time (WKFTPT)"
   ]
  },
  {
   "cell_type": "code",
   "execution_count": 52,
   "metadata": {},
   "outputs": [
    {
     "name": "stdout",
     "output_type": "stream",
     "text": [
      "    counts  percentage\n",
      "-1   12560   52.072968\n",
      " 1    8975   37.209784\n",
      " 2    2581   10.700663\n",
      "-7       3    0.012438\n",
      "-8       1    0.004146\n"
     ]
    },
    {
     "data": {
      "image/png": "[encoded data removed]",
      "text/plain": [
       "<Figure size 432x288 with 1 Axes>"
      ]
     },
     "metadata": {
      "needs_background": "light"
     },
     "output_type": "display_data"
    }
   ],
   "source": [
    "cat_col_prop(x_train,'WKFTPT')\n",
    "# Significant proportion -1 (52%) which is the appropriate skip (due to not working) - to address in one-hot"
   ]
  },
  {
   "cell_type": "markdown",
   "metadata": {},
   "source": [
    "#### Job Category (OCCAT)"
   ]
  },
  {
   "cell_type": "code",
   "execution_count": 53,
   "metadata": {},
   "outputs": [
    {
     "name": "stdout",
     "output_type": "stream",
     "text": [
      "     counts  percentage\n",
      "-1    12108   50.199005\n",
      " 4     6329   26.239635\n",
      " 1     2432   10.082919\n",
      " 3     1423    5.899668\n",
      " 2     1354    5.613599\n",
      "-9      452    1.873964\n",
      " 97      15    0.062189\n",
      "-8        5    0.020730\n",
      "-7        2    0.008292\n"
     ]
    },
    {
     "data": {
      "image/png": "[encoded data removed]",
      "text/plain": [
       "<Figure size 432x288 with 1 Axes>"
      ]
     },
     "metadata": {
      "needs_background": "light"
     },
     "output_type": "display_data"
    }
   ],
   "source": [
    "cat_col_prop(x_train,'OCCAT')\n",
    "# Significant proportion -1 (50%) which is the appropriate skip (due to not working) - to address in one-hot"
   ]
  },
  {
   "cell_type": "markdown",
   "metadata": {},
   "source": [
    "#### Driver Status (DRIVER)"
   ]
  },
  {
   "cell_type": "code",
   "execution_count": 54,
   "metadata": {},
   "outputs": [
    {
     "name": "stdout",
     "output_type": "stream",
     "text": [
      "    counts  percentage\n",
      " 1   20240   83.913765\n",
      "-1    2181    9.042289\n",
      " 2    1699    7.043947\n"
     ]
    },
    {
     "data": {
      "image/png": "[encoded data removed]",
      "text/plain": [
       "<Figure size 432x288 with 1 Axes>"
      ]
     },
     "metadata": {
      "needs_background": "light"
     },
     "output_type": "display_data"
    }
   ],
   "source": [
    "cat_col_prop(x_train,'DRIVER')\n",
    "\n",
    "#Significant proportion -1 (8.7%) (due to too young) - to address in one-hot encoding\n",
    "#sns.boxplot(data = x_train, x='DRIVER',y='AGE_bins')"
   ]
  },
  {
   "cell_type": "markdown",
   "metadata": {},
   "source": [
    "#### Distance to Work"
   ]
  },
  {
   "cell_type": "code",
   "execution_count": 55,
   "metadata": {},
   "outputs": [
    {
     "data": {
      "text/plain": [
       "7436                   (6.89, 12.302]\n",
       "26206                    (3.12, 6.89]\n",
       "12559                  (6.89, 12.302]\n",
       "17206                    (3.12, 6.89]\n",
       "18789    (0.009000000000000001, 3.12]\n",
       "                     ...             \n",
       "19447                    (3.12, 6.89]\n",
       "25328                    (3.12, 6.89]\n",
       "17769                    (3.12, 6.89]\n",
       "5456                   (6.89, 12.302]\n",
       "15324    (0.009000000000000001, 3.12]\n",
       "Name: DISTTOWK17, Length: 10223, dtype: category\n",
       "Categories (5, interval[float64]): [(0.009000000000000001, 3.12] < (3.12, 6.89] < (6.89, 12.302] < (12.302, 22.27] < (22.27, 2919.7]]"
      ]
     },
     "execution_count": 55,
     "metadata": {},
     "output_type": "execute_result"
    }
   ],
   "source": [
    "#To Bin Non zeros\n",
    "#sns.histplot(x_train['DISTTOWK17'])\n",
    "pd.qcut(x_train['DISTTOWK17'][x_train['DISTTOWK17']>0],5)"
   ]
  },
  {
   "cell_type": "code",
   "execution_count": 56,
   "metadata": {},
   "outputs": [
    {
     "name": "stdout",
     "output_type": "stream",
     "text": [
      "                   counts  percentage\n",
      "NA                  13897   57.616086\n",
      "DISTTOWK_3_to_7      2180    9.038143\n",
      "DISTTOWK_12_to_22    2093    8.677446\n",
      "DISTTOWK_above_22    2088    8.656716\n",
      "DISTTOWK_0_to_3      1962    8.134328\n",
      "DISTTOWK_7_to_12     1900    7.877280\n"
     ]
    },
    {
     "data": {
      "image/png": "[encoded data removed]",
      "text/plain": [
       "<Figure size 432x288 with 1 Axes>"
      ]
     },
     "metadata": {
      "needs_background": "light"
     },
     "output_type": "display_data"
    }
   ],
   "source": [
    "x_train['DISTTOWK'] = 'NA'\n",
    "x_train.loc[x_train['DISTTOWK17']==0, 'DISTTOWK'] = 'NA'\n",
    "x_train.loc[x_train['DISTTOWK17']==-9, 'DISTTOWK'] = 'NA'\n",
    "x_train.loc[x_train['DISTTOWK17'].between(.009000000000000000,3,inclusive = True),'DISTTOWK'] = 'DISTTOWK_0_to_3'\n",
    "x_train.loc[x_train['DISTTOWK17'].between(3,7, inclusive = True),'DISTTOWK'] = 'DISTTOWK_3_to_7'\n",
    "x_train.loc[x_train['DISTTOWK17'].between(7,12, inclusive = True),'DISTTOWK'] = 'DISTTOWK_7_to_12'\n",
    "x_train.loc[x_train['DISTTOWK17'].between(12,22, inclusive = True),'DISTTOWK'] = 'DISTTOWK_12_to_22'\n",
    "x_train.loc[x_train['DISTTOWK17']>22,'DISTTOWK'] = 'DISTTOWK_above_22'\n",
    "cat_col_prop(x_train,'DISTTOWK')\n",
    "x_train.drop(['DISTTOWK17'],axis=1, inplace = True)\n",
    "\n",
    "x_test['DISTTOWK'] = 'NA'\n",
    "x_test.loc[x_test['DISTTOWK17']==0, 'DISTTOWK'] = 'NA'\n",
    "x_test.loc[x_test['DISTTOWK17']==-9, 'DISTTOWK'] = 'NA'\n",
    "x_test.loc[x_test['DISTTOWK17'].between(.009000000000000000,3,inclusive = True),'DISTTOWK'] = 'DISTTOWK_0_to_3'\n",
    "x_test.loc[x_test['DISTTOWK17'].between(3,7, inclusive = True),'DISTTOWK'] = 'DISTTOWK_3_to_7'\n",
    "x_test.loc[x_test['DISTTOWK17'].between(7,12, inclusive = True),'DISTTOWK'] = 'DISTTOWK_7_to_12'\n",
    "x_test.loc[x_test['DISTTOWK17'].between(12,22, inclusive = True),'DISTTOWK'] = 'DISTTOWK_12_to_22'\n",
    "x_test.loc[x_test['DISTTOWK17']>22,'DISTTOWK'] = 'DISTTOWK_above_22'\n",
    "x_test.drop(['DISTTOWK17'],axis=1, inplace = True)"
   ]
  },
  {
   "cell_type": "markdown",
   "metadata": {},
   "source": [
    "#### Distance to School"
   ]
  },
  {
   "cell_type": "code",
   "execution_count": 57,
   "metadata": {},
   "outputs": [
    {
     "data": {
      "text/plain": [
       "7420     (0.009000000000000001, 2.81]\n",
       "7678     (0.009000000000000001, 2.81]\n",
       "6543                  (2.81, 2784.08]\n",
       "30559                 (2.81, 2784.08]\n",
       "20075    (0.009000000000000001, 2.81]\n",
       "                     ...             \n",
       "673      (0.009000000000000001, 2.81]\n",
       "5423     (0.009000000000000001, 2.81]\n",
       "17111    (0.009000000000000001, 2.81]\n",
       "23385    (0.009000000000000001, 2.81]\n",
       "11121                 (2.81, 2784.08]\n",
       "Name: DISTTOSC17, Length: 2729, dtype: category\n",
       "Categories (2, interval[float64]): [(0.009000000000000001, 2.81] < (2.81, 2784.08]]"
      ]
     },
     "execution_count": 57,
     "metadata": {},
     "output_type": "execute_result"
    }
   ],
   "source": [
    "pd.qcut(x_train['DISTTOSC17'][x_train['DISTTOSC17']>0],2)"
   ]
  },
  {
   "cell_type": "code",
   "execution_count": 58,
   "metadata": {},
   "outputs": [
    {
     "name": "stdout",
     "output_type": "stream",
     "text": [
      "                  counts  percentage\n",
      "NA                 21391   88.685738\n",
      "DISTTOSC_under_3    1428    5.920398\n",
      "DISTTOSC_above_3    1301    5.393864\n"
     ]
    },
    {
     "data": {
      "image/png": "[encoded data removed]",
      "text/plain": [
       "<Figure size 432x288 with 1 Axes>"
      ]
     },
     "metadata": {
      "needs_background": "light"
     },
     "output_type": "display_data"
    }
   ],
   "source": [
    "x_train['DISTTOSC'] = 'NA'\n",
    "x_train.loc[x_train['DISTTOSC17']<=0, 'DISTTOSC'] = 'NA'\n",
    "x_train.loc[x_train['DISTTOSC17'].between(.008,3,inclusive = True),'DISTTOSC'] = 'DISTTOSC_under_3'\n",
    "x_train.loc[x_train['DISTTOSC17']>3,'DISTTOSC'] = 'DISTTOSC_above_3'\n",
    "cat_col_prop(x_train,'DISTTOSC')\n",
    "x_train.drop(['DISTTOSC17'],axis=1, inplace = True)\n",
    "\n",
    "\n",
    "x_test['DISTTOSC'] = 'NA'\n",
    "x_test.loc[x_test['DISTTOSC17']<=0, 'DISTTOSC'] = 'NA'\n",
    "x_test.loc[x_test['DISTTOSC17'].between(.008,3,inclusive = True),'DISTTOSC'] = 'DISTTOSC_under_3'\n",
    "x_test.loc[x_test['DISTTOSC17']>3,'DISTTOSC'] = 'DISTTOSC_above_3'\n",
    "x_test.drop(['DISTTOSC17'],axis=1, inplace = True)"
   ]
  },
  {
   "cell_type": "markdown",
   "metadata": {},
   "source": [
    "#### Travel Day (TRAVDAY)"
   ]
  },
  {
   "cell_type": "code",
   "execution_count": 59,
   "metadata": {},
   "outputs": [
    {
     "name": "stdout",
     "output_type": "stream",
     "text": [
      "   counts  percentage\n",
      "1    3620   15.008292\n",
      "2    3548   14.709784\n",
      "7    3460   14.344942\n",
      "6    3427   14.208126\n",
      "5    3408   14.129353\n",
      "3    3355   13.909619\n",
      "4    3302   13.689884\n"
     ]
    },
    {
     "data": {
      "image/png": "[encoded data removed]",
      "text/plain": [
       "<Figure size 432x288 with 1 Axes>"
      ]
     },
     "metadata": {
      "needs_background": "light"
     },
     "output_type": "display_data"
    }
   ],
   "source": [
    "cat_col_prop(x_train,'TRAVDAY')"
   ]
  },
  {
   "cell_type": "markdown",
   "metadata": {},
   "source": [
    "#### Core Based Statiscal Area FIPS code (HH_CBSA)"
   ]
  },
  {
   "cell_type": "code",
   "execution_count": 60,
   "metadata": {},
   "outputs": [
    {
     "name": "stdout",
     "output_type": "stream",
     "text": [
      "       counts  percentage\n",
      "XXXXX   14272   59.170813\n",
      "35620    7306   30.290216\n",
      "40380    1365    5.659204\n",
      "15380    1177    4.879768\n"
     ]
    },
    {
     "data": {
      "image/png": "[encoded data removed]",
      "text/plain": [
       "<Figure size 432x288 with 1 Axes>"
      ]
     },
     "metadata": {
      "needs_background": "light"
     },
     "output_type": "display_data"
    }
   ],
   "source": [
    "#Core Based Statistical Area (CBSA) FIPS code for the respondent's home address\n",
    "\n",
    "cat_col_prop(x_train,'HH_CBSA')\n",
    "\n",
    "# significant number of households under the 'XXXXX=Suppressed, in an MSA of less than 1 million ' category"
   ]
  },
  {
   "cell_type": "markdown",
   "metadata": {},
   "source": [
    "####  Home Ownership (HOMEOWN)"
   ]
  },
  {
   "cell_type": "code",
   "execution_count": 61,
   "metadata": {},
   "outputs": [
    {
     "name": "stdout",
     "output_type": "stream",
     "text": [
      "     counts  percentage\n",
      " 1    20319   84.241294\n",
      " 2     3622   15.016584\n",
      " 97     176    0.729685\n",
      "-7        3    0.012438\n"
     ]
    },
    {
     "data": {
      "image/png": "[encoded data removed]",
      "text/plain": [
       "<Figure size 432x288 with 1 Axes>"
      ]
     },
     "metadata": {
      "needs_background": "light"
     },
     "output_type": "display_data"
    }
   ],
   "source": [
    "cat_col_prop(x_train,'HOMEOWN')\n",
    "#Small count with missing value 2. to address in one-hot encoding"
   ]
  },
  {
   "cell_type": "markdown",
   "metadata": {},
   "source": [
    "#### Household Vehicle Count (HHVEHCNT)"
   ]
  },
  {
   "cell_type": "code",
   "execution_count": 62,
   "metadata": {},
   "outputs": [
    {
     "name": "stdout",
     "output_type": "stream",
     "text": [
      "    counts  percentage\n",
      "2    10752   44.577114\n",
      "1     6353   26.339138\n",
      "3     4362   18.084577\n",
      "4     1699    7.043947\n",
      "5      617    2.558043\n",
      "6      221    0.916252\n",
      "7       77    0.319237\n",
      "8       21    0.087065\n",
      "11      11    0.045605\n",
      "9        5    0.020730\n",
      "12       2    0.008292\n",
      "________\n",
      "new HHVEHCNT\n",
      "    counts  percentage\n",
      "2    10752   44.577114\n",
      "1     6353   26.339138\n",
      "3     4362   18.084577\n",
      ">3    2653   10.999171\n"
     ]
    },
    {
     "data": {
      "image/png": "[encoded data removed]",
      "text/plain": [
       "<Figure size 432x288 with 1 Axes>"
      ]
     },
     "metadata": {
      "needs_background": "light"
     },
     "output_type": "display_data"
    }
   ],
   "source": [
    "#count of household vehicles\n",
    "\n",
    "cat_col_prop(x_train,'HHVEHCNT')\n",
    "\n",
    "# as group size significantly smaller from 4 and above to bin to a single group\n",
    "\n",
    "x_train['HHVEHCNT'][x_train['HHVEHCNT']>3] = \">3\"\n",
    "x_test['HHVEHCNT'][x_test['HHVEHCNT']>3] = \">3\"\n",
    "\n",
    "print(\"________\")\n",
    "print(\"new HHVEHCNT\")\n",
    "print(pd.concat([x_train['HHVEHCNT'].value_counts(),\n",
    "          x_train['HHVEHCNT'].value_counts(normalize = True).mul(100)],axis = 1, keys = ('counts','percentage'))\n",
    "    )"
   ]
  },
  {
   "cell_type": "markdown",
   "metadata": {},
   "source": [
    "#### Family Income (HHFAMINC)"
   ]
  },
  {
   "cell_type": "code",
   "execution_count": 63,
   "metadata": {},
   "outputs": [
    {
     "name": "stdout",
     "output_type": "stream",
     "text": [
      "     counts  percentage\n",
      " 6     4299   17.823383\n",
      " 7     3605   14.946103\n",
      " 8     2962   12.280265\n",
      " 5     2608   10.812604\n",
      " 4     1859    7.707297\n",
      " 9     1764    7.313433\n",
      " 11    1704    7.064677\n",
      " 10    1676    6.948590\n",
      " 3     1561    6.471808\n",
      " 2      746    3.092869\n",
      "-7      714    2.960199\n",
      " 1      516    2.139303\n",
      "-8      104    0.431177\n",
      "-9        2    0.008292\n"
     ]
    },
    {
     "data": {
      "image/png": "[encoded data removed]",
      "text/plain": [
       "<Figure size 432x288 with 1 Axes>"
      ]
     },
     "metadata": {
      "needs_background": "light"
     },
     "output_type": "display_data"
    }
   ],
   "source": [
    "cat_col_prop(x_train,'HHFAMINC')\n",
    "# approx 3% missing (<0) to address in one-hot encoding"
   ]
  },
  {
   "cell_type": "markdown",
   "metadata": {},
   "source": [
    "#### Adult Ratio  (NUMADLT)"
   ]
  },
  {
   "cell_type": "code",
   "execution_count": 64,
   "metadata": {},
   "outputs": [
    {
     "name": "stdout",
     "output_type": "stream",
     "text": [
      "    counts  percentage\n",
      "2    15351   63.644279\n",
      "1     4041   16.753731\n",
      "3     3270   13.557214\n",
      "4     1137    4.713930\n",
      "5      258    1.069652\n",
      "6       36    0.149254\n",
      "7       13    0.053897\n",
      "10       8    0.033167\n",
      "8        6    0.024876\n"
     ]
    },
    {
     "data": {
      "image/png": "[encoded data removed]",
      "text/plain": [
       "<Figure size 432x288 with 1 Axes>"
      ]
     },
     "metadata": {
      "needs_background": "light"
     },
     "output_type": "display_data"
    }
   ],
   "source": [
    "cat_col_prop(x_train, 'NUMADLT')\n",
    "#no missing values"
   ]
  },
  {
   "cell_type": "code",
   "execution_count": 65,
   "metadata": {},
   "outputs": [
    {
     "name": "stdout",
     "output_type": "stream",
     "text": [
      "Before\n",
      "          counts  percentage\n",
      "1.000000   16710   69.278607\n",
      "0.500000    2674   11.086235\n",
      "0.666667    1829    7.582919\n",
      "0.400000     835    3.461857\n",
      "0.750000     629    2.607794\n",
      "0.333333     496    2.056385\n",
      "0.600000     329    1.364013\n",
      "0.800000     194    0.804312\n",
      "0.250000      84    0.348259\n",
      "0.285714      78    0.323383\n",
      "0.714286      43    0.178275\n",
      "0.428571      42    0.174129\n",
      "0.833333      39    0.161692\n",
      "0.571429      33    0.136816\n",
      "0.375000      19    0.078773\n",
      "0.200000      15    0.062189\n",
      "0.222222      14    0.058043\n",
      "0.444444      12    0.049751\n",
      "0.625000      11    0.045605\n",
      "0.166667      10    0.041459\n",
      "0.700000       7    0.029022\n",
      "0.857143       6    0.024876\n",
      "0.142857       6    0.024876\n",
      "0.363636       5    0.020730\n",
      "\n",
      "After\n",
      "               counts  percentage\n",
      "1               16710   69.278607\n",
      "more_than_0.5    5794   24.021559\n",
      "less_than_0.5    1616    6.699834\n"
     ]
    },
    {
     "data": {
      "image/png": "[encoded data removed]",
      "text/plain": [
       "<Figure size 432x288 with 1 Axes>"
      ]
     },
     "metadata": {
      "needs_background": "light"
     },
     "output_type": "display_data"
    }
   ],
   "source": [
    "#Convert against proportion of Household size\n",
    "x_train['NUMADLT'] = x_train['NUMADLT']/x_train['HHSIZE']\n",
    "x_test['NUMADLT'] = x_test['NUMADLT']/x_test['HHSIZE']\n",
    "print('Before')\n",
    "cat_col_prop(x_train,'NUMADLT')\n",
    "#significant number of varying factors\n",
    "#to bin into groups\n",
    "x_train['NUMADLT_ratio'] = 'NA'\n",
    "x_train.loc[x_train['NUMADLT']==0, 'NUMADLT_ratio'] = '0'\n",
    "x_train.loc[x_train['NUMADLT'].between(0,0.5,inclusive = False),'NUMADLT_ratio'] = 'less_than_0.5'\n",
    "x_train.loc[x_train['NUMADLT'].between(0.5,1, inclusive = True),'NUMADLT_ratio'] = 'more_than_0.5'\n",
    "x_train.loc[x_train['NUMADLT']==1,'NUMADLT_ratio'] ='1'\n",
    "print('')\n",
    "print('After')\n",
    "cat_col_prop(x_train,'NUMADLT_ratio')\n",
    "\n",
    "\n",
    "x_test['NUMADLT_ratio'] = 'NA'\n",
    "x_test.loc[x_test['NUMADLT']==0, 'NUMADLT_ratio'] = '0'\n",
    "x_test.loc[x_test['NUMADLT'].between(0,0.5,inclusive = False),'NUMADLT_ratio'] = 'less_than_0.5'\n",
    "x_test.loc[x_test['NUMADLT'].between(0.5,1, inclusive = True),'NUMADLT_ratio'] = 'more_than_0.5'\n",
    "x_test.loc[x_test['NUMADLT']==1,'NUMADLT_ratio'] ='1'"
   ]
  },
  {
   "cell_type": "markdown",
   "metadata": {},
   "source": [
    "#### Young Child Ratio (YOUNGCHILD)"
   ]
  },
  {
   "cell_type": "code",
   "execution_count": 66,
   "metadata": {},
   "outputs": [
    {
     "name": "stdout",
     "output_type": "stream",
     "text": [
      "   counts  percentage\n",
      "0   21994   91.185738\n",
      "1    1579    6.546434\n",
      "2     496    2.056385\n",
      "3      44    0.182421\n",
      "5       5    0.020730\n",
      "4       2    0.008292\n"
     ]
    },
    {
     "data": {
      "image/png": "[encoded data removed]",
      "text/plain": [
       "<Figure size 432x288 with 1 Axes>"
      ]
     },
     "metadata": {
      "needs_background": "light"
     },
     "output_type": "display_data"
    }
   ],
   "source": [
    "cat_col_prop(x_train,'YOUNGCHILD')"
   ]
  },
  {
   "cell_type": "code",
   "execution_count": 67,
   "metadata": {},
   "outputs": [
    {
     "name": "stdout",
     "output_type": "stream",
     "text": [
      "               counts  percentage\n",
      "0               21994   91.185738\n",
      "less_than_0.5    1825    7.566335\n",
      "more_than_0.5     301    1.247927\n"
     ]
    },
    {
     "data": {
      "image/png": "[encoded data removed]",
      "text/plain": [
       "<Figure size 432x288 with 1 Axes>"
      ]
     },
     "metadata": {
      "needs_background": "light"
     },
     "output_type": "display_data"
    }
   ],
   "source": [
    "#Convert against proportion of Household size\n",
    "\n",
    "x_train['YOUNGCHILD'] = x_train['YOUNGCHILD']/x_train['HHSIZE']\n",
    "x_test['YOUNGCHILD'] = x_test['YOUNGCHILD']/x_test['HHSIZE']\n",
    "\n",
    "#Bin to groups\n",
    "x_train['YOUNGCHILD_ratio'] = 'NA'\n",
    "x_train.loc[x_train['YOUNGCHILD']==0,'YOUNGCHILD_ratio']= '0'\n",
    "x_train.loc[x_train['YOUNGCHILD'].between(0,0.5,inclusive = False),'YOUNGCHILD_ratio'] = 'less_than_0.5'\n",
    "x_train.loc[x_train['YOUNGCHILD'].between(0.5,1, inclusive = True),'YOUNGCHILD_ratio'] = 'more_than_0.5'\n",
    "x_train.loc[x_train['YOUNGCHILD']==1,'YOUNGCHILD_ratio'] ='1'\n",
    " \n",
    "\n",
    "cat_col_prop(x_train,'YOUNGCHILD_ratio')    \n",
    "\n",
    "x_test['YOUNGCHILD_ratio'] = 'NA'\n",
    "x_test.loc[x_test['YOUNGCHILD']==0,'YOUNGCHILD_ratio']= '0'\n",
    "x_test.loc[x_test['YOUNGCHILD'].between(0,0.5,inclusive = False),'YOUNGCHILD_ratio'] = 'less_than_0.5'\n",
    "x_test.loc[x_test['YOUNGCHILD'].between(0.5,1, inclusive = True),'YOUNGCHILD_ratio'] = 'more_than_0.5'\n",
    "x_test.loc[x_test['YOUNGCHILD']==1,'YOUNGCHILD_ratio'] ='1'\n",
    " \n"
   ]
  },
  {
   "cell_type": "markdown",
   "metadata": {},
   "source": [
    "#### Worker Count Proportion (WRKCOUNT)"
   ]
  },
  {
   "cell_type": "code",
   "execution_count": 68,
   "metadata": {},
   "outputs": [
    {
     "name": "stdout",
     "output_type": "stream",
     "text": [
      "   counts  percentage\n",
      "2    8295   34.390547\n",
      "1    7378   30.588723\n",
      "0    6333   26.256219\n",
      "3    1574    6.525705\n",
      "4     481    1.994196\n",
      "5      47    0.194859\n",
      "6       6    0.024876\n",
      "7       6    0.024876\n"
     ]
    },
    {
     "data": {
      "image/png": "[encoded data removed]",
      "text/plain": [
       "<Figure size 432x288 with 1 Axes>"
      ]
     },
     "metadata": {
      "needs_background": "light"
     },
     "output_type": "display_data"
    }
   ],
   "source": [
    "cat_col_prop(x_train,'WRKCOUNT')"
   ]
  },
  {
   "cell_type": "code",
   "execution_count": 69,
   "metadata": {},
   "outputs": [
    {
     "name": "stdout",
     "output_type": "stream",
     "text": [
      "               counts  percentage\n",
      "more_than_0.5    7994   33.142620\n",
      "0                6333   26.256219\n",
      "1                6006   24.900498\n",
      "less_than_0.5    3787   15.700663\n"
     ]
    },
    {
     "data": {
      "image/png": "[encoded data removed]",
      "text/plain": [
       "<Figure size 432x288 with 1 Axes>"
      ]
     },
     "metadata": {
      "needs_background": "light"
     },
     "output_type": "display_data"
    }
   ],
   "source": [
    "#Convert against proportion of Household size\n",
    "\n",
    "x_train['WRKCOUNT'] = x_train['WRKCOUNT']/x_train['HHSIZE']\n",
    "x_test['WRKCOUNT'] = x_test['WRKCOUNT']/x_test['HHSIZE']\n",
    "\n",
    "#Bin to groups\n",
    "x_train['WRKCOUNT_ratio'] = 'NA'\n",
    "x_train.loc[x_train['WRKCOUNT']==0,'WRKCOUNT_ratio']= '0'\n",
    "x_train.loc[x_train['WRKCOUNT'].between(0,0.5,inclusive = False),'WRKCOUNT_ratio'] = 'less_than_0.5'\n",
    "x_train.loc[x_train['WRKCOUNT'].between(0.5,1, inclusive = True),'WRKCOUNT_ratio'] = 'more_than_0.5'\n",
    "x_train.loc[x_train['WRKCOUNT']==1,'WRKCOUNT_ratio'] ='1'\n",
    "\n",
    "cat_col_prop(x_train,'WRKCOUNT_ratio')\n",
    "\n",
    "x_test['WRKCOUNT_ratio'] = 'NA'\n",
    "x_test.loc[x_test['WRKCOUNT']==0,'WRKCOUNT_ratio']= '0'\n",
    "x_test.loc[x_test['WRKCOUNT'].between(0,0.5,inclusive = False),'WRKCOUNT_ratio'] = 'less_than_0.5'\n",
    "x_test.loc[x_test['WRKCOUNT'].between(0.5,1, inclusive = True),'WRKCOUNT_ratio'] = 'more_than_0.5'\n",
    "x_test.loc[x_test['WRKCOUNT']==1,'WRKCOUNT_ratio'] ='1'\n",
    "\n",
    " "
   ]
  },
  {
   "cell_type": "markdown",
   "metadata": {},
   "source": [
    "#### Household Size (HHSIZE)"
   ]
  },
  {
   "cell_type": "code",
   "execution_count": 70,
   "metadata": {},
   "outputs": [
    {
     "name": "stdout",
     "output_type": "stream",
     "text": [
      "Before\n",
      "    counts  percentage\n",
      "2    10322   42.794362\n",
      "3     4130   17.122720\n",
      "4     3794   15.729685\n",
      "1     3482   14.436153\n",
      "5     1526    6.326700\n",
      "6      497    2.060531\n",
      "7      214    0.887231\n",
      "8       83    0.344113\n",
      "9       40    0.165837\n",
      "10      27    0.111940\n",
      "11       5    0.020730\n",
      "\n",
      "After\n",
      "         counts  percentage\n",
      "2         10322   42.794362\n",
      "above_3    6186   25.646766\n",
      "3          4130   17.122720\n",
      "1          3482   14.436153\n"
     ]
    },
    {
     "data": {
      "image/png": "[encoded data removed]",
      "text/plain": [
       "<Figure size 432x288 with 1 Axes>"
      ]
     },
     "metadata": {
      "needs_background": "light"
     },
     "output_type": "display_data"
    }
   ],
   "source": [
    "#count of household members\n",
    "print(\"Before\")\n",
    "cat_col_prop(x_train,'HHSIZE')\n",
    "\n",
    "# to bin tail HHSIZE\n",
    "\n",
    "x_train['HHSIZE'][x_train['HHSIZE']>3] = \"above_3\"\n",
    "\n",
    "print(\"\")\n",
    "print(\"After\")\n",
    "\n",
    "cat_col_prop(x_train,'HHSIZE')\n",
    "\n",
    "x_test['HHSIZE'][x_test['HHSIZE']>3] = \" above_3\""
   ]
  },
  {
   "cell_type": "markdown",
   "metadata": {},
   "source": [
    "#### Metropolitan Statistical Area (MSACAT)\n"
   ]
  },
  {
   "cell_type": "code",
   "execution_count": 71,
   "metadata": {},
   "outputs": [
    {
     "name": "stdout",
     "output_type": "stream",
     "text": [
      "   counts  percentage\n",
      "3   10347   42.898010\n",
      "1    7306   30.290216\n",
      "4    3925   16.272803\n",
      "2    2542   10.538972\n"
     ]
    },
    {
     "data": {
      "image/png": "[encoded data removed]",
      "text/plain": [
       "<Figure size 432x288 with 1 Axes>"
      ]
     },
     "metadata": {
      "needs_background": "light"
     },
     "output_type": "display_data"
    }
   ],
   "source": [
    "cat_col_prop(x_train,'MSACAT')\n",
    "             \n",
    "#no missing values and relatively proportional distribution"
   ]
  },
  {
   "cell_type": "markdown",
   "metadata": {},
   "source": [
    "#### Population size of MSA (MSASIZE)"
   ]
  },
  {
   "cell_type": "code",
   "execution_count": 72,
   "metadata": {},
   "outputs": [
    {
     "name": "stdout",
     "output_type": "stream",
     "text": [
      "   counts  percentage\n",
      "5    7306   30.290216\n",
      "1    6038   25.033167\n",
      "6    3925   16.272803\n",
      "3    3284   13.615257\n",
      "4    2542   10.538972\n",
      "2    1025    4.249585\n"
     ]
    },
    {
     "data": {
      "image/png": "[encoded data removed]",
      "text/plain": [
       "<Figure size 432x288 with 1 Axes>"
      ]
     },
     "metadata": {
      "needs_background": "light"
     },
     "output_type": "display_data"
    }
   ],
   "source": [
    "cat_col_prop(x_train,'MSASIZE')\n",
    "             \n",
    "#no missing values and relatively proportional distribution"
   ]
  },
  {
   "cell_type": "markdown",
   "metadata": {},
   "source": [
    "#### House in Urban or Rural Area (URBAN)"
   ]
  },
  {
   "cell_type": "code",
   "execution_count": 73,
   "metadata": {},
   "outputs": [
    {
     "name": "stdout",
     "output_type": "stream",
     "text": [
      "Before\n",
      "   counts  percentage\n",
      "1   13551   56.181592\n",
      "4    8248   34.195688\n",
      "2    2317    9.606136\n",
      "3       4    0.016584\n",
      "\n",
      "After\n",
      "       counts  percentage\n",
      "urban   15868   65.787728\n",
      "rural    8252   34.212272\n"
     ]
    },
    {
     "data": {
      "image/png": "[encoded data removed]",
      "text/plain": [
       "<Figure size 432x288 with 1 Axes>"
      ]
     },
     "metadata": {
      "needs_background": "light"
     },
     "output_type": "display_data"
    }
   ],
   "source": [
    "print('Before')\n",
    "cat_col_prop(x_train,'URBAN')\n",
    "\n",
    "# combine 1 and 2 (in an urban area and in an urban cluster ) & combine 3 and 4 (surround by urban and not in urban)\n",
    "\n",
    "x_train['URBAN'][x_train['URBAN'].isin([1,2])] = 'urban'\n",
    "x_train['URBAN'][x_train['URBAN'].isin([3,4])] = 'rural'\n",
    "\n",
    "print(\"\")\n",
    "print('After')\n",
    "\n",
    "cat_col_prop(x_train, 'URBAN')\n",
    "\n",
    "x_test['URBAN'][x_test['URBAN'].isin([1,2])] = 'urban'\n",
    "x_test['URBAN'][x_test['URBAN'].isin([3,4])] = 'rural'"
   ]
  },
  {
   "cell_type": "markdown",
   "metadata": {},
   "source": [
    "#### URBANSIZE"
   ]
  },
  {
   "cell_type": "code",
   "execution_count": 74,
   "metadata": {},
   "outputs": [
    {
     "name": "stdout",
     "output_type": "stream",
     "text": [
      "   counts  percentage\n",
      "6   10569   43.818408\n",
      "5    4724   19.585406\n",
      "1    3653   15.145108\n",
      "3    2702   11.202322\n",
      "2    2472   10.248756\n"
     ]
    },
    {
     "data": {
      "image/png": "[encoded data removed]",
      "text/plain": [
       "<Figure size 432x288 with 1 Axes>"
      ]
     },
     "metadata": {
      "needs_background": "light"
     },
     "output_type": "display_data"
    }
   ],
   "source": [
    "#06 = not in an urbanised area \n",
    "#05 - 1 million with heavy rail \n",
    "\n",
    "#Relatively proportional classes\n",
    "cat_col_prop(x_train,'URBANSIZE')"
   ]
  },
  {
   "cell_type": "markdown",
   "metadata": {},
   "source": [
    "#### URBRUR"
   ]
  },
  {
   "cell_type": "code",
   "execution_count": 75,
   "metadata": {},
   "outputs": [
    {
     "name": "stdout",
     "output_type": "stream",
     "text": [
      "   counts  percentage\n",
      "1   15868   65.787728\n",
      "2    8252   34.212272\n"
     ]
    },
    {
     "data": {
      "image/png": "[encoded data removed]",
      "text/plain": [
       "<Figure size 432x288 with 1 Axes>"
      ]
     },
     "metadata": {
      "needs_background": "light"
     },
     "output_type": "display_data"
    }
   ],
   "source": [
    "cat_col_prop(x_train,'URBRUR')\n",
    "# missing values nor disproportion"
   ]
  },
  {
   "cell_type": "markdown",
   "metadata": {},
   "source": [
    "#### LIF_CYC "
   ]
  },
  {
   "cell_type": "code",
   "execution_count": 76,
   "metadata": {},
   "outputs": [
    {
     "name": "stdout",
     "output_type": "stream",
     "text": [
      "    counts  percentage\n",
      "10    6699   27.773632\n",
      "2     5495   22.781924\n",
      "6     3639   15.087065\n",
      "4     2435   10.095357\n",
      "1     1830    7.587065\n",
      "9     1652    6.849088\n",
      "8     1572    6.517413\n",
      "5      457    1.894693\n",
      "7      200    0.829187\n",
      "3      141    0.584577\n"
     ]
    },
    {
     "data": {
      "image/png": "[encoded data removed]",
      "text/plain": [
       "<Figure size 432x288 with 1 Axes>"
      ]
     },
     "metadata": {
      "needs_background": "light"
     },
     "output_type": "display_data"
    }
   ],
   "source": [
    "cat_col_prop(x_train,\"LIF_CYC\")\n",
    "\n",
    "# No major disproportion"
   ]
  },
  {
   "cell_type": "markdown",
   "metadata": {},
   "source": [
    "## 3. One-Hot- Encoding"
   ]
  },
  {
   "cell_type": "code",
   "execution_count": 77,
   "metadata": {},
   "outputs": [
    {
     "data": {
      "text/plain": [
       "R_AGE                                   int64\n",
       "EDUC                                    int64\n",
       "R_RACE                                  int64\n",
       "R_SEX                                   int64\n",
       "WRK_HOME                                int64\n",
       "WKFTPT                                  int64\n",
       "OCCAT                                   int64\n",
       "DRIVER                                  int64\n",
       "TRAVDAY                                 int64\n",
       "dist_to_work                interval[float64]\n",
       "dist_to_shopping            interval[float64]\n",
       "dist_to_family              interval[float64]\n",
       "dist_to_school_or_church    interval[float64]\n",
       "dist_to_relatives           interval[float64]\n",
       "dist_to_social              interval[float64]\n",
       "HH_CBSA                                object\n",
       "HOMEOWN                                 int64\n",
       "HHSIZE                                 object\n",
       "HHVEHCNT                               object\n",
       "HHFAMINC                                int64\n",
       "NUMADLT                               float64\n",
       "YOUNGCHILD                            float64\n",
       "WRKCOUNT                              float64\n",
       "MSACAT                                  int64\n",
       "MSASIZE                                 int64\n",
       "URBAN                                  object\n",
       "URBANSIZE                               int64\n",
       "URBRUR                                  int64\n",
       "LIF_CYC                                 int64\n",
       "AGE_bins                               object\n",
       "DISTTOWK                               object\n",
       "DISTTOSC                               object\n",
       "NUMADLT_ratio                          object\n",
       "YOUNGCHILD_ratio                       object\n",
       "WRKCOUNT_ratio                         object\n",
       "dtype: object"
      ]
     },
     "execution_count": 77,
     "metadata": {},
     "output_type": "execute_result"
    }
   ],
   "source": [
    "x_train.dtypes"
   ]
  },
  {
   "cell_type": "code",
   "execution_count": 78,
   "metadata": {},
   "outputs": [],
   "source": [
    "to_obj = ['EDUC','R_RACE','AGE_bins','HHFAMINC','HOMEOWN','R_SEX','TRAVDAY','WRK_HOME','WKFTPT','OCCAT','DRIVER','MSACAT','MSASIZE','URBAN','URBANSIZE','URBRUR','LIF_CYC','dist_to_work','dist_to_shopping','dist_to_family','dist_to_school_or_church','dist_to_relatives','dist_to_social']\n",
    "\n",
    "x_train[to_obj] = x_train[to_obj].astype(str)\n",
    "x_test[to_obj]= x_test[to_obj].astype(str)\n",
    "\n",
    "x_train.drop(['R_AGE'], axis = 1, inplace =True)\n",
    "x_test.drop(['R_AGE'],axis = 1, inplace = True)"
   ]
  },
  {
   "cell_type": "code",
   "execution_count": 79,
   "metadata": {},
   "outputs": [],
   "source": [
    "one_hot_col = [c for c in x_train if x_train[c].dtypes == 'O' ]\n",
    "x_train = pd.concat([x_train,pd.get_dummies(x_train[one_hot_col],prefix = one_hot_col)],axis = 1)\n",
    "x_train.drop(one_hot_col, axis = 1, inplace = True)\n",
    "\n",
    "x_test = pd.concat([x_test,pd.get_dummies(x_test[one_hot_col],prefix = one_hot_col)],axis = 1)\n",
    "x_test.drop(one_hot_col, axis = 1, inplace = True)"
   ]
  },
  {
   "cell_type": "code",
   "execution_count": 80,
   "metadata": {},
   "outputs": [],
   "source": [
    "#drop all negative value columns  \n",
    "\n",
    "na_cols_train =[c for c in x_train if ('NA' in c) or ('-' in c) or ('nan' in c)]\n",
    "\n",
    "x_train.drop(na_cols_train, axis = 1, inplace = True)\n",
    "\n",
    "\n",
    "na_cols_test =[c for c in x_test if ('NA' in c) or ('-' in c) or ('nan' in c)]\n",
    "x_test.drop(na_cols_test, axis = 1 , inplace = True)"
   ]
  },
  {
   "cell_type": "code",
   "execution_count": 81,
   "metadata": {},
   "outputs": [],
   "source": [
    "\n",
    "dist_cols = [c for c in x_train if ('dist' in c)]\n",
    "\n",
    "x_train_with_dist = x_train[dist_cols]\n",
    "x_test_with_dist = x_test[dist_cols]\n",
    "\n",
    "x_train.drop(dist_cols, axis =1, inplace = True)\n",
    "x_test.drop(dist_cols, axis =1, inplace = True)\n",
    "\n",
    "\n",
    "#y_train = y_train.astype('int64')\n",
    "#y_test = y_test.astype('int64')"
   ]
  },
  {
   "cell_type": "code",
   "execution_count": 82,
   "metadata": {},
   "outputs": [
    {
     "data": {
      "text/plain": [
       "(24120, 115)"
      ]
     },
     "execution_count": 82,
     "metadata": {},
     "output_type": "execute_result"
    }
   ],
   "source": [
    "x_train.shape"
   ]
  },
  {
   "cell_type": "code",
   "execution_count": 83,
   "metadata": {},
   "outputs": [],
   "source": [
    "\n",
    "x_train_with_dist = pd.concat([x_train,x_train_with_dist],axis=1)\n",
    "x_test_with_dist = pd.concat([x_test,x_test_with_dist],axis=1)\n"
   ]
  },
  {
   "cell_type": "code",
   "execution_count": 84,
   "metadata": {},
   "outputs": [],
   "source": [
    "dist_dict = {'dist_to_work_(1.0, 2.0]':'dist_to_work_between_1_and_2',\n",
    "            'dist_to_work_(11.0, 99.0]':'dist_to_work_more_than_11',\n",
    "            'dist_to_work_(2.0, 5.0]':'dist_to_work_between_2_and_5',\n",
    "            'dist_to_work_(5.0, 11.0]':'dist_to_work_between_5_and_11',\n",
    "             'dist_to_shopping_(1.0, 2.0]':'dist_to_shopping_between_1_and_2',\n",
    "             'dist_to_shopping_(11.0, 99.0]':'dist_to_shopping_more_than_11',\n",
    "             'dist_to_shopping_(2.0, 5.0]':'dist_to_shopping_between_2_and_5',\n",
    "             'dist_to_shopping_(5.0, 11.0]':'dist_to_shopping_between_5_and_11',\n",
    "             'dist_to_family_(1.0, 2.0]':'dist_to_family_between_1_and_2',\n",
    "             'dist_to_family_(11.0, 99.0]':'dist_to_family_greater_than_11',\n",
    "             'dist_to_family_(2.0, 5.0]':'dist_to_family_between_2_and_5',\n",
    "             'dist_to_family_(5.0, 11.0]':'dist_to_family_between_5_and_11',\n",
    "             'dist_to_school_or_church_(1.0, 2.0]':'dist_to_school_or_church_between_1_and_2',\n",
    "             'dist_to_school_or_church_(11.0, 99.0]':'dist_to_school_or_church_greater_than_11',\n",
    "             'dist_to_school_or_church_(2.0, 5.0]':'dist_to_school_or_church_between_2_and_5',\n",
    "             'dist_to_school_or_church_(5.0, 11.0]':'dist_to_school_or_church_between_5_and_11',\n",
    "             'dist_to_relatives_(1.0, 2.0]':'dist_to_relatvies_between_1_and_2',\n",
    "             'dist_to_relatives_(11.0, 99.0]':'dist_to_relatvies_greater_than_11',\n",
    "             'dist_to_relatives_(2.0, 5.0]':'dist_to_relatvies_between_2_and_5',\n",
    "             'dist_to_relatives_(5.0, 11.0]':'dist_to_relatvies_between_5_and_11',\n",
    "             'dist_to_social_(1.0, 2.0]':'dist_to_social_between_1_and_2',\n",
    "             'dist_to_social_(11.0, 99.0]':'dist_to_social_greater_than_11',\n",
    "             'dist_to_social_(2.0, 5.0]':'dist_to_social_between_2_and_5',\n",
    "             'dist_to_social_(5.0, 11.0]':'dist_to_social_between_5_and_11'}\n",
    "\n",
    "dist_cols = [c for c in x_train_with_dist if 'dist' in c]\n",
    "\n",
    "x_train_with_dist.rename(columns=dist_dict,inplace = True)\n",
    "x_test_with_dist.rename(columns = dist_dict, inplace = True)"
   ]
  },
  {
   "cell_type": "code",
   "execution_count": 85,
   "metadata": {},
   "outputs": [
    {
     "data": {
      "text/html": [
       "<div>\n",
       "<style scoped>\n",
       "    .dataframe tbody tr th:only-of-type {\n",
       "        vertical-align: middle;\n",
       "    }\n",
       "\n",
       "    .dataframe tbody tr th {\n",
       "        vertical-align: top;\n",
       "    }\n",
       "\n",
       "    .dataframe thead th {\n",
       "        text-align: right;\n",
       "    }\n",
       "</style>\n",
       "<table border=\"1\" class=\"dataframe\">\n",
       "  <thead>\n",
       "    <tr style=\"text-align: right;\">\n",
       "      <th></th>\n",
       "      <th>NUMADLT</th>\n",
       "      <th>YOUNGCHILD</th>\n",
       "      <th>WRKCOUNT</th>\n",
       "      <th>EDUC_1</th>\n",
       "      <th>EDUC_2</th>\n",
       "      <th>EDUC_3</th>\n",
       "      <th>EDUC_4</th>\n",
       "      <th>EDUC_5</th>\n",
       "      <th>R_RACE_1</th>\n",
       "      <th>R_RACE_2</th>\n",
       "      <th>...</th>\n",
       "      <th>NUMADLT_ratio_1</th>\n",
       "      <th>NUMADLT_ratio_less_than_0.5</th>\n",
       "      <th>NUMADLT_ratio_more_than_0.5</th>\n",
       "      <th>YOUNGCHILD_ratio_0</th>\n",
       "      <th>YOUNGCHILD_ratio_less_than_0.5</th>\n",
       "      <th>YOUNGCHILD_ratio_more_than_0.5</th>\n",
       "      <th>WRKCOUNT_ratio_0</th>\n",
       "      <th>WRKCOUNT_ratio_1</th>\n",
       "      <th>WRKCOUNT_ratio_less_than_0.5</th>\n",
       "      <th>WRKCOUNT_ratio_more_than_0.5</th>\n",
       "    </tr>\n",
       "  </thead>\n",
       "  <tbody>\n",
       "    <tr>\n",
       "      <th>23586</th>\n",
       "      <td>0.5</td>\n",
       "      <td>0.25</td>\n",
       "      <td>0.500000</td>\n",
       "      <td>0</td>\n",
       "      <td>0</td>\n",
       "      <td>0</td>\n",
       "      <td>1</td>\n",
       "      <td>0</td>\n",
       "      <td>1</td>\n",
       "      <td>0</td>\n",
       "      <td>...</td>\n",
       "      <td>0</td>\n",
       "      <td>0</td>\n",
       "      <td>1</td>\n",
       "      <td>0</td>\n",
       "      <td>1</td>\n",
       "      <td>0</td>\n",
       "      <td>0</td>\n",
       "      <td>0</td>\n",
       "      <td>0</td>\n",
       "      <td>1</td>\n",
       "    </tr>\n",
       "    <tr>\n",
       "      <th>27418</th>\n",
       "      <td>1.0</td>\n",
       "      <td>0.00</td>\n",
       "      <td>0.500000</td>\n",
       "      <td>0</td>\n",
       "      <td>0</td>\n",
       "      <td>0</td>\n",
       "      <td>0</td>\n",
       "      <td>1</td>\n",
       "      <td>1</td>\n",
       "      <td>0</td>\n",
       "      <td>...</td>\n",
       "      <td>1</td>\n",
       "      <td>0</td>\n",
       "      <td>0</td>\n",
       "      <td>1</td>\n",
       "      <td>0</td>\n",
       "      <td>0</td>\n",
       "      <td>0</td>\n",
       "      <td>0</td>\n",
       "      <td>0</td>\n",
       "      <td>1</td>\n",
       "    </tr>\n",
       "    <tr>\n",
       "      <th>8894</th>\n",
       "      <td>0.5</td>\n",
       "      <td>0.00</td>\n",
       "      <td>0.250000</td>\n",
       "      <td>0</td>\n",
       "      <td>0</td>\n",
       "      <td>0</td>\n",
       "      <td>0</td>\n",
       "      <td>1</td>\n",
       "      <td>1</td>\n",
       "      <td>0</td>\n",
       "      <td>...</td>\n",
       "      <td>0</td>\n",
       "      <td>0</td>\n",
       "      <td>1</td>\n",
       "      <td>1</td>\n",
       "      <td>0</td>\n",
       "      <td>0</td>\n",
       "      <td>0</td>\n",
       "      <td>0</td>\n",
       "      <td>1</td>\n",
       "      <td>0</td>\n",
       "    </tr>\n",
       "    <tr>\n",
       "      <th>512</th>\n",
       "      <td>1.0</td>\n",
       "      <td>0.00</td>\n",
       "      <td>1.000000</td>\n",
       "      <td>0</td>\n",
       "      <td>0</td>\n",
       "      <td>0</td>\n",
       "      <td>1</td>\n",
       "      <td>0</td>\n",
       "      <td>1</td>\n",
       "      <td>0</td>\n",
       "      <td>...</td>\n",
       "      <td>1</td>\n",
       "      <td>0</td>\n",
       "      <td>0</td>\n",
       "      <td>1</td>\n",
       "      <td>0</td>\n",
       "      <td>0</td>\n",
       "      <td>0</td>\n",
       "      <td>1</td>\n",
       "      <td>0</td>\n",
       "      <td>0</td>\n",
       "    </tr>\n",
       "    <tr>\n",
       "      <th>17910</th>\n",
       "      <td>0.4</td>\n",
       "      <td>0.00</td>\n",
       "      <td>0.400000</td>\n",
       "      <td>1</td>\n",
       "      <td>0</td>\n",
       "      <td>0</td>\n",
       "      <td>0</td>\n",
       "      <td>0</td>\n",
       "      <td>1</td>\n",
       "      <td>0</td>\n",
       "      <td>...</td>\n",
       "      <td>0</td>\n",
       "      <td>1</td>\n",
       "      <td>0</td>\n",
       "      <td>1</td>\n",
       "      <td>0</td>\n",
       "      <td>0</td>\n",
       "      <td>0</td>\n",
       "      <td>0</td>\n",
       "      <td>1</td>\n",
       "      <td>0</td>\n",
       "    </tr>\n",
       "    <tr>\n",
       "      <th>...</th>\n",
       "      <td>...</td>\n",
       "      <td>...</td>\n",
       "      <td>...</td>\n",
       "      <td>...</td>\n",
       "      <td>...</td>\n",
       "      <td>...</td>\n",
       "      <td>...</td>\n",
       "      <td>...</td>\n",
       "      <td>...</td>\n",
       "      <td>...</td>\n",
       "      <td>...</td>\n",
       "      <td>...</td>\n",
       "      <td>...</td>\n",
       "      <td>...</td>\n",
       "      <td>...</td>\n",
       "      <td>...</td>\n",
       "      <td>...</td>\n",
       "      <td>...</td>\n",
       "      <td>...</td>\n",
       "      <td>...</td>\n",
       "      <td>...</td>\n",
       "    </tr>\n",
       "    <tr>\n",
       "      <th>19483</th>\n",
       "      <td>0.5</td>\n",
       "      <td>0.50</td>\n",
       "      <td>0.250000</td>\n",
       "      <td>0</td>\n",
       "      <td>0</td>\n",
       "      <td>1</td>\n",
       "      <td>0</td>\n",
       "      <td>0</td>\n",
       "      <td>0</td>\n",
       "      <td>0</td>\n",
       "      <td>...</td>\n",
       "      <td>0</td>\n",
       "      <td>0</td>\n",
       "      <td>1</td>\n",
       "      <td>0</td>\n",
       "      <td>0</td>\n",
       "      <td>1</td>\n",
       "      <td>0</td>\n",
       "      <td>0</td>\n",
       "      <td>1</td>\n",
       "      <td>0</td>\n",
       "    </tr>\n",
       "    <tr>\n",
       "      <th>29418</th>\n",
       "      <td>1.0</td>\n",
       "      <td>0.00</td>\n",
       "      <td>1.000000</td>\n",
       "      <td>0</td>\n",
       "      <td>0</td>\n",
       "      <td>0</td>\n",
       "      <td>0</td>\n",
       "      <td>1</td>\n",
       "      <td>1</td>\n",
       "      <td>0</td>\n",
       "      <td>...</td>\n",
       "      <td>1</td>\n",
       "      <td>0</td>\n",
       "      <td>0</td>\n",
       "      <td>1</td>\n",
       "      <td>0</td>\n",
       "      <td>0</td>\n",
       "      <td>0</td>\n",
       "      <td>1</td>\n",
       "      <td>0</td>\n",
       "      <td>0</td>\n",
       "    </tr>\n",
       "    <tr>\n",
       "      <th>28658</th>\n",
       "      <td>1.0</td>\n",
       "      <td>0.00</td>\n",
       "      <td>0.333333</td>\n",
       "      <td>0</td>\n",
       "      <td>1</td>\n",
       "      <td>0</td>\n",
       "      <td>0</td>\n",
       "      <td>0</td>\n",
       "      <td>1</td>\n",
       "      <td>0</td>\n",
       "      <td>...</td>\n",
       "      <td>1</td>\n",
       "      <td>0</td>\n",
       "      <td>0</td>\n",
       "      <td>1</td>\n",
       "      <td>0</td>\n",
       "      <td>0</td>\n",
       "      <td>0</td>\n",
       "      <td>0</td>\n",
       "      <td>1</td>\n",
       "      <td>0</td>\n",
       "    </tr>\n",
       "    <tr>\n",
       "      <th>26759</th>\n",
       "      <td>1.0</td>\n",
       "      <td>0.00</td>\n",
       "      <td>0.000000</td>\n",
       "      <td>1</td>\n",
       "      <td>0</td>\n",
       "      <td>0</td>\n",
       "      <td>0</td>\n",
       "      <td>0</td>\n",
       "      <td>1</td>\n",
       "      <td>0</td>\n",
       "      <td>...</td>\n",
       "      <td>1</td>\n",
       "      <td>0</td>\n",
       "      <td>0</td>\n",
       "      <td>1</td>\n",
       "      <td>0</td>\n",
       "      <td>0</td>\n",
       "      <td>1</td>\n",
       "      <td>0</td>\n",
       "      <td>0</td>\n",
       "      <td>0</td>\n",
       "    </tr>\n",
       "    <tr>\n",
       "      <th>20501</th>\n",
       "      <td>1.0</td>\n",
       "      <td>0.00</td>\n",
       "      <td>0.000000</td>\n",
       "      <td>0</td>\n",
       "      <td>0</td>\n",
       "      <td>1</td>\n",
       "      <td>0</td>\n",
       "      <td>0</td>\n",
       "      <td>1</td>\n",
       "      <td>0</td>\n",
       "      <td>...</td>\n",
       "      <td>1</td>\n",
       "      <td>0</td>\n",
       "      <td>0</td>\n",
       "      <td>1</td>\n",
       "      <td>0</td>\n",
       "      <td>0</td>\n",
       "      <td>1</td>\n",
       "      <td>0</td>\n",
       "      <td>0</td>\n",
       "      <td>0</td>\n",
       "    </tr>\n",
       "  </tbody>\n",
       "</table>\n",
       "<p>6030 rows × 115 columns</p>\n",
       "</div>"
      ],
      "text/plain": [
       "       NUMADLT  YOUNGCHILD  WRKCOUNT  EDUC_1  EDUC_2  EDUC_3  EDUC_4  EDUC_5  \\\n",
       "23586      0.5        0.25  0.500000       0       0       0       1       0   \n",
       "27418      1.0        0.00  0.500000       0       0       0       0       1   \n",
       "8894       0.5        0.00  0.250000       0       0       0       0       1   \n",
       "512        1.0        0.00  1.000000       0       0       0       1       0   \n",
       "17910      0.4        0.00  0.400000       1       0       0       0       0   \n",
       "...        ...         ...       ...     ...     ...     ...     ...     ...   \n",
       "19483      0.5        0.50  0.250000       0       0       1       0       0   \n",
       "29418      1.0        0.00  1.000000       0       0       0       0       1   \n",
       "28658      1.0        0.00  0.333333       0       1       0       0       0   \n",
       "26759      1.0        0.00  0.000000       1       0       0       0       0   \n",
       "20501      1.0        0.00  0.000000       0       0       1       0       0   \n",
       "\n",
       "       R_RACE_1  R_RACE_2  ...  NUMADLT_ratio_1  NUMADLT_ratio_less_than_0.5  \\\n",
       "23586         1         0  ...                0                            0   \n",
       "27418         1         0  ...                1                            0   \n",
       "8894          1         0  ...                0                            0   \n",
       "512           1         0  ...                1                            0   \n",
       "17910         1         0  ...                0                            1   \n",
       "...         ...       ...  ...              ...                          ...   \n",
       "19483         0         0  ...                0                            0   \n",
       "29418         1         0  ...                1                            0   \n",
       "28658         1         0  ...                1                            0   \n",
       "26759         1         0  ...                1                            0   \n",
       "20501         1         0  ...                1                            0   \n",
       "\n",
       "       NUMADLT_ratio_more_than_0.5  YOUNGCHILD_ratio_0  \\\n",
       "23586                            1                   0   \n",
       "27418                            0                   1   \n",
       "8894                             1                   1   \n",
       "512                              0                   1   \n",
       "17910                            0                   1   \n",
       "...                            ...                 ...   \n",
       "19483                            1                   0   \n",
       "29418                            0                   1   \n",
       "28658                            0                   1   \n",
       "26759                            0                   1   \n",
       "20501                            0                   1   \n",
       "\n",
       "       YOUNGCHILD_ratio_less_than_0.5  YOUNGCHILD_ratio_more_than_0.5  \\\n",
       "23586                               1                               0   \n",
       "27418                               0                               0   \n",
       "8894                                0                               0   \n",
       "512                                 0                               0   \n",
       "17910                               0                               0   \n",
       "...                               ...                             ...   \n",
       "19483                               0                               1   \n",
       "29418                               0                               0   \n",
       "28658                               0                               0   \n",
       "26759                               0                               0   \n",
       "20501                               0                               0   \n",
       "\n",
       "       WRKCOUNT_ratio_0  WRKCOUNT_ratio_1  WRKCOUNT_ratio_less_than_0.5  \\\n",
       "23586                 0                 0                             0   \n",
       "27418                 0                 0                             0   \n",
       "8894                  0                 0                             1   \n",
       "512                   0                 1                             0   \n",
       "17910                 0                 0                             1   \n",
       "...                 ...               ...                           ...   \n",
       "19483                 0                 0                             1   \n",
       "29418                 0                 1                             0   \n",
       "28658                 0                 0                             1   \n",
       "26759                 1                 0                             0   \n",
       "20501                 1                 0                             0   \n",
       "\n",
       "       WRKCOUNT_ratio_more_than_0.5  \n",
       "23586                             1  \n",
       "27418                             1  \n",
       "8894                              0  \n",
       "512                               0  \n",
       "17910                             0  \n",
       "...                             ...  \n",
       "19483                             0  \n",
       "29418                             0  \n",
       "28658                             0  \n",
       "26759                             0  \n",
       "20501                             0  \n",
       "\n",
       "[6030 rows x 115 columns]"
      ]
     },
     "execution_count": 85,
     "metadata": {},
     "output_type": "execute_result"
    }
   ],
   "source": [
    "x_test"
   ]
  },
  {
   "cell_type": "code",
   "execution_count": 86,
   "metadata": {},
   "outputs": [
    {
     "data": {
      "text/html": [
       "<div>\n",
       "<style scoped>\n",
       "    .dataframe tbody tr th:only-of-type {\n",
       "        vertical-align: middle;\n",
       "    }\n",
       "\n",
       "    .dataframe tbody tr th {\n",
       "        vertical-align: top;\n",
       "    }\n",
       "\n",
       "    .dataframe thead th {\n",
       "        text-align: right;\n",
       "    }\n",
       "</style>\n",
       "<table border=\"1\" class=\"dataframe\">\n",
       "  <thead>\n",
       "    <tr style=\"text-align: right;\">\n",
       "      <th></th>\n",
       "      <th>NUMADLT</th>\n",
       "      <th>YOUNGCHILD</th>\n",
       "      <th>WRKCOUNT</th>\n",
       "      <th>EDUC_1</th>\n",
       "      <th>EDUC_2</th>\n",
       "      <th>EDUC_3</th>\n",
       "      <th>EDUC_4</th>\n",
       "      <th>EDUC_5</th>\n",
       "      <th>R_RACE_1</th>\n",
       "      <th>R_RACE_2</th>\n",
       "      <th>...</th>\n",
       "      <th>dist_to_school_or_church_(2.0, 4.0]</th>\n",
       "      <th>dist_to_school_or_church_(4.0, 10.0]</th>\n",
       "      <th>dist_to_relatives_(0.0, 2.0]</th>\n",
       "      <th>dist_to_relatives_(10.0, 3621.0]</th>\n",
       "      <th>dist_to_relatives_(2.0, 4.0]</th>\n",
       "      <th>dist_to_relatives_(4.0, 10.0]</th>\n",
       "      <th>dist_to_social_(0.0, 2.0]</th>\n",
       "      <th>dist_to_social_(10.0, 3621.0]</th>\n",
       "      <th>dist_to_social_(2.0, 4.0]</th>\n",
       "      <th>dist_to_social_(4.0, 10.0]</th>\n",
       "    </tr>\n",
       "  </thead>\n",
       "  <tbody>\n",
       "    <tr>\n",
       "      <th>23586</th>\n",
       "      <td>0.5</td>\n",
       "      <td>0.25</td>\n",
       "      <td>0.500000</td>\n",
       "      <td>0</td>\n",
       "      <td>0</td>\n",
       "      <td>0</td>\n",
       "      <td>1</td>\n",
       "      <td>0</td>\n",
       "      <td>1</td>\n",
       "      <td>0</td>\n",
       "      <td>...</td>\n",
       "      <td>0</td>\n",
       "      <td>0</td>\n",
       "      <td>0</td>\n",
       "      <td>0</td>\n",
       "      <td>0</td>\n",
       "      <td>0</td>\n",
       "      <td>0</td>\n",
       "      <td>0</td>\n",
       "      <td>0</td>\n",
       "      <td>0</td>\n",
       "    </tr>\n",
       "    <tr>\n",
       "      <th>27418</th>\n",
       "      <td>1.0</td>\n",
       "      <td>0.00</td>\n",
       "      <td>0.500000</td>\n",
       "      <td>0</td>\n",
       "      <td>0</td>\n",
       "      <td>0</td>\n",
       "      <td>0</td>\n",
       "      <td>1</td>\n",
       "      <td>1</td>\n",
       "      <td>0</td>\n",
       "      <td>...</td>\n",
       "      <td>0</td>\n",
       "      <td>0</td>\n",
       "      <td>0</td>\n",
       "      <td>0</td>\n",
       "      <td>0</td>\n",
       "      <td>0</td>\n",
       "      <td>0</td>\n",
       "      <td>1</td>\n",
       "      <td>0</td>\n",
       "      <td>0</td>\n",
       "    </tr>\n",
       "    <tr>\n",
       "      <th>8894</th>\n",
       "      <td>0.5</td>\n",
       "      <td>0.00</td>\n",
       "      <td>0.250000</td>\n",
       "      <td>0</td>\n",
       "      <td>0</td>\n",
       "      <td>0</td>\n",
       "      <td>0</td>\n",
       "      <td>1</td>\n",
       "      <td>1</td>\n",
       "      <td>0</td>\n",
       "      <td>...</td>\n",
       "      <td>0</td>\n",
       "      <td>0</td>\n",
       "      <td>0</td>\n",
       "      <td>0</td>\n",
       "      <td>0</td>\n",
       "      <td>0</td>\n",
       "      <td>0</td>\n",
       "      <td>0</td>\n",
       "      <td>0</td>\n",
       "      <td>0</td>\n",
       "    </tr>\n",
       "    <tr>\n",
       "      <th>512</th>\n",
       "      <td>1.0</td>\n",
       "      <td>0.00</td>\n",
       "      <td>1.000000</td>\n",
       "      <td>0</td>\n",
       "      <td>0</td>\n",
       "      <td>0</td>\n",
       "      <td>1</td>\n",
       "      <td>0</td>\n",
       "      <td>1</td>\n",
       "      <td>0</td>\n",
       "      <td>...</td>\n",
       "      <td>0</td>\n",
       "      <td>1</td>\n",
       "      <td>1</td>\n",
       "      <td>0</td>\n",
       "      <td>0</td>\n",
       "      <td>0</td>\n",
       "      <td>0</td>\n",
       "      <td>0</td>\n",
       "      <td>0</td>\n",
       "      <td>0</td>\n",
       "    </tr>\n",
       "    <tr>\n",
       "      <th>17910</th>\n",
       "      <td>0.4</td>\n",
       "      <td>0.00</td>\n",
       "      <td>0.400000</td>\n",
       "      <td>1</td>\n",
       "      <td>0</td>\n",
       "      <td>0</td>\n",
       "      <td>0</td>\n",
       "      <td>0</td>\n",
       "      <td>1</td>\n",
       "      <td>0</td>\n",
       "      <td>...</td>\n",
       "      <td>0</td>\n",
       "      <td>0</td>\n",
       "      <td>0</td>\n",
       "      <td>0</td>\n",
       "      <td>0</td>\n",
       "      <td>0</td>\n",
       "      <td>0</td>\n",
       "      <td>0</td>\n",
       "      <td>0</td>\n",
       "      <td>0</td>\n",
       "    </tr>\n",
       "    <tr>\n",
       "      <th>...</th>\n",
       "      <td>...</td>\n",
       "      <td>...</td>\n",
       "      <td>...</td>\n",
       "      <td>...</td>\n",
       "      <td>...</td>\n",
       "      <td>...</td>\n",
       "      <td>...</td>\n",
       "      <td>...</td>\n",
       "      <td>...</td>\n",
       "      <td>...</td>\n",
       "      <td>...</td>\n",
       "      <td>...</td>\n",
       "      <td>...</td>\n",
       "      <td>...</td>\n",
       "      <td>...</td>\n",
       "      <td>...</td>\n",
       "      <td>...</td>\n",
       "      <td>...</td>\n",
       "      <td>...</td>\n",
       "      <td>...</td>\n",
       "      <td>...</td>\n",
       "    </tr>\n",
       "    <tr>\n",
       "      <th>19483</th>\n",
       "      <td>0.5</td>\n",
       "      <td>0.50</td>\n",
       "      <td>0.250000</td>\n",
       "      <td>0</td>\n",
       "      <td>0</td>\n",
       "      <td>1</td>\n",
       "      <td>0</td>\n",
       "      <td>0</td>\n",
       "      <td>0</td>\n",
       "      <td>0</td>\n",
       "      <td>...</td>\n",
       "      <td>0</td>\n",
       "      <td>0</td>\n",
       "      <td>0</td>\n",
       "      <td>0</td>\n",
       "      <td>0</td>\n",
       "      <td>0</td>\n",
       "      <td>0</td>\n",
       "      <td>0</td>\n",
       "      <td>0</td>\n",
       "      <td>0</td>\n",
       "    </tr>\n",
       "    <tr>\n",
       "      <th>29418</th>\n",
       "      <td>1.0</td>\n",
       "      <td>0.00</td>\n",
       "      <td>1.000000</td>\n",
       "      <td>0</td>\n",
       "      <td>0</td>\n",
       "      <td>0</td>\n",
       "      <td>0</td>\n",
       "      <td>1</td>\n",
       "      <td>1</td>\n",
       "      <td>0</td>\n",
       "      <td>...</td>\n",
       "      <td>0</td>\n",
       "      <td>0</td>\n",
       "      <td>0</td>\n",
       "      <td>0</td>\n",
       "      <td>0</td>\n",
       "      <td>0</td>\n",
       "      <td>0</td>\n",
       "      <td>0</td>\n",
       "      <td>0</td>\n",
       "      <td>0</td>\n",
       "    </tr>\n",
       "    <tr>\n",
       "      <th>28658</th>\n",
       "      <td>1.0</td>\n",
       "      <td>0.00</td>\n",
       "      <td>0.333333</td>\n",
       "      <td>0</td>\n",
       "      <td>1</td>\n",
       "      <td>0</td>\n",
       "      <td>0</td>\n",
       "      <td>0</td>\n",
       "      <td>1</td>\n",
       "      <td>0</td>\n",
       "      <td>...</td>\n",
       "      <td>0</td>\n",
       "      <td>0</td>\n",
       "      <td>0</td>\n",
       "      <td>0</td>\n",
       "      <td>0</td>\n",
       "      <td>0</td>\n",
       "      <td>0</td>\n",
       "      <td>0</td>\n",
       "      <td>0</td>\n",
       "      <td>0</td>\n",
       "    </tr>\n",
       "    <tr>\n",
       "      <th>26759</th>\n",
       "      <td>1.0</td>\n",
       "      <td>0.00</td>\n",
       "      <td>0.000000</td>\n",
       "      <td>1</td>\n",
       "      <td>0</td>\n",
       "      <td>0</td>\n",
       "      <td>0</td>\n",
       "      <td>0</td>\n",
       "      <td>1</td>\n",
       "      <td>0</td>\n",
       "      <td>...</td>\n",
       "      <td>0</td>\n",
       "      <td>0</td>\n",
       "      <td>0</td>\n",
       "      <td>0</td>\n",
       "      <td>0</td>\n",
       "      <td>0</td>\n",
       "      <td>0</td>\n",
       "      <td>0</td>\n",
       "      <td>0</td>\n",
       "      <td>0</td>\n",
       "    </tr>\n",
       "    <tr>\n",
       "      <th>20501</th>\n",
       "      <td>1.0</td>\n",
       "      <td>0.00</td>\n",
       "      <td>0.000000</td>\n",
       "      <td>0</td>\n",
       "      <td>0</td>\n",
       "      <td>1</td>\n",
       "      <td>0</td>\n",
       "      <td>0</td>\n",
       "      <td>1</td>\n",
       "      <td>0</td>\n",
       "      <td>...</td>\n",
       "      <td>0</td>\n",
       "      <td>0</td>\n",
       "      <td>0</td>\n",
       "      <td>0</td>\n",
       "      <td>0</td>\n",
       "      <td>0</td>\n",
       "      <td>0</td>\n",
       "      <td>0</td>\n",
       "      <td>0</td>\n",
       "      <td>0</td>\n",
       "    </tr>\n",
       "  </tbody>\n",
       "</table>\n",
       "<p>6030 rows × 139 columns</p>\n",
       "</div>"
      ],
      "text/plain": [
       "       NUMADLT  YOUNGCHILD  WRKCOUNT  EDUC_1  EDUC_2  EDUC_3  EDUC_4  EDUC_5  \\\n",
       "23586      0.5        0.25  0.500000       0       0       0       1       0   \n",
       "27418      1.0        0.00  0.500000       0       0       0       0       1   \n",
       "8894       0.5        0.00  0.250000       0       0       0       0       1   \n",
       "512        1.0        0.00  1.000000       0       0       0       1       0   \n",
       "17910      0.4        0.00  0.400000       1       0       0       0       0   \n",
       "...        ...         ...       ...     ...     ...     ...     ...     ...   \n",
       "19483      0.5        0.50  0.250000       0       0       1       0       0   \n",
       "29418      1.0        0.00  1.000000       0       0       0       0       1   \n",
       "28658      1.0        0.00  0.333333       0       1       0       0       0   \n",
       "26759      1.0        0.00  0.000000       1       0       0       0       0   \n",
       "20501      1.0        0.00  0.000000       0       0       1       0       0   \n",
       "\n",
       "       R_RACE_1  R_RACE_2  ...  dist_to_school_or_church_(2.0, 4.0]  \\\n",
       "23586         1         0  ...                                    0   \n",
       "27418         1         0  ...                                    0   \n",
       "8894          1         0  ...                                    0   \n",
       "512           1         0  ...                                    0   \n",
       "17910         1         0  ...                                    0   \n",
       "...         ...       ...  ...                                  ...   \n",
       "19483         0         0  ...                                    0   \n",
       "29418         1         0  ...                                    0   \n",
       "28658         1         0  ...                                    0   \n",
       "26759         1         0  ...                                    0   \n",
       "20501         1         0  ...                                    0   \n",
       "\n",
       "       dist_to_school_or_church_(4.0, 10.0]  dist_to_relatives_(0.0, 2.0]  \\\n",
       "23586                                     0                             0   \n",
       "27418                                     0                             0   \n",
       "8894                                      0                             0   \n",
       "512                                       1                             1   \n",
       "17910                                     0                             0   \n",
       "...                                     ...                           ...   \n",
       "19483                                     0                             0   \n",
       "29418                                     0                             0   \n",
       "28658                                     0                             0   \n",
       "26759                                     0                             0   \n",
       "20501                                     0                             0   \n",
       "\n",
       "       dist_to_relatives_(10.0, 3621.0]  dist_to_relatives_(2.0, 4.0]  \\\n",
       "23586                                 0                             0   \n",
       "27418                                 0                             0   \n",
       "8894                                  0                             0   \n",
       "512                                   0                             0   \n",
       "17910                                 0                             0   \n",
       "...                                 ...                           ...   \n",
       "19483                                 0                             0   \n",
       "29418                                 0                             0   \n",
       "28658                                 0                             0   \n",
       "26759                                 0                             0   \n",
       "20501                                 0                             0   \n",
       "\n",
       "       dist_to_relatives_(4.0, 10.0]  dist_to_social_(0.0, 2.0]  \\\n",
       "23586                              0                          0   \n",
       "27418                              0                          0   \n",
       "8894                               0                          0   \n",
       "512                                0                          0   \n",
       "17910                              0                          0   \n",
       "...                              ...                        ...   \n",
       "19483                              0                          0   \n",
       "29418                              0                          0   \n",
       "28658                              0                          0   \n",
       "26759                              0                          0   \n",
       "20501                              0                          0   \n",
       "\n",
       "       dist_to_social_(10.0, 3621.0]  dist_to_social_(2.0, 4.0]  \\\n",
       "23586                              0                          0   \n",
       "27418                              1                          0   \n",
       "8894                               0                          0   \n",
       "512                                0                          0   \n",
       "17910                              0                          0   \n",
       "...                              ...                        ...   \n",
       "19483                              0                          0   \n",
       "29418                              0                          0   \n",
       "28658                              0                          0   \n",
       "26759                              0                          0   \n",
       "20501                              0                          0   \n",
       "\n",
       "       dist_to_social_(4.0, 10.0]  \n",
       "23586                           0  \n",
       "27418                           0  \n",
       "8894                            0  \n",
       "512                             0  \n",
       "17910                           0  \n",
       "...                           ...  \n",
       "19483                           0  \n",
       "29418                           0  \n",
       "28658                           0  \n",
       "26759                           0  \n",
       "20501                           0  \n",
       "\n",
       "[6030 rows x 139 columns]"
      ]
     },
     "execution_count": 86,
     "metadata": {},
     "output_type": "execute_result"
    }
   ],
   "source": [
    "x_test_with_dist"
   ]
  },
  {
   "cell_type": "code",
   "execution_count": 87,
   "metadata": {},
   "outputs": [
    {
     "data": {
      "text/plain": [
       "['NUMADLT',\n",
       " 'YOUNGCHILD',\n",
       " 'WRKCOUNT',\n",
       " 'EDUC_1',\n",
       " 'EDUC_2',\n",
       " 'EDUC_3',\n",
       " 'EDUC_4',\n",
       " 'EDUC_5',\n",
       " 'R_RACE_1',\n",
       " 'R_RACE_2',\n",
       " 'R_RACE_3',\n",
       " 'R_RACE_4',\n",
       " 'R_RACE_5',\n",
       " 'R_RACE_6',\n",
       " 'R_RACE_97',\n",
       " 'R_SEX_1',\n",
       " 'R_SEX_2',\n",
       " 'WRK_HOME_1',\n",
       " 'WRK_HOME_2',\n",
       " 'WKFTPT_1',\n",
       " 'WKFTPT_2',\n",
       " 'OCCAT_1',\n",
       " 'OCCAT_2',\n",
       " 'OCCAT_3',\n",
       " 'OCCAT_4',\n",
       " 'OCCAT_97',\n",
       " 'DRIVER_1',\n",
       " 'DRIVER_2',\n",
       " 'TRAVDAY_1',\n",
       " 'TRAVDAY_2',\n",
       " 'TRAVDAY_3',\n",
       " 'TRAVDAY_4',\n",
       " 'TRAVDAY_5',\n",
       " 'TRAVDAY_6',\n",
       " 'TRAVDAY_7',\n",
       " 'HH_CBSA_15380',\n",
       " 'HH_CBSA_35620',\n",
       " 'HH_CBSA_40380',\n",
       " 'HH_CBSA_XXXXX',\n",
       " 'HOMEOWN_1',\n",
       " 'HOMEOWN_2',\n",
       " 'HOMEOWN_97',\n",
       " 'HHSIZE_1',\n",
       " 'HHSIZE_2',\n",
       " 'HHSIZE_3',\n",
       " 'HHSIZE_ above_3',\n",
       " 'HHVEHCNT_1',\n",
       " 'HHVEHCNT_2',\n",
       " 'HHVEHCNT_3',\n",
       " 'HHVEHCNT_>3',\n",
       " 'HHFAMINC_1',\n",
       " 'HHFAMINC_10',\n",
       " 'HHFAMINC_11',\n",
       " 'HHFAMINC_2',\n",
       " 'HHFAMINC_3',\n",
       " 'HHFAMINC_4',\n",
       " 'HHFAMINC_5',\n",
       " 'HHFAMINC_6',\n",
       " 'HHFAMINC_7',\n",
       " 'HHFAMINC_8',\n",
       " 'HHFAMINC_9',\n",
       " 'MSACAT_1',\n",
       " 'MSACAT_2',\n",
       " 'MSACAT_3',\n",
       " 'MSACAT_4',\n",
       " 'MSASIZE_1',\n",
       " 'MSASIZE_2',\n",
       " 'MSASIZE_3',\n",
       " 'MSASIZE_4',\n",
       " 'MSASIZE_5',\n",
       " 'MSASIZE_6',\n",
       " 'URBAN_rural',\n",
       " 'URBAN_urban',\n",
       " 'URBANSIZE_1',\n",
       " 'URBANSIZE_2',\n",
       " 'URBANSIZE_3',\n",
       " 'URBANSIZE_5',\n",
       " 'URBANSIZE_6',\n",
       " 'URBRUR_1',\n",
       " 'URBRUR_2',\n",
       " 'LIF_CYC_1',\n",
       " 'LIF_CYC_10',\n",
       " 'LIF_CYC_2',\n",
       " 'LIF_CYC_3',\n",
       " 'LIF_CYC_4',\n",
       " 'LIF_CYC_5',\n",
       " 'LIF_CYC_6',\n",
       " 'LIF_CYC_7',\n",
       " 'LIF_CYC_8',\n",
       " 'LIF_CYC_9',\n",
       " 'AGE_bins_16_to_25',\n",
       " 'AGE_bins_26_to_35',\n",
       " 'AGE_bins_36_to_45',\n",
       " 'AGE_bins_46_to_55',\n",
       " 'AGE_bins_56_to_65',\n",
       " 'AGE_bins_5_to_15',\n",
       " 'AGE_bins_66_to_75',\n",
       " 'AGE_bins_more_than_75',\n",
       " 'DISTTOWK_DISTTOWK_0_to_3',\n",
       " 'DISTTOWK_DISTTOWK_12_to_22',\n",
       " 'DISTTOWK_DISTTOWK_3_to_7',\n",
       " 'DISTTOWK_DISTTOWK_7_to_12',\n",
       " 'DISTTOWK_DISTTOWK_above_22',\n",
       " 'DISTTOSC_DISTTOSC_above_3',\n",
       " 'DISTTOSC_DISTTOSC_under_3',\n",
       " 'NUMADLT_ratio_1',\n",
       " 'NUMADLT_ratio_less_than_0.5',\n",
       " 'NUMADLT_ratio_more_than_0.5',\n",
       " 'YOUNGCHILD_ratio_0',\n",
       " 'YOUNGCHILD_ratio_less_than_0.5',\n",
       " 'YOUNGCHILD_ratio_more_than_0.5',\n",
       " 'WRKCOUNT_ratio_0',\n",
       " 'WRKCOUNT_ratio_1',\n",
       " 'WRKCOUNT_ratio_less_than_0.5',\n",
       " 'WRKCOUNT_ratio_more_than_0.5',\n",
       " 'dist_to_work_(0.0, 2.0]',\n",
       " 'dist_to_work_(10.0, 3621.0]',\n",
       " 'dist_to_work_(2.0, 4.0]',\n",
       " 'dist_to_work_(4.0, 10.0]',\n",
       " 'dist_to_shopping_(0.0, 2.0]',\n",
       " 'dist_to_shopping_(10.0, 3621.0]',\n",
       " 'dist_to_shopping_(2.0, 4.0]',\n",
       " 'dist_to_shopping_(4.0, 10.0]',\n",
       " 'dist_to_family_(0.0, 2.0]',\n",
       " 'dist_to_family_(10.0, 3621.0]',\n",
       " 'dist_to_family_(2.0, 4.0]',\n",
       " 'dist_to_family_(4.0, 10.0]',\n",
       " 'dist_to_school_or_church_(0.0, 2.0]',\n",
       " 'dist_to_school_or_church_(10.0, 3621.0]',\n",
       " 'dist_to_school_or_church_(2.0, 4.0]',\n",
       " 'dist_to_school_or_church_(4.0, 10.0]',\n",
       " 'dist_to_relatives_(0.0, 2.0]',\n",
       " 'dist_to_relatives_(10.0, 3621.0]',\n",
       " 'dist_to_relatives_(2.0, 4.0]',\n",
       " 'dist_to_relatives_(4.0, 10.0]',\n",
       " 'dist_to_social_(0.0, 2.0]',\n",
       " 'dist_to_social_(10.0, 3621.0]',\n",
       " 'dist_to_social_(2.0, 4.0]',\n",
       " 'dist_to_social_(4.0, 10.0]']"
      ]
     },
     "execution_count": 87,
     "metadata": {},
     "output_type": "execute_result"
    }
   ],
   "source": [
    "[c for c in x_test_with_dist]"
   ]
  },
  {
   "cell_type": "code",
   "execution_count": 88,
   "metadata": {},
   "outputs": [
    {
     "data": {
      "text/plain": [
       "['NUMADLT',\n",
       " 'YOUNGCHILD',\n",
       " 'WRKCOUNT',\n",
       " 'EDUC_1',\n",
       " 'EDUC_2',\n",
       " 'EDUC_3',\n",
       " 'EDUC_4',\n",
       " 'EDUC_5',\n",
       " 'R_RACE_1',\n",
       " 'R_RACE_2',\n",
       " 'R_RACE_3',\n",
       " 'R_RACE_4',\n",
       " 'R_RACE_5',\n",
       " 'R_RACE_6',\n",
       " 'R_RACE_97',\n",
       " 'R_SEX_1',\n",
       " 'R_SEX_2',\n",
       " 'WRK_HOME_1',\n",
       " 'WRK_HOME_2',\n",
       " 'WKFTPT_1',\n",
       " 'WKFTPT_2',\n",
       " 'OCCAT_1',\n",
       " 'OCCAT_2',\n",
       " 'OCCAT_3',\n",
       " 'OCCAT_4',\n",
       " 'OCCAT_97',\n",
       " 'DRIVER_1',\n",
       " 'DRIVER_2',\n",
       " 'TRAVDAY_1',\n",
       " 'TRAVDAY_2',\n",
       " 'TRAVDAY_3',\n",
       " 'TRAVDAY_4',\n",
       " 'TRAVDAY_5',\n",
       " 'TRAVDAY_6',\n",
       " 'TRAVDAY_7',\n",
       " 'HH_CBSA_15380',\n",
       " 'HH_CBSA_35620',\n",
       " 'HH_CBSA_40380',\n",
       " 'HH_CBSA_XXXXX',\n",
       " 'HOMEOWN_1',\n",
       " 'HOMEOWN_2',\n",
       " 'HOMEOWN_97',\n",
       " 'HHSIZE_1',\n",
       " 'HHSIZE_2',\n",
       " 'HHSIZE_3',\n",
       " 'HHSIZE_above_3',\n",
       " 'HHVEHCNT_1',\n",
       " 'HHVEHCNT_2',\n",
       " 'HHVEHCNT_3',\n",
       " 'HHVEHCNT_>3',\n",
       " 'HHFAMINC_1',\n",
       " 'HHFAMINC_10',\n",
       " 'HHFAMINC_11',\n",
       " 'HHFAMINC_2',\n",
       " 'HHFAMINC_3',\n",
       " 'HHFAMINC_4',\n",
       " 'HHFAMINC_5',\n",
       " 'HHFAMINC_6',\n",
       " 'HHFAMINC_7',\n",
       " 'HHFAMINC_8',\n",
       " 'HHFAMINC_9',\n",
       " 'MSACAT_1',\n",
       " 'MSACAT_2',\n",
       " 'MSACAT_3',\n",
       " 'MSACAT_4',\n",
       " 'MSASIZE_1',\n",
       " 'MSASIZE_2',\n",
       " 'MSASIZE_3',\n",
       " 'MSASIZE_4',\n",
       " 'MSASIZE_5',\n",
       " 'MSASIZE_6',\n",
       " 'URBAN_rural',\n",
       " 'URBAN_urban',\n",
       " 'URBANSIZE_1',\n",
       " 'URBANSIZE_2',\n",
       " 'URBANSIZE_3',\n",
       " 'URBANSIZE_5',\n",
       " 'URBANSIZE_6',\n",
       " 'URBRUR_1',\n",
       " 'URBRUR_2',\n",
       " 'LIF_CYC_1',\n",
       " 'LIF_CYC_10',\n",
       " 'LIF_CYC_2',\n",
       " 'LIF_CYC_3',\n",
       " 'LIF_CYC_4',\n",
       " 'LIF_CYC_5',\n",
       " 'LIF_CYC_6',\n",
       " 'LIF_CYC_7',\n",
       " 'LIF_CYC_8',\n",
       " 'LIF_CYC_9',\n",
       " 'AGE_bins_16_to_25',\n",
       " 'AGE_bins_26_to_35',\n",
       " 'AGE_bins_36_to_45',\n",
       " 'AGE_bins_46_to_55',\n",
       " 'AGE_bins_56_to_65',\n",
       " 'AGE_bins_5_to_15',\n",
       " 'AGE_bins_66_to_75',\n",
       " 'AGE_bins_more_than_75',\n",
       " 'DISTTOWK_DISTTOWK_0_to_3',\n",
       " 'DISTTOWK_DISTTOWK_12_to_22',\n",
       " 'DISTTOWK_DISTTOWK_3_to_7',\n",
       " 'DISTTOWK_DISTTOWK_7_to_12',\n",
       " 'DISTTOWK_DISTTOWK_above_22',\n",
       " 'DISTTOSC_DISTTOSC_above_3',\n",
       " 'DISTTOSC_DISTTOSC_under_3',\n",
       " 'NUMADLT_ratio_1',\n",
       " 'NUMADLT_ratio_less_than_0.5',\n",
       " 'NUMADLT_ratio_more_than_0.5',\n",
       " 'YOUNGCHILD_ratio_0',\n",
       " 'YOUNGCHILD_ratio_less_than_0.5',\n",
       " 'YOUNGCHILD_ratio_more_than_0.5',\n",
       " 'WRKCOUNT_ratio_0',\n",
       " 'WRKCOUNT_ratio_1',\n",
       " 'WRKCOUNT_ratio_less_than_0.5',\n",
       " 'WRKCOUNT_ratio_more_than_0.5',\n",
       " 'dist_to_work_(0.0, 2.0]',\n",
       " 'dist_to_work_(10.0, 3621.0]',\n",
       " 'dist_to_work_(2.0, 4.0]',\n",
       " 'dist_to_work_(4.0, 10.0]',\n",
       " 'dist_to_shopping_(0.0, 2.0]',\n",
       " 'dist_to_shopping_(10.0, 3621.0]',\n",
       " 'dist_to_shopping_(2.0, 4.0]',\n",
       " 'dist_to_shopping_(4.0, 10.0]',\n",
       " 'dist_to_family_(0.0, 2.0]',\n",
       " 'dist_to_family_(10.0, 3621.0]',\n",
       " 'dist_to_family_(2.0, 4.0]',\n",
       " 'dist_to_family_(4.0, 10.0]',\n",
       " 'dist_to_school_or_church_(0.0, 2.0]',\n",
       " 'dist_to_school_or_church_(10.0, 3621.0]',\n",
       " 'dist_to_school_or_church_(2.0, 4.0]',\n",
       " 'dist_to_school_or_church_(4.0, 10.0]',\n",
       " 'dist_to_relatives_(0.0, 2.0]',\n",
       " 'dist_to_relatives_(10.0, 3621.0]',\n",
       " 'dist_to_relatives_(2.0, 4.0]',\n",
       " 'dist_to_relatives_(4.0, 10.0]',\n",
       " 'dist_to_social_(0.0, 2.0]',\n",
       " 'dist_to_social_(10.0, 3621.0]',\n",
       " 'dist_to_social_(2.0, 4.0]',\n",
       " 'dist_to_social_(4.0, 10.0]']"
      ]
     },
     "execution_count": 88,
     "metadata": {},
     "output_type": "execute_result"
    }
   ],
   "source": [
    "[c for c in x_train_with_dist]"
   ]
  },
  {
   "cell_type": "markdown",
   "metadata": {},
   "source": [
    "## 4. Models (first round run x_train to get low score then second run x_train_dist)"
   ]
  },
  {
   "cell_type": "markdown",
   "metadata": {},
   "source": [
    "## 4.1. X_train\n",
    "\n",
    "To train models using only data from person and household dataset. Doing so will allow current survey method to be sufficient in predicting trips of people who did not participate in the trips measuring but participated in the household and person information survey"
   ]
  },
  {
   "cell_type": "markdown",
   "metadata": {},
   "source": [
    "### 4.1.1. Linear Models"
   ]
  },
  {
   "cell_type": "markdown",
   "metadata": {},
   "source": [
    "#### 4.1.1.1. Standard Linear Regression"
   ]
  },
  {
   "cell_type": "code",
   "execution_count": 89,
   "metadata": {},
   "outputs": [],
   "source": [
    "#Checking for multicollinearity through variance Inflation Factor \n",
    "#VIF=1, Very Less Multicollinearity\n",
    "#VIF<5, Moderate Multicollinearity\n",
    "#VIF>5, Extreme Multicollinearity (This is what we have to avoid)\n",
    "\n",
    "import statsmodels.api as sm\n",
    "from statsmodels.stats.outliers_influence import variance_inflation_factor\n",
    "from sklearn import linear_model, model_selection, metrics\n"
   ]
  },
  {
   "cell_type": "code",
   "execution_count": 90,
   "metadata": {},
   "outputs": [],
   "source": [
    "LRmodel = linear_model.LinearRegression()  #create the linear regression \n",
    "LRmodel.fit(x_train,y_train) #train the model using the training set \n",
    "LR_pred = LRmodel.predict(x_test) #use this model to predict the test data set "
   ]
  },
  {
   "cell_type": "code",
   "execution_count": 91,
   "metadata": {},
   "outputs": [
    {
     "name": "stdout",
     "output_type": "stream",
     "text": [
      "R^2 score:\t\t\t\t 0.07308481761968388\n",
      "Explained Variance: \t\t\t 0.07318255023545939\n",
      "Mean Absolute Error: \t\t\t 1.8619296907390133\n",
      "Mean Squared Error:\t\t\t 5.232275617142419\n",
      "Root Mean Squared Error:\t\t 2.2874168000481285\n",
      "Intercept:\t -3185182564199.5786\n",
      "Coef:\t 115\n"
     ]
    }
   ],
   "source": [
    "print('R^2 score:\\t\\t\\t\\t',LRmodel.score(x_test, y_test)) #compute R^2 score \n",
    "print('Explained Variance: \\t\\t\\t', metrics.explained_variance_score(y_test, LR_pred)) #compute explained variance score\n",
    "print('Mean Absolute Error: \\t\\t\\t', metrics.mean_absolute_error(y_test, LR_pred)) #compute MAE results\n",
    "print('Mean Squared Error:\\t\\t\\t', metrics.mean_squared_error(y_test, LR_pred)) #compute MSE results\n",
    "print('Root Mean Squared Error:\\t\\t', metrics.mean_squared_error(y_test, LR_pred, squared = False)) #compute RSME results\n",
    "print('Intercept:\\t', LRmodel.intercept_) #find intercept value \n",
    "print('Coef:\\t', np.sum(LRmodel.coef_!=0))#find no of features used in regression model "
   ]
  },
  {
   "cell_type": "code",
   "execution_count": 92,
   "metadata": {},
   "outputs": [
    {
     "data": {
      "text/plain": [
       "<matplotlib.axes._subplots.AxesSubplot at 0x18ae4f61048>"
      ]
     },
     "execution_count": 92,
     "metadata": {},
     "output_type": "execute_result"
    },
    {
     "data": {
      "image/png": "[encoded data removed]",
      "text/plain": [
       "<Figure size 432x288 with 1 Axes>"
      ]
     },
     "metadata": {
      "needs_background": "light"
     },
     "output_type": "display_data"
    }
   ],
   "source": [
    "sns.regplot(y_test,LR_pred) #plotting predictions "
   ]
  },
  {
   "cell_type": "code",
   "execution_count": 93,
   "metadata": {},
   "outputs": [
    {
     "name": "stdout",
     "output_type": "stream",
     "text": [
      "                            feature           VIF\n",
      "0                           NUMADLT  3.003530e+01\n",
      "1                        YOUNGCHILD  2.080213e+01\n",
      "2                          WRKCOUNT  6.088579e+01\n",
      "3                            EDUC_1  6.504786e+00\n",
      "4                            EDUC_2  2.170220e+01\n",
      "..                              ...           ...\n",
      "110  YOUNGCHILD_ratio_more_than_0.5  3.408709e+07\n",
      "111                WRKCOUNT_ratio_0  5.115950e+06\n",
      "112                WRKCOUNT_ratio_1  9.847914e+06\n",
      "113    WRKCOUNT_ratio_less_than_0.5  5.132278e+06\n",
      "114    WRKCOUNT_ratio_more_than_0.5  1.795547e+06\n",
      "\n",
      "[115 rows x 2 columns]\n"
     ]
    }
   ],
   "source": [
    "#calculate VIF scores to detect multicolinearity \n",
    "\n",
    "# VIF dataframe\n",
    "vif_data = pd.DataFrame()\n",
    "vif_data[\"feature\"] = x_train.columns\n",
    "  \n",
    "# calculating VIF for each feature\n",
    "vif_data[\"VIF\"] = [variance_inflation_factor(x_train.values, i)\n",
    "                          for i in range(len(x_train.columns))]\n",
    "  \n",
    "print(vif_data)"
   ]
  },
  {
   "cell_type": "code",
   "execution_count": 94,
   "metadata": {},
   "outputs": [
    {
     "data": {
      "text/html": [
       "<div>\n",
       "<style scoped>\n",
       "    .dataframe tbody tr th:only-of-type {\n",
       "        vertical-align: middle;\n",
       "    }\n",
       "\n",
       "    .dataframe tbody tr th {\n",
       "        vertical-align: top;\n",
       "    }\n",
       "\n",
       "    .dataframe thead th {\n",
       "        text-align: right;\n",
       "    }\n",
       "</style>\n",
       "<table border=\"1\" class=\"dataframe\">\n",
       "  <thead>\n",
       "    <tr style=\"text-align: right;\">\n",
       "      <th></th>\n",
       "      <th>feature</th>\n",
       "      <th>VIF</th>\n",
       "    </tr>\n",
       "  </thead>\n",
       "  <tbody>\n",
       "    <tr>\n",
       "      <th>97</th>\n",
       "      <td>AGE_bins_more_than_75</td>\n",
       "      <td>2.166041e+10</td>\n",
       "    </tr>\n",
       "    <tr>\n",
       "      <th>80</th>\n",
       "      <td>LIF_CYC_1</td>\n",
       "      <td>1.111889e+10</td>\n",
       "    </tr>\n",
       "    <tr>\n",
       "      <th>87</th>\n",
       "      <td>LIF_CYC_7</td>\n",
       "      <td>5.319992e+09</td>\n",
       "    </tr>\n",
       "    <tr>\n",
       "      <th>109</th>\n",
       "      <td>YOUNGCHILD_ratio_less_than_0.5</td>\n",
       "      <td>5.106464e+09</td>\n",
       "    </tr>\n",
       "    <tr>\n",
       "      <th>64</th>\n",
       "      <td>MSACAT_4</td>\n",
       "      <td>4.120796e+09</td>\n",
       "    </tr>\n",
       "    <tr>\n",
       "      <th>...</th>\n",
       "      <td>...</td>\n",
       "      <td>...</td>\n",
       "    </tr>\n",
       "    <tr>\n",
       "      <th>54</th>\n",
       "      <td>HHFAMINC_3</td>\n",
       "      <td>2.882586e+00</td>\n",
       "    </tr>\n",
       "    <tr>\n",
       "      <th>53</th>\n",
       "      <td>HHFAMINC_2</td>\n",
       "      <td>1.975825e+00</td>\n",
       "    </tr>\n",
       "    <tr>\n",
       "      <th>50</th>\n",
       "      <td>HHFAMINC_1</td>\n",
       "      <td>1.707033e+00</td>\n",
       "    </tr>\n",
       "    <tr>\n",
       "      <th>11</th>\n",
       "      <td>R_RACE_4</td>\n",
       "      <td>1.450180e+00</td>\n",
       "    </tr>\n",
       "    <tr>\n",
       "      <th>12</th>\n",
       "      <td>R_RACE_5</td>\n",
       "      <td>1.151165e+00</td>\n",
       "    </tr>\n",
       "  </tbody>\n",
       "</table>\n",
       "<p>115 rows × 2 columns</p>\n",
       "</div>"
      ],
      "text/plain": [
       "                            feature           VIF\n",
       "97            AGE_bins_more_than_75  2.166041e+10\n",
       "80                        LIF_CYC_1  1.111889e+10\n",
       "87                        LIF_CYC_7  5.319992e+09\n",
       "109  YOUNGCHILD_ratio_less_than_0.5  5.106464e+09\n",
       "64                         MSACAT_4  4.120796e+09\n",
       "..                              ...           ...\n",
       "54                       HHFAMINC_3  2.882586e+00\n",
       "53                       HHFAMINC_2  1.975825e+00\n",
       "50                       HHFAMINC_1  1.707033e+00\n",
       "11                         R_RACE_4  1.450180e+00\n",
       "12                         R_RACE_5  1.151165e+00\n",
       "\n",
       "[115 rows x 2 columns]"
      ]
     },
     "execution_count": 94,
     "metadata": {},
     "output_type": "execute_result"
    }
   ],
   "source": [
    "vif_data.sort_values(by = 'VIF', ascending = False)"
   ]
  },
  {
   "cell_type": "code",
   "execution_count": 95,
   "metadata": {},
   "outputs": [
    {
     "name": "stdout",
     "output_type": "stream",
     "text": [
      "It contains 0 infinite values\n"
     ]
    }
   ],
   "source": [
    "# counting number of infinity features \n",
    "\n",
    "vif_data_inf = np.isinf(vif_data['VIF']).values.sum()\n",
    "print(\"It contains \" + str(vif_data_inf) + \" infinite values\")"
   ]
  },
  {
   "cell_type": "code",
   "execution_count": 96,
   "metadata": {},
   "outputs": [
    {
     "name": "stdout",
     "output_type": "stream",
     "text": [
      "\n",
      "R2 score: [-5.16669994 -5.0430599  -5.03798935 -5.10160311 -5.02936919]\n"
     ]
    }
   ],
   "source": [
    "#cross validation to see if it will improve results \n",
    "\n",
    "folds = model_selection.KFold(n_splits = 5, shuffle = True, random_state = 100)\n",
    "scores = model_selection.cross_val_score(LRmodel, x_train, y_train, scoring='neg_mean_squared_error', cv=folds)\n",
    "\n",
    "print('\\nR2 score:',scores)"
   ]
  },
  {
   "cell_type": "code",
   "execution_count": 97,
   "metadata": {},
   "outputs": [
    {
     "data": {
      "text/plain": [
       "array([-5.166700, -5.043060, -5.037989, -5.101603, -5.029369])"
      ]
     },
     "execution_count": 97,
     "metadata": {},
     "output_type": "execute_result"
    }
   ],
   "source": [
    "np.set_printoptions(formatter={'float_kind':'{:f}'.format})\n",
    "scores"
   ]
  },
  {
   "cell_type": "code",
   "execution_count": null,
   "metadata": {},
   "outputs": [
    {
     "name": "stdout",
     "output_type": "stream",
     "text": [
      "Fitting 5 folds for each of 132 candidates, totalling 660 fits\n",
      "[CV 1/5; 1/132] START n_features_to_select=1....................................\n",
      "[CV 1/5; 1/132] END n_features_to_select=1;, score=(train=-5.408, test=-5.579) total time=   3.6s\n",
      "[CV 2/5; 1/132] START n_features_to_select=1....................................\n",
      "[CV 2/5; 1/132] END n_features_to_select=1;, score=(train=-5.483, test=-5.418) total time=   3.4s\n",
      "[CV 3/5; 1/132] START n_features_to_select=1....................................\n",
      "[CV 3/5; 1/132] END n_features_to_select=1;, score=(train=-5.481, test=-5.427) total time=   3.9s\n",
      "[CV 4/5; 1/132] START n_features_to_select=1....................................\n",
      "[CV 4/5; 1/132] END n_features_to_select=1;, score=(train=-5.474, test=-5.525) total time=   3.7s\n",
      "[CV 5/5; 1/132] START n_features_to_select=1....................................\n",
      "[CV 5/5; 1/132] END n_features_to_select=1;, score=(train=-5.495, test=-5.424) total time=   3.7s\n",
      "[CV 1/5; 2/132] START n_features_to_select=2....................................\n",
      "[CV 1/5; 2/132] END n_features_to_select=2;, score=(train=-5.405, test=-5.581) total time=   4.0s\n",
      "[CV 2/5; 2/132] START n_features_to_select=2....................................\n",
      "[CV 2/5; 2/132] END n_features_to_select=2;, score=(train=-5.472, test=-5.408) total time=   3.9s\n",
      "[CV 3/5; 2/132] START n_features_to_select=2....................................\n",
      "[CV 3/5; 2/132] END n_features_to_select=2;, score=(train=-5.470, test=-5.417) total time=   3.8s\n",
      "[CV 4/5; 2/132] START n_features_to_select=2....................................\n",
      "[CV 4/5; 2/132] END n_features_to_select=2;, score=(train=-5.473, test=-5.524) total time=   3.8s\n",
      "[CV 5/5; 2/132] START n_features_to_select=2....................................\n",
      "[CV 5/5; 2/132] END n_features_to_select=2;, score=(train=-5.495, test=-5.424) total time=   3.8s\n",
      "[CV 1/5; 3/132] START n_features_to_select=3....................................\n",
      "[CV 1/5; 3/132] END n_features_to_select=3;, score=(train=-5.401, test=-5.575) total time=   4.0s\n",
      "[CV 2/5; 3/132] START n_features_to_select=3....................................\n",
      "[CV 2/5; 3/132] END n_features_to_select=3;, score=(train=-5.465, test=-5.404) total time=   3.9s\n",
      "[CV 3/5; 3/132] START n_features_to_select=3....................................\n",
      "[CV 3/5; 3/132] END n_features_to_select=3;, score=(train=-5.463, test=-5.412) total time=   3.8s\n",
      "[CV 4/5; 3/132] START n_features_to_select=3....................................\n",
      "[CV 4/5; 3/132] END n_features_to_select=3;, score=(train=-5.473, test=-5.524) total time=   4.0s\n",
      "[CV 5/5; 3/132] START n_features_to_select=3....................................\n",
      "[CV 5/5; 3/132] END n_features_to_select=3;, score=(train=-5.495, test=-5.424) total time=   4.0s\n",
      "[CV 1/5; 4/132] START n_features_to_select=4....................................\n",
      "[CV 1/5; 4/132] END n_features_to_select=4;, score=(train=-5.397, test=-5.567) total time=   4.0s\n",
      "[CV 2/5; 4/132] START n_features_to_select=4....................................\n",
      "[CV 2/5; 4/132] END n_features_to_select=4;, score=(train=-5.459, test=-5.394) total time=   4.0s\n",
      "[CV 3/5; 4/132] START n_features_to_select=4....................................\n",
      "[CV 3/5; 4/132] END n_features_to_select=4;, score=(train=-5.455, test=-5.409) total time=   4.0s\n",
      "[CV 4/5; 4/132] START n_features_to_select=4....................................\n",
      "[CV 4/5; 4/132] END n_features_to_select=4;, score=(train=-5.473, test=-5.526) total time=   4.2s\n",
      "[CV 5/5; 4/132] START n_features_to_select=4....................................\n",
      "[CV 5/5; 4/132] END n_features_to_select=4;, score=(train=-5.486, test=-5.409) total time=   4.3s\n",
      "[CV 1/5; 5/132] START n_features_to_select=5....................................\n",
      "[CV 1/5; 5/132] END n_features_to_select=5;, score=(train=-5.394, test=-5.568) total time=   4.5s\n",
      "[CV 2/5; 5/132] START n_features_to_select=5....................................\n",
      "[CV 2/5; 5/132] END n_features_to_select=5;, score=(train=-5.454, test=-5.386) total time=   4.5s\n",
      "[CV 3/5; 5/132] START n_features_to_select=5....................................\n",
      "[CV 3/5; 5/132] END n_features_to_select=5;, score=(train=-5.447, test=-5.411) total time=   4.5s\n",
      "[CV 4/5; 5/132] START n_features_to_select=5....................................\n",
      "[CV 4/5; 5/132] END n_features_to_select=5;, score=(train=-5.471, test=-5.526) total time=   5.3s\n",
      "[CV 5/5; 5/132] START n_features_to_select=5....................................\n",
      "[CV 5/5; 5/132] END n_features_to_select=5;, score=(train=-5.483, test=-5.413) total time=   5.5s\n",
      "[CV 1/5; 6/132] START n_features_to_select=6....................................\n",
      "[CV 1/5; 6/132] END n_features_to_select=6;, score=(train=-5.391, test=-5.567) total time=   5.8s\n",
      "[CV 2/5; 6/132] START n_features_to_select=6....................................\n",
      "[CV 2/5; 6/132] END n_features_to_select=6;, score=(train=-5.441, test=-5.371) total time=   5.7s\n",
      "[CV 3/5; 6/132] START n_features_to_select=6....................................\n",
      "[CV 3/5; 6/132] END n_features_to_select=6;, score=(train=-5.435, test=-5.396) total time=   7.0s\n",
      "[CV 4/5; 6/132] START n_features_to_select=6....................................\n",
      "[CV 4/5; 6/132] END n_features_to_select=6;, score=(train=-5.471, test=-5.525) total time=   6.0s\n",
      "[CV 5/5; 6/132] START n_features_to_select=6....................................\n",
      "[CV 5/5; 6/132] END n_features_to_select=6;, score=(train=-5.481, test=-5.416) total time=   6.5s\n",
      "[CV 1/5; 7/132] START n_features_to_select=7....................................\n",
      "[CV 1/5; 7/132] END n_features_to_select=7;, score=(train=-5.390, test=-5.569) total time=   6.0s\n",
      "[CV 2/5; 7/132] START n_features_to_select=7....................................\n",
      "[CV 2/5; 7/132] END n_features_to_select=7;, score=(train=-5.441, test=-5.371) total time=   7.4s\n",
      "[CV 3/5; 7/132] START n_features_to_select=7....................................\n",
      "[CV 3/5; 7/132] END n_features_to_select=7;, score=(train=-5.436, test=-5.398) total time=   6.8s\n",
      "[CV 4/5; 7/132] START n_features_to_select=7....................................\n",
      "[CV 4/5; 7/132] END n_features_to_select=7;, score=(train=-5.469, test=-5.522) total time=   6.0s\n",
      "[CV 5/5; 7/132] START n_features_to_select=7....................................\n",
      "[CV 5/5; 7/132] END n_features_to_select=7;, score=(train=-5.481, test=-5.417) total time=   6.0s\n",
      "[CV 1/5; 8/132] START n_features_to_select=8....................................\n",
      "[CV 1/5; 8/132] END n_features_to_select=8;, score=(train=-5.390, test=-5.569) total time=   5.0s\n",
      "[CV 2/5; 8/132] START n_features_to_select=8....................................\n",
      "[CV 2/5; 8/132] END n_features_to_select=8;, score=(train=-5.438, test=-5.362) total time=   5.5s\n",
      "[CV 3/5; 8/132] START n_features_to_select=8....................................\n",
      "[CV 3/5; 8/132] END n_features_to_select=8;, score=(train=-5.417, test=-5.394) total time=   4.7s\n",
      "[CV 4/5; 8/132] START n_features_to_select=8....................................\n",
      "[CV 4/5; 8/132] END n_features_to_select=8;, score=(train=-5.469, test=-5.522) total time=   4.4s\n",
      "[CV 5/5; 8/132] START n_features_to_select=8....................................\n",
      "[CV 5/5; 8/132] END n_features_to_select=8;, score=(train=-5.481, test=-5.417) total time=   4.7s\n",
      "[CV 1/5; 9/132] START n_features_to_select=9....................................\n",
      "[CV 1/5; 9/132] END n_features_to_select=9;, score=(train=-5.390, test=-5.569) total time=   4.4s\n",
      "[CV 2/5; 9/132] START n_features_to_select=9....................................\n",
      "[CV 2/5; 9/132] END n_features_to_select=9;, score=(train=-5.437, test=-5.361) total time=   4.3s\n",
      "[CV 3/5; 9/132] START n_features_to_select=9....................................\n",
      "[CV 3/5; 9/132] END n_features_to_select=9;, score=(train=-5.402, test=-5.385) total time=   4.5s\n",
      "[CV 4/5; 9/132] START n_features_to_select=9....................................\n",
      "[CV 4/5; 9/132] END n_features_to_select=9;, score=(train=-5.469, test=-5.521) total time=   4.4s\n",
      "[CV 5/5; 9/132] START n_features_to_select=9....................................\n",
      "[CV 5/5; 9/132] END n_features_to_select=9;, score=(train=-5.468, test=-5.394) total time=   4.1s\n",
      "[CV 1/5; 10/132] START n_features_to_select=10..................................\n"
     ]
    },
    {
     "name": "stdout",
     "output_type": "stream",
     "text": [
      "[CV 1/5; 10/132] END n_features_to_select=10;, score=(train=-5.392, test=-5.573) total time=   3.9s\n",
      "[CV 2/5; 10/132] START n_features_to_select=10..................................\n",
      "[CV 2/5; 10/132] END n_features_to_select=10;, score=(train=-5.437, test=-5.360) total time=   4.2s\n",
      "[CV 3/5; 10/132] START n_features_to_select=10..................................\n",
      "[CV 3/5; 10/132] END n_features_to_select=10;, score=(train=-5.383, test=-5.366) total time=   3.8s\n",
      "[CV 4/5; 10/132] START n_features_to_select=10..................................\n",
      "[CV 4/5; 10/132] END n_features_to_select=10;, score=(train=-5.469, test=-5.522) total time=   3.6s\n",
      "[CV 5/5; 10/132] START n_features_to_select=10..................................\n",
      "[CV 5/5; 10/132] END n_features_to_select=10;, score=(train=-5.459, test=-5.381) total time=   4.3s\n",
      "[CV 1/5; 11/132] START n_features_to_select=11..................................\n",
      "[CV 1/5; 11/132] END n_features_to_select=11;, score=(train=-5.391, test=-5.574) total time=   3.8s\n",
      "[CV 2/5; 11/132] START n_features_to_select=11..................................\n",
      "[CV 2/5; 11/132] END n_features_to_select=11;, score=(train=-5.437, test=-5.360) total time=   3.7s\n",
      "[CV 3/5; 11/132] START n_features_to_select=11..................................\n",
      "[CV 3/5; 11/132] END n_features_to_select=11;, score=(train=-5.383, test=-5.365) total time=   4.3s\n",
      "[CV 4/5; 11/132] START n_features_to_select=11..................................\n",
      "[CV 4/5; 11/132] END n_features_to_select=11;, score=(train=-5.454, test=-5.504) total time=   4.1s\n",
      "[CV 5/5; 11/132] START n_features_to_select=11..................................\n",
      "[CV 5/5; 11/132] END n_features_to_select=11;, score=(train=-5.453, test=-5.369) total time=   4.0s\n",
      "[CV 1/5; 12/132] START n_features_to_select=12..................................\n",
      "[CV 1/5; 12/132] END n_features_to_select=12;, score=(train=-5.392, test=-5.575) total time=   4.0s\n",
      "[CV 2/5; 12/132] START n_features_to_select=12..................................\n",
      "[CV 2/5; 12/132] END n_features_to_select=12;, score=(train=-5.437, test=-5.361) total time=   4.0s\n",
      "[CV 3/5; 12/132] START n_features_to_select=12..................................\n",
      "[CV 3/5; 12/132] END n_features_to_select=12;, score=(train=-5.379, test=-5.363) total time=   4.8s\n",
      "[CV 4/5; 12/132] START n_features_to_select=12..................................\n",
      "[CV 4/5; 12/132] END n_features_to_select=12;, score=(train=-5.440, test=-5.498) total time=   4.3s\n",
      "[CV 5/5; 12/132] START n_features_to_select=12..................................\n",
      "[CV 5/5; 12/132] END n_features_to_select=12;, score=(train=-5.445, test=-5.364) total time=   4.3s\n",
      "[CV 1/5; 13/132] START n_features_to_select=13..................................\n",
      "[CV 1/5; 13/132] END n_features_to_select=13;, score=(train=-5.391, test=-5.574) total time=   4.6s\n",
      "[CV 2/5; 13/132] START n_features_to_select=13..................................\n",
      "[CV 2/5; 13/132] END n_features_to_select=13;, score=(train=-5.437, test=-5.361) total time=   4.9s\n",
      "[CV 3/5; 13/132] START n_features_to_select=13..................................\n",
      "[CV 3/5; 13/132] END n_features_to_select=13;, score=(train=-5.379, test=-5.363) total time=   5.8s\n",
      "[CV 4/5; 13/132] START n_features_to_select=13..................................\n",
      "[CV 4/5; 13/132] END n_features_to_select=13;, score=(train=-5.424, test=-5.463) total time=   5.5s\n",
      "[CV 5/5; 13/132] START n_features_to_select=13..................................\n",
      "[CV 5/5; 13/132] END n_features_to_select=13;, score=(train=-5.439, test=-5.372) total time=   6.1s\n",
      "[CV 1/5; 14/132] START n_features_to_select=14..................................\n",
      "[CV 1/5; 14/132] END n_features_to_select=14;, score=(train=-5.391, test=-5.574) total time=   5.9s\n",
      "[CV 2/5; 14/132] START n_features_to_select=14..................................\n",
      "[CV 2/5; 14/132] END n_features_to_select=14;, score=(train=-5.437, test=-5.361) total time=   6.9s\n",
      "[CV 3/5; 14/132] START n_features_to_select=14..................................\n",
      "[CV 3/5; 14/132] END n_features_to_select=14;, score=(train=-5.366, test=-5.350) total time=   5.7s\n",
      "[CV 4/5; 14/132] START n_features_to_select=14..................................\n",
      "[CV 4/5; 14/132] END n_features_to_select=14;, score=(train=-5.424, test=-5.462) total time=   7.1s\n",
      "[CV 5/5; 14/132] START n_features_to_select=14..................................\n",
      "[CV 5/5; 14/132] END n_features_to_select=14;, score=(train=-5.426, test=-5.348) total time=   6.3s\n",
      "[CV 1/5; 15/132] START n_features_to_select=15..................................\n",
      "[CV 1/5; 15/132] END n_features_to_select=15;, score=(train=-5.391, test=-5.574) total time=   6.5s\n",
      "[CV 2/5; 15/132] START n_features_to_select=15..................................\n",
      "[CV 2/5; 15/132] END n_features_to_select=15;, score=(train=-5.437, test=-5.362) total time=   6.1s\n",
      "[CV 3/5; 15/132] START n_features_to_select=15..................................\n",
      "[CV 3/5; 15/132] END n_features_to_select=15;, score=(train=-5.366, test=-5.350) total time=   5.0s\n",
      "[CV 4/5; 15/132] START n_features_to_select=15..................................\n",
      "[CV 4/5; 15/132] END n_features_to_select=15;, score=(train=-5.424, test=-5.462) total time=   4.7s\n",
      "[CV 5/5; 15/132] START n_features_to_select=15..................................\n",
      "[CV 5/5; 15/132] END n_features_to_select=15;, score=(train=-5.426, test=-5.349) total time=   4.4s\n",
      "[CV 1/5; 16/132] START n_features_to_select=16..................................\n",
      "[CV 1/5; 16/132] END n_features_to_select=16;, score=(train=-5.389, test=-5.565) total time=   4.2s\n",
      "[CV 2/5; 16/132] START n_features_to_select=16..................................\n",
      "[CV 2/5; 16/132] END n_features_to_select=16;, score=(train=-5.437, test=-5.360) total time=   4.1s\n",
      "[CV 3/5; 16/132] START n_features_to_select=16..................................\n",
      "[CV 3/5; 16/132] END n_features_to_select=16;, score=(train=-5.366, test=-5.349) total time=   3.8s\n",
      "[CV 4/5; 16/132] START n_features_to_select=16..................................\n",
      "[CV 4/5; 16/132] END n_features_to_select=16;, score=(train=-5.413, test=-5.448) total time=   3.8s\n",
      "[CV 5/5; 16/132] START n_features_to_select=16..................................\n"
     ]
    }
   ],
   "source": [
    "start_time = time.time()\n",
    "from sklearn.feature_selection import RFE\n",
    "\n",
    "\n",
    "#specify range of hyperparameters to tune\n",
    "hyper_params = [{'n_features_to_select': list(range(1,133))}]\n",
    "\n",
    "\n",
    "# perform grid search\n",
    "\n",
    "rfe = RFE(LRmodel)             \n",
    "\n",
    "# 3.2 call GridSearchCV()\n",
    "model_cv = model_selection.GridSearchCV(estimator = rfe, \n",
    "                        param_grid = hyper_params, \n",
    "                        scoring= 'neg_mean_squared_error', \n",
    "                        cv = folds, \n",
    "                        verbose = 10,\n",
    "                        return_train_score=True)      \n",
    "\n",
    "# fit the model\n",
    "model_cv.fit(x_train, y_train)   \n",
    "\n",
    "print(\"run time:\", str(time.time()-start_time), \"start time:\", str(start_time), \"end time\",str(time.time()))"
   ]
  },
  {
   "cell_type": "code",
   "execution_count": null,
   "metadata": {},
   "outputs": [],
   "source": [
    "# cv results\n",
    "cv_results = pd.DataFrame(model_cv.cv_results_)\n",
    "cv_results"
   ]
  },
  {
   "cell_type": "code",
   "execution_count": null,
   "metadata": {},
   "outputs": [],
   "source": [
    "# plotting cv results\n",
    "plt.figure(figsize=(16,6))\n",
    "\n",
    "#plt.plot(cv_results[\"param_n_features_to_select\"], cv_results[\"mean_test_score\"])\n",
    "plt.plot(cv_results[\"param_n_features_to_select\"], cv_results[\"mean_train_score\"])\n",
    "plt.xlabel('number of features')\n",
    "plt.ylabel('r-squared')\n",
    "plt.title(\"Optimal Number of Features\")\n",
    "plt.legend(['test score', 'train score'], loc='upper left')"
   ]
  },
  {
   "cell_type": "markdown",
   "metadata": {},
   "source": [
    "#### 4.1.1.2 Linear Regression - Regularisation"
   ]
  },
  {
   "cell_type": "markdown",
   "metadata": {},
   "source": [
    "**Lasso Regularisation**"
   ]
  },
  {
   "cell_type": "code",
   "execution_count": null,
   "metadata": {},
   "outputs": [],
   "source": [
    "start_time = time.time()\n",
    "alpha = [0.0001, 0.001, 0.005, 0.01]\n",
    "\n",
    "for i in range(4):\n",
    "    #build lasso regressor model here\n",
    "    lasso = linear_model.Lasso(alpha=alpha[i])\n",
    "    lasso.fit(x_train, y_train) #fit a lasso regression on the training data\n",
    "    y_predlasso = lasso.predict(x_test) #use this model to predict the test data\n",
    "    lasso_mse = metrics.mean_squared_error(y_test, y_predlasso) #calculate the test MSE\n",
    "    lasso_rmse = metrics.mean_squared_error(y_test, y_predlasso,squared = False) #calculate the test RMSE\n",
    "    msemanual = np.mean((y_predlasso-y_test)**2) #calculate mse manually to cross validate\n",
    "    lasso_cplxy = (np.sum(abs(lasso.coef_))) #calculate l1norm / model complexity\n",
    "    \n",
    "    print('-' * 32)\n",
    "    print('lasso with alpha', alpha[i])\n",
    "    print('-' * 32)\n",
    "    print('\\nTrain score:', round(lasso.score(x_train, y_train), 3)) #compute train R^2 score\n",
    "    print('Test score:', round(lasso.score(x_test, y_test), 3)) #compute test R^2 score\n",
    "    print(list(map(lambda x: round(x, 3), lasso.coef_))) #list out the coef values \n",
    "    print('-' * 32)\n",
    "    print('MSE on test set:', lasso_mse) #compute MSE results\n",
    "    print('Manual MSE on test set:',msemanual) #compute MSE results\n",
    "    print('RMSE on test set:', lasso_rmse) #compute RMSE results\n",
    "    print('model complexity:', lasso_cplxy) #compute L1 NOMR score\n",
    "    print('regularized cost:', lasso_mse + alpha[i] * lasso_cplxy) #compute regularised cost function scores\n",
    "    print('\\n')\n",
    "print(\"run time:\", str(time.time()-start_time), \"start time:\", str(start_time), \"end time\",str(time.time()))   "
   ]
  },
  {
   "cell_type": "markdown",
   "metadata": {},
   "source": [
    "**Ridge Regularisation**"
   ]
  },
  {
   "cell_type": "code",
   "execution_count": null,
   "metadata": {},
   "outputs": [],
   "source": [
    "start_time = time.time()\n",
    "ridgealpha = [0.001, 0.01, 0.1, 1]\n",
    "\n",
    "for i in range(4):\n",
    "    #build ridge regressor here\n",
    "    ridge = linear_model.Ridge(alpha=ridgealpha[i])\n",
    "    ridge.fit(x_train, y_train) #fit a ridge regression on the training data\n",
    "    y_pred_ridge = ridge.predict(x_test) #use this model to predict the test data\n",
    "    ridge_mse = metrics.mean_squared_error(y_test, y_pred_ridge) #calculate the test mse\n",
    "    ridge_rmse = metrics.mean_squared_error(y_test, y_pred_ridge,squared = False) #calculate the test rmse\n",
    "    ridge_cplxy = (np.linalg.norm(ridge.coef_)) #calculate l2norm / model complexity\n",
    "    \n",
    "    print('-' * 32)\n",
    "    print('ridge with alpha', ridgealpha[i])\n",
    "    print('-' * 32)\n",
    "    print('\\nTrain score:', round(ridge.score(x_train, y_train), 3))\n",
    "    print('Test score:', round(ridge.score(x_test, y_test), 3))\n",
    "    print(list(map(lambda x: round(x, 3), ridge.coef_)))\n",
    "    print('-' * 32)\n",
    "    print('MSE on test set:', ridge_mse)\n",
    "    print('RMSE on test set:', ridge_rmse)\n",
    "    print('model complexity:', ridge_cplxy)\n",
    "    print('regularized cost:', ridge_mse + ridgealpha[i] * ridge_cplxy)\n",
    "    print('\\n')\n",
    "print(\"run time:\", str(time.time()-start_time), \"start time:\", str(start_time), \"end time\",str(time.time()))"
   ]
  },
  {
   "cell_type": "markdown",
   "metadata": {},
   "source": [
    "### 4.1.1.3. Principal Component Regression"
   ]
  },
  {
   "cell_type": "code",
   "execution_count": null,
   "metadata": {},
   "outputs": [],
   "source": [
    "from sklearn.preprocessing import scale\n",
    "from sklearn.decomposition import PCA\n",
    "from sklearn.cross_decomposition import PLSRegression\n",
    "from sklearn.cross_decomposition import PLSRegression, PLSSVD\n",
    "from sklearn import model_selection\n"
   ]
  },
  {
   "cell_type": "code",
   "execution_count": null,
   "metadata": {},
   "outputs": [],
   "source": [
    "pca = PCA()\n",
    "x_reduced = pca.fit_transform(scale(x_train))\n"
   ]
  },
  {
   "cell_type": "code",
   "execution_count": null,
   "metadata": {},
   "outputs": [],
   "source": [
    "pd.DataFrame(pca.components_.T).loc[:4,:5]\n",
    "#pd.DataFrame(pca.components_.T)"
   ]
  },
  {
   "cell_type": "code",
   "execution_count": null,
   "metadata": {},
   "outputs": [],
   "source": [
    "# 10-fold CV, with shuffle\n",
    "kf_10 = model_selection.KFold(n_splits=10, shuffle=True, random_state=100) \n",
    "\n",
    "pcascores = model_selection.cross_val_score(LRmodel, x_reduced, y_train, scoring='neg_mean_squared_error', cv=kf_10)\n",
    "\n",
    "print('\\nR2 score:',pcascores)"
   ]
  },
  {
   "cell_type": "code",
   "execution_count": null,
   "metadata": {},
   "outputs": [],
   "source": [
    "#specify range of hyperparameters to tune\n",
    "hyper_params = [{'n_features_to_select': list(range(1,109))}]\n",
    "   \n",
    "\n",
    "# GridSearchCV()\n",
    "pcamodel_cv = model_selection.GridSearchCV(estimator = rfe, \n",
    "                        param_grid = hyper_params, \n",
    "                        scoring= 'neg_mean_squared_error', \n",
    "                        cv = kf_10, \n",
    "                        verbose = 10,\n",
    "                        return_train_score=True)      \n",
    "\n",
    "# fit the model\n",
    "pcamodel_cv.fit(x_reduced, y_train)              "
   ]
  },
  {
   "cell_type": "code",
   "execution_count": null,
   "metadata": {},
   "outputs": [],
   "source": [
    "pcacv_results = pd.DataFrame(pcamodel_cv.cv_results_)\n",
    "pcacv_results"
   ]
  },
  {
   "cell_type": "code",
   "execution_count": null,
   "metadata": {},
   "outputs": [],
   "source": [
    "# plotting cv results\n",
    "plt.figure(figsize=(16,6))\n",
    "\n",
    "#plt.plot(cv_results[\"param_n_features_to_select\"], pcacv_results[\"mean_test_score\"])\n",
    "plt.plot(pcacv_results[\"param_n_features_to_select\"], pcacv_results[\"mean_train_score\"])\n",
    "plt.xlabel('number of features')\n",
    "plt.ylabel('r-squared')\n",
    "plt.title(\"Optimal Number of Features\")\n",
    "plt.legend(['test score', 'train score'], loc='upper left')"
   ]
  },
  {
   "cell_type": "code",
   "execution_count": null,
   "metadata": {},
   "outputs": [],
   "source": [
    "plt.plot(np.cumsum(pca.explained_variance_ratio_))\n",
    "plt.xlabel('number of components')\n",
    "plt.ylabel('cumulative explained variance')"
   ]
  },
  {
   "cell_type": "markdown",
   "metadata": {},
   "source": [
    "### 4.1.2. Ensemble Models"
   ]
  },
  {
   "cell_type": "code",
   "execution_count": null,
   "metadata": {},
   "outputs": [],
   "source": [
    "def evaluate_model(model, test_features, test_labels):\n",
    "    predictions = model.predict(test_features)\n",
    "    errors = abs(predictions-test_labels)\n",
    "    mse = metrics.mean_squared_error(test_labels,predictions)\n",
    "    rmse = np.sqrt(mse)\n",
    "    \n",
    "    mape = 100 * np.mean(errors / test_labels)\n",
    "    accuracy = 100 - mape\n",
    "    rsquare = model.score(test_features,test_labels)\n",
    "    importance = model.feature_importances_\n",
    "\n",
    "    \n",
    "    print('Model Preformance')\n",
    "    print('Average Error: {:0.4f} degrees.'.format(np.mean(errors)))\n",
    "    print('Accuracy = {:0.2f}%,'.format(accuracy))\n",
    "    print('rmse',rmse)\n",
    "    print('mse',mse)\n",
    "    print('R square:', rsquare)\n",
    "    \n",
    "    print(\"__________\")\n",
    "    print(\"Top 5 Features\")\n",
    "    feature_dict = {}\n",
    "    for i,v in enumerate(importance):\n",
    "        #print('Feature %0d, Score: %.5f' % (i,v))\n",
    "        feature_dict[i]=v\n",
    "    feature_names = test_features.columns\n",
    "    sorted_features = sorted(feature_dict.items(), key=lambda x: x[1], reverse=True)\n",
    "    \n",
    "    for i in sorted_features[:5]:\n",
    "        print(feature_names[i[0]],i[1])\n",
    "        \n",
    "    plt.bar([x for x in range(len(importance))],importance)\n",
    "    plt.show()\n",
    "    \n",
    "    \n",
    "    \n",
    "    return accuracy"
   ]
  },
  {
   "cell_type": "markdown",
   "metadata": {},
   "source": [
    "### 4.1.2.1. Random Forest"
   ]
  },
  {
   "cell_type": "code",
   "execution_count": null,
   "metadata": {},
   "outputs": [],
   "source": [
    "from sklearn.ensemble import RandomForestRegressor\n",
    "from sklearn.model_selection import GridSearchCV\n",
    "from sklearn.metrics import mean_squared_error\n",
    "from sklearn.metrics import r2_score\n",
    "# Create the parameter grid based on the results of random search \n",
    "param_grid = {\n",
    "    'bootstrap': [True],\n",
    "    'max_features': [27, 30, 33],\n",
    "    'oob_score': [True],\n",
    "    'n_estimators': [2250, 2500, 2750]\n",
    "}\n",
    "# Create a based model\n",
    "rfgs = RandomForestRegressor()\n",
    "# Instantiate the grid search model\n",
    "grid_search = GridSearchCV(estimator = rfgs, param_grid = param_grid, cv = 3, n_jobs = -1, verbose = 3)\n",
    "#wrapper_gs = RegressorChain(grid_search)\n",
    "grid_search.fit(x_train, y_train)\n",
    "\n",
    "#grid_search.fit(train_features, train_labels)\n",
    "print(grid_search.best_params_)\n",
    "\n",
    "print(grid_search.best_estimator_)\n",
    "print(grid_search.best_score_)\n",
    "\n",
    "y_pred_rfgs = grid_search.predict(x_test)\n",
    "rmse = np.sqrt(mean_squared_error(y_test, y_pred_rfgs))\n",
    "print(\"RMSE: %f\" % (rmse))\n",
    "\n",
    "print(\"Mean squared error: %.2f\"\n",
    "      % mean_squared_error(y_test, y_pred_rfgs))\n",
    "# Explained variance score: 1 is perfect prediction\n",
    "print('R2 score: %.2f' % r2_score(y_test, y_pred_rfgs))"
   ]
  },
  {
   "cell_type": "code",
   "execution_count": null,
   "metadata": {},
   "outputs": [],
   "source": [
    "best_rf = grid_search.best_estimator_\n",
    "rf_accuracy = evaluate_model(best_rf, x_test, y_test)\n"
   ]
  },
  {
   "cell_type": "markdown",
   "metadata": {},
   "source": [
    "### 4.1.2.2.Adaboost"
   ]
  },
  {
   "cell_type": "code",
   "execution_count": null,
   "metadata": {},
   "outputs": [],
   "source": [
    "from sklearn import tree, ensemble, model_selection, metrics\n",
    "from sklearn.model_selection import GridSearchCV\n",
    "\n",
    "ada2=ensemble.AdaBoostRegressor(tree.DecisionTreeRegressor(), random_state = 888)\n",
    "\n",
    "parameters ={\n",
    "    'n_estimators':[350, 400, 500],\n",
    "    'learning_rate':[0.01, 0.1],\n",
    "    'base_estimator__max_depth':[25, 30, 35]\n",
    "}\n",
    "\n",
    "grid_ADA = GridSearchCV(estimator=ada2, param_grid=parameters, scoring='neg_mean_squared_error',n_jobs=-1, cv=3, verbose=3)\n",
    "grid_ADA.fit(x_train, y_train)\n",
    "\n",
    " \n",
    "\n",
    "print(\" Results from Grid Search \" )\n",
    "print(\"\\n The best estimator across ALL searched params:\\n\",grid_ADA.best_estimator_)\n",
    "print(\"\\n The best score across ALL searched params:\\n\",grid_ADA.best_score_)\n",
    "print(\"\\n The best parameters across ALL searched params:\\n\",grid_ADA.best_params_)\n",
    "\n",
    "#print(\"\\n The best accuracy across ALL searched params:\\n\",evaluate(best_grid, x_test, y_test_one))\n",
    "\n",
    " \n",
    "\n",
    "y_pred_ADA = grid_ADA.predict(x_test)\n",
    "rmse = np.sqrt(mean_squared_error(y_test, y_pred_ADA))\n",
    "print(\"RMSE: %f\" % (rmse))\n",
    "print(\"Mean squared error: %.2f\" % mean_squared_error(y_test, y_pred_ADA))\n",
    "# Explained variance score: 1 is perfect prediction\n",
    "print('R2 score: %.2f' % r2_score(y_test, y_pred_ADA))"
   ]
  },
  {
   "cell_type": "markdown",
   "metadata": {},
   "source": [
    "### 4.1.2.3. Gradient Boosting Regressor"
   ]
  },
  {
   "cell_type": "code",
   "execution_count": null,
   "metadata": {},
   "outputs": [],
   "source": [
    "GBR = ensemble.GradientBoostingRegressor(random_state = 888)\n",
    "\n",
    "parameters = {\n",
    "    'learning_rate': [0.1, 0.2],\n",
    "    'n_estimators' : [180, 200, 225],\n",
    "    'max_depth'    : [5, 6, 8]\n",
    "}\n",
    "\n",
    " \n",
    "\n",
    "grid_GBR = GridSearchCV(estimator=GBR, param_grid = parameters, cv = 3, n_jobs=-1, verbose = 3)\n",
    "grid_GBR.fit(x_train, y_train)\n",
    "\n",
    "print(\" Results from Grid Search \" )\n",
    "print(\"\\n The best estimator across ALL searched params:\\n\",grid_GBR.best_estimator_)\n",
    "print(\"\\n The best score across ALL searched params:\\n\",grid_GBR.best_score_)\n",
    "print(\"\\n The best parameters across ALL searched params:\\n\",grid_GBR.best_params_)\n",
    "\n",
    "#print(\"\\n The best accuracy across ALL searched params:\\n\",evaluate(best_grid, x_test, y_test_one))\n",
    "\n",
    "\n",
    "y_pred_GBR = grid_GBR.predict(x_test)\n",
    "rmse = np.sqrt(mean_squared_error(y_test, y_pred_GBR))\n",
    "\n",
    "print(\"RMSE: %f\" % (rmse))\n",
    "print(\"Mean squared error: %.2f\" % mean_squared_error(y_test, y_pred_GBR))\n",
    "\n",
    "# Explained variance score: 1 is perfect prediction\n",
    "print('R2 score: %.4f' % r2_score(y_test, y_pred_GBR))"
   ]
  },
  {
   "cell_type": "markdown",
   "metadata": {},
   "source": [
    "## 4.1.2.4 XGBoost"
   ]
  },
  {
   "cell_type": "code",
   "execution_count": null,
   "metadata": {
    "scrolled": true
   },
   "outputs": [],
   "source": [
    "#pip install xgboost if yall need"
   ]
  },
  {
   "cell_type": "code",
   "execution_count": null,
   "metadata": {},
   "outputs": [],
   "source": [
    "import xgboost as xgb\n",
    "from xgboost.sklearn import XGBRegressor\n",
    "\n",
    "\n",
    "xgb1 = XGBRegressor()\n",
    "parameters = {'nthread':[4], #when use hyperthread, xgboost may become slower\n",
    "              'objective':['reg:linear'],\n",
    "              'learning_rate': [0.001, 0.01, 0.03], #so called `eta` value\n",
    "              'max_depth': [11,13,15],\n",
    "              'min_child_weight': [4],\n",
    "              'silent': [1],\n",
    "              'subsample': [0.7],\n",
    "              'colsample_bytree': [0.7],\n",
    "              'n_estimators': [700, 800, 900]}\n",
    "\n",
    "grid_xgb = GridSearchCV(estimator = xgb1,\n",
    "                        param_grid = parameters,\n",
    "                        cv = 3,\n",
    "                        n_jobs = -1,\n",
    "                        verbose=3)\n",
    "\n",
    "grid_xgb.fit(x_train,\n",
    "         y_train)\n",
    "\n",
    "print(\" Results from Grid Search \" )\n",
    "print(\"\\n The best estimator across ALL searched params:\\n\",grid_xgb.best_estimator_)\n",
    "print(\"\\n The best score across ALL searched params:\\n\",grid_xgb.best_score_)\n",
    "print(\"\\n The best parameters across ALL searched params:\\n\",grid_xgb.best_params_)\n",
    "\n",
    "#print(\"\\n The best accuracy across ALL searched params:\\n\",evaluate(best_grid, x_test, y_test_one))\n",
    "\n",
    "\n",
    "y_pred_xgb = grid_xgb.predict(x_test)\n",
    "rmse = np.sqrt(mean_squared_error(y_test, y_pred_xgb))\n",
    "\n",
    "print(\"RMSE: %f\" % (rmse))\n",
    "print(\"Mean squared error: %.2f\" % mean_squared_error(y_test, y_pred_xgb))\n",
    "\n",
    "# Explained variance score: 1 is perfect prediction\n",
    "print('R2 score: %.4f' % r2_score(y_test, y_pred_xgb))"
   ]
  },
  {
   "cell_type": "markdown",
   "metadata": {},
   "source": [
    "### 4.1.3. Neural Network"
   ]
  },
  {
   "cell_type": "code",
   "execution_count": null,
   "metadata": {},
   "outputs": [],
   "source": [
    "train_df = pd.concat([y_train,x_train], axis = 1)\n",
    "test_df = pd.concat([y_test, x_train],axis =1)\n",
    "test_df.rename(columns = {'HHSIZE_ above_3':'HHSIZE_above_3'} , inplace = True)"
   ]
  },
  {
   "cell_type": "code",
   "execution_count": null,
   "metadata": {},
   "outputs": [],
   "source": [
    "from sklearn.model_selection import RandomizedSearchCV\n",
    "from keras.models import Sequential\n",
    "from keras.layers import Dense\n",
    "from keras.wrappers.scikit_learn import KerasRegressor\n",
    "import tensorflow as tf\n",
    "from keras.layers import Dropout"
   ]
  },
  {
   "cell_type": "code",
   "execution_count": null,
   "metadata": {},
   "outputs": [],
   "source": [
    "def create_model_deep(input_shape,learn_rate,dropout_rate, layers,kernel_reg): #name,my_feature_layer,dropout_rate, layers):\n",
    "    model = tf.keras.models.Sequential()#name = name)\n",
    "    model.add(tf.keras.Input(shape=(input_shape,)))\n",
    "    #model.add(my_feature_layer)\n",
    "    for index, layer in enumerate(layers):\n",
    "        model.add(tf.keras.layers.Dense(units = layer,\n",
    "                                        activation = 'relu',\n",
    "                                        kernel_regularizer=kernel_reg,\n",
    "                                        name=f'Hidden{index}'))\n",
    "    model.add(Dropout(dropout_rate))  \n",
    "    model.add(tf.keras.layers.Dense(units=1, name='Output'))  \n",
    "    model.compile(optimizer=tf.keras.optimizers.Adam(lr=learn_rate),\n",
    "                  loss=\"mean_squared_error\",\n",
    "                  metrics=[tf.keras.metrics.MeanSquaredError()])\n",
    "    return model"
   ]
  },
  {
   "cell_type": "code",
   "execution_count": null,
   "metadata": {},
   "outputs": [],
   "source": [
    "one_hot_labs = [c for c in train_df if train_df[c].dtype == 'uint8']\n",
    "num_labs = ['tier diff','bay diff','quantity','pos diff']"
   ]
  },
  {
   "cell_type": "code",
   "execution_count": null,
   "metadata": {},
   "outputs": [],
   "source": [
    "feature_columns = []\n",
    "for i in num_labs:\n",
    "    i = tf.feature_column.numeric_column(i)\n",
    "    feature_columns.append(i)\n",
    "for k in one_hot_labs:\n",
    "    k = tf.feature_column.numeric_column(k)\n",
    "    feature_columns.append(k)\n",
    "my_feature_layer = tf.keras.layers.DenseFeatures(feature_columns)"
   ]
  },
  {
   "cell_type": "code",
   "execution_count": null,
   "metadata": {},
   "outputs": [],
   "source": [
    "import time\n",
    "start_time = time.time()\n",
    "\n",
    "input_shape = [x_train.shape[1]]\n",
    "learn_rate = ((0.01),(0.1),(0.3))\n",
    "batch_size = ((128,),(256,))\n",
    "dropout_rate = ((0.1),(0),(0.2))\n",
    "name = ['deep']\n",
    "kernel_reg = ((tf.keras.regularizers.l2(0.04)),('glorot_uniform'))\n",
    "layers = ((64,32,16,8),(64,16,8,4),(64,16),(64,32,16,8,4),(30,20,10,8))\n",
    "\n",
    " \n",
    "param_grid = dict(input_shape = input_shape,\n",
    "                  learn_rate = learn_rate,\n",
    "                  dropout_rate = dropout_rate,\n",
    "                  layers = layers,\n",
    "                  kernel_reg = kernel_reg)\n",
    "\n",
    "    \n",
    "model_deep = KerasRegressor(build_fn = create_model_deep, epochs = 1000, batch_size = 256, verbose =2)\n",
    "nn_grid = GridSearchCV(estimator = model_deep, param_grid = param_grid, n_jobs = -1, scoring='neg_mean_squared_error',verbose =5, cv = model_selection.KFold(n_splits = 5, shuffle = True, random_state = 888))\n",
    "nn_grid_result = nn_grid.fit(x_train, y_train)\n",
    "best_nn = nn_grid.best_estimator_\n",
    "\n",
    "print(\"run time:\", str(time.time()-start_time), \"start time:\", str(start_time), \"end time\",str(time.time()))"
   ]
  },
  {
   "cell_type": "code",
   "execution_count": null,
   "metadata": {},
   "outputs": [],
   "source": [
    "from sklearn.metrics import mean_squared_error\n",
    "from sklearn.metrics import r2_score\n",
    "\n",
    "\n",
    "\n",
    "predictions = best_nn.predict(x_test)\n",
    "mse = metrics.mean_squared_error(y_test,predictions)\n",
    "rmse = np.sqrt(mse)\n",
    "rsquare = r2_score(y_test, predictions)\n",
    "\n",
    "print('Model Preformance')\n",
    "print('rmse',rmse)\n",
    "print('mse',mse)\n",
    "print('R square:', rsquare)"
   ]
  },
  {
   "cell_type": "code",
   "execution_count": null,
   "metadata": {
    "scrolled": true
   },
   "outputs": [],
   "source": [
    "nn_grid_result.best_params_"
   ]
  },
  {
   "cell_type": "code",
   "execution_count": null,
   "metadata": {},
   "outputs": [],
   "source": [
    "# Create a table to compare the best results from X_train"
   ]
  },
  {
   "cell_type": "markdown",
   "metadata": {},
   "source": [
    "| X_Train | Linear - Lasso | Ensemble - Random Forest | Nerual Network | \n",
    "|---|---|---|---|\n",
    "| Parameters | 0 | 0 | 0 |\n",
    "| MSE  | 0 | 0.0180 | 0.0420 |\n",
    "| RMSE | 1.362 | 0.647 | 0 | \n",
    "| R-Square| 0.0172 | 0.0245 | 0.0420 | \n",
    "| Top Features| - | - | NA |"
   ]
  },
  {
   "cell_type": "markdown",
   "metadata": {},
   "source": [
    "Overall best model is ___ for x_train dataset. However as model is week explore using trip distances"
   ]
  },
  {
   "cell_type": "markdown",
   "metadata": {},
   "source": [
    "## 4.2. X_train_dist\n",
    "X_train now to include the distances columns obtained from the trips data. Should there be improvement, would suggest that obtaining binned distance measures for different WHY categories would prove to aid the model better"
   ]
  },
  {
   "cell_type": "code",
   "execution_count": null,
   "metadata": {},
   "outputs": [],
   "source": [
    "# run models with x_train_dist here - probably for each (linear vs ensemble vs nn) choose the best (E.G. run L2_linear, xgboost , NN )"
   ]
  },
  {
   "cell_type": "code",
   "execution_count": null,
   "metadata": {},
   "outputs": [],
   "source": []
  },
  {
   "cell_type": "markdown",
   "metadata": {},
   "source": [
    "### 4.2.1. Linear Models"
   ]
  },
  {
   "cell_type": "markdown",
   "metadata": {},
   "source": [
    "#### 4.2.1.1. Linear Regression"
   ]
  },
  {
   "cell_type": "code",
   "execution_count": null,
   "metadata": {},
   "outputs": [],
   "source": [
    "LRmodel_with_dist = linear_model.LinearRegression()  #create the linear regression \n",
    "LRmodel_with_dist.fit(x_train_with_dist,y_train) #train the model using the training set \n",
    "LR_pred_with_dist = LRmodel_with_dist.predict(x_test_with_dist) #use this model to predict the test data set "
   ]
  },
  {
   "cell_type": "code",
   "execution_count": null,
   "metadata": {},
   "outputs": [],
   "source": [
    "print('R^2 score:\\t\\t\\t\\t',LRmodel_with_dist.score(x_test_with_dist, y_test)) #compute R^2 score \n",
    "print('Explained Variance: \\t\\t\\t', metrics.explained_variance_score(y_test, LR_pred_with_dist)) #compute explained variance score\n",
    "print('Mean Absolute Error: \\t\\t\\t', metrics.mean_absolute_error(y_test, LR_pred_with_dist)) #compute MAE results\n",
    "print('Mean Squared Error:\\t\\t\\t', metrics.mean_squared_error(y_test, LR_pred_with_dist)) #compute MSE results\n",
    "print('Root Mean Squared Error:\\t\\t', metrics.mean_squared_error(y_test, LR_pred_with_dist, squared = False)) #compute RSME results\n",
    "print('Intercept:\\t', LRmodel_with_dist.intercept_) #find intercept value \n",
    "print('Coef:\\t', np.sum(LRmodel_with_dist.coef_!=0))#find no of features used in regression model "
   ]
  },
  {
   "cell_type": "code",
   "execution_count": null,
   "metadata": {},
   "outputs": [],
   "source": [
    "sns.regplot(y_test,LR_pred_with_dist) #plotting predictions "
   ]
  },
  {
   "cell_type": "code",
   "execution_count": null,
   "metadata": {},
   "outputs": [],
   "source": [
    "#calculate VIF scores to detect multicolinearity \n",
    "\n",
    "# VIF dataframe\n",
    "vif_data_with_dist = pd.DataFrame()\n",
    "vif_data_with_dist[\"feature\"] = x_train_with_dist.columns\n",
    "  \n",
    "# calculating VIF for each feature\n",
    "vif_data_with_dist[\"VIF\"] = [variance_inflation_factor(x_train_with_dist.values, i)\n",
    "                          for i in range(len(x_train_with_dist.columns))]\n",
    "  \n",
    "print(vif_data_with_dist)"
   ]
  },
  {
   "cell_type": "code",
   "execution_count": null,
   "metadata": {},
   "outputs": [],
   "source": [
    "vif_data_with_dist.sort_values(by = 'VIF', ascending = False)"
   ]
  },
  {
   "cell_type": "code",
   "execution_count": null,
   "metadata": {},
   "outputs": [],
   "source": [
    "# counting number of infinity features \n",
    "\n",
    "vif_data_inf_with_dist = np.isinf(vif_data_with_dist['VIF']).values.sum()\n",
    "print(\"It contains \" + str(vif_data_inf_with_dist) + \" infinite values\")\n"
   ]
  },
  {
   "cell_type": "code",
   "execution_count": null,
   "metadata": {},
   "outputs": [],
   "source": [
    "#cross validation to see if it will improve results \n",
    "folds = model_selection.KFold(n_splits = 5, shuffle = True, random_state = 100)\n",
    "scores_with_dist = model_selection.cross_val_score(LRmodel, x_train_with_dist, y_train, scoring='neg_mean_squared_error', cv=folds)\n",
    "print('\\nR2 score:',scores)"
   ]
  },
  {
   "cell_type": "code",
   "execution_count": null,
   "metadata": {},
   "outputs": [],
   "source": [
    "np.set_printoptions(formatter={'float_kind':'{:f}'.format})\n",
    "scores_with_dist"
   ]
  },
  {
   "cell_type": "code",
   "execution_count": null,
   "metadata": {},
   "outputs": [],
   "source": [
    "from sklearn.feature_selection import RFE\n",
    "import time\n",
    "start_time = time.time()\n",
    "#specify range of hyperparameters to tune\n",
    "hyper_params = [{'n_features_to_select': list(range(1,109))}]\n",
    "\n",
    "\n",
    "# perform grid search\n",
    "\n",
    "rfe_with_dist = RFE(LRmodel_with_dist)             \n",
    "\n",
    "# 3.2 call GridSearchCV()\n",
    "model_cv_with_dist = model_selection.GridSearchCV(estimator = rfe_with_dist, \n",
    "                        param_grid = hyper_params, \n",
    "                        scoring= 'neg_mean_squared_error', \n",
    "                        cv = folds, \n",
    "                        verbose = 10,\n",
    "                        return_train_score=True)      \n",
    "\n",
    "# fit the model\n",
    "model_cv_with_dist.fit(x_train_with_dist, y_train)\n",
    "print(\"run time:\", str(time.time()-start_time), \"start time:\", str(start_time), \"end time\",str(time.time()))"
   ]
  },
  {
   "cell_type": "code",
   "execution_count": null,
   "metadata": {},
   "outputs": [],
   "source": [
    "# cv results\n",
    "cv_results_with_dist = pd.DataFrame(model_cv_with_dist.cv_results_)\n",
    "cv_results_with_dist\n"
   ]
  },
  {
   "cell_type": "code",
   "execution_count": null,
   "metadata": {},
   "outputs": [],
   "source": [
    "# plotting cv results\n",
    "plt.figure(figsize=(16,6))\n",
    "\n",
    "#plt.plot(cv_results[\"param_n_features_to_select\"], cv_results[\"mean_test_score\"])\n",
    "plt.plot(cv_results_with_dist[\"param_n_features_to_select\"], cv_results[\"mean_train_score\"])\n",
    "plt.xlabel('number of features')\n",
    "plt.ylabel('r-squared')\n",
    "plt.title(\"Optimal Number of Features\")\n",
    "plt.legend(['test score', 'train score'], loc='upper left')\n"
   ]
  },
  {
   "cell_type": "markdown",
   "metadata": {},
   "source": [
    "#### 4.1.1.2 Linear Regression – Regularisation"
   ]
  },
  {
   "cell_type": "markdown",
   "metadata": {},
   "source": [
    "**Lasso Regularisation**"
   ]
  },
  {
   "cell_type": "code",
   "execution_count": null,
   "metadata": {},
   "outputs": [],
   "source": [
    "alpha = [0.0001, 0.001, 0.005, 0.01]\n",
    "\n",
    "for i in range(4):\n",
    "    #build lasso regressor model here\n",
    "    lasso_with_dist = linear_model.Lasso(alpha=alpha[i])\n",
    "    lasso_with_dist.fit(x_train_with_dist, y_train) #fit a lasso regression on the training data\n",
    "    y_predlasso_with_dist = lasso_with_dist.predict(x_test_with_dist) #use this model to predict the test data\n",
    "    lasso_mse_with_dist = metrics.mean_squared_error(y_test, y_predlasso_with_dist) #calculate the test MSE\n",
    "    lasso_rmse_with_dist = metrics.mean_squared_error(y_test, y_predlasso_with_dist,squared = False) #calculate the test RMSE\n",
    "    msemanual_with_dist = np.mean((y_predlasso_with_dist-y_test)**2) #calculate mse manually to cross validate\n",
    "    lasso_cplxy_with_dist = (np.sum(abs(lasso_with_dist.coef_))) #calculate l1norm / model complexity\n",
    "    \n",
    "    print('-' * 32)\n",
    "    print('lasso with alpha', alpha[i])\n",
    "    print('-' * 32)\n",
    "    print('\\nTrain score:', round(lasso_with_dist.score(x_train_with_dist, y_train), 3)) #compute train R^2 score\n",
    "    print('Test score:', round(lasso_with_dist.score(x_test_with_dist, y_test), 3)) #compute test R^2 score\n",
    "    print(list(map(lambda x: round(x, 3), lasso_with_dist.coef_))) #list out the coef values \n",
    "    print('-' * 32)\n",
    "    print('MSE on test set:', lasso_mse_with_dist) #compute MSE results\n",
    "    print('Manual MSE on test set:',msemanual_with_dist) #compute MSE results\n",
    "    print('RMSE on test set:', lasso_rmse_with_dist) #compute RMSE results\n",
    "    print('model complexity:', lasso_cplxy_with_dist) #compute L1 NOMR score\n",
    "    print('regularized cost:', lasso_mse_with_dist + alpha[i] * lasso_cplxy_with_dist) #compute regularised cost function scores\n",
    "    print('\\n')\n"
   ]
  },
  {
   "cell_type": "markdown",
   "metadata": {},
   "source": [
    "**Ridge Regularisation**"
   ]
  },
  {
   "cell_type": "code",
   "execution_count": null,
   "metadata": {},
   "outputs": [],
   "source": [
    "ridgealpha = [0.001, 0.01, 0.1, 1]\n",
    "\n",
    "for i in range(4):\n",
    "    #build ridge regressor here\n",
    "    ridge_with_dist = linear_model.Ridge(alpha=ridgealpha[i])\n",
    "    ridge_with_dist.fit(x_train_with_dist, y_train) #fit a ridge regression on the training data\n",
    "    y_pred_ridge_with_dist = ridge_with_dist.predict(x_test_with_dist) #use this model to predict the test data\n",
    "    ridge_mse_with_dist = metrics.mean_squared_error(y_test, y_pred_ridge_with_dist) #calculate the test mse\n",
    "    ridge_rmse_with_dist = metrics.mean_squared_error(y_test, y_pred_ridge_with_dist,squared = False) #calculate the test rmse\n",
    "    ridge_cplxy_with_dist = (np.linalg.norm(ridge_with_dist.coef_)) #calculate l2norm / model complexity\n",
    "    \n",
    "    print('-' * 32)\n",
    "    print('ridge with alpha', ridgealpha[i])\n",
    "    print('-' * 32)\n",
    "    print('\\nTrain score:', round(ridge_with_dist.score(x_train_with_dist, y_train), 3))\n",
    "    print('Test score:', round(ridge_with_dist.score(x_test_with_dist, y_test), 3))\n",
    "    print(list(map(lambda x: round(x, 3), ridge_with_dist.coef_)))\n",
    "    print('-' * 32)\n",
    "    print('MSE on test set:', ridge_mse_with_dist)\n",
    "    print('RMSE on test set:', ridge_rmse_with_dist)\n",
    "    print('model complexity:', ridge_cplxy_with_dist)\n",
    "    print('regularized cost:', ridge_mse_with_dist + ridgealpha_with_dist[i] * ridge_cplxy_with_dist)\n",
    "    print('\\n')\n"
   ]
  },
  {
   "cell_type": "markdown",
   "metadata": {},
   "source": [
    "### 4.2.1.3. Principal Component Regression"
   ]
  },
  {
   "cell_type": "code",
   "execution_count": null,
   "metadata": {},
   "outputs": [],
   "source": [
    "pca_with_dist = PCA()\n",
    "x_reduced_with_dist = pca_with_dist.fit_transform(scale(x_train_with_dist))"
   ]
  },
  {
   "cell_type": "code",
   "execution_count": null,
   "metadata": {},
   "outputs": [],
   "source": [
    "pd.DataFrame(pca.components_.T).loc[:4,:5]\n",
    "#pd.DataFrame(pca.components_.T)"
   ]
  },
  {
   "cell_type": "code",
   "execution_count": null,
   "metadata": {},
   "outputs": [],
   "source": [
    "# 10-fold CV, with shuffle\n",
    "kf_5 = model_selection.KFold(n_splits=5, shuffle=True, random_state=100)\n",
    "\n",
    "pcascores_with_dist = model_selection_with_dist.cross_val_score(LRmodel, x_reduced_with_dist, y_train, scoring='neg_mean_squared_error', cv=kf_10)\n",
    "\n",
    "print('\\nR2 score:',pcascores_with_dist)\n"
   ]
  },
  {
   "cell_type": "code",
   "execution_count": null,
   "metadata": {},
   "outputs": [],
   "source": [
    "#specify range of hyperparameters to tune\n",
    "hyper_params = [{'n_features_to_select': list(range(1,133))}]\n",
    "   \n",
    "\n",
    "# GridSearchCV()\n",
    "pcamodel_cv_with_dist = model_selection.GridSearchCV(estimator = rfe, \n",
    "                        param_grid = hyper_params, \n",
    "                        scoring= 'neg_mean_squared_error', \n",
    "                        cv = kf_5, \n",
    "                        verbose = 10,\n",
    "                        return_train_score=True)      \n",
    "\n",
    "# fit the model\n",
    "pcamodel_cv_with_dist.fit(x_reduced_with_dist, y_train)  \n"
   ]
  },
  {
   "cell_type": "code",
   "execution_count": null,
   "metadata": {},
   "outputs": [],
   "source": [
    "pcacv_results_with_dist = pd.DataFrame(pcamodel_cv_with_dist.cv_results_)\n",
    "pcacv_results_with_dist\n"
   ]
  },
  {
   "cell_type": "code",
   "execution_count": null,
   "metadata": {},
   "outputs": [],
   "source": [
    "# plotting cv results\n",
    "plt.figure(figsize=(16,6))\n",
    "\n",
    "#plt.plot(cv_results[\"param_n_features_to_select\"], pcacv_results[\"mean_test_score\"])\n",
    "plt.plot(pcacv_results_with_dist[\"param_n_features_to_select\"], pcacv_results[\"mean_train_score\"])\n",
    "plt.xlabel('number of features')\n",
    "plt.ylabel('r-squared')\n",
    "plt.title(\"Optimal Number of Features\")\n",
    "plt.legend(['test score', 'train score'], loc='upper left')\n"
   ]
  },
  {
   "cell_type": "code",
   "execution_count": null,
   "metadata": {},
   "outputs": [],
   "source": [
    "plt.plot(np.cumsum(pca_with_dist.explained_variance_ratio_))\n",
    "plt.xlabel('number of components')\n",
    "plt.ylabel('cumulative explained variance')\n"
   ]
  },
  {
   "cell_type": "markdown",
   "metadata": {},
   "source": [
    "### 4.2.2.1. Random Forest"
   ]
  },
  {
   "cell_type": "code",
   "execution_count": null,
   "metadata": {},
   "outputs": [],
   "source": [
    "\n",
    "# Create the parameter grid based on the results of random search \n",
    "param_grid = {\n",
    "    'bootstrap': [True],\n",
    "    'max_features': [27, 30, 33],\n",
    "    'oob_score': [True],\n",
    "    'n_estimators': [2250, 2500, 2750]\n",
    "}\n",
    "# Create a based model\n",
    "rfgs = RandomForestRegressor()\n",
    "# Instantiate the grid search model\n",
    "grid_search = GridSearchCV(estimator = rfgs, param_grid = param_grid, cv = 3, n_jobs = -1, verbose = 3)\n",
    "#wrapper_gs = RegressorChain(grid_search)\n",
    "grid_search.fit(x_train_with_dist, y_train)\n",
    "\n",
    "#grid_search.fit(train_features, train_labels)\n",
    "print(grid_search.best_params_)\n",
    "\n",
    "print(grid_search.best_estimator_)\n",
    "print(grid_search.best_score_)\n",
    "\n",
    "y_pred_rfgs = grid_search.predict(x_test_with_dist)\n",
    "rmse = np.sqrt(mean_squared_error(y_test, y_pred_rfgs))\n",
    "print(\"RMSE: %f\" % (rmse))\n",
    "\n",
    "print(\"Mean squared error: %.2f\"\n",
    "      % mean_squared_error(y_test, y_pred_rfgs))\n",
    "# Explained variance score: 1 is perfect prediction\n",
    "print('R2 score: %.2f' % r2_score(y_test, y_pred_rfgs))"
   ]
  },
  {
   "cell_type": "code",
   "execution_count": null,
   "metadata": {},
   "outputs": [],
   "source": [
    "best_rf = grid_search.best_estimator_\n",
    "rf_accuracy = evaluate_model(best_rf, x_test_with_dist, y_test)"
   ]
  },
  {
   "cell_type": "markdown",
   "metadata": {},
   "source": [
    "### 4.2..2. Adaboost"
   ]
  },
  {
   "cell_type": "code",
   "execution_count": null,
   "metadata": {},
   "outputs": [],
   "source": [
    "ada2=ensemble.AdaBoostRegressor(tree.DecisionTreeRegressor(), random_state = 888)\n",
    "\n",
    "parameters ={\n",
    "    'n_estimators':[350, 400, 500],\n",
    "    'learning_rate':[0.01, 0.1],\n",
    "    'base_estimator__max_depth':[25, 30, 35]\n",
    "}\n",
    "\n",
    "grid_ADA = GridSearchCV(estimator=ada2, param_grid=parameters, scoring='neg_mean_squared_error',n_jobs=-1, cv=3, verbose=3)\n",
    "grid_ADA.fit(x_train_with_dist, y_train)\n",
    "\n",
    " \n",
    "print(\" Results from Grid Search \" )\n",
    "print(\"\\n The best estimator across ALL searched params:\\n\",grid_ADA.best_estimator_)\n",
    "print(\"\\n The best score across ALL searched params:\\n\",grid_ADA.best_score_)\n",
    "print(\"\\n The best parameters across ALL searched params:\\n\",grid_ADA.best_params_)\n",
    "#print(\"\\n The best accuracy across ALL searched params:\\n\",evaluate(best_grid, x_test, y_test_one))\n",
    "\n",
    " \n",
    "y_pred_ADA = grid_ADA.predict(x_test_with_dist)\n",
    "rmse = np.sqrt(mean_squared_error(y_test, y_pred_ADA))\n",
    "print(\"RMSE: %f\" % (rmse))\n",
    "print(\"Mean squared error: %.2f\" % mean_squared_error(y_test, y_pred_ADA))\n",
    "\n",
    "# Explained variance score: 1 is perfect prediction\n",
    "print('R2 score: %.2f' % r2_score(y_test, y_pred_ADA))"
   ]
  },
  {
   "cell_type": "markdown",
   "metadata": {},
   "source": [
    "### 4.2.3. Gradient Boosting Regressor"
   ]
  },
  {
   "cell_type": "code",
   "execution_count": null,
   "metadata": {},
   "outputs": [],
   "source": [
    "GBR = ensemble.GradientBoostingRegressor(random_state = 888)\n",
    "\n",
    "parameters = {\n",
    "    'learning_rate': [0.1, 0.2],\n",
    "    'n_estimators' : [180, 200, 225],\n",
    "    'max_depth'    : [5, 6, 8]\n",
    "}\n",
    "\n",
    " \n",
    "grid_GBR = GridSearchCV(estimator=GBR, param_grid = parameters, cv = 3, n_jobs=-1, verbose = 3)\n",
    "grid_GBR.fit(x_train_with_dist, y_train)\n",
    "\n",
    "\n",
    "print(\" Results from Grid Search \" )\n",
    "print(\"\\n The best estimator across ALL searched params:\\n\",grid_GBR.best_estimator_)\n",
    "print(\"\\n The best score across ALL searched params:\\n\",grid_GBR.best_score_)\n",
    "print(\"\\n The best parameters across ALL searched params:\\n\",grid_GBR.best_params_)\n",
    "#print(\"\\n The best accuracy across ALL searched params:\\n\",evaluate(best_grid, x_test, y_test_one))\n",
    " \n",
    "\n",
    "y_pred_GBR = grid_GBR.predict(x_test_with_dist)\n",
    "rmse = np.sqrt(mean_squared_error(y_test, y_pred_GBR))\n",
    "\n",
    "print(\"RMSE: %f\" % (rmse))\n",
    "print(\"Mean squared error: %.2f\" % mean_squared_error(y_test, y_pred_GBR))\n",
    "\n",
    "# Explained variance score: 1 is perfect prediction\n",
    "print('R2 score: %.4f' % r2_score(y_test, y_pred_GBR))"
   ]
  },
  {
   "cell_type": "markdown",
   "metadata": {},
   "source": [
    "### 4.2.4. XGBoost"
   ]
  },
  {
   "cell_type": "code",
   "execution_count": null,
   "metadata": {},
   "outputs": [],
   "source": [
    "\n",
    "xgb1 = XGBRegressor()\n",
    "parameters = {'nthread':[4], #when use hyperthread, xgboost may become slower\n",
    "              'objective':['reg:linear'],\n",
    "              'learning_rate': [0.001, 0.01, 0.03], #so called `eta` value\n",
    "              'max_depth': [11,13,15],\n",
    "              'min_child_weight': [4],\n",
    "              'silent': [1],\n",
    "              'subsample': [0.7],\n",
    "              'colsample_bytree': [0.7],\n",
    "              'n_estimators': [700, 800, 900]}\n",
    "\n",
    "grid_xgb = GridSearchCV(estimator = xgb1,\n",
    "                        param_grid = parameters,\n",
    "                        cv = 3,\n",
    "                        n_jobs = -1,\n",
    "                        verbose=3)\n",
    "\n",
    "grid_xgb.fit(x_train_with_dist,\n",
    "         y_train)\n",
    "\n",
    "print(\" Results from Grid Search \" )\n",
    "print(\"\\n The best estimator across ALL searched params:\\n\",grid_xgb.best_estimator_)\n",
    "print(\"\\n The best score across ALL searched params:\\n\",grid_xgb.best_score_)\n",
    "print(\"\\n The best parameters across ALL searched params:\\n\",grid_xgb.best_params_)\n",
    "\n",
    "#print(\"\\n The best accuracy across ALL searched params:\\n\",evaluate(best_grid, x_test, y_test_one))\n",
    "\n",
    "\n",
    "y_pred_xgb = grid_xgb.predict(x_test_with_dist)\n",
    "rmse = np.sqrt(mean_squared_error(y_test, y_pred_xgb))\n",
    "\n",
    "print(\"RMSE: %f\" % (rmse))\n",
    "print(\"Mean squared error: %.2f\" % mean_squared_error(y_test, y_pred_xgb))\n",
    "\n",
    "# Explained variance score: 1 is perfect prediction\n",
    "print('R2 score: %.4f' % r2_score(y_test, y_pred_xgb))"
   ]
  },
  {
   "cell_type": "markdown",
   "metadata": {},
   "source": [
    "### 4.2.3. Neural Network"
   ]
  },
  {
   "cell_type": "code",
   "execution_count": null,
   "metadata": {},
   "outputs": [],
   "source": [
    "#use the same param_grid as earlier\n",
    "\n",
    "start_time = time.time()\n",
    "\n",
    "input_shape = [x_train_with_dist.shape[1]]\n",
    "learn_rate = ((0.01),(0.1),(0.3))\n",
    "batch_size = ((128,),(256,))\n",
    "dropout_rate = ((0.1),(0),(0.2))\n",
    "name = ['deep']\n",
    "kernel_reg = ((tf.keras.regularizers.l2(0.04)),('glorot_uniform'))\n",
    "layers = ((64,32,16,8),(64,16,8,4),(64,16),(64,32,16,8,4),(30,20,10,8))\n",
    "\n",
    " \n",
    "param_grid = dict(input_shape = input_shape,\n",
    "                  learn_rate = learn_rate,\n",
    "                  dropout_rate = dropout_rate,\n",
    "                  layers = layers,\n",
    "                  kernel_reg = kernel_reg)\n",
    "\n",
    "    \n",
    "model_deep = KerasRegressor(build_fn = create_model_deep, epochs = 1000, batch_size = 256, verbose =2)\n",
    "nn_grid = GridSearchCV(estimator = model_deep, param_grid = param_grid, n_jobs = -1, scoring='neg_mean_squared_error',verbose =5, cv = model_selection.KFold(n_splits = 5, shuffle = True, random_state = 888))\n",
    "nn_grid_result = nn_grid.fit(x_train_with_dist, y_train)\n",
    "best_nn = nn_grid.best_estimator_\n",
    "\n",
    "print(\"run time:\", str(time.time()-start_time), \"start time:\", str(start_time), \"end time\",str(time.time()))"
   ]
  },
  {
   "cell_type": "code",
   "execution_count": null,
   "metadata": {},
   "outputs": [],
   "source": [
    "from sklearn.metrics import mean_squared_error\n",
    "from sklearn.metrics import r2_score\n",
    "\n",
    "\n",
    "\n",
    "predictions = best_nn.predict(x_test_with_dist)\n",
    "mse = metrics.mean_squared_error(y_test,predictions)\n",
    "rmse = np.sqrt(mse)\n",
    "rsquare = r2_score(y_test, predictions)\n",
    "\n",
    "print('Model Preformance')\n",
    "print('rmse',rmse)\n",
    "print('mse',mse)\n",
    "print('R square:', rsquare)"
   ]
  },
  {
   "cell_type": "code",
   "execution_count": null,
   "metadata": {},
   "outputs": [],
   "source": [
    "nn_grid_result.best_params_"
   ]
  },
  {
   "cell_type": "markdown",
   "metadata": {},
   "source": [
    "| X_Train_with_dist | Linear - Lasso | Ensemble - Random Forest | Nerual Network | \n",
    "|---|---|---|---|\n",
    "| MSE  | 0 | 0.0180 | 2.49 |\n",
    "| RMSE | 1.362 | 0.647 | 1.58 | \n",
    "| R-Square| 0.0172 | 0.0245 | 0.55 | \n",
    "|Top Features | - | - | NA|"
   ]
  },
  {
   "cell_type": "markdown",
   "metadata": {},
   "source": [
    "Overall, adding distance features improved all models significantly and hence reccommendation is for future surveys to add in questions regarding main why column to ask distance bins.\n",
    "\n",
    "e.g. select from bins the distance to workplace for each member of the family \n"
   ]
  },
  {
   "cell_type": "code",
   "execution_count": null,
   "metadata": {},
   "outputs": [],
   "source": []
  }
 ],
 "metadata": {
  "kernelspec": {
   "display_name": "Python 3",
   "language": "python",
   "name": "python3"
  },
  "language_info": {
   "codemirror_mode": {
    "name": "ipython",
    "version": 3
   },
   "file_extension": ".py",
   "mimetype": "text/x-python",
   "name": "python",
   "nbconvert_exporter": "python",
   "pygments_lexer": "ipython3",
   "version": "3.7.4"
  }
 },
 "nbformat": 4,
 "nbformat_minor": 2
}
