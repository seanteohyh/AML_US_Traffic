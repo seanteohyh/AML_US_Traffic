{
 "cells": [
  {
   "cell_type": "markdown",
   "metadata": {},
   "source": [
    "# NY Person Trip Predictor"
   ]
  },
  {
   "cell_type": "code",
   "execution_count": 1,
   "metadata": {},
   "outputs": [],
   "source": [
    "import pandas as pd\n",
    "import numpy as np\n",
    "import datetime\n",
    "import matplotlib.pyplot as plt\n",
    "import seaborn as sns\n",
    "%matplotlib inline\n",
    "from sklearn import model_selection\n",
    "import warnings\n",
    "import math\n",
    "import time\n",
    "warnings.filterwarnings('ignore')"
   ]
  },
  {
   "cell_type": "code",
   "execution_count": 2,
   "metadata": {},
   "outputs": [],
   "source": [
    "#path = \"C:/Users/Seant/Desktop/aml_data\" #edit this path to change to your path folder\n",
    "#path = \"/Users/weijilim/Downloads/csv\"\n",
    "path = \"/Users/jayneteo/Dropbox/SMU MITB/Term 2 2021/AML/Project/NHTS/csv\" \n",
    "\n",
    "household = pd.read_csv(\"\".join([path,'/hhpub.csv']))\n",
    "person =  pd.read_csv(\"\".join([path,'/perpub.csv']))\n",
    "trip =  pd.read_csv(\"\".join([path,'/trippub.csv']))\n",
    "\n"
   ]
  },
  {
   "cell_type": "code",
   "execution_count": 3,
   "metadata": {},
   "outputs": [],
   "source": [
    "#define function \n",
    "\n",
    "def cat_col_prop(data, col):\n",
    "    print(pd.concat([data[col].value_counts(),\n",
    "          data[col].value_counts(normalize = True).mul(100)],axis = 1, keys = ('counts','percentage')))\n",
    "\n",
    "    sns.countplot(data[col], order =  data[col].value_counts().index)"
   ]
  },
  {
   "cell_type": "markdown",
   "metadata": {},
   "source": [
    "## Objective of Study"
   ]
  },
  {
   "cell_type": "code",
   "execution_count": 4,
   "metadata": {},
   "outputs": [],
   "source": [
    "ny = household[household['HHSTATE']==\"NY\"]\n",
    "ny = ny[ny['HHVEHCNT']>0]\n",
    "ny_trip = trip[trip['HOUSEID'].isin(ny['HOUSEID'])]\n",
    "nyorker = person[person['HOUSEID'].isin(ny['HOUSEID'])]"
   ]
  },
  {
   "cell_type": "code",
   "execution_count": 5,
   "metadata": {},
   "outputs": [
    {
     "name": "stdout",
     "output_type": "stream",
     "text": [
      "1411  out of  15636  ny household no trips recorded at all 9.024047070862114 %\n"
     ]
    }
   ],
   "source": [
    "# HOSEHOLD match\n",
    "\n",
    "ny_hh_trip = ny_trip[['HOUSEID','TDTRPNUM']].groupby(['HOUSEID']).count().reset_index()\n",
    "\n",
    "hh_check = ny[['HOUSEID']].merge(ny_hh_trip, how = 'left')\n",
    "\n",
    "hh_missing = sum(hh_check['TDTRPNUM'].isna())\n",
    "\n",
    "print(str(hh_missing), ' out of ',str(len(set(ny['HOUSEID']))),' ny household no trips recorded at all',str(hh_missing/len(set(ny['HOUSEID']))*100),'%')"
   ]
  },
  {
   "cell_type": "code",
   "execution_count": 6,
   "metadata": {},
   "outputs": [],
   "source": [
    "# Person  rate in household\n",
    "\n",
    "ny_trip_check = ny_trip[['HOUSEID','PERSONID','WHYTRP90']].groupby(['HOUSEID','PERSONID']).count().reset_index()\n",
    "ny_check = nyorker.merge(ny_trip_check, how = 'left', left_on=['HOUSEID','PERSONID'],right_on=['HOUSEID','PERSONID'])"
   ]
  },
  {
   "cell_type": "code",
   "execution_count": 7,
   "metadata": {},
   "outputs": [],
   "source": [
    "ny_check['WHYTRP90'][ny_check['WHYTRP90']>0] =1\n",
    "ny_check['WHYTRP90'][ny_check['WHYTRP90'].isna()] =0"
   ]
  },
  {
   "cell_type": "code",
   "execution_count": 8,
   "metadata": {},
   "outputs": [
    {
     "name": "stdout",
     "output_type": "stream",
     "text": [
      "of 32292  person info, 17.100210578471447 % did not provide any trip info\n"
     ]
    }
   ],
   "source": [
    "person_hitrate = sum(ny_check['WHYTRP90']==0)/ny_check.shape[0]*100\n",
    "\n",
    "print('of', str(ny_check.shape[0]),' person info,',str(person_hitrate),'% did not provide any trip info')\n"
   ]
  },
  {
   "cell_type": "code",
   "execution_count": 9,
   "metadata": {},
   "outputs": [
    {
     "name": "stdout",
     "output_type": "stream",
     "text": [
      "average percent of household members surveyed:  60.106623043559715 %\n"
     ]
    }
   ],
   "source": [
    "summ = ny_check[['HOUSEID','PERSONID','WHYTRP90']].groupby(['HOUSEID']).agg({'PERSONID':'sum',\n",
    "                                                                     'WHYTRP90':'sum'}).reset_index().rename(columns = {'WHYTRP90':'TRIP_COUNTED',\n",
    "                                                                                                                       'PERSONID':'HHSIZE'})\n",
    "summ['percent_trips'] = summ['TRIP_COUNTED']/summ['HHSIZE'] * 100\n",
    "\n",
    "print('average percent of household members surveyed: ',summ['percent_trips'].mean(),'%')"
   ]
  },
  {
   "cell_type": "code",
   "execution_count": 10,
   "metadata": {},
   "outputs": [
    {
     "data": {
      "text/plain": [
       "<AxesSubplot:xlabel='R_AGE', ylabel='Count'>"
      ]
     },
     "execution_count": 10,
     "metadata": {},
     "output_type": "execute_result"
    },
    {
     "data": {
      "image/png": "[encoded data removed]",
      "text/plain": [
       "<Figure size 432x288 with 1 Axes>"
      ]
     },
     "metadata": {
      "needs_background": "light"
     },
     "output_type": "display_data"
    }
   ],
   "source": [
    "missing = ny_check[ny_check['WHYTRP90']==0]\n",
    "sns.histplot(missing['R_AGE'])"
   ]
  },
  {
   "cell_type": "markdown",
   "metadata": {},
   "source": [
    "### Goal is to create a predictive model to help predict and impute missing person trips in order to evaluate Household level trips "
   ]
  },
  {
   "cell_type": "markdown",
   "metadata": {},
   "source": [
    "## 1. Merging of Data"
   ]
  },
  {
   "cell_type": "markdown",
   "metadata": {},
   "source": [
    "### 1.1. Household"
   ]
  },
  {
   "cell_type": "code",
   "execution_count": 11,
   "metadata": {},
   "outputs": [],
   "source": [
    "#filtering NY Households\n",
    "ny = household[household['HHSTATE'] == \"NY\"]\n",
    "\n",
    "# as only studying hh with car will also filter out hh with HHVEHCNT == 0\n",
    "ny = ny[ny['HHVEHCNT']>0]"
   ]
  },
  {
   "cell_type": "code",
   "execution_count": 12,
   "metadata": {},
   "outputs": [],
   "source": [
    "# selection of columns based on prior background inference of potential features\n",
    "ny = ny[['HOUSEID','HH_CBSA','HOMEOWN','HHSIZE','HHVEHCNT','HHFAMINC','NUMADLT','YOUNGCHILD','WRKCOUNT','MSACAT','MSASIZE','URBAN','URBANSIZE','URBRUR','LIF_CYC']]"
   ]
  },
  {
   "cell_type": "markdown",
   "metadata": {},
   "source": [
    "### 1.2 Trips"
   ]
  },
  {
   "cell_type": "code",
   "execution_count": 13,
   "metadata": {},
   "outputs": [],
   "source": [
    "ny_trip = trip[trip['HOUSEID'].isin(ny['HOUSEID'])]"
   ]
  },
  {
   "cell_type": "code",
   "execution_count": 14,
   "metadata": {},
   "outputs": [],
   "source": [
    "# selecting trips that were done using either 3.Car, 4.SUV, 5.Van\n",
    "ny_trip = ny_trip[ny_trip['TRPTRANS'].isin([3,4,5])]"
   ]
  },
  {
   "cell_type": "code",
   "execution_count": 15,
   "metadata": {},
   "outputs": [
    {
     "name": "stdout",
     "output_type": "stream",
     "text": [
      "# of trips with dist <=0, 22  out of 87307\n"
     ]
    }
   ],
   "source": [
    "# since only 24 lines with trip distance <= 0, removed lines\n",
    "print('# of trips with dist <=0,', str(sum(ny_trip['TRPMILES']<=0)),' out of', str(len(ny_trip)))\n",
    "ny_trip = ny_trip[ny_trip['TRPMILES']>0]"
   ]
  },
  {
   "cell_type": "code",
   "execution_count": 16,
   "metadata": {},
   "outputs": [
    {
     "name": "stdout",
     "output_type": "stream",
     "text": [
      "84  trips missing TRVLCMIN info so will just remove since only  0.09623646674686373 %\n"
     ]
    }
   ],
   "source": [
    "print(str(sum(ny_trip['TRVLCMIN']<=0)), ' trips missing TRVLCMIN info so will just remove since only ',str(sum(ny_trip['TRVLCMIN']<=0)/len(ny_trip)*100),\"%\")\n",
    "ny_trip = ny_trip[ny_trip['TRVLCMIN']>0]"
   ]
  },
  {
   "cell_type": "code",
   "execution_count": 17,
   "metadata": {},
   "outputs": [
    {
     "data": {
      "image/png": "[encoded data removed]",
      "text/plain": [
       "<Figure size 432x288 with 1 Axes>"
      ]
     },
     "metadata": {
      "needs_background": "light"
     },
     "output_type": "display_data"
    }
   ],
   "source": [
    "#Remove outlier trip miles\n",
    "sns.histplot(ny_trip['TRPMILES'])\n",
    "#ny_trip = ny_trip[ny_trip['TRPMILES']<40]\n",
    "ny_trip = ny_trip[ny_trip['TRPMILES']<100]"
   ]
  },
  {
   "cell_type": "code",
   "execution_count": 18,
   "metadata": {},
   "outputs": [],
   "source": [
    "# Summarise to Person trip counts \n",
    "ny_trip_count = ny_trip[['HOUSEID','PERSONID','TRAVDAY']].groupby(['HOUSEID','PERSONID']).agg('count').reset_index().rename(columns = {'TRAVDAY':'n_trips'})"
   ]
  },
  {
   "cell_type": "code",
   "execution_count": 19,
   "metadata": {},
   "outputs": [
    {
     "data": {
      "text/html": [
       "<div>\n",
       "<style scoped>\n",
       "    .dataframe tbody tr th:only-of-type {\n",
       "        vertical-align: middle;\n",
       "    }\n",
       "\n",
       "    .dataframe tbody tr th {\n",
       "        vertical-align: top;\n",
       "    }\n",
       "\n",
       "    .dataframe thead th {\n",
       "        text-align: right;\n",
       "    }\n",
       "</style>\n",
       "<table border=\"1\" class=\"dataframe\">\n",
       "  <thead>\n",
       "    <tr style=\"text-align: right;\">\n",
       "      <th></th>\n",
       "      <th>HOUSEID</th>\n",
       "      <th>PERSONID</th>\n",
       "      <th>n_trips</th>\n",
       "    </tr>\n",
       "  </thead>\n",
       "  <tbody>\n",
       "    <tr>\n",
       "      <th>0</th>\n",
       "      <td>30000012</td>\n",
       "      <td>1</td>\n",
       "      <td>9</td>\n",
       "    </tr>\n",
       "    <tr>\n",
       "      <th>1</th>\n",
       "      <td>30000082</td>\n",
       "      <td>1</td>\n",
       "      <td>5</td>\n",
       "    </tr>\n",
       "    <tr>\n",
       "      <th>2</th>\n",
       "      <td>30000082</td>\n",
       "      <td>2</td>\n",
       "      <td>5</td>\n",
       "    </tr>\n",
       "    <tr>\n",
       "      <th>3</th>\n",
       "      <td>30000380</td>\n",
       "      <td>1</td>\n",
       "      <td>3</td>\n",
       "    </tr>\n",
       "    <tr>\n",
       "      <th>4</th>\n",
       "      <td>30000380</td>\n",
       "      <td>2</td>\n",
       "      <td>8</td>\n",
       "    </tr>\n",
       "  </tbody>\n",
       "</table>\n",
       "</div>"
      ],
      "text/plain": [
       "    HOUSEID  PERSONID  n_trips\n",
       "0  30000012         1        9\n",
       "1  30000082         1        5\n",
       "2  30000082         2        5\n",
       "3  30000380         1        3\n",
       "4  30000380         2        8"
      ]
     },
     "execution_count": 19,
     "metadata": {},
     "output_type": "execute_result"
    }
   ],
   "source": [
    "ny_trip_count.head()"
   ]
  },
  {
   "cell_type": "code",
   "execution_count": 20,
   "metadata": {},
   "outputs": [
    {
     "data": {
      "text/plain": [
       "3     20107\n",
       "10    17647\n",
       "4     16164\n",
       "1     14051\n",
       "8      6467\n",
       "5      5381\n",
       "6      2746\n",
       "11     2595\n",
       "2      1257\n",
       "99       22\n",
       "Name: WHYTRP90, dtype: int64"
      ]
     },
     "execution_count": 20,
     "metadata": {},
     "output_type": "execute_result"
    }
   ],
   "source": [
    "trips_data = ny_trip[['HOUSEID','PERSONID','WHYTRP90','TRPMILES']]\n",
    "trips_data['WHYTRP90'].value_counts()\n",
    "\n",
    "# top why trips are [3,10,4,1,,8,5]"
   ]
  },
  {
   "cell_type": "code",
   "execution_count": 21,
   "metadata": {},
   "outputs": [],
   "source": [
    "trips_data =trips_data[trips_data['WHYTRP90'].isin([1,10,4,3,8,5])]"
   ]
  },
  {
   "cell_type": "code",
   "execution_count": 22,
   "metadata": {},
   "outputs": [
    {
     "name": "stdout",
     "output_type": "stream",
     "text": [
      "               counts  percentage\n",
      "(-0.001, 1.0]   24049   30.130173\n",
      "(2.0, 5.0]      16890   21.160906\n",
      "(5.0, 11.0]     14795   18.536151\n",
      "(11.0, 99.0]    14614   18.309383\n",
      "(1.0, 2.0]       9469   11.863387\n"
     ]
    },
    {
     "data": {
      "image/png": "[encoded data removed]",
      "text/plain": [
       "<Figure size 432x288 with 1 Axes>"
      ]
     },
     "metadata": {
      "needs_background": "light"
     },
     "output_type": "display_data"
    }
   ],
   "source": [
    "trips_data['round_dist']= trips_data['TRPMILES'].apply(lambda x: math.floor(x))\n",
    "trips_data['trip_dist'] = pd.qcut(trips_data['round_dist'],5)\n",
    "cat_col_prop(trips_data,'trip_dist')"
   ]
  },
  {
   "cell_type": "code",
   "execution_count": 23,
   "metadata": {},
   "outputs": [],
   "source": [
    "trip_summary = trips_data[['HOUSEID','PERSONID','WHYTRP90','trip_dist']].groupby(['HOUSEID','PERSONID','WHYTRP90'])['trip_dist'].apply(pd.Series.mode).reset_index()\n",
    "trip_summary['max_dist'] = trip_summary['trip_dist'].apply(lambda x: x.right)"
   ]
  },
  {
   "cell_type": "code",
   "execution_count": 24,
   "metadata": {},
   "outputs": [],
   "source": [
    "trip_summary = trip_summary[trip_summary.groupby(['HOUSEID','PERSONID','WHYTRP90'])['max_dist'].transform(max) == trip_summary['max_dist']]\n",
    "\n",
    "trip_summary = trip_summary[['HOUSEID','PERSONID','WHYTRP90','trip_dist']]\n"
   ]
  },
  {
   "cell_type": "code",
   "execution_count": 25,
   "metadata": {},
   "outputs": [],
   "source": [
    "pivoted = trip_summary.pivot(index = ['HOUSEID','PERSONID'],\n",
    "                  columns = 'WHYTRP90',\n",
    "                  values = 'trip_dist')\n",
    "\n",
    "trip_why_common = pd.DataFrame(pivoted.to_records()).rename(columns = {'1':'dist_to_work',\n",
    "                                                       '3':'dist_to_shopping',\n",
    "                                                        '4':'dist_to_family',\n",
    "                                                       '5':'dist_to_school_or_church',\n",
    "                                                        '8': 'dist_to_relatives',\n",
    "                                                        '10':'dist_to_social'})\n"
   ]
  },
  {
   "cell_type": "code",
   "execution_count": 26,
   "metadata": {},
   "outputs": [],
   "source": [
    "ny_trip_count = ny_trip_count.merge(trip_why_common, how = 'left',left_on = ['HOUSEID','PERSONID'],right_on = ['HOUSEID','PERSONID'])"
   ]
  },
  {
   "cell_type": "markdown",
   "metadata": {},
   "source": [
    "## 1.3 People"
   ]
  },
  {
   "cell_type": "code",
   "execution_count": 27,
   "metadata": {},
   "outputs": [],
   "source": [
    "# filtering people from New York\n",
    "nyorker = person[person['HOUSEID'].isin(ny['HOUSEID'])]"
   ]
  },
  {
   "cell_type": "code",
   "execution_count": 28,
   "metadata": {},
   "outputs": [],
   "source": [
    "# selection of columns based on prior background inference of potential features\n",
    "nyorker = nyorker[['HOUSEID','PERSONID','R_AGE','EDUC','R_RACE','R_SEX','WRK_HOME','WKFTPT','OCCAT','DRIVER','TRAVDAY','OUTOFTWN']]\n"
   ]
  },
  {
   "cell_type": "code",
   "execution_count": 29,
   "metadata": {},
   "outputs": [],
   "source": [
    "# Remove those out of town\n",
    "nyorker = nyorker[nyorker['OUTOFTWN']==2]\n",
    "nyorker.drop(['OUTOFTWN'],axis =1, inplace = True)"
   ]
  },
  {
   "cell_type": "code",
   "execution_count": 30,
   "metadata": {},
   "outputs": [
    {
     "data": {
      "text/html": [
       "<div>\n",
       "<style scoped>\n",
       "    .dataframe tbody tr th:only-of-type {\n",
       "        vertical-align: middle;\n",
       "    }\n",
       "\n",
       "    .dataframe tbody tr th {\n",
       "        vertical-align: top;\n",
       "    }\n",
       "\n",
       "    .dataframe thead th {\n",
       "        text-align: right;\n",
       "    }\n",
       "</style>\n",
       "<table border=\"1\" class=\"dataframe\">\n",
       "  <thead>\n",
       "    <tr style=\"text-align: right;\">\n",
       "      <th></th>\n",
       "      <th>HOUSEID</th>\n",
       "      <th>PERSONID</th>\n",
       "      <th>n_trips</th>\n",
       "      <th>dist_to_work</th>\n",
       "      <th>dist_to_shopping</th>\n",
       "      <th>dist_to_family</th>\n",
       "      <th>dist_to_school_or_church</th>\n",
       "      <th>dist_to_relatives</th>\n",
       "      <th>dist_to_social</th>\n",
       "    </tr>\n",
       "  </thead>\n",
       "  <tbody>\n",
       "    <tr>\n",
       "      <th>0</th>\n",
       "      <td>30000012</td>\n",
       "      <td>1</td>\n",
       "      <td>9</td>\n",
       "      <td>(5.0, 11.0]</td>\n",
       "      <td>NaN</td>\n",
       "      <td>NaN</td>\n",
       "      <td>NaN</td>\n",
       "      <td>(11.0, 99.0]</td>\n",
       "      <td>(2.0, 5.0]</td>\n",
       "    </tr>\n",
       "    <tr>\n",
       "      <th>1</th>\n",
       "      <td>30000082</td>\n",
       "      <td>1</td>\n",
       "      <td>5</td>\n",
       "      <td>(1.0, 2.0]</td>\n",
       "      <td>NaN</td>\n",
       "      <td>(1.0, 2.0]</td>\n",
       "      <td>NaN</td>\n",
       "      <td>NaN</td>\n",
       "      <td>(-0.001, 1.0]</td>\n",
       "    </tr>\n",
       "    <tr>\n",
       "      <th>2</th>\n",
       "      <td>30000082</td>\n",
       "      <td>2</td>\n",
       "      <td>5</td>\n",
       "      <td>NaN</td>\n",
       "      <td>(1.0, 2.0]</td>\n",
       "      <td>NaN</td>\n",
       "      <td>NaN</td>\n",
       "      <td>NaN</td>\n",
       "      <td>(11.0, 99.0]</td>\n",
       "    </tr>\n",
       "    <tr>\n",
       "      <th>3</th>\n",
       "      <td>30000380</td>\n",
       "      <td>1</td>\n",
       "      <td>3</td>\n",
       "      <td>NaN</td>\n",
       "      <td>(1.0, 2.0]</td>\n",
       "      <td>NaN</td>\n",
       "      <td>NaN</td>\n",
       "      <td>NaN</td>\n",
       "      <td>NaN</td>\n",
       "    </tr>\n",
       "    <tr>\n",
       "      <th>4</th>\n",
       "      <td>30000380</td>\n",
       "      <td>2</td>\n",
       "      <td>8</td>\n",
       "      <td>(-0.001, 1.0]</td>\n",
       "      <td>(1.0, 2.0]</td>\n",
       "      <td>NaN</td>\n",
       "      <td>NaN</td>\n",
       "      <td>NaN</td>\n",
       "      <td>NaN</td>\n",
       "    </tr>\n",
       "    <tr>\n",
       "      <th>...</th>\n",
       "      <td>...</td>\n",
       "      <td>...</td>\n",
       "      <td>...</td>\n",
       "      <td>...</td>\n",
       "      <td>...</td>\n",
       "      <td>...</td>\n",
       "      <td>...</td>\n",
       "      <td>...</td>\n",
       "      <td>...</td>\n",
       "    </tr>\n",
       "    <tr>\n",
       "      <th>22054</th>\n",
       "      <td>40793808</td>\n",
       "      <td>1</td>\n",
       "      <td>2</td>\n",
       "      <td>NaN</td>\n",
       "      <td>NaN</td>\n",
       "      <td>NaN</td>\n",
       "      <td>NaN</td>\n",
       "      <td>NaN</td>\n",
       "      <td>(2.0, 5.0]</td>\n",
       "    </tr>\n",
       "    <tr>\n",
       "      <th>22055</th>\n",
       "      <td>40793808</td>\n",
       "      <td>2</td>\n",
       "      <td>9</td>\n",
       "      <td>NaN</td>\n",
       "      <td>(2.0, 5.0]</td>\n",
       "      <td>(2.0, 5.0]</td>\n",
       "      <td>NaN</td>\n",
       "      <td>NaN</td>\n",
       "      <td>(1.0, 2.0]</td>\n",
       "    </tr>\n",
       "    <tr>\n",
       "      <th>22056</th>\n",
       "      <td>40793808</td>\n",
       "      <td>3</td>\n",
       "      <td>5</td>\n",
       "      <td>NaN</td>\n",
       "      <td>(2.0, 5.0]</td>\n",
       "      <td>NaN</td>\n",
       "      <td>NaN</td>\n",
       "      <td>NaN</td>\n",
       "      <td>(-0.001, 1.0]</td>\n",
       "    </tr>\n",
       "    <tr>\n",
       "      <th>22057</th>\n",
       "      <td>40793974</td>\n",
       "      <td>1</td>\n",
       "      <td>7</td>\n",
       "      <td>NaN</td>\n",
       "      <td>(5.0, 11.0]</td>\n",
       "      <td>NaN</td>\n",
       "      <td>NaN</td>\n",
       "      <td>(2.0, 5.0]</td>\n",
       "      <td>(2.0, 5.0]</td>\n",
       "    </tr>\n",
       "    <tr>\n",
       "      <th>22058</th>\n",
       "      <td>40794020</td>\n",
       "      <td>2</td>\n",
       "      <td>3</td>\n",
       "      <td>NaN</td>\n",
       "      <td>(2.0, 5.0]</td>\n",
       "      <td>NaN</td>\n",
       "      <td>NaN</td>\n",
       "      <td>NaN</td>\n",
       "      <td>NaN</td>\n",
       "    </tr>\n",
       "  </tbody>\n",
       "</table>\n",
       "<p>22059 rows × 9 columns</p>\n",
       "</div>"
      ],
      "text/plain": [
       "        HOUSEID  PERSONID  n_trips   dist_to_work dist_to_shopping  \\\n",
       "0      30000012         1        9    (5.0, 11.0]              NaN   \n",
       "1      30000082         1        5     (1.0, 2.0]              NaN   \n",
       "2      30000082         2        5            NaN       (1.0, 2.0]   \n",
       "3      30000380         1        3            NaN       (1.0, 2.0]   \n",
       "4      30000380         2        8  (-0.001, 1.0]       (1.0, 2.0]   \n",
       "...         ...       ...      ...            ...              ...   \n",
       "22054  40793808         1        2            NaN              NaN   \n",
       "22055  40793808         2        9            NaN       (2.0, 5.0]   \n",
       "22056  40793808         3        5            NaN       (2.0, 5.0]   \n",
       "22057  40793974         1        7            NaN      (5.0, 11.0]   \n",
       "22058  40794020         2        3            NaN       (2.0, 5.0]   \n",
       "\n",
       "      dist_to_family dist_to_school_or_church dist_to_relatives dist_to_social  \n",
       "0                NaN                      NaN      (11.0, 99.0]     (2.0, 5.0]  \n",
       "1         (1.0, 2.0]                      NaN               NaN  (-0.001, 1.0]  \n",
       "2                NaN                      NaN               NaN   (11.0, 99.0]  \n",
       "3                NaN                      NaN               NaN            NaN  \n",
       "4                NaN                      NaN               NaN            NaN  \n",
       "...              ...                      ...               ...            ...  \n",
       "22054            NaN                      NaN               NaN     (2.0, 5.0]  \n",
       "22055     (2.0, 5.0]                      NaN               NaN     (1.0, 2.0]  \n",
       "22056            NaN                      NaN               NaN  (-0.001, 1.0]  \n",
       "22057            NaN                      NaN        (2.0, 5.0]     (2.0, 5.0]  \n",
       "22058            NaN                      NaN               NaN            NaN  \n",
       "\n",
       "[22059 rows x 9 columns]"
      ]
     },
     "execution_count": 30,
     "metadata": {},
     "output_type": "execute_result"
    }
   ],
   "source": [
    "ny_trip_count"
   ]
  },
  {
   "cell_type": "code",
   "execution_count": 31,
   "metadata": {},
   "outputs": [],
   "source": [
    "# merging of Person, Household and Trips to Person\n",
    "df= nyorker.merge(ny_trip_count, how = 'left', left_on = ['HOUSEID','PERSONID'],right_on = ['HOUSEID','PERSONID'])\n",
    "df = df.merge(ny, how = 'left', left_on = 'HOUSEID', right_on = 'HOUSEID')"
   ]
  },
  {
   "cell_type": "code",
   "execution_count": 32,
   "metadata": {},
   "outputs": [
    {
     "data": {
      "image/png": "[encoded data removed]",
      "text/plain": [
       "<Figure size 432x288 with 1 Axes>"
      ]
     },
     "metadata": {
      "needs_background": "light"
     },
     "output_type": "display_data"
    }
   ],
   "source": [
    "# Replace NA trip counts with 0\n",
    "sns.histplot(df['n_trips'])\n",
    "df['n_trips'][df['n_trips'].isna()] = 0\n",
    "#df = df[df['n_trips']>0]\n",
    "df = df[df['n_trips']<10]"
   ]
  },
  {
   "cell_type": "code",
   "execution_count": 33,
   "metadata": {},
   "outputs": [
    {
     "data": {
      "text/plain": [
       "['HOUSEID',\n",
       " 'PERSONID',\n",
       " 'R_AGE',\n",
       " 'EDUC',\n",
       " 'R_RACE',\n",
       " 'R_SEX',\n",
       " 'WRK_HOME',\n",
       " 'WKFTPT',\n",
       " 'OCCAT',\n",
       " 'DRIVER',\n",
       " 'TRAVDAY',\n",
       " 'n_trips',\n",
       " 'dist_to_work',\n",
       " 'dist_to_shopping',\n",
       " 'dist_to_family',\n",
       " 'dist_to_school_or_church',\n",
       " 'dist_to_relatives',\n",
       " 'dist_to_social',\n",
       " 'HH_CBSA',\n",
       " 'HOMEOWN',\n",
       " 'HHSIZE',\n",
       " 'HHVEHCNT',\n",
       " 'HHFAMINC',\n",
       " 'NUMADLT',\n",
       " 'YOUNGCHILD',\n",
       " 'WRKCOUNT',\n",
       " 'MSACAT',\n",
       " 'MSASIZE',\n",
       " 'URBAN',\n",
       " 'URBANSIZE',\n",
       " 'URBRUR',\n",
       " 'LIF_CYC']"
      ]
     },
     "execution_count": 33,
     "metadata": {},
     "output_type": "execute_result"
    }
   ],
   "source": [
    "[c for c in df]"
   ]
  },
  {
   "cell_type": "code",
   "execution_count": 34,
   "metadata": {},
   "outputs": [
    {
     "data": {
      "text/plain": [
       "(30558, 32)"
      ]
     },
     "execution_count": 34,
     "metadata": {},
     "output_type": "execute_result"
    }
   ],
   "source": [
    "df.shape"
   ]
  },
  {
   "cell_type": "markdown",
   "metadata": {},
   "source": [
    "## Reason for Model"
   ]
  },
  {
   "cell_type": "code",
   "execution_count": 35,
   "metadata": {},
   "outputs": [
    {
     "data": {
      "text/html": [
       "<div>\n",
       "<style scoped>\n",
       "    .dataframe tbody tr th:only-of-type {\n",
       "        vertical-align: middle;\n",
       "    }\n",
       "\n",
       "    .dataframe tbody tr th {\n",
       "        vertical-align: top;\n",
       "    }\n",
       "\n",
       "    .dataframe thead th {\n",
       "        text-align: right;\n",
       "    }\n",
       "</style>\n",
       "<table border=\"1\" class=\"dataframe\">\n",
       "  <thead>\n",
       "    <tr style=\"text-align: right;\">\n",
       "      <th></th>\n",
       "      <th>HOUSEID</th>\n",
       "      <th>PERSONID</th>\n",
       "      <th>n_trips</th>\n",
       "      <th>dist_to_work</th>\n",
       "      <th>dist_to_shopping</th>\n",
       "      <th>dist_to_family</th>\n",
       "      <th>dist_to_school_or_church</th>\n",
       "      <th>dist_to_relatives</th>\n",
       "      <th>dist_to_social</th>\n",
       "    </tr>\n",
       "  </thead>\n",
       "  <tbody>\n",
       "    <tr>\n",
       "      <th>0</th>\n",
       "      <td>30000012</td>\n",
       "      <td>1</td>\n",
       "      <td>9</td>\n",
       "      <td>(5.0, 11.0]</td>\n",
       "      <td>NaN</td>\n",
       "      <td>NaN</td>\n",
       "      <td>NaN</td>\n",
       "      <td>(11.0, 99.0]</td>\n",
       "      <td>(2.0, 5.0]</td>\n",
       "    </tr>\n",
       "    <tr>\n",
       "      <th>1</th>\n",
       "      <td>30000082</td>\n",
       "      <td>1</td>\n",
       "      <td>5</td>\n",
       "      <td>(1.0, 2.0]</td>\n",
       "      <td>NaN</td>\n",
       "      <td>(1.0, 2.0]</td>\n",
       "      <td>NaN</td>\n",
       "      <td>NaN</td>\n",
       "      <td>(-0.001, 1.0]</td>\n",
       "    </tr>\n",
       "    <tr>\n",
       "      <th>2</th>\n",
       "      <td>30000082</td>\n",
       "      <td>2</td>\n",
       "      <td>5</td>\n",
       "      <td>NaN</td>\n",
       "      <td>(1.0, 2.0]</td>\n",
       "      <td>NaN</td>\n",
       "      <td>NaN</td>\n",
       "      <td>NaN</td>\n",
       "      <td>(11.0, 99.0]</td>\n",
       "    </tr>\n",
       "    <tr>\n",
       "      <th>3</th>\n",
       "      <td>30000380</td>\n",
       "      <td>1</td>\n",
       "      <td>3</td>\n",
       "      <td>NaN</td>\n",
       "      <td>(1.0, 2.0]</td>\n",
       "      <td>NaN</td>\n",
       "      <td>NaN</td>\n",
       "      <td>NaN</td>\n",
       "      <td>NaN</td>\n",
       "    </tr>\n",
       "    <tr>\n",
       "      <th>4</th>\n",
       "      <td>30000380</td>\n",
       "      <td>2</td>\n",
       "      <td>8</td>\n",
       "      <td>(-0.001, 1.0]</td>\n",
       "      <td>(1.0, 2.0]</td>\n",
       "      <td>NaN</td>\n",
       "      <td>NaN</td>\n",
       "      <td>NaN</td>\n",
       "      <td>NaN</td>\n",
       "    </tr>\n",
       "    <tr>\n",
       "      <th>...</th>\n",
       "      <td>...</td>\n",
       "      <td>...</td>\n",
       "      <td>...</td>\n",
       "      <td>...</td>\n",
       "      <td>...</td>\n",
       "      <td>...</td>\n",
       "      <td>...</td>\n",
       "      <td>...</td>\n",
       "      <td>...</td>\n",
       "    </tr>\n",
       "    <tr>\n",
       "      <th>22054</th>\n",
       "      <td>40793808</td>\n",
       "      <td>1</td>\n",
       "      <td>2</td>\n",
       "      <td>NaN</td>\n",
       "      <td>NaN</td>\n",
       "      <td>NaN</td>\n",
       "      <td>NaN</td>\n",
       "      <td>NaN</td>\n",
       "      <td>(2.0, 5.0]</td>\n",
       "    </tr>\n",
       "    <tr>\n",
       "      <th>22055</th>\n",
       "      <td>40793808</td>\n",
       "      <td>2</td>\n",
       "      <td>9</td>\n",
       "      <td>NaN</td>\n",
       "      <td>(2.0, 5.0]</td>\n",
       "      <td>(2.0, 5.0]</td>\n",
       "      <td>NaN</td>\n",
       "      <td>NaN</td>\n",
       "      <td>(1.0, 2.0]</td>\n",
       "    </tr>\n",
       "    <tr>\n",
       "      <th>22056</th>\n",
       "      <td>40793808</td>\n",
       "      <td>3</td>\n",
       "      <td>5</td>\n",
       "      <td>NaN</td>\n",
       "      <td>(2.0, 5.0]</td>\n",
       "      <td>NaN</td>\n",
       "      <td>NaN</td>\n",
       "      <td>NaN</td>\n",
       "      <td>(-0.001, 1.0]</td>\n",
       "    </tr>\n",
       "    <tr>\n",
       "      <th>22057</th>\n",
       "      <td>40793974</td>\n",
       "      <td>1</td>\n",
       "      <td>7</td>\n",
       "      <td>NaN</td>\n",
       "      <td>(5.0, 11.0]</td>\n",
       "      <td>NaN</td>\n",
       "      <td>NaN</td>\n",
       "      <td>(2.0, 5.0]</td>\n",
       "      <td>(2.0, 5.0]</td>\n",
       "    </tr>\n",
       "    <tr>\n",
       "      <th>22058</th>\n",
       "      <td>40794020</td>\n",
       "      <td>2</td>\n",
       "      <td>3</td>\n",
       "      <td>NaN</td>\n",
       "      <td>(2.0, 5.0]</td>\n",
       "      <td>NaN</td>\n",
       "      <td>NaN</td>\n",
       "      <td>NaN</td>\n",
       "      <td>NaN</td>\n",
       "    </tr>\n",
       "  </tbody>\n",
       "</table>\n",
       "<p>22059 rows × 9 columns</p>\n",
       "</div>"
      ],
      "text/plain": [
       "        HOUSEID  PERSONID  n_trips   dist_to_work dist_to_shopping  \\\n",
       "0      30000012         1        9    (5.0, 11.0]              NaN   \n",
       "1      30000082         1        5     (1.0, 2.0]              NaN   \n",
       "2      30000082         2        5            NaN       (1.0, 2.0]   \n",
       "3      30000380         1        3            NaN       (1.0, 2.0]   \n",
       "4      30000380         2        8  (-0.001, 1.0]       (1.0, 2.0]   \n",
       "...         ...       ...      ...            ...              ...   \n",
       "22054  40793808         1        2            NaN              NaN   \n",
       "22055  40793808         2        9            NaN       (2.0, 5.0]   \n",
       "22056  40793808         3        5            NaN       (2.0, 5.0]   \n",
       "22057  40793974         1        7            NaN      (5.0, 11.0]   \n",
       "22058  40794020         2        3            NaN       (2.0, 5.0]   \n",
       "\n",
       "      dist_to_family dist_to_school_or_church dist_to_relatives dist_to_social  \n",
       "0                NaN                      NaN      (11.0, 99.0]     (2.0, 5.0]  \n",
       "1         (1.0, 2.0]                      NaN               NaN  (-0.001, 1.0]  \n",
       "2                NaN                      NaN               NaN   (11.0, 99.0]  \n",
       "3                NaN                      NaN               NaN            NaN  \n",
       "4                NaN                      NaN               NaN            NaN  \n",
       "...              ...                      ...               ...            ...  \n",
       "22054            NaN                      NaN               NaN     (2.0, 5.0]  \n",
       "22055     (2.0, 5.0]                      NaN               NaN     (1.0, 2.0]  \n",
       "22056            NaN                      NaN               NaN  (-0.001, 1.0]  \n",
       "22057            NaN                      NaN        (2.0, 5.0]     (2.0, 5.0]  \n",
       "22058            NaN                      NaN               NaN            NaN  \n",
       "\n",
       "[22059 rows x 9 columns]"
      ]
     },
     "execution_count": 35,
     "metadata": {},
     "output_type": "execute_result"
    }
   ],
   "source": [
    "ny_trip_count"
   ]
  },
  {
   "cell_type": "code",
   "execution_count": 36,
   "metadata": {},
   "outputs": [],
   "source": [
    "ny_trip_check = ny_trip[['HOUSEID','PERSONID','WHYTRP90']].groupby(['HOUSEID','PERSONID']).count().reset_index()\n",
    "ny_check = nyorker.merge(ny_trip_check, how = 'left', left_on=['HOUSEID','PERSONID'],right_on=['HOUSEID','PERSONID'])"
   ]
  },
  {
   "cell_type": "code",
   "execution_count": 37,
   "metadata": {},
   "outputs": [],
   "source": [
    "ny_check['WHYTRP90'][ny_check['WHYTRP90']>0] =1\n",
    "ny_check['WHYTRP90'][ny_check['WHYTRP90'].isna()] =0"
   ]
  },
  {
   "cell_type": "code",
   "execution_count": 38,
   "metadata": {},
   "outputs": [
    {
     "name": "stdout",
     "output_type": "stream",
     "text": [
      "of  15230  households,  18.01050558108995 % did not provide any trip info\n"
     ]
    }
   ],
   "source": [
    "hh_rate = ny_check.groupby(['HOUSEID']).agg({'HOUSEID':'count',\n",
    "                                  'WHYTRP90':'sum'})\n",
    "\n",
    "hh_hitrate = sum(hh_rate['WHYTRP90']==0)/hh_rate.shape[0]*100\n",
    "\n",
    "print('of ',str(hh_rate.shape[0]),' households, ',str(hh_hitrate), '% did not provide any trip info')"
   ]
  },
  {
   "cell_type": "code",
   "execution_count": 39,
   "metadata": {},
   "outputs": [
    {
     "name": "stdout",
     "output_type": "stream",
     "text": [
      "of 31051  person info, 30.8428069949438 % did not provide any trip info\n"
     ]
    }
   ],
   "source": [
    "person_hitrate = sum(ny_check['WHYTRP90']==0)/ny_check.shape[0]*100\n",
    "\n",
    "print('of', str(ny_check.shape[0]),' person info,',str(person_hitrate),'% did not provide any trip info')\n"
   ]
  },
  {
   "cell_type": "code",
   "execution_count": 40,
   "metadata": {},
   "outputs": [
    {
     "data": {
      "text/plain": [
       "<AxesSubplot:xlabel='R_AGE', ylabel='Count'>"
      ]
     },
     "execution_count": 40,
     "metadata": {},
     "output_type": "execute_result"
    },
    {
     "data": {
      "image/png": "[encoded data removed]",
      "text/plain": [
       "<Figure size 432x288 with 1 Axes>"
      ]
     },
     "metadata": {
      "needs_background": "light"
     },
     "output_type": "display_data"
    }
   ],
   "source": [
    "sns.histplot(ny_check['R_AGE'][ny_check['WHYTRP90']==0])\n",
    "\n",
    "# not only those too young missing"
   ]
  },
  {
   "cell_type": "markdown",
   "metadata": {},
   "source": [
    "### Therefore to create predictive model to help 'fill up' missing trip info to provide household level trip estimates. \n",
    "\n",
    "other reccommendation: for future survey can get volunteer to provide some of the key features of family members (e.g. dist to workplace or school) to help provide estimate of houshold total trips"
   ]
  },
  {
   "cell_type": "markdown",
   "metadata": {},
   "source": [
    "## 2. EDA & Feature Engineering "
   ]
  },
  {
   "cell_type": "markdown",
   "metadata": {},
   "source": [
    "### 2.1. Train, Test, Split"
   ]
  },
  {
   "cell_type": "code",
   "execution_count": 41,
   "metadata": {},
   "outputs": [],
   "source": [
    "x_col = [c for c in df if c not in [\"HOUSEID\",\"PERSONID\",\"n_trips\"]]\n",
    "x_df = df[x_col]\n",
    "y_df = df['n_trips']\n",
    "\n",
    "x_train , x_test, y_train, y_test = model_selection.train_test_split(x_df, y_df, test_size = 0.2, random_state = 888)"
   ]
  },
  {
   "cell_type": "code",
   "execution_count": 42,
   "metadata": {},
   "outputs": [
    {
     "name": "stdout",
     "output_type": "stream",
     "text": [
      "<class 'pandas.core.frame.DataFrame'>\n",
      "Int64Index: 24446 entries, 16732 to 10939\n",
      "Data columns (total 29 columns):\n",
      " #   Column                    Non-Null Count  Dtype            \n",
      "---  ------                    --------------  -----            \n",
      " 0   R_AGE                     24446 non-null  int64            \n",
      " 1   EDUC                      24446 non-null  int64            \n",
      " 2   R_RACE                    24446 non-null  int64            \n",
      " 3   R_SEX                     24446 non-null  int64            \n",
      " 4   WRK_HOME                  24446 non-null  int64            \n",
      " 5   WKFTPT                    24446 non-null  int64            \n",
      " 6   OCCAT                     24446 non-null  int64            \n",
      " 7   DRIVER                    24446 non-null  int64            \n",
      " 8   TRAVDAY                   24446 non-null  int64            \n",
      " 9   dist_to_work              5498 non-null   interval[float64]\n",
      " 10  dist_to_shopping          7119 non-null   interval[float64]\n",
      " 11  dist_to_family            5441 non-null   interval[float64]\n",
      " 12  dist_to_school_or_church  2225 non-null   interval[float64]\n",
      " 13  dist_to_relatives         2525 non-null   interval[float64]\n",
      " 14  dist_to_social            6439 non-null   interval[float64]\n",
      " 15  HH_CBSA                   24446 non-null  object           \n",
      " 16  HOMEOWN                   24446 non-null  int64            \n",
      " 17  HHSIZE                    24446 non-null  int64            \n",
      " 18  HHVEHCNT                  24446 non-null  int64            \n",
      " 19  HHFAMINC                  24446 non-null  int64            \n",
      " 20  NUMADLT                   24446 non-null  int64            \n",
      " 21  YOUNGCHILD                24446 non-null  int64            \n",
      " 22  WRKCOUNT                  24446 non-null  int64            \n",
      " 23  MSACAT                    24446 non-null  int64            \n",
      " 24  MSASIZE                   24446 non-null  int64            \n",
      " 25  URBAN                     24446 non-null  int64            \n",
      " 26  URBANSIZE                 24446 non-null  int64            \n",
      " 27  URBRUR                    24446 non-null  int64            \n",
      " 28  LIF_CYC                   24446 non-null  int64            \n",
      "dtypes: int64(22), interval(6), object(1)\n",
      "memory usage: 6.7+ MB\n"
     ]
    }
   ],
   "source": [
    "x_train.info()"
   ]
  },
  {
   "cell_type": "code",
   "execution_count": 43,
   "metadata": {},
   "outputs": [
    {
     "data": {
      "text/plain": [
       "<AxesSubplot:xlabel='n_trips', ylabel='Count'>"
      ]
     },
     "execution_count": 43,
     "metadata": {},
     "output_type": "execute_result"
    },
    {
     "data": {
      "image/png": "[encoded data removed]",
      "text/plain": [
       "<Figure size 432x288 with 1 Axes>"
      ]
     },
     "metadata": {
      "needs_background": "light"
     },
     "output_type": "display_data"
    }
   ],
   "source": [
    "sns.histplot(y_train)"
   ]
  },
  {
   "cell_type": "code",
   "execution_count": 44,
   "metadata": {},
   "outputs": [],
   "source": [
    "# use log transformation of n_trips (y)\n",
    "\n",
    "#sns.histplot(np.log(y_train))\n",
    "\n",
    "#y_train = np.log(y_train)\n",
    "#y_test = np.log(y_test)"
   ]
  },
  {
   "cell_type": "markdown",
   "metadata": {},
   "source": [
    "### 2.2. Feature Engineering"
   ]
  },
  {
   "cell_type": "markdown",
   "metadata": {},
   "source": [
    "#### Age (R_AGE)"
   ]
  },
  {
   "cell_type": "code",
   "execution_count": 45,
   "metadata": {},
   "outputs": [
    {
     "name": "stdout",
     "output_type": "stream",
     "text": [
      "55 count of people with no age.  0.0002762702755890612 %.\n"
     ]
    },
    {
     "data": {
      "image/png": "[encoded data removed]",
      "text/plain": [
       "<Figure size 432x288 with 1 Axes>"
      ]
     },
     "metadata": {
      "needs_background": "light"
     },
     "output_type": "display_data"
    }
   ],
   "source": [
    "print(str(sum(x_train['R_AGE']<0)), \"count of people with no age. \",str(sum(nyorker['R_AGE']<0)/person.shape[0]),\"%.\")\n",
    "\n",
    "sns.histplot(x_train['R_AGE'])\n",
    "\n",
    "# impute missing values (<0) with mean age\n",
    "mean_age = round(x_train['R_AGE'][x_train['R_AGE']>0].mean())\n",
    "x_train['R_AGE'][x_train['R_AGE']<0] = mean_age\n",
    "x_test['R_AGE'][x_test['R_AGE']<0] = mean_age"
   ]
  },
  {
   "cell_type": "code",
   "execution_count": 46,
   "metadata": {},
   "outputs": [],
   "source": [
    "x_train['AGE_bins']= 'NA'\n",
    "x_train.loc[x_train['R_AGE'].between(5,15,inclusive = True), 'AGE_bins'] = \"5_to_15\"\n",
    "x_train.loc[x_train['R_AGE'].between(16,25,inclusive = True), 'AGE_bins'] = \"16_to_25\"\n",
    "x_train.loc[x_train['R_AGE'].between(26,35,inclusive = True), 'AGE_bins'] = \"26_to_35\"\n",
    "x_train.loc[x_train['R_AGE'].between(36,45,inclusive = True), 'AGE_bins'] = \"36_to_45\"\n",
    "x_train.loc[x_train['R_AGE'].between(46,55,inclusive = True), 'AGE_bins'] = \"46_to_55\"\n",
    "x_train.loc[x_train['R_AGE'].between(56,65,inclusive = True), 'AGE_bins'] = \"56_to_65\"\n",
    "x_train.loc[x_train['R_AGE'].between(66,75,inclusive = True), 'AGE_bins'] = \"66_to_75\"\n",
    "x_train.loc[x_train['R_AGE']>75, 'AGE_bins'] = \"more_than_75\"\n",
    "\n",
    "x_test['AGE_bins']= 'NA'\n",
    "x_test.loc[x_test['R_AGE'].between(5,15,inclusive = True), 'AGE_bins'] = \"5_to_15\"\n",
    "x_test.loc[x_test['R_AGE'].between(16,25,inclusive = True), 'AGE_bins'] = \"16_to_25\"\n",
    "x_test.loc[x_test['R_AGE'].between(26,35,inclusive = True), 'AGE_bins'] = \"26_to_35\"\n",
    "x_test.loc[x_test['R_AGE'].between(36,45,inclusive = True), 'AGE_bins'] = \"36_to_45\"\n",
    "x_test.loc[x_test['R_AGE'].between(46,55,inclusive = True), 'AGE_bins'] = \"46_to_55\"\n",
    "x_test.loc[x_test['R_AGE'].between(56,65,inclusive = True), 'AGE_bins'] = \"56_to_65\"\n",
    "x_test.loc[x_test['R_AGE'].between(66,75,inclusive = True), 'AGE_bins'] = \"66_to_75\"\n",
    "x_test.loc[x_test['R_AGE']>75, 'AGE_bins'] = \"more_than_75\"\n"
   ]
  },
  {
   "cell_type": "code",
   "execution_count": 47,
   "metadata": {},
   "outputs": [
    {
     "name": "stdout",
     "output_type": "stream",
     "text": [
      "              counts  percentage\n",
      "56_to_65        5264   21.533175\n",
      "66_to_75        4235   17.323898\n",
      "46_to_55        3621   14.812239\n",
      "5_to_15         2387    9.764379\n",
      "36_to_45        2346    9.596662\n",
      "26_to_35        2344    9.588481\n",
      "more_than_75    2261    9.248957\n",
      "16_to_25        1988    8.132210\n"
     ]
    },
    {
     "data": {
      "image/png": "[encoded data removed]",
      "text/plain": [
       "<Figure size 432x288 with 1 Axes>"
      ]
     },
     "metadata": {
      "needs_background": "light"
     },
     "output_type": "display_data"
    }
   ],
   "source": [
    "cat_col_prop(x_train,'AGE_bins')"
   ]
  },
  {
   "cell_type": "markdown",
   "metadata": {},
   "source": [
    "#### Educational Attainment (EDUC)"
   ]
  },
  {
   "cell_type": "code",
   "execution_count": 48,
   "metadata": {},
   "outputs": [
    {
     "name": "stdout",
     "output_type": "stream",
     "text": [
      "    counts  percentage\n",
      " 3    6071   24.834329\n",
      " 5    5306   21.704982\n",
      " 2    4834   19.774196\n",
      " 4    4695   19.205596\n",
      "-1    1907    7.800867\n",
      " 1    1610    6.585945\n",
      "-7      15    0.061360\n",
      "-8       8    0.032725\n"
     ]
    },
    {
     "data": {
      "image/png": "[encoded data removed]",
      "text/plain": [
       "<Figure size 432x288 with 1 Axes>"
      ]
     },
     "metadata": {
      "needs_background": "light"
     },
     "output_type": "display_data"
    }
   ],
   "source": [
    "cat_col_prop(x_train,'EDUC')\n",
    "# approx 8% missing values (<0). To take note of but will addresss in one-hot encoding"
   ]
  },
  {
   "cell_type": "markdown",
   "metadata": {},
   "source": [
    "#### Race (R_RACE)"
   ]
  },
  {
   "cell_type": "code",
   "execution_count": 49,
   "metadata": {},
   "outputs": [
    {
     "name": "stdout",
     "output_type": "stream",
     "text": [
      "     counts  percentage\n",
      " 1    21823   89.270228\n",
      " 2      801    3.276610\n",
      " 3      780    3.190706\n",
      " 6      521    2.131228\n",
      " 97     305    1.247648\n",
      "-7      121    0.494969\n",
      " 4       65    0.265892\n",
      " 5       17    0.069541\n",
      "-8       13    0.053178\n"
     ]
    },
    {
     "data": {
      "image/png": "[encoded data removed]",
      "text/plain": [
       "<Figure size 432x288 with 1 Axes>"
      ]
     },
     "metadata": {
      "needs_background": "light"
     },
     "output_type": "display_data"
    }
   ],
   "source": [
    "cat_col_prop(x_train,'R_RACE')\n",
    "# approx 1% missing values (<0). To take note of but will address in one-hot encoding\n",
    "# Significant proportion of members 'white'"
   ]
  },
  {
   "cell_type": "markdown",
   "metadata": {},
   "source": [
    "#### Gender (R_SEX)"
   ]
  },
  {
   "cell_type": "code",
   "execution_count": 50,
   "metadata": {},
   "outputs": [
    {
     "name": "stdout",
     "output_type": "stream",
     "text": [
      "    counts  percentage\n",
      " 2   12825   52.462571\n",
      " 1   11592   47.418801\n",
      "-7      25    0.102266\n",
      "-8       4    0.016363\n"
     ]
    },
    {
     "data": {
      "image/png": "[encoded data removed]",
      "text/plain": [
       "<Figure size 432x288 with 1 Axes>"
      ]
     },
     "metadata": {
      "needs_background": "light"
     },
     "output_type": "display_data"
    }
   ],
   "source": [
    "cat_col_prop(x_train, 'R_SEX')\n",
    "# <1% missing values. To take note but will be addressed in one-hot encoding"
   ]
  },
  {
   "cell_type": "markdown",
   "metadata": {},
   "source": [
    "#### Work From Home (WRK_HOME)"
   ]
  },
  {
   "cell_type": "code",
   "execution_count": 51,
   "metadata": {},
   "outputs": [
    {
     "name": "stdout",
     "output_type": "stream",
     "text": [
      "    counts  percentage\n",
      "-1   12161   49.746380\n",
      " 2   10540   43.115438\n",
      " 1    1301    5.321934\n",
      "-9     443    1.812157\n",
      "-7       1    0.004091\n"
     ]
    },
    {
     "data": {
      "image/png": "[encoded data removed]",
      "text/plain": [
       "<Figure size 432x288 with 1 Axes>"
      ]
     },
     "metadata": {
      "needs_background": "light"
     },
     "output_type": "display_data"
    }
   ],
   "source": [
    "cat_col_prop(x_train,'WRK_HOME')\n",
    "# Significant proportion -1 (50%) which is the appropriate skip (due to not working) - to address in one-hot"
   ]
  },
  {
   "cell_type": "markdown",
   "metadata": {},
   "source": [
    "#### Work - Part Time or Full Time (WKFTPT)"
   ]
  },
  {
   "cell_type": "code",
   "execution_count": 52,
   "metadata": {},
   "outputs": [
    {
     "name": "stdout",
     "output_type": "stream",
     "text": [
      "    counts  percentage\n",
      "-1   12604   51.558537\n",
      " 1    9167   37.498977\n",
      " 2    2668   10.913851\n",
      "-7       6    0.024544\n",
      "-8       1    0.004091\n"
     ]
    },
    {
     "data": {
      "image/png": "[encoded data removed]",
      "text/plain": [
       "<Figure size 432x288 with 1 Axes>"
      ]
     },
     "metadata": {
      "needs_background": "light"
     },
     "output_type": "display_data"
    }
   ],
   "source": [
    "cat_col_prop(x_train,'WKFTPT')\n",
    "# Significant proportion -1 (52%) which is the appropriate skip (due to not working) - to address in one-hot"
   ]
  },
  {
   "cell_type": "markdown",
   "metadata": {},
   "source": [
    "#### Job Category (OCCAT)"
   ]
  },
  {
   "cell_type": "code",
   "execution_count": 53,
   "metadata": {},
   "outputs": [
    {
     "name": "stdout",
     "output_type": "stream",
     "text": [
      "     counts  percentage\n",
      "-1    12161   49.746380\n",
      " 4     6481   26.511495\n",
      " 1     2547   10.418882\n",
      " 3     1425    5.829175\n",
      " 2     1370    5.604189\n",
      "-9      443    1.812157\n",
      " 97      13    0.053178\n",
      "-8        3    0.012272\n",
      "-7        3    0.012272\n"
     ]
    },
    {
     "data": {
      "image/png": "[encoded data removed]",
      "text/plain": [
       "<Figure size 432x288 with 1 Axes>"
      ]
     },
     "metadata": {
      "needs_background": "light"
     },
     "output_type": "display_data"
    }
   ],
   "source": [
    "cat_col_prop(x_train,'OCCAT')\n",
    "# Significant proportion -1 (50%) which is the appropriate skip (due to not working) - to address in one-hot"
   ]
  },
  {
   "cell_type": "markdown",
   "metadata": {},
   "source": [
    "#### Driver Status (DRIVER)"
   ]
  },
  {
   "cell_type": "code",
   "execution_count": 54,
   "metadata": {},
   "outputs": [
    {
     "name": "stdout",
     "output_type": "stream",
     "text": [
      "    counts  percentage\n",
      " 1   20591   84.230549\n",
      "-1    2151    8.798986\n",
      " 2    1704    6.970466\n"
     ]
    },
    {
     "data": {
      "image/png": "[encoded data removed]",
      "text/plain": [
       "<Figure size 432x288 with 1 Axes>"
      ]
     },
     "metadata": {
      "needs_background": "light"
     },
     "output_type": "display_data"
    }
   ],
   "source": [
    "cat_col_prop(x_train,'DRIVER')\n",
    "\n",
    "#Significant proportion -1 (8.7%) (due to too young) - to address in one-hot encoding\n",
    "#sns.boxplot(data = x_train, x='DRIVER',y='AGE_bins')"
   ]
  },
  {
   "cell_type": "markdown",
   "metadata": {},
   "source": [
    "#### Travel Day (TRAVDAY)"
   ]
  },
  {
   "cell_type": "code",
   "execution_count": 55,
   "metadata": {},
   "outputs": [
    {
     "name": "stdout",
     "output_type": "stream",
     "text": [
      "   counts  percentage\n",
      "1    3621   14.812239\n",
      "2    3585   14.664976\n",
      "7    3504   14.333633\n",
      "5    3475   14.215004\n",
      "6    3474   14.210914\n",
      "3    3453   14.125010\n",
      "4    3334   13.638223\n"
     ]
    },
    {
     "data": {
      "image/png": "[encoded data removed]",
      "text/plain": [
       "<Figure size 432x288 with 1 Axes>"
      ]
     },
     "metadata": {
      "needs_background": "light"
     },
     "output_type": "display_data"
    }
   ],
   "source": [
    "cat_col_prop(x_train,'TRAVDAY')"
   ]
  },
  {
   "cell_type": "markdown",
   "metadata": {},
   "source": [
    "#### Core Based Statiscal Area FIPS code (HH_CBSA)"
   ]
  },
  {
   "cell_type": "code",
   "execution_count": 56,
   "metadata": {},
   "outputs": [
    {
     "name": "stdout",
     "output_type": "stream",
     "text": [
      "       counts  percentage\n",
      "XXXXX   14490   59.273501\n",
      "35620    7368   30.139900\n",
      "40380    1399    5.722818\n",
      "15380    1189    4.863781\n"
     ]
    },
    {
     "data": {
      "image/png": "[encoded data removed]",
      "text/plain": [
       "<Figure size 432x288 with 1 Axes>"
      ]
     },
     "metadata": {
      "needs_background": "light"
     },
     "output_type": "display_data"
    }
   ],
   "source": [
    "#Core Based Statistical Area (CBSA) FIPS code for the respondent's home address\n",
    "\n",
    "cat_col_prop(x_train,'HH_CBSA')\n",
    "\n",
    "# significant number of households under the 'XXXXX=Suppressed, in an MSA of less than 1 million ' category"
   ]
  },
  {
   "cell_type": "markdown",
   "metadata": {},
   "source": [
    "####  Home Ownership (HOMEOWN)"
   ]
  },
  {
   "cell_type": "code",
   "execution_count": 57,
   "metadata": {},
   "outputs": [
    {
     "name": "stdout",
     "output_type": "stream",
     "text": [
      "     counts  percentage\n",
      " 1    20584   84.201914\n",
      " 2     3676   15.037225\n",
      " 97     183    0.748589\n",
      "-7        3    0.012272\n"
     ]
    },
    {
     "data": {
      "image/png": "[encoded data removed]",
      "text/plain": [
       "<Figure size 432x288 with 1 Axes>"
      ]
     },
     "metadata": {
      "needs_background": "light"
     },
     "output_type": "display_data"
    }
   ],
   "source": [
    "cat_col_prop(x_train,'HOMEOWN')\n",
    "#Small count with missing value 2. to address in one-hot encoding"
   ]
  },
  {
   "cell_type": "markdown",
   "metadata": {},
   "source": [
    "#### Household Vehicle Count (HHVEHCNT)"
   ]
  },
  {
   "cell_type": "code",
   "execution_count": 58,
   "metadata": {},
   "outputs": [
    {
     "name": "stdout",
     "output_type": "stream",
     "text": [
      "    counts  percentage\n",
      "2    10851   44.387630\n",
      "1     6438   26.335597\n",
      "3     4443   18.174753\n",
      "4     1740    7.117729\n",
      "5      627    2.564837\n",
      "6      224    0.916305\n",
      "7       77    0.314980\n",
      "8       23    0.094085\n",
      "11      12    0.049088\n",
      "9        8    0.032725\n",
      "12       3    0.012272\n",
      "________\n",
      "new HHVEHCNT\n",
      "    counts  percentage\n",
      "2    10851   44.387630\n",
      "1     6438   26.335597\n",
      "3     4443   18.174753\n",
      ">3    2714   11.102021\n"
     ]
    },
    {
     "data": {
      "image/png": "[encoded data removed]",
      "text/plain": [
       "<Figure size 432x288 with 1 Axes>"
      ]
     },
     "metadata": {
      "needs_background": "light"
     },
     "output_type": "display_data"
    }
   ],
   "source": [
    "#count of household vehicles\n",
    "\n",
    "cat_col_prop(x_train,'HHVEHCNT')\n",
    "\n",
    "# as group size significantly smaller from 4 and above to bin to a single group\n",
    "\n",
    "x_train['HHVEHCNT'][x_train['HHVEHCNT']>3] = \">3\"\n",
    "x_test['HHVEHCNT'][x_test['HHVEHCNT']>3] = \">3\"\n",
    "\n",
    "print(\"________\")\n",
    "print(\"new HHVEHCNT\")\n",
    "print(pd.concat([x_train['HHVEHCNT'].value_counts(),\n",
    "          x_train['HHVEHCNT'].value_counts(normalize = True).mul(100)],axis = 1, keys = ('counts','percentage'))\n",
    "    )"
   ]
  },
  {
   "cell_type": "markdown",
   "metadata": {},
   "source": [
    "#### Family Income (HHFAMINC)"
   ]
  },
  {
   "cell_type": "code",
   "execution_count": 59,
   "metadata": {},
   "outputs": [
    {
     "name": "stdout",
     "output_type": "stream",
     "text": [
      "     counts  percentage\n",
      " 6     4384   17.933404\n",
      " 7     3667   15.000409\n",
      " 8     3019   12.349669\n",
      " 5     2605   10.656140\n",
      " 4     1903    7.784505\n",
      " 9     1765    7.219995\n",
      " 11    1745    7.138182\n",
      " 10    1701    6.958194\n",
      " 3     1561    6.385503\n",
      " 2      747    3.055715\n",
      "-7      711    2.908451\n",
      " 1      536    2.192588\n",
      "-8      102    0.417246\n"
     ]
    },
    {
     "data": {
      "image/png": "[encoded data removed]",
      "text/plain": [
       "<Figure size 432x288 with 1 Axes>"
      ]
     },
     "metadata": {
      "needs_background": "light"
     },
     "output_type": "display_data"
    }
   ],
   "source": [
    "cat_col_prop(x_train,'HHFAMINC')\n",
    "# approx 3% missing (<0) to address in one-hot encoding"
   ]
  },
  {
   "cell_type": "markdown",
   "metadata": {},
   "source": [
    "#### Adult Ratio  (NUMADLT)"
   ]
  },
  {
   "cell_type": "code",
   "execution_count": 60,
   "metadata": {},
   "outputs": [
    {
     "name": "stdout",
     "output_type": "stream",
     "text": [
      "    counts  percentage\n",
      "2    15534   63.544138\n",
      "1     4091   16.734844\n",
      "3     3333   13.634132\n",
      "4     1149    4.700155\n",
      "5      266    1.088113\n",
      "6       42    0.171807\n",
      "7       16    0.065450\n",
      "10       9    0.036816\n",
      "8        6    0.024544\n"
     ]
    },
    {
     "data": {
      "image/png": "[encoded data removed]",
      "text/plain": [
       "<Figure size 432x288 with 1 Axes>"
      ]
     },
     "metadata": {
      "needs_background": "light"
     },
     "output_type": "display_data"
    }
   ],
   "source": [
    "cat_col_prop(x_train, 'NUMADLT')\n",
    "#no missing values"
   ]
  },
  {
   "cell_type": "code",
   "execution_count": 61,
   "metadata": {},
   "outputs": [
    {
     "name": "stdout",
     "output_type": "stream",
     "text": [
      "Before\n",
      "          counts  percentage\n",
      "1.000000   16956   69.361041\n",
      "0.500000    2706   11.069296\n",
      "0.666667    1849    7.563610\n",
      "0.400000     846    3.460689\n",
      "0.750000     644    2.634378\n",
      "0.333333     474    1.938968\n",
      "0.600000     349    1.427636\n",
      "0.800000     188    0.769042\n",
      "0.250000      85    0.347705\n",
      "0.285714      81    0.331343\n",
      "0.714286      46    0.188170\n",
      "0.833333      38    0.155445\n",
      "0.571429      35    0.143173\n",
      "0.428571      33    0.134991\n",
      "0.375000      20    0.081813\n",
      "0.200000      18    0.073632\n",
      "0.444444      15    0.061360\n",
      "0.222222      15    0.061360\n",
      "0.625000      13    0.053178\n",
      "0.700000      10    0.040906\n",
      "0.166667      10    0.040906\n",
      "0.857143       6    0.024544\n",
      "0.142857       5    0.020453\n",
      "0.363636       4    0.016363\n",
      "\n",
      "After\n",
      "               counts  percentage\n",
      "1               16956   69.361041\n",
      "more_than_0.5    5884   24.069377\n",
      "less_than_0.5    1606    6.569582\n"
     ]
    },
    {
     "data": {
      "image/png": "[encoded data removed]",
      "text/plain": [
       "<Figure size 432x288 with 1 Axes>"
      ]
     },
     "metadata": {
      "needs_background": "light"
     },
     "output_type": "display_data"
    }
   ],
   "source": [
    "#Convert against proportion of Household size\n",
    "x_train['NUMADLT'] = x_train['NUMADLT']/x_train['HHSIZE']\n",
    "x_test['NUMADLT'] = x_test['NUMADLT']/x_test['HHSIZE']\n",
    "print('Before')\n",
    "cat_col_prop(x_train,'NUMADLT')\n",
    "#significant number of varying factors\n",
    "#to bin into groups\n",
    "x_train['NUMADLT_ratio'] = 'NA'\n",
    "x_train.loc[x_train['NUMADLT']==0, 'NUMADLT_ratio'] = '0'\n",
    "x_train.loc[x_train['NUMADLT'].between(0,0.5,inclusive = False),'NUMADLT_ratio'] = 'less_than_0.5'\n",
    "x_train.loc[x_train['NUMADLT'].between(0.5,1, inclusive = True),'NUMADLT_ratio'] = 'more_than_0.5'\n",
    "x_train.loc[x_train['NUMADLT']==1,'NUMADLT_ratio'] ='1'\n",
    "print('')\n",
    "print('After')\n",
    "cat_col_prop(x_train,'NUMADLT_ratio')\n",
    "\n",
    "\n",
    "x_test['NUMADLT_ratio'] = 'NA'\n",
    "x_test.loc[x_test['NUMADLT']==0, 'NUMADLT_ratio'] = '0'\n",
    "x_test.loc[x_test['NUMADLT'].between(0,0.5,inclusive = False),'NUMADLT_ratio'] = 'less_than_0.5'\n",
    "x_test.loc[x_test['NUMADLT'].between(0.5,1, inclusive = True),'NUMADLT_ratio'] = 'more_than_0.5'\n",
    "x_test.loc[x_test['NUMADLT']==1,'NUMADLT_ratio'] ='1'"
   ]
  },
  {
   "cell_type": "markdown",
   "metadata": {},
   "source": [
    "#### Young Child Ratio (YOUNGCHILD)"
   ]
  },
  {
   "cell_type": "code",
   "execution_count": 62,
   "metadata": {},
   "outputs": [
    {
     "name": "stdout",
     "output_type": "stream",
     "text": [
      "   counts  percentage\n",
      "0   22321   91.307371\n",
      "1    1600    6.545038\n",
      "2     474    1.938968\n",
      "3      45    0.184079\n",
      "5       4    0.016363\n",
      "4       2    0.008181\n"
     ]
    },
    {
     "data": {
      "image/png": "[encoded data removed]",
      "text/plain": [
       "<Figure size 432x288 with 1 Axes>"
      ]
     },
     "metadata": {
      "needs_background": "light"
     },
     "output_type": "display_data"
    }
   ],
   "source": [
    "cat_col_prop(x_train,'YOUNGCHILD')"
   ]
  },
  {
   "cell_type": "code",
   "execution_count": 63,
   "metadata": {},
   "outputs": [
    {
     "name": "stdout",
     "output_type": "stream",
     "text": [
      "               counts  percentage\n",
      "0               22321   91.307371\n",
      "less_than_0.5    1836    7.510431\n",
      "more_than_0.5     289    1.182197\n"
     ]
    },
    {
     "data": {
      "image/png": "[encoded data removed]",
      "text/plain": [
       "<Figure size 432x288 with 1 Axes>"
      ]
     },
     "metadata": {
      "needs_background": "light"
     },
     "output_type": "display_data"
    }
   ],
   "source": [
    "#Convert against proportion of Household size\n",
    "\n",
    "x_train['YOUNGCHILD'] = x_train['YOUNGCHILD']/x_train['HHSIZE']\n",
    "x_test['YOUNGCHILD'] = x_test['YOUNGCHILD']/x_test['HHSIZE']\n",
    "\n",
    "#Bin to groups\n",
    "x_train['YOUNGCHILD_ratio'] = 'NA'\n",
    "x_train.loc[x_train['YOUNGCHILD']==0,'YOUNGCHILD_ratio']= '0'\n",
    "x_train.loc[x_train['YOUNGCHILD'].between(0,0.5,inclusive = False),'YOUNGCHILD_ratio'] = 'less_than_0.5'\n",
    "x_train.loc[x_train['YOUNGCHILD'].between(0.5,1, inclusive = True),'YOUNGCHILD_ratio'] = 'more_than_0.5'\n",
    "x_train.loc[x_train['YOUNGCHILD']==1,'YOUNGCHILD_ratio'] ='1'\n",
    " \n",
    "\n",
    "cat_col_prop(x_train,'YOUNGCHILD_ratio')    \n",
    "\n",
    "x_test['YOUNGCHILD_ratio'] = 'NA'\n",
    "x_test.loc[x_test['YOUNGCHILD']==0,'YOUNGCHILD_ratio']= '0'\n",
    "x_test.loc[x_test['YOUNGCHILD'].between(0,0.5,inclusive = False),'YOUNGCHILD_ratio'] = 'less_than_0.5'\n",
    "x_test.loc[x_test['YOUNGCHILD'].between(0.5,1, inclusive = True),'YOUNGCHILD_ratio'] = 'more_than_0.5'\n",
    "x_test.loc[x_test['YOUNGCHILD']==1,'YOUNGCHILD_ratio'] ='1'\n",
    " \n"
   ]
  },
  {
   "cell_type": "markdown",
   "metadata": {},
   "source": [
    "#### Worker Count Proportion (WRKCOUNT)"
   ]
  },
  {
   "cell_type": "code",
   "execution_count": 64,
   "metadata": {},
   "outputs": [
    {
     "name": "stdout",
     "output_type": "stream",
     "text": [
      "   counts  percentage\n",
      "2    8386   34.304181\n",
      "1    7450   30.475333\n",
      "0    6390   26.139246\n",
      "3    1659    6.786386\n",
      "4     502    2.053506\n",
      "5      47    0.192260\n",
      "6       6    0.024544\n",
      "7       6    0.024544\n"
     ]
    },
    {
     "data": {
      "image/png": "[encoded data removed]",
      "text/plain": [
       "<Figure size 432x288 with 1 Axes>"
      ]
     },
     "metadata": {
      "needs_background": "light"
     },
     "output_type": "display_data"
    }
   ],
   "source": [
    "cat_col_prop(x_train,'WRKCOUNT')"
   ]
  },
  {
   "cell_type": "code",
   "execution_count": 65,
   "metadata": {},
   "outputs": [
    {
     "name": "stdout",
     "output_type": "stream",
     "text": [
      "               counts  percentage\n",
      "more_than_0.5    8147   33.326516\n",
      "0                6390   26.139246\n",
      "1                6127   25.063405\n",
      "less_than_0.5    3782   15.470834\n"
     ]
    },
    {
     "data": {
      "image/png": "[encoded data removed]",
      "text/plain": [
       "<Figure size 432x288 with 1 Axes>"
      ]
     },
     "metadata": {
      "needs_background": "light"
     },
     "output_type": "display_data"
    }
   ],
   "source": [
    "#Convert against proportion of Household size\n",
    "\n",
    "x_train['WRKCOUNT'] = x_train['WRKCOUNT']/x_train['HHSIZE']\n",
    "x_test['WRKCOUNT'] = x_test['WRKCOUNT']/x_test['HHSIZE']\n",
    "\n",
    "#Bin to groups\n",
    "x_train['WRKCOUNT_ratio'] = 'NA'\n",
    "x_train.loc[x_train['WRKCOUNT']==0,'WRKCOUNT_ratio']= '0'\n",
    "x_train.loc[x_train['WRKCOUNT'].between(0,0.5,inclusive = False),'WRKCOUNT_ratio'] = 'less_than_0.5'\n",
    "x_train.loc[x_train['WRKCOUNT'].between(0.5,1, inclusive = True),'WRKCOUNT_ratio'] = 'more_than_0.5'\n",
    "x_train.loc[x_train['WRKCOUNT']==1,'WRKCOUNT_ratio'] ='1'\n",
    "\n",
    "cat_col_prop(x_train,'WRKCOUNT_ratio')\n",
    "\n",
    "x_test['WRKCOUNT_ratio'] = 'NA'\n",
    "x_test.loc[x_test['WRKCOUNT']==0,'WRKCOUNT_ratio']= '0'\n",
    "x_test.loc[x_test['WRKCOUNT'].between(0,0.5,inclusive = False),'WRKCOUNT_ratio'] = 'less_than_0.5'\n",
    "x_test.loc[x_test['WRKCOUNT'].between(0.5,1, inclusive = True),'WRKCOUNT_ratio'] = 'more_than_0.5'\n",
    "x_test.loc[x_test['WRKCOUNT']==1,'WRKCOUNT_ratio'] ='1'\n",
    "\n",
    " "
   ]
  },
  {
   "cell_type": "markdown",
   "metadata": {},
   "source": [
    "#### Household Size (HHSIZE)"
   ]
  },
  {
   "cell_type": "code",
   "execution_count": 66,
   "metadata": {},
   "outputs": [
    {
     "name": "stdout",
     "output_type": "stream",
     "text": [
      "Before\n",
      "    counts  percentage\n",
      "2    10479   42.865909\n",
      "3     4179   17.094821\n",
      "4     3830   15.667185\n",
      "1     3527   14.427718\n",
      "5     1558    6.373231\n",
      "6      489    2.000327\n",
      "7      212    0.867218\n",
      "8       94    0.384521\n",
      "9       43    0.175898\n",
      "10      31    0.126810\n",
      "11       4    0.016363\n",
      "\n",
      "After\n",
      "         counts  percentage\n",
      "2         10479   42.865909\n",
      "above_3    6261   25.611552\n",
      "3          4179   17.094821\n",
      "1          3527   14.427718\n"
     ]
    },
    {
     "data": {
      "image/png": "[encoded data removed]",
      "text/plain": [
       "<Figure size 432x288 with 1 Axes>"
      ]
     },
     "metadata": {
      "needs_background": "light"
     },
     "output_type": "display_data"
    }
   ],
   "source": [
    "#count of household members\n",
    "print(\"Before\")\n",
    "cat_col_prop(x_train,'HHSIZE')\n",
    "\n",
    "# to bin tail HHSIZE\n",
    "\n",
    "x_train['HHSIZE'][x_train['HHSIZE']>3] = \"above_3\"\n",
    "\n",
    "print(\"\")\n",
    "print(\"After\")\n",
    "\n",
    "cat_col_prop(x_train,'HHSIZE')\n",
    "\n",
    "x_test['HHSIZE'][x_test['HHSIZE']>3] = \" above_3\""
   ]
  },
  {
   "cell_type": "markdown",
   "metadata": {},
   "source": [
    "#### Metropolitan Statistical Area (MSACAT)\n"
   ]
  },
  {
   "cell_type": "code",
   "execution_count": 67,
   "metadata": {},
   "outputs": [
    {
     "name": "stdout",
     "output_type": "stream",
     "text": [
      "   counts  percentage\n",
      "3   10557   43.184979\n",
      "1    7368   30.139900\n",
      "4    3933   16.088522\n",
      "2    2588   10.586599\n"
     ]
    },
    {
     "data": {
      "image/png": "[encoded data removed]",
      "text/plain": [
       "<Figure size 432x288 with 1 Axes>"
      ]
     },
     "metadata": {
      "needs_background": "light"
     },
     "output_type": "display_data"
    }
   ],
   "source": [
    "cat_col_prop(x_train,'MSACAT')\n",
    "             \n",
    "#no missing values and relatively proportional distribution"
   ]
  },
  {
   "cell_type": "markdown",
   "metadata": {},
   "source": [
    "#### Population size of MSA (MSASIZE)"
   ]
  },
  {
   "cell_type": "code",
   "execution_count": 68,
   "metadata": {},
   "outputs": [
    {
     "name": "stdout",
     "output_type": "stream",
     "text": [
      "   counts  percentage\n",
      "5    7368   30.139900\n",
      "1    6148   25.149309\n",
      "6    3933   16.088522\n",
      "3    3312   13.548229\n",
      "4    2588   10.586599\n",
      "2    1097    4.487442\n"
     ]
    },
    {
     "data": {
      "image/png": "[encoded data removed]",
      "text/plain": [
       "<Figure size 432x288 with 1 Axes>"
      ]
     },
     "metadata": {
      "needs_background": "light"
     },
     "output_type": "display_data"
    }
   ],
   "source": [
    "cat_col_prop(x_train,'MSASIZE')\n",
    "             \n",
    "#no missing values and relatively proportional distribution"
   ]
  },
  {
   "cell_type": "markdown",
   "metadata": {},
   "source": [
    "#### House in Urban or Rural Area (URBAN)"
   ]
  },
  {
   "cell_type": "code",
   "execution_count": 69,
   "metadata": {},
   "outputs": [
    {
     "name": "stdout",
     "output_type": "stream",
     "text": [
      "Before\n",
      "   counts  percentage\n",
      "1   13700   56.041888\n",
      "4    8379   34.275546\n",
      "2    2363    9.666203\n",
      "3       4    0.016363\n",
      "\n",
      "After\n",
      "       counts  percentage\n",
      "urban   16063   65.708091\n",
      "rural    8383   34.291909\n"
     ]
    },
    {
     "data": {
      "image/png": "[encoded data removed]",
      "text/plain": [
       "<Figure size 432x288 with 1 Axes>"
      ]
     },
     "metadata": {
      "needs_background": "light"
     },
     "output_type": "display_data"
    }
   ],
   "source": [
    "print('Before')\n",
    "cat_col_prop(x_train,'URBAN')\n",
    "\n",
    "# combine 1 and 2 (in an urban area and in an urban cluster ) & combine 3 and 4 (surround by urban and not in urban)\n",
    "\n",
    "x_train['URBAN'][x_train['URBAN'].isin([1,2])] = 'urban'\n",
    "x_train['URBAN'][x_train['URBAN'].isin([3,4])] = 'rural'\n",
    "\n",
    "print(\"\")\n",
    "print('After')\n",
    "\n",
    "cat_col_prop(x_train, 'URBAN')\n",
    "\n",
    "x_test['URBAN'][x_test['URBAN'].isin([1,2])] = 'urban'\n",
    "x_test['URBAN'][x_test['URBAN'].isin([3,4])] = 'rural'"
   ]
  },
  {
   "cell_type": "markdown",
   "metadata": {},
   "source": [
    "#### URBANSIZE"
   ]
  },
  {
   "cell_type": "code",
   "execution_count": 70,
   "metadata": {},
   "outputs": [
    {
     "name": "stdout",
     "output_type": "stream",
     "text": [
      "   counts  percentage\n",
      "6   10746   43.958112\n",
      "5    4723   19.320134\n",
      "1    3714   15.192670\n",
      "3    2753   11.261556\n",
      "2    2510   10.267528\n"
     ]
    },
    {
     "data": {
      "image/png": "[encoded data removed]",
      "text/plain": [
       "<Figure size 432x288 with 1 Axes>"
      ]
     },
     "metadata": {
      "needs_background": "light"
     },
     "output_type": "display_data"
    }
   ],
   "source": [
    "#06 = not in an urbanised area \n",
    "#05 - 1 million with heavy rail \n",
    "\n",
    "#Relatively proportional classes\n",
    "cat_col_prop(x_train,'URBANSIZE')"
   ]
  },
  {
   "cell_type": "markdown",
   "metadata": {},
   "source": [
    "#### URBRUR"
   ]
  },
  {
   "cell_type": "code",
   "execution_count": 71,
   "metadata": {},
   "outputs": [
    {
     "name": "stdout",
     "output_type": "stream",
     "text": [
      "   counts  percentage\n",
      "1   16063   65.708091\n",
      "2    8383   34.291909\n"
     ]
    },
    {
     "data": {
      "image/png": "[encoded data removed]",
      "text/plain": [
       "<Figure size 432x288 with 1 Axes>"
      ]
     },
     "metadata": {
      "needs_background": "light"
     },
     "output_type": "display_data"
    }
   ],
   "source": [
    "cat_col_prop(x_train,'URBRUR')\n",
    "# missing values nor disproportion"
   ]
  },
  {
   "cell_type": "markdown",
   "metadata": {},
   "source": [
    "#### LIF_CYC "
   ]
  },
  {
   "cell_type": "code",
   "execution_count": 72,
   "metadata": {},
   "outputs": [
    {
     "name": "stdout",
     "output_type": "stream",
     "text": [
      "    counts  percentage\n",
      "10    6783   27.746871\n",
      "2     5578   22.817639\n",
      "6     3667   15.000409\n",
      "4     2445   10.001636\n",
      "1     1847    7.555428\n",
      "9     1680    6.872290\n",
      "8     1649    6.745480\n",
      "5      453    1.853064\n",
      "7      208    0.850855\n",
      "3      136    0.556328\n"
     ]
    },
    {
     "data": {
      "image/png": "[encoded data removed]",
      "text/plain": [
       "<Figure size 432x288 with 1 Axes>"
      ]
     },
     "metadata": {
      "needs_background": "light"
     },
     "output_type": "display_data"
    }
   ],
   "source": [
    "cat_col_prop(x_train,\"LIF_CYC\")\n",
    "\n",
    "# No major disproportion"
   ]
  },
  {
   "cell_type": "markdown",
   "metadata": {},
   "source": [
    "## 3. One-Hot- Encoding"
   ]
  },
  {
   "cell_type": "code",
   "execution_count": 73,
   "metadata": {},
   "outputs": [
    {
     "data": {
      "text/plain": [
       "R_AGE                                   int64\n",
       "EDUC                                    int64\n",
       "R_RACE                                  int64\n",
       "R_SEX                                   int64\n",
       "WRK_HOME                                int64\n",
       "WKFTPT                                  int64\n",
       "OCCAT                                   int64\n",
       "DRIVER                                  int64\n",
       "TRAVDAY                                 int64\n",
       "dist_to_work                interval[float64]\n",
       "dist_to_shopping            interval[float64]\n",
       "dist_to_family              interval[float64]\n",
       "dist_to_school_or_church    interval[float64]\n",
       "dist_to_relatives           interval[float64]\n",
       "dist_to_social              interval[float64]\n",
       "HH_CBSA                                object\n",
       "HOMEOWN                                 int64\n",
       "HHSIZE                                 object\n",
       "HHVEHCNT                               object\n",
       "HHFAMINC                                int64\n",
       "NUMADLT                               float64\n",
       "YOUNGCHILD                            float64\n",
       "WRKCOUNT                              float64\n",
       "MSACAT                                  int64\n",
       "MSASIZE                                 int64\n",
       "URBAN                                  object\n",
       "URBANSIZE                               int64\n",
       "URBRUR                                  int64\n",
       "LIF_CYC                                 int64\n",
       "AGE_bins                               object\n",
       "NUMADLT_ratio                          object\n",
       "YOUNGCHILD_ratio                       object\n",
       "WRKCOUNT_ratio                         object\n",
       "dtype: object"
      ]
     },
     "execution_count": 73,
     "metadata": {},
     "output_type": "execute_result"
    }
   ],
   "source": [
    "x_train.dtypes"
   ]
  },
  {
   "cell_type": "code",
   "execution_count": 74,
   "metadata": {},
   "outputs": [],
   "source": [
    "to_obj = ['EDUC','R_RACE','AGE_bins','HHFAMINC','HOMEOWN','R_SEX','TRAVDAY','WRK_HOME','WKFTPT','OCCAT','DRIVER','MSACAT','MSASIZE','URBAN','URBANSIZE','URBRUR','LIF_CYC','dist_to_work','dist_to_shopping','dist_to_family','dist_to_school_or_church','dist_to_relatives','dist_to_social']\n",
    "\n",
    "x_train[to_obj] = x_train[to_obj].astype(str)\n",
    "x_test[to_obj]= x_test[to_obj].astype(str)\n",
    "\n",
    "x_train.drop(['R_AGE'], axis = 1, inplace =True)\n",
    "x_test.drop(['R_AGE'],axis = 1, inplace = True)"
   ]
  },
  {
   "cell_type": "code",
   "execution_count": 75,
   "metadata": {},
   "outputs": [],
   "source": [
    "one_hot_col = [c for c in x_train if x_train[c].dtypes == 'O' ]\n",
    "x_train = pd.concat([x_train,pd.get_dummies(x_train[one_hot_col],prefix = one_hot_col)],axis = 1)\n",
    "x_train.drop(one_hot_col, axis = 1, inplace = True)\n",
    "\n",
    "x_test = pd.concat([x_test,pd.get_dummies(x_test[one_hot_col],prefix = one_hot_col)],axis = 1)\n",
    "x_test.drop(one_hot_col, axis = 1, inplace = True)"
   ]
  },
  {
   "cell_type": "code",
   "execution_count": 76,
   "metadata": {},
   "outputs": [],
   "source": [
    "#drop all negative value columns  \n",
    "\n",
    "na_cols_train =[c for c in x_train if ('NA' in c) or ('-' in c) or ('nan' in c)]\n",
    "\n",
    "x_train.drop(na_cols_train, axis = 1, inplace = True)\n",
    "\n",
    "\n",
    "na_cols_test =[c for c in x_test if ('NA' in c) or ('-' in c) or ('nan' in c)]\n",
    "x_test.drop(na_cols_test, axis = 1 , inplace = True)"
   ]
  },
  {
   "cell_type": "code",
   "execution_count": 77,
   "metadata": {},
   "outputs": [],
   "source": [
    "\n",
    "dist_cols = [c for c in x_train if ('dist' in c)]\n",
    "\n",
    "x_train_with_dist = x_train[dist_cols]\n",
    "x_test_with_dist = x_test[dist_cols]\n",
    "\n",
    "x_train.drop(dist_cols, axis =1, inplace = True)\n",
    "x_test.drop(dist_cols, axis =1, inplace = True)\n",
    "\n",
    "\n",
    "#y_train = y_train.astype('int64')\n",
    "#y_test = y_test.astype('int64')"
   ]
  },
  {
   "cell_type": "code",
   "execution_count": 78,
   "metadata": {},
   "outputs": [
    {
     "data": {
      "text/plain": [
       "(24446, 108)"
      ]
     },
     "execution_count": 78,
     "metadata": {},
     "output_type": "execute_result"
    }
   ],
   "source": [
    "x_train.shape"
   ]
  },
  {
   "cell_type": "code",
   "execution_count": 79,
   "metadata": {},
   "outputs": [],
   "source": [
    "\n",
    "x_train_with_dist = pd.concat([x_train,x_train_with_dist],axis=1)\n",
    "x_test_with_dist = pd.concat([x_test,x_test_with_dist],axis=1)\n"
   ]
  },
  {
   "cell_type": "code",
   "execution_count": 80,
   "metadata": {},
   "outputs": [],
   "source": [
    "dist_dict = {'dist_to_work_(1.0, 2.0]':'dist_to_work_between_1_and_2',\n",
    "            'dist_to_work_(11.0, 99.0]':'dist_to_work_more_than_11',\n",
    "            'dist_to_work_(2.0, 5.0]':'dist_to_work_between_2_and_5',\n",
    "            'dist_to_work_(5.0, 11.0]':'dist_to_work_between_5_and_11',\n",
    "             'dist_to_shopping_(1.0, 2.0]':'dist_to_shopping_between_1_and_2',\n",
    "             'dist_to_shopping_(11.0, 99.0]':'dist_to_shopping_more_than_11',\n",
    "             'dist_to_shopping_(2.0, 5.0]':'dist_to_shopping_between_2_and_5',\n",
    "             'dist_to_shopping_(5.0, 11.0]':'dist_to_shopping_between_5_and_11',\n",
    "             'dist_to_family_(1.0, 2.0]':'dist_to_family_between_1_and_2',\n",
    "             'dist_to_family_(11.0, 99.0]':'dist_to_family_greater_than_11',\n",
    "             'dist_to_family_(2.0, 5.0]':'dist_to_family_between_2_and_5',\n",
    "             'dist_to_family_(5.0, 11.0]':'dist_to_family_between_5_and_11',\n",
    "             'dist_to_school_or_church_(1.0, 2.0]':'dist_to_school_or_church_between_1_and_2',\n",
    "             'dist_to_school_or_church_(11.0, 99.0]':'dist_to_school_or_church_greater_than_11',\n",
    "             'dist_to_school_or_church_(2.0, 5.0]':'dist_to_school_or_church_between_2_and_5',\n",
    "             'dist_to_school_or_church_(5.0, 11.0]':'dist_to_school_or_church_between_5_and_11',\n",
    "             'dist_to_relatives_(1.0, 2.0]':'dist_to_relatvies_between_1_and_2',\n",
    "             'dist_to_relatives_(11.0, 99.0]':'dist_to_relatvies_greater_than_11',\n",
    "             'dist_to_relatives_(2.0, 5.0]':'dist_to_relatvies_between_2_and_5',\n",
    "             'dist_to_relatives_(5.0, 11.0]':'dist_to_relatvies_between_5_and_11',\n",
    "             'dist_to_social_(1.0, 2.0]':'dist_to_social_between_1_and_2',\n",
    "             'dist_to_social_(11.0, 99.0]':'dist_to_social_greater_than_11',\n",
    "             'dist_to_social_(2.0, 5.0]':'dist_to_social_between_2_and_5',\n",
    "             'dist_to_social_(5.0, 11.0]':'dist_to_social_between_5_and_11'}\n",
    "\n",
    "dist_cols = [c for c in x_train_with_dist if 'dist' in c]\n",
    "\n",
    "x_train_with_dist.rename(columns=dist_dict,inplace = True)\n",
    "x_test_with_dist.rename(columns = dist_dict, inplace = True)"
   ]
  },
  {
   "cell_type": "code",
   "execution_count": 81,
   "metadata": {},
   "outputs": [
    {
     "data": {
      "text/html": [
       "<div>\n",
       "<style scoped>\n",
       "    .dataframe tbody tr th:only-of-type {\n",
       "        vertical-align: middle;\n",
       "    }\n",
       "\n",
       "    .dataframe tbody tr th {\n",
       "        vertical-align: top;\n",
       "    }\n",
       "\n",
       "    .dataframe thead th {\n",
       "        text-align: right;\n",
       "    }\n",
       "</style>\n",
       "<table border=\"1\" class=\"dataframe\">\n",
       "  <thead>\n",
       "    <tr style=\"text-align: right;\">\n",
       "      <th></th>\n",
       "      <th>NUMADLT</th>\n",
       "      <th>YOUNGCHILD</th>\n",
       "      <th>WRKCOUNT</th>\n",
       "      <th>EDUC_1</th>\n",
       "      <th>EDUC_2</th>\n",
       "      <th>EDUC_3</th>\n",
       "      <th>EDUC_4</th>\n",
       "      <th>EDUC_5</th>\n",
       "      <th>R_RACE_1</th>\n",
       "      <th>R_RACE_2</th>\n",
       "      <th>...</th>\n",
       "      <th>NUMADLT_ratio_1</th>\n",
       "      <th>NUMADLT_ratio_less_than_0.5</th>\n",
       "      <th>NUMADLT_ratio_more_than_0.5</th>\n",
       "      <th>YOUNGCHILD_ratio_0</th>\n",
       "      <th>YOUNGCHILD_ratio_less_than_0.5</th>\n",
       "      <th>YOUNGCHILD_ratio_more_than_0.5</th>\n",
       "      <th>WRKCOUNT_ratio_0</th>\n",
       "      <th>WRKCOUNT_ratio_1</th>\n",
       "      <th>WRKCOUNT_ratio_less_than_0.5</th>\n",
       "      <th>WRKCOUNT_ratio_more_than_0.5</th>\n",
       "    </tr>\n",
       "  </thead>\n",
       "  <tbody>\n",
       "    <tr>\n",
       "      <th>1564</th>\n",
       "      <td>1.000000</td>\n",
       "      <td>0.0</td>\n",
       "      <td>0.500000</td>\n",
       "      <td>0</td>\n",
       "      <td>0</td>\n",
       "      <td>0</td>\n",
       "      <td>0</td>\n",
       "      <td>1</td>\n",
       "      <td>1</td>\n",
       "      <td>0</td>\n",
       "      <td>...</td>\n",
       "      <td>1</td>\n",
       "      <td>0</td>\n",
       "      <td>0</td>\n",
       "      <td>1</td>\n",
       "      <td>0</td>\n",
       "      <td>0</td>\n",
       "      <td>0</td>\n",
       "      <td>0</td>\n",
       "      <td>0</td>\n",
       "      <td>1</td>\n",
       "    </tr>\n",
       "    <tr>\n",
       "      <th>7719</th>\n",
       "      <td>1.000000</td>\n",
       "      <td>0.0</td>\n",
       "      <td>1.000000</td>\n",
       "      <td>0</td>\n",
       "      <td>1</td>\n",
       "      <td>0</td>\n",
       "      <td>0</td>\n",
       "      <td>0</td>\n",
       "      <td>1</td>\n",
       "      <td>0</td>\n",
       "      <td>...</td>\n",
       "      <td>1</td>\n",
       "      <td>0</td>\n",
       "      <td>0</td>\n",
       "      <td>1</td>\n",
       "      <td>0</td>\n",
       "      <td>0</td>\n",
       "      <td>0</td>\n",
       "      <td>1</td>\n",
       "      <td>0</td>\n",
       "      <td>0</td>\n",
       "    </tr>\n",
       "    <tr>\n",
       "      <th>13490</th>\n",
       "      <td>1.000000</td>\n",
       "      <td>0.0</td>\n",
       "      <td>0.500000</td>\n",
       "      <td>0</td>\n",
       "      <td>0</td>\n",
       "      <td>1</td>\n",
       "      <td>0</td>\n",
       "      <td>0</td>\n",
       "      <td>1</td>\n",
       "      <td>0</td>\n",
       "      <td>...</td>\n",
       "      <td>1</td>\n",
       "      <td>0</td>\n",
       "      <td>0</td>\n",
       "      <td>1</td>\n",
       "      <td>0</td>\n",
       "      <td>0</td>\n",
       "      <td>0</td>\n",
       "      <td>0</td>\n",
       "      <td>0</td>\n",
       "      <td>1</td>\n",
       "    </tr>\n",
       "    <tr>\n",
       "      <th>4050</th>\n",
       "      <td>0.600000</td>\n",
       "      <td>0.0</td>\n",
       "      <td>0.200000</td>\n",
       "      <td>1</td>\n",
       "      <td>0</td>\n",
       "      <td>0</td>\n",
       "      <td>0</td>\n",
       "      <td>0</td>\n",
       "      <td>1</td>\n",
       "      <td>0</td>\n",
       "      <td>...</td>\n",
       "      <td>0</td>\n",
       "      <td>0</td>\n",
       "      <td>1</td>\n",
       "      <td>1</td>\n",
       "      <td>0</td>\n",
       "      <td>0</td>\n",
       "      <td>0</td>\n",
       "      <td>0</td>\n",
       "      <td>1</td>\n",
       "      <td>0</td>\n",
       "    </tr>\n",
       "    <tr>\n",
       "      <th>9098</th>\n",
       "      <td>0.666667</td>\n",
       "      <td>0.0</td>\n",
       "      <td>0.666667</td>\n",
       "      <td>0</td>\n",
       "      <td>0</td>\n",
       "      <td>0</td>\n",
       "      <td>1</td>\n",
       "      <td>0</td>\n",
       "      <td>1</td>\n",
       "      <td>0</td>\n",
       "      <td>...</td>\n",
       "      <td>0</td>\n",
       "      <td>0</td>\n",
       "      <td>1</td>\n",
       "      <td>1</td>\n",
       "      <td>0</td>\n",
       "      <td>0</td>\n",
       "      <td>0</td>\n",
       "      <td>0</td>\n",
       "      <td>0</td>\n",
       "      <td>1</td>\n",
       "    </tr>\n",
       "    <tr>\n",
       "      <th>...</th>\n",
       "      <td>...</td>\n",
       "      <td>...</td>\n",
       "      <td>...</td>\n",
       "      <td>...</td>\n",
       "      <td>...</td>\n",
       "      <td>...</td>\n",
       "      <td>...</td>\n",
       "      <td>...</td>\n",
       "      <td>...</td>\n",
       "      <td>...</td>\n",
       "      <td>...</td>\n",
       "      <td>...</td>\n",
       "      <td>...</td>\n",
       "      <td>...</td>\n",
       "      <td>...</td>\n",
       "      <td>...</td>\n",
       "      <td>...</td>\n",
       "      <td>...</td>\n",
       "      <td>...</td>\n",
       "      <td>...</td>\n",
       "      <td>...</td>\n",
       "    </tr>\n",
       "    <tr>\n",
       "      <th>3858</th>\n",
       "      <td>1.000000</td>\n",
       "      <td>0.0</td>\n",
       "      <td>1.000000</td>\n",
       "      <td>0</td>\n",
       "      <td>0</td>\n",
       "      <td>0</td>\n",
       "      <td>1</td>\n",
       "      <td>0</td>\n",
       "      <td>1</td>\n",
       "      <td>0</td>\n",
       "      <td>...</td>\n",
       "      <td>1</td>\n",
       "      <td>0</td>\n",
       "      <td>0</td>\n",
       "      <td>1</td>\n",
       "      <td>0</td>\n",
       "      <td>0</td>\n",
       "      <td>0</td>\n",
       "      <td>1</td>\n",
       "      <td>0</td>\n",
       "      <td>0</td>\n",
       "    </tr>\n",
       "    <tr>\n",
       "      <th>17368</th>\n",
       "      <td>1.000000</td>\n",
       "      <td>0.0</td>\n",
       "      <td>0.000000</td>\n",
       "      <td>0</td>\n",
       "      <td>0</td>\n",
       "      <td>1</td>\n",
       "      <td>0</td>\n",
       "      <td>0</td>\n",
       "      <td>1</td>\n",
       "      <td>0</td>\n",
       "      <td>...</td>\n",
       "      <td>1</td>\n",
       "      <td>0</td>\n",
       "      <td>0</td>\n",
       "      <td>1</td>\n",
       "      <td>0</td>\n",
       "      <td>0</td>\n",
       "      <td>1</td>\n",
       "      <td>0</td>\n",
       "      <td>0</td>\n",
       "      <td>0</td>\n",
       "    </tr>\n",
       "    <tr>\n",
       "      <th>26781</th>\n",
       "      <td>1.000000</td>\n",
       "      <td>0.0</td>\n",
       "      <td>0.000000</td>\n",
       "      <td>0</td>\n",
       "      <td>0</td>\n",
       "      <td>0</td>\n",
       "      <td>0</td>\n",
       "      <td>1</td>\n",
       "      <td>1</td>\n",
       "      <td>0</td>\n",
       "      <td>...</td>\n",
       "      <td>1</td>\n",
       "      <td>0</td>\n",
       "      <td>0</td>\n",
       "      <td>1</td>\n",
       "      <td>0</td>\n",
       "      <td>0</td>\n",
       "      <td>1</td>\n",
       "      <td>0</td>\n",
       "      <td>0</td>\n",
       "      <td>0</td>\n",
       "    </tr>\n",
       "    <tr>\n",
       "      <th>3503</th>\n",
       "      <td>1.000000</td>\n",
       "      <td>0.0</td>\n",
       "      <td>0.500000</td>\n",
       "      <td>0</td>\n",
       "      <td>0</td>\n",
       "      <td>0</td>\n",
       "      <td>0</td>\n",
       "      <td>1</td>\n",
       "      <td>1</td>\n",
       "      <td>0</td>\n",
       "      <td>...</td>\n",
       "      <td>1</td>\n",
       "      <td>0</td>\n",
       "      <td>0</td>\n",
       "      <td>1</td>\n",
       "      <td>0</td>\n",
       "      <td>0</td>\n",
       "      <td>0</td>\n",
       "      <td>0</td>\n",
       "      <td>0</td>\n",
       "      <td>1</td>\n",
       "    </tr>\n",
       "    <tr>\n",
       "      <th>2850</th>\n",
       "      <td>1.000000</td>\n",
       "      <td>0.0</td>\n",
       "      <td>0.500000</td>\n",
       "      <td>1</td>\n",
       "      <td>0</td>\n",
       "      <td>0</td>\n",
       "      <td>0</td>\n",
       "      <td>0</td>\n",
       "      <td>1</td>\n",
       "      <td>0</td>\n",
       "      <td>...</td>\n",
       "      <td>1</td>\n",
       "      <td>0</td>\n",
       "      <td>0</td>\n",
       "      <td>1</td>\n",
       "      <td>0</td>\n",
       "      <td>0</td>\n",
       "      <td>0</td>\n",
       "      <td>0</td>\n",
       "      <td>0</td>\n",
       "      <td>1</td>\n",
       "    </tr>\n",
       "  </tbody>\n",
       "</table>\n",
       "<p>6112 rows × 108 columns</p>\n",
       "</div>"
      ],
      "text/plain": [
       "        NUMADLT  YOUNGCHILD  WRKCOUNT  EDUC_1  EDUC_2  EDUC_3  EDUC_4  EDUC_5  \\\n",
       "1564   1.000000         0.0  0.500000       0       0       0       0       1   \n",
       "7719   1.000000         0.0  1.000000       0       1       0       0       0   \n",
       "13490  1.000000         0.0  0.500000       0       0       1       0       0   \n",
       "4050   0.600000         0.0  0.200000       1       0       0       0       0   \n",
       "9098   0.666667         0.0  0.666667       0       0       0       1       0   \n",
       "...         ...         ...       ...     ...     ...     ...     ...     ...   \n",
       "3858   1.000000         0.0  1.000000       0       0       0       1       0   \n",
       "17368  1.000000         0.0  0.000000       0       0       1       0       0   \n",
       "26781  1.000000         0.0  0.000000       0       0       0       0       1   \n",
       "3503   1.000000         0.0  0.500000       0       0       0       0       1   \n",
       "2850   1.000000         0.0  0.500000       1       0       0       0       0   \n",
       "\n",
       "       R_RACE_1  R_RACE_2  ...  NUMADLT_ratio_1  NUMADLT_ratio_less_than_0.5  \\\n",
       "1564          1         0  ...                1                            0   \n",
       "7719          1         0  ...                1                            0   \n",
       "13490         1         0  ...                1                            0   \n",
       "4050          1         0  ...                0                            0   \n",
       "9098          1         0  ...                0                            0   \n",
       "...         ...       ...  ...              ...                          ...   \n",
       "3858          1         0  ...                1                            0   \n",
       "17368         1         0  ...                1                            0   \n",
       "26781         1         0  ...                1                            0   \n",
       "3503          1         0  ...                1                            0   \n",
       "2850          1         0  ...                1                            0   \n",
       "\n",
       "       NUMADLT_ratio_more_than_0.5  YOUNGCHILD_ratio_0  \\\n",
       "1564                             0                   1   \n",
       "7719                             0                   1   \n",
       "13490                            0                   1   \n",
       "4050                             1                   1   \n",
       "9098                             1                   1   \n",
       "...                            ...                 ...   \n",
       "3858                             0                   1   \n",
       "17368                            0                   1   \n",
       "26781                            0                   1   \n",
       "3503                             0                   1   \n",
       "2850                             0                   1   \n",
       "\n",
       "       YOUNGCHILD_ratio_less_than_0.5  YOUNGCHILD_ratio_more_than_0.5  \\\n",
       "1564                                0                               0   \n",
       "7719                                0                               0   \n",
       "13490                               0                               0   \n",
       "4050                                0                               0   \n",
       "9098                                0                               0   \n",
       "...                               ...                             ...   \n",
       "3858                                0                               0   \n",
       "17368                               0                               0   \n",
       "26781                               0                               0   \n",
       "3503                                0                               0   \n",
       "2850                                0                               0   \n",
       "\n",
       "       WRKCOUNT_ratio_0  WRKCOUNT_ratio_1  WRKCOUNT_ratio_less_than_0.5  \\\n",
       "1564                  0                 0                             0   \n",
       "7719                  0                 1                             0   \n",
       "13490                 0                 0                             0   \n",
       "4050                  0                 0                             1   \n",
       "9098                  0                 0                             0   \n",
       "...                 ...               ...                           ...   \n",
       "3858                  0                 1                             0   \n",
       "17368                 1                 0                             0   \n",
       "26781                 1                 0                             0   \n",
       "3503                  0                 0                             0   \n",
       "2850                  0                 0                             0   \n",
       "\n",
       "       WRKCOUNT_ratio_more_than_0.5  \n",
       "1564                              1  \n",
       "7719                              0  \n",
       "13490                             1  \n",
       "4050                              0  \n",
       "9098                              1  \n",
       "...                             ...  \n",
       "3858                              0  \n",
       "17368                             0  \n",
       "26781                             0  \n",
       "3503                              1  \n",
       "2850                              1  \n",
       "\n",
       "[6112 rows x 108 columns]"
      ]
     },
     "execution_count": 81,
     "metadata": {},
     "output_type": "execute_result"
    }
   ],
   "source": [
    "x_test"
   ]
  },
  {
   "cell_type": "code",
   "execution_count": 82,
   "metadata": {},
   "outputs": [
    {
     "data": {
      "text/html": [
       "<div>\n",
       "<style scoped>\n",
       "    .dataframe tbody tr th:only-of-type {\n",
       "        vertical-align: middle;\n",
       "    }\n",
       "\n",
       "    .dataframe tbody tr th {\n",
       "        vertical-align: top;\n",
       "    }\n",
       "\n",
       "    .dataframe thead th {\n",
       "        text-align: right;\n",
       "    }\n",
       "</style>\n",
       "<table border=\"1\" class=\"dataframe\">\n",
       "  <thead>\n",
       "    <tr style=\"text-align: right;\">\n",
       "      <th></th>\n",
       "      <th>NUMADLT</th>\n",
       "      <th>YOUNGCHILD</th>\n",
       "      <th>WRKCOUNT</th>\n",
       "      <th>EDUC_1</th>\n",
       "      <th>EDUC_2</th>\n",
       "      <th>EDUC_3</th>\n",
       "      <th>EDUC_4</th>\n",
       "      <th>EDUC_5</th>\n",
       "      <th>R_RACE_1</th>\n",
       "      <th>R_RACE_2</th>\n",
       "      <th>...</th>\n",
       "      <th>dist_to_school_or_church_between_2_and_5</th>\n",
       "      <th>dist_to_school_or_church_between_5_and_11</th>\n",
       "      <th>dist_to_relatvies_between_1_and_2</th>\n",
       "      <th>dist_to_relatvies_greater_than_11</th>\n",
       "      <th>dist_to_relatvies_between_2_and_5</th>\n",
       "      <th>dist_to_relatvies_between_5_and_11</th>\n",
       "      <th>dist_to_social_between_1_and_2</th>\n",
       "      <th>dist_to_social_greater_than_11</th>\n",
       "      <th>dist_to_social_between_2_and_5</th>\n",
       "      <th>dist_to_social_between_5_and_11</th>\n",
       "    </tr>\n",
       "  </thead>\n",
       "  <tbody>\n",
       "    <tr>\n",
       "      <th>1564</th>\n",
       "      <td>1.000000</td>\n",
       "      <td>0.0</td>\n",
       "      <td>0.500000</td>\n",
       "      <td>0</td>\n",
       "      <td>0</td>\n",
       "      <td>0</td>\n",
       "      <td>0</td>\n",
       "      <td>1</td>\n",
       "      <td>1</td>\n",
       "      <td>0</td>\n",
       "      <td>...</td>\n",
       "      <td>0</td>\n",
       "      <td>0</td>\n",
       "      <td>0</td>\n",
       "      <td>0</td>\n",
       "      <td>0</td>\n",
       "      <td>0</td>\n",
       "      <td>0</td>\n",
       "      <td>0</td>\n",
       "      <td>0</td>\n",
       "      <td>0</td>\n",
       "    </tr>\n",
       "    <tr>\n",
       "      <th>7719</th>\n",
       "      <td>1.000000</td>\n",
       "      <td>0.0</td>\n",
       "      <td>1.000000</td>\n",
       "      <td>0</td>\n",
       "      <td>1</td>\n",
       "      <td>0</td>\n",
       "      <td>0</td>\n",
       "      <td>0</td>\n",
       "      <td>1</td>\n",
       "      <td>0</td>\n",
       "      <td>...</td>\n",
       "      <td>0</td>\n",
       "      <td>0</td>\n",
       "      <td>0</td>\n",
       "      <td>0</td>\n",
       "      <td>0</td>\n",
       "      <td>0</td>\n",
       "      <td>0</td>\n",
       "      <td>0</td>\n",
       "      <td>1</td>\n",
       "      <td>0</td>\n",
       "    </tr>\n",
       "    <tr>\n",
       "      <th>13490</th>\n",
       "      <td>1.000000</td>\n",
       "      <td>0.0</td>\n",
       "      <td>0.500000</td>\n",
       "      <td>0</td>\n",
       "      <td>0</td>\n",
       "      <td>1</td>\n",
       "      <td>0</td>\n",
       "      <td>0</td>\n",
       "      <td>1</td>\n",
       "      <td>0</td>\n",
       "      <td>...</td>\n",
       "      <td>0</td>\n",
       "      <td>0</td>\n",
       "      <td>0</td>\n",
       "      <td>0</td>\n",
       "      <td>0</td>\n",
       "      <td>0</td>\n",
       "      <td>0</td>\n",
       "      <td>0</td>\n",
       "      <td>0</td>\n",
       "      <td>0</td>\n",
       "    </tr>\n",
       "    <tr>\n",
       "      <th>4050</th>\n",
       "      <td>0.600000</td>\n",
       "      <td>0.0</td>\n",
       "      <td>0.200000</td>\n",
       "      <td>1</td>\n",
       "      <td>0</td>\n",
       "      <td>0</td>\n",
       "      <td>0</td>\n",
       "      <td>0</td>\n",
       "      <td>1</td>\n",
       "      <td>0</td>\n",
       "      <td>...</td>\n",
       "      <td>0</td>\n",
       "      <td>0</td>\n",
       "      <td>0</td>\n",
       "      <td>0</td>\n",
       "      <td>0</td>\n",
       "      <td>0</td>\n",
       "      <td>0</td>\n",
       "      <td>0</td>\n",
       "      <td>0</td>\n",
       "      <td>0</td>\n",
       "    </tr>\n",
       "    <tr>\n",
       "      <th>9098</th>\n",
       "      <td>0.666667</td>\n",
       "      <td>0.0</td>\n",
       "      <td>0.666667</td>\n",
       "      <td>0</td>\n",
       "      <td>0</td>\n",
       "      <td>0</td>\n",
       "      <td>1</td>\n",
       "      <td>0</td>\n",
       "      <td>1</td>\n",
       "      <td>0</td>\n",
       "      <td>...</td>\n",
       "      <td>0</td>\n",
       "      <td>0</td>\n",
       "      <td>0</td>\n",
       "      <td>0</td>\n",
       "      <td>0</td>\n",
       "      <td>0</td>\n",
       "      <td>0</td>\n",
       "      <td>0</td>\n",
       "      <td>0</td>\n",
       "      <td>0</td>\n",
       "    </tr>\n",
       "    <tr>\n",
       "      <th>...</th>\n",
       "      <td>...</td>\n",
       "      <td>...</td>\n",
       "      <td>...</td>\n",
       "      <td>...</td>\n",
       "      <td>...</td>\n",
       "      <td>...</td>\n",
       "      <td>...</td>\n",
       "      <td>...</td>\n",
       "      <td>...</td>\n",
       "      <td>...</td>\n",
       "      <td>...</td>\n",
       "      <td>...</td>\n",
       "      <td>...</td>\n",
       "      <td>...</td>\n",
       "      <td>...</td>\n",
       "      <td>...</td>\n",
       "      <td>...</td>\n",
       "      <td>...</td>\n",
       "      <td>...</td>\n",
       "      <td>...</td>\n",
       "      <td>...</td>\n",
       "    </tr>\n",
       "    <tr>\n",
       "      <th>3858</th>\n",
       "      <td>1.000000</td>\n",
       "      <td>0.0</td>\n",
       "      <td>1.000000</td>\n",
       "      <td>0</td>\n",
       "      <td>0</td>\n",
       "      <td>0</td>\n",
       "      <td>1</td>\n",
       "      <td>0</td>\n",
       "      <td>1</td>\n",
       "      <td>0</td>\n",
       "      <td>...</td>\n",
       "      <td>0</td>\n",
       "      <td>0</td>\n",
       "      <td>0</td>\n",
       "      <td>0</td>\n",
       "      <td>0</td>\n",
       "      <td>0</td>\n",
       "      <td>0</td>\n",
       "      <td>0</td>\n",
       "      <td>0</td>\n",
       "      <td>0</td>\n",
       "    </tr>\n",
       "    <tr>\n",
       "      <th>17368</th>\n",
       "      <td>1.000000</td>\n",
       "      <td>0.0</td>\n",
       "      <td>0.000000</td>\n",
       "      <td>0</td>\n",
       "      <td>0</td>\n",
       "      <td>1</td>\n",
       "      <td>0</td>\n",
       "      <td>0</td>\n",
       "      <td>1</td>\n",
       "      <td>0</td>\n",
       "      <td>...</td>\n",
       "      <td>0</td>\n",
       "      <td>0</td>\n",
       "      <td>0</td>\n",
       "      <td>0</td>\n",
       "      <td>0</td>\n",
       "      <td>0</td>\n",
       "      <td>0</td>\n",
       "      <td>0</td>\n",
       "      <td>0</td>\n",
       "      <td>0</td>\n",
       "    </tr>\n",
       "    <tr>\n",
       "      <th>26781</th>\n",
       "      <td>1.000000</td>\n",
       "      <td>0.0</td>\n",
       "      <td>0.000000</td>\n",
       "      <td>0</td>\n",
       "      <td>0</td>\n",
       "      <td>0</td>\n",
       "      <td>0</td>\n",
       "      <td>1</td>\n",
       "      <td>1</td>\n",
       "      <td>0</td>\n",
       "      <td>...</td>\n",
       "      <td>0</td>\n",
       "      <td>0</td>\n",
       "      <td>0</td>\n",
       "      <td>0</td>\n",
       "      <td>0</td>\n",
       "      <td>0</td>\n",
       "      <td>0</td>\n",
       "      <td>0</td>\n",
       "      <td>0</td>\n",
       "      <td>0</td>\n",
       "    </tr>\n",
       "    <tr>\n",
       "      <th>3503</th>\n",
       "      <td>1.000000</td>\n",
       "      <td>0.0</td>\n",
       "      <td>0.500000</td>\n",
       "      <td>0</td>\n",
       "      <td>0</td>\n",
       "      <td>0</td>\n",
       "      <td>0</td>\n",
       "      <td>1</td>\n",
       "      <td>1</td>\n",
       "      <td>0</td>\n",
       "      <td>...</td>\n",
       "      <td>0</td>\n",
       "      <td>0</td>\n",
       "      <td>0</td>\n",
       "      <td>0</td>\n",
       "      <td>0</td>\n",
       "      <td>0</td>\n",
       "      <td>0</td>\n",
       "      <td>0</td>\n",
       "      <td>0</td>\n",
       "      <td>0</td>\n",
       "    </tr>\n",
       "    <tr>\n",
       "      <th>2850</th>\n",
       "      <td>1.000000</td>\n",
       "      <td>0.0</td>\n",
       "      <td>0.500000</td>\n",
       "      <td>1</td>\n",
       "      <td>0</td>\n",
       "      <td>0</td>\n",
       "      <td>0</td>\n",
       "      <td>0</td>\n",
       "      <td>1</td>\n",
       "      <td>0</td>\n",
       "      <td>...</td>\n",
       "      <td>0</td>\n",
       "      <td>0</td>\n",
       "      <td>0</td>\n",
       "      <td>1</td>\n",
       "      <td>0</td>\n",
       "      <td>0</td>\n",
       "      <td>0</td>\n",
       "      <td>0</td>\n",
       "      <td>0</td>\n",
       "      <td>0</td>\n",
       "    </tr>\n",
       "  </tbody>\n",
       "</table>\n",
       "<p>6112 rows × 132 columns</p>\n",
       "</div>"
      ],
      "text/plain": [
       "        NUMADLT  YOUNGCHILD  WRKCOUNT  EDUC_1  EDUC_2  EDUC_3  EDUC_4  EDUC_5  \\\n",
       "1564   1.000000         0.0  0.500000       0       0       0       0       1   \n",
       "7719   1.000000         0.0  1.000000       0       1       0       0       0   \n",
       "13490  1.000000         0.0  0.500000       0       0       1       0       0   \n",
       "4050   0.600000         0.0  0.200000       1       0       0       0       0   \n",
       "9098   0.666667         0.0  0.666667       0       0       0       1       0   \n",
       "...         ...         ...       ...     ...     ...     ...     ...     ...   \n",
       "3858   1.000000         0.0  1.000000       0       0       0       1       0   \n",
       "17368  1.000000         0.0  0.000000       0       0       1       0       0   \n",
       "26781  1.000000         0.0  0.000000       0       0       0       0       1   \n",
       "3503   1.000000         0.0  0.500000       0       0       0       0       1   \n",
       "2850   1.000000         0.0  0.500000       1       0       0       0       0   \n",
       "\n",
       "       R_RACE_1  R_RACE_2  ...  dist_to_school_or_church_between_2_and_5  \\\n",
       "1564          1         0  ...                                         0   \n",
       "7719          1         0  ...                                         0   \n",
       "13490         1         0  ...                                         0   \n",
       "4050          1         0  ...                                         0   \n",
       "9098          1         0  ...                                         0   \n",
       "...         ...       ...  ...                                       ...   \n",
       "3858          1         0  ...                                         0   \n",
       "17368         1         0  ...                                         0   \n",
       "26781         1         0  ...                                         0   \n",
       "3503          1         0  ...                                         0   \n",
       "2850          1         0  ...                                         0   \n",
       "\n",
       "       dist_to_school_or_church_between_5_and_11  \\\n",
       "1564                                           0   \n",
       "7719                                           0   \n",
       "13490                                          0   \n",
       "4050                                           0   \n",
       "9098                                           0   \n",
       "...                                          ...   \n",
       "3858                                           0   \n",
       "17368                                          0   \n",
       "26781                                          0   \n",
       "3503                                           0   \n",
       "2850                                           0   \n",
       "\n",
       "       dist_to_relatvies_between_1_and_2  dist_to_relatvies_greater_than_11  \\\n",
       "1564                                   0                                  0   \n",
       "7719                                   0                                  0   \n",
       "13490                                  0                                  0   \n",
       "4050                                   0                                  0   \n",
       "9098                                   0                                  0   \n",
       "...                                  ...                                ...   \n",
       "3858                                   0                                  0   \n",
       "17368                                  0                                  0   \n",
       "26781                                  0                                  0   \n",
       "3503                                   0                                  0   \n",
       "2850                                   0                                  1   \n",
       "\n",
       "       dist_to_relatvies_between_2_and_5  dist_to_relatvies_between_5_and_11  \\\n",
       "1564                                   0                                   0   \n",
       "7719                                   0                                   0   \n",
       "13490                                  0                                   0   \n",
       "4050                                   0                                   0   \n",
       "9098                                   0                                   0   \n",
       "...                                  ...                                 ...   \n",
       "3858                                   0                                   0   \n",
       "17368                                  0                                   0   \n",
       "26781                                  0                                   0   \n",
       "3503                                   0                                   0   \n",
       "2850                                   0                                   0   \n",
       "\n",
       "       dist_to_social_between_1_and_2  dist_to_social_greater_than_11  \\\n",
       "1564                                0                               0   \n",
       "7719                                0                               0   \n",
       "13490                               0                               0   \n",
       "4050                                0                               0   \n",
       "9098                                0                               0   \n",
       "...                               ...                             ...   \n",
       "3858                                0                               0   \n",
       "17368                               0                               0   \n",
       "26781                               0                               0   \n",
       "3503                                0                               0   \n",
       "2850                                0                               0   \n",
       "\n",
       "       dist_to_social_between_2_and_5  dist_to_social_between_5_and_11  \n",
       "1564                                0                                0  \n",
       "7719                                1                                0  \n",
       "13490                               0                                0  \n",
       "4050                                0                                0  \n",
       "9098                                0                                0  \n",
       "...                               ...                              ...  \n",
       "3858                                0                                0  \n",
       "17368                               0                                0  \n",
       "26781                               0                                0  \n",
       "3503                                0                                0  \n",
       "2850                                0                                0  \n",
       "\n",
       "[6112 rows x 132 columns]"
      ]
     },
     "execution_count": 82,
     "metadata": {},
     "output_type": "execute_result"
    }
   ],
   "source": [
    "x_test_with_dist"
   ]
  },
  {
   "cell_type": "code",
   "execution_count": 83,
   "metadata": {},
   "outputs": [
    {
     "data": {
      "text/plain": [
       "['NUMADLT',\n",
       " 'YOUNGCHILD',\n",
       " 'WRKCOUNT',\n",
       " 'EDUC_1',\n",
       " 'EDUC_2',\n",
       " 'EDUC_3',\n",
       " 'EDUC_4',\n",
       " 'EDUC_5',\n",
       " 'R_RACE_1',\n",
       " 'R_RACE_2',\n",
       " 'R_RACE_3',\n",
       " 'R_RACE_4',\n",
       " 'R_RACE_5',\n",
       " 'R_RACE_6',\n",
       " 'R_RACE_97',\n",
       " 'R_SEX_1',\n",
       " 'R_SEX_2',\n",
       " 'WRK_HOME_1',\n",
       " 'WRK_HOME_2',\n",
       " 'WKFTPT_1',\n",
       " 'WKFTPT_2',\n",
       " 'OCCAT_1',\n",
       " 'OCCAT_2',\n",
       " 'OCCAT_3',\n",
       " 'OCCAT_4',\n",
       " 'OCCAT_97',\n",
       " 'DRIVER_1',\n",
       " 'DRIVER_2',\n",
       " 'TRAVDAY_1',\n",
       " 'TRAVDAY_2',\n",
       " 'TRAVDAY_3',\n",
       " 'TRAVDAY_4',\n",
       " 'TRAVDAY_5',\n",
       " 'TRAVDAY_6',\n",
       " 'TRAVDAY_7',\n",
       " 'HH_CBSA_15380',\n",
       " 'HH_CBSA_35620',\n",
       " 'HH_CBSA_40380',\n",
       " 'HH_CBSA_XXXXX',\n",
       " 'HOMEOWN_1',\n",
       " 'HOMEOWN_2',\n",
       " 'HOMEOWN_97',\n",
       " 'HHSIZE_1',\n",
       " 'HHSIZE_2',\n",
       " 'HHSIZE_3',\n",
       " 'HHSIZE_ above_3',\n",
       " 'HHVEHCNT_1',\n",
       " 'HHVEHCNT_2',\n",
       " 'HHVEHCNT_3',\n",
       " 'HHVEHCNT_>3',\n",
       " 'HHFAMINC_1',\n",
       " 'HHFAMINC_10',\n",
       " 'HHFAMINC_11',\n",
       " 'HHFAMINC_2',\n",
       " 'HHFAMINC_3',\n",
       " 'HHFAMINC_4',\n",
       " 'HHFAMINC_5',\n",
       " 'HHFAMINC_6',\n",
       " 'HHFAMINC_7',\n",
       " 'HHFAMINC_8',\n",
       " 'HHFAMINC_9',\n",
       " 'MSACAT_1',\n",
       " 'MSACAT_2',\n",
       " 'MSACAT_3',\n",
       " 'MSACAT_4',\n",
       " 'MSASIZE_1',\n",
       " 'MSASIZE_2',\n",
       " 'MSASIZE_3',\n",
       " 'MSASIZE_4',\n",
       " 'MSASIZE_5',\n",
       " 'MSASIZE_6',\n",
       " 'URBAN_rural',\n",
       " 'URBAN_urban',\n",
       " 'URBANSIZE_1',\n",
       " 'URBANSIZE_2',\n",
       " 'URBANSIZE_3',\n",
       " 'URBANSIZE_5',\n",
       " 'URBANSIZE_6',\n",
       " 'URBRUR_1',\n",
       " 'URBRUR_2',\n",
       " 'LIF_CYC_1',\n",
       " 'LIF_CYC_10',\n",
       " 'LIF_CYC_2',\n",
       " 'LIF_CYC_3',\n",
       " 'LIF_CYC_4',\n",
       " 'LIF_CYC_5',\n",
       " 'LIF_CYC_6',\n",
       " 'LIF_CYC_7',\n",
       " 'LIF_CYC_8',\n",
       " 'LIF_CYC_9',\n",
       " 'AGE_bins_16_to_25',\n",
       " 'AGE_bins_26_to_35',\n",
       " 'AGE_bins_36_to_45',\n",
       " 'AGE_bins_46_to_55',\n",
       " 'AGE_bins_56_to_65',\n",
       " 'AGE_bins_5_to_15',\n",
       " 'AGE_bins_66_to_75',\n",
       " 'AGE_bins_more_than_75',\n",
       " 'NUMADLT_ratio_1',\n",
       " 'NUMADLT_ratio_less_than_0.5',\n",
       " 'NUMADLT_ratio_more_than_0.5',\n",
       " 'YOUNGCHILD_ratio_0',\n",
       " 'YOUNGCHILD_ratio_less_than_0.5',\n",
       " 'YOUNGCHILD_ratio_more_than_0.5',\n",
       " 'WRKCOUNT_ratio_0',\n",
       " 'WRKCOUNT_ratio_1',\n",
       " 'WRKCOUNT_ratio_less_than_0.5',\n",
       " 'WRKCOUNT_ratio_more_than_0.5',\n",
       " 'dist_to_work_between_1_and_2',\n",
       " 'dist_to_work_more_than_11',\n",
       " 'dist_to_work_between_2_and_5',\n",
       " 'dist_to_work_between_5_and_11',\n",
       " 'dist_to_shopping_between_1_and_2',\n",
       " 'dist_to_shopping_more_than_11',\n",
       " 'dist_to_shopping_between_2_and_5',\n",
       " 'dist_to_shopping_between_5_and_11',\n",
       " 'dist_to_family_between_1_and_2',\n",
       " 'dist_to_family_greater_than_11',\n",
       " 'dist_to_family_between_2_and_5',\n",
       " 'dist_to_family_between_5_and_11',\n",
       " 'dist_to_school_or_church_between_1_and_2',\n",
       " 'dist_to_school_or_church_greater_than_11',\n",
       " 'dist_to_school_or_church_between_2_and_5',\n",
       " 'dist_to_school_or_church_between_5_and_11',\n",
       " 'dist_to_relatvies_between_1_and_2',\n",
       " 'dist_to_relatvies_greater_than_11',\n",
       " 'dist_to_relatvies_between_2_and_5',\n",
       " 'dist_to_relatvies_between_5_and_11',\n",
       " 'dist_to_social_between_1_and_2',\n",
       " 'dist_to_social_greater_than_11',\n",
       " 'dist_to_social_between_2_and_5',\n",
       " 'dist_to_social_between_5_and_11']"
      ]
     },
     "execution_count": 83,
     "metadata": {},
     "output_type": "execute_result"
    }
   ],
   "source": [
    "[c for c in x_test_with_dist]"
   ]
  },
  {
   "cell_type": "code",
   "execution_count": 84,
   "metadata": {},
   "outputs": [
    {
     "data": {
      "text/plain": [
       "['NUMADLT',\n",
       " 'YOUNGCHILD',\n",
       " 'WRKCOUNT',\n",
       " 'EDUC_1',\n",
       " 'EDUC_2',\n",
       " 'EDUC_3',\n",
       " 'EDUC_4',\n",
       " 'EDUC_5',\n",
       " 'R_RACE_1',\n",
       " 'R_RACE_2',\n",
       " 'R_RACE_3',\n",
       " 'R_RACE_4',\n",
       " 'R_RACE_5',\n",
       " 'R_RACE_6',\n",
       " 'R_RACE_97',\n",
       " 'R_SEX_1',\n",
       " 'R_SEX_2',\n",
       " 'WRK_HOME_1',\n",
       " 'WRK_HOME_2',\n",
       " 'WKFTPT_1',\n",
       " 'WKFTPT_2',\n",
       " 'OCCAT_1',\n",
       " 'OCCAT_2',\n",
       " 'OCCAT_3',\n",
       " 'OCCAT_4',\n",
       " 'OCCAT_97',\n",
       " 'DRIVER_1',\n",
       " 'DRIVER_2',\n",
       " 'TRAVDAY_1',\n",
       " 'TRAVDAY_2',\n",
       " 'TRAVDAY_3',\n",
       " 'TRAVDAY_4',\n",
       " 'TRAVDAY_5',\n",
       " 'TRAVDAY_6',\n",
       " 'TRAVDAY_7',\n",
       " 'HH_CBSA_15380',\n",
       " 'HH_CBSA_35620',\n",
       " 'HH_CBSA_40380',\n",
       " 'HH_CBSA_XXXXX',\n",
       " 'HOMEOWN_1',\n",
       " 'HOMEOWN_2',\n",
       " 'HOMEOWN_97',\n",
       " 'HHSIZE_1',\n",
       " 'HHSIZE_2',\n",
       " 'HHSIZE_3',\n",
       " 'HHSIZE_above_3',\n",
       " 'HHVEHCNT_1',\n",
       " 'HHVEHCNT_2',\n",
       " 'HHVEHCNT_3',\n",
       " 'HHVEHCNT_>3',\n",
       " 'HHFAMINC_1',\n",
       " 'HHFAMINC_10',\n",
       " 'HHFAMINC_11',\n",
       " 'HHFAMINC_2',\n",
       " 'HHFAMINC_3',\n",
       " 'HHFAMINC_4',\n",
       " 'HHFAMINC_5',\n",
       " 'HHFAMINC_6',\n",
       " 'HHFAMINC_7',\n",
       " 'HHFAMINC_8',\n",
       " 'HHFAMINC_9',\n",
       " 'MSACAT_1',\n",
       " 'MSACAT_2',\n",
       " 'MSACAT_3',\n",
       " 'MSACAT_4',\n",
       " 'MSASIZE_1',\n",
       " 'MSASIZE_2',\n",
       " 'MSASIZE_3',\n",
       " 'MSASIZE_4',\n",
       " 'MSASIZE_5',\n",
       " 'MSASIZE_6',\n",
       " 'URBAN_rural',\n",
       " 'URBAN_urban',\n",
       " 'URBANSIZE_1',\n",
       " 'URBANSIZE_2',\n",
       " 'URBANSIZE_3',\n",
       " 'URBANSIZE_5',\n",
       " 'URBANSIZE_6',\n",
       " 'URBRUR_1',\n",
       " 'URBRUR_2',\n",
       " 'LIF_CYC_1',\n",
       " 'LIF_CYC_10',\n",
       " 'LIF_CYC_2',\n",
       " 'LIF_CYC_3',\n",
       " 'LIF_CYC_4',\n",
       " 'LIF_CYC_5',\n",
       " 'LIF_CYC_6',\n",
       " 'LIF_CYC_7',\n",
       " 'LIF_CYC_8',\n",
       " 'LIF_CYC_9',\n",
       " 'AGE_bins_16_to_25',\n",
       " 'AGE_bins_26_to_35',\n",
       " 'AGE_bins_36_to_45',\n",
       " 'AGE_bins_46_to_55',\n",
       " 'AGE_bins_56_to_65',\n",
       " 'AGE_bins_5_to_15',\n",
       " 'AGE_bins_66_to_75',\n",
       " 'AGE_bins_more_than_75',\n",
       " 'NUMADLT_ratio_1',\n",
       " 'NUMADLT_ratio_less_than_0.5',\n",
       " 'NUMADLT_ratio_more_than_0.5',\n",
       " 'YOUNGCHILD_ratio_0',\n",
       " 'YOUNGCHILD_ratio_less_than_0.5',\n",
       " 'YOUNGCHILD_ratio_more_than_0.5',\n",
       " 'WRKCOUNT_ratio_0',\n",
       " 'WRKCOUNT_ratio_1',\n",
       " 'WRKCOUNT_ratio_less_than_0.5',\n",
       " 'WRKCOUNT_ratio_more_than_0.5',\n",
       " 'dist_to_work_between_1_and_2',\n",
       " 'dist_to_work_more_than_11',\n",
       " 'dist_to_work_between_2_and_5',\n",
       " 'dist_to_work_between_5_and_11',\n",
       " 'dist_to_shopping_between_1_and_2',\n",
       " 'dist_to_shopping_more_than_11',\n",
       " 'dist_to_shopping_between_2_and_5',\n",
       " 'dist_to_shopping_between_5_and_11',\n",
       " 'dist_to_family_between_1_and_2',\n",
       " 'dist_to_family_greater_than_11',\n",
       " 'dist_to_family_between_2_and_5',\n",
       " 'dist_to_family_between_5_and_11',\n",
       " 'dist_to_school_or_church_between_1_and_2',\n",
       " 'dist_to_school_or_church_greater_than_11',\n",
       " 'dist_to_school_or_church_between_2_and_5',\n",
       " 'dist_to_school_or_church_between_5_and_11',\n",
       " 'dist_to_relatvies_between_1_and_2',\n",
       " 'dist_to_relatvies_greater_than_11',\n",
       " 'dist_to_relatvies_between_2_and_5',\n",
       " 'dist_to_relatvies_between_5_and_11',\n",
       " 'dist_to_social_between_1_and_2',\n",
       " 'dist_to_social_greater_than_11',\n",
       " 'dist_to_social_between_2_and_5',\n",
       " 'dist_to_social_between_5_and_11']"
      ]
     },
     "execution_count": 84,
     "metadata": {},
     "output_type": "execute_result"
    }
   ],
   "source": [
    "[c for c in x_train_with_dist]"
   ]
  },
  {
   "cell_type": "markdown",
   "metadata": {},
   "source": [
    "## 4. Models (first round run x_train to get low score then second run x_train_dist)"
   ]
  },
  {
   "cell_type": "markdown",
   "metadata": {},
   "source": [
    "## 4.1. X_train\n",
    "\n",
    "To train models using only data from person and household dataset. Doing so will allow current survey method to be sufficient in predicting trips of people who did not participate in the trips measuring but participated in the household and person information survey"
   ]
  },
  {
   "cell_type": "markdown",
   "metadata": {},
   "source": [
    "### 4.1.1. Linear Models"
   ]
  },
  {
   "cell_type": "markdown",
   "metadata": {},
   "source": [
    "#### 4.1.1.1. Standard Linear Regression"
   ]
  },
  {
   "cell_type": "code",
   "execution_count": 85,
   "metadata": {},
   "outputs": [],
   "source": [
    "#Checking for multicollinearity through variance Inflation Factor \n",
    "#VIF=1, Very Less Multicollinearity\n",
    "#VIF<5, Moderate Multicollinearity\n",
    "#VIF>5, Extreme Multicollinearity (This is what we have to avoid)\n",
    "\n",
    "import statsmodels.api as sm\n",
    "from statsmodels.stats.outliers_influence import variance_inflation_factor\n",
    "from sklearn import linear_model, model_selection, metrics\n"
   ]
  },
  {
   "cell_type": "code",
   "execution_count": 86,
   "metadata": {},
   "outputs": [],
   "source": [
    "LRmodel = linear_model.LinearRegression()  #create the linear regression \n",
    "LRmodel.fit(x_train,y_train) #train the model using the training set \n",
    "LR_pred = LRmodel.predict(x_test) #use this model to predict the test data set "
   ]
  },
  {
   "cell_type": "code",
   "execution_count": 88,
   "metadata": {},
   "outputs": [
    {
     "name": "stdout",
     "output_type": "stream",
     "text": [
      "R^2 score:\t\t\t\t 0.08295255751245845\n",
      "Explained Variance: \t\t\t 0.0830864718134584\n",
      "Mean Absolute Error: \t\t\t 1.8225966498489778\n",
      "Mean Squared Error:\t\t\t 4.996165082287421\n",
      "Root Mean Squared Error:\t\t 2.2352102993426413\n",
      "Intercept:\t 117544398632.8795\n",
      "Coef:\t 108\n"
     ]
    }
   ],
   "source": [
    "#print('R^2 score:\\t\\t\\t\\t',LRmodel.score(x_test, y_test)) #compute R^2 score \n",
    "print('R^2 score:\\t\\t\\t\\t',metrics.r2_score(y_test,LR_pred))\n",
    "print('Explained Variance: \\t\\t\\t', metrics.explained_variance_score(y_test, LR_pred)) #compute explained variance score\n",
    "print('Mean Absolute Error: \\t\\t\\t', metrics.mean_absolute_error(y_test, LR_pred)) #compute MAE results\n",
    "print('Mean Squared Error:\\t\\t\\t', metrics.mean_squared_error(y_test, LR_pred)) #compute MSE results\n",
    "print('Root Mean Squared Error:\\t\\t', metrics.mean_squared_error(y_test, LR_pred, squared = False)) #compute RSME results\n",
    "print('Intercept:\\t', LRmodel.intercept_) #find intercept value \n",
    "print('Coef:\\t', np.sum(LRmodel.coef_!=0))#find no of features used in regression model "
   ]
  },
  {
   "cell_type": "code",
   "execution_count": 89,
   "metadata": {},
   "outputs": [
    {
     "data": {
      "text/plain": [
       "<AxesSubplot:xlabel='n_trips'>"
      ]
     },
     "execution_count": 89,
     "metadata": {},
     "output_type": "execute_result"
    },
    {
     "data": {
      "image/png": "[encoded data removed]",
      "text/plain": [
       "<Figure size 432x288 with 1 Axes>"
      ]
     },
     "metadata": {
      "needs_background": "light"
     },
     "output_type": "display_data"
    }
   ],
   "source": [
    "sns.regplot(y_test,LR_pred) #plotting predictions "
   ]
  },
  {
   "cell_type": "code",
   "execution_count": 90,
   "metadata": {},
   "outputs": [
    {
     "name": "stdout",
     "output_type": "stream",
     "text": [
      "                            feature        VIF\n",
      "0                           NUMADLT  29.386123\n",
      "1                        YOUNGCHILD  20.498702\n",
      "2                          WRKCOUNT  59.750445\n",
      "3                            EDUC_1   6.457308\n",
      "4                            EDUC_2  20.948289\n",
      "..                              ...        ...\n",
      "103  YOUNGCHILD_ratio_more_than_0.5        inf\n",
      "104                WRKCOUNT_ratio_0        inf\n",
      "105                WRKCOUNT_ratio_1        inf\n",
      "106    WRKCOUNT_ratio_less_than_0.5        inf\n",
      "107    WRKCOUNT_ratio_more_than_0.5        inf\n",
      "\n",
      "[108 rows x 2 columns]\n"
     ]
    }
   ],
   "source": [
    "#calculate VIF scores to detect multicolinearity \n",
    "\n",
    "# VIF dataframe\n",
    "vif_data = pd.DataFrame()\n",
    "vif_data[\"feature\"] = x_train.columns\n",
    "  \n",
    "# calculating VIF for each feature\n",
    "vif_data[\"VIF\"] = [variance_inflation_factor(x_train.values, i)\n",
    "                          for i in range(len(x_train.columns))]\n",
    "  \n",
    "print(vif_data)"
   ]
  },
  {
   "cell_type": "code",
   "execution_count": 91,
   "metadata": {},
   "outputs": [
    {
     "data": {
      "text/html": [
       "<div>\n",
       "<style scoped>\n",
       "    .dataframe tbody tr th:only-of-type {\n",
       "        vertical-align: middle;\n",
       "    }\n",
       "\n",
       "    .dataframe tbody tr th {\n",
       "        vertical-align: top;\n",
       "    }\n",
       "\n",
       "    .dataframe thead th {\n",
       "        text-align: right;\n",
       "    }\n",
       "</style>\n",
       "<table border=\"1\" class=\"dataframe\">\n",
       "  <thead>\n",
       "    <tr style=\"text-align: right;\">\n",
       "      <th></th>\n",
       "      <th>feature</th>\n",
       "      <th>VIF</th>\n",
       "    </tr>\n",
       "  </thead>\n",
       "  <tbody>\n",
       "    <tr>\n",
       "      <th>107</th>\n",
       "      <td>WRKCOUNT_ratio_more_than_0.5</td>\n",
       "      <td>inf</td>\n",
       "    </tr>\n",
       "    <tr>\n",
       "      <th>90</th>\n",
       "      <td>AGE_bins_16_to_25</td>\n",
       "      <td>inf</td>\n",
       "    </tr>\n",
       "    <tr>\n",
       "      <th>83</th>\n",
       "      <td>LIF_CYC_3</td>\n",
       "      <td>inf</td>\n",
       "    </tr>\n",
       "    <tr>\n",
       "      <th>84</th>\n",
       "      <td>LIF_CYC_4</td>\n",
       "      <td>inf</td>\n",
       "    </tr>\n",
       "    <tr>\n",
       "      <th>85</th>\n",
       "      <td>LIF_CYC_5</td>\n",
       "      <td>inf</td>\n",
       "    </tr>\n",
       "    <tr>\n",
       "      <th>...</th>\n",
       "      <td>...</td>\n",
       "      <td>...</td>\n",
       "    </tr>\n",
       "    <tr>\n",
       "      <th>25</th>\n",
       "      <td>OCCAT_97</td>\n",
       "      <td>2.875016</td>\n",
       "    </tr>\n",
       "    <tr>\n",
       "      <th>53</th>\n",
       "      <td>HHFAMINC_2</td>\n",
       "      <td>1.989999</td>\n",
       "    </tr>\n",
       "    <tr>\n",
       "      <th>50</th>\n",
       "      <td>HHFAMINC_1</td>\n",
       "      <td>1.744972</td>\n",
       "    </tr>\n",
       "    <tr>\n",
       "      <th>11</th>\n",
       "      <td>R_RACE_4</td>\n",
       "      <td>1.516451</td>\n",
       "    </tr>\n",
       "    <tr>\n",
       "      <th>12</th>\n",
       "      <td>R_RACE_5</td>\n",
       "      <td>1.138698</td>\n",
       "    </tr>\n",
       "  </tbody>\n",
       "</table>\n",
       "<p>108 rows × 2 columns</p>\n",
       "</div>"
      ],
      "text/plain": [
       "                          feature       VIF\n",
       "107  WRKCOUNT_ratio_more_than_0.5       inf\n",
       "90              AGE_bins_16_to_25       inf\n",
       "83                      LIF_CYC_3       inf\n",
       "84                      LIF_CYC_4       inf\n",
       "85                      LIF_CYC_5       inf\n",
       "..                            ...       ...\n",
       "25                       OCCAT_97  2.875016\n",
       "53                     HHFAMINC_2  1.989999\n",
       "50                     HHFAMINC_1  1.744972\n",
       "11                       R_RACE_4  1.516451\n",
       "12                       R_RACE_5  1.138698\n",
       "\n",
       "[108 rows x 2 columns]"
      ]
     },
     "execution_count": 91,
     "metadata": {},
     "output_type": "execute_result"
    }
   ],
   "source": [
    "vif_data.sort_values(by = 'VIF', ascending = False)"
   ]
  },
  {
   "cell_type": "code",
   "execution_count": 92,
   "metadata": {},
   "outputs": [
    {
     "name": "stdout",
     "output_type": "stream",
     "text": [
      "It contains 66 infinite values\n"
     ]
    }
   ],
   "source": [
    "# counting number of infinity features \n",
    "\n",
    "vif_data_inf = np.isinf(vif_data['VIF']).values.sum()\n",
    "print(\"It contains \" + str(vif_data_inf) + \" infinite values\")"
   ]
  },
  {
   "cell_type": "code",
   "execution_count": 94,
   "metadata": {},
   "outputs": [],
   "source": [
    "#cross validation to see if it will improve results \n",
    "\n",
    "folds = model_selection.KFold(n_splits = 5, shuffle = True, random_state = 100)\n",
    "scores = model_selection.cross_validate(LRmodel, x_train, y_train, \n",
    "                                        scoring=('r2', 'neg_mean_squared_error'), cv=folds)\n",
    "\n"
   ]
  },
  {
   "cell_type": "code",
   "execution_count": 99,
   "metadata": {},
   "outputs": [
    {
     "data": {
      "text/plain": [
       "{'fit_time': array([0.06239223, 0.06976724, 0.0632062 , 0.064183  , 0.06868577]),\n",
       " 'score_time': array([0.01082277, 0.00493002, 0.00498104, 0.00593686, 0.00577402]),\n",
       " 'test_r2': array([0.08338818, 0.07430471, 0.07781175, 0.08500672, 0.07341252]),\n",
       " 'test_neg_mean_squared_error': array([-5.03851348, -5.17867491, -5.12414086, -5.19328253, -5.18216226])}"
      ]
     },
     "execution_count": 99,
     "metadata": {},
     "output_type": "execute_result"
    }
   ],
   "source": [
    "#print('\\nRMSE score:',scores['test_neg_mean_squared_error'])\n",
    "#print('\\nR2 score:', scores['r2'])\n",
    "scores"
   ]
  },
  {
   "cell_type": "code",
   "execution_count": 100,
   "metadata": {},
   "outputs": [
    {
     "data": {
      "text/plain": [
       "{'fit_time': array([0.062392, 0.069767, 0.063206, 0.064183, 0.068686]),\n",
       " 'score_time': array([0.010823, 0.004930, 0.004981, 0.005937, 0.005774]),\n",
       " 'test_r2': array([0.083388, 0.074305, 0.077812, 0.085007, 0.073413]),\n",
       " 'test_neg_mean_squared_error': array([-5.038513, -5.178675, -5.124141, -5.193283, -5.182162])}"
      ]
     },
     "execution_count": 100,
     "metadata": {},
     "output_type": "execute_result"
    }
   ],
   "source": [
    "np.set_printoptions(formatter={'float_kind':'{:f}'.format})\n",
    "scores"
   ]
  },
  {
   "cell_type": "code",
   "execution_count": 106,
   "metadata": {},
   "outputs": [
    {
     "name": "stdout",
     "output_type": "stream",
     "text": [
      "Fitting 2 folds for each of 132 candidates, totalling 264 fits\n",
      "[CV 1/2; 1/132] START n_features_to_select=1....................................\n",
      "[CV 1/2; 1/132] END n_features_to_select=1;, score=(train=-5.549, test=-5.598) total time=   1.1s\n",
      "[CV 2/2; 1/132] START n_features_to_select=1....................................\n",
      "[CV 2/2; 1/132] END n_features_to_select=1;, score=(train=-5.592, test=-5.557) total time=   1.1s\n",
      "[CV 1/2; 2/132] START n_features_to_select=2....................................\n",
      "[CV 1/2; 2/132] END n_features_to_select=2;, score=(train=-5.549, test=-5.598) total time=   1.1s\n",
      "[CV 2/2; 2/132] START n_features_to_select=2....................................\n",
      "[CV 2/2; 2/132] END n_features_to_select=2;, score=(train=-5.592, test=-5.557) total time=   1.1s\n",
      "[CV 1/2; 3/132] START n_features_to_select=3....................................\n",
      "[CV 1/2; 3/132] END n_features_to_select=3;, score=(train=-5.549, test=-5.598) total time=   1.1s\n",
      "[CV 2/2; 3/132] START n_features_to_select=3....................................\n",
      "[CV 2/2; 3/132] END n_features_to_select=3;, score=(train=-5.570, test=-5.541) total time=   1.2s\n",
      "[CV 1/2; 4/132] START n_features_to_select=4....................................\n",
      "[CV 1/2; 4/132] END n_features_to_select=4;, score=(train=-5.543, test=-5.584) total time=   1.1s\n",
      "[CV 2/2; 4/132] START n_features_to_select=4....................................\n",
      "[CV 2/2; 4/132] END n_features_to_select=4;, score=(train=-5.562, test=-5.529) total time=   1.3s\n",
      "[CV 1/2; 5/132] START n_features_to_select=5....................................\n",
      "[CV 1/2; 5/132] END n_features_to_select=5;, score=(train=-5.542, test=-5.585) total time=   1.2s\n",
      "[CV 2/2; 5/132] START n_features_to_select=5....................................\n",
      "[CV 2/2; 5/132] END n_features_to_select=5;, score=(train=-5.558, test=-5.534) total time=   1.2s\n",
      "[CV 1/2; 6/132] START n_features_to_select=6....................................\n",
      "[CV 1/2; 6/132] END n_features_to_select=6;, score=(train=-5.542, test=-5.585) total time=   1.2s\n",
      "[CV 2/2; 6/132] START n_features_to_select=6....................................\n",
      "[CV 2/2; 6/132] END n_features_to_select=6;, score=(train=-5.554, test=-5.530) total time=   1.1s\n",
      "[CV 1/2; 7/132] START n_features_to_select=7....................................\n",
      "[CV 1/2; 7/132] END n_features_to_select=7;, score=(train=-5.542, test=-5.585) total time=   1.1s\n",
      "[CV 2/2; 7/132] START n_features_to_select=7....................................\n",
      "[CV 2/2; 7/132] END n_features_to_select=7;, score=(train=-5.552, test=-5.529) total time=   1.2s\n",
      "[CV 1/2; 8/132] START n_features_to_select=8....................................\n",
      "[CV 1/2; 8/132] END n_features_to_select=8;, score=(train=-5.534, test=-5.584) total time=   1.2s\n",
      "[CV 2/2; 8/132] START n_features_to_select=8....................................\n",
      "[CV 2/2; 8/132] END n_features_to_select=8;, score=(train=-5.551, test=-5.528) total time=   1.2s\n",
      "[CV 1/2; 9/132] START n_features_to_select=9....................................\n",
      "[CV 1/2; 9/132] END n_features_to_select=9;, score=(train=-5.531, test=-5.575) total time=   1.2s\n",
      "[CV 2/2; 9/132] START n_features_to_select=9....................................\n",
      "[CV 2/2; 9/132] END n_features_to_select=9;, score=(train=-5.550, test=-5.525) total time=   1.2s\n",
      "[CV 1/2; 10/132] START n_features_to_select=10..................................\n",
      "[CV 1/2; 10/132] END n_features_to_select=10;, score=(train=-5.528, test=-5.572) total time=   1.2s\n",
      "[CV 2/2; 10/132] START n_features_to_select=10..................................\n",
      "[CV 2/2; 10/132] END n_features_to_select=10;, score=(train=-5.550, test=-5.525) total time=   1.3s\n",
      "[CV 1/2; 11/132] START n_features_to_select=11..................................\n",
      "[CV 1/2; 11/132] END n_features_to_select=11;, score=(train=-5.526, test=-5.566) total time=   1.3s\n",
      "[CV 2/2; 11/132] START n_features_to_select=11..................................\n",
      "[CV 2/2; 11/132] END n_features_to_select=11;, score=(train=-5.549, test=-5.524) total time=   1.3s\n",
      "[CV 1/2; 12/132] START n_features_to_select=12..................................\n",
      "[CV 1/2; 12/132] END n_features_to_select=12;, score=(train=-5.522, test=-5.565) total time=   1.3s\n",
      "[CV 2/2; 12/132] START n_features_to_select=12..................................\n",
      "[CV 2/2; 12/132] END n_features_to_select=12;, score=(train=-5.549, test=-5.524) total time=   1.2s\n",
      "[CV 1/2; 13/132] START n_features_to_select=13..................................\n",
      "[CV 1/2; 13/132] END n_features_to_select=13;, score=(train=-5.516, test=-5.557) total time=   1.2s\n",
      "[CV 2/2; 13/132] START n_features_to_select=13..................................\n",
      "[CV 2/2; 13/132] END n_features_to_select=13;, score=(train=-5.553, test=-5.535) total time=   1.2s\n",
      "[CV 1/2; 14/132] START n_features_to_select=14..................................\n",
      "[CV 1/2; 14/132] END n_features_to_select=14;, score=(train=-5.517, test=-5.557) total time=   1.3s\n",
      "[CV 2/2; 14/132] START n_features_to_select=14..................................\n",
      "[CV 2/2; 14/132] END n_features_to_select=14;, score=(train=-5.547, test=-5.528) total time=   1.3s\n",
      "[CV 1/2; 15/132] START n_features_to_select=15..................................\n",
      "[CV 1/2; 15/132] END n_features_to_select=15;, score=(train=-5.516, test=-5.557) total time=   1.2s\n",
      "[CV 2/2; 15/132] START n_features_to_select=15..................................\n",
      "[CV 2/2; 15/132] END n_features_to_select=15;, score=(train=-5.547, test=-5.525) total time=   1.2s\n",
      "[CV 1/2; 16/132] START n_features_to_select=16..................................\n",
      "[CV 1/2; 16/132] END n_features_to_select=16;, score=(train=-5.496, test=-5.537) total time=   1.2s\n",
      "[CV 2/2; 16/132] START n_features_to_select=16..................................\n",
      "[CV 2/2; 16/132] END n_features_to_select=16;, score=(train=-5.548, test=-5.525) total time=   1.2s\n",
      "[CV 1/2; 17/132] START n_features_to_select=17..................................\n",
      "[CV 1/2; 17/132] END n_features_to_select=17;, score=(train=-5.490, test=-5.529) total time=   1.2s\n",
      "[CV 2/2; 17/132] START n_features_to_select=17..................................\n",
      "[CV 2/2; 17/132] END n_features_to_select=17;, score=(train=-5.546, test=-5.526) total time=   1.2s\n",
      "[CV 1/2; 18/132] START n_features_to_select=18..................................\n",
      "[CV 1/2; 18/132] END n_features_to_select=18;, score=(train=-5.486, test=-5.525) total time=   1.3s\n",
      "[CV 2/2; 18/132] START n_features_to_select=18..................................\n",
      "[CV 2/2; 18/132] END n_features_to_select=18;, score=(train=-5.543, test=-5.526) total time=   1.6s\n",
      "[CV 1/2; 19/132] START n_features_to_select=19..................................\n",
      "[CV 1/2; 19/132] END n_features_to_select=19;, score=(train=-5.487, test=-5.526) total time=   1.6s\n",
      "[CV 2/2; 19/132] START n_features_to_select=19..................................\n",
      "[CV 2/2; 19/132] END n_features_to_select=19;, score=(train=-5.543, test=-5.527) total time=   1.7s\n",
      "[CV 1/2; 20/132] START n_features_to_select=20..................................\n",
      "[CV 1/2; 20/132] END n_features_to_select=20;, score=(train=-5.487, test=-5.525) total time=   1.6s\n",
      "[CV 2/2; 20/132] START n_features_to_select=20..................................\n",
      "[CV 2/2; 20/132] END n_features_to_select=20;, score=(train=-5.542, test=-5.527) total time=   1.7s\n",
      "[CV 1/2; 21/132] START n_features_to_select=21..................................\n",
      "[CV 1/2; 21/132] END n_features_to_select=21;, score=(train=-5.461, test=-5.503) total time=   1.6s\n",
      "[CV 2/2; 21/132] START n_features_to_select=21..................................\n",
      "[CV 2/2; 21/132] END n_features_to_select=21;, score=(train=-5.544, test=-5.529) total time=   1.5s\n",
      "[CV 1/2; 22/132] START n_features_to_select=22..................................\n",
      "[CV 1/2; 22/132] END n_features_to_select=22;, score=(train=-5.459, test=-5.506) total time=   1.7s\n",
      "[CV 2/2; 22/132] START n_features_to_select=22..................................\n",
      "[CV 2/2; 22/132] END n_features_to_select=22;, score=(train=-5.542, test=-5.527) total time=   1.4s\n",
      "[CV 1/2; 23/132] START n_features_to_select=23..................................\n",
      "[CV 1/2; 23/132] END n_features_to_select=23;, score=(train=-5.460, test=-5.506) total time=   1.3s\n",
      "[CV 2/2; 23/132] START n_features_to_select=23..................................\n"
     ]
    },
    {
     "name": "stdout",
     "output_type": "stream",
     "text": [
      "[CV 2/2; 23/132] END n_features_to_select=23;, score=(train=-5.543, test=-5.527) total time=   1.3s\n",
      "[CV 1/2; 24/132] START n_features_to_select=24..................................\n",
      "[CV 1/2; 24/132] END n_features_to_select=24;, score=(train=-5.450, test=-5.498) total time=   1.3s\n",
      "[CV 2/2; 24/132] START n_features_to_select=24..................................\n",
      "[CV 2/2; 24/132] END n_features_to_select=24;, score=(train=-5.524, test=-5.503) total time=   1.3s\n",
      "[CV 1/2; 25/132] START n_features_to_select=25..................................\n",
      "[CV 1/2; 25/132] END n_features_to_select=25;, score=(train=-5.448, test=-5.498) total time=   1.2s\n",
      "[CV 2/2; 25/132] START n_features_to_select=25..................................\n",
      "[CV 2/2; 25/132] END n_features_to_select=25;, score=(train=-5.525, test=-5.503) total time=   1.3s\n",
      "[CV 1/2; 26/132] START n_features_to_select=26..................................\n",
      "[CV 1/2; 26/132] END n_features_to_select=26;, score=(train=-5.449, test=-5.496) total time=   1.3s\n",
      "[CV 2/2; 26/132] START n_features_to_select=26..................................\n",
      "[CV 2/2; 26/132] END n_features_to_select=26;, score=(train=-5.492, test=-5.467) total time=   1.3s\n",
      "[CV 1/2; 27/132] START n_features_to_select=27..................................\n",
      "[CV 1/2; 27/132] END n_features_to_select=27;, score=(train=-5.448, test=-5.495) total time=   1.3s\n",
      "[CV 2/2; 27/132] START n_features_to_select=27..................................\n",
      "[CV 2/2; 27/132] END n_features_to_select=27;, score=(train=-5.480, test=-5.454) total time=   1.3s\n",
      "[CV 1/2; 28/132] START n_features_to_select=28..................................\n",
      "[CV 1/2; 28/132] END n_features_to_select=28;, score=(train=-5.447, test=-5.494) total time=   1.2s\n",
      "[CV 2/2; 28/132] START n_features_to_select=28..................................\n",
      "[CV 2/2; 28/132] END n_features_to_select=28;, score=(train=-5.479, test=-5.453) total time=   1.3s\n",
      "[CV 1/2; 29/132] START n_features_to_select=29..................................\n",
      "[CV 1/2; 29/132] END n_features_to_select=29;, score=(train=-5.447, test=-5.493) total time=   1.3s\n",
      "[CV 2/2; 29/132] START n_features_to_select=29..................................\n",
      "[CV 2/2; 29/132] END n_features_to_select=29;, score=(train=-5.479, test=-5.447) total time=   1.3s\n",
      "[CV 1/2; 30/132] START n_features_to_select=30..................................\n",
      "[CV 1/2; 30/132] END n_features_to_select=30;, score=(train=-5.445, test=-5.496) total time=   1.3s\n",
      "[CV 2/2; 30/132] START n_features_to_select=30..................................\n",
      "[CV 2/2; 30/132] END n_features_to_select=30;, score=(train=-5.455, test=-5.454) total time=   1.2s\n",
      "[CV 1/2; 31/132] START n_features_to_select=31..................................\n",
      "[CV 1/2; 31/132] END n_features_to_select=31;, score=(train=-5.445, test=-5.494) total time=   1.2s\n",
      "[CV 2/2; 31/132] START n_features_to_select=31..................................\n",
      "[CV 2/2; 31/132] END n_features_to_select=31;, score=(train=-5.457, test=-5.453) total time=   1.2s\n",
      "[CV 1/2; 32/132] START n_features_to_select=32..................................\n",
      "[CV 1/2; 32/132] END n_features_to_select=32;, score=(train=-5.441, test=-5.492) total time=   1.2s\n",
      "[CV 2/2; 32/132] START n_features_to_select=32..................................\n",
      "[CV 2/2; 32/132] END n_features_to_select=32;, score=(train=-5.456, test=-126529823145403940864.000) total time=   1.3s\n",
      "[CV 1/2; 33/132] START n_features_to_select=33..................................\n",
      "[CV 1/2; 33/132] END n_features_to_select=33;, score=(train=-5.439, test=-5.488) total time=   1.3s\n",
      "[CV 2/2; 33/132] START n_features_to_select=33..................................\n",
      "[CV 2/2; 33/132] END n_features_to_select=33;, score=(train=-5.456, test=-23140804943112562540544.000) total time=   1.3s\n",
      "[CV 1/2; 34/132] START n_features_to_select=34..................................\n",
      "[CV 1/2; 34/132] END n_features_to_select=34;, score=(train=-5.439, test=-5.491) total time=   1.3s\n",
      "[CV 2/2; 34/132] START n_features_to_select=34..................................\n",
      "[CV 2/2; 34/132] END n_features_to_select=34;, score=(train=-5.456, test=-5577680962613058469888.000) total time=   1.2s\n",
      "[CV 1/2; 35/132] START n_features_to_select=35..................................\n",
      "[CV 1/2; 35/132] END n_features_to_select=35;, score=(train=-5.431, test=-5.488) total time=   1.3s\n",
      "[CV 2/2; 35/132] START n_features_to_select=35..................................\n",
      "[CV 2/2; 35/132] END n_features_to_select=35;, score=(train=-5.455, test=-1122569808623805923328.000) total time=   1.3s\n",
      "[CV 1/2; 36/132] START n_features_to_select=36..................................\n",
      "[CV 1/2; 36/132] END n_features_to_select=36;, score=(train=-5.428, test=-5.481) total time=   1.3s\n",
      "[CV 2/2; 36/132] START n_features_to_select=36..................................\n",
      "[CV 2/2; 36/132] END n_features_to_select=36;, score=(train=-5.450, test=-7332522408263025688576.000) total time=   1.2s\n",
      "[CV 1/2; 37/132] START n_features_to_select=37..................................\n",
      "[CV 1/2; 37/132] END n_features_to_select=37;, score=(train=-5.421, test=-5.477) total time=   1.1s\n",
      "[CV 2/2; 37/132] START n_features_to_select=37..................................\n",
      "[CV 2/2; 37/132] END n_features_to_select=37;, score=(train=-5.448, test=-21779589682796458672128.000) total time=   1.1s\n",
      "[CV 1/2; 38/132] START n_features_to_select=38..................................\n",
      "[CV 1/2; 38/132] END n_features_to_select=38;, score=(train=-5.424, test=-5.482) total time=   1.2s\n",
      "[CV 2/2; 38/132] START n_features_to_select=38..................................\n",
      "[CV 2/2; 38/132] END n_features_to_select=38;, score=(train=-5.444, test=-582697635276605947904.000) total time=   1.2s\n",
      "[CV 1/2; 39/132] START n_features_to_select=39..................................\n",
      "[CV 1/2; 39/132] END n_features_to_select=39;, score=(train=-5.399, test=-5.459) total time=   1.2s\n",
      "[CV 2/2; 39/132] START n_features_to_select=39..................................\n",
      "[CV 2/2; 39/132] END n_features_to_select=39;, score=(train=-5.443, test=-656464895457491812352.000) total time=   1.2s\n",
      "[CV 1/2; 40/132] START n_features_to_select=40..................................\n",
      "[CV 1/2; 40/132] END n_features_to_select=40;, score=(train=-5.400, test=-5.465) total time=   1.1s\n",
      "[CV 2/2; 40/132] START n_features_to_select=40..................................\n",
      "[CV 2/2; 40/132] END n_features_to_select=40;, score=(train=-5.443, test=-31447460247092502462464.000) total time=   1.2s\n",
      "[CV 1/2; 41/132] START n_features_to_select=41..................................\n",
      "[CV 1/2; 41/132] END n_features_to_select=41;, score=(train=-5.391, test=-5.461) total time=   1.2s\n",
      "[CV 2/2; 41/132] START n_features_to_select=41..................................\n",
      "[CV 2/2; 41/132] END n_features_to_select=41;, score=(train=-5.444, test=-4119619821270048702464.000) total time=   1.1s\n",
      "[CV 1/2; 42/132] START n_features_to_select=42..................................\n",
      "[CV 1/2; 42/132] END n_features_to_select=42;, score=(train=-5.393, test=-5.467) total time=   1.1s\n",
      "[CV 2/2; 42/132] START n_features_to_select=42..................................\n",
      "[CV 2/2; 42/132] END n_features_to_select=42;, score=(train=-5.442, test=-175108163592614281216.000) total time=   1.2s\n",
      "[CV 1/2; 43/132] START n_features_to_select=43..................................\n",
      "[CV 1/2; 43/132] END n_features_to_select=43;, score=(train=-5.394, test=-5.468) total time=   1.2s\n",
      "[CV 2/2; 43/132] START n_features_to_select=43..................................\n",
      "[CV 2/2; 43/132] END n_features_to_select=43;, score=(train=-5.443, test=-205857775635152896000.000) total time=   1.1s\n",
      "[CV 1/2; 44/132] START n_features_to_select=44..................................\n",
      "[CV 1/2; 44/132] END n_features_to_select=44;, score=(train=-5.392, test=-5.469) total time=   1.2s\n",
      "[CV 2/2; 44/132] START n_features_to_select=44..................................\n",
      "[CV 2/2; 44/132] END n_features_to_select=44;, score=(train=-5.440, test=-8781162720667429240832.000) total time=   1.1s\n",
      "[CV 1/2; 45/132] START n_features_to_select=45..................................\n",
      "[CV 1/2; 45/132] END n_features_to_select=45;, score=(train=-5.391, test=-5.464) total time=   1.1s\n",
      "[CV 2/2; 45/132] START n_features_to_select=45..................................\n"
     ]
    },
    {
     "name": "stdout",
     "output_type": "stream",
     "text": [
      "[CV 2/2; 45/132] END n_features_to_select=45;, score=(train=-5.385, test=-816324635872709443584.000) total time=   1.1s\n",
      "[CV 1/2; 46/132] START n_features_to_select=46..................................\n",
      "[CV 1/2; 46/132] END n_features_to_select=46;, score=(train=-5.392, test=-5.468) total time=   1.0s\n",
      "[CV 2/2; 46/132] START n_features_to_select=46..................................\n",
      "[CV 2/2; 46/132] END n_features_to_select=46;, score=(train=-5.373, test=-1043255092085090680832.000) total time=   1.1s\n",
      "[CV 1/2; 47/132] START n_features_to_select=47..................................\n",
      "[CV 1/2; 47/132] END n_features_to_select=47;, score=(train=-5.335, test=-5.407) total time=   1.1s\n",
      "[CV 2/2; 47/132] START n_features_to_select=47..................................\n",
      "[CV 2/2; 47/132] END n_features_to_select=47;, score=(train=-5.370, test=-37110904840709665193984.000) total time=   1.1s\n",
      "[CV 1/2; 48/132] START n_features_to_select=48..................................\n",
      "[CV 1/2; 48/132] END n_features_to_select=48;, score=(train=-5.322, test=-5.393) total time=   1.0s\n",
      "[CV 2/2; 48/132] START n_features_to_select=48..................................\n",
      "[CV 2/2; 48/132] END n_features_to_select=48;, score=(train=-5.369, test=-5390411703886972715008.000) total time=   1.1s\n",
      "[CV 1/2; 49/132] START n_features_to_select=49..................................\n",
      "[CV 1/2; 49/132] END n_features_to_select=49;, score=(train=-5.316, test=-5.386) total time=   1.1s\n",
      "[CV 2/2; 49/132] START n_features_to_select=49..................................\n",
      "[CV 2/2; 49/132] END n_features_to_select=49;, score=(train=-5.370, test=-120566238442842505216.000) total time=   1.1s\n",
      "[CV 1/2; 50/132] START n_features_to_select=50..................................\n",
      "[CV 1/2; 50/132] END n_features_to_select=50;, score=(train=-5.316, test=-5.385) total time=   1.1s\n",
      "[CV 2/2; 50/132] START n_features_to_select=50..................................\n",
      "[CV 2/2; 50/132] END n_features_to_select=50;, score=(train=-5.369, test=-313196822101138276352.000) total time=   1.1s\n",
      "[CV 1/2; 51/132] START n_features_to_select=51..................................\n",
      "[CV 1/2; 51/132] END n_features_to_select=51;, score=(train=-5.316, test=-5.388) total time=   1.1s\n",
      "[CV 2/2; 51/132] START n_features_to_select=51..................................\n",
      "[CV 2/2; 51/132] END n_features_to_select=51;, score=(train=-5.370, test=-1866368107241600712704.000) total time=   1.1s\n",
      "[CV 1/2; 52/132] START n_features_to_select=52..................................\n",
      "[CV 1/2; 52/132] END n_features_to_select=52;, score=(train=-5.313, test=-5.383) total time=   1.1s\n",
      "[CV 2/2; 52/132] START n_features_to_select=52..................................\n",
      "[CV 2/2; 52/132] END n_features_to_select=52;, score=(train=-5.369, test=-282273145019986411520.000) total time=   1.2s\n",
      "[CV 1/2; 53/132] START n_features_to_select=53..................................\n",
      "[CV 1/2; 53/132] END n_features_to_select=53;, score=(train=-5.313, test=-5.381) total time=   1.1s\n",
      "[CV 2/2; 53/132] START n_features_to_select=53..................................\n",
      "[CV 2/2; 53/132] END n_features_to_select=53;, score=(train=-5.368, test=-57799576338449809408.000) total time=   1.1s\n",
      "[CV 1/2; 54/132] START n_features_to_select=54..................................\n",
      "[CV 1/2; 54/132] END n_features_to_select=54;, score=(train=-5.317, test=-5.388) total time=   1.1s\n",
      "[CV 2/2; 54/132] START n_features_to_select=54..................................\n",
      "[CV 2/2; 54/132] END n_features_to_select=54;, score=(train=-5.365, test=-19895052793151655772160.000) total time=   1.1s\n",
      "[CV 1/2; 55/132] START n_features_to_select=55..................................\n",
      "[CV 1/2; 55/132] END n_features_to_select=55;, score=(train=-5.321, test=-5.395) total time=   1.0s\n",
      "[CV 2/2; 55/132] START n_features_to_select=55..................................\n",
      "[CV 2/2; 55/132] END n_features_to_select=55;, score=(train=-5.363, test=-212205397222965888.000) total time=   1.0s\n",
      "[CV 1/2; 56/132] START n_features_to_select=56..................................\n",
      "[CV 1/2; 56/132] END n_features_to_select=56;, score=(train=-5.318, test=-5.390) total time=   1.0s\n",
      "[CV 2/2; 56/132] START n_features_to_select=56..................................\n",
      "[CV 2/2; 56/132] END n_features_to_select=56;, score=(train=-5.360, test=-11939637148853230108672.000) total time=   1.0s\n",
      "[CV 1/2; 57/132] START n_features_to_select=57..................................\n",
      "[CV 1/2; 57/132] END n_features_to_select=57;, score=(train=-5.312, test=-5.384) total time=   1.1s\n",
      "[CV 2/2; 57/132] START n_features_to_select=57..................................\n",
      "[CV 2/2; 57/132] END n_features_to_select=57;, score=(train=-5.359, test=-7631900869371177730048.000) total time=   1.0s\n",
      "[CV 1/2; 58/132] START n_features_to_select=58..................................\n",
      "[CV 1/2; 58/132] END n_features_to_select=58;, score=(train=-5.319, test=-5.393) total time=   1.0s\n",
      "[CV 2/2; 58/132] START n_features_to_select=58..................................\n",
      "[CV 2/2; 58/132] END n_features_to_select=58;, score=(train=-5.358, test=-16238467185899351310336.000) total time=   1.0s\n",
      "[CV 1/2; 59/132] START n_features_to_select=59..................................\n",
      "[CV 1/2; 59/132] END n_features_to_select=59;, score=(train=-5.309, test=-5.382) total time=   0.9s\n",
      "[CV 2/2; 59/132] START n_features_to_select=59..................................\n",
      "[CV 2/2; 59/132] END n_features_to_select=59;, score=(train=-5.357, test=-23424132868540142190592.000) total time=   1.0s\n",
      "[CV 1/2; 60/132] START n_features_to_select=60..................................\n",
      "[CV 1/2; 60/132] END n_features_to_select=60;, score=(train=-5.307, test=-5.381) total time=   0.9s\n",
      "[CV 2/2; 60/132] START n_features_to_select=60..................................\n",
      "[CV 2/2; 60/132] END n_features_to_select=60;, score=(train=-5.360, test=-5601862823545095061504.000) total time=   1.0s\n",
      "[CV 1/2; 61/132] START n_features_to_select=61..................................\n",
      "[CV 1/2; 61/132] END n_features_to_select=61;, score=(train=-5.310, test=-5.385) total time=   0.9s\n",
      "[CV 2/2; 61/132] START n_features_to_select=61..................................\n",
      "[CV 2/2; 61/132] END n_features_to_select=61;, score=(train=-5.356, test=-49536499081108772618240.000) total time=   0.9s\n",
      "[CV 1/2; 62/132] START n_features_to_select=62..................................\n",
      "[CV 1/2; 62/132] END n_features_to_select=62;, score=(train=-5.307, test=-5.384) total time=   0.9s\n",
      "[CV 2/2; 62/132] START n_features_to_select=62..................................\n",
      "[CV 2/2; 62/132] END n_features_to_select=62;, score=(train=-5.356, test=-3802449890314667687936.000) total time=   0.9s\n",
      "[CV 1/2; 63/132] START n_features_to_select=63..................................\n",
      "[CV 1/2; 63/132] END n_features_to_select=63;, score=(train=-5.306, test=-5.389) total time=   0.9s\n",
      "[CV 2/2; 63/132] START n_features_to_select=63..................................\n",
      "[CV 2/2; 63/132] END n_features_to_select=63;, score=(train=-5.356, test=-15072369492751623913472.000) total time=   0.9s\n",
      "[CV 1/2; 64/132] START n_features_to_select=64..................................\n",
      "[CV 1/2; 64/132] END n_features_to_select=64;, score=(train=-5.299, test=-5.385) total time=   1.0s\n",
      "[CV 2/2; 64/132] START n_features_to_select=64..................................\n",
      "[CV 2/2; 64/132] END n_features_to_select=64;, score=(train=-5.354, test=-5476974432508555821056.000) total time=   1.0s\n",
      "[CV 1/2; 65/132] START n_features_to_select=65..................................\n",
      "[CV 1/2; 65/132] END n_features_to_select=65;, score=(train=-5.294, test=-5.387) total time=   0.9s\n",
      "[CV 2/2; 65/132] START n_features_to_select=65..................................\n",
      "[CV 2/2; 65/132] END n_features_to_select=65;, score=(train=-5.353, test=-228487728159107612672.000) total time=   0.9s\n",
      "[CV 1/2; 66/132] START n_features_to_select=66..................................\n",
      "[CV 1/2; 66/132] END n_features_to_select=66;, score=(train=-5.296, test=-5.386) total time=   0.9s\n",
      "[CV 2/2; 66/132] START n_features_to_select=66..................................\n",
      "[CV 2/2; 66/132] END n_features_to_select=66;, score=(train=-5.343, test=-10455639918009959579648.000) total time=   0.9s\n",
      "[CV 1/2; 67/132] START n_features_to_select=67..................................\n"
     ]
    },
    {
     "name": "stdout",
     "output_type": "stream",
     "text": [
      "[CV 1/2; 67/132] END n_features_to_select=67;, score=(train=-5.287, test=-5.378) total time=   0.9s\n",
      "[CV 2/2; 67/132] START n_features_to_select=67..................................\n",
      "[CV 2/2; 67/132] END n_features_to_select=67;, score=(train=-5.346, test=-17242941424279769579520.000) total time=   0.9s\n",
      "[CV 1/2; 68/132] START n_features_to_select=68..................................\n",
      "[CV 1/2; 68/132] END n_features_to_select=68;, score=(train=-5.289, test=-5.382) total time=   0.9s\n",
      "[CV 2/2; 68/132] START n_features_to_select=68..................................\n",
      "[CV 2/2; 68/132] END n_features_to_select=68;, score=(train=-5.342, test=-38038483188071792640000.000) total time=   1.0s\n",
      "[CV 1/2; 69/132] START n_features_to_select=69..................................\n",
      "[CV 1/2; 69/132] END n_features_to_select=69;, score=(train=-5.286, test=-5.380) total time=   0.9s\n",
      "[CV 2/2; 69/132] START n_features_to_select=69..................................\n",
      "[CV 2/2; 69/132] END n_features_to_select=69;, score=(train=-5.342, test=-885369626623972868096.000) total time=   0.9s\n",
      "[CV 1/2; 70/132] START n_features_to_select=70..................................\n",
      "[CV 1/2; 70/132] END n_features_to_select=70;, score=(train=-5.255, test=-5.352) total time=   0.9s\n",
      "[CV 2/2; 70/132] START n_features_to_select=70..................................\n",
      "[CV 2/2; 70/132] END n_features_to_select=70;, score=(train=-5.333, test=-26567898326358663626752.000) total time=   0.9s\n",
      "[CV 1/2; 71/132] START n_features_to_select=71..................................\n",
      "[CV 1/2; 71/132] END n_features_to_select=71;, score=(train=-5.236, test=-5.331) total time=   0.9s\n",
      "[CV 2/2; 71/132] START n_features_to_select=71..................................\n",
      "[CV 2/2; 71/132] END n_features_to_select=71;, score=(train=-5.323, test=-126114369731707404288.000) total time=   0.9s\n",
      "[CV 1/2; 72/132] START n_features_to_select=72..................................\n",
      "[CV 1/2; 72/132] END n_features_to_select=72;, score=(train=-5.233, test=-5.326) total time=   0.8s\n",
      "[CV 2/2; 72/132] START n_features_to_select=72..................................\n",
      "[CV 2/2; 72/132] END n_features_to_select=72;, score=(train=-5.256, test=-9167161416240005644288.000) total time=   0.9s\n",
      "[CV 1/2; 73/132] START n_features_to_select=73..................................\n",
      "[CV 1/2; 73/132] END n_features_to_select=73;, score=(train=-5.230, test=-5.332) total time=   0.9s\n",
      "[CV 2/2; 73/132] START n_features_to_select=73..................................\n",
      "[CV 2/2; 73/132] END n_features_to_select=73;, score=(train=-5.253, test=-4074136638158271414272.000) total time=   0.8s\n",
      "[CV 1/2; 74/132] START n_features_to_select=74..................................\n",
      "[CV 1/2; 74/132] END n_features_to_select=74;, score=(train=-5.229, test=-5.330) total time=   0.8s\n",
      "[CV 2/2; 74/132] START n_features_to_select=74..................................\n",
      "[CV 2/2; 74/132] END n_features_to_select=74;, score=(train=-5.253, test=-104083498593281064960.000) total time=   0.8s\n",
      "[CV 1/2; 75/132] START n_features_to_select=75..................................\n",
      "[CV 1/2; 75/132] END n_features_to_select=75;, score=(train=-5.146, test=-5.274) total time=   0.8s\n",
      "[CV 2/2; 75/132] START n_features_to_select=75..................................\n",
      "[CV 2/2; 75/132] END n_features_to_select=75;, score=(train=-5.251, test=-44156120685193216000.000) total time=   0.8s\n",
      "[CV 1/2; 76/132] START n_features_to_select=76..................................\n",
      "[CV 1/2; 76/132] END n_features_to_select=76;, score=(train=-5.146, test=-5.277) total time=   0.7s\n",
      "[CV 2/2; 76/132] START n_features_to_select=76..................................\n",
      "[CV 2/2; 76/132] END n_features_to_select=76;, score=(train=-5.238, test=-296436368473683375685632.000) total time=   0.7s\n",
      "[CV 1/2; 77/132] START n_features_to_select=77..................................\n",
      "[CV 1/2; 77/132] END n_features_to_select=77;, score=(train=-5.146, test=-5.270) total time=   0.7s\n",
      "[CV 2/2; 77/132] START n_features_to_select=77..................................\n",
      "[CV 2/2; 77/132] END n_features_to_select=77;, score=(train=-5.243, test=-5134426458564631461888.000) total time=   0.7s\n",
      "[CV 1/2; 78/132] START n_features_to_select=78..................................\n",
      "[CV 1/2; 78/132] END n_features_to_select=78;, score=(train=-5.145, test=-5.270) total time=   0.7s\n",
      "[CV 2/2; 78/132] START n_features_to_select=78..................................\n",
      "[CV 2/2; 78/132] END n_features_to_select=78;, score=(train=-5.218, test=-6119520664771727720448.000) total time=   0.7s\n",
      "[CV 1/2; 79/132] START n_features_to_select=79..................................\n",
      "[CV 1/2; 79/132] END n_features_to_select=79;, score=(train=-5.120, test=-5.239) total time=   0.7s\n",
      "[CV 2/2; 79/132] START n_features_to_select=79..................................\n",
      "[CV 2/2; 79/132] END n_features_to_select=79;, score=(train=-5.200, test=-618121064054477312.000) total time=   0.6s\n",
      "[CV 1/2; 80/132] START n_features_to_select=80..................................\n",
      "[CV 1/2; 80/132] END n_features_to_select=80;, score=(train=-5.118, test=-5.237) total time=   0.7s\n",
      "[CV 2/2; 80/132] START n_features_to_select=80..................................\n",
      "[CV 2/2; 80/132] END n_features_to_select=80;, score=(train=-5.160, test=-3991818336149357723648.000) total time=   0.6s\n",
      "[CV 1/2; 81/132] START n_features_to_select=81..................................\n",
      "[CV 1/2; 81/132] END n_features_to_select=81;, score=(train=-5.117, test=-5.232) total time=   0.6s\n",
      "[CV 2/2; 81/132] START n_features_to_select=81..................................\n",
      "[CV 2/2; 81/132] END n_features_to_select=81;, score=(train=-5.161, test=-44591770795864276992.000) total time=   0.6s\n",
      "[CV 1/2; 82/132] START n_features_to_select=82..................................\n",
      "[CV 1/2; 82/132] END n_features_to_select=82;, score=(train=-5.155, test=-5.262) total time=   0.6s\n",
      "[CV 2/2; 82/132] START n_features_to_select=82..................................\n",
      "[CV 2/2; 82/132] END n_features_to_select=82;, score=(train=-5.156, test=-4202396538544879828992.000) total time=   0.6s\n",
      "[CV 1/2; 83/132] START n_features_to_select=83..................................\n",
      "[CV 1/2; 83/132] END n_features_to_select=83;, score=(train=-5.111, test=-5.235) total time=   0.6s\n",
      "[CV 2/2; 83/132] START n_features_to_select=83..................................\n",
      "[CV 2/2; 83/132] END n_features_to_select=83;, score=(train=-5.151, test=-296163537506158641152.000) total time=   0.6s\n",
      "[CV 1/2; 84/132] START n_features_to_select=84..................................\n",
      "[CV 1/2; 84/132] END n_features_to_select=84;, score=(train=-5.121, test=-5.249) total time=   0.6s\n",
      "[CV 2/2; 84/132] START n_features_to_select=84..................................\n",
      "[CV 2/2; 84/132] END n_features_to_select=84;, score=(train=-5.146, test=-57055752307635027968.000) total time=   0.6s\n",
      "[CV 1/2; 85/132] START n_features_to_select=85..................................\n",
      "[CV 1/2; 85/132] END n_features_to_select=85;, score=(train=-5.140, test=-5.268) total time=   0.6s\n",
      "[CV 2/2; 85/132] START n_features_to_select=85..................................\n",
      "[CV 2/2; 85/132] END n_features_to_select=85;, score=(train=-5.143, test=-713760432205769998336.000) total time=   0.6s\n",
      "[CV 1/2; 86/132] START n_features_to_select=86..................................\n",
      "[CV 1/2; 86/132] END n_features_to_select=86;, score=(train=-5.109, test=-5.235) total time=   0.6s\n",
      "[CV 2/2; 86/132] START n_features_to_select=86..................................\n",
      "[CV 2/2; 86/132] END n_features_to_select=86;, score=(train=-5.141, test=-5365477876524647424.000) total time=   0.5s\n",
      "[CV 1/2; 87/132] START n_features_to_select=87..................................\n",
      "[CV 1/2; 87/132] END n_features_to_select=87;, score=(train=-5.123, test=-5.265) total time=   0.5s\n",
      "[CV 2/2; 87/132] START n_features_to_select=87..................................\n",
      "[CV 2/2; 87/132] END n_features_to_select=87;, score=(train=-5.140, test=-52676404184377729024.000) total time=   0.5s\n",
      "[CV 1/2; 88/132] START n_features_to_select=88..................................\n",
      "[CV 1/2; 88/132] END n_features_to_select=88;, score=(train=-5.108, test=-5.233) total time=   0.5s\n",
      "[CV 2/2; 88/132] START n_features_to_select=88..................................\n"
     ]
    },
    {
     "name": "stdout",
     "output_type": "stream",
     "text": [
      "[CV 2/2; 88/132] END n_features_to_select=88;, score=(train=-5.140, test=-27756266267441465655296.000) total time=   0.5s\n",
      "[CV 1/2; 89/132] START n_features_to_select=89..................................\n",
      "[CV 1/2; 89/132] END n_features_to_select=89;, score=(train=-5.106, test=-5.237) total time=   0.5s\n",
      "[CV 2/2; 89/132] START n_features_to_select=89..................................\n",
      "[CV 2/2; 89/132] END n_features_to_select=89;, score=(train=-5.138, test=-58963015775209324544.000) total time=   0.5s\n",
      "[CV 1/2; 90/132] START n_features_to_select=90..................................\n",
      "[CV 1/2; 90/132] END n_features_to_select=90;, score=(train=-5.104, test=-5.237) total time=   0.6s\n",
      "[CV 2/2; 90/132] START n_features_to_select=90..................................\n",
      "[CV 2/2; 90/132] END n_features_to_select=90;, score=(train=-5.136, test=-2097101009917437018112.000) total time=   0.5s\n",
      "[CV 1/2; 91/132] START n_features_to_select=91..................................\n",
      "[CV 1/2; 91/132] END n_features_to_select=91;, score=(train=-5.095, test=-5.211) total time=   0.5s\n",
      "[CV 2/2; 91/132] START n_features_to_select=91..................................\n",
      "[CV 2/2; 91/132] END n_features_to_select=91;, score=(train=-5.132, test=-307008487206236258304.000) total time=   0.5s\n",
      "[CV 1/2; 92/132] START n_features_to_select=92..................................\n",
      "[CV 1/2; 92/132] END n_features_to_select=92;, score=(train=-5.147, test=-5.280) total time=   0.5s\n",
      "[CV 2/2; 92/132] START n_features_to_select=92..................................\n",
      "[CV 2/2; 92/132] END n_features_to_select=92;, score=(train=-5.129, test=-575826966845956620288.000) total time=   0.5s\n",
      "[CV 1/2; 93/132] START n_features_to_select=93..................................\n",
      "[CV 1/2; 93/132] END n_features_to_select=93;, score=(train=-5.071, test=-5.209) total time=   0.5s\n",
      "[CV 2/2; 93/132] START n_features_to_select=93..................................\n",
      "[CV 2/2; 93/132] END n_features_to_select=93;, score=(train=-5.128, test=-38779922049308090368.000) total time=   0.4s\n",
      "[CV 1/2; 94/132] START n_features_to_select=94..................................\n",
      "[CV 1/2; 94/132] END n_features_to_select=94;, score=(train=-5.071, test=-5.209) total time=   0.4s\n",
      "[CV 2/2; 94/132] START n_features_to_select=94..................................\n",
      "[CV 2/2; 94/132] END n_features_to_select=94;, score=(train=-5.122, test=-3669011018902168576.000) total time=   0.4s\n",
      "[CV 1/2; 95/132] START n_features_to_select=95..................................\n",
      "[CV 1/2; 95/132] END n_features_to_select=95;, score=(train=-5.071, test=-5.208) total time=   0.4s\n",
      "[CV 2/2; 95/132] START n_features_to_select=95..................................\n",
      "[CV 2/2; 95/132] END n_features_to_select=95;, score=(train=-5.119, test=-1652725420291520200704.000) total time=   0.4s\n",
      "[CV 1/2; 96/132] START n_features_to_select=96..................................\n",
      "[CV 1/2; 96/132] END n_features_to_select=96;, score=(train=-5.063, test=-5.200) total time=   0.4s\n",
      "[CV 2/2; 96/132] START n_features_to_select=96..................................\n",
      "[CV 2/2; 96/132] END n_features_to_select=96;, score=(train=-5.119, test=-2940945063811942912.000) total time=   0.4s\n",
      "[CV 1/2; 97/132] START n_features_to_select=97..................................\n",
      "[CV 1/2; 97/132] END n_features_to_select=97;, score=(train=-5.059, test=-5.204) total time=   0.4s\n",
      "[CV 2/2; 97/132] START n_features_to_select=97..................................\n",
      "[CV 2/2; 97/132] END n_features_to_select=97;, score=(train=-5.129, test=-256799217154510258176.000) total time=   0.4s\n",
      "[CV 1/2; 98/132] START n_features_to_select=98..................................\n",
      "[CV 1/2; 98/132] END n_features_to_select=98;, score=(train=-5.056, test=-5.203) total time=   0.3s\n",
      "[CV 2/2; 98/132] START n_features_to_select=98..................................\n",
      "[CV 2/2; 98/132] END n_features_to_select=98;, score=(train=-5.118, test=-271828091740001337344.000) total time=   0.3s\n",
      "[CV 1/2; 99/132] START n_features_to_select=99..................................\n",
      "[CV 1/2; 99/132] END n_features_to_select=99;, score=(train=-5.055, test=-5.204) total time=   0.3s\n",
      "[CV 2/2; 99/132] START n_features_to_select=99..................................\n",
      "[CV 2/2; 99/132] END n_features_to_select=99;, score=(train=-5.118, test=-733433625741314490368.000) total time=   0.3s\n",
      "[CV 1/2; 100/132] START n_features_to_select=100................................\n",
      "[CV 1/2; 100/132] END n_features_to_select=100;, score=(train=-5.055, test=-5.206) total time=   0.3s\n",
      "[CV 2/2; 100/132] START n_features_to_select=100................................\n",
      "[CV 2/2; 100/132] END n_features_to_select=100;, score=(train=-5.118, test=-306212102432167100416.000) total time=   0.3s\n",
      "[CV 1/2; 101/132] START n_features_to_select=101................................\n",
      "[CV 1/2; 101/132] END n_features_to_select=101;, score=(train=-5.057, test=-5.208) total time=   0.3s\n",
      "[CV 2/2; 101/132] START n_features_to_select=101................................\n",
      "[CV 2/2; 101/132] END n_features_to_select=101;, score=(train=-5.118, test=-1145826712113253842944.000) total time=   0.3s\n",
      "[CV 1/2; 102/132] START n_features_to_select=102................................\n",
      "[CV 1/2; 102/132] END n_features_to_select=102;, score=(train=-5.052, test=-5.203) total time=   0.2s\n",
      "[CV 2/2; 102/132] START n_features_to_select=102................................\n",
      "[CV 2/2; 102/132] END n_features_to_select=102;, score=(train=-5.118, test=-5601273579914904576.000) total time=   0.3s\n",
      "[CV 1/2; 103/132] START n_features_to_select=103................................\n",
      "[CV 1/2; 103/132] END n_features_to_select=103;, score=(train=-5.051, test=-5.204) total time=   0.2s\n",
      "[CV 2/2; 103/132] START n_features_to_select=103................................\n",
      "[CV 2/2; 103/132] END n_features_to_select=103;, score=(train=-5.118, test=-44522222997890435907584.000) total time=   0.2s\n",
      "[CV 1/2; 104/132] START n_features_to_select=104................................\n",
      "[CV 1/2; 104/132] END n_features_to_select=104;, score=(train=-5.049, test=-5.202) total time=   0.2s\n",
      "[CV 2/2; 104/132] START n_features_to_select=104................................\n",
      "[CV 2/2; 104/132] END n_features_to_select=104;, score=(train=-5.117, test=-63518387554164727808.000) total time=   0.2s\n",
      "[CV 1/2; 105/132] START n_features_to_select=105................................\n",
      "[CV 1/2; 105/132] END n_features_to_select=105;, score=(train=-5.048, test=-5.199) total time=   0.2s\n",
      "[CV 2/2; 105/132] START n_features_to_select=105................................\n",
      "[CV 2/2; 105/132] END n_features_to_select=105;, score=(train=-5.126, test=-1895609882425569837056.000) total time=   0.2s\n",
      "[CV 1/2; 106/132] START n_features_to_select=106................................\n",
      "[CV 1/2; 106/132] END n_features_to_select=106;, score=(train=-5.049, test=-5.200) total time=   0.1s\n",
      "[CV 2/2; 106/132] START n_features_to_select=106................................\n",
      "[CV 2/2; 106/132] END n_features_to_select=106;, score=(train=-5.117, test=-1106407590136281169920.000) total time=   0.1s\n",
      "[CV 1/2; 107/132] START n_features_to_select=107................................\n",
      "[CV 1/2; 107/132] END n_features_to_select=107;, score=(train=-5.048, test=-5.200) total time=   0.1s\n",
      "[CV 2/2; 107/132] START n_features_to_select=107................................\n",
      "[CV 2/2; 107/132] END n_features_to_select=107;, score=(train=-5.117, test=-4209630864672382464.000) total time=   0.1s\n",
      "[CV 1/2; 108/132] START n_features_to_select=108................................\n",
      "[CV 1/2; 108/132] END n_features_to_select=108;, score=(train=-5.049, test=-5.198) total time=   0.1s\n",
      "[CV 2/2; 108/132] START n_features_to_select=108................................\n",
      "[CV 2/2; 108/132] END n_features_to_select=108;, score=(train=-5.118, test=-1749015351619995566080.000) total time=   0.1s\n",
      "[CV 1/2; 109/132] START n_features_to_select=109................................\n",
      "[CV 1/2; 109/132] END n_features_to_select=109;, score=(train=-5.049, test=-5.198) total time=   0.1s\n",
      "[CV 2/2; 109/132] START n_features_to_select=109................................\n",
      "[CV 2/2; 109/132] END n_features_to_select=109;, score=(train=-5.118, test=-1749015351619995566080.000) total time=   0.1s\n",
      "[CV 1/2; 110/132] START n_features_to_select=110................................\n",
      "[CV 1/2; 110/132] END n_features_to_select=110;, score=(train=-5.049, test=-5.198) total time=   0.1s\n",
      "[CV 2/2; 110/132] START n_features_to_select=110................................\n",
      "[CV 2/2; 110/132] END n_features_to_select=110;, score=(train=-5.118, test=-1749015351619995566080.000) total time=   0.1s\n"
     ]
    },
    {
     "name": "stdout",
     "output_type": "stream",
     "text": [
      "[CV 1/2; 111/132] START n_features_to_select=111................................\n",
      "[CV 1/2; 111/132] END n_features_to_select=111;, score=(train=-5.049, test=-5.198) total time=   0.1s\n",
      "[CV 2/2; 111/132] START n_features_to_select=111................................\n",
      "[CV 2/2; 111/132] END n_features_to_select=111;, score=(train=-5.118, test=-1749015351619995566080.000) total time=   0.1s\n",
      "[CV 1/2; 112/132] START n_features_to_select=112................................\n",
      "[CV 1/2; 112/132] END n_features_to_select=112;, score=(train=-5.049, test=-5.198) total time=   0.1s\n",
      "[CV 2/2; 112/132] START n_features_to_select=112................................\n",
      "[CV 2/2; 112/132] END n_features_to_select=112;, score=(train=-5.118, test=-1749015351619995566080.000) total time=   0.1s\n",
      "[CV 1/2; 113/132] START n_features_to_select=113................................\n",
      "[CV 1/2; 113/132] END n_features_to_select=113;, score=(train=-5.049, test=-5.198) total time=   0.1s\n",
      "[CV 2/2; 113/132] START n_features_to_select=113................................\n",
      "[CV 2/2; 113/132] END n_features_to_select=113;, score=(train=-5.118, test=-1749015351619995566080.000) total time=   0.1s\n",
      "[CV 1/2; 114/132] START n_features_to_select=114................................\n",
      "[CV 1/2; 114/132] END n_features_to_select=114;, score=(train=-5.049, test=-5.198) total time=   0.1s\n",
      "[CV 2/2; 114/132] START n_features_to_select=114................................\n",
      "[CV 2/2; 114/132] END n_features_to_select=114;, score=(train=-5.118, test=-1749015351619995566080.000) total time=   0.1s\n",
      "[CV 1/2; 115/132] START n_features_to_select=115................................\n",
      "[CV 1/2; 115/132] END n_features_to_select=115;, score=(train=-5.049, test=-5.198) total time=   0.1s\n",
      "[CV 2/2; 115/132] START n_features_to_select=115................................\n",
      "[CV 2/2; 115/132] END n_features_to_select=115;, score=(train=-5.118, test=-1749015351619995566080.000) total time=   0.1s\n",
      "[CV 1/2; 116/132] START n_features_to_select=116................................\n",
      "[CV 1/2; 116/132] END n_features_to_select=116;, score=(train=-5.049, test=-5.198) total time=   0.1s\n",
      "[CV 2/2; 116/132] START n_features_to_select=116................................\n",
      "[CV 2/2; 116/132] END n_features_to_select=116;, score=(train=-5.118, test=-1749015351619995566080.000) total time=   0.1s\n",
      "[CV 1/2; 117/132] START n_features_to_select=117................................\n",
      "[CV 1/2; 117/132] END n_features_to_select=117;, score=(train=-5.049, test=-5.198) total time=   0.1s\n",
      "[CV 2/2; 117/132] START n_features_to_select=117................................\n",
      "[CV 2/2; 117/132] END n_features_to_select=117;, score=(train=-5.118, test=-1749015351619995566080.000) total time=   0.1s\n",
      "[CV 1/2; 118/132] START n_features_to_select=118................................\n",
      "[CV 1/2; 118/132] END n_features_to_select=118;, score=(train=-5.049, test=-5.198) total time=   0.1s\n",
      "[CV 2/2; 118/132] START n_features_to_select=118................................\n",
      "[CV 2/2; 118/132] END n_features_to_select=118;, score=(train=-5.118, test=-1749015351619995566080.000) total time=   0.1s\n",
      "[CV 1/2; 119/132] START n_features_to_select=119................................\n",
      "[CV 1/2; 119/132] END n_features_to_select=119;, score=(train=-5.049, test=-5.198) total time=   0.1s\n",
      "[CV 2/2; 119/132] START n_features_to_select=119................................\n",
      "[CV 2/2; 119/132] END n_features_to_select=119;, score=(train=-5.118, test=-1749015351619995566080.000) total time=   0.1s\n",
      "[CV 1/2; 120/132] START n_features_to_select=120................................\n",
      "[CV 1/2; 120/132] END n_features_to_select=120;, score=(train=-5.049, test=-5.198) total time=   0.1s\n",
      "[CV 2/2; 120/132] START n_features_to_select=120................................\n",
      "[CV 2/2; 120/132] END n_features_to_select=120;, score=(train=-5.118, test=-1749015351619995566080.000) total time=   0.1s\n",
      "[CV 1/2; 121/132] START n_features_to_select=121................................\n",
      "[CV 1/2; 121/132] END n_features_to_select=121;, score=(train=-5.049, test=-5.198) total time=   0.1s\n",
      "[CV 2/2; 121/132] START n_features_to_select=121................................\n",
      "[CV 2/2; 121/132] END n_features_to_select=121;, score=(train=-5.118, test=-1749015351619995566080.000) total time=   0.1s\n",
      "[CV 1/2; 122/132] START n_features_to_select=122................................\n",
      "[CV 1/2; 122/132] END n_features_to_select=122;, score=(train=-5.049, test=-5.198) total time=   0.1s\n",
      "[CV 2/2; 122/132] START n_features_to_select=122................................\n",
      "[CV 2/2; 122/132] END n_features_to_select=122;, score=(train=-5.118, test=-1749015351619995566080.000) total time=   0.1s\n",
      "[CV 1/2; 123/132] START n_features_to_select=123................................\n",
      "[CV 1/2; 123/132] END n_features_to_select=123;, score=(train=-5.049, test=-5.198) total time=   0.1s\n",
      "[CV 2/2; 123/132] START n_features_to_select=123................................\n",
      "[CV 2/2; 123/132] END n_features_to_select=123;, score=(train=-5.118, test=-1749015351619995566080.000) total time=   0.1s\n",
      "[CV 1/2; 124/132] START n_features_to_select=124................................\n",
      "[CV 1/2; 124/132] END n_features_to_select=124;, score=(train=-5.049, test=-5.198) total time=   0.1s\n",
      "[CV 2/2; 124/132] START n_features_to_select=124................................\n",
      "[CV 2/2; 124/132] END n_features_to_select=124;, score=(train=-5.118, test=-1749015351619995566080.000) total time=   0.1s\n",
      "[CV 1/2; 125/132] START n_features_to_select=125................................\n",
      "[CV 1/2; 125/132] END n_features_to_select=125;, score=(train=-5.049, test=-5.198) total time=   0.1s\n",
      "[CV 2/2; 125/132] START n_features_to_select=125................................\n",
      "[CV 2/2; 125/132] END n_features_to_select=125;, score=(train=-5.118, test=-1749015351619995566080.000) total time=   0.1s\n",
      "[CV 1/2; 126/132] START n_features_to_select=126................................\n",
      "[CV 1/2; 126/132] END n_features_to_select=126;, score=(train=-5.049, test=-5.198) total time=   0.1s\n",
      "[CV 2/2; 126/132] START n_features_to_select=126................................\n",
      "[CV 2/2; 126/132] END n_features_to_select=126;, score=(train=-5.118, test=-1749015351619995566080.000) total time=   0.1s\n",
      "[CV 1/2; 127/132] START n_features_to_select=127................................\n",
      "[CV 1/2; 127/132] END n_features_to_select=127;, score=(train=-5.049, test=-5.198) total time=   0.1s\n",
      "[CV 2/2; 127/132] START n_features_to_select=127................................\n",
      "[CV 2/2; 127/132] END n_features_to_select=127;, score=(train=-5.118, test=-1749015351619995566080.000) total time=   0.1s\n",
      "[CV 1/2; 128/132] START n_features_to_select=128................................\n",
      "[CV 1/2; 128/132] END n_features_to_select=128;, score=(train=-5.049, test=-5.198) total time=   0.1s\n",
      "[CV 2/2; 128/132] START n_features_to_select=128................................\n",
      "[CV 2/2; 128/132] END n_features_to_select=128;, score=(train=-5.118, test=-1749015351619995566080.000) total time=   0.1s\n",
      "[CV 1/2; 129/132] START n_features_to_select=129................................\n",
      "[CV 1/2; 129/132] END n_features_to_select=129;, score=(train=-5.049, test=-5.198) total time=   0.1s\n",
      "[CV 2/2; 129/132] START n_features_to_select=129................................\n",
      "[CV 2/2; 129/132] END n_features_to_select=129;, score=(train=-5.118, test=-1749015351619995566080.000) total time=   0.1s\n",
      "[CV 1/2; 130/132] START n_features_to_select=130................................\n",
      "[CV 1/2; 130/132] END n_features_to_select=130;, score=(train=-5.049, test=-5.198) total time=   0.1s\n",
      "[CV 2/2; 130/132] START n_features_to_select=130................................\n",
      "[CV 2/2; 130/132] END n_features_to_select=130;, score=(train=-5.118, test=-1749015351619995566080.000) total time=   0.1s\n",
      "[CV 1/2; 131/132] START n_features_to_select=131................................\n",
      "[CV 1/2; 131/132] END n_features_to_select=131;, score=(train=-5.049, test=-5.198) total time=   0.1s\n",
      "[CV 2/2; 131/132] START n_features_to_select=131................................\n",
      "[CV 2/2; 131/132] END n_features_to_select=131;, score=(train=-5.118, test=-1749015351619995566080.000) total time=   0.1s\n",
      "[CV 1/2; 132/132] START n_features_to_select=132................................\n"
     ]
    },
    {
     "name": "stdout",
     "output_type": "stream",
     "text": [
      "[CV 1/2; 132/132] END n_features_to_select=132;, score=(train=-5.049, test=-5.198) total time=   0.1s\n",
      "[CV 2/2; 132/132] START n_features_to_select=132................................\n",
      "[CV 2/2; 132/132] END n_features_to_select=132;, score=(train=-5.118, test=-1749015351619995566080.000) total time=   0.1s\n",
      "run time: 209.78887295722961 start time: 1627655120.232983 end time 1627655330.0218618\n"
     ]
    }
   ],
   "source": [
    "from sklearn.feature_selection import RFE\n",
    "\n",
    "start_time = time.time()\n",
    "\n",
    "#specify range of hyperparameters to tune\n",
    "hyper_params = [{'n_features_to_select': list(range(1,109))}]\n",
    "\n",
    "\n",
    "# perform grid search\n",
    "\n",
    "rfe = RFE(LRmodel)             \n",
    "\n",
    "# 3.2 call GridSearchCV()\n",
    "model_cv = model_selection.GridSearchCV(estimator = rfe, \n",
    "                        param_grid = hyper_params, \n",
    "                        scoring=('r2','neg_mean_squared_error'), \n",
    "                        refit = str,\n",
    "                        cv = folds, \n",
    "                        verbose = 10,\n",
    "                        return_train_score=True)      \n",
    "\n",
    "# fit the model\n",
    "model_cv.fit(x_train, y_train)   \n",
    "\n",
    "print(\"run time:\", str(time.time()-start_time), \"start time:\", str(start_time), \"end time\",str(time.time()))"
   ]
  },
  {
   "cell_type": "code",
   "execution_count": 125,
   "metadata": {},
   "outputs": [
    {
     "name": "stdout",
     "output_type": "stream",
     "text": [
      "{'n_features_to_select': 29}\n",
      "RFE(estimator=LinearRegression(), n_features_to_select=29)\n",
      "-5.470185068950203\n",
      "R2 score: 0.02\n",
      "RMSE: 2.311184\n"
     ]
    }
   ],
   "source": [
    "\n",
    "print(model_cv.best_params_)\n",
    "print(model_cv.best_estimator_)\n",
    "print(model_cv.best_score_)\n",
    "\n",
    "model_cv_y_pred_lrgs = model_cv.predict(x_test)\n",
    "print('R2 score: %.2f' % metrics.r2_score(y_test, model_cv_y_pred_lrgs))\n",
    "model_cv_lr_rmse = np.sqrt(metrics.mean_squared_error(y_test, model_cv_y_pred_lrgs))\n",
    "print(\"RMSE: %f\" % (model_cv_lr_rmse))"
   ]
  },
  {
   "cell_type": "code",
   "execution_count": 109,
   "metadata": {},
   "outputs": [
    {
     "data": {
      "text/html": [
       "<div>\n",
       "<style scoped>\n",
       "    .dataframe tbody tr th:only-of-type {\n",
       "        vertical-align: middle;\n",
       "    }\n",
       "\n",
       "    .dataframe tbody tr th {\n",
       "        vertical-align: top;\n",
       "    }\n",
       "\n",
       "    .dataframe thead th {\n",
       "        text-align: right;\n",
       "    }\n",
       "</style>\n",
       "<table border=\"1\" class=\"dataframe\">\n",
       "  <thead>\n",
       "    <tr style=\"text-align: right;\">\n",
       "      <th></th>\n",
       "      <th>mean_fit_time</th>\n",
       "      <th>std_fit_time</th>\n",
       "      <th>mean_score_time</th>\n",
       "      <th>std_score_time</th>\n",
       "      <th>param_n_features_to_select</th>\n",
       "      <th>params</th>\n",
       "      <th>split0_test_score</th>\n",
       "      <th>split1_test_score</th>\n",
       "      <th>mean_test_score</th>\n",
       "      <th>std_test_score</th>\n",
       "      <th>rank_test_score</th>\n",
       "      <th>split0_train_score</th>\n",
       "      <th>split1_train_score</th>\n",
       "      <th>mean_train_score</th>\n",
       "      <th>std_train_score</th>\n",
       "    </tr>\n",
       "  </thead>\n",
       "  <tbody>\n",
       "    <tr>\n",
       "      <th>0</th>\n",
       "      <td>1.090608</td>\n",
       "      <td>0.037447</td>\n",
       "      <td>0.006766</td>\n",
       "      <td>0.000907</td>\n",
       "      <td>1</td>\n",
       "      <td>{'n_features_to_select': 1}</td>\n",
       "      <td>-5.598350</td>\n",
       "      <td>-5.557483e+00</td>\n",
       "      <td>-5.577917e+00</td>\n",
       "      <td>2.043366e-02</td>\n",
       "      <td>31</td>\n",
       "      <td>-5.549342</td>\n",
       "      <td>-5.591744</td>\n",
       "      <td>-5.570543</td>\n",
       "      <td>0.021201</td>\n",
       "    </tr>\n",
       "    <tr>\n",
       "      <th>1</th>\n",
       "      <td>1.074719</td>\n",
       "      <td>0.020018</td>\n",
       "      <td>0.006159</td>\n",
       "      <td>0.001047</td>\n",
       "      <td>2</td>\n",
       "      <td>{'n_features_to_select': 2}</td>\n",
       "      <td>-5.597824</td>\n",
       "      <td>-5.557483e+00</td>\n",
       "      <td>-5.577654e+00</td>\n",
       "      <td>2.017059e-02</td>\n",
       "      <td>30</td>\n",
       "      <td>-5.548638</td>\n",
       "      <td>-5.591744</td>\n",
       "      <td>-5.570191</td>\n",
       "      <td>0.021553</td>\n",
       "    </tr>\n",
       "    <tr>\n",
       "      <th>2</th>\n",
       "      <td>1.137356</td>\n",
       "      <td>0.008279</td>\n",
       "      <td>0.006007</td>\n",
       "      <td>0.000426</td>\n",
       "      <td>3</td>\n",
       "      <td>{'n_features_to_select': 3}</td>\n",
       "      <td>-5.597616</td>\n",
       "      <td>-5.540651e+00</td>\n",
       "      <td>-5.569133e+00</td>\n",
       "      <td>2.848216e-02</td>\n",
       "      <td>29</td>\n",
       "      <td>-5.548712</td>\n",
       "      <td>-5.569679</td>\n",
       "      <td>-5.559196</td>\n",
       "      <td>0.010484</td>\n",
       "    </tr>\n",
       "    <tr>\n",
       "      <th>3</th>\n",
       "      <td>1.200523</td>\n",
       "      <td>0.073620</td>\n",
       "      <td>0.008356</td>\n",
       "      <td>0.001784</td>\n",
       "      <td>4</td>\n",
       "      <td>{'n_features_to_select': 4}</td>\n",
       "      <td>-5.584452</td>\n",
       "      <td>-5.529490e+00</td>\n",
       "      <td>-5.556971e+00</td>\n",
       "      <td>2.748084e-02</td>\n",
       "      <td>25</td>\n",
       "      <td>-5.543226</td>\n",
       "      <td>-5.561667</td>\n",
       "      <td>-5.552447</td>\n",
       "      <td>0.009221</td>\n",
       "    </tr>\n",
       "    <tr>\n",
       "      <th>4</th>\n",
       "      <td>1.167578</td>\n",
       "      <td>0.015444</td>\n",
       "      <td>0.007716</td>\n",
       "      <td>0.001564</td>\n",
       "      <td>5</td>\n",
       "      <td>{'n_features_to_select': 5}</td>\n",
       "      <td>-5.585315</td>\n",
       "      <td>-5.533675e+00</td>\n",
       "      <td>-5.559495e+00</td>\n",
       "      <td>2.581978e-02</td>\n",
       "      <td>28</td>\n",
       "      <td>-5.541565</td>\n",
       "      <td>-5.557697</td>\n",
       "      <td>-5.549631</td>\n",
       "      <td>0.008066</td>\n",
       "    </tr>\n",
       "    <tr>\n",
       "      <th>...</th>\n",
       "      <td>...</td>\n",
       "      <td>...</td>\n",
       "      <td>...</td>\n",
       "      <td>...</td>\n",
       "      <td>...</td>\n",
       "      <td>...</td>\n",
       "      <td>...</td>\n",
       "      <td>...</td>\n",
       "      <td>...</td>\n",
       "      <td>...</td>\n",
       "      <td>...</td>\n",
       "      <td>...</td>\n",
       "      <td>...</td>\n",
       "      <td>...</td>\n",
       "      <td>...</td>\n",
       "    </tr>\n",
       "    <tr>\n",
       "      <th>127</th>\n",
       "      <td>0.069159</td>\n",
       "      <td>0.000412</td>\n",
       "      <td>0.012713</td>\n",
       "      <td>0.000319</td>\n",
       "      <td>128</td>\n",
       "      <td>{'n_features_to_select': 128}</td>\n",
       "      <td>-5.198124</td>\n",
       "      <td>-1.749015e+21</td>\n",
       "      <td>-8.745077e+20</td>\n",
       "      <td>8.745077e+20</td>\n",
       "      <td>73</td>\n",
       "      <td>-5.048679</td>\n",
       "      <td>-5.117564</td>\n",
       "      <td>-5.083122</td>\n",
       "      <td>0.034443</td>\n",
       "    </tr>\n",
       "    <tr>\n",
       "      <th>128</th>\n",
       "      <td>0.068906</td>\n",
       "      <td>0.000678</td>\n",
       "      <td>0.012783</td>\n",
       "      <td>0.000025</td>\n",
       "      <td>129</td>\n",
       "      <td>{'n_features_to_select': 129}</td>\n",
       "      <td>-5.198124</td>\n",
       "      <td>-1.749015e+21</td>\n",
       "      <td>-8.745077e+20</td>\n",
       "      <td>8.745077e+20</td>\n",
       "      <td>73</td>\n",
       "      <td>-5.048679</td>\n",
       "      <td>-5.117564</td>\n",
       "      <td>-5.083122</td>\n",
       "      <td>0.034443</td>\n",
       "    </tr>\n",
       "    <tr>\n",
       "      <th>129</th>\n",
       "      <td>0.069881</td>\n",
       "      <td>0.000130</td>\n",
       "      <td>0.012612</td>\n",
       "      <td>0.000414</td>\n",
       "      <td>130</td>\n",
       "      <td>{'n_features_to_select': 130}</td>\n",
       "      <td>-5.198124</td>\n",
       "      <td>-1.749015e+21</td>\n",
       "      <td>-8.745077e+20</td>\n",
       "      <td>8.745077e+20</td>\n",
       "      <td>73</td>\n",
       "      <td>-5.048679</td>\n",
       "      <td>-5.117564</td>\n",
       "      <td>-5.083122</td>\n",
       "      <td>0.034443</td>\n",
       "    </tr>\n",
       "    <tr>\n",
       "      <th>130</th>\n",
       "      <td>0.068003</td>\n",
       "      <td>0.000954</td>\n",
       "      <td>0.012545</td>\n",
       "      <td>0.000204</td>\n",
       "      <td>131</td>\n",
       "      <td>{'n_features_to_select': 131}</td>\n",
       "      <td>-5.198124</td>\n",
       "      <td>-1.749015e+21</td>\n",
       "      <td>-8.745077e+20</td>\n",
       "      <td>8.745077e+20</td>\n",
       "      <td>73</td>\n",
       "      <td>-5.048679</td>\n",
       "      <td>-5.117564</td>\n",
       "      <td>-5.083122</td>\n",
       "      <td>0.034443</td>\n",
       "    </tr>\n",
       "    <tr>\n",
       "      <th>131</th>\n",
       "      <td>0.069503</td>\n",
       "      <td>0.000427</td>\n",
       "      <td>0.012793</td>\n",
       "      <td>0.000445</td>\n",
       "      <td>132</td>\n",
       "      <td>{'n_features_to_select': 132}</td>\n",
       "      <td>-5.198124</td>\n",
       "      <td>-1.749015e+21</td>\n",
       "      <td>-8.745077e+20</td>\n",
       "      <td>8.745077e+20</td>\n",
       "      <td>73</td>\n",
       "      <td>-5.048679</td>\n",
       "      <td>-5.117564</td>\n",
       "      <td>-5.083122</td>\n",
       "      <td>0.034443</td>\n",
       "    </tr>\n",
       "  </tbody>\n",
       "</table>\n",
       "<p>132 rows × 15 columns</p>\n",
       "</div>"
      ],
      "text/plain": [
       "     mean_fit_time  std_fit_time  mean_score_time  std_score_time  \\\n",
       "0         1.090608      0.037447         0.006766        0.000907   \n",
       "1         1.074719      0.020018         0.006159        0.001047   \n",
       "2         1.137356      0.008279         0.006007        0.000426   \n",
       "3         1.200523      0.073620         0.008356        0.001784   \n",
       "4         1.167578      0.015444         0.007716        0.001564   \n",
       "..             ...           ...              ...             ...   \n",
       "127       0.069159      0.000412         0.012713        0.000319   \n",
       "128       0.068906      0.000678         0.012783        0.000025   \n",
       "129       0.069881      0.000130         0.012612        0.000414   \n",
       "130       0.068003      0.000954         0.012545        0.000204   \n",
       "131       0.069503      0.000427         0.012793        0.000445   \n",
       "\n",
       "    param_n_features_to_select                         params  \\\n",
       "0                            1    {'n_features_to_select': 1}   \n",
       "1                            2    {'n_features_to_select': 2}   \n",
       "2                            3    {'n_features_to_select': 3}   \n",
       "3                            4    {'n_features_to_select': 4}   \n",
       "4                            5    {'n_features_to_select': 5}   \n",
       "..                         ...                            ...   \n",
       "127                        128  {'n_features_to_select': 128}   \n",
       "128                        129  {'n_features_to_select': 129}   \n",
       "129                        130  {'n_features_to_select': 130}   \n",
       "130                        131  {'n_features_to_select': 131}   \n",
       "131                        132  {'n_features_to_select': 132}   \n",
       "\n",
       "     split0_test_score  split1_test_score  mean_test_score  std_test_score  \\\n",
       "0            -5.598350      -5.557483e+00    -5.577917e+00    2.043366e-02   \n",
       "1            -5.597824      -5.557483e+00    -5.577654e+00    2.017059e-02   \n",
       "2            -5.597616      -5.540651e+00    -5.569133e+00    2.848216e-02   \n",
       "3            -5.584452      -5.529490e+00    -5.556971e+00    2.748084e-02   \n",
       "4            -5.585315      -5.533675e+00    -5.559495e+00    2.581978e-02   \n",
       "..                 ...                ...              ...             ...   \n",
       "127          -5.198124      -1.749015e+21    -8.745077e+20    8.745077e+20   \n",
       "128          -5.198124      -1.749015e+21    -8.745077e+20    8.745077e+20   \n",
       "129          -5.198124      -1.749015e+21    -8.745077e+20    8.745077e+20   \n",
       "130          -5.198124      -1.749015e+21    -8.745077e+20    8.745077e+20   \n",
       "131          -5.198124      -1.749015e+21    -8.745077e+20    8.745077e+20   \n",
       "\n",
       "     rank_test_score  split0_train_score  split1_train_score  \\\n",
       "0                 31           -5.549342           -5.591744   \n",
       "1                 30           -5.548638           -5.591744   \n",
       "2                 29           -5.548712           -5.569679   \n",
       "3                 25           -5.543226           -5.561667   \n",
       "4                 28           -5.541565           -5.557697   \n",
       "..               ...                 ...                 ...   \n",
       "127               73           -5.048679           -5.117564   \n",
       "128               73           -5.048679           -5.117564   \n",
       "129               73           -5.048679           -5.117564   \n",
       "130               73           -5.048679           -5.117564   \n",
       "131               73           -5.048679           -5.117564   \n",
       "\n",
       "     mean_train_score  std_train_score  \n",
       "0           -5.570543         0.021201  \n",
       "1           -5.570191         0.021553  \n",
       "2           -5.559196         0.010484  \n",
       "3           -5.552447         0.009221  \n",
       "4           -5.549631         0.008066  \n",
       "..                ...              ...  \n",
       "127         -5.083122         0.034443  \n",
       "128         -5.083122         0.034443  \n",
       "129         -5.083122         0.034443  \n",
       "130         -5.083122         0.034443  \n",
       "131         -5.083122         0.034443  \n",
       "\n",
       "[132 rows x 15 columns]"
      ]
     },
     "execution_count": 109,
     "metadata": {},
     "output_type": "execute_result"
    }
   ],
   "source": [
    "# cv results\n",
    "cv_results = pd.DataFrame(model_cv.cv_results_)\n",
    "cv_results"
   ]
  },
  {
   "cell_type": "code",
   "execution_count": 110,
   "metadata": {},
   "outputs": [
    {
     "data": {
      "text/plain": [
       "<matplotlib.legend.Legend at 0x7fc9c1e949d0>"
      ]
     },
     "execution_count": 110,
     "metadata": {},
     "output_type": "execute_result"
    },
    {
     "data": {
      "image/png": "[encoded data removed]",
      "text/plain": [
       "<Figure size 1152x432 with 1 Axes>"
      ]
     },
     "metadata": {
      "needs_background": "light"
     },
     "output_type": "display_data"
    }
   ],
   "source": [
    "# plotting cv results\n",
    "plt.figure(figsize=(16,6))\n",
    "\n",
    "#plt.plot(cv_results[\"param_n_features_to_select\"], cv_results[\"mean_test_score\"])\n",
    "plt.plot(cv_results[\"param_n_features_to_select\"], cv_results[\"mean_train_score\"])\n",
    "plt.xlabel('number of features')\n",
    "plt.ylabel('mean squared error')\n",
    "plt.title(\"Optimal Number of Features\")\n",
    "plt.legend(['test score', 'train score'], loc='upper left')"
   ]
  },
  {
   "cell_type": "markdown",
   "metadata": {},
   "source": [
    "#### 4.1.1.2 Linear Regression - Regularisation"
   ]
  },
  {
   "cell_type": "markdown",
   "metadata": {},
   "source": [
    "**Lasso Regularisation**"
   ]
  },
  {
   "cell_type": "code",
   "execution_count": 111,
   "metadata": {},
   "outputs": [
    {
     "name": "stdout",
     "output_type": "stream",
     "text": [
      "--------------------------------\n",
      "lasso with alpha 0.0001\n",
      "--------------------------------\n",
      "\n",
      "Train score: 0.086\n",
      "Test score: 0.083\n",
      "[-2.016, 0.209, 0.972, -0.354, -0.416, -0.162, -0.0, 0.095, -0.062, -0.231, -0.313, -0.335, 0.063, -0.211, -0.463, 0.399, 0.739, -0.0, 0.302, -0.066, 0.247, 0.153, 0.11, -0.272, 0.083, 0.658, 1.487, 0.367, -0.378, -0.128, -0.0, 0.114, -0.025, 0.15, 0.036, 0.08, -0.001, 0.0, -0.0, 0.0, -0.058, 0.11, 0.349, 0.133, -0.005, -0.076, -0.048, 0.051, 0.0, -0.026, -0.252, 0.239, 0.372, -0.069, -0.015, 0.164, 0.259, 0.207, 0.22, 0.285, 0.412, -0.017, 0.137, 0.026, -0.064, 0.001, 0.205, -0.034, 0.002, -0.0, -0.001, -0.246, 0.0, 0.021, 0.0, 0.068, -0.251, -0.13, 0.0, -0.0, 0.0, -0.09, -0.291, 0.283, 0.066, 0.043, -0.011, -0.0, -0.173, 0.08, -0.295, -0.232, -0.254, -0.145, 0.013, 0.245, 0.023, 0.0, 0.518, -0.246, -0.0, 0.278, -0.0, -0.28, 0.678, -0.363, 0.317, -0.009]\n",
      "--------------------------------\n",
      "MSE on test set: 4.995103271995416\n",
      "Manual MSE on test set: 4.995103271995412\n",
      "RMSE on test set: 2.2349727676183027\n",
      "model complexity: 21.186488545599662\n",
      "regularized cost: 4.9972219208499755\n",
      "\n",
      "\n",
      "--------------------------------\n",
      "lasso with alpha 0.001\n",
      "--------------------------------\n",
      "\n",
      "Train score: 0.085\n",
      "Test score: 0.083\n",
      "[-1.111, -0.0, 0.092, -0.192, -0.26, -0.003, 0.15, 0.252, 0.164, -0.0, -0.061, -0.0, 0.0, -0.0, -0.175, -0.0, 0.338, 0.0, 0.314, 0.0, 0.309, 0.059, 0.012, -0.344, 0.0, 0.0, 1.105, 0.0, -0.369, -0.123, -0.0, 0.108, -0.02, 0.146, 0.033, 0.063, -0.003, -0.0, 0.0, 0.0, -0.059, 0.0, 0.353, 0.062, -0.0, -0.092, -0.036, 0.056, 0.0, -0.014, -0.36, 0.081, 0.21, -0.181, -0.14, 0.011, 0.108, 0.055, 0.068, 0.127, 0.251, -0.01, 0.142, 0.02, -0.059, 0.002, 0.194, -0.011, 0.003, -0.0, -0.0, -0.245, 0.0, 0.024, 0.0, 0.061, -0.246, -0.124, 0.0, -0.0, -0.0, -0.005, -0.219, 0.064, -0.0, 0.042, -0.0, 0.0, -0.138, 0.076, -0.245, -0.181, -0.189, -0.099, 0.038, 0.08, 0.043, 0.011, 0.118, -0.0, -0.0, 0.155, -0.0, -0.09, 0.15, -0.0, 0.0, -0.051]\n",
      "--------------------------------\n",
      "MSE on test set: 4.997320482687526\n",
      "Manual MSE on test set: 4.997320482687539\n",
      "RMSE on test set: 2.2354687389197654\n",
      "model complexity: 11.205272574785141\n",
      "regularized cost: 5.008525755262311\n",
      "\n",
      "\n",
      "--------------------------------\n",
      "lasso with alpha 0.005\n",
      "--------------------------------\n",
      "\n",
      "Train score: 0.081\n",
      "Test score: 0.08\n",
      "[-0.399, -0.0, 0.0, -0.12, -0.262, -0.0, 0.132, 0.257, 0.2, -0.0, -0.0, -0.0, 0.0, 0.0, -0.0, -0.0, 0.324, 0.0, 0.292, 0.0, 0.275, 0.007, 0.0, -0.3, 0.0, 0.0, 0.875, -0.178, -0.343, -0.098, -0.0, 0.078, -0.0, 0.121, 0.0, 0.0, -0.005, 0.0, 0.0, 0.0, -0.072, 0.0, 0.295, 0.02, -0.0, -0.04, -0.0, 0.071, 0.0, -0.0, -0.221, 0.0, 0.072, -0.08, -0.11, -0.0, 0.022, 0.0, 0.0, 0.021, 0.117, -0.004, 0.131, 0.013, -0.058, 0.0, 0.101, -0.0, 0.001, -0.004, -0.001, -0.234, 0.0, 0.004, 0.0, 0.052, -0.225, -0.12, 0.0, -0.0, 0.0, -0.0, -0.205, 0.0, -0.0, 0.0, 0.0, 0.0, -0.126, 0.016, -0.155, -0.063, -0.023, -0.0, 0.079, 0.0, 0.071, 0.0, -0.0, 0.009, -0.0, 0.068, -0.0, -0.0, 0.061, 0.0, -0.0, -0.054]\n",
      "--------------------------------\n",
      "MSE on test set: 5.01103646357379\n",
      "Manual MSE on test set: 5.011036463573797\n",
      "RMSE on test set: 2.238534445474045\n",
      "model complexity: 7.291657727526068\n",
      "regularized cost: 5.04749475221142\n",
      "\n",
      "\n",
      "--------------------------------\n",
      "lasso with alpha 0.01\n",
      "--------------------------------\n",
      "\n",
      "Train score: 0.075\n",
      "Test score: 0.075\n",
      "[-0.0, -0.0, -0.0, -0.054, -0.256, -0.0, 0.111, 0.259, 0.174, -0.0, -0.0, -0.0, 0.0, -0.0, -0.0, -0.0, 0.315, 0.0, 0.251, 0.0, 0.208, 0.0, 0.0, -0.215, 0.011, 0.0, 0.808, -0.222, -0.308, -0.063, -0.0, 0.043, -0.0, 0.091, 0.0, 0.0, -0.0, 0.0, -0.0, 0.037, -0.027, 0.0, 0.22, 0.0, -0.0, -0.0, -0.0, 0.065, 0.0, -0.0, -0.0, 0.0, 0.0, -0.0, -0.011, -0.0, 0.0, 0.0, 0.0, 0.0, 0.03, -0.0, 0.08, 0.004, -0.051, 0.0, 0.0, -0.0, 0.0, -0.014, -0.006, -0.221, 0.0, 0.0, 0.0, 0.046, -0.19, -0.103, 0.0, -0.0, 0.0, -0.0, -0.22, 0.0, -0.0, 0.0, 0.0, 0.0, -0.09, 0.0, -0.133, -0.007, -0.0, -0.0, 0.038, 0.0, 0.031, 0.0, -0.0, 0.0, -0.0, 0.0, -0.0, -0.0, 0.0, 0.0, -0.0, -0.046]\n",
      "--------------------------------\n",
      "MSE on test set: 5.038505805879038\n",
      "Manual MSE on test set: 5.0385058058790335\n",
      "RMSE on test set: 2.244661623915515\n",
      "model complexity: 5.062064765732519\n",
      "regularized cost: 5.089126453536363\n",
      "\n",
      "\n",
      "run time: 2.0162858963012695 start time: 1627655641.362664 end time 1627655643.3789551\n"
     ]
    }
   ],
   "source": [
    "start_time = time.time()\n",
    "alpha = [0.0001, 0.001, 0.005, 0.01]\n",
    "\n",
    "for i in range(4):\n",
    "    #build lasso regressor model here\n",
    "    lasso = linear_model.Lasso(alpha=alpha[i])\n",
    "    lasso.fit(x_train, y_train) #fit a lasso regression on the training data\n",
    "    y_predlasso = lasso.predict(x_test) #use this model to predict the test data\n",
    "    lasso_mse = metrics.mean_squared_error(y_test, y_predlasso) #calculate the test MSE\n",
    "    lasso_rmse = metrics.mean_squared_error(y_test, y_predlasso,squared = False) #calculate the test RMSE\n",
    "    msemanual = np.mean((y_predlasso-y_test)**2) #calculate mse manually to cross validate\n",
    "    lasso_cplxy = (np.sum(abs(lasso.coef_))) #calculate l1norm / model complexity\n",
    "    \n",
    "    print('-' * 32)\n",
    "    print('lasso with alpha', alpha[i])\n",
    "    print('-' * 32)\n",
    "    print('\\nTrain score:', round(lasso.score(x_train, y_train), 3)) #compute train R^2 score\n",
    "    print('Test score:', round(lasso.score(x_test, y_test), 3)) #compute test R^2 score\n",
    "    print(list(map(lambda x: round(x, 3), lasso.coef_))) #list out the coef values \n",
    "    print('-' * 32)\n",
    "    print('MSE on test set:', lasso_mse) #compute MSE results\n",
    "    print('Manual MSE on test set:',msemanual) #compute MSE results\n",
    "    print('RMSE on test set:', lasso_rmse) #compute RMSE results\n",
    "    print('model complexity:', lasso_cplxy) #compute L1 NOMR score\n",
    "    print('regularized cost:', lasso_mse + alpha[i] * lasso_cplxy) #compute regularised cost function scores\n",
    "    print('\\n')\n",
    "print(\"run time:\", str(time.time()-start_time), \"start time:\", str(start_time), \"end time\",str(time.time()))   "
   ]
  },
  {
   "cell_type": "markdown",
   "metadata": {},
   "source": [
    "**Ridge Regularisation**"
   ]
  },
  {
   "cell_type": "code",
   "execution_count": 112,
   "metadata": {},
   "outputs": [
    {
     "name": "stdout",
     "output_type": "stream",
     "text": [
      "--------------------------------\n",
      "ridge with alpha 0.001\n",
      "--------------------------------\n",
      "\n",
      "Train score: 0.086\n",
      "Test score: 0.083\n",
      "[-2.144, 0.57, 1.086, -0.401, -0.468, -0.215, -0.053, 0.041, -0.175, -0.346, -0.429, -0.486, 0.095, -0.327, -0.581, 0.601, 0.941, -0.694, -0.39, -0.25, 0.064, 1.029, 0.985, 0.601, 0.959, 1.724, 1.563, 0.442, -0.346, -0.095, 0.033, 0.147, 0.008, 0.184, 0.068, 0.064, -0.026, -0.017, -0.021, 0.715, 0.657, 0.848, 0.2, 0.054, -0.095, -0.159, -0.044, 0.057, 0.007, -0.02, -0.241, 0.256, 0.389, -0.059, -0.004, 0.18, 0.275, 0.224, 0.236, 0.302, 0.428, -0.026, 0.047, 0.032, -0.053, -0.046, 0.16, -0.082, 0.047, -0.026, -0.053, -0.062, 0.062, 0.08, 0.058, 0.127, -0.194, -0.072, 0.062, -0.062, 0.059, -0.103, -0.302, 0.301, 0.074, 0.039, -0.017, -0.012, -0.18, 0.14, -0.221, -0.159, -0.179, -0.067, 0.092, 0.348, 0.104, 0.082, 0.476, -0.377, -0.098, 0.385, -0.001, -0.384, 0.572, -0.582, 0.186, -0.177]\n",
      "--------------------------------\n",
      "MSE on test set: 4.996145714181454\n",
      "RMSE on test set: 2.2352059668364914\n",
      "model complexity: 4.814766285442418\n",
      "regularized cost: 5.000960480466897\n",
      "\n",
      "\n",
      "--------------------------------\n",
      "ridge with alpha 0.01\n",
      "--------------------------------\n",
      "\n",
      "Train score: 0.086\n",
      "Test score: 0.083\n",
      "[-2.143, 0.569, 1.086, -0.4, -0.468, -0.215, -0.053, 0.041, -0.174, -0.346, -0.429, -0.486, 0.096, -0.327, -0.58, 0.6, 0.94, -0.684, -0.381, -0.251, 0.063, 1.021, 0.977, 0.593, 0.951, 1.715, 1.563, 0.442, -0.346, -0.095, 0.033, 0.147, 0.008, 0.184, 0.068, 0.064, -0.026, -0.017, -0.021, 0.708, 0.651, 0.842, 0.2, 0.054, -0.095, -0.159, -0.044, 0.057, 0.007, -0.02, -0.241, 0.256, 0.389, -0.059, -0.004, 0.18, 0.275, 0.224, 0.236, 0.302, 0.428, -0.026, 0.047, 0.032, -0.053, -0.046, 0.16, -0.082, 0.047, -0.026, -0.053, -0.062, 0.062, 0.08, 0.058, 0.127, -0.194, -0.072, 0.062, -0.062, 0.059, -0.103, -0.302, 0.301, 0.074, 0.039, -0.017, -0.012, -0.18, 0.14, -0.221, -0.159, -0.179, -0.067, 0.092, 0.348, 0.104, 0.082, 0.475, -0.377, -0.098, 0.385, -0.001, -0.384, 0.572, -0.582, 0.186, -0.177]\n",
      "--------------------------------\n",
      "MSE on test set: 4.996145159048707\n",
      "RMSE on test set: 2.2352058426571606\n",
      "model complexity: 4.799336844424802\n",
      "regularized cost: 5.044138527492955\n",
      "\n",
      "\n",
      "--------------------------------\n",
      "ridge with alpha 0.1\n",
      "--------------------------------\n",
      "\n",
      "Train score: 0.086\n",
      "Test score: 0.083\n",
      "[-2.137, 0.562, 1.082, -0.399, -0.467, -0.214, -0.052, 0.042, -0.172, -0.344, -0.427, -0.483, 0.097, -0.325, -0.578, 0.597, 0.937, -0.6, -0.297, -0.262, 0.053, 0.948, 0.904, 0.52, 0.877, 1.63, 1.561, 0.44, -0.346, -0.095, 0.033, 0.147, 0.008, 0.184, 0.068, 0.064, -0.026, -0.017, -0.021, 0.648, 0.59, 0.78, 0.199, 0.054, -0.095, -0.159, -0.044, 0.057, 0.007, -0.02, -0.241, 0.256, 0.389, -0.059, -0.004, 0.18, 0.275, 0.224, 0.236, 0.302, 0.428, -0.026, 0.047, 0.032, -0.053, -0.046, 0.16, -0.082, 0.047, -0.026, -0.053, -0.062, 0.062, 0.08, 0.058, 0.127, -0.194, -0.072, 0.062, -0.062, 0.059, -0.103, -0.302, 0.301, 0.074, 0.04, -0.017, -0.011, -0.18, 0.14, -0.221, -0.159, -0.179, -0.067, 0.092, 0.348, 0.104, 0.082, 0.473, -0.376, -0.098, 0.383, -0.001, -0.381, 0.57, -0.58, 0.186, -0.176]\n",
      "--------------------------------\n",
      "MSE on test set: 4.996136124696689\n",
      "RMSE on test set: 2.235203821734539\n",
      "model complexity: 4.6630862007667355\n",
      "regularized cost: 5.462444744773363\n",
      "\n",
      "\n",
      "--------------------------------\n",
      "ridge with alpha 1\n",
      "--------------------------------\n",
      "\n",
      "Train score: 0.086\n",
      "Test score: 0.083\n",
      "[-2.074, 0.499, 1.044, -0.389, -0.456, -0.203, -0.041, 0.054, -0.152, -0.324, -0.407, -0.457, 0.111, -0.305, -0.557, 0.554, 0.894, -0.244, 0.059, -0.25, 0.064, 0.581, 0.537, 0.153, 0.511, 1.185, 1.54, 0.42, -0.346, -0.095, 0.033, 0.147, 0.008, 0.184, 0.069, 0.064, -0.026, -0.017, -0.021, 0.345, 0.287, 0.473, 0.198, 0.053, -0.093, -0.158, -0.044, 0.057, 0.007, -0.02, -0.242, 0.255, 0.388, -0.06, -0.005, 0.178, 0.273, 0.222, 0.235, 0.3, 0.427, -0.026, 0.047, 0.032, -0.053, -0.046, 0.16, -0.082, 0.047, -0.026, -0.053, -0.062, 0.062, 0.08, 0.058, 0.127, -0.193, -0.072, 0.062, -0.062, 0.059, -0.105, -0.304, 0.303, 0.074, 0.045, -0.017, -0.01, -0.183, 0.139, -0.22, -0.157, -0.177, -0.066, 0.093, 0.34, 0.104, 0.082, 0.455, -0.359, -0.095, 0.364, -0.002, -0.363, 0.554, -0.56, 0.178, -0.172]\n",
      "--------------------------------\n",
      "MSE on test set: 4.995884583660766\n",
      "RMSE on test set: 2.235147552995275\n",
      "model complexity: 4.056811394918801\n",
      "regularized cost: 9.052695978579568\n",
      "\n",
      "\n",
      "run time: 0.17977309226989746 start time: 1627655646.646484 end time 1627655646.826262\n"
     ]
    }
   ],
   "source": [
    "start_time = time.time()\n",
    "ridgealpha = [0.001, 0.01, 0.1, 1]\n",
    "\n",
    "for i in range(4):\n",
    "    #build ridge regressor here\n",
    "    ridge = linear_model.Ridge(alpha=ridgealpha[i])\n",
    "    ridge.fit(x_train, y_train) #fit a ridge regression on the training data\n",
    "    y_pred_ridge = ridge.predict(x_test) #use this model to predict the test data\n",
    "    ridge_mse = metrics.mean_squared_error(y_test, y_pred_ridge) #calculate the test mse\n",
    "    ridge_rmse = metrics.mean_squared_error(y_test, y_pred_ridge,squared = False) #calculate the test rmse\n",
    "    ridge_cplxy = (np.linalg.norm(ridge.coef_)) #calculate l2norm / model complexity\n",
    "    \n",
    "    print('-' * 32)\n",
    "    print('ridge with alpha', ridgealpha[i])\n",
    "    print('-' * 32)\n",
    "    print('\\nTrain score:', round(ridge.score(x_train, y_train), 3))\n",
    "    print('Test score:', round(ridge.score(x_test, y_test), 3))\n",
    "    print(list(map(lambda x: round(x, 3), ridge.coef_)))\n",
    "    print('-' * 32)\n",
    "    print('MSE on test set:', ridge_mse)\n",
    "    print('RMSE on test set:', ridge_rmse)\n",
    "    print('model complexity:', ridge_cplxy)\n",
    "    print('regularized cost:', ridge_mse + ridgealpha[i] * ridge_cplxy)\n",
    "    print('\\n')\n",
    "print(\"run time:\", str(time.time()-start_time), \"start time:\", str(start_time), \"end time\",str(time.time()))"
   ]
  },
  {
   "cell_type": "markdown",
   "metadata": {},
   "source": [
    "### 4.1.1.3. Principal Component Regression"
   ]
  },
  {
   "cell_type": "code",
   "execution_count": 113,
   "metadata": {},
   "outputs": [],
   "source": [
    "from sklearn.preprocessing import scale\n",
    "from sklearn.decomposition import PCA\n",
    "from sklearn.cross_decomposition import PLSRegression\n",
    "from sklearn.cross_decomposition import PLSRegression, PLSSVD\n",
    "from sklearn import model_selection\n"
   ]
  },
  {
   "cell_type": "code",
   "execution_count": 114,
   "metadata": {},
   "outputs": [],
   "source": [
    "pca = PCA()\n",
    "x_reduced = pca.fit_transform(scale(x_train))\n"
   ]
  },
  {
   "cell_type": "code",
   "execution_count": 115,
   "metadata": {},
   "outputs": [
    {
     "data": {
      "text/html": [
       "<div>\n",
       "<style scoped>\n",
       "    .dataframe tbody tr th:only-of-type {\n",
       "        vertical-align: middle;\n",
       "    }\n",
       "\n",
       "    .dataframe tbody tr th {\n",
       "        vertical-align: top;\n",
       "    }\n",
       "\n",
       "    .dataframe thead th {\n",
       "        text-align: right;\n",
       "    }\n",
       "</style>\n",
       "<table border=\"1\" class=\"dataframe\">\n",
       "  <thead>\n",
       "    <tr style=\"text-align: right;\">\n",
       "      <th></th>\n",
       "      <th>0</th>\n",
       "      <th>1</th>\n",
       "      <th>2</th>\n",
       "      <th>3</th>\n",
       "      <th>4</th>\n",
       "      <th>5</th>\n",
       "    </tr>\n",
       "  </thead>\n",
       "  <tbody>\n",
       "    <tr>\n",
       "      <th>0</th>\n",
       "      <td>-0.267983</td>\n",
       "      <td>-0.200180</td>\n",
       "      <td>-0.015629</td>\n",
       "      <td>-0.021804</td>\n",
       "      <td>0.006738</td>\n",
       "      <td>0.037311</td>\n",
       "    </tr>\n",
       "    <tr>\n",
       "      <th>1</th>\n",
       "      <td>0.173349</td>\n",
       "      <td>0.136922</td>\n",
       "      <td>-0.037275</td>\n",
       "      <td>0.100840</td>\n",
       "      <td>-0.020999</td>\n",
       "      <td>0.279507</td>\n",
       "    </tr>\n",
       "    <tr>\n",
       "      <th>2</th>\n",
       "      <td>0.013723</td>\n",
       "      <td>-0.085163</td>\n",
       "      <td>-0.360472</td>\n",
       "      <td>0.020563</td>\n",
       "      <td>-0.010955</td>\n",
       "      <td>-0.031966</td>\n",
       "    </tr>\n",
       "    <tr>\n",
       "      <th>3</th>\n",
       "      <td>0.058633</td>\n",
       "      <td>0.056783</td>\n",
       "      <td>0.075316</td>\n",
       "      <td>-0.028067</td>\n",
       "      <td>-0.003937</td>\n",
       "      <td>-0.122928</td>\n",
       "    </tr>\n",
       "    <tr>\n",
       "      <th>4</th>\n",
       "      <td>-0.073047</td>\n",
       "      <td>0.011743</td>\n",
       "      <td>0.057594</td>\n",
       "      <td>-0.002643</td>\n",
       "      <td>0.024049</td>\n",
       "      <td>0.037361</td>\n",
       "    </tr>\n",
       "  </tbody>\n",
       "</table>\n",
       "</div>"
      ],
      "text/plain": [
       "          0         1         2         3         4         5\n",
       "0 -0.267983 -0.200180 -0.015629 -0.021804  0.006738  0.037311\n",
       "1  0.173349  0.136922 -0.037275  0.100840 -0.020999  0.279507\n",
       "2  0.013723 -0.085163 -0.360472  0.020563 -0.010955 -0.031966\n",
       "3  0.058633  0.056783  0.075316 -0.028067 -0.003937 -0.122928\n",
       "4 -0.073047  0.011743  0.057594 -0.002643  0.024049  0.037361"
      ]
     },
     "execution_count": 115,
     "metadata": {},
     "output_type": "execute_result"
    }
   ],
   "source": [
    "pd.DataFrame(pca.components_.T).loc[:4,:5]\n",
    "#pd.DataFrame(pca.components_.T)"
   ]
  },
  {
   "cell_type": "code",
   "execution_count": 157,
   "metadata": {},
   "outputs": [],
   "source": [
    "# 5-fold CV, with shuffle\n",
    "kf_5 = model_selection.KFold(n_splits=5, shuffle=True, random_state=100) \n",
    "\n",
    "pcascores = model_selection.cross_validate(LRmodel, x_reduced, y_train, \n",
    "                                            scoring=('r2', 'neg_mean_squared_error'), cv=kf_5)\n",
    "\n"
   ]
  },
  {
   "cell_type": "code",
   "execution_count": 160,
   "metadata": {},
   "outputs": [
    {
     "data": {
      "text/plain": [
       "{'fit_time': array([0.088483, 0.054298, 0.052898, 0.056968, 0.062207]),\n",
       " 'score_time': array([0.001895, 0.001684, 0.001510, 0.002078, 0.001707]),\n",
       " 'test_r2': array([0.083444, 0.074332, 0.078146, 0.084625, 0.073605]),\n",
       " 'test_neg_mean_squared_error': array([-5.038205, -5.178522, -5.122285, -5.195448, -5.181087])}"
      ]
     },
     "execution_count": 160,
     "metadata": {},
     "output_type": "execute_result"
    }
   ],
   "source": [
    "pcascores"
   ]
  },
  {
   "cell_type": "code",
   "execution_count": 159,
   "metadata": {},
   "outputs": [
    {
     "name": "stdout",
     "output_type": "stream",
     "text": [
      "Fitting 5 folds for each of 108 candidates, totalling 540 fits\n",
      "[CV 1/5; 1/108] START n_features_to_select=1....................................\n",
      "[CV 1/5; 1/108] END ....n_features_to_select=1;, score=-5.501 total time=   2.1s\n",
      "[CV 2/5; 1/108] START n_features_to_select=1....................................\n",
      "[CV 2/5; 1/108] END ....n_features_to_select=1;, score=-5.598 total time=   2.1s\n",
      "[CV 3/5; 1/108] START n_features_to_select=1....................................\n",
      "[CV 3/5; 1/108] END ....n_features_to_select=1;, score=-5.557 total time=   1.9s\n",
      "[CV 4/5; 1/108] START n_features_to_select=1....................................\n",
      "[CV 4/5; 1/108] END ....n_features_to_select=1;, score=-5.675 total time=   2.1s\n",
      "[CV 5/5; 1/108] START n_features_to_select=1....................................\n",
      "[CV 5/5; 1/108] END ....n_features_to_select=1;, score=-5.592 total time=   2.2s\n",
      "[CV 1/5; 2/108] START n_features_to_select=2....................................\n",
      "[CV 1/5; 2/108] END ....n_features_to_select=2;, score=-5.499 total time=   2.1s\n",
      "[CV 2/5; 2/108] START n_features_to_select=2....................................\n",
      "[CV 2/5; 2/108] END ....n_features_to_select=2;, score=-5.598 total time=   2.1s\n",
      "[CV 3/5; 2/108] START n_features_to_select=2....................................\n",
      "[CV 3/5; 2/108] END ....n_features_to_select=2;, score=-5.564 total time=   2.3s\n",
      "[CV 4/5; 2/108] START n_features_to_select=2....................................\n",
      "[CV 4/5; 2/108] END ....n_features_to_select=2;, score=-5.675 total time=   2.3s\n",
      "[CV 5/5; 2/108] START n_features_to_select=2....................................\n",
      "[CV 5/5; 2/108] END ....n_features_to_select=2;, score=-5.593 total time=   2.4s\n",
      "[CV 1/5; 3/108] START n_features_to_select=3....................................\n",
      "[CV 1/5; 3/108] END ....n_features_to_select=3;, score=-5.500 total time=   2.4s\n",
      "[CV 2/5; 3/108] START n_features_to_select=3....................................\n",
      "[CV 2/5; 3/108] END ....n_features_to_select=3;, score=-5.597 total time=   2.2s\n",
      "[CV 3/5; 3/108] START n_features_to_select=3....................................\n",
      "[CV 3/5; 3/108] END ....n_features_to_select=3;, score=-5.564 total time=   2.1s\n",
      "[CV 4/5; 3/108] START n_features_to_select=3....................................\n",
      "[CV 4/5; 3/108] END ....n_features_to_select=3;, score=-5.675 total time=   2.1s\n",
      "[CV 5/5; 3/108] START n_features_to_select=3....................................\n",
      "[CV 5/5; 3/108] END ....n_features_to_select=3;, score=-5.595 total time=   2.2s\n",
      "[CV 1/5; 4/108] START n_features_to_select=4....................................\n",
      "[CV 1/5; 4/108] END ....n_features_to_select=4;, score=-5.500 total time=   2.3s\n",
      "[CV 2/5; 4/108] START n_features_to_select=4....................................\n",
      "[CV 2/5; 4/108] END ....n_features_to_select=4;, score=-5.613 total time=   2.3s\n",
      "[CV 3/5; 4/108] START n_features_to_select=4....................................\n",
      "[CV 3/5; 4/108] END ....n_features_to_select=4;, score=-5.564 total time=   2.2s\n",
      "[CV 4/5; 4/108] START n_features_to_select=4....................................\n",
      "[CV 4/5; 4/108] END ....n_features_to_select=4;, score=-5.675 total time=   2.4s\n",
      "[CV 5/5; 4/108] START n_features_to_select=4....................................\n",
      "[CV 5/5; 4/108] END ....n_features_to_select=4;, score=-5.594 total time=   2.3s\n",
      "[CV 1/5; 5/108] START n_features_to_select=5....................................\n",
      "[CV 1/5; 5/108] END ....n_features_to_select=5;, score=-5.504 total time=   2.3s\n",
      "[CV 2/5; 5/108] START n_features_to_select=5....................................\n",
      "[CV 2/5; 5/108] END ....n_features_to_select=5;, score=-5.613 total time=   2.1s\n",
      "[CV 3/5; 5/108] START n_features_to_select=5....................................\n",
      "[CV 3/5; 5/108] END ....n_features_to_select=5;, score=-5.564 total time=   2.2s\n",
      "[CV 4/5; 5/108] START n_features_to_select=5....................................\n",
      "[CV 4/5; 5/108] END ....n_features_to_select=5;, score=-5.680 total time=   2.4s\n",
      "[CV 5/5; 5/108] START n_features_to_select=5....................................\n",
      "[CV 5/5; 5/108] END ....n_features_to_select=5;, score=-5.594 total time=   2.4s\n",
      "[CV 1/5; 6/108] START n_features_to_select=6....................................\n",
      "[CV 1/5; 6/108] END ....n_features_to_select=6;, score=-5.504 total time=   2.9s\n",
      "[CV 2/5; 6/108] START n_features_to_select=6....................................\n",
      "[CV 2/5; 6/108] END ....n_features_to_select=6;, score=-6.316 total time=   3.5s\n",
      "[CV 3/5; 6/108] START n_features_to_select=6....................................\n",
      "[CV 3/5; 6/108] END ....n_features_to_select=6;, score=-5.565 total time=   3.9s\n",
      "[CV 4/5; 6/108] START n_features_to_select=6....................................\n",
      "[CV 4/5; 6/108] END ....n_features_to_select=6;, score=-5.680 total time=   3.6s\n",
      "[CV 5/5; 6/108] START n_features_to_select=6....................................\n",
      "[CV 5/5; 6/108] END ....n_features_to_select=6;, score=-5.593 total time=   3.5s\n",
      "[CV 1/5; 7/108] START n_features_to_select=7....................................\n",
      "[CV 1/5; 7/108] END ....n_features_to_select=7;, score=-5.508 total time=   3.2s\n",
      "[CV 2/5; 7/108] START n_features_to_select=7....................................\n",
      "[CV 2/5; 7/108] END ....n_features_to_select=7;, score=-6.357 total time=   2.9s\n",
      "[CV 3/5; 7/108] START n_features_to_select=7....................................\n",
      "[CV 3/5; 7/108] END ....n_features_to_select=7;, score=-5.564 total time=   2.4s\n",
      "[CV 4/5; 7/108] START n_features_to_select=7....................................\n",
      "[CV 4/5; 7/108] END ....n_features_to_select=7;, score=-5.681 total time=   2.3s\n",
      "[CV 5/5; 7/108] START n_features_to_select=7....................................\n",
      "[CV 5/5; 7/108] END ....n_features_to_select=7;, score=-5.595 total time=   2.3s\n",
      "[CV 1/5; 8/108] START n_features_to_select=8....................................\n",
      "[CV 1/5; 8/108] END ....n_features_to_select=8;, score=-5.507 total time=   2.3s\n",
      "[CV 2/5; 8/108] START n_features_to_select=8....................................\n",
      "[CV 2/5; 8/108] END ....n_features_to_select=8;, score=-6.924 total time=   2.7s\n",
      "[CV 3/5; 8/108] START n_features_to_select=8....................................\n",
      "[CV 3/5; 8/108] END ....n_features_to_select=8;, score=-5.564 total time=   2.9s\n",
      "[CV 4/5; 8/108] START n_features_to_select=8....................................\n",
      "[CV 4/5; 8/108] END ....n_features_to_select=8;, score=-5.682 total time=   3.1s\n",
      "[CV 5/5; 8/108] START n_features_to_select=8....................................\n",
      "[CV 5/5; 8/108] END ....n_features_to_select=8;, score=-5.594 total time=   3.2s\n",
      "[CV 1/5; 9/108] START n_features_to_select=9....................................\n",
      "[CV 1/5; 9/108] END ....n_features_to_select=9;, score=-5.507 total time=   3.0s\n",
      "[CV 2/5; 9/108] START n_features_to_select=9....................................\n",
      "[CV 2/5; 9/108] END ....n_features_to_select=9;, score=-6.934 total time=   3.2s\n",
      "[CV 3/5; 9/108] START n_features_to_select=9....................................\n",
      "[CV 3/5; 9/108] END ....n_features_to_select=9;, score=-5.564 total time=   3.2s\n",
      "[CV 4/5; 9/108] START n_features_to_select=9....................................\n",
      "[CV 4/5; 9/108] END ....n_features_to_select=9;, score=-5.682 total time=   2.9s\n",
      "[CV 5/5; 9/108] START n_features_to_select=9....................................\n",
      "[CV 5/5; 9/108] END ....n_features_to_select=9;, score=-5.594 total time=   2.9s\n",
      "[CV 1/5; 10/108] START n_features_to_select=10..................................\n",
      "[CV 1/5; 10/108] END ..n_features_to_select=10;, score=-5.518 total time=   2.9s\n",
      "[CV 2/5; 10/108] START n_features_to_select=10..................................\n",
      "[CV 2/5; 10/108] END ..n_features_to_select=10;, score=-6.877 total time=   3.1s\n",
      "[CV 3/5; 10/108] START n_features_to_select=10..................................\n",
      "[CV 3/5; 10/108] END ..n_features_to_select=10;, score=-5.565 total time=   2.9s\n",
      "[CV 4/5; 10/108] START n_features_to_select=10..................................\n",
      "[CV 4/5; 10/108] END ..n_features_to_select=10;, score=-5.685 total time=   3.1s\n",
      "[CV 5/5; 10/108] START n_features_to_select=10..................................\n",
      "[CV 5/5; 10/108] END ..n_features_to_select=10;, score=-5.595 total time=   2.8s\n",
      "[CV 1/5; 11/108] START n_features_to_select=11..................................\n"
     ]
    },
    {
     "name": "stdout",
     "output_type": "stream",
     "text": [
      "[CV 1/5; 11/108] END ..n_features_to_select=11;, score=-5.518 total time=   2.9s\n",
      "[CV 2/5; 11/108] START n_features_to_select=11..................................\n",
      "[CV 2/5; 11/108] END ..n_features_to_select=11;, score=-6.818 total time=   2.6s\n",
      "[CV 3/5; 11/108] START n_features_to_select=11..................................\n",
      "[CV 3/5; 11/108] END ..n_features_to_select=11;, score=-5.566 total time=   2.9s\n",
      "[CV 4/5; 11/108] START n_features_to_select=11..................................\n",
      "[CV 4/5; 11/108] END ..n_features_to_select=11;, score=-5.687 total time=   2.8s\n",
      "[CV 5/5; 11/108] START n_features_to_select=11..................................\n",
      "[CV 5/5; 11/108] END ..n_features_to_select=11;, score=-5.596 total time=   2.7s\n",
      "[CV 1/5; 12/108] START n_features_to_select=12..................................\n",
      "[CV 1/5; 12/108] END ..n_features_to_select=12;, score=-5.520 total time=   2.7s\n",
      "[CV 2/5; 12/108] START n_features_to_select=12..................................\n",
      "[CV 2/5; 12/108] END ..n_features_to_select=12;, score=-6.917 total time=   2.5s\n",
      "[CV 3/5; 12/108] START n_features_to_select=12..................................\n",
      "[CV 3/5; 12/108] END ..n_features_to_select=12;, score=-5.565 total time=   3.0s\n",
      "[CV 4/5; 12/108] START n_features_to_select=12..................................\n",
      "[CV 4/5; 12/108] END ..n_features_to_select=12;, score=-5.688 total time=   2.9s\n",
      "[CV 5/5; 12/108] START n_features_to_select=12..................................\n",
      "[CV 5/5; 12/108] END ..n_features_to_select=12;, score=-5.596 total time=   2.9s\n",
      "[CV 1/5; 13/108] START n_features_to_select=13..................................\n",
      "[CV 1/5; 13/108] END ..n_features_to_select=13;, score=-5.515 total time=   2.9s\n",
      "[CV 2/5; 13/108] START n_features_to_select=13..................................\n",
      "[CV 2/5; 13/108] END ..n_features_to_select=13;, score=-7.023 total time=   2.9s\n",
      "[CV 3/5; 13/108] START n_features_to_select=13..................................\n",
      "[CV 3/5; 13/108] END ..n_features_to_select=13;, score=-5.564 total time=   2.8s\n",
      "[CV 4/5; 13/108] START n_features_to_select=13..................................\n",
      "[CV 4/5; 13/108] END ..n_features_to_select=13;, score=-5.691 total time=   2.7s\n",
      "[CV 5/5; 13/108] START n_features_to_select=13..................................\n",
      "[CV 5/5; 13/108] END ..n_features_to_select=13;, score=-5.596 total time=   2.7s\n",
      "[CV 1/5; 14/108] START n_features_to_select=14..................................\n",
      "[CV 1/5; 14/108] END ..n_features_to_select=14;, score=-5.514 total time=   2.5s\n",
      "[CV 2/5; 14/108] START n_features_to_select=14..................................\n",
      "[CV 2/5; 14/108] END ..n_features_to_select=14;, score=-7.141 total time=   2.4s\n",
      "[CV 3/5; 14/108] START n_features_to_select=14..................................\n",
      "[CV 3/5; 14/108] END ..n_features_to_select=14;, score=-5.563 total time=   2.4s\n",
      "[CV 4/5; 14/108] START n_features_to_select=14..................................\n",
      "[CV 4/5; 14/108] END ..n_features_to_select=14;, score=-5.689 total time=   2.4s\n",
      "[CV 5/5; 14/108] START n_features_to_select=14..................................\n",
      "[CV 5/5; 14/108] END ..n_features_to_select=14;, score=-5.596 total time=   2.4s\n",
      "[CV 1/5; 15/108] START n_features_to_select=15..................................\n",
      "[CV 1/5; 15/108] END ..n_features_to_select=15;, score=-5.515 total time=   2.7s\n",
      "[CV 2/5; 15/108] START n_features_to_select=15..................................\n",
      "[CV 2/5; 15/108] END ..n_features_to_select=15;, score=-7.158 total time=   2.8s\n",
      "[CV 3/5; 15/108] START n_features_to_select=15..................................\n",
      "[CV 3/5; 15/108] END ..n_features_to_select=15;, score=-5.562 total time=   3.1s\n",
      "[CV 4/5; 15/108] START n_features_to_select=15..................................\n",
      "[CV 4/5; 15/108] END ..n_features_to_select=15;, score=-5.689 total time=   2.9s\n",
      "[CV 5/5; 15/108] START n_features_to_select=15..................................\n",
      "[CV 5/5; 15/108] END ..n_features_to_select=15;, score=-5.597 total time=   3.4s\n",
      "[CV 1/5; 16/108] START n_features_to_select=16..................................\n",
      "[CV 1/5; 16/108] END ..n_features_to_select=16;, score=-5.517 total time=   3.2s\n",
      "[CV 2/5; 16/108] START n_features_to_select=16..................................\n",
      "[CV 2/5; 16/108] END ..n_features_to_select=16;, score=-7.150 total time=   4.3s\n",
      "[CV 3/5; 16/108] START n_features_to_select=16..................................\n",
      "[CV 3/5; 16/108] END ..n_features_to_select=16;, score=-5.562 total time=   4.3s\n",
      "[CV 4/5; 16/108] START n_features_to_select=16..................................\n",
      "[CV 4/5; 16/108] END ..n_features_to_select=16;, score=-5.687 total time=   4.3s\n",
      "[CV 5/5; 16/108] START n_features_to_select=16..................................\n",
      "[CV 5/5; 16/108] END ..n_features_to_select=16;, score=-5.597 total time=   3.3s\n",
      "[CV 1/5; 17/108] START n_features_to_select=17..................................\n",
      "[CV 1/5; 17/108] END ..n_features_to_select=17;, score=-5.518 total time=   3.0s\n",
      "[CV 2/5; 17/108] START n_features_to_select=17..................................\n",
      "[CV 2/5; 17/108] END ..n_features_to_select=17;, score=-7.136 total time=   2.9s\n",
      "[CV 3/5; 17/108] START n_features_to_select=17..................................\n",
      "[CV 3/5; 17/108] END ..n_features_to_select=17;, score=-5.562 total time=   2.8s\n",
      "[CV 4/5; 17/108] START n_features_to_select=17..................................\n",
      "[CV 4/5; 17/108] END ..n_features_to_select=17;, score=-5.688 total time=   2.6s\n",
      "[CV 5/5; 17/108] START n_features_to_select=17..................................\n",
      "[CV 5/5; 17/108] END ..n_features_to_select=17;, score=-5.597 total time=   2.7s\n",
      "[CV 1/5; 18/108] START n_features_to_select=18..................................\n",
      "[CV 1/5; 18/108] END ..n_features_to_select=18;, score=-5.518 total time=   2.7s\n",
      "[CV 2/5; 18/108] START n_features_to_select=18..................................\n",
      "[CV 2/5; 18/108] END ..n_features_to_select=18;, score=-7.154 total time=   2.7s\n",
      "[CV 3/5; 18/108] START n_features_to_select=18..................................\n",
      "[CV 3/5; 18/108] END ..n_features_to_select=18;, score=-5.561 total time=   2.5s\n",
      "[CV 4/5; 18/108] START n_features_to_select=18..................................\n",
      "[CV 4/5; 18/108] END ..n_features_to_select=18;, score=-5.689 total time=   2.5s\n",
      "[CV 5/5; 18/108] START n_features_to_select=18..................................\n",
      "[CV 5/5; 18/108] END ..n_features_to_select=18;, score=-5.597 total time=   2.6s\n",
      "[CV 1/5; 19/108] START n_features_to_select=19..................................\n",
      "[CV 1/5; 19/108] END ..n_features_to_select=19;, score=-5.525 total time=   2.8s\n",
      "[CV 2/5; 19/108] START n_features_to_select=19..................................\n",
      "[CV 2/5; 19/108] END ..n_features_to_select=19;, score=-7.175 total time=   3.0s\n",
      "[CV 3/5; 19/108] START n_features_to_select=19..................................\n",
      "[CV 3/5; 19/108] END ..n_features_to_select=19;, score=-5.561 total time=   3.1s\n",
      "[CV 4/5; 19/108] START n_features_to_select=19..................................\n",
      "[CV 4/5; 19/108] END ..n_features_to_select=19;, score=-5.689 total time=   3.0s\n",
      "[CV 5/5; 19/108] START n_features_to_select=19..................................\n",
      "[CV 5/5; 19/108] END ..n_features_to_select=19;, score=-5.598 total time=   3.0s\n",
      "[CV 1/5; 20/108] START n_features_to_select=20..................................\n",
      "[CV 1/5; 20/108] END ..n_features_to_select=20;, score=-5.525 total time=   2.9s\n",
      "[CV 2/5; 20/108] START n_features_to_select=20..................................\n",
      "[CV 2/5; 20/108] END ..n_features_to_select=20;, score=-7.163 total time=   2.8s\n",
      "[CV 3/5; 20/108] START n_features_to_select=20..................................\n",
      "[CV 3/5; 20/108] END ..n_features_to_select=20;, score=-5.561 total time=   3.0s\n",
      "[CV 4/5; 20/108] START n_features_to_select=20..................................\n",
      "[CV 4/5; 20/108] END ..n_features_to_select=20;, score=-5.690 total time=   3.1s\n",
      "[CV 5/5; 20/108] START n_features_to_select=20..................................\n",
      "[CV 5/5; 20/108] END ..n_features_to_select=20;, score=-5.601 total time=   2.7s\n",
      "[CV 1/5; 21/108] START n_features_to_select=21..................................\n",
      "[CV 1/5; 21/108] END ..n_features_to_select=21;, score=-5.525 total time=   2.8s\n",
      "[CV 2/5; 21/108] START n_features_to_select=21..................................\n"
     ]
    },
    {
     "name": "stdout",
     "output_type": "stream",
     "text": [
      "[CV 2/5; 21/108] END ..n_features_to_select=21;, score=-7.163 total time=   2.8s\n",
      "[CV 3/5; 21/108] START n_features_to_select=21..................................\n",
      "[CV 3/5; 21/108] END ..n_features_to_select=21;, score=-5.561 total time=   3.3s\n",
      "[CV 4/5; 21/108] START n_features_to_select=21..................................\n"
     ]
    },
    {
     "ename": "KeyboardInterrupt",
     "evalue": "",
     "output_type": "error",
     "traceback": [
      "\u001b[0;31m---------------------------------------------------------------------------\u001b[0m",
      "\u001b[0;31mKeyboardInterrupt\u001b[0m                         Traceback (most recent call last)",
      "\u001b[0;32m<ipython-input-159-f81d2b7ec840>\u001b[0m in \u001b[0;36m<module>\u001b[0;34m\u001b[0m\n\u001b[1;32m     12\u001b[0m \u001b[0;34m\u001b[0m\u001b[0m\n\u001b[1;32m     13\u001b[0m \u001b[0;31m# fit the model\u001b[0m\u001b[0;34m\u001b[0m\u001b[0;34m\u001b[0m\u001b[0;34m\u001b[0m\u001b[0m\n\u001b[0;32m---> 14\u001b[0;31m \u001b[0mpcamodel_cv\u001b[0m\u001b[0;34m.\u001b[0m\u001b[0mfit\u001b[0m\u001b[0;34m(\u001b[0m\u001b[0mx_reduced\u001b[0m\u001b[0;34m,\u001b[0m \u001b[0my_train\u001b[0m\u001b[0;34m)\u001b[0m\u001b[0;34m\u001b[0m\u001b[0;34m\u001b[0m\u001b[0m\n\u001b[0m",
      "\u001b[0;32m~/opt/anaconda3/lib/python3.7/site-packages/sklearn/utils/validation.py\u001b[0m in \u001b[0;36minner_f\u001b[0;34m(*args, **kwargs)\u001b[0m\n\u001b[1;32m     61\u001b[0m             \u001b[0mextra_args\u001b[0m \u001b[0;34m=\u001b[0m \u001b[0mlen\u001b[0m\u001b[0;34m(\u001b[0m\u001b[0margs\u001b[0m\u001b[0;34m)\u001b[0m \u001b[0;34m-\u001b[0m \u001b[0mlen\u001b[0m\u001b[0;34m(\u001b[0m\u001b[0mall_args\u001b[0m\u001b[0;34m)\u001b[0m\u001b[0;34m\u001b[0m\u001b[0;34m\u001b[0m\u001b[0m\n\u001b[1;32m     62\u001b[0m             \u001b[0;32mif\u001b[0m \u001b[0mextra_args\u001b[0m \u001b[0;34m<=\u001b[0m \u001b[0;36m0\u001b[0m\u001b[0;34m:\u001b[0m\u001b[0;34m\u001b[0m\u001b[0;34m\u001b[0m\u001b[0m\n\u001b[0;32m---> 63\u001b[0;31m                 \u001b[0;32mreturn\u001b[0m \u001b[0mf\u001b[0m\u001b[0;34m(\u001b[0m\u001b[0;34m*\u001b[0m\u001b[0margs\u001b[0m\u001b[0;34m,\u001b[0m \u001b[0;34m**\u001b[0m\u001b[0mkwargs\u001b[0m\u001b[0;34m)\u001b[0m\u001b[0;34m\u001b[0m\u001b[0;34m\u001b[0m\u001b[0m\n\u001b[0m\u001b[1;32m     64\u001b[0m \u001b[0;34m\u001b[0m\u001b[0m\n\u001b[1;32m     65\u001b[0m             \u001b[0;31m# extra_args > 0\u001b[0m\u001b[0;34m\u001b[0m\u001b[0;34m\u001b[0m\u001b[0;34m\u001b[0m\u001b[0m\n",
      "\u001b[0;32m~/opt/anaconda3/lib/python3.7/site-packages/sklearn/model_selection/_search.py\u001b[0m in \u001b[0;36mfit\u001b[0;34m(self, X, y, groups, **fit_params)\u001b[0m\n\u001b[1;32m    839\u001b[0m                 \u001b[0;32mreturn\u001b[0m \u001b[0mresults\u001b[0m\u001b[0;34m\u001b[0m\u001b[0;34m\u001b[0m\u001b[0m\n\u001b[1;32m    840\u001b[0m \u001b[0;34m\u001b[0m\u001b[0m\n\u001b[0;32m--> 841\u001b[0;31m             \u001b[0mself\u001b[0m\u001b[0;34m.\u001b[0m\u001b[0m_run_search\u001b[0m\u001b[0;34m(\u001b[0m\u001b[0mevaluate_candidates\u001b[0m\u001b[0;34m)\u001b[0m\u001b[0;34m\u001b[0m\u001b[0;34m\u001b[0m\u001b[0m\n\u001b[0m\u001b[1;32m    842\u001b[0m \u001b[0;34m\u001b[0m\u001b[0m\n\u001b[1;32m    843\u001b[0m             \u001b[0;31m# multimetric is determined here because in the case of a callable\u001b[0m\u001b[0;34m\u001b[0m\u001b[0;34m\u001b[0m\u001b[0;34m\u001b[0m\u001b[0m\n",
      "\u001b[0;32m~/opt/anaconda3/lib/python3.7/site-packages/sklearn/model_selection/_search.py\u001b[0m in \u001b[0;36m_run_search\u001b[0;34m(self, evaluate_candidates)\u001b[0m\n\u001b[1;32m   1294\u001b[0m     \u001b[0;32mdef\u001b[0m \u001b[0m_run_search\u001b[0m\u001b[0;34m(\u001b[0m\u001b[0mself\u001b[0m\u001b[0;34m,\u001b[0m \u001b[0mevaluate_candidates\u001b[0m\u001b[0;34m)\u001b[0m\u001b[0;34m:\u001b[0m\u001b[0;34m\u001b[0m\u001b[0;34m\u001b[0m\u001b[0m\n\u001b[1;32m   1295\u001b[0m         \u001b[0;34m\"\"\"Search all candidates in param_grid\"\"\"\u001b[0m\u001b[0;34m\u001b[0m\u001b[0;34m\u001b[0m\u001b[0m\n\u001b[0;32m-> 1296\u001b[0;31m         \u001b[0mevaluate_candidates\u001b[0m\u001b[0;34m(\u001b[0m\u001b[0mParameterGrid\u001b[0m\u001b[0;34m(\u001b[0m\u001b[0mself\u001b[0m\u001b[0;34m.\u001b[0m\u001b[0mparam_grid\u001b[0m\u001b[0;34m)\u001b[0m\u001b[0;34m)\u001b[0m\u001b[0;34m\u001b[0m\u001b[0;34m\u001b[0m\u001b[0m\n\u001b[0m\u001b[1;32m   1297\u001b[0m \u001b[0;34m\u001b[0m\u001b[0m\n\u001b[1;32m   1298\u001b[0m \u001b[0;34m\u001b[0m\u001b[0m\n",
      "\u001b[0;32m~/opt/anaconda3/lib/python3.7/site-packages/sklearn/model_selection/_search.py\u001b[0m in \u001b[0;36mevaluate_candidates\u001b[0;34m(candidate_params, cv, more_results)\u001b[0m\n\u001b[1;32m    807\u001b[0m                                    (split_idx, (train, test)) in product(\n\u001b[1;32m    808\u001b[0m                                    \u001b[0menumerate\u001b[0m\u001b[0;34m(\u001b[0m\u001b[0mcandidate_params\u001b[0m\u001b[0;34m)\u001b[0m\u001b[0;34m,\u001b[0m\u001b[0;34m\u001b[0m\u001b[0;34m\u001b[0m\u001b[0m\n\u001b[0;32m--> 809\u001b[0;31m                                    enumerate(cv.split(X, y, groups))))\n\u001b[0m\u001b[1;32m    810\u001b[0m \u001b[0;34m\u001b[0m\u001b[0m\n\u001b[1;32m    811\u001b[0m                 \u001b[0;32mif\u001b[0m \u001b[0mlen\u001b[0m\u001b[0;34m(\u001b[0m\u001b[0mout\u001b[0m\u001b[0;34m)\u001b[0m \u001b[0;34m<\u001b[0m \u001b[0;36m1\u001b[0m\u001b[0;34m:\u001b[0m\u001b[0;34m\u001b[0m\u001b[0;34m\u001b[0m\u001b[0m\n",
      "\u001b[0;32m~/opt/anaconda3/lib/python3.7/site-packages/joblib/parallel.py\u001b[0m in \u001b[0;36m__call__\u001b[0;34m(self, iterable)\u001b[0m\n\u001b[1;32m   1042\u001b[0m                 \u001b[0mself\u001b[0m\u001b[0;34m.\u001b[0m\u001b[0m_iterating\u001b[0m \u001b[0;34m=\u001b[0m \u001b[0mself\u001b[0m\u001b[0;34m.\u001b[0m\u001b[0m_original_iterator\u001b[0m \u001b[0;32mis\u001b[0m \u001b[0;32mnot\u001b[0m \u001b[0;32mNone\u001b[0m\u001b[0;34m\u001b[0m\u001b[0;34m\u001b[0m\u001b[0m\n\u001b[1;32m   1043\u001b[0m \u001b[0;34m\u001b[0m\u001b[0m\n\u001b[0;32m-> 1044\u001b[0;31m             \u001b[0;32mwhile\u001b[0m \u001b[0mself\u001b[0m\u001b[0;34m.\u001b[0m\u001b[0mdispatch_one_batch\u001b[0m\u001b[0;34m(\u001b[0m\u001b[0miterator\u001b[0m\u001b[0;34m)\u001b[0m\u001b[0;34m:\u001b[0m\u001b[0;34m\u001b[0m\u001b[0;34m\u001b[0m\u001b[0m\n\u001b[0m\u001b[1;32m   1045\u001b[0m                 \u001b[0;32mpass\u001b[0m\u001b[0;34m\u001b[0m\u001b[0;34m\u001b[0m\u001b[0m\n\u001b[1;32m   1046\u001b[0m \u001b[0;34m\u001b[0m\u001b[0m\n",
      "\u001b[0;32m~/opt/anaconda3/lib/python3.7/site-packages/joblib/parallel.py\u001b[0m in \u001b[0;36mdispatch_one_batch\u001b[0;34m(self, iterator)\u001b[0m\n\u001b[1;32m    857\u001b[0m                 \u001b[0;32mreturn\u001b[0m \u001b[0;32mFalse\u001b[0m\u001b[0;34m\u001b[0m\u001b[0;34m\u001b[0m\u001b[0m\n\u001b[1;32m    858\u001b[0m             \u001b[0;32melse\u001b[0m\u001b[0;34m:\u001b[0m\u001b[0;34m\u001b[0m\u001b[0;34m\u001b[0m\u001b[0m\n\u001b[0;32m--> 859\u001b[0;31m                 \u001b[0mself\u001b[0m\u001b[0;34m.\u001b[0m\u001b[0m_dispatch\u001b[0m\u001b[0;34m(\u001b[0m\u001b[0mtasks\u001b[0m\u001b[0;34m)\u001b[0m\u001b[0;34m\u001b[0m\u001b[0;34m\u001b[0m\u001b[0m\n\u001b[0m\u001b[1;32m    860\u001b[0m                 \u001b[0;32mreturn\u001b[0m \u001b[0;32mTrue\u001b[0m\u001b[0;34m\u001b[0m\u001b[0;34m\u001b[0m\u001b[0m\n\u001b[1;32m    861\u001b[0m \u001b[0;34m\u001b[0m\u001b[0m\n",
      "\u001b[0;32m~/opt/anaconda3/lib/python3.7/site-packages/joblib/parallel.py\u001b[0m in \u001b[0;36m_dispatch\u001b[0;34m(self, batch)\u001b[0m\n\u001b[1;32m    775\u001b[0m         \u001b[0;32mwith\u001b[0m \u001b[0mself\u001b[0m\u001b[0;34m.\u001b[0m\u001b[0m_lock\u001b[0m\u001b[0;34m:\u001b[0m\u001b[0;34m\u001b[0m\u001b[0;34m\u001b[0m\u001b[0m\n\u001b[1;32m    776\u001b[0m             \u001b[0mjob_idx\u001b[0m \u001b[0;34m=\u001b[0m \u001b[0mlen\u001b[0m\u001b[0;34m(\u001b[0m\u001b[0mself\u001b[0m\u001b[0;34m.\u001b[0m\u001b[0m_jobs\u001b[0m\u001b[0;34m)\u001b[0m\u001b[0;34m\u001b[0m\u001b[0;34m\u001b[0m\u001b[0m\n\u001b[0;32m--> 777\u001b[0;31m             \u001b[0mjob\u001b[0m \u001b[0;34m=\u001b[0m \u001b[0mself\u001b[0m\u001b[0;34m.\u001b[0m\u001b[0m_backend\u001b[0m\u001b[0;34m.\u001b[0m\u001b[0mapply_async\u001b[0m\u001b[0;34m(\u001b[0m\u001b[0mbatch\u001b[0m\u001b[0;34m,\u001b[0m \u001b[0mcallback\u001b[0m\u001b[0;34m=\u001b[0m\u001b[0mcb\u001b[0m\u001b[0;34m)\u001b[0m\u001b[0;34m\u001b[0m\u001b[0;34m\u001b[0m\u001b[0m\n\u001b[0m\u001b[1;32m    778\u001b[0m             \u001b[0;31m# A job can complete so quickly than its callback is\u001b[0m\u001b[0;34m\u001b[0m\u001b[0;34m\u001b[0m\u001b[0;34m\u001b[0m\u001b[0m\n\u001b[1;32m    779\u001b[0m             \u001b[0;31m# called before we get here, causing self._jobs to\u001b[0m\u001b[0;34m\u001b[0m\u001b[0;34m\u001b[0m\u001b[0;34m\u001b[0m\u001b[0m\n",
      "\u001b[0;32m~/opt/anaconda3/lib/python3.7/site-packages/joblib/_parallel_backends.py\u001b[0m in \u001b[0;36mapply_async\u001b[0;34m(self, func, callback)\u001b[0m\n\u001b[1;32m    206\u001b[0m     \u001b[0;32mdef\u001b[0m \u001b[0mapply_async\u001b[0m\u001b[0;34m(\u001b[0m\u001b[0mself\u001b[0m\u001b[0;34m,\u001b[0m \u001b[0mfunc\u001b[0m\u001b[0;34m,\u001b[0m \u001b[0mcallback\u001b[0m\u001b[0;34m=\u001b[0m\u001b[0;32mNone\u001b[0m\u001b[0;34m)\u001b[0m\u001b[0;34m:\u001b[0m\u001b[0;34m\u001b[0m\u001b[0;34m\u001b[0m\u001b[0m\n\u001b[1;32m    207\u001b[0m         \u001b[0;34m\"\"\"Schedule a func to be run\"\"\"\u001b[0m\u001b[0;34m\u001b[0m\u001b[0;34m\u001b[0m\u001b[0m\n\u001b[0;32m--> 208\u001b[0;31m         \u001b[0mresult\u001b[0m \u001b[0;34m=\u001b[0m \u001b[0mImmediateResult\u001b[0m\u001b[0;34m(\u001b[0m\u001b[0mfunc\u001b[0m\u001b[0;34m)\u001b[0m\u001b[0;34m\u001b[0m\u001b[0;34m\u001b[0m\u001b[0m\n\u001b[0m\u001b[1;32m    209\u001b[0m         \u001b[0;32mif\u001b[0m \u001b[0mcallback\u001b[0m\u001b[0;34m:\u001b[0m\u001b[0;34m\u001b[0m\u001b[0;34m\u001b[0m\u001b[0m\n\u001b[1;32m    210\u001b[0m             \u001b[0mcallback\u001b[0m\u001b[0;34m(\u001b[0m\u001b[0mresult\u001b[0m\u001b[0;34m)\u001b[0m\u001b[0;34m\u001b[0m\u001b[0;34m\u001b[0m\u001b[0m\n",
      "\u001b[0;32m~/opt/anaconda3/lib/python3.7/site-packages/joblib/_parallel_backends.py\u001b[0m in \u001b[0;36m__init__\u001b[0;34m(self, batch)\u001b[0m\n\u001b[1;32m    570\u001b[0m         \u001b[0;31m# Don't delay the application, to avoid keeping the input\u001b[0m\u001b[0;34m\u001b[0m\u001b[0;34m\u001b[0m\u001b[0;34m\u001b[0m\u001b[0m\n\u001b[1;32m    571\u001b[0m         \u001b[0;31m# arguments in memory\u001b[0m\u001b[0;34m\u001b[0m\u001b[0;34m\u001b[0m\u001b[0;34m\u001b[0m\u001b[0m\n\u001b[0;32m--> 572\u001b[0;31m         \u001b[0mself\u001b[0m\u001b[0;34m.\u001b[0m\u001b[0mresults\u001b[0m \u001b[0;34m=\u001b[0m \u001b[0mbatch\u001b[0m\u001b[0;34m(\u001b[0m\u001b[0;34m)\u001b[0m\u001b[0;34m\u001b[0m\u001b[0;34m\u001b[0m\u001b[0m\n\u001b[0m\u001b[1;32m    573\u001b[0m \u001b[0;34m\u001b[0m\u001b[0m\n\u001b[1;32m    574\u001b[0m     \u001b[0;32mdef\u001b[0m \u001b[0mget\u001b[0m\u001b[0;34m(\u001b[0m\u001b[0mself\u001b[0m\u001b[0;34m)\u001b[0m\u001b[0;34m:\u001b[0m\u001b[0;34m\u001b[0m\u001b[0;34m\u001b[0m\u001b[0m\n",
      "\u001b[0;32m~/opt/anaconda3/lib/python3.7/site-packages/joblib/parallel.py\u001b[0m in \u001b[0;36m__call__\u001b[0;34m(self)\u001b[0m\n\u001b[1;32m    261\u001b[0m         \u001b[0;32mwith\u001b[0m \u001b[0mparallel_backend\u001b[0m\u001b[0;34m(\u001b[0m\u001b[0mself\u001b[0m\u001b[0;34m.\u001b[0m\u001b[0m_backend\u001b[0m\u001b[0;34m,\u001b[0m \u001b[0mn_jobs\u001b[0m\u001b[0;34m=\u001b[0m\u001b[0mself\u001b[0m\u001b[0;34m.\u001b[0m\u001b[0m_n_jobs\u001b[0m\u001b[0;34m)\u001b[0m\u001b[0;34m:\u001b[0m\u001b[0;34m\u001b[0m\u001b[0;34m\u001b[0m\u001b[0m\n\u001b[1;32m    262\u001b[0m             return [func(*args, **kwargs)\n\u001b[0;32m--> 263\u001b[0;31m                     for func, args, kwargs in self.items]\n\u001b[0m\u001b[1;32m    264\u001b[0m \u001b[0;34m\u001b[0m\u001b[0m\n\u001b[1;32m    265\u001b[0m     \u001b[0;32mdef\u001b[0m \u001b[0m__reduce__\u001b[0m\u001b[0;34m(\u001b[0m\u001b[0mself\u001b[0m\u001b[0;34m)\u001b[0m\u001b[0;34m:\u001b[0m\u001b[0;34m\u001b[0m\u001b[0;34m\u001b[0m\u001b[0m\n",
      "\u001b[0;32m~/opt/anaconda3/lib/python3.7/site-packages/joblib/parallel.py\u001b[0m in \u001b[0;36m<listcomp>\u001b[0;34m(.0)\u001b[0m\n\u001b[1;32m    261\u001b[0m         \u001b[0;32mwith\u001b[0m \u001b[0mparallel_backend\u001b[0m\u001b[0;34m(\u001b[0m\u001b[0mself\u001b[0m\u001b[0;34m.\u001b[0m\u001b[0m_backend\u001b[0m\u001b[0;34m,\u001b[0m \u001b[0mn_jobs\u001b[0m\u001b[0;34m=\u001b[0m\u001b[0mself\u001b[0m\u001b[0;34m.\u001b[0m\u001b[0m_n_jobs\u001b[0m\u001b[0;34m)\u001b[0m\u001b[0;34m:\u001b[0m\u001b[0;34m\u001b[0m\u001b[0;34m\u001b[0m\u001b[0m\n\u001b[1;32m    262\u001b[0m             return [func(*args, **kwargs)\n\u001b[0;32m--> 263\u001b[0;31m                     for func, args, kwargs in self.items]\n\u001b[0m\u001b[1;32m    264\u001b[0m \u001b[0;34m\u001b[0m\u001b[0m\n\u001b[1;32m    265\u001b[0m     \u001b[0;32mdef\u001b[0m \u001b[0m__reduce__\u001b[0m\u001b[0;34m(\u001b[0m\u001b[0mself\u001b[0m\u001b[0;34m)\u001b[0m\u001b[0;34m:\u001b[0m\u001b[0;34m\u001b[0m\u001b[0;34m\u001b[0m\u001b[0m\n",
      "\u001b[0;32m~/opt/anaconda3/lib/python3.7/site-packages/sklearn/utils/fixes.py\u001b[0m in \u001b[0;36m__call__\u001b[0;34m(self, *args, **kwargs)\u001b[0m\n\u001b[1;32m    220\u001b[0m     \u001b[0;32mdef\u001b[0m \u001b[0m__call__\u001b[0m\u001b[0;34m(\u001b[0m\u001b[0mself\u001b[0m\u001b[0;34m,\u001b[0m \u001b[0;34m*\u001b[0m\u001b[0margs\u001b[0m\u001b[0;34m,\u001b[0m \u001b[0;34m**\u001b[0m\u001b[0mkwargs\u001b[0m\u001b[0;34m)\u001b[0m\u001b[0;34m:\u001b[0m\u001b[0;34m\u001b[0m\u001b[0;34m\u001b[0m\u001b[0m\n\u001b[1;32m    221\u001b[0m         \u001b[0;32mwith\u001b[0m \u001b[0mconfig_context\u001b[0m\u001b[0;34m(\u001b[0m\u001b[0;34m**\u001b[0m\u001b[0mself\u001b[0m\u001b[0;34m.\u001b[0m\u001b[0mconfig\u001b[0m\u001b[0;34m)\u001b[0m\u001b[0;34m:\u001b[0m\u001b[0;34m\u001b[0m\u001b[0;34m\u001b[0m\u001b[0m\n\u001b[0;32m--> 222\u001b[0;31m             \u001b[0;32mreturn\u001b[0m \u001b[0mself\u001b[0m\u001b[0;34m.\u001b[0m\u001b[0mfunction\u001b[0m\u001b[0;34m(\u001b[0m\u001b[0;34m*\u001b[0m\u001b[0margs\u001b[0m\u001b[0;34m,\u001b[0m \u001b[0;34m**\u001b[0m\u001b[0mkwargs\u001b[0m\u001b[0;34m)\u001b[0m\u001b[0;34m\u001b[0m\u001b[0;34m\u001b[0m\u001b[0m\n\u001b[0m",
      "\u001b[0;32m~/opt/anaconda3/lib/python3.7/site-packages/sklearn/model_selection/_validation.py\u001b[0m in \u001b[0;36m_fit_and_score\u001b[0;34m(estimator, X, y, scorer, train, test, verbose, parameters, fit_params, return_train_score, return_parameters, return_n_test_samples, return_times, return_estimator, split_progress, candidate_progress, error_score)\u001b[0m\n\u001b[1;32m    596\u001b[0m             \u001b[0mestimator\u001b[0m\u001b[0;34m.\u001b[0m\u001b[0mfit\u001b[0m\u001b[0;34m(\u001b[0m\u001b[0mX_train\u001b[0m\u001b[0;34m,\u001b[0m \u001b[0;34m**\u001b[0m\u001b[0mfit_params\u001b[0m\u001b[0;34m)\u001b[0m\u001b[0;34m\u001b[0m\u001b[0;34m\u001b[0m\u001b[0m\n\u001b[1;32m    597\u001b[0m         \u001b[0;32melse\u001b[0m\u001b[0;34m:\u001b[0m\u001b[0;34m\u001b[0m\u001b[0;34m\u001b[0m\u001b[0m\n\u001b[0;32m--> 598\u001b[0;31m             \u001b[0mestimator\u001b[0m\u001b[0;34m.\u001b[0m\u001b[0mfit\u001b[0m\u001b[0;34m(\u001b[0m\u001b[0mX_train\u001b[0m\u001b[0;34m,\u001b[0m \u001b[0my_train\u001b[0m\u001b[0;34m,\u001b[0m \u001b[0;34m**\u001b[0m\u001b[0mfit_params\u001b[0m\u001b[0;34m)\u001b[0m\u001b[0;34m\u001b[0m\u001b[0;34m\u001b[0m\u001b[0m\n\u001b[0m\u001b[1;32m    599\u001b[0m \u001b[0;34m\u001b[0m\u001b[0m\n\u001b[1;32m    600\u001b[0m     \u001b[0;32mexcept\u001b[0m \u001b[0mException\u001b[0m \u001b[0;32mas\u001b[0m \u001b[0me\u001b[0m\u001b[0;34m:\u001b[0m\u001b[0;34m\u001b[0m\u001b[0;34m\u001b[0m\u001b[0m\n",
      "\u001b[0;32m~/opt/anaconda3/lib/python3.7/site-packages/sklearn/feature_selection/_rfe.py\u001b[0m in \u001b[0;36mfit\u001b[0;34m(self, X, y)\u001b[0m\n\u001b[1;32m    182\u001b[0m             \u001b[0mThe\u001b[0m \u001b[0mtarget\u001b[0m \u001b[0mvalues\u001b[0m\u001b[0;34m.\u001b[0m\u001b[0;34m\u001b[0m\u001b[0;34m\u001b[0m\u001b[0m\n\u001b[1;32m    183\u001b[0m         \"\"\"\n\u001b[0;32m--> 184\u001b[0;31m         \u001b[0;32mreturn\u001b[0m \u001b[0mself\u001b[0m\u001b[0;34m.\u001b[0m\u001b[0m_fit\u001b[0m\u001b[0;34m(\u001b[0m\u001b[0mX\u001b[0m\u001b[0;34m,\u001b[0m \u001b[0my\u001b[0m\u001b[0;34m)\u001b[0m\u001b[0;34m\u001b[0m\u001b[0;34m\u001b[0m\u001b[0m\n\u001b[0m\u001b[1;32m    185\u001b[0m \u001b[0;34m\u001b[0m\u001b[0m\n\u001b[1;32m    186\u001b[0m     \u001b[0;32mdef\u001b[0m \u001b[0m_fit\u001b[0m\u001b[0;34m(\u001b[0m\u001b[0mself\u001b[0m\u001b[0;34m,\u001b[0m \u001b[0mX\u001b[0m\u001b[0;34m,\u001b[0m \u001b[0my\u001b[0m\u001b[0;34m,\u001b[0m \u001b[0mstep_score\u001b[0m\u001b[0;34m=\u001b[0m\u001b[0;32mNone\u001b[0m\u001b[0;34m)\u001b[0m\u001b[0;34m:\u001b[0m\u001b[0;34m\u001b[0m\u001b[0;34m\u001b[0m\u001b[0m\n",
      "\u001b[0;32m~/opt/anaconda3/lib/python3.7/site-packages/sklearn/feature_selection/_rfe.py\u001b[0m in \u001b[0;36m_fit\u001b[0;34m(self, X, y, step_score)\u001b[0m\n\u001b[1;32m    239\u001b[0m                 \u001b[0mprint\u001b[0m\u001b[0;34m(\u001b[0m\u001b[0;34m\"Fitting estimator with %d features.\"\u001b[0m \u001b[0;34m%\u001b[0m \u001b[0mnp\u001b[0m\u001b[0;34m.\u001b[0m\u001b[0msum\u001b[0m\u001b[0;34m(\u001b[0m\u001b[0msupport_\u001b[0m\u001b[0;34m)\u001b[0m\u001b[0;34m)\u001b[0m\u001b[0;34m\u001b[0m\u001b[0;34m\u001b[0m\u001b[0m\n\u001b[1;32m    240\u001b[0m \u001b[0;34m\u001b[0m\u001b[0m\n\u001b[0;32m--> 241\u001b[0;31m             \u001b[0mestimator\u001b[0m\u001b[0;34m.\u001b[0m\u001b[0mfit\u001b[0m\u001b[0;34m(\u001b[0m\u001b[0mX\u001b[0m\u001b[0;34m[\u001b[0m\u001b[0;34m:\u001b[0m\u001b[0;34m,\u001b[0m \u001b[0mfeatures\u001b[0m\u001b[0;34m]\u001b[0m\u001b[0;34m,\u001b[0m \u001b[0my\u001b[0m\u001b[0;34m)\u001b[0m\u001b[0;34m\u001b[0m\u001b[0;34m\u001b[0m\u001b[0m\n\u001b[0m\u001b[1;32m    242\u001b[0m \u001b[0;34m\u001b[0m\u001b[0m\n\u001b[1;32m    243\u001b[0m             \u001b[0;31m# Get importance and rank them\u001b[0m\u001b[0;34m\u001b[0m\u001b[0;34m\u001b[0m\u001b[0;34m\u001b[0m\u001b[0m\n",
      "\u001b[0;31mKeyboardInterrupt\u001b[0m: "
     ]
    }
   ],
   "source": [
    "#specify range of hyperparameters to tune\n",
    "#hyper_params = [{'n_features_to_select': list(range(1,109))}]\n",
    "   \n",
    "\n",
    "# GridSearchCV()\n",
    "#pcamodel_cv = model_selection.GridSearchCV(estimator = rfe, \n",
    "                        #param_grid = hyper_params, \n",
    "                        #scoring=('neg_mean_squared_error'), \n",
    "                        #cv = kf_5, \n",
    "                        #verbose = 10,\n",
    "                        #return_train_score=False)      \n",
    "\n",
    "# fit the model\n",
    "#pcamodel_cv.fit(x_reduced, y_train)              "
   ]
  },
  {
   "cell_type": "code",
   "execution_count": 155,
   "metadata": {},
   "outputs": [
    {
     "name": "stdout",
     "output_type": "stream",
     "text": [
      "{'n_features_to_select': 1}\n",
      "RFE(estimator=LinearRegression(), n_features_to_select=1)\n",
      "-5.584912849821059\n",
      "R2 score: -2115799598738531016868102144.00\n",
      "RMSE: 107364264450810.765625\n"
     ]
    }
   ],
   "source": [
    "#print(pcamodel_cv.best_params_)\n",
    "#print(pcamodel_cv.best_estimator_)\n",
    "#print(pcamodel_cv.best_score_)\n",
    "\n",
    "#pcamodel_cv_y_pred_lrgs = pcamodel_cv.predict(x_test)\n",
    "#print('R2 score: %.2f' % metrics.r2_score(y_test, pcamodel_cv_y_pred_lrgs))\n",
    "#pcamodel_cv_lr_rmse = np.sqrt(metrics.mean_squared_error(y_test, pcamodel_cv_y_pred_lrgs))\n",
    "#print(\"RMSE: %f\" % (pcamodel_cv_lr_rmse))"
   ]
  },
  {
   "cell_type": "code",
   "execution_count": 121,
   "metadata": {},
   "outputs": [
    {
     "data": {
      "text/html": [
       "<div>\n",
       "<style scoped>\n",
       "    .dataframe tbody tr th:only-of-type {\n",
       "        vertical-align: middle;\n",
       "    }\n",
       "\n",
       "    .dataframe tbody tr th {\n",
       "        vertical-align: top;\n",
       "    }\n",
       "\n",
       "    .dataframe thead th {\n",
       "        text-align: right;\n",
       "    }\n",
       "</style>\n",
       "<table border=\"1\" class=\"dataframe\">\n",
       "  <thead>\n",
       "    <tr style=\"text-align: right;\">\n",
       "      <th></th>\n",
       "      <th>mean_fit_time</th>\n",
       "      <th>std_fit_time</th>\n",
       "      <th>mean_score_time</th>\n",
       "      <th>std_score_time</th>\n",
       "      <th>param_n_features_to_select</th>\n",
       "      <th>params</th>\n",
       "      <th>split0_test_score</th>\n",
       "      <th>split1_test_score</th>\n",
       "      <th>mean_test_score</th>\n",
       "      <th>std_test_score</th>\n",
       "      <th>rank_test_score</th>\n",
       "      <th>split0_train_score</th>\n",
       "      <th>split1_train_score</th>\n",
       "      <th>mean_train_score</th>\n",
       "      <th>std_train_score</th>\n",
       "    </tr>\n",
       "  </thead>\n",
       "  <tbody>\n",
       "    <tr>\n",
       "      <th>0</th>\n",
       "      <td>1.272021</td>\n",
       "      <td>0.014075</td>\n",
       "      <td>0.001680</td>\n",
       "      <td>0.000011</td>\n",
       "      <td>1</td>\n",
       "      <td>{'n_features_to_select': 1}</td>\n",
       "      <td>-5.604653</td>\n",
       "      <td>-5.565173e+00</td>\n",
       "      <td>-5.584913e+00</td>\n",
       "      <td>1.974017e-02</td>\n",
       "      <td>1</td>\n",
       "      <td>-5.563567</td>\n",
       "      <td>-5.600696</td>\n",
       "      <td>-5.582132</td>\n",
       "      <td>0.018564</td>\n",
       "    </tr>\n",
       "    <tr>\n",
       "      <th>1</th>\n",
       "      <td>1.301380</td>\n",
       "      <td>0.016215</td>\n",
       "      <td>0.001755</td>\n",
       "      <td>0.000118</td>\n",
       "      <td>2</td>\n",
       "      <td>{'n_features_to_select': 2}</td>\n",
       "      <td>-5.605898</td>\n",
       "      <td>-5.565287e+00</td>\n",
       "      <td>-5.585592e+00</td>\n",
       "      <td>2.030564e-02</td>\n",
       "      <td>2</td>\n",
       "      <td>-5.563325</td>\n",
       "      <td>-5.600549</td>\n",
       "      <td>-5.581937</td>\n",
       "      <td>0.018612</td>\n",
       "    </tr>\n",
       "    <tr>\n",
       "      <th>2</th>\n",
       "      <td>1.399933</td>\n",
       "      <td>0.048747</td>\n",
       "      <td>0.001919</td>\n",
       "      <td>0.000073</td>\n",
       "      <td>3</td>\n",
       "      <td>{'n_features_to_select': 3}</td>\n",
       "      <td>-5.606872</td>\n",
       "      <td>-5.565222e+00</td>\n",
       "      <td>-5.586047e+00</td>\n",
       "      <td>2.082457e-02</td>\n",
       "      <td>3</td>\n",
       "      <td>-5.563302</td>\n",
       "      <td>-5.600467</td>\n",
       "      <td>-5.581885</td>\n",
       "      <td>0.018583</td>\n",
       "    </tr>\n",
       "    <tr>\n",
       "      <th>3</th>\n",
       "      <td>1.370067</td>\n",
       "      <td>0.069514</td>\n",
       "      <td>0.001933</td>\n",
       "      <td>0.000248</td>\n",
       "      <td>4</td>\n",
       "      <td>{'n_features_to_select': 4}</td>\n",
       "      <td>-5.901469</td>\n",
       "      <td>-5.565328e+00</td>\n",
       "      <td>-5.733399e+00</td>\n",
       "      <td>1.680704e-01</td>\n",
       "      <td>4</td>\n",
       "      <td>-5.556644</td>\n",
       "      <td>-5.599994</td>\n",
       "      <td>-5.578319</td>\n",
       "      <td>0.021675</td>\n",
       "    </tr>\n",
       "    <tr>\n",
       "      <th>4</th>\n",
       "      <td>1.328902</td>\n",
       "      <td>0.012599</td>\n",
       "      <td>0.002155</td>\n",
       "      <td>0.000161</td>\n",
       "      <td>5</td>\n",
       "      <td>{'n_features_to_select': 5}</td>\n",
       "      <td>-6.855575</td>\n",
       "      <td>-5.565096e+00</td>\n",
       "      <td>-6.210335e+00</td>\n",
       "      <td>6.452394e-01</td>\n",
       "      <td>5</td>\n",
       "      <td>-5.551915</td>\n",
       "      <td>-5.599453</td>\n",
       "      <td>-5.575684</td>\n",
       "      <td>0.023769</td>\n",
       "    </tr>\n",
       "    <tr>\n",
       "      <th>...</th>\n",
       "      <td>...</td>\n",
       "      <td>...</td>\n",
       "      <td>...</td>\n",
       "      <td>...</td>\n",
       "      <td>...</td>\n",
       "      <td>...</td>\n",
       "      <td>...</td>\n",
       "      <td>...</td>\n",
       "      <td>...</td>\n",
       "      <td>...</td>\n",
       "      <td>...</td>\n",
       "      <td>...</td>\n",
       "      <td>...</td>\n",
       "      <td>...</td>\n",
       "      <td>...</td>\n",
       "    </tr>\n",
       "    <tr>\n",
       "      <th>103</th>\n",
       "      <td>0.153647</td>\n",
       "      <td>0.000343</td>\n",
       "      <td>0.008685</td>\n",
       "      <td>0.000073</td>\n",
       "      <td>104</td>\n",
       "      <td>{'n_features_to_select': 104}</td>\n",
       "      <td>-5.198857</td>\n",
       "      <td>-1.706050e+03</td>\n",
       "      <td>-8.556246e+02</td>\n",
       "      <td>8.504258e+02</td>\n",
       "      <td>104</td>\n",
       "      <td>-5.048229</td>\n",
       "      <td>-5.115831</td>\n",
       "      <td>-5.082030</td>\n",
       "      <td>0.033801</td>\n",
       "    </tr>\n",
       "    <tr>\n",
       "      <th>104</th>\n",
       "      <td>0.129772</td>\n",
       "      <td>0.000599</td>\n",
       "      <td>0.008778</td>\n",
       "      <td>0.000136</td>\n",
       "      <td>105</td>\n",
       "      <td>{'n_features_to_select': 105}</td>\n",
       "      <td>-5.198633</td>\n",
       "      <td>-2.642627e+03</td>\n",
       "      <td>-1.323913e+03</td>\n",
       "      <td>1.318714e+03</td>\n",
       "      <td>105</td>\n",
       "      <td>-5.048226</td>\n",
       "      <td>-5.115850</td>\n",
       "      <td>-5.082038</td>\n",
       "      <td>0.033812</td>\n",
       "    </tr>\n",
       "    <tr>\n",
       "      <th>105</th>\n",
       "      <td>0.104284</td>\n",
       "      <td>0.000594</td>\n",
       "      <td>0.009180</td>\n",
       "      <td>0.000140</td>\n",
       "      <td>106</td>\n",
       "      <td>{'n_features_to_select': 106}</td>\n",
       "      <td>-5.198854</td>\n",
       "      <td>-8.139198e+03</td>\n",
       "      <td>-4.072198e+03</td>\n",
       "      <td>4.066999e+03</td>\n",
       "      <td>106</td>\n",
       "      <td>-5.048224</td>\n",
       "      <td>-5.115098</td>\n",
       "      <td>-5.081661</td>\n",
       "      <td>0.033437</td>\n",
       "    </tr>\n",
       "    <tr>\n",
       "      <th>106</th>\n",
       "      <td>0.075844</td>\n",
       "      <td>0.000165</td>\n",
       "      <td>0.009597</td>\n",
       "      <td>0.000144</td>\n",
       "      <td>107</td>\n",
       "      <td>{'n_features_to_select': 107}</td>\n",
       "      <td>-5.203325</td>\n",
       "      <td>-1.318815e+05</td>\n",
       "      <td>-6.594337e+04</td>\n",
       "      <td>6.593817e+04</td>\n",
       "      <td>107</td>\n",
       "      <td>-5.052584</td>\n",
       "      <td>-5.117019</td>\n",
       "      <td>-5.084802</td>\n",
       "      <td>0.032217</td>\n",
       "    </tr>\n",
       "    <tr>\n",
       "      <th>107</th>\n",
       "      <td>0.043129</td>\n",
       "      <td>0.001323</td>\n",
       "      <td>0.009722</td>\n",
       "      <td>0.000079</td>\n",
       "      <td>108</td>\n",
       "      <td>{'n_features_to_select': 108}</td>\n",
       "      <td>-5.198732</td>\n",
       "      <td>-2.003451e+20</td>\n",
       "      <td>-1.001725e+20</td>\n",
       "      <td>1.001725e+20</td>\n",
       "      <td>108</td>\n",
       "      <td>-5.048219</td>\n",
       "      <td>-5.115857</td>\n",
       "      <td>-5.082038</td>\n",
       "      <td>0.033819</td>\n",
       "    </tr>\n",
       "  </tbody>\n",
       "</table>\n",
       "<p>108 rows × 15 columns</p>\n",
       "</div>"
      ],
      "text/plain": [
       "     mean_fit_time  std_fit_time  mean_score_time  std_score_time  \\\n",
       "0         1.272021      0.014075         0.001680        0.000011   \n",
       "1         1.301380      0.016215         0.001755        0.000118   \n",
       "2         1.399933      0.048747         0.001919        0.000073   \n",
       "3         1.370067      0.069514         0.001933        0.000248   \n",
       "4         1.328902      0.012599         0.002155        0.000161   \n",
       "..             ...           ...              ...             ...   \n",
       "103       0.153647      0.000343         0.008685        0.000073   \n",
       "104       0.129772      0.000599         0.008778        0.000136   \n",
       "105       0.104284      0.000594         0.009180        0.000140   \n",
       "106       0.075844      0.000165         0.009597        0.000144   \n",
       "107       0.043129      0.001323         0.009722        0.000079   \n",
       "\n",
       "    param_n_features_to_select                         params  \\\n",
       "0                            1    {'n_features_to_select': 1}   \n",
       "1                            2    {'n_features_to_select': 2}   \n",
       "2                            3    {'n_features_to_select': 3}   \n",
       "3                            4    {'n_features_to_select': 4}   \n",
       "4                            5    {'n_features_to_select': 5}   \n",
       "..                         ...                            ...   \n",
       "103                        104  {'n_features_to_select': 104}   \n",
       "104                        105  {'n_features_to_select': 105}   \n",
       "105                        106  {'n_features_to_select': 106}   \n",
       "106                        107  {'n_features_to_select': 107}   \n",
       "107                        108  {'n_features_to_select': 108}   \n",
       "\n",
       "     split0_test_score  split1_test_score  mean_test_score  std_test_score  \\\n",
       "0            -5.604653      -5.565173e+00    -5.584913e+00    1.974017e-02   \n",
       "1            -5.605898      -5.565287e+00    -5.585592e+00    2.030564e-02   \n",
       "2            -5.606872      -5.565222e+00    -5.586047e+00    2.082457e-02   \n",
       "3            -5.901469      -5.565328e+00    -5.733399e+00    1.680704e-01   \n",
       "4            -6.855575      -5.565096e+00    -6.210335e+00    6.452394e-01   \n",
       "..                 ...                ...              ...             ...   \n",
       "103          -5.198857      -1.706050e+03    -8.556246e+02    8.504258e+02   \n",
       "104          -5.198633      -2.642627e+03    -1.323913e+03    1.318714e+03   \n",
       "105          -5.198854      -8.139198e+03    -4.072198e+03    4.066999e+03   \n",
       "106          -5.203325      -1.318815e+05    -6.594337e+04    6.593817e+04   \n",
       "107          -5.198732      -2.003451e+20    -1.001725e+20    1.001725e+20   \n",
       "\n",
       "     rank_test_score  split0_train_score  split1_train_score  \\\n",
       "0                  1           -5.563567           -5.600696   \n",
       "1                  2           -5.563325           -5.600549   \n",
       "2                  3           -5.563302           -5.600467   \n",
       "3                  4           -5.556644           -5.599994   \n",
       "4                  5           -5.551915           -5.599453   \n",
       "..               ...                 ...                 ...   \n",
       "103              104           -5.048229           -5.115831   \n",
       "104              105           -5.048226           -5.115850   \n",
       "105              106           -5.048224           -5.115098   \n",
       "106              107           -5.052584           -5.117019   \n",
       "107              108           -5.048219           -5.115857   \n",
       "\n",
       "     mean_train_score  std_train_score  \n",
       "0           -5.582132         0.018564  \n",
       "1           -5.581937         0.018612  \n",
       "2           -5.581885         0.018583  \n",
       "3           -5.578319         0.021675  \n",
       "4           -5.575684         0.023769  \n",
       "..                ...              ...  \n",
       "103         -5.082030         0.033801  \n",
       "104         -5.082038         0.033812  \n",
       "105         -5.081661         0.033437  \n",
       "106         -5.084802         0.032217  \n",
       "107         -5.082038         0.033819  \n",
       "\n",
       "[108 rows x 15 columns]"
      ]
     },
     "execution_count": 121,
     "metadata": {},
     "output_type": "execute_result"
    }
   ],
   "source": [
    "#pcacv_results = pd.DataFrame(pcamodel_cv.cv_results_)\n",
    "#pcacv_results"
   ]
  },
  {
   "cell_type": "code",
   "execution_count": 122,
   "metadata": {},
   "outputs": [
    {
     "data": {
      "text/plain": [
       "<matplotlib.legend.Legend at 0x7fc9b5815690>"
      ]
     },
     "execution_count": 122,
     "metadata": {},
     "output_type": "execute_result"
    },
    {
     "data": {
      "image/png": "[encoded data removed]",
      "text/plain": [
       "<Figure size 1152x432 with 1 Axes>"
      ]
     },
     "metadata": {
      "needs_background": "light"
     },
     "output_type": "display_data"
    }
   ],
   "source": [
    "# plotting cv results\n",
    "#plt.figure(figsize=(16,6))\n",
    "\n",
    "#plt.plot(cv_results[\"param_n_features_to_select\"], pcacv_results[\"mean_test_score\"])\n",
    "#plt.plot(pcacv_results[\"param_n_features_to_select\"], pcacv_results[\"mean_train_score\"])\n",
    "#plt.xlabel('number of features')\n",
    "#plt.ylabel('r-squared')\n",
    "#plt.title(\"Optimal Number of Features\")\n",
    "#plt.legend(['test score', 'train score'], loc='upper left')"
   ]
  },
  {
   "cell_type": "code",
   "execution_count": 123,
   "metadata": {},
   "outputs": [
    {
     "data": {
      "text/plain": [
       "Text(0, 0.5, 'cumulative explained variance')"
      ]
     },
     "execution_count": 123,
     "metadata": {},
     "output_type": "execute_result"
    },
    {
     "data": {
      "image/png": "[encoded data removed]",
      "text/plain": [
       "<Figure size 432x288 with 1 Axes>"
      ]
     },
     "metadata": {
      "needs_background": "light"
     },
     "output_type": "display_data"
    }
   ],
   "source": [
    "#plt.plot(np.cumsum(pca.explained_variance_ratio_))\n",
    "#plt.xlabel('number of components')\n",
    "#plt.ylabel('cumulative explained variance')"
   ]
  },
  {
   "cell_type": "markdown",
   "metadata": {},
   "source": [
    "### 4.1.2. Ensemble Models"
   ]
  },
  {
   "cell_type": "code",
   "execution_count": null,
   "metadata": {},
   "outputs": [],
   "source": [
    "def evaluate_model(model, test_features, test_labels):\n",
    "    predictions = model.predict(test_features)\n",
    "    errors = abs(predictions-test_labels)\n",
    "    mse = metrics.mean_squared_error(test_labels,predictions)\n",
    "    rmse = np.sqrt(mse)\n",
    "    \n",
    "    mape = 100 * np.mean(errors / test_labels)\n",
    "    accuracy = 100 - mape\n",
    "    rsquare = model.score(test_features,test_labels)\n",
    "    importance = model.feature_importances_\n",
    "\n",
    "    \n",
    "    print('Model Preformance')\n",
    "    print('Average Error: {:0.4f} degrees.'.format(np.mean(errors)))\n",
    "    print('Accuracy = {:0.2f}%,'.format(accuracy))\n",
    "    print('rmse',rmse)\n",
    "    print('mse',mse)\n",
    "    print('R square:', rsquare)\n",
    "    \n",
    "    print(\"__________\")\n",
    "    print(\"Top 5 Features\")\n",
    "    feature_dict = {}\n",
    "    for i,v in enumerate(importance):\n",
    "        #print('Feature %0d, Score: %.5f' % (i,v))\n",
    "        feature_dict[i]=v\n",
    "    feature_names = test_features.columns\n",
    "    sorted_features = sorted(feature_dict.items(), key=lambda x: x[1], reverse=True)\n",
    "    \n",
    "    for i in sorted_features[:5]:\n",
    "        print(feature_names[i[0]],i[1])\n",
    "        \n",
    "    plt.bar([x for x in range(len(importance))],importance)\n",
    "    plt.show()\n",
    "    \n",
    "    \n",
    "    \n",
    "    return accuracy"
   ]
  },
  {
   "cell_type": "markdown",
   "metadata": {},
   "source": [
    "### 4.1.2.1. Random Forest"
   ]
  },
  {
   "cell_type": "code",
   "execution_count": null,
   "metadata": {},
   "outputs": [],
   "source": [
    "from sklearn.ensemble import RandomForestRegressor\n",
    "from sklearn.model_selection import GridSearchCV\n",
    "from sklearn.metrics import mean_squared_error\n",
    "from sklearn.metrics import r2_score\n",
    "# Create the parameter grid based on the results of random search \n",
    "param_grid = {\n",
    "    'bootstrap': [True],\n",
    "    'max_features': [27, 30, 33],\n",
    "    'oob_score': [True],\n",
    "    'n_estimators': [2250, 2500, 2750]\n",
    "}\n",
    "# Create a based model\n",
    "rfgs = RandomForestRegressor()\n",
    "# Instantiate the grid search model\n",
    "grid_search = GridSearchCV(estimator = rfgs, param_grid = param_grid, cv = 3, n_jobs = -1, verbose = 3)\n",
    "#wrapper_gs = RegressorChain(grid_search)\n",
    "grid_search.fit(x_train, y_train)\n",
    "\n",
    "#grid_search.fit(train_features, train_labels)\n",
    "print(grid_search.best_params_)\n",
    "\n",
    "print(grid_search.best_estimator_)\n",
    "print(grid_search.best_score_)\n",
    "\n",
    "y_pred_rfgs = grid_search.predict(x_test)\n",
    "rmse = np.sqrt(mean_squared_error(y_test, y_pred_rfgs))\n",
    "print(\"RMSE: %f\" % (rmse))\n",
    "\n",
    "print(\"Mean squared error: %.2f\"\n",
    "      % mean_squared_error(y_test, y_pred_rfgs))\n",
    "# Explained variance score: 1 is perfect prediction\n",
    "print('R2 score: %.2f' % r2_score(y_test, y_pred_rfgs))"
   ]
  },
  {
   "cell_type": "code",
   "execution_count": null,
   "metadata": {},
   "outputs": [],
   "source": [
    "best_rf = grid_search.best_estimator_\n",
    "rf_accuracy = evaluate_model(best_rf, x_test, y_test)\n"
   ]
  },
  {
   "cell_type": "markdown",
   "metadata": {},
   "source": [
    "### 4.1.2.2.Adaboost"
   ]
  },
  {
   "cell_type": "code",
   "execution_count": null,
   "metadata": {},
   "outputs": [],
   "source": [
    "from sklearn import tree, ensemble, model_selection, metrics\n",
    "from sklearn.model_selection import GridSearchCV\n",
    "\n",
    "ada2=ensemble.AdaBoostRegressor(tree.DecisionTreeRegressor(), random_state = 888)\n",
    "\n",
    "parameters ={\n",
    "    'n_estimators':[350, 400, 500],\n",
    "    'learning_rate':[0.01, 0.1],\n",
    "    'base_estimator__max_depth':[25, 30, 35]\n",
    "}\n",
    "\n",
    "grid_ADA = GridSearchCV(estimator=ada2, param_grid=parameters, scoring='neg_mean_squared_error',n_jobs=-1, cv=3, verbose=3)\n",
    "grid_ADA.fit(x_train, y_train)\n",
    "\n",
    " \n",
    "\n",
    "print(\" Results from Grid Search \" )\n",
    "print(\"\\n The best estimator across ALL searched params:\\n\",grid_ADA.best_estimator_)\n",
    "print(\"\\n The best score across ALL searched params:\\n\",grid_ADA.best_score_)\n",
    "print(\"\\n The best parameters across ALL searched params:\\n\",grid_ADA.best_params_)\n",
    "\n",
    "#print(\"\\n The best accuracy across ALL searched params:\\n\",evaluate(best_grid, x_test, y_test_one))\n",
    "\n",
    " \n",
    "\n",
    "y_pred_ADA = grid_ADA.predict(x_test)\n",
    "rmse = np.sqrt(mean_squared_error(y_test, y_pred_ADA))\n",
    "print(\"RMSE: %f\" % (rmse))\n",
    "print(\"Mean squared error: %.2f\" % mean_squared_error(y_test, y_pred_ADA))\n",
    "# Explained variance score: 1 is perfect prediction\n",
    "print('R2 score: %.2f' % r2_score(y_test, y_pred_ADA))"
   ]
  },
  {
   "cell_type": "markdown",
   "metadata": {},
   "source": [
    "### Gradient Boosting Regressor"
   ]
  },
  {
   "cell_type": "code",
   "execution_count": null,
   "metadata": {},
   "outputs": [],
   "source": [
    "GBR = ensemble.GradientBoostingRegressor(random_state = 888)\n",
    "\n",
    "parameters = {\n",
    "    'learning_rate': [0.1, 0.2],\n",
    "    'n_estimators' : [180, 200, 225],\n",
    "    'max_depth'    : [5, 6, 8]\n",
    "}\n",
    "\n",
    " \n",
    "\n",
    "grid_GBR = GridSearchCV(estimator=GBR, param_grid = parameters, cv = 3, n_jobs=-1, verbose = 3)\n",
    "grid_GBR.fit(x_train, y_train)\n",
    "\n",
    "print(\" Results from Grid Search \" )\n",
    "print(\"\\n The best estimator across ALL searched params:\\n\",grid_GBR.best_estimator_)\n",
    "print(\"\\n The best score across ALL searched params:\\n\",grid_GBR.best_score_)\n",
    "print(\"\\n The best parameters across ALL searched params:\\n\",grid_GBR.best_params_)\n",
    "\n",
    "#print(\"\\n The best accuracy across ALL searched params:\\n\",evaluate(best_grid, x_test, y_test_one))\n",
    "\n",
    "\n",
    "y_pred_GBR = grid_GBR.predict(x_test)\n",
    "rmse = np.sqrt(mean_squared_error(y_test, y_pred_GBR))\n",
    "\n",
    "print(\"RMSE: %f\" % (rmse))\n",
    "print(\"Mean squared error: %.2f\" % mean_squared_error(y_test, y_pred_GBR))\n",
    "\n",
    "# Explained variance score: 1 is perfect prediction\n",
    "print('R2 score: %.4f' % r2_score(y_test, y_pred_GBR))"
   ]
  },
  {
   "cell_type": "markdown",
   "metadata": {},
   "source": [
    "## SVM???"
   ]
  },
  {
   "cell_type": "markdown",
   "metadata": {},
   "source": [
    "### 4.1.3. Neural Network"
   ]
  },
  {
   "cell_type": "code",
   "execution_count": null,
   "metadata": {},
   "outputs": [],
   "source": [
    "train_df = pd.concat([y_train,x_train], axis = 1)\n",
    "test_df = pd.concat([y_test, x_train],axis =1)\n",
    "test_df.rename(columns = {'HHSIZE_ above_3':'HHSIZE_above_3'} , inplace = True)"
   ]
  },
  {
   "cell_type": "code",
   "execution_count": null,
   "metadata": {},
   "outputs": [],
   "source": [
    "from sklearn.model_selection import RandomizedSearchCV\n",
    "from keras.models import Sequential\n",
    "from keras.layers import Dense\n",
    "from keras.wrappers.scikit_learn import KerasRegressor\n",
    "import tensorflow as tf\n",
    "from keras.layers import Dropout"
   ]
  },
  {
   "cell_type": "code",
   "execution_count": null,
   "metadata": {},
   "outputs": [],
   "source": [
    "def create_model_deep(input_shape,learn_rate,dropout_rate, layers,kernel_reg): #name,my_feature_layer,dropout_rate, layers):\n",
    "    model = tf.keras.models.Sequential()#name = name)\n",
    "    model.add(tf.keras.Input(shape=(input_shape,)))\n",
    "    #model.add(my_feature_layer)\n",
    "    for index, layer in enumerate(layers):\n",
    "        model.add(tf.keras.layers.Dense(units = layer,\n",
    "                                        activation = 'relu',\n",
    "                                        kernel_regularizer=kernel_reg,\n",
    "                                        name=f'Hidden{index}'))\n",
    "    model.add(Dropout(dropout_rate))  \n",
    "    model.add(tf.keras.layers.Dense(units=1, name='Output'))  \n",
    "    model.compile(optimizer=tf.keras.optimizers.Adam(lr=learn_rate),\n",
    "                  loss=\"mean_squared_error\",\n",
    "                  metrics=[tf.keras.metrics.MeanSquaredError()])\n",
    "    return model"
   ]
  },
  {
   "cell_type": "code",
   "execution_count": null,
   "metadata": {},
   "outputs": [],
   "source": [
    "one_hot_labs = [c for c in train_df if train_df[c].dtype == 'uint8']\n",
    "num_labs = ['tier diff','bay diff','quantity','pos diff']"
   ]
  },
  {
   "cell_type": "code",
   "execution_count": null,
   "metadata": {},
   "outputs": [],
   "source": [
    "feature_columns = []\n",
    "for i in num_labs:\n",
    "    i = tf.feature_column.numeric_column(i)\n",
    "    feature_columns.append(i)\n",
    "for k in one_hot_labs:\n",
    "    k = tf.feature_column.numeric_column(k)\n",
    "    feature_columns.append(k)\n",
    "my_feature_layer = tf.keras.layers.DenseFeatures(feature_columns)"
   ]
  },
  {
   "cell_type": "code",
   "execution_count": null,
   "metadata": {},
   "outputs": [],
   "source": [
    "import time\n",
    "start_time = time.time()\n",
    "\n",
    "input_shape = [x_train.shape[1]]\n",
    "learn_rate = ((0.01),(0.1),(0.3))\n",
    "batch_size = ((128,),(256,))\n",
    "dropout_rate = ((0.1),(0),(0.2))\n",
    "name = ['deep']\n",
    "kernel_reg = ((tf.keras.regularizers.l2(0.04)),('glorot_uniform'))\n",
    "layers = ((64,32,16,8),(64,16,8,4),(64,16),(64,32,16,8,4),(30,20,10,8))\n",
    "\n",
    " \n",
    "param_grid = dict(input_shape = input_shape,\n",
    "                  learn_rate = learn_rate,\n",
    "                  dropout_rate = dropout_rate,\n",
    "                  layers = layers,\n",
    "                  kernel_reg = kernel_reg)\n",
    "\n",
    "    \n",
    "model_deep = KerasRegressor(build_fn = create_model_deep, epochs = 1000, batch_size = 256, verbose =2)\n",
    "nn_grid = GridSearchCV(estimator = model_deep, param_grid = param_grid, n_jobs = -1, scoring='neg_mean_squared_error',verbose =5, cv = model_selection.KFold(n_splits = 5, shuffle = True, random_state = 888))\n",
    "nn_grid_result = nn_grid.fit(x_train, y_train)\n",
    "best_nn = nn_grid.best_estimator_\n",
    "\n",
    "print(\"run time:\", str(time.time()-start_time), \"start time:\", str(start_time), \"end time\",str(time.time()))"
   ]
  },
  {
   "cell_type": "code",
   "execution_count": null,
   "metadata": {},
   "outputs": [],
   "source": [
    "from sklearn.metrics import mean_squared_error\n",
    "from sklearn.metrics import r2_score\n",
    "\n",
    "\n",
    "\n",
    "predictions = best_nn.predict(x_test)\n",
    "mse = metrics.mean_squared_error(y_test,predictions)\n",
    "rmse = np.sqrt(mse)\n",
    "rsquare = r2_score(y_test, predictions)\n",
    "\n",
    "print('Model Preformance')\n",
    "print('rmse',rmse)\n",
    "print('mse',mse)\n",
    "print('R square:', rsquare)"
   ]
  },
  {
   "cell_type": "code",
   "execution_count": null,
   "metadata": {
    "scrolled": true
   },
   "outputs": [],
   "source": [
    "nn_grid_result.best_params_"
   ]
  },
  {
   "cell_type": "code",
   "execution_count": null,
   "metadata": {},
   "outputs": [],
   "source": [
    "# Create a table to compare the best results from X_train"
   ]
  },
  {
   "cell_type": "markdown",
   "metadata": {},
   "source": [
    "| X_Train | Linear - Lasso | Ensemble - Random Forest | Nerual Network | \n",
    "|---|---|---|---|\n",
    "| Parameters | 0 | 0 | 0 |\n",
    "| MSE  | 0 | 0.0180 | 0.0420 |\n",
    "| RMSE | 1.362 | 0.647 | 0 | \n",
    "| R-Square| 0.0172 | 0.0245 | 0.0420 | \n",
    "| Top Features| - | - | NA |"
   ]
  },
  {
   "cell_type": "markdown",
   "metadata": {},
   "source": [
    "Overall best model is ___ for x_train dataset. However as model is week explore using trip distances"
   ]
  },
  {
   "cell_type": "markdown",
   "metadata": {},
   "source": [
    "## 4.2. X_train_dist\n",
    "X_train now to include the distances columns obtained from the trips data. Should there be improvement, would suggest that obtaining binned distance measures for different WHY categories would prove to aid the model better"
   ]
  },
  {
   "cell_type": "code",
   "execution_count": null,
   "metadata": {},
   "outputs": [],
   "source": [
    "# run models with x_train_dist here - probably for each (linear vs ensemble vs nn) choose the best (E.G. run L2_linear, xgboost , NN )"
   ]
  },
  {
   "cell_type": "code",
   "execution_count": 154,
   "metadata": {},
   "outputs": [
    {
     "data": {
      "text/html": [
       "<div>\n",
       "<style scoped>\n",
       "    .dataframe tbody tr th:only-of-type {\n",
       "        vertical-align: middle;\n",
       "    }\n",
       "\n",
       "    .dataframe tbody tr th {\n",
       "        vertical-align: top;\n",
       "    }\n",
       "\n",
       "    .dataframe thead th {\n",
       "        text-align: right;\n",
       "    }\n",
       "</style>\n",
       "<table border=\"1\" class=\"dataframe\">\n",
       "  <thead>\n",
       "    <tr style=\"text-align: right;\">\n",
       "      <th></th>\n",
       "      <th>NUMADLT</th>\n",
       "      <th>YOUNGCHILD</th>\n",
       "      <th>WRKCOUNT</th>\n",
       "      <th>EDUC_1</th>\n",
       "      <th>EDUC_2</th>\n",
       "      <th>EDUC_3</th>\n",
       "      <th>EDUC_4</th>\n",
       "      <th>EDUC_5</th>\n",
       "      <th>R_RACE_1</th>\n",
       "      <th>R_RACE_2</th>\n",
       "      <th>...</th>\n",
       "      <th>dist_to_school_or_church_between_2_and_5</th>\n",
       "      <th>dist_to_school_or_church_between_5_and_11</th>\n",
       "      <th>dist_to_relatvies_between_1_and_2</th>\n",
       "      <th>dist_to_relatvies_greater_than_11</th>\n",
       "      <th>dist_to_relatvies_between_2_and_5</th>\n",
       "      <th>dist_to_relatvies_between_5_and_11</th>\n",
       "      <th>dist_to_social_between_1_and_2</th>\n",
       "      <th>dist_to_social_greater_than_11</th>\n",
       "      <th>dist_to_social_between_2_and_5</th>\n",
       "      <th>dist_to_social_between_5_and_11</th>\n",
       "    </tr>\n",
       "  </thead>\n",
       "  <tbody>\n",
       "    <tr>\n",
       "      <th>16732</th>\n",
       "      <td>0.666667</td>\n",
       "      <td>0.000000</td>\n",
       "      <td>0.333333</td>\n",
       "      <td>0</td>\n",
       "      <td>0</td>\n",
       "      <td>0</td>\n",
       "      <td>0</td>\n",
       "      <td>1</td>\n",
       "      <td>0</td>\n",
       "      <td>0</td>\n",
       "      <td>...</td>\n",
       "      <td>0</td>\n",
       "      <td>0</td>\n",
       "      <td>0</td>\n",
       "      <td>0</td>\n",
       "      <td>0</td>\n",
       "      <td>0</td>\n",
       "      <td>0</td>\n",
       "      <td>0</td>\n",
       "      <td>0</td>\n",
       "      <td>1</td>\n",
       "    </tr>\n",
       "    <tr>\n",
       "      <th>16031</th>\n",
       "      <td>0.333333</td>\n",
       "      <td>0.166667</td>\n",
       "      <td>0.333333</td>\n",
       "      <td>1</td>\n",
       "      <td>0</td>\n",
       "      <td>0</td>\n",
       "      <td>0</td>\n",
       "      <td>0</td>\n",
       "      <td>0</td>\n",
       "      <td>0</td>\n",
       "      <td>...</td>\n",
       "      <td>0</td>\n",
       "      <td>0</td>\n",
       "      <td>0</td>\n",
       "      <td>0</td>\n",
       "      <td>0</td>\n",
       "      <td>0</td>\n",
       "      <td>0</td>\n",
       "      <td>0</td>\n",
       "      <td>0</td>\n",
       "      <td>0</td>\n",
       "    </tr>\n",
       "    <tr>\n",
       "      <th>29069</th>\n",
       "      <td>1.000000</td>\n",
       "      <td>0.000000</td>\n",
       "      <td>0.500000</td>\n",
       "      <td>0</td>\n",
       "      <td>0</td>\n",
       "      <td>1</td>\n",
       "      <td>0</td>\n",
       "      <td>0</td>\n",
       "      <td>0</td>\n",
       "      <td>0</td>\n",
       "      <td>...</td>\n",
       "      <td>0</td>\n",
       "      <td>0</td>\n",
       "      <td>0</td>\n",
       "      <td>0</td>\n",
       "      <td>0</td>\n",
       "      <td>0</td>\n",
       "      <td>0</td>\n",
       "      <td>0</td>\n",
       "      <td>0</td>\n",
       "      <td>0</td>\n",
       "    </tr>\n",
       "    <tr>\n",
       "      <th>58</th>\n",
       "      <td>1.000000</td>\n",
       "      <td>0.000000</td>\n",
       "      <td>1.000000</td>\n",
       "      <td>0</td>\n",
       "      <td>0</td>\n",
       "      <td>0</td>\n",
       "      <td>1</td>\n",
       "      <td>0</td>\n",
       "      <td>1</td>\n",
       "      <td>0</td>\n",
       "      <td>...</td>\n",
       "      <td>0</td>\n",
       "      <td>0</td>\n",
       "      <td>0</td>\n",
       "      <td>0</td>\n",
       "      <td>0</td>\n",
       "      <td>0</td>\n",
       "      <td>0</td>\n",
       "      <td>0</td>\n",
       "      <td>0</td>\n",
       "      <td>0</td>\n",
       "    </tr>\n",
       "    <tr>\n",
       "      <th>1191</th>\n",
       "      <td>1.000000</td>\n",
       "      <td>0.000000</td>\n",
       "      <td>1.000000</td>\n",
       "      <td>0</td>\n",
       "      <td>0</td>\n",
       "      <td>1</td>\n",
       "      <td>0</td>\n",
       "      <td>0</td>\n",
       "      <td>1</td>\n",
       "      <td>0</td>\n",
       "      <td>...</td>\n",
       "      <td>0</td>\n",
       "      <td>0</td>\n",
       "      <td>0</td>\n",
       "      <td>0</td>\n",
       "      <td>0</td>\n",
       "      <td>0</td>\n",
       "      <td>0</td>\n",
       "      <td>0</td>\n",
       "      <td>0</td>\n",
       "      <td>0</td>\n",
       "    </tr>\n",
       "    <tr>\n",
       "      <th>...</th>\n",
       "      <td>...</td>\n",
       "      <td>...</td>\n",
       "      <td>...</td>\n",
       "      <td>...</td>\n",
       "      <td>...</td>\n",
       "      <td>...</td>\n",
       "      <td>...</td>\n",
       "      <td>...</td>\n",
       "      <td>...</td>\n",
       "      <td>...</td>\n",
       "      <td>...</td>\n",
       "      <td>...</td>\n",
       "      <td>...</td>\n",
       "      <td>...</td>\n",
       "      <td>...</td>\n",
       "      <td>...</td>\n",
       "      <td>...</td>\n",
       "      <td>...</td>\n",
       "      <td>...</td>\n",
       "      <td>...</td>\n",
       "      <td>...</td>\n",
       "    </tr>\n",
       "    <tr>\n",
       "      <th>5379</th>\n",
       "      <td>1.000000</td>\n",
       "      <td>0.000000</td>\n",
       "      <td>0.000000</td>\n",
       "      <td>0</td>\n",
       "      <td>0</td>\n",
       "      <td>1</td>\n",
       "      <td>0</td>\n",
       "      <td>0</td>\n",
       "      <td>1</td>\n",
       "      <td>0</td>\n",
       "      <td>...</td>\n",
       "      <td>0</td>\n",
       "      <td>0</td>\n",
       "      <td>0</td>\n",
       "      <td>0</td>\n",
       "      <td>1</td>\n",
       "      <td>0</td>\n",
       "      <td>0</td>\n",
       "      <td>0</td>\n",
       "      <td>0</td>\n",
       "      <td>0</td>\n",
       "    </tr>\n",
       "    <tr>\n",
       "      <th>26267</th>\n",
       "      <td>1.000000</td>\n",
       "      <td>0.000000</td>\n",
       "      <td>0.000000</td>\n",
       "      <td>0</td>\n",
       "      <td>1</td>\n",
       "      <td>0</td>\n",
       "      <td>0</td>\n",
       "      <td>0</td>\n",
       "      <td>1</td>\n",
       "      <td>0</td>\n",
       "      <td>...</td>\n",
       "      <td>0</td>\n",
       "      <td>0</td>\n",
       "      <td>0</td>\n",
       "      <td>0</td>\n",
       "      <td>0</td>\n",
       "      <td>0</td>\n",
       "      <td>0</td>\n",
       "      <td>0</td>\n",
       "      <td>0</td>\n",
       "      <td>0</td>\n",
       "    </tr>\n",
       "    <tr>\n",
       "      <th>15088</th>\n",
       "      <td>1.000000</td>\n",
       "      <td>0.000000</td>\n",
       "      <td>1.000000</td>\n",
       "      <td>0</td>\n",
       "      <td>0</td>\n",
       "      <td>1</td>\n",
       "      <td>0</td>\n",
       "      <td>0</td>\n",
       "      <td>1</td>\n",
       "      <td>0</td>\n",
       "      <td>...</td>\n",
       "      <td>0</td>\n",
       "      <td>0</td>\n",
       "      <td>0</td>\n",
       "      <td>0</td>\n",
       "      <td>0</td>\n",
       "      <td>0</td>\n",
       "      <td>0</td>\n",
       "      <td>0</td>\n",
       "      <td>0</td>\n",
       "      <td>1</td>\n",
       "    </tr>\n",
       "    <tr>\n",
       "      <th>1987</th>\n",
       "      <td>1.000000</td>\n",
       "      <td>0.000000</td>\n",
       "      <td>1.000000</td>\n",
       "      <td>0</td>\n",
       "      <td>0</td>\n",
       "      <td>0</td>\n",
       "      <td>0</td>\n",
       "      <td>1</td>\n",
       "      <td>1</td>\n",
       "      <td>0</td>\n",
       "      <td>...</td>\n",
       "      <td>0</td>\n",
       "      <td>0</td>\n",
       "      <td>1</td>\n",
       "      <td>0</td>\n",
       "      <td>0</td>\n",
       "      <td>0</td>\n",
       "      <td>0</td>\n",
       "      <td>0</td>\n",
       "      <td>0</td>\n",
       "      <td>0</td>\n",
       "    </tr>\n",
       "    <tr>\n",
       "      <th>10939</th>\n",
       "      <td>1.000000</td>\n",
       "      <td>0.000000</td>\n",
       "      <td>1.000000</td>\n",
       "      <td>0</td>\n",
       "      <td>0</td>\n",
       "      <td>0</td>\n",
       "      <td>1</td>\n",
       "      <td>0</td>\n",
       "      <td>1</td>\n",
       "      <td>0</td>\n",
       "      <td>...</td>\n",
       "      <td>0</td>\n",
       "      <td>0</td>\n",
       "      <td>1</td>\n",
       "      <td>0</td>\n",
       "      <td>0</td>\n",
       "      <td>0</td>\n",
       "      <td>1</td>\n",
       "      <td>0</td>\n",
       "      <td>0</td>\n",
       "      <td>0</td>\n",
       "    </tr>\n",
       "  </tbody>\n",
       "</table>\n",
       "<p>24446 rows × 132 columns</p>\n",
       "</div>"
      ],
      "text/plain": [
       "        NUMADLT  YOUNGCHILD  WRKCOUNT  EDUC_1  EDUC_2  EDUC_3  EDUC_4  EDUC_5  \\\n",
       "16732  0.666667    0.000000  0.333333       0       0       0       0       1   \n",
       "16031  0.333333    0.166667  0.333333       1       0       0       0       0   \n",
       "29069  1.000000    0.000000  0.500000       0       0       1       0       0   \n",
       "58     1.000000    0.000000  1.000000       0       0       0       1       0   \n",
       "1191   1.000000    0.000000  1.000000       0       0       1       0       0   \n",
       "...         ...         ...       ...     ...     ...     ...     ...     ...   \n",
       "5379   1.000000    0.000000  0.000000       0       0       1       0       0   \n",
       "26267  1.000000    0.000000  0.000000       0       1       0       0       0   \n",
       "15088  1.000000    0.000000  1.000000       0       0       1       0       0   \n",
       "1987   1.000000    0.000000  1.000000       0       0       0       0       1   \n",
       "10939  1.000000    0.000000  1.000000       0       0       0       1       0   \n",
       "\n",
       "       R_RACE_1  R_RACE_2  ...  dist_to_school_or_church_between_2_and_5  \\\n",
       "16732         0         0  ...                                         0   \n",
       "16031         0         0  ...                                         0   \n",
       "29069         0         0  ...                                         0   \n",
       "58            1         0  ...                                         0   \n",
       "1191          1         0  ...                                         0   \n",
       "...         ...       ...  ...                                       ...   \n",
       "5379          1         0  ...                                         0   \n",
       "26267         1         0  ...                                         0   \n",
       "15088         1         0  ...                                         0   \n",
       "1987          1         0  ...                                         0   \n",
       "10939         1         0  ...                                         0   \n",
       "\n",
       "       dist_to_school_or_church_between_5_and_11  \\\n",
       "16732                                          0   \n",
       "16031                                          0   \n",
       "29069                                          0   \n",
       "58                                             0   \n",
       "1191                                           0   \n",
       "...                                          ...   \n",
       "5379                                           0   \n",
       "26267                                          0   \n",
       "15088                                          0   \n",
       "1987                                           0   \n",
       "10939                                          0   \n",
       "\n",
       "       dist_to_relatvies_between_1_and_2  dist_to_relatvies_greater_than_11  \\\n",
       "16732                                  0                                  0   \n",
       "16031                                  0                                  0   \n",
       "29069                                  0                                  0   \n",
       "58                                     0                                  0   \n",
       "1191                                   0                                  0   \n",
       "...                                  ...                                ...   \n",
       "5379                                   0                                  0   \n",
       "26267                                  0                                  0   \n",
       "15088                                  0                                  0   \n",
       "1987                                   1                                  0   \n",
       "10939                                  1                                  0   \n",
       "\n",
       "       dist_to_relatvies_between_2_and_5  dist_to_relatvies_between_5_and_11  \\\n",
       "16732                                  0                                   0   \n",
       "16031                                  0                                   0   \n",
       "29069                                  0                                   0   \n",
       "58                                     0                                   0   \n",
       "1191                                   0                                   0   \n",
       "...                                  ...                                 ...   \n",
       "5379                                   1                                   0   \n",
       "26267                                  0                                   0   \n",
       "15088                                  0                                   0   \n",
       "1987                                   0                                   0   \n",
       "10939                                  0                                   0   \n",
       "\n",
       "       dist_to_social_between_1_and_2  dist_to_social_greater_than_11  \\\n",
       "16732                               0                               0   \n",
       "16031                               0                               0   \n",
       "29069                               0                               0   \n",
       "58                                  0                               0   \n",
       "1191                                0                               0   \n",
       "...                               ...                             ...   \n",
       "5379                                0                               0   \n",
       "26267                               0                               0   \n",
       "15088                               0                               0   \n",
       "1987                                0                               0   \n",
       "10939                               1                               0   \n",
       "\n",
       "       dist_to_social_between_2_and_5  dist_to_social_between_5_and_11  \n",
       "16732                               0                                1  \n",
       "16031                               0                                0  \n",
       "29069                               0                                0  \n",
       "58                                  0                                0  \n",
       "1191                                0                                0  \n",
       "...                               ...                              ...  \n",
       "5379                                0                                0  \n",
       "26267                               0                                0  \n",
       "15088                               0                                1  \n",
       "1987                                0                                0  \n",
       "10939                               0                                0  \n",
       "\n",
       "[24446 rows x 132 columns]"
      ]
     },
     "execution_count": 154,
     "metadata": {},
     "output_type": "execute_result"
    }
   ],
   "source": [
    "x_train_with_dist"
   ]
  },
  {
   "cell_type": "markdown",
   "metadata": {},
   "source": [
    "### 4.2.1. Linear Models"
   ]
  },
  {
   "cell_type": "markdown",
   "metadata": {},
   "source": [
    "#### 4.2.1.1. Linear Regression"
   ]
  },
  {
   "cell_type": "code",
   "execution_count": null,
   "metadata": {},
   "outputs": [],
   "source": [
    "LRmodel_with_dist = linear_model.LinearRegression()  #create the linear regression \n",
    "LRmodel_with_dist.fit(x_train_with_dist,y_train) #train the model using the training set \n",
    "LR_pred_with_dist = LRmodel_with_dist.predict(x_test_with_dist) #use this model to predict the test data set "
   ]
  },
  {
   "cell_type": "code",
   "execution_count": null,
   "metadata": {},
   "outputs": [],
   "source": [
    "print('R^2 score:\\t\\t\\t\\t',metrics.r2_score(y_test,LR_pred_with_dist)) #compute R^2 score \n",
    "print('Explained Variance: \\t\\t\\t', metrics.explained_variance_score(y_test, LR_pred_with_dist)) #compute explained variance score\n",
    "print('Mean Absolute Error: \\t\\t\\t', metrics.mean_absolute_error(y_test, LR_pred_with_dist)) #compute MAE results\n",
    "print('Mean Squared Error:\\t\\t\\t', metrics.mean_squared_error(y_test, LR_pred_with_dist)) #compute MSE results\n",
    "print('Root Mean Squared Error:\\t\\t', metrics.mean_squared_error(y_test, LR_pred_with_dist, squared = False)) #compute RSME results\n",
    "print('Intercept:\\t', LRmodel_with_dist.intercept_) #find intercept value \n",
    "print('Coef:\\t', np.sum(LRmodel_with_dist.coef_!=0))#find no of features used in regression model "
   ]
  },
  {
   "cell_type": "code",
   "execution_count": null,
   "metadata": {},
   "outputs": [],
   "source": [
    "sns.regplot(y_test,LR_pred_with_dist) #plotting predictions "
   ]
  },
  {
   "cell_type": "code",
   "execution_count": null,
   "metadata": {},
   "outputs": [],
   "source": [
    "#calculate VIF scores to detect multicolinearity \n",
    "\n",
    "# VIF dataframe\n",
    "vif_data_with_dist = pd.DataFrame()\n",
    "vif_data_with_dist[\"feature\"] = x_train_with_dist.columns\n",
    "  \n",
    "# calculating VIF for each feature\n",
    "vif_data_with_dist[\"VIF\"] = [variance_inflation_factor(x_train_with_dist.values, i)\n",
    "                          for i in range(len(x_train_with_dist.columns))]\n",
    "  \n",
    "print(vif_data_with_dist)"
   ]
  },
  {
   "cell_type": "code",
   "execution_count": null,
   "metadata": {},
   "outputs": [],
   "source": [
    "vif_data_with_dist.sort_values(by = 'VIF', ascending = False)"
   ]
  },
  {
   "cell_type": "code",
   "execution_count": null,
   "metadata": {},
   "outputs": [],
   "source": [
    "# counting number of infinity features \n",
    "\n",
    "vif_data_inf_with_dist = np.isinf(vif_data_with_dist['VIF']).values.sum()\n",
    "print(\"It contains \" + str(vif_data_inf_with_dist) + \" infinite values\")\n"
   ]
  },
  {
   "cell_type": "code",
   "execution_count": null,
   "metadata": {},
   "outputs": [],
   "source": [
    "#cross validation to see if it will improve results \n",
    "folds_with_dist = model_selection.KFold(n_splits = 5, shuffle = True, random_state = 100)\n",
    "scores_with_dist = model_selection.cross_validate(LRmodel, x_train_with_dist, y_train, \n",
    "                                                   scoring=('R2,''neg_mean_squared_error'), cv=folds)\n"
   ]
  },
  {
   "cell_type": "code",
   "execution_count": null,
   "metadata": {},
   "outputs": [],
   "source": [
    "scores_with_dist"
   ]
  },
  {
   "cell_type": "code",
   "execution_count": null,
   "metadata": {},
   "outputs": [],
   "source": [
    "np.set_printoptions(formatter={'float_kind':'{:f}'.format})\n",
    "scores_with_dist"
   ]
  },
  {
   "cell_type": "code",
   "execution_count": null,
   "metadata": {},
   "outputs": [],
   "source": [
    "from sklearn.feature_selection import RFE\n",
    "import time\n",
    "start_time = time.time()\n",
    "#specify range of hyperparameters to tune\n",
    "hyper_params_with_dist = [{'n_features_to_select': list(range(1,109))}]\n",
    "\n",
    "\n",
    "# perform grid search\n",
    "\n",
    "rfe_with_dist = RFE(LRmodel_with_dist)             \n",
    "\n",
    "# 3.2 call GridSearchCV()\n",
    "model_cv_with_dist = model_selection.GridSearchCV(estimator = rfe_with_dist, \n",
    "                        param_grid = hyper_params_with_dist, \n",
    "                        scoring= ('r2','neg_mean_squared_error'),\n",
    "                        refit = str,\n",
    "                        cv = folds, \n",
    "                        verbose = 10,\n",
    "                        return_train_score=True)      \n",
    "\n",
    "# fit the model\n",
    "model_cv_with_dist.fit(x_train_with_dist, y_train)\n",
    "print(\"run time:\", str(time.time()-start_time), \"start time:\", str(start_time), \"end time\",str(time.time()))"
   ]
  },
  {
   "cell_type": "code",
   "execution_count": null,
   "metadata": {},
   "outputs": [],
   "source": [
    "print(model_cv_with_dist.best_params_)\n",
    "print(model_cv_with_dist.best_estimator_)\n",
    "print(model_cv_with_dist.best_score_)\n",
    "\n",
    "model_cv_with_dist_y_pred_lrgs = model_cv_with_dist.predict(x_test_with_dist)\n",
    "print('R2 score: %.2f' % metrics.r2_score(y_test, model_cv_with_dist_y_pred_lrgs))\n",
    "model_cv_with_dist_lr_rmse = np.sqrt(metrics.mean_squared_error(y_test, model_cv_with_dist_y_pred_lrgs))\n",
    "print(\"RMSE: %f\" % (model_cv_with_dist_lr_rmse))"
   ]
  },
  {
   "cell_type": "code",
   "execution_count": null,
   "metadata": {},
   "outputs": [],
   "source": [
    "# cv results\n",
    "cv_results_with_dist = pd.DataFrame(model_cv_with_dist.cv_results_)\n",
    "cv_results_with_dist\n"
   ]
  },
  {
   "cell_type": "code",
   "execution_count": null,
   "metadata": {},
   "outputs": [],
   "source": [
    "# plotting cv results\n",
    "plt.figure(figsize=(16,6))\n",
    "\n",
    "#plt.plot(cv_results[\"param_n_features_to_select\"], cv_results[\"mean_test_score\"])\n",
    "plt.plot(cv_results_with_dist[\"param_n_features_to_select\"], cv_results[\"mean_train_score\"])\n",
    "plt.xlabel('number of features')\n",
    "plt.ylabel('r-squared')\n",
    "plt.title(\"Optimal Number of Features\")\n",
    "plt.legend(['test score', 'train score'], loc='upper left')\n"
   ]
  },
  {
   "cell_type": "markdown",
   "metadata": {},
   "source": [
    "#### 4.1.1.2 Linear Regression – Regularisation"
   ]
  },
  {
   "cell_type": "markdown",
   "metadata": {},
   "source": [
    "**Lasso Regularisation**"
   ]
  },
  {
   "cell_type": "code",
   "execution_count": null,
   "metadata": {},
   "outputs": [],
   "source": [
    "alpha = [0.0001, 0.001, 0.005, 0.01]\n",
    "\n",
    "for i in range(4):\n",
    "    #build lasso regressor model here\n",
    "    lasso_with_dist = linear_model.Lasso(alpha=alpha[i])\n",
    "    lasso_with_dist.fit(x_train_with_dist, y_train) #fit a lasso regression on the training data\n",
    "    y_predlasso_with_dist = lasso_with_dist.predict(x_test_with_dist) #use this model to predict the test data\n",
    "    lasso_mse_with_dist = metrics.mean_squared_error(y_test, y_predlasso_with_dist) #calculate the test MSE\n",
    "    lasso_rmse_with_dist = metrics.mean_squared_error(y_test, y_predlasso_with_dist,squared = False) #calculate the test RMSE\n",
    "    msemanual_with_dist = np.mean((y_predlasso_with_dist-y_test)**2) #calculate mse manually to cross validate\n",
    "    lasso_cplxy_with_dist = (np.sum(abs(lasso_with_dist.coef_))) #calculate l1norm / model complexity\n",
    "    \n",
    "    print('-' * 32)\n",
    "    print('lasso with alpha', alpha[i])\n",
    "    print('-' * 32)\n",
    "    print('\\nTrain score:', round(lasso_with_dist.score(x_train_with_dist, y_train), 3)) #compute train R^2 score\n",
    "    print('Test score:', round(lasso_with_dist.score(x_test_with_dist, y_test), 3)) #compute test R^2 score\n",
    "    print(list(map(lambda x: round(x, 3), lasso_with_dist.coef_))) #list out the coef values \n",
    "    print('-' * 32)\n",
    "    print('MSE on test set:', lasso_mse_with_dist) #compute MSE results\n",
    "    print('Manual MSE on test set:',msemanual_with_dist) #compute MSE results\n",
    "    print('RMSE on test set:', lasso_rmse_with_dist) #compute RMSE results\n",
    "    print('model complexity:', lasso_cplxy_with_dist) #compute L1 NOMR score\n",
    "    print('regularized cost:', lasso_mse_with_dist + alpha[i] * lasso_cplxy_with_dist) #compute regularised cost function scores\n",
    "    print('\\n')\n"
   ]
  },
  {
   "cell_type": "markdown",
   "metadata": {},
   "source": [
    "**Ridge Regularisation**"
   ]
  },
  {
   "cell_type": "code",
   "execution_count": null,
   "metadata": {},
   "outputs": [],
   "source": [
    "ridgealpha = [0.001, 0.01, 0.1, 1]\n",
    "\n",
    "for i in range(4):\n",
    "    #build ridge regressor here\n",
    "    ridge_with_dist = linear_model.Ridge(alpha=ridgealpha[i])\n",
    "    ridge_with_dist.fit(x_train_with_dist, y_train) #fit a ridge regression on the training data\n",
    "    y_pred_ridge_with_dist = ridge_with_dist.predict(x_test_with_dist) #use this model to predict the test data\n",
    "    ridge_mse_with_dist = metrics.mean_squared_error(y_test, y_pred_ridge_with_dist) #calculate the test mse\n",
    "    ridge_rmse_with_dist = metrics.mean_squared_error(y_test, y_pred_ridge_with_dist,squared = False) #calculate the test rmse\n",
    "    ridge_cplxy_with_dist = (np.linalg.norm(ridge_with_dist.coef_)) #calculate l2norm / model complexity\n",
    "    \n",
    "    print('-' * 32)\n",
    "    print('ridge with alpha', ridgealpha[i])\n",
    "    print('-' * 32)\n",
    "    print('\\nTrain score:', round(ridge_with_dist.score(x_train_with_dist, y_train), 3))\n",
    "    print('Test score:', round(ridge_with_dist.score(x_test_with_dist, y_test), 3))\n",
    "    print(list(map(lambda x: round(x, 3), ridge_with_dist.coef_)))\n",
    "    print('-' * 32)\n",
    "    print('MSE on test set:', ridge_mse_with_dist)\n",
    "    print('RMSE on test set:', ridge_rmse_with_dist)\n",
    "    print('model complexity:', ridge_cplxy_with_dist)\n",
    "    print('regularized cost:', ridge_mse_with_dist + ridgealpha_with_dist[i] * ridge_cplxy_with_dist)\n",
    "    print('\\n')\n"
   ]
  },
  {
   "cell_type": "markdown",
   "metadata": {},
   "source": [
    "### 4.2.1.3. Principal Component Regression"
   ]
  },
  {
   "cell_type": "code",
   "execution_count": 161,
   "metadata": {},
   "outputs": [],
   "source": [
    "pca_with_dist = PCA()\n",
    "x_reduced_with_dist = pca_with_dist.fit_transform(scale(x_train_with_dist))"
   ]
  },
  {
   "cell_type": "code",
   "execution_count": 162,
   "metadata": {},
   "outputs": [
    {
     "data": {
      "text/html": [
       "<div>\n",
       "<style scoped>\n",
       "    .dataframe tbody tr th:only-of-type {\n",
       "        vertical-align: middle;\n",
       "    }\n",
       "\n",
       "    .dataframe tbody tr th {\n",
       "        vertical-align: top;\n",
       "    }\n",
       "\n",
       "    .dataframe thead th {\n",
       "        text-align: right;\n",
       "    }\n",
       "</style>\n",
       "<table border=\"1\" class=\"dataframe\">\n",
       "  <thead>\n",
       "    <tr style=\"text-align: right;\">\n",
       "      <th></th>\n",
       "      <th>0</th>\n",
       "      <th>1</th>\n",
       "      <th>2</th>\n",
       "      <th>3</th>\n",
       "      <th>4</th>\n",
       "      <th>5</th>\n",
       "    </tr>\n",
       "  </thead>\n",
       "  <tbody>\n",
       "    <tr>\n",
       "      <th>0</th>\n",
       "      <td>-0.267983</td>\n",
       "      <td>-0.200180</td>\n",
       "      <td>-0.015629</td>\n",
       "      <td>-0.021804</td>\n",
       "      <td>0.006738</td>\n",
       "      <td>0.037311</td>\n",
       "    </tr>\n",
       "    <tr>\n",
       "      <th>1</th>\n",
       "      <td>0.173349</td>\n",
       "      <td>0.136922</td>\n",
       "      <td>-0.037275</td>\n",
       "      <td>0.100840</td>\n",
       "      <td>-0.020999</td>\n",
       "      <td>0.279507</td>\n",
       "    </tr>\n",
       "    <tr>\n",
       "      <th>2</th>\n",
       "      <td>0.013723</td>\n",
       "      <td>-0.085163</td>\n",
       "      <td>-0.360472</td>\n",
       "      <td>0.020563</td>\n",
       "      <td>-0.010955</td>\n",
       "      <td>-0.031966</td>\n",
       "    </tr>\n",
       "    <tr>\n",
       "      <th>3</th>\n",
       "      <td>0.058633</td>\n",
       "      <td>0.056783</td>\n",
       "      <td>0.075316</td>\n",
       "      <td>-0.028067</td>\n",
       "      <td>-0.003937</td>\n",
       "      <td>-0.122928</td>\n",
       "    </tr>\n",
       "    <tr>\n",
       "      <th>4</th>\n",
       "      <td>-0.073047</td>\n",
       "      <td>0.011743</td>\n",
       "      <td>0.057594</td>\n",
       "      <td>-0.002643</td>\n",
       "      <td>0.024049</td>\n",
       "      <td>0.037361</td>\n",
       "    </tr>\n",
       "  </tbody>\n",
       "</table>\n",
       "</div>"
      ],
      "text/plain": [
       "          0         1         2         3         4         5\n",
       "0 -0.267983 -0.200180 -0.015629 -0.021804  0.006738  0.037311\n",
       "1  0.173349  0.136922 -0.037275  0.100840 -0.020999  0.279507\n",
       "2  0.013723 -0.085163 -0.360472  0.020563 -0.010955 -0.031966\n",
       "3  0.058633  0.056783  0.075316 -0.028067 -0.003937 -0.122928\n",
       "4 -0.073047  0.011743  0.057594 -0.002643  0.024049  0.037361"
      ]
     },
     "execution_count": 162,
     "metadata": {},
     "output_type": "execute_result"
    }
   ],
   "source": [
    "pd.DataFrame(pca.components_.T).loc[:4,:5]\n",
    "#pd.DataFrame(pca.components_.T)"
   ]
  },
  {
   "cell_type": "code",
   "execution_count": 164,
   "metadata": {},
   "outputs": [],
   "source": [
    "# 10-fold CV, with shuffle\n",
    "kf_5 = model_selection.KFold(n_splits=5, shuffle=True, random_state=100)\n",
    "\n",
    "pcascores_with_dist = model_selection.cross_validate(LRmodel, x_reduced_with_dist, y_train, \n",
    "                                                               scoring=('r2','neg_mean_squared_error'), cv=kf_5)\n",
    "\n",
    "\n"
   ]
  },
  {
   "cell_type": "code",
   "execution_count": 165,
   "metadata": {},
   "outputs": [
    {
     "data": {
      "text/plain": [
       "{'fit_time': array([0.073355, 0.069211, 0.066877, 0.085455, 0.067625]),\n",
       " 'score_time': array([0.002273, 0.001777, 0.001648, 0.001749, 0.001700]),\n",
       " 'test_r2': array([0.574568, 0.555568, 0.571644, 0.553122, 0.562891]),\n",
       " 'test_neg_mean_squared_error': array([-2.338552, -2.486313, -2.380163, -2.536374, -2.444639])}"
      ]
     },
     "execution_count": 165,
     "metadata": {},
     "output_type": "execute_result"
    }
   ],
   "source": [
    "pcascores_with_dist"
   ]
  },
  {
   "cell_type": "code",
   "execution_count": null,
   "metadata": {},
   "outputs": [],
   "source": [
    "#specify range of hyperparameters to tune\n",
    "#hyper_params = [{'n_features_to_select': list(range(1,133))}]\n",
    "   \n",
    "\n",
    "# GridSearchCV()\n",
    "#pcamodel_cv_with_dist = model_selection.GridSearchCV(estimator = rfe, \n",
    "                        #param_grid = hyper_params, \n",
    "                        #scoring= ('neg_mean_squared_error'), \n",
    "                        #cv = kf_5, \n",
    "                        #verbose = 10,\n",
    "                        #return_train_score=True)      \n",
    "\n",
    "# fit the model\n",
    "#pcamodel_cv_with_dist.fit(x_reduced_with_dist, y_train)  \n"
   ]
  },
  {
   "cell_type": "code",
   "execution_count": null,
   "metadata": {},
   "outputs": [],
   "source": [
    "#print(pcamodel_cv_with_dist.best_params_)\n",
    "#print(pcamodel_cv_with_dist.best_estimator_)\n",
    "#print(pcamodel_cv_with_dist.best_score_)\n",
    "\n",
    "#pcamodel_cv_with_dist_y_pred_lrgs = pcamodel_cv_with_dist.predict(x_test_with_dist)\n",
    "#print('R2 score: %.2f' % metrics.r2_score(y_test, pcamodel_cv_with_dist_y_pred_lrgs))\n",
    "#pcamodel_cv_with_dist_lr_rmse = np.sqrt(metrics.mean_squared_error(y_test, pcamodel_cv_with_dist_y_pred_lrgs))\n",
    "#print(\"RMSE: %f\" % (pcamodel_cv_with_dist_lr_rmse))"
   ]
  },
  {
   "cell_type": "code",
   "execution_count": null,
   "metadata": {},
   "outputs": [],
   "source": [
    "#pcacv_results_with_dist = pd.DataFrame(pcamodel_cv_with_dist.cv_results_)\n",
    "#pcacv_results_with_dist\n"
   ]
  },
  {
   "cell_type": "code",
   "execution_count": null,
   "metadata": {},
   "outputs": [],
   "source": [
    "# plotting cv results\n",
    "#plt.figure(figsize=(16,6))\n",
    "\n",
    "#plt.plot(cv_results[\"param_n_features_to_select\"], pcacv_results[\"mean_test_score\"])\n",
    "#plt.plot(pcacv_results_with_dist[\"param_n_features_to_select\"], pcacv_results[\"mean_train_score\"])\n",
    "#plt.xlabel('number of features')\n",
    "#plt.ylabel('r-squared')\n",
    "#plt.title(\"Optimal Number of Features\")\n",
    "#plt.legend(['test score', 'train score'], loc='upper left')\n"
   ]
  },
  {
   "cell_type": "code",
   "execution_count": null,
   "metadata": {},
   "outputs": [],
   "source": [
    "#plt.plot(np.cumsum(pca_with_dist.explained_variance_ratio_))\n",
    "#plt.xlabel('number of components')\n",
    "#plt.ylabel('cumulative explained variance')\n"
   ]
  },
  {
   "cell_type": "markdown",
   "metadata": {},
   "source": [
    "### 4.2.2.1. Random Forest"
   ]
  },
  {
   "cell_type": "code",
   "execution_count": null,
   "metadata": {},
   "outputs": [],
   "source": [
    "\n",
    "# Create the parameter grid based on the results of random search \n",
    "param_grid = {\n",
    "    'bootstrap': [True],\n",
    "    'max_features': [27, 30, 33],\n",
    "    'oob_score': [True],\n",
    "    'n_estimators': [2250, 2500, 2750]\n",
    "}\n",
    "# Create a based model\n",
    "rfgs = RandomForestRegressor()\n",
    "# Instantiate the grid search model\n",
    "grid_search = GridSearchCV(estimator = rfgs, param_grid = param_grid, cv = 3, n_jobs = -1, verbose = 3)\n",
    "#wrapper_gs = RegressorChain(grid_search)\n",
    "grid_search.fit(x_train_with_dist, y_train)\n",
    "\n",
    "#grid_search.fit(train_features, train_labels)\n",
    "print(grid_search.best_params_)\n",
    "\n",
    "print(grid_search.best_estimator_)\n",
    "print(grid_search.best_score_)\n",
    "\n",
    "y_pred_rfgs = grid_search.predict(x_test_with_dist)\n",
    "rmse = np.sqrt(mean_squared_error(y_test, y_pred_rfgs))\n",
    "print(\"RMSE: %f\" % (rmse))\n",
    "\n",
    "print(\"Mean squared error: %.2f\"\n",
    "      % mean_squared_error(y_test, y_pred_rfgs))\n",
    "# Explained variance score: 1 is perfect prediction\n",
    "print('R2 score: %.2f' % r2_score(y_test, y_pred_rfgs))"
   ]
  },
  {
   "cell_type": "code",
   "execution_count": null,
   "metadata": {},
   "outputs": [],
   "source": [
    "best_rf = grid_search.best_estimator_\n",
    "rf_accuracy = evaluate_model(best_rf, x_test_with_dist, y_test)"
   ]
  },
  {
   "cell_type": "markdown",
   "metadata": {},
   "source": [
    "### 4.2..2. Adaboost"
   ]
  },
  {
   "cell_type": "code",
   "execution_count": null,
   "metadata": {},
   "outputs": [],
   "source": [
    "ada2=ensemble.AdaBoostRegressor(tree.DecisionTreeRegressor(), random_state = 888)\n",
    "\n",
    "parameters ={\n",
    "    'n_estimators':[350, 400, 500],\n",
    "    'learning_rate':[0.01, 0.1],\n",
    "    'base_estimator__max_depth':[25, 30, 35]\n",
    "}\n",
    "\n",
    "grid_ADA = GridSearchCV(estimator=ada2, param_grid=parameters, scoring='neg_mean_squared_error',n_jobs=-1, cv=3, verbose=3)\n",
    "grid_ADA.fit(x_train_with_dist, y_train)\n",
    "\n",
    " \n",
    "print(\" Results from Grid Search \" )\n",
    "print(\"\\n The best estimator across ALL searched params:\\n\",grid_ADA.best_estimator_)\n",
    "print(\"\\n The best score across ALL searched params:\\n\",grid_ADA.best_score_)\n",
    "print(\"\\n The best parameters across ALL searched params:\\n\",grid_ADA.best_params_)\n",
    "#print(\"\\n The best accuracy across ALL searched params:\\n\",evaluate(best_grid, x_test, y_test_one))\n",
    "\n",
    " \n",
    "y_pred_ADA = grid_ADA.predict(x_test_with_dist)\n",
    "rmse = np.sqrt(mean_squared_error(y_test, y_pred_ADA))\n",
    "print(\"RMSE: %f\" % (rmse))\n",
    "print(\"Mean squared error: %.2f\" % mean_squared_error(y_test, y_pred_ADA))\n",
    "\n",
    "# Explained variance score: 1 is perfect prediction\n",
    "print('R2 score: %.2f' % r2_score(y_test, y_pred_ADA))"
   ]
  },
  {
   "cell_type": "markdown",
   "metadata": {},
   "source": [
    "### 4.2.3. Gradient Boosting Regressor"
   ]
  },
  {
   "cell_type": "code",
   "execution_count": null,
   "metadata": {},
   "outputs": [],
   "source": [
    "GBR = ensemble.GradientBoostingRegressor(random_state = 888)\n",
    "\n",
    "parameters = {\n",
    "    'learning_rate': [0.1, 0.2],\n",
    "    'n_estimators' : [180, 200, 225],\n",
    "    'max_depth'    : [5, 6, 8]\n",
    "}\n",
    "\n",
    " \n",
    "grid_GBR = GridSearchCV(estimator=GBR, param_grid = parameters, cv = 3, n_jobs=-1, verbose = 3)\n",
    "grid_GBR.fit(x_train_with_dist, y_train)\n",
    "\n",
    "\n",
    "print(\" Results from Grid Search \" )\n",
    "print(\"\\n The best estimator across ALL searched params:\\n\",grid_GBR.best_estimator_)\n",
    "print(\"\\n The best score across ALL searched params:\\n\",grid_GBR.best_score_)\n",
    "print(\"\\n The best parameters across ALL searched params:\\n\",grid_GBR.best_params_)\n",
    "#print(\"\\n The best accuracy across ALL searched params:\\n\",evaluate(best_grid, x_test, y_test_one))\n",
    " \n",
    "\n",
    "y_pred_GBR = grid_GBR.predict(x_test_with_dist)\n",
    "rmse = np.sqrt(mean_squared_error(y_test, y_pred_GBR))\n",
    "\n",
    "print(\"RMSE: %f\" % (rmse))\n",
    "print(\"Mean squared error: %.2f\" % mean_squared_error(y_test, y_pred_GBR))\n",
    "\n",
    "# Explained variance score: 1 is perfect prediction\n",
    "print('R2 score: %.4f' % r2_score(y_test, y_pred_GBR))"
   ]
  },
  {
   "cell_type": "markdown",
   "metadata": {},
   "source": [
    "### 4.2.3. Neural Network"
   ]
  },
  {
   "cell_type": "code",
   "execution_count": null,
   "metadata": {},
   "outputs": [],
   "source": [
    "#use the same param_grid as earlier\n",
    "\n",
    "start_time = time.time()\n",
    "\n",
    "input_shape = [x_train_with_dist.shape[1]]\n",
    "learn_rate = ((0.01),(0.1),(0.3))\n",
    "batch_size = ((128,),(256,))\n",
    "dropout_rate = ((0.1),(0),(0.2))\n",
    "name = ['deep']\n",
    "kernel_reg = ((tf.keras.regularizers.l2(0.04)),('glorot_uniform'))\n",
    "layers = ((64,32,16,8),(64,16,8,4),(64,16),(64,32,16,8,4),(30,20,10,8))\n",
    "\n",
    " \n",
    "param_grid = dict(input_shape = input_shape,\n",
    "                  learn_rate = learn_rate,\n",
    "                  dropout_rate = dropout_rate,\n",
    "                  layers = layers,\n",
    "                  kernel_reg = kernel_reg)\n",
    "\n",
    "    \n",
    "model_deep = KerasRegressor(build_fn = create_model_deep, epochs = 1000, batch_size = 256, verbose =2)\n",
    "nn_grid = GridSearchCV(estimator = model_deep, param_grid = param_grid, n_jobs = -1, scoring='neg_mean_squared_error',verbose =5, cv = model_selection.KFold(n_splits = 5, shuffle = True, random_state = 888))\n",
    "nn_grid_result = nn_grid.fit(x_train_with_dist, y_train)\n",
    "best_nn = nn_grid.best_estimator_\n",
    "\n",
    "print(\"run time:\", str(time.time()-start_time), \"start time:\", str(start_time), \"end time\",str(time.time()))"
   ]
  },
  {
   "cell_type": "code",
   "execution_count": null,
   "metadata": {},
   "outputs": [],
   "source": [
    "from sklearn.metrics import mean_squared_error\n",
    "from sklearn.metrics import r2_score\n",
    "\n",
    "\n",
    "\n",
    "predictions = best_nn.predict(x_test_with_dist)\n",
    "mse = metrics.mean_squared_error(y_test,predictions)\n",
    "rmse = np.sqrt(mse)\n",
    "rsquare = r2_score(y_test, predictions)\n",
    "\n",
    "print('Model Preformance')\n",
    "print('rmse',rmse)\n",
    "print('mse',mse)\n",
    "print('R square:', rsquare)"
   ]
  },
  {
   "cell_type": "code",
   "execution_count": null,
   "metadata": {},
   "outputs": [],
   "source": [
    "nn_grid_result.best_params_"
   ]
  },
  {
   "cell_type": "markdown",
   "metadata": {},
   "source": [
    "| X_Train_with_dist | Linear - Lasso | Ensemble - Random Forest | Nerual Network | \n",
    "|---|---|---|---|\n",
    "| MSE  | 0 | 0.0180 | 2.49 |\n",
    "| RMSE | 1.362 | 0.647 | 1.58 | \n",
    "| R-Square| 0.0172 | 0.0245 | 0.55 | \n",
    "|Top Features | - | - | NA|"
   ]
  },
  {
   "cell_type": "markdown",
   "metadata": {},
   "source": [
    "Overall, adding distance features improved all models significantly and hence reccommendation is for future surveys to add in questions regarding main why column to ask distance bins.\n",
    "\n",
    "e.g. select from bins the distance to workplace for each member of the family \n"
   ]
  },
  {
   "cell_type": "code",
   "execution_count": null,
   "metadata": {},
   "outputs": [],
   "source": []
  }
 ],
 "metadata": {
  "kernelspec": {
   "display_name": "Python 3",
   "language": "python",
   "name": "python3"
  },
  "language_info": {
   "codemirror_mode": {
    "name": "ipython",
    "version": 3
   },
   "file_extension": ".py",
   "mimetype": "text/x-python",
   "name": "python",
   "nbconvert_exporter": "python",
   "pygments_lexer": "ipython3",
   "version": "3.7.7"
  }
 },
 "nbformat": 4,
 "nbformat_minor": 2
}
