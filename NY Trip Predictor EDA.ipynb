{
 "cells": [
  {
   "cell_type": "code",
   "execution_count": 1,
   "metadata": {},
   "outputs": [],
   "source": [
    "import pandas as pd\n",
    "import numpy as np\n",
    "import datetime\n",
    "import matplotlib.pyplot as plt\n",
    "import seaborn as sns\n",
    "%matplotlib inline\n",
    "import warnings\n",
    "import math\n",
    "from scipy.stats import pearsonr\n",
    "\n",
    "warnings.filterwarnings('ignore')"
   ]
  },
  {
   "cell_type": "code",
   "execution_count": 2,
   "metadata": {},
   "outputs": [],
   "source": [
    "household = pd.read_csv('hhpub.csv')\n",
    "person = pd.read_csv('perpub.csv')\n",
    "veh = pd.read_csv('vehpub.csv')\n",
    "trip= pd.read_csv('trippub.csv')"
   ]
  },
  {
   "cell_type": "code",
   "execution_count": 3,
   "metadata": {},
   "outputs": [],
   "source": [
    "# as only studying hh with car will also filter out hh with HHVEHCNT == 0\n",
    "ny = household[household['HHSTATE'] ==\"NY\"]\n",
    "ny = ny[ny['HHVEHCNT']>0]"
   ]
  },
  {
   "cell_type": "code",
   "execution_count": 4,
   "metadata": {},
   "outputs": [],
   "source": [
    "def cat_col_prop(data, col):\n",
    "    print(pd.concat([data[col].value_counts(),\n",
    "          data[col].value_counts(normalize = True).mul(100)],axis = 1, keys = ('counts','percentage')))\n",
    "\n",
    "    sns.histplot(data[col])"
   ]
  },
  {
   "cell_type": "markdown",
   "metadata": {},
   "source": [
    "## 1. Household"
   ]
  },
  {
   "cell_type": "code",
   "execution_count": 5,
   "metadata": {},
   "outputs": [
    {
     "data": {
      "text/plain": [
       "(15636, 58)"
      ]
     },
     "execution_count": 5,
     "metadata": {},
     "output_type": "execute_result"
    }
   ],
   "source": [
    "#15636 households in NY with at least one vehicle\n",
    "ny.shape"
   ]
  },
  {
   "cell_type": "code",
   "execution_count": 6,
   "metadata": {
    "scrolled": true
   },
   "outputs": [
    {
     "data": {
      "text/plain": [
       "Index(['HOUSEID', 'TRAVDAY', 'SAMPSTRAT', 'HOMEOWN', 'HHSIZE', 'HHVEHCNT',\n",
       "       'HHFAMINC', 'PC', 'SPHONE', 'TAB', 'WALK', 'BIKE', 'CAR', 'TAXI', 'BUS',\n",
       "       'TRAIN', 'PARA', 'PRICE', 'PLACE', 'WALK2SAVE', 'BIKE2SAVE', 'PTRANS',\n",
       "       'HHRELATD', 'DRVRCNT', 'CNTTDHH', 'HHSTATE', 'HHSTFIPS', 'NUMADLT',\n",
       "       'YOUNGCHILD', 'WRKCOUNT', 'TDAYDATE', 'HHRESP', 'LIF_CYC', 'MSACAT',\n",
       "       'MSASIZE', 'RAIL', 'URBAN', 'URBANSIZE', 'URBRUR', 'SCRESP', 'CENSUS_D',\n",
       "       'CENSUS_R', 'CDIVMSAR', 'HH_RACE', 'HH_HISP', 'HH_CBSA', 'RESP_CNT',\n",
       "       'WEBUSE17', 'SMPLSRCE', 'WTHHFIN', 'HBHUR', 'HTHTNRNT', 'HTPPOPDN',\n",
       "       'HTRESDN', 'HTEEMPDN', 'HBHTNRNT', 'HBPPOPDN', 'HBRESDN'],\n",
       "      dtype='object')"
      ]
     },
     "execution_count": 6,
     "metadata": {},
     "output_type": "execute_result"
    }
   ],
   "source": [
    "ny.columns"
   ]
  },
  {
   "cell_type": "code",
   "execution_count": 7,
   "metadata": {},
   "outputs": [
    {
     "name": "stdout",
     "output_type": "stream",
     "text": [
      "min value: 0 should keep these values too 1411 occurences of total 15636 ( 9.024047070862114 %)\n"
     ]
    },
    {
     "data": {
      "image/png": "[encoded data removed]",
      "text/plain": [
       "<Figure size 432x288 with 1 Axes>"
      ]
     },
     "metadata": {
      "needs_background": "light"
     },
     "output_type": "display_data"
    }
   ],
   "source": [
    "# label - cause of the zero values may not be able to log\n",
    "sns.histplot(ny['CNTTDHH'])\n",
    "print(\"min value:\",str(min(ny['CNTTDHH'])),\"should keep these values too\",str(sum(ny['CNTTDHH']==0)), \"occurences of total\", len(ny), \"(\", str(sum(ny['CNTTDHH']==0)/len(ny)*100),\"%)\" )\n"
   ]
  },
  {
   "cell_type": "markdown",
   "metadata": {},
   "source": [
    "### Core Based Statistical Area FIPS code"
   ]
  },
  {
   "cell_type": "code",
   "execution_count": 8,
   "metadata": {},
   "outputs": [
    {
     "name": "stdout",
     "output_type": "stream",
     "text": [
      "       counts  percentage\n",
      "XXXXX    9571   61.211307\n",
      "35620    4384   28.037861\n",
      "40380     902    5.768739\n",
      "15380     779    4.982093\n"
     ]
    },
    {
     "data": {
      "image/png": "[encoded data removed]",
      "text/plain": [
       "<Figure size 432x288 with 1 Axes>"
      ]
     },
     "metadata": {
      "needs_background": "light"
     },
     "output_type": "display_data"
    }
   ],
   "source": [
    "ny['HH_CBSA'].value_counts()\n",
    "\n",
    "cat_col_prop(ny,'HH_CBSA')\n",
    "\n",
    "# significant number of households under the 'XXXXX=Suppressed, in an MSA of less than 1 million ' category"
   ]
  },
  {
   "cell_type": "code",
   "execution_count": 9,
   "metadata": {
    "scrolled": true
   },
   "outputs": [
    {
     "data": {
      "text/html": [
       "<div>\n",
       "<style scoped>\n",
       "    .dataframe tbody tr th:only-of-type {\n",
       "        vertical-align: middle;\n",
       "    }\n",
       "\n",
       "    .dataframe tbody tr th {\n",
       "        vertical-align: top;\n",
       "    }\n",
       "\n",
       "    .dataframe thead th {\n",
       "        text-align: right;\n",
       "    }\n",
       "</style>\n",
       "<table border=\"1\" class=\"dataframe\">\n",
       "  <thead>\n",
       "    <tr style=\"text-align: right;\">\n",
       "      <th></th>\n",
       "      <th>HOUSEID</th>\n",
       "      <th>TRAVDAY</th>\n",
       "      <th>SAMPSTRAT</th>\n",
       "      <th>HOMEOWN</th>\n",
       "      <th>HHSIZE</th>\n",
       "      <th>HHVEHCNT</th>\n",
       "      <th>HHFAMINC</th>\n",
       "      <th>PC</th>\n",
       "      <th>SPHONE</th>\n",
       "      <th>TAB</th>\n",
       "      <th>...</th>\n",
       "      <th>SMPLSRCE</th>\n",
       "      <th>WTHHFIN</th>\n",
       "      <th>HBHUR</th>\n",
       "      <th>HTHTNRNT</th>\n",
       "      <th>HTPPOPDN</th>\n",
       "      <th>HTRESDN</th>\n",
       "      <th>HTEEMPDN</th>\n",
       "      <th>HBHTNRNT</th>\n",
       "      <th>HBPPOPDN</th>\n",
       "      <th>HBRESDN</th>\n",
       "    </tr>\n",
       "  </thead>\n",
       "  <tbody>\n",
       "    <tr>\n",
       "      <th>2</th>\n",
       "      <td>30000012</td>\n",
       "      <td>5</td>\n",
       "      <td>3</td>\n",
       "      <td>1</td>\n",
       "      <td>1</td>\n",
       "      <td>2</td>\n",
       "      <td>10</td>\n",
       "      <td>1</td>\n",
       "      <td>1</td>\n",
       "      <td>3</td>\n",
       "      <td>...</td>\n",
       "      <td>2</td>\n",
       "      <td>79.419586</td>\n",
       "      <td>C</td>\n",
       "      <td>80</td>\n",
       "      <td>17000</td>\n",
       "      <td>17000</td>\n",
       "      <td>5000</td>\n",
       "      <td>60</td>\n",
       "      <td>17000</td>\n",
       "      <td>7000</td>\n",
       "    </tr>\n",
       "    <tr>\n",
       "      <th>8</th>\n",
       "      <td>30000082</td>\n",
       "      <td>3</td>\n",
       "      <td>3</td>\n",
       "      <td>2</td>\n",
       "      <td>4</td>\n",
       "      <td>2</td>\n",
       "      <td>8</td>\n",
       "      <td>1</td>\n",
       "      <td>1</td>\n",
       "      <td>5</td>\n",
       "      <td>...</td>\n",
       "      <td>2</td>\n",
       "      <td>1148.809332</td>\n",
       "      <td>T</td>\n",
       "      <td>20</td>\n",
       "      <td>1500</td>\n",
       "      <td>300</td>\n",
       "      <td>750</td>\n",
       "      <td>30</td>\n",
       "      <td>750</td>\n",
       "      <td>300</td>\n",
       "    </tr>\n",
       "    <tr>\n",
       "      <th>15</th>\n",
       "      <td>30000130</td>\n",
       "      <td>1</td>\n",
       "      <td>1</td>\n",
       "      <td>1</td>\n",
       "      <td>2</td>\n",
       "      <td>1</td>\n",
       "      <td>5</td>\n",
       "      <td>-9</td>\n",
       "      <td>1</td>\n",
       "      <td>-9</td>\n",
       "      <td>...</td>\n",
       "      <td>1</td>\n",
       "      <td>3829.959655</td>\n",
       "      <td>U</td>\n",
       "      <td>60</td>\n",
       "      <td>30000</td>\n",
       "      <td>17000</td>\n",
       "      <td>5000</td>\n",
       "      <td>70</td>\n",
       "      <td>30000</td>\n",
       "      <td>17000</td>\n",
       "    </tr>\n",
       "    <tr>\n",
       "      <th>39</th>\n",
       "      <td>30000380</td>\n",
       "      <td>2</td>\n",
       "      <td>3</td>\n",
       "      <td>2</td>\n",
       "      <td>3</td>\n",
       "      <td>1</td>\n",
       "      <td>3</td>\n",
       "      <td>1</td>\n",
       "      <td>1</td>\n",
       "      <td>2</td>\n",
       "      <td>...</td>\n",
       "      <td>2</td>\n",
       "      <td>370.744472</td>\n",
       "      <td>S</td>\n",
       "      <td>50</td>\n",
       "      <td>3000</td>\n",
       "      <td>1500</td>\n",
       "      <td>1500</td>\n",
       "      <td>50</td>\n",
       "      <td>3000</td>\n",
       "      <td>1500</td>\n",
       "    </tr>\n",
       "    <tr>\n",
       "      <th>44</th>\n",
       "      <td>30000434</td>\n",
       "      <td>7</td>\n",
       "      <td>3</td>\n",
       "      <td>1</td>\n",
       "      <td>2</td>\n",
       "      <td>2</td>\n",
       "      <td>8</td>\n",
       "      <td>1</td>\n",
       "      <td>1</td>\n",
       "      <td>3</td>\n",
       "      <td>...</td>\n",
       "      <td>2</td>\n",
       "      <td>101.472420</td>\n",
       "      <td>R</td>\n",
       "      <td>30</td>\n",
       "      <td>1500</td>\n",
       "      <td>750</td>\n",
       "      <td>750</td>\n",
       "      <td>30</td>\n",
       "      <td>750</td>\n",
       "      <td>300</td>\n",
       "    </tr>\n",
       "  </tbody>\n",
       "</table>\n",
       "<p>5 rows × 58 columns</p>\n",
       "</div>"
      ],
      "text/plain": [
       "     HOUSEID  TRAVDAY  SAMPSTRAT  HOMEOWN  HHSIZE  HHVEHCNT  HHFAMINC  PC  \\\n",
       "2   30000012        5          3        1       1         2        10   1   \n",
       "8   30000082        3          3        2       4         2         8   1   \n",
       "15  30000130        1          1        1       2         1         5  -9   \n",
       "39  30000380        2          3        2       3         1         3   1   \n",
       "44  30000434        7          3        1       2         2         8   1   \n",
       "\n",
       "    SPHONE  TAB  ...  SMPLSRCE      WTHHFIN  HBHUR  HTHTNRNT  HTPPOPDN  \\\n",
       "2        1    3  ...         2    79.419586      C        80     17000   \n",
       "8        1    5  ...         2  1148.809332      T        20      1500   \n",
       "15       1   -9  ...         1  3829.959655      U        60     30000   \n",
       "39       1    2  ...         2   370.744472      S        50      3000   \n",
       "44       1    3  ...         2   101.472420      R        30      1500   \n",
       "\n",
       "    HTRESDN  HTEEMPDN  HBHTNRNT  HBPPOPDN  HBRESDN  \n",
       "2     17000      5000        60     17000     7000  \n",
       "8       300       750        30       750      300  \n",
       "15    17000      5000        70     30000    17000  \n",
       "39     1500      1500        50      3000     1500  \n",
       "44      750       750        30       750      300  \n",
       "\n",
       "[5 rows x 58 columns]"
      ]
     },
     "execution_count": 9,
     "metadata": {},
     "output_type": "execute_result"
    }
   ],
   "source": [
    "ny.head()"
   ]
  },
  {
   "cell_type": "markdown",
   "metadata": {},
   "source": [
    "### Travel Dat of Week Lower"
   ]
  },
  {
   "cell_type": "code",
   "execution_count": 10,
   "metadata": {},
   "outputs": [
    {
     "data": {
      "text/plain": [
       "2    2274\n",
       "5    2269\n",
       "1    2251\n",
       "7    2247\n",
       "6    2228\n",
       "3    2203\n",
       "4    2164\n",
       "Name: TRAVDAY, dtype: int64"
      ]
     },
     "execution_count": 10,
     "metadata": {},
     "output_type": "execute_result"
    }
   ],
   "source": [
    "#relatively equal number of days of the week\n",
    "ny['TRAVDAY'].value_counts()"
   ]
  },
  {
   "cell_type": "markdown",
   "metadata": {},
   "source": [
    "### Home ownership"
   ]
  },
  {
   "cell_type": "code",
   "execution_count": 11,
   "metadata": {},
   "outputs": [
    {
     "name": "stdout",
     "output_type": "stream",
     "text": [
      "     counts  percentage\n",
      " 1    12796   81.836787\n",
      " 2     2722   17.408544\n",
      " 97     117    0.748273\n",
      "-7        1    0.006395\n"
     ]
    },
    {
     "data": {
      "image/png": "[encoded data removed]",
      "text/plain": [
       "<Figure size 432x288 with 1 Axes>"
      ]
     },
     "metadata": {
      "needs_background": "light"
     },
     "output_type": "display_data"
    }
   ],
   "source": [
    "# Majority Own home while 17 percent rent the rest to replace with 'NA' (to remove while one hot encoding)\n",
    "\n",
    "cat_col_prop(ny,'HOMEOWN')\n",
    "\n",
    "ny['HOMEOWN'] = ny['HOMEOWN'].replace({1:\"HOME_OWN\",\n",
    "                                       2: \"HOME_RENT\",\n",
    "                                      97: \"NA\",\n",
    "                                      -7: \"NA\"})"
   ]
  },
  {
   "cell_type": "markdown",
   "metadata": {},
   "source": [
    "### HHSIZE"
   ]
  },
  {
   "cell_type": "code",
   "execution_count": 12,
   "metadata": {},
   "outputs": [
    {
     "name": "stdout",
     "output_type": "stream",
     "text": [
      "    counts  percentage\n",
      "2     6928   44.308007\n",
      "1     4691   30.001279\n",
      "3     1965   12.567153\n",
      "4     1389    8.883346\n",
      "5      467    2.986697\n",
      "6      123    0.786646\n",
      "7       44    0.281402\n",
      "8       17    0.108723\n",
      "9        7    0.044768\n",
      "10       4    0.025582\n",
      "11       1    0.006395\n",
      "________\n",
      "new HHSIZE\n",
      "    counts  percentage\n",
      "2     6928   44.308007\n",
      "1     4691   30.001279\n",
      ">3    2052   13.123561\n",
      "3     1965   12.567153\n"
     ]
    },
    {
     "data": {
      "image/png": "[encoded data removed]",
      "text/plain": [
       "<Figure size 432x288 with 1 Axes>"
      ]
     },
     "metadata": {
      "needs_background": "light"
     },
     "output_type": "display_data"
    }
   ],
   "source": [
    "\n",
    "cat_col_prop(ny,'HHSIZE')\n",
    "\n",
    "# to bin tail HHSIZE\n",
    "\n",
    "ny['HHSIZE'][ny['HHSIZE']>3] = \">3\"\n",
    "\n",
    "print(\"________\")\n",
    "print(\"new HHSIZE\")\n",
    "print(pd.concat([ny['HHSIZE'].value_counts(),\n",
    "          ny['HHSIZE'].value_counts(normalize = True).mul(100)],axis = 1, keys = ('counts','percentage'))\n",
    "    )"
   ]
  },
  {
   "cell_type": "markdown",
   "metadata": {},
   "source": [
    "### HHVEHCTN"
   ]
  },
  {
   "cell_type": "code",
   "execution_count": 13,
   "metadata": {},
   "outputs": [
    {
     "name": "stdout",
     "output_type": "stream",
     "text": [
      "    counts  percentage\n",
      "2     6334   40.509082\n",
      "1     5821   37.228191\n",
      "3     2257   14.434638\n",
      "4      795    5.084421\n",
      "5      281    1.797135\n",
      "6       92    0.588386\n",
      "7       34    0.217447\n",
      "8       12    0.076746\n",
      "9        6    0.038373\n",
      "11       2    0.012791\n",
      "12       2    0.012791\n",
      "________\n",
      "new HHVEHCNT\n",
      "    counts  percentage\n",
      "2     6334   40.509082\n",
      "1     5821   37.228191\n",
      ">2    3481   22.262727\n"
     ]
    },
    {
     "data": {
      "image/png": "[encoded data removed]",
      "text/plain": [
       "<Figure size 432x288 with 1 Axes>"
      ]
     },
     "metadata": {
      "needs_background": "light"
     },
     "output_type": "display_data"
    }
   ],
   "source": [
    "cat_col_prop(ny,'HHVEHCNT')\n",
    "\n",
    "ny['HHVEHCNT'][ny['HHVEHCNT']>2] = \">2\"\n",
    "\n",
    "print(\"________\")\n",
    "print(\"new HHVEHCNT\")\n",
    "print(pd.concat([ny['HHVEHCNT'].value_counts(),\n",
    "          ny['HHVEHCNT'].value_counts(normalize = True).mul(100)],axis = 1, keys = ('counts','percentage'))\n",
    "    )"
   ]
  },
  {
   "cell_type": "markdown",
   "metadata": {},
   "source": [
    "### HHFAMINC"
   ]
  },
  {
   "cell_type": "code",
   "execution_count": 14,
   "metadata": {},
   "outputs": [
    {
     "name": "stdout",
     "output_type": "stream",
     "text": [
      "     counts  percentage\n",
      " 6     2870   18.355078\n",
      " 7     2180   13.942185\n",
      " 5     1874   11.985162\n",
      " 8     1667   10.661294\n",
      " 4     1446    9.247889\n",
      " 3     1234    7.892044\n",
      " 9      961    6.146073\n",
      " 11     922    5.896649\n",
      " 10     886    5.666411\n",
      " 2      610    3.901254\n",
      "-7      489    3.127398\n",
      " 1      419    2.679713\n",
      "-8       76    0.486058\n",
      "-9        2    0.012791\n"
     ]
    },
    {
     "data": {
      "text/plain": [
       "<matplotlib.axes._subplots.AxesSubplot at 0x1bdfe17f588>"
      ]
     },
     "execution_count": 14,
     "metadata": {},
     "output_type": "execute_result"
    },
    {
     "data": {
      "image/png": "[encoded data removed]",
      "text/plain": [
       "<Figure size 432x288 with 1 Axes>"
      ]
     },
     "metadata": {
      "needs_background": "light"
     },
     "output_type": "display_data"
    }
   ],
   "source": [
    "# Group all negative as 'NA'\n",
    "\n",
    "print(pd.concat([ny['HHFAMINC'].value_counts(),\n",
    "          ny['HHFAMINC'].value_counts(normalize = True).mul(100)],axis = 1, keys = ('counts','percentage'))\n",
    "     )\n",
    "\n",
    "ny['HHFAMINC'][ny['HHFAMINC'].isin([-9,-8,-7])]  = \"NA\"\n",
    "\n",
    "sns.countplot(data = ny, x= 'HHFAMINC')"
   ]
  },
  {
   "cell_type": "markdown",
   "metadata": {},
   "source": [
    "### DRVRCNT"
   ]
  },
  {
   "cell_type": "code",
   "execution_count": 20,
   "metadata": {},
   "outputs": [
    {
     "name": "stdout",
     "output_type": "stream",
     "text": [
      "Pearson Corelation of:  0.8662732357377938 between DRVRCNT and NUMADLT. May remove one is too many variables\n"
     ]
    },
    {
     "data": {
      "text/plain": [
       "<matplotlib.axes._subplots.AxesSubplot at 0x1bdfde85708>"
      ]
     },
     "execution_count": 20,
     "metadata": {},
     "output_type": "execute_result"
    },
    {
     "data": {
      "image/png": "[encoded data removed]",
      "text/plain": [
       "<Figure size 432x288 with 1 Axes>"
      ]
     },
     "metadata": {
      "needs_background": "light"
     },
     "output_type": "display_data"
    }
   ],
   "source": [
    "\n",
    "corr,_ = pearsonr(ny['DRVRCNT'],ny['NUMADLT'])\n",
    "print(\"Pearson Corelation of: \",str(corr), \"between DRVRCNT and NUMADLT. May remove one is too many variables\")\n",
    "\n",
    "sns.scatterplot(x = ny['DRVRCNT'], y = ny['NUMADLT'])\n",
    "#"
   ]
  },
  {
   "cell_type": "code",
   "execution_count": 21,
   "metadata": {},
   "outputs": [
    {
     "name": "stdout",
     "output_type": "stream",
     "text": [
      "   counts  percentage\n",
      "2    8176   52.289588\n",
      "1    5849   37.407265\n",
      "3    1187    7.591456\n",
      "4     316    2.020977\n",
      "0      56    0.358148\n",
      "5      44    0.281402\n",
      "6       7    0.044768\n",
      "7       1    0.006395\n",
      "_______________________\n",
      "new value counts for DRVRCNT\n",
      "    counts  percentage\n",
      "2     8176   52.289588\n",
      "1     5849   37.407265\n",
      ">2    1555    9.944999\n",
      "0       56    0.358148\n"
     ]
    },
    {
     "data": {
      "image/png": "[encoded data removed]",
      "text/plain": [
       "<Figure size 432x288 with 1 Axes>"
      ]
     },
     "metadata": {
      "needs_background": "light"
     },
     "output_type": "display_data"
    }
   ],
   "source": [
    "cat_col_prop(ny,'DRVRCNT')\n",
    "\n",
    "# will bin those with >2 drivers together\n",
    "ny['DRVRCNT'][ny['DRVRCNT']>2] = \">2\"\n",
    "\n",
    "print(\"_______________________\")\n",
    "print(\"new value counts for DRVRCNT\")\n",
    "\n",
    "print(pd.concat([ny['DRVRCNT'].value_counts(),\n",
    "          ny['DRVRCNT'].value_counts(normalize = True).mul(100)],axis = 1, keys = ('counts','percentage'))\n",
    "     )"
   ]
  },
  {
   "cell_type": "code",
   "execution_count": 22,
   "metadata": {},
   "outputs": [
    {
     "data": {
      "text/html": [
       "<div>\n",
       "<style scoped>\n",
       "    .dataframe tbody tr th:only-of-type {\n",
       "        vertical-align: middle;\n",
       "    }\n",
       "\n",
       "    .dataframe tbody tr th {\n",
       "        vertical-align: top;\n",
       "    }\n",
       "\n",
       "    .dataframe thead th {\n",
       "        text-align: right;\n",
       "    }\n",
       "</style>\n",
       "<table border=\"1\" class=\"dataframe\">\n",
       "  <thead>\n",
       "    <tr style=\"text-align: right;\">\n",
       "      <th></th>\n",
       "      <th>HOUSEID</th>\n",
       "      <th>TRAVDAY</th>\n",
       "      <th>SAMPSTRAT</th>\n",
       "      <th>PC</th>\n",
       "      <th>SPHONE</th>\n",
       "      <th>TAB</th>\n",
       "      <th>WALK</th>\n",
       "      <th>BIKE</th>\n",
       "      <th>CAR</th>\n",
       "      <th>TAXI</th>\n",
       "      <th>...</th>\n",
       "      <th>WEBUSE17</th>\n",
       "      <th>SMPLSRCE</th>\n",
       "      <th>WTHHFIN</th>\n",
       "      <th>HTHTNRNT</th>\n",
       "      <th>HTPPOPDN</th>\n",
       "      <th>HTRESDN</th>\n",
       "      <th>HTEEMPDN</th>\n",
       "      <th>HBHTNRNT</th>\n",
       "      <th>HBPPOPDN</th>\n",
       "      <th>HBRESDN</th>\n",
       "    </tr>\n",
       "  </thead>\n",
       "  <tbody>\n",
       "    <tr>\n",
       "      <th>count</th>\n",
       "      <td>5.600000e+01</td>\n",
       "      <td>56.000000</td>\n",
       "      <td>56.000000</td>\n",
       "      <td>56.000000</td>\n",
       "      <td>56.000000</td>\n",
       "      <td>56.000000</td>\n",
       "      <td>56.000000</td>\n",
       "      <td>56.000000</td>\n",
       "      <td>56.000000</td>\n",
       "      <td>56.000000</td>\n",
       "      <td>...</td>\n",
       "      <td>56.000000</td>\n",
       "      <td>56.000000</td>\n",
       "      <td>56.000000</td>\n",
       "      <td>56.000000</td>\n",
       "      <td>56.000000</td>\n",
       "      <td>56.000000</td>\n",
       "      <td>56.000000</td>\n",
       "      <td>56.000000</td>\n",
       "      <td>56.000000</td>\n",
       "      <td>56.000000</td>\n",
       "    </tr>\n",
       "    <tr>\n",
       "      <th>mean</th>\n",
       "      <td>3.550968e+07</td>\n",
       "      <td>4.178571</td>\n",
       "      <td>2.714286</td>\n",
       "      <td>2.607143</td>\n",
       "      <td>2.214286</td>\n",
       "      <td>2.839286</td>\n",
       "      <td>1.803571</td>\n",
       "      <td>2.553571</td>\n",
       "      <td>2.410714</td>\n",
       "      <td>2.571429</td>\n",
       "      <td>...</td>\n",
       "      <td>2.321429</td>\n",
       "      <td>1.928571</td>\n",
       "      <td>328.238331</td>\n",
       "      <td>26.000000</td>\n",
       "      <td>2998.053571</td>\n",
       "      <td>1402.517857</td>\n",
       "      <td>999.839286</td>\n",
       "      <td>25.107143</td>\n",
       "      <td>3134.660714</td>\n",
       "      <td>1448.053571</td>\n",
       "    </tr>\n",
       "    <tr>\n",
       "      <th>std</th>\n",
       "      <td>5.075576e+06</td>\n",
       "      <td>1.973526</td>\n",
       "      <td>1.090693</td>\n",
       "      <td>3.251174</td>\n",
       "      <td>4.305237</td>\n",
       "      <td>4.035194</td>\n",
       "      <td>4.730634</td>\n",
       "      <td>5.141346</td>\n",
       "      <td>1.474348</td>\n",
       "      <td>5.134047</td>\n",
       "      <td>...</td>\n",
       "      <td>2.867417</td>\n",
       "      <td>0.259870</td>\n",
       "      <td>673.880020</td>\n",
       "      <td>17.964612</td>\n",
       "      <td>5539.648609</td>\n",
       "      <td>2823.995963</td>\n",
       "      <td>1461.105307</td>\n",
       "      <td>19.704802</td>\n",
       "      <td>5582.059093</td>\n",
       "      <td>2822.493961</td>\n",
       "    </tr>\n",
       "    <tr>\n",
       "      <th>min</th>\n",
       "      <td>3.008108e+07</td>\n",
       "      <td>1.000000</td>\n",
       "      <td>1.000000</td>\n",
       "      <td>-9.000000</td>\n",
       "      <td>-9.000000</td>\n",
       "      <td>-9.000000</td>\n",
       "      <td>-9.000000</td>\n",
       "      <td>-9.000000</td>\n",
       "      <td>-1.000000</td>\n",
       "      <td>-9.000000</td>\n",
       "      <td>...</td>\n",
       "      <td>-9.000000</td>\n",
       "      <td>1.000000</td>\n",
       "      <td>15.259318</td>\n",
       "      <td>-9.000000</td>\n",
       "      <td>-9.000000</td>\n",
       "      <td>-9.000000</td>\n",
       "      <td>-9.000000</td>\n",
       "      <td>-9.000000</td>\n",
       "      <td>-9.000000</td>\n",
       "      <td>-9.000000</td>\n",
       "    </tr>\n",
       "    <tr>\n",
       "      <th>25%</th>\n",
       "      <td>3.032250e+07</td>\n",
       "      <td>3.000000</td>\n",
       "      <td>2.000000</td>\n",
       "      <td>1.000000</td>\n",
       "      <td>1.000000</td>\n",
       "      <td>2.000000</td>\n",
       "      <td>1.000000</td>\n",
       "      <td>4.000000</td>\n",
       "      <td>2.000000</td>\n",
       "      <td>4.000000</td>\n",
       "      <td>...</td>\n",
       "      <td>1.000000</td>\n",
       "      <td>2.000000</td>\n",
       "      <td>53.999105</td>\n",
       "      <td>16.250000</td>\n",
       "      <td>50.000000</td>\n",
       "      <td>50.000000</td>\n",
       "      <td>25.000000</td>\n",
       "      <td>5.000000</td>\n",
       "      <td>300.000000</td>\n",
       "      <td>50.000000</td>\n",
       "    </tr>\n",
       "    <tr>\n",
       "      <th>50%</th>\n",
       "      <td>4.007016e+07</td>\n",
       "      <td>4.000000</td>\n",
       "      <td>3.000000</td>\n",
       "      <td>3.000000</td>\n",
       "      <td>5.000000</td>\n",
       "      <td>5.000000</td>\n",
       "      <td>4.000000</td>\n",
       "      <td>5.000000</td>\n",
       "      <td>2.000000</td>\n",
       "      <td>5.000000</td>\n",
       "      <td>...</td>\n",
       "      <td>1.500000</td>\n",
       "      <td>2.000000</td>\n",
       "      <td>142.212181</td>\n",
       "      <td>20.000000</td>\n",
       "      <td>300.000000</td>\n",
       "      <td>300.000000</td>\n",
       "      <td>150.000000</td>\n",
       "      <td>20.000000</td>\n",
       "      <td>750.000000</td>\n",
       "      <td>300.000000</td>\n",
       "    </tr>\n",
       "    <tr>\n",
       "      <th>75%</th>\n",
       "      <td>4.039824e+07</td>\n",
       "      <td>6.000000</td>\n",
       "      <td>4.000000</td>\n",
       "      <td>5.000000</td>\n",
       "      <td>5.000000</td>\n",
       "      <td>5.000000</td>\n",
       "      <td>5.000000</td>\n",
       "      <td>5.000000</td>\n",
       "      <td>3.000000</td>\n",
       "      <td>5.000000</td>\n",
       "      <td>...</td>\n",
       "      <td>5.000000</td>\n",
       "      <td>2.000000</td>\n",
       "      <td>290.463949</td>\n",
       "      <td>40.000000</td>\n",
       "      <td>3000.000000</td>\n",
       "      <td>1500.000000</td>\n",
       "      <td>1500.000000</td>\n",
       "      <td>40.000000</td>\n",
       "      <td>3000.000000</td>\n",
       "      <td>1500.000000</td>\n",
       "    </tr>\n",
       "    <tr>\n",
       "      <th>max</th>\n",
       "      <td>4.077127e+07</td>\n",
       "      <td>7.000000</td>\n",
       "      <td>4.000000</td>\n",
       "      <td>5.000000</td>\n",
       "      <td>5.000000</td>\n",
       "      <td>5.000000</td>\n",
       "      <td>5.000000</td>\n",
       "      <td>5.000000</td>\n",
       "      <td>5.000000</td>\n",
       "      <td>5.000000</td>\n",
       "      <td>...</td>\n",
       "      <td>5.000000</td>\n",
       "      <td>2.000000</td>\n",
       "      <td>3834.854389</td>\n",
       "      <td>70.000000</td>\n",
       "      <td>30000.000000</td>\n",
       "      <td>17000.000000</td>\n",
       "      <td>5000.000000</td>\n",
       "      <td>90.000000</td>\n",
       "      <td>30000.000000</td>\n",
       "      <td>17000.000000</td>\n",
       "    </tr>\n",
       "  </tbody>\n",
       "</table>\n",
       "<p>8 rows × 50 columns</p>\n",
       "</div>"
      ],
      "text/plain": [
       "            HOUSEID    TRAVDAY  SAMPSTRAT         PC     SPHONE        TAB  \\\n",
       "count  5.600000e+01  56.000000  56.000000  56.000000  56.000000  56.000000   \n",
       "mean   3.550968e+07   4.178571   2.714286   2.607143   2.214286   2.839286   \n",
       "std    5.075576e+06   1.973526   1.090693   3.251174   4.305237   4.035194   \n",
       "min    3.008108e+07   1.000000   1.000000  -9.000000  -9.000000  -9.000000   \n",
       "25%    3.032250e+07   3.000000   2.000000   1.000000   1.000000   2.000000   \n",
       "50%    4.007016e+07   4.000000   3.000000   3.000000   5.000000   5.000000   \n",
       "75%    4.039824e+07   6.000000   4.000000   5.000000   5.000000   5.000000   \n",
       "max    4.077127e+07   7.000000   4.000000   5.000000   5.000000   5.000000   \n",
       "\n",
       "            WALK       BIKE        CAR       TAXI  ...   WEBUSE17   SMPLSRCE  \\\n",
       "count  56.000000  56.000000  56.000000  56.000000  ...  56.000000  56.000000   \n",
       "mean    1.803571   2.553571   2.410714   2.571429  ...   2.321429   1.928571   \n",
       "std     4.730634   5.141346   1.474348   5.134047  ...   2.867417   0.259870   \n",
       "min    -9.000000  -9.000000  -1.000000  -9.000000  ...  -9.000000   1.000000   \n",
       "25%     1.000000   4.000000   2.000000   4.000000  ...   1.000000   2.000000   \n",
       "50%     4.000000   5.000000   2.000000   5.000000  ...   1.500000   2.000000   \n",
       "75%     5.000000   5.000000   3.000000   5.000000  ...   5.000000   2.000000   \n",
       "max     5.000000   5.000000   5.000000   5.000000  ...   5.000000   2.000000   \n",
       "\n",
       "           WTHHFIN   HTHTNRNT      HTPPOPDN       HTRESDN     HTEEMPDN  \\\n",
       "count    56.000000  56.000000     56.000000     56.000000    56.000000   \n",
       "mean    328.238331  26.000000   2998.053571   1402.517857   999.839286   \n",
       "std     673.880020  17.964612   5539.648609   2823.995963  1461.105307   \n",
       "min      15.259318  -9.000000     -9.000000     -9.000000    -9.000000   \n",
       "25%      53.999105  16.250000     50.000000     50.000000    25.000000   \n",
       "50%     142.212181  20.000000    300.000000    300.000000   150.000000   \n",
       "75%     290.463949  40.000000   3000.000000   1500.000000  1500.000000   \n",
       "max    3834.854389  70.000000  30000.000000  17000.000000  5000.000000   \n",
       "\n",
       "        HBHTNRNT      HBPPOPDN       HBRESDN  \n",
       "count  56.000000     56.000000     56.000000  \n",
       "mean   25.107143   3134.660714   1448.053571  \n",
       "std    19.704802   5582.059093   2822.493961  \n",
       "min    -9.000000     -9.000000     -9.000000  \n",
       "25%     5.000000    300.000000     50.000000  \n",
       "50%    20.000000    750.000000    300.000000  \n",
       "75%    40.000000   3000.000000   1500.000000  \n",
       "max    90.000000  30000.000000  17000.000000  \n",
       "\n",
       "[8 rows x 50 columns]"
      ]
     },
     "execution_count": 22,
     "metadata": {},
     "output_type": "execute_result"
    }
   ],
   "source": [
    "# interestingly got 0.3% of the household got 0 drivers but have cars \n",
    "ny[ny['DRVRCNT']==0].describe() "
   ]
  },
  {
   "cell_type": "code",
   "execution_count": 23,
   "metadata": {},
   "outputs": [
    {
     "name": "stdout",
     "output_type": "stream",
     "text": [
      "    counts  percentage\n",
      "2     8176   52.289588\n",
      "1     5849   37.407265\n",
      ">2    1555    9.944999\n",
      "0       56    0.358148\n"
     ]
    }
   ],
   "source": [
    "print(pd.concat([ny['DRVRCNT'].value_counts(),\n",
    "          ny['DRVRCNT'].value_counts(normalize = True).mul(100)],axis = 1, keys = ('counts','percentage'))\n",
    "     )"
   ]
  },
  {
   "cell_type": "markdown",
   "metadata": {},
   "source": [
    "### NUMADLT / YOUNGCHILD / WRKCOUNT  (TBC)"
   ]
  },
  {
   "cell_type": "code",
   "execution_count": 24,
   "metadata": {},
   "outputs": [
    {
     "name": "stdout",
     "output_type": "stream",
     "text": [
      "    counts  percentage\n",
      "2     8876   56.766436\n",
      "1     5018   32.092607\n",
      "3     1316    8.416475\n",
      "4      348    2.225633\n",
      "5       66    0.422103\n",
      "6        8    0.051164\n",
      "7        2    0.012791\n",
      "8        1    0.006395\n",
      "10       1    0.006395\n",
      "_______________________\n",
      "new value counts for NUMADLT\n",
      "    counts  percentage\n",
      "2     8876   56.766436\n",
      "1     5018   32.092607\n",
      ">2    1742   11.140957\n"
     ]
    },
    {
     "data": {
      "image/png": "[encoded data removed]",
      "text/plain": [
       "<Figure size 432x288 with 1 Axes>"
      ]
     },
     "metadata": {
      "needs_background": "light"
     },
     "output_type": "display_data"
    }
   ],
   "source": [
    "cat_col_prop(ny,'NUMADLT')\n",
    "\n",
    "# will bin those with >2 adults together\n",
    "ny['NUMADLT'][ny['NUMADLT']>2] = \">2\"\n",
    "\n",
    "print(\"_______________________\")\n",
    "print(\"new value counts for NUMADLT\")\n",
    "\n",
    "print(pd.concat([ny['NUMADLT'].value_counts(),\n",
    "          ny['NUMADLT'].value_counts(normalize = True).mul(100)],axis = 1, keys = ('counts','percentage'))\n",
    "     )"
   ]
  },
  {
   "cell_type": "markdown",
   "metadata": {},
   "source": [
    "### URBAN/ URBBUR/ URBANSIZE/ HBHUR (TBC)"
   ]
  },
  {
   "cell_type": "markdown",
   "metadata": {},
   "source": []
  },
  {
   "cell_type": "markdown",
   "metadata": {},
   "source": [
    "## 2. Trip"
   ]
  },
  {
   "cell_type": "code",
   "execution_count": 192,
   "metadata": {},
   "outputs": [
    {
     "data": {
      "text/html": [
       "<div>\n",
       "<style scoped>\n",
       "    .dataframe tbody tr th:only-of-type {\n",
       "        vertical-align: middle;\n",
       "    }\n",
       "\n",
       "    .dataframe tbody tr th {\n",
       "        vertical-align: top;\n",
       "    }\n",
       "\n",
       "    .dataframe thead th {\n",
       "        text-align: right;\n",
       "    }\n",
       "</style>\n",
       "<table border=\"1\" class=\"dataframe\">\n",
       "  <thead>\n",
       "    <tr style=\"text-align: right;\">\n",
       "      <th></th>\n",
       "      <th>HOUSEID</th>\n",
       "      <th>PERSONID</th>\n",
       "      <th>TDTRPNUM</th>\n",
       "      <th>STRTTIME</th>\n",
       "      <th>ENDTIME</th>\n",
       "      <th>TRVLCMIN</th>\n",
       "      <th>TRPMILES</th>\n",
       "      <th>TRPTRANS</th>\n",
       "      <th>TRPACCMP</th>\n",
       "      <th>TRPHHACC</th>\n",
       "      <th>...</th>\n",
       "      <th>OBHTNRNT</th>\n",
       "      <th>OBPPOPDN</th>\n",
       "      <th>OBRESDN</th>\n",
       "      <th>DTHTNRNT</th>\n",
       "      <th>DTPPOPDN</th>\n",
       "      <th>DTRESDN</th>\n",
       "      <th>DTEEMPDN</th>\n",
       "      <th>DBHTNRNT</th>\n",
       "      <th>DBPPOPDN</th>\n",
       "      <th>DBRESDN</th>\n",
       "    </tr>\n",
       "  </thead>\n",
       "  <tbody>\n",
       "    <tr>\n",
       "      <th>0</th>\n",
       "      <td>30000007</td>\n",
       "      <td>1</td>\n",
       "      <td>1</td>\n",
       "      <td>1000</td>\n",
       "      <td>1015</td>\n",
       "      <td>15</td>\n",
       "      <td>5.244</td>\n",
       "      <td>3</td>\n",
       "      <td>0</td>\n",
       "      <td>0</td>\n",
       "      <td>...</td>\n",
       "      <td>20</td>\n",
       "      <td>750</td>\n",
       "      <td>300</td>\n",
       "      <td>50</td>\n",
       "      <td>750</td>\n",
       "      <td>300</td>\n",
       "      <td>350</td>\n",
       "      <td>30</td>\n",
       "      <td>300</td>\n",
       "      <td>300</td>\n",
       "    </tr>\n",
       "    <tr>\n",
       "      <th>1</th>\n",
       "      <td>30000007</td>\n",
       "      <td>1</td>\n",
       "      <td>2</td>\n",
       "      <td>1510</td>\n",
       "      <td>1530</td>\n",
       "      <td>20</td>\n",
       "      <td>5.149</td>\n",
       "      <td>3</td>\n",
       "      <td>0</td>\n",
       "      <td>0</td>\n",
       "      <td>...</td>\n",
       "      <td>30</td>\n",
       "      <td>300</td>\n",
       "      <td>300</td>\n",
       "      <td>50</td>\n",
       "      <td>1500</td>\n",
       "      <td>750</td>\n",
       "      <td>750</td>\n",
       "      <td>20</td>\n",
       "      <td>750</td>\n",
       "      <td>300</td>\n",
       "    </tr>\n",
       "    <tr>\n",
       "      <th>2</th>\n",
       "      <td>30000007</td>\n",
       "      <td>2</td>\n",
       "      <td>1</td>\n",
       "      <td>700</td>\n",
       "      <td>900</td>\n",
       "      <td>120</td>\n",
       "      <td>84.004</td>\n",
       "      <td>6</td>\n",
       "      <td>0</td>\n",
       "      <td>0</td>\n",
       "      <td>...</td>\n",
       "      <td>40</td>\n",
       "      <td>1500</td>\n",
       "      <td>750</td>\n",
       "      <td>50</td>\n",
       "      <td>1500</td>\n",
       "      <td>750</td>\n",
       "      <td>750</td>\n",
       "      <td>20</td>\n",
       "      <td>750</td>\n",
       "      <td>300</td>\n",
       "    </tr>\n",
       "    <tr>\n",
       "      <th>3</th>\n",
       "      <td>30000007</td>\n",
       "      <td>2</td>\n",
       "      <td>2</td>\n",
       "      <td>1800</td>\n",
       "      <td>2030</td>\n",
       "      <td>150</td>\n",
       "      <td>81.628</td>\n",
       "      <td>6</td>\n",
       "      <td>0</td>\n",
       "      <td>0</td>\n",
       "      <td>...</td>\n",
       "      <td>20</td>\n",
       "      <td>750</td>\n",
       "      <td>300</td>\n",
       "      <td>40</td>\n",
       "      <td>1500</td>\n",
       "      <td>750</td>\n",
       "      <td>750</td>\n",
       "      <td>40</td>\n",
       "      <td>1500</td>\n",
       "      <td>750</td>\n",
       "    </tr>\n",
       "    <tr>\n",
       "      <th>4</th>\n",
       "      <td>30000007</td>\n",
       "      <td>3</td>\n",
       "      <td>1</td>\n",
       "      <td>845</td>\n",
       "      <td>900</td>\n",
       "      <td>15</td>\n",
       "      <td>2.250</td>\n",
       "      <td>3</td>\n",
       "      <td>0</td>\n",
       "      <td>0</td>\n",
       "      <td>...</td>\n",
       "      <td>20</td>\n",
       "      <td>750</td>\n",
       "      <td>300</td>\n",
       "      <td>50</td>\n",
       "      <td>750</td>\n",
       "      <td>300</td>\n",
       "      <td>350</td>\n",
       "      <td>60</td>\n",
       "      <td>750</td>\n",
       "      <td>300</td>\n",
       "    </tr>\n",
       "  </tbody>\n",
       "</table>\n",
       "<p>5 rows × 115 columns</p>\n",
       "</div>"
      ],
      "text/plain": [
       "    HOUSEID  PERSONID  TDTRPNUM  STRTTIME  ENDTIME  TRVLCMIN  TRPMILES  \\\n",
       "0  30000007         1         1      1000     1015        15     5.244   \n",
       "1  30000007         1         2      1510     1530        20     5.149   \n",
       "2  30000007         2         1       700      900       120    84.004   \n",
       "3  30000007         2         2      1800     2030       150    81.628   \n",
       "4  30000007         3         1       845      900        15     2.250   \n",
       "\n",
       "   TRPTRANS  TRPACCMP  TRPHHACC  ...  OBHTNRNT  OBPPOPDN  OBRESDN  DTHTNRNT  \\\n",
       "0         3         0         0  ...        20       750      300        50   \n",
       "1         3         0         0  ...        30       300      300        50   \n",
       "2         6         0         0  ...        40      1500      750        50   \n",
       "3         6         0         0  ...        20       750      300        40   \n",
       "4         3         0         0  ...        20       750      300        50   \n",
       "\n",
       "   DTPPOPDN  DTRESDN  DTEEMPDN  DBHTNRNT  DBPPOPDN  DBRESDN  \n",
       "0       750      300       350        30       300      300  \n",
       "1      1500      750       750        20       750      300  \n",
       "2      1500      750       750        20       750      300  \n",
       "3      1500      750       750        40      1500      750  \n",
       "4       750      300       350        60       750      300  \n",
       "\n",
       "[5 rows x 115 columns]"
      ]
     },
     "execution_count": 192,
     "metadata": {},
     "output_type": "execute_result"
    }
   ],
   "source": [
    "trip.head()"
   ]
  },
  {
   "cell_type": "code",
   "execution_count": 170,
   "metadata": {},
   "outputs": [
    {
     "data": {
      "text/plain": [
       "['HOUSEID',\n",
       " 'PERSONID',\n",
       " 'TDTRPNUM',\n",
       " 'STRTTIME',\n",
       " 'ENDTIME',\n",
       " 'TRVLCMIN',\n",
       " 'TRPMILES',\n",
       " 'TRPTRANS',\n",
       " 'TRPACCMP',\n",
       " 'TRPHHACC',\n",
       " 'VEHID',\n",
       " 'TRWAITTM',\n",
       " 'NUMTRANS',\n",
       " 'TRACCTM',\n",
       " 'DROP_PRK',\n",
       " 'TREGRTM',\n",
       " 'WHODROVE',\n",
       " 'WHYFROM',\n",
       " 'LOOP_TRIP',\n",
       " 'TRPHHVEH',\n",
       " 'HHMEMDRV',\n",
       " 'HH_ONTD',\n",
       " 'NONHHCNT',\n",
       " 'NUMONTRP',\n",
       " 'PSGR_FLG',\n",
       " 'PUBTRANS',\n",
       " 'TRIPPURP',\n",
       " 'DWELTIME',\n",
       " 'TDWKND',\n",
       " 'VMT_MILE',\n",
       " 'DRVR_FLG',\n",
       " 'WHYTRP1S',\n",
       " 'ONTD_P1',\n",
       " 'ONTD_P2',\n",
       " 'ONTD_P3',\n",
       " 'ONTD_P4',\n",
       " 'ONTD_P5',\n",
       " 'ONTD_P6',\n",
       " 'ONTD_P7',\n",
       " 'ONTD_P8',\n",
       " 'ONTD_P9',\n",
       " 'ONTD_P10',\n",
       " 'ONTD_P11',\n",
       " 'ONTD_P12',\n",
       " 'ONTD_P13',\n",
       " 'TDCASEID',\n",
       " 'TRACC_WLK',\n",
       " 'TRACC_POV',\n",
       " 'TRACC_BUS',\n",
       " 'TRACC_CRL',\n",
       " 'TRACC_SUB',\n",
       " 'TRACC_OTH',\n",
       " 'TREGR_WLK',\n",
       " 'TREGR_POV',\n",
       " 'TREGR_BUS',\n",
       " 'TREGR_CRL',\n",
       " 'TREGR_SUB',\n",
       " 'TREGR_OTH',\n",
       " 'WHYTO',\n",
       " 'TRAVDAY',\n",
       " 'HOMEOWN',\n",
       " 'HHSIZE',\n",
       " 'HHVEHCNT',\n",
       " 'HHFAMINC',\n",
       " 'DRVRCNT',\n",
       " 'HHSTATE',\n",
       " 'HHSTFIPS',\n",
       " 'NUMADLT',\n",
       " 'WRKCOUNT',\n",
       " 'TDAYDATE',\n",
       " 'HHRESP',\n",
       " 'LIF_CYC',\n",
       " 'MSACAT',\n",
       " 'MSASIZE',\n",
       " 'RAIL',\n",
       " 'URBAN',\n",
       " 'URBANSIZE',\n",
       " 'URBRUR',\n",
       " 'GASPRICE',\n",
       " 'CENSUS_D',\n",
       " 'CENSUS_R',\n",
       " 'CDIVMSAR',\n",
       " 'HH_RACE',\n",
       " 'HH_HISP',\n",
       " 'HH_CBSA',\n",
       " 'SMPLSRCE',\n",
       " 'R_AGE',\n",
       " 'EDUC',\n",
       " 'R_SEX',\n",
       " 'PRMACT',\n",
       " 'PROXY',\n",
       " 'WORKER',\n",
       " 'DRIVER',\n",
       " 'WTTRDFIN',\n",
       " 'WHYTRP90',\n",
       " 'TRPMILAD',\n",
       " 'R_AGE_IMP',\n",
       " 'R_SEX_IMP',\n",
       " 'VEHTYPE',\n",
       " 'OBHUR',\n",
       " 'DBHUR',\n",
       " 'OTHTNRNT',\n",
       " 'OTPPOPDN',\n",
       " 'OTRESDN',\n",
       " 'OTEEMPDN',\n",
       " 'OBHTNRNT',\n",
       " 'OBPPOPDN',\n",
       " 'OBRESDN',\n",
       " 'DTHTNRNT',\n",
       " 'DTPPOPDN',\n",
       " 'DTRESDN',\n",
       " 'DTEEMPDN',\n",
       " 'DBHTNRNT',\n",
       " 'DBPPOPDN',\n",
       " 'DBRESDN']"
      ]
     },
     "execution_count": 170,
     "metadata": {},
     "output_type": "execute_result"
    }
   ],
   "source": [
    "[c for c in trip.columns]"
   ]
  },
  {
   "cell_type": "code",
   "execution_count": 227,
   "metadata": {},
   "outputs": [],
   "source": [
    "trip = trip[['HOUSEID','TRAVDAY','TRPMILES','TRPHHVEH','TRPTRANS','WHYTRP1S','WHYTRP90']]\n",
    "ny_trip = trip[trip['HOUSEID'].isin(ny['HOUSEID'])]"
   ]
  },
  {
   "cell_type": "code",
   "execution_count": 228,
   "metadata": {},
   "outputs": [
    {
     "data": {
      "text/plain": [
       "(113616, 7)"
      ]
     },
     "execution_count": 228,
     "metadata": {},
     "output_type": "execute_result"
    }
   ],
   "source": [
    "ny_trip.shape"
   ]
  },
  {
   "cell_type": "markdown",
   "metadata": {},
   "source": [
    "### Trip Transport"
   ]
  },
  {
   "cell_type": "code",
   "execution_count": 229,
   "metadata": {},
   "outputs": [],
   "source": [
    "ny_trip['TRPTRANS'].value_counts()\n",
    "# TO CHECK 8 - do we want to count motorbike/mopeds as vehicles???\n",
    "ny_trip = ny_trip[ny_trip['TRPTRANS'].isin([3,4,5,6,8])]\n"
   ]
  },
  {
   "cell_type": "code",
   "execution_count": 230,
   "metadata": {},
   "outputs": [
    {
     "data": {
      "text/html": [
       "<div>\n",
       "<style scoped>\n",
       "    .dataframe tbody tr th:only-of-type {\n",
       "        vertical-align: middle;\n",
       "    }\n",
       "\n",
       "    .dataframe tbody tr th {\n",
       "        vertical-align: top;\n",
       "    }\n",
       "\n",
       "    .dataframe thead th {\n",
       "        text-align: right;\n",
       "    }\n",
       "</style>\n",
       "<table border=\"1\" class=\"dataframe\">\n",
       "  <thead>\n",
       "    <tr style=\"text-align: right;\">\n",
       "      <th></th>\n",
       "      <th>counts</th>\n",
       "      <th>percentages</th>\n",
       "    </tr>\n",
       "  </thead>\n",
       "  <tbody>\n",
       "    <tr>\n",
       "      <th>6</th>\n",
       "      <td>15094</td>\n",
       "      <td>15.530085</td>\n",
       "    </tr>\n",
       "    <tr>\n",
       "      <th>7</th>\n",
       "      <td>14306</td>\n",
       "      <td>14.719318</td>\n",
       "    </tr>\n",
       "    <tr>\n",
       "      <th>5</th>\n",
       "      <td>14099</td>\n",
       "      <td>14.506338</td>\n",
       "    </tr>\n",
       "    <tr>\n",
       "      <th>4</th>\n",
       "      <td>14081</td>\n",
       "      <td>14.487818</td>\n",
       "    </tr>\n",
       "    <tr>\n",
       "      <th>3</th>\n",
       "      <td>13809</td>\n",
       "      <td>14.207960</td>\n",
       "    </tr>\n",
       "    <tr>\n",
       "      <th>2</th>\n",
       "      <td>13625</td>\n",
       "      <td>14.018644</td>\n",
       "    </tr>\n",
       "    <tr>\n",
       "      <th>1</th>\n",
       "      <td>12178</td>\n",
       "      <td>12.529838</td>\n",
       "    </tr>\n",
       "  </tbody>\n",
       "</table>\n",
       "</div>"
      ],
      "text/plain": [
       "   counts  percentages\n",
       "6   15094    15.530085\n",
       "7   14306    14.719318\n",
       "5   14099    14.506338\n",
       "4   14081    14.487818\n",
       "3   13809    14.207960\n",
       "2   13625    14.018644\n",
       "1   12178    12.529838"
      ]
     },
     "execution_count": 230,
     "metadata": {},
     "output_type": "execute_result"
    },
    {
     "data": {
      "image/png": "[encoded data removed]",
      "text/plain": [
       "<Figure size 432x288 with 1 Axes>"
      ]
     },
     "metadata": {
      "needs_background": "light"
     },
     "output_type": "display_data"
    }
   ],
   "source": [
    "sns.histplot(ny_trip['TRAVDAY'])\n",
    "\n",
    "pd.concat([ny_trip['TRAVDAY'].value_counts(),\n",
    "           ny_trip['TRAVDAY'].value_counts(normalize = True).mul(100)],\n",
    "          axis = 1, keys=('counts','percentages'))"
   ]
  },
  {
   "cell_type": "code",
   "execution_count": 231,
   "metadata": {},
   "outputs": [
    {
     "ename": "SyntaxError",
     "evalue": "invalid syntax (<ipython-input-231-b032764f842e>, line 2)",
     "output_type": "error",
     "traceback": [
      "\u001b[1;36m  File \u001b[1;32m\"<ipython-input-231-b032764f842e>\"\u001b[1;36m, line \u001b[1;32m2\u001b[0m\n\u001b[1;33m    ''})\u001b[0m\n\u001b[1;37m      ^\u001b[0m\n\u001b[1;31mSyntaxError\u001b[0m\u001b[1;31m:\u001b[0m invalid syntax\n"
     ]
    }
   ],
   "source": [
    "ny_trip.groupby('HOUSEID').agg({'TRPTRANS':'size',\n",
    "                               ''})"
   ]
  },
  {
   "cell_type": "markdown",
   "metadata": {},
   "source": [
    "## Why Trip"
   ]
  },
  {
   "cell_type": "code",
   "execution_count": 263,
   "metadata": {},
   "outputs": [
    {
     "name": "stdout",
     "output_type": "stream",
     "text": [
      "# of trips with dist <=0 24  out of 97192\n"
     ]
    }
   ],
   "source": [
    "# since only 24 lines with trip distance <= 0, removed lines\n",
    "print('# of trips with dist <=0', str(sum(ny_trip['TRPMILES']<=0)),' out of', str(len(ny_trip)))\n",
    "\n",
    "ny_trip = ny_trip[ny_trip['TRPMILES']>0]"
   ]
  },
  {
   "cell_type": "code",
   "execution_count": 400,
   "metadata": {},
   "outputs": [],
   "source": [
    "purpose_summ = ny_trip.groupby(['HOUSEID','WHYTRP90']).agg(avg = ('TRPMILES','mean'),\n",
    "                                            med = ('TRPMILES', 'median'),\n",
    "                                        mod  = ('TRPMILES', lambda x: x.value_counts().index[0])\n",
    "                                           ).unstack().reset_index()"
   ]
  },
  {
   "cell_type": "code",
   "execution_count": 405,
   "metadata": {},
   "outputs": [
    {
     "data": {
      "text/html": [
       "<div>\n",
       "<style scoped>\n",
       "    .dataframe tbody tr th:only-of-type {\n",
       "        vertical-align: middle;\n",
       "    }\n",
       "\n",
       "    .dataframe tbody tr th {\n",
       "        vertical-align: top;\n",
       "    }\n",
       "\n",
       "    .dataframe thead th {\n",
       "        text-align: right;\n",
       "    }\n",
       "</style>\n",
       "<table border=\"1\" class=\"dataframe\">\n",
       "  <thead>\n",
       "    <tr style=\"text-align: right;\">\n",
       "      <th></th>\n",
       "      <th></th>\n",
       "      <th>avg</th>\n",
       "      <th>med</th>\n",
       "      <th>mod</th>\n",
       "      <th>skew</th>\n",
       "      <th>count</th>\n",
       "    </tr>\n",
       "    <tr>\n",
       "      <th>HOUSEID</th>\n",
       "      <th>WHYTRP90</th>\n",
       "      <th></th>\n",
       "      <th></th>\n",
       "      <th></th>\n",
       "      <th></th>\n",
       "      <th></th>\n",
       "    </tr>\n",
       "  </thead>\n",
       "  <tbody>\n",
       "    <tr>\n",
       "      <th rowspan=\"4\" valign=\"top\">30000012</th>\n",
       "      <th>1</th>\n",
       "      <td>7.95250</td>\n",
       "      <td>7.9525</td>\n",
       "      <td>6.818</td>\n",
       "      <td>NaN</td>\n",
       "      <td>2</td>\n",
       "    </tr>\n",
       "    <tr>\n",
       "      <th>2</th>\n",
       "      <td>4.29100</td>\n",
       "      <td>4.2910</td>\n",
       "      <td>4.291</td>\n",
       "      <td>NaN</td>\n",
       "      <td>1</td>\n",
       "    </tr>\n",
       "    <tr>\n",
       "      <th>8</th>\n",
       "      <td>48.87900</td>\n",
       "      <td>48.8790</td>\n",
       "      <td>49.457</td>\n",
       "      <td>NaN</td>\n",
       "      <td>2</td>\n",
       "    </tr>\n",
       "    <tr>\n",
       "      <th>10</th>\n",
       "      <td>2.21575</td>\n",
       "      <td>2.2270</td>\n",
       "      <td>3.395</td>\n",
       "      <td>-0.000946</td>\n",
       "      <td>4</td>\n",
       "    </tr>\n",
       "    <tr>\n",
       "      <th>30000082</th>\n",
       "      <th>1</th>\n",
       "      <td>1.75200</td>\n",
       "      <td>1.7520</td>\n",
       "      <td>0.777</td>\n",
       "      <td>NaN</td>\n",
       "      <td>2</td>\n",
       "    </tr>\n",
       "    <tr>\n",
       "      <th>...</th>\n",
       "      <th>...</th>\n",
       "      <td>...</td>\n",
       "      <td>...</td>\n",
       "      <td>...</td>\n",
       "      <td>...</td>\n",
       "      <td>...</td>\n",
       "    </tr>\n",
       "    <tr>\n",
       "      <th rowspan=\"2\" valign=\"top\">40793974</th>\n",
       "      <th>8</th>\n",
       "      <td>5.01800</td>\n",
       "      <td>5.0180</td>\n",
       "      <td>5.018</td>\n",
       "      <td>NaN</td>\n",
       "      <td>1</td>\n",
       "    </tr>\n",
       "    <tr>\n",
       "      <th>10</th>\n",
       "      <td>3.62175</td>\n",
       "      <td>3.6370</td>\n",
       "      <td>3.496</td>\n",
       "      <td>-0.073407</td>\n",
       "      <td>4</td>\n",
       "    </tr>\n",
       "    <tr>\n",
       "      <th rowspan=\"3\" valign=\"top\">40794020</th>\n",
       "      <th>3</th>\n",
       "      <td>5.27800</td>\n",
       "      <td>5.2660</td>\n",
       "      <td>5.266</td>\n",
       "      <td>1.732051</td>\n",
       "      <td>3</td>\n",
       "    </tr>\n",
       "    <tr>\n",
       "      <th>4</th>\n",
       "      <td>0.83600</td>\n",
       "      <td>0.8360</td>\n",
       "      <td>0.836</td>\n",
       "      <td>NaN</td>\n",
       "      <td>2</td>\n",
       "    </tr>\n",
       "    <tr>\n",
       "      <th>6</th>\n",
       "      <td>18.71050</td>\n",
       "      <td>18.7105</td>\n",
       "      <td>22.182</td>\n",
       "      <td>NaN</td>\n",
       "      <td>2</td>\n",
       "    </tr>\n",
       "  </tbody>\n",
       "</table>\n",
       "<p>35191 rows × 5 columns</p>\n",
       "</div>"
      ],
      "text/plain": [
       "                        avg      med     mod      skew  count\n",
       "HOUSEID  WHYTRP90                                            \n",
       "30000012 1          7.95250   7.9525   6.818       NaN      2\n",
       "         2          4.29100   4.2910   4.291       NaN      1\n",
       "         8         48.87900  48.8790  49.457       NaN      2\n",
       "         10         2.21575   2.2270   3.395 -0.000946      4\n",
       "30000082 1          1.75200   1.7520   0.777       NaN      2\n",
       "...                     ...      ...     ...       ...    ...\n",
       "40793974 8          5.01800   5.0180   5.018       NaN      1\n",
       "         10         3.62175   3.6370   3.496 -0.073407      4\n",
       "40794020 3          5.27800   5.2660   5.266  1.732051      3\n",
       "         4          0.83600   0.8360   0.836       NaN      2\n",
       "         6         18.71050  18.7105  22.182       NaN      2\n",
       "\n",
       "[35191 rows x 5 columns]"
      ]
     },
     "execution_count": 405,
     "metadata": {},
     "output_type": "execute_result"
    }
   ],
   "source": [
    "ny_trip.groupby(['HOUSEID','WHYTRP90']).agg(avg = ('TRPMILES','mean'),\n",
    "                                            med = ('TRPMILES', 'median'),\n",
    "                                        mod  = ('TRPMILES', lambda x: x.value_counts().index[0]),\n",
    "                                            skew = ('TRPMILES','skew'),\n",
    "                                            count = ('TRPMILES','count')\n",
    "                                           )"
   ]
  },
  {
   "cell_type": "code",
   "execution_count": 397,
   "metadata": {},
   "outputs": [
    {
     "data": {
      "text/html": [
       "<div>\n",
       "<style scoped>\n",
       "    .dataframe tbody tr th:only-of-type {\n",
       "        vertical-align: middle;\n",
       "    }\n",
       "\n",
       "    .dataframe tbody tr th {\n",
       "        vertical-align: top;\n",
       "    }\n",
       "\n",
       "    .dataframe thead th {\n",
       "        text-align: right;\n",
       "    }\n",
       "</style>\n",
       "<table border=\"1\" class=\"dataframe\">\n",
       "  <thead>\n",
       "    <tr style=\"text-align: right;\">\n",
       "      <th></th>\n",
       "      <th>avg</th>\n",
       "      <th>med</th>\n",
       "      <th>mod</th>\n",
       "    </tr>\n",
       "    <tr>\n",
       "      <th>HOUSEID</th>\n",
       "      <th></th>\n",
       "      <th></th>\n",
       "      <th></th>\n",
       "    </tr>\n",
       "  </thead>\n",
       "  <tbody>\n",
       "    <tr>\n",
       "      <th>30000012</th>\n",
       "      <td>7.95250</td>\n",
       "      <td>7.9525</td>\n",
       "      <td>6.818</td>\n",
       "    </tr>\n",
       "    <tr>\n",
       "      <th>30000082</th>\n",
       "      <td>1.75200</td>\n",
       "      <td>1.7520</td>\n",
       "      <td>0.777</td>\n",
       "    </tr>\n",
       "    <tr>\n",
       "      <th>30000380</th>\n",
       "      <td>1.18150</td>\n",
       "      <td>1.1815</td>\n",
       "      <td>1.191</td>\n",
       "    </tr>\n",
       "    <tr>\n",
       "      <th>30000436</th>\n",
       "      <td>1.24650</td>\n",
       "      <td>1.2465</td>\n",
       "      <td>0.678</td>\n",
       "    </tr>\n",
       "    <tr>\n",
       "      <th>30000439</th>\n",
       "      <td>0.08150</td>\n",
       "      <td>0.0815</td>\n",
       "      <td>0.082</td>\n",
       "    </tr>\n",
       "    <tr>\n",
       "      <th>...</th>\n",
       "      <td>...</td>\n",
       "      <td>...</td>\n",
       "      <td>...</td>\n",
       "    </tr>\n",
       "    <tr>\n",
       "      <th>40792273</th>\n",
       "      <td>12.59175</td>\n",
       "      <td>12.2710</td>\n",
       "      <td>7.085</td>\n",
       "    </tr>\n",
       "    <tr>\n",
       "      <th>40792390</th>\n",
       "      <td>4.86325</td>\n",
       "      <td>2.7365</td>\n",
       "      <td>1.563</td>\n",
       "    </tr>\n",
       "    <tr>\n",
       "      <th>40792484</th>\n",
       "      <td>2.53500</td>\n",
       "      <td>2.5350</td>\n",
       "      <td>2.535</td>\n",
       "    </tr>\n",
       "    <tr>\n",
       "      <th>40792552</th>\n",
       "      <td>10.13600</td>\n",
       "      <td>10.0395</td>\n",
       "      <td>10.949</td>\n",
       "    </tr>\n",
       "    <tr>\n",
       "      <th>40793555</th>\n",
       "      <td>10.89400</td>\n",
       "      <td>10.9700</td>\n",
       "      <td>2.140</td>\n",
       "    </tr>\n",
       "  </tbody>\n",
       "</table>\n",
       "<p>5968 rows × 3 columns</p>\n",
       "</div>"
      ],
      "text/plain": [
       "               avg      med     mod\n",
       "HOUSEID                            \n",
       "30000012   7.95250   7.9525   6.818\n",
       "30000082   1.75200   1.7520   0.777\n",
       "30000380   1.18150   1.1815   1.191\n",
       "30000436   1.24650   1.2465   0.678\n",
       "30000439   0.08150   0.0815   0.082\n",
       "...            ...      ...     ...\n",
       "40792273  12.59175  12.2710   7.085\n",
       "40792390   4.86325   2.7365   1.563\n",
       "40792484   2.53500   2.5350   2.535\n",
       "40792552  10.13600  10.0395  10.949\n",
       "40793555  10.89400  10.9700   2.140\n",
       "\n",
       "[5968 rows x 3 columns]"
      ]
     },
     "execution_count": 397,
     "metadata": {},
     "output_type": "execute_result"
    }
   ],
   "source": [
    "ny_trip[['TRPMILES','HOUSEID']][ny_trip['WHYTRP90']==1].groupby('HOUSEID').agg(avg = ('TRPMILES','mean'),\n",
    "                                            med = ('TRPMILES', 'median'),\n",
    "                                        mod  = ('TRPMILES', lambda x: x.value_counts().index[0])\n",
    "                                           )"
   ]
  },
  {
   "cell_type": "code",
   "execution_count": 395,
   "metadata": {},
   "outputs": [
    {
     "data": {
      "text/plain": [
       "<seaborn.axisgrid.FacetGrid at 0x19723c57988>"
      ]
     },
     "execution_count": 395,
     "metadata": {},
     "output_type": "execute_result"
    },
    {
     "data": {
      "image/png": "[encoded data removed]",
      "text/plain": [
       "<Figure size 421.1x360 with 1 Axes>"
      ]
     },
     "metadata": {},
     "output_type": "display_data"
    }
   ],
   "source": [
    "sns.displot(purpose_summ, x= 'log_0', hue = 'level_0',kind = 'kde')"
   ]
  },
  {
   "cell_type": "code",
   "execution_count": 346,
   "metadata": {},
   "outputs": [],
   "source": [
    "why = ny_trip.groupby(['HOUSEID','WHYTRP90']).agg(#avg = ('TRPMILES','mean'),\n",
    "                                            med = ('TRPMILES', 'median'),\n",
    "                                        #mod  = ('TRPMILES', lambda x: x.value_counts().index[0])\n",
    "                                           ).unstack().reset_index()"
   ]
  },
  {
   "cell_type": "code",
   "execution_count": 347,
   "metadata": {},
   "outputs": [
    {
     "data": {
      "text/plain": [
       "[('HOUSEID', ''),\n",
       " ('med', 1),\n",
       " ('med', 2),\n",
       " ('med', 3),\n",
       " ('med', 4),\n",
       " ('med', 5),\n",
       " ('med', 6),\n",
       " ('med', 8),\n",
       " ('med', 10),\n",
       " ('med', 11),\n",
       " ('med', 99)]"
      ]
     },
     "execution_count": 347,
     "metadata": {},
     "output_type": "execute_result"
    }
   ],
   "source": [
    "[c for c in why]"
   ]
  },
  {
   "cell_type": "code",
   "execution_count": 348,
   "metadata": {},
   "outputs": [
    {
     "data": {
      "text/plain": [
       "<matplotlib.axes._subplots.AxesSubplot at 0x1969ccdf3c8>"
      ]
     },
     "execution_count": 348,
     "metadata": {},
     "output_type": "execute_result"
    },
    {
     "data": {
      "image/png": "[encoded data removed]",
      "text/plain": [
       "<Figure size 432x288 with 1 Axes>"
      ]
     },
     "metadata": {},
     "output_type": "display_data"
    }
   ],
   "source": [
    "sns.histplot(why[('med',1)])"
   ]
  },
  {
   "cell_type": "code",
   "execution_count": 349,
   "metadata": {},
   "outputs": [
    {
     "data": {
      "text/html": [
       "<div>\n",
       "<style scoped>\n",
       "    .dataframe tbody tr th:only-of-type {\n",
       "        vertical-align: middle;\n",
       "    }\n",
       "\n",
       "    .dataframe tbody tr th {\n",
       "        vertical-align: top;\n",
       "    }\n",
       "\n",
       "    .dataframe thead tr th {\n",
       "        text-align: left;\n",
       "    }\n",
       "</style>\n",
       "<table border=\"1\" class=\"dataframe\">\n",
       "  <thead>\n",
       "    <tr>\n",
       "      <th></th>\n",
       "      <th>HOUSEID</th>\n",
       "      <th colspan=\"10\" halign=\"left\">med</th>\n",
       "    </tr>\n",
       "    <tr>\n",
       "      <th>WHYTRP90</th>\n",
       "      <th></th>\n",
       "      <th>1</th>\n",
       "      <th>2</th>\n",
       "      <th>3</th>\n",
       "      <th>4</th>\n",
       "      <th>5</th>\n",
       "      <th>6</th>\n",
       "      <th>8</th>\n",
       "      <th>10</th>\n",
       "      <th>11</th>\n",
       "      <th>99</th>\n",
       "    </tr>\n",
       "  </thead>\n",
       "  <tbody>\n",
       "    <tr>\n",
       "      <th>0</th>\n",
       "      <td>30000012</td>\n",
       "      <td>7.9525</td>\n",
       "      <td>4.291</td>\n",
       "      <td>NaN</td>\n",
       "      <td>NaN</td>\n",
       "      <td>NaN</td>\n",
       "      <td>NaN</td>\n",
       "      <td>48.879</td>\n",
       "      <td>2.2270</td>\n",
       "      <td>NaN</td>\n",
       "      <td>NaN</td>\n",
       "    </tr>\n",
       "    <tr>\n",
       "      <th>1</th>\n",
       "      <td>30000082</td>\n",
       "      <td>1.7520</td>\n",
       "      <td>29.293</td>\n",
       "      <td>2.1360</td>\n",
       "      <td>1.8925</td>\n",
       "      <td>NaN</td>\n",
       "      <td>NaN</td>\n",
       "      <td>NaN</td>\n",
       "      <td>45.0065</td>\n",
       "      <td>NaN</td>\n",
       "      <td>NaN</td>\n",
       "    </tr>\n",
       "    <tr>\n",
       "      <th>2</th>\n",
       "      <td>30000380</td>\n",
       "      <td>1.1815</td>\n",
       "      <td>NaN</td>\n",
       "      <td>2.2100</td>\n",
       "      <td>NaN</td>\n",
       "      <td>NaN</td>\n",
       "      <td>1.9610</td>\n",
       "      <td>NaN</td>\n",
       "      <td>NaN</td>\n",
       "      <td>NaN</td>\n",
       "      <td>NaN</td>\n",
       "    </tr>\n",
       "    <tr>\n",
       "      <th>3</th>\n",
       "      <td>30000434</td>\n",
       "      <td>NaN</td>\n",
       "      <td>0.168</td>\n",
       "      <td>0.2730</td>\n",
       "      <td>NaN</td>\n",
       "      <td>NaN</td>\n",
       "      <td>NaN</td>\n",
       "      <td>NaN</td>\n",
       "      <td>10.0790</td>\n",
       "      <td>NaN</td>\n",
       "      <td>NaN</td>\n",
       "    </tr>\n",
       "    <tr>\n",
       "      <th>4</th>\n",
       "      <td>30000436</td>\n",
       "      <td>1.2465</td>\n",
       "      <td>NaN</td>\n",
       "      <td>1.5460</td>\n",
       "      <td>NaN</td>\n",
       "      <td>NaN</td>\n",
       "      <td>NaN</td>\n",
       "      <td>NaN</td>\n",
       "      <td>NaN</td>\n",
       "      <td>NaN</td>\n",
       "      <td>NaN</td>\n",
       "    </tr>\n",
       "    <tr>\n",
       "      <th>...</th>\n",
       "      <td>...</td>\n",
       "      <td>...</td>\n",
       "      <td>...</td>\n",
       "      <td>...</td>\n",
       "      <td>...</td>\n",
       "      <td>...</td>\n",
       "      <td>...</td>\n",
       "      <td>...</td>\n",
       "      <td>...</td>\n",
       "      <td>...</td>\n",
       "      <td>...</td>\n",
       "    </tr>\n",
       "    <tr>\n",
       "      <th>13587</th>\n",
       "      <td>40793669</td>\n",
       "      <td>NaN</td>\n",
       "      <td>NaN</td>\n",
       "      <td>1.1635</td>\n",
       "      <td>NaN</td>\n",
       "      <td>NaN</td>\n",
       "      <td>NaN</td>\n",
       "      <td>NaN</td>\n",
       "      <td>NaN</td>\n",
       "      <td>1.1635</td>\n",
       "      <td>NaN</td>\n",
       "    </tr>\n",
       "    <tr>\n",
       "      <th>13588</th>\n",
       "      <td>40793685</td>\n",
       "      <td>NaN</td>\n",
       "      <td>NaN</td>\n",
       "      <td>5.0780</td>\n",
       "      <td>NaN</td>\n",
       "      <td>1.1315</td>\n",
       "      <td>NaN</td>\n",
       "      <td>NaN</td>\n",
       "      <td>3.0800</td>\n",
       "      <td>NaN</td>\n",
       "      <td>NaN</td>\n",
       "    </tr>\n",
       "    <tr>\n",
       "      <th>13589</th>\n",
       "      <td>40793808</td>\n",
       "      <td>NaN</td>\n",
       "      <td>NaN</td>\n",
       "      <td>4.4920</td>\n",
       "      <td>4.4740</td>\n",
       "      <td>NaN</td>\n",
       "      <td>NaN</td>\n",
       "      <td>NaN</td>\n",
       "      <td>1.8145</td>\n",
       "      <td>3.7480</td>\n",
       "      <td>NaN</td>\n",
       "    </tr>\n",
       "    <tr>\n",
       "      <th>13590</th>\n",
       "      <td>40793974</td>\n",
       "      <td>NaN</td>\n",
       "      <td>NaN</td>\n",
       "      <td>6.6095</td>\n",
       "      <td>NaN</td>\n",
       "      <td>NaN</td>\n",
       "      <td>NaN</td>\n",
       "      <td>5.018</td>\n",
       "      <td>3.6370</td>\n",
       "      <td>NaN</td>\n",
       "      <td>NaN</td>\n",
       "    </tr>\n",
       "    <tr>\n",
       "      <th>13591</th>\n",
       "      <td>40794020</td>\n",
       "      <td>NaN</td>\n",
       "      <td>NaN</td>\n",
       "      <td>5.2660</td>\n",
       "      <td>0.8360</td>\n",
       "      <td>NaN</td>\n",
       "      <td>18.7105</td>\n",
       "      <td>NaN</td>\n",
       "      <td>NaN</td>\n",
       "      <td>NaN</td>\n",
       "      <td>NaN</td>\n",
       "    </tr>\n",
       "  </tbody>\n",
       "</table>\n",
       "<p>13592 rows × 11 columns</p>\n",
       "</div>"
      ],
      "text/plain": [
       "           HOUSEID     med                                                   \\\n",
       "WHYTRP90                 1       2       3       4       5        6       8   \n",
       "0         30000012  7.9525   4.291     NaN     NaN     NaN      NaN  48.879   \n",
       "1         30000082  1.7520  29.293  2.1360  1.8925     NaN      NaN     NaN   \n",
       "2         30000380  1.1815     NaN  2.2100     NaN     NaN   1.9610     NaN   \n",
       "3         30000434     NaN   0.168  0.2730     NaN     NaN      NaN     NaN   \n",
       "4         30000436  1.2465     NaN  1.5460     NaN     NaN      NaN     NaN   \n",
       "...            ...     ...     ...     ...     ...     ...      ...     ...   \n",
       "13587     40793669     NaN     NaN  1.1635     NaN     NaN      NaN     NaN   \n",
       "13588     40793685     NaN     NaN  5.0780     NaN  1.1315      NaN     NaN   \n",
       "13589     40793808     NaN     NaN  4.4920  4.4740     NaN      NaN     NaN   \n",
       "13590     40793974     NaN     NaN  6.6095     NaN     NaN      NaN   5.018   \n",
       "13591     40794020     NaN     NaN  5.2660  0.8360     NaN  18.7105     NaN   \n",
       "\n",
       "                               \n",
       "WHYTRP90       10      11  99  \n",
       "0          2.2270     NaN NaN  \n",
       "1         45.0065     NaN NaN  \n",
       "2             NaN     NaN NaN  \n",
       "3         10.0790     NaN NaN  \n",
       "4             NaN     NaN NaN  \n",
       "...           ...     ...  ..  \n",
       "13587         NaN  1.1635 NaN  \n",
       "13588      3.0800     NaN NaN  \n",
       "13589      1.8145  3.7480 NaN  \n",
       "13590      3.6370     NaN NaN  \n",
       "13591         NaN     NaN NaN  \n",
       "\n",
       "[13592 rows x 11 columns]"
      ]
     },
     "execution_count": 349,
     "metadata": {},
     "output_type": "execute_result"
    }
   ],
   "source": [
    "why"
   ]
  },
  {
   "cell_type": "code",
   "execution_count": 317,
   "metadata": {},
   "outputs": [],
   "source": [
    "new  = pd.DataFrame()\n",
    "for i in range(1, len(why.columns)):\n",
    "    new[why_col[i]] = np.isnan(why.iloc[:,i])"
   ]
  },
  {
   "cell_type": "code",
   "execution_count": 337,
   "metadata": {
    "scrolled": true
   },
   "outputs": [],
   "source": [
    "chart_data = new.stack().reset_index()"
   ]
  },
  {
   "cell_type": "code",
   "execution_count": 374,
   "metadata": {},
   "outputs": [
    {
     "data": {
      "image/png": "[encoded data removed]",
      "text/plain": [
       "<Figure size 1008x1008 with 1 Axes>"
      ]
     },
     "metadata": {},
     "output_type": "display_data"
    }
   ],
   "source": [
    "import matplotlib.patches as mpatches\n",
    "\n",
    "sns.set(style=\"darkgrid\")\n",
    "plt.figure(figsize=(14, 14))\n",
    "\n",
    "full_data = chart_data.groupby('level_1')[0].count().reset_index()\n",
    "\n",
    "bar1= sns.barplot(data = full_data, x = \"level_1\", y = 0, color = 'lightblue')\n",
    "\n",
    "has_value = chart_data[chart_data[0]==True]\n",
    "\n",
    "bar2 = sns.barplot(data = has_value, estimator = sum, ci = None, x = \"level_1\", y = 0, color = 'darkblue')\n",
    "\n",
    "bottom_bar = mpatches.Patch(color = 'darkblue', label = 'has value')\n",
    "top_bar = mpatches.Patch(color = 'lightblue', label = 'missing value')\n",
    "\n",
    "plt.title('Proportion of Households with/without Trip Purpose 90s', fontsize = 24)\n",
    "plt.legend(handles = [top_bar, bottom_bar])\n",
    "plt.show()"
   ]
  },
  {
   "cell_type": "code",
   "execution_count": 370,
   "metadata": {},
   "outputs": [
    {
     "data": {
      "text/html": [
       "<div>\n",
       "<style scoped>\n",
       "    .dataframe tbody tr th:only-of-type {\n",
       "        vertical-align: middle;\n",
       "    }\n",
       "\n",
       "    .dataframe tbody tr th {\n",
       "        vertical-align: top;\n",
       "    }\n",
       "\n",
       "    .dataframe thead th {\n",
       "        text-align: right;\n",
       "    }\n",
       "</style>\n",
       "<table border=\"1\" class=\"dataframe\">\n",
       "  <thead>\n",
       "    <tr style=\"text-align: right;\">\n",
       "      <th></th>\n",
       "      <th>level_0</th>\n",
       "      <th>level_1</th>\n",
       "      <th>0</th>\n",
       "    </tr>\n",
       "  </thead>\n",
       "  <tbody>\n",
       "    <tr>\n",
       "      <th>0</th>\n",
       "      <td>0</td>\n",
       "      <td>(med, 1)</td>\n",
       "      <td>False</td>\n",
       "    </tr>\n",
       "    <tr>\n",
       "      <th>1</th>\n",
       "      <td>0</td>\n",
       "      <td>(med, 2)</td>\n",
       "      <td>False</td>\n",
       "    </tr>\n",
       "    <tr>\n",
       "      <th>2</th>\n",
       "      <td>0</td>\n",
       "      <td>(med, 3)</td>\n",
       "      <td>True</td>\n",
       "    </tr>\n",
       "    <tr>\n",
       "      <th>3</th>\n",
       "      <td>0</td>\n",
       "      <td>(med, 4)</td>\n",
       "      <td>True</td>\n",
       "    </tr>\n",
       "    <tr>\n",
       "      <th>4</th>\n",
       "      <td>0</td>\n",
       "      <td>(med, 5)</td>\n",
       "      <td>True</td>\n",
       "    </tr>\n",
       "    <tr>\n",
       "      <th>...</th>\n",
       "      <td>...</td>\n",
       "      <td>...</td>\n",
       "      <td>...</td>\n",
       "    </tr>\n",
       "    <tr>\n",
       "      <th>122323</th>\n",
       "      <td>13591</td>\n",
       "      <td>(med, 5)</td>\n",
       "      <td>True</td>\n",
       "    </tr>\n",
       "    <tr>\n",
       "      <th>122324</th>\n",
       "      <td>13591</td>\n",
       "      <td>(med, 6)</td>\n",
       "      <td>False</td>\n",
       "    </tr>\n",
       "    <tr>\n",
       "      <th>122325</th>\n",
       "      <td>13591</td>\n",
       "      <td>(med, 8)</td>\n",
       "      <td>True</td>\n",
       "    </tr>\n",
       "    <tr>\n",
       "      <th>122326</th>\n",
       "      <td>13591</td>\n",
       "      <td>(med, 10)</td>\n",
       "      <td>True</td>\n",
       "    </tr>\n",
       "    <tr>\n",
       "      <th>122327</th>\n",
       "      <td>13591</td>\n",
       "      <td>(med, 11)</td>\n",
       "      <td>True</td>\n",
       "    </tr>\n",
       "  </tbody>\n",
       "</table>\n",
       "<p>122328 rows × 3 columns</p>\n",
       "</div>"
      ],
      "text/plain": [
       "        level_0    level_1      0\n",
       "0             0   (med, 1)  False\n",
       "1             0   (med, 2)  False\n",
       "2             0   (med, 3)   True\n",
       "3             0   (med, 4)   True\n",
       "4             0   (med, 5)   True\n",
       "...         ...        ...    ...\n",
       "122323    13591   (med, 5)   True\n",
       "122324    13591   (med, 6)  False\n",
       "122325    13591   (med, 8)   True\n",
       "122326    13591  (med, 10)   True\n",
       "122327    13591  (med, 11)   True\n",
       "\n",
       "[122328 rows x 3 columns]"
      ]
     },
     "execution_count": 370,
     "metadata": {},
     "output_type": "execute_result"
    }
   ],
   "source": [
    "chart_data"
   ]
  },
  {
   "cell_type": "code",
   "execution_count": 363,
   "metadata": {},
   "outputs": [
    {
     "data": {
      "text/plain": [
       "122328"
      ]
     },
     "execution_count": 363,
     "metadata": {},
     "output_type": "execute_result"
    }
   ],
   "source": [
    "13592*9"
   ]
  },
  {
   "cell_type": "code",
   "execution_count": 275,
   "metadata": {},
   "outputs": [],
   "source": [
    "one = pd.qcut(why[('med',1)],5)"
   ]
  },
  {
   "cell_type": "code",
   "execution_count": 276,
   "metadata": {},
   "outputs": [
    {
     "data": {
      "text/plain": [
       "(0.004, 3.112]       1195\n",
       "(6.273, 10.232]      1195\n",
       "(17.412, 217.858]    1194\n",
       "(3.112, 6.273]       1192\n",
       "(10.232, 17.412]     1192\n",
       "Name: (med, 1), dtype: int64"
      ]
     },
     "execution_count": 276,
     "metadata": {},
     "output_type": "execute_result"
    }
   ],
   "source": [
    "one.value_counts()"
   ]
  }
 ],
 "metadata": {
  "kernelspec": {
   "display_name": "Python 3",
   "language": "python",
   "name": "python3"
  },
  "language_info": {
   "codemirror_mode": {
    "name": "ipython",
    "version": 3
   },
   "file_extension": ".py",
   "mimetype": "text/x-python",
   "name": "python",
   "nbconvert_exporter": "python",
   "pygments_lexer": "ipython3",
   "version": "3.7.4"
  }
 },
 "nbformat": 4,
 "nbformat_minor": 2
}
