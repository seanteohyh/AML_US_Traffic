{
 "cells": [
  {
   "cell_type": "code",
   "execution_count": 1,
   "metadata": {},
   "outputs": [],
   "source": [
    "import pandas as pd\n",
    "import numpy as np\n",
    "import datetime\n",
    "import matplotlib.pyplot as plt\n",
    "import seaborn as sns\n",
    "%matplotlib inline\n",
    "\n",
    "import os"
   ]
  },
  {
   "cell_type": "code",
   "execution_count": 2,
   "metadata": {},
   "outputs": [],
   "source": [
    "#change path to your local folder that has the data (to see how to set to sharepoint site)\n",
    "\n",
    "#path = os.chdir('https://smu.sharepoint.com/:f:/r/teams/AML842/Shared%20Documents/General/NHTS%20(US%20National%20Household%20Travel%20Survey%202017)?csf=1&web=1&e=oOUGTJ/')\n",
    "path = os.chdir('C:/Users/Seant/Desktop/aml_data/')\n",
    "\n",
    "hh = pd.read_csv(\"./hhpub.csv\")"
   ]
  },
  {
   "cell_type": "code",
   "execution_count": 4,
   "metadata": {},
   "outputs": [
    {
     "data": {
      "text/plain": [
       "<bound method NDFrame.describe of          HOUSEID  TRAVDAY  SAMPSTRAT  HOMEOWN  HHSIZE  HHVEHCNT  HHFAMINC  PC  \\\n",
       "0       30000007        2          3        1       3         5         7   2   \n",
       "1       30000008        5          2        1       2         4         8   1   \n",
       "2       30000012        5          3        1       1         2        10   1   \n",
       "3       30000019        5          3        1       2         2         3   1   \n",
       "4       30000029        3          3        1       2         2         5   2   \n",
       "...          ...      ...        ...      ...     ...       ...       ...  ..   \n",
       "129691  40794291        7          3        1       1         1         9   1   \n",
       "129692  40794293        2          4        1       2         3         6   1   \n",
       "129693  40794294        5          2        1       2         2        10   1   \n",
       "129694  40794301        2          3        1       7         5         6   1   \n",
       "129695  50515573        3          1        1       1         0        10   1   \n",
       "\n",
       "        SPHONE  TAB  ...  SMPLSRCE     WTHHFIN  HBHUR  HTHTNRNT  HTPPOPDN  \\\n",
       "0            1    2  ...         2  187.314320      T        50      1500   \n",
       "1            1    2  ...         2   69.513032      R         5       300   \n",
       "2            1    3  ...         2   79.419586      C        80     17000   \n",
       "3            5    5  ...         2  279.143588      S        40       300   \n",
       "4            5    1  ...         2  103.240304      S        40      1500   \n",
       "...        ...  ...  ...       ...         ...    ...       ...       ...   \n",
       "129691       5    5  ...         2   41.869638      S         5       750   \n",
       "129692       1    1  ...         2  166.016235      R        20        50   \n",
       "129693       1    5  ...         2  207.672765      U        70      7000   \n",
       "129694       5    1  ...         2  126.720282      R        20        50   \n",
       "129695       1    5  ...         1  544.676759      U        70     30000   \n",
       "\n",
       "        HTRESDN  HTEEMPDN  HBHTNRNT  HBPPOPDN  HBRESDN  \n",
       "0           750       750        20       750      300  \n",
       "1           300       150         5       300      300  \n",
       "2         17000      5000        60     17000     7000  \n",
       "3           300       150        50       750      300  \n",
       "4           750       750        40      1500      750  \n",
       "...         ...       ...       ...       ...      ...  \n",
       "129691      300       150        20       750      300  \n",
       "129692       50        25        20        50       50  \n",
       "129693     7000      5000        70     17000     7000  \n",
       "129694       50        25        20       300       50  \n",
       "129695    30000      5000        70     30000    17000  \n",
       "\n",
       "[129696 rows x 58 columns]>"
      ]
     },
     "execution_count": 4,
     "metadata": {},
     "output_type": "execute_result"
    }
   ],
   "source": [
    "hh.describe"
   ]
  },
  {
   "cell_type": "code",
   "execution_count": 10,
   "metadata": {},
   "outputs": [
    {
     "data": {
      "text/plain": [
       "CA    26099\n",
       "TX    24441\n",
       "NY    17178\n",
       "WI    11650\n",
       "Name: HHSTATE, dtype: int64"
      ]
     },
     "execution_count": 10,
     "metadata": {},
     "output_type": "execute_result"
    }
   ],
   "source": [
    "# states with more than 10,000 households\n",
    "hh['HHSTATE'].value_counts()[hh['HHSTATE'].value_counts()>10000]"
   ]
  },
  {
   "cell_type": "code",
   "execution_count": 14,
   "metadata": {},
   "outputs": [],
   "source": [
    "# Transform target variable to binary\n",
    "hh['own_veh'] = np.where(hh['HHVEHCNT']>0, 1, 0)"
   ]
  },
  {
   "cell_type": "code",
   "execution_count": 26,
   "metadata": {},
   "outputs": [
    {
     "data": {
      "text/html": [
       "<div>\n",
       "<style scoped>\n",
       "    .dataframe tbody tr th:only-of-type {\n",
       "        vertical-align: middle;\n",
       "    }\n",
       "\n",
       "    .dataframe tbody tr th {\n",
       "        vertical-align: top;\n",
       "    }\n",
       "\n",
       "    .dataframe thead th {\n",
       "        text-align: right;\n",
       "    }\n",
       "</style>\n",
       "<table border=\"1\" class=\"dataframe\">\n",
       "  <thead>\n",
       "    <tr style=\"text-align: right;\">\n",
       "      <th></th>\n",
       "      <th>count</th>\n",
       "      <th>sum</th>\n",
       "    </tr>\n",
       "    <tr>\n",
       "      <th>HHSTATE</th>\n",
       "      <th></th>\n",
       "      <th></th>\n",
       "    </tr>\n",
       "  </thead>\n",
       "  <tbody>\n",
       "    <tr>\n",
       "      <th>CA</th>\n",
       "      <td>26099</td>\n",
       "      <td>24929</td>\n",
       "    </tr>\n",
       "    <tr>\n",
       "      <th>NY</th>\n",
       "      <td>17178</td>\n",
       "      <td>15636</td>\n",
       "    </tr>\n",
       "    <tr>\n",
       "      <th>TX</th>\n",
       "      <td>24441</td>\n",
       "      <td>23617</td>\n",
       "    </tr>\n",
       "    <tr>\n",
       "      <th>WI</th>\n",
       "      <td>11650</td>\n",
       "      <td>11230</td>\n",
       "    </tr>\n",
       "  </tbody>\n",
       "</table>\n",
       "</div>"
      ],
      "text/plain": [
       "         count    sum\n",
       "HHSTATE              \n",
       "CA       26099  24929\n",
       "NY       17178  15636\n",
       "TX       24441  23617\n",
       "WI       11650  11230"
      ]
     },
     "execution_count": 26,
     "metadata": {},
     "output_type": "execute_result"
    }
   ],
   "source": [
    "top_cities = hh[hh['HHSTATE'].isin(['CA','TX','NY','WI'])]\n",
    "top_cities['own_veh'].groupby(top_cities['HHSTATE']).agg(['count','sum'])\n",
    "\n",
    "#NY has to lowest percentage of hh vehicle ownership 91%"
   ]
  },
  {
   "cell_type": "code",
   "execution_count": null,
   "metadata": {},
   "outputs": [],
   "source": []
  }
 ],
 "metadata": {
  "kernelspec": {
   "display_name": "Python 3",
   "language": "python",
   "name": "python3"
  },
  "language_info": {
   "codemirror_mode": {
    "name": "ipython",
    "version": 3
   },
   "file_extension": ".py",
   "mimetype": "text/x-python",
   "name": "python",
   "nbconvert_exporter": "python",
   "pygments_lexer": "ipython3",
   "version": "3.7.4"
  }
 },
 "nbformat": 4,
 "nbformat_minor": 2
}
