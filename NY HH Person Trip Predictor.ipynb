{
 "cells": [
  {
   "cell_type": "markdown",
   "metadata": {},
   "source": [
    "# NY HH Person Trip Predictor"
   ]
  },
  {
   "cell_type": "code",
   "execution_count": 1,
   "metadata": {},
   "outputs": [],
   "source": [
    "import pandas as pd\n",
    "import numpy as np\n",
    "import datetime\n",
    "import matplotlib.pyplot as plt\n",
    "import seaborn as sns\n",
    "%matplotlib inline\n",
    "from sklearn import model_selection\n",
    "import warnings\n",
    "import math\n",
    "\n",
    "warnings.filterwarnings('ignore')"
   ]
  },
  {
   "cell_type": "code",
   "execution_count": null,
   "metadata": {},
   "outputs": [],
   "source": [
    "path = \"C:/Users/Seant/Desktop/aml_data\" #edit this path to change to your path folder\n",
    "\n",
    "#path = \"/Users/jayneteo/Dropbox/SMU MITB/Term 2 2021/AML/Project/NHTS/csv\" \n",
    "\n",
    "household = pd.read_csv(\"\".join([path,'/hhpub.csv']))\n",
    "person =  pd.read_csv(\"\".join([path,'/perpub.csv']))\n",
    "trip =  pd.read_csv(\"\".join([path,'/trippub.csv']))"
   ]
  },
  {
   "cell_type": "code",
   "execution_count": null,
   "metadata": {},
   "outputs": [],
   "source": [
    "#define function \n",
    "\n",
    "def cat_col_prop(data, col):\n",
    "    print(pd.concat([data[col].value_counts(),\n",
    "          data[col].value_counts(normalize = True).mul(100)],axis = 1, keys = ('counts','percentage')))\n",
    "\n",
    "    sns.countplot(data[col], order =  data[col].value_counts().index)"
   ]
  },
  {
   "cell_type": "markdown",
   "metadata": {},
   "source": [
    "## 1. Merging of Data"
   ]
  },
  {
   "cell_type": "markdown",
   "metadata": {},
   "source": [
    "### 1.1. Household"
   ]
  },
  {
   "cell_type": "code",
   "execution_count": null,
   "metadata": {},
   "outputs": [],
   "source": [
    "#filtering NY Households\n",
    "ny = household[household['HHSTATE'] == \"NY\"]\n",
    "\n",
    "# as only studying hh with car will also filter out hh with HHVEHCNT == 0\n",
    "ny = ny[ny['HHVEHCNT']>0]"
   ]
  },
  {
   "cell_type": "code",
   "execution_count": null,
   "metadata": {},
   "outputs": [],
   "source": [
    "# selection of columns based on prior background inference of potential features\n",
    "ny = ny[['HOUSEID','HH_CBSA','HOMEOWN','HHSIZE','HHVEHCNT','HHFAMINC','NUMADLT','YOUNGCHILD','WRKCOUNT','MSACAT','MSASIZE','URBAN','URBANSIZE','URBRUR','LIF_CYC','TRAVDAY']]"
   ]
  },
  {
   "cell_type": "markdown",
   "metadata": {},
   "source": [
    "### 1.2 Trips"
   ]
  },
  {
   "cell_type": "code",
   "execution_count": null,
   "metadata": {},
   "outputs": [],
   "source": [
    "ny_trip = trip[trip['HOUSEID'].isin(ny['HOUSEID'])]"
   ]
  },
  {
   "cell_type": "code",
   "execution_count": null,
   "metadata": {},
   "outputs": [],
   "source": [
    "# selecting trips that were done using either 3.Car, 4.SUV, 5.Van\n",
    "ny_trip = ny_trip[ny_trip['TRPTRANS'].isin([3,4,5])]"
   ]
  },
  {
   "cell_type": "code",
   "execution_count": null,
   "metadata": {},
   "outputs": [],
   "source": [
    "# since only 24 lines with trip distance <= 0, removed lines\n",
    "print('# of trips with dist <=0,', str(sum(ny_trip['TRPMILES']<=0)),' out of', str(len(ny_trip)))\n",
    "ny_trip = ny_trip[ny_trip['TRPMILES']>0]"
   ]
  },
  {
   "cell_type": "code",
   "execution_count": 9,
   "metadata": {},
   "outputs": [
    {
     "name": "stdout",
     "output_type": "stream",
     "text": [
      "84  trips missing TRVLCMIN info so will just remove since only  0.09623646674686373 %\n"
     ]
    }
   ],
   "source": [
    "print(str(sum(ny_trip['TRVLCMIN']<=0)), ' trips missing TRVLCMIN info so will just remove since only ',str(sum(ny_trip['TRVLCMIN']<=0)/len(ny_trip)*100),\"%\")\n",
    "ny_trip = ny_trip[ny_trip['TRVLCMIN']>0]"
   ]
  },
  {
   "cell_type": "code",
   "execution_count": 10,
   "metadata": {},
   "outputs": [
    {
     "data": {
      "image/png": "[encoded data removed]",
      "text/plain": [
       "<Figure size 432x288 with 1 Axes>"
      ]
     },
     "metadata": {
      "needs_background": "light"
     },
     "output_type": "display_data"
    }
   ],
   "source": [
    "#Remove outlier trip miles\n",
    "sns.histplot(ny_trip['TRPMILES'])\n",
    "ny_trip = ny_trip[ny_trip['TRPMILES']<40]"
   ]
  },
  {
   "cell_type": "code",
   "execution_count": 11,
   "metadata": {},
   "outputs": [],
   "source": [
    "# Summarise to Person trip counts \n",
    "ny_trip_count = ny_trip[['HOUSEID','PERSONID']].groupby(['HOUSEID']).agg('count').reset_index().rename(columns = {'PERSONID':'n_trips'})"
   ]
  },
  {
   "cell_type": "code",
   "execution_count": 12,
   "metadata": {},
   "outputs": [
    {
     "data": {
      "text/plain": [
       "['HOUSEID',\n",
       " 'PERSONID',\n",
       " 'TDTRPNUM',\n",
       " 'STRTTIME',\n",
       " 'ENDTIME',\n",
       " 'TRVLCMIN',\n",
       " 'TRPMILES',\n",
       " 'TRPTRANS',\n",
       " 'TRPACCMP',\n",
       " 'TRPHHACC',\n",
       " 'VEHID',\n",
       " 'TRWAITTM',\n",
       " 'NUMTRANS',\n",
       " 'TRACCTM',\n",
       " 'DROP_PRK',\n",
       " 'TREGRTM',\n",
       " 'WHODROVE',\n",
       " 'WHYFROM',\n",
       " 'LOOP_TRIP',\n",
       " 'TRPHHVEH',\n",
       " 'HHMEMDRV',\n",
       " 'HH_ONTD',\n",
       " 'NONHHCNT',\n",
       " 'NUMONTRP',\n",
       " 'PSGR_FLG',\n",
       " 'PUBTRANS',\n",
       " 'TRIPPURP',\n",
       " 'DWELTIME',\n",
       " 'TDWKND',\n",
       " 'VMT_MILE',\n",
       " 'DRVR_FLG',\n",
       " 'WHYTRP1S',\n",
       " 'ONTD_P1',\n",
       " 'ONTD_P2',\n",
       " 'ONTD_P3',\n",
       " 'ONTD_P4',\n",
       " 'ONTD_P5',\n",
       " 'ONTD_P6',\n",
       " 'ONTD_P7',\n",
       " 'ONTD_P8',\n",
       " 'ONTD_P9',\n",
       " 'ONTD_P10',\n",
       " 'ONTD_P11',\n",
       " 'ONTD_P12',\n",
       " 'ONTD_P13',\n",
       " 'TDCASEID',\n",
       " 'TRACC_WLK',\n",
       " 'TRACC_POV',\n",
       " 'TRACC_BUS',\n",
       " 'TRACC_CRL',\n",
       " 'TRACC_SUB',\n",
       " 'TRACC_OTH',\n",
       " 'TREGR_WLK',\n",
       " 'TREGR_POV',\n",
       " 'TREGR_BUS',\n",
       " 'TREGR_CRL',\n",
       " 'TREGR_SUB',\n",
       " 'TREGR_OTH',\n",
       " 'WHYTO',\n",
       " 'TRAVDAY',\n",
       " 'HOMEOWN',\n",
       " 'HHSIZE',\n",
       " 'HHVEHCNT',\n",
       " 'HHFAMINC',\n",
       " 'DRVRCNT',\n",
       " 'HHSTATE',\n",
       " 'HHSTFIPS',\n",
       " 'NUMADLT',\n",
       " 'WRKCOUNT',\n",
       " 'TDAYDATE',\n",
       " 'HHRESP',\n",
       " 'LIF_CYC',\n",
       " 'MSACAT',\n",
       " 'MSASIZE',\n",
       " 'RAIL',\n",
       " 'URBAN',\n",
       " 'URBANSIZE',\n",
       " 'URBRUR',\n",
       " 'GASPRICE',\n",
       " 'CENSUS_D',\n",
       " 'CENSUS_R',\n",
       " 'CDIVMSAR',\n",
       " 'HH_RACE',\n",
       " 'HH_HISP',\n",
       " 'HH_CBSA',\n",
       " 'SMPLSRCE',\n",
       " 'R_AGE',\n",
       " 'EDUC',\n",
       " 'R_SEX',\n",
       " 'PRMACT',\n",
       " 'PROXY',\n",
       " 'WORKER',\n",
       " 'DRIVER',\n",
       " 'WTTRDFIN',\n",
       " 'WHYTRP90',\n",
       " 'TRPMILAD',\n",
       " 'R_AGE_IMP',\n",
       " 'R_SEX_IMP',\n",
       " 'VEHTYPE',\n",
       " 'OBHUR',\n",
       " 'DBHUR',\n",
       " 'OTHTNRNT',\n",
       " 'OTPPOPDN',\n",
       " 'OTRESDN',\n",
       " 'OTEEMPDN',\n",
       " 'OBHTNRNT',\n",
       " 'OBPPOPDN',\n",
       " 'OBRESDN',\n",
       " 'DTHTNRNT',\n",
       " 'DTPPOPDN',\n",
       " 'DTRESDN',\n",
       " 'DTEEMPDN',\n",
       " 'DBHTNRNT',\n",
       " 'DBPPOPDN',\n",
       " 'DBRESDN']"
      ]
     },
     "execution_count": 12,
     "metadata": {},
     "output_type": "execute_result"
    }
   ],
   "source": [
    "[c for c in ny_trip]"
   ]
  },
  {
   "cell_type": "code",
   "execution_count": 13,
   "metadata": {},
   "outputs": [],
   "source": [
    "trips_data = ny_trip[['HOUSEID','WHYTRP90','TRPMILES']]\n"
   ]
  },
  {
   "cell_type": "code",
   "execution_count": 14,
   "metadata": {},
   "outputs": [
    {
     "data": {
      "text/plain": [
       "3     19794\n",
       "10    17026\n",
       "4     15911\n",
       "1     13521\n",
       "8      6092\n",
       "5      5309\n",
       "6      2660\n",
       "11     2408\n",
       "2      1175\n",
       "99       22\n",
       "Name: WHYTRP90, dtype: int64"
      ]
     },
     "execution_count": 14,
     "metadata": {},
     "output_type": "execute_result"
    }
   ],
   "source": [
    "trips_data['WHYTRP90'].value_counts()"
   ]
  },
  {
   "cell_type": "code",
   "execution_count": 15,
   "metadata": {},
   "outputs": [],
   "source": [
    "trips_data =trips_data[trips_data['WHYTRP90'].isin([1,10,4,3,8,5])]"
   ]
  },
  {
   "cell_type": "code",
   "execution_count": 16,
   "metadata": {},
   "outputs": [
    {
     "name": "stdout",
     "output_type": "stream",
     "text": [
      "               counts  percentage\n",
      "(-0.001, 1.0]   24049   30.969827\n",
      "(2.0, 5.0]      16890   21.750608\n",
      "(10.0, 39.0]    14068   18.116493\n",
      "(5.0, 10.0]     13177   16.969080\n",
      "(1.0, 2.0]       9469   12.193991\n"
     ]
    },
    {
     "data": {
      "image/png": "[encoded data removed]",
      "text/plain": [
       "<Figure size 432x288 with 1 Axes>"
      ]
     },
     "metadata": {
      "needs_background": "light"
     },
     "output_type": "display_data"
    }
   ],
   "source": [
    "trips_data['round_dist']= trips_data['TRPMILES'].apply(lambda x: math.floor(x))\n",
    "trips_data['trip_dist'] = pd.qcut(trips_data['round_dist'],5)\n",
    "cat_col_prop(trips_data,'trip_dist')"
   ]
  },
  {
   "cell_type": "code",
   "execution_count": 17,
   "metadata": {},
   "outputs": [],
   "source": [
    "trip_summary = trips_data[['HOUSEID','WHYTRP90','trip_dist']].groupby(['HOUSEID','WHYTRP90'])['trip_dist'].apply(pd.Series.mode).reset_index()\n",
    "trip_summary['max_dist'] = trip_summary['trip_dist'].apply(lambda x: x.right)"
   ]
  },
  {
   "cell_type": "code",
   "execution_count": 18,
   "metadata": {},
   "outputs": [
    {
     "data": {
      "text/html": [
       "<div>\n",
       "<style scoped>\n",
       "    .dataframe tbody tr th:only-of-type {\n",
       "        vertical-align: middle;\n",
       "    }\n",
       "\n",
       "    .dataframe tbody tr th {\n",
       "        vertical-align: top;\n",
       "    }\n",
       "\n",
       "    .dataframe thead th {\n",
       "        text-align: right;\n",
       "    }\n",
       "</style>\n",
       "<table border=\"1\" class=\"dataframe\">\n",
       "  <thead>\n",
       "    <tr style=\"text-align: right;\">\n",
       "      <th></th>\n",
       "      <th>HOUSEID</th>\n",
       "      <th>WHYTRP90</th>\n",
       "      <th>level_2</th>\n",
       "      <th>trip_dist</th>\n",
       "      <th>max_dist</th>\n",
       "    </tr>\n",
       "  </thead>\n",
       "  <tbody>\n",
       "    <tr>\n",
       "      <th>0</th>\n",
       "      <td>30000012</td>\n",
       "      <td>1</td>\n",
       "      <td>0</td>\n",
       "      <td>(5.0, 10.0]</td>\n",
       "      <td>10.0</td>\n",
       "    </tr>\n",
       "    <tr>\n",
       "      <th>1</th>\n",
       "      <td>30000012</td>\n",
       "      <td>10</td>\n",
       "      <td>0</td>\n",
       "      <td>(-0.001, 1.0]</td>\n",
       "      <td>1.0</td>\n",
       "    </tr>\n",
       "    <tr>\n",
       "      <th>2</th>\n",
       "      <td>30000012</td>\n",
       "      <td>10</td>\n",
       "      <td>1</td>\n",
       "      <td>(2.0, 5.0]</td>\n",
       "      <td>5.0</td>\n",
       "    </tr>\n",
       "    <tr>\n",
       "      <th>3</th>\n",
       "      <td>30000082</td>\n",
       "      <td>1</td>\n",
       "      <td>0</td>\n",
       "      <td>(-0.001, 1.0]</td>\n",
       "      <td>1.0</td>\n",
       "    </tr>\n",
       "    <tr>\n",
       "      <th>4</th>\n",
       "      <td>30000082</td>\n",
       "      <td>1</td>\n",
       "      <td>1</td>\n",
       "      <td>(1.0, 2.0]</td>\n",
       "      <td>2.0</td>\n",
       "    </tr>\n",
       "    <tr>\n",
       "      <th>...</th>\n",
       "      <td>...</td>\n",
       "      <td>...</td>\n",
       "      <td>...</td>\n",
       "      <td>...</td>\n",
       "      <td>...</td>\n",
       "    </tr>\n",
       "    <tr>\n",
       "      <th>34568</th>\n",
       "      <td>40793974</td>\n",
       "      <td>3</td>\n",
       "      <td>0</td>\n",
       "      <td>(2.0, 5.0]</td>\n",
       "      <td>5.0</td>\n",
       "    </tr>\n",
       "    <tr>\n",
       "      <th>34569</th>\n",
       "      <td>40793974</td>\n",
       "      <td>3</td>\n",
       "      <td>1</td>\n",
       "      <td>(5.0, 10.0]</td>\n",
       "      <td>10.0</td>\n",
       "    </tr>\n",
       "    <tr>\n",
       "      <th>34570</th>\n",
       "      <td>40793974</td>\n",
       "      <td>8</td>\n",
       "      <td>0</td>\n",
       "      <td>(2.0, 5.0]</td>\n",
       "      <td>5.0</td>\n",
       "    </tr>\n",
       "    <tr>\n",
       "      <th>34571</th>\n",
       "      <td>40793974</td>\n",
       "      <td>10</td>\n",
       "      <td>0</td>\n",
       "      <td>(2.0, 5.0]</td>\n",
       "      <td>5.0</td>\n",
       "    </tr>\n",
       "    <tr>\n",
       "      <th>34572</th>\n",
       "      <td>40794020</td>\n",
       "      <td>3</td>\n",
       "      <td>0</td>\n",
       "      <td>(2.0, 5.0]</td>\n",
       "      <td>5.0</td>\n",
       "    </tr>\n",
       "  </tbody>\n",
       "</table>\n",
       "<p>34573 rows × 5 columns</p>\n",
       "</div>"
      ],
      "text/plain": [
       "        HOUSEID  WHYTRP90  level_2      trip_dist max_dist\n",
       "0      30000012         1        0    (5.0, 10.0]     10.0\n",
       "1      30000012        10        0  (-0.001, 1.0]      1.0\n",
       "2      30000012        10        1     (2.0, 5.0]      5.0\n",
       "3      30000082         1        0  (-0.001, 1.0]      1.0\n",
       "4      30000082         1        1     (1.0, 2.0]      2.0\n",
       "...         ...       ...      ...            ...      ...\n",
       "34568  40793974         3        0     (2.0, 5.0]      5.0\n",
       "34569  40793974         3        1    (5.0, 10.0]     10.0\n",
       "34570  40793974         8        0     (2.0, 5.0]      5.0\n",
       "34571  40793974        10        0     (2.0, 5.0]      5.0\n",
       "34572  40794020         3        0     (2.0, 5.0]      5.0\n",
       "\n",
       "[34573 rows x 5 columns]"
      ]
     },
     "execution_count": 18,
     "metadata": {},
     "output_type": "execute_result"
    }
   ],
   "source": [
    "trip_summary"
   ]
  },
  {
   "cell_type": "code",
   "execution_count": 19,
   "metadata": {},
   "outputs": [],
   "source": [
    "trip_summary = trip_summary[trip_summary.groupby(['HOUSEID','WHYTRP90'])['max_dist'].transform(max) == trip_summary['max_dist']]\n",
    "\n",
    "trip_summary = trip_summary[['HOUSEID','WHYTRP90','trip_dist']]\n"
   ]
  },
  {
   "cell_type": "code",
   "execution_count": 20,
   "metadata": {},
   "outputs": [],
   "source": [
    "pivoted = trip_summary.pivot(index = 'HOUSEID',\n",
    "                  columns = 'WHYTRP90',\n",
    "                  values = 'trip_dist')\n",
    "\n",
    "trip_why_common = pd.DataFrame(pivoted.to_records()).rename(columns = {'1':'dist_to_work',\n",
    "                                                       '3':'dist_to_shopping',\n",
    "                                                        '4':'dist_to_family',\n",
    "                                                       '5':'dist_to_school_or_church',\n",
    "                                                        '8': 'dist_to_relatives',\n",
    "                                                        '10':'dist_to_social'})\n",
    "\n",
    "ny_trip_count = ny_trip_count.merge(trip_why_common, how = 'left')"
   ]
  },
  {
   "cell_type": "code",
   "execution_count": 21,
   "metadata": {},
   "outputs": [
    {
     "data": {
      "image/png": "[encoded data removed]",
      "text/plain": [
       "<Figure size 432x288 with 1 Axes>"
      ]
     },
     "metadata": {
      "needs_background": "light"
     },
     "output_type": "display_data"
    }
   ],
   "source": [
    "# Joining back to Household\n",
    "ny = ny.merge(ny_trip_count, how = 'left')\n",
    "sns.histplot(ny['n_trips'])\n",
    "ny['n_trips'][ny['n_trips'].isna()] = 0\n",
    "ny = ny[ny['n_trips']<30]"
   ]
  },
  {
   "cell_type": "code",
   "execution_count": 22,
   "metadata": {},
   "outputs": [],
   "source": [
    "# Train, test, split\n",
    "\n",
    "x_col = [c for c in ny if c != 'n_trips']\n",
    "x_df = ny[x_col]\n",
    "y_df = ny['n_trips']\n",
    "\n",
    "x_train,x_test, y_train, y_test = model_selection.train_test_split(x_df, y_df, test_size = 0.2, random_state = 888)"
   ]
  },
  {
   "cell_type": "code",
   "execution_count": 45,
   "metadata": {},
   "outputs": [
    {
     "data": {
      "text/plain": [
       "6984    -0.057311\n",
       "7774     0.151573\n",
       "14334   -0.683964\n",
       "143      0.360458\n",
       "6719     0.151573\n",
       "           ...   \n",
       "5287    -0.683964\n",
       "9483     1.195995\n",
       "14869   -1.101732\n",
       "1954     0.360458\n",
       "10783   -0.266195\n",
       "Name: n_trips, Length: 12476, dtype: float64"
      ]
     },
     "execution_count": 45,
     "metadata": {},
     "output_type": "execute_result"
    }
   ],
   "source": [
    "# scale y\n",
    "\n",
    "y_mean = np.mean(y_train)\n",
    "y_std = y_train.std()\n",
    "y_train = (y_train - y_mean)/y_std\n",
    "\n",
    "y_test = (y_test - y_mean)/y_std"
   ]
  },
  {
   "cell_type": "code",
   "execution_count": 41,
   "metadata": {},
   "outputs": [
    {
     "data": {
      "text/plain": [
       "<bound method NDFrame._add_numeric_operations.<locals>.std of 6984      5.0\n",
       "7774      6.0\n",
       "14334     2.0\n",
       "143       7.0\n",
       "6719      6.0\n",
       "         ... \n",
       "5287      2.0\n",
       "9483     11.0\n",
       "14869     0.0\n",
       "1954      7.0\n",
       "10783     4.0\n",
       "Name: n_trips, Length: 12476, dtype: float64>"
      ]
     },
     "execution_count": 41,
     "metadata": {},
     "output_type": "execute_result"
    }
   ],
   "source": [
    "y_train.std\n",
    "\n",
    "normalized_df=(df-df.mean())/df.std()"
   ]
  },
  {
   "cell_type": "markdown",
   "metadata": {},
   "source": [
    "## 1.3 People"
   ]
  },
  {
   "cell_type": "code",
   "execution_count": 23,
   "metadata": {},
   "outputs": [],
   "source": [
    "# filtering people from New York\n",
    "nyorker = person[person['HOUSEID'].isin(ny['HOUSEID'])]"
   ]
  },
  {
   "cell_type": "code",
   "execution_count": 24,
   "metadata": {},
   "outputs": [],
   "source": [
    "# selection of columns based on prior background inference of potential features\n",
    "nyorker = nyorker[['HOUSEID','R_AGE','EDUC','R_RACE','R_SEX','WRK_HOME','WKFTPT','OCCAT','DRIVER']]"
   ]
  },
  {
   "cell_type": "code",
   "execution_count": 25,
   "metadata": {},
   "outputs": [
    {
     "data": {
      "image/png": "[encoded data removed]",
      "text/plain": [
       "<Figure size 432x288 with 1 Axes>"
      ]
     },
     "metadata": {
      "needs_background": "light"
     },
     "output_type": "display_data"
    }
   ],
   "source": [
    "# bin age \n",
    "sns.histplot(nyorker['R_AGE'])\n",
    "\n",
    "#impute missing values with mean age of training data \n",
    "\n",
    "nyorker['R_AGE'][nyorker['R_AGE']<0] = round(nyorker['R_AGE'][(nyorker['HOUSEID'].isin(x_train['HOUSEID']))&(nyorker['R_AGE']>0)].mean()) "
   ]
  },
  {
   "cell_type": "code",
   "execution_count": 26,
   "metadata": {},
   "outputs": [
    {
     "name": "stdout",
     "output_type": "stream",
     "text": [
      "          counts  percentage\n",
      "56 to 65    6992   21.786682\n",
      "66 to 75    5570   17.355810\n",
      "46 to 55    4761   14.835011\n",
      "26 to 35    3113    9.699935\n",
      "36 to 45    3058    9.528558\n",
      "5 to 15     3029    9.438195\n",
      ">75         2957    9.213847\n",
      "16 to 25    2613    8.141962\n"
     ]
    },
    {
     "data": {
      "image/png": "[encoded data removed]",
      "text/plain": [
       "<Figure size 432x288 with 1 Axes>"
      ]
     },
     "metadata": {
      "needs_background": "light"
     },
     "output_type": "display_data"
    }
   ],
   "source": [
    "# Bin age to groups \n",
    "nyorker['AGE_bins'] = 'NA'\n",
    "nyorker.loc[nyorker['R_AGE'].between(5,15,inclusive = True), 'AGE_bins'] = \"5 to 15\"\n",
    "nyorker.loc[nyorker['R_AGE'].between(16,25,inclusive = True), 'AGE_bins'] = \"16 to 25\"\n",
    "nyorker.loc[nyorker['R_AGE'].between(26,35,inclusive = True), 'AGE_bins'] = \"26 to 35\"\n",
    "nyorker.loc[nyorker['R_AGE'].between(36,45,inclusive = True), 'AGE_bins'] = \"36 to 45\"\n",
    "nyorker.loc[nyorker['R_AGE'].between(46,55,inclusive = True), 'AGE_bins'] = \"46 to 55\"\n",
    "nyorker.loc[nyorker['R_AGE'].between(56,65,inclusive = True), 'AGE_bins'] = \"56 to 65\"\n",
    "nyorker.loc[nyorker['R_AGE'].between(66,75,inclusive = True), 'AGE_bins'] = \"66 to 75\"\n",
    "nyorker.loc[nyorker['R_AGE']>75, 'AGE_bins'] = \">75\"\n",
    "\n",
    "cat_col_prop(nyorker,'AGE_bins')"
   ]
  },
  {
   "cell_type": "code",
   "execution_count": 27,
   "metadata": {},
   "outputs": [],
   "source": [
    "# one -hot all categorical featuers first\n",
    "\n",
    "to_obj = ['AGE_bins','EDUC','R_RACE','R_SEX','WRK_HOME','WKFTPT','OCCAT','DRIVER']\n",
    "\n",
    "nyorker[to_obj] = nyorker[to_obj].astype(str)\n",
    "mean_age = nyorker[['HOUSEID','R_AGE']].groupby(['HOUSEID']).mean().reset_index().rename(columns = {'R_AGE':'mean_age'})\n",
    "nyorker.drop(['R_AGE'],axis = 1 , inplace = True)\n",
    "\n",
    "one_hot_col = [c for c in nyorker if nyorker[c].dtypes == 'O']\n",
    "nyorker = pd.concat([nyorker,pd.get_dummies(nyorker[one_hot_col],prefix = one_hot_col)],axis = 1)\n",
    "nyorker.drop(one_hot_col, axis = 1, inplace = True)"
   ]
  },
  {
   "cell_type": "code",
   "execution_count": 28,
   "metadata": {},
   "outputs": [
    {
     "data": {
      "text/html": [
       "<div>\n",
       "<style scoped>\n",
       "    .dataframe tbody tr th:only-of-type {\n",
       "        vertical-align: middle;\n",
       "    }\n",
       "\n",
       "    .dataframe tbody tr th {\n",
       "        vertical-align: top;\n",
       "    }\n",
       "\n",
       "    .dataframe thead th {\n",
       "        text-align: right;\n",
       "    }\n",
       "</style>\n",
       "<table border=\"1\" class=\"dataframe\">\n",
       "  <thead>\n",
       "    <tr style=\"text-align: right;\">\n",
       "      <th></th>\n",
       "      <th>HOUSEID</th>\n",
       "      <th>mean_age</th>\n",
       "    </tr>\n",
       "  </thead>\n",
       "  <tbody>\n",
       "    <tr>\n",
       "      <th>0</th>\n",
       "      <td>30000012</td>\n",
       "      <td>45.000000</td>\n",
       "    </tr>\n",
       "    <tr>\n",
       "      <th>1</th>\n",
       "      <td>30000082</td>\n",
       "      <td>38.500000</td>\n",
       "    </tr>\n",
       "    <tr>\n",
       "      <th>2</th>\n",
       "      <td>30000130</td>\n",
       "      <td>45.000000</td>\n",
       "    </tr>\n",
       "    <tr>\n",
       "      <th>3</th>\n",
       "      <td>30000380</td>\n",
       "      <td>37.333333</td>\n",
       "    </tr>\n",
       "    <tr>\n",
       "      <th>4</th>\n",
       "      <td>30000434</td>\n",
       "      <td>67.500000</td>\n",
       "    </tr>\n",
       "    <tr>\n",
       "      <th>...</th>\n",
       "      <td>...</td>\n",
       "      <td>...</td>\n",
       "    </tr>\n",
       "    <tr>\n",
       "      <th>15590</th>\n",
       "      <td>40793669</td>\n",
       "      <td>24.000000</td>\n",
       "    </tr>\n",
       "    <tr>\n",
       "      <th>15591</th>\n",
       "      <td>40793685</td>\n",
       "      <td>67.500000</td>\n",
       "    </tr>\n",
       "    <tr>\n",
       "      <th>15592</th>\n",
       "      <td>40793808</td>\n",
       "      <td>42.000000</td>\n",
       "    </tr>\n",
       "    <tr>\n",
       "      <th>15593</th>\n",
       "      <td>40793974</td>\n",
       "      <td>81.000000</td>\n",
       "    </tr>\n",
       "    <tr>\n",
       "      <th>15594</th>\n",
       "      <td>40794020</td>\n",
       "      <td>72.500000</td>\n",
       "    </tr>\n",
       "  </tbody>\n",
       "</table>\n",
       "<p>15595 rows × 2 columns</p>\n",
       "</div>"
      ],
      "text/plain": [
       "        HOUSEID   mean_age\n",
       "0      30000012  45.000000\n",
       "1      30000082  38.500000\n",
       "2      30000130  45.000000\n",
       "3      30000380  37.333333\n",
       "4      30000434  67.500000\n",
       "...         ...        ...\n",
       "15590  40793669  24.000000\n",
       "15591  40793685  67.500000\n",
       "15592  40793808  42.000000\n",
       "15593  40793974  81.000000\n",
       "15594  40794020  72.500000\n",
       "\n",
       "[15595 rows x 2 columns]"
      ]
     },
     "execution_count": 28,
     "metadata": {},
     "output_type": "execute_result"
    }
   ],
   "source": [
    "mean_age"
   ]
  },
  {
   "cell_type": "code",
   "execution_count": 29,
   "metadata": {},
   "outputs": [],
   "source": [
    "na_cols =[c for c in nyorker if ('NA' in c) or ('-' in c)]\n",
    "\n",
    "nyorker.drop(na_cols, axis = 1, inplace = True)\n"
   ]
  },
  {
   "cell_type": "code",
   "execution_count": 30,
   "metadata": {},
   "outputs": [],
   "source": [
    "# get counts of each bin\n",
    "nyorker = nyorker.groupby('HOUSEID').sum()\n",
    "nyorker = nyorker.merge(mean_age, how = 'left', left_on = 'HOUSEID', right_on= 'HOUSEID')"
   ]
  },
  {
   "cell_type": "code",
   "execution_count": 31,
   "metadata": {},
   "outputs": [],
   "source": [
    "x_train = x_train.merge(nyorker, how = 'left', left_on = 'HOUSEID', right_on = 'HOUSEID')\n",
    "x_test = x_test.merge(nyorker, how = 'left', left_on = 'HOUSEID', right_on = 'HOUSEID')"
   ]
  },
  {
   "cell_type": "markdown",
   "metadata": {},
   "source": [
    "## 2. EDA & Feature Engineering"
   ]
  },
  {
   "cell_type": "code",
   "execution_count": 32,
   "metadata": {},
   "outputs": [
    {
     "name": "stdout",
     "output_type": "stream",
     "text": [
      "<class 'pandas.core.frame.DataFrame'>\n",
      "Int64Index: 12476 entries, 0 to 12475\n",
      "Data columns (total 56 columns):\n",
      " #   Column                    Non-Null Count  Dtype            \n",
      "---  ------                    --------------  -----            \n",
      " 0   HOUSEID                   12476 non-null  int64            \n",
      " 1   HH_CBSA                   12476 non-null  object           \n",
      " 2   HOMEOWN                   12476 non-null  int64            \n",
      " 3   HHSIZE                    12476 non-null  int64            \n",
      " 4   HHVEHCNT                  12476 non-null  int64            \n",
      " 5   HHFAMINC                  12476 non-null  int64            \n",
      " 6   NUMADLT                   12476 non-null  int64            \n",
      " 7   YOUNGCHILD                12476 non-null  int64            \n",
      " 8   WRKCOUNT                  12476 non-null  int64            \n",
      " 9   MSACAT                    12476 non-null  int64            \n",
      " 10  MSASIZE                   12476 non-null  int64            \n",
      " 11  URBAN                     12476 non-null  int64            \n",
      " 12  URBANSIZE                 12476 non-null  int64            \n",
      " 13  URBRUR                    12476 non-null  int64            \n",
      " 14  LIF_CYC                   12476 non-null  int64            \n",
      " 15  TRAVDAY                   12476 non-null  int64            \n",
      " 16  dist_to_work              4244 non-null   interval[float64]\n",
      " 17  dist_to_shopping          5555 non-null   interval[float64]\n",
      " 18  dist_to_family            4446 non-null   interval[float64]\n",
      " 19  dist_to_school_or_church  1621 non-null   interval[float64]\n",
      " 20  dist_to_relatives         1985 non-null   interval[float64]\n",
      " 21  dist_to_social            4531 non-null   interval[float64]\n",
      " 22  EDUC_1                    12476 non-null  uint8            \n",
      " 23  EDUC_2                    12476 non-null  uint8            \n",
      " 24  EDUC_3                    12476 non-null  uint8            \n",
      " 25  EDUC_4                    12476 non-null  uint8            \n",
      " 26  EDUC_5                    12476 non-null  uint8            \n",
      " 27  R_RACE_1                  12476 non-null  uint8            \n",
      " 28  R_RACE_2                  12476 non-null  uint8            \n",
      " 29  R_RACE_3                  12476 non-null  uint8            \n",
      " 30  R_RACE_4                  12476 non-null  uint8            \n",
      " 31  R_RACE_5                  12476 non-null  uint8            \n",
      " 32  R_RACE_6                  12476 non-null  uint8            \n",
      " 33  R_RACE_97                 12476 non-null  uint8            \n",
      " 34  R_SEX_1                   12476 non-null  uint8            \n",
      " 35  R_SEX_2                   12476 non-null  uint8            \n",
      " 36  WRK_HOME_1                12476 non-null  uint8            \n",
      " 37  WRK_HOME_2                12476 non-null  uint8            \n",
      " 38  WKFTPT_1                  12476 non-null  uint8            \n",
      " 39  WKFTPT_2                  12476 non-null  uint8            \n",
      " 40  OCCAT_1                   12476 non-null  uint8            \n",
      " 41  OCCAT_2                   12476 non-null  uint8            \n",
      " 42  OCCAT_3                   12476 non-null  uint8            \n",
      " 43  OCCAT_4                   12476 non-null  uint8            \n",
      " 44  OCCAT_97                  12476 non-null  uint8            \n",
      " 45  DRIVER_1                  12476 non-null  uint8            \n",
      " 46  DRIVER_2                  12476 non-null  uint8            \n",
      " 47  AGE_bins_16 to 25         12476 non-null  uint8            \n",
      " 48  AGE_bins_26 to 35         12476 non-null  uint8            \n",
      " 49  AGE_bins_36 to 45         12476 non-null  uint8            \n",
      " 50  AGE_bins_46 to 55         12476 non-null  uint8            \n",
      " 51  AGE_bins_5 to 15          12476 non-null  uint8            \n",
      " 52  AGE_bins_56 to 65         12476 non-null  uint8            \n",
      " 53  AGE_bins_66 to 75         12476 non-null  uint8            \n",
      " 54  AGE_bins_>75              12476 non-null  uint8            \n",
      " 55  mean_age                  12476 non-null  float64          \n",
      "dtypes: float64(1), int64(15), interval(6), object(1), uint8(33)\n",
      "memory usage: 3.2+ MB\n"
     ]
    }
   ],
   "source": [
    "x_train.info()"
   ]
  },
  {
   "cell_type": "markdown",
   "metadata": {},
   "source": [
    "#### Person Columns"
   ]
  },
  {
   "cell_type": "code",
   "execution_count": 33,
   "metadata": {},
   "outputs": [
    {
     "name": "stdout",
     "output_type": "stream",
     "text": [
      "EDUC_1\n",
      "   counts  percentage\n",
      "0   11100   88.970824\n",
      "1    1376   11.029176\n",
      "EDUC_2\n",
      "   counts  percentage\n",
      "0    8593   68.876242\n",
      "1    3883   31.123758\n",
      "EDUC_3\n",
      "   counts  percentage\n",
      "0    7421   59.482206\n",
      "1    5055   40.517794\n",
      "EDUC_4\n",
      "   counts  percentage\n",
      "0    8431   67.577749\n",
      "1    4045   32.422251\n",
      "EDUC_5\n",
      "   counts  percentage\n",
      "0    8070   64.684194\n",
      "1    4406   35.315806\n",
      "R_RACE_1\n",
      "   counts  percentage\n",
      "1   11590   92.898365\n",
      "0     886    7.101635\n",
      "R_RACE_2\n",
      "   counts  percentage\n",
      "0   12045   96.545367\n",
      "1     431    3.454633\n",
      "R_RACE_3\n",
      "   counts  percentage\n",
      "0   12048   96.569413\n",
      "1     428    3.430587\n",
      "R_RACE_4\n",
      "   counts  percentage\n",
      "0   12422   99.567169\n",
      "1      54    0.432831\n",
      "R_RACE_5\n",
      "   counts  percentage\n",
      "0   12465   99.911831\n",
      "1      11    0.088169\n",
      "R_RACE_6\n",
      "   counts  percentage\n",
      "0   12077    96.80186\n",
      "1     399     3.19814\n",
      "R_RACE_97\n",
      "   counts  percentage\n",
      "0   12290   98.509138\n",
      "1     186    1.490862\n",
      "R_SEX_1\n",
      "   counts  percentage\n",
      "1    9868   79.095864\n",
      "0    2608   20.904136\n",
      "WRK_HOME_1\n",
      "   counts  percentage\n",
      "0   11226   89.980763\n",
      "1    1250   10.019237\n",
      "WKFTPT_1\n",
      "   counts  percentage\n",
      "1    6784   54.376403\n",
      "0    5692   45.623597\n",
      "OCCAT_1\n",
      "   counts  percentage\n",
      "0   10210   81.837127\n",
      "1    2266   18.162873\n",
      "OCCAT_2\n",
      "   counts  percentage\n",
      "0   11105   89.010901\n",
      "1    1371   10.989099\n",
      "OCCAT_3\n",
      "   counts  percentage\n",
      "0   11107   89.026932\n",
      "1    1369   10.973068\n",
      "OCCAT_4\n",
      "   counts  percentage\n",
      "0    7268   58.255851\n",
      "1    5208   41.744149\n",
      "OCCAT_97\n",
      "   counts  percentage\n",
      "0   12461   99.879769\n",
      "1      15    0.120231\n",
      "DRIVER_1\n",
      "   counts  percentage\n",
      "1   12427   99.607246\n",
      "0      49    0.392754\n",
      "AGE_bins_16 to 25\n",
      "   counts  percentage\n",
      "0   10864   87.079192\n",
      "1    1612   12.920808\n",
      "AGE_bins_26 to 35\n",
      "   counts  percentage\n",
      "0   10708   85.828791\n",
      "1    1768   14.171209\n",
      "AGE_bins_36 to 45\n",
      "   counts  percentage\n",
      "0   10680    85.60436\n",
      "1    1796    14.39564\n",
      "AGE_bins_46 to 55\n",
      "   counts  percentage\n",
      "0    9595   76.907663\n",
      "1    2881   23.092337\n",
      "AGE_bins_5 to 15\n",
      "   counts  percentage\n",
      "0   10886   87.255531\n",
      "1    1590   12.744469\n",
      "AGE_bins_56 to 65\n",
      "   counts  percentage\n",
      "0    8328   66.752164\n",
      "1    4148   33.247836\n",
      "AGE_bins_66 to 75\n",
      "   counts  percentage\n",
      "0    9152   73.356845\n",
      "1    3324   26.643155\n",
      "AGE_bins_>75\n",
      "   counts  percentage\n",
      "0   10615    85.08336\n",
      "1    1861    14.91664\n"
     ]
    },
    {
     "data": {
      "image/png": "[encoded data removed]",
      "text/plain": [
       "<Figure size 432x288 with 1 Axes>"
      ]
     },
     "metadata": {
      "needs_background": "light"
     },
     "output_type": "display_data"
    }
   ],
   "source": [
    "# Drop binary columns \n",
    "x_train.drop(['R_SEX_2','WRK_HOME_2','WKFTPT_2','DRIVER_2'],axis = 1 , inplace = True)\n",
    "x_test.drop(['R_SEX_2','WRK_HOME_2','WKFTPT_2','DRIVER_2'],axis = 1 , inplace = True)\n",
    "\n",
    "# binarize rest of columns \n",
    "age_col = [c for c in x_train if any([x in c for x in to_obj])]\n",
    "\n",
    "for col in age_col:\n",
    "    print(col)\n",
    "    \n",
    "    #conversion of all to binary as no substantial difference \n",
    "    x_train[col][x_train[col]>0] = 1\n",
    "    x_train[col][x_train[col]==0] = 0\n",
    "    cat_col_prop(x_train, col)\n",
    "    x_test[col][x_test[col]>0] = 1\n",
    "    x_test[col][x_test[col]==0] = 0"
   ]
  },
  {
   "cell_type": "markdown",
   "metadata": {},
   "source": [
    "#### Core Based Statiscal Area FIPS code (HH_CBSA)"
   ]
  },
  {
   "cell_type": "code",
   "execution_count": 34,
   "metadata": {},
   "outputs": [
    {
     "name": "stdout",
     "output_type": "stream",
     "text": [
      "       counts  percentage\n",
      "XXXXX    7684   61.590253\n",
      "35620    3462   27.749279\n",
      "40380     715    5.731004\n",
      "15380     615    4.929465\n"
     ]
    },
    {
     "data": {
      "image/png": "[encoded data removed]",
      "text/plain": [
       "<Figure size 432x288 with 1 Axes>"
      ]
     },
     "metadata": {
      "needs_background": "light"
     },
     "output_type": "display_data"
    }
   ],
   "source": [
    "#Core Based Statistical Area (CBSA) FIPS code for the respondent's home address\n",
    "\n",
    "cat_col_prop(x_train,'HH_CBSA')\n",
    "\n",
    "# To note significant number of households under the 'XXXXX=Suppressed, in an MSA of less than 1 million ' category"
   ]
  },
  {
   "cell_type": "markdown",
   "metadata": {},
   "source": [
    "####  Home Ownership (HOMEOWN)"
   ]
  },
  {
   "cell_type": "code",
   "execution_count": 35,
   "metadata": {},
   "outputs": [
    {
     "name": "stdout",
     "output_type": "stream",
     "text": [
      "     counts  percentage\n",
      " 1    10180   81.596666\n",
      " 2     2200   17.633857\n",
      " 97      95    0.761462\n",
      "-7        1    0.008015\n"
     ]
    },
    {
     "data": {
      "image/png": "[encoded data removed]",
      "text/plain": [
       "<Figure size 432x288 with 1 Axes>"
      ]
     },
     "metadata": {
      "needs_background": "light"
     },
     "output_type": "display_data"
    }
   ],
   "source": [
    "cat_col_prop(x_train,'HOMEOWN')\n",
    "#Small count with missing value 2. to address in one-hot encoding"
   ]
  },
  {
   "cell_type": "markdown",
   "metadata": {},
   "source": [
    "#### Household Vehicle Count (HHVEHCNT)"
   ]
  },
  {
   "cell_type": "code",
   "execution_count": 36,
   "metadata": {},
   "outputs": [
    {
     "name": "stdout",
     "output_type": "stream",
     "text": [
      "    counts  percentage\n",
      "2     5016   40.205194\n",
      "1     4653   37.295608\n",
      "3     1825   14.628086\n",
      "4      635    5.089772\n",
      "5      225    1.803463\n",
      "6       76    0.609170\n",
      "7       31    0.248477\n",
      "8        8    0.064123\n",
      "9        4    0.032062\n",
      "11       2    0.016031\n",
      "12       1    0.008015\n"
     ]
    },
    {
     "data": {
      "image/png": "[encoded data removed]",
      "text/plain": [
       "<Figure size 432x288 with 1 Axes>"
      ]
     },
     "metadata": {
      "needs_background": "light"
     },
     "output_type": "display_data"
    }
   ],
   "source": [
    "#count of household vehicles\n",
    "\n",
    "cat_col_prop(x_train,'HHVEHCNT')\n",
    "\n",
    "\n",
    "# as group size significantly smaller from 4 and above to bin to a single group\n",
    "\n",
    "x_train['HHVEHCNT'][x_train['HHVEHCNT']>3] = \">3\"\n",
    "x_test['HHVEHCNT'][x_test['HHVEHCNT']>3] = \">3\"\n"
   ]
  },
  {
   "cell_type": "markdown",
   "metadata": {},
   "source": [
    "#### Family Income (HHFAMINC)"
   ]
  },
  {
   "cell_type": "code",
   "execution_count": 37,
   "metadata": {},
   "outputs": [
    {
     "name": "stdout",
     "output_type": "stream",
     "text": [
      "     counts  percentage\n",
      " 6     2301   18.443411\n",
      " 7     1717   13.762424\n",
      " 5     1504   12.055146\n",
      " 8     1322   10.596345\n",
      " 4     1181    9.466175\n",
      " 3      982    7.871113\n",
      " 9      754    6.043604\n",
      " 11     737    5.907342\n",
      " 10     691    5.538634\n",
      " 2      501    4.015710\n",
      "-7      396    3.174094\n",
      " 1      329    2.637063\n",
      "-8       59    0.472908\n",
      "-9        2    0.016031\n"
     ]
    },
    {
     "data": {
      "image/png": "[encoded data removed]",
      "text/plain": [
       "<Figure size 432x288 with 1 Axes>"
      ]
     },
     "metadata": {
      "needs_background": "light"
     },
     "output_type": "display_data"
    }
   ],
   "source": [
    "cat_col_prop(x_train,'HHFAMINC')\n",
    "# approx 3% missing (<0) to address in one-hot encoding"
   ]
  },
  {
   "cell_type": "markdown",
   "metadata": {},
   "source": [
    "#### Number of Adult  (NUMADLT)"
   ]
  },
  {
   "cell_type": "code",
   "execution_count": 38,
   "metadata": {},
   "outputs": [
    {
     "name": "stdout",
     "output_type": "stream",
     "text": [
      "    counts  percentage\n",
      "2     7068   56.652773\n",
      "1     4023   32.245912\n",
      "3     1050    8.416159\n",
      "4      273    2.188201\n",
      "5       51    0.408785\n",
      "6        7    0.056108\n",
      "7        2    0.016031\n",
      "8        1    0.008015\n",
      "10       1    0.008015\n"
     ]
    },
    {
     "data": {
      "image/png": "[encoded data removed]",
      "text/plain": [
       "<Figure size 432x288 with 1 Axes>"
      ]
     },
     "metadata": {
      "needs_background": "light"
     },
     "output_type": "display_data"
    }
   ],
   "source": [
    "cat_col_prop(x_train, 'NUMADLT')\n",
    "#no missing values\n",
    "\n",
    "# as group size significantly smaller from 3 and above to bin to a single group\n",
    "\n",
    "x_train['NUMADLT'][x_train['NUMADLT']>2] = \">2\"\n",
    "x_test['NUMADLT'][x_test['NUMADLT']>2] = \">2\""
   ]
  },
  {
   "cell_type": "markdown",
   "metadata": {},
   "source": [
    "#### Number of Young Child (YOUNGCHILD)"
   ]
  },
  {
   "cell_type": "code",
   "execution_count": 39,
   "metadata": {},
   "outputs": [
    {
     "name": "stdout",
     "output_type": "stream",
     "text": [
      "   counts  percentage\n",
      "0   11663   93.483488\n",
      "1     597    4.785188\n",
      "2     198    1.587047\n",
      "3      16    0.128246\n",
      "4       1    0.008015\n",
      "5       1    0.008015\n"
     ]
    },
    {
     "data": {
      "image/png": "[encoded data removed]",
      "text/plain": [
       "<Figure size 432x288 with 1 Axes>"
      ]
     },
     "metadata": {
      "needs_background": "light"
     },
     "output_type": "display_data"
    }
   ],
   "source": [
    "cat_col_prop(x_train,'YOUNGCHILD')\n",
    "\n",
    "# as group size significantly smaller from 1 and above to binarize column\n",
    "x_train['YOUNGCHILD'][x_train['YOUNGCHILD']>0] = \"1\"\n",
    "x_test['YOUNGCHILD'][x_test['YOUNGCHILD']>0] = \"1\""
   ]
  },
  {
   "cell_type": "markdown",
   "metadata": {},
   "source": [
    "#### Worker Count (WRKCOUNT)"
   ]
  },
  {
   "cell_type": "code",
   "execution_count": 40,
   "metadata": {},
   "outputs": [
    {
     "name": "stdout",
     "output_type": "stream",
     "text": [
      "   counts  percentage\n",
      "0    4291   34.394037\n",
      "1    4212   33.760821\n",
      "2    3382   27.108047\n",
      "3     467    3.743187\n",
      "4     112    0.897724\n",
      "5      10    0.080154\n",
      "6       1    0.008015\n",
      "7       1    0.008015\n"
     ]
    },
    {
     "data": {
      "image/png": "[encoded data removed]",
      "text/plain": [
       "<Figure size 432x288 with 1 Axes>"
      ]
     },
     "metadata": {
      "needs_background": "light"
     },
     "output_type": "display_data"
    }
   ],
   "source": [
    "cat_col_prop(x_train,'WRKCOUNT')\n",
    "\n",
    "# as group size significantly smaller from 2 and above to bin to a single group\n",
    "\n",
    "x_train['WRKCOUNT'][x_train['WRKCOUNT']>1] = \">1\"\n",
    "x_test['WRKCOUNT'][x_test['WRKCOUNT']>1] = \">1\""
   ]
  },
  {
   "cell_type": "markdown",
   "metadata": {},
   "source": [
    "### Household Size (HHSIZE)"
   ]
  },
  {
   "cell_type": "code",
   "execution_count": 41,
   "metadata": {},
   "outputs": [
    {
     "name": "stdout",
     "output_type": "stream",
     "text": [
      "    counts  percentage\n",
      "2     5541   44.413273\n",
      "1     3764   30.169926\n",
      "3     1557   12.479962\n",
      "4     1104    8.848990\n",
      "5      355    2.845463\n",
      "6      104    0.833601\n",
      "7       29    0.232446\n",
      "8       13    0.104200\n",
      "9        6    0.048092\n",
      "10       2    0.016031\n",
      "11       1    0.008015\n"
     ]
    },
    {
     "data": {
      "image/png": "[encoded data removed]",
      "text/plain": [
       "<Figure size 432x288 with 1 Axes>"
      ]
     },
     "metadata": {
      "needs_background": "light"
     },
     "output_type": "display_data"
    }
   ],
   "source": [
    "cat_col_prop(x_train,'HHSIZE')\n",
    "\n",
    "# as group size significantly smaller from 4 and above to bin to a single group\n",
    "x_train['HHSIZE'][x_train['HHSIZE']>3] = \">3\"\n",
    "x_test['HHSIZE'][x_test['HHSIZE']>3] = \">3\""
   ]
  },
  {
   "cell_type": "markdown",
   "metadata": {},
   "source": [
    "#### Metropolitan Statistical Area (MSACAT)\n"
   ]
  },
  {
   "cell_type": "code",
   "execution_count": 42,
   "metadata": {},
   "outputs": [
    {
     "name": "stdout",
     "output_type": "stream",
     "text": [
      "   counts  percentage\n",
      "3    5561   44.573581\n",
      "1    3462   27.749279\n",
      "4    2123   17.016672\n",
      "2    1330   10.660468\n"
     ]
    },
    {
     "data": {
      "image/png": "[encoded data removed]",
      "text/plain": [
       "<Figure size 432x288 with 1 Axes>"
      ]
     },
     "metadata": {
      "needs_background": "light"
     },
     "output_type": "display_data"
    }
   ],
   "source": [
    "cat_col_prop(x_train,'MSACAT')\n",
    "#no missing values and relatively proportional distribution"
   ]
  },
  {
   "cell_type": "markdown",
   "metadata": {},
   "source": [
    "#### Population size of MSA (MSASIZE)"
   ]
  },
  {
   "cell_type": "code",
   "execution_count": 43,
   "metadata": {},
   "outputs": [
    {
     "name": "stdout",
     "output_type": "stream",
     "text": [
      "   counts  percentage\n",
      "5    3462   27.749279\n",
      "1    3252   26.066047\n",
      "6    2123   17.016672\n",
      "3    1709   13.698301\n",
      "4    1330   10.660468\n",
      "2     600    4.809234\n"
     ]
    },
    {
     "data": {
      "image/png": "[encoded data removed]",
      "text/plain": [
       "<Figure size 432x288 with 1 Axes>"
      ]
     },
     "metadata": {
      "needs_background": "light"
     },
     "output_type": "display_data"
    }
   ],
   "source": [
    "cat_col_prop(x_train,'MSASIZE')\n",
    "             \n",
    "#no missing values and relatively proportional distribution"
   ]
  },
  {
   "cell_type": "markdown",
   "metadata": {},
   "source": [
    "#### URBANSIZE"
   ]
  },
  {
   "cell_type": "code",
   "execution_count": 44,
   "metadata": {},
   "outputs": [
    {
     "name": "stdout",
     "output_type": "stream",
     "text": [
      "   counts  percentage\n",
      "6    5500   44.084643\n",
      "5    2199   17.625842\n",
      "1    2037   16.327349\n",
      "3    1458   11.686438\n",
      "2    1282   10.275729\n"
     ]
    },
    {
     "data": {
      "image/png": "[encoded data removed]",
      "text/plain": [
       "<Figure size 432x288 with 1 Axes>"
      ]
     },
     "metadata": {
      "needs_background": "light"
     },
     "output_type": "display_data"
    }
   ],
   "source": [
    "#06 = not in an urbanised area \n",
    "#05 - 1 million with heavy rail \n",
    "\n",
    "#Relatively proportional classes\n",
    "cat_col_prop(x_train,'URBANSIZE')"
   ]
  },
  {
   "cell_type": "markdown",
   "metadata": {},
   "source": [
    "#### URBRUR"
   ]
  },
  {
   "cell_type": "code",
   "execution_count": 45,
   "metadata": {},
   "outputs": [
    {
     "name": "stdout",
     "output_type": "stream",
     "text": [
      "   counts  percentage\n",
      "1    8279    66.35941\n",
      "2    4197    33.64059\n"
     ]
    },
    {
     "data": {
      "image/png": "[encoded data removed]",
      "text/plain": [
       "<Figure size 432x288 with 1 Axes>"
      ]
     },
     "metadata": {
      "needs_background": "light"
     },
     "output_type": "display_data"
    }
   ],
   "source": [
    "cat_col_prop(x_train,'URBRUR')\n",
    "# missing values nor disproportion"
   ]
  },
  {
   "cell_type": "markdown",
   "metadata": {},
   "source": [
    "#### LIF_CYC "
   ]
  },
  {
   "cell_type": "code",
   "execution_count": 46,
   "metadata": {},
   "outputs": [
    {
     "name": "stdout",
     "output_type": "stream",
     "text": [
      "    counts  percentage\n",
      "10    3334   26.723309\n",
      "2     2721   21.809875\n",
      "1     1971   15.798333\n",
      "9     1793   14.371593\n",
      "6      949    7.606605\n",
      "4      849    6.805066\n",
      "8      498    3.991664\n",
      "5      182    1.458801\n",
      "7      104    0.833601\n",
      "3       75    0.601154\n"
     ]
    },
    {
     "data": {
      "image/png": "[encoded data removed]",
      "text/plain": [
       "<Figure size 432x288 with 1 Axes>"
      ]
     },
     "metadata": {
      "needs_background": "light"
     },
     "output_type": "display_data"
    }
   ],
   "source": [
    "cat_col_prop(x_train,\"LIF_CYC\")\n",
    "\n",
    "# No major disproportion"
   ]
  },
  {
   "cell_type": "code",
   "execution_count": 47,
   "metadata": {},
   "outputs": [
    {
     "data": {
      "text/plain": [
       "['HOUSEID',\n",
       " 'HH_CBSA',\n",
       " 'HOMEOWN',\n",
       " 'HHSIZE',\n",
       " 'HHVEHCNT',\n",
       " 'HHFAMINC',\n",
       " 'NUMADLT',\n",
       " 'YOUNGCHILD',\n",
       " 'WRKCOUNT',\n",
       " 'MSACAT',\n",
       " 'MSASIZE',\n",
       " 'URBAN',\n",
       " 'URBANSIZE',\n",
       " 'URBRUR',\n",
       " 'LIF_CYC',\n",
       " 'TRAVDAY',\n",
       " 'dist_to_work',\n",
       " 'dist_to_shopping',\n",
       " 'dist_to_family',\n",
       " 'dist_to_school_or_church',\n",
       " 'dist_to_relatives',\n",
       " 'dist_to_social',\n",
       " 'EDUC_1',\n",
       " 'EDUC_2',\n",
       " 'EDUC_3',\n",
       " 'EDUC_4',\n",
       " 'EDUC_5',\n",
       " 'R_RACE_1',\n",
       " 'R_RACE_2',\n",
       " 'R_RACE_3',\n",
       " 'R_RACE_4',\n",
       " 'R_RACE_5',\n",
       " 'R_RACE_6',\n",
       " 'R_RACE_97',\n",
       " 'R_SEX_1',\n",
       " 'WRK_HOME_1',\n",
       " 'WKFTPT_1',\n",
       " 'OCCAT_1',\n",
       " 'OCCAT_2',\n",
       " 'OCCAT_3',\n",
       " 'OCCAT_4',\n",
       " 'OCCAT_97',\n",
       " 'DRIVER_1',\n",
       " 'AGE_bins_16 to 25',\n",
       " 'AGE_bins_26 to 35',\n",
       " 'AGE_bins_36 to 45',\n",
       " 'AGE_bins_46 to 55',\n",
       " 'AGE_bins_5 to 15',\n",
       " 'AGE_bins_56 to 65',\n",
       " 'AGE_bins_66 to 75',\n",
       " 'AGE_bins_>75',\n",
       " 'mean_age']"
      ]
     },
     "execution_count": 47,
     "metadata": {},
     "output_type": "execute_result"
    }
   ],
   "source": [
    "[c for c in x_train]"
   ]
  },
  {
   "cell_type": "code",
   "execution_count": 48,
   "metadata": {},
   "outputs": [
    {
     "name": "stdout",
     "output_type": "stream",
     "text": [
      "               counts  percentage\n",
      "(10.0, 39.0]     1755   41.352498\n",
      "(5.0, 10.0]       981   23.114986\n",
      "(2.0, 5.0]        721   16.988690\n",
      "(-0.001, 1.0]     487   11.475024\n",
      "(1.0, 2.0]        300    7.068803\n"
     ]
    },
    {
     "data": {
      "image/png": "[encoded data removed]",
      "text/plain": [
       "<Figure size 432x288 with 1 Axes>"
      ]
     },
     "metadata": {
      "needs_background": "light"
     },
     "output_type": "display_data"
    }
   ],
   "source": [
    "cat_col_prop(x_train,'dist_to_work')"
   ]
  },
  {
   "cell_type": "markdown",
   "metadata": {},
   "source": [
    "## 3. One-Hot- Encoding"
   ]
  },
  {
   "cell_type": "code",
   "execution_count": 49,
   "metadata": {},
   "outputs": [
    {
     "data": {
      "text/plain": [
       "HOUSEID                                 int64\n",
       "HH_CBSA                                object\n",
       "HOMEOWN                                 int64\n",
       "HHSIZE                                 object\n",
       "HHVEHCNT                               object\n",
       "HHFAMINC                                int64\n",
       "NUMADLT                                object\n",
       "YOUNGCHILD                             object\n",
       "WRKCOUNT                               object\n",
       "MSACAT                                  int64\n",
       "MSASIZE                                 int64\n",
       "URBAN                                   int64\n",
       "URBANSIZE                               int64\n",
       "URBRUR                                  int64\n",
       "LIF_CYC                                 int64\n",
       "TRAVDAY                                 int64\n",
       "dist_to_work                interval[float64]\n",
       "dist_to_shopping            interval[float64]\n",
       "dist_to_family              interval[float64]\n",
       "dist_to_school_or_church    interval[float64]\n",
       "dist_to_relatives           interval[float64]\n",
       "dist_to_social              interval[float64]\n",
       "EDUC_1                                  uint8\n",
       "EDUC_2                                  uint8\n",
       "EDUC_3                                  uint8\n",
       "EDUC_4                                  uint8\n",
       "EDUC_5                                  uint8\n",
       "R_RACE_1                                uint8\n",
       "R_RACE_2                                uint8\n",
       "R_RACE_3                                uint8\n",
       "R_RACE_4                                uint8\n",
       "R_RACE_5                                uint8\n",
       "R_RACE_6                                uint8\n",
       "R_RACE_97                               uint8\n",
       "R_SEX_1                                 uint8\n",
       "WRK_HOME_1                              uint8\n",
       "WKFTPT_1                                uint8\n",
       "OCCAT_1                                 uint8\n",
       "OCCAT_2                                 uint8\n",
       "OCCAT_3                                 uint8\n",
       "OCCAT_4                                 uint8\n",
       "OCCAT_97                                uint8\n",
       "DRIVER_1                                uint8\n",
       "AGE_bins_16 to 25                       uint8\n",
       "AGE_bins_26 to 35                       uint8\n",
       "AGE_bins_36 to 45                       uint8\n",
       "AGE_bins_46 to 55                       uint8\n",
       "AGE_bins_5 to 15                        uint8\n",
       "AGE_bins_56 to 65                       uint8\n",
       "AGE_bins_66 to 75                       uint8\n",
       "AGE_bins_>75                            uint8\n",
       "mean_age                              float64\n",
       "dtype: object"
      ]
     },
     "execution_count": 49,
     "metadata": {},
     "output_type": "execute_result"
    }
   ],
   "source": [
    "x_train.dtypes"
   ]
  },
  {
   "cell_type": "code",
   "execution_count": 50,
   "metadata": {},
   "outputs": [],
   "source": [
    "to_obj = ['TRAVDAY','MSACAT','MSASIZE','URBAN','URBANSIZE','URBRUR','LIF_CYC','dist_to_work','dist_to_shopping','dist_to_family','dist_to_school_or_church','dist_to_relatives','dist_to_social']\n",
    "x_train[to_obj] = x_train[to_obj].astype(str)\n",
    "x_test[to_obj]= x_test[to_obj].astype(str)"
   ]
  },
  {
   "cell_type": "code",
   "execution_count": 51,
   "metadata": {},
   "outputs": [],
   "source": [
    "one_hot_col = [c for c in x_train if x_train[c].dtypes == 'O' ]\n",
    "x_train = pd.concat([x_train,pd.get_dummies(x_train[one_hot_col],prefix = one_hot_col)],axis = 1)\n",
    "x_train.drop(one_hot_col, axis = 1, inplace = True)\n",
    "\n",
    "x_test = pd.concat([x_test,pd.get_dummies(x_test[one_hot_col],prefix = one_hot_col)],axis = 1)\n",
    "x_test.drop(one_hot_col, axis = 1, inplace = True)"
   ]
  },
  {
   "cell_type": "code",
   "execution_count": 52,
   "metadata": {},
   "outputs": [],
   "source": [
    "#drop all negative value columns  \n",
    "\n",
    "na_cols_train =[c for c in x_train if ('NA' in c) or ('-' in c) or ('nan' in c)]\n",
    "\n",
    "x_train.drop(na_cols_train, axis = 1, inplace = True)\n",
    "\n",
    "\n",
    "na_cols_test =[c for c in x_test if ('NA' in c) or ('-' in c) or ('nan' in c)]\n",
    "x_test.drop(na_cols_test, axis = 1 , inplace = True)"
   ]
  },
  {
   "cell_type": "code",
   "execution_count": 53,
   "metadata": {},
   "outputs": [
    {
     "data": {
      "text/plain": [
       "(12476, 115)"
      ]
     },
     "execution_count": 53,
     "metadata": {},
     "output_type": "execute_result"
    }
   ],
   "source": [
    "x_train.shape"
   ]
  },
  {
   "cell_type": "code",
   "execution_count": 54,
   "metadata": {},
   "outputs": [
    {
     "data": {
      "text/plain": [
       "(3119, 114)"
      ]
     },
     "execution_count": 54,
     "metadata": {},
     "output_type": "execute_result"
    }
   ],
   "source": [
    "x_test.shape"
   ]
  },
  {
   "cell_type": "code",
   "execution_count": 55,
   "metadata": {},
   "outputs": [
    {
     "data": {
      "text/plain": [
       "['HOUSEID',\n",
       " 'HOMEOWN',\n",
       " 'HHFAMINC',\n",
       " 'EDUC_1',\n",
       " 'EDUC_2',\n",
       " 'EDUC_3',\n",
       " 'EDUC_4',\n",
       " 'EDUC_5',\n",
       " 'R_RACE_1',\n",
       " 'R_RACE_2',\n",
       " 'R_RACE_3',\n",
       " 'R_RACE_4',\n",
       " 'R_RACE_5',\n",
       " 'R_RACE_6',\n",
       " 'R_RACE_97',\n",
       " 'R_SEX_1',\n",
       " 'WRK_HOME_1',\n",
       " 'WKFTPT_1',\n",
       " 'OCCAT_1',\n",
       " 'OCCAT_2',\n",
       " 'OCCAT_3',\n",
       " 'OCCAT_4',\n",
       " 'OCCAT_97',\n",
       " 'DRIVER_1',\n",
       " 'AGE_bins_16 to 25',\n",
       " 'AGE_bins_26 to 35',\n",
       " 'AGE_bins_36 to 45',\n",
       " 'AGE_bins_46 to 55',\n",
       " 'AGE_bins_5 to 15',\n",
       " 'AGE_bins_56 to 65',\n",
       " 'AGE_bins_66 to 75',\n",
       " 'AGE_bins_>75',\n",
       " 'mean_age',\n",
       " 'HH_CBSA_15380',\n",
       " 'HH_CBSA_35620',\n",
       " 'HH_CBSA_40380',\n",
       " 'HH_CBSA_XXXXX',\n",
       " 'HHSIZE_1',\n",
       " 'HHSIZE_2',\n",
       " 'HHSIZE_3',\n",
       " 'HHSIZE_>3',\n",
       " 'HHVEHCNT_1',\n",
       " 'HHVEHCNT_2',\n",
       " 'HHVEHCNT_3',\n",
       " 'HHVEHCNT_>3',\n",
       " 'NUMADLT_1',\n",
       " 'NUMADLT_2',\n",
       " 'NUMADLT_>2',\n",
       " 'YOUNGCHILD_0',\n",
       " 'YOUNGCHILD_1',\n",
       " 'WRKCOUNT_0',\n",
       " 'WRKCOUNT_1',\n",
       " 'WRKCOUNT_>1',\n",
       " 'MSACAT_1',\n",
       " 'MSACAT_2',\n",
       " 'MSACAT_3',\n",
       " 'MSACAT_4',\n",
       " 'MSASIZE_1',\n",
       " 'MSASIZE_2',\n",
       " 'MSASIZE_3',\n",
       " 'MSASIZE_4',\n",
       " 'MSASIZE_5',\n",
       " 'MSASIZE_6',\n",
       " 'URBAN_1',\n",
       " 'URBAN_2',\n",
       " 'URBAN_3',\n",
       " 'URBAN_4',\n",
       " 'URBANSIZE_1',\n",
       " 'URBANSIZE_2',\n",
       " 'URBANSIZE_3',\n",
       " 'URBANSIZE_5',\n",
       " 'URBANSIZE_6',\n",
       " 'URBRUR_1',\n",
       " 'URBRUR_2',\n",
       " 'LIF_CYC_1',\n",
       " 'LIF_CYC_10',\n",
       " 'LIF_CYC_2',\n",
       " 'LIF_CYC_3',\n",
       " 'LIF_CYC_4',\n",
       " 'LIF_CYC_5',\n",
       " 'LIF_CYC_6',\n",
       " 'LIF_CYC_7',\n",
       " 'LIF_CYC_8',\n",
       " 'LIF_CYC_9',\n",
       " 'TRAVDAY_1',\n",
       " 'TRAVDAY_2',\n",
       " 'TRAVDAY_3',\n",
       " 'TRAVDAY_4',\n",
       " 'TRAVDAY_5',\n",
       " 'TRAVDAY_6',\n",
       " 'TRAVDAY_7',\n",
       " 'dist_to_work_(1.0, 2.0]',\n",
       " 'dist_to_work_(10.0, 39.0]',\n",
       " 'dist_to_work_(2.0, 5.0]',\n",
       " 'dist_to_work_(5.0, 10.0]',\n",
       " 'dist_to_shopping_(1.0, 2.0]',\n",
       " 'dist_to_shopping_(10.0, 39.0]',\n",
       " 'dist_to_shopping_(2.0, 5.0]',\n",
       " 'dist_to_shopping_(5.0, 10.0]',\n",
       " 'dist_to_family_(1.0, 2.0]',\n",
       " 'dist_to_family_(10.0, 39.0]',\n",
       " 'dist_to_family_(2.0, 5.0]',\n",
       " 'dist_to_family_(5.0, 10.0]',\n",
       " 'dist_to_school_or_church_(1.0, 2.0]',\n",
       " 'dist_to_school_or_church_(10.0, 39.0]',\n",
       " 'dist_to_school_or_church_(2.0, 5.0]',\n",
       " 'dist_to_school_or_church_(5.0, 10.0]',\n",
       " 'dist_to_relatives_(1.0, 2.0]',\n",
       " 'dist_to_relatives_(10.0, 39.0]',\n",
       " 'dist_to_relatives_(2.0, 5.0]',\n",
       " 'dist_to_relatives_(5.0, 10.0]',\n",
       " 'dist_to_social_(1.0, 2.0]',\n",
       " 'dist_to_social_(10.0, 39.0]',\n",
       " 'dist_to_social_(2.0, 5.0]',\n",
       " 'dist_to_social_(5.0, 10.0]']"
      ]
     },
     "execution_count": 55,
     "metadata": {},
     "output_type": "execute_result"
    }
   ],
   "source": [
    "[c for c in x_train]"
   ]
  },
  {
   "cell_type": "code",
   "execution_count": 56,
   "metadata": {},
   "outputs": [
    {
     "data": {
      "text/plain": [
       "['URBAN_3']"
      ]
     },
     "execution_count": 56,
     "metadata": {},
     "output_type": "execute_result"
    }
   ],
   "source": [
    "y_list = [c for c in x_test]\n",
    "missing_col = [c for c in x_train if c not in y_list]\n",
    "\n",
    "x_test[missing_col] = 0\n",
    "missing_col"
   ]
  },
  {
   "cell_type": "code",
   "execution_count": 57,
   "metadata": {},
   "outputs": [
    {
     "data": {
      "text/plain": [
       "<matplotlib.axes._subplots.AxesSubplot at 0x1158d3ef608>"
      ]
     },
     "execution_count": 57,
     "metadata": {},
     "output_type": "execute_result"
    },
    {
     "data": {
      "image/png": "[encoded data removed]",
      "text/plain": [
       "<Figure size 432x288 with 1 Axes>"
      ]
     },
     "metadata": {
      "needs_background": "light"
     },
     "output_type": "display_data"
    }
   ],
   "source": [
    "sns.histplot(y_train)"
   ]
  },
  {
   "cell_type": "markdown",
   "metadata": {},
   "source": [
    "## 4.Models"
   ]
  },
  {
   "cell_type": "markdown",
   "metadata": {},
   "source": [
    "### Linear Regression"
   ]
  },
  {
   "cell_type": "code",
   "execution_count": 58,
   "metadata": {},
   "outputs": [],
   "source": [
    "#Checking for multicollinearity through variance Inflation Factor \n",
    "#VIF=1, Very Less Multicollinearity\n",
    "#VIF<5, Moderate Multicollinearity\n",
    "#VIF>5, Extreme Multicollinearity (This is what we have to avoid)\n",
    "\n",
    "import statsmodels.api as sm\n",
    "from statsmodels.stats.outliers_influence import variance_inflation_factor\n",
    "from sklearn import linear_model, model_selection, metrics\n"
   ]
  },
  {
   "cell_type": "code",
   "execution_count": 59,
   "metadata": {},
   "outputs": [],
   "source": [
    "LRmodel = linear_model.LinearRegression()  #create the linear regression \n",
    "LRmodel.fit(x_train,y_train) #train the model using the training set \n",
    "LR_pred = LRmodel.predict(x_test) #use this model to predict the test data set "
   ]
  },
  {
   "cell_type": "code",
   "execution_count": 60,
   "metadata": {},
   "outputs": [
    {
     "name": "stdout",
     "output_type": "stream",
     "text": [
      "R^2 score:\t\t\t\t 0.4120513113786207\n",
      "Explained Variance: \t\t\t 0.4666832700642942\n",
      "Mean Absolute Error: \t\t\t 2.5421527484278577\n",
      "Mean Squared Error:\t\t\t 14.098504729459474\n",
      "Root Mean Squared Error:\t\t 3.754797561714809\n",
      "Intercept:\t 0.812242269178074\n",
      "Coef:\t 115\n"
     ]
    }
   ],
   "source": [
    "print('R^2 score:\\t\\t\\t\\t',LRmodel.score(x_test, y_test)) #compute R^2 score \n",
    "print('Explained Variance: \\t\\t\\t', metrics.explained_variance_score(y_test, LR_pred)) #compute explained variance score\n",
    "print('Mean Absolute Error: \\t\\t\\t', metrics.mean_absolute_error(y_test, LR_pred)) #compute MAE results\n",
    "print('Mean Squared Error:\\t\\t\\t', metrics.mean_squared_error(y_test, LR_pred)) #compute MSE results\n",
    "print('Root Mean Squared Error:\\t\\t', metrics.mean_squared_error(y_test, LR_pred, squared = False)) #compute RSME results\n",
    "print('Intercept:\\t', LRmodel.intercept_) #find intercept value \n",
    "print('Coef:\\t', np.sum(LRmodel.coef_!=0))#find no of features used in regression model "
   ]
  },
  {
   "cell_type": "markdown",
   "metadata": {},
   "source": [
    "### Random Forest"
   ]
  },
  {
   "cell_type": "code",
   "execution_count": 61,
   "metadata": {},
   "outputs": [
    {
     "data": {
      "text/plain": [
       "RandomForestRegressor(max_features=50, oob_score=True, random_state=2019)"
      ]
     },
     "execution_count": 61,
     "metadata": {},
     "output_type": "execute_result"
    }
   ],
   "source": [
    "from sklearn import tree, ensemble, model_selection, metrics\n",
    "\n",
    "rforest = ensemble.RandomForestRegressor(n_estimators = 100, max_features = 50, oob_score = True, random_state = 2019)\n",
    "rforest.fit(x_train, y_train)"
   ]
  },
  {
   "cell_type": "code",
   "execution_count": 62,
   "metadata": {},
   "outputs": [
    {
     "data": {
      "text/plain": [
       "0.4216270171035863"
      ]
     },
     "execution_count": 62,
     "metadata": {},
     "output_type": "execute_result"
    }
   ],
   "source": [
    "rforest.score(x_test, y_test)"
   ]
  },
  {
   "cell_type": "code",
   "execution_count": null,
   "metadata": {},
   "outputs": [],
   "source": []
  }
 ],
 "metadata": {
  "kernelspec": {
   "display_name": "Python 3",
   "language": "python",
   "name": "python3"
  },
  "language_info": {
   "codemirror_mode": {
    "name": "ipython",
    "version": 3
   },
   "file_extension": ".py",
   "mimetype": "text/x-python",
   "name": "python",
   "nbconvert_exporter": "python",
   "pygments_lexer": "ipython3",
   "version": "3.7.4"
  }
 },
 "nbformat": 4,
 "nbformat_minor": 2
}
