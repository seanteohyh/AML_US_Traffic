{
 "cells": [
  {
   "cell_type": "markdown",
   "metadata": {},
   "source": [
    "# NY Person Trip Predictor"
   ]
  },
  {
   "cell_type": "code",
   "execution_count": 1,
   "metadata": {},
   "outputs": [],
   "source": [
    "import pandas as pd\n",
    "import numpy as np\n",
    "import datetime\n",
    "import matplotlib.pyplot as plt\n",
    "import seaborn as sns\n",
    "%matplotlib inline\n",
    "from sklearn import model_selection\n",
    "import warnings\n",
    "import math\n",
    "\n",
    "warnings.filterwarnings('ignore')"
   ]
  },
  {
   "cell_type": "code",
   "execution_count": 2,
   "metadata": {},
   "outputs": [],
   "source": [
    "path = \"C:/Users/Seant/Desktop/aml_data\" #edit this path to change to your path folder\n",
    "\n",
    "#path = \"/Users/jayneteo/Dropbox/SMU MITB/Term 2 2021/AML/Project/NHTS/csv\" \n",
    "\n",
    "household = pd.read_csv(\"\".join([path,'/hhpub.csv']))\n",
    "person =  pd.read_csv(\"\".join([path,'/perpub.csv']))\n",
    "trip =  pd.read_csv(\"\".join([path,'/trippub.csv']))"
   ]
  },
  {
   "cell_type": "code",
   "execution_count": 3,
   "metadata": {},
   "outputs": [],
   "source": [
    "#define function \n",
    "\n",
    "def cat_col_prop(data, col):\n",
    "    print(pd.concat([data[col].value_counts(),\n",
    "          data[col].value_counts(normalize = True).mul(100)],axis = 1, keys = ('counts','percentage')))\n",
    "\n",
    "    sns.countplot(data[col], order =  data[col].value_counts().index)"
   ]
  },
  {
   "cell_type": "markdown",
   "metadata": {},
   "source": [
    "## 1. Merging of Data"
   ]
  },
  {
   "cell_type": "markdown",
   "metadata": {},
   "source": [
    "### 1.1. Household"
   ]
  },
  {
   "cell_type": "code",
   "execution_count": 4,
   "metadata": {},
   "outputs": [],
   "source": [
    "#filtering NY Households\n",
    "ny = household[household['HHSTATE'] == \"NY\"]\n",
    "\n",
    "# as only studying hh with car will also filter out hh with HHVEHCNT == 0\n",
    "ny = ny[ny['HHVEHCNT']>0]"
   ]
  },
  {
   "cell_type": "code",
   "execution_count": 5,
   "metadata": {},
   "outputs": [],
   "source": [
    "# selection of columns based on prior background inference of potential features\n",
    "ny = ny[['HOUSEID','HH_CBSA','HOMEOWN','HHSIZE','HHVEHCNT','HHFAMINC','NUMADLT','YOUNGCHILD','WRKCOUNT','MSACAT','MSASIZE','URBAN','URBANSIZE','URBRUR','LIF_CYC']]"
   ]
  },
  {
   "cell_type": "markdown",
   "metadata": {},
   "source": [
    "### 1.2 Trips"
   ]
  },
  {
   "cell_type": "code",
   "execution_count": 6,
   "metadata": {},
   "outputs": [],
   "source": [
    "ny_trip = trip[trip['HOUSEID'].isin(ny['HOUSEID'])]"
   ]
  },
  {
   "cell_type": "code",
   "execution_count": 7,
   "metadata": {},
   "outputs": [],
   "source": [
    "# selecting trips that were done using either 3.Car, 4.SUV, 5.Van\n",
    "ny_trip = ny_trip[ny_trip['TRPTRANS'].isin([3,4,5])]"
   ]
  },
  {
   "cell_type": "code",
   "execution_count": 8,
   "metadata": {},
   "outputs": [
    {
     "name": "stdout",
     "output_type": "stream",
     "text": [
      "# of trips with dist <=0, 22  out of 87307\n"
     ]
    }
   ],
   "source": [
    "# since only 24 lines with trip distance <= 0, removed lines\n",
    "print('# of trips with dist <=0,', str(sum(ny_trip['TRPMILES']<=0)),' out of', str(len(ny_trip)))\n",
    "ny_trip = ny_trip[ny_trip['TRPMILES']>0]"
   ]
  },
  {
   "cell_type": "code",
   "execution_count": 9,
   "metadata": {},
   "outputs": [
    {
     "name": "stdout",
     "output_type": "stream",
     "text": [
      "84  trips missing TRVLCMIN info so will just remove since only  0.09623646674686373 %\n"
     ]
    }
   ],
   "source": [
    "print(str(sum(ny_trip['TRVLCMIN']<=0)), ' trips missing TRVLCMIN info so will just remove since only ',str(sum(ny_trip['TRVLCMIN']<=0)/len(ny_trip)*100),\"%\")\n",
    "ny_trip = ny_trip[ny_trip['TRVLCMIN']>0]"
   ]
  },
  {
   "cell_type": "code",
   "execution_count": 10,
   "metadata": {},
   "outputs": [
    {
     "data": {
      "image/png": "[encoded data removed]",
      "text/plain": [
       "<Figure size 432x288 with 1 Axes>"
      ]
     },
     "metadata": {
      "needs_background": "light"
     },
     "output_type": "display_data"
    }
   ],
   "source": [
    "#Remove outlier trip miles\n",
    "sns.histplot(ny_trip['TRPMILES'])\n",
    "#ny_trip = ny_trip[ny_trip['TRPMILES']<40]\n",
    "ny_trip = ny_trip[ny_trip['TRPMILES']<100]"
   ]
  },
  {
   "cell_type": "code",
   "execution_count": 11,
   "metadata": {},
   "outputs": [],
   "source": [
    "# Summarise to Person trip counts \n",
    "ny_trip_count = ny_trip[['HOUSEID','PERSONID','TRAVDAY']].groupby(['HOUSEID','PERSONID']).agg('count').reset_index().rename(columns = {'TRAVDAY':'n_trips'})"
   ]
  },
  {
   "cell_type": "code",
   "execution_count": 12,
   "metadata": {},
   "outputs": [
    {
     "data": {
      "text/html": [
       "<div>\n",
       "<style scoped>\n",
       "    .dataframe tbody tr th:only-of-type {\n",
       "        vertical-align: middle;\n",
       "    }\n",
       "\n",
       "    .dataframe tbody tr th {\n",
       "        vertical-align: top;\n",
       "    }\n",
       "\n",
       "    .dataframe thead th {\n",
       "        text-align: right;\n",
       "    }\n",
       "</style>\n",
       "<table border=\"1\" class=\"dataframe\">\n",
       "  <thead>\n",
       "    <tr style=\"text-align: right;\">\n",
       "      <th></th>\n",
       "      <th>HOUSEID</th>\n",
       "      <th>PERSONID</th>\n",
       "      <th>n_trips</th>\n",
       "    </tr>\n",
       "  </thead>\n",
       "  <tbody>\n",
       "    <tr>\n",
       "      <th>0</th>\n",
       "      <td>30000012</td>\n",
       "      <td>1</td>\n",
       "      <td>9</td>\n",
       "    </tr>\n",
       "    <tr>\n",
       "      <th>1</th>\n",
       "      <td>30000082</td>\n",
       "      <td>1</td>\n",
       "      <td>5</td>\n",
       "    </tr>\n",
       "    <tr>\n",
       "      <th>2</th>\n",
       "      <td>30000082</td>\n",
       "      <td>2</td>\n",
       "      <td>5</td>\n",
       "    </tr>\n",
       "    <tr>\n",
       "      <th>3</th>\n",
       "      <td>30000380</td>\n",
       "      <td>1</td>\n",
       "      <td>3</td>\n",
       "    </tr>\n",
       "    <tr>\n",
       "      <th>4</th>\n",
       "      <td>30000380</td>\n",
       "      <td>2</td>\n",
       "      <td>8</td>\n",
       "    </tr>\n",
       "  </tbody>\n",
       "</table>\n",
       "</div>"
      ],
      "text/plain": [
       "    HOUSEID  PERSONID  n_trips\n",
       "0  30000012         1        9\n",
       "1  30000082         1        5\n",
       "2  30000082         2        5\n",
       "3  30000380         1        3\n",
       "4  30000380         2        8"
      ]
     },
     "execution_count": 12,
     "metadata": {},
     "output_type": "execute_result"
    }
   ],
   "source": [
    "ny_trip_count.head()"
   ]
  },
  {
   "cell_type": "code",
   "execution_count": 13,
   "metadata": {},
   "outputs": [
    {
     "data": {
      "text/plain": [
       "3     20107\n",
       "10    17647\n",
       "4     16164\n",
       "1     14051\n",
       "8      6467\n",
       "5      5381\n",
       "6      2746\n",
       "11     2595\n",
       "2      1257\n",
       "99       22\n",
       "Name: WHYTRP90, dtype: int64"
      ]
     },
     "execution_count": 13,
     "metadata": {},
     "output_type": "execute_result"
    }
   ],
   "source": [
    "trips_data = ny_trip[['HOUSEID','PERSONID','WHYTRP90','TRPMILES']]\n",
    "trips_data['WHYTRP90'].value_counts()\n",
    "\n",
    "# top why trips are [3,10,4,1,,8,5]"
   ]
  },
  {
   "cell_type": "code",
   "execution_count": 14,
   "metadata": {},
   "outputs": [],
   "source": [
    "trips_data =trips_data[trips_data['WHYTRP90'].isin([1,10,4,3,8,5])]"
   ]
  },
  {
   "cell_type": "code",
   "execution_count": 15,
   "metadata": {},
   "outputs": [
    {
     "name": "stdout",
     "output_type": "stream",
     "text": [
      "               counts  percentage\n",
      "(-0.001, 1.0]   24049   30.130173\n",
      "(2.0, 5.0]      16890   21.160906\n",
      "(5.0, 11.0]     14795   18.536151\n",
      "(11.0, 99.0]    14614   18.309383\n",
      "(1.0, 2.0]       9469   11.863387\n"
     ]
    },
    {
     "data": {
      "image/png": "[encoded data removed]",
      "text/plain": [
       "<Figure size 432x288 with 1 Axes>"
      ]
     },
     "metadata": {
      "needs_background": "light"
     },
     "output_type": "display_data"
    }
   ],
   "source": [
    "trips_data['round_dist']= trips_data['TRPMILES'].apply(lambda x: math.floor(x))\n",
    "trips_data['trip_dist'] = pd.qcut(trips_data['round_dist'],5)\n",
    "cat_col_prop(trips_data,'trip_dist')"
   ]
  },
  {
   "cell_type": "code",
   "execution_count": 16,
   "metadata": {},
   "outputs": [],
   "source": [
    "trip_summary = trips_data[['HOUSEID','PERSONID','WHYTRP90','trip_dist']].groupby(['HOUSEID','PERSONID','WHYTRP90'])['trip_dist'].apply(pd.Series.mode).reset_index()\n",
    "trip_summary['max_dist'] = trip_summary['trip_dist'].apply(lambda x: x.right)"
   ]
  },
  {
   "cell_type": "code",
   "execution_count": 17,
   "metadata": {},
   "outputs": [],
   "source": [
    "trip_summary = trip_summary[trip_summary.groupby(['HOUSEID','PERSONID','WHYTRP90'])['max_dist'].transform(max) == trip_summary['max_dist']]\n",
    "\n",
    "trip_summary = trip_summary[['HOUSEID','PERSONID','WHYTRP90','trip_dist']]\n"
   ]
  },
  {
   "cell_type": "code",
   "execution_count": 18,
   "metadata": {},
   "outputs": [],
   "source": [
    "pivoted = trip_summary.pivot(index = ['HOUSEID','PERSONID'],\n",
    "                  columns = 'WHYTRP90',\n",
    "                  values = 'trip_dist')\n",
    "\n",
    "trip_why_common = pd.DataFrame(pivoted.to_records()).rename(columns = {'1':'dist_to_work',\n",
    "                                                       '3':'dist_to_shopping',\n",
    "                                                        '4':'dist_to_family',\n",
    "                                                       '5':'dist_to_school_or_church',\n",
    "                                                        '8': 'dist_to_relatives',\n",
    "                                                        '10':'dist_to_social'})\n"
   ]
  },
  {
   "cell_type": "code",
   "execution_count": 19,
   "metadata": {},
   "outputs": [],
   "source": [
    "ny_trip_count = ny_trip_count.merge(trip_why_common, how = 'left',left_on = ['HOUSEID','PERSONID'],right_on = ['HOUSEID','PERSONID'])"
   ]
  },
  {
   "cell_type": "markdown",
   "metadata": {},
   "source": [
    "## 1.3 People"
   ]
  },
  {
   "cell_type": "code",
   "execution_count": 20,
   "metadata": {},
   "outputs": [],
   "source": [
    "# filtering people from New York\n",
    "nyorker = person[person['HOUSEID'].isin(ny['HOUSEID'])]"
   ]
  },
  {
   "cell_type": "code",
   "execution_count": 21,
   "metadata": {},
   "outputs": [],
   "source": [
    "# selection of columns based on prior background inference of potential features\n",
    "nyorker = nyorker[['HOUSEID','PERSONID','R_AGE','EDUC','R_RACE','R_SEX','WRK_HOME','WKFTPT','OCCAT','DRIVER','TRAVDAY']]"
   ]
  },
  {
   "cell_type": "code",
   "execution_count": 22,
   "metadata": {},
   "outputs": [],
   "source": [
    "# merging of Person, Household and Trips to Person\n",
    "df= nyorker.merge(ny_trip_count, how = 'left', left_on = ['HOUSEID','PERSONID'],right_on = ['HOUSEID','PERSONID'])\n",
    "df = df.merge(ny, how = 'left', left_on = 'HOUSEID', right_on = 'HOUSEID')"
   ]
  },
  {
   "cell_type": "code",
   "execution_count": null,
   "metadata": {},
   "outputs": [],
   "source": []
  },
  {
   "cell_type": "code",
   "execution_count": 23,
   "metadata": {},
   "outputs": [
    {
     "data": {
      "image/png": "[encoded data removed]",
      "text/plain": [
       "<Figure size 432x288 with 1 Axes>"
      ]
     },
     "metadata": {
      "needs_background": "light"
     },
     "output_type": "display_data"
    }
   ],
   "source": [
    "# Replace NA trip counts with 0\n",
    "sns.histplot(df['n_trips'])\n",
    "df['n_trips'][df['n_trips'].isna()] = 0\n",
    "#df = df[df['n_trips']>0]\n",
    "df = df[df['n_trips']<10]"
   ]
  },
  {
   "cell_type": "code",
   "execution_count": 24,
   "metadata": {},
   "outputs": [
    {
     "data": {
      "text/plain": [
       "['HOUSEID',\n",
       " 'PERSONID',\n",
       " 'R_AGE',\n",
       " 'EDUC',\n",
       " 'R_RACE',\n",
       " 'R_SEX',\n",
       " 'WRK_HOME',\n",
       " 'WKFTPT',\n",
       " 'OCCAT',\n",
       " 'DRIVER',\n",
       " 'TRAVDAY',\n",
       " 'n_trips',\n",
       " 'dist_to_work',\n",
       " 'dist_to_shopping',\n",
       " 'dist_to_family',\n",
       " 'dist_to_school_or_church',\n",
       " 'dist_to_relatives',\n",
       " 'dist_to_social',\n",
       " 'HH_CBSA',\n",
       " 'HOMEOWN',\n",
       " 'HHSIZE',\n",
       " 'HHVEHCNT',\n",
       " 'HHFAMINC',\n",
       " 'NUMADLT',\n",
       " 'YOUNGCHILD',\n",
       " 'WRKCOUNT',\n",
       " 'MSACAT',\n",
       " 'MSASIZE',\n",
       " 'URBAN',\n",
       " 'URBANSIZE',\n",
       " 'URBRUR',\n",
       " 'LIF_CYC']"
      ]
     },
     "execution_count": 24,
     "metadata": {},
     "output_type": "execute_result"
    }
   ],
   "source": [
    "[c for c in df]"
   ]
  },
  {
   "cell_type": "code",
   "execution_count": 25,
   "metadata": {},
   "outputs": [
    {
     "data": {
      "text/plain": [
       "(31782, 32)"
      ]
     },
     "execution_count": 25,
     "metadata": {},
     "output_type": "execute_result"
    }
   ],
   "source": [
    "df.shape"
   ]
  },
  {
   "cell_type": "markdown",
   "metadata": {},
   "source": [
    "## 2. EDA & Feature Engineering "
   ]
  },
  {
   "cell_type": "markdown",
   "metadata": {},
   "source": [
    "### 2.1. Train, Test, Split"
   ]
  },
  {
   "cell_type": "code",
   "execution_count": 26,
   "metadata": {},
   "outputs": [],
   "source": [
    "x_col = [c for c in df if c not in [\"HOUSEID\",\"PERSONID\",\"n_trips\"]]\n",
    "x_df = df[x_col]\n",
    "y_df = df['n_trips']\n",
    "\n",
    "x_train , x_test, y_train, y_test = model_selection.train_test_split(x_df, y_df, test_size = 0.2, random_state = 888)"
   ]
  },
  {
   "cell_type": "code",
   "execution_count": 27,
   "metadata": {},
   "outputs": [
    {
     "name": "stdout",
     "output_type": "stream",
     "text": [
      "<class 'pandas.core.frame.DataFrame'>\n",
      "Int64Index: 25425 entries, 19406 to 10938\n",
      "Data columns (total 29 columns):\n",
      " #   Column                    Non-Null Count  Dtype            \n",
      "---  ------                    --------------  -----            \n",
      " 0   R_AGE                     25425 non-null  int64            \n",
      " 1   EDUC                      25425 non-null  int64            \n",
      " 2   R_RACE                    25425 non-null  int64            \n",
      " 3   R_SEX                     25425 non-null  int64            \n",
      " 4   WRK_HOME                  25425 non-null  int64            \n",
      " 5   WKFTPT                    25425 non-null  int64            \n",
      " 6   OCCAT                     25425 non-null  int64            \n",
      " 7   DRIVER                    25425 non-null  int64            \n",
      " 8   TRAVDAY                   25425 non-null  int64            \n",
      " 9   dist_to_work              5541 non-null   interval[float64]\n",
      " 10  dist_to_shopping          7272 non-null   interval[float64]\n",
      " 11  dist_to_family            5551 non-null   interval[float64]\n",
      " 12  dist_to_school_or_church  2291 non-null   interval[float64]\n",
      " 13  dist_to_relatives         2679 non-null   interval[float64]\n",
      " 14  dist_to_social            6676 non-null   interval[float64]\n",
      " 15  HH_CBSA                   25425 non-null  object           \n",
      " 16  HOMEOWN                   25425 non-null  int64            \n",
      " 17  HHSIZE                    25425 non-null  int64            \n",
      " 18  HHVEHCNT                  25425 non-null  int64            \n",
      " 19  HHFAMINC                  25425 non-null  int64            \n",
      " 20  NUMADLT                   25425 non-null  int64            \n",
      " 21  YOUNGCHILD                25425 non-null  int64            \n",
      " 22  WRKCOUNT                  25425 non-null  int64            \n",
      " 23  MSACAT                    25425 non-null  int64            \n",
      " 24  MSASIZE                   25425 non-null  int64            \n",
      " 25  URBAN                     25425 non-null  int64            \n",
      " 26  URBANSIZE                 25425 non-null  int64            \n",
      " 27  URBRUR                    25425 non-null  int64            \n",
      " 28  LIF_CYC                   25425 non-null  int64            \n",
      "dtypes: int64(22), interval(6), object(1)\n",
      "memory usage: 7.0+ MB\n"
     ]
    }
   ],
   "source": [
    "x_train.info()"
   ]
  },
  {
   "cell_type": "markdown",
   "metadata": {},
   "source": [
    "### 2.2. Feature Engineering"
   ]
  },
  {
   "cell_type": "markdown",
   "metadata": {},
   "source": [
    "#### Age (R_AGE)"
   ]
  },
  {
   "cell_type": "code",
   "execution_count": 28,
   "metadata": {},
   "outputs": [
    {
     "name": "stdout",
     "output_type": "stream",
     "text": [
      "65 count of people with no age.  0.00029519289720475033 %.\n"
     ]
    },
    {
     "data": {
      "image/png": "[encoded data removed]",
      "text/plain": [
       "<Figure size 432x288 with 1 Axes>"
      ]
     },
     "metadata": {
      "needs_background": "light"
     },
     "output_type": "display_data"
    }
   ],
   "source": [
    "print(str(sum(x_train['R_AGE']<0)), \"count of people with no age. \",str(sum(nyorker['R_AGE']<0)/person.shape[0]),\"%.\")\n",
    "\n",
    "sns.histplot(x_train['R_AGE'])\n",
    "\n",
    "# impute missing values (<0) with mean age\n",
    "mean_age = round(x_train['R_AGE'][x_train['R_AGE']>0].mean())\n",
    "x_train['R_AGE'][x_train['R_AGE']<0] = mean_age\n",
    "x_test['R_AGE'][x_test['R_AGE']<0] = mean_age"
   ]
  },
  {
   "cell_type": "code",
   "execution_count": 29,
   "metadata": {},
   "outputs": [],
   "source": [
    "x_train['AGE_bins']= 'NA'\n",
    "x_train.loc[x_train['R_AGE'].between(5,15,inclusive = True), 'AGE_bins'] = \"5_to_15\"\n",
    "x_train.loc[x_train['R_AGE'].between(16,25,inclusive = True), 'AGE_bins'] = \"16_to_25\"\n",
    "x_train.loc[x_train['R_AGE'].between(26,35,inclusive = True), 'AGE_bins'] = \"26_to_35\"\n",
    "x_train.loc[x_train['R_AGE'].between(36,45,inclusive = True), 'AGE_bins'] = \"36_to_45\"\n",
    "x_train.loc[x_train['R_AGE'].between(46,55,inclusive = True), 'AGE_bins'] = \"46_to_55\"\n",
    "x_train.loc[x_train['R_AGE'].between(56,65,inclusive = True), 'AGE_bins'] = \"56_to_65\"\n",
    "x_train.loc[x_train['R_AGE'].between(66,75,inclusive = True), 'AGE_bins'] = \"66_to_75\"\n",
    "x_train.loc[x_train['R_AGE']>75, 'AGE_bins'] = \"more_than_75\"\n",
    "\n",
    "x_test['AGE_bins']= 'NA'\n",
    "x_test.loc[x_test['R_AGE'].between(5,15,inclusive = True), 'AGE_bins'] = \"5_to_15\"\n",
    "x_test.loc[x_test['R_AGE'].between(16,25,inclusive = True), 'AGE_bins'] = \"16_to_25\"\n",
    "x_test.loc[x_test['R_AGE'].between(26,35,inclusive = True), 'AGE_bins'] = \"26_to_35\"\n",
    "x_test.loc[x_test['R_AGE'].between(36,45,inclusive = True), 'AGE_bins'] = \"36_to_45\"\n",
    "x_test.loc[x_test['R_AGE'].between(46,55,inclusive = True), 'AGE_bins'] = \"46_to_55\"\n",
    "x_test.loc[x_test['R_AGE'].between(56,65,inclusive = True), 'AGE_bins'] = \"56_to_65\"\n",
    "x_test.loc[x_test['R_AGE'].between(66,75,inclusive = True), 'AGE_bins'] = \"66_to_75\"\n",
    "x_test.loc[x_test['R_AGE']>75, 'AGE_bins'] = \"more_than_75\"\n"
   ]
  },
  {
   "cell_type": "code",
   "execution_count": 30,
   "metadata": {},
   "outputs": [
    {
     "name": "stdout",
     "output_type": "stream",
     "text": [
      "              counts  percentage\n",
      "56_to_65        5534   21.765978\n",
      "66_to_75        4356   17.132743\n",
      "46_to_55        3724   14.647001\n",
      "5_to_15         2491    9.797443\n",
      "26_to_35        2466    9.699115\n",
      "36_to_45        2436    9.581121\n",
      "more_than_75    2322    9.132743\n",
      "16_to_25        2096    8.243854\n"
     ]
    },
    {
     "data": {
      "image/png": "[encoded data removed]",
      "text/plain": [
       "<Figure size 432x288 with 1 Axes>"
      ]
     },
     "metadata": {
      "needs_background": "light"
     },
     "output_type": "display_data"
    }
   ],
   "source": [
    "cat_col_prop(x_train,'AGE_bins')"
   ]
  },
  {
   "cell_type": "markdown",
   "metadata": {},
   "source": [
    "#### Educational Attainment (EDUC)"
   ]
  },
  {
   "cell_type": "code",
   "execution_count": 31,
   "metadata": {},
   "outputs": [
    {
     "name": "stdout",
     "output_type": "stream",
     "text": [
      "    counts  percentage\n",
      " 3    6293   24.751229\n",
      " 5    5612   22.072763\n",
      " 2    4965   19.528024\n",
      " 4    4870   19.154376\n",
      "-1    2002    7.874140\n",
      " 1    1668    6.560472\n",
      "-7      10    0.039331\n",
      "-8       5    0.019666\n"
     ]
    },
    {
     "data": {
      "image/png": "[encoded data removed]",
      "text/plain": [
       "<Figure size 432x288 with 1 Axes>"
      ]
     },
     "metadata": {
      "needs_background": "light"
     },
     "output_type": "display_data"
    }
   ],
   "source": [
    "cat_col_prop(x_train,'EDUC')\n",
    "# approx 8% missing values (<0). To take note of but will addresss in one-hot encoding"
   ]
  },
  {
   "cell_type": "markdown",
   "metadata": {},
   "source": [
    "#### Race (R_RACE)"
   ]
  },
  {
   "cell_type": "code",
   "execution_count": 32,
   "metadata": {},
   "outputs": [
    {
     "name": "stdout",
     "output_type": "stream",
     "text": [
      "     counts  percentage\n",
      " 1    22734   89.415929\n",
      " 3      834    3.280236\n",
      " 2      794    3.122911\n",
      " 6      530    2.084562\n",
      " 97     323    1.270403\n",
      "-7      113    0.444444\n",
      " 4       69    0.271386\n",
      " 5       14    0.055064\n",
      "-8       14    0.055064\n"
     ]
    },
    {
     "data": {
      "image/png": "[encoded data removed]",
      "text/plain": [
       "<Figure size 432x288 with 1 Axes>"
      ]
     },
     "metadata": {
      "needs_background": "light"
     },
     "output_type": "display_data"
    }
   ],
   "source": [
    "cat_col_prop(x_train,'R_RACE')\n",
    "# approx 1% missing values (<0). To take note of but will address in one-hot encoding\n",
    "# Significant proportion of members 'white'"
   ]
  },
  {
   "cell_type": "markdown",
   "metadata": {},
   "source": [
    "#### Gender (R_SEX)"
   ]
  },
  {
   "cell_type": "code",
   "execution_count": 33,
   "metadata": {},
   "outputs": [
    {
     "name": "stdout",
     "output_type": "stream",
     "text": [
      "    counts  percentage\n",
      " 2   13302   52.318584\n",
      " 1   12098   47.583088\n",
      "-7      21    0.082596\n",
      "-8       4    0.015733\n"
     ]
    },
    {
     "data": {
      "image/png": "[encoded data removed]",
      "text/plain": [
       "<Figure size 432x288 with 1 Axes>"
      ]
     },
     "metadata": {
      "needs_background": "light"
     },
     "output_type": "display_data"
    }
   ],
   "source": [
    "cat_col_prop(x_train, 'R_SEX')\n",
    "# <1% missing values. To take note but will be addressed in one-hot encoding"
   ]
  },
  {
   "cell_type": "markdown",
   "metadata": {},
   "source": [
    "#### Work From Home (WRK_HOME)"
   ]
  },
  {
   "cell_type": "code",
   "execution_count": 34,
   "metadata": {},
   "outputs": [
    {
     "name": "stdout",
     "output_type": "stream",
     "text": [
      "    counts  percentage\n",
      "-1   12738   50.100295\n",
      " 2   10825   42.576205\n",
      " 1    1371    5.392330\n",
      "-9     490    1.927237\n",
      "-7       1    0.003933\n"
     ]
    },
    {
     "data": {
      "image/png": "[encoded data removed]",
      "text/plain": [
       "<Figure size 432x288 with 1 Axes>"
      ]
     },
     "metadata": {
      "needs_background": "light"
     },
     "output_type": "display_data"
    }
   ],
   "source": [
    "cat_col_prop(x_train,'WRK_HOME')\n",
    "# Significant proportion -1 (50%) which is the appropriate skip (due to not working) - to address in one-hot"
   ]
  },
  {
   "cell_type": "markdown",
   "metadata": {},
   "source": [
    "#### Work - Part Time or Full Time (WKFTPT)"
   ]
  },
  {
   "cell_type": "code",
   "execution_count": 35,
   "metadata": {},
   "outputs": [
    {
     "name": "stdout",
     "output_type": "stream",
     "text": [
      "    counts  percentage\n",
      "-1   13228   52.027532\n",
      " 1    9442   37.136676\n",
      " 2    2747   10.804326\n",
      "-7       6    0.023599\n",
      "-8       2    0.007866\n"
     ]
    },
    {
     "data": {
      "image/png": "[encoded data removed]",
      "text/plain": [
       "<Figure size 432x288 with 1 Axes>"
      ]
     },
     "metadata": {
      "needs_background": "light"
     },
     "output_type": "display_data"
    }
   ],
   "source": [
    "cat_col_prop(x_train,'WKFTPT')\n",
    "# Significant proportion -1 (52%) which is the appropriate skip (due to not working) - to address in one-hot"
   ]
  },
  {
   "cell_type": "markdown",
   "metadata": {},
   "source": [
    "#### Job Category (OCCAT)"
   ]
  },
  {
   "cell_type": "code",
   "execution_count": 36,
   "metadata": {},
   "outputs": [
    {
     "name": "stdout",
     "output_type": "stream",
     "text": [
      "     counts  percentage\n",
      "-1    12738   50.100295\n",
      " 4     6694   26.328417\n",
      " 1     2585   10.167158\n",
      " 3     1482    5.828909\n",
      " 2     1415    5.565388\n",
      "-9      490    1.927237\n",
      " 97      15    0.058997\n",
      "-8        4    0.015733\n",
      "-7        2    0.007866\n"
     ]
    },
    {
     "data": {
      "image/png": "[encoded data removed]",
      "text/plain": [
       "<Figure size 432x288 with 1 Axes>"
      ]
     },
     "metadata": {
      "needs_background": "light"
     },
     "output_type": "display_data"
    }
   ],
   "source": [
    "cat_col_prop(x_train,'OCCAT')\n",
    "# Significant proportion -1 (50%) which is the appropriate skip (due to not working) - to address in one-hot"
   ]
  },
  {
   "cell_type": "markdown",
   "metadata": {},
   "source": [
    "#### Driver Status (DRIVER)"
   ]
  },
  {
   "cell_type": "code",
   "execution_count": 37,
   "metadata": {},
   "outputs": [
    {
     "name": "stdout",
     "output_type": "stream",
     "text": [
      "    counts  percentage\n",
      " 1   21439   84.322517\n",
      "-1    2265    8.908555\n",
      " 2    1721    6.768928\n"
     ]
    },
    {
     "data": {
      "text/plain": [
       "<matplotlib.axes._subplots.AxesSubplot at 0x267f9cf27c8>"
      ]
     },
     "execution_count": 37,
     "metadata": {},
     "output_type": "execute_result"
    },
    {
     "data": {
      "image/png": "[encoded data removed]",
      "text/plain": [
       "<Figure size 432x288 with 1 Axes>"
      ]
     },
     "metadata": {
      "needs_background": "light"
     },
     "output_type": "display_data"
    }
   ],
   "source": [
    "cat_col_prop(x_train,'DRIVER')\n",
    "\n",
    "#Significant proportion -1 (8.7%) (due to too young) - to address in one-hot encoding\n",
    "sns.boxplot(data = x_train, x='DRIVER',y='AGE_bins')"
   ]
  },
  {
   "cell_type": "markdown",
   "metadata": {},
   "source": [
    "#### Travel Day (TRAVDAY)"
   ]
  },
  {
   "cell_type": "code",
   "execution_count": 38,
   "metadata": {},
   "outputs": [
    {
     "name": "stdout",
     "output_type": "stream",
     "text": [
      "   counts  percentage\n",
      "1    3763   14.800393\n",
      "2    3720   14.631268\n",
      "7    3716   14.615536\n",
      "5    3636   14.300885\n",
      "6    3574   14.057030\n",
      "3    3547   13.950836\n",
      "4    3469   13.644051\n"
     ]
    },
    {
     "data": {
      "image/png": "[encoded data removed]",
      "text/plain": [
       "<Figure size 432x288 with 1 Axes>"
      ]
     },
     "metadata": {
      "needs_background": "light"
     },
     "output_type": "display_data"
    }
   ],
   "source": [
    "cat_col_prop(x_train,'TRAVDAY')"
   ]
  },
  {
   "cell_type": "markdown",
   "metadata": {},
   "source": [
    "#### Core Based Statiscal Area FIPS code (HH_CBSA)"
   ]
  },
  {
   "cell_type": "code",
   "execution_count": 39,
   "metadata": {},
   "outputs": [
    {
     "name": "stdout",
     "output_type": "stream",
     "text": [
      "       counts  percentage\n",
      "XXXXX   15006   59.020649\n",
      "35620    7719   30.359882\n",
      "40380    1467    5.769912\n",
      "15380    1233    4.849558\n"
     ]
    },
    {
     "data": {
      "image/png": "[encoded data removed]",
      "text/plain": [
       "<Figure size 432x288 with 1 Axes>"
      ]
     },
     "metadata": {
      "needs_background": "light"
     },
     "output_type": "display_data"
    }
   ],
   "source": [
    "#Core Based Statistical Area (CBSA) FIPS code for the respondent's home address\n",
    "\n",
    "cat_col_prop(x_train,'HH_CBSA')\n",
    "\n",
    "# significant number of households under the 'XXXXX=Suppressed, in an MSA of less than 1 million ' category"
   ]
  },
  {
   "cell_type": "markdown",
   "metadata": {},
   "source": [
    "####  Home Ownership (HOMEOWN)"
   ]
  },
  {
   "cell_type": "code",
   "execution_count": 40,
   "metadata": {},
   "outputs": [
    {
     "name": "stdout",
     "output_type": "stream",
     "text": [
      "     counts  percentage\n",
      " 1    21452   84.373648\n",
      " 2     3776   14.851524\n",
      " 97     196    0.770895\n",
      "-7        1    0.003933\n"
     ]
    },
    {
     "data": {
      "image/png": "[encoded data removed]",
      "text/plain": [
       "<Figure size 432x288 with 1 Axes>"
      ]
     },
     "metadata": {
      "needs_background": "light"
     },
     "output_type": "display_data"
    }
   ],
   "source": [
    "cat_col_prop(x_train,'HOMEOWN')\n",
    "#Small count with missing value 2. to address in one-hot encoding"
   ]
  },
  {
   "cell_type": "markdown",
   "metadata": {},
   "source": [
    "#### Household Vehicle Count (HHVEHCNT)"
   ]
  },
  {
   "cell_type": "code",
   "execution_count": 41,
   "metadata": {},
   "outputs": [
    {
     "name": "stdout",
     "output_type": "stream",
     "text": [
      "    counts  percentage\n",
      "2    11356   44.664700\n",
      "1     6591   25.923304\n",
      "3     4623   18.182891\n",
      "4     1829    7.193707\n",
      "5      662    2.603736\n",
      "6      245    0.963618\n",
      "7       80    0.314651\n",
      "8       22    0.086529\n",
      "11       9    0.035398\n",
      "9        6    0.023599\n",
      "12       2    0.007866\n",
      "________\n",
      "new HHVEHCNT\n",
      "    counts  percentage\n",
      "2    11356   44.664700\n",
      "1     6591   25.923304\n",
      "3     4623   18.182891\n",
      ">3    2855   11.229105\n"
     ]
    },
    {
     "data": {
      "image/png": "[encoded data removed]",
      "text/plain": [
       "<Figure size 432x288 with 1 Axes>"
      ]
     },
     "metadata": {
      "needs_background": "light"
     },
     "output_type": "display_data"
    }
   ],
   "source": [
    "#count of household vehicles\n",
    "\n",
    "cat_col_prop(x_train,'HHVEHCNT')\n",
    "\n",
    "# as group size significantly smaller from 4 and above to bin to a single group\n",
    "\n",
    "x_train['HHVEHCNT'][x_train['HHVEHCNT']>3] = \">3\"\n",
    "x_test['HHVEHCNT'][x_test['HHVEHCNT']>3] = \">3\"\n",
    "\n",
    "print(\"________\")\n",
    "print(\"new HHVEHCNT\")\n",
    "print(pd.concat([x_train['HHVEHCNT'].value_counts(),\n",
    "          x_train['HHVEHCNT'].value_counts(normalize = True).mul(100)],axis = 1, keys = ('counts','percentage'))\n",
    "    )"
   ]
  },
  {
   "cell_type": "markdown",
   "metadata": {},
   "source": [
    "#### Family Income (HHFAMINC)"
   ]
  },
  {
   "cell_type": "code",
   "execution_count": 42,
   "metadata": {},
   "outputs": [
    {
     "name": "stdout",
     "output_type": "stream",
     "text": [
      "     counts  percentage\n",
      " 6     4580   18.013766\n",
      " 7     3829   15.059980\n",
      " 8     3144   12.365782\n",
      " 5     2664   10.477876\n",
      " 4     1974    7.764012\n",
      " 11    1874    7.370698\n",
      " 9     1860    7.315634\n",
      " 10    1780    7.000983\n",
      " 3     1590    6.253687\n",
      "-7      742    2.918387\n",
      " 2      732    2.879056\n",
      " 1      557    2.190757\n",
      "-8       97    0.381514\n",
      "-9        2    0.007866\n"
     ]
    },
    {
     "data": {
      "image/png": "[encoded data removed]",
      "text/plain": [
       "<Figure size 432x288 with 1 Axes>"
      ]
     },
     "metadata": {
      "needs_background": "light"
     },
     "output_type": "display_data"
    }
   ],
   "source": [
    "cat_col_prop(x_train,'HHFAMINC')\n",
    "# approx 3% missing (<0) to address in one-hot encoding"
   ]
  },
  {
   "cell_type": "markdown",
   "metadata": {},
   "source": [
    "#### Adult Ratio  (NUMADLT)"
   ]
  },
  {
   "cell_type": "code",
   "execution_count": 43,
   "metadata": {},
   "outputs": [
    {
     "name": "stdout",
     "output_type": "stream",
     "text": [
      "    counts  percentage\n",
      "2    16118   63.394297\n",
      "1     4266   16.778761\n",
      "3     3501   13.769912\n",
      "4     1192    4.688299\n",
      "5      286    1.124877\n",
      "6       38    0.149459\n",
      "7       11    0.043265\n",
      "10       7    0.027532\n",
      "8        6    0.023599\n"
     ]
    },
    {
     "data": {
      "image/png": "[encoded data removed]",
      "text/plain": [
       "<Figure size 432x288 with 1 Axes>"
      ]
     },
     "metadata": {
      "needs_background": "light"
     },
     "output_type": "display_data"
    }
   ],
   "source": [
    "cat_col_prop(x_train, 'NUMADLT')\n",
    "#no missing values"
   ]
  },
  {
   "cell_type": "code",
   "execution_count": 44,
   "metadata": {},
   "outputs": [
    {
     "name": "stdout",
     "output_type": "stream",
     "text": [
      "Before\n",
      "          counts  percentage\n",
      "1.000000   17591   69.187807\n",
      "0.500000    2802   11.020649\n",
      "0.666667    1929    7.587021\n",
      "0.400000     895    3.520157\n",
      "0.750000     656    2.580138\n",
      "0.333333     509    2.001967\n",
      "0.600000     378    1.486726\n",
      "0.800000     213    0.837758\n",
      "0.250000      93    0.365782\n",
      "0.285714      78    0.306785\n",
      "0.714286      53    0.208456\n",
      "0.833333      42    0.165192\n",
      "0.428571      40    0.157325\n",
      "0.571429      34    0.133727\n",
      "0.375000      20    0.078663\n",
      "0.222222      17    0.066863\n",
      "0.625000      17    0.066863\n",
      "0.200000      15    0.058997\n",
      "0.444444      11    0.043265\n",
      "0.166667      10    0.039331\n",
      "0.700000       7    0.027532\n",
      "0.142857       6    0.023599\n",
      "0.857143       5    0.019666\n",
      "0.363636       4    0.015733\n",
      "\n",
      "After\n",
      "               counts  percentage\n",
      "1               17591   69.187807\n",
      "more_than_0.5    6136   24.133727\n",
      "less_than_0.5    1698    6.678466\n"
     ]
    },
    {
     "data": {
      "image/png": "[encoded data removed]",
      "text/plain": [
       "<Figure size 432x288 with 1 Axes>"
      ]
     },
     "metadata": {
      "needs_background": "light"
     },
     "output_type": "display_data"
    }
   ],
   "source": [
    "#Convert against proportion of Household size\n",
    "x_train['NUMADLT'] = x_train['NUMADLT']/x_train['HHSIZE']\n",
    "x_test['NUMADLT'] = x_test['NUMADLT']/x_test['HHSIZE']\n",
    "print('Before')\n",
    "cat_col_prop(x_train,'NUMADLT')\n",
    "#significant number of varying factors\n",
    "#to bin into groups\n",
    "x_train['NUMADLT_ratio'] = 'NA'\n",
    "x_train.loc[x_train['NUMADLT']==0, 'NUMADLT_ratio'] = '0'\n",
    "x_train.loc[x_train['NUMADLT'].between(0,0.5,inclusive = False),'NUMADLT_ratio'] = 'less_than_0.5'\n",
    "x_train.loc[x_train['NUMADLT'].between(0.5,1, inclusive = True),'NUMADLT_ratio'] = 'more_than_0.5'\n",
    "x_train.loc[x_train['NUMADLT']==1,'NUMADLT_ratio'] ='1'\n",
    "print('')\n",
    "print('After')\n",
    "cat_col_prop(x_train,'NUMADLT_ratio')\n",
    "\n",
    "\n",
    "x_test['NUMADLT_ratio'] = 'NA'\n",
    "x_test.loc[x_test['NUMADLT']==0, 'NUMADLT_ratio'] = '0'\n",
    "x_test.loc[x_test['NUMADLT'].between(0,0.5,inclusive = False),'NUMADLT_ratio'] = 'less_than_0.5'\n",
    "x_test.loc[x_test['NUMADLT'].between(0.5,1, inclusive = True),'NUMADLT_ratio'] = 'more_than_0.5'\n",
    "x_test.loc[x_test['NUMADLT']==1,'NUMADLT_ratio'] ='1'"
   ]
  },
  {
   "cell_type": "markdown",
   "metadata": {},
   "source": [
    "#### Young Child Ratio (YOUNGCHILD)"
   ]
  },
  {
   "cell_type": "code",
   "execution_count": 45,
   "metadata": {},
   "outputs": [
    {
     "name": "stdout",
     "output_type": "stream",
     "text": [
      "   counts  percentage\n",
      "0   23182   91.177974\n",
      "1    1671    6.572271\n",
      "2     518    2.037365\n",
      "3      49    0.192724\n",
      "5       4    0.015733\n",
      "4       1    0.003933\n"
     ]
    },
    {
     "data": {
      "image/png": "[encoded data removed]",
      "text/plain": [
       "<Figure size 432x288 with 1 Axes>"
      ]
     },
     "metadata": {
      "needs_background": "light"
     },
     "output_type": "display_data"
    }
   ],
   "source": [
    "cat_col_prop(x_train,'YOUNGCHILD')"
   ]
  },
  {
   "cell_type": "code",
   "execution_count": 46,
   "metadata": {},
   "outputs": [
    {
     "name": "stdout",
     "output_type": "stream",
     "text": [
      "               counts  percentage\n",
      "0               23182   91.177974\n",
      "less_than_0.5    1938    7.622419\n",
      "more_than_0.5     305    1.199607\n"
     ]
    },
    {
     "data": {
      "image/png": "[encoded data removed]",
      "text/plain": [
       "<Figure size 432x288 with 1 Axes>"
      ]
     },
     "metadata": {
      "needs_background": "light"
     },
     "output_type": "display_data"
    }
   ],
   "source": [
    "#Convert against proportion of Household size\n",
    "\n",
    "x_train['YOUNGCHILD'] = x_train['YOUNGCHILD']/x_train['HHSIZE']\n",
    "x_test['YOUNGCHILD'] = x_test['YOUNGCHILD']/x_test['HHSIZE']\n",
    "\n",
    "#Bin to groups\n",
    "x_train['YOUNGCHILD_ratio'] = 'NA'\n",
    "x_train.loc[x_train['YOUNGCHILD']==0,'YOUNGCHILD_ratio']= '0'\n",
    "x_train.loc[x_train['YOUNGCHILD'].between(0,0.5,inclusive = False),'YOUNGCHILD_ratio'] = 'less_than_0.5'\n",
    "x_train.loc[x_train['YOUNGCHILD'].between(0.5,1, inclusive = True),'YOUNGCHILD_ratio'] = 'more_than_0.5'\n",
    "x_train.loc[x_train['YOUNGCHILD']==1,'YOUNGCHILD_ratio'] ='1'\n",
    " \n",
    "\n",
    "cat_col_prop(x_train,'YOUNGCHILD_ratio')    \n",
    "\n",
    "x_test['YOUNGCHILD_ratio'] = 'NA'\n",
    "x_test.loc[x_test['YOUNGCHILD']==0,'YOUNGCHILD_ratio']= '0'\n",
    "x_test.loc[x_test['YOUNGCHILD'].between(0,0.5,inclusive = False),'YOUNGCHILD_ratio'] = 'less_than_0.5'\n",
    "x_test.loc[x_test['YOUNGCHILD'].between(0.5,1, inclusive = True),'YOUNGCHILD_ratio'] = 'more_than_0.5'\n",
    "x_test.loc[x_test['YOUNGCHILD']==1,'YOUNGCHILD_ratio'] ='1'\n",
    " \n"
   ]
  },
  {
   "cell_type": "markdown",
   "metadata": {},
   "source": [
    "#### Worker Count Proportion (WRKCOUNT)"
   ]
  },
  {
   "cell_type": "code",
   "execution_count": 47,
   "metadata": {},
   "outputs": [
    {
     "name": "stdout",
     "output_type": "stream",
     "text": [
      "   counts  percentage\n",
      "2    8775   34.513274\n",
      "1    7693   30.257620\n",
      "0    6707   26.379548\n",
      "3    1671    6.572271\n",
      "4     513    2.017699\n",
      "5      55    0.216323\n",
      "7       6    0.023599\n",
      "6       5    0.019666\n"
     ]
    },
    {
     "data": {
      "image/png": "[encoded data removed]",
      "text/plain": [
       "<Figure size 432x288 with 1 Axes>"
      ]
     },
     "metadata": {
      "needs_background": "light"
     },
     "output_type": "display_data"
    }
   ],
   "source": [
    "cat_col_prop(x_train,'WRKCOUNT')"
   ]
  },
  {
   "cell_type": "code",
   "execution_count": 48,
   "metadata": {},
   "outputs": [
    {
     "name": "stdout",
     "output_type": "stream",
     "text": [
      "               counts  percentage\n",
      "more_than_0.5    8284   32.582104\n",
      "0                6707   26.379548\n",
      "1                6416   25.235005\n",
      "less_than_0.5    4018   15.803343\n"
     ]
    },
    {
     "data": {
      "image/png": "[encoded data removed]",
      "text/plain": [
       "<Figure size 432x288 with 1 Axes>"
      ]
     },
     "metadata": {
      "needs_background": "light"
     },
     "output_type": "display_data"
    }
   ],
   "source": [
    "#Convert against proportion of Household size\n",
    "\n",
    "x_train['WRKCOUNT'] = x_train['WRKCOUNT']/x_train['HHSIZE']\n",
    "x_test['WRKCOUNT'] = x_test['WRKCOUNT']/x_test['HHSIZE']\n",
    "\n",
    "#Bin to groups\n",
    "x_train['WRKCOUNT_ratio'] = 'NA'\n",
    "x_train.loc[x_train['WRKCOUNT']==0,'WRKCOUNT_ratio']= '0'\n",
    "x_train.loc[x_train['WRKCOUNT'].between(0,0.5,inclusive = False),'WRKCOUNT_ratio'] = 'less_than_0.5'\n",
    "x_train.loc[x_train['WRKCOUNT'].between(0.5,1, inclusive = True),'WRKCOUNT_ratio'] = 'more_than_0.5'\n",
    "x_train.loc[x_train['WRKCOUNT']==1,'WRKCOUNT_ratio'] ='1'\n",
    "\n",
    "cat_col_prop(x_train,'WRKCOUNT_ratio')\n",
    "\n",
    "x_test['WRKCOUNT_ratio'] = 'NA'\n",
    "x_test.loc[x_test['WRKCOUNT']==0,'WRKCOUNT_ratio']= '0'\n",
    "x_test.loc[x_test['WRKCOUNT'].between(0,0.5,inclusive = False),'WRKCOUNT_ratio'] = 'less_than_0.5'\n",
    "x_test.loc[x_test['WRKCOUNT'].between(0.5,1, inclusive = True),'WRKCOUNT_ratio'] = 'more_than_0.5'\n",
    "x_test.loc[x_test['WRKCOUNT']==1,'WRKCOUNT_ratio'] ='1'\n",
    "\n",
    " "
   ]
  },
  {
   "cell_type": "markdown",
   "metadata": {},
   "source": [
    "#### Household Size (HHSIZE)"
   ]
  },
  {
   "cell_type": "code",
   "execution_count": 49,
   "metadata": {},
   "outputs": [
    {
     "name": "stdout",
     "output_type": "stream",
     "text": [
      "Before\n",
      "    counts  percentage\n",
      "2    10847   42.662734\n",
      "3     4371   17.191740\n",
      "4     3952   15.543756\n",
      "1     3675   14.454277\n",
      "5     1663    6.540806\n",
      "6      537    2.112094\n",
      "7      220    0.865290\n",
      "8       91    0.357915\n",
      "9       39    0.153392\n",
      "10      26    0.102262\n",
      "11       4    0.015733\n",
      "\n",
      "After\n",
      "         counts  percentage\n",
      "2         10847   42.662734\n",
      "above_3    6532   25.691249\n",
      "3          4371   17.191740\n",
      "1          3675   14.454277\n"
     ]
    },
    {
     "data": {
      "image/png": "[encoded data removed]",
      "text/plain": [
       "<Figure size 432x288 with 1 Axes>"
      ]
     },
     "metadata": {
      "needs_background": "light"
     },
     "output_type": "display_data"
    }
   ],
   "source": [
    "#count of household members\n",
    "print(\"Before\")\n",
    "cat_col_prop(x_train,'HHSIZE')\n",
    "\n",
    "# to bin tail HHSIZE\n",
    "\n",
    "x_train['HHSIZE'][x_train['HHSIZE']>3] = \"above_3\"\n",
    "\n",
    "print(\"\")\n",
    "print(\"After\")\n",
    "\n",
    "cat_col_prop(x_train,'HHSIZE')\n",
    "\n",
    "x_test['HHSIZE'][x_test['HHSIZE']>3] = \" above_3\""
   ]
  },
  {
   "cell_type": "markdown",
   "metadata": {},
   "source": [
    "#### Metropolitan Statistical Area (MSACAT)\n"
   ]
  },
  {
   "cell_type": "code",
   "execution_count": 50,
   "metadata": {},
   "outputs": [
    {
     "name": "stdout",
     "output_type": "stream",
     "text": [
      "   counts  percentage\n",
      "3   10912   42.918387\n",
      "1    7719   30.359882\n",
      "4    4094   16.102262\n",
      "2    2700   10.619469\n"
     ]
    },
    {
     "data": {
      "image/png": "[encoded data removed]",
      "text/plain": [
       "<Figure size 432x288 with 1 Axes>"
      ]
     },
     "metadata": {
      "needs_background": "light"
     },
     "output_type": "display_data"
    }
   ],
   "source": [
    "cat_col_prop(x_train,'MSACAT')\n",
    "             \n",
    "#no missing values and relatively proportional distribution"
   ]
  },
  {
   "cell_type": "markdown",
   "metadata": {},
   "source": [
    "#### Population size of MSA (MSASIZE)"
   ]
  },
  {
   "cell_type": "code",
   "execution_count": 51,
   "metadata": {},
   "outputs": [
    {
     "name": "stdout",
     "output_type": "stream",
     "text": [
      "   counts  percentage\n",
      "5    7719   30.359882\n",
      "1    6322   24.865290\n",
      "6    4094   16.102262\n",
      "3    3471   13.651917\n",
      "4    2700   10.619469\n",
      "2    1119    4.401180\n"
     ]
    },
    {
     "data": {
      "image/png": "[encoded data removed]",
      "text/plain": [
       "<Figure size 432x288 with 1 Axes>"
      ]
     },
     "metadata": {
      "needs_background": "light"
     },
     "output_type": "display_data"
    }
   ],
   "source": [
    "cat_col_prop(x_train,'MSASIZE')\n",
    "             \n",
    "#no missing values and relatively proportional distribution"
   ]
  },
  {
   "cell_type": "markdown",
   "metadata": {},
   "source": [
    "#### House in Urban or Rural Area (URBAN)"
   ]
  },
  {
   "cell_type": "code",
   "execution_count": 52,
   "metadata": {},
   "outputs": [
    {
     "name": "stdout",
     "output_type": "stream",
     "text": [
      "Before\n",
      "   counts  percentage\n",
      "1   14285   56.184857\n",
      "4    8638   33.974435\n",
      "2    2497    9.821042\n",
      "3       5    0.019666\n",
      "\n",
      "After\n",
      "       counts  percentage\n",
      "urban   16782     66.0059\n",
      "rural    8643     33.9941\n"
     ]
    },
    {
     "data": {
      "image/png": "[encoded data removed]",
      "text/plain": [
       "<Figure size 432x288 with 1 Axes>"
      ]
     },
     "metadata": {
      "needs_background": "light"
     },
     "output_type": "display_data"
    }
   ],
   "source": [
    "print('Before')\n",
    "cat_col_prop(x_train,'URBAN')\n",
    "\n",
    "# combine 1 and 2 (in an urban area and in an urban cluster ) & combine 3 and 4 (surround by urban and not in urban)\n",
    "\n",
    "x_train['URBAN'][x_train['URBAN'].isin([1,2])] = 'urban'\n",
    "x_train['URBAN'][x_train['URBAN'].isin([3,4])] = 'rural'\n",
    "\n",
    "print(\"\")\n",
    "print('After')\n",
    "\n",
    "cat_col_prop(x_train, 'URBAN')\n",
    "\n",
    "x_test['URBAN'][x_test['URBAN'].isin([1,2])] = 'urban'\n",
    "x_test['URBAN'][x_test['URBAN'].isin([3,4])] = 'rural'"
   ]
  },
  {
   "cell_type": "markdown",
   "metadata": {},
   "source": [
    "#### URBANSIZE"
   ]
  },
  {
   "cell_type": "code",
   "execution_count": 53,
   "metadata": {},
   "outputs": [
    {
     "name": "stdout",
     "output_type": "stream",
     "text": [
      "   counts  percentage\n",
      "6   11140   43.815143\n",
      "5    4990   19.626352\n",
      "1    3821   15.028515\n",
      "3    2868   11.280236\n",
      "2    2606   10.249754\n"
     ]
    },
    {
     "data": {
      "image/png": "[encoded data removed]",
      "text/plain": [
       "<Figure size 432x288 with 1 Axes>"
      ]
     },
     "metadata": {
      "needs_background": "light"
     },
     "output_type": "display_data"
    }
   ],
   "source": [
    "#06 = not in an urbanised area \n",
    "#05 - 1 million with heavy rail \n",
    "\n",
    "#Relatively proportional classes\n",
    "cat_col_prop(x_train,'URBANSIZE')"
   ]
  },
  {
   "cell_type": "markdown",
   "metadata": {},
   "source": [
    "#### URBRUR"
   ]
  },
  {
   "cell_type": "code",
   "execution_count": 54,
   "metadata": {},
   "outputs": [
    {
     "name": "stdout",
     "output_type": "stream",
     "text": [
      "   counts  percentage\n",
      "1   16782     66.0059\n",
      "2    8643     33.9941\n"
     ]
    },
    {
     "data": {
      "image/png": "[encoded data removed]",
      "text/plain": [
       "<Figure size 432x288 with 1 Axes>"
      ]
     },
     "metadata": {
      "needs_background": "light"
     },
     "output_type": "display_data"
    }
   ],
   "source": [
    "cat_col_prop(x_train,'URBRUR')\n",
    "# missing values nor disproportion"
   ]
  },
  {
   "cell_type": "markdown",
   "metadata": {},
   "source": [
    "#### LIF_CYC "
   ]
  },
  {
   "cell_type": "code",
   "execution_count": 55,
   "metadata": {},
   "outputs": [
    {
     "name": "stdout",
     "output_type": "stream",
     "text": [
      "    counts  percentage\n",
      "10    7019   27.606686\n",
      "2     5796   22.796460\n",
      "6     3870   15.221239\n",
      "4     2543   10.001967\n",
      "1     1937    7.618486\n",
      "9     1738    6.835792\n",
      "8     1693    6.658800\n",
      "5      460    1.809243\n",
      "7      211    0.829892\n",
      "3      158    0.621436\n"
     ]
    },
    {
     "data": {
      "image/png": "[encoded data removed]",
      "text/plain": [
       "<Figure size 432x288 with 1 Axes>"
      ]
     },
     "metadata": {
      "needs_background": "light"
     },
     "output_type": "display_data"
    }
   ],
   "source": [
    "cat_col_prop(x_train,\"LIF_CYC\")\n",
    "\n",
    "# No major disproportion"
   ]
  },
  {
   "cell_type": "markdown",
   "metadata": {},
   "source": [
    "## 3. One-Hot- Encoding"
   ]
  },
  {
   "cell_type": "code",
   "execution_count": 56,
   "metadata": {},
   "outputs": [
    {
     "data": {
      "text/plain": [
       "R_AGE                                   int64\n",
       "EDUC                                    int64\n",
       "R_RACE                                  int64\n",
       "R_SEX                                   int64\n",
       "WRK_HOME                                int64\n",
       "WKFTPT                                  int64\n",
       "OCCAT                                   int64\n",
       "DRIVER                                  int64\n",
       "TRAVDAY                                 int64\n",
       "dist_to_work                interval[float64]\n",
       "dist_to_shopping            interval[float64]\n",
       "dist_to_family              interval[float64]\n",
       "dist_to_school_or_church    interval[float64]\n",
       "dist_to_relatives           interval[float64]\n",
       "dist_to_social              interval[float64]\n",
       "HH_CBSA                                object\n",
       "HOMEOWN                                 int64\n",
       "HHSIZE                                 object\n",
       "HHVEHCNT                               object\n",
       "HHFAMINC                                int64\n",
       "NUMADLT                               float64\n",
       "YOUNGCHILD                            float64\n",
       "WRKCOUNT                              float64\n",
       "MSACAT                                  int64\n",
       "MSASIZE                                 int64\n",
       "URBAN                                  object\n",
       "URBANSIZE                               int64\n",
       "URBRUR                                  int64\n",
       "LIF_CYC                                 int64\n",
       "AGE_bins                               object\n",
       "NUMADLT_ratio                          object\n",
       "YOUNGCHILD_ratio                       object\n",
       "WRKCOUNT_ratio                         object\n",
       "dtype: object"
      ]
     },
     "execution_count": 56,
     "metadata": {},
     "output_type": "execute_result"
    }
   ],
   "source": [
    "x_train.dtypes"
   ]
  },
  {
   "cell_type": "code",
   "execution_count": 57,
   "metadata": {},
   "outputs": [],
   "source": [
    "to_obj = ['EDUC','R_RACE','AGE_bins','HHFAMINC','HOMEOWN','R_SEX','TRAVDAY','WRK_HOME','WKFTPT','OCCAT','DRIVER','MSACAT','MSASIZE','URBAN','URBANSIZE','URBRUR','LIF_CYC','dist_to_work','dist_to_shopping','dist_to_family','dist_to_school_or_church','dist_to_relatives','dist_to_social']\n",
    "\n",
    "x_train[to_obj] = x_train[to_obj].astype(str)\n",
    "x_test[to_obj]= x_test[to_obj].astype(str)\n",
    "\n",
    "x_train.drop(['R_AGE'], axis = 1, inplace =True)\n",
    "x_test.drop(['R_AGE'],axis = 1, inplace = True)"
   ]
  },
  {
   "cell_type": "code",
   "execution_count": 58,
   "metadata": {},
   "outputs": [],
   "source": [
    "one_hot_col = [c for c in x_train if x_train[c].dtypes == 'O' ]\n",
    "x_train = pd.concat([x_train,pd.get_dummies(x_train[one_hot_col],prefix = one_hot_col)],axis = 1)\n",
    "x_train.drop(one_hot_col, axis = 1, inplace = True)\n",
    "\n",
    "x_test = pd.concat([x_test,pd.get_dummies(x_test[one_hot_col],prefix = one_hot_col)],axis = 1)\n",
    "x_test.drop(one_hot_col, axis = 1, inplace = True)"
   ]
  },
  {
   "cell_type": "code",
   "execution_count": 59,
   "metadata": {},
   "outputs": [],
   "source": [
    "\n",
    "#y_train = y_train.astype('int64')\n",
    "#y_test = y_test.astype('int64')"
   ]
  },
  {
   "cell_type": "code",
   "execution_count": 60,
   "metadata": {},
   "outputs": [],
   "source": [
    "#drop all negative value columns  \n",
    "\n",
    "na_cols_train =[c for c in x_train if ('NA' in c) or ('-' in c) or ('nan' in c)]\n",
    "\n",
    "x_train.drop(na_cols_train, axis = 1, inplace = True)\n",
    "\n",
    "\n",
    "na_cols_test =[c for c in x_test if ('NA' in c) or ('-' in c) or ('nan' in c)]\n",
    "x_test.drop(na_cols_test, axis = 1 , inplace = True)"
   ]
  },
  {
   "cell_type": "code",
   "execution_count": 61,
   "metadata": {},
   "outputs": [
    {
     "data": {
      "text/plain": [
       "(25425, 132)"
      ]
     },
     "execution_count": 61,
     "metadata": {},
     "output_type": "execute_result"
    }
   ],
   "source": [
    "x_train.shape"
   ]
  },
  {
   "cell_type": "code",
   "execution_count": 62,
   "metadata": {},
   "outputs": [
    {
     "data": {
      "text/plain": [
       "(6357, 132)"
      ]
     },
     "execution_count": 62,
     "metadata": {},
     "output_type": "execute_result"
    }
   ],
   "source": [
    "x_test.shape"
   ]
  },
  {
   "cell_type": "code",
   "execution_count": 63,
   "metadata": {},
   "outputs": [
    {
     "data": {
      "text/html": [
       "<div>\n",
       "<style scoped>\n",
       "    .dataframe tbody tr th:only-of-type {\n",
       "        vertical-align: middle;\n",
       "    }\n",
       "\n",
       "    .dataframe tbody tr th {\n",
       "        vertical-align: top;\n",
       "    }\n",
       "\n",
       "    .dataframe thead th {\n",
       "        text-align: right;\n",
       "    }\n",
       "</style>\n",
       "<table border=\"1\" class=\"dataframe\">\n",
       "  <thead>\n",
       "    <tr style=\"text-align: right;\">\n",
       "      <th></th>\n",
       "      <th>NUMADLT</th>\n",
       "      <th>YOUNGCHILD</th>\n",
       "      <th>WRKCOUNT</th>\n",
       "      <th>EDUC_1</th>\n",
       "      <th>EDUC_2</th>\n",
       "      <th>EDUC_3</th>\n",
       "      <th>EDUC_4</th>\n",
       "      <th>EDUC_5</th>\n",
       "      <th>R_RACE_1</th>\n",
       "      <th>R_RACE_2</th>\n",
       "      <th>...</th>\n",
       "      <th>NUMADLT_ratio_1</th>\n",
       "      <th>NUMADLT_ratio_less_than_0.5</th>\n",
       "      <th>NUMADLT_ratio_more_than_0.5</th>\n",
       "      <th>YOUNGCHILD_ratio_0</th>\n",
       "      <th>YOUNGCHILD_ratio_less_than_0.5</th>\n",
       "      <th>YOUNGCHILD_ratio_more_than_0.5</th>\n",
       "      <th>WRKCOUNT_ratio_0</th>\n",
       "      <th>WRKCOUNT_ratio_1</th>\n",
       "      <th>WRKCOUNT_ratio_less_than_0.5</th>\n",
       "      <th>WRKCOUNT_ratio_more_than_0.5</th>\n",
       "    </tr>\n",
       "  </thead>\n",
       "  <tbody>\n",
       "    <tr>\n",
       "      <th>19406</th>\n",
       "      <td>1.0</td>\n",
       "      <td>0.0</td>\n",
       "      <td>1.00</td>\n",
       "      <td>0</td>\n",
       "      <td>0</td>\n",
       "      <td>0</td>\n",
       "      <td>0</td>\n",
       "      <td>1</td>\n",
       "      <td>1</td>\n",
       "      <td>0</td>\n",
       "      <td>...</td>\n",
       "      <td>1</td>\n",
       "      <td>0</td>\n",
       "      <td>0</td>\n",
       "      <td>1</td>\n",
       "      <td>0</td>\n",
       "      <td>0</td>\n",
       "      <td>0</td>\n",
       "      <td>1</td>\n",
       "      <td>0</td>\n",
       "      <td>0</td>\n",
       "    </tr>\n",
       "    <tr>\n",
       "      <th>19181</th>\n",
       "      <td>1.0</td>\n",
       "      <td>0.0</td>\n",
       "      <td>1.00</td>\n",
       "      <td>0</td>\n",
       "      <td>0</td>\n",
       "      <td>1</td>\n",
       "      <td>0</td>\n",
       "      <td>0</td>\n",
       "      <td>1</td>\n",
       "      <td>0</td>\n",
       "      <td>...</td>\n",
       "      <td>1</td>\n",
       "      <td>0</td>\n",
       "      <td>0</td>\n",
       "      <td>1</td>\n",
       "      <td>0</td>\n",
       "      <td>0</td>\n",
       "      <td>0</td>\n",
       "      <td>1</td>\n",
       "      <td>0</td>\n",
       "      <td>0</td>\n",
       "    </tr>\n",
       "    <tr>\n",
       "      <th>15046</th>\n",
       "      <td>0.5</td>\n",
       "      <td>0.0</td>\n",
       "      <td>0.25</td>\n",
       "      <td>0</td>\n",
       "      <td>0</td>\n",
       "      <td>0</td>\n",
       "      <td>0</td>\n",
       "      <td>0</td>\n",
       "      <td>1</td>\n",
       "      <td>0</td>\n",
       "      <td>...</td>\n",
       "      <td>0</td>\n",
       "      <td>0</td>\n",
       "      <td>1</td>\n",
       "      <td>1</td>\n",
       "      <td>0</td>\n",
       "      <td>0</td>\n",
       "      <td>0</td>\n",
       "      <td>0</td>\n",
       "      <td>1</td>\n",
       "      <td>0</td>\n",
       "    </tr>\n",
       "    <tr>\n",
       "      <th>229</th>\n",
       "      <td>1.0</td>\n",
       "      <td>0.0</td>\n",
       "      <td>0.00</td>\n",
       "      <td>0</td>\n",
       "      <td>0</td>\n",
       "      <td>0</td>\n",
       "      <td>0</td>\n",
       "      <td>1</td>\n",
       "      <td>1</td>\n",
       "      <td>0</td>\n",
       "      <td>...</td>\n",
       "      <td>1</td>\n",
       "      <td>0</td>\n",
       "      <td>0</td>\n",
       "      <td>1</td>\n",
       "      <td>0</td>\n",
       "      <td>0</td>\n",
       "      <td>1</td>\n",
       "      <td>0</td>\n",
       "      <td>0</td>\n",
       "      <td>0</td>\n",
       "    </tr>\n",
       "    <tr>\n",
       "      <th>11509</th>\n",
       "      <td>1.0</td>\n",
       "      <td>0.0</td>\n",
       "      <td>0.00</td>\n",
       "      <td>0</td>\n",
       "      <td>0</td>\n",
       "      <td>1</td>\n",
       "      <td>0</td>\n",
       "      <td>0</td>\n",
       "      <td>1</td>\n",
       "      <td>0</td>\n",
       "      <td>...</td>\n",
       "      <td>1</td>\n",
       "      <td>0</td>\n",
       "      <td>0</td>\n",
       "      <td>1</td>\n",
       "      <td>0</td>\n",
       "      <td>0</td>\n",
       "      <td>1</td>\n",
       "      <td>0</td>\n",
       "      <td>0</td>\n",
       "      <td>0</td>\n",
       "    </tr>\n",
       "    <tr>\n",
       "      <th>...</th>\n",
       "      <td>...</td>\n",
       "      <td>...</td>\n",
       "      <td>...</td>\n",
       "      <td>...</td>\n",
       "      <td>...</td>\n",
       "      <td>...</td>\n",
       "      <td>...</td>\n",
       "      <td>...</td>\n",
       "      <td>...</td>\n",
       "      <td>...</td>\n",
       "      <td>...</td>\n",
       "      <td>...</td>\n",
       "      <td>...</td>\n",
       "      <td>...</td>\n",
       "      <td>...</td>\n",
       "      <td>...</td>\n",
       "      <td>...</td>\n",
       "      <td>...</td>\n",
       "      <td>...</td>\n",
       "      <td>...</td>\n",
       "      <td>...</td>\n",
       "    </tr>\n",
       "    <tr>\n",
       "      <th>5378</th>\n",
       "      <td>1.0</td>\n",
       "      <td>0.0</td>\n",
       "      <td>1.00</td>\n",
       "      <td>0</td>\n",
       "      <td>1</td>\n",
       "      <td>0</td>\n",
       "      <td>0</td>\n",
       "      <td>0</td>\n",
       "      <td>1</td>\n",
       "      <td>0</td>\n",
       "      <td>...</td>\n",
       "      <td>1</td>\n",
       "      <td>0</td>\n",
       "      <td>0</td>\n",
       "      <td>1</td>\n",
       "      <td>0</td>\n",
       "      <td>0</td>\n",
       "      <td>0</td>\n",
       "      <td>1</td>\n",
       "      <td>0</td>\n",
       "      <td>0</td>\n",
       "    </tr>\n",
       "    <tr>\n",
       "      <th>26272</th>\n",
       "      <td>1.0</td>\n",
       "      <td>0.0</td>\n",
       "      <td>0.50</td>\n",
       "      <td>0</td>\n",
       "      <td>0</td>\n",
       "      <td>0</td>\n",
       "      <td>1</td>\n",
       "      <td>0</td>\n",
       "      <td>1</td>\n",
       "      <td>0</td>\n",
       "      <td>...</td>\n",
       "      <td>1</td>\n",
       "      <td>0</td>\n",
       "      <td>0</td>\n",
       "      <td>1</td>\n",
       "      <td>0</td>\n",
       "      <td>0</td>\n",
       "      <td>0</td>\n",
       "      <td>0</td>\n",
       "      <td>0</td>\n",
       "      <td>1</td>\n",
       "    </tr>\n",
       "    <tr>\n",
       "      <th>15091</th>\n",
       "      <td>1.0</td>\n",
       "      <td>0.0</td>\n",
       "      <td>1.00</td>\n",
       "      <td>0</td>\n",
       "      <td>0</td>\n",
       "      <td>0</td>\n",
       "      <td>0</td>\n",
       "      <td>1</td>\n",
       "      <td>1</td>\n",
       "      <td>0</td>\n",
       "      <td>...</td>\n",
       "      <td>1</td>\n",
       "      <td>0</td>\n",
       "      <td>0</td>\n",
       "      <td>1</td>\n",
       "      <td>0</td>\n",
       "      <td>0</td>\n",
       "      <td>0</td>\n",
       "      <td>1</td>\n",
       "      <td>0</td>\n",
       "      <td>0</td>\n",
       "    </tr>\n",
       "    <tr>\n",
       "      <th>1984</th>\n",
       "      <td>1.0</td>\n",
       "      <td>0.0</td>\n",
       "      <td>1.00</td>\n",
       "      <td>0</td>\n",
       "      <td>0</td>\n",
       "      <td>0</td>\n",
       "      <td>0</td>\n",
       "      <td>1</td>\n",
       "      <td>0</td>\n",
       "      <td>0</td>\n",
       "      <td>...</td>\n",
       "      <td>1</td>\n",
       "      <td>0</td>\n",
       "      <td>0</td>\n",
       "      <td>1</td>\n",
       "      <td>0</td>\n",
       "      <td>0</td>\n",
       "      <td>0</td>\n",
       "      <td>1</td>\n",
       "      <td>0</td>\n",
       "      <td>0</td>\n",
       "    </tr>\n",
       "    <tr>\n",
       "      <th>10938</th>\n",
       "      <td>1.0</td>\n",
       "      <td>0.0</td>\n",
       "      <td>0.00</td>\n",
       "      <td>0</td>\n",
       "      <td>1</td>\n",
       "      <td>0</td>\n",
       "      <td>0</td>\n",
       "      <td>0</td>\n",
       "      <td>1</td>\n",
       "      <td>0</td>\n",
       "      <td>...</td>\n",
       "      <td>1</td>\n",
       "      <td>0</td>\n",
       "      <td>0</td>\n",
       "      <td>1</td>\n",
       "      <td>0</td>\n",
       "      <td>0</td>\n",
       "      <td>1</td>\n",
       "      <td>0</td>\n",
       "      <td>0</td>\n",
       "      <td>0</td>\n",
       "    </tr>\n",
       "  </tbody>\n",
       "</table>\n",
       "<p>25425 rows × 132 columns</p>\n",
       "</div>"
      ],
      "text/plain": [
       "       NUMADLT  YOUNGCHILD  WRKCOUNT  EDUC_1  EDUC_2  EDUC_3  EDUC_4  EDUC_5  \\\n",
       "19406      1.0         0.0      1.00       0       0       0       0       1   \n",
       "19181      1.0         0.0      1.00       0       0       1       0       0   \n",
       "15046      0.5         0.0      0.25       0       0       0       0       0   \n",
       "229        1.0         0.0      0.00       0       0       0       0       1   \n",
       "11509      1.0         0.0      0.00       0       0       1       0       0   \n",
       "...        ...         ...       ...     ...     ...     ...     ...     ...   \n",
       "5378       1.0         0.0      1.00       0       1       0       0       0   \n",
       "26272      1.0         0.0      0.50       0       0       0       1       0   \n",
       "15091      1.0         0.0      1.00       0       0       0       0       1   \n",
       "1984       1.0         0.0      1.00       0       0       0       0       1   \n",
       "10938      1.0         0.0      0.00       0       1       0       0       0   \n",
       "\n",
       "       R_RACE_1  R_RACE_2  ...  NUMADLT_ratio_1  NUMADLT_ratio_less_than_0.5  \\\n",
       "19406         1         0  ...                1                            0   \n",
       "19181         1         0  ...                1                            0   \n",
       "15046         1         0  ...                0                            0   \n",
       "229           1         0  ...                1                            0   \n",
       "11509         1         0  ...                1                            0   \n",
       "...         ...       ...  ...              ...                          ...   \n",
       "5378          1         0  ...                1                            0   \n",
       "26272         1         0  ...                1                            0   \n",
       "15091         1         0  ...                1                            0   \n",
       "1984          0         0  ...                1                            0   \n",
       "10938         1         0  ...                1                            0   \n",
       "\n",
       "       NUMADLT_ratio_more_than_0.5  YOUNGCHILD_ratio_0  \\\n",
       "19406                            0                   1   \n",
       "19181                            0                   1   \n",
       "15046                            1                   1   \n",
       "229                              0                   1   \n",
       "11509                            0                   1   \n",
       "...                            ...                 ...   \n",
       "5378                             0                   1   \n",
       "26272                            0                   1   \n",
       "15091                            0                   1   \n",
       "1984                             0                   1   \n",
       "10938                            0                   1   \n",
       "\n",
       "       YOUNGCHILD_ratio_less_than_0.5  YOUNGCHILD_ratio_more_than_0.5  \\\n",
       "19406                               0                               0   \n",
       "19181                               0                               0   \n",
       "15046                               0                               0   \n",
       "229                                 0                               0   \n",
       "11509                               0                               0   \n",
       "...                               ...                             ...   \n",
       "5378                                0                               0   \n",
       "26272                               0                               0   \n",
       "15091                               0                               0   \n",
       "1984                                0                               0   \n",
       "10938                               0                               0   \n",
       "\n",
       "       WRKCOUNT_ratio_0  WRKCOUNT_ratio_1  WRKCOUNT_ratio_less_than_0.5  \\\n",
       "19406                 0                 1                             0   \n",
       "19181                 0                 1                             0   \n",
       "15046                 0                 0                             1   \n",
       "229                   1                 0                             0   \n",
       "11509                 1                 0                             0   \n",
       "...                 ...               ...                           ...   \n",
       "5378                  0                 1                             0   \n",
       "26272                 0                 0                             0   \n",
       "15091                 0                 1                             0   \n",
       "1984                  0                 1                             0   \n",
       "10938                 1                 0                             0   \n",
       "\n",
       "       WRKCOUNT_ratio_more_than_0.5  \n",
       "19406                             0  \n",
       "19181                             0  \n",
       "15046                             0  \n",
       "229                               0  \n",
       "11509                             0  \n",
       "...                             ...  \n",
       "5378                              0  \n",
       "26272                             1  \n",
       "15091                             0  \n",
       "1984                              0  \n",
       "10938                             0  \n",
       "\n",
       "[25425 rows x 132 columns]"
      ]
     },
     "execution_count": 63,
     "metadata": {},
     "output_type": "execute_result"
    }
   ],
   "source": [
    "x_train"
   ]
  },
  {
   "cell_type": "code",
   "execution_count": 64,
   "metadata": {},
   "outputs": [],
   "source": [
    "dist_dict = {'dist_to_work_(1.0, 2.0]':'dist_to_work_between_1_and_2',\n",
    "            'dist_to_work_(11.0, 99.0]':'dist_to_work_more_than_11',\n",
    "            'dist_to_work_(2.0, 5.0]':'dist_to_work_between_2_and_5',\n",
    "            'dist_to_work_(5.0, 11.0]':'dist_to_work_between_5_and_11',\n",
    "             'dist_to_shopping_(1.0, 2.0]':'dist_to_shopping_between_1_and_2',\n",
    "             'dist_to_shopping_(11.0, 99.0]':'dist_to_shopping_more_than_11',\n",
    "             'dist_to_shopping_(2.0, 5.0]':'dist_to_shopping_between_2_and_5',\n",
    "             'dist_to_shopping_(5.0, 11.0]':'dist_to_shopping_between_5_and_11',\n",
    "             'dist_to_family_(1.0, 2.0]':'dist_to_family_between_1_and_2',\n",
    "             'dist_to_family_(11.0, 99.0]':'dist_to_family_greater_than_11',\n",
    "             'dist_to_family_(2.0, 5.0]':'dist_to_family_between_2_and_5',\n",
    "             'dist_to_family_(5.0, 11.0]':'dist_to_family_between_5_and_11',\n",
    "             'dist_to_school_or_church_(1.0, 2.0]':'dist_to_school_or_church_between_1_and_2',\n",
    "             'dist_to_school_or_church_(11.0, 99.0]':'dist_to_school_or_church_greater_than_11',\n",
    "             'dist_to_school_or_church_(2.0, 5.0]':'dist_to_school_or_church_between_2_and_5',\n",
    "             'dist_to_school_or_church_(5.0, 11.0]':'dist_to_school_or_church_between_5_and_11',\n",
    "             'dist_to_relatives_(1.0, 2.0]':'dist_to_relatvies_between_1_and_2',\n",
    "             'dist_to_relatives_(11.0, 99.0]':'dist_to_relatvies_greater_than_11',\n",
    "             'dist_to_relatives_(2.0, 5.0]':'dist_to_relatvies_between_2_and_5',\n",
    "             'dist_to_relatives_(5.0, 11.0]':'dist_to_relatvies_between_5_and_11',\n",
    "             'dist_to_social_(1.0, 2.0]':'dist_to_social_between_1_and_2',\n",
    "             'dist_to_social_(11.0, 99.0]':'dist_to_social_greater_than_11',\n",
    "             'dist_to_social_(2.0, 5.0]':'dist_to_social_between_2_and_5',\n",
    "             'dist_to_social_(5.0, 11.0]':'dist_to_social_between_5_and_11'}\n",
    "\n",
    "dist_cols = [c for c in x_train if 'dist' in c]\n",
    "\n",
    "x_train.rename(columns=dist_dict,inplace = True)\n",
    "x_test.rename(columns = dist_dict, inplace = True)"
   ]
  },
  {
   "cell_type": "markdown",
   "metadata": {},
   "source": [
    "## Models"
   ]
  },
  {
   "cell_type": "markdown",
   "metadata": {},
   "source": [
    "### Linear Regression"
   ]
  },
  {
   "cell_type": "code",
   "execution_count": 65,
   "metadata": {},
   "outputs": [],
   "source": [
    "#Checking for multicollinearity through variance Inflation Factor \n",
    "#VIF=1, Very Less Multicollinearity\n",
    "#VIF<5, Moderate Multicollinearity\n",
    "#VIF>5, Extreme Multicollinearity (This is what we have to avoid)\n",
    "\n",
    "import statsmodels.api as sm\n",
    "from statsmodels.stats.outliers_influence import variance_inflation_factor\n",
    "from sklearn import linear_model, model_selection, metrics\n"
   ]
  },
  {
   "cell_type": "code",
   "execution_count": 66,
   "metadata": {},
   "outputs": [],
   "source": [
    "LRmodel = linear_model.LinearRegression()  #create the linear regression \n",
    "LRmodel.fit(x_train,y_train) #train the model using the training set \n",
    "LR_pred = LRmodel.predict(x_test) #use this model to predict the test data set "
   ]
  },
  {
   "cell_type": "code",
   "execution_count": 67,
   "metadata": {},
   "outputs": [
    {
     "name": "stdout",
     "output_type": "stream",
     "text": [
      "R^2 score:\t\t\t\t 0.5658430062062544\n",
      "Explained Variance: \t\t\t 0.5658481372632194\n",
      "Mean Absolute Error: \t\t\t 1.1638533463357323\n",
      "Mean Squared Error:\t\t\t 2.393743235190672\n",
      "Root Mean Squared Error:\t\t 1.5471726584937675\n",
      "Intercept:\t 3332873449928.104\n",
      "Coef:\t 132\n"
     ]
    }
   ],
   "source": [
    "print('R^2 score:\\t\\t\\t\\t',LRmodel.score(x_test, y_test)) #compute R^2 score \n",
    "print('Explained Variance: \\t\\t\\t', metrics.explained_variance_score(y_test, LR_pred)) #compute explained variance score\n",
    "print('Mean Absolute Error: \\t\\t\\t', metrics.mean_absolute_error(y_test, LR_pred)) #compute MAE results\n",
    "print('Mean Squared Error:\\t\\t\\t', metrics.mean_squared_error(y_test, LR_pred)) #compute MSE results\n",
    "print('Root Mean Squared Error:\\t\\t', metrics.mean_squared_error(y_test, LR_pred, squared = False)) #compute RSME results\n",
    "print('Intercept:\\t', LRmodel.intercept_) #find intercept value \n",
    "print('Coef:\\t', np.sum(LRmodel.coef_!=0))#find no of features used in regression model "
   ]
  },
  {
   "cell_type": "code",
   "execution_count": 68,
   "metadata": {},
   "outputs": [],
   "source": [
    "#x_train_sm= sm.add_constant(x_train)\n",
    "#ls=sm.OLS(y_train,x_train_sm).fit()\n",
    "#print(ls.summary())"
   ]
  },
  {
   "cell_type": "code",
   "execution_count": 69,
   "metadata": {},
   "outputs": [
    {
     "data": {
      "text/plain": [
       "<matplotlib.axes._subplots.AxesSubplot at 0x267f85c7ac8>"
      ]
     },
     "execution_count": 69,
     "metadata": {},
     "output_type": "execute_result"
    },
    {
     "data": {
      "image/png": "[encoded data removed]",
      "text/plain": [
       "<Figure size 432x288 with 1 Axes>"
      ]
     },
     "metadata": {
      "needs_background": "light"
     },
     "output_type": "display_data"
    }
   ],
   "source": [
    "sns.regplot(y_test,LR_pred) #plotting predictions "
   ]
  },
  {
   "cell_type": "code",
   "execution_count": 70,
   "metadata": {},
   "outputs": [
    {
     "name": "stdout",
     "output_type": "stream",
     "text": [
      "                            feature        VIF\n",
      "0                           NUMADLT  29.510298\n",
      "1                        YOUNGCHILD  20.291842\n",
      "2                          WRKCOUNT  60.887213\n",
      "3                            EDUC_1   6.456246\n",
      "4                            EDUC_2  21.060117\n",
      "..                              ...        ...\n",
      "127  YOUNGCHILD_ratio_more_than_0.5        inf\n",
      "128                WRKCOUNT_ratio_0        inf\n",
      "129                WRKCOUNT_ratio_1        inf\n",
      "130    WRKCOUNT_ratio_less_than_0.5        inf\n",
      "131    WRKCOUNT_ratio_more_than_0.5        inf\n",
      "\n",
      "[132 rows x 2 columns]\n"
     ]
    }
   ],
   "source": [
    "#calculate VIF scores to detect multicolinearity \n",
    "\n",
    "# VIF dataframe\n",
    "vif_data = pd.DataFrame()\n",
    "vif_data[\"feature\"] = x_train.columns\n",
    "  \n",
    "# calculating VIF for each feature\n",
    "vif_data[\"VIF\"] = [variance_inflation_factor(x_train.values, i)\n",
    "                          for i in range(len(x_train.columns))]\n",
    "  \n",
    "print(vif_data)"
   ]
  },
  {
   "cell_type": "code",
   "execution_count": 71,
   "metadata": {},
   "outputs": [
    {
     "data": {
      "text/html": [
       "<div>\n",
       "<style scoped>\n",
       "    .dataframe tbody tr th:only-of-type {\n",
       "        vertical-align: middle;\n",
       "    }\n",
       "\n",
       "    .dataframe tbody tr th {\n",
       "        vertical-align: top;\n",
       "    }\n",
       "\n",
       "    .dataframe thead th {\n",
       "        text-align: right;\n",
       "    }\n",
       "</style>\n",
       "<table border=\"1\" class=\"dataframe\">\n",
       "  <thead>\n",
       "    <tr style=\"text-align: right;\">\n",
       "      <th></th>\n",
       "      <th>feature</th>\n",
       "      <th>VIF</th>\n",
       "    </tr>\n",
       "  </thead>\n",
       "  <tbody>\n",
       "    <tr>\n",
       "      <th>66</th>\n",
       "      <td>HHSIZE_1</td>\n",
       "      <td>inf</td>\n",
       "    </tr>\n",
       "    <tr>\n",
       "      <th>89</th>\n",
       "      <td>MSASIZE_1</td>\n",
       "      <td>inf</td>\n",
       "    </tr>\n",
       "    <tr>\n",
       "      <th>101</th>\n",
       "      <td>URBANSIZE_6</td>\n",
       "      <td>inf</td>\n",
       "    </tr>\n",
       "    <tr>\n",
       "      <th>100</th>\n",
       "      <td>URBANSIZE_5</td>\n",
       "      <td>inf</td>\n",
       "    </tr>\n",
       "    <tr>\n",
       "      <th>99</th>\n",
       "      <td>URBANSIZE_3</td>\n",
       "      <td>inf</td>\n",
       "    </tr>\n",
       "    <tr>\n",
       "      <th>...</th>\n",
       "      <td>...</td>\n",
       "      <td>...</td>\n",
       "    </tr>\n",
       "    <tr>\n",
       "      <th>54</th>\n",
       "      <td>dist_to_relatvies_between_5_and_11</td>\n",
       "      <td>1.018572</td>\n",
       "    </tr>\n",
       "    <tr>\n",
       "      <th>48</th>\n",
       "      <td>dist_to_school_or_church_greater_than_11</td>\n",
       "      <td>1.018423</td>\n",
       "    </tr>\n",
       "    <tr>\n",
       "      <th>50</th>\n",
       "      <td>dist_to_school_or_church_between_5_and_11</td>\n",
       "      <td>1.018231</td>\n",
       "    </tr>\n",
       "    <tr>\n",
       "      <th>53</th>\n",
       "      <td>dist_to_relatvies_between_2_and_5</td>\n",
       "      <td>1.016029</td>\n",
       "    </tr>\n",
       "    <tr>\n",
       "      <th>51</th>\n",
       "      <td>dist_to_relatvies_between_1_and_2</td>\n",
       "      <td>1.009819</td>\n",
       "    </tr>\n",
       "  </tbody>\n",
       "</table>\n",
       "<p>132 rows × 2 columns</p>\n",
       "</div>"
      ],
      "text/plain": [
       "                                       feature       VIF\n",
       "66                                    HHSIZE_1       inf\n",
       "89                                   MSASIZE_1       inf\n",
       "101                                URBANSIZE_6       inf\n",
       "100                                URBANSIZE_5       inf\n",
       "99                                 URBANSIZE_3       inf\n",
       "..                                         ...       ...\n",
       "54          dist_to_relatvies_between_5_and_11  1.018572\n",
       "48    dist_to_school_or_church_greater_than_11  1.018423\n",
       "50   dist_to_school_or_church_between_5_and_11  1.018231\n",
       "53           dist_to_relatvies_between_2_and_5  1.016029\n",
       "51           dist_to_relatvies_between_1_and_2  1.009819\n",
       "\n",
       "[132 rows x 2 columns]"
      ]
     },
     "execution_count": 71,
     "metadata": {},
     "output_type": "execute_result"
    }
   ],
   "source": [
    "vif_data.sort_values(by = 'VIF', ascending = False)"
   ]
  },
  {
   "cell_type": "code",
   "execution_count": 72,
   "metadata": {},
   "outputs": [
    {
     "name": "stdout",
     "output_type": "stream",
     "text": [
      "It contains 66 infinite values\n"
     ]
    }
   ],
   "source": [
    "# counting number of infinity features \n",
    "\n",
    "vif_data_inf = np.isinf(vif_data['VIF']).values.sum()\n",
    "print(\"It contains \" + str(vif_data_inf) + \" infinite values\")"
   ]
  },
  {
   "cell_type": "markdown",
   "metadata": {},
   "source": [
    "#### Linear Regression - Regularisation"
   ]
  },
  {
   "cell_type": "markdown",
   "metadata": {},
   "source": [
    "**Lasso Regularisation**"
   ]
  },
  {
   "cell_type": "code",
   "execution_count": 73,
   "metadata": {},
   "outputs": [
    {
     "name": "stdout",
     "output_type": "stream",
     "text": [
      "--------------------------------\n",
      "lasso with alpha 0.0001\n",
      "--------------------------------\n",
      "\n",
      "Train score: 0.568\n",
      "Test score: 0.566\n",
      "[-0.732, 0.0, 0.145, -0.227, -0.184, -0.118, -0.056, -0.052, -0.056, -0.123, -0.26, 0.084, -0.048, -0.131, -0.24, 0.002, 0.116, -0.0, 0.009, 0.0, 0.168, 0.108, 0.047, -0.153, 0.036, 0.848, 0.64, 0.152, -0.175, -0.051, 0.02, 0.082, -0.0, 0.071, -0.018, 1.626, 1.254, 1.471, 1.375, 1.786, 1.834, 1.862, 1.939, 2.252, 1.987, 2.172, 2.118, 1.569, 1.448, 1.527, 1.58, 1.656, 1.402, 1.751, 1.665, 1.942, 1.646, 1.944, 1.849, 0.111, -0.106, -0.038, 0.009, 0.003, -0.027, 0.0, 0.076, 0.037, -0.011, -0.01, 0.042, 0.045, -0.019, -0.027, -0.114, 0.029, 0.088, 0.023, 0.018, 0.1, 0.095, 0.063, 0.082, 0.037, 0.065, -0.008, 0.0, -0.0, 0.04, -0.0, 0.074, -0.026, 0.0, -0.0, 0.001, -0.4, 0.0, 0.021, -0.105, -0.048, -0.0, 0.215, 0.203, -0.0, -0.0, -0.104, -0.126, 0.0, 0.028, 0.005, -0.099, 0.003, -0.073, 0.081, -0.283, -0.18, -0.119, -0.073, 0.014, 0.0, 0.071, 0.096, 0.112, -0.132, -0.0, 0.141, 0.0, -0.188, 0.081, -0.076, 0.098, -0.014]\n",
      "--------------------------------\n",
      "MSE on test set: 2.3920394598351686\n",
      "Manual MSE on test set: 2.3920394598351633\n",
      "RMSE on test set: 1.5466219511681478\n",
      "model complexity: 51.42150503996062\n",
      "regularized cost: 2.3971816103391648\n",
      "\n",
      "\n",
      "--------------------------------\n",
      "lasso with alpha 0.001\n",
      "--------------------------------\n",
      "\n",
      "Train score: 0.567\n",
      "Test score: 0.567\n",
      "[-0.361, -0.0, 0.0, -0.151, -0.116, -0.046, 0.005, 0.014, 0.065, -0.0, -0.11, 0.0, -0.0, -0.0, -0.062, -0.0, 0.114, 0.0, 0.027, 0.011, 0.18, 0.059, 0.0, -0.182, 0.0, 0.0, 0.485, -0.0, -0.168, -0.047, 0.015, 0.075, -0.0, 0.065, -0.011, 1.558, 1.233, 1.438, 1.35, 1.763, 1.811, 1.85, 1.921, 2.23, 1.97, 2.161, 2.107, 1.493, 1.38, 1.483, 1.521, 1.559, 1.372, 1.707, 1.618, 1.921, 1.634, 1.936, 1.837, 0.079, -0.101, -0.031, 0.007, 0.005, -0.02, 0.0, 0.147, 0.016, -0.009, -0.007, 0.035, 0.043, -0.018, -0.026, -0.115, -0.0, 0.035, -0.0, -0.0, 0.051, 0.049, 0.019, 0.035, -0.0, 0.01, -0.006, 0.0, 0.0, 0.036, 0.0, 0.059, -0.025, -0.0, -0.003, 0.0, -0.394, 0.0, 0.027, -0.089, -0.022, -0.0, 0.205, 0.186, -0.0, 0.0, -0.005, -0.041, 0.0, 0.0, 0.053, -0.018, 0.0, -0.0, 0.075, -0.204, -0.1, -0.023, -0.0, 0.073, 0.0, 0.123, 0.138, -0.0, -0.0, 0.018, 0.039, -0.0, -0.077, 0.0, -0.0, 0.029, -0.011]\n",
      "--------------------------------\n",
      "MSE on test set: 2.389088500570172\n",
      "Manual MSE on test set: 2.38908850057017\n",
      "RMSE on test set: 1.5456676552772177\n",
      "model complexity: 46.16222307629619\n",
      "regularized cost: 2.4352507236464684\n",
      "\n",
      "\n",
      "--------------------------------\n",
      "lasso with alpha 0.005\n",
      "--------------------------------\n",
      "\n",
      "Train score: 0.561\n",
      "Test score: 0.563\n",
      "[-0.0, -0.0, -0.0, -0.06, -0.066, -0.0, 0.018, 0.045, 0.089, 0.0, -0.0, 0.0, -0.0, -0.0, -0.0, -0.0, 0.119, 0.0, 0.027, 0.0, 0.154, 0.016, 0.0, -0.142, 0.0, 0.0, 0.416, -0.055, -0.142, -0.026, 0.0, 0.047, 0.0, 0.041, -0.0, 1.243, 1.136, 1.284, 1.227, 1.661, 1.719, 1.793, 1.845, 2.126, 1.893, 2.108, 2.048, 1.142, 1.078, 1.284, 1.265, 1.126, 1.233, 1.514, 1.42, 1.81, 1.579, 1.886, 1.773, 0.0, -0.121, -0.0, 0.0, 0.0, -0.0, -0.0, 0.141, 0.0, -0.006, -0.0, 0.009, 0.029, -0.011, -0.019, -0.0, -0.0, 0.0, -0.0, -0.0, 0.0, 0.0, 0.0, 0.0, -0.0, 0.0, -0.001, 0.0, -0.0, 0.011, 0.0, 0.0, -0.022, 0.0, -0.004, 0.0, -0.377, 0.0, 0.001, -0.043, -0.0, -0.0, 0.113, 0.103, -0.0, 0.0, -0.0, -0.063, 0.0, 0.0, 0.0, 0.0, 0.0, -0.0, 0.036, -0.191, -0.063, -0.0, -0.0, 0.007, 0.0, 0.036, 0.02, -0.039, 0.0, 0.0, 0.0, 0.0, -0.0, 0.0, -0.0, 0.0, -0.009]\n",
      "--------------------------------\n",
      "MSE on test set: 2.411549996461585\n",
      "Manual MSE on test set: 2.4115499964615843\n",
      "RMSE on test set: 1.5529166096289861\n",
      "model complexity: 40.130499933576885\n",
      "regularized cost: 2.6122024961294694\n",
      "\n",
      "\n",
      "--------------------------------\n",
      "lasso with alpha 0.01\n",
      "--------------------------------\n",
      "\n",
      "Train score: 0.546\n",
      "Test score: 0.549\n",
      "[-0.0, -0.0, -0.0, -0.0, -0.055, -0.0, 0.0, 0.045, 0.055, -0.0, -0.0, 0.0, -0.0, -0.0, -0.0, -0.0, 0.127, 0.0, 0.03, 0.0, 0.12, 0.0, 0.0, -0.078, 0.004, 0.0, 0.405, -0.073, -0.111, -0.0, 0.0, 0.012, 0.0, 0.008, -0.0, 0.847, 1.013, 1.086, 1.075, 1.533, 1.609, 1.726, 1.753, 1.984, 1.796, 2.036, 1.972, 0.687, 0.697, 1.024, 0.944, 0.577, 1.064, 1.273, 1.176, 1.664, 1.505, 1.822, 1.691, 0.0, -0.119, -0.0, 0.0, 0.0, -0.0, -0.0, 0.154, 0.0, -0.0, -0.0, 0.0, 0.02, -0.0, -0.0, -0.0, -0.0, 0.0, -0.0, -0.0, 0.0, 0.0, 0.0, 0.0, -0.0, 0.0, -0.0, 0.0, -0.0, 0.0, 0.0, 0.0, -0.0, 0.0, -0.0, 0.0, -0.354, 0.0, 0.0, -0.0, -0.0, -0.0, 0.0, 0.0, -0.0, 0.0, -0.0, -0.049, 0.0, 0.0, 0.0, 0.0, 0.0, -0.0, 0.0, -0.124, -0.0, 0.0, -0.0, 0.0, 0.0, 0.004, 0.0, -0.0, 0.0, 0.0, 0.0, 0.0, -0.0, 0.0, 0.0, 0.0, -0.0]\n",
      "--------------------------------\n",
      "MSE on test set: 2.48649795946625\n",
      "Manual MSE on test set: 2.48649795946626\n",
      "RMSE on test set: 1.5768633293555436\n",
      "model complexity: 34.50208762688697\n",
      "regularized cost: 2.8315188357351198\n",
      "\n",
      "\n"
     ]
    }
   ],
   "source": [
    "alpha = [0.0001, 0.001, 0.005, 0.01]\n",
    "\n",
    "for i in range(4):\n",
    "    #build lasso regressor model here\n",
    "    lasso = linear_model.Lasso(alpha=alpha[i])\n",
    "    lasso.fit(x_train, y_train) #fit a lasso regression on the training data\n",
    "    y_predlasso = lasso.predict(x_test) #use this model to predict the test data\n",
    "    lasso_mse = metrics.mean_squared_error(y_test, y_predlasso) #calculate the test MSE\n",
    "    lasso_rmse = metrics.mean_squared_error(y_test, y_predlasso,squared = False) #calculate the test RMSE\n",
    "    msemanual = np.mean((y_predlasso-y_test)**2) #calculate mse manually to cross validate\n",
    "    lasso_cplxy = (np.sum(abs(lasso.coef_))) #calculate l1norm / model complexity\n",
    "    \n",
    "    print('-' * 32)\n",
    "    print('lasso with alpha', alpha[i])\n",
    "    print('-' * 32)\n",
    "    print('\\nTrain score:', round(lasso.score(x_train, y_train), 3)) #compute train R^2 score\n",
    "    print('Test score:', round(lasso.score(x_test, y_test), 3)) #compute test R^2 score\n",
    "    print(list(map(lambda x: round(x, 3), lasso.coef_))) #list out the coef values \n",
    "    print('-' * 32)\n",
    "    print('MSE on test set:', lasso_mse) #compute MSE results\n",
    "    print('Manual MSE on test set:',msemanual) #compute MSE results\n",
    "    print('RMSE on test set:', lasso_rmse) #compute RMSE results\n",
    "    print('model complexity:', lasso_cplxy) #compute L1 NOMR score\n",
    "    print('regularized cost:', lasso_mse + alpha[i] * lasso_cplxy) #compute regularised cost function scores\n",
    "    print('\\n')\n",
    "   "
   ]
  },
  {
   "cell_type": "markdown",
   "metadata": {},
   "source": [
    "**Ridge Regularisation**"
   ]
  },
  {
   "cell_type": "code",
   "execution_count": 74,
   "metadata": {},
   "outputs": [
    {
     "name": "stdout",
     "output_type": "stream",
     "text": [
      "--------------------------------\n",
      "ridge with alpha 0.001\n",
      "--------------------------------\n",
      "\n",
      "Train score: 0.568\n",
      "Test score: 0.566\n",
      "[-0.857, 0.345, 0.261, -0.297, -0.263, -0.198, -0.137, -0.133, -0.176, -0.246, -0.385, -0.001, -0.353, -0.256, -0.363, 0.251, 0.365, -1.343, -1.332, 0.365, 0.533, 1.086, 1.024, 0.821, 1.014, 2.023, 0.744, 0.252, -0.166, -0.041, 0.031, 0.092, 0.011, 0.082, -0.01, 1.631, 1.256, 1.474, 1.377, 1.788, 1.837, 1.864, 1.94, 2.254, 1.989, 2.173, 2.119, 1.575, 1.455, 1.531, 1.588, 1.67, 1.403, 1.755, 1.669, 1.944, 1.648, 1.945, 1.85, 0.085, -0.037, -0.069, 0.021, 0.135, 0.105, 0.135, 0.08, 0.01, -0.048, -0.041, 0.032, 0.035, -0.03, -0.037, -0.087, 0.06, 0.118, 0.056, 0.049, 0.13, 0.124, 0.094, 0.112, 0.068, 0.096, -0.037, 0.016, 0.005, 0.016, -0.014, 0.061, -0.041, 0.016, -0.037, 0.016, -0.152, 0.152, 0.005, -0.124, -0.065, -0.016, 0.201, 0.152, -0.152, -0.001, -0.073, -0.093, 0.031, 0.072, 0.039, -0.064, 0.045, -0.037, 0.081, -0.231, -0.128, -0.065, -0.017, 0.071, 0.086, 0.13, 0.155, 0.164, -0.164, -0.0, 0.255, 0.014, -0.27, 0.11, -0.162, 0.1, -0.048]\n",
      "--------------------------------\n",
      "MSE on test set: 2.3937936394364185\n",
      "RMSE on test set: 1.5471889475550227\n",
      "model complexity: 9.45958617769733\n",
      "regularized cost: 2.3947395980541883\n",
      "\n",
      "\n",
      "--------------------------------\n",
      "ridge with alpha 0.01\n",
      "--------------------------------\n",
      "\n",
      "Train score: 0.568\n",
      "Test score: 0.566\n",
      "[-0.856, 0.344, 0.26, -0.297, -0.263, -0.198, -0.137, -0.133, -0.176, -0.246, -0.384, -0.0, -0.352, -0.256, -0.363, 0.251, 0.365, -1.327, -1.316, 0.36, 0.528, 1.074, 1.013, 0.81, 1.003, 2.01, 0.744, 0.252, -0.166, -0.041, 0.031, 0.092, 0.011, 0.082, -0.01, 1.631, 1.256, 1.474, 1.377, 1.788, 1.837, 1.864, 1.94, 2.254, 1.989, 2.173, 2.119, 1.575, 1.455, 1.531, 1.588, 1.67, 1.403, 1.755, 1.669, 1.944, 1.648, 1.945, 1.85, 0.085, -0.037, -0.069, 0.021, 0.132, 0.101, 0.132, 0.08, 0.01, -0.048, -0.041, 0.032, 0.035, -0.03, -0.037, -0.087, 0.06, 0.118, 0.056, 0.049, 0.13, 0.124, 0.094, 0.112, 0.068, 0.096, -0.037, 0.016, 0.005, 0.016, -0.014, 0.061, -0.041, 0.016, -0.037, 0.016, -0.152, 0.152, 0.005, -0.124, -0.065, -0.016, 0.201, 0.152, -0.152, -0.001, -0.073, -0.093, 0.031, 0.072, 0.039, -0.064, 0.045, -0.037, 0.081, -0.231, -0.128, -0.065, -0.017, 0.071, 0.086, 0.13, 0.155, 0.164, -0.164, -0.0, 0.255, 0.014, -0.27, 0.11, -0.162, 0.1, -0.048]\n",
      "--------------------------------\n",
      "MSE on test set: 2.3937823069087023\n",
      "RMSE on test set: 1.5471852852547112\n",
      "model complexity: 9.447065642015696\n",
      "regularized cost: 2.403229372550718\n",
      "\n",
      "\n",
      "--------------------------------\n",
      "ridge with alpha 0.1\n",
      "--------------------------------\n",
      "\n",
      "Train score: 0.568\n",
      "Test score: 0.566\n",
      "[-0.854, 0.341, 0.259, -0.296, -0.263, -0.197, -0.136, -0.132, -0.174, -0.244, -0.383, 0.001, -0.349, -0.254, -0.361, 0.248, 0.362, -1.185, -1.174, 0.317, 0.486, 0.975, 0.914, 0.711, 0.904, 1.897, 0.743, 0.251, -0.166, -0.041, 0.031, 0.092, 0.011, 0.082, -0.01, 1.631, 1.256, 1.473, 1.377, 1.787, 1.837, 1.864, 1.94, 2.253, 1.989, 2.173, 2.119, 1.575, 1.455, 1.531, 1.587, 1.669, 1.403, 1.754, 1.668, 1.943, 1.647, 1.945, 1.85, 0.085, -0.037, -0.069, 0.021, 0.107, 0.076, 0.107, 0.08, 0.01, -0.048, -0.041, 0.032, 0.035, -0.03, -0.037, -0.087, 0.06, 0.119, 0.056, 0.049, 0.13, 0.124, 0.094, 0.112, 0.068, 0.096, -0.037, 0.016, 0.005, 0.016, -0.014, 0.061, -0.041, 0.016, -0.037, 0.016, -0.152, 0.152, 0.005, -0.124, -0.065, -0.016, 0.201, 0.152, -0.152, -0.001, -0.073, -0.093, 0.032, 0.072, 0.039, -0.064, 0.045, -0.037, 0.081, -0.231, -0.128, -0.065, -0.017, 0.071, 0.085, 0.13, 0.155, 0.163, -0.163, 0.0, 0.254, 0.014, -0.269, 0.11, -0.162, 0.1, -0.048]\n",
      "--------------------------------\n",
      "MSE on test set: 2.393683134375084\n",
      "RMSE on test set: 1.5471532355830446\n",
      "model complexity: 9.339734346566647\n",
      "regularized cost: 2.440381806107917\n",
      "\n",
      "\n",
      "--------------------------------\n",
      "ridge with alpha 1\n",
      "--------------------------------\n",
      "\n",
      "Train score: 0.568\n",
      "Test score: 0.566\n",
      "[-0.832, 0.305, 0.249, -0.29, -0.256, -0.19, -0.129, -0.125, -0.16, -0.23, -0.368, 0.015, -0.314, -0.24, -0.347, 0.223, 0.336, -0.534, -0.523, 0.134, 0.303, 0.508, 0.447, 0.244, 0.436, 1.34, 0.732, 0.24, -0.166, -0.041, 0.031, 0.092, 0.011, 0.082, -0.009, 1.627, 1.255, 1.471, 1.376, 1.786, 1.836, 1.863, 1.939, 2.251, 1.987, 2.172, 2.117, 1.57, 1.451, 1.528, 1.583, 1.661, 1.402, 1.752, 1.666, 1.942, 1.647, 1.944, 1.849, 0.085, -0.037, -0.069, 0.021, 0.042, 0.011, 0.042, 0.079, 0.009, -0.048, -0.041, 0.032, 0.035, -0.03, -0.037, -0.088, 0.06, 0.118, 0.055, 0.048, 0.13, 0.124, 0.093, 0.112, 0.067, 0.096, -0.037, 0.016, 0.005, 0.016, -0.014, 0.061, -0.041, 0.016, -0.037, 0.016, -0.151, 0.151, 0.005, -0.124, -0.065, -0.016, 0.2, 0.151, -0.151, -0.001, -0.074, -0.094, 0.034, 0.071, 0.041, -0.064, 0.046, -0.039, 0.08, -0.23, -0.127, -0.065, -0.017, 0.072, 0.082, 0.13, 0.155, 0.157, -0.158, 0.001, 0.244, 0.014, -0.258, 0.105, -0.156, 0.098, -0.047]\n",
      "--------------------------------\n",
      "MSE on test set: 2.3931659310713416\n",
      "RMSE on test set: 1.5469860797923625\n",
      "model complexity: 8.952547441497599\n",
      "regularized cost: 2.4826914054863174\n",
      "\n",
      "\n"
     ]
    }
   ],
   "source": [
    "ridgealpha = [0.001, 0.01, 0.1, 1]\n",
    "\n",
    "for i in range(4):\n",
    "    #build ridge regressor here\n",
    "    ridge = linear_model.Ridge(alpha=ridgealpha[i])\n",
    "    ridge.fit(x_train, y_train) #fit a ridge regression on the training data\n",
    "    y_pred_ridge = ridge.predict(x_test) #use this model to predict the test data\n",
    "    ridge_mse = metrics.mean_squared_error(y_test, y_pred_ridge) #calculate the test mse\n",
    "    ridge_rmse = metrics.mean_squared_error(y_test, y_pred_ridge,squared = False) #calculate the test rmse\n",
    "    ridge_cplxy = (np.linalg.norm(ridge.coef_)) #calculate l2norm / model complexity\n",
    "    \n",
    "    print('-' * 32)\n",
    "    print('ridge with alpha', ridgealpha[i])\n",
    "    print('-' * 32)\n",
    "    print('\\nTrain score:', round(ridge.score(x_train, y_train), 3))\n",
    "    print('Test score:', round(ridge.score(x_test, y_test), 3))\n",
    "    print(list(map(lambda x: round(x, 3), ridge.coef_)))\n",
    "    print('-' * 32)\n",
    "    print('MSE on test set:', ridge_mse)\n",
    "    print('RMSE on test set:', ridge_rmse)\n",
    "    print('model complexity:', ridge_cplxy)\n",
    "    print('regularized cost:', ridge_mse + alpha[i] * ridge_cplxy)\n",
    "    print('\\n')"
   ]
  },
  {
   "cell_type": "markdown",
   "metadata": {},
   "source": [
    "### Principal Component Regression"
   ]
  },
  {
   "cell_type": "code",
   "execution_count": 75,
   "metadata": {},
   "outputs": [],
   "source": [
    "from sklearn.preprocessing import scale\n",
    "from sklearn.decomposition import PCA\n",
    "from sklearn.cross_decomposition import PLSRegression\n",
    "from sklearn.cross_decomposition import PLSRegression, PLSSVD\n",
    "from sklearn import model_selection\n"
   ]
  },
  {
   "cell_type": "code",
   "execution_count": 76,
   "metadata": {},
   "outputs": [],
   "source": [
    "pca = PCA()\n",
    "x_reduced = pca.fit_transform(scale(x_train))\n"
   ]
  },
  {
   "cell_type": "code",
   "execution_count": 77,
   "metadata": {},
   "outputs": [
    {
     "data": {
      "text/html": [
       "<div>\n",
       "<style scoped>\n",
       "    .dataframe tbody tr th:only-of-type {\n",
       "        vertical-align: middle;\n",
       "    }\n",
       "\n",
       "    .dataframe tbody tr th {\n",
       "        vertical-align: top;\n",
       "    }\n",
       "\n",
       "    .dataframe thead th {\n",
       "        text-align: right;\n",
       "    }\n",
       "</style>\n",
       "<table border=\"1\" class=\"dataframe\">\n",
       "  <thead>\n",
       "    <tr style=\"text-align: right;\">\n",
       "      <th></th>\n",
       "      <th>0</th>\n",
       "      <th>1</th>\n",
       "      <th>2</th>\n",
       "      <th>3</th>\n",
       "      <th>4</th>\n",
       "      <th>5</th>\n",
       "    </tr>\n",
       "  </thead>\n",
       "  <tbody>\n",
       "    <tr>\n",
       "      <th>0</th>\n",
       "      <td>-0.270902</td>\n",
       "      <td>-0.194997</td>\n",
       "      <td>-0.002249</td>\n",
       "      <td>-0.021970</td>\n",
       "      <td>0.000938</td>\n",
       "      <td>0.034461</td>\n",
       "    </tr>\n",
       "    <tr>\n",
       "      <th>1</th>\n",
       "      <td>0.173251</td>\n",
       "      <td>0.134481</td>\n",
       "      <td>-0.047238</td>\n",
       "      <td>0.101146</td>\n",
       "      <td>-0.023086</td>\n",
       "      <td>0.285606</td>\n",
       "    </tr>\n",
       "    <tr>\n",
       "      <th>2</th>\n",
       "      <td>0.008301</td>\n",
       "      <td>-0.097557</td>\n",
       "      <td>-0.349333</td>\n",
       "      <td>0.010191</td>\n",
       "      <td>-0.015625</td>\n",
       "      <td>-0.047923</td>\n",
       "    </tr>\n",
       "    <tr>\n",
       "      <th>3</th>\n",
       "      <td>0.061964</td>\n",
       "      <td>0.059343</td>\n",
       "      <td>0.069994</td>\n",
       "      <td>-0.026719</td>\n",
       "      <td>0.001765</td>\n",
       "      <td>-0.128893</td>\n",
       "    </tr>\n",
       "    <tr>\n",
       "      <th>4</th>\n",
       "      <td>-0.070860</td>\n",
       "      <td>0.013958</td>\n",
       "      <td>0.054563</td>\n",
       "      <td>0.002249</td>\n",
       "      <td>0.019730</td>\n",
       "      <td>0.034307</td>\n",
       "    </tr>\n",
       "  </tbody>\n",
       "</table>\n",
       "</div>"
      ],
      "text/plain": [
       "          0         1         2         3         4         5\n",
       "0 -0.270902 -0.194997 -0.002249 -0.021970  0.000938  0.034461\n",
       "1  0.173251  0.134481 -0.047238  0.101146 -0.023086  0.285606\n",
       "2  0.008301 -0.097557 -0.349333  0.010191 -0.015625 -0.047923\n",
       "3  0.061964  0.059343  0.069994 -0.026719  0.001765 -0.128893\n",
       "4 -0.070860  0.013958  0.054563  0.002249  0.019730  0.034307"
      ]
     },
     "execution_count": 77,
     "metadata": {},
     "output_type": "execute_result"
    }
   ],
   "source": [
    "pd.DataFrame(pca.components_.T).loc[:4,:5]"
   ]
  },
  {
   "cell_type": "code",
   "execution_count": 78,
   "metadata": {},
   "outputs": [],
   "source": [
    "# 10-fold CV, with shuffle\n",
    "#n = len(x_reduced)\n",
    "#kf_10 = model_selection.KFold( n_splits=10, shuffle=True, random_state=1)\n",
    "\n",
    "\n",
    "#pcamse = []\n",
    "\n",
    "# Calculate MSE with only the intercept (no principal components in regression)\n",
    "#pcascore = -1*model_selection.cross_val_score(regr, np.ones((n,1)), y.ravel(), cv=kf_10, scoring='neg_mean_squared_error').mean()    \n",
    "#mse.append(score)\n",
    "\n",
    "# Calculate MSE using CV for the 19 principle components, adding one component at the time.\n",
    "#for i in np.arange(1, 20):\n",
    " #   score = -1*model_selection.cross_val_score(regr, X_reduced[:,:i], y.ravel(), cv=kf_10, scoring='neg_mean_squared_error').mean()\n",
    "  #  mse.append(score)\n",
    "    \n",
    "# Plot results    \n",
    "#plt.plot(mse, '-v')\n",
    "#plt.xlabel('Number of principal components in regression')\n",
    "#plt.ylabel('MSE')\n",
    "#plt.title('Salary')\n",
    "#plt.xlim(xmin=-1);"
   ]
  },
  {
   "cell_type": "code",
   "execution_count": null,
   "metadata": {},
   "outputs": [],
   "source": []
  },
  {
   "cell_type": "code",
   "execution_count": null,
   "metadata": {},
   "outputs": [],
   "source": []
  },
  {
   "cell_type": "code",
   "execution_count": null,
   "metadata": {},
   "outputs": [],
   "source": []
  },
  {
   "cell_type": "code",
   "execution_count": null,
   "metadata": {},
   "outputs": [],
   "source": []
  },
  {
   "cell_type": "markdown",
   "metadata": {},
   "source": [
    "### Random Forest"
   ]
  },
  {
   "cell_type": "code",
   "execution_count": 158,
   "metadata": {},
   "outputs": [],
   "source": [
    "def evaluate_model(model, test_features, test_labels):\n",
    "    predictions = model.predict(test_features)\n",
    "    errors = abs(predictions-test_labels)\n",
    "    mse = metrics.mean_squared_error(test_labels,predictions)\n",
    "    rmse = np.sqrt(mse)\n",
    "    \n",
    "    mape = 100 * np.mean(errors / test_labels)\n",
    "    accuracy = 100 - mape\n",
    "    rsquare = model.score(test_features,test_labels)\n",
    "    importance = model.feature_importances_\n",
    "\n",
    "    \n",
    "    print('Model Preformance')\n",
    "    print('Average Error: {:0.4f} degrees.'.format(np.mean(errors)))\n",
    "    print('Accuracy = {:0.2f}%,'.format(accuracy))\n",
    "    print('rmse',rmse)\n",
    "    print('mse',mse)\n",
    "    print('R square:', rsquare)\n",
    "    \n",
    "    print(\"__________\")\n",
    "    print(\"Top 5 Features\")\n",
    "    feature_dict = {}\n",
    "    for i,v in enumerate(importance):\n",
    "        #print('Feature %0d, Score: %.5f' % (i,v))\n",
    "        feature_dict[i]=v\n",
    "    feature_names = test_features.columns\n",
    "    sorted_features = sorted(feature_dict.items(), key=lambda x: x[1], reverse=True)\n",
    "    \n",
    "    for i in sorted_features[:5]:\n",
    "        print(feature_names[i[0]],i[1])\n",
    "        \n",
    "    plt.bar([x for x in range(len(importance))],importance)\n",
    "    plt.show()\n",
    "    \n",
    "    \n",
    "    \n",
    "    return accuracy"
   ]
  },
  {
   "cell_type": "code",
   "execution_count": 163,
   "metadata": {},
   "outputs": [
    {
     "name": "stdout",
     "output_type": "stream",
     "text": [
      "Fitting 5 folds for each of 10 candidates, totalling 50 fits\n",
      "run time: 808.5375440120697 start time: 1627438508.1049712 end time 1627439316.6425152\n"
     ]
    }
   ],
   "source": [
    "# Random Forest with RandomSearch\n",
    "from sklearn import tree, ensemble, model_selection, metrics\n",
    "from sklearn.model_selection import RandomizedSearchCV\n",
    "\n",
    "from sklearn.ensemble import RandomForestRegressor\n",
    "from sklearn.ensemble import AdaBoostClassifier\n",
    "from sklearn import metrics\n",
    "import time\n",
    "start_time = time.time()\n",
    "\n",
    "\n",
    "rf= ensemble.RandomForestRegressor()\n",
    "\n",
    "n_estimators = [int(i) for i in np.linspace(start = 10, stop = 1000, num=10)]\n",
    "max_features = [2,5,10,25,50]\n",
    "max_depth =[int(i) for i in np.linspace(10,100,num = 10)]\n",
    "min_samples_split = [2, 5, 10]\n",
    "min_samples_leaf = [1,2,4]\n",
    "\n",
    "random_grid = {'n_estimators':n_estimators,\n",
    "              'max_features': max_features,\n",
    "               'max_depth': max_depth,\n",
    "               'min_samples_split':min_samples_split,\n",
    "               'min_samples_leaf':min_samples_leaf\n",
    "               }\n",
    "\n",
    "rf_random = RandomizedSearchCV(estimator = rf, n_jobs = 3, param_distributions = random_grid, verbose=10, cv = model_selection.KFold(n_splits = 5, shuffle = True, random_state = 888))\n",
    "\n",
    "rf_random.fit(x_train, y_train)\n",
    "\n",
    "print(\"run time:\", str(time.time()-start_time), \"start time:\", str(start_time), \"end time\",str(time.time()))"
   ]
  },
  {
   "cell_type": "code",
   "execution_count": 164,
   "metadata": {},
   "outputs": [
    {
     "name": "stdout",
     "output_type": "stream",
     "text": [
      "Model Preformance\n",
      "Average Error: 1.1247 degrees.\n",
      "Accuracy = -inf%,\n",
      "rmse 1.5214412898216982\n",
      "mse 2.3147835983743126\n",
      "R square: 0.5801640403285736\n",
      "__________\n",
      "Top 5 Features\n",
      "dist_to_family_between_2_and_5 0.061272433508930066\n",
      "dist_to_family_between_5_and_11 0.057926287877690275\n",
      "dist_to_shopping_between_2_and_5 0.054248887454825846\n",
      "dist_to_social_between_2_and_5 0.05412923940979489\n",
      "dist_to_shopping_between_5_and_11 0.04441709997084931\n"
     ]
    },
    {
     "data": {
      "image/png": "[encoded data removed]",
      "text/plain": [
       "<Figure size 432x288 with 1 Axes>"
      ]
     },
     "metadata": {
      "needs_background": "light"
     },
     "output_type": "display_data"
    },
    {
     "name": "stdout",
     "output_type": "stream",
     "text": [
      "{'n_estimators': 890, 'min_samples_split': 2, 'min_samples_leaf': 2, 'max_features': 25, 'max_depth': 40}\n"
     ]
    }
   ],
   "source": [
    "best_rf = rf_random.best_estimator_\n",
    "rf_accuracy = evaluate_model(best_rf, x_test, y_test)\n",
    "print(rf_random.best_params_)"
   ]
  },
  {
   "cell_type": "code",
   "execution_count": 81,
   "metadata": {},
   "outputs": [
    {
     "data": {
      "text/plain": [
       "(6357, 132)"
      ]
     },
     "execution_count": 81,
     "metadata": {},
     "output_type": "execute_result"
    }
   ],
   "source": [
    "x_test.shape"
   ]
  },
  {
   "cell_type": "code",
   "execution_count": 82,
   "metadata": {},
   "outputs": [
    {
     "data": {
      "text/plain": [
       "<matplotlib.axes._subplots.AxesSubplot at 0x2683925e548>"
      ]
     },
     "execution_count": 82,
     "metadata": {},
     "output_type": "execute_result"
    },
    {
     "data": {
      "image/png": "[encoded data removed]",
      "text/plain": [
       "<Figure size 432x288 with 1 Axes>"
      ]
     },
     "metadata": {
      "needs_background": "light"
     },
     "output_type": "display_data"
    }
   ],
   "source": [
    "sns.histplot(data = y_train)"
   ]
  },
  {
   "cell_type": "code",
   "execution_count": 83,
   "metadata": {},
   "outputs": [
    {
     "data": {
      "text/plain": [
       "['NUMADLT',\n",
       " 'YOUNGCHILD',\n",
       " 'WRKCOUNT',\n",
       " 'EDUC_1',\n",
       " 'EDUC_2',\n",
       " 'EDUC_3',\n",
       " 'EDUC_4',\n",
       " 'EDUC_5',\n",
       " 'R_RACE_1',\n",
       " 'R_RACE_2',\n",
       " 'R_RACE_3',\n",
       " 'R_RACE_4',\n",
       " 'R_RACE_5',\n",
       " 'R_RACE_6',\n",
       " 'R_RACE_97',\n",
       " 'R_SEX_1',\n",
       " 'R_SEX_2',\n",
       " 'WRK_HOME_1',\n",
       " 'WRK_HOME_2',\n",
       " 'WKFTPT_1',\n",
       " 'WKFTPT_2',\n",
       " 'OCCAT_1',\n",
       " 'OCCAT_2',\n",
       " 'OCCAT_3',\n",
       " 'OCCAT_4',\n",
       " 'OCCAT_97',\n",
       " 'DRIVER_1',\n",
       " 'DRIVER_2',\n",
       " 'TRAVDAY_1',\n",
       " 'TRAVDAY_2',\n",
       " 'TRAVDAY_3',\n",
       " 'TRAVDAY_4',\n",
       " 'TRAVDAY_5',\n",
       " 'TRAVDAY_6',\n",
       " 'TRAVDAY_7',\n",
       " 'dist_to_work_between_1_and_2',\n",
       " 'dist_to_work_more_than_11',\n",
       " 'dist_to_work_between_2_and_5',\n",
       " 'dist_to_work_between_5_and_11',\n",
       " 'dist_to_shopping_between_1_and_2',\n",
       " 'dist_to_shopping_more_than_11',\n",
       " 'dist_to_shopping_between_2_and_5',\n",
       " 'dist_to_shopping_between_5_and_11',\n",
       " 'dist_to_family_between_1_and_2',\n",
       " 'dist_to_family_greater_than_11',\n",
       " 'dist_to_family_between_2_and_5',\n",
       " 'dist_to_family_between_5_and_11',\n",
       " 'dist_to_school_or_church_between_1_and_2',\n",
       " 'dist_to_school_or_church_greater_than_11',\n",
       " 'dist_to_school_or_church_between_2_and_5',\n",
       " 'dist_to_school_or_church_between_5_and_11',\n",
       " 'dist_to_relatvies_between_1_and_2',\n",
       " 'dist_to_relatvies_greater_than_11',\n",
       " 'dist_to_relatvies_between_2_and_5',\n",
       " 'dist_to_relatvies_between_5_and_11',\n",
       " 'dist_to_social_between_1_and_2',\n",
       " 'dist_to_social_greater_than_11',\n",
       " 'dist_to_social_between_2_and_5',\n",
       " 'dist_to_social_between_5_and_11',\n",
       " 'HH_CBSA_15380',\n",
       " 'HH_CBSA_35620',\n",
       " 'HH_CBSA_40380',\n",
       " 'HH_CBSA_XXXXX',\n",
       " 'HOMEOWN_1',\n",
       " 'HOMEOWN_2',\n",
       " 'HOMEOWN_97',\n",
       " 'HHSIZE_1',\n",
       " 'HHSIZE_2',\n",
       " 'HHSIZE_3',\n",
       " 'HHSIZE_above_3',\n",
       " 'HHVEHCNT_1',\n",
       " 'HHVEHCNT_2',\n",
       " 'HHVEHCNT_3',\n",
       " 'HHVEHCNT_>3',\n",
       " 'HHFAMINC_1',\n",
       " 'HHFAMINC_10',\n",
       " 'HHFAMINC_11',\n",
       " 'HHFAMINC_2',\n",
       " 'HHFAMINC_3',\n",
       " 'HHFAMINC_4',\n",
       " 'HHFAMINC_5',\n",
       " 'HHFAMINC_6',\n",
       " 'HHFAMINC_7',\n",
       " 'HHFAMINC_8',\n",
       " 'HHFAMINC_9',\n",
       " 'MSACAT_1',\n",
       " 'MSACAT_2',\n",
       " 'MSACAT_3',\n",
       " 'MSACAT_4',\n",
       " 'MSASIZE_1',\n",
       " 'MSASIZE_2',\n",
       " 'MSASIZE_3',\n",
       " 'MSASIZE_4',\n",
       " 'MSASIZE_5',\n",
       " 'MSASIZE_6',\n",
       " 'URBAN_rural',\n",
       " 'URBAN_urban',\n",
       " 'URBANSIZE_1',\n",
       " 'URBANSIZE_2',\n",
       " 'URBANSIZE_3',\n",
       " 'URBANSIZE_5',\n",
       " 'URBANSIZE_6',\n",
       " 'URBRUR_1',\n",
       " 'URBRUR_2',\n",
       " 'LIF_CYC_1',\n",
       " 'LIF_CYC_10',\n",
       " 'LIF_CYC_2',\n",
       " 'LIF_CYC_3',\n",
       " 'LIF_CYC_4',\n",
       " 'LIF_CYC_5',\n",
       " 'LIF_CYC_6',\n",
       " 'LIF_CYC_7',\n",
       " 'LIF_CYC_8',\n",
       " 'LIF_CYC_9',\n",
       " 'AGE_bins_16_to_25',\n",
       " 'AGE_bins_26_to_35',\n",
       " 'AGE_bins_36_to_45',\n",
       " 'AGE_bins_46_to_55',\n",
       " 'AGE_bins_56_to_65',\n",
       " 'AGE_bins_5_to_15',\n",
       " 'AGE_bins_66_to_75',\n",
       " 'AGE_bins_more_than_75',\n",
       " 'NUMADLT_ratio_1',\n",
       " 'NUMADLT_ratio_less_than_0.5',\n",
       " 'NUMADLT_ratio_more_than_0.5',\n",
       " 'YOUNGCHILD_ratio_0',\n",
       " 'YOUNGCHILD_ratio_less_than_0.5',\n",
       " 'YOUNGCHILD_ratio_more_than_0.5',\n",
       " 'WRKCOUNT_ratio_0',\n",
       " 'WRKCOUNT_ratio_1',\n",
       " 'WRKCOUNT_ratio_less_than_0.5',\n",
       " 'WRKCOUNT_ratio_more_than_0.5']"
      ]
     },
     "execution_count": 83,
     "metadata": {},
     "output_type": "execute_result"
    }
   ],
   "source": [
    "[c for c in x_train]"
   ]
  },
  {
   "cell_type": "markdown",
   "metadata": {},
   "source": [
    "### Neural Network"
   ]
  },
  {
   "cell_type": "code",
   "execution_count": 133,
   "metadata": {},
   "outputs": [],
   "source": [
    "from sklearn.model_selection import GridSearchCV\n",
    "from keras.models import Sequential\n",
    "from keras.layers import Dense\n",
    "from keras.wrappers.scikit_learn import KerasRegressor\n",
    "import tensorflow as tf\n",
    "from keras.layers import Dropout\n",
    "from sklearn.model_selection import RandomizedSearchCV\n"
   ]
  },
  {
   "cell_type": "code",
   "execution_count": 144,
   "metadata": {},
   "outputs": [],
   "source": [
    "def train_model(model, dataset, epochs, batch_size, label_name):\n",
    "    \"\"\"Feed a dataset into the model in order to train it.\"\"\"\n",
    "\n",
    "    # Split the dataset into features and label.\n",
    "    features = {name:np.array(value) for name, value in dataset.items()}\n",
    "    label = np.array(features.pop(label_name))\n",
    "    history = model.fit(X=features, \n",
    "                        Y=label, \n",
    "                        batch_size=batch_size,\n",
    "                        epochs=epochs, \n",
    "                        verbose=2,\n",
    "                        validation_split=0.2, \n",
    "                        shuffle=True, \n",
    "                        workers=4, \n",
    "                        use_multiprocessing=True)\n",
    "\n",
    "    # Get details that will be useful for plotting the loss curve.\n",
    "    mse_train = history.history['loss']\n",
    "    mse_val = history.history['val_loss']\n",
    "\n",
    "    return mse_train, mse_val"
   ]
  },
  {
   "cell_type": "code",
   "execution_count": 145,
   "metadata": {},
   "outputs": [],
   "source": [
    "def create_model_deep(name, my_learning_rate, my_feature_layer, layers,dropout_rate= 0.1):\n",
    "    model = tf.keras.models.Sequential(name = name)\n",
    "    \n",
    "    model.add(my_feature_layer)\n",
    "    \n",
    "    for index, layer in enumerate(layers):\n",
    "        print('index',index)\n",
    "        print('layer',layer)\n",
    "        model.add(tf.keras.layers.Dense(units = layer,\n",
    "                                       activation = 'relu',\n",
    "                                       name=f'Hidden{index}'))\n",
    "    model.add(Dropout(dropout_rate))\n",
    "    \n",
    "    model.add(tf.keras.layers.Dense(units=1, name='Output'))                              \n",
    "\n",
    "    model.compile(optimizer=tf.keras.optimizers.Adam(lr=my_learning_rate),\n",
    "                loss=\"mean_squared_error\",\n",
    "                metrics=[tf.keras.metrics.MeanSquaredError()])\n",
    "    return model"
   ]
  },
  {
   "cell_type": "code",
   "execution_count": 146,
   "metadata": {},
   "outputs": [],
   "source": [
    "#@title Define the plotting function.\n",
    "\n",
    "def plot_the_loss_curve(mse_train, mse_val):\n",
    "    \"\"\"Plot a curve of loss vs. epoch.\"\"\"\n",
    "\n",
    "    plt.figure(figsize=(10, 8))\n",
    "    plt.xlabel(\"Epoch\")\n",
    "    plt.ylabel(\"Mean Squared Error\")\n",
    "\n",
    "    plt.plot(mse_train, label=\"Training Loss\")\n",
    "    plt.plot(mse_val, label=\"Validation Loss\")\n",
    "    plt.legend()\n",
    "    # plt.ylim([mse.min()*0.95, mse.max() * 1.03])\n",
    "    plt.show()  "
   ]
  },
  {
   "cell_type": "code",
   "execution_count": 147,
   "metadata": {},
   "outputs": [],
   "source": [
    "train_df = pd.concat([x_train, y_train],axis = 1)\n",
    "\n",
    "test_df = pd.concat([x_test,y_test],axis =1)\n"
   ]
  },
  {
   "cell_type": "code",
   "execution_count": 148,
   "metadata": {},
   "outputs": [],
   "source": [
    "one_hot_labs = [c for c in train_df if train_df[c].dtype == 'uint8']\n",
    "num_labs = ['NUMADLT','YOUNGCHILD','WRKCOUNT']"
   ]
  },
  {
   "cell_type": "code",
   "execution_count": 149,
   "metadata": {},
   "outputs": [
    {
     "data": {
      "text/plain": [
       "['EDUC_1',\n",
       " 'EDUC_2',\n",
       " 'EDUC_3',\n",
       " 'EDUC_4',\n",
       " 'EDUC_5',\n",
       " 'R_RACE_1',\n",
       " 'R_RACE_2',\n",
       " 'R_RACE_3',\n",
       " 'R_RACE_4',\n",
       " 'R_RACE_5',\n",
       " 'R_RACE_6',\n",
       " 'R_RACE_97',\n",
       " 'R_SEX_1',\n",
       " 'R_SEX_2',\n",
       " 'WRK_HOME_1',\n",
       " 'WRK_HOME_2',\n",
       " 'WKFTPT_1',\n",
       " 'WKFTPT_2',\n",
       " 'OCCAT_1',\n",
       " 'OCCAT_2',\n",
       " 'OCCAT_3',\n",
       " 'OCCAT_4',\n",
       " 'OCCAT_97',\n",
       " 'DRIVER_1',\n",
       " 'DRIVER_2',\n",
       " 'TRAVDAY_1',\n",
       " 'TRAVDAY_2',\n",
       " 'TRAVDAY_3',\n",
       " 'TRAVDAY_4',\n",
       " 'TRAVDAY_5',\n",
       " 'TRAVDAY_6',\n",
       " 'TRAVDAY_7',\n",
       " 'dist_to_work_between_1_and_2',\n",
       " 'dist_to_work_more_than_11',\n",
       " 'dist_to_work_between_2_and_5',\n",
       " 'dist_to_work_between_5_and_11',\n",
       " 'dist_to_shopping_between_1_and_2',\n",
       " 'dist_to_shopping_more_than_11',\n",
       " 'dist_to_shopping_between_2_and_5',\n",
       " 'dist_to_shopping_between_5_and_11',\n",
       " 'dist_to_family_between_1_and_2',\n",
       " 'dist_to_family_greater_than_11',\n",
       " 'dist_to_family_between_2_and_5',\n",
       " 'dist_to_family_between_5_and_11',\n",
       " 'dist_to_school_or_church_between_1_and_2',\n",
       " 'dist_to_school_or_church_greater_than_11',\n",
       " 'dist_to_school_or_church_between_2_and_5',\n",
       " 'dist_to_school_or_church_between_5_and_11',\n",
       " 'dist_to_relatvies_between_1_and_2',\n",
       " 'dist_to_relatvies_greater_than_11',\n",
       " 'dist_to_relatvies_between_2_and_5',\n",
       " 'dist_to_relatvies_between_5_and_11',\n",
       " 'dist_to_social_between_1_and_2',\n",
       " 'dist_to_social_greater_than_11',\n",
       " 'dist_to_social_between_2_and_5',\n",
       " 'dist_to_social_between_5_and_11',\n",
       " 'HH_CBSA_15380',\n",
       " 'HH_CBSA_35620',\n",
       " 'HH_CBSA_40380',\n",
       " 'HH_CBSA_XXXXX',\n",
       " 'HOMEOWN_1',\n",
       " 'HOMEOWN_2',\n",
       " 'HOMEOWN_97',\n",
       " 'HHSIZE_1',\n",
       " 'HHSIZE_2',\n",
       " 'HHSIZE_3',\n",
       " 'HHSIZE_above_3',\n",
       " 'HHVEHCNT_1',\n",
       " 'HHVEHCNT_2',\n",
       " 'HHVEHCNT_3',\n",
       " 'HHVEHCNT_>3',\n",
       " 'HHFAMINC_1',\n",
       " 'HHFAMINC_10',\n",
       " 'HHFAMINC_11',\n",
       " 'HHFAMINC_2',\n",
       " 'HHFAMINC_3',\n",
       " 'HHFAMINC_4',\n",
       " 'HHFAMINC_5',\n",
       " 'HHFAMINC_6',\n",
       " 'HHFAMINC_7',\n",
       " 'HHFAMINC_8',\n",
       " 'HHFAMINC_9',\n",
       " 'MSACAT_1',\n",
       " 'MSACAT_2',\n",
       " 'MSACAT_3',\n",
       " 'MSACAT_4',\n",
       " 'MSASIZE_1',\n",
       " 'MSASIZE_2',\n",
       " 'MSASIZE_3',\n",
       " 'MSASIZE_4',\n",
       " 'MSASIZE_5',\n",
       " 'MSASIZE_6',\n",
       " 'URBAN_rural',\n",
       " 'URBAN_urban',\n",
       " 'URBANSIZE_1',\n",
       " 'URBANSIZE_2',\n",
       " 'URBANSIZE_3',\n",
       " 'URBANSIZE_5',\n",
       " 'URBANSIZE_6',\n",
       " 'URBRUR_1',\n",
       " 'URBRUR_2',\n",
       " 'LIF_CYC_1',\n",
       " 'LIF_CYC_10',\n",
       " 'LIF_CYC_2',\n",
       " 'LIF_CYC_3',\n",
       " 'LIF_CYC_4',\n",
       " 'LIF_CYC_5',\n",
       " 'LIF_CYC_6',\n",
       " 'LIF_CYC_7',\n",
       " 'LIF_CYC_8',\n",
       " 'LIF_CYC_9',\n",
       " 'AGE_bins_16_to_25',\n",
       " 'AGE_bins_26_to_35',\n",
       " 'AGE_bins_36_to_45',\n",
       " 'AGE_bins_46_to_55',\n",
       " 'AGE_bins_56_to_65',\n",
       " 'AGE_bins_5_to_15',\n",
       " 'AGE_bins_66_to_75',\n",
       " 'AGE_bins_more_than_75',\n",
       " 'NUMADLT_ratio_1',\n",
       " 'NUMADLT_ratio_less_than_0.5',\n",
       " 'NUMADLT_ratio_more_than_0.5',\n",
       " 'YOUNGCHILD_ratio_0',\n",
       " 'YOUNGCHILD_ratio_less_than_0.5',\n",
       " 'YOUNGCHILD_ratio_more_than_0.5',\n",
       " 'WRKCOUNT_ratio_0',\n",
       " 'WRKCOUNT_ratio_1',\n",
       " 'WRKCOUNT_ratio_less_than_0.5',\n",
       " 'WRKCOUNT_ratio_more_than_0.5']"
      ]
     },
     "execution_count": 149,
     "metadata": {},
     "output_type": "execute_result"
    }
   ],
   "source": [
    "one_hot_labs"
   ]
  },
  {
   "cell_type": "code",
   "execution_count": 150,
   "metadata": {},
   "outputs": [],
   "source": [
    "feature_columns = []\n",
    "\n",
    "for i in num_labs: \n",
    "    i = tf.feature_column.numeric_column(i)\n",
    "    feature_columns.append(i)\n",
    "\n",
    "for k in one_hot_labs:\n",
    "    k = tf.feature_column.numeric_column(k)\n",
    "    feature_columns.append(k)\n",
    "    \n",
    "my_feature_layer = tf.keras.layers.DenseFeatures(feature_columns)"
   ]
  },
  {
   "cell_type": "code",
   "execution_count": 152,
   "metadata": {},
   "outputs": [
    {
     "name": "stdout",
     "output_type": "stream",
     "text": [
      "index 0\n",
      "layer 128\n",
      "index 1\n",
      "layer 64\n",
      "index 2\n",
      "layer 32\n",
      "index 3\n",
      "layer 16\n"
     ]
    },
    {
     "ename": "TypeError",
     "evalue": "Cannot clone object '<tensorflow.python.keras.engine.sequential.Sequential object at 0x00000268EF7B4308>' (type <class 'tensorflow.python.keras.engine.sequential.Sequential'>): it does not seem to be a scikit-learn estimator as it does not implement a 'get_params' method.",
     "output_type": "error",
     "traceback": [
      "\u001b[1;31m---------------------------------------------------------------------------\u001b[0m",
      "\u001b[1;31mTypeError\u001b[0m                                 Traceback (most recent call last)",
      "\u001b[1;32m<ipython-input-152-774cdbb16f00>\u001b[0m in \u001b[0;36m<module>\u001b[1;34m\u001b[0m\n\u001b[0;32m     17\u001b[0m \u001b[1;33m\u001b[0m\u001b[0m\n\u001b[0;32m     18\u001b[0m \u001b[1;33m\u001b[0m\u001b[0m\n\u001b[1;32m---> 19\u001b[1;33m \u001b[0mmse_train_deep\u001b[0m\u001b[1;33m,\u001b[0m \u001b[0mmse_val_deep\u001b[0m \u001b[1;33m=\u001b[0m \u001b[0mtrain_model\u001b[0m\u001b[1;33m(\u001b[0m\u001b[0mgrid\u001b[0m\u001b[1;33m,\u001b[0m \u001b[0mtrain_df\u001b[0m\u001b[1;33m,\u001b[0m \u001b[0mnumber_epochs\u001b[0m\u001b[1;33m,\u001b[0m \u001b[0mbatch_size\u001b[0m\u001b[1;33m,\u001b[0m \u001b[0mlabel_name\u001b[0m\u001b[1;33m)\u001b[0m\u001b[1;33m\u001b[0m\u001b[1;33m\u001b[0m\u001b[0m\n\u001b[0m\u001b[0;32m     20\u001b[0m \u001b[1;31m#plot_the_loss_curve(mse_train_deep, mse_val_deep)\u001b[0m\u001b[1;33m\u001b[0m\u001b[1;33m\u001b[0m\u001b[1;33m\u001b[0m\u001b[0m\n",
      "\u001b[1;32m<ipython-input-144-93872ff3258c>\u001b[0m in \u001b[0;36mtrain_model\u001b[1;34m(model, dataset, epochs, batch_size, label_name)\u001b[0m\n\u001b[0;32m     13\u001b[0m                         \u001b[0mshuffle\u001b[0m\u001b[1;33m=\u001b[0m\u001b[1;32mTrue\u001b[0m\u001b[1;33m,\u001b[0m\u001b[1;33m\u001b[0m\u001b[1;33m\u001b[0m\u001b[0m\n\u001b[0;32m     14\u001b[0m                         \u001b[0mworkers\u001b[0m\u001b[1;33m=\u001b[0m\u001b[1;36m4\u001b[0m\u001b[1;33m,\u001b[0m\u001b[1;33m\u001b[0m\u001b[1;33m\u001b[0m\u001b[0m\n\u001b[1;32m---> 15\u001b[1;33m                         use_multiprocessing=True)\n\u001b[0m\u001b[0;32m     16\u001b[0m \u001b[1;33m\u001b[0m\u001b[0m\n\u001b[0;32m     17\u001b[0m     \u001b[1;31m# Get details that will be useful for plotting the loss curve.\u001b[0m\u001b[1;33m\u001b[0m\u001b[1;33m\u001b[0m\u001b[1;33m\u001b[0m\u001b[0m\n",
      "\u001b[1;32m~\\AppData\\Local\\Continuum\\anaconda3\\lib\\site-packages\\sklearn\\utils\\validation.py\u001b[0m in \u001b[0;36minner_f\u001b[1;34m(*args, **kwargs)\u001b[0m\n\u001b[0;32m     61\u001b[0m             \u001b[0mextra_args\u001b[0m \u001b[1;33m=\u001b[0m \u001b[0mlen\u001b[0m\u001b[1;33m(\u001b[0m\u001b[0margs\u001b[0m\u001b[1;33m)\u001b[0m \u001b[1;33m-\u001b[0m \u001b[0mlen\u001b[0m\u001b[1;33m(\u001b[0m\u001b[0mall_args\u001b[0m\u001b[1;33m)\u001b[0m\u001b[1;33m\u001b[0m\u001b[1;33m\u001b[0m\u001b[0m\n\u001b[0;32m     62\u001b[0m             \u001b[1;32mif\u001b[0m \u001b[0mextra_args\u001b[0m \u001b[1;33m<=\u001b[0m \u001b[1;36m0\u001b[0m\u001b[1;33m:\u001b[0m\u001b[1;33m\u001b[0m\u001b[1;33m\u001b[0m\u001b[0m\n\u001b[1;32m---> 63\u001b[1;33m                 \u001b[1;32mreturn\u001b[0m \u001b[0mf\u001b[0m\u001b[1;33m(\u001b[0m\u001b[1;33m*\u001b[0m\u001b[0margs\u001b[0m\u001b[1;33m,\u001b[0m \u001b[1;33m**\u001b[0m\u001b[0mkwargs\u001b[0m\u001b[1;33m)\u001b[0m\u001b[1;33m\u001b[0m\u001b[1;33m\u001b[0m\u001b[0m\n\u001b[0m\u001b[0;32m     64\u001b[0m \u001b[1;33m\u001b[0m\u001b[0m\n\u001b[0;32m     65\u001b[0m             \u001b[1;31m# extra_args > 0\u001b[0m\u001b[1;33m\u001b[0m\u001b[1;33m\u001b[0m\u001b[1;33m\u001b[0m\u001b[0m\n",
      "\u001b[1;32m~\\AppData\\Local\\Continuum\\anaconda3\\lib\\site-packages\\sklearn\\model_selection\\_search.py\u001b[0m in \u001b[0;36mfit\u001b[1;34m(self, X, y, groups, **fit_params)\u001b[0m\n\u001b[0;32m    763\u001b[0m         \u001b[0mn_splits\u001b[0m \u001b[1;33m=\u001b[0m \u001b[0mcv_orig\u001b[0m\u001b[1;33m.\u001b[0m\u001b[0mget_n_splits\u001b[0m\u001b[1;33m(\u001b[0m\u001b[0mX\u001b[0m\u001b[1;33m,\u001b[0m \u001b[0my\u001b[0m\u001b[1;33m,\u001b[0m \u001b[0mgroups\u001b[0m\u001b[1;33m)\u001b[0m\u001b[1;33m\u001b[0m\u001b[1;33m\u001b[0m\u001b[0m\n\u001b[0;32m    764\u001b[0m \u001b[1;33m\u001b[0m\u001b[0m\n\u001b[1;32m--> 765\u001b[1;33m         \u001b[0mbase_estimator\u001b[0m \u001b[1;33m=\u001b[0m \u001b[0mclone\u001b[0m\u001b[1;33m(\u001b[0m\u001b[0mself\u001b[0m\u001b[1;33m.\u001b[0m\u001b[0mestimator\u001b[0m\u001b[1;33m)\u001b[0m\u001b[1;33m\u001b[0m\u001b[1;33m\u001b[0m\u001b[0m\n\u001b[0m\u001b[0;32m    766\u001b[0m \u001b[1;33m\u001b[0m\u001b[0m\n\u001b[0;32m    767\u001b[0m         parallel = Parallel(n_jobs=self.n_jobs,\n",
      "\u001b[1;32m~\\AppData\\Local\\Continuum\\anaconda3\\lib\\site-packages\\sklearn\\utils\\validation.py\u001b[0m in \u001b[0;36minner_f\u001b[1;34m(*args, **kwargs)\u001b[0m\n\u001b[0;32m     61\u001b[0m             \u001b[0mextra_args\u001b[0m \u001b[1;33m=\u001b[0m \u001b[0mlen\u001b[0m\u001b[1;33m(\u001b[0m\u001b[0margs\u001b[0m\u001b[1;33m)\u001b[0m \u001b[1;33m-\u001b[0m \u001b[0mlen\u001b[0m\u001b[1;33m(\u001b[0m\u001b[0mall_args\u001b[0m\u001b[1;33m)\u001b[0m\u001b[1;33m\u001b[0m\u001b[1;33m\u001b[0m\u001b[0m\n\u001b[0;32m     62\u001b[0m             \u001b[1;32mif\u001b[0m \u001b[0mextra_args\u001b[0m \u001b[1;33m<=\u001b[0m \u001b[1;36m0\u001b[0m\u001b[1;33m:\u001b[0m\u001b[1;33m\u001b[0m\u001b[1;33m\u001b[0m\u001b[0m\n\u001b[1;32m---> 63\u001b[1;33m                 \u001b[1;32mreturn\u001b[0m \u001b[0mf\u001b[0m\u001b[1;33m(\u001b[0m\u001b[1;33m*\u001b[0m\u001b[0margs\u001b[0m\u001b[1;33m,\u001b[0m \u001b[1;33m**\u001b[0m\u001b[0mkwargs\u001b[0m\u001b[1;33m)\u001b[0m\u001b[1;33m\u001b[0m\u001b[1;33m\u001b[0m\u001b[0m\n\u001b[0m\u001b[0;32m     64\u001b[0m \u001b[1;33m\u001b[0m\u001b[0m\n\u001b[0;32m     65\u001b[0m             \u001b[1;31m# extra_args > 0\u001b[0m\u001b[1;33m\u001b[0m\u001b[1;33m\u001b[0m\u001b[1;33m\u001b[0m\u001b[0m\n",
      "\u001b[1;32m~\\AppData\\Local\\Continuum\\anaconda3\\lib\\site-packages\\sklearn\\base.py\u001b[0m in \u001b[0;36mclone\u001b[1;34m(estimator, safe)\u001b[0m\n\u001b[0;32m     69\u001b[0m                                 \u001b[1;34m\"estimator as it does not implement a \"\u001b[0m\u001b[1;33m\u001b[0m\u001b[1;33m\u001b[0m\u001b[0m\n\u001b[0;32m     70\u001b[0m                                 \u001b[1;34m\"'get_params' method.\"\u001b[0m\u001b[1;33m\u001b[0m\u001b[1;33m\u001b[0m\u001b[0m\n\u001b[1;32m---> 71\u001b[1;33m                                 % (repr(estimator), type(estimator)))\n\u001b[0m\u001b[0;32m     72\u001b[0m \u001b[1;33m\u001b[0m\u001b[0m\n\u001b[0;32m     73\u001b[0m     \u001b[0mklass\u001b[0m \u001b[1;33m=\u001b[0m \u001b[0mestimator\u001b[0m\u001b[1;33m.\u001b[0m\u001b[0m__class__\u001b[0m\u001b[1;33m\u001b[0m\u001b[1;33m\u001b[0m\u001b[0m\n",
      "\u001b[1;31mTypeError\u001b[0m: Cannot clone object '<tensorflow.python.keras.engine.sequential.Sequential object at 0x00000268EF7B4308>' (type <class 'tensorflow.python.keras.engine.sequential.Sequential'>): it does not seem to be a scikit-learn estimator as it does not implement a 'get_params' method."
     ]
    }
   ],
   "source": [
    "learning_rate = 0.01\n",
    "number_epochs = 1000\n",
    "batch_size = 256\n",
    "label_name = \"n_trips\"\n",
    "\n",
    "\n",
    "model_deep = create_model_deep('deep', learning_rate, my_feature_layer, [128, 64, 32,16])\n",
    "# Train the model on the normalized training set. We're passing the entire\n",
    "# normalized training set, but the model will only use the features\n",
    "# defined by the feature_layer.\n",
    "\n",
    "learn_rate = [0.001, 0.01, 0.1, 0.2, 0.3]\n",
    "dropout_rate = [0.0, 0.1, 0.2, 0.3, 0.4, 0.5, 0.6, 0.7, 0.8, 0.9]\n",
    "\n",
    "param_grid = dict(learn_rate=learn_rate, dropout_rate=dropout_rate)\n",
    "grid = RandomizedSearchCV(estimator=model_deep, param_distributions=param_grid,verbose=10,n_jobs = 3, scoring=\"neg_mean_squared_error\",cv = model_selection.KFold(n_splits = 5, shuffle = True, random_state = 888))\n",
    "\n",
    "\n",
    "mse_train_deep, mse_val_deep = train_model(grid, train_df, number_epochs, batch_size, label_name)\n",
    "#plot_the_loss_curve(mse_train_deep, mse_val_deep)"
   ]
  },
  {
   "cell_type": "code",
   "execution_count": 93,
   "metadata": {},
   "outputs": [
    {
     "name": "stdout",
     "output_type": "stream",
     "text": [
      "\n",
      "Evaluate the linear regression model on the training set:\n",
      "100/100 [==============================] - 1s 6ms/step - loss: 1.0995 - mean_squared_error: 1.0995\n",
      "\n",
      "Evaluate the linear regression model on the test set:\n",
      "WARNING:tensorflow:Layers in a Sequential model should only have a single input tensor, but we receive a <class 'dict'> input: {'NUMADLT': <tf.Tensor 'ExpandDims_61:0' shape=(None, 1) dtype=float32>, 'YOUNGCHILD': <tf.Tensor 'ExpandDims_104:0' shape=(None, 1) dtype=float32>, 'WRKCOUNT': <tf.Tensor 'ExpandDims_97:0' shape=(None, 1) dtype=float32>, 'EDUC_1': <tf.Tensor 'ExpandDims_10:0' shape=(None, 1) dtype=uint8>, 'EDUC_2': <tf.Tensor 'ExpandDims_11:0' shape=(None, 1) dtype=uint8>, 'EDUC_3': <tf.Tensor 'ExpandDims_12:0' shape=(None, 1) dtype=uint8>, 'EDUC_4': <tf.Tensor 'ExpandDims_13:0' shape=(None, 1) dtype=uint8>, 'EDUC_5': <tf.Tensor 'ExpandDims_14:0' shape=(None, 1) dtype=uint8>, 'R_RACE_1': <tf.Tensor 'ExpandDims_70:0' shape=(None, 1) dtype=uint8>, 'R_RACE_2': <tf.Tensor 'ExpandDims_71:0' shape=(None, 1) dtype=uint8>, 'R_RACE_3': <tf.Tensor 'ExpandDims_72:0' shape=(None, 1) dtype=uint8>, 'R_RACE_4': <tf.Tensor 'ExpandDims_73:0' shape=(None, 1) dtype=uint8>, 'R_RACE_5': <tf.Tensor 'ExpandDims_74:0' shape=(None, 1) dtype=uint8>, 'R_RACE_6': <tf.Tensor 'ExpandDims_75:0' shape=(None, 1) dtype=uint8>, 'R_RACE_97': <tf.Tensor 'ExpandDims_76:0' shape=(None, 1) dtype=uint8>, 'R_SEX_1': <tf.Tensor 'ExpandDims_77:0' shape=(None, 1) dtype=uint8>, 'R_SEX_2': <tf.Tensor 'ExpandDims_78:0' shape=(None, 1) dtype=uint8>, 'WRK_HOME_1': <tf.Tensor 'ExpandDims_102:0' shape=(None, 1) dtype=uint8>, 'WRK_HOME_2': <tf.Tensor 'ExpandDims_103:0' shape=(None, 1) dtype=uint8>, 'WKFTPT_1': <tf.Tensor 'ExpandDims_95:0' shape=(None, 1) dtype=uint8>, 'WKFTPT_2': <tf.Tensor 'ExpandDims_96:0' shape=(None, 1) dtype=uint8>, 'OCCAT_1': <tf.Tensor 'ExpandDims_65:0' shape=(None, 1) dtype=uint8>, 'OCCAT_2': <tf.Tensor 'ExpandDims_66:0' shape=(None, 1) dtype=uint8>, 'OCCAT_3': <tf.Tensor 'ExpandDims_67:0' shape=(None, 1) dtype=uint8>, 'OCCAT_4': <tf.Tensor 'ExpandDims_68:0' shape=(None, 1) dtype=uint8>, 'OCCAT_97': <tf.Tensor 'ExpandDims_69:0' shape=(None, 1) dtype=uint8>, 'DRIVER_1': <tf.Tensor 'ExpandDims_8:0' shape=(None, 1) dtype=uint8>, 'DRIVER_2': <tf.Tensor 'ExpandDims_9:0' shape=(None, 1) dtype=uint8>, 'TRAVDAY_1': <tf.Tensor 'ExpandDims_79:0' shape=(None, 1) dtype=uint8>, 'TRAVDAY_2': <tf.Tensor 'ExpandDims_80:0' shape=(None, 1) dtype=uint8>, 'TRAVDAY_3': <tf.Tensor 'ExpandDims_81:0' shape=(None, 1) dtype=uint8>, 'TRAVDAY_4': <tf.Tensor 'ExpandDims_82:0' shape=(None, 1) dtype=uint8>, 'TRAVDAY_5': <tf.Tensor 'ExpandDims_83:0' shape=(None, 1) dtype=uint8>, 'TRAVDAY_6': <tf.Tensor 'ExpandDims_84:0' shape=(None, 1) dtype=uint8>, 'TRAVDAY_7': <tf.Tensor 'ExpandDims_85:0' shape=(None, 1) dtype=uint8>, 'dist_to_work_between_1_and_2': <tf.Tensor 'ExpandDims_128:0' shape=(None, 1) dtype=uint8>, 'dist_to_work_more_than_11': <tf.Tensor 'ExpandDims_131:0' shape=(None, 1) dtype=uint8>, 'dist_to_work_between_2_and_5': <tf.Tensor 'ExpandDims_129:0' shape=(None, 1) dtype=uint8>, 'dist_to_work_between_5_and_11': <tf.Tensor 'ExpandDims_130:0' shape=(None, 1) dtype=uint8>, 'dist_to_shopping_between_1_and_2': <tf.Tensor 'ExpandDims_120:0' shape=(None, 1) dtype=uint8>, 'dist_to_shopping_more_than_11': <tf.Tensor 'ExpandDims_123:0' shape=(None, 1) dtype=uint8>, 'dist_to_shopping_between_2_and_5': <tf.Tensor 'ExpandDims_121:0' shape=(None, 1) dtype=uint8>, 'dist_to_shopping_between_5_and_11': <tf.Tensor 'ExpandDims_122:0' shape=(None, 1) dtype=uint8>, 'dist_to_family_between_1_and_2': <tf.Tensor 'ExpandDims_108:0' shape=(None, 1) dtype=uint8>, 'dist_to_family_greater_than_11': <tf.Tensor 'ExpandDims_111:0' shape=(None, 1) dtype=uint8>, 'dist_to_family_between_2_and_5': <tf.Tensor 'ExpandDims_109:0' shape=(None, 1) dtype=uint8>, 'dist_to_family_between_5_and_11': <tf.Tensor 'ExpandDims_110:0' shape=(None, 1) dtype=uint8>, 'dist_to_school_or_church_between_1_and_2': <tf.Tensor 'ExpandDims_116:0' shape=(None, 1) dtype=uint8>, 'dist_to_school_or_church_greater_than_11': <tf.Tensor 'ExpandDims_119:0' shape=(None, 1) dtype=uint8>, 'dist_to_school_or_church_between_2_and_5': <tf.Tensor 'ExpandDims_117:0' shape=(None, 1) dtype=uint8>, 'dist_to_school_or_church_between_5_and_11': <tf.Tensor 'ExpandDims_118:0' shape=(None, 1) dtype=uint8>, 'dist_to_relatvies_between_1_and_2': <tf.Tensor 'ExpandDims_112:0' shape=(None, 1) dtype=uint8>, 'dist_to_relatvies_greater_than_11': <tf.Tensor 'ExpandDims_115:0' shape=(None, 1) dtype=uint8>, 'dist_to_relatvies_between_2_and_5': <tf.Tensor 'ExpandDims_113:0' shape=(None, 1) dtype=uint8>, 'dist_to_relatvies_between_5_and_11': <tf.Tensor 'ExpandDims_114:0' shape=(None, 1) dtype=uint8>, 'dist_to_social_between_1_and_2': <tf.Tensor 'ExpandDims_124:0' shape=(None, 1) dtype=uint8>, 'dist_to_social_greater_than_11': <tf.Tensor 'ExpandDims_127:0' shape=(None, 1) dtype=uint8>, 'dist_to_social_between_2_and_5': <tf.Tensor 'ExpandDims_125:0' shape=(None, 1) dtype=uint8>, 'dist_to_social_between_5_and_11': <tf.Tensor 'ExpandDims_126:0' shape=(None, 1) dtype=uint8>, 'HH_CBSA_15380': <tf.Tensor 'ExpandDims_34:0' shape=(None, 1) dtype=uint8>, 'HH_CBSA_35620': <tf.Tensor 'ExpandDims_35:0' shape=(None, 1) dtype=uint8>, 'HH_CBSA_40380': <tf.Tensor 'ExpandDims_36:0' shape=(None, 1) dtype=uint8>, 'HH_CBSA_XXXXX': <tf.Tensor 'ExpandDims_37:0' shape=(None, 1) dtype=uint8>, 'HOMEOWN_1': <tf.Tensor 'ExpandDims_38:0' shape=(None, 1) dtype=uint8>, 'HOMEOWN_2': <tf.Tensor 'ExpandDims_39:0' shape=(None, 1) dtype=uint8>, 'HOMEOWN_97': <tf.Tensor 'ExpandDims_40:0' shape=(None, 1) dtype=uint8>, 'HHSIZE_1': <tf.Tensor 'ExpandDims_27:0' shape=(None, 1) dtype=uint8>, 'HHSIZE_2': <tf.Tensor 'ExpandDims_28:0' shape=(None, 1) dtype=uint8>, 'HHSIZE_3': <tf.Tensor 'ExpandDims_29:0' shape=(None, 1) dtype=uint8>, 'HHSIZE_ above_3': <tf.Tensor 'ExpandDims_26:0' shape=(None, 1) dtype=uint8>, 'HHVEHCNT_1': <tf.Tensor 'ExpandDims_30:0' shape=(None, 1) dtype=uint8>, 'HHVEHCNT_2': <tf.Tensor 'ExpandDims_31:0' shape=(None, 1) dtype=uint8>, 'HHVEHCNT_3': <tf.Tensor 'ExpandDims_32:0' shape=(None, 1) dtype=uint8>, 'HHVEHCNT_>3': <tf.Tensor 'ExpandDims_33:0' shape=(None, 1) dtype=uint8>, 'HHFAMINC_1': <tf.Tensor 'ExpandDims_15:0' shape=(None, 1) dtype=uint8>, 'HHFAMINC_10': <tf.Tensor 'ExpandDims_16:0' shape=(None, 1) dtype=uint8>, 'HHFAMINC_11': <tf.Tensor 'ExpandDims_17:0' shape=(None, 1) dtype=uint8>, 'HHFAMINC_2': <tf.Tensor 'ExpandDims_18:0' shape=(None, 1) dtype=uint8>, 'HHFAMINC_3': <tf.Tensor 'ExpandDims_19:0' shape=(None, 1) dtype=uint8>, 'HHFAMINC_4': <tf.Tensor 'ExpandDims_20:0' shape=(None, 1) dtype=uint8>, 'HHFAMINC_5': <tf.Tensor 'ExpandDims_21:0' shape=(None, 1) dtype=uint8>, 'HHFAMINC_6': <tf.Tensor 'ExpandDims_22:0' shape=(None, 1) dtype=uint8>, 'HHFAMINC_7': <tf.Tensor 'ExpandDims_23:0' shape=(None, 1) dtype=uint8>, 'HHFAMINC_8': <tf.Tensor 'ExpandDims_24:0' shape=(None, 1) dtype=uint8>, 'HHFAMINC_9': <tf.Tensor 'ExpandDims_25:0' shape=(None, 1) dtype=uint8>, 'MSACAT_1': <tf.Tensor 'ExpandDims_51:0' shape=(None, 1) dtype=uint8>, 'MSACAT_2': <tf.Tensor 'ExpandDims_52:0' shape=(None, 1) dtype=uint8>, 'MSACAT_3': <tf.Tensor 'ExpandDims_53:0' shape=(None, 1) dtype=uint8>, 'MSACAT_4': <tf.Tensor 'ExpandDims_54:0' shape=(None, 1) dtype=uint8>, 'MSASIZE_1': <tf.Tensor 'ExpandDims_55:0' shape=(None, 1) dtype=uint8>, 'MSASIZE_2': <tf.Tensor 'ExpandDims_56:0' shape=(None, 1) dtype=uint8>, 'MSASIZE_3': <tf.Tensor 'ExpandDims_57:0' shape=(None, 1) dtype=uint8>, 'MSASIZE_4': <tf.Tensor 'ExpandDims_58:0' shape=(None, 1) dtype=uint8>, 'MSASIZE_5': <tf.Tensor 'ExpandDims_59:0' shape=(None, 1) dtype=uint8>, 'MSASIZE_6': <tf.Tensor 'ExpandDims_60:0' shape=(None, 1) dtype=uint8>, 'URBAN_rural': <tf.Tensor 'ExpandDims_91:0' shape=(None, 1) dtype=uint8>, 'URBAN_urban': <tf.Tensor 'ExpandDims_92:0' shape=(None, 1) dtype=uint8>, 'URBANSIZE_1': <tf.Tensor 'ExpandDims_86:0' shape=(None, 1) dtype=uint8>, 'URBANSIZE_2': <tf.Tensor 'ExpandDims_87:0' shape=(None, 1) dtype=uint8>, 'URBANSIZE_3': <tf.Tensor 'ExpandDims_88:0' shape=(None, 1) dtype=uint8>, 'URBANSIZE_5': <tf.Tensor 'ExpandDims_89:0' shape=(None, 1) dtype=uint8>, 'URBANSIZE_6': <tf.Tensor 'ExpandDims_90:0' shape=(None, 1) dtype=uint8>, 'URBRUR_1': <tf.Tensor 'ExpandDims_93:0' shape=(None, 1) dtype=uint8>, 'URBRUR_2': <tf.Tensor 'ExpandDims_94:0' shape=(None, 1) dtype=uint8>, 'LIF_CYC_1': <tf.Tensor 'ExpandDims_41:0' shape=(None, 1) dtype=uint8>, 'LIF_CYC_10': <tf.Tensor 'ExpandDims_42:0' shape=(None, 1) dtype=uint8>, 'LIF_CYC_2': <tf.Tensor 'ExpandDims_43:0' shape=(None, 1) dtype=uint8>, 'LIF_CYC_3': <tf.Tensor 'ExpandDims_44:0' shape=(None, 1) dtype=uint8>, 'LIF_CYC_4': <tf.Tensor 'ExpandDims_45:0' shape=(None, 1) dtype=uint8>, 'LIF_CYC_5': <tf.Tensor 'ExpandDims_46:0' shape=(None, 1) dtype=uint8>, 'LIF_CYC_6': <tf.Tensor 'ExpandDims_47:0' shape=(None, 1) dtype=uint8>, 'LIF_CYC_7': <tf.Tensor 'ExpandDims_48:0' shape=(None, 1) dtype=uint8>, 'LIF_CYC_8': <tf.Tensor 'ExpandDims_49:0' shape=(None, 1) dtype=uint8>, 'LIF_CYC_9': <tf.Tensor 'ExpandDims_50:0' shape=(None, 1) dtype=uint8>, 'AGE_bins_16_to_25': <tf.Tensor 'ExpandDims:0' shape=(None, 1) dtype=uint8>, 'AGE_bins_26_to_35': <tf.Tensor 'ExpandDims_1:0' shape=(None, 1) dtype=uint8>, 'AGE_bins_36_to_45': <tf.Tensor 'ExpandDims_2:0' shape=(None, 1) dtype=uint8>, 'AGE_bins_46_to_55': <tf.Tensor 'ExpandDims_3:0' shape=(None, 1) dtype=uint8>, 'AGE_bins_56_to_65': <tf.Tensor 'ExpandDims_4:0' shape=(None, 1) dtype=uint8>, 'AGE_bins_5_to_15': <tf.Tensor 'ExpandDims_5:0' shape=(None, 1) dtype=uint8>, 'AGE_bins_66_to_75': <tf.Tensor 'ExpandDims_6:0' shape=(None, 1) dtype=uint8>, 'AGE_bins_more_than_75': <tf.Tensor 'ExpandDims_7:0' shape=(None, 1) dtype=uint8>, 'NUMADLT_ratio_1': <tf.Tensor 'ExpandDims_62:0' shape=(None, 1) dtype=uint8>, 'NUMADLT_ratio_less_than_0.5': <tf.Tensor 'ExpandDims_63:0' shape=(None, 1) dtype=uint8>, 'NUMADLT_ratio_more_than_0.5': <tf.Tensor 'ExpandDims_64:0' shape=(None, 1) dtype=uint8>, 'YOUNGCHILD_ratio_0': <tf.Tensor 'ExpandDims_105:0' shape=(None, 1) dtype=uint8>, 'YOUNGCHILD_ratio_less_than_0.5': <tf.Tensor 'ExpandDims_106:0' shape=(None, 1) dtype=uint8>, 'YOUNGCHILD_ratio_more_than_0.5': <tf.Tensor 'ExpandDims_107:0' shape=(None, 1) dtype=uint8>, 'WRKCOUNT_ratio_0': <tf.Tensor 'ExpandDims_98:0' shape=(None, 1) dtype=uint8>, 'WRKCOUNT_ratio_1': <tf.Tensor 'ExpandDims_99:0' shape=(None, 1) dtype=uint8>, 'WRKCOUNT_ratio_less_than_0.5': <tf.Tensor 'ExpandDims_100:0' shape=(None, 1) dtype=uint8>, 'WRKCOUNT_ratio_more_than_0.5': <tf.Tensor 'ExpandDims_101:0' shape=(None, 1) dtype=uint8>}\n",
      "Consider rewriting this model with the Functional API.\n"
     ]
    },
    {
     "ename": "ValueError",
     "evalue": "in user code:\n\n    C:\\Users\\Seant\\AppData\\Local\\Continuum\\anaconda3\\lib\\site-packages\\tensorflow\\python\\keras\\engine\\training.py:1323 test_function  *\n        return step_function(self, iterator)\n    C:\\Users\\Seant\\AppData\\Local\\Continuum\\anaconda3\\lib\\site-packages\\tensorflow\\python\\keras\\engine\\training.py:1314 step_function  **\n        outputs = model.distribute_strategy.run(run_step, args=(data,))\n    C:\\Users\\Seant\\AppData\\Local\\Continuum\\anaconda3\\lib\\site-packages\\tensorflow\\python\\distribute\\distribute_lib.py:1285 run\n        return self._extended.call_for_each_replica(fn, args=args, kwargs=kwargs)\n    C:\\Users\\Seant\\AppData\\Local\\Continuum\\anaconda3\\lib\\site-packages\\tensorflow\\python\\distribute\\distribute_lib.py:2833 call_for_each_replica\n        return self._call_for_each_replica(fn, args, kwargs)\n    C:\\Users\\Seant\\AppData\\Local\\Continuum\\anaconda3\\lib\\site-packages\\tensorflow\\python\\distribute\\distribute_lib.py:3608 _call_for_each_replica\n        return fn(*args, **kwargs)\n    C:\\Users\\Seant\\AppData\\Local\\Continuum\\anaconda3\\lib\\site-packages\\tensorflow\\python\\keras\\engine\\training.py:1307 run_step  **\n        outputs = model.test_step(data)\n    C:\\Users\\Seant\\AppData\\Local\\Continuum\\anaconda3\\lib\\site-packages\\tensorflow\\python\\keras\\engine\\training.py:1266 test_step\n        y_pred = self(x, training=False)\n    C:\\Users\\Seant\\AppData\\Local\\Continuum\\anaconda3\\lib\\site-packages\\tensorflow\\python\\keras\\engine\\base_layer.py:1030 __call__\n        outputs = call_fn(inputs, *args, **kwargs)\n    C:\\Users\\Seant\\AppData\\Local\\Continuum\\anaconda3\\lib\\site-packages\\tensorflow\\python\\keras\\engine\\sequential.py:394 call\n        outputs = layer(inputs, **kwargs)\n    C:\\Users\\Seant\\AppData\\Local\\Continuum\\anaconda3\\lib\\site-packages\\tensorflow\\python\\keras\\engine\\base_layer.py:1030 __call__\n        outputs = call_fn(inputs, *args, **kwargs)\n    C:\\Users\\Seant\\AppData\\Local\\Continuum\\anaconda3\\lib\\site-packages\\tensorflow\\python\\keras\\feature_column\\dense_features.py:169 call  **\n        self._state_manager)\n    C:\\Users\\Seant\\AppData\\Local\\Continuum\\anaconda3\\lib\\site-packages\\tensorflow\\python\\feature_column\\feature_column_v2.py:2711 get_dense_tensor\n        return transformation_cache.get(self, state_manager)\n    C:\\Users\\Seant\\AppData\\Local\\Continuum\\anaconda3\\lib\\site-packages\\tensorflow\\python\\feature_column\\feature_column_v2.py:2474 get\n        transformed = column.transform_feature(self, state_manager)\n    C:\\Users\\Seant\\AppData\\Local\\Continuum\\anaconda3\\lib\\site-packages\\tensorflow\\python\\feature_column\\feature_column_v2.py:2683 transform_feature\n        input_tensor = transformation_cache.get(self.key, state_manager)\n    C:\\Users\\Seant\\AppData\\Local\\Continuum\\anaconda3\\lib\\site-packages\\tensorflow\\python\\feature_column\\feature_column_v2.py:2458 get\n        raise ValueError('Feature {} is not in features dictionary.'.format(key))\n\n    ValueError: Feature HHSIZE_above_3 is not in features dictionary.\n",
     "output_type": "error",
     "traceback": [
      "\u001b[1;31m---------------------------------------------------------------------------\u001b[0m",
      "\u001b[1;31mValueError\u001b[0m                                Traceback (most recent call last)",
      "\u001b[1;32m<ipython-input-93-b5ff0064b398>\u001b[0m in \u001b[0;36m<module>\u001b[1;34m\u001b[0m\n\u001b[0;32m      9\u001b[0m \u001b[1;33m\u001b[0m\u001b[0m\n\u001b[0;32m     10\u001b[0m \u001b[0mprint\u001b[0m\u001b[1;33m(\u001b[0m\u001b[1;34m\"\\nEvaluate the linear regression model on the test set:\"\u001b[0m\u001b[1;33m)\u001b[0m\u001b[1;33m\u001b[0m\u001b[1;33m\u001b[0m\u001b[0m\n\u001b[1;32m---> 11\u001b[1;33m \u001b[0mresult\u001b[0m \u001b[1;33m=\u001b[0m \u001b[0mmodel_deep\u001b[0m\u001b[1;33m.\u001b[0m\u001b[0mevaluate\u001b[0m\u001b[1;33m(\u001b[0m\u001b[0mx\u001b[0m\u001b[1;33m=\u001b[0m\u001b[0mtest_features\u001b[0m\u001b[1;33m,\u001b[0m \u001b[0my\u001b[0m\u001b[1;33m=\u001b[0m\u001b[0mtest_label\u001b[0m\u001b[1;33m,\u001b[0m \u001b[0mbatch_size\u001b[0m\u001b[1;33m=\u001b[0m\u001b[0mbatch_size\u001b[0m\u001b[1;33m)\u001b[0m\u001b[1;33m\u001b[0m\u001b[1;33m\u001b[0m\u001b[0m\n\u001b[0m\u001b[0;32m     12\u001b[0m \u001b[1;33m\u001b[0m\u001b[0m\n\u001b[0;32m     13\u001b[0m \u001b[1;32mfor\u001b[0m \u001b[0mitem\u001b[0m \u001b[1;32min\u001b[0m \u001b[0mzip\u001b[0m\u001b[1;33m(\u001b[0m\u001b[0mmodel_lr\u001b[0m\u001b[1;33m.\u001b[0m\u001b[0mmetrics_names\u001b[0m\u001b[1;33m,\u001b[0m \u001b[0mresult\u001b[0m\u001b[1;33m)\u001b[0m\u001b[1;33m:\u001b[0m\u001b[1;33m\u001b[0m\u001b[1;33m\u001b[0m\u001b[0m\n",
      "\u001b[1;32m~\\AppData\\Local\\Continuum\\anaconda3\\lib\\site-packages\\tensorflow\\python\\keras\\engine\\training.py\u001b[0m in \u001b[0;36mevaluate\u001b[1;34m(self, x, y, batch_size, verbose, sample_weight, steps, callbacks, max_queue_size, workers, use_multiprocessing, return_dict, **kwargs)\u001b[0m\n\u001b[0;32m   1487\u001b[0m             \u001b[1;32mwith\u001b[0m \u001b[0mtrace\u001b[0m\u001b[1;33m.\u001b[0m\u001b[0mTrace\u001b[0m\u001b[1;33m(\u001b[0m\u001b[1;34m'test'\u001b[0m\u001b[1;33m,\u001b[0m \u001b[0mstep_num\u001b[0m\u001b[1;33m=\u001b[0m\u001b[0mstep\u001b[0m\u001b[1;33m,\u001b[0m \u001b[0m_r\u001b[0m\u001b[1;33m=\u001b[0m\u001b[1;36m1\u001b[0m\u001b[1;33m)\u001b[0m\u001b[1;33m:\u001b[0m\u001b[1;33m\u001b[0m\u001b[1;33m\u001b[0m\u001b[0m\n\u001b[0;32m   1488\u001b[0m               \u001b[0mcallbacks\u001b[0m\u001b[1;33m.\u001b[0m\u001b[0mon_test_batch_begin\u001b[0m\u001b[1;33m(\u001b[0m\u001b[0mstep\u001b[0m\u001b[1;33m)\u001b[0m\u001b[1;33m\u001b[0m\u001b[1;33m\u001b[0m\u001b[0m\n\u001b[1;32m-> 1489\u001b[1;33m               \u001b[0mtmp_logs\u001b[0m \u001b[1;33m=\u001b[0m \u001b[0mself\u001b[0m\u001b[1;33m.\u001b[0m\u001b[0mtest_function\u001b[0m\u001b[1;33m(\u001b[0m\u001b[0miterator\u001b[0m\u001b[1;33m)\u001b[0m\u001b[1;33m\u001b[0m\u001b[1;33m\u001b[0m\u001b[0m\n\u001b[0m\u001b[0;32m   1490\u001b[0m               \u001b[1;32mif\u001b[0m \u001b[0mdata_handler\u001b[0m\u001b[1;33m.\u001b[0m\u001b[0mshould_sync\u001b[0m\u001b[1;33m:\u001b[0m\u001b[1;33m\u001b[0m\u001b[1;33m\u001b[0m\u001b[0m\n\u001b[0;32m   1491\u001b[0m                 \u001b[0mcontext\u001b[0m\u001b[1;33m.\u001b[0m\u001b[0masync_wait\u001b[0m\u001b[1;33m(\u001b[0m\u001b[1;33m)\u001b[0m\u001b[1;33m\u001b[0m\u001b[1;33m\u001b[0m\u001b[0m\n",
      "\u001b[1;32m~\\AppData\\Local\\Continuum\\anaconda3\\lib\\site-packages\\tensorflow\\python\\eager\\def_function.py\u001b[0m in \u001b[0;36m__call__\u001b[1;34m(self, *args, **kwds)\u001b[0m\n\u001b[0;32m    887\u001b[0m \u001b[1;33m\u001b[0m\u001b[0m\n\u001b[0;32m    888\u001b[0m       \u001b[1;32mwith\u001b[0m \u001b[0mOptionalXlaContext\u001b[0m\u001b[1;33m(\u001b[0m\u001b[0mself\u001b[0m\u001b[1;33m.\u001b[0m\u001b[0m_jit_compile\u001b[0m\u001b[1;33m)\u001b[0m\u001b[1;33m:\u001b[0m\u001b[1;33m\u001b[0m\u001b[1;33m\u001b[0m\u001b[0m\n\u001b[1;32m--> 889\u001b[1;33m         \u001b[0mresult\u001b[0m \u001b[1;33m=\u001b[0m \u001b[0mself\u001b[0m\u001b[1;33m.\u001b[0m\u001b[0m_call\u001b[0m\u001b[1;33m(\u001b[0m\u001b[1;33m*\u001b[0m\u001b[0margs\u001b[0m\u001b[1;33m,\u001b[0m \u001b[1;33m**\u001b[0m\u001b[0mkwds\u001b[0m\u001b[1;33m)\u001b[0m\u001b[1;33m\u001b[0m\u001b[1;33m\u001b[0m\u001b[0m\n\u001b[0m\u001b[0;32m    890\u001b[0m \u001b[1;33m\u001b[0m\u001b[0m\n\u001b[0;32m    891\u001b[0m       \u001b[0mnew_tracing_count\u001b[0m \u001b[1;33m=\u001b[0m \u001b[0mself\u001b[0m\u001b[1;33m.\u001b[0m\u001b[0mexperimental_get_tracing_count\u001b[0m\u001b[1;33m(\u001b[0m\u001b[1;33m)\u001b[0m\u001b[1;33m\u001b[0m\u001b[1;33m\u001b[0m\u001b[0m\n",
      "\u001b[1;32m~\\AppData\\Local\\Continuum\\anaconda3\\lib\\site-packages\\tensorflow\\python\\eager\\def_function.py\u001b[0m in \u001b[0;36m_call\u001b[1;34m(self, *args, **kwds)\u001b[0m\n\u001b[0;32m    922\u001b[0m       \u001b[1;31m# In this case we have not created variables on the first call. So we can\u001b[0m\u001b[1;33m\u001b[0m\u001b[1;33m\u001b[0m\u001b[1;33m\u001b[0m\u001b[0m\n\u001b[0;32m    923\u001b[0m       \u001b[1;31m# run the first trace but we should fail if variables are created.\u001b[0m\u001b[1;33m\u001b[0m\u001b[1;33m\u001b[0m\u001b[1;33m\u001b[0m\u001b[0m\n\u001b[1;32m--> 924\u001b[1;33m       \u001b[0mresults\u001b[0m \u001b[1;33m=\u001b[0m \u001b[0mself\u001b[0m\u001b[1;33m.\u001b[0m\u001b[0m_stateful_fn\u001b[0m\u001b[1;33m(\u001b[0m\u001b[1;33m*\u001b[0m\u001b[0margs\u001b[0m\u001b[1;33m,\u001b[0m \u001b[1;33m**\u001b[0m\u001b[0mkwds\u001b[0m\u001b[1;33m)\u001b[0m\u001b[1;33m\u001b[0m\u001b[1;33m\u001b[0m\u001b[0m\n\u001b[0m\u001b[0;32m    925\u001b[0m       \u001b[1;32mif\u001b[0m \u001b[0mself\u001b[0m\u001b[1;33m.\u001b[0m\u001b[0m_created_variables\u001b[0m\u001b[1;33m:\u001b[0m\u001b[1;33m\u001b[0m\u001b[1;33m\u001b[0m\u001b[0m\n\u001b[0;32m    926\u001b[0m         raise ValueError(\"Creating variables on a non-first call to a function\"\n",
      "\u001b[1;32m~\\AppData\\Local\\Continuum\\anaconda3\\lib\\site-packages\\tensorflow\\python\\eager\\function.py\u001b[0m in \u001b[0;36m__call__\u001b[1;34m(self, *args, **kwargs)\u001b[0m\n\u001b[0;32m   3020\u001b[0m     \u001b[1;32mwith\u001b[0m \u001b[0mself\u001b[0m\u001b[1;33m.\u001b[0m\u001b[0m_lock\u001b[0m\u001b[1;33m:\u001b[0m\u001b[1;33m\u001b[0m\u001b[1;33m\u001b[0m\u001b[0m\n\u001b[0;32m   3021\u001b[0m       (graph_function,\n\u001b[1;32m-> 3022\u001b[1;33m        filtered_flat_args) = self._maybe_define_function(args, kwargs)\n\u001b[0m\u001b[0;32m   3023\u001b[0m     return graph_function._call_flat(\n\u001b[0;32m   3024\u001b[0m         filtered_flat_args, captured_inputs=graph_function.captured_inputs)  # pylint: disable=protected-access\n",
      "\u001b[1;32m~\\AppData\\Local\\Continuum\\anaconda3\\lib\\site-packages\\tensorflow\\python\\eager\\function.py\u001b[0m in \u001b[0;36m_maybe_define_function\u001b[1;34m(self, args, kwargs)\u001b[0m\n\u001b[0;32m   3439\u001b[0m               call_context_key in self._function_cache.missed):\n\u001b[0;32m   3440\u001b[0m             return self._define_function_with_shape_relaxation(\n\u001b[1;32m-> 3441\u001b[1;33m                 args, kwargs, flat_args, filtered_flat_args, cache_key_context)\n\u001b[0m\u001b[0;32m   3442\u001b[0m \u001b[1;33m\u001b[0m\u001b[0m\n\u001b[0;32m   3443\u001b[0m           \u001b[0mself\u001b[0m\u001b[1;33m.\u001b[0m\u001b[0m_function_cache\u001b[0m\u001b[1;33m.\u001b[0m\u001b[0mmissed\u001b[0m\u001b[1;33m.\u001b[0m\u001b[0madd\u001b[0m\u001b[1;33m(\u001b[0m\u001b[0mcall_context_key\u001b[0m\u001b[1;33m)\u001b[0m\u001b[1;33m\u001b[0m\u001b[1;33m\u001b[0m\u001b[0m\n",
      "\u001b[1;32m~\\AppData\\Local\\Continuum\\anaconda3\\lib\\site-packages\\tensorflow\\python\\eager\\function.py\u001b[0m in \u001b[0;36m_define_function_with_shape_relaxation\u001b[1;34m(self, args, kwargs, flat_args, filtered_flat_args, cache_key_context)\u001b[0m\n\u001b[0;32m   3361\u001b[0m \u001b[1;33m\u001b[0m\u001b[0m\n\u001b[0;32m   3362\u001b[0m     graph_function = self._create_graph_function(\n\u001b[1;32m-> 3363\u001b[1;33m         args, kwargs, override_flat_arg_shapes=relaxed_arg_shapes)\n\u001b[0m\u001b[0;32m   3364\u001b[0m     \u001b[0mself\u001b[0m\u001b[1;33m.\u001b[0m\u001b[0m_function_cache\u001b[0m\u001b[1;33m.\u001b[0m\u001b[0marg_relaxed\u001b[0m\u001b[1;33m[\u001b[0m\u001b[0mrank_only_cache_key\u001b[0m\u001b[1;33m]\u001b[0m \u001b[1;33m=\u001b[0m \u001b[0mgraph_function\u001b[0m\u001b[1;33m\u001b[0m\u001b[1;33m\u001b[0m\u001b[0m\n\u001b[0;32m   3365\u001b[0m \u001b[1;33m\u001b[0m\u001b[0m\n",
      "\u001b[1;32m~\\AppData\\Local\\Continuum\\anaconda3\\lib\\site-packages\\tensorflow\\python\\eager\\function.py\u001b[0m in \u001b[0;36m_create_graph_function\u001b[1;34m(self, args, kwargs, override_flat_arg_shapes)\u001b[0m\n\u001b[0;32m   3287\u001b[0m             \u001b[0marg_names\u001b[0m\u001b[1;33m=\u001b[0m\u001b[0marg_names\u001b[0m\u001b[1;33m,\u001b[0m\u001b[1;33m\u001b[0m\u001b[1;33m\u001b[0m\u001b[0m\n\u001b[0;32m   3288\u001b[0m             \u001b[0moverride_flat_arg_shapes\u001b[0m\u001b[1;33m=\u001b[0m\u001b[0moverride_flat_arg_shapes\u001b[0m\u001b[1;33m,\u001b[0m\u001b[1;33m\u001b[0m\u001b[1;33m\u001b[0m\u001b[0m\n\u001b[1;32m-> 3289\u001b[1;33m             capture_by_value=self._capture_by_value),\n\u001b[0m\u001b[0;32m   3290\u001b[0m         \u001b[0mself\u001b[0m\u001b[1;33m.\u001b[0m\u001b[0m_function_attributes\u001b[0m\u001b[1;33m,\u001b[0m\u001b[1;33m\u001b[0m\u001b[1;33m\u001b[0m\u001b[0m\n\u001b[0;32m   3291\u001b[0m         \u001b[0mfunction_spec\u001b[0m\u001b[1;33m=\u001b[0m\u001b[0mself\u001b[0m\u001b[1;33m.\u001b[0m\u001b[0mfunction_spec\u001b[0m\u001b[1;33m,\u001b[0m\u001b[1;33m\u001b[0m\u001b[1;33m\u001b[0m\u001b[0m\n",
      "\u001b[1;32m~\\AppData\\Local\\Continuum\\anaconda3\\lib\\site-packages\\tensorflow\\python\\framework\\func_graph.py\u001b[0m in \u001b[0;36mfunc_graph_from_py_func\u001b[1;34m(name, python_func, args, kwargs, signature, func_graph, autograph, autograph_options, add_control_dependencies, arg_names, op_return_value, collections, capture_by_value, override_flat_arg_shapes)\u001b[0m\n\u001b[0;32m    997\u001b[0m         \u001b[0m_\u001b[0m\u001b[1;33m,\u001b[0m \u001b[0moriginal_func\u001b[0m \u001b[1;33m=\u001b[0m \u001b[0mtf_decorator\u001b[0m\u001b[1;33m.\u001b[0m\u001b[0munwrap\u001b[0m\u001b[1;33m(\u001b[0m\u001b[0mpython_func\u001b[0m\u001b[1;33m)\u001b[0m\u001b[1;33m\u001b[0m\u001b[1;33m\u001b[0m\u001b[0m\n\u001b[0;32m    998\u001b[0m \u001b[1;33m\u001b[0m\u001b[0m\n\u001b[1;32m--> 999\u001b[1;33m       \u001b[0mfunc_outputs\u001b[0m \u001b[1;33m=\u001b[0m \u001b[0mpython_func\u001b[0m\u001b[1;33m(\u001b[0m\u001b[1;33m*\u001b[0m\u001b[0mfunc_args\u001b[0m\u001b[1;33m,\u001b[0m \u001b[1;33m**\u001b[0m\u001b[0mfunc_kwargs\u001b[0m\u001b[1;33m)\u001b[0m\u001b[1;33m\u001b[0m\u001b[1;33m\u001b[0m\u001b[0m\n\u001b[0m\u001b[0;32m   1000\u001b[0m \u001b[1;33m\u001b[0m\u001b[0m\n\u001b[0;32m   1001\u001b[0m       \u001b[1;31m# invariant: `func_outputs` contains only Tensors, CompositeTensors,\u001b[0m\u001b[1;33m\u001b[0m\u001b[1;33m\u001b[0m\u001b[1;33m\u001b[0m\u001b[0m\n",
      "\u001b[1;32m~\\AppData\\Local\\Continuum\\anaconda3\\lib\\site-packages\\tensorflow\\python\\eager\\def_function.py\u001b[0m in \u001b[0;36mwrapped_fn\u001b[1;34m(*args, **kwds)\u001b[0m\n\u001b[0;32m    670\u001b[0m         \u001b[1;31m# the function a weak reference to itself to avoid a reference cycle.\u001b[0m\u001b[1;33m\u001b[0m\u001b[1;33m\u001b[0m\u001b[1;33m\u001b[0m\u001b[0m\n\u001b[0;32m    671\u001b[0m         \u001b[1;32mwith\u001b[0m \u001b[0mOptionalXlaContext\u001b[0m\u001b[1;33m(\u001b[0m\u001b[0mcompile_with_xla\u001b[0m\u001b[1;33m)\u001b[0m\u001b[1;33m:\u001b[0m\u001b[1;33m\u001b[0m\u001b[1;33m\u001b[0m\u001b[0m\n\u001b[1;32m--> 672\u001b[1;33m           \u001b[0mout\u001b[0m \u001b[1;33m=\u001b[0m \u001b[0mweak_wrapped_fn\u001b[0m\u001b[1;33m(\u001b[0m\u001b[1;33m)\u001b[0m\u001b[1;33m.\u001b[0m\u001b[0m__wrapped__\u001b[0m\u001b[1;33m(\u001b[0m\u001b[1;33m*\u001b[0m\u001b[0margs\u001b[0m\u001b[1;33m,\u001b[0m \u001b[1;33m**\u001b[0m\u001b[0mkwds\u001b[0m\u001b[1;33m)\u001b[0m\u001b[1;33m\u001b[0m\u001b[1;33m\u001b[0m\u001b[0m\n\u001b[0m\u001b[0;32m    673\u001b[0m         \u001b[1;32mreturn\u001b[0m \u001b[0mout\u001b[0m\u001b[1;33m\u001b[0m\u001b[1;33m\u001b[0m\u001b[0m\n\u001b[0;32m    674\u001b[0m \u001b[1;33m\u001b[0m\u001b[0m\n",
      "\u001b[1;32m~\\AppData\\Local\\Continuum\\anaconda3\\lib\\site-packages\\tensorflow\\python\\framework\\func_graph.py\u001b[0m in \u001b[0;36mwrapper\u001b[1;34m(*args, **kwargs)\u001b[0m\n\u001b[0;32m    984\u001b[0m           \u001b[1;32mexcept\u001b[0m \u001b[0mException\u001b[0m \u001b[1;32mas\u001b[0m \u001b[0me\u001b[0m\u001b[1;33m:\u001b[0m  \u001b[1;31m# pylint:disable=broad-except\u001b[0m\u001b[1;33m\u001b[0m\u001b[1;33m\u001b[0m\u001b[0m\n\u001b[0;32m    985\u001b[0m             \u001b[1;32mif\u001b[0m \u001b[0mhasattr\u001b[0m\u001b[1;33m(\u001b[0m\u001b[0me\u001b[0m\u001b[1;33m,\u001b[0m \u001b[1;34m\"ag_error_metadata\"\u001b[0m\u001b[1;33m)\u001b[0m\u001b[1;33m:\u001b[0m\u001b[1;33m\u001b[0m\u001b[1;33m\u001b[0m\u001b[0m\n\u001b[1;32m--> 986\u001b[1;33m               \u001b[1;32mraise\u001b[0m \u001b[0me\u001b[0m\u001b[1;33m.\u001b[0m\u001b[0mag_error_metadata\u001b[0m\u001b[1;33m.\u001b[0m\u001b[0mto_exception\u001b[0m\u001b[1;33m(\u001b[0m\u001b[0me\u001b[0m\u001b[1;33m)\u001b[0m\u001b[1;33m\u001b[0m\u001b[1;33m\u001b[0m\u001b[0m\n\u001b[0m\u001b[0;32m    987\u001b[0m             \u001b[1;32melse\u001b[0m\u001b[1;33m:\u001b[0m\u001b[1;33m\u001b[0m\u001b[1;33m\u001b[0m\u001b[0m\n\u001b[0;32m    988\u001b[0m               \u001b[1;32mraise\u001b[0m\u001b[1;33m\u001b[0m\u001b[1;33m\u001b[0m\u001b[0m\n",
      "\u001b[1;31mValueError\u001b[0m: in user code:\n\n    C:\\Users\\Seant\\AppData\\Local\\Continuum\\anaconda3\\lib\\site-packages\\tensorflow\\python\\keras\\engine\\training.py:1323 test_function  *\n        return step_function(self, iterator)\n    C:\\Users\\Seant\\AppData\\Local\\Continuum\\anaconda3\\lib\\site-packages\\tensorflow\\python\\keras\\engine\\training.py:1314 step_function  **\n        outputs = model.distribute_strategy.run(run_step, args=(data,))\n    C:\\Users\\Seant\\AppData\\Local\\Continuum\\anaconda3\\lib\\site-packages\\tensorflow\\python\\distribute\\distribute_lib.py:1285 run\n        return self._extended.call_for_each_replica(fn, args=args, kwargs=kwargs)\n    C:\\Users\\Seant\\AppData\\Local\\Continuum\\anaconda3\\lib\\site-packages\\tensorflow\\python\\distribute\\distribute_lib.py:2833 call_for_each_replica\n        return self._call_for_each_replica(fn, args, kwargs)\n    C:\\Users\\Seant\\AppData\\Local\\Continuum\\anaconda3\\lib\\site-packages\\tensorflow\\python\\distribute\\distribute_lib.py:3608 _call_for_each_replica\n        return fn(*args, **kwargs)\n    C:\\Users\\Seant\\AppData\\Local\\Continuum\\anaconda3\\lib\\site-packages\\tensorflow\\python\\keras\\engine\\training.py:1307 run_step  **\n        outputs = model.test_step(data)\n    C:\\Users\\Seant\\AppData\\Local\\Continuum\\anaconda3\\lib\\site-packages\\tensorflow\\python\\keras\\engine\\training.py:1266 test_step\n        y_pred = self(x, training=False)\n    C:\\Users\\Seant\\AppData\\Local\\Continuum\\anaconda3\\lib\\site-packages\\tensorflow\\python\\keras\\engine\\base_layer.py:1030 __call__\n        outputs = call_fn(inputs, *args, **kwargs)\n    C:\\Users\\Seant\\AppData\\Local\\Continuum\\anaconda3\\lib\\site-packages\\tensorflow\\python\\keras\\engine\\sequential.py:394 call\n        outputs = layer(inputs, **kwargs)\n    C:\\Users\\Seant\\AppData\\Local\\Continuum\\anaconda3\\lib\\site-packages\\tensorflow\\python\\keras\\engine\\base_layer.py:1030 __call__\n        outputs = call_fn(inputs, *args, **kwargs)\n    C:\\Users\\Seant\\AppData\\Local\\Continuum\\anaconda3\\lib\\site-packages\\tensorflow\\python\\keras\\feature_column\\dense_features.py:169 call  **\n        self._state_manager)\n    C:\\Users\\Seant\\AppData\\Local\\Continuum\\anaconda3\\lib\\site-packages\\tensorflow\\python\\feature_column\\feature_column_v2.py:2711 get_dense_tensor\n        return transformation_cache.get(self, state_manager)\n    C:\\Users\\Seant\\AppData\\Local\\Continuum\\anaconda3\\lib\\site-packages\\tensorflow\\python\\feature_column\\feature_column_v2.py:2474 get\n        transformed = column.transform_feature(self, state_manager)\n    C:\\Users\\Seant\\AppData\\Local\\Continuum\\anaconda3\\lib\\site-packages\\tensorflow\\python\\feature_column\\feature_column_v2.py:2683 transform_feature\n        input_tensor = transformation_cache.get(self.key, state_manager)\n    C:\\Users\\Seant\\AppData\\Local\\Continuum\\anaconda3\\lib\\site-packages\\tensorflow\\python\\feature_column\\feature_column_v2.py:2458 get\n        raise ValueError('Feature {} is not in features dictionary.'.format(key))\n\n    ValueError: Feature HHSIZE_above_3 is not in features dictionary.\n"
     ]
    }
   ],
   "source": [
    "train_features = {name:np.array(value) for name, value in train_df.items()}\n",
    "train_label = np.array(train_features.pop(label_name)) # isolate the label\n",
    "\n",
    "print(\"\\nEvaluate the linear regression model on the training set:\")\n",
    "result = model_deep.evaluate(x=train_features, y=train_label, batch_size=batch_size)\n",
    "\n",
    "test_features = {name:np.array(value) for name, value in test_df.items()}\n",
    "test_label = np.array(test_features.pop(label_name)) # isolate the label\n",
    "\n",
    "print(\"\\nEvaluate the linear regression model on the test set:\")\n",
    "result = model_deep.evaluate(x=test_features, y=test_label, batch_size=batch_size)\n",
    "\n",
    "for item in zip(model_lr.metrics_names, result):\n",
    "    print (item[0], np.round(item[1], 3))"
   ]
  },
  {
   "cell_type": "code",
   "execution_count": null,
   "metadata": {},
   "outputs": [],
   "source": [
    "model_deep.summary()"
   ]
  },
  {
   "cell_type": "code",
   "execution_count": null,
   "metadata": {},
   "outputs": [],
   "source": [
    "plt.figure(figsize=(10, 8))\n",
    "plt.xlabel(\"Epoch\")\n",
    "plt.ylabel(\"Mean Squared Error\")\n",
    "\n",
    "plt.plot(savgol_filter(mse_train_deep, 51, 2), label=\"(Training Loss) Deep Model\")\n",
    "plt.plot(savgol_filter(mse_val_deep, 51, 2), label=\"(Validation Loss) Deep Model\")\n",
    "\n",
    "plt.legend()\n",
    "plt.show() "
   ]
  }
 ],
 "metadata": {
  "kernelspec": {
   "display_name": "Python 3",
   "language": "python",
   "name": "python3"
  },
  "language_info": {
   "codemirror_mode": {
    "name": "ipython",
    "version": 3
   },
   "file_extension": ".py",
   "mimetype": "text/x-python",
   "name": "python",
   "nbconvert_exporter": "python",
   "pygments_lexer": "ipython3",
   "version": "3.7.4"
  }
 },
 "nbformat": 4,
 "nbformat_minor": 2
}
