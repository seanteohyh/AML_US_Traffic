{
 "cells": [
  {
   "cell_type": "markdown",
   "metadata": {},
   "source": [
    "# NY Person Trip Predictor"
   ]
  },
  {
   "cell_type": "code",
   "execution_count": 1,
   "metadata": {},
   "outputs": [],
   "source": [
    "import pandas as pd\n",
    "import numpy as np\n",
    "import datetime\n",
    "import matplotlib.pyplot as plt\n",
    "import seaborn as sns\n",
    "%matplotlib inline\n",
    "from sklearn import model_selection\n",
    "import warnings\n",
    "import math\n",
    "\n",
    "warnings.filterwarnings('ignore')"
   ]
  },
  {
   "cell_type": "code",
   "execution_count": 2,
   "metadata": {},
   "outputs": [],
   "source": [
<<<<<<< HEAD
    "#path = \"C:/Users/Seant/Desktop/aml_data\" #edit this path to change to your path folder\n",
    "\n",
    "path = \"/Users/jayneteo/Dropbox/SMU MITB/Term 2 2021/AML/Project/NHTS/csv\" \n",
=======
    "path = \"C:/Users/Seant/Desktop/aml_data\" #edit this path to change to your path folder\n",
    "#path = \"/Users/weijilim/Downloads/csv\"\n",
    "#path = \"/Users/jayneteo/Dropbox/SMU MITB/Term 2 2021/AML/Project/NHTS/csv\" \n",
>>>>>>> 887b8b7d227b61825d01de448c637445f09f3deb
    "\n",
    "household = pd.read_csv(\"\".join([path,'/hhpub.csv']))\n",
    "person =  pd.read_csv(\"\".join([path,'/perpub.csv']))\n",
    "trip =  pd.read_csv(\"\".join([path,'/trippub.csv']))\n",
    "\n"
   ]
  },
  {
   "cell_type": "code",
   "execution_count": 3,
   "metadata": {},
   "outputs": [],
   "source": [
    "#for weiji checking\n",
    "#household = pd.read_csv('/Users/weijilim/Downloads/csv/hhpub.csv')\n",
    "#person =  pd.read_csv('/Users/weijilim/Downloads/csv//perpub.csv')\n",
    "#trip =  pd.read_csv('/Users/weijilim/Downloads/csv/trippub.csv')"
   ]
  },
  {
   "cell_type": "code",
   "execution_count": 4,
   "metadata": {},
   "outputs": [],
   "source": [
    "#define function \n",
    "\n",
    "def cat_col_prop(data, col):\n",
    "    print(pd.concat([data[col].value_counts(),\n",
    "          data[col].value_counts(normalize = True).mul(100)],axis = 1, keys = ('counts','percentage')))\n",
    "\n",
    "    sns.countplot(data[col], order =  data[col].value_counts().index)"
   ]
  },
  {
   "cell_type": "markdown",
   "metadata": {},
   "source": [
    "## Objective of Study"
   ]
  },
  {
   "cell_type": "code",
   "execution_count": 4,
   "metadata": {},
   "outputs": [],
   "source": [
    "ny = household[household['HHSTATE']==\"NY\"]\n",
    "ny = ny[ny['HHVEHCNT']>0]\n",
    "ny_trip = trip[trip['HOUSEID'].isin(ny['HOUSEID'])]\n",
    "nyorker = person[person['HOUSEID'].isin(ny['HOUSEID'])]"
   ]
  },
  {
   "cell_type": "code",
   "execution_count": 5,
   "metadata": {},
   "outputs": [
    {
     "name": "stdout",
     "output_type": "stream",
     "text": [
      "1411  out of  15636  ny household no trips recorded at all 9.024047070862114 %\n"
     ]
    }
   ],
   "source": [
    "# HOSEHOLD match\n",
    "\n",
    "ny_hh_trip = ny_trip[['HOUSEID','TDTRPNUM']].groupby(['HOUSEID']).count().reset_index()\n",
    "\n",
    "hh_check = ny[['HOUSEID']].merge(ny_hh_trip, how = 'left')\n",
    "\n",
    "hh_missing = sum(hh_check['TDTRPNUM'].isna())\n",
    "\n",
    "print(str(hh_missing), ' out of ',str(len(set(ny['HOUSEID']))),' ny household no trips recorded at all',str(hh_missing/len(set(ny['HOUSEID']))*100),'%')"
   ]
  },
  {
   "cell_type": "code",
   "execution_count": 6,
   "metadata": {},
   "outputs": [],
   "source": [
    "# Person  rate in household\n",
    "\n",
    "ny_trip_check = ny_trip[['HOUSEID','PERSONID','WHYTRP90']].groupby(['HOUSEID','PERSONID']).count().reset_index()\n",
    "ny_check = nyorker.merge(ny_trip_check, how = 'left', left_on=['HOUSEID','PERSONID'],right_on=['HOUSEID','PERSONID'])"
   ]
  },
  {
   "cell_type": "code",
   "execution_count": 7,
   "metadata": {},
   "outputs": [],
   "source": [
    "ny_check['WHYTRP90'][ny_check['WHYTRP90']>0] =1\n",
    "ny_check['WHYTRP90'][ny_check['WHYTRP90'].isna()] =0"
   ]
  },
  {
   "cell_type": "code",
   "execution_count": 8,
   "metadata": {},
   "outputs": [
    {
     "name": "stdout",
     "output_type": "stream",
     "text": [
      "of 32292  person info, 17.100210578471447 % did not provide any trip info\n"
     ]
    }
   ],
   "source": [
    "person_hitrate = sum(ny_check['WHYTRP90']==0)/ny_check.shape[0]*100\n",
    "\n",
    "print('of', str(ny_check.shape[0]),' person info,',str(person_hitrate),'% did not provide any trip info')\n"
   ]
  },
  {
   "cell_type": "code",
   "execution_count": 9,
   "metadata": {},
   "outputs": [
    {
     "name": "stdout",
     "output_type": "stream",
     "text": [
      "average percent of household members surveyed:  60.106623043559715 %\n"
     ]
    }
   ],
   "source": [
    "summ = ny_check[['HOUSEID','PERSONID','WHYTRP90']].groupby(['HOUSEID']).agg({'PERSONID':'sum',\n",
    "                                                                     'WHYTRP90':'sum'}).reset_index().rename(columns = {'WHYTRP90':'TRIP_COUNTED',\n",
    "                                                                                                                       'PERSONID':'HHSIZE'})\n",
    "summ['percent_trips'] = summ['TRIP_COUNTED']/summ['HHSIZE'] * 100\n",
    "\n",
    "print('average percent of household members surveyed: ',summ['percent_trips'].mean(),'%')"
   ]
  },
  {
   "cell_type": "code",
   "execution_count": 10,
   "metadata": {},
   "outputs": [
    {
     "data": {
      "text/plain": [
       "<matplotlib.axes._subplots.AxesSubplot at 0x2435bc1d448>"
      ]
     },
     "execution_count": 10,
     "metadata": {},
     "output_type": "execute_result"
    },
    {
     "data": {
      "image/png": "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\n",
      "text/plain": [
       "<Figure size 432x288 with 1 Axes>"
      ]
     },
     "metadata": {
      "needs_background": "light"
     },
     "output_type": "display_data"
    }
   ],
   "source": [
    "missing = ny_check[ny_check['WHYTRP90']==0]\n",
    "sns.histplot(missing['R_AGE'])"
   ]
  },
  {
   "cell_type": "markdown",
   "metadata": {},
   "source": [
    "### Goal is to create a predictive model to help predict and impute missing person trips in order to evaluate Household level trips "
   ]
  },
  {
   "cell_type": "markdown",
   "metadata": {},
   "source": [
    "## 1. Merging of Data"
   ]
  },
  {
   "cell_type": "markdown",
   "metadata": {},
   "source": [
    "### 1.1. Household"
   ]
  },
  {
   "cell_type": "code",
<<<<<<< HEAD
   "execution_count": 5,
=======
   "execution_count": 12,
>>>>>>> 887b8b7d227b61825d01de448c637445f09f3deb
   "metadata": {},
   "outputs": [],
   "source": [
    "#filtering NY Households\n",
    "ny = household[household['HHSTATE'] == \"NY\"]\n",
    "\n",
    "# as only studying hh with car will also filter out hh with HHVEHCNT == 0\n",
    "ny = ny[ny['HHVEHCNT']>0]"
   ]
  },
  {
   "cell_type": "code",
<<<<<<< HEAD
   "execution_count": 6,
=======
   "execution_count": 13,
>>>>>>> 887b8b7d227b61825d01de448c637445f09f3deb
   "metadata": {},
   "outputs": [],
   "source": [
    "# selection of columns based on prior background inference of potential features\n",
    "ny = ny[['HOUSEID','HH_CBSA','HOMEOWN','HHSIZE','HHVEHCNT','HHFAMINC','NUMADLT','YOUNGCHILD','WRKCOUNT','MSACAT','MSASIZE','URBAN','URBANSIZE','URBRUR','LIF_CYC']]"
   ]
  },
  {
   "cell_type": "markdown",
   "metadata": {},
   "source": [
    "### 1.2 Trips"
   ]
  },
  {
   "cell_type": "code",
<<<<<<< HEAD
   "execution_count": 7,
=======
   "execution_count": 14,
>>>>>>> 887b8b7d227b61825d01de448c637445f09f3deb
   "metadata": {},
   "outputs": [],
   "source": [
    "ny_trip = trip[trip['HOUSEID'].isin(ny['HOUSEID'])]"
   ]
  },
  {
   "cell_type": "code",
<<<<<<< HEAD
   "execution_count": 8,
=======
   "execution_count": 15,
>>>>>>> 887b8b7d227b61825d01de448c637445f09f3deb
   "metadata": {},
   "outputs": [],
   "source": [
    "# selecting trips that were done using either 3.Car, 4.SUV, 5.Van\n",
    "ny_trip = ny_trip[ny_trip['TRPTRANS'].isin([3,4,5])]"
   ]
  },
  {
   "cell_type": "code",
<<<<<<< HEAD
   "execution_count": 9,
=======
   "execution_count": 16,
>>>>>>> 887b8b7d227b61825d01de448c637445f09f3deb
   "metadata": {},
   "outputs": [
    {
     "name": "stdout",
     "output_type": "stream",
     "text": [
      "# of trips with dist <=0, 22  out of 87307\n"
     ]
    }
   ],
   "source": [
    "# since only 24 lines with trip distance <= 0, removed lines\n",
    "print('# of trips with dist <=0,', str(sum(ny_trip['TRPMILES']<=0)),' out of', str(len(ny_trip)))\n",
    "ny_trip = ny_trip[ny_trip['TRPMILES']>0]"
   ]
  },
  {
   "cell_type": "code",
<<<<<<< HEAD
   "execution_count": 10,
=======
   "execution_count": 17,
>>>>>>> 887b8b7d227b61825d01de448c637445f09f3deb
   "metadata": {},
   "outputs": [
    {
     "name": "stdout",
     "output_type": "stream",
     "text": [
      "84  trips missing TRVLCMIN info so will just remove since only  0.09623646674686373 %\n"
     ]
    }
   ],
   "source": [
    "print(str(sum(ny_trip['TRVLCMIN']<=0)), ' trips missing TRVLCMIN info so will just remove since only ',str(sum(ny_trip['TRVLCMIN']<=0)/len(ny_trip)*100),\"%\")\n",
    "ny_trip = ny_trip[ny_trip['TRVLCMIN']>0]"
   ]
  },
  {
   "cell_type": "code",
<<<<<<< HEAD
   "execution_count": 11,
=======
   "execution_count": 18,
>>>>>>> 887b8b7d227b61825d01de448c637445f09f3deb
   "metadata": {},
   "outputs": [
    {
     "data": {
<<<<<<< HEAD
      "image/png": "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\n",
=======
      "image/png": "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\n",
>>>>>>> 887b8b7d227b61825d01de448c637445f09f3deb
      "text/plain": [
       "<Figure size 432x288 with 1 Axes>"
      ]
     },
     "metadata": {
      "needs_background": "light"
     },
     "output_type": "display_data"
    }
   ],
   "source": [
    "#Remove outlier trip miles\n",
    "sns.histplot(ny_trip['TRPMILES'])\n",
    "#ny_trip = ny_trip[ny_trip['TRPMILES']<40]\n",
    "ny_trip = ny_trip[ny_trip['TRPMILES']<100]"
   ]
  },
  {
   "cell_type": "code",
<<<<<<< HEAD
   "execution_count": 12,
=======
   "execution_count": 19,
>>>>>>> 887b8b7d227b61825d01de448c637445f09f3deb
   "metadata": {},
   "outputs": [],
   "source": [
    "# Summarise to Person trip counts \n",
    "ny_trip_count = ny_trip[['HOUSEID','PERSONID','TRAVDAY']].groupby(['HOUSEID','PERSONID']).agg('count').reset_index().rename(columns = {'TRAVDAY':'n_trips'})"
   ]
  },
  {
   "cell_type": "code",
<<<<<<< HEAD
   "execution_count": 13,
=======
   "execution_count": 20,
>>>>>>> 887b8b7d227b61825d01de448c637445f09f3deb
   "metadata": {},
   "outputs": [
    {
     "data": {
      "text/html": [
       "<div>\n",
       "<style scoped>\n",
       "    .dataframe tbody tr th:only-of-type {\n",
       "        vertical-align: middle;\n",
       "    }\n",
       "\n",
       "    .dataframe tbody tr th {\n",
       "        vertical-align: top;\n",
       "    }\n",
       "\n",
       "    .dataframe thead th {\n",
       "        text-align: right;\n",
       "    }\n",
       "</style>\n",
       "<table border=\"1\" class=\"dataframe\">\n",
       "  <thead>\n",
       "    <tr style=\"text-align: right;\">\n",
       "      <th></th>\n",
       "      <th>HOUSEID</th>\n",
       "      <th>PERSONID</th>\n",
       "      <th>n_trips</th>\n",
       "    </tr>\n",
       "  </thead>\n",
       "  <tbody>\n",
       "    <tr>\n",
       "      <th>0</th>\n",
       "      <td>30000012</td>\n",
       "      <td>1</td>\n",
       "      <td>9</td>\n",
       "    </tr>\n",
       "    <tr>\n",
       "      <th>1</th>\n",
       "      <td>30000082</td>\n",
       "      <td>1</td>\n",
       "      <td>5</td>\n",
       "    </tr>\n",
       "    <tr>\n",
       "      <th>2</th>\n",
       "      <td>30000082</td>\n",
       "      <td>2</td>\n",
       "      <td>5</td>\n",
       "    </tr>\n",
       "    <tr>\n",
       "      <th>3</th>\n",
       "      <td>30000380</td>\n",
       "      <td>1</td>\n",
       "      <td>3</td>\n",
       "    </tr>\n",
       "    <tr>\n",
       "      <th>4</th>\n",
       "      <td>30000380</td>\n",
       "      <td>2</td>\n",
       "      <td>8</td>\n",
       "    </tr>\n",
       "  </tbody>\n",
       "</table>\n",
       "</div>"
      ],
      "text/plain": [
       "    HOUSEID  PERSONID  n_trips\n",
       "0  30000012         1        9\n",
       "1  30000082         1        5\n",
       "2  30000082         2        5\n",
       "3  30000380         1        3\n",
       "4  30000380         2        8"
      ]
     },
<<<<<<< HEAD
     "execution_count": 13,
=======
     "execution_count": 20,
>>>>>>> 887b8b7d227b61825d01de448c637445f09f3deb
     "metadata": {},
     "output_type": "execute_result"
    }
   ],
   "source": [
    "ny_trip_count.head()"
   ]
  },
  {
   "cell_type": "code",
<<<<<<< HEAD
   "execution_count": 14,
   "metadata": {},
   "outputs": [
    {
     "data": {
      "text/plain": [
       "3     20107\n",
       "10    17647\n",
       "4     16164\n",
       "1     14051\n",
       "8      6467\n",
       "5      5381\n",
       "6      2746\n",
       "11     2595\n",
       "2      1257\n",
       "99       22\n",
       "Name: WHYTRP90, dtype: int64"
      ]
     },
     "execution_count": 14,
     "metadata": {},
     "output_type": "execute_result"
    }
   ],
   "source": [
    "trips_data = ny_trip[['HOUSEID','PERSONID','WHYTRP90','TRPMILES']]\n",
    "trips_data['WHYTRP90'].value_counts()\n",
    "\n",
    "# top why trips are [3,10,4,1,,8,5]"
   ]
  },
  {
   "cell_type": "code",
   "execution_count": 15,
   "metadata": {},
   "outputs": [],
   "source": [
    "trips_data =trips_data[trips_data['WHYTRP90'].isin([1,10,4,3,8,5])]"
   ]
  },
  {
   "cell_type": "code",
   "execution_count": 16,
   "metadata": {},
   "outputs": [
    {
     "name": "stdout",
     "output_type": "stream",
     "text": [
      "               counts  percentage\n",
      "(-0.001, 1.0]   24049   30.130173\n",
      "(2.0, 5.0]      16890   21.160906\n",
      "(5.0, 11.0]     14795   18.536151\n",
      "(11.0, 99.0]    14614   18.309383\n",
      "(1.0, 2.0]       9469   11.863387\n"
     ]
    },
    {
     "data": {
      "image/png": "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\n",
      "text/plain": [
       "<Figure size 432x288 with 1 Axes>"
      ]
     },
     "metadata": {
      "needs_background": "light"
     },
     "output_type": "display_data"
    }
   ],
   "source": [
    "trips_data['round_dist']= trips_data['TRPMILES'].apply(lambda x: math.floor(x))\n",
    "trips_data['trip_dist'] = pd.qcut(trips_data['round_dist'],5)\n",
    "cat_col_prop(trips_data,'trip_dist')"
   ]
  },
  {
   "cell_type": "code",
   "execution_count": 17,
   "metadata": {},
   "outputs": [],
   "source": [
    "trip_summary = trips_data[['HOUSEID','PERSONID','WHYTRP90','trip_dist']].groupby(['HOUSEID','PERSONID','WHYTRP90'])['trip_dist'].apply(pd.Series.mode).reset_index()\n",
    "trip_summary['max_dist'] = trip_summary['trip_dist'].apply(lambda x: x.right)"
   ]
  },
  {
   "cell_type": "code",
   "execution_count": 18,
   "metadata": {},
   "outputs": [],
   "source": [
    "trip_summary = trip_summary[trip_summary.groupby(['HOUSEID','PERSONID','WHYTRP90'])['max_dist'].transform(max) == trip_summary['max_dist']]\n",
    "\n",
    "trip_summary = trip_summary[['HOUSEID','PERSONID','WHYTRP90','trip_dist']]\n"
   ]
  },
  {
   "cell_type": "code",
   "execution_count": 19,
   "metadata": {},
   "outputs": [],
   "source": [
    "pivoted = trip_summary.pivot(index = ['HOUSEID','PERSONID'],\n",
    "                  columns = 'WHYTRP90',\n",
    "                  values = 'trip_dist')\n",
    "\n",
    "trip_why_common = pd.DataFrame(pivoted.to_records()).rename(columns = {'1':'dist_to_work',\n",
    "                                                       '3':'dist_to_shopping',\n",
    "                                                        '4':'dist_to_family',\n",
    "                                                       '5':'dist_to_school_or_church',\n",
    "                                                        '8': 'dist_to_relatives',\n",
    "                                                        '10':'dist_to_social'})\n"
   ]
  },
  {
   "cell_type": "code",
   "execution_count": 20,
   "metadata": {},
   "outputs": [],
   "source": [
    "ny_trip_count = ny_trip_count.merge(trip_why_common, how = 'left',left_on = ['HOUSEID','PERSONID'],right_on = ['HOUSEID','PERSONID'])"
   ]
  },
  {
   "cell_type": "markdown",
=======
   "execution_count": 21,
>>>>>>> 887b8b7d227b61825d01de448c637445f09f3deb
   "metadata": {},
   "outputs": [
    {
     "data": {
      "text/plain": [
       "3     20107\n",
       "10    17647\n",
       "4     16164\n",
       "1     14051\n",
       "8      6467\n",
       "5      5381\n",
       "6      2746\n",
       "11     2595\n",
       "2      1257\n",
       "99       22\n",
       "Name: WHYTRP90, dtype: int64"
      ]
     },
     "execution_count": 21,
     "metadata": {},
     "output_type": "execute_result"
    }
   ],
   "source": [
    "trips_data = ny_trip[['HOUSEID','PERSONID','WHYTRP90','TRPMILES']]\n",
    "trips_data['WHYTRP90'].value_counts()\n",
    "\n",
    "# top why trips are [3,10,4,1,,8,5]"
   ]
  },
  {
   "cell_type": "code",
<<<<<<< HEAD
   "execution_count": 21,
=======
   "execution_count": 22,
>>>>>>> 887b8b7d227b61825d01de448c637445f09f3deb
   "metadata": {},
   "outputs": [],
   "source": [
    "trips_data =trips_data[trips_data['WHYTRP90'].isin([1,10,4,3,8,5])]"
   ]
  },
  {
   "cell_type": "code",
<<<<<<< HEAD
   "execution_count": 22,
=======
   "execution_count": 23,
>>>>>>> 887b8b7d227b61825d01de448c637445f09f3deb
   "metadata": {},
   "outputs": [
    {
     "name": "stdout",
     "output_type": "stream",
     "text": [
      "               counts  percentage\n",
      "(-0.001, 1.0]   24049   30.130173\n",
      "(2.0, 5.0]      16890   21.160906\n",
      "(5.0, 11.0]     14795   18.536151\n",
      "(11.0, 99.0]    14614   18.309383\n",
      "(1.0, 2.0]       9469   11.863387\n"
     ]
    },
    {
     "data": {
      "image/png": "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\n",
      "text/plain": [
       "<Figure size 432x288 with 1 Axes>"
      ]
     },
     "metadata": {
      "needs_background": "light"
     },
     "output_type": "display_data"
    }
   ],
   "source": [
    "trips_data['round_dist']= trips_data['TRPMILES'].apply(lambda x: math.floor(x))\n",
    "trips_data['trip_dist'] = pd.qcut(trips_data['round_dist'],5)\n",
    "cat_col_prop(trips_data,'trip_dist')"
   ]
  },
  {
   "cell_type": "code",
<<<<<<< HEAD
   "execution_count": 23,
   "metadata": {},
   "outputs": [],
   "source": [
    "# merging of Person, Household and Trips to Person\n",
    "df= nyorker.merge(ny_trip_count, how = 'left', left_on = ['HOUSEID','PERSONID'],right_on = ['HOUSEID','PERSONID'])\n",
    "df = df.merge(ny, how = 'left', left_on = 'HOUSEID', right_on = 'HOUSEID')"
=======
   "execution_count": 24,
   "metadata": {},
   "outputs": [],
   "source": [
    "trip_summary = trips_data[['HOUSEID','PERSONID','WHYTRP90','trip_dist']].groupby(['HOUSEID','PERSONID','WHYTRP90'])['trip_dist'].apply(pd.Series.mode).reset_index()\n",
    "trip_summary['max_dist'] = trip_summary['trip_dist'].apply(lambda x: x.right)"
>>>>>>> 887b8b7d227b61825d01de448c637445f09f3deb
   ]
  },
  {
   "cell_type": "code",
<<<<<<< HEAD
   "execution_count": null,
=======
   "execution_count": 25,
>>>>>>> 887b8b7d227b61825d01de448c637445f09f3deb
   "metadata": {},
   "outputs": [],
   "source": []
  },
  {
   "cell_type": "code",
   "execution_count": 24,
   "metadata": {},
   "outputs": [
    {
     "data": {
      "image/png": "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\n",
      "text/plain": [
       "<Figure size 432x288 with 1 Axes>"
      ]
     },
     "metadata": {
      "needs_background": "light"
     },
     "output_type": "display_data"
    }
   ],
   "source": [
<<<<<<< HEAD
    "# Replace NA trip counts with 0\n",
    "sns.histplot(df['n_trips'])\n",
    "df['n_trips'][df['n_trips'].isna()] = 0\n",
    "#df = df[df['n_trips']>0]\n",
    "df = df[df['n_trips']<10]"
=======
    "trip_summary = trip_summary[trip_summary.groupby(['HOUSEID','PERSONID','WHYTRP90'])['max_dist'].transform(max) == trip_summary['max_dist']]\n",
    "\n",
    "trip_summary = trip_summary[['HOUSEID','PERSONID','WHYTRP90','trip_dist']]\n"
>>>>>>> 887b8b7d227b61825d01de448c637445f09f3deb
   ]
  },
  {
   "cell_type": "code",
<<<<<<< HEAD
   "execution_count": 25,
   "metadata": {},
   "outputs": [
    {
     "data": {
      "text/plain": [
       "['HOUSEID',\n",
       " 'PERSONID',\n",
       " 'R_AGE',\n",
       " 'EDUC',\n",
       " 'R_RACE',\n",
       " 'R_SEX',\n",
       " 'WRK_HOME',\n",
       " 'WKFTPT',\n",
       " 'OCCAT',\n",
       " 'DRIVER',\n",
       " 'TRAVDAY',\n",
       " 'n_trips',\n",
       " 'dist_to_work',\n",
       " 'dist_to_shopping',\n",
       " 'dist_to_family',\n",
       " 'dist_to_school_or_church',\n",
       " 'dist_to_relatives',\n",
       " 'dist_to_social',\n",
       " 'HH_CBSA',\n",
       " 'HOMEOWN',\n",
       " 'HHSIZE',\n",
       " 'HHVEHCNT',\n",
       " 'HHFAMINC',\n",
       " 'NUMADLT',\n",
       " 'YOUNGCHILD',\n",
       " 'WRKCOUNT',\n",
       " 'MSACAT',\n",
       " 'MSASIZE',\n",
       " 'URBAN',\n",
       " 'URBANSIZE',\n",
       " 'URBRUR',\n",
       " 'LIF_CYC']"
      ]
     },
     "execution_count": 25,
     "metadata": {},
     "output_type": "execute_result"
    }
   ],
=======
   "execution_count": 26,
   "metadata": {},
   "outputs": [],
>>>>>>> 887b8b7d227b61825d01de448c637445f09f3deb
   "source": [
    "pivoted = trip_summary.pivot(index = ['HOUSEID','PERSONID'],\n",
    "                  columns = 'WHYTRP90',\n",
    "                  values = 'trip_dist')\n",
    "\n",
    "trip_why_common = pd.DataFrame(pivoted.to_records()).rename(columns = {'1':'dist_to_work',\n",
    "                                                       '3':'dist_to_shopping',\n",
    "                                                        '4':'dist_to_family',\n",
    "                                                       '5':'dist_to_school_or_church',\n",
    "                                                        '8': 'dist_to_relatives',\n",
    "                                                        '10':'dist_to_social'})\n"
   ]
  },
  {
   "cell_type": "code",
<<<<<<< HEAD
   "execution_count": 26,
   "metadata": {},
   "outputs": [
    {
     "data": {
      "text/plain": [
       "(31782, 32)"
      ]
     },
     "execution_count": 26,
     "metadata": {},
     "output_type": "execute_result"
    }
   ],
=======
   "execution_count": 27,
   "metadata": {},
   "outputs": [],
>>>>>>> 887b8b7d227b61825d01de448c637445f09f3deb
   "source": [
    "ny_trip_count = ny_trip_count.merge(trip_why_common, how = 'left',left_on = ['HOUSEID','PERSONID'],right_on = ['HOUSEID','PERSONID'])"
   ]
  },
  {
   "cell_type": "markdown",
   "metadata": {},
   "source": [
    "## 1.3 People"
   ]
  },
  {
   "cell_type": "code",
   "execution_count": 28,
   "metadata": {},
   "outputs": [],
   "source": [
    "# filtering people from New York\n",
    "nyorker = person[person['HOUSEID'].isin(ny['HOUSEID'])]"
   ]
  },
  {
   "cell_type": "code",
<<<<<<< HEAD
   "execution_count": 27,
=======
   "execution_count": 29,
>>>>>>> 887b8b7d227b61825d01de448c637445f09f3deb
   "metadata": {},
   "outputs": [],
   "source": [
    "# selection of columns based on prior background inference of potential features\n",
    "nyorker = nyorker[['HOUSEID','PERSONID','R_AGE','EDUC','R_RACE','R_SEX','WRK_HOME','WKFTPT','OCCAT','DRIVER','TRAVDAY']]"
   ]
  },
  {
   "cell_type": "code",
<<<<<<< HEAD
   "execution_count": 28,
   "metadata": {},
   "outputs": [
    {
     "name": "stdout",
     "output_type": "stream",
     "text": [
      "<class 'pandas.core.frame.DataFrame'>\n",
      "Int64Index: 25425 entries, 19406 to 10938\n",
      "Data columns (total 29 columns):\n",
      " #   Column                    Non-Null Count  Dtype            \n",
      "---  ------                    --------------  -----            \n",
      " 0   R_AGE                     25425 non-null  int64            \n",
      " 1   EDUC                      25425 non-null  int64            \n",
      " 2   R_RACE                    25425 non-null  int64            \n",
      " 3   R_SEX                     25425 non-null  int64            \n",
      " 4   WRK_HOME                  25425 non-null  int64            \n",
      " 5   WKFTPT                    25425 non-null  int64            \n",
      " 6   OCCAT                     25425 non-null  int64            \n",
      " 7   DRIVER                    25425 non-null  int64            \n",
      " 8   TRAVDAY                   25425 non-null  int64            \n",
      " 9   dist_to_work              5541 non-null   interval[float64]\n",
      " 10  dist_to_shopping          7272 non-null   interval[float64]\n",
      " 11  dist_to_family            5551 non-null   interval[float64]\n",
      " 12  dist_to_school_or_church  2291 non-null   interval[float64]\n",
      " 13  dist_to_relatives         2679 non-null   interval[float64]\n",
      " 14  dist_to_social            6676 non-null   interval[float64]\n",
      " 15  HH_CBSA                   25425 non-null  object           \n",
      " 16  HOMEOWN                   25425 non-null  int64            \n",
      " 17  HHSIZE                    25425 non-null  int64            \n",
      " 18  HHVEHCNT                  25425 non-null  int64            \n",
      " 19  HHFAMINC                  25425 non-null  int64            \n",
      " 20  NUMADLT                   25425 non-null  int64            \n",
      " 21  YOUNGCHILD                25425 non-null  int64            \n",
      " 22  WRKCOUNT                  25425 non-null  int64            \n",
      " 23  MSACAT                    25425 non-null  int64            \n",
      " 24  MSASIZE                   25425 non-null  int64            \n",
      " 25  URBAN                     25425 non-null  int64            \n",
      " 26  URBANSIZE                 25425 non-null  int64            \n",
      " 27  URBRUR                    25425 non-null  int64            \n",
      " 28  LIF_CYC                   25425 non-null  int64            \n",
      "dtypes: int64(22), interval(6), object(1)\n",
      "memory usage: 7.0+ MB\n"
     ]
=======
   "execution_count": 30,
   "metadata": {},
   "outputs": [
    {
     "data": {
      "text/html": [
       "<div>\n",
       "<style scoped>\n",
       "    .dataframe tbody tr th:only-of-type {\n",
       "        vertical-align: middle;\n",
       "    }\n",
       "\n",
       "    .dataframe tbody tr th {\n",
       "        vertical-align: top;\n",
       "    }\n",
       "\n",
       "    .dataframe thead th {\n",
       "        text-align: right;\n",
       "    }\n",
       "</style>\n",
       "<table border=\"1\" class=\"dataframe\">\n",
       "  <thead>\n",
       "    <tr style=\"text-align: right;\">\n",
       "      <th></th>\n",
       "      <th>HOUSEID</th>\n",
       "      <th>PERSONID</th>\n",
       "      <th>n_trips</th>\n",
       "      <th>dist_to_work</th>\n",
       "      <th>dist_to_shopping</th>\n",
       "      <th>dist_to_family</th>\n",
       "      <th>dist_to_school_or_church</th>\n",
       "      <th>dist_to_relatives</th>\n",
       "      <th>dist_to_social</th>\n",
       "    </tr>\n",
       "  </thead>\n",
       "  <tbody>\n",
       "    <tr>\n",
       "      <th>0</th>\n",
       "      <td>30000012</td>\n",
       "      <td>1</td>\n",
       "      <td>9</td>\n",
       "      <td>(5.0, 11.0]</td>\n",
       "      <td>NaN</td>\n",
       "      <td>NaN</td>\n",
       "      <td>NaN</td>\n",
       "      <td>(11.0, 99.0]</td>\n",
       "      <td>(2.0, 5.0]</td>\n",
       "    </tr>\n",
       "    <tr>\n",
       "      <th>1</th>\n",
       "      <td>30000082</td>\n",
       "      <td>1</td>\n",
       "      <td>5</td>\n",
       "      <td>(1.0, 2.0]</td>\n",
       "      <td>NaN</td>\n",
       "      <td>(1.0, 2.0]</td>\n",
       "      <td>NaN</td>\n",
       "      <td>NaN</td>\n",
       "      <td>(-0.001, 1.0]</td>\n",
       "    </tr>\n",
       "    <tr>\n",
       "      <th>2</th>\n",
       "      <td>30000082</td>\n",
       "      <td>2</td>\n",
       "      <td>5</td>\n",
       "      <td>NaN</td>\n",
       "      <td>(1.0, 2.0]</td>\n",
       "      <td>NaN</td>\n",
       "      <td>NaN</td>\n",
       "      <td>NaN</td>\n",
       "      <td>(11.0, 99.0]</td>\n",
       "    </tr>\n",
       "    <tr>\n",
       "      <th>3</th>\n",
       "      <td>30000380</td>\n",
       "      <td>1</td>\n",
       "      <td>3</td>\n",
       "      <td>NaN</td>\n",
       "      <td>(1.0, 2.0]</td>\n",
       "      <td>NaN</td>\n",
       "      <td>NaN</td>\n",
       "      <td>NaN</td>\n",
       "      <td>NaN</td>\n",
       "    </tr>\n",
       "    <tr>\n",
       "      <th>4</th>\n",
       "      <td>30000380</td>\n",
       "      <td>2</td>\n",
       "      <td>8</td>\n",
       "      <td>(-0.001, 1.0]</td>\n",
       "      <td>(1.0, 2.0]</td>\n",
       "      <td>NaN</td>\n",
       "      <td>NaN</td>\n",
       "      <td>NaN</td>\n",
       "      <td>NaN</td>\n",
       "    </tr>\n",
       "    <tr>\n",
       "      <th>...</th>\n",
       "      <td>...</td>\n",
       "      <td>...</td>\n",
       "      <td>...</td>\n",
       "      <td>...</td>\n",
       "      <td>...</td>\n",
       "      <td>...</td>\n",
       "      <td>...</td>\n",
       "      <td>...</td>\n",
       "      <td>...</td>\n",
       "    </tr>\n",
       "    <tr>\n",
       "      <th>22054</th>\n",
       "      <td>40793808</td>\n",
       "      <td>1</td>\n",
       "      <td>2</td>\n",
       "      <td>NaN</td>\n",
       "      <td>NaN</td>\n",
       "      <td>NaN</td>\n",
       "      <td>NaN</td>\n",
       "      <td>NaN</td>\n",
       "      <td>(2.0, 5.0]</td>\n",
       "    </tr>\n",
       "    <tr>\n",
       "      <th>22055</th>\n",
       "      <td>40793808</td>\n",
       "      <td>2</td>\n",
       "      <td>9</td>\n",
       "      <td>NaN</td>\n",
       "      <td>(2.0, 5.0]</td>\n",
       "      <td>(2.0, 5.0]</td>\n",
       "      <td>NaN</td>\n",
       "      <td>NaN</td>\n",
       "      <td>(1.0, 2.0]</td>\n",
       "    </tr>\n",
       "    <tr>\n",
       "      <th>22056</th>\n",
       "      <td>40793808</td>\n",
       "      <td>3</td>\n",
       "      <td>5</td>\n",
       "      <td>NaN</td>\n",
       "      <td>(2.0, 5.0]</td>\n",
       "      <td>NaN</td>\n",
       "      <td>NaN</td>\n",
       "      <td>NaN</td>\n",
       "      <td>(-0.001, 1.0]</td>\n",
       "    </tr>\n",
       "    <tr>\n",
       "      <th>22057</th>\n",
       "      <td>40793974</td>\n",
       "      <td>1</td>\n",
       "      <td>7</td>\n",
       "      <td>NaN</td>\n",
       "      <td>(5.0, 11.0]</td>\n",
       "      <td>NaN</td>\n",
       "      <td>NaN</td>\n",
       "      <td>(2.0, 5.0]</td>\n",
       "      <td>(2.0, 5.0]</td>\n",
       "    </tr>\n",
       "    <tr>\n",
       "      <th>22058</th>\n",
       "      <td>40794020</td>\n",
       "      <td>2</td>\n",
       "      <td>3</td>\n",
       "      <td>NaN</td>\n",
       "      <td>(2.0, 5.0]</td>\n",
       "      <td>NaN</td>\n",
       "      <td>NaN</td>\n",
       "      <td>NaN</td>\n",
       "      <td>NaN</td>\n",
       "    </tr>\n",
       "  </tbody>\n",
       "</table>\n",
       "<p>22059 rows × 9 columns</p>\n",
       "</div>"
      ],
      "text/plain": [
       "        HOUSEID  PERSONID  n_trips   dist_to_work dist_to_shopping  \\\n",
       "0      30000012         1        9    (5.0, 11.0]              NaN   \n",
       "1      30000082         1        5     (1.0, 2.0]              NaN   \n",
       "2      30000082         2        5            NaN       (1.0, 2.0]   \n",
       "3      30000380         1        3            NaN       (1.0, 2.0]   \n",
       "4      30000380         2        8  (-0.001, 1.0]       (1.0, 2.0]   \n",
       "...         ...       ...      ...            ...              ...   \n",
       "22054  40793808         1        2            NaN              NaN   \n",
       "22055  40793808         2        9            NaN       (2.0, 5.0]   \n",
       "22056  40793808         3        5            NaN       (2.0, 5.0]   \n",
       "22057  40793974         1        7            NaN      (5.0, 11.0]   \n",
       "22058  40794020         2        3            NaN       (2.0, 5.0]   \n",
       "\n",
       "      dist_to_family dist_to_school_or_church dist_to_relatives dist_to_social  \n",
       "0                NaN                      NaN      (11.0, 99.0]     (2.0, 5.0]  \n",
       "1         (1.0, 2.0]                      NaN               NaN  (-0.001, 1.0]  \n",
       "2                NaN                      NaN               NaN   (11.0, 99.0]  \n",
       "3                NaN                      NaN               NaN            NaN  \n",
       "4                NaN                      NaN               NaN            NaN  \n",
       "...              ...                      ...               ...            ...  \n",
       "22054            NaN                      NaN               NaN     (2.0, 5.0]  \n",
       "22055     (2.0, 5.0]                      NaN               NaN     (1.0, 2.0]  \n",
       "22056            NaN                      NaN               NaN  (-0.001, 1.0]  \n",
       "22057            NaN                      NaN        (2.0, 5.0]     (2.0, 5.0]  \n",
       "22058            NaN                      NaN               NaN            NaN  \n",
       "\n",
       "[22059 rows x 9 columns]"
      ]
     },
     "execution_count": 30,
     "metadata": {},
     "output_type": "execute_result"
>>>>>>> 887b8b7d227b61825d01de448c637445f09f3deb
    }
   ],
   "source": [
    "ny_trip_count"
   ]
  },
  {
   "cell_type": "code",
   "execution_count": 31,
   "metadata": {},
   "outputs": [],
   "source": [
    "# merging of Person, Household and Trips to Person\n",
    "df= nyorker.merge(ny_trip_count, how = 'left', left_on = ['HOUSEID','PERSONID'],right_on = ['HOUSEID','PERSONID'])\n",
    "df = df.merge(ny, how = 'left', left_on = 'HOUSEID', right_on = 'HOUSEID')"
   ]
  },
  {
   "cell_type": "code",
<<<<<<< HEAD
   "execution_count": 29,
   "metadata": {},
   "outputs": [
    {
     "name": "stdout",
     "output_type": "stream",
     "text": [
      "65 count of people with no age.  0.00029519289720475033 %.\n"
     ]
    },
    {
     "data": {
      "image/png": "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\n",
=======
   "execution_count": 32,
   "metadata": {},
   "outputs": [
    {
     "data": {
      "image/png": "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\n",
>>>>>>> 887b8b7d227b61825d01de448c637445f09f3deb
      "text/plain": [
       "<Figure size 432x288 with 1 Axes>"
      ]
     },
     "metadata": {
      "needs_background": "light"
     },
     "output_type": "display_data"
    }
   ],
   "source": [
<<<<<<< HEAD
    "print(str(sum(x_train['R_AGE']<0)), \"count of people with no age. \",str(sum(nyorker['R_AGE']<0)/person.shape[0]),\"%.\")\n",
    "\n",
    "sns.histplot(x_train['R_AGE'])\n",
    "\n",
    "# impute missing values (<0) with mean age\n",
    "mean_age = round(x_train['R_AGE'][x_train['R_AGE']>0].mean())\n",
    "x_train['R_AGE'][x_train['R_AGE']<0] = mean_age\n",
    "x_test['R_AGE'][x_test['R_AGE']<0] = mean_age"
   ]
  },
  {
   "cell_type": "code",
   "execution_count": 30,
   "metadata": {},
   "outputs": [],
   "source": [
    "x_train['AGE_bins']= 'NA'\n",
    "x_train.loc[x_train['R_AGE'].between(5,15,inclusive = True), 'AGE_bins'] = \"5_to_15\"\n",
    "x_train.loc[x_train['R_AGE'].between(16,25,inclusive = True), 'AGE_bins'] = \"16_to_25\"\n",
    "x_train.loc[x_train['R_AGE'].between(26,35,inclusive = True), 'AGE_bins'] = \"26_to_35\"\n",
    "x_train.loc[x_train['R_AGE'].between(36,45,inclusive = True), 'AGE_bins'] = \"36_to_45\"\n",
    "x_train.loc[x_train['R_AGE'].between(46,55,inclusive = True), 'AGE_bins'] = \"46_to_55\"\n",
    "x_train.loc[x_train['R_AGE'].between(56,65,inclusive = True), 'AGE_bins'] = \"56_to_65\"\n",
    "x_train.loc[x_train['R_AGE'].between(66,75,inclusive = True), 'AGE_bins'] = \"66_to_75\"\n",
    "x_train.loc[x_train['R_AGE']>75, 'AGE_bins'] = \"more_than_75\"\n",
    "\n",
    "x_test['AGE_bins']= 'NA'\n",
    "x_test.loc[x_test['R_AGE'].between(5,15,inclusive = True), 'AGE_bins'] = \"5_to_15\"\n",
    "x_test.loc[x_test['R_AGE'].between(16,25,inclusive = True), 'AGE_bins'] = \"16_to_25\"\n",
    "x_test.loc[x_test['R_AGE'].between(26,35,inclusive = True), 'AGE_bins'] = \"26_to_35\"\n",
    "x_test.loc[x_test['R_AGE'].between(36,45,inclusive = True), 'AGE_bins'] = \"36_to_45\"\n",
    "x_test.loc[x_test['R_AGE'].between(46,55,inclusive = True), 'AGE_bins'] = \"46_to_55\"\n",
    "x_test.loc[x_test['R_AGE'].between(56,65,inclusive = True), 'AGE_bins'] = \"56_to_65\"\n",
    "x_test.loc[x_test['R_AGE'].between(66,75,inclusive = True), 'AGE_bins'] = \"66_to_75\"\n",
    "x_test.loc[x_test['R_AGE']>75, 'AGE_bins'] = \"more_than_75\"\n"
=======
    "# Replace NA trip counts with 0\n",
    "sns.histplot(df['n_trips'])\n",
    "df['n_trips'][df['n_trips'].isna()] = 0\n",
    "#df = df[df['n_trips']>0]\n",
    "df = df[df['n_trips']<10]"
>>>>>>> 887b8b7d227b61825d01de448c637445f09f3deb
   ]
  },
  {
   "cell_type": "code",
<<<<<<< HEAD
   "execution_count": 31,
   "metadata": {},
   "outputs": [
    {
     "name": "stdout",
     "output_type": "stream",
     "text": [
      "              counts  percentage\n",
      "56_to_65        5534   21.765978\n",
      "66_to_75        4356   17.132743\n",
      "46_to_55        3724   14.647001\n",
      "5_to_15         2491    9.797443\n",
      "26_to_35        2466    9.699115\n",
      "36_to_45        2436    9.581121\n",
      "more_than_75    2322    9.132743\n",
      "16_to_25        2096    8.243854\n"
     ]
    },
    {
     "data": {
      "image/png": "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\n",
=======
   "execution_count": 33,
   "metadata": {},
   "outputs": [
    {
     "data": {
>>>>>>> 887b8b7d227b61825d01de448c637445f09f3deb
      "text/plain": [
       "['HOUSEID',\n",
       " 'PERSONID',\n",
       " 'R_AGE',\n",
       " 'EDUC',\n",
       " 'R_RACE',\n",
       " 'R_SEX',\n",
       " 'WRK_HOME',\n",
       " 'WKFTPT',\n",
       " 'OCCAT',\n",
       " 'DRIVER',\n",
       " 'TRAVDAY',\n",
       " 'n_trips',\n",
       " 'dist_to_work',\n",
       " 'dist_to_shopping',\n",
       " 'dist_to_family',\n",
       " 'dist_to_school_or_church',\n",
       " 'dist_to_relatives',\n",
       " 'dist_to_social',\n",
       " 'HH_CBSA',\n",
       " 'HOMEOWN',\n",
       " 'HHSIZE',\n",
       " 'HHVEHCNT',\n",
       " 'HHFAMINC',\n",
       " 'NUMADLT',\n",
       " 'YOUNGCHILD',\n",
       " 'WRKCOUNT',\n",
       " 'MSACAT',\n",
       " 'MSASIZE',\n",
       " 'URBAN',\n",
       " 'URBANSIZE',\n",
       " 'URBRUR',\n",
       " 'LIF_CYC']"
      ]
     },
     "execution_count": 33,
     "metadata": {},
     "output_type": "execute_result"
    }
   ],
   "source": [
    "[c for c in df]"
   ]
  },
  {
   "cell_type": "code",
<<<<<<< HEAD
   "execution_count": 32,
   "metadata": {},
   "outputs": [
    {
     "name": "stdout",
     "output_type": "stream",
     "text": [
      "    counts  percentage\n",
      " 3    6293   24.751229\n",
      " 5    5612   22.072763\n",
      " 2    4965   19.528024\n",
      " 4    4870   19.154376\n",
      "-1    2002    7.874140\n",
      " 1    1668    6.560472\n",
      "-7      10    0.039331\n",
      "-8       5    0.019666\n"
     ]
    },
    {
     "data": {
      "image/png": "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\n",
=======
   "execution_count": 34,
   "metadata": {},
   "outputs": [
    {
     "data": {
>>>>>>> 887b8b7d227b61825d01de448c637445f09f3deb
      "text/plain": [
       "(31782, 32)"
      ]
     },
     "execution_count": 34,
     "metadata": {},
     "output_type": "execute_result"
    }
   ],
   "source": [
    "df.shape"
   ]
  },
  {
   "cell_type": "markdown",
   "metadata": {},
   "source": [
    "## Reason for Model"
   ]
  },
  {
   "cell_type": "code",
<<<<<<< HEAD
   "execution_count": 33,
   "metadata": {},
   "outputs": [
    {
     "name": "stdout",
     "output_type": "stream",
     "text": [
      "     counts  percentage\n",
      " 1    22734   89.415929\n",
      " 3      834    3.280236\n",
      " 2      794    3.122911\n",
      " 6      530    2.084562\n",
      " 97     323    1.270403\n",
      "-7      113    0.444444\n",
      " 4       69    0.271386\n",
      " 5       14    0.055064\n",
      "-8       14    0.055064\n"
     ]
    },
    {
     "data": {
      "image/png": "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\n",
      "text/plain": [
       "<Figure size 432x288 with 1 Axes>"
      ]
     },
     "metadata": {
      "needs_background": "light"
     },
     "output_type": "display_data"
=======
   "execution_count": 35,
   "metadata": {},
   "outputs": [
    {
     "data": {
      "text/html": [
       "<div>\n",
       "<style scoped>\n",
       "    .dataframe tbody tr th:only-of-type {\n",
       "        vertical-align: middle;\n",
       "    }\n",
       "\n",
       "    .dataframe tbody tr th {\n",
       "        vertical-align: top;\n",
       "    }\n",
       "\n",
       "    .dataframe thead th {\n",
       "        text-align: right;\n",
       "    }\n",
       "</style>\n",
       "<table border=\"1\" class=\"dataframe\">\n",
       "  <thead>\n",
       "    <tr style=\"text-align: right;\">\n",
       "      <th></th>\n",
       "      <th>HOUSEID</th>\n",
       "      <th>PERSONID</th>\n",
       "      <th>n_trips</th>\n",
       "      <th>dist_to_work</th>\n",
       "      <th>dist_to_shopping</th>\n",
       "      <th>dist_to_family</th>\n",
       "      <th>dist_to_school_or_church</th>\n",
       "      <th>dist_to_relatives</th>\n",
       "      <th>dist_to_social</th>\n",
       "    </tr>\n",
       "  </thead>\n",
       "  <tbody>\n",
       "    <tr>\n",
       "      <th>0</th>\n",
       "      <td>30000012</td>\n",
       "      <td>1</td>\n",
       "      <td>9</td>\n",
       "      <td>(5.0, 11.0]</td>\n",
       "      <td>NaN</td>\n",
       "      <td>NaN</td>\n",
       "      <td>NaN</td>\n",
       "      <td>(11.0, 99.0]</td>\n",
       "      <td>(2.0, 5.0]</td>\n",
       "    </tr>\n",
       "    <tr>\n",
       "      <th>1</th>\n",
       "      <td>30000082</td>\n",
       "      <td>1</td>\n",
       "      <td>5</td>\n",
       "      <td>(1.0, 2.0]</td>\n",
       "      <td>NaN</td>\n",
       "      <td>(1.0, 2.0]</td>\n",
       "      <td>NaN</td>\n",
       "      <td>NaN</td>\n",
       "      <td>(-0.001, 1.0]</td>\n",
       "    </tr>\n",
       "    <tr>\n",
       "      <th>2</th>\n",
       "      <td>30000082</td>\n",
       "      <td>2</td>\n",
       "      <td>5</td>\n",
       "      <td>NaN</td>\n",
       "      <td>(1.0, 2.0]</td>\n",
       "      <td>NaN</td>\n",
       "      <td>NaN</td>\n",
       "      <td>NaN</td>\n",
       "      <td>(11.0, 99.0]</td>\n",
       "    </tr>\n",
       "    <tr>\n",
       "      <th>3</th>\n",
       "      <td>30000380</td>\n",
       "      <td>1</td>\n",
       "      <td>3</td>\n",
       "      <td>NaN</td>\n",
       "      <td>(1.0, 2.0]</td>\n",
       "      <td>NaN</td>\n",
       "      <td>NaN</td>\n",
       "      <td>NaN</td>\n",
       "      <td>NaN</td>\n",
       "    </tr>\n",
       "    <tr>\n",
       "      <th>4</th>\n",
       "      <td>30000380</td>\n",
       "      <td>2</td>\n",
       "      <td>8</td>\n",
       "      <td>(-0.001, 1.0]</td>\n",
       "      <td>(1.0, 2.0]</td>\n",
       "      <td>NaN</td>\n",
       "      <td>NaN</td>\n",
       "      <td>NaN</td>\n",
       "      <td>NaN</td>\n",
       "    </tr>\n",
       "    <tr>\n",
       "      <th>...</th>\n",
       "      <td>...</td>\n",
       "      <td>...</td>\n",
       "      <td>...</td>\n",
       "      <td>...</td>\n",
       "      <td>...</td>\n",
       "      <td>...</td>\n",
       "      <td>...</td>\n",
       "      <td>...</td>\n",
       "      <td>...</td>\n",
       "    </tr>\n",
       "    <tr>\n",
       "      <th>22054</th>\n",
       "      <td>40793808</td>\n",
       "      <td>1</td>\n",
       "      <td>2</td>\n",
       "      <td>NaN</td>\n",
       "      <td>NaN</td>\n",
       "      <td>NaN</td>\n",
       "      <td>NaN</td>\n",
       "      <td>NaN</td>\n",
       "      <td>(2.0, 5.0]</td>\n",
       "    </tr>\n",
       "    <tr>\n",
       "      <th>22055</th>\n",
       "      <td>40793808</td>\n",
       "      <td>2</td>\n",
       "      <td>9</td>\n",
       "      <td>NaN</td>\n",
       "      <td>(2.0, 5.0]</td>\n",
       "      <td>(2.0, 5.0]</td>\n",
       "      <td>NaN</td>\n",
       "      <td>NaN</td>\n",
       "      <td>(1.0, 2.0]</td>\n",
       "    </tr>\n",
       "    <tr>\n",
       "      <th>22056</th>\n",
       "      <td>40793808</td>\n",
       "      <td>3</td>\n",
       "      <td>5</td>\n",
       "      <td>NaN</td>\n",
       "      <td>(2.0, 5.0]</td>\n",
       "      <td>NaN</td>\n",
       "      <td>NaN</td>\n",
       "      <td>NaN</td>\n",
       "      <td>(-0.001, 1.0]</td>\n",
       "    </tr>\n",
       "    <tr>\n",
       "      <th>22057</th>\n",
       "      <td>40793974</td>\n",
       "      <td>1</td>\n",
       "      <td>7</td>\n",
       "      <td>NaN</td>\n",
       "      <td>(5.0, 11.0]</td>\n",
       "      <td>NaN</td>\n",
       "      <td>NaN</td>\n",
       "      <td>(2.0, 5.0]</td>\n",
       "      <td>(2.0, 5.0]</td>\n",
       "    </tr>\n",
       "    <tr>\n",
       "      <th>22058</th>\n",
       "      <td>40794020</td>\n",
       "      <td>2</td>\n",
       "      <td>3</td>\n",
       "      <td>NaN</td>\n",
       "      <td>(2.0, 5.0]</td>\n",
       "      <td>NaN</td>\n",
       "      <td>NaN</td>\n",
       "      <td>NaN</td>\n",
       "      <td>NaN</td>\n",
       "    </tr>\n",
       "  </tbody>\n",
       "</table>\n",
       "<p>22059 rows × 9 columns</p>\n",
       "</div>"
      ],
      "text/plain": [
       "        HOUSEID  PERSONID  n_trips   dist_to_work dist_to_shopping  \\\n",
       "0      30000012         1        9    (5.0, 11.0]              NaN   \n",
       "1      30000082         1        5     (1.0, 2.0]              NaN   \n",
       "2      30000082         2        5            NaN       (1.0, 2.0]   \n",
       "3      30000380         1        3            NaN       (1.0, 2.0]   \n",
       "4      30000380         2        8  (-0.001, 1.0]       (1.0, 2.0]   \n",
       "...         ...       ...      ...            ...              ...   \n",
       "22054  40793808         1        2            NaN              NaN   \n",
       "22055  40793808         2        9            NaN       (2.0, 5.0]   \n",
       "22056  40793808         3        5            NaN       (2.0, 5.0]   \n",
       "22057  40793974         1        7            NaN      (5.0, 11.0]   \n",
       "22058  40794020         2        3            NaN       (2.0, 5.0]   \n",
       "\n",
       "      dist_to_family dist_to_school_or_church dist_to_relatives dist_to_social  \n",
       "0                NaN                      NaN      (11.0, 99.0]     (2.0, 5.0]  \n",
       "1         (1.0, 2.0]                      NaN               NaN  (-0.001, 1.0]  \n",
       "2                NaN                      NaN               NaN   (11.0, 99.0]  \n",
       "3                NaN                      NaN               NaN            NaN  \n",
       "4                NaN                      NaN               NaN            NaN  \n",
       "...              ...                      ...               ...            ...  \n",
       "22054            NaN                      NaN               NaN     (2.0, 5.0]  \n",
       "22055     (2.0, 5.0]                      NaN               NaN     (1.0, 2.0]  \n",
       "22056            NaN                      NaN               NaN  (-0.001, 1.0]  \n",
       "22057            NaN                      NaN        (2.0, 5.0]     (2.0, 5.0]  \n",
       "22058            NaN                      NaN               NaN            NaN  \n",
       "\n",
       "[22059 rows x 9 columns]"
      ]
     },
     "execution_count": 35,
     "metadata": {},
     "output_type": "execute_result"
>>>>>>> 887b8b7d227b61825d01de448c637445f09f3deb
    }
   ],
   "source": [
    "ny_trip_count"
   ]
  },
  {
   "cell_type": "code",
   "execution_count": 36,
   "metadata": {},
   "outputs": [],
   "source": [
    "ny_trip_check = ny_trip[['HOUSEID','PERSONID','WHYTRP90']].groupby(['HOUSEID','PERSONID']).count().reset_index()\n",
    "ny_check = nyorker.merge(ny_trip_check, how = 'left', left_on=['HOUSEID','PERSONID'],right_on=['HOUSEID','PERSONID'])"
   ]
  },
  {
   "cell_type": "code",
<<<<<<< HEAD
   "execution_count": 34,
=======
   "execution_count": 37,
   "metadata": {},
   "outputs": [],
   "source": [
    "ny_check['WHYTRP90'][ny_check['WHYTRP90']>0] =1\n",
    "ny_check['WHYTRP90'][ny_check['WHYTRP90'].isna()] =0"
   ]
  },
  {
   "cell_type": "code",
   "execution_count": 38,
>>>>>>> 887b8b7d227b61825d01de448c637445f09f3deb
   "metadata": {},
   "outputs": [
    {
     "name": "stdout",
     "output_type": "stream",
     "text": [
<<<<<<< HEAD
      "    counts  percentage\n",
      " 2   13302   52.318584\n",
      " 1   12098   47.583088\n",
      "-7      21    0.082596\n",
      "-8       4    0.015733\n"
=======
      "of  15636  households,  18.367869020209774 % did not provide any trip info\n"
     ]
    }
   ],
   "source": [
    "hh_rate = ny_check.groupby(['HOUSEID']).agg({'HOUSEID':'count',\n",
    "                                  'WHYTRP90':'sum'})\n",
    "\n",
    "hh_hitrate = sum(hh_rate['WHYTRP90']==0)/hh_rate.shape[0]*100\n",
    "\n",
    "print('of ',str(hh_rate.shape[0]),' households, ',str(hh_hitrate), '% did not provide any trip info')"
   ]
  },
  {
   "cell_type": "code",
   "execution_count": 39,
   "metadata": {},
   "outputs": [
    {
     "name": "stdout",
     "output_type": "stream",
     "text": [
      "of 32292  person info, 31.688963210702344 % did not provide any trip info\n"
>>>>>>> 887b8b7d227b61825d01de448c637445f09f3deb
     ]
    }
   ],
   "source": [
    "person_hitrate = sum(ny_check['WHYTRP90']==0)/ny_check.shape[0]*100\n",
    "\n",
    "print('of', str(ny_check.shape[0]),' person info,',str(person_hitrate),'% did not provide any trip info')\n"
   ]
  },
  {
   "cell_type": "code",
   "execution_count": 40,
   "metadata": {},
   "outputs": [
    {
     "data": {
      "text/plain": [
       "<matplotlib.axes._subplots.AxesSubplot at 0x24344200788>"
      ]
     },
     "execution_count": 40,
     "metadata": {},
     "output_type": "execute_result"
    },
    {
     "data": {
<<<<<<< HEAD
      "image/png": "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\n",
=======
      "image/png": "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\n",
>>>>>>> 887b8b7d227b61825d01de448c637445f09f3deb
      "text/plain": [
       "<Figure size 432x288 with 1 Axes>"
      ]
     },
     "metadata": {
      "needs_background": "light"
     },
     "output_type": "display_data"
    }
   ],
   "source": [
    "sns.histplot(ny_check['R_AGE'][ny_check['WHYTRP90']==0])\n",
    "\n",
    "# not only those too young missing"
   ]
  },
  {
   "cell_type": "markdown",
   "metadata": {},
   "source": [
    "### Therefore to create predictive model to help 'fill up' missing trip info to provide household level trip estimates. \n",
    "\n",
    "other reccommendation: for future survey can get volunteer to provide some of the key features of family members (e.g. dist to workplace or school) to help provide estimate of houshold total trips"
   ]
  },
  {
   "cell_type": "markdown",
   "metadata": {},
   "source": [
    "## 2. EDA & Feature Engineering "
   ]
  },
  {
   "cell_type": "markdown",
   "metadata": {},
   "source": [
    "### 2.1. Train, Test, Split"
   ]
  },
  {
   "cell_type": "code",
<<<<<<< HEAD
   "execution_count": 35,
=======
   "execution_count": 41,
   "metadata": {},
   "outputs": [],
   "source": [
    "x_col = [c for c in df if c not in [\"HOUSEID\",\"PERSONID\",\"n_trips\"]]\n",
    "x_df = df[x_col]\n",
    "y_df = df['n_trips']\n",
    "\n",
    "x_train , x_test, y_train, y_test = model_selection.train_test_split(x_df, y_df, test_size = 0.2, random_state = 888)"
   ]
  },
  {
   "cell_type": "code",
   "execution_count": 42,
>>>>>>> 887b8b7d227b61825d01de448c637445f09f3deb
   "metadata": {},
   "outputs": [
    {
     "name": "stdout",
     "output_type": "stream",
     "text": [
<<<<<<< HEAD
      "    counts  percentage\n",
      "-1   12738   50.100295\n",
      " 2   10825   42.576205\n",
      " 1    1371    5.392330\n",
      "-9     490    1.927237\n",
      "-7       1    0.003933\n"
     ]
    },
    {
     "data": {
      "image/png": "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\n",
      "text/plain": [
       "<Figure size 432x288 with 1 Axes>"
      ]
     },
     "metadata": {
      "needs_background": "light"
     },
     "output_type": "display_data"
=======
      "<class 'pandas.core.frame.DataFrame'>\n",
      "Int64Index: 25425 entries, 19406 to 10938\n",
      "Data columns (total 29 columns):\n",
      " #   Column                    Non-Null Count  Dtype            \n",
      "---  ------                    --------------  -----            \n",
      " 0   R_AGE                     25425 non-null  int64            \n",
      " 1   EDUC                      25425 non-null  int64            \n",
      " 2   R_RACE                    25425 non-null  int64            \n",
      " 3   R_SEX                     25425 non-null  int64            \n",
      " 4   WRK_HOME                  25425 non-null  int64            \n",
      " 5   WKFTPT                    25425 non-null  int64            \n",
      " 6   OCCAT                     25425 non-null  int64            \n",
      " 7   DRIVER                    25425 non-null  int64            \n",
      " 8   TRAVDAY                   25425 non-null  int64            \n",
      " 9   dist_to_work              5541 non-null   interval[float64]\n",
      " 10  dist_to_shopping          7272 non-null   interval[float64]\n",
      " 11  dist_to_family            5551 non-null   interval[float64]\n",
      " 12  dist_to_school_or_church  2291 non-null   interval[float64]\n",
      " 13  dist_to_relatives         2679 non-null   interval[float64]\n",
      " 14  dist_to_social            6676 non-null   interval[float64]\n",
      " 15  HH_CBSA                   25425 non-null  object           \n",
      " 16  HOMEOWN                   25425 non-null  int64            \n",
      " 17  HHSIZE                    25425 non-null  int64            \n",
      " 18  HHVEHCNT                  25425 non-null  int64            \n",
      " 19  HHFAMINC                  25425 non-null  int64            \n",
      " 20  NUMADLT                   25425 non-null  int64            \n",
      " 21  YOUNGCHILD                25425 non-null  int64            \n",
      " 22  WRKCOUNT                  25425 non-null  int64            \n",
      " 23  MSACAT                    25425 non-null  int64            \n",
      " 24  MSASIZE                   25425 non-null  int64            \n",
      " 25  URBAN                     25425 non-null  int64            \n",
      " 26  URBANSIZE                 25425 non-null  int64            \n",
      " 27  URBRUR                    25425 non-null  int64            \n",
      " 28  LIF_CYC                   25425 non-null  int64            \n",
      "dtypes: int64(22), interval(6), object(1)\n",
      "memory usage: 7.0+ MB\n"
     ]
>>>>>>> 887b8b7d227b61825d01de448c637445f09f3deb
    }
   ],
   "source": [
    "x_train.info()"
   ]
  },
  {
   "cell_type": "markdown",
   "metadata": {},
   "source": [
    "### 2.2. Feature Engineering"
   ]
  },
  {
   "cell_type": "markdown",
   "metadata": {},
   "source": [
    "#### Age (R_AGE)"
   ]
  },
  {
   "cell_type": "code",
<<<<<<< HEAD
   "execution_count": 36,
=======
   "execution_count": 43,
>>>>>>> 887b8b7d227b61825d01de448c637445f09f3deb
   "metadata": {},
   "outputs": [
    {
     "name": "stdout",
     "output_type": "stream",
     "text": [
<<<<<<< HEAD
      "    counts  percentage\n",
      "-1   13228   52.027532\n",
      " 1    9442   37.136676\n",
      " 2    2747   10.804326\n",
      "-7       6    0.023599\n",
      "-8       2    0.007866\n"
=======
      "65 count of people with no age.  0.00029519289720475033 %.\n"
>>>>>>> 887b8b7d227b61825d01de448c637445f09f3deb
     ]
    },
    {
     "data": {
<<<<<<< HEAD
      "image/png": "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\n",
=======
      "image/png": "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\n",
>>>>>>> 887b8b7d227b61825d01de448c637445f09f3deb
      "text/plain": [
       "<Figure size 432x288 with 1 Axes>"
      ]
     },
     "metadata": {
      "needs_background": "light"
     },
     "output_type": "display_data"
    }
   ],
   "source": [
    "print(str(sum(x_train['R_AGE']<0)), \"count of people with no age. \",str(sum(nyorker['R_AGE']<0)/person.shape[0]),\"%.\")\n",
    "\n",
    "sns.histplot(x_train['R_AGE'])\n",
    "\n",
    "# impute missing values (<0) with mean age\n",
    "mean_age = round(x_train['R_AGE'][x_train['R_AGE']>0].mean())\n",
    "x_train['R_AGE'][x_train['R_AGE']<0] = mean_age\n",
    "x_test['R_AGE'][x_test['R_AGE']<0] = mean_age"
   ]
  },
  {
   "cell_type": "code",
   "execution_count": 44,
   "metadata": {},
   "outputs": [],
   "source": [
    "x_train['AGE_bins']= 'NA'\n",
    "x_train.loc[x_train['R_AGE'].between(5,15,inclusive = True), 'AGE_bins'] = \"5_to_15\"\n",
    "x_train.loc[x_train['R_AGE'].between(16,25,inclusive = True), 'AGE_bins'] = \"16_to_25\"\n",
    "x_train.loc[x_train['R_AGE'].between(26,35,inclusive = True), 'AGE_bins'] = \"26_to_35\"\n",
    "x_train.loc[x_train['R_AGE'].between(36,45,inclusive = True), 'AGE_bins'] = \"36_to_45\"\n",
    "x_train.loc[x_train['R_AGE'].between(46,55,inclusive = True), 'AGE_bins'] = \"46_to_55\"\n",
    "x_train.loc[x_train['R_AGE'].between(56,65,inclusive = True), 'AGE_bins'] = \"56_to_65\"\n",
    "x_train.loc[x_train['R_AGE'].between(66,75,inclusive = True), 'AGE_bins'] = \"66_to_75\"\n",
    "x_train.loc[x_train['R_AGE']>75, 'AGE_bins'] = \"more_than_75\"\n",
    "\n",
    "x_test['AGE_bins']= 'NA'\n",
    "x_test.loc[x_test['R_AGE'].between(5,15,inclusive = True), 'AGE_bins'] = \"5_to_15\"\n",
    "x_test.loc[x_test['R_AGE'].between(16,25,inclusive = True), 'AGE_bins'] = \"16_to_25\"\n",
    "x_test.loc[x_test['R_AGE'].between(26,35,inclusive = True), 'AGE_bins'] = \"26_to_35\"\n",
    "x_test.loc[x_test['R_AGE'].between(36,45,inclusive = True), 'AGE_bins'] = \"36_to_45\"\n",
    "x_test.loc[x_test['R_AGE'].between(46,55,inclusive = True), 'AGE_bins'] = \"46_to_55\"\n",
    "x_test.loc[x_test['R_AGE'].between(56,65,inclusive = True), 'AGE_bins'] = \"56_to_65\"\n",
    "x_test.loc[x_test['R_AGE'].between(66,75,inclusive = True), 'AGE_bins'] = \"66_to_75\"\n",
    "x_test.loc[x_test['R_AGE']>75, 'AGE_bins'] = \"more_than_75\"\n"
   ]
  },
  {
   "cell_type": "code",
<<<<<<< HEAD
   "execution_count": 37,
=======
   "execution_count": 45,
>>>>>>> 887b8b7d227b61825d01de448c637445f09f3deb
   "metadata": {},
   "outputs": [
    {
     "name": "stdout",
     "output_type": "stream",
     "text": [
<<<<<<< HEAD
      "     counts  percentage\n",
      "-1    12738   50.100295\n",
      " 4     6694   26.328417\n",
      " 1     2585   10.167158\n",
      " 3     1482    5.828909\n",
      " 2     1415    5.565388\n",
      "-9      490    1.927237\n",
      " 97      15    0.058997\n",
      "-8        4    0.015733\n",
      "-7        2    0.007866\n"
=======
      "              counts  percentage\n",
      "56_to_65        5534   21.765978\n",
      "66_to_75        4356   17.132743\n",
      "46_to_55        3724   14.647001\n",
      "5_to_15         2491    9.797443\n",
      "26_to_35        2466    9.699115\n",
      "36_to_45        2436    9.581121\n",
      "more_than_75    2322    9.132743\n",
      "16_to_25        2096    8.243854\n"
>>>>>>> 887b8b7d227b61825d01de448c637445f09f3deb
     ]
    },
    {
     "data": {
<<<<<<< HEAD
      "image/png": "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\n",
=======
      "image/png": "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\n",
>>>>>>> 887b8b7d227b61825d01de448c637445f09f3deb
      "text/plain": [
       "<Figure size 432x288 with 1 Axes>"
      ]
     },
     "metadata": {
      "needs_background": "light"
     },
     "output_type": "display_data"
    }
   ],
   "source": [
    "cat_col_prop(x_train,'AGE_bins')"
   ]
  },
  {
   "cell_type": "markdown",
   "metadata": {},
   "source": [
    "#### Educational Attainment (EDUC)"
   ]
  },
  {
   "cell_type": "code",
<<<<<<< HEAD
   "execution_count": 38,
=======
   "execution_count": 46,
>>>>>>> 887b8b7d227b61825d01de448c637445f09f3deb
   "metadata": {},
   "outputs": [
    {
     "name": "stdout",
     "output_type": "stream",
     "text": [
      "    counts  percentage\n",
<<<<<<< HEAD
      " 1   21439   84.322517\n",
      "-1    2265    8.908555\n",
      " 2    1721    6.768928\n"
=======
      " 3    6293   24.751229\n",
      " 5    5612   22.072763\n",
      " 2    4965   19.528024\n",
      " 4    4870   19.154376\n",
      "-1    2002    7.874140\n",
      " 1    1668    6.560472\n",
      "-7      10    0.039331\n",
      "-8       5    0.019666\n"
>>>>>>> 887b8b7d227b61825d01de448c637445f09f3deb
     ]
    },
    {
     "data": {
<<<<<<< HEAD
      "text/plain": [
       "<AxesSubplot:xlabel='DRIVER', ylabel='AGE_bins'>"
      ]
     },
     "execution_count": 38,
     "metadata": {},
     "output_type": "execute_result"
    },
    {
     "data": {
      "image/png": "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\n",
=======
      "image/png": "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\n",
>>>>>>> 887b8b7d227b61825d01de448c637445f09f3deb
      "text/plain": [
       "<Figure size 432x288 with 1 Axes>"
      ]
     },
     "metadata": {
      "needs_background": "light"
     },
     "output_type": "display_data"
    }
   ],
   "source": [
    "cat_col_prop(x_train,'EDUC')\n",
    "# approx 8% missing values (<0). To take note of but will addresss in one-hot encoding"
   ]
  },
  {
   "cell_type": "markdown",
   "metadata": {},
   "source": [
    "#### Race (R_RACE)"
   ]
  },
  {
   "cell_type": "code",
<<<<<<< HEAD
   "execution_count": 39,
=======
   "execution_count": 47,
   "metadata": {},
   "outputs": [
    {
     "name": "stdout",
     "output_type": "stream",
     "text": [
      "     counts  percentage\n",
      " 1    22734   89.415929\n",
      " 3      834    3.280236\n",
      " 2      794    3.122911\n",
      " 6      530    2.084562\n",
      " 97     323    1.270403\n",
      "-7      113    0.444444\n",
      " 4       69    0.271386\n",
      " 5       14    0.055064\n",
      "-8       14    0.055064\n"
     ]
    },
    {
     "data": {
      "image/png": "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\n",
      "text/plain": [
       "<Figure size 432x288 with 1 Axes>"
      ]
     },
     "metadata": {
      "needs_background": "light"
     },
     "output_type": "display_data"
    }
   ],
   "source": [
    "cat_col_prop(x_train,'R_RACE')\n",
    "# approx 1% missing values (<0). To take note of but will address in one-hot encoding\n",
    "# Significant proportion of members 'white'"
   ]
  },
  {
   "cell_type": "markdown",
   "metadata": {},
   "source": [
    "#### Gender (R_SEX)"
   ]
  },
  {
   "cell_type": "code",
   "execution_count": 48,
   "metadata": {},
   "outputs": [
    {
     "name": "stdout",
     "output_type": "stream",
     "text": [
      "    counts  percentage\n",
      " 2   13302   52.318584\n",
      " 1   12098   47.583088\n",
      "-7      21    0.082596\n",
      "-8       4    0.015733\n"
     ]
    },
    {
     "data": {
      "image/png": "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\n",
      "text/plain": [
       "<Figure size 432x288 with 1 Axes>"
      ]
     },
     "metadata": {
      "needs_background": "light"
     },
     "output_type": "display_data"
    }
   ],
   "source": [
    "cat_col_prop(x_train, 'R_SEX')\n",
    "# <1% missing values. To take note but will be addressed in one-hot encoding"
   ]
  },
  {
   "cell_type": "markdown",
   "metadata": {},
   "source": [
    "#### Work From Home (WRK_HOME)"
   ]
  },
  {
   "cell_type": "code",
   "execution_count": 49,
   "metadata": {},
   "outputs": [
    {
     "name": "stdout",
     "output_type": "stream",
     "text": [
      "    counts  percentage\n",
      "-1   12738   50.100295\n",
      " 2   10825   42.576205\n",
      " 1    1371    5.392330\n",
      "-9     490    1.927237\n",
      "-7       1    0.003933\n"
     ]
    },
    {
     "data": {
      "image/png": "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\n",
      "text/plain": [
       "<Figure size 432x288 with 1 Axes>"
      ]
     },
     "metadata": {
      "needs_background": "light"
     },
     "output_type": "display_data"
    }
   ],
   "source": [
    "cat_col_prop(x_train,'WRK_HOME')\n",
    "# Significant proportion -1 (50%) which is the appropriate skip (due to not working) - to address in one-hot"
   ]
  },
  {
   "cell_type": "markdown",
   "metadata": {},
   "source": [
    "#### Work - Part Time or Full Time (WKFTPT)"
   ]
  },
  {
   "cell_type": "code",
   "execution_count": 50,
   "metadata": {},
   "outputs": [
    {
     "name": "stdout",
     "output_type": "stream",
     "text": [
      "    counts  percentage\n",
      "-1   13228   52.027532\n",
      " 1    9442   37.136676\n",
      " 2    2747   10.804326\n",
      "-7       6    0.023599\n",
      "-8       2    0.007866\n"
     ]
    },
    {
     "data": {
      "image/png": "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\n",
      "text/plain": [
       "<Figure size 432x288 with 1 Axes>"
      ]
     },
     "metadata": {
      "needs_background": "light"
     },
     "output_type": "display_data"
    }
   ],
   "source": [
    "cat_col_prop(x_train,'WKFTPT')\n",
    "# Significant proportion -1 (52%) which is the appropriate skip (due to not working) - to address in one-hot"
   ]
  },
  {
   "cell_type": "markdown",
   "metadata": {},
   "source": [
    "#### Job Category (OCCAT)"
   ]
  },
  {
   "cell_type": "code",
   "execution_count": 51,
   "metadata": {},
   "outputs": [
    {
     "name": "stdout",
     "output_type": "stream",
     "text": [
      "     counts  percentage\n",
      "-1    12738   50.100295\n",
      " 4     6694   26.328417\n",
      " 1     2585   10.167158\n",
      " 3     1482    5.828909\n",
      " 2     1415    5.565388\n",
      "-9      490    1.927237\n",
      " 97      15    0.058997\n",
      "-8        4    0.015733\n",
      "-7        2    0.007866\n"
     ]
    },
    {
     "data": {
      "image/png": "iVBORw0KGgoAAAANSUhEUgAAAZEAAAEGCAYAAACkQqisAAAABHNCSVQICAgIfAhkiAAAAAlwSFlzAAALEgAACxIB0t1+/AAAADh0RVh0U29mdHdhcmUAbWF0cGxvdGxpYiB2ZXJzaW9uMy4xLjEsIGh0dHA6Ly9tYXRwbG90bGliLm9yZy8QZhcZAAAWfElEQVR4nO3de5BmdX3n8fcHEO8ISKM4M8mw60QdWRNxFkmooAVbMHgbNJAdapUpw+5spdCVmItiqoKBUKUrrvHKFiWjg7FACnVBl4hTeGFj5DIIchvIdNDACGHanQEvrJfB7/7x/Bof256xOXQ/p9t+v6q6+jnf8zvP+Z5m6E+f65OqQpKkLvbquwFJ0sJliEiSOjNEJEmdGSKSpM4MEUlSZ/v03cCoHXTQQbV8+fK+25CkBeXGG2/8blWNTa0vuhBZvnw5mzdv7rsNSVpQkvzLdHUPZ0mSOjNEJEmdGSKSpM4MEUlSZ4aIJKkzQ0SS1JkhIknqzBCRJHVmiEiSOlt0d6wPe8mfX9TLem98z6m9rFeSZpt7IpKkzgwRSVJnhogkqTNDRJLUmSEiSerMEJEkdWaISJI6M0QkSZ3NWYgk2ZBke5LbhmrvSXJnkluSfDbJ/kPzzkwynuSuJMcP1Ve32niStw/VD01yXZKtST6VZN+52hZJ0vTmck/k48DqKbVNwGFV9SLgn4AzAZKsBNYCL2zLfCTJ3kn2Bj4MnACsBE5pYwHeDbyvqlYAO4HT5nBbJEnTmLMQqaprgB1Tal+sql1t8lpgaXu9Brikqn5cVd8CxoEj2td4Vd1dVT8BLgHWJAlwDHBZW34jcOJcbYskaXp9nhP5I+Dv2+slwL1D87a12u7qzwQeHAqkyfq0kqxPsjnJ5omJiVlqX5LUS4gk+UtgF/DJydI0w6pDfVpVdUFVraqqVWNjY4+1XUnSboz8Kb5J1gGvAo6tqslf/NuAZUPDlgL3tdfT1b8L7J9kn7Y3MjxekjQiI90TSbIaeBvwmqp6eGjWFcDaJE9MciiwArgeuAFY0a7E2pfByfcrWvh8GTipLb8OuHxU2yFJGpjLS3wvBr4OPC/JtiSnAR8Cng5sSnJzkv8JUFW3A5cCdwBfAE6vqkfaXsabgKuALcClbSwMwuitScYZnCO5cK62RZI0vTk7nFVVp0xT3u0v+qo6Fzh3mvqVwJXT1O9mcPWWJKkn3rEuSerMEJEkdWaISJI6M0QkSZ0ZIpKkzgwRSVJnhogkqTNDRJLUmSEiSerMEJEkdWaISJI6M0QkSZ0ZIpKkzgwRSVJnhogkqTNDRJLUmSEiSerMEJEkdWaISJI6M0QkSZ0ZIpKkzgwRSVJnhogkqbM5C5EkG5JsT3LbUO3AJJuSbG3fD2j1JPlAkvEktyQ5fGiZdW381iTrhuovSXJrW+YDSTJX2yJJmt5c7ol8HFg9pfZ24OqqWgFc3aYBTgBWtK/1wPkwCB3gLOClwBHAWZPB08asH1pu6rokSXNszkKkqq4BdkwprwE2ttcbgROH6hfVwLXA/kkOAY4HNlXVjqraCWwCVrd5+1XV16uqgIuG3kuSNCKjPifyrKq6H6B9P7jVlwD3Do3b1mp7qm+bpj6tJOuTbE6yeWJi4nFvhCRpYL6cWJ/ufEZ1qE+rqi6oqlVVtWpsbKxji5KkqUYdIg+0Q1G079tbfRuwbGjcUuC+X1FfOk1dkjRCow6RK4DJK6zWAZcP1U9tV2kdCTzUDnddBRyX5IB2Qv044Ko27/tJjmxXZZ069F6SpBHZZ67eOMnFwMuBg5JsY3CV1buAS5OcBtwDnNyGXwm8AhgHHgbeCFBVO5KcA9zQxp1dVZMn6/+YwRVgTwb+vn1JkkZozkKkqk7ZzaxjpxlbwOm7eZ8NwIZp6puBwx5Pj5Kkx2e+nFiXJC1AhogkqTNDRJLUmSEiSerMEJEkdWaISJI6M0QkSZ0ZIpKkzgwRSVJnhogkqTNDRJLUmSEiSerMEJEkdWaISJI6M0QkSZ0ZIpKkzgwRSVJnhogkqTNDRJLUmSEiSerMEJEkdWaISJI6M0QkSZ0ZIpKkznoJkSR/kuT2JLcluTjJk5IcmuS6JFuTfCrJvm3sE9v0eJu/fOh9zmz1u5Ic38e2SNJiNvIQSbIE+G/Aqqo6DNgbWAu8G3hfVa0AdgKntUVOA3ZW1XOB97VxJFnZlnshsBr4SJK9R7ktkrTY9XU4ax/gyUn2AZ4C3A8cA1zW5m8ETmyv17Rp2vxjk6TVL6mqH1fVt4Bx4IgR9S9JoocQqarvAOcB9zAIj4eAG4EHq2pXG7YNWNJeLwHubcvuauOfOVyfZplfkGR9ks1JNk9MTMzuBknSItbH4awDGOxFHAo8B3gqcMI0Q2tykd3M2139l4tVF1TVqqpaNTY29tibliRNq4/DWf8B+FZVTVTVT4HPAL8H7N8ObwEsBe5rr7cBywDa/GcAO4br0ywjSRqBPkLkHuDIJE9p5zaOBe4Avgyc1MasAy5vr69o07T5X6qqavW17eqtQ4EVwPUj2gZJEoMT3CNVVdcluQz4BrALuAm4APjfwCVJ/qbVLmyLXAh8Isk4gz2Qte19bk9yKYMA2gWcXlWPjHRjJGmRG3mIAFTVWcBZU8p3M83VVVX1I+Dk3bzPucC5s96gJGlGvGNdktSZISJJ6swQkSR1ZohIkjqbUYgkuXomNUnS4rLHq7OSPInBs60OaneaT94lvh+Du80lSYvYr7rE978CZzAIjBv5eYh8D/jwHPYlSVoA9hgiVfV+4P1J3lxVHxxRT5KkBWJGNxtW1QeT/B6wfHiZqrpojvqSJC0AMwqRJJ8A/i1wMzD5aJECDBFJWsRm+tiTVcDK9uBDSZKAmd8nchvw7LlsRJK08Mx0T+Qg4I4k1wM/nixW1WvmpCtJ0oIw0xB551w2IUlamGZ6ddZX57oRSdLCM9Ors77Pzz+/fF/gCcAPq2q/uWpsMbvn7H838nX+xl/dOvJ1Slr4Zron8vTh6SQnMs0HSEmSFpdOT/Gtqv8FHDPLvUiSFpiZHs563dDkXgzuG/GeEUla5GZ6ddarh17vAr4NrJn1biRJC8pMz4m8ca4bkSQtPDP9UKqlST6bZHuSB5J8OsnSuW5OkjS/zfTE+seAKxh8rsgS4HOtJklaxGYaImNV9bGq2tW+Pg6MdV1pkv2TXJbkziRbkvxukgOTbEqytX0/oI1Nkg8kGU9yS5LDh95nXRu/Ncm6rv1IkrqZaYh8N8nrk+zdvl4P/N/Hsd73A1+oqucDvw1sAd4OXF1VK4Cr2zTACcCK9rUeOB8gyYHAWcBLGdyzctZk8EiSRmOmIfJHwB8C/wrcD5wEdDrZnmQ/4GjgQoCq+klVPcjgaq+NbdhG4MT2eg1wUQ1cC+yf5BDgeGBTVe2oqp3AJmB1l54kSd3MNETOAdZV1VhVHcwgVN7ZcZ3/BpgAPpbkpiQfTfJU4FlVdT9A+35wG78EuHdo+W2ttrv6L0myPsnmJJsnJiY6ti1JmmqmIfKi9tc+AFW1A3hxx3XuAxwOnF9VLwZ+yM8PXU0n09RqD/VfLlZdUFWrqmrV2FjnUzmSpClmGiJ7DZ9vaOcjZnqj4lTbgG1VdV2bvoxBqDzQDlPRvm8fGr9saPmlwH17qEuSRmSmIfJe4B+TnJPkbOAfgf/eZYVV9a/AvUme10rHAncwuIR48gqrdcDl7fUVwKntKq0jgYfa4a6rgOOSHNAC7rhWkySNyEzvWL8oyWYGD10M8LqquuNxrPfNwCeT7AvczeAk/V7ApUlOA+4BTm5jrwReAYwDD7exVNWOJOcAN7RxZ7fDbJKkEZnxIakWGo8nOIbf62YGD3Gc6thpxhZw+m7eZwOwYTZ6kiQ9dp0eBS9JEhgikqTHwRCRJHVmiEiSOjNEJEmdGSKSpM4MEUlSZ4aIJKkzQ0SS1JkhIknqzBCRJHVmiEiSOjNEJEmdGSKSpM4MEUlSZ4aIJKkzQ0SS1JkhIknqzBCRJHVmiEiSOjNEJEmdGSKSpM4MEUlSZ4aIJKmz3kIkyd5Jbkry+TZ9aJLrkmxN8qkk+7b6E9v0eJu/fOg9zmz1u5Ic38+WSNLi1eeeyFuALUPT7wbeV1UrgJ3Aaa1+GrCzqp4LvK+NI8lKYC3wQmA18JEke4+od0kSPYVIkqXAK4GPtukAxwCXtSEbgRPb6zVtmjb/2DZ+DXBJVf24qr4FjANHjGYLJEnQ357I3wJ/AfysTT8TeLCqdrXpbcCS9noJcC9Am/9QG/9ofZplfkGS9Uk2J9k8MTExm9shSYvayEMkyauA7VV143B5mqH1K+btaZlfLFZdUFWrqmrV2NjYY+pXkrR7+/SwzqOA1yR5BfAkYD8Geyb7J9mn7W0sBe5r47cBy4BtSfYBngHsGKpPGl5GkjQCI98Tqaozq2ppVS1ncGL8S1X1n4AvAye1YeuAy9vrK9o0bf6XqqpafW27eutQYAVw/Yg2Q5JEP3siu/M24JIkfwPcBFzY6hcCn0gyzmAPZC1AVd2e5FLgDmAXcHpVPTL6tiVp8eo1RKrqK8BX2uu7mebqqqr6EXDybpY/Fzh37jqUJO2Jd6xLkjozRCRJnRkikqTODBFJUmeGiCSpM0NEktSZISJJ6swQkSR1ZohIkjozRCRJnRkikqTODBFJUmeGiCSpM0NEktSZISJJ6swQkSR1ZohIkjqbTx+Pq3nsqA8e1ct6v/bmr/WyXkkz456IJKkzQ0SS1JkhIknqzBCRJHVmiEiSOht5iCRZluTLSbYkuT3JW1r9wCSbkmxt3w9o9ST5QJLxJLckOXzovda18VuTrBv1tkjSYtfHnsgu4E+r6gXAkcDpSVYCbweurqoVwNVtGuAEYEX7Wg+cD4PQAc4CXgocAZw1GTySpNEYeYhU1f1V9Y32+vvAFmAJsAbY2IZtBE5sr9cAF9XAtcD+SQ4Bjgc2VdWOqtoJbAJWj3BTJGnR6/WcSJLlwIuB64BnVdX9MAga4OA2bAlw79Bi21ptd/Xp1rM+yeYkmycmJmZzEyRpUestRJI8Dfg0cEZVfW9PQ6ep1R7qv1ysuqCqVlXVqrGxscferCRpWr2ESJInMAiQT1bVZ1r5gXaYivZ9e6tvA5YNLb4UuG8PdUnSiPRxdVaAC4EtVfU/hmZdAUxeYbUOuHyofmq7SutI4KF2uOsq4LgkB7QT6se1miRpRPp4AONRwBuAW5Pc3GrvAN4FXJrkNOAe4OQ270rgFcA48DDwRoCq2pHkHOCGNu7sqtoxmk2QJEEPIVJV/8D05zMAjp1mfAGn7+a9NgAbZq87SdJj4R3rkqTODBFJUmeGiCSpMz/ZUAvWV49+WS/rfdk1X+1lvdJ8ZIhIs+hDf/q5Xtb7pve+upf1Sh7OkiR1ZohIkjozRCRJnRkikqTODBFJUmeGiCSpM0NEktSZISJJ6swQkSR1ZohIkjozRCRJnRkikqTODBFJUmeGiCSpMx8FL/2aO/f1J/Wy3r/8u8t6Wa9Gyz0RSVJnhogkqTNDRJLUmSEiSepswYdIktVJ7koynuTtffcjSYvJgg6RJHsDHwZOAFYCpyRZ2W9XkrR4LOgQAY4Axqvq7qr6CXAJsKbnniRp0UhV9d1DZ0lOAlZX1X9u028AXlpVb5oybj2wvk0+D7hrFlZ/EPDdWXif2TYf+7KnmbGnmZuPff269/SbVTU2tbjQbzbMNLVfSsWqugC4YFZXnGyuqlWz+Z6zYT72ZU8zY08zNx/7Wqw9LfTDWduAZUPTS4H7eupFkhadhR4iNwArkhyaZF9gLXBFzz1J0qKxoA9nVdWuJG8CrgL2BjZU1e0jWv2sHh6bRfOxL3uaGXuaufnY16LsaUGfWJck9WuhH86SJPXIEJEkdWaIdJDk+Um+nuTHSf6s734mJdk7yU1JPt93LwBJNiTZnuS2vnuZlORJSa5P8s0ktyf563nQ07IkX06ypfX0lr57AkhyQJLPJrml/cwO66mPtyS5rf1szmi1TyW5uX19O8nNffTWenlGks8N/Zt6Y1+9DPX050M/n9uSPJLkwDlZl+dEHrskBwO/CZwI7Kyq83puCYAkbwVWAftV1avmQT9HAz8ALqqqXn4BTZUkwFOr6gdJngD8A/CWqrq2x54OAQ6pqm8keTpwI3BiVd3RV0+tr/cAP6iqv07yfODDVXXsiHs4jMGTKI4AfgJ8Afjjqto6NOa9wENVdfYoexta/zuAZ1TV25KMMbiZ+dntKRq9S/Jq4E+q6pi5eH/3RDqoqu1VdQPw0757mZRkKfBK4KN99zKpqq4BdvTdx7Aa+EGbfEL76vUvqaq6v6q+0V5/H9gCLOmzp2YlcDVAVd0JLE/yrBH38ALg2qp6uKp2AV8FXjs5s/1R8IfAxSPua1gBT2+9PI3Bv/ldPfYz1SnM4c/HEPn18bfAXwA/67uR+a4d9rsZ2A5sqqrr+u5pUpLlwIuB+dDTN4HXASQ5gsHe99IR93AbcHSSZyZ5CvAKfvEG498HHhjeM+nBhxiE3X3ArQz2bOfF/4ftZ7Ya+PRcrcMQ+TWQ5FXA9qq6se9eFoKqeqSqfofBL8Qj+jrWP1WSpzH4n/2Mqvpe3/0A7wIOaIH7ZuAmRvwXdlVtAd4NbGJwKOubU3qY07+yZ+h44GbgOcDvAB9Ksl+/LT3q1cDXqmrOjggYIjOU5PShE1XP6bufKY4CXpPk2wyOHx+T5O/6bWn+q6oHga8w+EutV+38zKeBT1bVZ3rs49F/58DTquqNLXBPBcaAb426p6q6sKoOr6qjGRwq2tp63YfBntKnRt3TlJ/T6cBn2qHScQY/o+f32dPQ76i1zHHIemL9cUjyTgYnHufFiXWAJC8H/mw+nFiHRw/PfH4enVgfA35aVQ8meTLwReDdVdXbFW3tWPpGYEdVndFXH1Ml2R94uKp+kuS/AL9fVaf20MfBVbU9yW8w+O/1u1W1M8lq4Myqetmoe5rS3/kMDqm9s50z+gbw21XV6xN9kzyDQaAtq6ofztV6FvRjT/qS5NnAZmA/4GftssOV8+QQxLyR5GLg5cBBSbYBZ1XVhf12xSHAxgw+0Gwv4NI+A6Q5CngDcOvQparvqKore+wJBsf5L0ryCHAHcFpPfXw6yTMZXMhyelXtbPU5/yt7hs4BPp7kVgZPFn9b3wHSvBb44lwGCLgnIkl6HDwnIknqzBCRJHVmiEiSOjNEJEmdGSKSpM4MEWmWJFma5PIkW5P8c5L3Z/CxzSQ5Isk1Se5KcmeSj7ZHUpDkhCSb21N870xy3pT3/Wa7XHpy+sPthrI7kvy/oRvMThrtFkte4ivNinbD4HXA+VX1sXYfygUM7rA+D7geWFtVX29j/wD4PwzuAr8ceGVV3dnuwl5fVR9p7/sC4FLgQOC3hq/5n283cmpxMkSkWZDkWAY3Ux49VNuPwR3DFwI/qqq/mma5i4CvVNWG3bzvOcD3Gdz498WqGt4jWY4hop55OEuaHS9k8Dkgj2pPMLgHeO7UeUMO28M8gP/I4NlQFzN42KA0rxgi0uwI038uSdrXY3/D5N8DE1X1Lww+1+PwJAd0b1GafYaINDtuZ/Cpko9qh7OWAePAS/aw3O7mnQI8vz2d+Z8ZPKvtD2ajWWm2GCLS7LgaeEqSU2HwwVfAe4GPMzixvi7JSycHJ3l9e5Dne4B3JPmtVt8ryVuT7AWcDLyoqpZX1XJgDR7S0jxjiEizoAZXqLwWODnJVuCfgB8xeBrvAwyeOHteu8R3C4NP5PteVd0CnAFc3Oq3MXjS8NHAd6rqO0OruQZY2T6TXZoXvDpLktSZeyKSpM4MEUlSZ4aIJKkzQ0SS1JkhIknqzBCRJHVmiEiSOvv/aT+rmsiPHhYAAAAASUVORK5CYII=\n",
      "text/plain": [
       "<Figure size 432x288 with 1 Axes>"
      ]
     },
     "metadata": {
      "needs_background": "light"
     },
     "output_type": "display_data"
    }
   ],
   "source": [
    "cat_col_prop(x_train,'OCCAT')\n",
    "# Significant proportion -1 (50%) which is the appropriate skip (due to not working) - to address in one-hot"
   ]
  },
  {
   "cell_type": "markdown",
   "metadata": {},
   "source": [
    "#### Driver Status (DRIVER)"
   ]
  },
  {
   "cell_type": "code",
   "execution_count": 52,
   "metadata": {},
   "outputs": [
    {
     "name": "stdout",
     "output_type": "stream",
     "text": [
      "    counts  percentage\n",
      " 1   21439   84.322517\n",
      "-1    2265    8.908555\n",
      " 2    1721    6.768928\n"
     ]
    },
    {
     "data": {
      "image/png": "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\n",
      "text/plain": [
       "<Figure size 432x288 with 1 Axes>"
      ]
     },
     "metadata": {
      "needs_background": "light"
     },
     "output_type": "display_data"
    }
   ],
   "source": [
    "cat_col_prop(x_train,'DRIVER')\n",
    "\n",
    "#Significant proportion -1 (8.7%) (due to too young) - to address in one-hot encoding\n",
    "#sns.boxplot(data = x_train, x='DRIVER',y='AGE_bins')"
   ]
  },
  {
   "cell_type": "markdown",
   "metadata": {},
   "source": [
    "#### Travel Day (TRAVDAY)"
   ]
  },
  {
   "cell_type": "code",
   "execution_count": 53,
>>>>>>> 887b8b7d227b61825d01de448c637445f09f3deb
   "metadata": {},
   "outputs": [
    {
     "name": "stdout",
     "output_type": "stream",
     "text": [
      "   counts  percentage\n",
      "1    3763   14.800393\n",
      "2    3720   14.631268\n",
      "7    3716   14.615536\n",
      "5    3636   14.300885\n",
      "6    3574   14.057030\n",
      "3    3547   13.950836\n",
      "4    3469   13.644051\n"
     ]
    },
    {
     "data": {
<<<<<<< HEAD
      "image/png": "iVBORw0KGgoAAAANSUhEUgAAAYsAAAEGCAYAAACUzrmNAAAAOXRFWHRTb2Z0d2FyZQBNYXRwbG90bGliIHZlcnNpb24zLjMuNCwgaHR0cHM6Ly9tYXRwbG90bGliLm9yZy8QVMy6AAAACXBIWXMAAAsTAAALEwEAmpwYAAAWqklEQVR4nO3df/BddX3n8efLQBHRVJCvNOYbG9ZJrYGtQbJZtuyoK25J3VawVRt2FNp1JwwDVmfdH2JnVu1OZp2pP1pcZQcFCdaCWZESHVFp6o+1i6ZfaCSEyBqFSkgkEdcF3F2U8N4/7uc7XpObnO835N6bL9/nY+bMPfd9ftx3mMCLc87nnJOqQpKkQ3nauBuQJB39DAtJUifDQpLUybCQJHUyLCRJnY4ZdwPDcvLJJ9fSpUvH3YYkzSm33377D6pqYv/6UzYsli5dytTU1LjbkKQ5JcnfD6p7GkqS1MmwkCR1MiwkSZ0MC0lSJ8NCktTJsJAkdTIsJEmdDAtJUifDQpLU6Sl7B/f+zvx31427hYO6/U8uHHcLknRIHllIkjrNmyOLue57f/wPx93CQT3/P27tXOfsD549gk5m72/e/DfjbkGaEzyykCR1MiwkSZ0MC0lSJ8NCktTJC9zSDHzlpS8bdwsDveyrXxl3C5onPLKQJHUyLCRJnTwNJc0D/+Vtnxl3CwNd9r7fHncLmqGhHVkkeXqSzUm+mWRbkne3+ruSPJBkS5te1bfN5Ul2JLknybl99TOTbG3LrkiSYfUtSTrQMI8sHgNeUVWPJjkW+FqSW9qyD1TVe/tXTrIcWAOcBjwP+Kskv1JV+4ArgbXA14HPAauBW5A0L6x7w2vH3cJAf/Tnnxp3CyMztCOL6nm0fT22TXWITc4Dbqiqx6rqXmAHsCrJImBhVd1WVQVcB5w/rL4lSQca6gXuJAuSbAH2ALdW1TfaosuS3JnkmiQnttpi4P6+zXe22uI2v3990O+tTTKVZGrv3r1H8o8iSfPaUMOiqvZV1Qpgkt5Rwun0Tim9AFgB7Abe11YfdB2iDlEf9HtXVdXKqlo5MTHxJLuXJE0byWioqvpRki8Dq/uvVST5CPDZ9nUnsKRvs0lgV6tPDqhL0lFv+7q/HncLB/WiP3rFjNcd5mioiSTPbvPHA68EvtWuQUx7DXBXm98IrElyXJJTgWXA5qraDTyS5Kw2CupC4OZh9S1JOtAwjywWAeuTLKAXShuq6rNJPp5kBb1TSfcBFwNU1bYkG4C7gceBS9tIKIBLgGuB4+mNgnIklCSN0NDCoqruBM4YUH/jIbZZB6wbUJ8CTj+iDUqSZszHfUiSOhkWkqROhoUkqZNhIUnqZFhIkjoZFpKkToaFJKmTYSFJ6mRYSJI6GRaSpE6GhSSpk2EhSepkWEiSOhkWkqROhoUkqZNhIUnqZFhIkjoZFpKkToaFJKnT0MIiydOTbE7yzSTbkry71U9KcmuSb7fPE/u2uTzJjiT3JDm3r35mkq1t2RVJMqy+JUkHGuaRxWPAK6rqxcAKYHWSs4C3A5uqahmwqX0nyXJgDXAasBr4cJIFbV9XAmuBZW1aPcS+JUn7GVpYVM+j7euxbSrgPGB9q68Hzm/z5wE3VNVjVXUvsANYlWQRsLCqbquqAq7r20aSNAJDvWaRZEGSLcAe4Naq+gZwSlXtBmifz22rLwbu79t8Z6stbvP71wf93tokU0mm9u7de0T/LJI0nw01LKpqX1WtACbpHSWcfojVB12HqEPUB/3eVVW1sqpWTkxMzLpfSdJgIxkNVVU/Ar5M71rDg+3UEu1zT1ttJ7Ckb7NJYFerTw6oS5JGZJijoSaSPLvNHw+8EvgWsBG4qK12EXBzm98IrElyXJJT6V3I3txOVT2S5Kw2CurCvm0kSSNwzBD3vQhY30Y0PQ3YUFWfTXIbsCHJm4DvAa8DqKptSTYAdwOPA5dW1b62r0uAa4HjgVvaJEkakaGFRVXdCZwxoP4QcM5BtlkHrBtQnwIOdb1DkjRE3sEtSepkWEiSOhkWkqROhoUkqZNhIUnqZFhIkjoZFpKkToaFJKmTYSFJ6mRYSJI6GRaSpE6GhSSpk2EhSepkWEiSOhkWkqROhoUkqZNhIUnqZFhIkjoNLSySLEnypSTbk2xL8pZWf1eSB5JsadOr+ra5PMmOJPckObevfmaSrW3ZFUkyrL4lSQca2ju4gceBt1XVHUmeBdye5Na27ANV9d7+lZMsB9YApwHPA/4qya9U1T7gSmAt8HXgc8Bq4JYh9i5J6jO0I4uq2l1Vd7T5R4DtwOJDbHIecENVPVZV9wI7gFVJFgELq+q2qirgOuD8YfUtSTrQSK5ZJFkKnAF8o5UuS3JnkmuSnNhqi4H7+zbb2WqL2/z+9UG/szbJVJKpvXv3Hsk/giTNa0MPiyTPBG4E3lpVD9M7pfQCYAWwG3jf9KoDNq9D1A8sVl1VVSurauXExMSTbV2S1Aw1LJIcSy8oPlFVnwaoqgeral9VPQF8BFjVVt8JLOnbfBLY1eqTA+qSpBEZ5mioAFcD26vq/X31RX2rvQa4q81vBNYkOS7JqcAyYHNV7QYeSXJW2+eFwM3D6luSdKBhjoY6G3gjsDXJllZ7B3BBkhX0TiXdB1wMUFXbkmwA7qY3kurSNhIK4BLgWuB4eqOgHAklSSM0tLCoqq8x+HrD5w6xzTpg3YD6FHD6ketOkjQb3sEtSepkWEiSOhkWkqROhoUkqZNhIUnqZFhIkjoZFpKkToaFJKmTYSFJ6mRYSJI6GRaSpE6GhSSp04zCIsmmmdQkSU9Nh3zqbJKnA88ATm6vP51+iuxC4HlD7k2SdJToekT5xcBb6QXD7fwsLB4GPjS8tiRJR5NDhkVV/RnwZ0neXFUfHFFPkqSjzIxeflRVH0zy68DS/m2q6roh9SVJOorMKCySfBx4AbAFmH7VaQGGhSTNAzN9repKYHlV1TCbkSQdnWZ6n8VdwC/NZsdJliT5UpLtSbYleUurn5Tk1iTfbp8n9m1zeZIdSe5Jcm5f/cwkW9uyK5IMere3JGlIZhoWJwN3J/lCko3TU8c2jwNvq6oXAWcBlyZZDrwd2FRVy4BN7Ttt2RrgNGA18OEkC9q+rgTWAsvatHrGf0JJ0pM209NQ75rtjqtqN7C7zT+SZDuwGDgPeHlbbT3wZeA/tPoNVfUYcG+SHcCqJPcBC6vqNoAk1wHnA7fMtidJ0uGZ6WiorzyZH0myFDgD+AZwSgsSqmp3kue21RYDX+/bbGer/bTN718f9Dtr6R2B8PznP//JtCxJ6jPTx308kuThNv2/JPuSPDzDbZ8J3Ai8taoOtc2g6xB1iPqBxaqrqmplVa2cmJiYSXuSpBmY6ZHFs/q/JzkfWNW1XZJj6QXFJ6rq0638YJJF7ahiEbCn1XcCS/o2nwR2tfrkgLokaUQO66mzVfWXwCsOtU4bsXQ1sL2q3t+3aCNwUZu/CLi5r74myXFJTqV3IXtzO2X1SJKz2j4v7NtGkjQCM70p73f6vj6N3n0XXfdcnA28EdiaZEurvQN4D7AhyZuA7wGvA6iqbUk2AHfTG0l1aVVN3wB4CXAtcDy9C9te3JakEZrpaKjf7pt/HLiP3uilg6qqrzH4egPAOQfZZh2wbkB9Cjh9Jo1Kko68mV6z+INhNyJJOnrNdDTUZJKbkuxJ8mCSG5NMdm8pSXoqmOkF7o/RuwD9PHr3OHym1SRJ88BMw2Kiqj5WVY+36VrAGxkkaZ6YaVj8IMkbkixo0xuAh4bZmCTp6DHTsPhXwOuB79N73tNrAS96S9I8MdOhs/8JuKiq/hf0HjMOvJdeiEiSnuJmemTxa9NBAVBVP6T3YEBJ0jww07B42n4vKTqJmR+VSJLmuJn+B/99wP9I8il6j/l4PQPutJYkPTXN9A7u65JM0Xt4YIDfqaq7h9qZJOmoMeNTSS0cDAhJmocO6xHlkqT5xbCQJHUyLCRJnQwLSVInw0KS1MmwkCR1GlpYJLmmvSzprr7au5I8kGRLm17Vt+zyJDuS3JPk3L76mUm2tmVXJDnYq1olSUMyzCOLa4HVA+ofqKoVbfocQJLlwBrgtLbNh5MsaOtfCawFlrVp0D4lSUM0tLCoqq8CP5zh6ucBN1TVY1V1L7ADWJVkEbCwqm6rqgKuA84fSsOSpIMaxzWLy5Lc2U5TTT+ccDFwf986O1ttcZvfvz5QkrVJppJM7d2790j3LUnz1qjD4krgBcAKei9Rel+rD7oOUYeoD1RVV1XVyqpaOTHhW18l6UgZaVhU1YNVta+qngA+Aqxqi3YCS/pWnQR2tfrkgLokaYRGGhbtGsS01wDTI6U2AmuSHJfkVHoXsjdX1W7gkSRntVFQFwI3j7JnSdIQX2CU5Hrg5cDJSXYC7wRenmQFvVNJ9wEXA1TVtiQb6D3V9nHg0qra13Z1Cb2RVccDt7RJkjRCQwuLqrpgQPnqQ6y/jgEvVKqqKeD0I9iaJGmWvINbktTJsJAkdTIsJEmdDAtJUifDQpLUybCQJHUyLCRJnQwLSVInw0KS1MmwkCR1MiwkSZ0MC0lSJ8NCktTJsJAkdTIsJEmdDAtJUifDQpLUybCQJHUyLCRJnYYWFkmuSbInyV19tZOS3Jrk2+3zxL5llyfZkeSeJOf21c9MsrUtuyJJhtWzJGmwYR5ZXAus3q/2dmBTVS0DNrXvJFkOrAFOa9t8OMmCts2VwFpgWZv236ckaciGFhZV9VXgh/uVzwPWt/n1wPl99Ruq6rGquhfYAaxKsghYWFW3VVUB1/VtI0kakVFfszilqnYDtM/ntvpi4P6+9Xa22uI2v399oCRrk0wlmdq7d+8RbVyS5rOj5QL3oOsQdYj6QFV1VVWtrKqVExMTR6w5SZrvRh0WD7ZTS7TPPa2+E1jSt94ksKvVJwfUJUkjNOqw2Ahc1OYvAm7uq69JclySU+ldyN7cTlU9kuSsNgrqwr5tJEkjcsywdpzkeuDlwMlJdgLvBN4DbEjyJuB7wOsAqmpbkg3A3cDjwKVVta/t6hJ6I6uOB25pkyRphIYWFlV1wUEWnXOQ9dcB6wbUp4DTj2BrkqRZOloucEuSjmKGhSSpk2EhSepkWEiSOhkWkqROhoUkqZNhIUnqZFhIkjoZFpKkToaFJKmTYSFJ6mRYSJI6GRaSpE6GhSSpk2EhSepkWEiSOhkWkqROhoUkqdNYwiLJfUm2JtmSZKrVTkpya5Jvt88T+9a/PMmOJPckOXccPUvSfDbOI4t/VlUrqmpl+/52YFNVLQM2te8kWQ6sAU4DVgMfTrJgHA1L0nx1NJ2GOg9Y3+bXA+f31W+oqseq6l5gB7Bq9O1J0vw1rrAo4ItJbk+yttVOqardAO3zua2+GLi/b9udrXaAJGuTTCWZ2rt375Bal6T555gx/e7ZVbUryXOBW5N86xDrZkCtBq1YVVcBVwGsXLly4DqSpNkby5FFVe1qn3uAm+idVnowySKA9rmnrb4TWNK3+SSwa3TdSpJGHhZJTkjyrOl54DeAu4CNwEVttYuAm9v8RmBNkuOSnAosAzaPtmtJmt/GcRrqFOCmJNO//xdV9fkkfwtsSPIm4HvA6wCqaluSDcDdwOPApVW1bwx9S9K8NfKwqKrvAi8eUH8IOOcg26wD1g25NUnSQRxNQ2clSUcpw0KS1MmwkCR1MiwkSZ0MC0lSJ8NCktTJsJAkdTIsJEmdDAtJUifDQpLUybCQJHUyLCRJnQwLSVInw0KS1MmwkCR1MiwkSZ0MC0lSJ8NCktTJsJAkdZozYZFkdZJ7kuxI8vZx9yNJ88mcCIskC4APAb8JLAcuSLJ8vF1J0vwxJ8ICWAXsqKrvVtVPgBuA88bckyTNG6mqcffQKclrgdVV9a/b9zcC/7iqLttvvbXA2vb1hcA9Q2zrZOAHQ9z/MM3l3sH+x83+x2vY/f9yVU3sXzxmiD94JGVA7YCUq6qrgKuG3w4kmaqqlaP4rSNtLvcO9j9u9j9e4+p/rpyG2gks6fs+CewaUy+SNO/MlbD4W2BZklOT/AKwBtg45p4kad6YE6ehqurxJJcBXwAWANdU1bYxtzWS011DMpd7B/sfN/sfr7H0PycucEuSxmuunIaSJI2RYSFJ6mRYzFKSa5LsSXLXuHuZrSRLknwpyfYk25K8Zdw9zUaSFybZ0jc9nOSt4+5rNpLcl2Rr639q3P3MRpJnJ/lUkm+1v0P/ZNw9zVSSpyfZnOSb7e/+u8fd0+FIsiDJ3yX57Mh/22sWs5PkpcCjwHVVdfq4+5mNJIuARVV1R5JnAbcD51fV3WNubdbaI2AeoHdz5t+Pu5+ZSnIfsLKq5txNYUnWA/+9qj7aRiU+o6p+NOa2ZiRJgBOq6tEkxwJfA95SVV8fc2uzkuTfACuBhVX1W6P8bY8sZqmqvgr8cNx9HI6q2l1Vd7T5R4DtwOLxdnXYzgG+M5eCYi5LshB4KXA1QFX9ZK4EBUD1PNq+HtumOfV/ykkmgX8BfHQcv29YzFNJlgJnAN8YcyuHaw1w/bibOAwFfDHJ7e3xNHPFPwD2Ah9rp0E+muSEcTc1G+0UzhZgD3BrVc21v/t/Cvx74Ilx/LhhMQ8leSZwI/DWqnp43P3MVjsF8mrgv427l8NwdlW9hN4TlC9tpzXngmOAlwBXVtUZwI+BOfWqgKraV1Ur6D0BYlWSOXMaOclvAXuq6vZx9WBYzDPtfO2NwCeq6tPj7ucw/SZwR1U9OO5GZquqdrXPPcBN9J6oPBfsBHb2/d/4p+iFx5zTTp99GVg93k5m5Wzg1e2a1w3AK5L8+SgbMCzmkXaR72pge1W9f9z9PAkXMAdPQSU5oQ0soJ3C+Q1gToyqq6rvA/cneWErnQPMmYERSSaSPLvNHw+8EvjWWJuahaq6vKomq2opvVOwf11VbxhlD3PicR9HkyTXAy8HTk6yE3hnVV093q5m7GzgjcDWdu4W4B1V9bnxtTQ7SZ4B/HPg4nH3chhOAW7qZTbHAH9RVZ8fb0uz8mbgE+004HeBPxhzP7OxCFjfRtE9DdhQVSMffjqXOXRWktTJ01CSpE6GhSSpk2EhSepkWEiSOhkWkqROhoU0QJLn9D3d9vtJHuj7Xu3zriSfmR6/37ftN9sQ6+l7Kx5K8ov7rfOXSV6f5PeT7G2P0Ph2ki8k+fX91p1I8tMkF7fva5N8sm/5wiTfSXLq0P6BaN4zLKQBquqhqlrRHg/xX4EP9H3/cZs/nd5DJS+d3i7Ji+j9e/XSJCdU1Y+BLwLn963zi8A/BabH+X+yqs6oqmXAe4BPt/1Mex3wdXo3IwJ8BJhM8sr2/Y/pvWr43iP3T0D6eYaF9OTcxs8/ufdfAh+nFxCvbrXr6d11O+01wOer6v/sv7Oq+hK9dyz3P2TwAuBt9AJicfVujroE+NMkK+ndTf0nR+aPIw1mWEiHqd0NfA6wsa/8e8An6QXE9JHA54Ezkzynfe96Yu4dwK+231gC/FJVbQY2tP1TVXcCXwA2AX9YVT85En8m6WAMC2n2jm+PS3kIOAm4FSDJPwL2tndsbAJekuTE9h/yjcBrk5wMrKB35HEw6ZtfQy8koPcAuQv6ln0IeKAdjUhDZVhIs/d/27WLXwZ+gZ9ds7gA+NX2ZNDvAAuB323Lpk9FvRa4uap+eoj9n0HvxVTT+/z9ts+NwIuTLGvLnmBM7zbQ/GNYSIepqv438IfAv01yHL0L0b9WVUvb00HP42dHAl8CltELloOegkryMnrXKz7SnvB6QlUt7tvnf+bnr39II2FYSE9CVf0d8E3g9fROCT3Qt/irwPIki6rqCXrvEXlOq/f7vTYU938C7wB+t6q20wuam/Zb90Z+/lSUNBI+dVaS1MkjC0lSJ8NCktTJsJAkdTIsJEmdDAtJUifDQpLUybCQJHX6/0a4lC6VOGbiAAAAAElFTkSuQmCC\n",
=======
      "image/png": "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\n",
>>>>>>> 887b8b7d227b61825d01de448c637445f09f3deb
      "text/plain": [
       "<Figure size 432x288 with 1 Axes>"
      ]
     },
     "metadata": {
      "needs_background": "light"
     },
     "output_type": "display_data"
    }
   ],
   "source": [
    "cat_col_prop(x_train,'TRAVDAY')"
   ]
  },
  {
   "cell_type": "markdown",
   "metadata": {},
   "source": [
    "#### Core Based Statiscal Area FIPS code (HH_CBSA)"
   ]
  },
  {
   "cell_type": "code",
<<<<<<< HEAD
   "execution_count": 40,
=======
   "execution_count": 54,
>>>>>>> 887b8b7d227b61825d01de448c637445f09f3deb
   "metadata": {},
   "outputs": [
    {
     "name": "stdout",
     "output_type": "stream",
     "text": [
      "       counts  percentage\n",
      "XXXXX   15006   59.020649\n",
      "35620    7719   30.359882\n",
      "40380    1467    5.769912\n",
      "15380    1233    4.849558\n"
     ]
    },
    {
     "data": {
<<<<<<< HEAD
      "image/png": "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\n",
=======
      "image/png": "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\n",
>>>>>>> 887b8b7d227b61825d01de448c637445f09f3deb
      "text/plain": [
       "<Figure size 432x288 with 1 Axes>"
      ]
     },
     "metadata": {
      "needs_background": "light"
     },
     "output_type": "display_data"
    }
   ],
   "source": [
    "#Core Based Statistical Area (CBSA) FIPS code for the respondent's home address\n",
    "\n",
    "cat_col_prop(x_train,'HH_CBSA')\n",
    "\n",
    "# significant number of households under the 'XXXXX=Suppressed, in an MSA of less than 1 million ' category"
   ]
  },
  {
   "cell_type": "markdown",
   "metadata": {},
   "source": [
    "####  Home Ownership (HOMEOWN)"
   ]
  },
  {
   "cell_type": "code",
<<<<<<< HEAD
   "execution_count": 41,
=======
   "execution_count": 55,
>>>>>>> 887b8b7d227b61825d01de448c637445f09f3deb
   "metadata": {},
   "outputs": [
    {
     "name": "stdout",
     "output_type": "stream",
     "text": [
      "     counts  percentage\n",
      " 1    21452   84.373648\n",
      " 2     3776   14.851524\n",
      " 97     196    0.770895\n",
      "-7        1    0.003933\n"
     ]
    },
    {
     "data": {
<<<<<<< HEAD
      "image/png": "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\n",
=======
      "image/png": "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\n",
>>>>>>> 887b8b7d227b61825d01de448c637445f09f3deb
      "text/plain": [
       "<Figure size 432x288 with 1 Axes>"
      ]
     },
     "metadata": {
      "needs_background": "light"
     },
     "output_type": "display_data"
    }
   ],
   "source": [
    "cat_col_prop(x_train,'HOMEOWN')\n",
    "#Small count with missing value 2. to address in one-hot encoding"
   ]
  },
  {
   "cell_type": "markdown",
   "metadata": {},
   "source": [
    "#### Household Vehicle Count (HHVEHCNT)"
   ]
  },
  {
   "cell_type": "code",
<<<<<<< HEAD
   "execution_count": 42,
=======
   "execution_count": 56,
>>>>>>> 887b8b7d227b61825d01de448c637445f09f3deb
   "metadata": {},
   "outputs": [
    {
     "name": "stdout",
     "output_type": "stream",
     "text": [
      "    counts  percentage\n",
      "2    11356   44.664700\n",
      "1     6591   25.923304\n",
      "3     4623   18.182891\n",
      "4     1829    7.193707\n",
      "5      662    2.603736\n",
      "6      245    0.963618\n",
      "7       80    0.314651\n",
      "8       22    0.086529\n",
      "11       9    0.035398\n",
      "9        6    0.023599\n",
      "12       2    0.007866\n",
      "________\n",
      "new HHVEHCNT\n",
      "    counts  percentage\n",
      "2    11356   44.664700\n",
      "1     6591   25.923304\n",
      "3     4623   18.182891\n",
      ">3    2855   11.229105\n"
     ]
    },
    {
     "data": {
<<<<<<< HEAD
      "image/png": "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\n",
=======
      "image/png": "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\n",
>>>>>>> 887b8b7d227b61825d01de448c637445f09f3deb
      "text/plain": [
       "<Figure size 432x288 with 1 Axes>"
      ]
     },
     "metadata": {
      "needs_background": "light"
     },
     "output_type": "display_data"
    }
   ],
   "source": [
    "#count of household vehicles\n",
    "\n",
    "cat_col_prop(x_train,'HHVEHCNT')\n",
    "\n",
    "# as group size significantly smaller from 4 and above to bin to a single group\n",
    "\n",
    "x_train['HHVEHCNT'][x_train['HHVEHCNT']>3] = \">3\"\n",
    "x_test['HHVEHCNT'][x_test['HHVEHCNT']>3] = \">3\"\n",
    "\n",
    "print(\"________\")\n",
    "print(\"new HHVEHCNT\")\n",
    "print(pd.concat([x_train['HHVEHCNT'].value_counts(),\n",
    "          x_train['HHVEHCNT'].value_counts(normalize = True).mul(100)],axis = 1, keys = ('counts','percentage'))\n",
    "    )"
   ]
  },
  {
   "cell_type": "markdown",
   "metadata": {},
   "source": [
    "#### Family Income (HHFAMINC)"
   ]
  },
  {
   "cell_type": "code",
<<<<<<< HEAD
   "execution_count": 43,
=======
   "execution_count": 57,
>>>>>>> 887b8b7d227b61825d01de448c637445f09f3deb
   "metadata": {},
   "outputs": [
    {
     "name": "stdout",
     "output_type": "stream",
     "text": [
      "     counts  percentage\n",
      " 6     4580   18.013766\n",
      " 7     3829   15.059980\n",
      " 8     3144   12.365782\n",
      " 5     2664   10.477876\n",
      " 4     1974    7.764012\n",
      " 11    1874    7.370698\n",
      " 9     1860    7.315634\n",
      " 10    1780    7.000983\n",
      " 3     1590    6.253687\n",
      "-7      742    2.918387\n",
      " 2      732    2.879056\n",
      " 1      557    2.190757\n",
      "-8       97    0.381514\n",
      "-9        2    0.007866\n"
     ]
    },
    {
     "data": {
<<<<<<< HEAD
      "image/png": "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\n",
=======
      "image/png": "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\n",
>>>>>>> 887b8b7d227b61825d01de448c637445f09f3deb
      "text/plain": [
       "<Figure size 432x288 with 1 Axes>"
      ]
     },
     "metadata": {
      "needs_background": "light"
     },
     "output_type": "display_data"
    }
   ],
   "source": [
    "cat_col_prop(x_train,'HHFAMINC')\n",
    "# approx 3% missing (<0) to address in one-hot encoding"
   ]
  },
  {
   "cell_type": "markdown",
   "metadata": {},
   "source": [
    "#### Adult Ratio  (NUMADLT)"
   ]
  },
  {
   "cell_type": "code",
<<<<<<< HEAD
   "execution_count": 44,
=======
   "execution_count": 58,
>>>>>>> 887b8b7d227b61825d01de448c637445f09f3deb
   "metadata": {},
   "outputs": [
    {
     "name": "stdout",
     "output_type": "stream",
     "text": [
      "    counts  percentage\n",
      "2    16118   63.394297\n",
      "1     4266   16.778761\n",
      "3     3501   13.769912\n",
      "4     1192    4.688299\n",
      "5      286    1.124877\n",
      "6       38    0.149459\n",
      "7       11    0.043265\n",
      "10       7    0.027532\n",
      "8        6    0.023599\n"
     ]
    },
    {
     "data": {
<<<<<<< HEAD
      "image/png": "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\n",
=======
      "image/png": "iVBORw0KGgoAAAANSUhEUgAAAZEAAAEGCAYAAACkQqisAAAABHNCSVQICAgIfAhkiAAAAAlwSFlzAAALEgAACxIB0t1+/AAAADh0RVh0U29mdHdhcmUAbWF0cGxvdGxpYiB2ZXJzaW9uMy4xLjEsIGh0dHA6Ly9tYXRwbG90bGliLm9yZy8QZhcZAAAZhElEQVR4nO3dfbRddX3n8fdHIj5VBORqacJMaJui6KhgRCqrtJUKwVrDcnAMPpBRXJnl4ONYFca1iqMyS0ctPjOLkUiwLiKDWtIpilmIMm1VuKDyqBKBwhUkFwNIdQoGv/PH+V08Xs4NN5ucc27M+7XWWefs7/7ts7/nwr2f7Iezd6oKSZK6eMS4G5Ak7bwMEUlSZ4aIJKkzQ0SS1JkhIknqbNG4Gxi1ffbZp5YuXTruNiRpp3L55ZffUVUTs+u7XIgsXbqUycnJcbchSTuVJP88qO7uLElSZ4aIJKkzQ0SS1JkhIknqzBCRJHVmiEiSOjNEJEmdDS1EkqxNsjnJ1bPqb0jy/STXJPkfffWTk2xq847qq69otU1JTuqr75/kW0muT/K5JLsP67NIkgYb5pbIWcCK/kKSPwVWAs+oqqcBH2z1A4FVwNPaMp9MsluS3YBPAEcDBwLHtbEA7wdOq6plwJ3ACUP8LJKkAYb2jfWquiTJ0lnl1wHvq6p725jNrb4SWN/qNybZBBzS5m2qqhsAkqwHVia5Dng+8PI2Zh3wLuD07enx2W87e3uG7zCXf+D4saxXkna0UR8T+QPgj9puqK8neU6rLwZu6Rs31Wpz1Z8I3FVVW2fVB0qyJslkksnp6ekd9FEkSaMOkUXAXsChwNuAc5MEyICx1aE+UFWdUVXLq2r5xMSDrh8mSepo1BdgnAK+UL0bu1+a5JfAPq2+X9+4JcCt7fWg+h3AnkkWta2R/vGSpBEZ9ZbI39I7lkGSPwB2pxcIG4BVSR6VZH9gGXApcBmwrJ2JtTu9g+8bWghdDBzb3nc1cP5IP4kkaXhbIknOAf4E2CfJFHAKsBZY2077vQ9Y3QLhmiTnAtcCW4ETq+r+9j6vBy4EdgPWVtU1bRXvANYneS/wbeDMYX0WSdJgwzw767g5Zr1yjvGnAqcOqF8AXDCgfgO/OoNLkjQGfmNdktSZISJJ6swQkSR1ZohIkjozRCRJnRkikqTODBFJUmeGiCSpM0NEktSZISJJ6swQkSR1ZohIkjozRCRJnRkikqTODBFJUmeGiCSpM0NEktTZ0EIkydokm9utcGfP+8sklWSfNp0kH02yKcmVSQ7uG7s6yfXtsbqv/uwkV7VlPpokw/oskqTBhrklchawYnYxyX7AC4Cb+8pHA8vaYw1wehu7N717sz+X3q1wT0myV1vm9DZ2ZrkHrUuSNFxDC5GqugTYMmDWacDbgeqrrQTOrp5vAnsm2Rc4CthYVVuq6k5gI7Cizdujqr5RVQWcDRwzrM8iSRpspMdEkrwY+FFVfXfWrMXALX3TU622rfrUgPpc612TZDLJ5PT09MP4BJKkfiMLkSSPBd4J/NWg2QNq1aE+UFWdUVXLq2r5xMTEfNqVJM3DKLdEfg/YH/hukpuAJcAVSX6b3pbEfn1jlwC3PkR9yYC6JGmERhYiVXVVVT2pqpZW1VJ6QXBwVf0Y2AAc387SOhS4u6puAy4EjkyyVzugfiRwYZt3T5JD21lZxwPnj+qzSJJ6hnmK7znAN4ADkkwlOWEbwy8AbgA2Af8L+M8AVbUFeA9wWXu8u9UAXgd8qi3zQ+BLw/gckqS5LRrWG1fVcQ8xf2nf6wJOnGPcWmDtgPok8PSH16Uk6eHwG+uSpM4MEUlSZ4aIJKkzQ0SS1JkhIknqzBCRJHVmiEiSOjNEJEmdGSKSpM4MEUlSZ4aIJKkzQ0SS1JkhIknqzBCRJHVmiEiSOjNEJEmdDfPOhmuTbE5ydV/tA0m+l+TKJF9MsmffvJOTbEry/SRH9dVXtNqmJCf11fdP8q0k1yf5XJLdh/VZJEmDDXNL5CxgxazaRuDpVfUM4AfAyQBJDgRWAU9ry3wyyW5JdgM+ARwNHAgc18YCvB84raqWAXcC27r9riRpCIYWIlV1CbBlVu0rVbW1TX4TWNJerwTWV9W9VXUjvfumH9Iem6rqhqq6D1gPrEwS4PnAeW35dcAxw/oskqTBxnlM5DXAl9rrxcAtffOmWm2u+hOBu/oCaaYuSRqhsYRIkncCW4HPzpQGDKsO9bnWtybJZJLJ6enp7W1XkjSHkYdIktXAi4BXVNXMH/4pYL++YUuAW7dRvwPYM8miWfWBquqMqlpeVcsnJiZ2zAeRJI02RJKsAN4BvLiqft43awOwKsmjkuwPLAMuBS4DlrUzsXand/B9Qwufi4Fj2/KrgfNH9TkkST3DPMX3HOAbwAFJppKcAHwceDywMcl3kvxPgKq6BjgXuBb4MnBiVd3fjnm8HrgQuA44t42FXhj9lySb6B0jOXNYn0WSNNiihx7STVUdN6A85x/6qjoVOHVA/QLgggH1G+idvSVJGhO/sS5J6swQkSR1ZohIkjozRCRJnRkikqTODBFJUmeGiCSpM0NEktSZISJJ6swQkSR1ZohIkjozRCRJnRkikqTODBFJUmeGiCSpM0NEktSZISJJ6myYt8ddm2Rzkqv7ansn2Zjk+va8V6snyUeTbEpyZZKD+5ZZ3cZfn2R1X/3ZSa5qy3w0SYb1WSRJgw1zS+QsYMWs2knARVW1DLioTQMcDSxrjzXA6dALHeAU4Ln0boV7ykzwtDFr+pabvS5J0pANLUSq6hJgy6zySmBde70OOKavfnb1fBPYM8m+wFHAxqraUlV3AhuBFW3eHlX1jaoq4Oy+95Ikjcioj4k8uapuA2jPT2r1xcAtfeOmWm1b9akB9YGSrEkymWRyenr6YX8ISVLPQjmwPuh4RnWoD1RVZ1TV8qpaPjEx0bFFSdJsow6R29uuKNrz5lafAvbrG7cEuPUh6ksG1CVJIzTqENkAzJxhtRo4v69+fDtL61Dg7ra760LgyCR7tQPqRwIXtnn3JDm0nZV1fN97SZJGZNGw3jjJOcCfAPskmaJ3ltX7gHOTnADcDLy0Db8AeCGwCfg58GqAqtqS5D3AZW3cu6tq5mD96+idAfYY4EvtIUkaoaGFSFUdN8esIwaMLeDEOd5nLbB2QH0SePrD6VGS9PAslAPrkqSdkCEiSerMEJEkdTavEEly0XxqkqRdyzYPrCd5NPBYemdY7cWvvuS3B/A7Q+5NkrTAPdTZWf8JeDO9wLicX4XIT4FPDLEvSdJOYJshUlUfAT6S5A1V9bER9SRJ2knM63siVfWxJM8DlvYvU1VnD6kvSdJOYF4hkuQzwO8B3wHub+WZS7BLknZR8/3G+nLgwPbNckmSgPl/T+Rq4LeH2Ygkaecz3y2RfYBrk1wK3DtTrKoXD6UrSdJOYb4h8q5hNiFJ2jnN9+ysrw+7EUnSzme+Z2fdw69uP7s78EjgZ1W1x7AakyQtfPPdEnl8/3SSY4BDhtKRJGmn0ekqvlX1t8Dzd3AvkqSdzHx3Z72kb/IR9L430vk7I0neAry2vcdV9G6Huy+wHtgbuAJ4VVXdl+RR9L7U+GzgJ8DLquqm9j4nAyfQ+wLkG6vqwq49SZK233y3RP6i73EUcA+wsssKkywG3ggsr6qnA7sBq4D3A6dV1TLgTnrhQHu+s6p+HzitjSPJgW25pwErgE8m2a1LT5KkbuZ7TOTVQ1jvY5L8gt6l5m+jt3vs5W3+OnqnFZ9OL6ze1ernAR9PklZfX1X3Ajcm2UTvOM03dnCvkqQ5zPemVEuSfDHJ5iS3J/l8kiVdVlhVPwI+CNxMLzzupneZ+buqamsbNgUsbq8XA7e0Zbe28U/srw9YZnb/a5JMJpmcnp7u0rYkaYD57s76NLCB3n1FFgN/12rbrd3caiWwf3u/xwFHDxg6c8wlc8ybq/7gYtUZVbW8qpZPTExsf9OSpIHmGyITVfXpqtraHmcBXf8a/xlwY1VNV9UvgC8AzwP2TDKze20JcGt7PQXsB9DmPwHY0l8fsIwkaQTmGyJ3JHllkt3a45X0zpTq4mbg0CSPbcc2jgCuBS4Gjm1jVgPnt9cb2jRt/lfb1YQ3AKuSPCrJ/sAy4NKOPUmSOpjvtbNeA3yc3tlRBfwTvdNyt1tVfSvJefRO490KfBs4A/h7YH2S97bamW2RM4HPtAPnW+idkUVVXZPkXHoBtBU4saruR5I0MvMNkfcAq6vqToAke9M7OP6aLiutqlOAU2aVb2DAt+Cr6l+Bl87xPqcCp3bpQZL08M13d9YzZgIEoKq2AAcNpyVJ0s5iviHyiHZWFfDAlsh8t2IkSb+h5hsEHwL+qR3LKOA/4G4kSdrlzfcb62cnmaT3rfIAL6mqa4famSRpwZv3LqkWGgaHJOkBnS4FL0kSGCKSpIfBEJEkdWaISJI6M0QkSZ0ZIpKkzgwRSVJnhogkqTNDRJLUmSEiSerMEJEkdWaISJI6G0uIJNkzyXlJvpfkuiR/mGTvJBuTXN+e92pjk+SjSTYluTLJwX3vs7qNvz7J6rnXKEkahnFtiXwE+HJVPQV4JnAdcBJwUVUtAy5q0wBHA8vaYw1wOjxwY6xTgOfSu63uKf03zpIkDd/IQyTJHsDhwJkAVXVfVd0FrATWtWHrgGPa65XA2dXzTWDPJPsCRwEbq2pLu3XvRmDFCD+KJO3yxrEl8rvANPDpJN9O8qkkjwOeXFW3AbTnJ7Xxi4Fb+pafarW56g+SZE2SySST09PTO/bTSNIubBwhsgg4GDi9qg4Cfsavdl0NkgG12kb9wcWqM6pqeVUtn5iY2N5+JUlzGEeITAFTVfWtNn0evVC5ve2moj1v7hu/X9/yS4Bbt1GXJI3IyEOkqn4M3JLkgFY6gt5tdzcAM2dYrQbOb683AMe3s7QOBe5uu7suBI5Mslc7oH5kq0mSRmTe91jfwd4AfDbJ7sANwKvpBdq5SU4AbgZe2sZeALwQ2AT8vI2lqrYkeQ9wWRv37qraMrqPIEkaS4hU1XeA5QNmHTFgbAEnzvE+a4G1O7Y7SdJ8+Y11SVJnhogkqTNDRJLUmSEiSerMEJEkdWaISJI6M0QkSZ0ZIpKkzgwRSVJnhogkqTNDRJLUmSEiSerMEJEkdWaISJI6M0QkSZ0ZIpKkzsZ1Z0OS7AZMAj+qqhcl2R9YD+wNXAG8qqruS/Io4Gzg2cBPgJdV1U3tPU4GTgDuB95YVb8Rt8e9+d3/buTr/Dd/ddXI1ylp5zfOLZE3Adf1Tb8fOK2qlgF30gsH2vOdVfX7wGltHEkOBFYBTwNWAJ9swSRJGpGxhEiSJcCfA59q0wGeD5zXhqwDjmmvV7Zp2vwj2viVwPqqureqbqR3D/ZDRvMJJEkwvi2RDwNvB37Zpp8I3FVVW9v0FLC4vV4M3ALQ5t/dxj9QH7DMr0myJslkksnp6ekd+TkkaZc28hBJ8iJgc1Vd3l8eMLQeYt62lvn1YtUZVbW8qpZPTExsV7+SpLmN48D6YcCLk7wQeDSwB70tkz2TLGpbG0uAW9v4KWA/YCrJIuAJwJa++oz+ZSRJIzDyLZGqOrmqllTVUnoHxr9aVa8ALgaObcNWA+e31xvaNG3+V6uqWn1Vkke1M7uWAZeO6GNIkhjjKb4DvANYn+S9wLeBM1v9TOAzSTbR2wJZBVBV1yQ5F7gW2AqcWFX3j75tSdp1jTVEquprwNfa6xsYcHZVVf0r8NI5lj8VOHV4HUqStsVvrEuSOltIu7O0gB32scPGst5/fMM/jmW9kubHLRFJUmeGiCSpM0NEktSZISJJ6swQkSR1ZohIkjozRCRJnRkikqTODBFJUmeGiCSpM0NEktSZISJJ6swQkSR1ZohIkjozRCRJnY08RJLsl+TiJNcluSbJm1p97yQbk1zfnvdq9ST5aJJNSa5McnDfe61u469PsnqudUqShmMcWyJbgbdW1VOBQ4ETkxwInARcVFXLgIvaNMDRwLL2WAOcDr3QAU4BnkvvtrqnzASPJGk0Rh4iVXVbVV3RXt8DXAcsBlYC69qwdcAx7fVK4Ozq+SawZ5J9gaOAjVW1paruBDYCK0b4USRplzfWYyJJlgIHAd8CnlxVt0EvaIAntWGLgVv6Fptqtbnqg9azJslkksnp6ekd+REkaZc2thBJ8lvA54E3V9VPtzV0QK22UX9wseqMqlpeVcsnJia2v1lJ0kBjCZEkj6QXIJ+tqi+08u1tNxXteXOrTwH79S2+BLh1G3VJ0oiM4+ysAGcC11XVX/fN2gDMnGG1Gji/r358O0vrUODutrvrQuDIJHu1A+pHtpokaUQWjWGdhwGvAq5K8p1W+6/A+4Bzk5wA3Ay8tM27AHghsAn4OfBqgKrakuQ9wGVt3LurastoPoIkCcYQIlX1Dww+ngFwxIDxBZw4x3utBdbuuO4kSdvDb6xLkjozRCRJnRkikqTODBFJUmfjODtL2iG+fvgfj2W9f3zJ18eyXmkhcktEktSZISJJ6swQkSR1ZohIkjozRCRJnRkikqTODBFJUmeGiCSpM0NEktSZISJJ6swQkSR15rWzpB3o42/9u7Gs9/Uf+ouxrFfa6bdEkqxI8v0km5KcNO5+JGlXslOHSJLdgE8ARwMHAsclOXC8XUnSrmNn3511CLCpqm4ASLIeWAlcO9aupAXk1FceO5b1vvNvzhvLejVaqapx99BZkmOBFVX12jb9KuC5VfX6WePWAGva5AHA93fA6vcB7tgB77OjLcS+7Gl+7Gn+FmJfv+k9/duqmphd3Nm3RDKg9qBUrKozgDN26IqTyapaviPfc0dYiH3Z0/zY0/wtxL521Z526mMiwBSwX9/0EuDWMfUiSbucnT1ELgOWJdk/ye7AKmDDmHuSpF3GTr07q6q2Jnk9cCGwG7C2qq4Z0ep36O6xHWgh9mVP82NP87cQ+9ole9qpD6xLksZrZ9+dJUkaI0NEktSZIbKdkuyX5OIk1yW5JsmbFkBPa5NsTnL1uHuZkeTRSS5N8t32c/pv4+5pRpLdknw7yf8Zdy8zktyU5Kok30kyOe5+AJLsmeS8JN9r/7//4Zj7OaD9fGYeP03y5jH18qDfuSR7J9mY5Pr2vNc4emu9vKX93l2d5Jwkjx7WugyR7bcVeGtVPRU4FDhxAVxq5SxgxZh7mO1e4PlV9UzgWcCKJIeOuacZbwKuG3cTA/xpVT1rAX3X4CPAl6vqKcAzGfPPrKq+334+zwKeDfwc+OKY2jmLB//OnQRcVFXLgIva9MglWQy8EVheVU+nd9LRqmGtzxDZTlV1W1Vd0V7fQ+8Xa/GYe7oE2DLOHmarnn9pk49sj7GfxZFkCfDnwKfG3ctClmQP4HDgTICquq+q7hpvV7/mCOCHVfXP41j5HL9zK4F17fU64JiRNvXrFgGPSbIIeCxD/P6cIfIwJFkKHAR8a7ydLExtt9F3gM3AxqpaCD+nDwNvB3457kZmKeArSS5vl+kZt98FpoFPt11/n0ryuHE31WcVcM64m5jlyVV1G/T+sQk8aRxNVNWPgA8CNwO3AXdX1VeGtT5DpKMkvwV8HnhzVf103P0sRFV1f9v1sAQ4JMnTx9lPkhcBm6vq8nH2MYfDqupgelekPjHJ4WPuZxFwMHB6VR0E/Iwx7Z6ZrX2x+MXA/x53LwtROxazEtgf+B3gcUleOaz1GSIdJHkkvQD5bFV9Ydz9LHRtN8jXGP9xm8OAFye5CVgPPD/J34y3pZ6qurU9b6a3n/+Q8XbEFDDVt/V4Hr1QWQiOBq6oqtvH3cgstyfZF6A9bx5TH38G3FhV01X1C+ALwPOGtTJDZDslCb39xNdV1V+Pu5+FKslEkj3b68fQ+x/7e+PsqapOrqolVbWU3u6Qr1bV0P6FNl9JHpfk8TOvgSOBsZ5pV1U/Bm5JckArHcHCucXCcSy8XVnQu+TS6vZ6NXD+mPq4GTg0yWPb36sjGOJJEYbI9jsMeBW9f8XOnGr4wnE2lOQc4BvAAUmmkpwwzn6afYGLk1xJ7xpnG6tqwZxSu8A8GfiHJN8FLgX+vqq+POaeAN4AfLb9N3wW8N/H3A9JHgu8gN6/rsfZx6DfufcBL0hyfevxfePorW09ngdcAVxF7+/80C5/4mVPJEmduSUiSerMEJEkdWaISJI6M0QkSZ0ZIpKkzgwRaZ6SVJIP9U3/ZZJ3tddnJTl21vh/ac9L27Lv6Zu3T5JfJPn4rGW+204f7a+dleTGNu8HSc5uF9mbmX9Tkn36pl/bd/r5fX1XBz51B/0opAcYItL83Qu8pP8P9na4AXhR3/RLgV+7lXOSp9L7nTx8wHWq3tauiHwA8G1638HZfdCKqupTfVe73Qz8UZt+Z4e+pW0yRKT520rvS1tv6bDs/wOuSzJzmfeXAefOGvNy4DPAV+hdG+pB2tWRTwN+TO/yH9JYGSLS9vkE8IokT+iw7HpgVbsc/f08+PLcLwM+R++SHsc9xHtdATylQw/SDmWISNuhXbH5bHo3/fm1WYOGz5r+Mr3LYRxHLywekOQ5wHS7P8ZFwMEPcWe8bE/f0rAYItL2+zBwAtB/3OInwAN/9JPsDdzRv1BV3QdcDryV3lWg+x0HPKVdYfiHwB7Av99GDwexMO/OqF2MISJtp6raQu94Rv+FLr8GvKzvYPd/BC4esPiHgHdU1U9mCkkeQe9A+zOqamm7yvBKBuzSSs8b6V3gciFcpFG7OENE6uZDwANnabUrFP9f4PJ2N8fDgHfMXqiqrqmqdbPKhwM/anekm3EJcODM/SmAD7Sr/P4AeA69+7Hf1zf+ynY12akk3qJAI+NVfCVJnbklIknqzBCRJHVmiEiSOjNEJEmdGSKSpM4MEUlSZ4aIJKmz/w8D77OFUTyqvwAAAABJRU5ErkJggg==\n",
>>>>>>> 887b8b7d227b61825d01de448c637445f09f3deb
      "text/plain": [
       "<Figure size 432x288 with 1 Axes>"
      ]
     },
     "metadata": {
      "needs_background": "light"
     },
     "output_type": "display_data"
    }
   ],
   "source": [
    "cat_col_prop(x_train, 'NUMADLT')\n",
    "#no missing values"
   ]
  },
  {
   "cell_type": "code",
<<<<<<< HEAD
   "execution_count": 45,
=======
   "execution_count": 59,
>>>>>>> 887b8b7d227b61825d01de448c637445f09f3deb
   "metadata": {},
   "outputs": [
    {
     "name": "stdout",
     "output_type": "stream",
     "text": [
      "Before\n",
      "          counts  percentage\n",
      "1.000000   17591   69.187807\n",
      "0.500000    2802   11.020649\n",
      "0.666667    1929    7.587021\n",
      "0.400000     895    3.520157\n",
      "0.750000     656    2.580138\n",
      "0.333333     509    2.001967\n",
      "0.600000     378    1.486726\n",
      "0.800000     213    0.837758\n",
      "0.250000      93    0.365782\n",
      "0.285714      78    0.306785\n",
      "0.714286      53    0.208456\n",
      "0.833333      42    0.165192\n",
      "0.428571      40    0.157325\n",
      "0.571429      34    0.133727\n",
      "0.375000      20    0.078663\n",
      "0.222222      17    0.066863\n",
      "0.625000      17    0.066863\n",
      "0.200000      15    0.058997\n",
      "0.444444      11    0.043265\n",
      "0.166667      10    0.039331\n",
      "0.700000       7    0.027532\n",
      "0.142857       6    0.023599\n",
      "0.857143       5    0.019666\n",
      "0.363636       4    0.015733\n",
      "\n",
      "After\n",
      "               counts  percentage\n",
      "1               17591   69.187807\n",
      "more_than_0.5    6136   24.133727\n",
      "less_than_0.5    1698    6.678466\n"
     ]
    },
    {
     "data": {
<<<<<<< HEAD
      "image/png": "iVBORw0KGgoAAAANSUhEUgAAAZIAAAEICAYAAAB1f3LfAAAAOXRFWHRTb2Z0d2FyZQBNYXRwbG90bGliIHZlcnNpb24zLjMuNCwgaHR0cHM6Ly9tYXRwbG90bGliLm9yZy8QVMy6AAAACXBIWXMAAAsTAAALEwEAmpwYAAAbEklEQVR4nO3dfbRddX3n8fcHYpFWQB6iExNoqKItUBtLZBitLiq2UldH0IEapgqtdCIsqbXTuqrTNZXaMtVRyhSrtCgYcJQHQYS20kKxim0RGjASHjU8VCIpRGGUVqEGvvPH/l05XM693GTfc4839/1a66y793c/nN/mhPu5v/3wO6kqJEnaVjuMuwGSpPnNIJEk9WKQSJJ6MUgkSb0YJJKkXgwSSVIvi8bdgLm211571fLly8fdDEmaV66//vpvVNXiYcsWXJAsX76ctWvXjrsZkjSvJPnnqZZ5akuS1ItBIknqxSCRJPVikEiSejFIJEm9GCSSpF5GFiRJzk5yf5KbBmoXJFnXXncnWdfqy5N8d2DZnw1sc1CS9Uk2JDk9SVp9p7a/DUmuTbJ8VMciSZraKHska4DDBwtV9fqqWlFVK4CLgU8NLL5jYllVnTBQPwNYDezXXhP7PB54sKqeB5wGvHckRyFJmtbIHkisqqun6iW0XsUvAa+Ybh9JlgC7VtU1bf5c4EjgcuAI4OS26kXAnyZJzeI3dR309nNna1eaxvXvO3bcTZDUw7iukbwMuK+qvjpQ2zfJl5J8PsnLWm0psHFgnY2tNrHsHoCq2gJ8C9hz2JslWZ1kbZK1mzdvns3jkKQFb1xBcgxw3sD8JmCfqnoR8N+BTyTZFciQbSd6HNMte2Kx6syqWllVKxcvHjpUjCRpG835WFtJFgGvAw6aqFXVI8Ajbfr6JHcAz6frgSwb2HwZcG+b3gjsDWxs+9wNeGDkByBJeoJx9EheCdxWVd8/ZZVkcZId2/SP0V1Uv7OqNgEPJTmkXVc5Fri0bXYZcFybPgr47GxeH5Ekzcwob/89D7gGeEGSjUmOb4tW8cTTWgAvB25M8mW6C+cnVNVE7+JE4CPABuAOugvtAGcBeybZQHc67B2jOhZJ0tRGedfWMVPUf2VI7WK624GHrb8WOHBI/WHg6H6tlCT15ZPtkqReDBJJUi8GiSSpF4NEktSLQSJJ6sUgkST1YpBIknoxSCRJvRgkkqReDBJJUi8GiSSpF4NEktSLQSJJ6sUgkST1YpBIknoxSCRJvRgkkqReDBJJUi8GiSSpF4NEktTLyIIkydlJ7k9y00Dt5CRfT7KuvV49sOydSTYkuT3JqwbqByVZ35adniStvlOSC1r92iTLR3UskqSpjbJHsgY4fEj9tKpa0V6fAUiyP7AKOKBt86EkO7b1zwBWA/u118Q+jwcerKrnAacB7x3VgUiSpjayIKmqq4EHZrj6EcD5VfVIVd0FbAAOTrIE2LWqrqmqAs4FjhzY5pw2fRFw2ERvRZI0d8ZxjeSkJDe2U1+7t9pS4J6BdTa22tI2Pbn+hG2qagvwLWDPYW+YZHWStUnWbt68efaORJI050FyBvBcYAWwCTi11Yf1JGqa+nTbPLlYdWZVrayqlYsXL96qBkuSpjenQVJV91XVo1X1GPBh4OC2aCOw98Cqy4B7W33ZkPoTtkmyCNiNmZ9KkyTNkjkNknbNY8JrgYk7ui4DVrU7sfalu6h+XVVtAh5Kcki7/nEscOnANse16aOAz7brKJKkObRoVDtOch5wKLBXko3Au4BDk6ygOwV1N/BmgKq6OcmFwC3AFuAtVfVo29WJdHeA7Qxc3l4AZwEfS7KBrieyalTHIkma2siCpKqOGVI+a5r1TwFOGVJfCxw4pP4wcHSfNkqS+vPJdklSLwaJJKkXg0SS1ItBIknqxSCRJPVikEiSejFIJEm9GCSSpF4MEklSLwaJJKkXg0SS1ItBIknqxSCRJPVikEiSejFIJEm9GCSSpF4MEklSLwaJJKkXg0SS1ItBIknqZWRBkuTsJPcnuWmg9r4ktyW5McklSZ7Z6suTfDfJuvb6s4FtDkqyPsmGJKcnSavvlOSCVr82yfJRHYskaWqj7JGsAQ6fVLsSOLCqXgh8BXjnwLI7qmpFe50wUD8DWA3s114T+zweeLCqngecBrx39g9BkvRURhYkVXU18MCk2hVVtaXNfhFYNt0+kiwBdq2qa6qqgHOBI9viI4Bz2vRFwGETvRVJ0twZ5zWSNwGXD8zvm+RLST6f5GWtthTYOLDOxlabWHYPQAunbwF7jrbJkqTJFo3jTZP8LrAF+HgrbQL2qapvJjkI+HSSA4BhPYya2M00yya/32q602Pss88+fZouSZpkznskSY4DfhH45Xa6iqp6pKq+2aavB+4Ank/XAxk8/bUMuLdNbwT2bvtcBOzGpFNpE6rqzKpaWVUrFy9ePPsHJUkL2JwGSZLDgd8BXlNV3xmoL06yY5v+MbqL6ndW1SbgoSSHtOsfxwKXts0uA45r00cBn50IJknS3BnZqa0k5wGHAnsl2Qi8i+4urZ2AK9t18S+2O7ReDrw7yRbgUeCEqproXZxIdwfYznTXVCauq5wFfCzJBrqeyKpRHYskaWojC5KqOmZI+awp1r0YuHiKZWuBA4fUHwaO7tNGSVJ/PtkuSerFIJEk9WKQSJJ6MUgkSb0YJJKkXgwSSVIvBokkqReDRJLUi0EiSerFIJEk9WKQSJJ6MUgkSb0YJJKkXgwSSVIvBokkqReDRJLUi0EiSerFIJEk9WKQSJJ6MUgkSb0YJJKkXkYWJEnOTnJ/kpsGanskuTLJV9vP3QeWvTPJhiS3J3nVQP2gJOvbstOTpNV3SnJBq1+bZPmojkWSNLUZBUmSq2ZSm2QNcPik2juAq6pqP+CqNk+S/YFVwAFtmw8l2bFtcwawGtivvSb2eTzwYFU9DzgNeO9MjkWSNLumDZIkT0+yB7BXkt1bj2KP9tf/c6bbtqquBh6YVD4COKdNnwMcOVA/v6oeqaq7gA3AwUmWALtW1TVVVcC5k7aZ2NdFwGETvRVJ0txZ9BTL3wy8jS40rgcmflF/G/jgNrzfs6tqE0BVbUryrFZfCnxxYL2Nrfa9Nj25PrHNPW1fW5J8C9gT+MbkN02ymq5Xwz777LMNzZYkTWXaIKmqPwH+JMmvV9UHRtiOYT2JmqY+3TZPLladCZwJsHLlyqHrSJK2zVP1SACoqg8keQmwfHCbqjp3K9/vviRLWm9kCXB/q28E9h5Ybxlwb6svG1If3GZjkkXAbjz5VJokacRmerH9Y8D7gZ8BXtxeK7fh/S4DjmvTxwGXDtRXtTux9qW7qH5dOw32UJJD2vWPYydtM7Gvo4DPtusokqQ5NKMeCV1o7L81v6iTnAccSnehfiPwLuA9wIVJjge+BhwNUFU3J7kQuAXYArylqh5tuzqR7g6wnYHL2wvgLOBjSTbQ9URWzbRtkqTZM9MguQn4D8Cmme64qo6ZYtFhU6x/CnDKkPpa4MAh9YdpQSRJGp+ZBslewC1JrgMemShW1WtG0ipJ0rwx0yA5eZSNkCTNXzO9a+vzo26IJGl+mlGQJHmIx5/R+CHgacC/VdWuo2qYJGl+mGmPZJfB+SRHAgePokGSpPllm0b/rapPA6+Y3aZIkuajmZ7aet3A7A50z5X48J8kacZ3bf3ngektwN10o+9Kkha4mV4j+dVRN0SSND/NdKytZUkuad94eF+Si5Mse+otJUnbu5lebP8o3SCJz6H7HpC/aDVJ0gI30yBZXFUfraot7bUGWDzCdkmS5omZBsk3krwhyY7t9Qbgm6NsmCRpfphpkLwJ+CXgX+hGAD4K8AK8JGnGt//+AXBcVT0IkGQPui+6etOoGiZJmh9m2iN54USIAFTVA8CLRtMkSdJ8MtMg2SHJ7hMzrUcy096MJGk7NtMwOBX4xyQX0Q2N8ksM+TZDSdLCM9Mn289NspZuoMYAr6uqW0baMknSvDDj01MtOAwPSdITbNMw8n0keUGSdQOvbyd5W5KTk3x9oP7qgW3emWRDktuTvGqgflCS9W3Z6Uky18cjSQvdnAdJVd1eVSuqagVwEPAd4JK2+LSJZVX1GYAk+wOrgAOAw4EPJdmxrX8GsBrYr70On7sjkSTBGIJkksOAO6rqn6dZ5wjg/Kp6pKruAjYABydZAuxaVddUVQHnAkeOvMWSpCcYd5CsAs4bmD8pyY1Jzh643XgpcM/AOhtbbWmbnlyXJM2hsQVJkh8CXgN8spXOAJ4LrKAbhuXUiVWHbF7T1Ie91+oka5Os3bx5c59mS5ImGWeP5BeAG6rqPoCquq+qHq2qx4APAwe39TYCew9stwy4t9WXDak/SVWdWVUrq2rl4sUOWixJs2mcQXIMA6e12jWPCa8FbmrTlwGrkuyUZF+6i+rXVdUm4KEkh7S7tY4FLp2bpkuSJoxlmJMkPwz8HPDmgfL/TrKC7vTU3RPLqurmJBfSPcOyBXhLVT3atjkRWAPsDFzeXpKkOTSWIKmq7wB7Tqq9cZr1T2HIkCxVtRY4cNYbKEmasXHftSVJmucMEklSLwaJJKkXg0SS1ItBIknqxSCRJPVikEiSejFIJEm9GCSSpF4MEklSLwaJJKmXsYy1Jc2Fr737J8fdhO3ePr+3ftxN0A8AeySSpF4MEklSLwaJJKkXg0SS1ItBIknqxSCRJPVikEiSejFIJEm9GCSSpF7GEiRJ7k6yPsm6JGtbbY8kVyb5avu5+8D670yyIcntSV41UD+o7WdDktOTZBzHI0kL2Th7JD9bVSuqamWbfwdwVVXtB1zV5kmyP7AKOAA4HPhQkh3bNmcAq4H92uvwOWy/JIkfrFNbRwDntOlzgCMH6udX1SNVdRewATg4yRJg16q6pqoKOHdgG0nSHBlXkBRwRZLrk6xutWdX1SaA9vNZrb4UuGdg242ttrRNT64/SZLVSdYmWbt58+ZZPAxJ0rhG/31pVd2b5FnAlUlum2bdYdc9apr6k4tVZwJnAqxcuXLoOpKkbTOWHklV3dt+3g9cAhwM3NdOV9F+3t9W3wjsPbD5MuDeVl82pC5JmkNzHiRJfiTJLhPTwM8DNwGXAce11Y4DLm3TlwGrkuyUZF+6i+rXtdNfDyU5pN2tdezANpKkOTKOU1vPBi5pd+ouAj5RVX+d5J+AC5McD3wNOBqgqm5OciFwC7AFeEtVPdr2dSKwBtgZuLy9JElzaM6DpKruBH5qSP2bwGFTbHMKcMqQ+lrgwNluoyRp5n6Qbv+VJM1DBokkqReDRJLUi0EiSerFIJEk9WKQSJJ6MUgkSb0YJJKkXgwSSVIvBokkqReDRJLUi0EiSerFIJEk9WKQSJJ6MUgkSb0YJJKkXgwSSVIvBokkqReDRJLUi0EiSeplzoMkyd5J/i7JrUluTvIbrX5ykq8nWdderx7Y5p1JNiS5PcmrBuoHJVnflp2eJHN9PJK00C0aw3tuAX6rqm5IsgtwfZIr27LTqur9gysn2R9YBRwAPAf42yTPr6pHgTOA1cAXgc8AhwOXz9FxSJIYQ4+kqjZV1Q1t+iHgVmDpNJscAZxfVY9U1V3ABuDgJEuAXavqmqoq4FzgyNG2XpI02VivkSRZDrwIuLaVTkpyY5Kzk+zeakuBewY229hqS9v05LokaQ6NLUiSPAO4GHhbVX2b7jTVc4EVwCbg1IlVh2xe09SHvdfqJGuTrN28eXPfpkuSBowlSJI8jS5EPl5VnwKoqvuq6tGqegz4MHBwW30jsPfA5suAe1t92ZD6k1TVmVW1sqpWLl68eHYPRpIWuHHctRXgLODWqvrjgfqSgdVeC9zUpi8DViXZKcm+wH7AdVW1CXgoySFtn8cCl87JQUiSvm8cd229FHgjsD7Julb7H8AxSVbQnZ66G3gzQFXdnORC4Ba6O77e0u7YAjgRWAPsTHe3lndsSdIcm/Mgqaq/Z/j1jc9Ms80pwClD6muBA2evdZKkreWT7ZKkXsZxakuSpvW1048adxMWhH3eetGs7MceiSSpF4NEktSLp7Yk/cA5JpvG3YQF4R9maT/2SCRJvRgkkqReDBJJUi8GiSSpF4NEktSLQSJJ6sUgkST1YpBIknoxSCRJvRgkkqReDBJJUi8GiSSpF4NEktSLQSJJ6sUgkST1YpBIknqZ90GS5PAktyfZkOQd426PJC008zpIkuwIfBD4BWB/4Jgk+4+3VZK0sMzrIAEOBjZU1Z1V9e/A+cARY26TJC0oqapxt2GbJTkKOLyqfq3NvxH4j1V10qT1VgOr2+wLgNvntKFzay/gG+NuhLaJn938tr1/fj9aVYuHLVg01y2ZZRlSe1IyVtWZwJmjb874JVlbVSvH3Q5tPT+7+W0hf37z/dTWRmDvgfllwL1jaoskLUjzPUj+Cdgvyb5JfghYBVw25jZJ0oIyr09tVdWWJCcBfwPsCJxdVTePuVnjtiBO4W2n/OzmtwX7+c3ri+2SpPGb76e2JEljZpBIknoxSLYTSc5Ocn+Sm8bdFkkLi0Gy/VgDHD7uRuipJTk0yUsG5te0h2tH9X57JLkyyVfbz92nWO/uJOuTrEuydlTtGYUk/zri/R85OPxSks8lGdkzI+1O1GvbZ3ZBuyt12HqPts9rXZKx3bFqkGwnqupq4IFxt2MhSrK1dz8eCrzkqVaaRe8Arqqq/YCr2vxUfraqVizUB+umcSTdeH5z5b3Aae0zexA4for1vts+rxVV9Zq5a94TGSRasJIsT3Jbko8kuSnJx5O8Msk/tL8ED25/zX86yY1JvpjkhW3bk5OcmeQK4Nwki5NcnOSf2uulU70ncALwm+2vyJe1RS9P8o9J7pzonSR5RpKrktzQegpHDLT71iQfTnJzkiuS7DzNoR4BnNOmz6H7pbjdSvL29hncmOT3W+1HkvxVki+3z/r1rf6eJLe0dd8/xf5eArwGeF/7zJ7bFh2d5LokX5n4HNtn84X2md0w0fNsvdDPJbmo/Zv7eJJhI3PQ6q8ALmqlH/zPrKp8bScvYDlw07jbMV9e7b/XFuAn6f6ouh44m27onSOATwMfAN7V1n8FsK5Nn9zW37nNfwL4mTa9D3DrNO97MvDbA/NrgE+2NuxPNxApdM957dqm9wI2tLZNtHtFW3Yh8IZp3u//TZp/cIr17gJuaMe1etyfz1Z+lv/afv483fMcaf89/xJ4OfBfgA8PrL8bsAfduHsTj0E8c5r9rwGOGpj/HHBqm3418Ldt+oeBp7fp/YC1bfpQ4Ft0o2/sAFwz8e9lyHvtNfFvoM3vPdX/1+3fwVrgi8CR4/rvP68fSJRmwV1VtR4gyc10p4AqyXq6X9g/SvdLiKr6bJI9k+zWtr2sqr7bpl8J7D/wR+auSXapqodm2I5PV9VjwC1Jnt1qAf5XkpcDjwFLgYlld1XVujZ9fWtrXy+tqnuTPAu4Mslt1Z0ynU9+vr2+1OafQfcL/QvA+5O8F/jLqvpCOyX5MPCRJH9FFzpb41Pt5+B//6cBf5pkBfAo8PyB9a+rqo0ASda1bf5+yH5nNIZgs0/7zH4M+GyS9VV1x1Ycw6wwSLTQPTIw/djA/GN0/39sGbLNxP/U/zZQ2wH4TwPB0qcdE79IfhlYDBxUVd9Lcjfw9CHrPwpMd2rrviRLqmpTkiXA/cNWqqp728/7k1xC9zUN8y1IAvxRVf35kxYkB9H1Hv4oyRVV9e4kBwOH0Q2vdBJdr3OmJj6DR3n8d+lvAvcBP0X3b+LhIetP3maybwDPTLKoqrYwzRiCA5/ZnUk+B7wImPMg8RrJdiLJeXTd5Rck2Zhkqotz2jpX0/1CJ8mhwDeq6ttD1ruC7hcRbd0V0+zzIWCXGbz3bsD9LUR+lq53tC0uA45r08cBl05eoV1D2GVimu6v+vl4K/nfAG9K8gyAJEuTPCvJc4DvVNX/Bd4P/HRbZ7eq+gzwNmDFNPvdms9sU+tdvpFu6KatUt05q78DJu7km+oz2z3JTm16L+ClwC1b+36zwR7JdqKqjhl3G7ZTJwMfTXIj8B0e/4U82VuBD7b1FtEF0AlTrPsXwEXt4vmvT/PeHwf+It2tuOuA27a69Z33ABe2Py6+BhwN0H65fqSqXk13yuySdmpuEfCJqvrrbXy/samqK5L8BHBNO5Z/Bd4API/uYvljwPeAE+mC4dIkT6fryfzmNLs+H/hwkrfy+C/4YT4EXJzkaLow+Ldp1p3O7wDnJ/lDutN0ZwGku+X4hOq+g+kngD9vx7QD8J6qGkuQONaWJKkXT21Jknrx1JY0Ikl+FfiNSeV/qKq3jOj9Pkh3nnzQn1TVR0fxftujJL9LO/U34JNVdcqI3u8SYN9J5d+pqr8ZxfuNiqe2JEm9eGpLktSLQSJJ6sUg0YKUpJKcOjD/20lObtNPGo03bXTZNpZSJfmDgWV7Jflekj+dtM2X2/M9g7U1Se5qy76S5NwkSweW392eCSDJJW1spw1JvpXHR3ntNeBjnjyS7buTvLLPPrWwGSRaqB4BXjfxS3sr3Qn84sD80cDNgyu0Zxl2oBuM8Ucmbf/2qvop4AV0zwj8XYYME15Vr62qFcCvAV+ox0d5/cenamCS6R6EO5KBkWyr6veq6m+fap/SVAwSLVRb6Ab3m+4htKl8F7g1j38fxevpBk4c9F+Bj9E98T50eO/qnAb8C/AL29COJ2i9md9L8vd0I9P+t3Sj4H453cjEP5whI9kO9sCSHJbkS+lGGz574slpaToGiRayDwK/PDAI49Y4H1iVZBnduEmTx0J6PXABcB7wVKMO3AD8+Da0YZiHq+pnqup84FNV9eLW+7kVOL71Zi6j6xWtGBzgrz3hvQZ4fVX9JN3jASfOUru0HTNItGC1MbPOpRve5AmLhq0+af6vgZ+jC4kLBhckeTGwuar+me6LpH46U3wr4cQmW9PupzDYlgPTfTfGerrxwg54im1fQDeq8Ffa/Dl0Q7BL0zJItND9H7pvnxu8jvFN4Pu/+JPsQTci6/dV1b/TDR/+W8DFk/Z5DPDjbbTeO4BdaUPRT+FFdD2G2TA4ttMa4KTWu/h9Hh85eCqzGWhaQAwSLWhV9QDd9Y3B0ZI/B7x+4AL4r9ANwDfZqXRPIX9zopBkB7qL7y+squVVtZzuS7KedHornbcCS+h6OLNtF2BTkqfRRjBuphrJ9jZgeZLntfk3Ap8fQbu0nTFIpC4Qvn/3VlX9Jd0XIV2f7guIXko3GusTVNXNVXXOpPLLga9X1dcHalfTfenVkjb/viRfBr4CvJjue9L/fWD9G9tXAWxM8sc9jut/AtcCV/LEkYPPB97eLqpPfG0sVfUw8KvAJ9vpsMeAP+vx/logHCJFktSLPRJJUi+O/ivNM9vLiLHafnhqS5LUi6e2JEm9GCSSpF4MEklSLwaJJKkXg0SS1Mv/BwUNeuVybjCaAAAAAElFTkSuQmCC\n",
=======
      "image/png": "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\n",
>>>>>>> 887b8b7d227b61825d01de448c637445f09f3deb
      "text/plain": [
       "<Figure size 432x288 with 1 Axes>"
      ]
     },
     "metadata": {
      "needs_background": "light"
     },
     "output_type": "display_data"
    }
   ],
   "source": [
    "#Convert against proportion of Household size\n",
    "x_train['NUMADLT'] = x_train['NUMADLT']/x_train['HHSIZE']\n",
    "x_test['NUMADLT'] = x_test['NUMADLT']/x_test['HHSIZE']\n",
    "print('Before')\n",
    "cat_col_prop(x_train,'NUMADLT')\n",
    "#significant number of varying factors\n",
    "#to bin into groups\n",
    "x_train['NUMADLT_ratio'] = 'NA'\n",
    "x_train.loc[x_train['NUMADLT']==0, 'NUMADLT_ratio'] = '0'\n",
    "x_train.loc[x_train['NUMADLT'].between(0,0.5,inclusive = False),'NUMADLT_ratio'] = 'less_than_0.5'\n",
    "x_train.loc[x_train['NUMADLT'].between(0.5,1, inclusive = True),'NUMADLT_ratio'] = 'more_than_0.5'\n",
    "x_train.loc[x_train['NUMADLT']==1,'NUMADLT_ratio'] ='1'\n",
    "print('')\n",
    "print('After')\n",
    "cat_col_prop(x_train,'NUMADLT_ratio')\n",
    "\n",
    "\n",
    "x_test['NUMADLT_ratio'] = 'NA'\n",
    "x_test.loc[x_test['NUMADLT']==0, 'NUMADLT_ratio'] = '0'\n",
    "x_test.loc[x_test['NUMADLT'].between(0,0.5,inclusive = False),'NUMADLT_ratio'] = 'less_than_0.5'\n",
    "x_test.loc[x_test['NUMADLT'].between(0.5,1, inclusive = True),'NUMADLT_ratio'] = 'more_than_0.5'\n",
    "x_test.loc[x_test['NUMADLT']==1,'NUMADLT_ratio'] ='1'"
   ]
  },
  {
   "cell_type": "markdown",
   "metadata": {},
   "source": [
    "#### Young Child Ratio (YOUNGCHILD)"
   ]
  },
  {
   "cell_type": "code",
<<<<<<< HEAD
   "execution_count": 46,
=======
   "execution_count": 60,
>>>>>>> 887b8b7d227b61825d01de448c637445f09f3deb
   "metadata": {},
   "outputs": [
    {
     "name": "stdout",
     "output_type": "stream",
     "text": [
      "   counts  percentage\n",
      "0   23182   91.177974\n",
      "1    1671    6.572271\n",
      "2     518    2.037365\n",
      "3      49    0.192724\n",
      "5       4    0.015733\n",
      "4       1    0.003933\n"
     ]
    },
    {
     "data": {
<<<<<<< HEAD
      "image/png": "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\n",
=======
      "image/png": "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\n",
>>>>>>> 887b8b7d227b61825d01de448c637445f09f3deb
      "text/plain": [
       "<Figure size 432x288 with 1 Axes>"
      ]
     },
     "metadata": {
      "needs_background": "light"
     },
     "output_type": "display_data"
    }
   ],
   "source": [
    "cat_col_prop(x_train,'YOUNGCHILD')"
   ]
  },
  {
   "cell_type": "code",
<<<<<<< HEAD
   "execution_count": 47,
=======
   "execution_count": 61,
>>>>>>> 887b8b7d227b61825d01de448c637445f09f3deb
   "metadata": {},
   "outputs": [
    {
     "name": "stdout",
     "output_type": "stream",
     "text": [
      "               counts  percentage\n",
      "0               23182   91.177974\n",
      "less_than_0.5    1938    7.622419\n",
      "more_than_0.5     305    1.199607\n"
     ]
    },
    {
     "data": {
<<<<<<< HEAD
      "image/png": "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\n",
=======
      "image/png": "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\n",
>>>>>>> 887b8b7d227b61825d01de448c637445f09f3deb
      "text/plain": [
       "<Figure size 432x288 with 1 Axes>"
      ]
     },
     "metadata": {
      "needs_background": "light"
     },
     "output_type": "display_data"
    }
   ],
   "source": [
    "#Convert against proportion of Household size\n",
    "\n",
    "x_train['YOUNGCHILD'] = x_train['YOUNGCHILD']/x_train['HHSIZE']\n",
    "x_test['YOUNGCHILD'] = x_test['YOUNGCHILD']/x_test['HHSIZE']\n",
    "\n",
    "#Bin to groups\n",
    "x_train['YOUNGCHILD_ratio'] = 'NA'\n",
    "x_train.loc[x_train['YOUNGCHILD']==0,'YOUNGCHILD_ratio']= '0'\n",
    "x_train.loc[x_train['YOUNGCHILD'].between(0,0.5,inclusive = False),'YOUNGCHILD_ratio'] = 'less_than_0.5'\n",
    "x_train.loc[x_train['YOUNGCHILD'].between(0.5,1, inclusive = True),'YOUNGCHILD_ratio'] = 'more_than_0.5'\n",
    "x_train.loc[x_train['YOUNGCHILD']==1,'YOUNGCHILD_ratio'] ='1'\n",
    " \n",
    "\n",
    "cat_col_prop(x_train,'YOUNGCHILD_ratio')    \n",
    "\n",
    "x_test['YOUNGCHILD_ratio'] = 'NA'\n",
    "x_test.loc[x_test['YOUNGCHILD']==0,'YOUNGCHILD_ratio']= '0'\n",
    "x_test.loc[x_test['YOUNGCHILD'].between(0,0.5,inclusive = False),'YOUNGCHILD_ratio'] = 'less_than_0.5'\n",
    "x_test.loc[x_test['YOUNGCHILD'].between(0.5,1, inclusive = True),'YOUNGCHILD_ratio'] = 'more_than_0.5'\n",
    "x_test.loc[x_test['YOUNGCHILD']==1,'YOUNGCHILD_ratio'] ='1'\n",
    " \n"
   ]
  },
  {
   "cell_type": "markdown",
   "metadata": {},
   "source": [
    "#### Worker Count Proportion (WRKCOUNT)"
   ]
  },
  {
   "cell_type": "code",
<<<<<<< HEAD
   "execution_count": 48,
=======
   "execution_count": 62,
>>>>>>> 887b8b7d227b61825d01de448c637445f09f3deb
   "metadata": {},
   "outputs": [
    {
     "name": "stdout",
     "output_type": "stream",
     "text": [
      "   counts  percentage\n",
      "2    8775   34.513274\n",
      "1    7693   30.257620\n",
      "0    6707   26.379548\n",
      "3    1671    6.572271\n",
      "4     513    2.017699\n",
      "5      55    0.216323\n",
      "7       6    0.023599\n",
      "6       5    0.019666\n"
     ]
    },
    {
     "data": {
<<<<<<< HEAD
      "image/png": "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\n",
=======
      "image/png": "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\n",
>>>>>>> 887b8b7d227b61825d01de448c637445f09f3deb
      "text/plain": [
       "<Figure size 432x288 with 1 Axes>"
      ]
     },
     "metadata": {
      "needs_background": "light"
     },
     "output_type": "display_data"
    }
   ],
   "source": [
    "cat_col_prop(x_train,'WRKCOUNT')"
   ]
  },
  {
   "cell_type": "code",
<<<<<<< HEAD
   "execution_count": 49,
=======
   "execution_count": 63,
>>>>>>> 887b8b7d227b61825d01de448c637445f09f3deb
   "metadata": {},
   "outputs": [
    {
     "name": "stdout",
     "output_type": "stream",
     "text": [
      "               counts  percentage\n",
      "more_than_0.5    8284   32.582104\n",
      "0                6707   26.379548\n",
      "1                6416   25.235005\n",
      "less_than_0.5    4018   15.803343\n"
     ]
    },
    {
     "data": {
<<<<<<< HEAD
      "image/png": "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\n",
=======
      "image/png": "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\n",
>>>>>>> 887b8b7d227b61825d01de448c637445f09f3deb
      "text/plain": [
       "<Figure size 432x288 with 1 Axes>"
      ]
     },
     "metadata": {
      "needs_background": "light"
     },
     "output_type": "display_data"
    }
   ],
   "source": [
    "#Convert against proportion of Household size\n",
    "\n",
    "x_train['WRKCOUNT'] = x_train['WRKCOUNT']/x_train['HHSIZE']\n",
    "x_test['WRKCOUNT'] = x_test['WRKCOUNT']/x_test['HHSIZE']\n",
    "\n",
    "#Bin to groups\n",
    "x_train['WRKCOUNT_ratio'] = 'NA'\n",
    "x_train.loc[x_train['WRKCOUNT']==0,'WRKCOUNT_ratio']= '0'\n",
    "x_train.loc[x_train['WRKCOUNT'].between(0,0.5,inclusive = False),'WRKCOUNT_ratio'] = 'less_than_0.5'\n",
    "x_train.loc[x_train['WRKCOUNT'].between(0.5,1, inclusive = True),'WRKCOUNT_ratio'] = 'more_than_0.5'\n",
    "x_train.loc[x_train['WRKCOUNT']==1,'WRKCOUNT_ratio'] ='1'\n",
    "\n",
    "cat_col_prop(x_train,'WRKCOUNT_ratio')\n",
    "\n",
    "x_test['WRKCOUNT_ratio'] = 'NA'\n",
    "x_test.loc[x_test['WRKCOUNT']==0,'WRKCOUNT_ratio']= '0'\n",
    "x_test.loc[x_test['WRKCOUNT'].between(0,0.5,inclusive = False),'WRKCOUNT_ratio'] = 'less_than_0.5'\n",
    "x_test.loc[x_test['WRKCOUNT'].between(0.5,1, inclusive = True),'WRKCOUNT_ratio'] = 'more_than_0.5'\n",
    "x_test.loc[x_test['WRKCOUNT']==1,'WRKCOUNT_ratio'] ='1'\n",
    "\n",
    " "
   ]
  },
  {
   "cell_type": "markdown",
   "metadata": {},
   "source": [
    "#### Household Size (HHSIZE)"
   ]
  },
  {
   "cell_type": "code",
<<<<<<< HEAD
   "execution_count": 50,
=======
   "execution_count": 64,
>>>>>>> 887b8b7d227b61825d01de448c637445f09f3deb
   "metadata": {},
   "outputs": [
    {
     "name": "stdout",
     "output_type": "stream",
     "text": [
      "Before\n",
      "    counts  percentage\n",
      "2    10847   42.662734\n",
      "3     4371   17.191740\n",
      "4     3952   15.543756\n",
      "1     3675   14.454277\n",
      "5     1663    6.540806\n",
      "6      537    2.112094\n",
      "7      220    0.865290\n",
      "8       91    0.357915\n",
      "9       39    0.153392\n",
      "10      26    0.102262\n",
      "11       4    0.015733\n",
      "\n",
      "After\n",
      "         counts  percentage\n",
      "2         10847   42.662734\n",
      "above_3    6532   25.691249\n",
      "3          4371   17.191740\n",
      "1          3675   14.454277\n"
     ]
    },
    {
     "data": {
<<<<<<< HEAD
      "image/png": "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\n",
=======
      "image/png": "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\n",
>>>>>>> 887b8b7d227b61825d01de448c637445f09f3deb
      "text/plain": [
       "<Figure size 432x288 with 1 Axes>"
      ]
     },
     "metadata": {
      "needs_background": "light"
     },
     "output_type": "display_data"
    }
   ],
   "source": [
    "#count of household members\n",
    "print(\"Before\")\n",
    "cat_col_prop(x_train,'HHSIZE')\n",
    "\n",
    "# to bin tail HHSIZE\n",
    "\n",
    "x_train['HHSIZE'][x_train['HHSIZE']>3] = \"above_3\"\n",
    "\n",
    "print(\"\")\n",
    "print(\"After\")\n",
    "\n",
    "cat_col_prop(x_train,'HHSIZE')\n",
    "\n",
    "x_test['HHSIZE'][x_test['HHSIZE']>3] = \" above_3\""
   ]
  },
  {
   "cell_type": "markdown",
   "metadata": {},
   "source": [
    "#### Metropolitan Statistical Area (MSACAT)\n"
   ]
  },
  {
   "cell_type": "code",
<<<<<<< HEAD
   "execution_count": 51,
=======
   "execution_count": 65,
>>>>>>> 887b8b7d227b61825d01de448c637445f09f3deb
   "metadata": {},
   "outputs": [
    {
     "name": "stdout",
     "output_type": "stream",
     "text": [
      "   counts  percentage\n",
      "3   10912   42.918387\n",
      "1    7719   30.359882\n",
      "4    4094   16.102262\n",
      "2    2700   10.619469\n"
     ]
    },
    {
     "data": {
<<<<<<< HEAD
      "image/png": "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\n",
=======
      "image/png": "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\n",
>>>>>>> 887b8b7d227b61825d01de448c637445f09f3deb
      "text/plain": [
       "<Figure size 432x288 with 1 Axes>"
      ]
     },
     "metadata": {
      "needs_background": "light"
     },
     "output_type": "display_data"
    }
   ],
   "source": [
    "cat_col_prop(x_train,'MSACAT')\n",
    "             \n",
    "#no missing values and relatively proportional distribution"
   ]
  },
  {
   "cell_type": "markdown",
   "metadata": {},
   "source": [
    "#### Population size of MSA (MSASIZE)"
   ]
  },
  {
   "cell_type": "code",
<<<<<<< HEAD
   "execution_count": 52,
=======
   "execution_count": 66,
>>>>>>> 887b8b7d227b61825d01de448c637445f09f3deb
   "metadata": {},
   "outputs": [
    {
     "name": "stdout",
     "output_type": "stream",
     "text": [
      "   counts  percentage\n",
      "5    7719   30.359882\n",
      "1    6322   24.865290\n",
      "6    4094   16.102262\n",
      "3    3471   13.651917\n",
      "4    2700   10.619469\n",
      "2    1119    4.401180\n"
     ]
    },
    {
     "data": {
<<<<<<< HEAD
      "image/png": "iVBORw0KGgoAAAANSUhEUgAAAYsAAAEICAYAAACuxNj9AAAAOXRFWHRTb2Z0d2FyZQBNYXRwbG90bGliIHZlcnNpb24zLjMuNCwgaHR0cHM6Ly9tYXRwbG90bGliLm9yZy8QVMy6AAAACXBIWXMAAAsTAAALEwEAmpwYAAAYWUlEQVR4nO3df7DddX3n8ecLUH5pRigXNiaxoU7UDayC3MnQsmtd0RK3athWbNhFMi476TLU4m67StqZ/rCTGWaqTsUfzKSgJFXIZlGW1AEVs6XWLoIXpYaALFEQronkKnVF62CJ7/3jfDIeb27yvZF7zsmP52PmzPme9/f7+Z73IUxe+X4/3/M9qSokSdqfo0bdgCTp4GdYSJI6GRaSpE6GhSSpk2EhSepkWEiSOg00LJL81yTbktyf5KYkxyU5OckdSR5uzyf1bb8myfYkDyW5oK9+TpKtbd01STLIviVJPyuD+p5FkgXAF4ClVfWjJJuA24ClwJNVdXWSq4CTqupdSZYCNwHLgBcCnwNeUlW7k9wDXAl8se3jmqq6fX/vf8opp9TixYsH8tkk6XB17733fqeqxqbXjxnw+x4DHJ/kn4ETgB3AGuDVbf164E7gXcAKYGNVPQ08kmQ7sCzJo8C8qroLIMkG4EJgv2GxePFiJiYm5vjjSNLhLck3Z6oP7DRUVX0LeA/wGLAT+H9V9VngtKra2bbZCZzahiwAHu/bxWSrLWjL0+uSpCEZWFi0uYgVwOn0TiudmOSS/Q2ZoVb7qc/0nquTTCSZmJqaOtCWJUn7MMgJ7tcCj1TVVFX9M/BJ4FeAJ5LMB2jPu9r2k8CivvEL6Z22mmzL0+t7qap1VTVeVeNjY3udcpMk/ZwGGRaPAecmOaFdvXQ+8CCwGVjVtlkF3NqWNwMrkxyb5HRgCXBPO1X1VJJz234u7RsjSRqCgU1wV9XdSW4Gvgw8A3wFWAc8D9iU5DJ6gXJR235bu2Lqgbb9FVW1u+3ucuAG4Hh6E9v7ndyWJM2tgV06O2rj4+Pl1VCSdGCS3FtV49PrfoNbktTJsJAkdTIsJEmdBv0N7oPKOf99w6hbOGD3/vmlo25BkjyykCR1MywkSZ0MC0lSJ8NCktTJsJAkdTIsJEmdDAtJUifDQpLUybCQJHUyLCRJnQwLSVInw0KS1MmwkCR1MiwkSZ0GFhZJXprkvr7H95O8I8nJSe5I8nB7PqlvzJok25M8lOSCvvo5Sba2ddckyaD6liTtbWBhUVUPVdVZVXUWcA7wT8AtwFXAlqpaAmxpr0myFFgJnAEsBz6c5Oi2u2uB1cCS9lg+qL4lSXsb1mmo84GvV9U3gRXA+lZfD1zYllcAG6vq6ap6BNgOLEsyH5hXVXdVVQEb+sZIkoZgWGGxEripLZ9WVTsB2vOprb4AeLxvzGSrLWjL0+uSpCEZeFgkeS7wJuB/dm06Q632U5/pvVYnmUgyMTU1dWCNSpL2aRhHFq8HvlxVT7TXT7RTS7TnXa0+CSzqG7cQ2NHqC2eo76Wq1lXVeFWNj42NzeFHkKQj2zDC4mJ+egoKYDOwqi2vAm7tq69McmyS0+lNZN/TTlU9leTcdhXUpX1jJElDcMwgd57kBOB1wG/3la8GNiW5DHgMuAigqrYl2QQ8ADwDXFFVu9uYy4EbgOOB29tDkjQkAw2Lqvon4Bem1b5L7+qombZfC6ydoT4BnDmIHiVJ3fwGtySpk2EhSepkWEiSOhkWkqROhoUkqZNhIUnqZFhIkjoZFpKkToaFJKmTYSFJ6mRYSJI6GRaSpE6GhSSp00DvOqvheuzd/2rULRywF/3R1lG3IGkWPLKQJHUyLCRJnQwLSVInw0KS1GmgYZHkBUluTvK1JA8m+eUkJye5I8nD7fmkvu3XJNme5KEkF/TVz0myta27JkkG2bck6WcN+sji/cCnq+plwCuAB4GrgC1VtQTY0l6TZCmwEjgDWA58OMnRbT/XAquBJe2xfMB9S5L6DCwskswDXgVcD1BVP66q7wErgPVts/XAhW15BbCxqp6uqkeA7cCyJPOBeVV1V1UVsKFvjCRpCAZ5ZPFLwBTw0SRfSXJdkhOB06pqJ0B7PrVtvwB4vG/8ZKstaMvT65KkIRlkWBwDvBK4tqrOBn5IO+W0DzPNQ9R+6nvvIFmdZCLJxNTU1IH2K0nah0GGxSQwWVV3t9c30wuPJ9qpJdrzrr7tF/WNXwjsaPWFM9T3UlXrqmq8qsbHxsbm7INI0pFuYGFRVd8GHk/y0lY6H3gA2AysarVVwK1teTOwMsmxSU6nN5F9TztV9VSSc9tVUJf2jZEkDcGg7w31duDjSZ4LfAN4G72A2pTkMuAx4CKAqtqWZBO9QHkGuKKqdrf9XA7cABwP3N4ekqQhGWhYVNV9wPgMq87fx/ZrgbUz1CeAM+e0OUnSrPkNbklSJ8NCktTJsJAkdTIsJEmdDAtJUifDQpLUybCQJHUyLCRJnQwLSVInw0KS1MmwkCR1MiwkSZ0MC0lSJ8NCktTJsJAkdTIsJEmdDAtJUifDQpLUaaBhkeTRJFuT3JdkotVOTnJHkofb80l9269Jsj3JQ0ku6Kuf0/azPck1STLIviVJP2sYRxb/tqrOqqo9v8V9FbClqpYAW9prkiwFVgJnAMuBDyc5uo25FlgNLGmP5UPoW5LUjOI01ApgfVteD1zYV99YVU9X1SPAdmBZkvnAvKq6q6oK2NA3RpI0BIMOiwI+m+TeJKtb7bSq2gnQnk9t9QXA431jJ1ttQVueXpckDckxA97/eVW1I8mpwB1JvrafbWeah6j91PfeQS+QVgO86EUvOtBeJUn7MNAji6ra0Z53AbcAy4An2qkl2vOutvkksKhv+EJgR6svnKE+0/utq6rxqhofGxuby48iSUe0gYVFkhOTPH/PMvBrwP3AZmBV22wVcGtb3gysTHJsktPpTWTf005VPZXk3HYV1KV9YyRJQzDI01CnAbe0q1yPAW6sqk8n+RKwKcllwGPARQBVtS3JJuAB4Bngiqra3fZ1OXADcDxwe3tIkoZkYGFRVd8AXjFD/bvA+fsYsxZYO0N9AjhzrnuUJM2O3+CWJHUyLCRJnQwLSVInw0KS1MmwkCR1MiwkSZ0MC0lSJ8NCktRpVmGRZMtsapKkw9N+v8Gd5DjgBOCU9ot2e+4AOw944YB7kyQdJLpu9/HbwDvoBcO9/DQsvg98aHBtSZIOJvsNi6p6P/D+JG+vqg8MqSdJ0kFmVjcSrKoPJPkVYHH/mKraMKC+JEkHkVmFRZK/Al4M3AfsuW34nt/DliQd5mZ7i/JxYGlVzfhzppKkw9tsv2dxP/AvBtmIJOngNdsji1OAB5LcAzy9p1hVbxpIV5Kkg8psw+JPBtmEJOngNturof72532DJEcDE8C3quoNSU4G/ge9K6seBd5SVf/Ytl0DXEZvEv13q+ozrX4OP/0N7tuAK50/kaThme3VUE/Ru/oJ4LnAc4AfVtW8WQy/EniQ3re+Aa4CtlTV1Umuaq/flWQpsBI4g96XAD+X5CVVtRu4FlgNfJFeWCwHbp9N7zp8nPeB80bdwgH7+7f//ahbkObErCa4q+r5VTWvPY4DfhP4YNe4JAuBXweu6yuvANa35fXAhX31jVX1dFU9AmwHliWZD8yrqrva0cSGvjGSpCH4ue46W1X/C3jNLDb9C+CdwE/6aqdV1c62n53Aqa2+AHi8b7vJVlvQlqfX95JkdZKJJBNTU1OzaE+SNBuzPQ31G30vj6L3vYv9zhkkeQOwq6ruTfLq2bzNDLXaT33vYtU6YB3A+Pi4cxqSNEdmezXUG/uWn6E3Mb2iY8x5wJuS/DvgOGBeko8BTySZX1U72ymmXW37SWBR3/iFwI5WXzhDXZI0JLO9GuptB7rjqloDrAFoRxa/X1WXJPlzYBVwdXu+tQ3ZDNyY5H30JriXAPdU1e4kTyU5F7gbuBTwpoaSNESz/fGjhUluSbIryRNJPtEmr38eVwOvS/Iw8Lr2mqraBmwCHgA+DVzRroQCuJzeJPl24Ot4JZQkDdVsT0N9FLgRuKi9vqTVXjebwVV1J3BnW/4ucP4+tlsLrJ2hPgGcOcteJUlzbLZXQ41V1Uer6pn2uAEYG2BfkqSDyGzD4jtJLklydHtcAnx3kI1Jkg4esw2L/wS8Bfg2sBN4M3DAk96SpEPTbOcs/gxY1XcPp5OB99ALEUnSYW62RxYv3xMUAFX1JHD2YFqSJB1sZhsWRyU5ac+LdmQx26MSSdIhbrZ/4b8X+D9JbqZ3q423MMMlrpKkw9Nsv8G9IckEvZsHBviNqnpgoJ1Jkg4asz6V1MLBgJCkI5DzDtJB4m9f9aujbuGA/Ornf+4f0NQh6Of6PQtJ0pHFsJAkdTIsJEmdDAtJUifDQpLUybCQJHUyLCRJnQYWFkmOS3JPkn9Isi3Jn7b6yUnuSPJwe+6/59SaJNuTPJTkgr76OUm2tnXXJMmg+pYk7W2QRxZPA6+pqlcAZwHLk5wLXAVsqaolwJb2miRLgZXAGcBy4MNJjm77uhZYDSxpj+UD7FuSNM3AwqJ6ftBePqc9ClgBrG/19cCFbXkFsLGqnq6qR4DtwLIk84F5VXVXVRWwoW+MJGkIBjpn0X6C9T5gF3BHVd0NnFZVOwHa86lt8wXA433DJ1ttQVueXpckDclAw6KqdlfVWcBCekcJZ+5n85nmIWo/9b13kKxOMpFkYmpq6oD7lSTNbChXQ1XV94A76c01PNFOLdGed7XNJoFFfcMWAjtafeEM9ZneZ11VjVfV+NjY2Fx+BEk6og3yaqixJC9oy8cDrwW+BmwGVrXNVgG3tuXNwMokxyY5nd5E9j3tVNVTSc5tV0Fd2jdGkjQEg7xF+Xxgfbui6ShgU1V9KsldwKYklwGPARcBVNW2JJvo/WbGM8AVVbW77ety4AbgeOD29pAkDcnAwqKqvgqcPUP9u8D5+xizlhl+rrWqJoD9zXdIkgbIb3BLkjoZFpKkToaFJKmTv8EtaeA++Ht/PeoWDtjvvPeNo27hoOKRhSSpk2EhSepkWEiSOhkWkqROhoUkqZNhIUnqZFhIkjoZFpKkToaFJKmTYSFJ6mRYSJI6GRaSpE6GhSSpk2EhSeo0sLBIsijJ3yR5MMm2JFe2+slJ7kjycHs+qW/MmiTbkzyU5IK++jlJtrZ11yTJoPqWJO1tkEcWzwC/V1X/EjgXuCLJUuAqYEtVLQG2tNe0dSuBM4DlwIeTHN32dS2wGljSHssH2LckaZqBhUVV7ayqL7flp4AHgQXACmB922w9cGFbXgFsrKqnq+oRYDuwLMl8YF5V3VVVBWzoGyNJGoKhzFkkWQycDdwNnFZVO6EXKMCpbbMFwON9wyZbbUFbnl6XJA3JwMMiyfOATwDvqKrv72/TGWq1n/pM77U6yUSSiampqQNvVpI0o4GGRZLn0AuKj1fVJ1v5iXZqifa8q9UngUV9wxcCO1p94Qz1vVTVuqoar6rxsbGxufsgknSEG+TVUAGuBx6sqvf1rdoMrGrLq4Bb++orkxyb5HR6E9n3tFNVTyU5t+3z0r4xkqQhOGaA+z4PeCuwNcl9rfYHwNXApiSXAY8BFwFU1bYkm4AH6F1JdUVV7W7jLgduAI4Hbm8PSdKQDCwsquoLzDzfAHD+PsasBdbOUJ8Azpy77iRJB8JvcEuSOhkWkqROhoUkqZNhIUnqZFhIkjoZFpKkToaFJKmTYSFJ6mRYSJI6GRaSpE6GhSSpk2EhSepkWEiSOhkWkqROhoUkqZNhIUnqZFhIkjoZFpKkTgMLiyQfSbIryf19tZOT3JHk4fZ8Ut+6NUm2J3koyQV99XOSbG3rrkmyr59qlSQNyMB+gxu4AfggsKGvdhWwpaquTnJVe/2uJEuBlcAZwAuBzyV5SVXtBq4FVgNfBG4DlgO3D7BvSTogay9586hbOGB/+LGbD2j7gR1ZVNXngSenlVcA69vyeuDCvvrGqnq6qh4BtgPLkswH5lXVXVVV9ILnQiRJQzXsOYvTqmonQHs+tdUXAI/3bTfZagva8vS6JGmIDpYJ7pnmIWo/9Zl3kqxOMpFkYmpqas6ak6Qj3bDD4ol2aon2vKvVJ4FFfdstBHa0+sIZ6jOqqnVVNV5V42NjY3PauCQdyYYdFpuBVW15FXBrX31lkmOTnA4sAe5pp6qeSnJuuwrq0r4xkqQhGdjVUEluAl4NnJJkEvhj4GpgU5LLgMeAiwCqaluSTcADwDPAFe1KKIDL6V1ZdTy9q6C8EkqShmxgYVFVF+9j1fn72H4tsHaG+gRw5hy2Jkk6QAfLBLck6SBmWEiSOhkWkqROhoUkqZNhIUnqZFhIkjoZFpKkToaFJKmTYSFJ6mRYSJI6GRaSpE6GhSSpk2EhSepkWEiSOhkWkqROhoUkqZNhIUnqZFhIkjodMmGRZHmSh5JsT3LVqPuRpCPJIREWSY4GPgS8HlgKXJxk6Wi7kqQjxyERFsAyYHtVfaOqfgxsBFaMuCdJOmIcKmGxAHi87/Vkq0mShiBVNeoeOiW5CLigqv5ze/1WYFlVvX3adquB1e3lS4GHhtjmKcB3hvh+w3Q4fzbw8x3q/Hxz6xeramx68ZghNvBsTAKL+l4vBHZM36iq1gHrhtVUvyQTVTU+ivcetMP5s4Gf71Dn5xuOQ+U01JeAJUlOT/JcYCWwecQ9SdIR45A4sqiqZ5L8DvAZ4GjgI1W1bcRtSdIR45AIC4Cqug24bdR97MdITn8NyeH82cDPd6jz8w3BITHBLUkarUNlzkKSNEKGxbOU5NEkW5Pcl2Ri1P3MpSQfSbIryf2j7mVQkrwgyc1JvpbkwSS/POqe5kqS45Lck+QfkmxL8qej7mmuJTk6yVeSfGrUvcylJIuS/E37f3JbkitH3pOnoZ6dJI8C41V12F3nneRVwA+ADVV15qj7GYQk64G/q6rr2pV2J1TV90bc1pxIEuDEqvpBkucAXwCurKovjri1OZPkvwHjwLyqesOo+5krSeYD86vqy0meD9wLXFhVD4yqJ48stE9V9XngyVH3MShJ5gGvAq4HqKofHy5BAVA9P2gvn9Meh82/DpMsBH4duG7Uvcy1qtpZVV9uy08BDzLiu1YYFs9eAZ9Ncm/7BrkOHb8ETAEfbacyrkty4qibmkvtNM19wC7gjqq6e8QtzaW/AN4J/GTEfQxUksXA2cBI/+wMi2fvvKp6Jb074l7RTt3o0HAM8Erg2qo6G/ghcFjd/r6qdlfVWfTuerAsyWFxOjHJG4BdVXXvqHsZpCTPAz4BvKOqvj/KXgyLZ6mqdrTnXcAt9O6Qq0PDJDDZ96/tm+mFx2GnnV67E1g+2k7mzHnAm9qc4UbgNUk+NtqW5labZ/oE8PGq+uSo+zEsnoUkJ7bJJ9rpi18DDtsrhw43VfVt4PEkL22l84GRTSDOtSRjSV7Qlo8HXgt8baRNzZGqWlNVC6tqMb3b//zvqrpkxG3NmXZxwvXAg1X1vlH3A4fQN7gPUqcBt/T+XDkGuLGqPj3aluZOkpuAVwOnJJkE/riqrh9tV3Pu7cDH25VQ3wDeNuJ+5tJ8YH378bCjgE1VdVhdYnoYOw94K7C1zTkB/EG7k8VIeOmsJKmTp6EkSZ0MC0lSJ8NCktTJsJAkdTIsJEmdDAtpP5JUkr/qe31Mkqk9dzlNclqST7U7uz6Q5LZp4/9928fL+mpHJbkmyf3tjsVfSnJ6W/doklPauPumPX6S5PVJFif50bR1lw7rv4mOTH7PQtq/HwJnJjm+qn4EvA74Vt/6d9O759L7AZK8fNr4i+nd7XUl8Cet9lvAC4GXV9VP2g3xftg/qKpuoXdHANp+VwP/kd5PC78I+Hq7jYc0FB5ZSN1up3d3U+j95X9T37r59G4bAkBVfXXPcruvz3nAZfTCon/Mzqr6SRszWVX/uK83T/IS4I+At+4ZIw2bYSF12wisTHIc8HJ+9u6fHwKubz9U84dJXti37kLg01X1f4Enk+y579Qm4I3t9NF7k5y9rzdu9we6Efj9qnqsb9WLp52G+jfP/mNK+2ZYSB3a0cJiekcVt01b9xl6tzr/S+BlwFeSjLXVF9MLGtrzxW3MJPBSYA2922tvSXL+Pt7+z4BtVbVxWv3rVXVW3+PvnsVHlDo5ZyHNzmbgPfTulfUL/Suq6kl6//q/sU18vyrJncBr6M13FHA0UEne2X6U6Gl6p7duT/IEvaOQLf37TfJq4Dc5TO+Eq0OLRxbS7HwEeHdVbe0vJnlNkhPa8vOBFwOPAW+m93O0v1hVi6tqEfAI8K+TvHLP6aokR9E7tfXNafs9CfgocGn7pTRppAwLaRbaJPT7Z1h1DjCR5KvAXcB1VfUleqecbpm27SeA/wCcCvx1kvuBrwLPAB+ctu1/adtdO21u4rfa+ulzFr87Jx9U2gfvOitJ6uSRhSSpk2EhSepkWEiSOhkWkqROhoUkqZNhIUnqZFhIkjoZFpKkTv8fL0pfghIU+MAAAAAASUVORK5CYII=\n",
=======
      "image/png": "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\n",
>>>>>>> 887b8b7d227b61825d01de448c637445f09f3deb
      "text/plain": [
       "<Figure size 432x288 with 1 Axes>"
      ]
     },
     "metadata": {
      "needs_background": "light"
     },
     "output_type": "display_data"
    }
   ],
   "source": [
    "cat_col_prop(x_train,'MSASIZE')\n",
    "             \n",
    "#no missing values and relatively proportional distribution"
   ]
  },
  {
   "cell_type": "markdown",
   "metadata": {},
   "source": [
    "#### House in Urban or Rural Area (URBAN)"
   ]
  },
  {
   "cell_type": "code",
<<<<<<< HEAD
   "execution_count": 53,
=======
   "execution_count": 67,
>>>>>>> 887b8b7d227b61825d01de448c637445f09f3deb
   "metadata": {},
   "outputs": [
    {
     "name": "stdout",
     "output_type": "stream",
     "text": [
      "Before\n",
      "   counts  percentage\n",
      "1   14285   56.184857\n",
      "4    8638   33.974435\n",
      "2    2497    9.821042\n",
      "3       5    0.019666\n",
      "\n",
      "After\n",
      "       counts  percentage\n",
      "urban   16782     66.0059\n",
      "rural    8643     33.9941\n"
     ]
    },
    {
     "data": {
<<<<<<< HEAD
      "image/png": "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\n",
=======
      "image/png": "iVBORw0KGgoAAAANSUhEUgAAAZEAAAEGCAYAAACkQqisAAAABHNCSVQICAgIfAhkiAAAAAlwSFlzAAALEgAACxIB0t1+/AAAADh0RVh0U29mdHdhcmUAbWF0cGxvdGxpYiB2ZXJzaW9uMy4xLjEsIGh0dHA6Ly9tYXRwbG90bGliLm9yZy8QZhcZAAAXaklEQVR4nO3dfZBldX3n8ffHGdHViIA0xsxMnImOJOCaiLPCam3iisLgGod1MQWrYdZQNbuKRt31ATYpcUGyGjVEjJAiMjK4FCOLD8y6GHYKUWPCUyOIPEhmBCMtCE0G8anEDH73j/trc21uN81h7r0M/X5Vdd1zvud3zvkdqplPn6f7S1UhSVIXjxt3ByRJuy9DRJLUmSEiSerMEJEkdWaISJI6WzruDozavvvuWytXrhx3NyRpt3LNNdfcU1UTs+uLLkRWrlzJ5OTkuLshSbuVJP8wqO7lLElSZ4aIJKkzQ0SS1JkhIknqzBCRJHVmiEiSOjNEJEmdGSKSpM4MEUlSZ4vujfVH6gXvOHfcXdCj0DUfOHbcXZDGwjMRSVJnhogkqTNDRJLUmSEiSerMEJEkdTa0EEmyMcndSW6YVX9zkluS3JjkT/vqJybZ3pYd3ldf22rbk5zQV1+V5Mok25J8MskewzoWSdJgwzwTOQdY219I8m+BdcDzqupA4IOtfgBwNHBgW+eMJEuSLAE+ChwBHAAc09oCvB84rapWA/cCxw3xWCRJAwwtRKrqy8COWeU3AO+rqvtbm7tbfR2wuarur6rbgO3AC9vP9qq6tap+CmwG1iUJ8FLgwrb+JuDIYR2LJGmwUd8TeQ7wb9plqC8l+Vetvgy4va/dVKvNVX8a8L2q2jmrPlCSDUkmk0xOT0/vokORJI06RJYCewOHAO8ALmhnFRnQtjrUB6qqs6pqTVWtmZh40DjzkqSORv21J1PAp6uqgKuS/AzYt9VX9LVbDtzRpgfV7wH2SrK0nY30t5ckjcioz0Q+S+9eBkmeA+xBLxC2AEcneUKSVcBq4CrgamB1exJrD3o337e0ELoMOKptdz1w0UiPRJI0vDORJOcDLwH2TTIFnARsBDa2x35/CqxvgXBjkguAm4CdwPFV9UDbzpuAS4AlwMaqurHt4l3A5iTvBa4Fzh7WsUiSBhtaiFTVMXMset0c7U8FTh1Qvxi4eED9VnpPb0mSxsQ31iVJnRkikqTODBFJUmeGiCSpM0NEktSZISJJ6swQkSR1ZohIkjozRCRJnRkikqTODBFJUmeGiCSpM0NEktSZISJJ6swQkSR1ZohIkjobWogk2Zjk7jaK4exlb09SSfZt80lyepLtSa5PclBf2/VJtrWf9X31FyT5elvn9CQZ1rFIkgYb5pnIOcDa2cUkK4CXA9/uKx9Bb1z11cAG4MzWdh96w+oeTG8Uw5OS7N3WObO1nVnvQfuSJA3X0EKkqr4M7Biw6DTgnUD11dYB51bPFcBeSZ4BHA5sraodVXUvsBVY25btWVWXtzHazwWOHNaxSJIGG+k9kSSvAr5TVV+btWgZcHvf/FSrzVefGlCfa78bkkwmmZyenn4ERyBJ6jeyEEnyJOCPgHcPWjygVh3qA1XVWVW1pqrWTExMLKS7kqQFGOWZyLOAVcDXknwLWA58Nckv0zuTWNHXdjlwx0PUlw+oS5JGaGQhUlVfr6r9qmplVa2kFwQHVdV3gS3Ase0prUOA+6rqTuAS4LAke7cb6ocBl7RlP0hySHsq61jgolEdiySpZ5iP+J4PXA7sn2QqyXHzNL8YuBXYDvwV8EaAqtoBnAJc3X5ObjWANwAfa+t8E/j8MI5DkjS3pcPacFUd8xDLV/ZNF3D8HO02AhsH1CeB5z6yXkqSHgnfWJckdWaISJI6M0QkSZ0ZIpKkzgwRSVJnhogkqTNDRJLUmSEiSerMEJEkdWaISJI6M0QkSZ0ZIpKkzgwRSVJnhogkqTNDRJLUmSEiSepsmCMbbkxyd5Ib+mofSPKNJNcn+UySvfqWnZhke5JbkhzeV1/batuTnNBXX5XkyiTbknwyyR7DOhZJ0mDDPBM5B1g7q7YVeG5VPQ/4e+BEgCQHAEcDB7Z1zkiyJMkS4KPAEcABwDGtLcD7gdOqajVwLzDf8LuSpCEYWohU1ZeBHbNq/6+qdrbZK4DlbXodsLmq7q+q2+iNm/7C9rO9qm6tqp8Cm4F1SQK8FLiwrb8JOHJYxyJJGmyc90T+APh8m14G3N63bKrV5qo/DfheXyDN1AdKsiHJZJLJ6enpXdR9SdJYQiTJHwE7gfNmSgOaVYf6QFV1VlWtqao1ExMTD7e7kqQ5LB31DpOsB14JHFpVM//wTwEr+potB+5o04Pq9wB7JVnazkb620uSRmSkZyJJ1gLvAl5VVT/uW7QFODrJE5KsAlYDVwFXA6vbk1h70Lv5vqWFz2XAUW399cBFozoOSVLPMB/xPR+4HNg/yVSS44C/AJ4CbE1yXZK/BKiqG4ELgJuAvwaOr6oH2lnGm4BLgJuBC1pb6IXRf02ynd49krOHdSySpMGGdjmrqo4ZUJ7zH/qqOhU4dUD9YuDiAfVb6T29JUkaE99YlyR1ZohIkjozRCRJnRkikqTODBFJUmeGiCSpM0NEktSZISJJ6swQkSR1ZohIkjozRCRJnRkikqTODBFJUmeGiCSpM0NEktTZMAel2pjk7iQ39NX2SbI1ybb2uXerJ8npSbYnuT7JQX3rrG/tt7WhdWfqL0jy9bbO6UkGjbsuSRqiYZ6JnAOsnVU7Abi0qlYDl7Z5gCPoDYm7GtgAnAm90AFOAg6mNwDVSTPB09ps6Ftv9r4kSUM2tBCpqi8DO2aV1wGb2vQm4Mi++rnVcwWwV5JnAIcDW6tqR1XdC2wF1rZle1bV5W289XP7tiVJGpFR3xN5elXdCdA+92v1ZcDtfe2mWm2++tSA+kBJNiSZTDI5PT39iA9CktTzaLmxPuh+RnWoD1RVZ1XVmqpaMzEx0bGLkqTZRh0id7VLUbTPu1t9CljR1245cMdD1JcPqEuSRmjUIbIFmHnCaj1wUV/92PaU1iHAfe1y1yXAYUn2bjfUDwMuact+kOSQ9lTWsX3bkiSNyIJCJMmlC6nNWn4+cDmwf5KpJMcB7wNenmQb8PI2D3AxcCuwHfgr4I0AVbUDOAW4uv2c3GoAbwA+1tb5JvD5hRyLJGnXWTrfwiRPBJ4E7NvOBGbuRewJ/Mp861bVMXMsOnRA2wKOn2M7G4GNA+qTwHPn64MkabjmDRHgPwNvpRcY1/DPIfJ94KND7JckaTcwb4hU1YeBDyd5c1V9ZER9kiTtJh7qTASAqvpIkhcBK/vXqapzh9QvSdJuYEEhkuQTwLOA64AHWnnmTXFJ0iK1oBAB1gAHtBvgkiQBC39P5Abgl4fZEUnS7mehZyL7AjcluQq4f6ZYVa8aSq8kSbuFhYbIe4bZCUnS7mmhT2d9adgdkSTtfhb6dNYP+Odvyd0DeDzwo6rac1gdkyQ9+i30TOQp/fNJjqQ30qAkaRFb6D2RX1BVn01ywkO3lDRK3z75X467C3oU+tV3f31o217o5axX980+jt57I74zIkmL3ELPRH63b3on8C1646JLkhaxhd4Tef2wOyJJ2v0sdFCq5Uk+k+TuJHcl+VSS5Q+9piTpsWyhX3vycXpD2P4KsAz4P63WSZK3JbkxyQ1Jzk/yxCSrklyZZFuSTybZo7V9Qpvf3pav7NvOia1+S5LDu/ZHktTNQkNkoqo+XlU72885wESXHSZZBvwhsKaqngssAY4G3g+cVlWrgXuB49oqxwH3VtWzgdNaO5Ic0NY7EFgLnJFkSZc+SZK6WWiI3JPkdUmWtJ/XAf/4CPa7FPgXSZbSG373TuClwIVt+SbgyDa9rs3Tlh+aJK2+uarur6rb6I217rsrkjRCCw2RPwB+D/guvX/wjwI63Wyvqu8AHwS+3bZ1H72hd79XVTtbsyl6l81on7e3dXe29k/rrw9Y5xck2ZBkMsnk9PR0l25LkgZYaIicAqyvqomq2o9eqLynyw6T7E3vLGIVvXssTwaOGNB05j2UzLFsrvqDi1VnVdWaqlozMdHpKpwkaYCFhsjzquremZmq2gE8v+M+XwbcVlXTVfVPwKeBFwF7tctbAMuBO9r0FLACoC1/KrCjvz5gHUnSCCw0RB7XziAASLIPHb8yhd5lrEOSPKnd2zgUuAm4jN5lMoD1wEVtekubpy3/QhthcQtwdHt6axWwGriqY58kSR0sNAg+BPxdkgvpXTL6PeDULjusqivbdr5K7+33a4GzgP8LbE7y3lY7u61yNvCJJNvpnYEc3bZzY5IL6AXQTuD4qnoASdLILPSN9XOTTNJ7girAq6vqpq47raqTgJNmlW9lwNNVVfUT4DVzbOdUOoaZJOmRW/AlqRYanYNDkvTYs9B7IpIkPYghIknqzBCRJHVmiEiSOjNEJEmdGSKSpM4MEUlSZ4aIJKkzQ0SS1JkhIknqzBCRJHVmiEiSOjNEJEmdGSKSpM4MEUlSZ2MJkSR7JbkwyTeS3JzkXyfZJ8nWJNva596tbZKcnmR7kuuTHNS3nfWt/bYk6+feoyRpGMZ1JvJh4K+r6teB3wRuBk4ALq2q1cClbR7gCHrjp68GNgBnws/HeT8JOJjeiIgn9Y8DL0kavpGHSJI9gd+mjaFeVT+tqu8B64BNrdkm4Mg2vQ44t3quAPZK8gzgcGBrVe2oqnuBrcDaER6KJC164zgT+TVgGvh4kmuTfCzJk4GnV9WdAO1zv9Z+GXB73/pTrTZX/UGSbEgymWRyenp61x6NJC1i4wiRpcBBwJlV9XzgR/zzpatBMqBW89QfXKw6q6rWVNWaiYmJh9tfSdIcxhEiU8BUVV3Z5i+kFyp3tctUtM+7+9qv6Ft/OXDHPHVJ0oiMPESq6rvA7Un2b6VDgZuALcDME1brgYva9Bbg2PaU1iHAfe1y1yXAYUn2bjfUD2s1SdKILB3Tft8MnJdkD+BW4PX0Au2CJMcB3wZe09peDLwC2A78uLWlqnYkOQW4urU7uap2jO4QJEljCZGqug5YM2DRoQPaFnD8HNvZCGzctb2TJC2Ub6xLkjozRCRJnRkikqTODBFJUmeGiCSpM0NEktSZISJJ6swQkSR1ZohIkjozRCRJnRkikqTODBFJUmeGiCSpM0NEktSZISJJ6mxsIZJkSZJrk3yuza9KcmWSbUk+2QasIskT2vz2tnxl3zZObPVbkhw+niORpMVrnGcibwFu7pt/P3BaVa0G7gWOa/XjgHur6tnAaa0dSQ4AjgYOBNYCZyRZMqK+S5IYU4gkWQ78O+BjbT7AS4ELW5NNwJFtel2bpy0/tLVfB2yuqvur6jZ6w+e+cDRHIEmC8Z2J/DnwTuBnbf5pwPeqamebnwKWtellwO0Abfl9rf3P6wPW+QVJNiSZTDI5PT29K49Dkha1kYdIklcCd1fVNf3lAU3rIZbNt84vFqvOqqo1VbVmYmLiYfVXkjS3pWPY54uBVyV5BfBEYE96ZyZ7JVnazjaWA3e09lPACmAqyVLgqcCOvvqM/nUkSSMw8jORqjqxqpZX1Up6N8a/UFWvBS4DjmrN1gMXtektbZ62/AtVVa1+dHt6axWwGrhqRIchSWI8ZyJzeRewOcl7gWuBs1v9bOATSbbTOwM5GqCqbkxyAXATsBM4vqoeGH23JWnxGmuIVNUXgS+26VsZ8HRVVf0EeM0c658KnDq8HkqS5uMb65KkzgwRSVJnhogkqTNDRJLUmSEiSerMEJEkdWaISJI6M0QkSZ0ZIpKkzgwRSVJnhogkqTNDRJLUmSEiSerMEJEkdWaISJI6M0QkSZ2NPESSrEhyWZKbk9yY5C2tvk+SrUm2tc+9Wz1JTk+yPcn1SQ7q29b61n5bkvVz7VOSNBzjOBPZCfy3qvoN4BDg+CQHACcAl1bVauDSNg9wBL3x01cDG4AzoRc6wEnAwfRGRDxpJngkSaMx8hCpqjur6qtt+gfAzcAyYB2wqTXbBBzZptcB51bPFcBeSZ4BHA5sraodVXUvsBVYO8JDkaRFb6z3RJKsBJ4PXAk8varuhF7QAPu1ZsuA2/tWm2q1ueqD9rMhyWSSyenp6V15CJK0qI0tRJL8EvAp4K1V9f35mg6o1Tz1BxerzqqqNVW1ZmJi4uF3VpI00FhCJMnj6QXIeVX16Va+q12mon3e3epTwIq+1ZcDd8xTlySNyDiezgpwNnBzVf1Z36ItwMwTVuuBi/rqx7antA4B7muXuy4BDkuyd7uhflirSZJGZOkY9vli4PeBrye5rtX+O/A+4IIkxwHfBl7Tll0MvALYDvwYeD1AVe1IcgpwdWt3clXtGM0hSJJgDCFSVV9h8P0MgEMHtC/g+Dm2tRHYuOt6J0l6OHxjXZLUmSEiSerMEJEkdWaISJI6M0QkSZ0ZIpKkzgwRSVJnhogkqTNDRJLUmSEiSerMEJEkdWaISJI6M0QkSZ0ZIpKkzgwRSVJnhogkqbPdPkSSrE1yS5LtSU4Yd38kaTHZrUMkyRLgo8ARwAHAMUkOGG+vJGnx2K1DBHghsL2qbq2qnwKbgXVj7pMkLRojH2N9F1sG3N43PwUcPLtRkg3Ahjb7wyS3jKBvi8G+wD3j7sSjQT64ftxd0IP5+znjpOyKrTxzUHF3D5FB/2XqQYWqs4Czht+dxSXJZFWtGXc/pEH8/RyN3f1y1hSwom9+OXDHmPoiSYvO7h4iVwOrk6xKsgdwNLBlzH2SpEVjt76cVVU7k7wJuARYAmysqhvH3K3FxEuEejTz93MEUvWgWwiSJC3I7n45S5I0RoaIJKkzQ0QPS5Jzkhw17n5Iu0KSlyT53Lj7sTszRLRgSXbrBzH02JKeh/w3zN/b4TJEBECSlUlu6Jt/e5L3JPlikj9J8iXgLW3xy5L8TZK/T/LKvvX/JslX28+LWv0lbRsXJvlGkvOS7JLXZ7X4tN+zm5OcAXwVeKBv2VFJzmnT5yT5sySXAe9P8sIkf5fk2va5/3iO4LHHhNZC7FVVvwO9/zmBlcDvAM8CLkvybOBu4OVV9ZMkq4HzgZm3hZ8PHEjvRdC/BV4MfGWUB6DHlP2B11fVG5P8cJ52zwFeVlUPJNkT+O32WsDLgD8B/sMoOvtYZ4hoIT45a/6CqvoZsC3JrcCvA7cBf5Hkt+j9dficvvZXVdUUQJLr6IWQIaKu/qGqrlhAu/9dVTNnKk8FNrU/cAp4/NB6t8h4OUszdvKLvw9P7Jv+0ay2s18uKuBtwF3Ab9I7A9mjb/n9fdMP4B8vemT6fx/7fxefOE+7U4DLquq5wO8OaKuODBHNuAvYL8nTkjwBeOU8bV+T5HFJngX8GnALvb/07mxnKL9P7xsEpGG7K8lvtBvs/36edk8FvtOm/9PQe7WIGCICoKr+CTgZuBL4HPCNeZrfAnwJ+DzwX6rqJ8AZwPokV9C7lDX77EUahhPo/b5+AbhznnZ/CvzPJH+Lf+DsUn7tiSSpM89EJEmdGSKSpM4MEUlSZ4aIJKkzQ0SS1JkhIu0Cs797rNXe076D7JwktyW5LsnXkhza1+aLSW5py25OsmHWNp6fpJIcPqteST7UN//2JO8Z0uFJczJEpNF4R1X9FvBW4C9nLXttW/Ziel8W2P+2/zH0viLmmFnr3A+8Osm+w+qwtBCGiDRalwPL5lj2S/Re0nwAel91DhxF7w3rw5L0f1XHTnpjiL9taD2VFsAQkUZrLfDZWbXzklxP75sATun70sAXA7dV1TeBLwKvmLXeR4HXJnnqEPsrzcsQkXaNub76Yab+gfaNx/+L3teQ93ttVT0P+FXg7Ume2erHAJvb9GZmXdKqqu8D5wJ/+Aj7LnVmiEi7xj8Ce8+q7QPc06bfATwb+GNg06ANVNU0vYGWDk6yhN54F+9O8i3gI8ARSZ4ya7U/B44DnrwLjkF62AwRaReoqh8Cd848eZVkH3qXrr7S1+ZnwIeBx81+2qqt8yR6A3h9E3gZ8LWqWlFVK6vqmcCngCNn7XcHcAG9IJFGzhCRdp1jgT9uA299Afgf7X7Gz1XvG0/fC7yzr3xeW+ca4JyquobepavPzNr+p4D/OGC/HwJ8Sktj4bf4SpI680xEktSZISJJ6swQkSR1ZohIkjozRCRJnRkikqTODBFJUmf/HwjPqGkjmVmDAAAAAElFTkSuQmCC\n",
>>>>>>> 887b8b7d227b61825d01de448c637445f09f3deb
      "text/plain": [
       "<Figure size 432x288 with 1 Axes>"
      ]
     },
     "metadata": {
      "needs_background": "light"
     },
     "output_type": "display_data"
    }
   ],
   "source": [
    "print('Before')\n",
    "cat_col_prop(x_train,'URBAN')\n",
    "\n",
    "# combine 1 and 2 (in an urban area and in an urban cluster ) & combine 3 and 4 (surround by urban and not in urban)\n",
    "\n",
    "x_train['URBAN'][x_train['URBAN'].isin([1,2])] = 'urban'\n",
    "x_train['URBAN'][x_train['URBAN'].isin([3,4])] = 'rural'\n",
    "\n",
    "print(\"\")\n",
    "print('After')\n",
    "\n",
    "cat_col_prop(x_train, 'URBAN')\n",
    "\n",
    "x_test['URBAN'][x_test['URBAN'].isin([1,2])] = 'urban'\n",
    "x_test['URBAN'][x_test['URBAN'].isin([3,4])] = 'rural'"
   ]
  },
  {
   "cell_type": "markdown",
   "metadata": {},
   "source": [
    "#### URBANSIZE"
   ]
  },
  {
   "cell_type": "code",
<<<<<<< HEAD
   "execution_count": 54,
=======
   "execution_count": 68,
>>>>>>> 887b8b7d227b61825d01de448c637445f09f3deb
   "metadata": {},
   "outputs": [
    {
     "name": "stdout",
     "output_type": "stream",
     "text": [
      "   counts  percentage\n",
      "6   11140   43.815143\n",
      "5    4990   19.626352\n",
      "1    3821   15.028515\n",
      "3    2868   11.280236\n",
      "2    2606   10.249754\n"
     ]
    },
    {
     "data": {
<<<<<<< HEAD
      "image/png": "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\n",
=======
      "image/png": "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\n",
>>>>>>> 887b8b7d227b61825d01de448c637445f09f3deb
      "text/plain": [
       "<Figure size 432x288 with 1 Axes>"
      ]
     },
     "metadata": {
      "needs_background": "light"
     },
     "output_type": "display_data"
    }
   ],
   "source": [
    "#06 = not in an urbanised area \n",
    "#05 - 1 million with heavy rail \n",
    "\n",
    "#Relatively proportional classes\n",
    "cat_col_prop(x_train,'URBANSIZE')"
   ]
  },
  {
   "cell_type": "markdown",
   "metadata": {},
   "source": [
    "#### URBRUR"
   ]
  },
  {
   "cell_type": "code",
<<<<<<< HEAD
   "execution_count": 55,
=======
   "execution_count": 69,
>>>>>>> 887b8b7d227b61825d01de448c637445f09f3deb
   "metadata": {},
   "outputs": [
    {
     "name": "stdout",
     "output_type": "stream",
     "text": [
      "   counts  percentage\n",
      "1   16782     66.0059\n",
      "2    8643     33.9941\n"
     ]
    },
    {
     "data": {
<<<<<<< HEAD
      "image/png": "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\n",
=======
      "image/png": "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\n",
>>>>>>> 887b8b7d227b61825d01de448c637445f09f3deb
      "text/plain": [
       "<Figure size 432x288 with 1 Axes>"
      ]
     },
     "metadata": {
      "needs_background": "light"
     },
     "output_type": "display_data"
    }
   ],
   "source": [
    "cat_col_prop(x_train,'URBRUR')\n",
    "# missing values nor disproportion"
   ]
  },
  {
   "cell_type": "markdown",
   "metadata": {},
   "source": [
    "#### LIF_CYC "
   ]
  },
  {
   "cell_type": "code",
<<<<<<< HEAD
   "execution_count": 56,
=======
   "execution_count": 70,
>>>>>>> 887b8b7d227b61825d01de448c637445f09f3deb
   "metadata": {},
   "outputs": [
    {
     "name": "stdout",
     "output_type": "stream",
     "text": [
      "    counts  percentage\n",
      "10    7019   27.606686\n",
      "2     5796   22.796460\n",
      "6     3870   15.221239\n",
      "4     2543   10.001967\n",
      "1     1937    7.618486\n",
      "9     1738    6.835792\n",
      "8     1693    6.658800\n",
      "5      460    1.809243\n",
      "7      211    0.829892\n",
      "3      158    0.621436\n"
     ]
    },
    {
     "data": {
<<<<<<< HEAD
      "image/png": "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\n",
=======
      "image/png": "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\n",
>>>>>>> 887b8b7d227b61825d01de448c637445f09f3deb
      "text/plain": [
       "<Figure size 432x288 with 1 Axes>"
      ]
     },
     "metadata": {
      "needs_background": "light"
     },
     "output_type": "display_data"
    }
   ],
   "source": [
    "cat_col_prop(x_train,\"LIF_CYC\")\n",
    "\n",
    "# No major disproportion"
   ]
  },
  {
   "cell_type": "markdown",
   "metadata": {},
   "source": [
    "## 3. One-Hot- Encoding"
   ]
  },
  {
   "cell_type": "code",
<<<<<<< HEAD
   "execution_count": 57,
=======
   "execution_count": 71,
>>>>>>> 887b8b7d227b61825d01de448c637445f09f3deb
   "metadata": {},
   "outputs": [
    {
     "data": {
      "text/plain": [
       "R_AGE                                   int64\n",
       "EDUC                                    int64\n",
       "R_RACE                                  int64\n",
       "R_SEX                                   int64\n",
       "WRK_HOME                                int64\n",
       "WKFTPT                                  int64\n",
       "OCCAT                                   int64\n",
       "DRIVER                                  int64\n",
       "TRAVDAY                                 int64\n",
       "dist_to_work                interval[float64]\n",
       "dist_to_shopping            interval[float64]\n",
       "dist_to_family              interval[float64]\n",
       "dist_to_school_or_church    interval[float64]\n",
       "dist_to_relatives           interval[float64]\n",
       "dist_to_social              interval[float64]\n",
       "HH_CBSA                                object\n",
       "HOMEOWN                                 int64\n",
       "HHSIZE                                 object\n",
       "HHVEHCNT                               object\n",
       "HHFAMINC                                int64\n",
       "NUMADLT                               float64\n",
       "YOUNGCHILD                            float64\n",
       "WRKCOUNT                              float64\n",
       "MSACAT                                  int64\n",
       "MSASIZE                                 int64\n",
       "URBAN                                  object\n",
       "URBANSIZE                               int64\n",
       "URBRUR                                  int64\n",
       "LIF_CYC                                 int64\n",
       "AGE_bins                               object\n",
       "NUMADLT_ratio                          object\n",
       "YOUNGCHILD_ratio                       object\n",
       "WRKCOUNT_ratio                         object\n",
       "dtype: object"
      ]
     },
<<<<<<< HEAD
     "execution_count": 57,
=======
     "execution_count": 71,
>>>>>>> 887b8b7d227b61825d01de448c637445f09f3deb
     "metadata": {},
     "output_type": "execute_result"
    }
   ],
   "source": [
    "x_train.dtypes"
   ]
  },
  {
   "cell_type": "code",
<<<<<<< HEAD
   "execution_count": 58,
=======
   "execution_count": 72,
>>>>>>> 887b8b7d227b61825d01de448c637445f09f3deb
   "metadata": {},
   "outputs": [],
   "source": [
    "to_obj = ['EDUC','R_RACE','AGE_bins','HHFAMINC','HOMEOWN','R_SEX','TRAVDAY','WRK_HOME','WKFTPT','OCCAT','DRIVER','MSACAT','MSASIZE','URBAN','URBANSIZE','URBRUR','LIF_CYC','dist_to_work','dist_to_shopping','dist_to_family','dist_to_school_or_church','dist_to_relatives','dist_to_social']\n",
    "\n",
    "x_train[to_obj] = x_train[to_obj].astype(str)\n",
    "x_test[to_obj]= x_test[to_obj].astype(str)\n",
    "\n",
    "x_train.drop(['R_AGE'], axis = 1, inplace =True)\n",
    "x_test.drop(['R_AGE'],axis = 1, inplace = True)"
   ]
  },
  {
   "cell_type": "code",
<<<<<<< HEAD
   "execution_count": 59,
=======
   "execution_count": 73,
>>>>>>> 887b8b7d227b61825d01de448c637445f09f3deb
   "metadata": {},
   "outputs": [],
   "source": [
    "one_hot_col = [c for c in x_train if x_train[c].dtypes == 'O' ]\n",
    "x_train = pd.concat([x_train,pd.get_dummies(x_train[one_hot_col],prefix = one_hot_col)],axis = 1)\n",
    "x_train.drop(one_hot_col, axis = 1, inplace = True)\n",
    "\n",
    "x_test = pd.concat([x_test,pd.get_dummies(x_test[one_hot_col],prefix = one_hot_col)],axis = 1)\n",
    "x_test.drop(one_hot_col, axis = 1, inplace = True)"
   ]
  },
  {
   "cell_type": "code",
<<<<<<< HEAD
   "execution_count": 60,
=======
   "execution_count": 74,
>>>>>>> 887b8b7d227b61825d01de448c637445f09f3deb
   "metadata": {},
   "outputs": [],
   "source": [
    "#drop all negative value columns  \n",
    "\n",
    "na_cols_train =[c for c in x_train if ('NA' in c) or ('-' in c) or ('nan' in c)]\n",
    "\n",
    "x_train.drop(na_cols_train, axis = 1, inplace = True)\n",
    "\n",
    "\n",
    "na_cols_test =[c for c in x_test if ('NA' in c) or ('-' in c) or ('nan' in c)]\n",
    "x_test.drop(na_cols_test, axis = 1 , inplace = True)"
   ]
  },
  {
   "cell_type": "code",
<<<<<<< HEAD
   "execution_count": 61,
=======
   "execution_count": 75,
>>>>>>> 887b8b7d227b61825d01de448c637445f09f3deb
   "metadata": {},
   "outputs": [],
   "source": [
    "\n",
<<<<<<< HEAD
    "na_cols_train =[c for c in x_train if ('NA' in c) or ('-' in c) or ('nan' in c)]\n",
=======
    "dist_cols = [c for c in x_train if ('dist' in c)]\n",
>>>>>>> 887b8b7d227b61825d01de448c637445f09f3deb
    "\n",
    "x_train_with_dist = x_train[dist_cols]\n",
    "x_test_with_dist = x_test[dist_cols]\n",
    "\n",
    "x_train.drop(dist_cols, axis =1, inplace = True)\n",
    "x_test.drop(dist_cols, axis =1, inplace = True)\n",
    "\n",
<<<<<<< HEAD
    "na_cols_test =[c for c in x_test if ('NA' in c) or ('-' in c) or ('nan' in c)]\n",
    "x_test.drop(na_cols_test, axis = 1 , inplace = True)"
=======
    "\n",
    "#y_train = y_train.astype('int64')\n",
    "#y_test = y_test.astype('int64')"
>>>>>>> 887b8b7d227b61825d01de448c637445f09f3deb
   ]
  },
  {
   "cell_type": "code",
<<<<<<< HEAD
   "execution_count": 62,
=======
   "execution_count": 76,
>>>>>>> 887b8b7d227b61825d01de448c637445f09f3deb
   "metadata": {},
   "outputs": [
    {
     "data": {
      "text/plain": [
<<<<<<< HEAD
       "(25425, 132)"
      ]
     },
     "execution_count": 62,
=======
       "(25425, 108)"
      ]
     },
     "execution_count": 76,
>>>>>>> 887b8b7d227b61825d01de448c637445f09f3deb
     "metadata": {},
     "output_type": "execute_result"
    }
   ],
   "source": [
    "x_train.shape"
   ]
  },
  {
   "cell_type": "code",
<<<<<<< HEAD
   "execution_count": 63,
   "metadata": {},
   "outputs": [
    {
     "data": {
      "text/plain": [
       "(6357, 132)"
      ]
     },
     "execution_count": 63,
     "metadata": {},
     "output_type": "execute_result"
    }
   ],
=======
   "execution_count": 77,
   "metadata": {},
   "outputs": [],
>>>>>>> 887b8b7d227b61825d01de448c637445f09f3deb
   "source": [
    "\n",
    "x_train_with_dist = pd.concat([x_train,x_train_with_dist],axis=1)\n",
    "x_test_with_dist = pd.concat([x_test,x_test_with_dist],axis=1)\n"
   ]
  },
  {
   "cell_type": "code",
<<<<<<< HEAD
   "execution_count": 64,
=======
   "execution_count": 78,
   "metadata": {},
   "outputs": [],
   "source": [
    "dist_dict = {'dist_to_work_(1.0, 2.0]':'dist_to_work_between_1_and_2',\n",
    "            'dist_to_work_(11.0, 99.0]':'dist_to_work_more_than_11',\n",
    "            'dist_to_work_(2.0, 5.0]':'dist_to_work_between_2_and_5',\n",
    "            'dist_to_work_(5.0, 11.0]':'dist_to_work_between_5_and_11',\n",
    "             'dist_to_shopping_(1.0, 2.0]':'dist_to_shopping_between_1_and_2',\n",
    "             'dist_to_shopping_(11.0, 99.0]':'dist_to_shopping_more_than_11',\n",
    "             'dist_to_shopping_(2.0, 5.0]':'dist_to_shopping_between_2_and_5',\n",
    "             'dist_to_shopping_(5.0, 11.0]':'dist_to_shopping_between_5_and_11',\n",
    "             'dist_to_family_(1.0, 2.0]':'dist_to_family_between_1_and_2',\n",
    "             'dist_to_family_(11.0, 99.0]':'dist_to_family_greater_than_11',\n",
    "             'dist_to_family_(2.0, 5.0]':'dist_to_family_between_2_and_5',\n",
    "             'dist_to_family_(5.0, 11.0]':'dist_to_family_between_5_and_11',\n",
    "             'dist_to_school_or_church_(1.0, 2.0]':'dist_to_school_or_church_between_1_and_2',\n",
    "             'dist_to_school_or_church_(11.0, 99.0]':'dist_to_school_or_church_greater_than_11',\n",
    "             'dist_to_school_or_church_(2.0, 5.0]':'dist_to_school_or_church_between_2_and_5',\n",
    "             'dist_to_school_or_church_(5.0, 11.0]':'dist_to_school_or_church_between_5_and_11',\n",
    "             'dist_to_relatives_(1.0, 2.0]':'dist_to_relatvies_between_1_and_2',\n",
    "             'dist_to_relatives_(11.0, 99.0]':'dist_to_relatvies_greater_than_11',\n",
    "             'dist_to_relatives_(2.0, 5.0]':'dist_to_relatvies_between_2_and_5',\n",
    "             'dist_to_relatives_(5.0, 11.0]':'dist_to_relatvies_between_5_and_11',\n",
    "             'dist_to_social_(1.0, 2.0]':'dist_to_social_between_1_and_2',\n",
    "             'dist_to_social_(11.0, 99.0]':'dist_to_social_greater_than_11',\n",
    "             'dist_to_social_(2.0, 5.0]':'dist_to_social_between_2_and_5',\n",
    "             'dist_to_social_(5.0, 11.0]':'dist_to_social_between_5_and_11'}\n",
    "\n",
    "dist_cols = [c for c in x_train_with_dist if 'dist' in c]\n",
    "\n",
    "x_train_with_dist.rename(columns=dist_dict,inplace = True)\n",
    "x_test_with_dist.rename(columns = dist_dict, inplace = True)"
   ]
  },
  {
   "cell_type": "code",
   "execution_count": 79,
>>>>>>> 887b8b7d227b61825d01de448c637445f09f3deb
   "metadata": {},
   "outputs": [
    {
     "data": {
      "text/html": [
       "<div>\n",
       "<style scoped>\n",
       "    .dataframe tbody tr th:only-of-type {\n",
       "        vertical-align: middle;\n",
       "    }\n",
       "\n",
       "    .dataframe tbody tr th {\n",
       "        vertical-align: top;\n",
       "    }\n",
       "\n",
       "    .dataframe thead th {\n",
       "        text-align: right;\n",
       "    }\n",
       "</style>\n",
       "<table border=\"1\" class=\"dataframe\">\n",
       "  <thead>\n",
       "    <tr style=\"text-align: right;\">\n",
       "      <th></th>\n",
       "      <th>NUMADLT</th>\n",
       "      <th>YOUNGCHILD</th>\n",
       "      <th>WRKCOUNT</th>\n",
       "      <th>EDUC_1</th>\n",
       "      <th>EDUC_2</th>\n",
       "      <th>EDUC_3</th>\n",
       "      <th>EDUC_4</th>\n",
       "      <th>EDUC_5</th>\n",
       "      <th>R_RACE_1</th>\n",
       "      <th>R_RACE_2</th>\n",
       "      <th>...</th>\n",
       "      <th>NUMADLT_ratio_1</th>\n",
       "      <th>NUMADLT_ratio_less_than_0.5</th>\n",
       "      <th>NUMADLT_ratio_more_than_0.5</th>\n",
       "      <th>YOUNGCHILD_ratio_0</th>\n",
       "      <th>YOUNGCHILD_ratio_less_than_0.5</th>\n",
       "      <th>YOUNGCHILD_ratio_more_than_0.5</th>\n",
       "      <th>WRKCOUNT_ratio_0</th>\n",
       "      <th>WRKCOUNT_ratio_1</th>\n",
       "      <th>WRKCOUNT_ratio_less_than_0.5</th>\n",
       "      <th>WRKCOUNT_ratio_more_than_0.5</th>\n",
       "    </tr>\n",
       "  </thead>\n",
       "  <tbody>\n",
       "    <tr>\n",
<<<<<<< HEAD
       "      <th>19406</th>\n",
       "      <td>1.0</td>\n",
       "      <td>0.0</td>\n",
       "      <td>1.00</td>\n",
=======
       "      <th>27442</th>\n",
       "      <td>0.500000</td>\n",
       "      <td>0.25</td>\n",
       "      <td>0.250000</td>\n",
       "      <td>1</td>\n",
>>>>>>> 887b8b7d227b61825d01de448c637445f09f3deb
       "      <td>0</td>\n",
       "      <td>0</td>\n",
       "      <td>0</td>\n",
       "      <td>0</td>\n",
       "      <td>1</td>\n",
       "      <td>1</td>\n",
       "      <td>0</td>\n",
       "      <td>...</td>\n",
       "      <td>0</td>\n",
       "      <td>0</td>\n",
       "      <td>1</td>\n",
       "      <td>0</td>\n",
       "      <td>1</td>\n",
       "      <td>0</td>\n",
       "      <td>1</td>\n",
       "      <td>0</td>\n",
       "      <td>0</td>\n",
<<<<<<< HEAD
       "    </tr>\n",
       "    <tr>\n",
       "      <th>19181</th>\n",
       "      <td>1.0</td>\n",
       "      <td>0.0</td>\n",
       "      <td>1.00</td>\n",
=======
       "      <td>1</td>\n",
       "      <td>0</td>\n",
       "    </tr>\n",
       "    <tr>\n",
       "      <th>24393</th>\n",
       "      <td>1.000000</td>\n",
       "      <td>0.00</td>\n",
       "      <td>1.000000</td>\n",
>>>>>>> 887b8b7d227b61825d01de448c637445f09f3deb
       "      <td>0</td>\n",
       "      <td>0</td>\n",
       "      <td>0</td>\n",
       "      <td>1</td>\n",
       "      <td>0</td>\n",
       "      <td>1</td>\n",
       "      <td>0</td>\n",
       "      <td>...</td>\n",
       "      <td>1</td>\n",
       "      <td>0</td>\n",
       "      <td>0</td>\n",
       "      <td>1</td>\n",
       "      <td>0</td>\n",
       "      <td>0</td>\n",
       "      <td>0</td>\n",
       "      <td>1</td>\n",
       "      <td>0</td>\n",
       "      <td>0</td>\n",
       "    </tr>\n",
       "    <tr>\n",
<<<<<<< HEAD
       "      <th>15046</th>\n",
       "      <td>0.5</td>\n",
       "      <td>0.0</td>\n",
       "      <td>0.25</td>\n",
       "      <td>0</td>\n",
=======
       "      <th>24351</th>\n",
       "      <td>0.500000</td>\n",
       "      <td>0.00</td>\n",
       "      <td>1.000000</td>\n",
       "      <td>1</td>\n",
>>>>>>> 887b8b7d227b61825d01de448c637445f09f3deb
       "      <td>0</td>\n",
       "      <td>0</td>\n",
       "      <td>0</td>\n",
       "      <td>0</td>\n",
       "      <td>1</td>\n",
       "      <td>0</td>\n",
       "      <td>...</td>\n",
       "      <td>0</td>\n",
       "      <td>0</td>\n",
       "      <td>1</td>\n",
       "      <td>1</td>\n",
       "      <td>0</td>\n",
       "      <td>0</td>\n",
       "      <td>0</td>\n",
       "      <td>0</td>\n",
       "      <td>1</td>\n",
       "      <td>0</td>\n",
       "    </tr>\n",
       "    <tr>\n",
<<<<<<< HEAD
       "      <th>229</th>\n",
       "      <td>1.0</td>\n",
       "      <td>0.0</td>\n",
       "      <td>0.00</td>\n",
       "      <td>0</td>\n",
=======
       "      <th>6687</th>\n",
       "      <td>1.000000</td>\n",
       "      <td>0.00</td>\n",
       "      <td>0.500000</td>\n",
>>>>>>> 887b8b7d227b61825d01de448c637445f09f3deb
       "      <td>0</td>\n",
       "      <td>0</td>\n",
       "      <td>0</td>\n",
       "      <td>0</td>\n",
       "      <td>1</td>\n",
       "      <td>1</td>\n",
       "      <td>0</td>\n",
       "      <td>...</td>\n",
       "      <td>1</td>\n",
       "      <td>0</td>\n",
       "      <td>0</td>\n",
       "      <td>1</td>\n",
       "      <td>0</td>\n",
       "      <td>0</td>\n",
<<<<<<< HEAD
       "      <td>1</td>\n",
       "      <td>0</td>\n",
       "      <td>0</td>\n",
       "      <td>0</td>\n",
       "    </tr>\n",
       "    <tr>\n",
       "      <th>11509</th>\n",
       "      <td>1.0</td>\n",
       "      <td>0.0</td>\n",
=======
       "      <td>0</td>\n",
       "      <td>0</td>\n",
       "      <td>0</td>\n",
       "      <td>1</td>\n",
       "    </tr>\n",
       "    <tr>\n",
       "      <th>29311</th>\n",
       "      <td>1.000000</td>\n",
>>>>>>> 887b8b7d227b61825d01de448c637445f09f3deb
       "      <td>0.00</td>\n",
       "      <td>0.000000</td>\n",
       "      <td>0</td>\n",
       "      <td>1</td>\n",
       "      <td>0</td>\n",
       "      <td>0</td>\n",
       "      <td>0</td>\n",
       "      <td>1</td>\n",
       "      <td>0</td>\n",
       "      <td>...</td>\n",
       "      <td>1</td>\n",
       "      <td>0</td>\n",
       "      <td>0</td>\n",
       "      <td>1</td>\n",
       "      <td>0</td>\n",
       "      <td>0</td>\n",
       "      <td>1</td>\n",
       "      <td>0</td>\n",
       "      <td>0</td>\n",
       "      <td>0</td>\n",
       "    </tr>\n",
       "    <tr>\n",
       "      <th>...</th>\n",
       "      <td>...</td>\n",
       "      <td>...</td>\n",
       "      <td>...</td>\n",
       "      <td>...</td>\n",
       "      <td>...</td>\n",
       "      <td>...</td>\n",
       "      <td>...</td>\n",
       "      <td>...</td>\n",
       "      <td>...</td>\n",
       "      <td>...</td>\n",
       "      <td>...</td>\n",
       "      <td>...</td>\n",
       "      <td>...</td>\n",
       "      <td>...</td>\n",
       "      <td>...</td>\n",
       "      <td>...</td>\n",
       "      <td>...</td>\n",
       "      <td>...</td>\n",
       "      <td>...</td>\n",
       "      <td>...</td>\n",
       "      <td>...</td>\n",
       "    </tr>\n",
       "    <tr>\n",
<<<<<<< HEAD
       "      <th>5378</th>\n",
       "      <td>1.0</td>\n",
       "      <td>0.0</td>\n",
       "      <td>1.00</td>\n",
=======
       "      <th>5371</th>\n",
       "      <td>0.400000</td>\n",
       "      <td>0.00</td>\n",
       "      <td>0.400000</td>\n",
>>>>>>> 887b8b7d227b61825d01de448c637445f09f3deb
       "      <td>0</td>\n",
       "      <td>1</td>\n",
       "      <td>0</td>\n",
       "      <td>0</td>\n",
       "      <td>0</td>\n",
       "      <td>1</td>\n",
<<<<<<< HEAD
       "      <td>0</td>\n",
       "      <td>...</td>\n",
=======
>>>>>>> 887b8b7d227b61825d01de448c637445f09f3deb
       "      <td>1</td>\n",
       "      <td>0</td>\n",
       "      <td>...</td>\n",
       "      <td>0</td>\n",
       "      <td>1</td>\n",
<<<<<<< HEAD
=======
       "      <td>0</td>\n",
       "      <td>1</td>\n",
       "      <td>0</td>\n",
>>>>>>> 887b8b7d227b61825d01de448c637445f09f3deb
       "      <td>0</td>\n",
       "      <td>0</td>\n",
       "      <td>0</td>\n",
       "      <td>1</td>\n",
       "      <td>0</td>\n",
       "      <td>0</td>\n",
       "    </tr>\n",
       "    <tr>\n",
<<<<<<< HEAD
       "      <th>26272</th>\n",
       "      <td>1.0</td>\n",
       "      <td>0.0</td>\n",
       "      <td>0.50</td>\n",
=======
       "      <th>19501</th>\n",
       "      <td>0.500000</td>\n",
       "      <td>0.00</td>\n",
       "      <td>0.250000</td>\n",
       "      <td>0</td>\n",
>>>>>>> 887b8b7d227b61825d01de448c637445f09f3deb
       "      <td>0</td>\n",
       "      <td>0</td>\n",
       "      <td>0</td>\n",
       "      <td>1</td>\n",
       "      <td>0</td>\n",
       "      <td>1</td>\n",
       "      <td>0</td>\n",
       "      <td>...</td>\n",
       "      <td>0</td>\n",
       "      <td>0</td>\n",
       "      <td>1</td>\n",
       "      <td>1</td>\n",
       "      <td>0</td>\n",
       "      <td>0</td>\n",
       "      <td>0</td>\n",
       "      <td>0</td>\n",
       "      <td>1</td>\n",
       "      <td>0</td>\n",
       "    </tr>\n",
       "    <tr>\n",
<<<<<<< HEAD
       "      <th>15091</th>\n",
       "      <td>1.0</td>\n",
       "      <td>0.0</td>\n",
       "      <td>1.00</td>\n",
=======
       "      <th>14329</th>\n",
       "      <td>0.333333</td>\n",
       "      <td>0.00</td>\n",
       "      <td>0.333333</td>\n",
       "      <td>0</td>\n",
>>>>>>> 887b8b7d227b61825d01de448c637445f09f3deb
       "      <td>0</td>\n",
       "      <td>0</td>\n",
       "      <td>0</td>\n",
       "      <td>0</td>\n",
       "      <td>1</td>\n",
       "      <td>1</td>\n",
       "      <td>0</td>\n",
       "      <td>...</td>\n",
       "      <td>0</td>\n",
       "      <td>1</td>\n",
       "      <td>0</td>\n",
       "      <td>1</td>\n",
       "      <td>0</td>\n",
       "      <td>0</td>\n",
       "      <td>0</td>\n",
       "      <td>1</td>\n",
       "      <td>0</td>\n",
       "      <td>1</td>\n",
       "      <td>0</td>\n",
       "    </tr>\n",
       "    <tr>\n",
<<<<<<< HEAD
       "      <th>1984</th>\n",
       "      <td>1.0</td>\n",
       "      <td>0.0</td>\n",
       "      <td>1.00</td>\n",
       "      <td>0</td>\n",
       "      <td>0</td>\n",
       "      <td>0</td>\n",
       "      <td>0</td>\n",
       "      <td>1</td>\n",
       "      <td>0</td>\n",
=======
       "      <th>27044</th>\n",
       "      <td>1.000000</td>\n",
       "      <td>0.00</td>\n",
       "      <td>0.000000</td>\n",
       "      <td>0</td>\n",
       "      <td>0</td>\n",
       "      <td>0</td>\n",
       "      <td>0</td>\n",
       "      <td>1</td>\n",
       "      <td>1</td>\n",
>>>>>>> 887b8b7d227b61825d01de448c637445f09f3deb
       "      <td>0</td>\n",
       "      <td>...</td>\n",
       "      <td>1</td>\n",
       "      <td>0</td>\n",
       "      <td>0</td>\n",
       "      <td>1</td>\n",
       "      <td>0</td>\n",
       "      <td>0</td>\n",
       "      <td>1</td>\n",
       "      <td>0</td>\n",
       "      <td>0</td>\n",
       "      <td>0</td>\n",
       "    </tr>\n",
       "    <tr>\n",
<<<<<<< HEAD
       "      <th>10938</th>\n",
       "      <td>1.0</td>\n",
       "      <td>0.0</td>\n",
       "      <td>0.00</td>\n",
       "      <td>0</td>\n",
       "      <td>1</td>\n",
=======
       "      <th>19112</th>\n",
       "      <td>1.000000</td>\n",
       "      <td>0.00</td>\n",
       "      <td>1.000000</td>\n",
>>>>>>> 887b8b7d227b61825d01de448c637445f09f3deb
       "      <td>0</td>\n",
       "      <td>0</td>\n",
       "      <td>0</td>\n",
       "      <td>1</td>\n",
       "      <td>0</td>\n",
<<<<<<< HEAD
=======
       "      <td>1</td>\n",
       "      <td>0</td>\n",
>>>>>>> 887b8b7d227b61825d01de448c637445f09f3deb
       "      <td>...</td>\n",
       "      <td>1</td>\n",
       "      <td>0</td>\n",
       "      <td>0</td>\n",
       "      <td>1</td>\n",
<<<<<<< HEAD
       "      <td>0</td>\n",
=======
>>>>>>> 887b8b7d227b61825d01de448c637445f09f3deb
       "      <td>0</td>\n",
       "      <td>1</td>\n",
       "      <td>0</td>\n",
       "      <td>0</td>\n",
       "      <td>0</td>\n",
       "      <td>0</td>\n",
       "    </tr>\n",
       "  </tbody>\n",
       "</table>\n",
<<<<<<< HEAD
       "<p>25425 rows × 132 columns</p>\n",
       "</div>"
      ],
      "text/plain": [
       "       NUMADLT  YOUNGCHILD  WRKCOUNT  EDUC_1  EDUC_2  EDUC_3  EDUC_4  EDUC_5  \\\n",
       "19406      1.0         0.0      1.00       0       0       0       0       1   \n",
       "19181      1.0         0.0      1.00       0       0       1       0       0   \n",
       "15046      0.5         0.0      0.25       0       0       0       0       0   \n",
       "229        1.0         0.0      0.00       0       0       0       0       1   \n",
       "11509      1.0         0.0      0.00       0       0       1       0       0   \n",
       "...        ...         ...       ...     ...     ...     ...     ...     ...   \n",
       "5378       1.0         0.0      1.00       0       1       0       0       0   \n",
       "26272      1.0         0.0      0.50       0       0       0       1       0   \n",
       "15091      1.0         0.0      1.00       0       0       0       0       1   \n",
       "1984       1.0         0.0      1.00       0       0       0       0       1   \n",
       "10938      1.0         0.0      0.00       0       1       0       0       0   \n",
       "\n",
       "       R_RACE_1  R_RACE_2  ...  NUMADLT_ratio_1  NUMADLT_ratio_less_than_0.5  \\\n",
       "19406         1         0  ...                1                            0   \n",
       "19181         1         0  ...                1                            0   \n",
       "15046         1         0  ...                0                            0   \n",
       "229           1         0  ...                1                            0   \n",
       "11509         1         0  ...                1                            0   \n",
       "...         ...       ...  ...              ...                          ...   \n",
       "5378          1         0  ...                1                            0   \n",
       "26272         1         0  ...                1                            0   \n",
       "15091         1         0  ...                1                            0   \n",
       "1984          0         0  ...                1                            0   \n",
       "10938         1         0  ...                1                            0   \n",
       "\n",
       "       NUMADLT_ratio_more_than_0.5  YOUNGCHILD_ratio_0  \\\n",
       "19406                            0                   1   \n",
       "19181                            0                   1   \n",
       "15046                            1                   1   \n",
       "229                              0                   1   \n",
       "11509                            0                   1   \n",
       "...                            ...                 ...   \n",
       "5378                             0                   1   \n",
       "26272                            0                   1   \n",
       "15091                            0                   1   \n",
       "1984                             0                   1   \n",
       "10938                            0                   1   \n",
       "\n",
       "       YOUNGCHILD_ratio_less_than_0.5  YOUNGCHILD_ratio_more_than_0.5  \\\n",
       "19406                               0                               0   \n",
       "19181                               0                               0   \n",
       "15046                               0                               0   \n",
       "229                                 0                               0   \n",
       "11509                               0                               0   \n",
       "...                               ...                             ...   \n",
       "5378                                0                               0   \n",
       "26272                               0                               0   \n",
       "15091                               0                               0   \n",
       "1984                                0                               0   \n",
       "10938                               0                               0   \n",
       "\n",
       "       WRKCOUNT_ratio_0  WRKCOUNT_ratio_1  WRKCOUNT_ratio_less_than_0.5  \\\n",
       "19406                 0                 1                             0   \n",
       "19181                 0                 1                             0   \n",
       "15046                 0                 0                             1   \n",
       "229                   1                 0                             0   \n",
       "11509                 1                 0                             0   \n",
       "...                 ...               ...                           ...   \n",
       "5378                  0                 1                             0   \n",
       "26272                 0                 0                             0   \n",
       "15091                 0                 1                             0   \n",
       "1984                  0                 1                             0   \n",
       "10938                 1                 0                             0   \n",
       "\n",
       "       WRKCOUNT_ratio_more_than_0.5  \n",
       "19406                             0  \n",
       "19181                             0  \n",
       "15046                             0  \n",
       "229                               0  \n",
       "11509                             0  \n",
       "...                             ...  \n",
       "5378                              0  \n",
       "26272                             1  \n",
       "15091                             0  \n",
       "1984                              0  \n",
       "10938                             0  \n",
       "\n",
       "[25425 rows x 132 columns]"
      ]
     },
     "execution_count": 64,
     "metadata": {},
     "output_type": "execute_result"
    }
   ],
   "source": [
    "x_train"
   ]
  },
  {
   "cell_type": "code",
   "execution_count": 65,
   "metadata": {},
   "outputs": [
    {
     "data": {
      "text/plain": [
       "['NUMADLT',\n",
       " 'YOUNGCHILD',\n",
       " 'WRKCOUNT',\n",
       " 'EDUC_1',\n",
       " 'EDUC_2',\n",
       " 'EDUC_3',\n",
       " 'EDUC_4',\n",
       " 'EDUC_5',\n",
       " 'R_RACE_1',\n",
       " 'R_RACE_2',\n",
       " 'R_RACE_3',\n",
       " 'R_RACE_4',\n",
       " 'R_RACE_5',\n",
       " 'R_RACE_6',\n",
       " 'R_RACE_97',\n",
       " 'R_SEX_1',\n",
       " 'R_SEX_2',\n",
       " 'WRK_HOME_1',\n",
       " 'WRK_HOME_2',\n",
       " 'WKFTPT_1',\n",
       " 'WKFTPT_2',\n",
       " 'OCCAT_1',\n",
       " 'OCCAT_2',\n",
       " 'OCCAT_3',\n",
       " 'OCCAT_4',\n",
       " 'OCCAT_97',\n",
       " 'DRIVER_1',\n",
       " 'DRIVER_2',\n",
       " 'TRAVDAY_1',\n",
       " 'TRAVDAY_2',\n",
       " 'TRAVDAY_3',\n",
       " 'TRAVDAY_4',\n",
       " 'TRAVDAY_5',\n",
       " 'TRAVDAY_6',\n",
       " 'TRAVDAY_7',\n",
       " 'dist_to_work_(1.0, 2.0]',\n",
       " 'dist_to_work_(11.0, 99.0]',\n",
       " 'dist_to_work_(2.0, 5.0]',\n",
       " 'dist_to_work_(5.0, 11.0]',\n",
       " 'dist_to_shopping_(1.0, 2.0]',\n",
       " 'dist_to_shopping_(11.0, 99.0]',\n",
       " 'dist_to_shopping_(2.0, 5.0]',\n",
       " 'dist_to_shopping_(5.0, 11.0]',\n",
       " 'dist_to_family_(1.0, 2.0]',\n",
       " 'dist_to_family_(11.0, 99.0]',\n",
       " 'dist_to_family_(2.0, 5.0]',\n",
       " 'dist_to_family_(5.0, 11.0]',\n",
       " 'dist_to_school_or_church_(1.0, 2.0]',\n",
       " 'dist_to_school_or_church_(11.0, 99.0]',\n",
       " 'dist_to_school_or_church_(2.0, 5.0]',\n",
       " 'dist_to_school_or_church_(5.0, 11.0]',\n",
       " 'dist_to_relatives_(1.0, 2.0]',\n",
       " 'dist_to_relatives_(11.0, 99.0]',\n",
       " 'dist_to_relatives_(2.0, 5.0]',\n",
       " 'dist_to_relatives_(5.0, 11.0]',\n",
       " 'dist_to_social_(1.0, 2.0]',\n",
       " 'dist_to_social_(11.0, 99.0]',\n",
       " 'dist_to_social_(2.0, 5.0]',\n",
       " 'dist_to_social_(5.0, 11.0]',\n",
       " 'HH_CBSA_15380',\n",
       " 'HH_CBSA_35620',\n",
       " 'HH_CBSA_40380',\n",
       " 'HH_CBSA_XXXXX',\n",
       " 'HOMEOWN_1',\n",
       " 'HOMEOWN_2',\n",
       " 'HOMEOWN_97',\n",
       " 'HHSIZE_1',\n",
       " 'HHSIZE_2',\n",
       " 'HHSIZE_3',\n",
       " 'HHSIZE_above_3',\n",
       " 'HHVEHCNT_1',\n",
       " 'HHVEHCNT_2',\n",
       " 'HHVEHCNT_3',\n",
       " 'HHVEHCNT_>3',\n",
       " 'HHFAMINC_1',\n",
       " 'HHFAMINC_10',\n",
       " 'HHFAMINC_11',\n",
       " 'HHFAMINC_2',\n",
       " 'HHFAMINC_3',\n",
       " 'HHFAMINC_4',\n",
       " 'HHFAMINC_5',\n",
       " 'HHFAMINC_6',\n",
       " 'HHFAMINC_7',\n",
       " 'HHFAMINC_8',\n",
       " 'HHFAMINC_9',\n",
       " 'MSACAT_1',\n",
       " 'MSACAT_2',\n",
       " 'MSACAT_3',\n",
       " 'MSACAT_4',\n",
       " 'MSASIZE_1',\n",
       " 'MSASIZE_2',\n",
       " 'MSASIZE_3',\n",
       " 'MSASIZE_4',\n",
       " 'MSASIZE_5',\n",
       " 'MSASIZE_6',\n",
       " 'URBAN_rural',\n",
       " 'URBAN_urban',\n",
       " 'URBANSIZE_1',\n",
       " 'URBANSIZE_2',\n",
       " 'URBANSIZE_3',\n",
       " 'URBANSIZE_5',\n",
       " 'URBANSIZE_6',\n",
       " 'URBRUR_1',\n",
       " 'URBRUR_2',\n",
       " 'LIF_CYC_1',\n",
       " 'LIF_CYC_10',\n",
       " 'LIF_CYC_2',\n",
       " 'LIF_CYC_3',\n",
       " 'LIF_CYC_4',\n",
       " 'LIF_CYC_5',\n",
       " 'LIF_CYC_6',\n",
       " 'LIF_CYC_7',\n",
       " 'LIF_CYC_8',\n",
       " 'LIF_CYC_9',\n",
       " 'AGE_bins_16_to_25',\n",
       " 'AGE_bins_26_to_35',\n",
       " 'AGE_bins_36_to_45',\n",
       " 'AGE_bins_46_to_55',\n",
       " 'AGE_bins_56_to_65',\n",
       " 'AGE_bins_5_to_15',\n",
       " 'AGE_bins_66_to_75',\n",
       " 'AGE_bins_more_than_75',\n",
       " 'NUMADLT_ratio_1',\n",
       " 'NUMADLT_ratio_less_than_0.5',\n",
       " 'NUMADLT_ratio_more_than_0.5',\n",
       " 'YOUNGCHILD_ratio_0',\n",
       " 'YOUNGCHILD_ratio_less_than_0.5',\n",
       " 'YOUNGCHILD_ratio_more_than_0.5',\n",
       " 'WRKCOUNT_ratio_0',\n",
       " 'WRKCOUNT_ratio_1',\n",
       " 'WRKCOUNT_ratio_less_than_0.5',\n",
       " 'WRKCOUNT_ratio_more_than_0.5']"
      ]
     },
     "execution_count": 65,
     "metadata": {},
     "output_type": "execute_result"
    }
   ],
   "source": [
    "[c for c in x_train]"
   ]
  },
  {
   "cell_type": "code",
   "execution_count": 66,
   "metadata": {},
   "outputs": [],
   "source": [
    "dist_dict = {'dist_to_work_(1.0, 2.0]':'dist_to_work_between_1_and_2',\n",
    "            'dist_to_work_(11.0, 99.0]':'dist_to_work_more_than_11',\n",
    "            'dist_to_work_(2.0, 5.0]':'dist_to_work_between_2_and_5',\n",
    "            'dist_to_work_(5.0, 11.0]':'dist_to_work_between_5_and_11',\n",
    "             'dist_to_shopping_(1.0, 2.0]':'dist_to_shopping_between_1_and_2',\n",
    "             'dist_to_shopping_(11.0, 99.0]':'dist_to_shopping_more_than_11',\n",
    "             'dist_to_shopping_(2.0, 5.0]':'dist_to_shopping_between_2_and_5',\n",
    "             'dist_to_shopping_(5.0, 11.0]':'dist_to_shopping_between_5_and_11',\n",
    "             'dist_to_family_(1.0, 2.0]':'dist_to_family_between_1_and_2',\n",
    "             'dist_to_family_(11.0, 99.0]':'dist_to_family_greater_than_11',\n",
    "             'dist_to_family_(2.0, 5.0]':'dist_to_family_between_2_and_5',\n",
    "             'dist_to_family_(5.0, 11.0]':'dist_to_family_between_5_and_11',\n",
    "             'dist_to_school_or_church_(1.0, 2.0]':'dist_to_school_or_church_between_1_and_2',\n",
    "             'dist_to_school_or_church_(11.0, 99.0]':'dist_to_school_or_church_greater_than_11',\n",
    "             'dist_to_school_or_church_(2.0, 5.0]':'dist_to_school_or_church_between_2_and_5',\n",
    "             'dist_to_school_or_church_(5.0, 11.0]':'dist_to_school_or_church_between_5_and_11',\n",
    "             'dist_to_relatives_(1.0, 2.0]':'dist_to_relatvies_between_1_and_2',\n",
    "             'dist_to_relatives_(11.0, 99.0]':'dist_to_relatvies_greater_than_11',\n",
    "             'dist_to_relatives_(2.0, 5.0]':'dist_to_relatvies_between_2_and_5',\n",
    "             'dist_to_relatives_(5.0, 11.0]':'dist_to_relatvies_between_5_and_11',\n",
    "             'dist_to_social_(1.0, 2.0]':'dist_to_social_between_1_and_2',\n",
    "             'dist_to_social_(11.0, 99.0]':'dist_to_social_greater_than_11',\n",
    "             'dist_to_social_(2.0, 5.0]':'dist_to_social_between_2_and_5',\n",
    "             'dist_to_social_(5.0, 11.0]':'dist_to_social_between_5_and_11'}\n",
    "\n",
    "dist_cols = [c for c in x_train if 'dist' in c]\n",
    "\n",
    "x_train.rename(columns=dist_dict,inplace = True)\n",
    "x_test.rename(columns = dist_dict, inplace = True)"
   ]
  },
  {
   "cell_type": "markdown",
   "metadata": {},
   "source": [
    "## Models"
   ]
  },
  {
   "cell_type": "markdown",
   "metadata": {},
   "source": [
    "### Linear Regression"
   ]
  },
  {
   "cell_type": "code",
   "execution_count": 67,
   "metadata": {},
   "outputs": [],
   "source": [
    "#Checking for multicollinearity through variance Inflation Factor \n",
    "#VIF=1, Very Less Multicollinearity\n",
    "#VIF<5, Moderate Multicollinearity\n",
    "#VIF>5, Extreme Multicollinearity (This is what we have to avoid)\n",
    "\n",
    "import statsmodels.api as sm\n",
    "from statsmodels.stats.outliers_influence import variance_inflation_factor\n",
    "from sklearn import linear_model, model_selection, metrics\n"
   ]
  },
  {
   "cell_type": "code",
   "execution_count": 68,
   "metadata": {},
   "outputs": [],
   "source": [
    "LRmodel = linear_model.LinearRegression()  #create the linear regression \n",
    "LRmodel.fit(x_train,y_train) #train the model using the training set \n",
    "LR_pred = LRmodel.predict(x_test) #use this model to predict the test data set "
   ]
  },
  {
   "cell_type": "code",
   "execution_count": 79,
   "metadata": {},
   "outputs": [
    {
     "name": "stdout",
     "output_type": "stream",
     "text": [
      "R^2 score:\t\t\t\t 0.5658446460485766\n",
      "Explained Variance: \t\t\t 0.5658538504443935\n",
      "Mean Absolute Error: \t\t\t 1.16453949017815\n",
      "Mean Squared Error:\t\t\t 2.393734193849586\n",
      "Root Mean Squared Error:\t\t 1.547169736599571\n",
      "Intercept:\t -4763054202046.348\n",
      "Coef:\t 132\n"
     ]
    }
   ],
   "source": [
    "print('R^2 score:\\t\\t\\t\\t',LRmodel.score(x_test, y_test)) #compute R^2 score \n",
    "#print('R^2 score:\\t\\t\\t\\t', metrics.r2_score(y_test, LR_pred))\n",
    "print('Explained Variance: \\t\\t\\t', metrics.explained_variance_score(y_test, LR_pred)) #compute explained variance score\n",
    "print('Mean Absolute Error: \\t\\t\\t', metrics.mean_absolute_error(y_test, LR_pred)) #compute MAE results\n",
    "print('Mean Squared Error:\\t\\t\\t', metrics.mean_squared_error(y_test, LR_pred)) #compute MSE results\n",
    "print('Root Mean Squared Error:\\t\\t', metrics.mean_squared_error(y_test, LR_pred, squared = False)) #compute RSME results\n",
    "print('Intercept:\\t', LRmodel.intercept_) #find intercept value \n",
    "print('Coef:\\t', np.sum(LRmodel.coef_!=0))#find no of features used in regression model "
   ]
  },
  {
   "cell_type": "code",
   "execution_count": 71,
   "metadata": {},
   "outputs": [
    {
     "data": {
      "text/plain": [
       "<AxesSubplot:xlabel='n_trips'>"
      ]
     },
     "execution_count": 71,
     "metadata": {},
     "output_type": "execute_result"
    },
    {
     "data": {
      "image/png": "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\n",
      "text/plain": [
       "<Figure size 432x288 with 1 Axes>"
      ]
     },
     "metadata": {
      "needs_background": "light"
     },
     "output_type": "display_data"
    }
   ],
   "source": [
    "sns.regplot(y_test,LR_pred) #plotting predictions "
   ]
  },
  {
   "cell_type": "code",
   "execution_count": 72,
   "metadata": {},
   "outputs": [
    {
     "name": "stdout",
     "output_type": "stream",
     "text": [
      "                            feature        VIF\n",
      "0                           NUMADLT  29.510298\n",
      "1                        YOUNGCHILD  20.291842\n",
      "2                          WRKCOUNT  60.887213\n",
      "3                            EDUC_1   6.456246\n",
      "4                            EDUC_2  21.060117\n",
      "..                              ...        ...\n",
      "127  YOUNGCHILD_ratio_more_than_0.5        inf\n",
      "128                WRKCOUNT_ratio_0        inf\n",
      "129                WRKCOUNT_ratio_1        inf\n",
      "130    WRKCOUNT_ratio_less_than_0.5        inf\n",
      "131    WRKCOUNT_ratio_more_than_0.5        inf\n",
      "\n",
      "[132 rows x 2 columns]\n"
     ]
=======
       "<p>6357 rows × 108 columns</p>\n",
       "</div>"
      ],
      "text/plain": [
       "        NUMADLT  YOUNGCHILD  WRKCOUNT  EDUC_1  EDUC_2  EDUC_3  EDUC_4  EDUC_5  \\\n",
       "27442  0.500000        0.25  0.250000       1       0       0       0       0   \n",
       "24393  1.000000        0.00  1.000000       0       0       0       1       0   \n",
       "24351  0.500000        0.00  1.000000       1       0       0       0       0   \n",
       "6687   1.000000        0.00  0.500000       0       0       1       0       0   \n",
       "29311  1.000000        0.00  0.000000       0       1       0       0       0   \n",
       "...         ...         ...       ...     ...     ...     ...     ...     ...   \n",
       "5371   0.400000        0.00  0.400000       0       0       0       0       1   \n",
       "19501  0.500000        0.00  0.250000       0       0       0       0       0   \n",
       "14329  0.333333        0.00  0.333333       0       0       0       0       0   \n",
       "27044  1.000000        0.00  0.000000       0       0       0       0       1   \n",
       "19112  1.000000        0.00  1.000000       0       0       0       1       0   \n",
       "\n",
       "       R_RACE_1  R_RACE_2  ...  NUMADLT_ratio_1  NUMADLT_ratio_less_than_0.5  \\\n",
       "27442         1         0  ...                0                            0   \n",
       "24393         1         0  ...                1                            0   \n",
       "24351         1         0  ...                0                            0   \n",
       "6687          1         0  ...                1                            0   \n",
       "29311         1         0  ...                1                            0   \n",
       "...         ...       ...  ...              ...                          ...   \n",
       "5371          1         0  ...                0                            1   \n",
       "19501         1         0  ...                0                            0   \n",
       "14329         1         0  ...                0                            1   \n",
       "27044         1         0  ...                1                            0   \n",
       "19112         1         0  ...                1                            0   \n",
       "\n",
       "       NUMADLT_ratio_more_than_0.5  YOUNGCHILD_ratio_0  \\\n",
       "27442                            1                   0   \n",
       "24393                            0                   1   \n",
       "24351                            1                   1   \n",
       "6687                             0                   1   \n",
       "29311                            0                   1   \n",
       "...                            ...                 ...   \n",
       "5371                             0                   1   \n",
       "19501                            1                   1   \n",
       "14329                            0                   1   \n",
       "27044                            0                   1   \n",
       "19112                            0                   1   \n",
       "\n",
       "       YOUNGCHILD_ratio_less_than_0.5  YOUNGCHILD_ratio_more_than_0.5  \\\n",
       "27442                               1                               0   \n",
       "24393                               0                               0   \n",
       "24351                               0                               0   \n",
       "6687                                0                               0   \n",
       "29311                               0                               0   \n",
       "...                               ...                             ...   \n",
       "5371                                0                               0   \n",
       "19501                               0                               0   \n",
       "14329                               0                               0   \n",
       "27044                               0                               0   \n",
       "19112                               0                               0   \n",
       "\n",
       "       WRKCOUNT_ratio_0  WRKCOUNT_ratio_1  WRKCOUNT_ratio_less_than_0.5  \\\n",
       "27442                 0                 0                             1   \n",
       "24393                 0                 1                             0   \n",
       "24351                 0                 1                             0   \n",
       "6687                  0                 0                             0   \n",
       "29311                 1                 0                             0   \n",
       "...                 ...               ...                           ...   \n",
       "5371                  0                 0                             1   \n",
       "19501                 0                 0                             1   \n",
       "14329                 0                 0                             1   \n",
       "27044                 1                 0                             0   \n",
       "19112                 0                 1                             0   \n",
       "\n",
       "       WRKCOUNT_ratio_more_than_0.5  \n",
       "27442                             0  \n",
       "24393                             0  \n",
       "24351                             0  \n",
       "6687                              1  \n",
       "29311                             0  \n",
       "...                             ...  \n",
       "5371                              0  \n",
       "19501                             0  \n",
       "14329                             0  \n",
       "27044                             0  \n",
       "19112                             0  \n",
       "\n",
       "[6357 rows x 108 columns]"
      ]
     },
     "execution_count": 79,
     "metadata": {},
     "output_type": "execute_result"
>>>>>>> 887b8b7d227b61825d01de448c637445f09f3deb
    }
   ],
   "source": [
    "x_test"
   ]
  },
  {
   "cell_type": "code",
<<<<<<< HEAD
   "execution_count": 73,
=======
   "execution_count": 80,
>>>>>>> 887b8b7d227b61825d01de448c637445f09f3deb
   "metadata": {},
   "outputs": [
    {
     "data": {
      "text/html": [
       "<div>\n",
       "<style scoped>\n",
       "    .dataframe tbody tr th:only-of-type {\n",
       "        vertical-align: middle;\n",
       "    }\n",
       "\n",
       "    .dataframe tbody tr th {\n",
       "        vertical-align: top;\n",
       "    }\n",
       "\n",
       "    .dataframe thead th {\n",
       "        text-align: right;\n",
       "    }\n",
       "</style>\n",
       "<table border=\"1\" class=\"dataframe\">\n",
       "  <thead>\n",
       "    <tr style=\"text-align: right;\">\n",
       "      <th></th>\n",
       "      <th>NUMADLT</th>\n",
       "      <th>YOUNGCHILD</th>\n",
       "      <th>WRKCOUNT</th>\n",
       "      <th>EDUC_1</th>\n",
       "      <th>EDUC_2</th>\n",
       "      <th>EDUC_3</th>\n",
       "      <th>EDUC_4</th>\n",
       "      <th>EDUC_5</th>\n",
       "      <th>R_RACE_1</th>\n",
       "      <th>R_RACE_2</th>\n",
       "      <th>...</th>\n",
       "      <th>dist_to_school_or_church_between_2_and_5</th>\n",
       "      <th>dist_to_school_or_church_between_5_and_11</th>\n",
       "      <th>dist_to_relatvies_between_1_and_2</th>\n",
       "      <th>dist_to_relatvies_greater_than_11</th>\n",
       "      <th>dist_to_relatvies_between_2_and_5</th>\n",
       "      <th>dist_to_relatvies_between_5_and_11</th>\n",
       "      <th>dist_to_social_between_1_and_2</th>\n",
       "      <th>dist_to_social_greater_than_11</th>\n",
       "      <th>dist_to_social_between_2_and_5</th>\n",
       "      <th>dist_to_social_between_5_and_11</th>\n",
       "    </tr>\n",
       "  </thead>\n",
       "  <tbody>\n",
       "    <tr>\n",
<<<<<<< HEAD
       "      <th>66</th>\n",
       "      <td>HHSIZE_1</td>\n",
       "      <td>inf</td>\n",
       "    </tr>\n",
       "    <tr>\n",
       "      <th>89</th>\n",
       "      <td>MSASIZE_1</td>\n",
       "      <td>inf</td>\n",
       "    </tr>\n",
       "    <tr>\n",
       "      <th>101</th>\n",
       "      <td>URBANSIZE_6</td>\n",
       "      <td>inf</td>\n",
       "    </tr>\n",
       "    <tr>\n",
       "      <th>100</th>\n",
       "      <td>URBANSIZE_5</td>\n",
       "      <td>inf</td>\n",
       "    </tr>\n",
       "    <tr>\n",
       "      <th>99</th>\n",
       "      <td>URBANSIZE_3</td>\n",
=======
       "      <th>27442</th>\n",
       "      <td>0.500000</td>\n",
       "      <td>0.25</td>\n",
       "      <td>0.250000</td>\n",
       "      <td>1</td>\n",
       "      <td>0</td>\n",
       "      <td>0</td>\n",
       "      <td>0</td>\n",
       "      <td>0</td>\n",
       "      <td>1</td>\n",
       "      <td>0</td>\n",
       "      <td>...</td>\n",
       "      <td>0</td>\n",
       "      <td>0</td>\n",
       "      <td>0</td>\n",
       "      <td>0</td>\n",
       "      <td>0</td>\n",
       "      <td>0</td>\n",
       "      <td>1</td>\n",
       "      <td>0</td>\n",
       "      <td>0</td>\n",
       "      <td>0</td>\n",
       "    </tr>\n",
       "    <tr>\n",
       "      <th>24393</th>\n",
       "      <td>1.000000</td>\n",
       "      <td>0.00</td>\n",
       "      <td>1.000000</td>\n",
       "      <td>0</td>\n",
       "      <td>0</td>\n",
       "      <td>0</td>\n",
       "      <td>1</td>\n",
       "      <td>0</td>\n",
       "      <td>1</td>\n",
       "      <td>0</td>\n",
       "      <td>...</td>\n",
       "      <td>0</td>\n",
       "      <td>0</td>\n",
       "      <td>0</td>\n",
       "      <td>0</td>\n",
       "      <td>0</td>\n",
       "      <td>0</td>\n",
       "      <td>0</td>\n",
       "      <td>0</td>\n",
       "      <td>0</td>\n",
       "      <td>0</td>\n",
       "    </tr>\n",
       "    <tr>\n",
       "      <th>24351</th>\n",
       "      <td>0.500000</td>\n",
       "      <td>0.00</td>\n",
       "      <td>1.000000</td>\n",
       "      <td>1</td>\n",
       "      <td>0</td>\n",
       "      <td>0</td>\n",
       "      <td>0</td>\n",
       "      <td>0</td>\n",
       "      <td>1</td>\n",
       "      <td>0</td>\n",
       "      <td>...</td>\n",
       "      <td>0</td>\n",
       "      <td>0</td>\n",
       "      <td>0</td>\n",
       "      <td>0</td>\n",
       "      <td>0</td>\n",
       "      <td>0</td>\n",
       "      <td>0</td>\n",
       "      <td>0</td>\n",
       "      <td>0</td>\n",
       "      <td>0</td>\n",
       "    </tr>\n",
       "    <tr>\n",
       "      <th>6687</th>\n",
       "      <td>1.000000</td>\n",
       "      <td>0.00</td>\n",
       "      <td>0.500000</td>\n",
       "      <td>0</td>\n",
       "      <td>0</td>\n",
       "      <td>1</td>\n",
       "      <td>0</td>\n",
       "      <td>0</td>\n",
       "      <td>1</td>\n",
       "      <td>0</td>\n",
       "      <td>...</td>\n",
       "      <td>0</td>\n",
       "      <td>0</td>\n",
       "      <td>0</td>\n",
       "      <td>0</td>\n",
       "      <td>0</td>\n",
       "      <td>0</td>\n",
       "      <td>0</td>\n",
       "      <td>0</td>\n",
       "      <td>0</td>\n",
       "      <td>0</td>\n",
       "    </tr>\n",
       "    <tr>\n",
       "      <th>29311</th>\n",
       "      <td>1.000000</td>\n",
       "      <td>0.00</td>\n",
       "      <td>0.000000</td>\n",
       "      <td>0</td>\n",
       "      <td>1</td>\n",
       "      <td>0</td>\n",
       "      <td>0</td>\n",
       "      <td>0</td>\n",
       "      <td>1</td>\n",
       "      <td>0</td>\n",
       "      <td>...</td>\n",
       "      <td>0</td>\n",
       "      <td>0</td>\n",
       "      <td>0</td>\n",
       "      <td>0</td>\n",
       "      <td>0</td>\n",
       "      <td>0</td>\n",
       "      <td>0</td>\n",
       "      <td>0</td>\n",
       "      <td>0</td>\n",
       "      <td>0</td>\n",
       "    </tr>\n",
       "    <tr>\n",
       "      <th>...</th>\n",
       "      <td>...</td>\n",
       "      <td>...</td>\n",
       "      <td>...</td>\n",
       "      <td>...</td>\n",
       "      <td>...</td>\n",
       "      <td>...</td>\n",
       "      <td>...</td>\n",
       "      <td>...</td>\n",
       "      <td>...</td>\n",
       "      <td>...</td>\n",
       "      <td>...</td>\n",
       "      <td>...</td>\n",
       "      <td>...</td>\n",
       "      <td>...</td>\n",
       "      <td>...</td>\n",
       "      <td>...</td>\n",
       "      <td>...</td>\n",
       "      <td>...</td>\n",
       "      <td>...</td>\n",
       "      <td>...</td>\n",
       "      <td>...</td>\n",
       "    </tr>\n",
       "    <tr>\n",
       "      <th>5371</th>\n",
       "      <td>0.400000</td>\n",
       "      <td>0.00</td>\n",
       "      <td>0.400000</td>\n",
       "      <td>0</td>\n",
       "      <td>0</td>\n",
       "      <td>0</td>\n",
       "      <td>0</td>\n",
       "      <td>1</td>\n",
       "      <td>1</td>\n",
       "      <td>0</td>\n",
       "      <td>...</td>\n",
       "      <td>0</td>\n",
       "      <td>0</td>\n",
       "      <td>0</td>\n",
       "      <td>0</td>\n",
       "      <td>0</td>\n",
       "      <td>0</td>\n",
       "      <td>0</td>\n",
       "      <td>1</td>\n",
       "      <td>0</td>\n",
       "      <td>0</td>\n",
       "    </tr>\n",
       "    <tr>\n",
       "      <th>19501</th>\n",
       "      <td>0.500000</td>\n",
       "      <td>0.00</td>\n",
       "      <td>0.250000</td>\n",
       "      <td>0</td>\n",
       "      <td>0</td>\n",
       "      <td>0</td>\n",
       "      <td>0</td>\n",
       "      <td>0</td>\n",
       "      <td>1</td>\n",
       "      <td>0</td>\n",
       "      <td>...</td>\n",
       "      <td>0</td>\n",
       "      <td>0</td>\n",
       "      <td>0</td>\n",
       "      <td>0</td>\n",
       "      <td>0</td>\n",
       "      <td>0</td>\n",
       "      <td>0</td>\n",
       "      <td>0</td>\n",
       "      <td>0</td>\n",
       "      <td>0</td>\n",
       "    </tr>\n",
       "    <tr>\n",
       "      <th>14329</th>\n",
       "      <td>0.333333</td>\n",
       "      <td>0.00</td>\n",
       "      <td>0.333333</td>\n",
       "      <td>0</td>\n",
       "      <td>0</td>\n",
       "      <td>0</td>\n",
       "      <td>0</td>\n",
       "      <td>0</td>\n",
       "      <td>1</td>\n",
       "      <td>0</td>\n",
       "      <td>...</td>\n",
       "      <td>0</td>\n",
       "      <td>0</td>\n",
       "      <td>0</td>\n",
       "      <td>0</td>\n",
       "      <td>0</td>\n",
       "      <td>0</td>\n",
       "      <td>0</td>\n",
       "      <td>0</td>\n",
       "      <td>0</td>\n",
       "      <td>0</td>\n",
       "    </tr>\n",
       "    <tr>\n",
       "      <th>27044</th>\n",
       "      <td>1.000000</td>\n",
       "      <td>0.00</td>\n",
       "      <td>0.000000</td>\n",
       "      <td>0</td>\n",
       "      <td>0</td>\n",
       "      <td>0</td>\n",
       "      <td>0</td>\n",
       "      <td>1</td>\n",
       "      <td>1</td>\n",
       "      <td>0</td>\n",
       "      <td>...</td>\n",
       "      <td>0</td>\n",
       "      <td>0</td>\n",
       "      <td>0</td>\n",
       "      <td>0</td>\n",
       "      <td>0</td>\n",
       "      <td>0</td>\n",
       "      <td>0</td>\n",
       "      <td>0</td>\n",
       "      <td>0</td>\n",
       "      <td>0</td>\n",
       "    </tr>\n",
       "    <tr>\n",
       "      <th>19112</th>\n",
       "      <td>1.000000</td>\n",
       "      <td>0.00</td>\n",
       "      <td>1.000000</td>\n",
       "      <td>0</td>\n",
       "      <td>0</td>\n",
       "      <td>0</td>\n",
       "      <td>1</td>\n",
       "      <td>0</td>\n",
       "      <td>1</td>\n",
       "      <td>0</td>\n",
       "      <td>...</td>\n",
       "      <td>0</td>\n",
       "      <td>0</td>\n",
       "      <td>0</td>\n",
       "      <td>0</td>\n",
       "      <td>0</td>\n",
       "      <td>0</td>\n",
       "      <td>0</td>\n",
       "      <td>0</td>\n",
       "      <td>0</td>\n",
       "      <td>0</td>\n",
       "    </tr>\n",
       "  </tbody>\n",
       "</table>\n",
       "<p>6357 rows × 132 columns</p>\n",
       "</div>"
      ],
      "text/plain": [
       "        NUMADLT  YOUNGCHILD  WRKCOUNT  EDUC_1  EDUC_2  EDUC_3  EDUC_4  EDUC_5  \\\n",
       "27442  0.500000        0.25  0.250000       1       0       0       0       0   \n",
       "24393  1.000000        0.00  1.000000       0       0       0       1       0   \n",
       "24351  0.500000        0.00  1.000000       1       0       0       0       0   \n",
       "6687   1.000000        0.00  0.500000       0       0       1       0       0   \n",
       "29311  1.000000        0.00  0.000000       0       1       0       0       0   \n",
       "...         ...         ...       ...     ...     ...     ...     ...     ...   \n",
       "5371   0.400000        0.00  0.400000       0       0       0       0       1   \n",
       "19501  0.500000        0.00  0.250000       0       0       0       0       0   \n",
       "14329  0.333333        0.00  0.333333       0       0       0       0       0   \n",
       "27044  1.000000        0.00  0.000000       0       0       0       0       1   \n",
       "19112  1.000000        0.00  1.000000       0       0       0       1       0   \n",
       "\n",
       "       R_RACE_1  R_RACE_2  ...  dist_to_school_or_church_between_2_and_5  \\\n",
       "27442         1         0  ...                                         0   \n",
       "24393         1         0  ...                                         0   \n",
       "24351         1         0  ...                                         0   \n",
       "6687          1         0  ...                                         0   \n",
       "29311         1         0  ...                                         0   \n",
       "...         ...       ...  ...                                       ...   \n",
       "5371          1         0  ...                                         0   \n",
       "19501         1         0  ...                                         0   \n",
       "14329         1         0  ...                                         0   \n",
       "27044         1         0  ...                                         0   \n",
       "19112         1         0  ...                                         0   \n",
       "\n",
       "       dist_to_school_or_church_between_5_and_11  \\\n",
       "27442                                          0   \n",
       "24393                                          0   \n",
       "24351                                          0   \n",
       "6687                                           0   \n",
       "29311                                          0   \n",
       "...                                          ...   \n",
       "5371                                           0   \n",
       "19501                                          0   \n",
       "14329                                          0   \n",
       "27044                                          0   \n",
       "19112                                          0   \n",
       "\n",
       "       dist_to_relatvies_between_1_and_2  dist_to_relatvies_greater_than_11  \\\n",
       "27442                                  0                                  0   \n",
       "24393                                  0                                  0   \n",
       "24351                                  0                                  0   \n",
       "6687                                   0                                  0   \n",
       "29311                                  0                                  0   \n",
       "...                                  ...                                ...   \n",
       "5371                                   0                                  0   \n",
       "19501                                  0                                  0   \n",
       "14329                                  0                                  0   \n",
       "27044                                  0                                  0   \n",
       "19112                                  0                                  0   \n",
       "\n",
       "       dist_to_relatvies_between_2_and_5  dist_to_relatvies_between_5_and_11  \\\n",
       "27442                                  0                                   0   \n",
       "24393                                  0                                   0   \n",
       "24351                                  0                                   0   \n",
       "6687                                   0                                   0   \n",
       "29311                                  0                                   0   \n",
       "...                                  ...                                 ...   \n",
       "5371                                   0                                   0   \n",
       "19501                                  0                                   0   \n",
       "14329                                  0                                   0   \n",
       "27044                                  0                                   0   \n",
       "19112                                  0                                   0   \n",
       "\n",
       "       dist_to_social_between_1_and_2  dist_to_social_greater_than_11  \\\n",
       "27442                               1                               0   \n",
       "24393                               0                               0   \n",
       "24351                               0                               0   \n",
       "6687                                0                               0   \n",
       "29311                               0                               0   \n",
       "...                               ...                             ...   \n",
       "5371                                0                               1   \n",
       "19501                               0                               0   \n",
       "14329                               0                               0   \n",
       "27044                               0                               0   \n",
       "19112                               0                               0   \n",
       "\n",
       "       dist_to_social_between_2_and_5  dist_to_social_between_5_and_11  \n",
       "27442                               0                                0  \n",
       "24393                               0                                0  \n",
       "24351                               0                                0  \n",
       "6687                                0                                0  \n",
       "29311                               0                                0  \n",
       "...                               ...                              ...  \n",
       "5371                                0                                0  \n",
       "19501                               0                                0  \n",
       "14329                               0                                0  \n",
       "27044                               0                                0  \n",
       "19112                               0                                0  \n",
       "\n",
       "[6357 rows x 132 columns]"
      ]
     },
     "execution_count": 80,
     "metadata": {},
     "output_type": "execute_result"
    }
   ],
   "source": [
    "x_test_with_dist"
   ]
  },
  {
   "cell_type": "markdown",
   "metadata": {},
   "source": [
    "## Models (first round run x_train to get low score then second run x_train_dist)"
   ]
  },
  {
   "cell_type": "markdown",
   "metadata": {},
   "source": [
    "## X_train"
   ]
  },
  {
   "cell_type": "markdown",
   "metadata": {},
   "source": [
    "### Linear Regression"
   ]
  },
  {
   "cell_type": "code",
   "execution_count": 81,
   "metadata": {},
   "outputs": [],
   "source": [
    "#Checking for multicollinearity through variance Inflation Factor \n",
    "#VIF=1, Very Less Multicollinearity\n",
    "#VIF<5, Moderate Multicollinearity\n",
    "#VIF>5, Extreme Multicollinearity (This is what we have to avoid)\n",
    "\n",
    "import statsmodels.api as sm\n",
    "from statsmodels.stats.outliers_influence import variance_inflation_factor\n",
    "from sklearn import linear_model, model_selection, metrics\n"
   ]
  },
  {
   "cell_type": "code",
   "execution_count": 82,
   "metadata": {},
   "outputs": [],
   "source": [
    "LRmodel = linear_model.LinearRegression()  #create the linear regression \n",
    "LRmodel.fit(x_train,y_train) #train the model using the training set \n",
    "LR_pred = LRmodel.predict(x_test) #use this model to predict the test data set "
   ]
  },
  {
   "cell_type": "code",
   "execution_count": 83,
   "metadata": {},
   "outputs": [
    {
     "name": "stdout",
     "output_type": "stream",
     "text": [
      "R^2 score:\t\t\t\t 0.07989594857251581\n",
      "Explained Variance: \t\t\t 0.0800358068537006\n",
      "Mean Absolute Error: \t\t\t 1.8384106479877005\n",
      "Mean Squared Error:\t\t\t 5.073033212088265\n",
      "Root Mean Squared Error:\t\t 2.2523394975199156\n",
      "Intercept:\t 510685337581.3692\n",
      "Coef:\t 108\n"
     ]
    }
   ],
   "source": [
    "print('R^2 score:\\t\\t\\t\\t',LRmodel.score(x_test, y_test)) #compute R^2 score \n",
    "print('Explained Variance: \\t\\t\\t', metrics.explained_variance_score(y_test, LR_pred)) #compute explained variance score\n",
    "print('Mean Absolute Error: \\t\\t\\t', metrics.mean_absolute_error(y_test, LR_pred)) #compute MAE results\n",
    "print('Mean Squared Error:\\t\\t\\t', metrics.mean_squared_error(y_test, LR_pred)) #compute MSE results\n",
    "print('Root Mean Squared Error:\\t\\t', metrics.mean_squared_error(y_test, LR_pred, squared = False)) #compute RSME results\n",
    "print('Intercept:\\t', LRmodel.intercept_) #find intercept value \n",
    "print('Coef:\\t', np.sum(LRmodel.coef_!=0))#find no of features used in regression model "
   ]
  },
  {
   "cell_type": "code",
   "execution_count": 84,
   "metadata": {},
   "outputs": [],
   "source": [
    "#x_train_sm= sm.add_constant(x_train)\n",
    "#ls=sm.OLS(y_train,x_train_sm).fit()\n",
    "#print(ls.summary())"
   ]
  },
  {
   "cell_type": "code",
   "execution_count": 85,
   "metadata": {},
   "outputs": [
    {
     "data": {
      "text/plain": [
       "<matplotlib.axes._subplots.AxesSubplot at 0x24342b4b308>"
      ]
     },
     "execution_count": 85,
     "metadata": {},
     "output_type": "execute_result"
    },
    {
     "data": {
      "image/png": "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\n",
      "text/plain": [
       "<Figure size 432x288 with 1 Axes>"
      ]
     },
     "metadata": {
      "needs_background": "light"
     },
     "output_type": "display_data"
    }
   ],
   "source": [
    "sns.regplot(y_test,LR_pred) #plotting predictions "
   ]
  },
  {
   "cell_type": "code",
   "execution_count": 86,
   "metadata": {},
   "outputs": [
    {
     "name": "stdout",
     "output_type": "stream",
     "text": [
      "                            feature        VIF\n",
      "0                           NUMADLT  29.419768\n",
      "1                        YOUNGCHILD  20.265531\n",
      "2                          WRKCOUNT  60.693040\n",
      "3                            EDUC_1   6.450828\n",
      "4                            EDUC_2  21.028886\n",
      "..                              ...        ...\n",
      "103  YOUNGCHILD_ratio_more_than_0.5        inf\n",
      "104                WRKCOUNT_ratio_0        inf\n",
      "105                WRKCOUNT_ratio_1        inf\n",
      "106    WRKCOUNT_ratio_less_than_0.5        inf\n",
      "107    WRKCOUNT_ratio_more_than_0.5        inf\n",
      "\n",
      "[108 rows x 2 columns]\n"
     ]
    }
   ],
   "source": [
    "#calculate VIF scores to detect multicolinearity \n",
    "\n",
    "# VIF dataframe\n",
    "vif_data = pd.DataFrame()\n",
    "vif_data[\"feature\"] = x_train.columns\n",
    "  \n",
    "# calculating VIF for each feature\n",
    "vif_data[\"VIF\"] = [variance_inflation_factor(x_train.values, i)\n",
    "                          for i in range(len(x_train.columns))]\n",
    "  \n",
    "print(vif_data)"
   ]
  },
  {
   "cell_type": "code",
   "execution_count": 87,
   "metadata": {},
   "outputs": [
    {
     "data": {
      "text/html": [
       "<div>\n",
       "<style scoped>\n",
       "    .dataframe tbody tr th:only-of-type {\n",
       "        vertical-align: middle;\n",
       "    }\n",
       "\n",
       "    .dataframe tbody tr th {\n",
       "        vertical-align: top;\n",
       "    }\n",
       "\n",
       "    .dataframe thead th {\n",
       "        text-align: right;\n",
       "    }\n",
       "</style>\n",
       "<table border=\"1\" class=\"dataframe\">\n",
       "  <thead>\n",
       "    <tr style=\"text-align: right;\">\n",
       "      <th></th>\n",
       "      <th>feature</th>\n",
       "      <th>VIF</th>\n",
       "    </tr>\n",
       "  </thead>\n",
       "  <tbody>\n",
       "    <tr>\n",
       "      <th>107</th>\n",
       "      <td>WRKCOUNT_ratio_more_than_0.5</td>\n",
       "      <td>inf</td>\n",
       "    </tr>\n",
       "    <tr>\n",
       "      <th>81</th>\n",
       "      <td>LIF_CYC_10</td>\n",
       "      <td>inf</td>\n",
       "    </tr>\n",
       "    <tr>\n",
       "      <th>83</th>\n",
       "      <td>LIF_CYC_3</td>\n",
       "      <td>inf</td>\n",
       "    </tr>\n",
       "    <tr>\n",
       "      <th>84</th>\n",
       "      <td>LIF_CYC_4</td>\n",
       "      <td>inf</td>\n",
       "    </tr>\n",
       "    <tr>\n",
       "      <th>85</th>\n",
       "      <td>LIF_CYC_5</td>\n",
>>>>>>> 887b8b7d227b61825d01de448c637445f09f3deb
       "      <td>inf</td>\n",
       "    </tr>\n",
       "    <tr>\n",
       "      <th>...</th>\n",
       "      <td>...</td>\n",
       "      <td>...</td>\n",
       "    </tr>\n",
       "    <tr>\n",
       "      <th>54</th>\n",
<<<<<<< HEAD
       "      <td>dist_to_relatvies_between_5_and_11</td>\n",
       "      <td>1.018572</td>\n",
       "    </tr>\n",
       "    <tr>\n",
       "      <th>48</th>\n",
       "      <td>dist_to_school_or_church_greater_than_11</td>\n",
       "      <td>1.018423</td>\n",
       "    </tr>\n",
       "    <tr>\n",
       "      <th>50</th>\n",
       "      <td>dist_to_school_or_church_between_5_and_11</td>\n",
       "      <td>1.018231</td>\n",
       "    </tr>\n",
       "    <tr>\n",
       "      <th>53</th>\n",
       "      <td>dist_to_relatvies_between_2_and_5</td>\n",
       "      <td>1.016029</td>\n",
       "    </tr>\n",
       "    <tr>\n",
       "      <th>51</th>\n",
       "      <td>dist_to_relatvies_between_1_and_2</td>\n",
       "      <td>1.009819</td>\n",
=======
       "      <td>HHFAMINC_3</td>\n",
       "      <td>2.862544</td>\n",
       "    </tr>\n",
       "    <tr>\n",
       "      <th>53</th>\n",
       "      <td>HHFAMINC_2</td>\n",
       "      <td>1.930102</td>\n",
       "    </tr>\n",
       "    <tr>\n",
       "      <th>50</th>\n",
       "      <td>HHFAMINC_1</td>\n",
       "      <td>1.737317</td>\n",
       "    </tr>\n",
       "    <tr>\n",
       "      <th>11</th>\n",
       "      <td>R_RACE_4</td>\n",
       "      <td>1.567955</td>\n",
       "    </tr>\n",
       "    <tr>\n",
       "      <th>12</th>\n",
       "      <td>R_RACE_5</td>\n",
       "      <td>1.118766</td>\n",
>>>>>>> 887b8b7d227b61825d01de448c637445f09f3deb
       "    </tr>\n",
       "  </tbody>\n",
       "</table>\n",
       "<p>132 rows × 2 columns</p>\n",
       "</div>"
      ],
      "text/plain": [
<<<<<<< HEAD
       "                                       feature       VIF\n",
       "66                                    HHSIZE_1       inf\n",
       "89                                   MSASIZE_1       inf\n",
       "101                                URBANSIZE_6       inf\n",
       "100                                URBANSIZE_5       inf\n",
       "99                                 URBANSIZE_3       inf\n",
       "..                                         ...       ...\n",
       "54          dist_to_relatvies_between_5_and_11  1.018572\n",
       "48    dist_to_school_or_church_greater_than_11  1.018423\n",
       "50   dist_to_school_or_church_between_5_and_11  1.018231\n",
       "53           dist_to_relatvies_between_2_and_5  1.016029\n",
       "51           dist_to_relatvies_between_1_and_2  1.009819\n",
=======
       "                          feature       VIF\n",
       "107  WRKCOUNT_ratio_more_than_0.5       inf\n",
       "81                     LIF_CYC_10       inf\n",
       "83                      LIF_CYC_3       inf\n",
       "84                      LIF_CYC_4       inf\n",
       "85                      LIF_CYC_5       inf\n",
       "..                            ...       ...\n",
       "54                     HHFAMINC_3  2.862544\n",
       "53                     HHFAMINC_2  1.930102\n",
       "50                     HHFAMINC_1  1.737317\n",
       "11                       R_RACE_4  1.567955\n",
       "12                       R_RACE_5  1.118766\n",
>>>>>>> 887b8b7d227b61825d01de448c637445f09f3deb
       "\n",
       "[132 rows x 2 columns]"
      ]
     },
<<<<<<< HEAD
     "execution_count": 73,
=======
     "execution_count": 87,
>>>>>>> 887b8b7d227b61825d01de448c637445f09f3deb
     "metadata": {},
     "output_type": "execute_result"
    }
   ],
   "source": [
    "vif_data.sort_values(by = 'VIF', ascending = False)"
   ]
  },
  {
   "cell_type": "code",
<<<<<<< HEAD
   "execution_count": 74,
=======
   "execution_count": 88,
   "metadata": {},
   "outputs": [
    {
     "name": "stdout",
     "output_type": "stream",
     "text": [
      "It contains 66 infinite values\n"
     ]
    }
   ],
   "source": [
    "# counting number of infinity features \n",
    "\n",
    "vif_data_inf = np.isinf(vif_data['VIF']).values.sum()\n",
    "print(\"It contains \" + str(vif_data_inf) + \" infinite values\")"
   ]
  },
  {
   "cell_type": "markdown",
   "metadata": {},
   "source": [
    "#### Linear Regression - Regularisation"
   ]
  },
  {
   "cell_type": "markdown",
   "metadata": {},
   "source": [
    "**Lasso Regularisation**"
   ]
  },
  {
   "cell_type": "code",
   "execution_count": 89,
   "metadata": {},
   "outputs": [
    {
     "name": "stdout",
     "output_type": "stream",
     "text": [
      "--------------------------------\n",
      "lasso with alpha 0.0001\n",
      "--------------------------------\n",
      "\n",
      "Train score: 0.083\n",
      "Test score: 0.08\n",
      "[-2.044, 0.229, 1.169, -0.381, -0.415, -0.16, 0.0, 0.073, -0.181, -0.349, -0.542, -0.081, -0.252, -0.38, -0.545, -0.0, 0.329, -0.09, 0.186, -0.0, 0.307, 0.108, 0.164, -0.333, 0.095, 0.532, 1.421, 0.375, -0.355, -0.182, 0.006, 0.083, -0.045, 0.121, -0.0, 0.026, -0.012, -0.0, 0.0, 0.0, -0.065, 0.026, 0.447, 0.176, -0.012, -0.053, -0.091, 0.054, 0.0, -0.019, -0.258, 0.194, 0.276, -0.063, -0.028, 0.124, 0.198, 0.222, 0.198, 0.225, 0.345, -0.002, 0.155, 0.02, -0.062, 0.0, 0.233, -0.017, 0.003, -0.0, -0.001, -0.261, 0.0, 0.015, -0.0, 0.024, -0.242, -0.147, 0.0, -0.0, 0.0, -0.037, -0.188, 0.326, 0.104, 0.131, -0.047, -0.0, -0.16, 0.195, -0.379, -0.2, -0.236, -0.125, 0.013, 0.191, 0.005, 0.018, 0.416, -0.285, 0.0, 0.289, -0.0, -0.272, 0.706, -0.449, 0.35, -0.0]\n",
      "--------------------------------\n",
      "MSE on test set: 5.072072011659601\n",
      "Manual MSE on test set: 5.072072011659594\n",
      "RMSE on test set: 2.2521261091820772\n",
      "model complexity: 20.948523387336508\n",
      "regularized cost: 5.074166863998334\n",
      "\n",
      "\n",
      "--------------------------------\n",
      "lasso with alpha 0.001\n",
      "--------------------------------\n",
      "\n",
      "Train score: 0.082\n",
      "Test score: 0.08\n",
      "[-1.041, -0.0, 0.136, -0.228, -0.274, -0.013, 0.138, 0.216, 0.147, -0.0, -0.182, 0.0, -0.0, -0.016, -0.158, -0.013, 0.313, 0.0, 0.281, 0.0, 0.303, 0.0, 0.051, -0.421, 0.0, 0.0, 1.029, 0.0, -0.348, -0.181, 0.0, 0.075, -0.043, 0.113, 0.0, 0.007, -0.004, 0.0, -0.0, 0.0, -0.068, 0.0, 0.402, 0.101, -0.0, -0.071, -0.08, 0.059, 0.0, -0.006, -0.347, 0.052, 0.132, -0.153, -0.132, 0.0, 0.066, 0.089, 0.065, 0.087, 0.203, -0.011, 0.159, 0.011, -0.061, 0.0, 0.219, -0.0, 0.0, -0.0, -0.0, -0.257, 0.0, 0.014, 0.0, 0.016, -0.242, -0.147, 0.0, -0.0, -0.0, -0.0, -0.161, 0.094, 0.0, 0.105, -0.055, 0.0, -0.158, 0.19, -0.333, -0.145, -0.167, -0.076, 0.042, 0.006, 0.031, 0.033, 0.002, -0.0, -0.0, 0.147, -0.0, -0.073, 0.114, -0.0, 0.0, -0.024]\n",
      "--------------------------------\n",
      "MSE on test set: 5.070542882230143\n",
      "Manual MSE on test set: 5.070542882230143\n",
      "RMSE on test set: 2.2517865978440637\n",
      "model complexity: 10.932111040624909\n",
      "regularized cost: 5.081474993270768\n",
      "\n",
      "\n",
      "--------------------------------\n",
      "lasso with alpha 0.005\n",
      "--------------------------------\n",
      "\n",
      "Train score: 0.078\n",
      "Test score: 0.078\n",
      "[-0.484, -0.0, 0.0, -0.157, -0.269, -0.0, 0.124, 0.227, 0.206, 0.0, -0.042, 0.0, 0.0, -0.0, -0.0, -0.055, 0.262, 0.0, 0.263, 0.0, 0.26, 0.0, 0.0, -0.363, 0.001, 0.0, 0.877, -0.116, -0.305, -0.138, 0.0, 0.062, -0.0, 0.105, 0.0, 0.0, -0.006, 0.0, -0.0, 0.05, -0.031, 0.0, 0.341, 0.06, -0.0, -0.037, -0.023, 0.076, 0.0, -0.0, -0.208, -0.0, 0.004, -0.044, -0.1, -0.0, 0.0, 0.012, 0.0, 0.0, 0.075, -0.001, 0.124, 0.01, -0.057, 0.0, 0.118, -0.0, 0.0, -0.004, -0.001, -0.245, 0.0, 0.0, 0.0, 0.01, -0.223, -0.139, 0.0, -0.0, 0.0, -0.0, -0.142, 0.0, -0.0, 0.004, 0.0, 0.0, -0.11, 0.118, -0.26, -0.044, -0.022, -0.0, 0.061, 0.0, 0.038, 0.0, -0.0, 0.0, -0.0, 0.022, -0.0, -0.0, 0.007, 0.0, -0.0, -0.023]\n",
      "--------------------------------\n",
      "MSE on test set: 5.083107633170774\n",
      "Manual MSE on test set: 5.083107633170773\n",
      "RMSE on test set: 2.254574823147543\n",
      "model complexity: 7.166671029242358\n",
      "regularized cost: 5.118940988316986\n",
      "\n",
      "\n",
      "--------------------------------\n",
      "lasso with alpha 0.01\n",
      "--------------------------------\n",
      "\n",
      "Train score: 0.073\n",
      "Test score: 0.073\n",
      "[-0.0, -0.0, -0.0, -0.092, -0.263, -0.0, 0.095, 0.218, 0.191, -0.0, -0.0, 0.0, 0.0, -0.0, -0.0, -0.08, 0.228, 0.0, 0.223, 0.0, 0.198, 0.0, 0.0, -0.266, 0.025, 0.0, 0.81, -0.167, -0.27, -0.103, 0.0, 0.025, -0.0, 0.071, 0.0, 0.0, -0.0, 0.0, -0.0, 0.067, -0.0, -0.0, 0.261, 0.0, -0.003, -0.0, -0.0, 0.084, 0.0, -0.0, -0.0, -0.0, 0.0, -0.0, -0.001, -0.0, 0.0, 0.0, 0.0, 0.0, 0.002, -0.0, 0.073, 0.0, -0.049, 0.0, 0.0, 0.0, 0.0, -0.013, -0.006, -0.233, 0.0, 0.0, 0.0, 0.005, -0.194, -0.118, 0.0, -0.0, 0.0, -0.0, -0.136, 0.0, -0.0, 0.0, 0.0, 0.0, -0.089, 0.031, -0.244, -0.0, -0.0, -0.0, 0.018, 0.0, 0.0, 0.0, -0.04, 0.0, 0.0, 0.0, -0.0, -0.0, 0.0, 0.0, -0.0, -0.002]\n",
      "--------------------------------\n",
      "MSE on test set: 5.1114225352267155\n",
      "Manual MSE on test set: 5.111422535226716\n",
      "RMSE on test set: 2.2608455354638264\n",
      "model complexity: 4.996839344703351\n",
      "regularized cost: 5.161390928673749\n",
      "\n",
      "\n"
     ]
    }
   ],
   "source": [
    "alpha = [0.0001, 0.001, 0.005, 0.01]\n",
    "\n",
    "for i in range(4):\n",
    "    #build lasso regressor model here\n",
    "    lasso = linear_model.Lasso(alpha=alpha[i])\n",
    "    lasso.fit(x_train, y_train) #fit a lasso regression on the training data\n",
    "    y_predlasso = lasso.predict(x_test) #use this model to predict the test data\n",
    "    lasso_mse = metrics.mean_squared_error(y_test, y_predlasso) #calculate the test MSE\n",
    "    lasso_rmse = metrics.mean_squared_error(y_test, y_predlasso,squared = False) #calculate the test RMSE\n",
    "    msemanual = np.mean((y_predlasso-y_test)**2) #calculate mse manually to cross validate\n",
    "    lasso_cplxy = (np.sum(abs(lasso.coef_))) #calculate l1norm / model complexity\n",
    "    \n",
    "    print('-' * 32)\n",
    "    print('lasso with alpha', alpha[i])\n",
    "    print('-' * 32)\n",
    "    print('\\nTrain score:', round(lasso.score(x_train, y_train), 3)) #compute train R^2 score\n",
    "    print('Test score:', round(lasso.score(x_test, y_test), 3)) #compute test R^2 score\n",
    "    print(list(map(lambda x: round(x, 3), lasso.coef_))) #list out the coef values \n",
    "    print('-' * 32)\n",
    "    print('MSE on test set:', lasso_mse) #compute MSE results\n",
    "    print('Manual MSE on test set:',msemanual) #compute MSE results\n",
    "    print('RMSE on test set:', lasso_rmse) #compute RMSE results\n",
    "    print('model complexity:', lasso_cplxy) #compute L1 NOMR score\n",
    "    print('regularized cost:', lasso_mse + alpha[i] * lasso_cplxy) #compute regularised cost function scores\n",
    "    print('\\n')\n",
    "   "
   ]
  },
  {
   "cell_type": "markdown",
   "metadata": {},
   "source": [
    "**Ridge Regularisation**"
   ]
  },
  {
   "cell_type": "code",
   "execution_count": 90,
>>>>>>> 887b8b7d227b61825d01de448c637445f09f3deb
   "metadata": {},
   "outputs": [
    {
     "name": "stdout",
     "output_type": "stream",
     "text": [
<<<<<<< HEAD
      "It contains 66 infinite values\n"
=======
      "--------------------------------\n",
      "ridge with alpha 0.001\n",
      "--------------------------------\n",
      "\n",
      "Train score: 0.084\n",
      "Test score: 0.08\n",
      "[-2.174, 0.574, 1.286, -0.412, -0.446, -0.191, -0.032, 0.04, -0.336, -0.505, -0.7, -0.274, -0.589, -0.538, -0.702, 0.147, 0.476, -1.609, -1.33, 0.363, 0.671, 1.262, 1.318, 0.818, 1.248, 1.882, 1.488, 0.442, -0.303, -0.129, 0.06, 0.136, 0.009, 0.175, 0.052, 0.036, -0.025, 0.008, -0.018, 1.015, 0.95, 1.056, 0.25, 0.061, -0.138, -0.173, -0.078, 0.068, 0.016, -0.005, -0.243, 0.213, 0.294, -0.048, -0.013, 0.142, 0.215, 0.241, 0.216, 0.244, 0.364, -0.025, 0.043, 0.036, -0.054, -0.06, 0.174, -0.078, 0.043, -0.025, -0.054, -0.066, 0.066, 0.085, 0.069, 0.095, -0.173, -0.077, 0.066, -0.066, 0.027, -0.093, -0.242, 0.298, 0.069, 0.082, -0.098, -0.056, -0.21, 0.223, -0.296, -0.119, -0.154, -0.04, 0.1, 0.311, 0.092, 0.106, 0.42, -0.369, -0.051, 0.387, -0.008, -0.379, 0.606, -0.665, 0.224, -0.164]\n",
      "--------------------------------\n",
      "MSE on test set: 5.0731338372460995\n",
      "RMSE on test set: 2.2523618353288843\n",
      "model complexity: 5.6501177211388445\n",
      "regularized cost: 5.073698849018213\n",
      "\n",
      "\n",
      "--------------------------------\n",
      "ridge with alpha 0.01\n",
      "--------------------------------\n",
      "\n",
      "Train score: 0.084\n",
      "Test score: 0.08\n",
      "[-2.173, 0.573, 1.285, -0.412, -0.446, -0.191, -0.032, 0.04, -0.335, -0.505, -0.699, -0.273, -0.588, -0.538, -0.702, 0.147, 0.475, -1.592, -1.313, 0.358, 0.666, 1.25, 1.306, 0.806, 1.236, 1.869, 1.488, 0.442, -0.303, -0.129, 0.06, 0.136, 0.009, 0.175, 0.052, 0.036, -0.025, 0.008, -0.018, 0.988, 0.923, 1.029, 0.25, 0.061, -0.138, -0.173, -0.078, 0.068, 0.016, -0.005, -0.243, 0.213, 0.294, -0.048, -0.013, 0.142, 0.215, 0.241, 0.216, 0.244, 0.364, -0.025, 0.043, 0.036, -0.054, -0.06, 0.174, -0.078, 0.043, -0.025, -0.054, -0.066, 0.066, 0.085, 0.069, 0.095, -0.173, -0.077, 0.066, -0.066, 0.027, -0.093, -0.242, 0.298, 0.069, 0.082, -0.098, -0.056, -0.21, 0.223, -0.296, -0.119, -0.154, -0.04, 0.1, 0.311, 0.092, 0.106, 0.42, -0.369, -0.051, 0.387, -0.008, -0.379, 0.605, -0.665, 0.223, -0.164]\n",
      "--------------------------------\n",
      "MSE on test set: 5.073119479358651\n",
      "RMSE on test set: 2.2523586480306927\n",
      "model complexity: 5.610787500018573\n",
      "regularized cost: 5.07873026685867\n",
      "\n",
      "\n",
      "--------------------------------\n",
      "ridge with alpha 0.1\n",
      "--------------------------------\n",
      "\n",
      "Train score: 0.084\n",
      "Test score: 0.08\n",
      "[-2.166, 0.567, 1.281, -0.411, -0.445, -0.19, -0.031, 0.041, -0.332, -0.502, -0.696, -0.27, -0.582, -0.535, -0.699, 0.143, 0.472, -1.436, -1.158, 0.311, 0.619, 1.142, 1.197, 0.698, 1.128, 1.747, 1.486, 0.44, -0.303, -0.129, 0.06, 0.136, 0.008, 0.175, 0.052, 0.036, -0.026, 0.008, -0.018, 0.784, 0.719, 0.825, 0.25, 0.061, -0.138, -0.173, -0.078, 0.068, 0.016, -0.005, -0.242, 0.213, 0.295, -0.048, -0.013, 0.142, 0.215, 0.241, 0.217, 0.244, 0.364, -0.026, 0.043, 0.036, -0.054, -0.06, 0.174, -0.078, 0.043, -0.026, -0.054, -0.066, 0.066, 0.085, 0.069, 0.095, -0.173, -0.077, 0.066, -0.066, 0.027, -0.093, -0.242, 0.298, 0.069, 0.083, -0.098, -0.056, -0.21, 0.223, -0.296, -0.119, -0.154, -0.04, 0.1, 0.311, 0.092, 0.107, 0.418, -0.368, -0.05, 0.385, -0.008, -0.377, 0.604, -0.663, 0.223, -0.163]\n",
      "--------------------------------\n",
      "MSE on test set: 5.073014589362544\n",
      "RMSE on test set: 2.252335363431153\n",
      "model complexity: 5.288391684791022\n",
      "regularized cost: 5.0994565477865\n",
      "\n",
      "\n",
      "--------------------------------\n",
      "ridge with alpha 1\n",
      "--------------------------------\n",
      "\n",
      "Train score: 0.084\n",
      "Test score: 0.08\n",
      "[-2.104, 0.509, 1.24, -0.402, -0.436, -0.182, -0.022, 0.05, -0.305, -0.475, -0.668, -0.239, -0.521, -0.507, -0.671, 0.113, 0.442, -0.719, -0.441, 0.108, 0.416, 0.629, 0.685, 0.185, 0.615, 1.155, 1.467, 0.421, -0.303, -0.129, 0.06, 0.136, 0.008, 0.175, 0.053, 0.036, -0.026, 0.008, -0.018, 0.26, 0.195, 0.3, 0.248, 0.06, -0.137, -0.171, -0.078, 0.068, 0.016, -0.005, -0.244, 0.212, 0.294, -0.051, -0.014, 0.141, 0.214, 0.239, 0.216, 0.243, 0.363, -0.026, 0.044, 0.036, -0.054, -0.06, 0.174, -0.078, 0.044, -0.026, -0.054, -0.066, 0.066, 0.085, 0.069, 0.095, -0.172, -0.077, 0.066, -0.066, 0.026, -0.096, -0.244, 0.301, 0.069, 0.088, -0.097, -0.055, -0.213, 0.221, -0.294, -0.117, -0.152, -0.039, 0.101, 0.302, 0.093, 0.107, 0.4, -0.352, -0.048, 0.368, -0.009, -0.359, 0.586, -0.641, 0.215, -0.16]\n",
      "--------------------------------\n",
      "MSE on test set: 5.072605210454738\n",
      "RMSE on test set: 2.252244482833677\n",
      "model complexity: 4.186091517449469\n",
      "regularized cost: 5.114466125629233\n",
      "\n",
      "\n"
>>>>>>> 887b8b7d227b61825d01de448c637445f09f3deb
     ]
    }
   ],
   "source": [
    "ridgealpha = [0.001, 0.01, 0.1, 1]\n",
    "\n",
    "for i in range(4):\n",
    "    #build ridge regressor here\n",
    "    ridge = linear_model.Ridge(alpha=ridgealpha[i])\n",
    "    ridge.fit(x_train, y_train) #fit a ridge regression on the training data\n",
    "    y_pred_ridge = ridge.predict(x_test) #use this model to predict the test data\n",
    "    ridge_mse = metrics.mean_squared_error(y_test, y_pred_ridge) #calculate the test mse\n",
    "    ridge_rmse = metrics.mean_squared_error(y_test, y_pred_ridge,squared = False) #calculate the test rmse\n",
    "    ridge_cplxy = (np.linalg.norm(ridge.coef_)) #calculate l2norm / model complexity\n",
    "    \n",
    "    print('-' * 32)\n",
    "    print('ridge with alpha', ridgealpha[i])\n",
    "    print('-' * 32)\n",
    "    print('\\nTrain score:', round(ridge.score(x_train, y_train), 3))\n",
    "    print('Test score:', round(ridge.score(x_test, y_test), 3))\n",
    "    print(list(map(lambda x: round(x, 3), ridge.coef_)))\n",
    "    print('-' * 32)\n",
    "    print('MSE on test set:', ridge_mse)\n",
    "    print('RMSE on test set:', ridge_rmse)\n",
    "    print('model complexity:', ridge_cplxy)\n",
    "    print('regularized cost:', ridge_mse + alpha[i] * ridge_cplxy)\n",
    "    print('\\n')"
   ]
  },
  {
   "cell_type": "markdown",
   "metadata": {},
   "source": [
    "### Principal Component Regression"
   ]
  },
  {
   "cell_type": "code",
   "execution_count": 91,
   "metadata": {},
   "outputs": [],
   "source": [
    "from sklearn.preprocessing import scale\n",
    "from sklearn.decomposition import PCA\n",
    "from sklearn.cross_decomposition import PLSRegression\n",
    "from sklearn.cross_decomposition import PLSRegression, PLSSVD\n",
    "from sklearn import model_selection\n"
   ]
  },
  {
   "cell_type": "code",
   "execution_count": 92,
   "metadata": {},
   "outputs": [],
   "source": [
    "pca = PCA()\n",
    "x_reduced = pca.fit_transform(scale(x_train))\n"
   ]
  },
  {
   "cell_type": "code",
   "execution_count": 93,
   "metadata": {},
   "outputs": [
    {
     "data": {
      "text/html": [
       "<div>\n",
       "<style scoped>\n",
       "    .dataframe tbody tr th:only-of-type {\n",
       "        vertical-align: middle;\n",
       "    }\n",
       "\n",
       "    .dataframe tbody tr th {\n",
       "        vertical-align: top;\n",
       "    }\n",
       "\n",
       "    .dataframe thead th {\n",
       "        text-align: right;\n",
       "    }\n",
       "</style>\n",
       "<table border=\"1\" class=\"dataframe\">\n",
       "  <thead>\n",
       "    <tr style=\"text-align: right;\">\n",
       "      <th></th>\n",
       "      <th>0</th>\n",
       "      <th>1</th>\n",
       "      <th>2</th>\n",
       "      <th>3</th>\n",
       "      <th>4</th>\n",
       "      <th>5</th>\n",
       "    </tr>\n",
       "  </thead>\n",
       "  <tbody>\n",
       "    <tr>\n",
       "      <th>0</th>\n",
       "      <td>-0.270686</td>\n",
       "      <td>-0.196228</td>\n",
       "      <td>-0.010032</td>\n",
       "      <td>-0.019760</td>\n",
       "      <td>0.000933</td>\n",
       "      <td>0.035803</td>\n",
       "    </tr>\n",
       "    <tr>\n",
       "      <th>1</th>\n",
       "      <td>0.173591</td>\n",
       "      <td>0.137749</td>\n",
       "      <td>-0.041017</td>\n",
       "      <td>0.100945</td>\n",
       "      <td>-0.024988</td>\n",
       "      <td>0.278908</td>\n",
       "    </tr>\n",
       "    <tr>\n",
       "      <th>2</th>\n",
       "      <td>0.007901</td>\n",
       "      <td>-0.087736</td>\n",
       "      <td>-0.362184</td>\n",
       "      <td>0.014901</td>\n",
       "      <td>-0.014313</td>\n",
       "      <td>-0.034608</td>\n",
       "    </tr>\n",
       "    <tr>\n",
       "      <th>3</th>\n",
       "      <td>0.061499</td>\n",
       "      <td>0.056848</td>\n",
       "      <td>0.072702</td>\n",
       "      <td>-0.028107</td>\n",
       "      <td>0.002661</td>\n",
       "      <td>-0.124340</td>\n",
       "    </tr>\n",
       "    <tr>\n",
       "      <th>4</th>\n",
       "      <td>-0.070963</td>\n",
       "      <td>0.012285</td>\n",
       "      <td>0.058168</td>\n",
       "      <td>0.001688</td>\n",
       "      <td>0.020390</td>\n",
       "      <td>0.034402</td>\n",
       "    </tr>\n",
       "  </tbody>\n",
       "</table>\n",
       "</div>"
      ],
      "text/plain": [
       "          0         1         2         3         4         5\n",
       "0 -0.270686 -0.196228 -0.010032 -0.019760  0.000933  0.035803\n",
       "1  0.173591  0.137749 -0.041017  0.100945 -0.024988  0.278908\n",
       "2  0.007901 -0.087736 -0.362184  0.014901 -0.014313 -0.034608\n",
       "3  0.061499  0.056848  0.072702 -0.028107  0.002661 -0.124340\n",
       "4 -0.070963  0.012285  0.058168  0.001688  0.020390  0.034402"
      ]
     },
     "execution_count": 93,
     "metadata": {},
     "output_type": "execute_result"
    }
   ],
   "source": [
    "pd.DataFrame(pca.components_.T).loc[:4,:5]"
   ]
  },
  {
<<<<<<< HEAD
=======
   "cell_type": "code",
   "execution_count": 94,
   "metadata": {},
   "outputs": [],
   "source": [
    "# 10-fold CV, with shuffle\n",
    "#n = len(x_reduced)\n",
    "#kf_10 = model_selection.KFold( n_splits=10, shuffle=True, random_state=1)\n",
    "\n",
    "\n",
    "#pcamse = []\n",
    "\n",
    "# Calculate MSE with only the intercept (no principal components in regression)\n",
    "#pcascore = -1*model_selection.cross_val_score(regr, np.ones((n,1)), y.ravel(), cv=kf_10, scoring='neg_mean_squared_error').mean()    \n",
    "#mse.append(score)\n",
    "\n",
    "# Calculate MSE using CV for the 19 principle components, adding one component at the time.\n",
    "#for i in np.arange(1, 20):\n",
    " #   score = -1*model_selection.cross_val_score(regr, X_reduced[:,:i], y.ravel(), cv=kf_10, scoring='neg_mean_squared_error').mean()\n",
    "  #  mse.append(score)\n",
    "    \n",
    "# Plot results    \n",
    "#plt.plot(mse, '-v')\n",
    "#plt.xlabel('Number of principal components in regression')\n",
    "#plt.ylabel('MSE')\n",
    "#plt.title('Salary')\n",
    "#plt.xlim(xmin=-1);"
   ]
  },
  {
   "cell_type": "code",
   "execution_count": null,
   "metadata": {},
   "outputs": [],
   "source": []
  },
  {
   "cell_type": "code",
   "execution_count": null,
   "metadata": {},
   "outputs": [],
   "source": []
  },
  {
   "cell_type": "code",
   "execution_count": null,
   "metadata": {},
   "outputs": [],
   "source": []
  },
  {
>>>>>>> 887b8b7d227b61825d01de448c637445f09f3deb
   "cell_type": "code",
   "execution_count": 105,
   "metadata": {},
   "outputs": [
    {
     "name": "stdout",
     "output_type": "stream",
     "text": [
      "\n",
      "R2 score: [-4.60641359e+18  5.53847030e-01  5.60198488e-01  5.69332006e-01\n",
      "  5.68501513e-01]\n"
     ]
    }
   ],
   "source": [
    "#cross validation to see if it will improve results \n",
    "\n",
    "folds = model_selection.KFold(n_splits = 5, shuffle = True, random_state = 100)\n",
    "scores = model_selection.cross_val_score(LRmodel, x_train, y_train, scoring='r2', cv=folds)\n",
    "\n",
    "print('\\nR2 score:',scores)"
   ]
  },
  {
   "cell_type": "code",
<<<<<<< HEAD
   "execution_count": 106,
   "metadata": {},
   "outputs": [
    {
     "name": "stdout",
     "output_type": "stream",
     "text": [
      "Fitting 5 folds for each of 13 candidates, totalling 65 fits\n",
      "[CV 1/5; 1/13] START n_features_to_select=1.....................................\n",
      "[CV 1/5; 1/13] END n_features_to_select=1;, score=(train=0.002, test=0.001) total time=   2.8s\n",
      "[CV 2/5; 1/13] START n_features_to_select=1.....................................\n",
      "[CV 2/5; 1/13] END n_features_to_select=1;, score=(train=0.003, test=0.001) total time=   2.5s\n",
      "[CV 3/5; 1/13] START n_features_to_select=1.....................................\n",
      "[CV 3/5; 1/13] END n_features_to_select=1;, score=(train=0.002, test=0.003) total time=   2.5s\n",
      "[CV 4/5; 1/13] START n_features_to_select=1.....................................\n",
      "[CV 4/5; 1/13] END n_features_to_select=1;, score=(train=0.002, test=0.000) total time=   2.9s\n",
      "[CV 5/5; 1/13] START n_features_to_select=1.....................................\n",
      "[CV 5/5; 1/13] END n_features_to_select=1;, score=(train=0.001, test=0.001) total time=   2.6s\n",
      "[CV 1/5; 2/13] START n_features_to_select=2.....................................\n",
      "[CV 1/5; 2/13] END n_features_to_select=2;, score=(train=0.003, test=0.003) total time=   2.7s\n",
      "[CV 2/5; 2/13] START n_features_to_select=2.....................................\n",
      "[CV 2/5; 2/13] END n_features_to_select=2;, score=(train=0.005, test=0.003) total time=   2.8s\n",
      "[CV 3/5; 2/13] START n_features_to_select=2.....................................\n",
      "[CV 3/5; 2/13] END n_features_to_select=2;, score=(train=0.003, test=0.004) total time=   3.2s\n",
      "[CV 4/5; 2/13] START n_features_to_select=2.....................................\n",
      "[CV 4/5; 2/13] END n_features_to_select=2;, score=(train=0.002, test=0.000) total time=   3.5s\n",
      "[CV 5/5; 2/13] START n_features_to_select=2.....................................\n",
      "[CV 5/5; 2/13] END n_features_to_select=2;, score=(train=0.002, test=0.001) total time=   3.0s\n",
      "[CV 1/5; 3/13] START n_features_to_select=3.....................................\n",
      "[CV 1/5; 3/13] END n_features_to_select=3;, score=(train=0.003, test=0.003) total time=   3.0s\n",
      "[CV 2/5; 3/13] START n_features_to_select=3.....................................\n",
      "[CV 2/5; 3/13] END n_features_to_select=3;, score=(train=0.006, test=0.005) total time=   3.9s\n",
      "[CV 3/5; 3/13] START n_features_to_select=3.....................................\n",
      "[CV 3/5; 3/13] END n_features_to_select=3;, score=(train=0.004, test=0.004) total time=   3.2s\n",
      "[CV 4/5; 3/13] START n_features_to_select=3.....................................\n",
      "[CV 4/5; 3/13] END n_features_to_select=3;, score=(train=0.002, test=0.000) total time=   3.4s\n",
      "[CV 5/5; 3/13] START n_features_to_select=3.....................................\n",
      "[CV 5/5; 3/13] END n_features_to_select=3;, score=(train=0.002, test=0.001) total time=   3.2s\n",
      "[CV 1/5; 4/13] START n_features_to_select=4.....................................\n",
      "[CV 1/5; 4/13] END n_features_to_select=4;, score=(train=0.003, test=0.003) total time=   3.2s\n",
      "[CV 2/5; 4/13] START n_features_to_select=4.....................................\n",
      "[CV 2/5; 4/13] END n_features_to_select=4;, score=(train=0.006, test=0.005) total time=   3.5s\n",
      "[CV 3/5; 4/13] START n_features_to_select=4.....................................\n",
      "[CV 3/5; 4/13] END n_features_to_select=4;, score=(train=0.004, test=0.003) total time=   3.3s\n",
      "[CV 4/5; 4/13] START n_features_to_select=4.....................................\n",
      "[CV 4/5; 4/13] END n_features_to_select=4;, score=(train=0.002, test=0.000) total time=   3.1s\n",
      "[CV 5/5; 4/13] START n_features_to_select=4.....................................\n",
      "[CV 5/5; 4/13] END n_features_to_select=4;, score=(train=0.002, test=0.001) total time=   4.1s\n",
      "[CV 1/5; 5/13] START n_features_to_select=5.....................................\n",
      "[CV 1/5; 5/13] END n_features_to_select=5;, score=(train=0.006, test=0.005) total time=   4.9s\n",
      "[CV 2/5; 5/13] START n_features_to_select=5.....................................\n",
      "[CV 2/5; 5/13] END n_features_to_select=5;, score=(train=0.011, test=0.007) total time=   5.0s\n",
      "[CV 3/5; 5/13] START n_features_to_select=5.....................................\n",
      "[CV 3/5; 5/13] END n_features_to_select=5;, score=(train=0.004, test=0.003) total time=   4.3s\n",
      "[CV 4/5; 5/13] START n_features_to_select=5.....................................\n",
      "[CV 4/5; 5/13] END n_features_to_select=5;, score=(train=0.003, test=0.003) total time=   3.3s\n",
      "[CV 5/5; 5/13] START n_features_to_select=5.....................................\n",
      "[CV 5/5; 5/13] END n_features_to_select=5;, score=(train=0.002, test=0.001) total time=   3.1s\n",
      "[CV 1/5; 6/13] START n_features_to_select=6.....................................\n",
      "[CV 1/5; 6/13] END n_features_to_select=6;, score=(train=0.007, test=0.006) total time=   3.0s\n",
      "[CV 2/5; 6/13] START n_features_to_select=6.....................................\n",
      "[CV 2/5; 6/13] END n_features_to_select=6;, score=(train=0.012, test=0.008) total time=   3.2s\n",
      "[CV 3/5; 6/13] START n_features_to_select=6.....................................\n",
      "[CV 3/5; 6/13] END n_features_to_select=6;, score=(train=0.004, test=0.003) total time=   3.4s\n",
      "[CV 4/5; 6/13] START n_features_to_select=6.....................................\n",
      "[CV 4/5; 6/13] END n_features_to_select=6;, score=(train=0.003, test=0.003) total time=   3.9s\n",
      "[CV 5/5; 6/13] START n_features_to_select=6.....................................\n",
      "[CV 5/5; 6/13] END n_features_to_select=6;, score=(train=0.001, test=0.001) total time=   4.1s\n",
      "[CV 1/5; 7/13] START n_features_to_select=7.....................................\n",
      "[CV 1/5; 7/13] END n_features_to_select=7;, score=(train=0.008, test=0.006) total time=   4.0s\n",
      "[CV 2/5; 7/13] START n_features_to_select=7.....................................\n",
      "[CV 2/5; 7/13] END n_features_to_select=7;, score=(train=0.012, test=0.008) total time=   3.7s\n",
      "[CV 3/5; 7/13] START n_features_to_select=7.....................................\n",
      "[CV 3/5; 7/13] END n_features_to_select=7;, score=(train=0.004, test=0.003) total time=   3.5s\n",
      "[CV 4/5; 7/13] START n_features_to_select=7.....................................\n",
      "[CV 4/5; 7/13] END n_features_to_select=7;, score=(train=0.003, test=0.004) total time=   3.6s\n",
      "[CV 5/5; 7/13] START n_features_to_select=7.....................................\n",
      "[CV 5/5; 7/13] END n_features_to_select=7;, score=(train=0.001, test=0.001) total time=   3.3s\n",
      "[CV 1/5; 8/13] START n_features_to_select=8.....................................\n",
      "[CV 1/5; 8/13] END n_features_to_select=8;, score=(train=0.008, test=0.006) total time=   3.3s\n",
      "[CV 2/5; 8/13] START n_features_to_select=8.....................................\n",
      "[CV 2/5; 8/13] END n_features_to_select=8;, score=(train=0.012, test=0.007) total time=   3.5s\n",
      "[CV 3/5; 8/13] START n_features_to_select=8.....................................\n",
      "[CV 3/5; 8/13] END n_features_to_select=8;, score=(train=0.008, test=0.010) total time=   3.4s\n",
      "[CV 4/5; 8/13] START n_features_to_select=8.....................................\n",
      "[CV 4/5; 8/13] END n_features_to_select=8;, score=(train=0.004, test=0.003) total time=   3.3s\n",
      "[CV 5/5; 8/13] START n_features_to_select=8.....................................\n",
      "[CV 5/5; 8/13] END n_features_to_select=8;, score=(train=0.003, test=0.004) total time=   3.3s\n",
      "[CV 1/5; 9/13] START n_features_to_select=9.....................................\n",
      "[CV 1/5; 9/13] END n_features_to_select=9;, score=(train=0.008, test=0.006) total time=   3.4s\n",
      "[CV 2/5; 9/13] START n_features_to_select=9.....................................\n",
      "[CV 2/5; 9/13] END n_features_to_select=9;, score=(train=0.013, test=0.007) total time=   3.2s\n",
      "[CV 3/5; 9/13] START n_features_to_select=9.....................................\n",
      "[CV 3/5; 9/13] END n_features_to_select=9;, score=(train=0.008, test=0.010) total time=   3.6s\n",
      "[CV 4/5; 9/13] START n_features_to_select=9.....................................\n",
      "[CV 4/5; 9/13] END n_features_to_select=9;, score=(train=0.004, test=0.005) total time=   4.0s\n",
      "[CV 5/5; 9/13] START n_features_to_select=9.....................................\n",
      "[CV 5/5; 9/13] END n_features_to_select=9;, score=(train=0.003, test=0.004) total time=   4.0s\n",
      "[CV 1/5; 10/13] START n_features_to_select=10...................................\n",
      "[CV 1/5; 10/13] END n_features_to_select=10;, score=(train=0.008, test=0.005) total time=   3.9s\n",
      "[CV 2/5; 10/13] START n_features_to_select=10...................................\n"
     ]
    },
    {
     "name": "stdout",
     "output_type": "stream",
     "text": [
      "[CV 2/5; 10/13] END n_features_to_select=10;, score=(train=0.013, test=0.008) total time=   3.7s\n",
      "[CV 3/5; 10/13] START n_features_to_select=10...................................\n",
      "[CV 3/5; 10/13] END n_features_to_select=10;, score=(train=0.008, test=0.010) total time=   3.2s\n",
      "[CV 4/5; 10/13] START n_features_to_select=10...................................\n",
      "[CV 4/5; 10/13] END n_features_to_select=10;, score=(train=0.004, test=0.005) total time=   3.2s\n",
      "[CV 5/5; 10/13] START n_features_to_select=10...................................\n",
      "[CV 5/5; 10/13] END n_features_to_select=10;, score=(train=0.006, test=0.007) total time=   3.6s\n",
      "[CV 1/5; 11/13] START n_features_to_select=11...................................\n",
      "[CV 1/5; 11/13] END n_features_to_select=11;, score=(train=0.008, test=0.006) total time=   3.8s\n",
      "[CV 2/5; 11/13] START n_features_to_select=11...................................\n",
      "[CV 2/5; 11/13] END n_features_to_select=11;, score=(train=0.013, test=0.007) total time=   3.9s\n",
      "[CV 3/5; 11/13] START n_features_to_select=11...................................\n",
      "[CV 3/5; 11/13] END n_features_to_select=11;, score=(train=0.010, test=0.011) total time=   4.2s\n",
      "[CV 4/5; 11/13] START n_features_to_select=11...................................\n",
      "[CV 4/5; 11/13] END n_features_to_select=11;, score=(train=0.004, test=0.004) total time=   4.0s\n",
      "[CV 5/5; 11/13] START n_features_to_select=11...................................\n",
      "[CV 5/5; 11/13] END n_features_to_select=11;, score=(train=0.006, test=0.008) total time=   3.5s\n",
      "[CV 1/5; 12/13] START n_features_to_select=12...................................\n",
      "[CV 1/5; 12/13] END n_features_to_select=12;, score=(train=0.008, test=0.005) total time=   3.1s\n",
      "[CV 2/5; 12/13] START n_features_to_select=12...................................\n",
      "[CV 2/5; 12/13] END n_features_to_select=12;, score=(train=0.014, test=0.007) total time=   3.1s\n",
      "[CV 3/5; 12/13] START n_features_to_select=12...................................\n",
      "[CV 3/5; 12/13] END n_features_to_select=12;, score=(train=0.010, test=0.011) total time=   3.2s\n",
      "[CV 4/5; 12/13] START n_features_to_select=12...................................\n",
      "[CV 4/5; 12/13] END n_features_to_select=12;, score=(train=0.014, test=0.012) total time=   3.2s\n",
      "[CV 5/5; 12/13] START n_features_to_select=12...................................\n",
      "[CV 5/5; 12/13] END n_features_to_select=12;, score=(train=0.007, test=0.008) total time=   3.3s\n",
      "[CV 1/5; 13/13] START n_features_to_select=13...................................\n",
      "[CV 1/5; 13/13] END n_features_to_select=13;, score=(train=0.008, test=0.005) total time=   3.6s\n",
      "[CV 2/5; 13/13] START n_features_to_select=13...................................\n",
      "[CV 2/5; 13/13] END n_features_to_select=13;, score=(train=0.015, test=0.006) total time=   4.8s\n",
      "[CV 3/5; 13/13] START n_features_to_select=13...................................\n",
      "[CV 3/5; 13/13] END n_features_to_select=13;, score=(train=0.014, test=0.015) total time=   4.4s\n",
      "[CV 4/5; 13/13] START n_features_to_select=13...................................\n",
      "[CV 4/5; 13/13] END n_features_to_select=13;, score=(train=0.014, test=0.012) total time=   4.4s\n",
      "[CV 5/5; 13/13] START n_features_to_select=13...................................\n",
      "[CV 5/5; 13/13] END n_features_to_select=13;, score=(train=0.007, test=0.008) total time=   4.0s\n"
     ]
    },
    {
     "data": {
      "text/plain": [
       "GridSearchCV(cv=KFold(n_splits=5, random_state=100, shuffle=True),\n",
       "             estimator=RFE(estimator=LinearRegression()),\n",
       "             param_grid=[{'n_features_to_select': [1, 2, 3, 4, 5, 6, 7, 8, 9,\n",
       "                                                   10, 11, 12, 13]}],\n",
       "             return_train_score=True, scoring='r2', verbose=10)"
      ]
     },
     "execution_count": 106,
     "metadata": {},
     "output_type": "execute_result"
=======
   "execution_count": 95,
   "metadata": {},
   "outputs": [],
   "source": [
    "def evaluate_model(model, test_features, test_labels):\n",
    "    predictions = model.predict(test_features)\n",
    "    errors = abs(predictions-test_labels)\n",
    "    mse = metrics.mean_squared_error(test_labels,predictions)\n",
    "    rmse = np.sqrt(mse)\n",
    "    \n",
    "    mape = 100 * np.mean(errors / test_labels)\n",
    "    accuracy = 100 - mape\n",
    "    rsquare = model.score(test_features,test_labels)\n",
    "    importance = model.feature_importances_\n",
    "\n",
    "    \n",
    "    print('Model Preformance')\n",
    "    print('Average Error: {:0.4f} degrees.'.format(np.mean(errors)))\n",
    "    print('Accuracy = {:0.2f}%,'.format(accuracy))\n",
    "    print('rmse',rmse)\n",
    "    print('mse',mse)\n",
    "    print('R square:', rsquare)\n",
    "    \n",
    "    print(\"__________\")\n",
    "    print(\"Top 5 Features\")\n",
    "    feature_dict = {}\n",
    "    for i,v in enumerate(importance):\n",
    "        #print('Feature %0d, Score: %.5f' % (i,v))\n",
    "        feature_dict[i]=v\n",
    "    feature_names = test_features.columns\n",
    "    sorted_features = sorted(feature_dict.items(), key=lambda x: x[1], reverse=True)\n",
    "    \n",
    "    for i in sorted_features[:5]:\n",
    "        print(feature_names[i[0]],i[1])\n",
    "        \n",
    "    plt.bar([x for x in range(len(importance))],importance)\n",
    "    plt.show()\n",
    "    \n",
    "    \n",
    "    \n",
    "    return accuracy"
   ]
  },
  {
   "cell_type": "code",
   "execution_count": 96,
   "metadata": {},
   "outputs": [
    {
     "ename": "KeyboardInterrupt",
     "evalue": "",
     "output_type": "error",
     "traceback": [
      "\u001b[1;31m---------------------------------------------------------------------------\u001b[0m",
      "\u001b[1;31mKeyboardInterrupt\u001b[0m                         Traceback (most recent call last)",
      "\u001b[1;32m<ipython-input-96-9b52f6b91f95>\u001b[0m in \u001b[0;36m<module>\u001b[1;34m\u001b[0m\n\u001b[0;32m      2\u001b[0m \u001b[1;33m\u001b[0m\u001b[0m\n\u001b[0;32m      3\u001b[0m \u001b[0mrforest\u001b[0m \u001b[1;33m=\u001b[0m \u001b[0mensemble\u001b[0m\u001b[1;33m.\u001b[0m\u001b[0mRandomForestRegressor\u001b[0m\u001b[1;33m(\u001b[0m\u001b[0mn_estimators\u001b[0m \u001b[1;33m=\u001b[0m \u001b[1;36m1000\u001b[0m\u001b[1;33m,\u001b[0m \u001b[0mmax_features\u001b[0m \u001b[1;33m=\u001b[0m \u001b[1;36m50\u001b[0m\u001b[1;33m,\u001b[0m \u001b[0moob_score\u001b[0m \u001b[1;33m=\u001b[0m \u001b[1;32mTrue\u001b[0m\u001b[1;33m,\u001b[0m \u001b[0mrandom_state\u001b[0m \u001b[1;33m=\u001b[0m \u001b[1;36m2019\u001b[0m\u001b[1;33m)\u001b[0m\u001b[1;33m\u001b[0m\u001b[1;33m\u001b[0m\u001b[0m\n\u001b[1;32m----> 4\u001b[1;33m \u001b[0mrforest\u001b[0m\u001b[1;33m.\u001b[0m\u001b[0mfit\u001b[0m\u001b[1;33m(\u001b[0m\u001b[0mx_train\u001b[0m\u001b[1;33m,\u001b[0m \u001b[0my_train\u001b[0m\u001b[1;33m)\u001b[0m\u001b[1;33m\u001b[0m\u001b[1;33m\u001b[0m\u001b[0m\n\u001b[0m",
      "\u001b[1;32m~\\AppData\\Local\\Continuum\\anaconda3\\lib\\site-packages\\sklearn\\ensemble\\_forest.py\u001b[0m in \u001b[0;36mfit\u001b[1;34m(self, X, y, sample_weight)\u001b[0m\n\u001b[0;32m    391\u001b[0m                     \u001b[0mverbose\u001b[0m\u001b[1;33m=\u001b[0m\u001b[0mself\u001b[0m\u001b[1;33m.\u001b[0m\u001b[0mverbose\u001b[0m\u001b[1;33m,\u001b[0m \u001b[0mclass_weight\u001b[0m\u001b[1;33m=\u001b[0m\u001b[0mself\u001b[0m\u001b[1;33m.\u001b[0m\u001b[0mclass_weight\u001b[0m\u001b[1;33m,\u001b[0m\u001b[1;33m\u001b[0m\u001b[1;33m\u001b[0m\u001b[0m\n\u001b[0;32m    392\u001b[0m                     n_samples_bootstrap=n_samples_bootstrap)\n\u001b[1;32m--> 393\u001b[1;33m                 for i, t in enumerate(trees))\n\u001b[0m\u001b[0;32m    394\u001b[0m \u001b[1;33m\u001b[0m\u001b[0m\n\u001b[0;32m    395\u001b[0m             \u001b[1;31m# Collect newly grown trees\u001b[0m\u001b[1;33m\u001b[0m\u001b[1;33m\u001b[0m\u001b[1;33m\u001b[0m\u001b[0m\n",
      "\u001b[1;32m~\\AppData\\Local\\Continuum\\anaconda3\\lib\\site-packages\\joblib\\parallel.py\u001b[0m in \u001b[0;36m__call__\u001b[1;34m(self, iterable)\u001b[0m\n\u001b[0;32m    922\u001b[0m                 \u001b[0mself\u001b[0m\u001b[1;33m.\u001b[0m\u001b[0m_iterating\u001b[0m \u001b[1;33m=\u001b[0m \u001b[0mself\u001b[0m\u001b[1;33m.\u001b[0m\u001b[0m_original_iterator\u001b[0m \u001b[1;32mis\u001b[0m \u001b[1;32mnot\u001b[0m \u001b[1;32mNone\u001b[0m\u001b[1;33m\u001b[0m\u001b[1;33m\u001b[0m\u001b[0m\n\u001b[0;32m    923\u001b[0m \u001b[1;33m\u001b[0m\u001b[0m\n\u001b[1;32m--> 924\u001b[1;33m             \u001b[1;32mwhile\u001b[0m \u001b[0mself\u001b[0m\u001b[1;33m.\u001b[0m\u001b[0mdispatch_one_batch\u001b[0m\u001b[1;33m(\u001b[0m\u001b[0miterator\u001b[0m\u001b[1;33m)\u001b[0m\u001b[1;33m:\u001b[0m\u001b[1;33m\u001b[0m\u001b[1;33m\u001b[0m\u001b[0m\n\u001b[0m\u001b[0;32m    925\u001b[0m                 \u001b[1;32mpass\u001b[0m\u001b[1;33m\u001b[0m\u001b[1;33m\u001b[0m\u001b[0m\n\u001b[0;32m    926\u001b[0m \u001b[1;33m\u001b[0m\u001b[0m\n",
      "\u001b[1;32m~\\AppData\\Local\\Continuum\\anaconda3\\lib\\site-packages\\joblib\\parallel.py\u001b[0m in \u001b[0;36mdispatch_one_batch\u001b[1;34m(self, iterator)\u001b[0m\n\u001b[0;32m    757\u001b[0m                 \u001b[1;32mreturn\u001b[0m \u001b[1;32mFalse\u001b[0m\u001b[1;33m\u001b[0m\u001b[1;33m\u001b[0m\u001b[0m\n\u001b[0;32m    758\u001b[0m             \u001b[1;32melse\u001b[0m\u001b[1;33m:\u001b[0m\u001b[1;33m\u001b[0m\u001b[1;33m\u001b[0m\u001b[0m\n\u001b[1;32m--> 759\u001b[1;33m                 \u001b[0mself\u001b[0m\u001b[1;33m.\u001b[0m\u001b[0m_dispatch\u001b[0m\u001b[1;33m(\u001b[0m\u001b[0mtasks\u001b[0m\u001b[1;33m)\u001b[0m\u001b[1;33m\u001b[0m\u001b[1;33m\u001b[0m\u001b[0m\n\u001b[0m\u001b[0;32m    760\u001b[0m                 \u001b[1;32mreturn\u001b[0m \u001b[1;32mTrue\u001b[0m\u001b[1;33m\u001b[0m\u001b[1;33m\u001b[0m\u001b[0m\n\u001b[0;32m    761\u001b[0m \u001b[1;33m\u001b[0m\u001b[0m\n",
      "\u001b[1;32m~\\AppData\\Local\\Continuum\\anaconda3\\lib\\site-packages\\joblib\\parallel.py\u001b[0m in \u001b[0;36m_dispatch\u001b[1;34m(self, batch)\u001b[0m\n\u001b[0;32m    714\u001b[0m         \u001b[1;32mwith\u001b[0m \u001b[0mself\u001b[0m\u001b[1;33m.\u001b[0m\u001b[0m_lock\u001b[0m\u001b[1;33m:\u001b[0m\u001b[1;33m\u001b[0m\u001b[1;33m\u001b[0m\u001b[0m\n\u001b[0;32m    715\u001b[0m             \u001b[0mjob_idx\u001b[0m \u001b[1;33m=\u001b[0m \u001b[0mlen\u001b[0m\u001b[1;33m(\u001b[0m\u001b[0mself\u001b[0m\u001b[1;33m.\u001b[0m\u001b[0m_jobs\u001b[0m\u001b[1;33m)\u001b[0m\u001b[1;33m\u001b[0m\u001b[1;33m\u001b[0m\u001b[0m\n\u001b[1;32m--> 716\u001b[1;33m             \u001b[0mjob\u001b[0m \u001b[1;33m=\u001b[0m \u001b[0mself\u001b[0m\u001b[1;33m.\u001b[0m\u001b[0m_backend\u001b[0m\u001b[1;33m.\u001b[0m\u001b[0mapply_async\u001b[0m\u001b[1;33m(\u001b[0m\u001b[0mbatch\u001b[0m\u001b[1;33m,\u001b[0m \u001b[0mcallback\u001b[0m\u001b[1;33m=\u001b[0m\u001b[0mcb\u001b[0m\u001b[1;33m)\u001b[0m\u001b[1;33m\u001b[0m\u001b[1;33m\u001b[0m\u001b[0m\n\u001b[0m\u001b[0;32m    717\u001b[0m             \u001b[1;31m# A job can complete so quickly than its callback is\u001b[0m\u001b[1;33m\u001b[0m\u001b[1;33m\u001b[0m\u001b[1;33m\u001b[0m\u001b[0m\n\u001b[0;32m    718\u001b[0m             \u001b[1;31m# called before we get here, causing self._jobs to\u001b[0m\u001b[1;33m\u001b[0m\u001b[1;33m\u001b[0m\u001b[1;33m\u001b[0m\u001b[0m\n",
      "\u001b[1;32m~\\AppData\\Local\\Continuum\\anaconda3\\lib\\site-packages\\joblib\\_parallel_backends.py\u001b[0m in \u001b[0;36mapply_async\u001b[1;34m(self, func, callback)\u001b[0m\n\u001b[0;32m    180\u001b[0m     \u001b[1;32mdef\u001b[0m \u001b[0mapply_async\u001b[0m\u001b[1;33m(\u001b[0m\u001b[0mself\u001b[0m\u001b[1;33m,\u001b[0m \u001b[0mfunc\u001b[0m\u001b[1;33m,\u001b[0m \u001b[0mcallback\u001b[0m\u001b[1;33m=\u001b[0m\u001b[1;32mNone\u001b[0m\u001b[1;33m)\u001b[0m\u001b[1;33m:\u001b[0m\u001b[1;33m\u001b[0m\u001b[1;33m\u001b[0m\u001b[0m\n\u001b[0;32m    181\u001b[0m         \u001b[1;34m\"\"\"Schedule a func to be run\"\"\"\u001b[0m\u001b[1;33m\u001b[0m\u001b[1;33m\u001b[0m\u001b[0m\n\u001b[1;32m--> 182\u001b[1;33m         \u001b[0mresult\u001b[0m \u001b[1;33m=\u001b[0m \u001b[0mImmediateResult\u001b[0m\u001b[1;33m(\u001b[0m\u001b[0mfunc\u001b[0m\u001b[1;33m)\u001b[0m\u001b[1;33m\u001b[0m\u001b[1;33m\u001b[0m\u001b[0m\n\u001b[0m\u001b[0;32m    183\u001b[0m         \u001b[1;32mif\u001b[0m \u001b[0mcallback\u001b[0m\u001b[1;33m:\u001b[0m\u001b[1;33m\u001b[0m\u001b[1;33m\u001b[0m\u001b[0m\n\u001b[0;32m    184\u001b[0m             \u001b[0mcallback\u001b[0m\u001b[1;33m(\u001b[0m\u001b[0mresult\u001b[0m\u001b[1;33m)\u001b[0m\u001b[1;33m\u001b[0m\u001b[1;33m\u001b[0m\u001b[0m\n",
      "\u001b[1;32m~\\AppData\\Local\\Continuum\\anaconda3\\lib\\site-packages\\joblib\\_parallel_backends.py\u001b[0m in \u001b[0;36m__init__\u001b[1;34m(self, batch)\u001b[0m\n\u001b[0;32m    547\u001b[0m         \u001b[1;31m# Don't delay the application, to avoid keeping the input\u001b[0m\u001b[1;33m\u001b[0m\u001b[1;33m\u001b[0m\u001b[1;33m\u001b[0m\u001b[0m\n\u001b[0;32m    548\u001b[0m         \u001b[1;31m# arguments in memory\u001b[0m\u001b[1;33m\u001b[0m\u001b[1;33m\u001b[0m\u001b[1;33m\u001b[0m\u001b[0m\n\u001b[1;32m--> 549\u001b[1;33m         \u001b[0mself\u001b[0m\u001b[1;33m.\u001b[0m\u001b[0mresults\u001b[0m \u001b[1;33m=\u001b[0m \u001b[0mbatch\u001b[0m\u001b[1;33m(\u001b[0m\u001b[1;33m)\u001b[0m\u001b[1;33m\u001b[0m\u001b[1;33m\u001b[0m\u001b[0m\n\u001b[0m\u001b[0;32m    550\u001b[0m \u001b[1;33m\u001b[0m\u001b[0m\n\u001b[0;32m    551\u001b[0m     \u001b[1;32mdef\u001b[0m \u001b[0mget\u001b[0m\u001b[1;33m(\u001b[0m\u001b[0mself\u001b[0m\u001b[1;33m)\u001b[0m\u001b[1;33m:\u001b[0m\u001b[1;33m\u001b[0m\u001b[1;33m\u001b[0m\u001b[0m\n",
      "\u001b[1;32m~\\AppData\\Local\\Continuum\\anaconda3\\lib\\site-packages\\joblib\\parallel.py\u001b[0m in \u001b[0;36m__call__\u001b[1;34m(self)\u001b[0m\n\u001b[0;32m    223\u001b[0m         \u001b[1;32mwith\u001b[0m \u001b[0mparallel_backend\u001b[0m\u001b[1;33m(\u001b[0m\u001b[0mself\u001b[0m\u001b[1;33m.\u001b[0m\u001b[0m_backend\u001b[0m\u001b[1;33m,\u001b[0m \u001b[0mn_jobs\u001b[0m\u001b[1;33m=\u001b[0m\u001b[0mself\u001b[0m\u001b[1;33m.\u001b[0m\u001b[0m_n_jobs\u001b[0m\u001b[1;33m)\u001b[0m\u001b[1;33m:\u001b[0m\u001b[1;33m\u001b[0m\u001b[1;33m\u001b[0m\u001b[0m\n\u001b[0;32m    224\u001b[0m             return [func(*args, **kwargs)\n\u001b[1;32m--> 225\u001b[1;33m                     for func, args, kwargs in self.items]\n\u001b[0m\u001b[0;32m    226\u001b[0m \u001b[1;33m\u001b[0m\u001b[0m\n\u001b[0;32m    227\u001b[0m     \u001b[1;32mdef\u001b[0m \u001b[0m__len__\u001b[0m\u001b[1;33m(\u001b[0m\u001b[0mself\u001b[0m\u001b[1;33m)\u001b[0m\u001b[1;33m:\u001b[0m\u001b[1;33m\u001b[0m\u001b[1;33m\u001b[0m\u001b[0m\n",
      "\u001b[1;32m~\\AppData\\Local\\Continuum\\anaconda3\\lib\\site-packages\\joblib\\parallel.py\u001b[0m in \u001b[0;36m<listcomp>\u001b[1;34m(.0)\u001b[0m\n\u001b[0;32m    223\u001b[0m         \u001b[1;32mwith\u001b[0m \u001b[0mparallel_backend\u001b[0m\u001b[1;33m(\u001b[0m\u001b[0mself\u001b[0m\u001b[1;33m.\u001b[0m\u001b[0m_backend\u001b[0m\u001b[1;33m,\u001b[0m \u001b[0mn_jobs\u001b[0m\u001b[1;33m=\u001b[0m\u001b[0mself\u001b[0m\u001b[1;33m.\u001b[0m\u001b[0m_n_jobs\u001b[0m\u001b[1;33m)\u001b[0m\u001b[1;33m:\u001b[0m\u001b[1;33m\u001b[0m\u001b[1;33m\u001b[0m\u001b[0m\n\u001b[0;32m    224\u001b[0m             return [func(*args, **kwargs)\n\u001b[1;32m--> 225\u001b[1;33m                     for func, args, kwargs in self.items]\n\u001b[0m\u001b[0;32m    226\u001b[0m \u001b[1;33m\u001b[0m\u001b[0m\n\u001b[0;32m    227\u001b[0m     \u001b[1;32mdef\u001b[0m \u001b[0m__len__\u001b[0m\u001b[1;33m(\u001b[0m\u001b[0mself\u001b[0m\u001b[1;33m)\u001b[0m\u001b[1;33m:\u001b[0m\u001b[1;33m\u001b[0m\u001b[1;33m\u001b[0m\u001b[0m\n",
      "\u001b[1;32m~\\AppData\\Local\\Continuum\\anaconda3\\lib\\site-packages\\sklearn\\utils\\fixes.py\u001b[0m in \u001b[0;36m__call__\u001b[1;34m(self, *args, **kwargs)\u001b[0m\n\u001b[0;32m    220\u001b[0m     \u001b[1;32mdef\u001b[0m \u001b[0m__call__\u001b[0m\u001b[1;33m(\u001b[0m\u001b[0mself\u001b[0m\u001b[1;33m,\u001b[0m \u001b[1;33m*\u001b[0m\u001b[0margs\u001b[0m\u001b[1;33m,\u001b[0m \u001b[1;33m**\u001b[0m\u001b[0mkwargs\u001b[0m\u001b[1;33m)\u001b[0m\u001b[1;33m:\u001b[0m\u001b[1;33m\u001b[0m\u001b[1;33m\u001b[0m\u001b[0m\n\u001b[0;32m    221\u001b[0m         \u001b[1;32mwith\u001b[0m \u001b[0mconfig_context\u001b[0m\u001b[1;33m(\u001b[0m\u001b[1;33m**\u001b[0m\u001b[0mself\u001b[0m\u001b[1;33m.\u001b[0m\u001b[0mconfig\u001b[0m\u001b[1;33m)\u001b[0m\u001b[1;33m:\u001b[0m\u001b[1;33m\u001b[0m\u001b[1;33m\u001b[0m\u001b[0m\n\u001b[1;32m--> 222\u001b[1;33m             \u001b[1;32mreturn\u001b[0m \u001b[0mself\u001b[0m\u001b[1;33m.\u001b[0m\u001b[0mfunction\u001b[0m\u001b[1;33m(\u001b[0m\u001b[1;33m*\u001b[0m\u001b[0margs\u001b[0m\u001b[1;33m,\u001b[0m \u001b[1;33m**\u001b[0m\u001b[0mkwargs\u001b[0m\u001b[1;33m)\u001b[0m\u001b[1;33m\u001b[0m\u001b[1;33m\u001b[0m\u001b[0m\n\u001b[0m",
      "\u001b[1;32m~\\AppData\\Local\\Continuum\\anaconda3\\lib\\site-packages\\sklearn\\ensemble\\_forest.py\u001b[0m in \u001b[0;36m_parallel_build_trees\u001b[1;34m(tree, forest, X, y, sample_weight, tree_idx, n_trees, verbose, class_weight, n_samples_bootstrap)\u001b[0m\n\u001b[0;32m    167\u001b[0m                                                         indices=indices)\n\u001b[0;32m    168\u001b[0m \u001b[1;33m\u001b[0m\u001b[0m\n\u001b[1;32m--> 169\u001b[1;33m         \u001b[0mtree\u001b[0m\u001b[1;33m.\u001b[0m\u001b[0mfit\u001b[0m\u001b[1;33m(\u001b[0m\u001b[0mX\u001b[0m\u001b[1;33m,\u001b[0m \u001b[0my\u001b[0m\u001b[1;33m,\u001b[0m \u001b[0msample_weight\u001b[0m\u001b[1;33m=\u001b[0m\u001b[0mcurr_sample_weight\u001b[0m\u001b[1;33m,\u001b[0m \u001b[0mcheck_input\u001b[0m\u001b[1;33m=\u001b[0m\u001b[1;32mFalse\u001b[0m\u001b[1;33m)\u001b[0m\u001b[1;33m\u001b[0m\u001b[1;33m\u001b[0m\u001b[0m\n\u001b[0m\u001b[0;32m    170\u001b[0m     \u001b[1;32melse\u001b[0m\u001b[1;33m:\u001b[0m\u001b[1;33m\u001b[0m\u001b[1;33m\u001b[0m\u001b[0m\n\u001b[0;32m    171\u001b[0m         \u001b[0mtree\u001b[0m\u001b[1;33m.\u001b[0m\u001b[0mfit\u001b[0m\u001b[1;33m(\u001b[0m\u001b[0mX\u001b[0m\u001b[1;33m,\u001b[0m \u001b[0my\u001b[0m\u001b[1;33m,\u001b[0m \u001b[0msample_weight\u001b[0m\u001b[1;33m=\u001b[0m\u001b[0msample_weight\u001b[0m\u001b[1;33m,\u001b[0m \u001b[0mcheck_input\u001b[0m\u001b[1;33m=\u001b[0m\u001b[1;32mFalse\u001b[0m\u001b[1;33m)\u001b[0m\u001b[1;33m\u001b[0m\u001b[1;33m\u001b[0m\u001b[0m\n",
      "\u001b[1;32m~\\AppData\\Local\\Continuum\\anaconda3\\lib\\site-packages\\sklearn\\tree\\_classes.py\u001b[0m in \u001b[0;36mfit\u001b[1;34m(self, X, y, sample_weight, check_input, X_idx_sorted)\u001b[0m\n\u001b[0;32m   1254\u001b[0m             \u001b[0msample_weight\u001b[0m\u001b[1;33m=\u001b[0m\u001b[0msample_weight\u001b[0m\u001b[1;33m,\u001b[0m\u001b[1;33m\u001b[0m\u001b[1;33m\u001b[0m\u001b[0m\n\u001b[0;32m   1255\u001b[0m             \u001b[0mcheck_input\u001b[0m\u001b[1;33m=\u001b[0m\u001b[0mcheck_input\u001b[0m\u001b[1;33m,\u001b[0m\u001b[1;33m\u001b[0m\u001b[1;33m\u001b[0m\u001b[0m\n\u001b[1;32m-> 1256\u001b[1;33m             X_idx_sorted=X_idx_sorted)\n\u001b[0m\u001b[0;32m   1257\u001b[0m         \u001b[1;32mreturn\u001b[0m \u001b[0mself\u001b[0m\u001b[1;33m\u001b[0m\u001b[1;33m\u001b[0m\u001b[0m\n\u001b[0;32m   1258\u001b[0m \u001b[1;33m\u001b[0m\u001b[0m\n",
      "\u001b[1;32m~\\AppData\\Local\\Continuum\\anaconda3\\lib\\site-packages\\sklearn\\tree\\_classes.py\u001b[0m in \u001b[0;36mfit\u001b[1;34m(self, X, y, sample_weight, check_input, X_idx_sorted)\u001b[0m\n\u001b[0;32m    392\u001b[0m                                            min_impurity_split)\n\u001b[0;32m    393\u001b[0m \u001b[1;33m\u001b[0m\u001b[0m\n\u001b[1;32m--> 394\u001b[1;33m         \u001b[0mbuilder\u001b[0m\u001b[1;33m.\u001b[0m\u001b[0mbuild\u001b[0m\u001b[1;33m(\u001b[0m\u001b[0mself\u001b[0m\u001b[1;33m.\u001b[0m\u001b[0mtree_\u001b[0m\u001b[1;33m,\u001b[0m \u001b[0mX\u001b[0m\u001b[1;33m,\u001b[0m \u001b[0my\u001b[0m\u001b[1;33m,\u001b[0m \u001b[0msample_weight\u001b[0m\u001b[1;33m)\u001b[0m\u001b[1;33m\u001b[0m\u001b[1;33m\u001b[0m\u001b[0m\n\u001b[0m\u001b[0;32m    395\u001b[0m \u001b[1;33m\u001b[0m\u001b[0m\n\u001b[0;32m    396\u001b[0m         \u001b[1;32mif\u001b[0m \u001b[0mself\u001b[0m\u001b[1;33m.\u001b[0m\u001b[0mn_outputs_\u001b[0m \u001b[1;33m==\u001b[0m \u001b[1;36m1\u001b[0m \u001b[1;32mand\u001b[0m \u001b[0mis_classifier\u001b[0m\u001b[1;33m(\u001b[0m\u001b[0mself\u001b[0m\u001b[1;33m)\u001b[0m\u001b[1;33m:\u001b[0m\u001b[1;33m\u001b[0m\u001b[1;33m\u001b[0m\u001b[0m\n",
      "\u001b[1;31mKeyboardInterrupt\u001b[0m: "
     ]
>>>>>>> 887b8b7d227b61825d01de448c637445f09f3deb
    }
   ],
   "source": [
    "from sklearn.feature_selection import RFE\n",
    "\n",
    "\n",
    "#specify range of hyperparameters to tune\n",
    "hyper_params = [{'n_features_to_select': list(range(1, 14))}]\n",
    "\n",
    "\n",
    "# perform grid search\n",
    "\n",
    "rfe = RFE(LRmodel)             \n",
    "\n",
    "# 3.2 call GridSearchCV()\n",
    "model_cv = model_selection.GridSearchCV(estimator = rfe, \n",
    "                        param_grid = hyper_params, \n",
    "                        scoring= 'r2', \n",
    "                        cv = folds, \n",
    "                        verbose = 10,\n",
    "                        return_train_score=True)      \n",
    "\n",
    "# fit the model\n",
    "model_cv.fit(x_train, y_train)              "
   ]
  },
  {
   "cell_type": "code",
<<<<<<< HEAD
   "execution_count": 107,
   "metadata": {},
   "outputs": [
    {
     "data": {
      "text/html": [
       "<div>\n",
       "<style scoped>\n",
       "    .dataframe tbody tr th:only-of-type {\n",
       "        vertical-align: middle;\n",
       "    }\n",
       "\n",
       "    .dataframe tbody tr th {\n",
       "        vertical-align: top;\n",
       "    }\n",
       "\n",
       "    .dataframe thead th {\n",
       "        text-align: right;\n",
       "    }\n",
       "</style>\n",
       "<table border=\"1\" class=\"dataframe\">\n",
       "  <thead>\n",
       "    <tr style=\"text-align: right;\">\n",
       "      <th></th>\n",
       "      <th>mean_fit_time</th>\n",
       "      <th>std_fit_time</th>\n",
       "      <th>mean_score_time</th>\n",
       "      <th>std_score_time</th>\n",
       "      <th>param_n_features_to_select</th>\n",
       "      <th>params</th>\n",
       "      <th>split0_test_score</th>\n",
       "      <th>split1_test_score</th>\n",
       "      <th>split2_test_score</th>\n",
       "      <th>split3_test_score</th>\n",
       "      <th>...</th>\n",
       "      <th>mean_test_score</th>\n",
       "      <th>std_test_score</th>\n",
       "      <th>rank_test_score</th>\n",
       "      <th>split0_train_score</th>\n",
       "      <th>split1_train_score</th>\n",
       "      <th>split2_train_score</th>\n",
       "      <th>split3_train_score</th>\n",
       "      <th>split4_train_score</th>\n",
       "      <th>mean_train_score</th>\n",
       "      <th>std_train_score</th>\n",
       "    </tr>\n",
       "  </thead>\n",
       "  <tbody>\n",
       "    <tr>\n",
       "      <th>0</th>\n",
       "      <td>2.671947</td>\n",
       "      <td>0.161083</td>\n",
       "      <td>0.005912</td>\n",
       "      <td>0.000160</td>\n",
       "      <td>1</td>\n",
       "      <td>{'n_features_to_select': 1}</td>\n",
       "      <td>0.000750</td>\n",
       "      <td>0.000995</td>\n",
       "      <td>0.003170</td>\n",
       "      <td>0.000307</td>\n",
       "      <td>...</td>\n",
       "      <td>0.001230</td>\n",
       "      <td>0.000999</td>\n",
       "      <td>13</td>\n",
       "      <td>0.002038</td>\n",
       "      <td>0.003338</td>\n",
       "      <td>0.002383</td>\n",
       "      <td>0.001640</td>\n",
       "      <td>0.001432</td>\n",
       "      <td>0.002166</td>\n",
       "      <td>0.000671</td>\n",
       "    </tr>\n",
       "    <tr>\n",
       "      <th>1</th>\n",
       "      <td>3.023139</td>\n",
       "      <td>0.275613</td>\n",
       "      <td>0.008033</td>\n",
       "      <td>0.000887</td>\n",
       "      <td>2</td>\n",
       "      <td>{'n_features_to_select': 2}</td>\n",
       "      <td>0.002592</td>\n",
       "      <td>0.003290</td>\n",
       "      <td>0.003816</td>\n",
       "      <td>0.000247</td>\n",
       "      <td>...</td>\n",
       "      <td>0.002193</td>\n",
       "      <td>0.001353</td>\n",
       "      <td>12</td>\n",
       "      <td>0.002834</td>\n",
       "      <td>0.004844</td>\n",
       "      <td>0.003401</td>\n",
       "      <td>0.001641</td>\n",
       "      <td>0.001536</td>\n",
       "      <td>0.002851</td>\n",
       "      <td>0.001222</td>\n",
       "    </tr>\n",
       "    <tr>\n",
       "      <th>2</th>\n",
       "      <td>3.354766</td>\n",
       "      <td>0.279094</td>\n",
       "      <td>0.008519</td>\n",
       "      <td>0.001160</td>\n",
       "      <td>3</td>\n",
       "      <td>{'n_features_to_select': 3}</td>\n",
       "      <td>0.003329</td>\n",
       "      <td>0.004924</td>\n",
       "      <td>0.003731</td>\n",
       "      <td>0.000349</td>\n",
       "      <td>...</td>\n",
       "      <td>0.002665</td>\n",
       "      <td>0.001723</td>\n",
       "      <td>10</td>\n",
       "      <td>0.003328</td>\n",
       "      <td>0.005817</td>\n",
       "      <td>0.003684</td>\n",
       "      <td>0.001580</td>\n",
       "      <td>0.001508</td>\n",
       "      <td>0.003183</td>\n",
       "      <td>0.001587</td>\n",
       "    </tr>\n",
       "    <tr>\n",
       "      <th>3</th>\n",
       "      <td>3.439186</td>\n",
       "      <td>0.364004</td>\n",
       "      <td>0.007545</td>\n",
       "      <td>0.001061</td>\n",
       "      <td>4</td>\n",
       "      <td>{'n_features_to_select': 4}</td>\n",
       "      <td>0.003304</td>\n",
       "      <td>0.004927</td>\n",
       "      <td>0.003142</td>\n",
       "      <td>0.000350</td>\n",
       "      <td>...</td>\n",
       "      <td>0.002549</td>\n",
       "      <td>0.001658</td>\n",
       "      <td>11</td>\n",
       "      <td>0.003325</td>\n",
       "      <td>0.005817</td>\n",
       "      <td>0.003968</td>\n",
       "      <td>0.001569</td>\n",
       "      <td>0.001535</td>\n",
       "      <td>0.003243</td>\n",
       "      <td>0.001605</td>\n",
       "    </tr>\n",
       "    <tr>\n",
       "      <th>4</th>\n",
       "      <td>4.144510</td>\n",
       "      <td>0.789887</td>\n",
       "      <td>0.008139</td>\n",
       "      <td>0.001346</td>\n",
       "      <td>5</td>\n",
       "      <td>{'n_features_to_select': 5}</td>\n",
       "      <td>0.005236</td>\n",
       "      <td>0.007206</td>\n",
       "      <td>0.003124</td>\n",
       "      <td>0.002820</td>\n",
       "      <td>...</td>\n",
       "      <td>0.003891</td>\n",
       "      <td>0.002121</td>\n",
       "      <td>9</td>\n",
       "      <td>0.006209</td>\n",
       "      <td>0.010868</td>\n",
       "      <td>0.004246</td>\n",
       "      <td>0.002757</td>\n",
       "      <td>0.001539</td>\n",
       "      <td>0.005124</td>\n",
       "      <td>0.003268</td>\n",
       "    </tr>\n",
       "    <tr>\n",
       "      <th>5</th>\n",
       "      <td>3.507738</td>\n",
       "      <td>0.423425</td>\n",
       "      <td>0.006939</td>\n",
       "      <td>0.000756</td>\n",
       "      <td>6</td>\n",
       "      <td>{'n_features_to_select': 6}</td>\n",
       "      <td>0.005670</td>\n",
       "      <td>0.007568</td>\n",
       "      <td>0.002927</td>\n",
       "      <td>0.003408</td>\n",
       "      <td>...</td>\n",
       "      <td>0.004104</td>\n",
       "      <td>0.002293</td>\n",
       "      <td>8</td>\n",
       "      <td>0.007296</td>\n",
       "      <td>0.012260</td>\n",
       "      <td>0.004308</td>\n",
       "      <td>0.003231</td>\n",
       "      <td>0.001473</td>\n",
       "      <td>0.005714</td>\n",
       "      <td>0.003781</td>\n",
       "    </tr>\n",
       "    <tr>\n",
       "      <th>6</th>\n",
       "      <td>3.615354</td>\n",
       "      <td>0.226340</td>\n",
       "      <td>0.007369</td>\n",
       "      <td>0.000390</td>\n",
       "      <td>7</td>\n",
       "      <td>{'n_features_to_select': 7}</td>\n",
       "      <td>0.005644</td>\n",
       "      <td>0.007727</td>\n",
       "      <td>0.003003</td>\n",
       "      <td>0.003547</td>\n",
       "      <td>...</td>\n",
       "      <td>0.004175</td>\n",
       "      <td>0.002321</td>\n",
       "      <td>7</td>\n",
       "      <td>0.007572</td>\n",
       "      <td>0.012444</td>\n",
       "      <td>0.004265</td>\n",
       "      <td>0.003220</td>\n",
       "      <td>0.001488</td>\n",
       "      <td>0.005798</td>\n",
       "      <td>0.003870</td>\n",
       "    </tr>\n",
       "    <tr>\n",
       "      <th>7</th>\n",
       "      <td>3.362590</td>\n",
       "      <td>0.071484</td>\n",
       "      <td>0.007070</td>\n",
       "      <td>0.000684</td>\n",
       "      <td>8</td>\n",
       "      <td>{'n_features_to_select': 8}</td>\n",
       "      <td>0.005669</td>\n",
       "      <td>0.007344</td>\n",
       "      <td>0.009958</td>\n",
       "      <td>0.003034</td>\n",
       "      <td>...</td>\n",
       "      <td>0.005916</td>\n",
       "      <td>0.002538</td>\n",
       "      <td>6</td>\n",
       "      <td>0.007750</td>\n",
       "      <td>0.012483</td>\n",
       "      <td>0.008375</td>\n",
       "      <td>0.003645</td>\n",
       "      <td>0.003138</td>\n",
       "      <td>0.007078</td>\n",
       "      <td>0.003425</td>\n",
       "    </tr>\n",
       "    <tr>\n",
       "      <th>8</th>\n",
       "      <td>3.634751</td>\n",
       "      <td>0.318741</td>\n",
       "      <td>0.009599</td>\n",
       "      <td>0.001817</td>\n",
       "      <td>9</td>\n",
       "      <td>{'n_features_to_select': 9}</td>\n",
       "      <td>0.005580</td>\n",
       "      <td>0.007357</td>\n",
       "      <td>0.009964</td>\n",
       "      <td>0.004691</td>\n",
       "      <td>...</td>\n",
       "      <td>0.006234</td>\n",
       "      <td>0.002238</td>\n",
       "      <td>5</td>\n",
       "      <td>0.008054</td>\n",
       "      <td>0.012665</td>\n",
       "      <td>0.008366</td>\n",
       "      <td>0.004008</td>\n",
       "      <td>0.003127</td>\n",
       "      <td>0.007244</td>\n",
       "      <td>0.003427</td>\n",
       "    </tr>\n",
       "    <tr>\n",
       "      <th>9</th>\n",
       "      <td>3.493219</td>\n",
       "      <td>0.272868</td>\n",
       "      <td>0.007668</td>\n",
       "      <td>0.000708</td>\n",
       "      <td>10</td>\n",
       "      <td>{'n_features_to_select': 10}</td>\n",
       "      <td>0.005467</td>\n",
       "      <td>0.007658</td>\n",
       "      <td>0.009971</td>\n",
       "      <td>0.004645</td>\n",
       "      <td>...</td>\n",
       "      <td>0.006978</td>\n",
       "      <td>0.001853</td>\n",
       "      <td>4</td>\n",
       "      <td>0.008095</td>\n",
       "      <td>0.012719</td>\n",
       "      <td>0.008377</td>\n",
       "      <td>0.004122</td>\n",
       "      <td>0.005643</td>\n",
       "      <td>0.007791</td>\n",
       "      <td>0.002926</td>\n",
       "    </tr>\n",
       "    <tr>\n",
       "      <th>10</th>\n",
       "      <td>3.868919</td>\n",
       "      <td>0.238256</td>\n",
       "      <td>0.008685</td>\n",
       "      <td>0.001115</td>\n",
       "      <td>11</td>\n",
       "      <td>{'n_features_to_select': 11}</td>\n",
       "      <td>0.005548</td>\n",
       "      <td>0.007182</td>\n",
       "      <td>0.010853</td>\n",
       "      <td>0.003683</td>\n",
       "      <td>...</td>\n",
       "      <td>0.007144</td>\n",
       "      <td>0.002450</td>\n",
       "      <td>3</td>\n",
       "      <td>0.008023</td>\n",
       "      <td>0.012881</td>\n",
       "      <td>0.010273</td>\n",
       "      <td>0.003845</td>\n",
       "      <td>0.006471</td>\n",
       "      <td>0.008299</td>\n",
       "      <td>0.003103</td>\n",
       "    </tr>\n",
       "    <tr>\n",
       "      <th>11</th>\n",
       "      <td>3.164208</td>\n",
       "      <td>0.063582</td>\n",
       "      <td>0.007412</td>\n",
       "      <td>0.000744</td>\n",
       "      <td>12</td>\n",
       "      <td>{'n_features_to_select': 12}</td>\n",
       "      <td>0.005400</td>\n",
       "      <td>0.006522</td>\n",
       "      <td>0.010831</td>\n",
       "      <td>0.012249</td>\n",
       "      <td>...</td>\n",
       "      <td>0.008555</td>\n",
       "      <td>0.002590</td>\n",
       "      <td>2</td>\n",
       "      <td>0.008087</td>\n",
       "      <td>0.014013</td>\n",
       "      <td>0.010269</td>\n",
       "      <td>0.013888</td>\n",
       "      <td>0.006858</td>\n",
       "      <td>0.010623</td>\n",
       "      <td>0.002929</td>\n",
       "    </tr>\n",
       "    <tr>\n",
       "      <th>12</th>\n",
       "      <td>4.224268</td>\n",
       "      <td>0.424275</td>\n",
       "      <td>0.008730</td>\n",
       "      <td>0.000529</td>\n",
       "      <td>13</td>\n",
       "      <td>{'n_features_to_select': 13}</td>\n",
       "      <td>0.005441</td>\n",
       "      <td>0.006406</td>\n",
       "      <td>0.015122</td>\n",
       "      <td>0.011960</td>\n",
       "      <td>...</td>\n",
       "      <td>0.009326</td>\n",
       "      <td>0.003654</td>\n",
       "      <td>1</td>\n",
       "      <td>0.008087</td>\n",
       "      <td>0.014564</td>\n",
       "      <td>0.013897</td>\n",
       "      <td>0.013873</td>\n",
       "      <td>0.006999</td>\n",
       "      <td>0.011484</td>\n",
       "      <td>0.003246</td>\n",
       "    </tr>\n",
       "  </tbody>\n",
       "</table>\n",
       "<p>13 rows × 21 columns</p>\n",
       "</div>"
      ],
      "text/plain": [
       "    mean_fit_time  std_fit_time  mean_score_time  std_score_time  \\\n",
       "0        2.671947      0.161083         0.005912        0.000160   \n",
       "1        3.023139      0.275613         0.008033        0.000887   \n",
       "2        3.354766      0.279094         0.008519        0.001160   \n",
       "3        3.439186      0.364004         0.007545        0.001061   \n",
       "4        4.144510      0.789887         0.008139        0.001346   \n",
       "5        3.507738      0.423425         0.006939        0.000756   \n",
       "6        3.615354      0.226340         0.007369        0.000390   \n",
       "7        3.362590      0.071484         0.007070        0.000684   \n",
       "8        3.634751      0.318741         0.009599        0.001817   \n",
       "9        3.493219      0.272868         0.007668        0.000708   \n",
       "10       3.868919      0.238256         0.008685        0.001115   \n",
       "11       3.164208      0.063582         0.007412        0.000744   \n",
       "12       4.224268      0.424275         0.008730        0.000529   \n",
       "\n",
       "   param_n_features_to_select                        params  \\\n",
       "0                           1   {'n_features_to_select': 1}   \n",
       "1                           2   {'n_features_to_select': 2}   \n",
       "2                           3   {'n_features_to_select': 3}   \n",
       "3                           4   {'n_features_to_select': 4}   \n",
       "4                           5   {'n_features_to_select': 5}   \n",
       "5                           6   {'n_features_to_select': 6}   \n",
       "6                           7   {'n_features_to_select': 7}   \n",
       "7                           8   {'n_features_to_select': 8}   \n",
       "8                           9   {'n_features_to_select': 9}   \n",
       "9                          10  {'n_features_to_select': 10}   \n",
       "10                         11  {'n_features_to_select': 11}   \n",
       "11                         12  {'n_features_to_select': 12}   \n",
       "12                         13  {'n_features_to_select': 13}   \n",
       "\n",
       "    split0_test_score  split1_test_score  split2_test_score  \\\n",
       "0            0.000750           0.000995           0.003170   \n",
       "1            0.002592           0.003290           0.003816   \n",
       "2            0.003329           0.004924           0.003731   \n",
       "3            0.003304           0.004927           0.003142   \n",
       "4            0.005236           0.007206           0.003124   \n",
       "5            0.005670           0.007568           0.002927   \n",
       "6            0.005644           0.007727           0.003003   \n",
       "7            0.005669           0.007344           0.009958   \n",
       "8            0.005580           0.007357           0.009964   \n",
       "9            0.005467           0.007658           0.009971   \n",
       "10           0.005548           0.007182           0.010853   \n",
       "11           0.005400           0.006522           0.010831   \n",
       "12           0.005441           0.006406           0.015122   \n",
       "\n",
       "    split3_test_score  ...  mean_test_score  std_test_score  rank_test_score  \\\n",
       "0            0.000307  ...         0.001230        0.000999               13   \n",
       "1            0.000247  ...         0.002193        0.001353               12   \n",
       "2            0.000349  ...         0.002665        0.001723               10   \n",
       "3            0.000350  ...         0.002549        0.001658               11   \n",
       "4            0.002820  ...         0.003891        0.002121                9   \n",
       "5            0.003408  ...         0.004104        0.002293                8   \n",
       "6            0.003547  ...         0.004175        0.002321                7   \n",
       "7            0.003034  ...         0.005916        0.002538                6   \n",
       "8            0.004691  ...         0.006234        0.002238                5   \n",
       "9            0.004645  ...         0.006978        0.001853                4   \n",
       "10           0.003683  ...         0.007144        0.002450                3   \n",
       "11           0.012249  ...         0.008555        0.002590                2   \n",
       "12           0.011960  ...         0.009326        0.003654                1   \n",
       "\n",
       "    split0_train_score  split1_train_score  split2_train_score  \\\n",
       "0             0.002038            0.003338            0.002383   \n",
       "1             0.002834            0.004844            0.003401   \n",
       "2             0.003328            0.005817            0.003684   \n",
       "3             0.003325            0.005817            0.003968   \n",
       "4             0.006209            0.010868            0.004246   \n",
       "5             0.007296            0.012260            0.004308   \n",
       "6             0.007572            0.012444            0.004265   \n",
       "7             0.007750            0.012483            0.008375   \n",
       "8             0.008054            0.012665            0.008366   \n",
       "9             0.008095            0.012719            0.008377   \n",
       "10            0.008023            0.012881            0.010273   \n",
       "11            0.008087            0.014013            0.010269   \n",
       "12            0.008087            0.014564            0.013897   \n",
       "\n",
       "    split3_train_score  split4_train_score  mean_train_score  std_train_score  \n",
       "0             0.001640            0.001432          0.002166         0.000671  \n",
       "1             0.001641            0.001536          0.002851         0.001222  \n",
       "2             0.001580            0.001508          0.003183         0.001587  \n",
       "3             0.001569            0.001535          0.003243         0.001605  \n",
       "4             0.002757            0.001539          0.005124         0.003268  \n",
       "5             0.003231            0.001473          0.005714         0.003781  \n",
       "6             0.003220            0.001488          0.005798         0.003870  \n",
       "7             0.003645            0.003138          0.007078         0.003425  \n",
       "8             0.004008            0.003127          0.007244         0.003427  \n",
       "9             0.004122            0.005643          0.007791         0.002926  \n",
       "10            0.003845            0.006471          0.008299         0.003103  \n",
       "11            0.013888            0.006858          0.010623         0.002929  \n",
       "12            0.013873            0.006999          0.011484         0.003246  \n",
       "\n",
       "[13 rows x 21 columns]"
      ]
     },
     "execution_count": 107,
     "metadata": {},
     "output_type": "execute_result"
    }
   ],
=======
   "execution_count": null,
   "metadata": {},
   "outputs": [],
>>>>>>> 887b8b7d227b61825d01de448c637445f09f3deb
   "source": [
    "# cv results\n",
    "cv_results = pd.DataFrame(model_cv.cv_results_)\n",
    "cv_results\n"
   ]
  },
  {
   "cell_type": "markdown",
   "metadata": {},
   "source": [
    "#### Linear Regression - Regularisation"
   ]
  },
  {
   "cell_type": "markdown",
   "metadata": {},
   "source": [
    "**Lasso Regularisation**"
   ]
  },
  {
   "cell_type": "code",
<<<<<<< HEAD
   "execution_count": 75,
   "metadata": {},
   "outputs": [
    {
     "name": "stdout",
     "output_type": "stream",
     "text": [
      "--------------------------------\n",
      "lasso with alpha 0.0001\n",
      "--------------------------------\n",
      "\n",
      "Train score: 0.568\n",
      "Test score: 0.566\n",
      "[-0.732, 0.0, 0.145, -0.227, -0.184, -0.118, -0.056, -0.052, -0.056, -0.123, -0.26, 0.084, -0.048, -0.131, -0.24, 0.002, 0.116, -0.0, 0.009, 0.0, 0.168, 0.108, 0.047, -0.153, 0.036, 0.848, 0.64, 0.152, -0.175, -0.051, 0.02, 0.082, -0.0, 0.071, -0.018, 1.626, 1.254, 1.471, 1.375, 1.786, 1.834, 1.862, 1.939, 2.252, 1.987, 2.172, 2.118, 1.569, 1.448, 1.527, 1.58, 1.656, 1.402, 1.751, 1.665, 1.942, 1.646, 1.944, 1.849, 0.111, -0.106, -0.038, 0.009, 0.003, -0.027, 0.0, 0.076, 0.037, -0.011, -0.01, 0.042, 0.045, -0.019, -0.027, -0.114, 0.029, 0.088, 0.023, 0.018, 0.1, 0.095, 0.063, 0.082, 0.037, 0.065, -0.008, 0.0, -0.0, 0.04, -0.0, 0.074, -0.026, 0.0, -0.0, 0.001, -0.4, 0.0, 0.021, -0.105, -0.048, -0.0, 0.215, 0.203, -0.0, -0.0, -0.104, -0.126, 0.0, 0.028, 0.005, -0.099, 0.003, -0.073, 0.081, -0.283, -0.18, -0.119, -0.073, 0.014, 0.0, 0.071, 0.096, 0.112, -0.132, -0.0, 0.141, 0.0, -0.188, 0.081, -0.076, 0.098, -0.014]\n",
      "--------------------------------\n",
      "MSE on test set: 2.3920394598351686\n",
      "Manual MSE on test set: 2.392039459835163\n",
      "RMSE on test set: 1.5466219511681478\n",
      "model complexity: 51.42150503996062\n",
      "regularized cost: 2.3971816103391648\n",
      "\n",
      "\n",
      "--------------------------------\n",
      "lasso with alpha 0.001\n",
      "--------------------------------\n",
      "\n",
      "Train score: 0.567\n",
      "Test score: 0.567\n",
      "[-0.361, -0.0, 0.0, -0.151, -0.116, -0.046, 0.005, 0.014, 0.065, -0.0, -0.11, 0.0, -0.0, -0.0, -0.062, -0.0, 0.114, 0.0, 0.027, 0.011, 0.18, 0.059, 0.0, -0.182, 0.0, 0.0, 0.485, -0.0, -0.168, -0.047, 0.015, 0.075, -0.0, 0.065, -0.011, 1.558, 1.233, 1.438, 1.35, 1.763, 1.811, 1.85, 1.921, 2.23, 1.97, 2.161, 2.107, 1.493, 1.38, 1.483, 1.521, 1.559, 1.372, 1.707, 1.618, 1.921, 1.634, 1.936, 1.837, 0.079, -0.101, -0.031, 0.007, 0.005, -0.02, 0.0, 0.147, 0.016, -0.009, -0.007, 0.035, 0.043, -0.018, -0.026, -0.115, -0.0, 0.035, -0.0, -0.0, 0.051, 0.049, 0.019, 0.035, -0.0, 0.01, -0.006, 0.0, 0.0, 0.036, 0.0, 0.059, -0.025, -0.0, -0.003, 0.0, -0.394, 0.0, 0.027, -0.089, -0.022, -0.0, 0.205, 0.186, -0.0, 0.0, -0.005, -0.041, 0.0, 0.0, 0.053, -0.018, 0.0, -0.0, 0.075, -0.204, -0.1, -0.023, -0.0, 0.073, 0.0, 0.123, 0.138, -0.0, -0.0, 0.018, 0.039, -0.0, -0.077, 0.0, -0.0, 0.029, -0.011]\n",
      "--------------------------------\n",
      "MSE on test set: 2.389088500570172\n",
      "Manual MSE on test set: 2.3890885005701694\n",
      "RMSE on test set: 1.5456676552772177\n",
      "model complexity: 46.16222307629617\n",
      "regularized cost: 2.4352507236464684\n",
      "\n",
      "\n",
      "--------------------------------\n",
      "lasso with alpha 0.005\n",
      "--------------------------------\n",
      "\n",
      "Train score: 0.561\n",
      "Test score: 0.563\n",
      "[-0.0, -0.0, -0.0, -0.06, -0.066, -0.0, 0.018, 0.045, 0.089, 0.0, -0.0, 0.0, -0.0, -0.0, -0.0, -0.0, 0.119, 0.0, 0.027, 0.0, 0.154, 0.016, 0.0, -0.142, 0.0, 0.0, 0.416, -0.055, -0.142, -0.026, 0.0, 0.047, 0.0, 0.041, -0.0, 1.243, 1.136, 1.284, 1.227, 1.661, 1.719, 1.793, 1.845, 2.126, 1.893, 2.108, 2.048, 1.142, 1.078, 1.284, 1.265, 1.126, 1.233, 1.514, 1.42, 1.81, 1.579, 1.886, 1.773, 0.0, -0.121, -0.0, 0.0, 0.0, -0.0, -0.0, 0.141, 0.0, -0.006, -0.0, 0.009, 0.029, -0.011, -0.019, -0.0, -0.0, 0.0, -0.0, -0.0, 0.0, 0.0, 0.0, 0.0, -0.0, 0.0, -0.001, 0.0, -0.0, 0.011, 0.0, 0.0, -0.022, 0.0, -0.004, 0.0, -0.377, 0.0, 0.001, -0.043, -0.0, -0.0, 0.113, 0.103, -0.0, 0.0, -0.0, -0.063, 0.0, 0.0, 0.0, 0.0, 0.0, -0.0, 0.036, -0.191, -0.063, -0.0, -0.0, 0.007, 0.0, 0.036, 0.02, -0.039, 0.0, 0.0, 0.0, 0.0, -0.0, 0.0, -0.0, 0.0, -0.009]\n",
      "--------------------------------\n",
      "MSE on test set: 2.4115499964615847\n",
      "Manual MSE on test set: 2.411549996461584\n",
      "RMSE on test set: 1.5529166096289861\n",
      "model complexity: 40.130499933576885\n",
      "regularized cost: 2.612202496129469\n",
      "\n",
      "\n",
      "--------------------------------\n",
      "lasso with alpha 0.01\n",
      "--------------------------------\n",
      "\n",
      "Train score: 0.546\n",
      "Test score: 0.549\n",
      "[-0.0, -0.0, -0.0, -0.0, -0.055, -0.0, 0.0, 0.045, 0.055, -0.0, -0.0, 0.0, -0.0, -0.0, -0.0, -0.0, 0.127, 0.0, 0.03, 0.0, 0.12, 0.0, 0.0, -0.078, 0.004, 0.0, 0.405, -0.073, -0.111, -0.0, 0.0, 0.012, 0.0, 0.008, -0.0, 0.847, 1.013, 1.086, 1.075, 1.533, 1.609, 1.726, 1.753, 1.984, 1.796, 2.036, 1.972, 0.687, 0.697, 1.024, 0.944, 0.577, 1.064, 1.273, 1.176, 1.664, 1.505, 1.822, 1.691, 0.0, -0.119, -0.0, 0.0, 0.0, -0.0, -0.0, 0.154, 0.0, -0.0, -0.0, 0.0, 0.02, -0.0, -0.0, -0.0, -0.0, 0.0, -0.0, -0.0, 0.0, 0.0, 0.0, 0.0, -0.0, 0.0, -0.0, 0.0, -0.0, 0.0, 0.0, 0.0, -0.0, 0.0, -0.0, 0.0, -0.354, 0.0, 0.0, -0.0, -0.0, -0.0, 0.0, 0.0, -0.0, 0.0, -0.0, -0.049, 0.0, 0.0, 0.0, 0.0, 0.0, -0.0, 0.0, -0.124, -0.0, 0.0, -0.0, 0.0, 0.0, 0.004, 0.0, -0.0, 0.0, 0.0, 0.0, 0.0, -0.0, 0.0, 0.0, 0.0, -0.0]\n",
      "--------------------------------\n",
      "MSE on test set: 2.4864979594662504\n",
      "Manual MSE on test set: 2.4864979594662624\n",
      "RMSE on test set: 1.5768633293555439\n",
      "model complexity: 34.50208762688697\n",
      "regularized cost: 2.83151883573512\n",
      "\n",
      "\n"
     ]
    }
   ],
   "source": [
    "alpha = [0.0001, 0.001, 0.005, 0.01]\n",
    "\n",
    "for i in range(4):\n",
    "    #build lasso regressor model here\n",
    "    lasso = linear_model.Lasso(alpha=alpha[i])\n",
    "    lasso.fit(x_train, y_train) #fit a lasso regression on the training data\n",
    "    y_predlasso = lasso.predict(x_test) #use this model to predict the test data\n",
    "    lasso_mse = metrics.mean_squared_error(y_test, y_predlasso) #calculate the test MSE\n",
    "    lasso_rmse = metrics.mean_squared_error(y_test, y_predlasso,squared = False) #calculate the test RMSE\n",
    "    msemanual = np.mean((y_predlasso-y_test)**2) #calculate mse manually to cross validate\n",
    "    lasso_cplxy = (np.sum(abs(lasso.coef_))) #calculate l1norm / model complexity\n",
    "    \n",
    "    print('-' * 32)\n",
    "    print('lasso with alpha', alpha[i])\n",
    "    print('-' * 32)\n",
    "    print('\\nTrain score:', round(lasso.score(x_train, y_train), 3)) #compute train R^2 score\n",
    "    print('Test score:', round(lasso.score(x_test, y_test), 3)) #compute test R^2 score\n",
    "    print(list(map(lambda x: round(x, 3), lasso.coef_))) #list out the coef values \n",
    "    print('-' * 32)\n",
    "    print('MSE on test set:', lasso_mse) #compute MSE results\n",
    "    print('Manual MSE on test set:',msemanual) #compute MSE results\n",
    "    print('RMSE on test set:', lasso_rmse) #compute RMSE results\n",
    "    print('model complexity:', lasso_cplxy) #compute L1 NOMR score\n",
    "    print('regularized cost:', lasso_mse + alpha[i] * lasso_cplxy) #compute regularised cost function scores\n",
    "    print('\\n')\n",
    "   "
   ]
  },
  {
   "cell_type": "markdown",
   "metadata": {},
   "source": [
    "**Ridge Regularisation**"
   ]
  },
  {
   "cell_type": "code",
   "execution_count": 76,
   "metadata": {},
   "outputs": [
    {
     "name": "stdout",
     "output_type": "stream",
     "text": [
      "--------------------------------\n",
      "ridge with alpha 0.001\n",
      "--------------------------------\n",
      "\n",
      "Train score: 0.568\n",
      "Test score: 0.566\n",
      "[-0.857, 0.345, 0.261, -0.297, -0.263, -0.198, -0.137, -0.133, -0.176, -0.246, -0.385, -0.001, -0.353, -0.256, -0.363, 0.251, 0.365, -1.343, -1.332, 0.365, 0.533, 1.086, 1.024, 0.821, 1.014, 2.023, 0.744, 0.252, -0.166, -0.041, 0.031, 0.092, 0.011, 0.082, -0.01, 1.631, 1.256, 1.474, 1.377, 1.788, 1.837, 1.864, 1.94, 2.254, 1.989, 2.173, 2.119, 1.575, 1.455, 1.531, 1.588, 1.67, 1.403, 1.755, 1.669, 1.944, 1.648, 1.945, 1.85, 0.085, -0.037, -0.069, 0.021, 0.135, 0.105, 0.135, 0.08, 0.01, -0.048, -0.041, 0.032, 0.035, -0.03, -0.037, -0.087, 0.06, 0.118, 0.056, 0.049, 0.13, 0.124, 0.094, 0.112, 0.068, 0.096, -0.037, 0.016, 0.005, 0.016, -0.014, 0.061, -0.041, 0.016, -0.037, 0.016, -0.152, 0.152, 0.005, -0.124, -0.065, -0.016, 0.201, 0.152, -0.152, -0.001, -0.073, -0.093, 0.031, 0.072, 0.039, -0.064, 0.045, -0.037, 0.081, -0.231, -0.128, -0.065, -0.017, 0.071, 0.086, 0.13, 0.155, 0.164, -0.164, -0.0, 0.255, 0.014, -0.27, 0.11, -0.162, 0.1, -0.048]\n",
      "--------------------------------\n",
      "MSE on test set: 2.393793639436416\n",
      "RMSE on test set: 1.5471889475550218\n",
      "model complexity: 9.459586177695455\n",
      "regularized cost: 2.3947395980541852\n",
      "\n",
      "\n",
      "--------------------------------\n",
      "ridge with alpha 0.01\n",
      "--------------------------------\n",
      "\n",
      "Train score: 0.568\n",
      "Test score: 0.566\n",
      "[-0.856, 0.344, 0.26, -0.297, -0.263, -0.198, -0.137, -0.133, -0.176, -0.246, -0.384, -0.0, -0.352, -0.256, -0.363, 0.251, 0.365, -1.327, -1.316, 0.36, 0.528, 1.074, 1.013, 0.81, 1.003, 2.01, 0.744, 0.252, -0.166, -0.041, 0.031, 0.092, 0.011, 0.082, -0.01, 1.631, 1.256, 1.474, 1.377, 1.788, 1.837, 1.864, 1.94, 2.254, 1.989, 2.173, 2.119, 1.575, 1.455, 1.531, 1.588, 1.67, 1.403, 1.755, 1.669, 1.944, 1.648, 1.945, 1.85, 0.085, -0.037, -0.069, 0.021, 0.132, 0.101, 0.132, 0.08, 0.01, -0.048, -0.041, 0.032, 0.035, -0.03, -0.037, -0.087, 0.06, 0.118, 0.056, 0.049, 0.13, 0.124, 0.094, 0.112, 0.068, 0.096, -0.037, 0.016, 0.005, 0.016, -0.014, 0.061, -0.041, 0.016, -0.037, 0.016, -0.152, 0.152, 0.005, -0.124, -0.065, -0.016, 0.201, 0.152, -0.152, -0.001, -0.073, -0.093, 0.031, 0.072, 0.039, -0.064, 0.045, -0.037, 0.081, -0.231, -0.128, -0.065, -0.017, 0.071, 0.086, 0.13, 0.155, 0.164, -0.164, -0.0, 0.255, 0.014, -0.27, 0.11, -0.162, 0.1, -0.048]\n",
      "--------------------------------\n",
      "MSE on test set: 2.3937823069086996\n",
      "RMSE on test set: 1.5471852852547103\n",
      "model complexity: 9.447065642014207\n",
      "regularized cost: 2.403229372550714\n",
      "\n",
      "\n",
      "--------------------------------\n",
      "ridge with alpha 0.1\n",
      "--------------------------------\n",
      "\n",
      "Train score: 0.568\n",
      "Test score: 0.566\n",
      "[-0.854, 0.341, 0.259, -0.296, -0.263, -0.197, -0.136, -0.132, -0.174, -0.244, -0.383, 0.001, -0.349, -0.254, -0.361, 0.248, 0.362, -1.185, -1.174, 0.317, 0.486, 0.975, 0.914, 0.711, 0.904, 1.897, 0.743, 0.251, -0.166, -0.041, 0.031, 0.092, 0.011, 0.082, -0.01, 1.631, 1.256, 1.473, 1.377, 1.787, 1.837, 1.864, 1.94, 2.253, 1.989, 2.173, 2.119, 1.575, 1.455, 1.531, 1.587, 1.669, 1.403, 1.754, 1.668, 1.943, 1.647, 1.945, 1.85, 0.085, -0.037, -0.069, 0.021, 0.107, 0.076, 0.107, 0.08, 0.01, -0.048, -0.041, 0.032, 0.035, -0.03, -0.037, -0.087, 0.06, 0.119, 0.056, 0.049, 0.13, 0.124, 0.094, 0.112, 0.068, 0.096, -0.037, 0.016, 0.005, 0.016, -0.014, 0.061, -0.041, 0.016, -0.037, 0.016, -0.152, 0.152, 0.005, -0.124, -0.065, -0.016, 0.201, 0.152, -0.152, -0.001, -0.073, -0.093, 0.032, 0.072, 0.039, -0.064, 0.045, -0.037, 0.081, -0.231, -0.128, -0.065, -0.017, 0.071, 0.085, 0.13, 0.155, 0.163, -0.163, 0.0, 0.254, 0.014, -0.269, 0.11, -0.162, 0.1, -0.048]\n",
      "--------------------------------\n",
      "MSE on test set: 2.393683134375083\n",
      "RMSE on test set: 1.5471532355830442\n",
      "model complexity: 9.339734346565738\n",
      "regularized cost: 2.4403818061079114\n",
      "\n",
      "\n",
      "--------------------------------\n",
      "ridge with alpha 1\n",
      "--------------------------------\n",
      "\n",
      "Train score: 0.568\n",
      "Test score: 0.566\n",
      "[-0.832, 0.305, 0.249, -0.29, -0.256, -0.19, -0.129, -0.125, -0.16, -0.23, -0.368, 0.015, -0.314, -0.24, -0.347, 0.223, 0.336, -0.534, -0.523, 0.134, 0.303, 0.508, 0.447, 0.244, 0.436, 1.34, 0.732, 0.24, -0.166, -0.041, 0.031, 0.092, 0.011, 0.082, -0.009, 1.627, 1.255, 1.471, 1.376, 1.786, 1.836, 1.863, 1.939, 2.251, 1.987, 2.172, 2.117, 1.57, 1.451, 1.528, 1.583, 1.661, 1.402, 1.752, 1.666, 1.942, 1.647, 1.944, 1.849, 0.085, -0.037, -0.069, 0.021, 0.042, 0.011, 0.042, 0.079, 0.009, -0.048, -0.041, 0.032, 0.035, -0.03, -0.037, -0.088, 0.06, 0.118, 0.055, 0.048, 0.13, 0.124, 0.093, 0.112, 0.067, 0.096, -0.037, 0.016, 0.005, 0.016, -0.014, 0.061, -0.041, 0.016, -0.037, 0.016, -0.151, 0.151, 0.005, -0.124, -0.065, -0.016, 0.2, 0.151, -0.151, -0.001, -0.074, -0.094, 0.034, 0.071, 0.041, -0.064, 0.046, -0.039, 0.08, -0.23, -0.127, -0.065, -0.017, 0.072, 0.082, 0.13, 0.155, 0.157, -0.158, 0.001, 0.244, 0.014, -0.258, 0.105, -0.156, 0.098, -0.047]\n",
      "--------------------------------\n",
      "MSE on test set: 2.393165931071341\n",
      "RMSE on test set: 1.5469860797923622\n",
      "model complexity: 8.952547441497495\n",
      "regularized cost: 2.482691405486316\n",
      "\n",
      "\n"
     ]
    }
   ],
   "source": [
    "ridgealpha = [0.001, 0.01, 0.1, 1]\n",
    "\n",
    "for i in range(4):\n",
    "    #build ridge regressor here\n",
    "    ridge = linear_model.Ridge(alpha=ridgealpha[i])\n",
    "    ridge.fit(x_train, y_train) #fit a ridge regression on the training data\n",
    "    y_pred_ridge = ridge.predict(x_test) #use this model to predict the test data\n",
    "    ridge_mse = metrics.mean_squared_error(y_test, y_pred_ridge) #calculate the test mse\n",
    "    ridge_rmse = metrics.mean_squared_error(y_test, y_pred_ridge,squared = False) #calculate the test rmse\n",
    "    ridge_cplxy = (np.linalg.norm(ridge.coef_)) #calculate l2norm / model complexity\n",
    "    \n",
    "    print('-' * 32)\n",
    "    print('ridge with alpha', ridgealpha[i])\n",
    "    print('-' * 32)\n",
    "    print('\\nTrain score:', round(ridge.score(x_train, y_train), 3))\n",
    "    print('Test score:', round(ridge.score(x_test, y_test), 3))\n",
    "    print(list(map(lambda x: round(x, 3), ridge.coef_)))\n",
    "    print('-' * 32)\n",
    "    print('MSE on test set:', ridge_mse)\n",
    "    print('RMSE on test set:', ridge_rmse)\n",
    "    print('model complexity:', ridge_cplxy)\n",
    "    print('regularized cost:', ridge_mse + alpha[i] * ridge_cplxy)\n",
    "    print('\\n')"
   ]
  },
  {
   "cell_type": "markdown",
   "metadata": {},
   "source": [
    "### Principal Component Regression"
   ]
  },
  {
   "cell_type": "code",
   "execution_count": 75,
   "metadata": {},
   "outputs": [],
   "source": [
    "from sklearn.preprocessing import scale\n",
    "from sklearn.decomposition import PCA\n",
    "from sklearn.cross_decomposition import PLSRegression\n",
    "from sklearn.cross_decomposition import PLSRegression, PLSSVD\n",
    "from sklearn import model_selection\n"
   ]
  },
  {
   "cell_type": "code",
   "execution_count": 76,
   "metadata": {},
   "outputs": [],
   "source": [
    "pca = PCA()\n",
    "x_reduced = pca.fit_transform(scale(x_train))\n"
   ]
  },
  {
   "cell_type": "code",
   "execution_count": 77,
   "metadata": {},
   "outputs": [
    {
     "data": {
      "text/html": [
       "<div>\n",
       "<style scoped>\n",
       "    .dataframe tbody tr th:only-of-type {\n",
       "        vertical-align: middle;\n",
       "    }\n",
       "\n",
       "    .dataframe tbody tr th {\n",
       "        vertical-align: top;\n",
       "    }\n",
       "\n",
       "    .dataframe thead th {\n",
       "        text-align: right;\n",
       "    }\n",
       "</style>\n",
       "<table border=\"1\" class=\"dataframe\">\n",
       "  <thead>\n",
       "    <tr style=\"text-align: right;\">\n",
       "      <th></th>\n",
       "      <th>0</th>\n",
       "      <th>1</th>\n",
       "      <th>2</th>\n",
       "      <th>3</th>\n",
       "      <th>4</th>\n",
       "      <th>5</th>\n",
       "    </tr>\n",
       "  </thead>\n",
       "  <tbody>\n",
       "    <tr>\n",
       "      <th>0</th>\n",
       "      <td>-0.270902</td>\n",
       "      <td>-0.194997</td>\n",
       "      <td>-0.002249</td>\n",
       "      <td>-0.021970</td>\n",
       "      <td>0.000938</td>\n",
       "      <td>0.034461</td>\n",
       "    </tr>\n",
       "    <tr>\n",
       "      <th>1</th>\n",
       "      <td>0.173251</td>\n",
       "      <td>0.134481</td>\n",
       "      <td>-0.047238</td>\n",
       "      <td>0.101146</td>\n",
       "      <td>-0.023086</td>\n",
       "      <td>0.285606</td>\n",
       "    </tr>\n",
       "    <tr>\n",
       "      <th>2</th>\n",
       "      <td>0.008301</td>\n",
       "      <td>-0.097557</td>\n",
       "      <td>-0.349333</td>\n",
       "      <td>0.010191</td>\n",
       "      <td>-0.015625</td>\n",
       "      <td>-0.047923</td>\n",
       "    </tr>\n",
       "    <tr>\n",
       "      <th>3</th>\n",
       "      <td>0.061964</td>\n",
       "      <td>0.059343</td>\n",
       "      <td>0.069994</td>\n",
       "      <td>-0.026719</td>\n",
       "      <td>0.001765</td>\n",
       "      <td>-0.128893</td>\n",
       "    </tr>\n",
       "    <tr>\n",
       "      <th>4</th>\n",
       "      <td>-0.070860</td>\n",
       "      <td>0.013958</td>\n",
       "      <td>0.054563</td>\n",
       "      <td>0.002249</td>\n",
       "      <td>0.019730</td>\n",
       "      <td>0.034307</td>\n",
       "    </tr>\n",
       "  </tbody>\n",
       "</table>\n",
       "</div>"
      ],
      "text/plain": [
       "          0         1         2         3         4         5\n",
       "0 -0.270902 -0.194997 -0.002249 -0.021970  0.000938  0.034461\n",
       "1  0.173251  0.134481 -0.047238  0.101146 -0.023086  0.285606\n",
       "2  0.008301 -0.097557 -0.349333  0.010191 -0.015625 -0.047923\n",
       "3  0.061964  0.059343  0.069994 -0.026719  0.001765 -0.128893\n",
       "4 -0.070860  0.013958  0.054563  0.002249  0.019730  0.034307"
      ]
     },
     "execution_count": 77,
     "metadata": {},
     "output_type": "execute_result"
    }
   ],
   "source": [
    "pd.DataFrame(pca.components_.T).loc[:4,:5]"
   ]
  },
  {
   "cell_type": "code",
   "execution_count": 78,
   "metadata": {},
   "outputs": [],
   "source": [
    "# 10-fold CV, with shuffle\n",
    "#n = len(x_reduced)\n",
    "#kf_10 = model_selection.KFold( n_splits=10, shuffle=True, random_state=1)\n",
    "\n",
    "\n",
    "#pcamse = []\n",
    "\n",
    "# Calculate MSE with only the intercept (no principal components in regression)\n",
    "#pcascore = -1*model_selection.cross_val_score(regr, np.ones((n,1)), y.ravel(), cv=kf_10, scoring='neg_mean_squared_error').mean()    \n",
    "#mse.append(score)\n",
    "\n",
    "# Calculate MSE using CV for the 19 principle components, adding one component at the time.\n",
    "#for i in np.arange(1, 20):\n",
    " #   score = -1*model_selection.cross_val_score(regr, X_reduced[:,:i], y.ravel(), cv=kf_10, scoring='neg_mean_squared_error').mean()\n",
    "  #  mse.append(score)\n",
    "    \n",
    "# Plot results    \n",
    "#plt.plot(mse, '-v')\n",
    "#plt.xlabel('Number of principal components in regression')\n",
    "#plt.ylabel('MSE')\n",
    "#plt.title('Salary')\n",
    "#plt.xlim(xmin=-1);"
   ]
  },
  {
   "cell_type": "code",
   "execution_count": null,
   "metadata": {},
   "outputs": [],
   "source": []
  },
  {
   "cell_type": "code",
   "execution_count": null,
   "metadata": {},
   "outputs": [],
   "source": []
  },
  {
   "cell_type": "code",
   "execution_count": null,
   "metadata": {},
   "outputs": [],
   "source": []
  },
  {
   "cell_type": "code",
   "execution_count": null,
   "metadata": {},
   "outputs": [],
   "source": []
  },
  {
   "cell_type": "markdown",
   "metadata": {},
   "source": [
    "### Random Forest"
   ]
  },
  {
   "cell_type": "code",
   "execution_count": 79,
   "metadata": {},
   "outputs": [
    {
     "data": {
      "text/plain": [
       "RandomForestRegressor(max_features=50, n_estimators=1000, oob_score=True,\n",
       "                      random_state=2019)"
      ]
     },
     "execution_count": 79,
     "metadata": {},
     "output_type": "execute_result"
    }
   ],
   "source": [
    "from sklearn import tree, ensemble, model_selection, metrics\n",
    "\n",
    "rforest = ensemble.RandomForestRegressor(n_estimators = 1000, max_features = 50, oob_score = True, random_state = 2019)\n",
    "rforest.fit(x_train, y_train)\n"
   ]
  },
  {
   "cell_type": "code",
   "execution_count": 80,
   "metadata": {},
   "outputs": [
    {
     "data": {
      "text/plain": [
       "0.5817565273801386"
      ]
     },
     "execution_count": 80,
     "metadata": {},
     "output_type": "execute_result"
    }
   ],
   "source": [
    "rforest.score(x_test, y_test)"
   ]
  },
  {
   "cell_type": "code",
   "execution_count": 81,
   "metadata": {},
   "outputs": [
    {
     "data": {
      "text/plain": [
       "(6357, 132)"
      ]
     },
     "execution_count": 81,
     "metadata": {},
     "output_type": "execute_result"
    }
   ],
   "source": [
    "x_test.shape"
   ]
  },
  {
   "cell_type": "code",
   "execution_count": 82,
   "metadata": {},
   "outputs": [
    {
     "data": {
      "text/plain": [
       "<matplotlib.axes._subplots.AxesSubplot at 0x23991345a88>"
      ]
     },
     "execution_count": 82,
     "metadata": {},
     "output_type": "execute_result"
    },
    {
     "data": {
      "image/png": "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\n",
      "text/plain": [
       "<Figure size 432x288 with 1 Axes>"
      ]
     },
     "metadata": {
      "needs_background": "light"
     },
     "output_type": "display_data"
    }
   ],
   "source": [
    "sns.histplot(data = y_train)"
   ]
  },
  {
   "cell_type": "code",
   "execution_count": 83,
   "metadata": {},
   "outputs": [
    {
     "data": {
      "text/plain": [
       "['NUMADLT',\n",
       " 'YOUNGCHILD',\n",
       " 'WRKCOUNT',\n",
       " 'EDUC_1',\n",
       " 'EDUC_2',\n",
       " 'EDUC_3',\n",
       " 'EDUC_4',\n",
       " 'EDUC_5',\n",
       " 'R_RACE_1',\n",
       " 'R_RACE_2',\n",
       " 'R_RACE_3',\n",
       " 'R_RACE_4',\n",
       " 'R_RACE_5',\n",
       " 'R_RACE_6',\n",
       " 'R_RACE_97',\n",
       " 'R_SEX_1',\n",
       " 'R_SEX_2',\n",
       " 'WRK_HOME_1',\n",
       " 'WRK_HOME_2',\n",
       " 'WKFTPT_1',\n",
       " 'WKFTPT_2',\n",
       " 'OCCAT_1',\n",
       " 'OCCAT_2',\n",
       " 'OCCAT_3',\n",
       " 'OCCAT_4',\n",
       " 'OCCAT_97',\n",
       " 'DRIVER_1',\n",
       " 'DRIVER_2',\n",
       " 'TRAVDAY_1',\n",
       " 'TRAVDAY_2',\n",
       " 'TRAVDAY_3',\n",
       " 'TRAVDAY_4',\n",
       " 'TRAVDAY_5',\n",
       " 'TRAVDAY_6',\n",
       " 'TRAVDAY_7',\n",
       " 'dist_to_work_between_1_and_2',\n",
       " 'dist_to_work_more_than_11',\n",
       " 'dist_to_work_between_2_and_5',\n",
       " 'dist_to_work_between_5_and_11',\n",
       " 'dist_to_shopping_between_1_and_2',\n",
       " 'dist_to_shopping_more_than_11',\n",
       " 'dist_to_shopping_between_2_and_5',\n",
       " 'dist_to_shopping_between_5_and_11',\n",
       " 'dist_to_family_between_1_and_2',\n",
       " 'dist_to_family_greater_than_11',\n",
       " 'dist_to_family_between_2_and_5',\n",
       " 'dist_to_family_between_5_and_11',\n",
       " 'dist_to_school_or_church_between_1_and_2',\n",
       " 'dist_to_school_or_church_greater_than_11',\n",
       " 'dist_to_school_or_church_between_2_and_5',\n",
       " 'dist_to_school_or_church_between_5_and_11',\n",
       " 'dist_to_relatvies_between_1_and_2',\n",
       " 'dist_to_relatvies_greater_than_11',\n",
       " 'dist_to_relatvies_between_2_and_5',\n",
       " 'dist_to_relatvies_between_5_and_11',\n",
       " 'dist_to_social_between_1_and_2',\n",
       " 'dist_to_social_greater_than_11',\n",
       " 'dist_to_social_between_2_and_5',\n",
       " 'dist_to_social_between_5_and_11',\n",
       " 'HH_CBSA_15380',\n",
       " 'HH_CBSA_35620',\n",
       " 'HH_CBSA_40380',\n",
       " 'HH_CBSA_XXXXX',\n",
       " 'HOMEOWN_1',\n",
       " 'HOMEOWN_2',\n",
       " 'HOMEOWN_97',\n",
       " 'HHSIZE_1',\n",
       " 'HHSIZE_2',\n",
       " 'HHSIZE_3',\n",
       " 'HHSIZE_above_3',\n",
       " 'HHVEHCNT_1',\n",
       " 'HHVEHCNT_2',\n",
       " 'HHVEHCNT_3',\n",
       " 'HHVEHCNT_>3',\n",
       " 'HHFAMINC_1',\n",
       " 'HHFAMINC_10',\n",
       " 'HHFAMINC_11',\n",
       " 'HHFAMINC_2',\n",
       " 'HHFAMINC_3',\n",
       " 'HHFAMINC_4',\n",
       " 'HHFAMINC_5',\n",
       " 'HHFAMINC_6',\n",
       " 'HHFAMINC_7',\n",
       " 'HHFAMINC_8',\n",
       " 'HHFAMINC_9',\n",
       " 'MSACAT_1',\n",
       " 'MSACAT_2',\n",
       " 'MSACAT_3',\n",
       " 'MSACAT_4',\n",
       " 'MSASIZE_1',\n",
       " 'MSASIZE_2',\n",
       " 'MSASIZE_3',\n",
       " 'MSASIZE_4',\n",
       " 'MSASIZE_5',\n",
       " 'MSASIZE_6',\n",
       " 'URBAN_rural',\n",
       " 'URBAN_urban',\n",
       " 'URBANSIZE_1',\n",
       " 'URBANSIZE_2',\n",
       " 'URBANSIZE_3',\n",
       " 'URBANSIZE_5',\n",
       " 'URBANSIZE_6',\n",
       " 'URBRUR_1',\n",
       " 'URBRUR_2',\n",
       " 'LIF_CYC_1',\n",
       " 'LIF_CYC_10',\n",
       " 'LIF_CYC_2',\n",
       " 'LIF_CYC_3',\n",
       " 'LIF_CYC_4',\n",
       " 'LIF_CYC_5',\n",
       " 'LIF_CYC_6',\n",
       " 'LIF_CYC_7',\n",
       " 'LIF_CYC_8',\n",
       " 'LIF_CYC_9',\n",
       " 'AGE_bins_16_to_25',\n",
       " 'AGE_bins_26_to_35',\n",
       " 'AGE_bins_36_to_45',\n",
       " 'AGE_bins_46_to_55',\n",
       " 'AGE_bins_56_to_65',\n",
       " 'AGE_bins_5_to_15',\n",
       " 'AGE_bins_66_to_75',\n",
       " 'AGE_bins_more_than_75',\n",
       " 'NUMADLT_ratio_1',\n",
       " 'NUMADLT_ratio_less_than_0.5',\n",
       " 'NUMADLT_ratio_more_than_0.5',\n",
       " 'YOUNGCHILD_ratio_0',\n",
       " 'YOUNGCHILD_ratio_less_than_0.5',\n",
       " 'YOUNGCHILD_ratio_more_than_0.5',\n",
       " 'WRKCOUNT_ratio_0',\n",
       " 'WRKCOUNT_ratio_1',\n",
       " 'WRKCOUNT_ratio_less_than_0.5',\n",
       " 'WRKCOUNT_ratio_more_than_0.5']"
      ]
     },
     "execution_count": 83,
     "metadata": {},
     "output_type": "execute_result"
    }
   ],
   "source": [
    "[c for c in x_train]"
   ]
  },
  {
   "cell_type": "markdown",
   "metadata": {},
   "source": [
    "### Neural Network"
   ]
  },
  {
   "cell_type": "code",
   "execution_count": 84,
   "metadata": {},
   "outputs": [],
   "source": [
    "from sklearn.model_selection import GridSearchCV\n",
    "from keras.models import Sequential\n",
    "from keras.layers import Dense\n",
    "from keras.wrappers.scikit_learn import KerasRegressor\n",
    "import tensorflow as tf"
   ]
  },
  {
   "cell_type": "code",
   "execution_count": 85,
   "metadata": {},
   "outputs": [],
   "source": [
    "def train_model(model, dataset, epochs, batch_size, label_name):\n",
    "    \"\"\"Feed a dataset into the model in order to train it.\"\"\"\n",
    "\n",
    "    # Split the dataset into features and label.\n",
    "    features = {name:np.array(value) for name, value in dataset.items()}\n",
    "    label = np.array(features.pop(label_name))\n",
    "    history = model.fit(x=features, \n",
    "                        y=label, \n",
    "                        batch_size=batch_size,\n",
    "                        epochs=epochs, \n",
    "                        verbose=2,\n",
    "                        validation_split=0.2, \n",
    "                        shuffle=True, \n",
    "                        workers=4, \n",
    "                        use_multiprocessing=True)\n",
    "\n",
    "    # Get details that will be useful for plotting the loss curve.\n",
    "    mse_train = history.history['loss']\n",
    "    mse_val = history.history['val_loss']\n",
    "\n",
    "    return mse_train, mse_val"
   ]
  },
  {
   "cell_type": "code",
   "execution_count": 86,
   "metadata": {},
   "outputs": [],
   "source": [
    "def create_model_deep(name, my_learning_rate, my_feature_layer, layers):\n",
    "    model = tf.keras.models.Sequential(name = name)\n",
    "    \n",
    "    model.add(my_feature_layer)\n",
    "    \n",
    "    for index, layer in enumerate(layers):\n",
    "        print('index',index)\n",
    "        print('layer',layer)\n",
    "        model.add(tf.keras.layers.Dense(units = layer,\n",
    "                                       activation = 'relu',\n",
    "                                       name=f'Hidden{index}'))\n",
    "        \n",
    "    model.add(tf.keras.layers.Dense(units=1, name='Output'))                              \n",
    "\n",
    "    model.compile(optimizer=tf.keras.optimizers.Adam(lr=my_learning_rate),\n",
    "                loss=\"mean_squared_error\",\n",
    "                metrics=[tf.keras.metrics.MeanSquaredError()])\n",
    "    return model"
   ]
  },
  {
   "cell_type": "code",
   "execution_count": 87,
   "metadata": {},
   "outputs": [
    {
     "data": {
      "text/html": [
       "<div>\n",
       "<style scoped>\n",
       "    .dataframe tbody tr th:only-of-type {\n",
       "        vertical-align: middle;\n",
       "    }\n",
       "\n",
       "    .dataframe tbody tr th {\n",
       "        vertical-align: top;\n",
       "    }\n",
       "\n",
       "    .dataframe thead th {\n",
       "        text-align: right;\n",
       "    }\n",
       "</style>\n",
       "<table border=\"1\" class=\"dataframe\">\n",
       "  <thead>\n",
       "    <tr style=\"text-align: right;\">\n",
       "      <th></th>\n",
       "      <th>NUMADLT</th>\n",
       "      <th>YOUNGCHILD</th>\n",
       "      <th>WRKCOUNT</th>\n",
       "      <th>EDUC_1</th>\n",
       "      <th>EDUC_2</th>\n",
       "      <th>EDUC_3</th>\n",
       "      <th>EDUC_4</th>\n",
       "      <th>EDUC_5</th>\n",
       "      <th>R_RACE_1</th>\n",
       "      <th>R_RACE_2</th>\n",
       "      <th>...</th>\n",
       "      <th>NUMADLT_ratio_less_than_0.5</th>\n",
       "      <th>NUMADLT_ratio_more_than_0.5</th>\n",
       "      <th>YOUNGCHILD_ratio_0</th>\n",
       "      <th>YOUNGCHILD_ratio_less_than_0.5</th>\n",
       "      <th>YOUNGCHILD_ratio_more_than_0.5</th>\n",
       "      <th>WRKCOUNT_ratio_0</th>\n",
       "      <th>WRKCOUNT_ratio_1</th>\n",
       "      <th>WRKCOUNT_ratio_less_than_0.5</th>\n",
       "      <th>WRKCOUNT_ratio_more_than_0.5</th>\n",
       "      <th>n_trips</th>\n",
       "    </tr>\n",
       "  </thead>\n",
       "  <tbody>\n",
       "    <tr>\n",
       "      <th>19406</th>\n",
       "      <td>1.0</td>\n",
       "      <td>0.0</td>\n",
       "      <td>1.00</td>\n",
       "      <td>0</td>\n",
       "      <td>0</td>\n",
       "      <td>0</td>\n",
       "      <td>0</td>\n",
       "      <td>1</td>\n",
       "      <td>1</td>\n",
       "      <td>0</td>\n",
       "      <td>...</td>\n",
       "      <td>0</td>\n",
       "      <td>0</td>\n",
       "      <td>1</td>\n",
       "      <td>0</td>\n",
       "      <td>0</td>\n",
       "      <td>0</td>\n",
       "      <td>1</td>\n",
       "      <td>0</td>\n",
       "      <td>0</td>\n",
       "      <td>2.0</td>\n",
       "    </tr>\n",
       "    <tr>\n",
       "      <th>19181</th>\n",
       "      <td>1.0</td>\n",
       "      <td>0.0</td>\n",
       "      <td>1.00</td>\n",
       "      <td>0</td>\n",
       "      <td>0</td>\n",
       "      <td>1</td>\n",
       "      <td>0</td>\n",
       "      <td>0</td>\n",
       "      <td>1</td>\n",
       "      <td>0</td>\n",
       "      <td>...</td>\n",
       "      <td>0</td>\n",
       "      <td>0</td>\n",
       "      <td>1</td>\n",
       "      <td>0</td>\n",
       "      <td>0</td>\n",
       "      <td>0</td>\n",
       "      <td>1</td>\n",
       "      <td>0</td>\n",
       "      <td>0</td>\n",
       "      <td>5.0</td>\n",
       "    </tr>\n",
       "    <tr>\n",
       "      <th>15046</th>\n",
       "      <td>0.5</td>\n",
       "      <td>0.0</td>\n",
       "      <td>0.25</td>\n",
       "      <td>0</td>\n",
       "      <td>0</td>\n",
       "      <td>0</td>\n",
       "      <td>0</td>\n",
       "      <td>0</td>\n",
       "      <td>1</td>\n",
       "      <td>0</td>\n",
       "      <td>...</td>\n",
       "      <td>0</td>\n",
       "      <td>1</td>\n",
       "      <td>1</td>\n",
       "      <td>0</td>\n",
       "      <td>0</td>\n",
       "      <td>0</td>\n",
       "      <td>0</td>\n",
       "      <td>1</td>\n",
       "      <td>0</td>\n",
       "      <td>3.0</td>\n",
       "    </tr>\n",
       "    <tr>\n",
       "      <th>229</th>\n",
       "      <td>1.0</td>\n",
       "      <td>0.0</td>\n",
       "      <td>0.00</td>\n",
       "      <td>0</td>\n",
       "      <td>0</td>\n",
       "      <td>0</td>\n",
       "      <td>0</td>\n",
       "      <td>1</td>\n",
       "      <td>1</td>\n",
       "      <td>0</td>\n",
       "      <td>...</td>\n",
       "      <td>0</td>\n",
       "      <td>0</td>\n",
       "      <td>1</td>\n",
       "      <td>0</td>\n",
       "      <td>0</td>\n",
       "      <td>1</td>\n",
       "      <td>0</td>\n",
       "      <td>0</td>\n",
       "      <td>0</td>\n",
       "      <td>3.0</td>\n",
       "    </tr>\n",
       "    <tr>\n",
       "      <th>11509</th>\n",
       "      <td>1.0</td>\n",
       "      <td>0.0</td>\n",
       "      <td>0.00</td>\n",
       "      <td>0</td>\n",
       "      <td>0</td>\n",
       "      <td>1</td>\n",
       "      <td>0</td>\n",
       "      <td>0</td>\n",
       "      <td>1</td>\n",
       "      <td>0</td>\n",
       "      <td>...</td>\n",
       "      <td>0</td>\n",
       "      <td>0</td>\n",
       "      <td>1</td>\n",
       "      <td>0</td>\n",
       "      <td>0</td>\n",
       "      <td>1</td>\n",
       "      <td>0</td>\n",
       "      <td>0</td>\n",
       "      <td>0</td>\n",
       "      <td>6.0</td>\n",
       "    </tr>\n",
       "    <tr>\n",
       "      <th>...</th>\n",
       "      <td>...</td>\n",
       "      <td>...</td>\n",
       "      <td>...</td>\n",
       "      <td>...</td>\n",
       "      <td>...</td>\n",
       "      <td>...</td>\n",
       "      <td>...</td>\n",
       "      <td>...</td>\n",
       "      <td>...</td>\n",
       "      <td>...</td>\n",
       "      <td>...</td>\n",
       "      <td>...</td>\n",
       "      <td>...</td>\n",
       "      <td>...</td>\n",
       "      <td>...</td>\n",
       "      <td>...</td>\n",
       "      <td>...</td>\n",
       "      <td>...</td>\n",
       "      <td>...</td>\n",
       "      <td>...</td>\n",
       "      <td>...</td>\n",
       "    </tr>\n",
       "    <tr>\n",
       "      <th>5378</th>\n",
       "      <td>1.0</td>\n",
       "      <td>0.0</td>\n",
       "      <td>1.00</td>\n",
       "      <td>0</td>\n",
       "      <td>1</td>\n",
       "      <td>0</td>\n",
       "      <td>0</td>\n",
       "      <td>0</td>\n",
       "      <td>1</td>\n",
       "      <td>0</td>\n",
       "      <td>...</td>\n",
       "      <td>0</td>\n",
       "      <td>0</td>\n",
       "      <td>1</td>\n",
       "      <td>0</td>\n",
       "      <td>0</td>\n",
       "      <td>0</td>\n",
       "      <td>1</td>\n",
       "      <td>0</td>\n",
       "      <td>0</td>\n",
       "      <td>7.0</td>\n",
       "    </tr>\n",
       "    <tr>\n",
       "      <th>26272</th>\n",
       "      <td>1.0</td>\n",
       "      <td>0.0</td>\n",
       "      <td>0.50</td>\n",
       "      <td>0</td>\n",
       "      <td>0</td>\n",
       "      <td>0</td>\n",
       "      <td>1</td>\n",
       "      <td>0</td>\n",
       "      <td>1</td>\n",
       "      <td>0</td>\n",
       "      <td>...</td>\n",
       "      <td>0</td>\n",
       "      <td>0</td>\n",
       "      <td>1</td>\n",
       "      <td>0</td>\n",
       "      <td>0</td>\n",
       "      <td>0</td>\n",
       "      <td>0</td>\n",
       "      <td>0</td>\n",
       "      <td>1</td>\n",
       "      <td>6.0</td>\n",
       "    </tr>\n",
       "    <tr>\n",
       "      <th>15091</th>\n",
       "      <td>1.0</td>\n",
       "      <td>0.0</td>\n",
       "      <td>1.00</td>\n",
       "      <td>0</td>\n",
       "      <td>0</td>\n",
       "      <td>0</td>\n",
       "      <td>0</td>\n",
       "      <td>1</td>\n",
       "      <td>1</td>\n",
       "      <td>0</td>\n",
       "      <td>...</td>\n",
       "      <td>0</td>\n",
       "      <td>0</td>\n",
       "      <td>1</td>\n",
       "      <td>0</td>\n",
       "      <td>0</td>\n",
       "      <td>0</td>\n",
       "      <td>1</td>\n",
       "      <td>0</td>\n",
       "      <td>0</td>\n",
       "      <td>6.0</td>\n",
       "    </tr>\n",
       "    <tr>\n",
       "      <th>1984</th>\n",
       "      <td>1.0</td>\n",
       "      <td>0.0</td>\n",
       "      <td>1.00</td>\n",
       "      <td>0</td>\n",
       "      <td>0</td>\n",
       "      <td>0</td>\n",
       "      <td>0</td>\n",
       "      <td>1</td>\n",
       "      <td>0</td>\n",
       "      <td>0</td>\n",
       "      <td>...</td>\n",
       "      <td>0</td>\n",
       "      <td>0</td>\n",
       "      <td>1</td>\n",
       "      <td>0</td>\n",
       "      <td>0</td>\n",
       "      <td>0</td>\n",
       "      <td>1</td>\n",
       "      <td>0</td>\n",
       "      <td>0</td>\n",
       "      <td>4.0</td>\n",
       "    </tr>\n",
       "    <tr>\n",
       "      <th>10938</th>\n",
       "      <td>1.0</td>\n",
       "      <td>0.0</td>\n",
       "      <td>0.00</td>\n",
       "      <td>0</td>\n",
       "      <td>1</td>\n",
       "      <td>0</td>\n",
       "      <td>0</td>\n",
       "      <td>0</td>\n",
       "      <td>1</td>\n",
       "      <td>0</td>\n",
       "      <td>...</td>\n",
       "      <td>0</td>\n",
       "      <td>0</td>\n",
       "      <td>1</td>\n",
       "      <td>0</td>\n",
       "      <td>0</td>\n",
       "      <td>1</td>\n",
       "      <td>0</td>\n",
       "      <td>0</td>\n",
       "      <td>0</td>\n",
       "      <td>0.0</td>\n",
       "    </tr>\n",
       "  </tbody>\n",
       "</table>\n",
       "<p>25425 rows × 133 columns</p>\n",
       "</div>"
      ],
      "text/plain": [
       "       NUMADLT  YOUNGCHILD  WRKCOUNT  EDUC_1  EDUC_2  EDUC_3  EDUC_4  EDUC_5  \\\n",
       "19406      1.0         0.0      1.00       0       0       0       0       1   \n",
       "19181      1.0         0.0      1.00       0       0       1       0       0   \n",
       "15046      0.5         0.0      0.25       0       0       0       0       0   \n",
       "229        1.0         0.0      0.00       0       0       0       0       1   \n",
       "11509      1.0         0.0      0.00       0       0       1       0       0   \n",
       "...        ...         ...       ...     ...     ...     ...     ...     ...   \n",
       "5378       1.0         0.0      1.00       0       1       0       0       0   \n",
       "26272      1.0         0.0      0.50       0       0       0       1       0   \n",
       "15091      1.0         0.0      1.00       0       0       0       0       1   \n",
       "1984       1.0         0.0      1.00       0       0       0       0       1   \n",
       "10938      1.0         0.0      0.00       0       1       0       0       0   \n",
       "\n",
       "       R_RACE_1  R_RACE_2  ...  NUMADLT_ratio_less_than_0.5  \\\n",
       "19406         1         0  ...                            0   \n",
       "19181         1         0  ...                            0   \n",
       "15046         1         0  ...                            0   \n",
       "229           1         0  ...                            0   \n",
       "11509         1         0  ...                            0   \n",
       "...         ...       ...  ...                          ...   \n",
       "5378          1         0  ...                            0   \n",
       "26272         1         0  ...                            0   \n",
       "15091         1         0  ...                            0   \n",
       "1984          0         0  ...                            0   \n",
       "10938         1         0  ...                            0   \n",
       "\n",
       "       NUMADLT_ratio_more_than_0.5  YOUNGCHILD_ratio_0  \\\n",
       "19406                            0                   1   \n",
       "19181                            0                   1   \n",
       "15046                            1                   1   \n",
       "229                              0                   1   \n",
       "11509                            0                   1   \n",
       "...                            ...                 ...   \n",
       "5378                             0                   1   \n",
       "26272                            0                   1   \n",
       "15091                            0                   1   \n",
       "1984                             0                   1   \n",
       "10938                            0                   1   \n",
       "\n",
       "       YOUNGCHILD_ratio_less_than_0.5  YOUNGCHILD_ratio_more_than_0.5  \\\n",
       "19406                               0                               0   \n",
       "19181                               0                               0   \n",
       "15046                               0                               0   \n",
       "229                                 0                               0   \n",
       "11509                               0                               0   \n",
       "...                               ...                             ...   \n",
       "5378                                0                               0   \n",
       "26272                               0                               0   \n",
       "15091                               0                               0   \n",
       "1984                                0                               0   \n",
       "10938                               0                               0   \n",
       "\n",
       "       WRKCOUNT_ratio_0  WRKCOUNT_ratio_1  WRKCOUNT_ratio_less_than_0.5  \\\n",
       "19406                 0                 1                             0   \n",
       "19181                 0                 1                             0   \n",
       "15046                 0                 0                             1   \n",
       "229                   1                 0                             0   \n",
       "11509                 1                 0                             0   \n",
       "...                 ...               ...                           ...   \n",
       "5378                  0                 1                             0   \n",
       "26272                 0                 0                             0   \n",
       "15091                 0                 1                             0   \n",
       "1984                  0                 1                             0   \n",
       "10938                 1                 0                             0   \n",
       "\n",
       "       WRKCOUNT_ratio_more_than_0.5  n_trips  \n",
       "19406                             0      2.0  \n",
       "19181                             0      5.0  \n",
       "15046                             0      3.0  \n",
       "229                               0      3.0  \n",
       "11509                             0      6.0  \n",
       "...                             ...      ...  \n",
       "5378                              0      7.0  \n",
       "26272                             1      6.0  \n",
       "15091                             0      6.0  \n",
       "1984                              0      4.0  \n",
       "10938                             0      0.0  \n",
       "\n",
       "[25425 rows x 133 columns]"
      ]
     },
     "execution_count": 87,
     "metadata": {},
     "output_type": "execute_result"
    }
   ],
=======
   "execution_count": null,
   "metadata": {},
   "outputs": [],
>>>>>>> 887b8b7d227b61825d01de448c637445f09f3deb
   "source": [
    "train_df = pd.concat([x_train, y_train],axis = 1)\n",
    "\n",
    "test_df = pd.concat([x_test,y_test],axis =1)\n"
   ]
  },
  {
   "cell_type": "code",
<<<<<<< HEAD
   "execution_count": 88,
=======
   "execution_count": null,
>>>>>>> 887b8b7d227b61825d01de448c637445f09f3deb
   "metadata": {},
   "outputs": [],
   "source": [
    "one_hot_labs = [c for c in train_df if train_df[c].dtype == 'uint8']\n",
    "num_labs = ['NUMADLT','YOUNGCHILD','WRKCOUNT']"
   ]
  },
  {
   "cell_type": "code",
<<<<<<< HEAD
   "execution_count": 89,
   "metadata": {},
   "outputs": [
    {
     "data": {
      "text/plain": [
       "['EDUC_1',\n",
       " 'EDUC_2',\n",
       " 'EDUC_3',\n",
       " 'EDUC_4',\n",
       " 'EDUC_5',\n",
       " 'R_RACE_1',\n",
       " 'R_RACE_2',\n",
       " 'R_RACE_3',\n",
       " 'R_RACE_4',\n",
       " 'R_RACE_5',\n",
       " 'R_RACE_6',\n",
       " 'R_RACE_97',\n",
       " 'R_SEX_1',\n",
       " 'R_SEX_2',\n",
       " 'WRK_HOME_1',\n",
       " 'WRK_HOME_2',\n",
       " 'WKFTPT_1',\n",
       " 'WKFTPT_2',\n",
       " 'OCCAT_1',\n",
       " 'OCCAT_2',\n",
       " 'OCCAT_3',\n",
       " 'OCCAT_4',\n",
       " 'OCCAT_97',\n",
       " 'DRIVER_1',\n",
       " 'DRIVER_2',\n",
       " 'TRAVDAY_1',\n",
       " 'TRAVDAY_2',\n",
       " 'TRAVDAY_3',\n",
       " 'TRAVDAY_4',\n",
       " 'TRAVDAY_5',\n",
       " 'TRAVDAY_6',\n",
       " 'TRAVDAY_7',\n",
       " 'dist_to_work_between_1_and_2',\n",
       " 'dist_to_work_more_than_11',\n",
       " 'dist_to_work_between_2_and_5',\n",
       " 'dist_to_work_between_5_and_11',\n",
       " 'dist_to_shopping_between_1_and_2',\n",
       " 'dist_to_shopping_more_than_11',\n",
       " 'dist_to_shopping_between_2_and_5',\n",
       " 'dist_to_shopping_between_5_and_11',\n",
       " 'dist_to_family_between_1_and_2',\n",
       " 'dist_to_family_greater_than_11',\n",
       " 'dist_to_family_between_2_and_5',\n",
       " 'dist_to_family_between_5_and_11',\n",
       " 'dist_to_school_or_church_between_1_and_2',\n",
       " 'dist_to_school_or_church_greater_than_11',\n",
       " 'dist_to_school_or_church_between_2_and_5',\n",
       " 'dist_to_school_or_church_between_5_and_11',\n",
       " 'dist_to_relatvies_between_1_and_2',\n",
       " 'dist_to_relatvies_greater_than_11',\n",
       " 'dist_to_relatvies_between_2_and_5',\n",
       " 'dist_to_relatvies_between_5_and_11',\n",
       " 'dist_to_social_between_1_and_2',\n",
       " 'dist_to_social_greater_than_11',\n",
       " 'dist_to_social_between_2_and_5',\n",
       " 'dist_to_social_between_5_and_11',\n",
       " 'HH_CBSA_15380',\n",
       " 'HH_CBSA_35620',\n",
       " 'HH_CBSA_40380',\n",
       " 'HH_CBSA_XXXXX',\n",
       " 'HOMEOWN_1',\n",
       " 'HOMEOWN_2',\n",
       " 'HOMEOWN_97',\n",
       " 'HHSIZE_1',\n",
       " 'HHSIZE_2',\n",
       " 'HHSIZE_3',\n",
       " 'HHSIZE_above_3',\n",
       " 'HHVEHCNT_1',\n",
       " 'HHVEHCNT_2',\n",
       " 'HHVEHCNT_3',\n",
       " 'HHVEHCNT_>3',\n",
       " 'HHFAMINC_1',\n",
       " 'HHFAMINC_10',\n",
       " 'HHFAMINC_11',\n",
       " 'HHFAMINC_2',\n",
       " 'HHFAMINC_3',\n",
       " 'HHFAMINC_4',\n",
       " 'HHFAMINC_5',\n",
       " 'HHFAMINC_6',\n",
       " 'HHFAMINC_7',\n",
       " 'HHFAMINC_8',\n",
       " 'HHFAMINC_9',\n",
       " 'MSACAT_1',\n",
       " 'MSACAT_2',\n",
       " 'MSACAT_3',\n",
       " 'MSACAT_4',\n",
       " 'MSASIZE_1',\n",
       " 'MSASIZE_2',\n",
       " 'MSASIZE_3',\n",
       " 'MSASIZE_4',\n",
       " 'MSASIZE_5',\n",
       " 'MSASIZE_6',\n",
       " 'URBAN_rural',\n",
       " 'URBAN_urban',\n",
       " 'URBANSIZE_1',\n",
       " 'URBANSIZE_2',\n",
       " 'URBANSIZE_3',\n",
       " 'URBANSIZE_5',\n",
       " 'URBANSIZE_6',\n",
       " 'URBRUR_1',\n",
       " 'URBRUR_2',\n",
       " 'LIF_CYC_1',\n",
       " 'LIF_CYC_10',\n",
       " 'LIF_CYC_2',\n",
       " 'LIF_CYC_3',\n",
       " 'LIF_CYC_4',\n",
       " 'LIF_CYC_5',\n",
       " 'LIF_CYC_6',\n",
       " 'LIF_CYC_7',\n",
       " 'LIF_CYC_8',\n",
       " 'LIF_CYC_9',\n",
       " 'AGE_bins_16_to_25',\n",
       " 'AGE_bins_26_to_35',\n",
       " 'AGE_bins_36_to_45',\n",
       " 'AGE_bins_46_to_55',\n",
       " 'AGE_bins_56_to_65',\n",
       " 'AGE_bins_5_to_15',\n",
       " 'AGE_bins_66_to_75',\n",
       " 'AGE_bins_more_than_75',\n",
       " 'NUMADLT_ratio_1',\n",
       " 'NUMADLT_ratio_less_than_0.5',\n",
       " 'NUMADLT_ratio_more_than_0.5',\n",
       " 'YOUNGCHILD_ratio_0',\n",
       " 'YOUNGCHILD_ratio_less_than_0.5',\n",
       " 'YOUNGCHILD_ratio_more_than_0.5',\n",
       " 'WRKCOUNT_ratio_0',\n",
       " 'WRKCOUNT_ratio_1',\n",
       " 'WRKCOUNT_ratio_less_than_0.5',\n",
       " 'WRKCOUNT_ratio_more_than_0.5']"
      ]
     },
     "execution_count": 89,
     "metadata": {},
     "output_type": "execute_result"
    }
   ],
=======
   "execution_count": null,
   "metadata": {},
   "outputs": [],
>>>>>>> 887b8b7d227b61825d01de448c637445f09f3deb
   "source": [
    "one_hot_labs"
   ]
  },
  {
   "cell_type": "code",
   "execution_count": 90,
   "metadata": {},
   "outputs": [],
   "source": [
    "for i in one_hot_labs:\n",
    "    train_df[i] = train_df[i]\n"
   ]
  },
  {
   "cell_type": "code",
   "execution_count": 91,
   "metadata": {},
   "outputs": [],
   "source": [
    "feature_columns = []\n",
    "\n",
    "for i in num_labs: \n",
    "    i = tf.feature_column.numeric_column(i)\n",
    "    feature_columns.append(i)\n",
    "\n",
    "for k in one_hot_labs:\n",
    "    k = tf.feature_column.numeric_column(k)\n",
    "    feature_columns.append(k)\n",
    "    \n",
    "my_feature_layer = tf.keras.layers.DenseFeatures(feature_columns)"
   ]
  },
  {
   "cell_type": "code",
   "execution_count": 92,
   "metadata": {},
   "outputs": [
    {
     "name": "stdout",
     "output_type": "stream",
     "text": [
      "index 0\n",
      "layer 128\n",
      "index 1\n",
      "layer 64\n",
      "index 2\n",
      "layer 32\n",
      "index 3\n",
      "layer 16\n",
      "Epoch 1/1000\n",
      "WARNING:tensorflow:Layers in a Sequential model should only have a single input tensor, but we receive a <class 'dict'> input: {'NUMADLT': <tf.Tensor 'ExpandDims_61:0' shape=(None, 1) dtype=float32>, 'YOUNGCHILD': <tf.Tensor 'ExpandDims_104:0' shape=(None, 1) dtype=float32>, 'WRKCOUNT': <tf.Tensor 'ExpandDims_97:0' shape=(None, 1) dtype=float32>, 'EDUC_1': <tf.Tensor 'ExpandDims_10:0' shape=(None, 1) dtype=uint8>, 'EDUC_2': <tf.Tensor 'ExpandDims_11:0' shape=(None, 1) dtype=uint8>, 'EDUC_3': <tf.Tensor 'ExpandDims_12:0' shape=(None, 1) dtype=uint8>, 'EDUC_4': <tf.Tensor 'ExpandDims_13:0' shape=(None, 1) dtype=uint8>, 'EDUC_5': <tf.Tensor 'ExpandDims_14:0' shape=(None, 1) dtype=uint8>, 'R_RACE_1': <tf.Tensor 'ExpandDims_70:0' shape=(None, 1) dtype=uint8>, 'R_RACE_2': <tf.Tensor 'ExpandDims_71:0' shape=(None, 1) dtype=uint8>, 'R_RACE_3': <tf.Tensor 'ExpandDims_72:0' shape=(None, 1) dtype=uint8>, 'R_RACE_4': <tf.Tensor 'ExpandDims_73:0' shape=(None, 1) dtype=uint8>, 'R_RACE_5': <tf.Tensor 'ExpandDims_74:0' shape=(None, 1) dtype=uint8>, 'R_RACE_6': <tf.Tensor 'ExpandDims_75:0' shape=(None, 1) dtype=uint8>, 'R_RACE_97': <tf.Tensor 'ExpandDims_76:0' shape=(None, 1) dtype=uint8>, 'R_SEX_1': <tf.Tensor 'ExpandDims_77:0' shape=(None, 1) dtype=uint8>, 'R_SEX_2': <tf.Tensor 'ExpandDims_78:0' shape=(None, 1) dtype=uint8>, 'WRK_HOME_1': <tf.Tensor 'ExpandDims_102:0' shape=(None, 1) dtype=uint8>, 'WRK_HOME_2': <tf.Tensor 'ExpandDims_103:0' shape=(None, 1) dtype=uint8>, 'WKFTPT_1': <tf.Tensor 'ExpandDims_95:0' shape=(None, 1) dtype=uint8>, 'WKFTPT_2': <tf.Tensor 'ExpandDims_96:0' shape=(None, 1) dtype=uint8>, 'OCCAT_1': <tf.Tensor 'ExpandDims_65:0' shape=(None, 1) dtype=uint8>, 'OCCAT_2': <tf.Tensor 'ExpandDims_66:0' shape=(None, 1) dtype=uint8>, 'OCCAT_3': <tf.Tensor 'ExpandDims_67:0' shape=(None, 1) dtype=uint8>, 'OCCAT_4': <tf.Tensor 'ExpandDims_68:0' shape=(None, 1) dtype=uint8>, 'OCCAT_97': <tf.Tensor 'ExpandDims_69:0' shape=(None, 1) dtype=uint8>, 'DRIVER_1': <tf.Tensor 'ExpandDims_8:0' shape=(None, 1) dtype=uint8>, 'DRIVER_2': <tf.Tensor 'ExpandDims_9:0' shape=(None, 1) dtype=uint8>, 'TRAVDAY_1': <tf.Tensor 'ExpandDims_79:0' shape=(None, 1) dtype=uint8>, 'TRAVDAY_2': <tf.Tensor 'ExpandDims_80:0' shape=(None, 1) dtype=uint8>, 'TRAVDAY_3': <tf.Tensor 'ExpandDims_81:0' shape=(None, 1) dtype=uint8>, 'TRAVDAY_4': <tf.Tensor 'ExpandDims_82:0' shape=(None, 1) dtype=uint8>, 'TRAVDAY_5': <tf.Tensor 'ExpandDims_83:0' shape=(None, 1) dtype=uint8>, 'TRAVDAY_6': <tf.Tensor 'ExpandDims_84:0' shape=(None, 1) dtype=uint8>, 'TRAVDAY_7': <tf.Tensor 'ExpandDims_85:0' shape=(None, 1) dtype=uint8>, 'dist_to_work_between_1_and_2': <tf.Tensor 'ExpandDims_128:0' shape=(None, 1) dtype=uint8>, 'dist_to_work_more_than_11': <tf.Tensor 'ExpandDims_131:0' shape=(None, 1) dtype=uint8>, 'dist_to_work_between_2_and_5': <tf.Tensor 'ExpandDims_129:0' shape=(None, 1) dtype=uint8>, 'dist_to_work_between_5_and_11': <tf.Tensor 'ExpandDims_130:0' shape=(None, 1) dtype=uint8>, 'dist_to_shopping_between_1_and_2': <tf.Tensor 'ExpandDims_120:0' shape=(None, 1) dtype=uint8>, 'dist_to_shopping_more_than_11': <tf.Tensor 'ExpandDims_123:0' shape=(None, 1) dtype=uint8>, 'dist_to_shopping_between_2_and_5': <tf.Tensor 'ExpandDims_121:0' shape=(None, 1) dtype=uint8>, 'dist_to_shopping_between_5_and_11': <tf.Tensor 'ExpandDims_122:0' shape=(None, 1) dtype=uint8>, 'dist_to_family_between_1_and_2': <tf.Tensor 'ExpandDims_108:0' shape=(None, 1) dtype=uint8>, 'dist_to_family_greater_than_11': <tf.Tensor 'ExpandDims_111:0' shape=(None, 1) dtype=uint8>, 'dist_to_family_between_2_and_5': <tf.Tensor 'ExpandDims_109:0' shape=(None, 1) dtype=uint8>, 'dist_to_family_between_5_and_11': <tf.Tensor 'ExpandDims_110:0' shape=(None, 1) dtype=uint8>, 'dist_to_school_or_church_between_1_and_2': <tf.Tensor 'ExpandDims_116:0' shape=(None, 1) dtype=uint8>, 'dist_to_school_or_church_greater_than_11': <tf.Tensor 'ExpandDims_119:0' shape=(None, 1) dtype=uint8>, 'dist_to_school_or_church_between_2_and_5': <tf.Tensor 'ExpandDims_117:0' shape=(None, 1) dtype=uint8>, 'dist_to_school_or_church_between_5_and_11': <tf.Tensor 'ExpandDims_118:0' shape=(None, 1) dtype=uint8>, 'dist_to_relatvies_between_1_and_2': <tf.Tensor 'ExpandDims_112:0' shape=(None, 1) dtype=uint8>, 'dist_to_relatvies_greater_than_11': <tf.Tensor 'ExpandDims_115:0' shape=(None, 1) dtype=uint8>, 'dist_to_relatvies_between_2_and_5': <tf.Tensor 'ExpandDims_113:0' shape=(None, 1) dtype=uint8>, 'dist_to_relatvies_between_5_and_11': <tf.Tensor 'ExpandDims_114:0' shape=(None, 1) dtype=uint8>, 'dist_to_social_between_1_and_2': <tf.Tensor 'ExpandDims_124:0' shape=(None, 1) dtype=uint8>, 'dist_to_social_greater_than_11': <tf.Tensor 'ExpandDims_127:0' shape=(None, 1) dtype=uint8>, 'dist_to_social_between_2_and_5': <tf.Tensor 'ExpandDims_125:0' shape=(None, 1) dtype=uint8>, 'dist_to_social_between_5_and_11': <tf.Tensor 'ExpandDims_126:0' shape=(None, 1) dtype=uint8>, 'HH_CBSA_15380': <tf.Tensor 'ExpandDims_34:0' shape=(None, 1) dtype=uint8>, 'HH_CBSA_35620': <tf.Tensor 'ExpandDims_35:0' shape=(None, 1) dtype=uint8>, 'HH_CBSA_40380': <tf.Tensor 'ExpandDims_36:0' shape=(None, 1) dtype=uint8>, 'HH_CBSA_XXXXX': <tf.Tensor 'ExpandDims_37:0' shape=(None, 1) dtype=uint8>, 'HOMEOWN_1': <tf.Tensor 'ExpandDims_38:0' shape=(None, 1) dtype=uint8>, 'HOMEOWN_2': <tf.Tensor 'ExpandDims_39:0' shape=(None, 1) dtype=uint8>, 'HOMEOWN_97': <tf.Tensor 'ExpandDims_40:0' shape=(None, 1) dtype=uint8>, 'HHSIZE_1': <tf.Tensor 'ExpandDims_26:0' shape=(None, 1) dtype=uint8>, 'HHSIZE_2': <tf.Tensor 'ExpandDims_27:0' shape=(None, 1) dtype=uint8>, 'HHSIZE_3': <tf.Tensor 'ExpandDims_28:0' shape=(None, 1) dtype=uint8>, 'HHSIZE_above_3': <tf.Tensor 'ExpandDims_29:0' shape=(None, 1) dtype=uint8>, 'HHVEHCNT_1': <tf.Tensor 'ExpandDims_30:0' shape=(None, 1) dtype=uint8>, 'HHVEHCNT_2': <tf.Tensor 'ExpandDims_31:0' shape=(None, 1) dtype=uint8>, 'HHVEHCNT_3': <tf.Tensor 'ExpandDims_32:0' shape=(None, 1) dtype=uint8>, 'HHVEHCNT_>3': <tf.Tensor 'ExpandDims_33:0' shape=(None, 1) dtype=uint8>, 'HHFAMINC_1': <tf.Tensor 'ExpandDims_15:0' shape=(None, 1) dtype=uint8>, 'HHFAMINC_10': <tf.Tensor 'ExpandDims_16:0' shape=(None, 1) dtype=uint8>, 'HHFAMINC_11': <tf.Tensor 'ExpandDims_17:0' shape=(None, 1) dtype=uint8>, 'HHFAMINC_2': <tf.Tensor 'ExpandDims_18:0' shape=(None, 1) dtype=uint8>, 'HHFAMINC_3': <tf.Tensor 'ExpandDims_19:0' shape=(None, 1) dtype=uint8>, 'HHFAMINC_4': <tf.Tensor 'ExpandDims_20:0' shape=(None, 1) dtype=uint8>, 'HHFAMINC_5': <tf.Tensor 'ExpandDims_21:0' shape=(None, 1) dtype=uint8>, 'HHFAMINC_6': <tf.Tensor 'ExpandDims_22:0' shape=(None, 1) dtype=uint8>, 'HHFAMINC_7': <tf.Tensor 'ExpandDims_23:0' shape=(None, 1) dtype=uint8>, 'HHFAMINC_8': <tf.Tensor 'ExpandDims_24:0' shape=(None, 1) dtype=uint8>, 'HHFAMINC_9': <tf.Tensor 'ExpandDims_25:0' shape=(None, 1) dtype=uint8>, 'MSACAT_1': <tf.Tensor 'ExpandDims_51:0' shape=(None, 1) dtype=uint8>, 'MSACAT_2': <tf.Tensor 'ExpandDims_52:0' shape=(None, 1) dtype=uint8>, 'MSACAT_3': <tf.Tensor 'ExpandDims_53:0' shape=(None, 1) dtype=uint8>, 'MSACAT_4': <tf.Tensor 'ExpandDims_54:0' shape=(None, 1) dtype=uint8>, 'MSASIZE_1': <tf.Tensor 'ExpandDims_55:0' shape=(None, 1) dtype=uint8>, 'MSASIZE_2': <tf.Tensor 'ExpandDims_56:0' shape=(None, 1) dtype=uint8>, 'MSASIZE_3': <tf.Tensor 'ExpandDims_57:0' shape=(None, 1) dtype=uint8>, 'MSASIZE_4': <tf.Tensor 'ExpandDims_58:0' shape=(None, 1) dtype=uint8>, 'MSASIZE_5': <tf.Tensor 'ExpandDims_59:0' shape=(None, 1) dtype=uint8>, 'MSASIZE_6': <tf.Tensor 'ExpandDims_60:0' shape=(None, 1) dtype=uint8>, 'URBAN_rural': <tf.Tensor 'ExpandDims_91:0' shape=(None, 1) dtype=uint8>, 'URBAN_urban': <tf.Tensor 'ExpandDims_92:0' shape=(None, 1) dtype=uint8>, 'URBANSIZE_1': <tf.Tensor 'ExpandDims_86:0' shape=(None, 1) dtype=uint8>, 'URBANSIZE_2': <tf.Tensor 'ExpandDims_87:0' shape=(None, 1) dtype=uint8>, 'URBANSIZE_3': <tf.Tensor 'ExpandDims_88:0' shape=(None, 1) dtype=uint8>, 'URBANSIZE_5': <tf.Tensor 'ExpandDims_89:0' shape=(None, 1) dtype=uint8>, 'URBANSIZE_6': <tf.Tensor 'ExpandDims_90:0' shape=(None, 1) dtype=uint8>, 'URBRUR_1': <tf.Tensor 'ExpandDims_93:0' shape=(None, 1) dtype=uint8>, 'URBRUR_2': <tf.Tensor 'ExpandDims_94:0' shape=(None, 1) dtype=uint8>, 'LIF_CYC_1': <tf.Tensor 'ExpandDims_41:0' shape=(None, 1) dtype=uint8>, 'LIF_CYC_10': <tf.Tensor 'ExpandDims_42:0' shape=(None, 1) dtype=uint8>, 'LIF_CYC_2': <tf.Tensor 'ExpandDims_43:0' shape=(None, 1) dtype=uint8>, 'LIF_CYC_3': <tf.Tensor 'ExpandDims_44:0' shape=(None, 1) dtype=uint8>, 'LIF_CYC_4': <tf.Tensor 'ExpandDims_45:0' shape=(None, 1) dtype=uint8>, 'LIF_CYC_5': <tf.Tensor 'ExpandDims_46:0' shape=(None, 1) dtype=uint8>, 'LIF_CYC_6': <tf.Tensor 'ExpandDims_47:0' shape=(None, 1) dtype=uint8>, 'LIF_CYC_7': <tf.Tensor 'ExpandDims_48:0' shape=(None, 1) dtype=uint8>, 'LIF_CYC_8': <tf.Tensor 'ExpandDims_49:0' shape=(None, 1) dtype=uint8>, 'LIF_CYC_9': <tf.Tensor 'ExpandDims_50:0' shape=(None, 1) dtype=uint8>, 'AGE_bins_16_to_25': <tf.Tensor 'ExpandDims:0' shape=(None, 1) dtype=uint8>, 'AGE_bins_26_to_35': <tf.Tensor 'ExpandDims_1:0' shape=(None, 1) dtype=uint8>, 'AGE_bins_36_to_45': <tf.Tensor 'ExpandDims_2:0' shape=(None, 1) dtype=uint8>, 'AGE_bins_46_to_55': <tf.Tensor 'ExpandDims_3:0' shape=(None, 1) dtype=uint8>, 'AGE_bins_56_to_65': <tf.Tensor 'ExpandDims_4:0' shape=(None, 1) dtype=uint8>, 'AGE_bins_5_to_15': <tf.Tensor 'ExpandDims_5:0' shape=(None, 1) dtype=uint8>, 'AGE_bins_66_to_75': <tf.Tensor 'ExpandDims_6:0' shape=(None, 1) dtype=uint8>, 'AGE_bins_more_than_75': <tf.Tensor 'ExpandDims_7:0' shape=(None, 1) dtype=uint8>, 'NUMADLT_ratio_1': <tf.Tensor 'ExpandDims_62:0' shape=(None, 1) dtype=uint8>, 'NUMADLT_ratio_less_than_0.5': <tf.Tensor 'ExpandDims_63:0' shape=(None, 1) dtype=uint8>, 'NUMADLT_ratio_more_than_0.5': <tf.Tensor 'ExpandDims_64:0' shape=(None, 1) dtype=uint8>, 'YOUNGCHILD_ratio_0': <tf.Tensor 'ExpandDims_105:0' shape=(None, 1) dtype=uint8>, 'YOUNGCHILD_ratio_less_than_0.5': <tf.Tensor 'ExpandDims_106:0' shape=(None, 1) dtype=uint8>, 'YOUNGCHILD_ratio_more_than_0.5': <tf.Tensor 'ExpandDims_107:0' shape=(None, 1) dtype=uint8>, 'WRKCOUNT_ratio_0': <tf.Tensor 'ExpandDims_98:0' shape=(None, 1) dtype=uint8>, 'WRKCOUNT_ratio_1': <tf.Tensor 'ExpandDims_99:0' shape=(None, 1) dtype=uint8>, 'WRKCOUNT_ratio_less_than_0.5': <tf.Tensor 'ExpandDims_100:0' shape=(None, 1) dtype=uint8>, 'WRKCOUNT_ratio_more_than_0.5': <tf.Tensor 'ExpandDims_101:0' shape=(None, 1) dtype=uint8>}\n",
      "Consider rewriting this model with the Functional API.\n"
     ]
    },
    {
     "name": "stdout",
     "output_type": "stream",
     "text": [
      "WARNING:tensorflow:Layers in a Sequential model should only have a single input tensor, but we receive a <class 'dict'> input: {'NUMADLT': <tf.Tensor 'ExpandDims_61:0' shape=(None, 1) dtype=float32>, 'YOUNGCHILD': <tf.Tensor 'ExpandDims_104:0' shape=(None, 1) dtype=float32>, 'WRKCOUNT': <tf.Tensor 'ExpandDims_97:0' shape=(None, 1) dtype=float32>, 'EDUC_1': <tf.Tensor 'ExpandDims_10:0' shape=(None, 1) dtype=uint8>, 'EDUC_2': <tf.Tensor 'ExpandDims_11:0' shape=(None, 1) dtype=uint8>, 'EDUC_3': <tf.Tensor 'ExpandDims_12:0' shape=(None, 1) dtype=uint8>, 'EDUC_4': <tf.Tensor 'ExpandDims_13:0' shape=(None, 1) dtype=uint8>, 'EDUC_5': <tf.Tensor 'ExpandDims_14:0' shape=(None, 1) dtype=uint8>, 'R_RACE_1': <tf.Tensor 'ExpandDims_70:0' shape=(None, 1) dtype=uint8>, 'R_RACE_2': <tf.Tensor 'ExpandDims_71:0' shape=(None, 1) dtype=uint8>, 'R_RACE_3': <tf.Tensor 'ExpandDims_72:0' shape=(None, 1) dtype=uint8>, 'R_RACE_4': <tf.Tensor 'ExpandDims_73:0' shape=(None, 1) dtype=uint8>, 'R_RACE_5': <tf.Tensor 'ExpandDims_74:0' shape=(None, 1) dtype=uint8>, 'R_RACE_6': <tf.Tensor 'ExpandDims_75:0' shape=(None, 1) dtype=uint8>, 'R_RACE_97': <tf.Tensor 'ExpandDims_76:0' shape=(None, 1) dtype=uint8>, 'R_SEX_1': <tf.Tensor 'ExpandDims_77:0' shape=(None, 1) dtype=uint8>, 'R_SEX_2': <tf.Tensor 'ExpandDims_78:0' shape=(None, 1) dtype=uint8>, 'WRK_HOME_1': <tf.Tensor 'ExpandDims_102:0' shape=(None, 1) dtype=uint8>, 'WRK_HOME_2': <tf.Tensor 'ExpandDims_103:0' shape=(None, 1) dtype=uint8>, 'WKFTPT_1': <tf.Tensor 'ExpandDims_95:0' shape=(None, 1) dtype=uint8>, 'WKFTPT_2': <tf.Tensor 'ExpandDims_96:0' shape=(None, 1) dtype=uint8>, 'OCCAT_1': <tf.Tensor 'ExpandDims_65:0' shape=(None, 1) dtype=uint8>, 'OCCAT_2': <tf.Tensor 'ExpandDims_66:0' shape=(None, 1) dtype=uint8>, 'OCCAT_3': <tf.Tensor 'ExpandDims_67:0' shape=(None, 1) dtype=uint8>, 'OCCAT_4': <tf.Tensor 'ExpandDims_68:0' shape=(None, 1) dtype=uint8>, 'OCCAT_97': <tf.Tensor 'ExpandDims_69:0' shape=(None, 1) dtype=uint8>, 'DRIVER_1': <tf.Tensor 'ExpandDims_8:0' shape=(None, 1) dtype=uint8>, 'DRIVER_2': <tf.Tensor 'ExpandDims_9:0' shape=(None, 1) dtype=uint8>, 'TRAVDAY_1': <tf.Tensor 'ExpandDims_79:0' shape=(None, 1) dtype=uint8>, 'TRAVDAY_2': <tf.Tensor 'ExpandDims_80:0' shape=(None, 1) dtype=uint8>, 'TRAVDAY_3': <tf.Tensor 'ExpandDims_81:0' shape=(None, 1) dtype=uint8>, 'TRAVDAY_4': <tf.Tensor 'ExpandDims_82:0' shape=(None, 1) dtype=uint8>, 'TRAVDAY_5': <tf.Tensor 'ExpandDims_83:0' shape=(None, 1) dtype=uint8>, 'TRAVDAY_6': <tf.Tensor 'ExpandDims_84:0' shape=(None, 1) dtype=uint8>, 'TRAVDAY_7': <tf.Tensor 'ExpandDims_85:0' shape=(None, 1) dtype=uint8>, 'dist_to_work_between_1_and_2': <tf.Tensor 'ExpandDims_128:0' shape=(None, 1) dtype=uint8>, 'dist_to_work_more_than_11': <tf.Tensor 'ExpandDims_131:0' shape=(None, 1) dtype=uint8>, 'dist_to_work_between_2_and_5': <tf.Tensor 'ExpandDims_129:0' shape=(None, 1) dtype=uint8>, 'dist_to_work_between_5_and_11': <tf.Tensor 'ExpandDims_130:0' shape=(None, 1) dtype=uint8>, 'dist_to_shopping_between_1_and_2': <tf.Tensor 'ExpandDims_120:0' shape=(None, 1) dtype=uint8>, 'dist_to_shopping_more_than_11': <tf.Tensor 'ExpandDims_123:0' shape=(None, 1) dtype=uint8>, 'dist_to_shopping_between_2_and_5': <tf.Tensor 'ExpandDims_121:0' shape=(None, 1) dtype=uint8>, 'dist_to_shopping_between_5_and_11': <tf.Tensor 'ExpandDims_122:0' shape=(None, 1) dtype=uint8>, 'dist_to_family_between_1_and_2': <tf.Tensor 'ExpandDims_108:0' shape=(None, 1) dtype=uint8>, 'dist_to_family_greater_than_11': <tf.Tensor 'ExpandDims_111:0' shape=(None, 1) dtype=uint8>, 'dist_to_family_between_2_and_5': <tf.Tensor 'ExpandDims_109:0' shape=(None, 1) dtype=uint8>, 'dist_to_family_between_5_and_11': <tf.Tensor 'ExpandDims_110:0' shape=(None, 1) dtype=uint8>, 'dist_to_school_or_church_between_1_and_2': <tf.Tensor 'ExpandDims_116:0' shape=(None, 1) dtype=uint8>, 'dist_to_school_or_church_greater_than_11': <tf.Tensor 'ExpandDims_119:0' shape=(None, 1) dtype=uint8>, 'dist_to_school_or_church_between_2_and_5': <tf.Tensor 'ExpandDims_117:0' shape=(None, 1) dtype=uint8>, 'dist_to_school_or_church_between_5_and_11': <tf.Tensor 'ExpandDims_118:0' shape=(None, 1) dtype=uint8>, 'dist_to_relatvies_between_1_and_2': <tf.Tensor 'ExpandDims_112:0' shape=(None, 1) dtype=uint8>, 'dist_to_relatvies_greater_than_11': <tf.Tensor 'ExpandDims_115:0' shape=(None, 1) dtype=uint8>, 'dist_to_relatvies_between_2_and_5': <tf.Tensor 'ExpandDims_113:0' shape=(None, 1) dtype=uint8>, 'dist_to_relatvies_between_5_and_11': <tf.Tensor 'ExpandDims_114:0' shape=(None, 1) dtype=uint8>, 'dist_to_social_between_1_and_2': <tf.Tensor 'ExpandDims_124:0' shape=(None, 1) dtype=uint8>, 'dist_to_social_greater_than_11': <tf.Tensor 'ExpandDims_127:0' shape=(None, 1) dtype=uint8>, 'dist_to_social_between_2_and_5': <tf.Tensor 'ExpandDims_125:0' shape=(None, 1) dtype=uint8>, 'dist_to_social_between_5_and_11': <tf.Tensor 'ExpandDims_126:0' shape=(None, 1) dtype=uint8>, 'HH_CBSA_15380': <tf.Tensor 'ExpandDims_34:0' shape=(None, 1) dtype=uint8>, 'HH_CBSA_35620': <tf.Tensor 'ExpandDims_35:0' shape=(None, 1) dtype=uint8>, 'HH_CBSA_40380': <tf.Tensor 'ExpandDims_36:0' shape=(None, 1) dtype=uint8>, 'HH_CBSA_XXXXX': <tf.Tensor 'ExpandDims_37:0' shape=(None, 1) dtype=uint8>, 'HOMEOWN_1': <tf.Tensor 'ExpandDims_38:0' shape=(None, 1) dtype=uint8>, 'HOMEOWN_2': <tf.Tensor 'ExpandDims_39:0' shape=(None, 1) dtype=uint8>, 'HOMEOWN_97': <tf.Tensor 'ExpandDims_40:0' shape=(None, 1) dtype=uint8>, 'HHSIZE_1': <tf.Tensor 'ExpandDims_26:0' shape=(None, 1) dtype=uint8>, 'HHSIZE_2': <tf.Tensor 'ExpandDims_27:0' shape=(None, 1) dtype=uint8>, 'HHSIZE_3': <tf.Tensor 'ExpandDims_28:0' shape=(None, 1) dtype=uint8>, 'HHSIZE_above_3': <tf.Tensor 'ExpandDims_29:0' shape=(None, 1) dtype=uint8>, 'HHVEHCNT_1': <tf.Tensor 'ExpandDims_30:0' shape=(None, 1) dtype=uint8>, 'HHVEHCNT_2': <tf.Tensor 'ExpandDims_31:0' shape=(None, 1) dtype=uint8>, 'HHVEHCNT_3': <tf.Tensor 'ExpandDims_32:0' shape=(None, 1) dtype=uint8>, 'HHVEHCNT_>3': <tf.Tensor 'ExpandDims_33:0' shape=(None, 1) dtype=uint8>, 'HHFAMINC_1': <tf.Tensor 'ExpandDims_15:0' shape=(None, 1) dtype=uint8>, 'HHFAMINC_10': <tf.Tensor 'ExpandDims_16:0' shape=(None, 1) dtype=uint8>, 'HHFAMINC_11': <tf.Tensor 'ExpandDims_17:0' shape=(None, 1) dtype=uint8>, 'HHFAMINC_2': <tf.Tensor 'ExpandDims_18:0' shape=(None, 1) dtype=uint8>, 'HHFAMINC_3': <tf.Tensor 'ExpandDims_19:0' shape=(None, 1) dtype=uint8>, 'HHFAMINC_4': <tf.Tensor 'ExpandDims_20:0' shape=(None, 1) dtype=uint8>, 'HHFAMINC_5': <tf.Tensor 'ExpandDims_21:0' shape=(None, 1) dtype=uint8>, 'HHFAMINC_6': <tf.Tensor 'ExpandDims_22:0' shape=(None, 1) dtype=uint8>, 'HHFAMINC_7': <tf.Tensor 'ExpandDims_23:0' shape=(None, 1) dtype=uint8>, 'HHFAMINC_8': <tf.Tensor 'ExpandDims_24:0' shape=(None, 1) dtype=uint8>, 'HHFAMINC_9': <tf.Tensor 'ExpandDims_25:0' shape=(None, 1) dtype=uint8>, 'MSACAT_1': <tf.Tensor 'ExpandDims_51:0' shape=(None, 1) dtype=uint8>, 'MSACAT_2': <tf.Tensor 'ExpandDims_52:0' shape=(None, 1) dtype=uint8>, 'MSACAT_3': <tf.Tensor 'ExpandDims_53:0' shape=(None, 1) dtype=uint8>, 'MSACAT_4': <tf.Tensor 'ExpandDims_54:0' shape=(None, 1) dtype=uint8>, 'MSASIZE_1': <tf.Tensor 'ExpandDims_55:0' shape=(None, 1) dtype=uint8>, 'MSASIZE_2': <tf.Tensor 'ExpandDims_56:0' shape=(None, 1) dtype=uint8>, 'MSASIZE_3': <tf.Tensor 'ExpandDims_57:0' shape=(None, 1) dtype=uint8>, 'MSASIZE_4': <tf.Tensor 'ExpandDims_58:0' shape=(None, 1) dtype=uint8>, 'MSASIZE_5': <tf.Tensor 'ExpandDims_59:0' shape=(None, 1) dtype=uint8>, 'MSASIZE_6': <tf.Tensor 'ExpandDims_60:0' shape=(None, 1) dtype=uint8>, 'URBAN_rural': <tf.Tensor 'ExpandDims_91:0' shape=(None, 1) dtype=uint8>, 'URBAN_urban': <tf.Tensor 'ExpandDims_92:0' shape=(None, 1) dtype=uint8>, 'URBANSIZE_1': <tf.Tensor 'ExpandDims_86:0' shape=(None, 1) dtype=uint8>, 'URBANSIZE_2': <tf.Tensor 'ExpandDims_87:0' shape=(None, 1) dtype=uint8>, 'URBANSIZE_3': <tf.Tensor 'ExpandDims_88:0' shape=(None, 1) dtype=uint8>, 'URBANSIZE_5': <tf.Tensor 'ExpandDims_89:0' shape=(None, 1) dtype=uint8>, 'URBANSIZE_6': <tf.Tensor 'ExpandDims_90:0' shape=(None, 1) dtype=uint8>, 'URBRUR_1': <tf.Tensor 'ExpandDims_93:0' shape=(None, 1) dtype=uint8>, 'URBRUR_2': <tf.Tensor 'ExpandDims_94:0' shape=(None, 1) dtype=uint8>, 'LIF_CYC_1': <tf.Tensor 'ExpandDims_41:0' shape=(None, 1) dtype=uint8>, 'LIF_CYC_10': <tf.Tensor 'ExpandDims_42:0' shape=(None, 1) dtype=uint8>, 'LIF_CYC_2': <tf.Tensor 'ExpandDims_43:0' shape=(None, 1) dtype=uint8>, 'LIF_CYC_3': <tf.Tensor 'ExpandDims_44:0' shape=(None, 1) dtype=uint8>, 'LIF_CYC_4': <tf.Tensor 'ExpandDims_45:0' shape=(None, 1) dtype=uint8>, 'LIF_CYC_5': <tf.Tensor 'ExpandDims_46:0' shape=(None, 1) dtype=uint8>, 'LIF_CYC_6': <tf.Tensor 'ExpandDims_47:0' shape=(None, 1) dtype=uint8>, 'LIF_CYC_7': <tf.Tensor 'ExpandDims_48:0' shape=(None, 1) dtype=uint8>, 'LIF_CYC_8': <tf.Tensor 'ExpandDims_49:0' shape=(None, 1) dtype=uint8>, 'LIF_CYC_9': <tf.Tensor 'ExpandDims_50:0' shape=(None, 1) dtype=uint8>, 'AGE_bins_16_to_25': <tf.Tensor 'ExpandDims:0' shape=(None, 1) dtype=uint8>, 'AGE_bins_26_to_35': <tf.Tensor 'ExpandDims_1:0' shape=(None, 1) dtype=uint8>, 'AGE_bins_36_to_45': <tf.Tensor 'ExpandDims_2:0' shape=(None, 1) dtype=uint8>, 'AGE_bins_46_to_55': <tf.Tensor 'ExpandDims_3:0' shape=(None, 1) dtype=uint8>, 'AGE_bins_56_to_65': <tf.Tensor 'ExpandDims_4:0' shape=(None, 1) dtype=uint8>, 'AGE_bins_5_to_15': <tf.Tensor 'ExpandDims_5:0' shape=(None, 1) dtype=uint8>, 'AGE_bins_66_to_75': <tf.Tensor 'ExpandDims_6:0' shape=(None, 1) dtype=uint8>, 'AGE_bins_more_than_75': <tf.Tensor 'ExpandDims_7:0' shape=(None, 1) dtype=uint8>, 'NUMADLT_ratio_1': <tf.Tensor 'ExpandDims_62:0' shape=(None, 1) dtype=uint8>, 'NUMADLT_ratio_less_than_0.5': <tf.Tensor 'ExpandDims_63:0' shape=(None, 1) dtype=uint8>, 'NUMADLT_ratio_more_than_0.5': <tf.Tensor 'ExpandDims_64:0' shape=(None, 1) dtype=uint8>, 'YOUNGCHILD_ratio_0': <tf.Tensor 'ExpandDims_105:0' shape=(None, 1) dtype=uint8>, 'YOUNGCHILD_ratio_less_than_0.5': <tf.Tensor 'ExpandDims_106:0' shape=(None, 1) dtype=uint8>, 'YOUNGCHILD_ratio_more_than_0.5': <tf.Tensor 'ExpandDims_107:0' shape=(None, 1) dtype=uint8>, 'WRKCOUNT_ratio_0': <tf.Tensor 'ExpandDims_98:0' shape=(None, 1) dtype=uint8>, 'WRKCOUNT_ratio_1': <tf.Tensor 'ExpandDims_99:0' shape=(None, 1) dtype=uint8>, 'WRKCOUNT_ratio_less_than_0.5': <tf.Tensor 'ExpandDims_100:0' shape=(None, 1) dtype=uint8>, 'WRKCOUNT_ratio_more_than_0.5': <tf.Tensor 'ExpandDims_101:0' shape=(None, 1) dtype=uint8>}\n",
      "Consider rewriting this model with the Functional API.\n"
     ]
    },
    {
     "name": "stdout",
     "output_type": "stream",
     "text": [
      "WARNING:tensorflow:Layers in a Sequential model should only have a single input tensor, but we receive a <class 'dict'> input: {'NUMADLT': <tf.Tensor 'ExpandDims_61:0' shape=(None, 1) dtype=float32>, 'YOUNGCHILD': <tf.Tensor 'ExpandDims_104:0' shape=(None, 1) dtype=float32>, 'WRKCOUNT': <tf.Tensor 'ExpandDims_97:0' shape=(None, 1) dtype=float32>, 'EDUC_1': <tf.Tensor 'ExpandDims_10:0' shape=(None, 1) dtype=uint8>, 'EDUC_2': <tf.Tensor 'ExpandDims_11:0' shape=(None, 1) dtype=uint8>, 'EDUC_3': <tf.Tensor 'ExpandDims_12:0' shape=(None, 1) dtype=uint8>, 'EDUC_4': <tf.Tensor 'ExpandDims_13:0' shape=(None, 1) dtype=uint8>, 'EDUC_5': <tf.Tensor 'ExpandDims_14:0' shape=(None, 1) dtype=uint8>, 'R_RACE_1': <tf.Tensor 'ExpandDims_70:0' shape=(None, 1) dtype=uint8>, 'R_RACE_2': <tf.Tensor 'ExpandDims_71:0' shape=(None, 1) dtype=uint8>, 'R_RACE_3': <tf.Tensor 'ExpandDims_72:0' shape=(None, 1) dtype=uint8>, 'R_RACE_4': <tf.Tensor 'ExpandDims_73:0' shape=(None, 1) dtype=uint8>, 'R_RACE_5': <tf.Tensor 'ExpandDims_74:0' shape=(None, 1) dtype=uint8>, 'R_RACE_6': <tf.Tensor 'ExpandDims_75:0' shape=(None, 1) dtype=uint8>, 'R_RACE_97': <tf.Tensor 'ExpandDims_76:0' shape=(None, 1) dtype=uint8>, 'R_SEX_1': <tf.Tensor 'ExpandDims_77:0' shape=(None, 1) dtype=uint8>, 'R_SEX_2': <tf.Tensor 'ExpandDims_78:0' shape=(None, 1) dtype=uint8>, 'WRK_HOME_1': <tf.Tensor 'ExpandDims_102:0' shape=(None, 1) dtype=uint8>, 'WRK_HOME_2': <tf.Tensor 'ExpandDims_103:0' shape=(None, 1) dtype=uint8>, 'WKFTPT_1': <tf.Tensor 'ExpandDims_95:0' shape=(None, 1) dtype=uint8>, 'WKFTPT_2': <tf.Tensor 'ExpandDims_96:0' shape=(None, 1) dtype=uint8>, 'OCCAT_1': <tf.Tensor 'ExpandDims_65:0' shape=(None, 1) dtype=uint8>, 'OCCAT_2': <tf.Tensor 'ExpandDims_66:0' shape=(None, 1) dtype=uint8>, 'OCCAT_3': <tf.Tensor 'ExpandDims_67:0' shape=(None, 1) dtype=uint8>, 'OCCAT_4': <tf.Tensor 'ExpandDims_68:0' shape=(None, 1) dtype=uint8>, 'OCCAT_97': <tf.Tensor 'ExpandDims_69:0' shape=(None, 1) dtype=uint8>, 'DRIVER_1': <tf.Tensor 'ExpandDims_8:0' shape=(None, 1) dtype=uint8>, 'DRIVER_2': <tf.Tensor 'ExpandDims_9:0' shape=(None, 1) dtype=uint8>, 'TRAVDAY_1': <tf.Tensor 'ExpandDims_79:0' shape=(None, 1) dtype=uint8>, 'TRAVDAY_2': <tf.Tensor 'ExpandDims_80:0' shape=(None, 1) dtype=uint8>, 'TRAVDAY_3': <tf.Tensor 'ExpandDims_81:0' shape=(None, 1) dtype=uint8>, 'TRAVDAY_4': <tf.Tensor 'ExpandDims_82:0' shape=(None, 1) dtype=uint8>, 'TRAVDAY_5': <tf.Tensor 'ExpandDims_83:0' shape=(None, 1) dtype=uint8>, 'TRAVDAY_6': <tf.Tensor 'ExpandDims_84:0' shape=(None, 1) dtype=uint8>, 'TRAVDAY_7': <tf.Tensor 'ExpandDims_85:0' shape=(None, 1) dtype=uint8>, 'dist_to_work_between_1_and_2': <tf.Tensor 'ExpandDims_128:0' shape=(None, 1) dtype=uint8>, 'dist_to_work_more_than_11': <tf.Tensor 'ExpandDims_131:0' shape=(None, 1) dtype=uint8>, 'dist_to_work_between_2_and_5': <tf.Tensor 'ExpandDims_129:0' shape=(None, 1) dtype=uint8>, 'dist_to_work_between_5_and_11': <tf.Tensor 'ExpandDims_130:0' shape=(None, 1) dtype=uint8>, 'dist_to_shopping_between_1_and_2': <tf.Tensor 'ExpandDims_120:0' shape=(None, 1) dtype=uint8>, 'dist_to_shopping_more_than_11': <tf.Tensor 'ExpandDims_123:0' shape=(None, 1) dtype=uint8>, 'dist_to_shopping_between_2_and_5': <tf.Tensor 'ExpandDims_121:0' shape=(None, 1) dtype=uint8>, 'dist_to_shopping_between_5_and_11': <tf.Tensor 'ExpandDims_122:0' shape=(None, 1) dtype=uint8>, 'dist_to_family_between_1_and_2': <tf.Tensor 'ExpandDims_108:0' shape=(None, 1) dtype=uint8>, 'dist_to_family_greater_than_11': <tf.Tensor 'ExpandDims_111:0' shape=(None, 1) dtype=uint8>, 'dist_to_family_between_2_and_5': <tf.Tensor 'ExpandDims_109:0' shape=(None, 1) dtype=uint8>, 'dist_to_family_between_5_and_11': <tf.Tensor 'ExpandDims_110:0' shape=(None, 1) dtype=uint8>, 'dist_to_school_or_church_between_1_and_2': <tf.Tensor 'ExpandDims_116:0' shape=(None, 1) dtype=uint8>, 'dist_to_school_or_church_greater_than_11': <tf.Tensor 'ExpandDims_119:0' shape=(None, 1) dtype=uint8>, 'dist_to_school_or_church_between_2_and_5': <tf.Tensor 'ExpandDims_117:0' shape=(None, 1) dtype=uint8>, 'dist_to_school_or_church_between_5_and_11': <tf.Tensor 'ExpandDims_118:0' shape=(None, 1) dtype=uint8>, 'dist_to_relatvies_between_1_and_2': <tf.Tensor 'ExpandDims_112:0' shape=(None, 1) dtype=uint8>, 'dist_to_relatvies_greater_than_11': <tf.Tensor 'ExpandDims_115:0' shape=(None, 1) dtype=uint8>, 'dist_to_relatvies_between_2_and_5': <tf.Tensor 'ExpandDims_113:0' shape=(None, 1) dtype=uint8>, 'dist_to_relatvies_between_5_and_11': <tf.Tensor 'ExpandDims_114:0' shape=(None, 1) dtype=uint8>, 'dist_to_social_between_1_and_2': <tf.Tensor 'ExpandDims_124:0' shape=(None, 1) dtype=uint8>, 'dist_to_social_greater_than_11': <tf.Tensor 'ExpandDims_127:0' shape=(None, 1) dtype=uint8>, 'dist_to_social_between_2_and_5': <tf.Tensor 'ExpandDims_125:0' shape=(None, 1) dtype=uint8>, 'dist_to_social_between_5_and_11': <tf.Tensor 'ExpandDims_126:0' shape=(None, 1) dtype=uint8>, 'HH_CBSA_15380': <tf.Tensor 'ExpandDims_34:0' shape=(None, 1) dtype=uint8>, 'HH_CBSA_35620': <tf.Tensor 'ExpandDims_35:0' shape=(None, 1) dtype=uint8>, 'HH_CBSA_40380': <tf.Tensor 'ExpandDims_36:0' shape=(None, 1) dtype=uint8>, 'HH_CBSA_XXXXX': <tf.Tensor 'ExpandDims_37:0' shape=(None, 1) dtype=uint8>, 'HOMEOWN_1': <tf.Tensor 'ExpandDims_38:0' shape=(None, 1) dtype=uint8>, 'HOMEOWN_2': <tf.Tensor 'ExpandDims_39:0' shape=(None, 1) dtype=uint8>, 'HOMEOWN_97': <tf.Tensor 'ExpandDims_40:0' shape=(None, 1) dtype=uint8>, 'HHSIZE_1': <tf.Tensor 'ExpandDims_26:0' shape=(None, 1) dtype=uint8>, 'HHSIZE_2': <tf.Tensor 'ExpandDims_27:0' shape=(None, 1) dtype=uint8>, 'HHSIZE_3': <tf.Tensor 'ExpandDims_28:0' shape=(None, 1) dtype=uint8>, 'HHSIZE_above_3': <tf.Tensor 'ExpandDims_29:0' shape=(None, 1) dtype=uint8>, 'HHVEHCNT_1': <tf.Tensor 'ExpandDims_30:0' shape=(None, 1) dtype=uint8>, 'HHVEHCNT_2': <tf.Tensor 'ExpandDims_31:0' shape=(None, 1) dtype=uint8>, 'HHVEHCNT_3': <tf.Tensor 'ExpandDims_32:0' shape=(None, 1) dtype=uint8>, 'HHVEHCNT_>3': <tf.Tensor 'ExpandDims_33:0' shape=(None, 1) dtype=uint8>, 'HHFAMINC_1': <tf.Tensor 'ExpandDims_15:0' shape=(None, 1) dtype=uint8>, 'HHFAMINC_10': <tf.Tensor 'ExpandDims_16:0' shape=(None, 1) dtype=uint8>, 'HHFAMINC_11': <tf.Tensor 'ExpandDims_17:0' shape=(None, 1) dtype=uint8>, 'HHFAMINC_2': <tf.Tensor 'ExpandDims_18:0' shape=(None, 1) dtype=uint8>, 'HHFAMINC_3': <tf.Tensor 'ExpandDims_19:0' shape=(None, 1) dtype=uint8>, 'HHFAMINC_4': <tf.Tensor 'ExpandDims_20:0' shape=(None, 1) dtype=uint8>, 'HHFAMINC_5': <tf.Tensor 'ExpandDims_21:0' shape=(None, 1) dtype=uint8>, 'HHFAMINC_6': <tf.Tensor 'ExpandDims_22:0' shape=(None, 1) dtype=uint8>, 'HHFAMINC_7': <tf.Tensor 'ExpandDims_23:0' shape=(None, 1) dtype=uint8>, 'HHFAMINC_8': <tf.Tensor 'ExpandDims_24:0' shape=(None, 1) dtype=uint8>, 'HHFAMINC_9': <tf.Tensor 'ExpandDims_25:0' shape=(None, 1) dtype=uint8>, 'MSACAT_1': <tf.Tensor 'ExpandDims_51:0' shape=(None, 1) dtype=uint8>, 'MSACAT_2': <tf.Tensor 'ExpandDims_52:0' shape=(None, 1) dtype=uint8>, 'MSACAT_3': <tf.Tensor 'ExpandDims_53:0' shape=(None, 1) dtype=uint8>, 'MSACAT_4': <tf.Tensor 'ExpandDims_54:0' shape=(None, 1) dtype=uint8>, 'MSASIZE_1': <tf.Tensor 'ExpandDims_55:0' shape=(None, 1) dtype=uint8>, 'MSASIZE_2': <tf.Tensor 'ExpandDims_56:0' shape=(None, 1) dtype=uint8>, 'MSASIZE_3': <tf.Tensor 'ExpandDims_57:0' shape=(None, 1) dtype=uint8>, 'MSASIZE_4': <tf.Tensor 'ExpandDims_58:0' shape=(None, 1) dtype=uint8>, 'MSASIZE_5': <tf.Tensor 'ExpandDims_59:0' shape=(None, 1) dtype=uint8>, 'MSASIZE_6': <tf.Tensor 'ExpandDims_60:0' shape=(None, 1) dtype=uint8>, 'URBAN_rural': <tf.Tensor 'ExpandDims_91:0' shape=(None, 1) dtype=uint8>, 'URBAN_urban': <tf.Tensor 'ExpandDims_92:0' shape=(None, 1) dtype=uint8>, 'URBANSIZE_1': <tf.Tensor 'ExpandDims_86:0' shape=(None, 1) dtype=uint8>, 'URBANSIZE_2': <tf.Tensor 'ExpandDims_87:0' shape=(None, 1) dtype=uint8>, 'URBANSIZE_3': <tf.Tensor 'ExpandDims_88:0' shape=(None, 1) dtype=uint8>, 'URBANSIZE_5': <tf.Tensor 'ExpandDims_89:0' shape=(None, 1) dtype=uint8>, 'URBANSIZE_6': <tf.Tensor 'ExpandDims_90:0' shape=(None, 1) dtype=uint8>, 'URBRUR_1': <tf.Tensor 'ExpandDims_93:0' shape=(None, 1) dtype=uint8>, 'URBRUR_2': <tf.Tensor 'ExpandDims_94:0' shape=(None, 1) dtype=uint8>, 'LIF_CYC_1': <tf.Tensor 'ExpandDims_41:0' shape=(None, 1) dtype=uint8>, 'LIF_CYC_10': <tf.Tensor 'ExpandDims_42:0' shape=(None, 1) dtype=uint8>, 'LIF_CYC_2': <tf.Tensor 'ExpandDims_43:0' shape=(None, 1) dtype=uint8>, 'LIF_CYC_3': <tf.Tensor 'ExpandDims_44:0' shape=(None, 1) dtype=uint8>, 'LIF_CYC_4': <tf.Tensor 'ExpandDims_45:0' shape=(None, 1) dtype=uint8>, 'LIF_CYC_5': <tf.Tensor 'ExpandDims_46:0' shape=(None, 1) dtype=uint8>, 'LIF_CYC_6': <tf.Tensor 'ExpandDims_47:0' shape=(None, 1) dtype=uint8>, 'LIF_CYC_7': <tf.Tensor 'ExpandDims_48:0' shape=(None, 1) dtype=uint8>, 'LIF_CYC_8': <tf.Tensor 'ExpandDims_49:0' shape=(None, 1) dtype=uint8>, 'LIF_CYC_9': <tf.Tensor 'ExpandDims_50:0' shape=(None, 1) dtype=uint8>, 'AGE_bins_16_to_25': <tf.Tensor 'ExpandDims:0' shape=(None, 1) dtype=uint8>, 'AGE_bins_26_to_35': <tf.Tensor 'ExpandDims_1:0' shape=(None, 1) dtype=uint8>, 'AGE_bins_36_to_45': <tf.Tensor 'ExpandDims_2:0' shape=(None, 1) dtype=uint8>, 'AGE_bins_46_to_55': <tf.Tensor 'ExpandDims_3:0' shape=(None, 1) dtype=uint8>, 'AGE_bins_56_to_65': <tf.Tensor 'ExpandDims_4:0' shape=(None, 1) dtype=uint8>, 'AGE_bins_5_to_15': <tf.Tensor 'ExpandDims_5:0' shape=(None, 1) dtype=uint8>, 'AGE_bins_66_to_75': <tf.Tensor 'ExpandDims_6:0' shape=(None, 1) dtype=uint8>, 'AGE_bins_more_than_75': <tf.Tensor 'ExpandDims_7:0' shape=(None, 1) dtype=uint8>, 'NUMADLT_ratio_1': <tf.Tensor 'ExpandDims_62:0' shape=(None, 1) dtype=uint8>, 'NUMADLT_ratio_less_than_0.5': <tf.Tensor 'ExpandDims_63:0' shape=(None, 1) dtype=uint8>, 'NUMADLT_ratio_more_than_0.5': <tf.Tensor 'ExpandDims_64:0' shape=(None, 1) dtype=uint8>, 'YOUNGCHILD_ratio_0': <tf.Tensor 'ExpandDims_105:0' shape=(None, 1) dtype=uint8>, 'YOUNGCHILD_ratio_less_than_0.5': <tf.Tensor 'ExpandDims_106:0' shape=(None, 1) dtype=uint8>, 'YOUNGCHILD_ratio_more_than_0.5': <tf.Tensor 'ExpandDims_107:0' shape=(None, 1) dtype=uint8>, 'WRKCOUNT_ratio_0': <tf.Tensor 'ExpandDims_98:0' shape=(None, 1) dtype=uint8>, 'WRKCOUNT_ratio_1': <tf.Tensor 'ExpandDims_99:0' shape=(None, 1) dtype=uint8>, 'WRKCOUNT_ratio_less_than_0.5': <tf.Tensor 'ExpandDims_100:0' shape=(None, 1) dtype=uint8>, 'WRKCOUNT_ratio_more_than_0.5': <tf.Tensor 'ExpandDims_101:0' shape=(None, 1) dtype=uint8>}\n",
      "Consider rewriting this model with the Functional API.\n"
     ]
    },
    {
     "name": "stdout",
     "output_type": "stream",
     "text": [
      "80/80 - 3s - loss: 3.3705 - mean_squared_error: 3.3705 - val_loss: 2.4963 - val_mean_squared_error: 2.4963\n",
      "Epoch 2/1000\n",
      "80/80 - 1s - loss: 2.4445 - mean_squared_error: 2.4445 - val_loss: 2.3497 - val_mean_squared_error: 2.3497\n",
      "Epoch 3/1000\n",
      "80/80 - 0s - loss: 2.3394 - mean_squared_error: 2.3394 - val_loss: 2.3448 - val_mean_squared_error: 2.3448\n",
      "Epoch 4/1000\n",
      "80/80 - 1s - loss: 2.2924 - mean_squared_error: 2.2924 - val_loss: 2.3196 - val_mean_squared_error: 2.3196\n",
      "Epoch 5/1000\n",
      "80/80 - 1s - loss: 2.2504 - mean_squared_error: 2.2504 - val_loss: 2.3279 - val_mean_squared_error: 2.3279\n",
      "Epoch 6/1000\n",
      "80/80 - 1s - loss: 2.2040 - mean_squared_error: 2.2040 - val_loss: 2.3293 - val_mean_squared_error: 2.3293\n",
      "Epoch 7/1000\n",
      "80/80 - 0s - loss: 2.1621 - mean_squared_error: 2.1621 - val_loss: 2.3682 - val_mean_squared_error: 2.3682\n",
      "Epoch 8/1000\n",
      "80/80 - 0s - loss: 2.1061 - mean_squared_error: 2.1061 - val_loss: 2.6055 - val_mean_squared_error: 2.6055\n",
      "Epoch 9/1000\n",
      "80/80 - 1s - loss: 2.0489 - mean_squared_error: 2.0489 - val_loss: 2.4832 - val_mean_squared_error: 2.4832\n",
      "Epoch 10/1000\n",
      "80/80 - 0s - loss: 1.9948 - mean_squared_error: 1.9948 - val_loss: 2.4088 - val_mean_squared_error: 2.4088\n",
      "Epoch 11/1000\n",
      "80/80 - 0s - loss: 1.9160 - mean_squared_error: 1.9160 - val_loss: 2.4430 - val_mean_squared_error: 2.4430\n",
      "Epoch 12/1000\n",
      "80/80 - 1s - loss: 1.8670 - mean_squared_error: 1.8670 - val_loss: 2.4947 - val_mean_squared_error: 2.4947\n",
      "Epoch 13/1000\n",
      "80/80 - 1s - loss: 1.8201 - mean_squared_error: 1.8201 - val_loss: 2.5007 - val_mean_squared_error: 2.5007\n",
      "Epoch 14/1000\n",
      "80/80 - 1s - loss: 1.7817 - mean_squared_error: 1.7817 - val_loss: 2.5475 - val_mean_squared_error: 2.5475\n",
      "Epoch 15/1000\n",
      "80/80 - 0s - loss: 1.7274 - mean_squared_error: 1.7274 - val_loss: 2.5246 - val_mean_squared_error: 2.5246\n",
      "Epoch 16/1000\n",
      "80/80 - 0s - loss: 1.7304 - mean_squared_error: 1.7304 - val_loss: 2.5732 - val_mean_squared_error: 2.5732\n",
      "Epoch 17/1000\n",
      "80/80 - 0s - loss: 1.6523 - mean_squared_error: 1.6523 - val_loss: 2.7312 - val_mean_squared_error: 2.7312\n",
      "Epoch 18/1000\n",
      "80/80 - 1s - loss: 1.6298 - mean_squared_error: 1.6298 - val_loss: 2.6349 - val_mean_squared_error: 2.6349\n",
      "Epoch 19/1000\n",
      "80/80 - 1s - loss: 1.5691 - mean_squared_error: 1.5691 - val_loss: 2.6588 - val_mean_squared_error: 2.6588\n",
      "Epoch 20/1000\n",
      "80/80 - 1s - loss: 1.5341 - mean_squared_error: 1.5341 - val_loss: 2.6812 - val_mean_squared_error: 2.6812\n",
      "Epoch 21/1000\n",
      "80/80 - 1s - loss: 1.5337 - mean_squared_error: 1.5337 - val_loss: 2.6244 - val_mean_squared_error: 2.6244\n",
      "Epoch 22/1000\n",
      "80/80 - 1s - loss: 1.4856 - mean_squared_error: 1.4856 - val_loss: 2.7089 - val_mean_squared_error: 2.7089\n",
      "Epoch 23/1000\n",
      "80/80 - 1s - loss: 1.4344 - mean_squared_error: 1.4344 - val_loss: 2.9548 - val_mean_squared_error: 2.9548\n",
      "Epoch 24/1000\n",
      "80/80 - 1s - loss: 1.4522 - mean_squared_error: 1.4522 - val_loss: 2.8670 - val_mean_squared_error: 2.8670\n",
      "Epoch 25/1000\n",
      "80/80 - 0s - loss: 1.3797 - mean_squared_error: 1.3797 - val_loss: 2.8849 - val_mean_squared_error: 2.8849\n",
      "Epoch 26/1000\n",
      "80/80 - 0s - loss: 1.3930 - mean_squared_error: 1.3930 - val_loss: 2.8590 - val_mean_squared_error: 2.8590\n",
      "Epoch 27/1000\n",
      "80/80 - 1s - loss: 1.3304 - mean_squared_error: 1.3304 - val_loss: 2.7645 - val_mean_squared_error: 2.7645\n",
      "Epoch 28/1000\n",
      "80/80 - 0s - loss: 1.3254 - mean_squared_error: 1.3254 - val_loss: 2.9523 - val_mean_squared_error: 2.9523\n",
      "Epoch 29/1000\n",
      "80/80 - 1s - loss: 1.2802 - mean_squared_error: 1.2802 - val_loss: 2.9263 - val_mean_squared_error: 2.9263\n",
      "Epoch 30/1000\n",
      "80/80 - 1s - loss: 1.2397 - mean_squared_error: 1.2397 - val_loss: 2.9661 - val_mean_squared_error: 2.9661\n",
      "Epoch 31/1000\n",
      "80/80 - 1s - loss: 1.1982 - mean_squared_error: 1.1982 - val_loss: 3.0309 - val_mean_squared_error: 3.0309\n",
      "Epoch 32/1000\n",
      "80/80 - 1s - loss: 1.2073 - mean_squared_error: 1.2073 - val_loss: 2.8472 - val_mean_squared_error: 2.8472\n",
      "Epoch 33/1000\n",
      "80/80 - 1s - loss: 1.1725 - mean_squared_error: 1.1725 - val_loss: 2.9618 - val_mean_squared_error: 2.9618\n",
      "Epoch 34/1000\n",
      "80/80 - 0s - loss: 1.1970 - mean_squared_error: 1.1970 - val_loss: 3.0348 - val_mean_squared_error: 3.0348\n",
      "Epoch 35/1000\n",
      "80/80 - 0s - loss: 1.1502 - mean_squared_error: 1.1502 - val_loss: 2.9721 - val_mean_squared_error: 2.9721\n",
      "Epoch 36/1000\n",
      "80/80 - 1s - loss: 1.1300 - mean_squared_error: 1.1300 - val_loss: 2.9919 - val_mean_squared_error: 2.9919\n",
      "Epoch 37/1000\n",
      "80/80 - 1s - loss: 1.0769 - mean_squared_error: 1.0769 - val_loss: 2.9709 - val_mean_squared_error: 2.9709\n",
      "Epoch 38/1000\n",
      "80/80 - 1s - loss: 1.0691 - mean_squared_error: 1.0691 - val_loss: 3.0362 - val_mean_squared_error: 3.0362\n",
      "Epoch 39/1000\n",
      "80/80 - 1s - loss: 1.0661 - mean_squared_error: 1.0661 - val_loss: 3.0026 - val_mean_squared_error: 3.0026\n",
      "Epoch 40/1000\n",
      "80/80 - 1s - loss: 1.0340 - mean_squared_error: 1.0340 - val_loss: 3.0120 - val_mean_squared_error: 3.0120\n",
      "Epoch 41/1000\n",
      "80/80 - 1s - loss: 1.0022 - mean_squared_error: 1.0022 - val_loss: 3.2888 - val_mean_squared_error: 3.2888\n",
      "Epoch 42/1000\n",
      "80/80 - 1s - loss: 0.9986 - mean_squared_error: 0.9986 - val_loss: 3.3042 - val_mean_squared_error: 3.3042\n",
      "Epoch 43/1000\n",
      "80/80 - 1s - loss: 0.9797 - mean_squared_error: 0.9797 - val_loss: 3.2628 - val_mean_squared_error: 3.2628\n",
      "Epoch 44/1000\n",
      "80/80 - 1s - loss: 0.9396 - mean_squared_error: 0.9396 - val_loss: 3.1140 - val_mean_squared_error: 3.1140\n",
      "Epoch 45/1000\n",
      "80/80 - 1s - loss: 0.9184 - mean_squared_error: 0.9184 - val_loss: 3.1586 - val_mean_squared_error: 3.1586\n",
      "Epoch 46/1000\n",
      "80/80 - 1s - loss: 0.9079 - mean_squared_error: 0.9079 - val_loss: 3.2788 - val_mean_squared_error: 3.2788\n",
      "Epoch 47/1000\n",
      "80/80 - 1s - loss: 0.9049 - mean_squared_error: 0.9049 - val_loss: 3.2713 - val_mean_squared_error: 3.2713\n",
      "Epoch 48/1000\n",
      "80/80 - 1s - loss: 0.8889 - mean_squared_error: 0.8889 - val_loss: 3.1755 - val_mean_squared_error: 3.1755\n",
      "Epoch 49/1000\n",
      "80/80 - 1s - loss: 0.8795 - mean_squared_error: 0.8795 - val_loss: 3.3668 - val_mean_squared_error: 3.3668\n",
      "Epoch 50/1000\n",
      "80/80 - 1s - loss: 0.9148 - mean_squared_error: 0.9148 - val_loss: 3.4407 - val_mean_squared_error: 3.4407\n",
      "Epoch 51/1000\n",
      "80/80 - 1s - loss: 0.8597 - mean_squared_error: 0.8597 - val_loss: 3.3054 - val_mean_squared_error: 3.3054\n",
      "Epoch 52/1000\n",
      "80/80 - 1s - loss: 0.8362 - mean_squared_error: 0.8362 - val_loss: 3.2777 - val_mean_squared_error: 3.2777\n",
      "Epoch 53/1000\n",
      "80/80 - 1s - loss: 0.8297 - mean_squared_error: 0.8297 - val_loss: 3.6690 - val_mean_squared_error: 3.6690\n",
      "Epoch 54/1000\n",
      "80/80 - 1s - loss: 0.8895 - mean_squared_error: 0.8895 - val_loss: 3.6566 - val_mean_squared_error: 3.6566\n",
      "Epoch 55/1000\n",
      "80/80 - 1s - loss: 0.8562 - mean_squared_error: 0.8562 - val_loss: 3.3567 - val_mean_squared_error: 3.3567\n",
      "Epoch 56/1000\n",
      "80/80 - 1s - loss: 0.8136 - mean_squared_error: 0.8136 - val_loss: 3.5424 - val_mean_squared_error: 3.5424\n",
      "Epoch 57/1000\n",
      "80/80 - 1s - loss: 0.7980 - mean_squared_error: 0.7980 - val_loss: 3.5135 - val_mean_squared_error: 3.5135\n",
      "Epoch 58/1000\n",
      "80/80 - 1s - loss: 0.7705 - mean_squared_error: 0.7705 - val_loss: 3.4324 - val_mean_squared_error: 3.4324\n",
      "Epoch 59/1000\n",
      "80/80 - 1s - loss: 0.7576 - mean_squared_error: 0.7576 - val_loss: 3.6870 - val_mean_squared_error: 3.6870\n",
      "Epoch 60/1000\n",
      "80/80 - 1s - loss: 0.7631 - mean_squared_error: 0.7631 - val_loss: 3.2142 - val_mean_squared_error: 3.2142\n",
      "Epoch 61/1000\n",
      "80/80 - 1s - loss: 0.7670 - mean_squared_error: 0.7670 - val_loss: 3.3078 - val_mean_squared_error: 3.3078\n",
      "Epoch 62/1000\n",
      "80/80 - 0s - loss: 0.7775 - mean_squared_error: 0.7775 - val_loss: 3.3858 - val_mean_squared_error: 3.3858\n",
      "Epoch 63/1000\n",
      "80/80 - 0s - loss: 0.7453 - mean_squared_error: 0.7453 - val_loss: 3.5030 - val_mean_squared_error: 3.5030\n",
      "Epoch 64/1000\n",
      "80/80 - 0s - loss: 0.7194 - mean_squared_error: 0.7194 - val_loss: 3.3640 - val_mean_squared_error: 3.3640\n",
      "Epoch 65/1000\n",
      "80/80 - 1s - loss: 0.7026 - mean_squared_error: 0.7026 - val_loss: 3.2806 - val_mean_squared_error: 3.2806\n",
      "Epoch 66/1000\n",
      "80/80 - 1s - loss: 0.7075 - mean_squared_error: 0.7075 - val_loss: 3.3660 - val_mean_squared_error: 3.3660\n",
      "Epoch 67/1000\n",
      "80/80 - 0s - loss: 0.6896 - mean_squared_error: 0.6896 - val_loss: 3.4363 - val_mean_squared_error: 3.4363\n",
      "Epoch 68/1000\n",
      "80/80 - 0s - loss: 0.6702 - mean_squared_error: 0.6702 - val_loss: 3.4738 - val_mean_squared_error: 3.4738\n"
     ]
    },
    {
     "name": "stdout",
     "output_type": "stream",
     "text": [
      "Epoch 69/1000\n",
      "80/80 - 1s - loss: 0.6682 - mean_squared_error: 0.6682 - val_loss: 3.4603 - val_mean_squared_error: 3.4603\n",
      "Epoch 70/1000\n",
      "80/80 - 0s - loss: 0.6695 - mean_squared_error: 0.6695 - val_loss: 3.4781 - val_mean_squared_error: 3.4781\n",
      "Epoch 71/1000\n",
      "80/80 - 1s - loss: 0.6677 - mean_squared_error: 0.6677 - val_loss: 3.5238 - val_mean_squared_error: 3.5238\n",
      "Epoch 72/1000\n",
      "80/80 - 1s - loss: 0.6745 - mean_squared_error: 0.6745 - val_loss: 3.7500 - val_mean_squared_error: 3.7500\n",
      "Epoch 73/1000\n",
      "80/80 - 0s - loss: 0.6739 - mean_squared_error: 0.6739 - val_loss: 3.5855 - val_mean_squared_error: 3.5855\n",
      "Epoch 74/1000\n",
      "80/80 - 1s - loss: 0.6526 - mean_squared_error: 0.6526 - val_loss: 3.6470 - val_mean_squared_error: 3.6470\n",
      "Epoch 75/1000\n",
      "80/80 - 1s - loss: 0.6493 - mean_squared_error: 0.6493 - val_loss: 3.4441 - val_mean_squared_error: 3.4441\n",
      "Epoch 76/1000\n",
      "80/80 - 0s - loss: 0.6276 - mean_squared_error: 0.6276 - val_loss: 3.7298 - val_mean_squared_error: 3.7298\n",
      "Epoch 77/1000\n",
      "80/80 - 1s - loss: 0.6512 - mean_squared_error: 0.6512 - val_loss: 3.4057 - val_mean_squared_error: 3.4057\n",
      "Epoch 78/1000\n",
      "80/80 - 1s - loss: 0.6507 - mean_squared_error: 0.6507 - val_loss: 3.8403 - val_mean_squared_error: 3.8403\n",
      "Epoch 79/1000\n",
      "80/80 - 1s - loss: 0.6413 - mean_squared_error: 0.6413 - val_loss: 3.4892 - val_mean_squared_error: 3.4892\n",
      "Epoch 80/1000\n",
      "80/80 - 0s - loss: 0.6439 - mean_squared_error: 0.6439 - val_loss: 3.5079 - val_mean_squared_error: 3.5079\n",
      "Epoch 81/1000\n",
      "80/80 - 1s - loss: 0.6168 - mean_squared_error: 0.6168 - val_loss: 3.6158 - val_mean_squared_error: 3.6158\n",
      "Epoch 82/1000\n",
      "80/80 - 0s - loss: 0.6140 - mean_squared_error: 0.6140 - val_loss: 3.5453 - val_mean_squared_error: 3.5453\n",
      "Epoch 83/1000\n",
      "80/80 - 0s - loss: 0.6275 - mean_squared_error: 0.6275 - val_loss: 3.8073 - val_mean_squared_error: 3.8073\n",
      "Epoch 84/1000\n",
      "80/80 - 1s - loss: 0.5998 - mean_squared_error: 0.5998 - val_loss: 3.6767 - val_mean_squared_error: 3.6767\n",
      "Epoch 85/1000\n",
      "80/80 - 1s - loss: 0.5909 - mean_squared_error: 0.5909 - val_loss: 3.6769 - val_mean_squared_error: 3.6769\n",
      "Epoch 86/1000\n",
      "80/80 - 1s - loss: 0.5805 - mean_squared_error: 0.5805 - val_loss: 3.5757 - val_mean_squared_error: 3.5757\n",
      "Epoch 87/1000\n",
      "80/80 - 1s - loss: 0.5982 - mean_squared_error: 0.5982 - val_loss: 3.4767 - val_mean_squared_error: 3.4767\n",
      "Epoch 88/1000\n",
      "80/80 - 1s - loss: 0.5966 - mean_squared_error: 0.5966 - val_loss: 3.4875 - val_mean_squared_error: 3.4875\n",
      "Epoch 89/1000\n",
      "80/80 - 0s - loss: 0.5688 - mean_squared_error: 0.5688 - val_loss: 3.5233 - val_mean_squared_error: 3.5233\n",
      "Epoch 90/1000\n",
      "80/80 - 1s - loss: 0.5678 - mean_squared_error: 0.5678 - val_loss: 3.6708 - val_mean_squared_error: 3.6708\n",
      "Epoch 91/1000\n",
      "80/80 - 1s - loss: 0.5644 - mean_squared_error: 0.5644 - val_loss: 3.5595 - val_mean_squared_error: 3.5595\n",
      "Epoch 92/1000\n",
      "80/80 - 1s - loss: 0.6102 - mean_squared_error: 0.6102 - val_loss: 3.6445 - val_mean_squared_error: 3.6445\n",
      "Epoch 93/1000\n",
      "80/80 - 1s - loss: 0.5971 - mean_squared_error: 0.5971 - val_loss: 3.7440 - val_mean_squared_error: 3.7440\n",
      "Epoch 94/1000\n",
      "80/80 - 1s - loss: 0.5718 - mean_squared_error: 0.5718 - val_loss: 3.5737 - val_mean_squared_error: 3.5737\n",
      "Epoch 95/1000\n",
      "80/80 - 0s - loss: 0.5626 - mean_squared_error: 0.5626 - val_loss: 3.7385 - val_mean_squared_error: 3.7385\n",
      "Epoch 96/1000\n",
      "80/80 - 1s - loss: 0.5497 - mean_squared_error: 0.5497 - val_loss: 3.5009 - val_mean_squared_error: 3.5009\n",
      "Epoch 97/1000\n",
      "80/80 - 1s - loss: 0.5432 - mean_squared_error: 0.5432 - val_loss: 3.7583 - val_mean_squared_error: 3.7583\n",
      "Epoch 98/1000\n",
      "80/80 - 1s - loss: 0.5464 - mean_squared_error: 0.5464 - val_loss: 3.7192 - val_mean_squared_error: 3.7192\n",
      "Epoch 99/1000\n",
      "80/80 - 1s - loss: 0.5835 - mean_squared_error: 0.5835 - val_loss: 3.6332 - val_mean_squared_error: 3.6332\n",
      "Epoch 100/1000\n",
      "80/80 - 1s - loss: 0.5588 - mean_squared_error: 0.5588 - val_loss: 3.5749 - val_mean_squared_error: 3.5749\n",
      "Epoch 101/1000\n",
      "80/80 - 0s - loss: 0.5403 - mean_squared_error: 0.5403 - val_loss: 3.5378 - val_mean_squared_error: 3.5378\n",
      "Epoch 102/1000\n",
      "80/80 - 1s - loss: 0.5290 - mean_squared_error: 0.5290 - val_loss: 3.6189 - val_mean_squared_error: 3.6189\n",
      "Epoch 103/1000\n",
      "80/80 - 0s - loss: 0.5396 - mean_squared_error: 0.5396 - val_loss: 3.6233 - val_mean_squared_error: 3.6233\n",
      "Epoch 104/1000\n",
      "80/80 - 1s - loss: 0.5241 - mean_squared_error: 0.5241 - val_loss: 3.7249 - val_mean_squared_error: 3.7249\n",
      "Epoch 105/1000\n",
      "80/80 - 1s - loss: 0.5296 - mean_squared_error: 0.5296 - val_loss: 3.6711 - val_mean_squared_error: 3.6711\n",
      "Epoch 106/1000\n",
      "80/80 - 1s - loss: 0.5277 - mean_squared_error: 0.5277 - val_loss: 3.7623 - val_mean_squared_error: 3.7623\n",
      "Epoch 107/1000\n",
      "80/80 - 0s - loss: 0.5345 - mean_squared_error: 0.5345 - val_loss: 3.9167 - val_mean_squared_error: 3.9167\n",
      "Epoch 108/1000\n",
      "80/80 - 1s - loss: 0.5218 - mean_squared_error: 0.5218 - val_loss: 3.6094 - val_mean_squared_error: 3.6094\n",
      "Epoch 109/1000\n",
      "80/80 - 1s - loss: 0.5268 - mean_squared_error: 0.5268 - val_loss: 3.7127 - val_mean_squared_error: 3.7127\n",
      "Epoch 110/1000\n",
      "80/80 - 1s - loss: 0.5251 - mean_squared_error: 0.5251 - val_loss: 3.5181 - val_mean_squared_error: 3.5181\n",
      "Epoch 111/1000\n",
      "80/80 - 0s - loss: 0.5208 - mean_squared_error: 0.5208 - val_loss: 3.6478 - val_mean_squared_error: 3.6478\n",
      "Epoch 112/1000\n",
      "80/80 - 0s - loss: 0.5163 - mean_squared_error: 0.5163 - val_loss: 3.8847 - val_mean_squared_error: 3.8847\n",
      "Epoch 113/1000\n",
      "80/80 - 0s - loss: 0.5247 - mean_squared_error: 0.5247 - val_loss: 3.6895 - val_mean_squared_error: 3.6895\n",
      "Epoch 114/1000\n",
      "80/80 - 0s - loss: 0.5019 - mean_squared_error: 0.5019 - val_loss: 3.8310 - val_mean_squared_error: 3.8310\n",
      "Epoch 115/1000\n",
      "80/80 - 0s - loss: 0.5058 - mean_squared_error: 0.5058 - val_loss: 3.8206 - val_mean_squared_error: 3.8206\n",
      "Epoch 116/1000\n",
      "80/80 - 0s - loss: 0.5014 - mean_squared_error: 0.5014 - val_loss: 3.8155 - val_mean_squared_error: 3.8155\n",
      "Epoch 117/1000\n",
      "80/80 - 1s - loss: 0.4963 - mean_squared_error: 0.4963 - val_loss: 3.7302 - val_mean_squared_error: 3.7302\n",
      "Epoch 118/1000\n",
      "80/80 - 1s - loss: 0.5019 - mean_squared_error: 0.5019 - val_loss: 3.6973 - val_mean_squared_error: 3.6973\n",
      "Epoch 119/1000\n",
      "80/80 - 1s - loss: 0.5122 - mean_squared_error: 0.5122 - val_loss: 3.6656 - val_mean_squared_error: 3.6656\n",
      "Epoch 120/1000\n",
      "80/80 - 1s - loss: 0.5494 - mean_squared_error: 0.5494 - val_loss: 3.9549 - val_mean_squared_error: 3.9549\n",
      "Epoch 121/1000\n",
      "80/80 - 1s - loss: 0.5258 - mean_squared_error: 0.5258 - val_loss: 3.6717 - val_mean_squared_error: 3.6717\n",
      "Epoch 122/1000\n",
      "80/80 - 1s - loss: 0.5047 - mean_squared_error: 0.5047 - val_loss: 3.6516 - val_mean_squared_error: 3.6516\n",
      "Epoch 123/1000\n",
      "80/80 - 1s - loss: 0.4911 - mean_squared_error: 0.4911 - val_loss: 3.7190 - val_mean_squared_error: 3.7190\n",
      "Epoch 124/1000\n",
      "80/80 - 1s - loss: 0.4684 - mean_squared_error: 0.4684 - val_loss: 3.8171 - val_mean_squared_error: 3.8171\n",
      "Epoch 125/1000\n",
      "80/80 - 1s - loss: 0.4731 - mean_squared_error: 0.4731 - val_loss: 3.6393 - val_mean_squared_error: 3.6393\n",
      "Epoch 126/1000\n",
      "80/80 - 1s - loss: 0.4804 - mean_squared_error: 0.4804 - val_loss: 3.6784 - val_mean_squared_error: 3.6784\n",
      "Epoch 127/1000\n",
      "80/80 - 1s - loss: 0.4864 - mean_squared_error: 0.4864 - val_loss: 3.8136 - val_mean_squared_error: 3.8136\n",
      "Epoch 128/1000\n",
      "80/80 - 1s - loss: 0.5068 - mean_squared_error: 0.5068 - val_loss: 3.8828 - val_mean_squared_error: 3.8828\n",
      "Epoch 129/1000\n",
      "80/80 - 1s - loss: 0.5003 - mean_squared_error: 0.5003 - val_loss: 3.8177 - val_mean_squared_error: 3.8177\n",
      "Epoch 130/1000\n",
      "80/80 - 1s - loss: 0.4858 - mean_squared_error: 0.4858 - val_loss: 3.9082 - val_mean_squared_error: 3.9082\n",
      "Epoch 131/1000\n",
      "80/80 - 1s - loss: 0.4624 - mean_squared_error: 0.4624 - val_loss: 3.7508 - val_mean_squared_error: 3.7508\n",
      "Epoch 132/1000\n",
      "80/80 - 0s - loss: 0.4641 - mean_squared_error: 0.4641 - val_loss: 3.8264 - val_mean_squared_error: 3.8264\n",
      "Epoch 133/1000\n",
      "80/80 - 1s - loss: 0.4845 - mean_squared_error: 0.4845 - val_loss: 3.7542 - val_mean_squared_error: 3.7542\n",
      "Epoch 134/1000\n",
      "80/80 - 1s - loss: 0.4715 - mean_squared_error: 0.4715 - val_loss: 3.9198 - val_mean_squared_error: 3.9198\n",
      "Epoch 135/1000\n",
      "80/80 - 1s - loss: 0.4893 - mean_squared_error: 0.4893 - val_loss: 3.8397 - val_mean_squared_error: 3.8397\n",
      "Epoch 136/1000\n",
      "80/80 - 1s - loss: 0.4618 - mean_squared_error: 0.4618 - val_loss: 3.9004 - val_mean_squared_error: 3.9004\n"
     ]
    },
    {
     "name": "stdout",
     "output_type": "stream",
     "text": [
      "Epoch 137/1000\n",
      "80/80 - 1s - loss: 0.4618 - mean_squared_error: 0.4618 - val_loss: 3.6527 - val_mean_squared_error: 3.6527\n",
      "Epoch 138/1000\n",
      "80/80 - 1s - loss: 0.5029 - mean_squared_error: 0.5029 - val_loss: 3.6523 - val_mean_squared_error: 3.6523\n",
      "Epoch 139/1000\n",
      "80/80 - 1s - loss: 0.4678 - mean_squared_error: 0.4678 - val_loss: 3.6834 - val_mean_squared_error: 3.6834\n",
      "Epoch 140/1000\n",
      "80/80 - 1s - loss: 0.4616 - mean_squared_error: 0.4616 - val_loss: 3.7009 - val_mean_squared_error: 3.7009\n",
      "Epoch 141/1000\n",
      "80/80 - 0s - loss: 0.5036 - mean_squared_error: 0.5036 - val_loss: 3.7904 - val_mean_squared_error: 3.7904\n",
      "Epoch 142/1000\n",
      "80/80 - 1s - loss: 0.4752 - mean_squared_error: 0.4752 - val_loss: 3.6394 - val_mean_squared_error: 3.6394\n",
      "Epoch 143/1000\n",
      "80/80 - 0s - loss: 0.4795 - mean_squared_error: 0.4795 - val_loss: 3.6848 - val_mean_squared_error: 3.6848\n",
      "Epoch 144/1000\n",
      "80/80 - 1s - loss: 0.4478 - mean_squared_error: 0.4478 - val_loss: 3.6478 - val_mean_squared_error: 3.6478\n",
      "Epoch 145/1000\n",
      "80/80 - 1s - loss: 0.4338 - mean_squared_error: 0.4338 - val_loss: 3.7481 - val_mean_squared_error: 3.7481\n",
      "Epoch 146/1000\n",
      "80/80 - 1s - loss: 0.4318 - mean_squared_error: 0.4318 - val_loss: 3.8851 - val_mean_squared_error: 3.8851\n",
      "Epoch 147/1000\n",
      "80/80 - 0s - loss: 0.4202 - mean_squared_error: 0.4202 - val_loss: 3.8579 - val_mean_squared_error: 3.8579\n",
      "Epoch 148/1000\n",
      "80/80 - 1s - loss: 0.4379 - mean_squared_error: 0.4379 - val_loss: 3.8072 - val_mean_squared_error: 3.8072\n",
      "Epoch 149/1000\n",
      "80/80 - 1s - loss: 0.4463 - mean_squared_error: 0.4463 - val_loss: 3.8852 - val_mean_squared_error: 3.8852\n",
      "Epoch 150/1000\n",
      "80/80 - 1s - loss: 0.4525 - mean_squared_error: 0.4525 - val_loss: 3.7197 - val_mean_squared_error: 3.7197\n",
      "Epoch 151/1000\n",
      "80/80 - 1s - loss: 0.4507 - mean_squared_error: 0.4507 - val_loss: 3.7092 - val_mean_squared_error: 3.7092\n",
      "Epoch 152/1000\n",
      "80/80 - 0s - loss: 0.4655 - mean_squared_error: 0.4655 - val_loss: 3.7503 - val_mean_squared_error: 3.7503\n",
      "Epoch 153/1000\n",
      "80/80 - 1s - loss: 0.4615 - mean_squared_error: 0.4615 - val_loss: 3.6536 - val_mean_squared_error: 3.6536\n",
      "Epoch 154/1000\n",
      "80/80 - 1s - loss: 0.4424 - mean_squared_error: 0.4424 - val_loss: 3.8830 - val_mean_squared_error: 3.8830\n",
      "Epoch 155/1000\n",
      "80/80 - 1s - loss: 0.4362 - mean_squared_error: 0.4362 - val_loss: 3.7613 - val_mean_squared_error: 3.7613\n",
      "Epoch 156/1000\n",
      "80/80 - 1s - loss: 0.4270 - mean_squared_error: 0.4270 - val_loss: 3.9216 - val_mean_squared_error: 3.9216\n",
      "Epoch 157/1000\n",
      "80/80 - 1s - loss: 0.4406 - mean_squared_error: 0.4406 - val_loss: 3.7724 - val_mean_squared_error: 3.7724\n",
      "Epoch 158/1000\n",
      "80/80 - 1s - loss: 0.4234 - mean_squared_error: 0.4234 - val_loss: 3.8731 - val_mean_squared_error: 3.8731\n",
      "Epoch 159/1000\n",
      "80/80 - 0s - loss: 0.4358 - mean_squared_error: 0.4358 - val_loss: 3.7273 - val_mean_squared_error: 3.7273\n",
      "Epoch 160/1000\n",
      "80/80 - 0s - loss: 0.4515 - mean_squared_error: 0.4515 - val_loss: 3.6177 - val_mean_squared_error: 3.6177\n",
      "Epoch 161/1000\n",
      "80/80 - 1s - loss: 0.4594 - mean_squared_error: 0.4594 - val_loss: 3.9231 - val_mean_squared_error: 3.9231\n",
      "Epoch 162/1000\n",
      "80/80 - 1s - loss: 0.4503 - mean_squared_error: 0.4503 - val_loss: 3.7029 - val_mean_squared_error: 3.7029\n",
      "Epoch 163/1000\n",
      "80/80 - 0s - loss: 0.4304 - mean_squared_error: 0.4304 - val_loss: 3.7599 - val_mean_squared_error: 3.7599\n",
      "Epoch 164/1000\n",
      "80/80 - 1s - loss: 0.4095 - mean_squared_error: 0.4095 - val_loss: 3.6876 - val_mean_squared_error: 3.6876\n",
      "Epoch 165/1000\n",
      "80/80 - 1s - loss: 0.4156 - mean_squared_error: 0.4156 - val_loss: 3.7450 - val_mean_squared_error: 3.7450\n",
      "Epoch 166/1000\n",
      "80/80 - 1s - loss: 0.4316 - mean_squared_error: 0.4316 - val_loss: 3.8250 - val_mean_squared_error: 3.8250\n",
      "Epoch 167/1000\n",
      "80/80 - 1s - loss: 0.4527 - mean_squared_error: 0.4527 - val_loss: 3.9155 - val_mean_squared_error: 3.9155\n",
      "Epoch 168/1000\n",
      "80/80 - 1s - loss: 0.4274 - mean_squared_error: 0.4274 - val_loss: 3.7607 - val_mean_squared_error: 3.7607\n",
      "Epoch 169/1000\n",
      "80/80 - 1s - loss: 0.4224 - mean_squared_error: 0.4224 - val_loss: 3.8628 - val_mean_squared_error: 3.8628\n",
      "Epoch 170/1000\n",
      "80/80 - 1s - loss: 0.4277 - mean_squared_error: 0.4277 - val_loss: 3.6650 - val_mean_squared_error: 3.6650\n",
      "Epoch 171/1000\n",
      "80/80 - 1s - loss: 0.4176 - mean_squared_error: 0.4176 - val_loss: 3.7767 - val_mean_squared_error: 3.7767\n",
      "Epoch 172/1000\n",
      "80/80 - 0s - loss: 0.4121 - mean_squared_error: 0.4121 - val_loss: 3.8626 - val_mean_squared_error: 3.8626\n",
      "Epoch 173/1000\n",
      "80/80 - 1s - loss: 0.4080 - mean_squared_error: 0.4080 - val_loss: 3.9021 - val_mean_squared_error: 3.9021\n",
      "Epoch 174/1000\n",
      "80/80 - 1s - loss: 0.4030 - mean_squared_error: 0.4030 - val_loss: 3.9360 - val_mean_squared_error: 3.9360\n",
      "Epoch 175/1000\n",
      "80/80 - 0s - loss: 0.3987 - mean_squared_error: 0.3987 - val_loss: 4.0260 - val_mean_squared_error: 4.0260\n",
      "Epoch 176/1000\n",
      "80/80 - 1s - loss: 0.4531 - mean_squared_error: 0.4531 - val_loss: 3.6183 - val_mean_squared_error: 3.6183\n",
      "Epoch 177/1000\n",
      "80/80 - 0s - loss: 0.4861 - mean_squared_error: 0.4861 - val_loss: 3.7355 - val_mean_squared_error: 3.7355\n",
      "Epoch 178/1000\n",
      "80/80 - 0s - loss: 0.4626 - mean_squared_error: 0.4626 - val_loss: 4.1018 - val_mean_squared_error: 4.1018\n",
      "Epoch 179/1000\n",
      "80/80 - 0s - loss: 0.4383 - mean_squared_error: 0.4383 - val_loss: 3.7901 - val_mean_squared_error: 3.7901\n",
      "Epoch 180/1000\n",
      "80/80 - 1s - loss: 0.4153 - mean_squared_error: 0.4153 - val_loss: 3.7468 - val_mean_squared_error: 3.7468\n",
      "Epoch 181/1000\n",
      "80/80 - 1s - loss: 0.4155 - mean_squared_error: 0.4155 - val_loss: 3.8252 - val_mean_squared_error: 3.8252\n",
      "Epoch 182/1000\n",
      "80/80 - 1s - loss: 0.4102 - mean_squared_error: 0.4102 - val_loss: 3.7326 - val_mean_squared_error: 3.7326\n",
      "Epoch 183/1000\n",
      "80/80 - 1s - loss: 0.3978 - mean_squared_error: 0.3978 - val_loss: 3.7864 - val_mean_squared_error: 3.7864\n",
      "Epoch 184/1000\n",
      "80/80 - 1s - loss: 0.4006 - mean_squared_error: 0.4006 - val_loss: 3.9449 - val_mean_squared_error: 3.9449\n",
      "Epoch 185/1000\n",
      "80/80 - 0s - loss: 0.3906 - mean_squared_error: 0.3906 - val_loss: 3.8375 - val_mean_squared_error: 3.8375\n",
      "Epoch 186/1000\n",
      "80/80 - 0s - loss: 0.3993 - mean_squared_error: 0.3993 - val_loss: 4.2023 - val_mean_squared_error: 4.2023\n",
      "Epoch 187/1000\n",
      "80/80 - 1s - loss: 0.3886 - mean_squared_error: 0.3886 - val_loss: 3.9662 - val_mean_squared_error: 3.9662\n",
      "Epoch 188/1000\n",
      "80/80 - 0s - loss: 0.3791 - mean_squared_error: 0.3791 - val_loss: 3.8212 - val_mean_squared_error: 3.8212\n",
      "Epoch 189/1000\n",
      "80/80 - 1s - loss: 0.3864 - mean_squared_error: 0.3864 - val_loss: 4.0428 - val_mean_squared_error: 4.0428\n",
      "Epoch 190/1000\n",
      "80/80 - 0s - loss: 0.4031 - mean_squared_error: 0.4031 - val_loss: 3.8841 - val_mean_squared_error: 3.8841\n",
      "Epoch 191/1000\n",
      "80/80 - 0s - loss: 0.4103 - mean_squared_error: 0.4103 - val_loss: 3.8727 - val_mean_squared_error: 3.8727\n",
      "Epoch 192/1000\n",
      "80/80 - 1s - loss: 0.4283 - mean_squared_error: 0.4283 - val_loss: 3.8957 - val_mean_squared_error: 3.8957\n",
      "Epoch 193/1000\n",
      "80/80 - 1s - loss: 0.4100 - mean_squared_error: 0.4100 - val_loss: 3.8906 - val_mean_squared_error: 3.8906\n",
      "Epoch 194/1000\n",
      "80/80 - 0s - loss: 0.4161 - mean_squared_error: 0.4161 - val_loss: 4.0380 - val_mean_squared_error: 4.0380\n",
      "Epoch 195/1000\n",
      "80/80 - 1s - loss: 0.3954 - mean_squared_error: 0.3954 - val_loss: 3.8008 - val_mean_squared_error: 3.8008\n",
      "Epoch 196/1000\n",
      "80/80 - 1s - loss: 0.4003 - mean_squared_error: 0.4003 - val_loss: 3.9893 - val_mean_squared_error: 3.9893\n",
      "Epoch 197/1000\n",
      "80/80 - 1s - loss: 0.4035 - mean_squared_error: 0.4035 - val_loss: 3.9176 - val_mean_squared_error: 3.9176\n",
      "Epoch 198/1000\n",
      "80/80 - 0s - loss: 0.3923 - mean_squared_error: 0.3923 - val_loss: 3.7667 - val_mean_squared_error: 3.7667\n",
      "Epoch 199/1000\n",
      "80/80 - 0s - loss: 0.3827 - mean_squared_error: 0.3827 - val_loss: 4.0685 - val_mean_squared_error: 4.0685\n",
      "Epoch 200/1000\n",
      "80/80 - 0s - loss: 0.3756 - mean_squared_error: 0.3756 - val_loss: 4.0407 - val_mean_squared_error: 4.0407\n",
      "Epoch 201/1000\n",
      "80/80 - 0s - loss: 0.3991 - mean_squared_error: 0.3991 - val_loss: 3.9634 - val_mean_squared_error: 3.9634\n",
      "Epoch 202/1000\n",
      "80/80 - 0s - loss: 0.4192 - mean_squared_error: 0.4192 - val_loss: 4.1147 - val_mean_squared_error: 4.1147\n",
      "Epoch 203/1000\n",
      "80/80 - 0s - loss: 0.4231 - mean_squared_error: 0.4231 - val_loss: 3.7538 - val_mean_squared_error: 3.7538\n",
      "Epoch 204/1000\n",
      "80/80 - 1s - loss: 0.4262 - mean_squared_error: 0.4262 - val_loss: 3.8602 - val_mean_squared_error: 3.8602\n"
     ]
    },
    {
     "name": "stdout",
     "output_type": "stream",
     "text": [
      "Epoch 205/1000\n",
      "80/80 - 1s - loss: 0.4605 - mean_squared_error: 0.4605 - val_loss: 3.8539 - val_mean_squared_error: 3.8539\n",
      "Epoch 206/1000\n",
      "80/80 - 1s - loss: 0.4209 - mean_squared_error: 0.4209 - val_loss: 3.9689 - val_mean_squared_error: 3.9689\n",
      "Epoch 207/1000\n"
     ]
    },
    {
     "ename": "KeyboardInterrupt",
     "evalue": "",
     "output_type": "error",
     "traceback": [
      "\u001b[1;31m---------------------------------------------------------------------------\u001b[0m",
      "\u001b[1;31mKeyboardInterrupt\u001b[0m                         Traceback (most recent call last)",
      "\u001b[1;32m<ipython-input-92-8148b4ed90cb>\u001b[0m in \u001b[0;36m<module>\u001b[1;34m\u001b[0m\n\u001b[0;32m     10\u001b[0m \u001b[1;31m# defined by the feature_layer.\u001b[0m\u001b[1;33m\u001b[0m\u001b[1;33m\u001b[0m\u001b[1;33m\u001b[0m\u001b[0m\n\u001b[0;32m     11\u001b[0m \u001b[1;33m\u001b[0m\u001b[0m\n\u001b[1;32m---> 12\u001b[1;33m \u001b[0mmse_train_deep\u001b[0m\u001b[1;33m,\u001b[0m \u001b[0mmse_val_deep\u001b[0m \u001b[1;33m=\u001b[0m \u001b[0mtrain_model\u001b[0m\u001b[1;33m(\u001b[0m\u001b[0mmodel_deep\u001b[0m\u001b[1;33m,\u001b[0m \u001b[0mtrain_df\u001b[0m\u001b[1;33m,\u001b[0m \u001b[0mnumber_epochs\u001b[0m\u001b[1;33m,\u001b[0m \u001b[0mbatch_size\u001b[0m\u001b[1;33m,\u001b[0m \u001b[0mlabel_name\u001b[0m\u001b[1;33m)\u001b[0m\u001b[1;33m\u001b[0m\u001b[1;33m\u001b[0m\u001b[0m\n\u001b[0m\u001b[0;32m     13\u001b[0m \u001b[0mplot_the_loss_curve\u001b[0m\u001b[1;33m(\u001b[0m\u001b[0mmse_train_deep\u001b[0m\u001b[1;33m,\u001b[0m \u001b[0mmse_val_deep\u001b[0m\u001b[1;33m)\u001b[0m\u001b[1;33m\u001b[0m\u001b[1;33m\u001b[0m\u001b[0m\n",
      "\u001b[1;32m<ipython-input-85-f377df9d5f2c>\u001b[0m in \u001b[0;36mtrain_model\u001b[1;34m(model, dataset, epochs, batch_size, label_name)\u001b[0m\n\u001b[0;32m     13\u001b[0m                         \u001b[0mshuffle\u001b[0m\u001b[1;33m=\u001b[0m\u001b[1;32mTrue\u001b[0m\u001b[1;33m,\u001b[0m\u001b[1;33m\u001b[0m\u001b[1;33m\u001b[0m\u001b[0m\n\u001b[0;32m     14\u001b[0m                         \u001b[0mworkers\u001b[0m\u001b[1;33m=\u001b[0m\u001b[1;36m4\u001b[0m\u001b[1;33m,\u001b[0m\u001b[1;33m\u001b[0m\u001b[1;33m\u001b[0m\u001b[0m\n\u001b[1;32m---> 15\u001b[1;33m                         use_multiprocessing=True)\n\u001b[0m\u001b[0;32m     16\u001b[0m \u001b[1;33m\u001b[0m\u001b[0m\n\u001b[0;32m     17\u001b[0m     \u001b[1;31m# Get details that will be useful for plotting the loss curve.\u001b[0m\u001b[1;33m\u001b[0m\u001b[1;33m\u001b[0m\u001b[1;33m\u001b[0m\u001b[0m\n",
      "\u001b[1;32m~\\AppData\\Local\\Continuum\\anaconda3\\lib\\site-packages\\tensorflow\\python\\keras\\engine\\training.py\u001b[0m in \u001b[0;36mfit\u001b[1;34m(self, x, y, batch_size, epochs, verbose, callbacks, validation_split, validation_data, shuffle, class_weight, sample_weight, initial_epoch, steps_per_epoch, validation_steps, validation_batch_size, validation_freq, max_queue_size, workers, use_multiprocessing)\u001b[0m\n\u001b[0;32m   1181\u001b[0m                 _r=1):\n\u001b[0;32m   1182\u001b[0m               \u001b[0mcallbacks\u001b[0m\u001b[1;33m.\u001b[0m\u001b[0mon_train_batch_begin\u001b[0m\u001b[1;33m(\u001b[0m\u001b[0mstep\u001b[0m\u001b[1;33m)\u001b[0m\u001b[1;33m\u001b[0m\u001b[1;33m\u001b[0m\u001b[0m\n\u001b[1;32m-> 1183\u001b[1;33m               \u001b[0mtmp_logs\u001b[0m \u001b[1;33m=\u001b[0m \u001b[0mself\u001b[0m\u001b[1;33m.\u001b[0m\u001b[0mtrain_function\u001b[0m\u001b[1;33m(\u001b[0m\u001b[0miterator\u001b[0m\u001b[1;33m)\u001b[0m\u001b[1;33m\u001b[0m\u001b[1;33m\u001b[0m\u001b[0m\n\u001b[0m\u001b[0;32m   1184\u001b[0m               \u001b[1;32mif\u001b[0m \u001b[0mdata_handler\u001b[0m\u001b[1;33m.\u001b[0m\u001b[0mshould_sync\u001b[0m\u001b[1;33m:\u001b[0m\u001b[1;33m\u001b[0m\u001b[1;33m\u001b[0m\u001b[0m\n\u001b[0;32m   1185\u001b[0m                 \u001b[0mcontext\u001b[0m\u001b[1;33m.\u001b[0m\u001b[0masync_wait\u001b[0m\u001b[1;33m(\u001b[0m\u001b[1;33m)\u001b[0m\u001b[1;33m\u001b[0m\u001b[1;33m\u001b[0m\u001b[0m\n",
      "\u001b[1;32m~\\AppData\\Local\\Continuum\\anaconda3\\lib\\site-packages\\tensorflow\\python\\eager\\def_function.py\u001b[0m in \u001b[0;36m__call__\u001b[1;34m(self, *args, **kwds)\u001b[0m\n\u001b[0;32m    887\u001b[0m \u001b[1;33m\u001b[0m\u001b[0m\n\u001b[0;32m    888\u001b[0m       \u001b[1;32mwith\u001b[0m \u001b[0mOptionalXlaContext\u001b[0m\u001b[1;33m(\u001b[0m\u001b[0mself\u001b[0m\u001b[1;33m.\u001b[0m\u001b[0m_jit_compile\u001b[0m\u001b[1;33m)\u001b[0m\u001b[1;33m:\u001b[0m\u001b[1;33m\u001b[0m\u001b[1;33m\u001b[0m\u001b[0m\n\u001b[1;32m--> 889\u001b[1;33m         \u001b[0mresult\u001b[0m \u001b[1;33m=\u001b[0m \u001b[0mself\u001b[0m\u001b[1;33m.\u001b[0m\u001b[0m_call\u001b[0m\u001b[1;33m(\u001b[0m\u001b[1;33m*\u001b[0m\u001b[0margs\u001b[0m\u001b[1;33m,\u001b[0m \u001b[1;33m**\u001b[0m\u001b[0mkwds\u001b[0m\u001b[1;33m)\u001b[0m\u001b[1;33m\u001b[0m\u001b[1;33m\u001b[0m\u001b[0m\n\u001b[0m\u001b[0;32m    890\u001b[0m \u001b[1;33m\u001b[0m\u001b[0m\n\u001b[0;32m    891\u001b[0m       \u001b[0mnew_tracing_count\u001b[0m \u001b[1;33m=\u001b[0m \u001b[0mself\u001b[0m\u001b[1;33m.\u001b[0m\u001b[0mexperimental_get_tracing_count\u001b[0m\u001b[1;33m(\u001b[0m\u001b[1;33m)\u001b[0m\u001b[1;33m\u001b[0m\u001b[1;33m\u001b[0m\u001b[0m\n",
      "\u001b[1;32m~\\AppData\\Local\\Continuum\\anaconda3\\lib\\site-packages\\tensorflow\\python\\eager\\def_function.py\u001b[0m in \u001b[0;36m_call\u001b[1;34m(self, *args, **kwds)\u001b[0m\n\u001b[0;32m    915\u001b[0m       \u001b[1;31m# In this case we have created variables on the first call, so we run the\u001b[0m\u001b[1;33m\u001b[0m\u001b[1;33m\u001b[0m\u001b[1;33m\u001b[0m\u001b[0m\n\u001b[0;32m    916\u001b[0m       \u001b[1;31m# defunned version which is guaranteed to never create variables.\u001b[0m\u001b[1;33m\u001b[0m\u001b[1;33m\u001b[0m\u001b[1;33m\u001b[0m\u001b[0m\n\u001b[1;32m--> 917\u001b[1;33m       \u001b[1;32mreturn\u001b[0m \u001b[0mself\u001b[0m\u001b[1;33m.\u001b[0m\u001b[0m_stateless_fn\u001b[0m\u001b[1;33m(\u001b[0m\u001b[1;33m*\u001b[0m\u001b[0margs\u001b[0m\u001b[1;33m,\u001b[0m \u001b[1;33m**\u001b[0m\u001b[0mkwds\u001b[0m\u001b[1;33m)\u001b[0m  \u001b[1;31m# pylint: disable=not-callable\u001b[0m\u001b[1;33m\u001b[0m\u001b[1;33m\u001b[0m\u001b[0m\n\u001b[0m\u001b[0;32m    918\u001b[0m     \u001b[1;32melif\u001b[0m \u001b[0mself\u001b[0m\u001b[1;33m.\u001b[0m\u001b[0m_stateful_fn\u001b[0m \u001b[1;32mis\u001b[0m \u001b[1;32mnot\u001b[0m \u001b[1;32mNone\u001b[0m\u001b[1;33m:\u001b[0m\u001b[1;33m\u001b[0m\u001b[1;33m\u001b[0m\u001b[0m\n\u001b[0;32m    919\u001b[0m       \u001b[1;31m# Release the lock early so that multiple threads can perform the call\u001b[0m\u001b[1;33m\u001b[0m\u001b[1;33m\u001b[0m\u001b[1;33m\u001b[0m\u001b[0m\n",
      "\u001b[1;32m~\\AppData\\Local\\Continuum\\anaconda3\\lib\\site-packages\\tensorflow\\python\\eager\\function.py\u001b[0m in \u001b[0;36m__call__\u001b[1;34m(self, *args, **kwargs)\u001b[0m\n\u001b[0;32m   3022\u001b[0m        filtered_flat_args) = self._maybe_define_function(args, kwargs)\n\u001b[0;32m   3023\u001b[0m     return graph_function._call_flat(\n\u001b[1;32m-> 3024\u001b[1;33m         filtered_flat_args, captured_inputs=graph_function.captured_inputs)  # pylint: disable=protected-access\n\u001b[0m\u001b[0;32m   3025\u001b[0m \u001b[1;33m\u001b[0m\u001b[0m\n\u001b[0;32m   3026\u001b[0m   \u001b[1;33m@\u001b[0m\u001b[0mproperty\u001b[0m\u001b[1;33m\u001b[0m\u001b[1;33m\u001b[0m\u001b[0m\n",
      "\u001b[1;32m~\\AppData\\Local\\Continuum\\anaconda3\\lib\\site-packages\\tensorflow\\python\\eager\\function.py\u001b[0m in \u001b[0;36m_call_flat\u001b[1;34m(self, args, captured_inputs, cancellation_manager)\u001b[0m\n\u001b[0;32m   1959\u001b[0m       \u001b[1;31m# No tape is watching; skip to running the function.\u001b[0m\u001b[1;33m\u001b[0m\u001b[1;33m\u001b[0m\u001b[1;33m\u001b[0m\u001b[0m\n\u001b[0;32m   1960\u001b[0m       return self._build_call_outputs(self._inference_function.call(\n\u001b[1;32m-> 1961\u001b[1;33m           ctx, args, cancellation_manager=cancellation_manager))\n\u001b[0m\u001b[0;32m   1962\u001b[0m     forward_backward = self._select_forward_and_backward_functions(\n\u001b[0;32m   1963\u001b[0m         \u001b[0margs\u001b[0m\u001b[1;33m,\u001b[0m\u001b[1;33m\u001b[0m\u001b[1;33m\u001b[0m\u001b[0m\n",
      "\u001b[1;32m~\\AppData\\Local\\Continuum\\anaconda3\\lib\\site-packages\\tensorflow\\python\\eager\\function.py\u001b[0m in \u001b[0;36mcall\u001b[1;34m(self, ctx, args, cancellation_manager)\u001b[0m\n\u001b[0;32m    594\u001b[0m               \u001b[0minputs\u001b[0m\u001b[1;33m=\u001b[0m\u001b[0margs\u001b[0m\u001b[1;33m,\u001b[0m\u001b[1;33m\u001b[0m\u001b[1;33m\u001b[0m\u001b[0m\n\u001b[0;32m    595\u001b[0m               \u001b[0mattrs\u001b[0m\u001b[1;33m=\u001b[0m\u001b[0mattrs\u001b[0m\u001b[1;33m,\u001b[0m\u001b[1;33m\u001b[0m\u001b[1;33m\u001b[0m\u001b[0m\n\u001b[1;32m--> 596\u001b[1;33m               ctx=ctx)\n\u001b[0m\u001b[0;32m    597\u001b[0m         \u001b[1;32melse\u001b[0m\u001b[1;33m:\u001b[0m\u001b[1;33m\u001b[0m\u001b[1;33m\u001b[0m\u001b[0m\n\u001b[0;32m    598\u001b[0m           outputs = execute.execute_with_cancellation(\n",
      "\u001b[1;32m~\\AppData\\Local\\Continuum\\anaconda3\\lib\\site-packages\\tensorflow\\python\\eager\\execute.py\u001b[0m in \u001b[0;36mquick_execute\u001b[1;34m(op_name, num_outputs, inputs, attrs, ctx, name)\u001b[0m\n\u001b[0;32m     58\u001b[0m     \u001b[0mctx\u001b[0m\u001b[1;33m.\u001b[0m\u001b[0mensure_initialized\u001b[0m\u001b[1;33m(\u001b[0m\u001b[1;33m)\u001b[0m\u001b[1;33m\u001b[0m\u001b[1;33m\u001b[0m\u001b[0m\n\u001b[0;32m     59\u001b[0m     tensors = pywrap_tfe.TFE_Py_Execute(ctx._handle, device_name, op_name,\n\u001b[1;32m---> 60\u001b[1;33m                                         inputs, attrs, num_outputs)\n\u001b[0m\u001b[0;32m     61\u001b[0m   \u001b[1;32mexcept\u001b[0m \u001b[0mcore\u001b[0m\u001b[1;33m.\u001b[0m\u001b[0m_NotOkStatusException\u001b[0m \u001b[1;32mas\u001b[0m \u001b[0me\u001b[0m\u001b[1;33m:\u001b[0m\u001b[1;33m\u001b[0m\u001b[1;33m\u001b[0m\u001b[0m\n\u001b[0;32m     62\u001b[0m     \u001b[1;32mif\u001b[0m \u001b[0mname\u001b[0m \u001b[1;32mis\u001b[0m \u001b[1;32mnot\u001b[0m \u001b[1;32mNone\u001b[0m\u001b[1;33m:\u001b[0m\u001b[1;33m\u001b[0m\u001b[1;33m\u001b[0m\u001b[0m\n",
      "\u001b[1;31mKeyboardInterrupt\u001b[0m: "
     ]
    }
   ],
   "source": [
    "learning_rate = 0.01\n",
    "number_epochs = 1000\n",
    "batch_size = 256\n",
    "label_name = \"n_trips\"\n",
    "\n",
    "\n",
    "model_deep = create_model_deep('deep', learning_rate, my_feature_layer, [128, 64, 32,16])\n",
    "# Train the model on the normalized training set. We're passing the entire\n",
    "# normalized training set, but the model will only use the features\n",
    "# defined by the feature_layer.\n",
    "\n",
    "mse_train_deep, mse_val_deep = train_model(model_deep, train_df, number_epochs, batch_size, label_name)\n",
    "plot_the_loss_curve(mse_train_deep, mse_val_deep)"
   ]
  },
  {
   "cell_type": "markdown",
   "metadata": {},
   "source": [
    "### Neural Network"
   ]
  },
  {
   "cell_type": "code",
   "execution_count": null,
   "metadata": {},
   "outputs": [],
   "source": [
<<<<<<< HEAD
=======
    "from sklearn.model_selection import RandomizedSearchCV\n",
    "from keras.models import Sequential\n",
    "from keras.layers import Dense\n",
    "from keras.wrappers.scikit_learn import KerasRegressor\n",
    "import tensorflow as tf\n",
    "from keras.layers import Dropout"
   ]
  },
  {
   "cell_type": "code",
   "execution_count": null,
   "metadata": {},
   "outputs": [],
   "source": [
    "def train_model(model, dataset, epochs, batch_size, label_name):\n",
    "    \"\"\"Feed a dataset into the model in order to train it.\"\"\"\n",
    "\n",
    "    # Split the dataset into features and label.\n",
    "    features = {name:np.array(value) for name, value in dataset.items()}\n",
    "    label = np.array(features.pop(label_name))\n",
    "    history = model.fit(x=features, \n",
    "                        y=label, \n",
    "                        batch_size=batch_size,\n",
    "                        epochs=epochs, \n",
    "                        verbose=2,\n",
    "                        validation_split=0.2, \n",
    "                        shuffle=True, \n",
    "                        workers=4, \n",
    "                        use_multiprocessing=True)\n",
    "\n",
    "    # Get details that will be useful for plotting the loss curve.\n",
    "    mse_train = history.history['loss']\n",
    "    mse_val = history.history['val_loss']\n",
    "\n",
    "    return mse_train, mse_val"
   ]
  },
  {
   "cell_type": "code",
   "execution_count": null,
   "metadata": {},
   "outputs": [],
   "source": [
    "def create_model_deep(name, learn_rate, my_feature_layer,dropout_rate, layers):\n",
    "   \n",
    "    model = tf.keras.models.Sequential(name = name)\n",
    "    model.add(my_feature_layer)\n",
    "\n",
    "    for index, layer in enumerate(layers):\n",
    "\n",
    "        model.add(tf.keras.layers.Dense(units = layer,\n",
    "                                       activation = 'relu',\n",
    "                                       name=f'Hidden{index}'))\n",
    "    model.add(Dropout(dropout_rate))   \n",
    "    model.add(tf.keras.layers.Dense(units=1, name='Output'))                              \n",
    "\n",
    "    model.compile(optimizer=tf.keras.optimizers.Adam(lr=learn_rate),\n",
    "                loss=\"mean_squared_error\",\n",
    "                metrics=[tf.keras.metrics.MeanSquaredError()])\n",
    "    return model"
   ]
  },
  {
   "cell_type": "code",
   "execution_count": null,
   "metadata": {},
   "outputs": [],
   "source": [
    "#@title Define the plotting function.\n",
    "\n",
    "def plot_the_loss_curve(mse_train, mse_val):\n",
    "    \"\"\"Plot a curve of loss vs. epoch.\"\"\"\n",
    "\n",
    "    plt.figure(figsize=(10, 8))\n",
    "    plt.xlabel(\"Epoch\")\n",
    "    plt.ylabel(\"Mean Squared Error\")\n",
    "\n",
    "    plt.plot(mse_train, label=\"Training Loss\")\n",
    "    plt.plot(mse_val, label=\"Validation Loss\")\n",
    "    plt.legend()\n",
    "    # plt.ylim([mse.min()*0.95, mse.max() * 1.03])\n",
    "    plt.show()  "
   ]
  },
  {
   "cell_type": "code",
   "execution_count": null,
   "metadata": {},
   "outputs": [],
   "source": [
    "train_df = pd.concat([x_train, y_train],axis = 1)\n",
    "\n",
    "test_df = pd.concat([x_test,y_test],axis =1)\n"
   ]
  },
  {
   "cell_type": "code",
   "execution_count": null,
   "metadata": {},
   "outputs": [],
   "source": [
    "one_hot_labs = [c for c in train_df if train_df[c].dtype == 'uint8']\n",
    "num_labs = ['NUMADLT','YOUNGCHILD','WRKCOUNT']"
   ]
  },
  {
   "cell_type": "code",
   "execution_count": null,
   "metadata": {},
   "outputs": [],
   "source": [
    "one_hot_labs"
   ]
  },
  {
   "cell_type": "code",
   "execution_count": null,
   "metadata": {},
   "outputs": [],
   "source": [
    "for i in one_hot_labs:\n",
    "    train_df[i] = train_df[i]\n"
   ]
  },
  {
   "cell_type": "code",
   "execution_count": null,
   "metadata": {},
   "outputs": [],
   "source": [
    "feature_columns = []\n",
    "\n",
    "for i in num_labs: \n",
    "    i = tf.feature_column.numeric_column(i)\n",
    "    feature_columns.append(i)\n",
    "\n",
    "for k in one_hot_labs:\n",
    "    k = tf.feature_column.numeric_column(k)\n",
    "    feature_columns.append(k)\n",
    "    \n",
    "my_feature_layer = tf.keras.layers.DenseFeatures(feature_columns)"
   ]
  },
  {
   "cell_type": "code",
   "execution_count": null,
   "metadata": {},
   "outputs": [],
   "source": [
    "learn_rate = [0.01,0.1,0.3]\n",
    "batch_size = [128,256]\n",
    "dropout_rate = [0,0.1,0.3,0.5]\n",
    "label_name = \"n_trips\"\n",
    "name = ['deep']\n",
    "my_feature_layer = [my_feature_layer]\n",
    "layers = [128, 64, 32,16]\n",
    "\n",
    "\n",
    "param_grid = dict(learn_rate = learn_rate,\n",
    "                 dropout_rate = dropout_rate,\n",
    "                 name= name,\n",
    "                 my_feature_layer= my_feature_layer,\n",
    "                 layers = layers)\n",
    "\n",
    "\n",
    "#how to created randomizedsearchcv here\n",
    "\n",
    "model_deep = KerasRegressor(build_fn = create_model_deep, epochs = 300, batch_size = 256, verbose =0)\n",
    "\n",
    "#model_deep = create_model_deep('deep', 0.01, my_feature_layer, 0 ,[128, 64, 32,16])\n",
    "\n",
    "grid = RandomizedSearchCV(estimator = model_deep, param_distributions = param_grid, n_jobs = 3, scoring='neg_mean_squared_error')\n",
    "grid_result = grid.fit(x_train, y_train)\n",
    "\n",
    "#mse_train_deep, mse_val_deep = train_model(model_deep, train_df, number_epochs, batch_size, label_name)\n",
    "#plot_the_loss_curve(mse_train_deep, mse_val_deep)"
   ]
  },
  {
   "cell_type": "code",
   "execution_count": null,
   "metadata": {},
   "outputs": [],
   "source": [
>>>>>>> 887b8b7d227b61825d01de448c637445f09f3deb
    "train_features = {name:np.array(value) for name, value in train_df.items()}\n",
    "train_label = np.array(train_features.pop(label_name)) # isolate the label\n",
    "\n",
    "print(\"\\nEvaluate the linear regression model on the training set:\")\n",
    "result = model_deep.evaluate(x=train_features, y=train_label, batch_size=batch_size)\n",
    "\n",
<<<<<<< HEAD
    "for item in zip(model_lr.metrics_names, result):\n",
    "    print (item[0], np.round(item[1], 3))\n",
    "    \n",
=======
    "\n",
>>>>>>> 887b8b7d227b61825d01de448c637445f09f3deb
    "test_features = {name:np.array(value) for name, value in test_df.items()}\n",
    "test_label = np.array(test_features.pop(label_name)) # isolate the label\n",
    "\n",
    "print(\"\\nEvaluate the linear regression model on the test set:\")\n",
    "result = model_deep.evaluate(x=test_features, y=test_label, batch_size=batch_size)\n",
<<<<<<< HEAD
    "\n",
    "for item in zip(model_lr.metrics_names, result):\n",
    "    print (item[0], np.round(item[1], 3))"
=======
    "\n"
>>>>>>> 887b8b7d227b61825d01de448c637445f09f3deb
   ]
  },
  {
   "cell_type": "code",
   "execution_count": null,
   "metadata": {},
   "outputs": [],
   "source": [
    "model_deep.summary()"
   ]
  },
  {
   "cell_type": "code",
   "execution_count": null,
   "metadata": {},
   "outputs": [],
   "source": [
    "plt.figure(figsize=(10, 8))\n",
    "plt.xlabel(\"Epoch\")\n",
    "plt.ylabel(\"Mean Squared Error\")\n",
    "\n",
    "plt.plot(savgol_filter(mse_train_deep, 51, 2), label=\"(Training Loss) Deep Model\")\n",
    "plt.plot(savgol_filter(mse_val_deep, 51, 2), label=\"(Validation Loss) Deep Model\")\n",
    "\n",
    "plt.legend()\n",
    "plt.show() "
   ]
<<<<<<< HEAD
=======
  },
  {
   "cell_type": "markdown",
   "metadata": {},
   "source": [
    "## X_train_dist"
   ]
  },
  {
   "cell_type": "code",
   "execution_count": null,
   "metadata": {},
   "outputs": [],
   "source": [
    "# run models with x_train_dist here - probably for each (linear vs ensemble vs nn) choose the best (E.G. run L2_linear, xgboost , NN )"
   ]
  },
  {
   "cell_type": "code",
   "execution_count": null,
   "metadata": {},
   "outputs": [],
   "source": [
    "LRmodel_with_dist = linear_model.LinearRegression()  #create the linear regression \n",
    "LRmodel_with_dist.fit(x_train_with_dist,y_train) #train the model using the training set \n",
    "LR_pred_with_dist = LRmodel_with_dist.predict(x_test_with_dist) #use this model to predict the test data set "
   ]
  },
  {
   "cell_type": "code",
   "execution_count": null,
   "metadata": {},
   "outputs": [],
   "source": [
    "print('R^2 score:\\t\\t\\t\\t',LRmodel_with_dist.score(x_test_with_dist, y_test)) #compute R^2 score \n",
    "print('Explained Variance: \\t\\t\\t', metrics.explained_variance_score(y_test, LR_pred_with_dist)) #compute explained variance score\n",
    "print('Mean Absolute Error: \\t\\t\\t', metrics.mean_absolute_error(y_test, LR_pred_with_dist)) #compute MAE results\n",
    "print('Mean Squared Error:\\t\\t\\t', metrics.mean_squared_error(y_test, LR_pred_with_dist)) #compute MSE results\n",
    "print('Root Mean Squared Error:\\t\\t', metrics.mean_squared_error(y_test, LR_pred_with_dist, squared = False)) #compute RSME results\n",
    "print('Intercept:\\t', LRmodel_with_dist.intercept_) #find intercept value \n",
    "print('Coef:\\t', np.sum(LRmodel_with_dist.coef_!=0))#find no of features used in regression model "
   ]
>>>>>>> 887b8b7d227b61825d01de448c637445f09f3deb
  }
 ],
 "metadata": {
  "kernelspec": {
   "display_name": "Python 3",
   "language": "python",
   "name": "python3"
  },
  "language_info": {
   "codemirror_mode": {
    "name": "ipython",
    "version": 3
   },
   "file_extension": ".py",
   "mimetype": "text/x-python",
   "name": "python",
   "nbconvert_exporter": "python",
   "pygments_lexer": "ipython3",
   "version": "3.7.7"
  }
 },
 "nbformat": 4,
 "nbformat_minor": 2
}
