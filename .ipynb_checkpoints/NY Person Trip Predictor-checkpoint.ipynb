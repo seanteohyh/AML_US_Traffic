{
 "cells": [
  {
   "cell_type": "markdown",
   "metadata": {},
   "source": [
    "# NY Person Trip Predictor"
   ]
  },
  {
   "cell_type": "code",
   "execution_count": 1,
   "metadata": {},
   "outputs": [],
   "source": [
    "import pandas as pd\n",
    "import numpy as np\n",
    "import datetime\n",
    "import matplotlib.pyplot as plt\n",
    "import seaborn as sns\n",
    "%matplotlib inline\n",
    "from sklearn import model_selection\n",
    "import warnings\n",
    "import math\n",
    "\n",
    "warnings.filterwarnings('ignore')"
   ]
  },
  {
   "cell_type": "code",
   "execution_count": 2,
   "metadata": {},
   "outputs": [],
   "source": [
    "path = \"C:/Users/Seant/Desktop/aml_data\" #edit this path to change to your path folder\n",
    "\n",
    "#path = \"/Users/jayneteo/Dropbox/SMU MITB/Term 2 2021/AML/Project/NHTS/csv\" \n",
    "\n",
    "household = pd.read_csv(\"\".join([path,'/hhpub.csv']))\n",
    "person =  pd.read_csv(\"\".join([path,'/perpub.csv']))\n",
    "trip =  pd.read_csv(\"\".join([path,'/trippub.csv']))"
   ]
  },
  {
   "cell_type": "code",
   "execution_count": 3,
   "metadata": {},
   "outputs": [],
   "source": [
    "#define function \n",
    "\n",
    "def cat_col_prop(data, col):\n",
    "    print(pd.concat([data[col].value_counts(),\n",
    "          data[col].value_counts(normalize = True).mul(100)],axis = 1, keys = ('counts','percentage')))\n",
    "\n",
    "    sns.countplot(data[col], order =  data[col].value_counts().index)"
   ]
  },
  {
   "cell_type": "markdown",
   "metadata": {},
   "source": [
    "## 1. Merging of Data"
   ]
  },
  {
   "cell_type": "markdown",
   "metadata": {},
   "source": [
    "### 1.1. Household"
   ]
  },
  {
   "cell_type": "code",
   "execution_count": 4,
   "metadata": {},
   "outputs": [],
   "source": [
    "#filtering NY Households\n",
    "ny = household[household['HHSTATE'] == \"NY\"]\n",
    "\n",
    "# as only studying hh with car will also filter out hh with HHVEHCNT == 0\n",
    "ny = ny[ny['HHVEHCNT']>0]"
   ]
  },
  {
   "cell_type": "code",
   "execution_count": 5,
   "metadata": {},
   "outputs": [],
   "source": [
    "# selection of columns based on prior background inference of potential features\n",
    "ny = ny[['HOUSEID','HH_CBSA','HOMEOWN','HHSIZE','HHVEHCNT','HHFAMINC','NUMADLT','YOUNGCHILD','WRKCOUNT','MSACAT','MSASIZE','URBAN','URBANSIZE','URBRUR','LIF_CYC']]"
   ]
  },
  {
   "cell_type": "markdown",
   "metadata": {},
   "source": [
    "### 1.2 Trips"
   ]
  },
  {
   "cell_type": "code",
   "execution_count": 6,
   "metadata": {},
   "outputs": [],
   "source": [
    "ny_trip = trip[trip['HOUSEID'].isin(ny['HOUSEID'])]"
   ]
  },
  {
   "cell_type": "code",
   "execution_count": 7,
   "metadata": {},
   "outputs": [],
   "source": [
    "# selecting trips that were done using either 3.Car, 4.SUV, 5.Van\n",
    "ny_trip = ny_trip[ny_trip['TRPTRANS'].isin([3,4,5])]"
   ]
  },
  {
   "cell_type": "code",
   "execution_count": 8,
   "metadata": {},
   "outputs": [
    {
     "name": "stdout",
     "output_type": "stream",
     "text": [
      "# of trips with dist <=0, 22  out of 87307\n"
     ]
    }
   ],
   "source": [
    "# since only 24 lines with trip distance <= 0, removed lines\n",
    "print('# of trips with dist <=0,', str(sum(ny_trip['TRPMILES']<=0)),' out of', str(len(ny_trip)))\n",
    "ny_trip = ny_trip[ny_trip['TRPMILES']>0]"
   ]
  },
  {
   "cell_type": "code",
   "execution_count": 9,
   "metadata": {},
   "outputs": [
    {
     "name": "stdout",
     "output_type": "stream",
     "text": [
      "84  trips missing TRVLCMIN info so will just remove since only  0.09623646674686373 %\n"
     ]
    }
   ],
   "source": [
    "print(str(sum(ny_trip['TRVLCMIN']<=0)), ' trips missing TRVLCMIN info so will just remove since only ',str(sum(ny_trip['TRVLCMIN']<=0)/len(ny_trip)*100),\"%\")\n",
    "ny_trip = ny_trip[ny_trip['TRVLCMIN']>0]"
   ]
  },
  {
   "cell_type": "code",
   "execution_count": 10,
   "metadata": {},
   "outputs": [],
   "source": [
    "# Summarise to Person trip counts \n",
    "ny_trip_count = ny_trip[['HOUSEID','PERSONID','TRAVDAY']].groupby(['HOUSEID','PERSONID']).agg('count').reset_index().rename(columns = {'TRAVDAY':'n_trips'})"
   ]
  },
  {
   "cell_type": "code",
   "execution_count": 11,
   "metadata": {},
   "outputs": [
    {
     "data": {
      "text/html": [
       "<div>\n",
       "<style scoped>\n",
       "    .dataframe tbody tr th:only-of-type {\n",
       "        vertical-align: middle;\n",
       "    }\n",
       "\n",
       "    .dataframe tbody tr th {\n",
       "        vertical-align: top;\n",
       "    }\n",
       "\n",
       "    .dataframe thead th {\n",
       "        text-align: right;\n",
       "    }\n",
       "</style>\n",
       "<table border=\"1\" class=\"dataframe\">\n",
       "  <thead>\n",
       "    <tr style=\"text-align: right;\">\n",
       "      <th></th>\n",
       "      <th>HOUSEID</th>\n",
       "      <th>PERSONID</th>\n",
       "      <th>n_trips</th>\n",
       "    </tr>\n",
       "  </thead>\n",
       "  <tbody>\n",
       "    <tr>\n",
       "      <th>0</th>\n",
       "      <td>30000012</td>\n",
       "      <td>1</td>\n",
       "      <td>9</td>\n",
       "    </tr>\n",
       "    <tr>\n",
       "      <th>1</th>\n",
       "      <td>30000082</td>\n",
       "      <td>1</td>\n",
       "      <td>5</td>\n",
       "    </tr>\n",
       "    <tr>\n",
       "      <th>2</th>\n",
       "      <td>30000082</td>\n",
       "      <td>2</td>\n",
       "      <td>5</td>\n",
       "    </tr>\n",
       "    <tr>\n",
       "      <th>3</th>\n",
       "      <td>30000380</td>\n",
       "      <td>1</td>\n",
       "      <td>3</td>\n",
       "    </tr>\n",
       "    <tr>\n",
       "      <th>4</th>\n",
       "      <td>30000380</td>\n",
       "      <td>2</td>\n",
       "      <td>8</td>\n",
       "    </tr>\n",
       "  </tbody>\n",
       "</table>\n",
       "</div>"
      ],
      "text/plain": [
       "    HOUSEID  PERSONID  n_trips\n",
       "0  30000012         1        9\n",
       "1  30000082         1        5\n",
       "2  30000082         2        5\n",
       "3  30000380         1        3\n",
       "4  30000380         2        8"
      ]
     },
     "execution_count": 11,
     "metadata": {},
     "output_type": "execute_result"
    }
   ],
   "source": [
    "ny_trip_count.head()"
   ]
  },
  {
   "cell_type": "markdown",
   "metadata": {},
   "source": [
    "## 1.3 People"
   ]
  },
  {
   "cell_type": "code",
   "execution_count": 12,
   "metadata": {},
   "outputs": [],
   "source": [
    "# filtering people from New York\n",
    "nyorker = person[person['HOUSEID'].isin(ny['HOUSEID'])]"
   ]
  },
  {
   "cell_type": "code",
   "execution_count": 13,
   "metadata": {},
   "outputs": [],
   "source": [
    "# selection of columns based on prior background inference of potential features\n",
    "nyorker = nyorker[['HOUSEID','PERSONID','R_AGE','EDUC','R_RACE','R_SEX','WRK_HOME','WKFTPT','OCCAT','DRIVER','TRAVDAY']]"
   ]
  },
  {
   "cell_type": "code",
   "execution_count": 14,
   "metadata": {},
   "outputs": [],
   "source": [
    "# merging of Person, Household and Trips to Person\n",
    "df = nyorker.merge(ny, how = 'left', left_on = 'HOUSEID', right_on = 'HOUSEID')\n",
    "df = df.merge(ny_trip_count, how = 'left', left_on= ['HOUSEID','PERSONID'], right_on = ['HOUSEID','PERSONID'])"
   ]
  },
  {
   "cell_type": "code",
   "execution_count": 15,
   "metadata": {},
   "outputs": [],
   "source": [
    "# Replace NA trip counts with 0\n",
    "df['n_trips'][df['n_trips'].isna()] = 0\n",
    "#df = df[df['n_trips']>0]\n",
    "#df = df[df['n_trips']<10]"
   ]
  },
  {
   "cell_type": "code",
   "execution_count": 16,
   "metadata": {},
   "outputs": [
    {
     "data": {
      "text/plain": [
       "['HOUSEID',\n",
       " 'PERSONID',\n",
       " 'R_AGE',\n",
       " 'EDUC',\n",
       " 'R_RACE',\n",
       " 'R_SEX',\n",
       " 'WRK_HOME',\n",
       " 'WKFTPT',\n",
       " 'OCCAT',\n",
       " 'DRIVER',\n",
       " 'TRAVDAY',\n",
       " 'HH_CBSA',\n",
       " 'HOMEOWN',\n",
       " 'HHSIZE',\n",
       " 'HHVEHCNT',\n",
       " 'HHFAMINC',\n",
       " 'NUMADLT',\n",
       " 'YOUNGCHILD',\n",
       " 'WRKCOUNT',\n",
       " 'MSACAT',\n",
       " 'MSASIZE',\n",
       " 'URBAN',\n",
       " 'URBANSIZE',\n",
       " 'URBRUR',\n",
       " 'LIF_CYC',\n",
       " 'n_trips']"
      ]
     },
     "execution_count": 16,
     "metadata": {},
     "output_type": "execute_result"
    }
   ],
   "source": [
    "[c for c in df]"
   ]
  },
  {
   "cell_type": "code",
   "execution_count": 17,
   "metadata": {},
   "outputs": [
    {
     "data": {
      "text/plain": [
       "(32292, 26)"
      ]
     },
     "execution_count": 17,
     "metadata": {},
     "output_type": "execute_result"
    }
   ],
   "source": [
    "df.shape"
   ]
  },
  {
   "cell_type": "markdown",
   "metadata": {},
   "source": [
    "## 2. EDA & Feature Engineering "
   ]
  },
  {
   "cell_type": "markdown",
   "metadata": {},
   "source": [
    "### 2.1. Train, Test, Split"
   ]
  },
  {
   "cell_type": "code",
   "execution_count": 18,
   "metadata": {},
   "outputs": [],
   "source": [
    "x_col = [c for c in df if c not in [\"HOUSEID\",\"PERSONID\",\"n_trips\"]]\n",
    "x_df = df[x_col]\n",
    "y_df = df['n_trips']\n",
    "\n",
    "x_train , x_test, y_train, y_test = model_selection.train_test_split(x_df, y_df, test_size = 0.2, random_state = 888)"
   ]
  },
  {
   "cell_type": "code",
   "execution_count": 19,
   "metadata": {},
   "outputs": [
    {
     "name": "stdout",
     "output_type": "stream",
     "text": [
      "<class 'pandas.core.frame.DataFrame'>\n",
      "Int64Index: 25833 entries, 11231 to 10750\n",
      "Data columns (total 23 columns):\n",
      " #   Column      Non-Null Count  Dtype \n",
      "---  ------      --------------  ----- \n",
      " 0   R_AGE       25833 non-null  int64 \n",
      " 1   EDUC        25833 non-null  int64 \n",
      " 2   R_RACE      25833 non-null  int64 \n",
      " 3   R_SEX       25833 non-null  int64 \n",
      " 4   WRK_HOME    25833 non-null  int64 \n",
      " 5   WKFTPT      25833 non-null  int64 \n",
      " 6   OCCAT       25833 non-null  int64 \n",
      " 7   DRIVER      25833 non-null  int64 \n",
      " 8   TRAVDAY     25833 non-null  int64 \n",
      " 9   HH_CBSA     25833 non-null  object\n",
      " 10  HOMEOWN     25833 non-null  int64 \n",
      " 11  HHSIZE      25833 non-null  int64 \n",
      " 12  HHVEHCNT    25833 non-null  int64 \n",
      " 13  HHFAMINC    25833 non-null  int64 \n",
      " 14  NUMADLT     25833 non-null  int64 \n",
      " 15  YOUNGCHILD  25833 non-null  int64 \n",
      " 16  WRKCOUNT    25833 non-null  int64 \n",
      " 17  MSACAT      25833 non-null  int64 \n",
      " 18  MSASIZE     25833 non-null  int64 \n",
      " 19  URBAN       25833 non-null  int64 \n",
      " 20  URBANSIZE   25833 non-null  int64 \n",
      " 21  URBRUR      25833 non-null  int64 \n",
      " 22  LIF_CYC     25833 non-null  int64 \n",
      "dtypes: int64(22), object(1)\n",
      "memory usage: 4.7+ MB\n"
     ]
    }
   ],
   "source": [
    "x_train.info()"
   ]
  },
  {
   "cell_type": "markdown",
   "metadata": {},
   "source": [
    "### 2.2. Feature Engineering"
   ]
  },
  {
   "cell_type": "markdown",
   "metadata": {},
   "source": [
    "#### Age (R_AGE)"
   ]
  },
  {
   "cell_type": "code",
   "execution_count": 20,
   "metadata": {},
   "outputs": [
    {
     "name": "stdout",
     "output_type": "stream",
     "text": [
      "62 count of people with no age.  0.00029519289720475033 %.\n"
     ]
    },
    {
     "data": {
      "image/png": "[encoded data removed]",
      "text/plain": [
       "<Figure size 432x288 with 1 Axes>"
      ]
     },
     "metadata": {
      "needs_background": "light"
     },
     "output_type": "display_data"
    }
   ],
   "source": [
    "print(str(sum(x_train['R_AGE']<0)), \"count of people with no age. \",str(sum(nyorker['R_AGE']<0)/person.shape[0]),\"%.\")\n",
    "\n",
    "sns.histplot(x_train['R_AGE'])\n",
    "\n",
    "# impute missing values (<0) with mean age\n",
    "mean_age = round(x_train['R_AGE'][x_train['R_AGE']>0].mean())\n",
    "x_train['R_AGE'][x_train['R_AGE']<0] = mean_age\n",
    "x_test['R_AGE'][x_test['R_AGE']<0] = mean_age"
   ]
  },
  {
   "cell_type": "code",
   "execution_count": 21,
   "metadata": {},
   "outputs": [],
   "source": [
    "x_train['AGE_bins']= 'NA'\n",
    "x_train.loc[x_train['R_AGE'].between(5,15,inclusive = True), 'AGE_bins'] = \"5 to 15\"\n",
    "x_train.loc[x_train['R_AGE'].between(16,25,inclusive = True), 'AGE_bins'] = \"16 to 25\"\n",
    "x_train.loc[x_train['R_AGE'].between(26,35,inclusive = True), 'AGE_bins'] = \"26 to 35\"\n",
    "x_train.loc[x_train['R_AGE'].between(36,45,inclusive = True), 'AGE_bins'] = \"36 to 45\"\n",
    "x_train.loc[x_train['R_AGE'].between(46,55,inclusive = True), 'AGE_bins'] = \"46 to 55\"\n",
    "x_train.loc[x_train['R_AGE'].between(56,65,inclusive = True), 'AGE_bins'] = \"56 to 65\"\n",
    "x_train.loc[x_train['R_AGE'].between(66,75,inclusive = True), 'AGE_bins'] = \"66 to 75\"\n",
    "x_train.loc[x_train['R_AGE']>75, 'AGE_bins'] = \">75\"\n",
    "\n",
    "x_test['AGE_bins']= 'NA'\n",
    "x_test.loc[x_test['R_AGE'].between(5,15,inclusive = True), 'AGE_bins'] = \"5 to 15\"\n",
    "x_test.loc[x_test['R_AGE'].between(16,25,inclusive = True), 'AGE_bins'] = \"16 to 25\"\n",
    "x_test.loc[x_test['R_AGE'].between(26,35,inclusive = True), 'AGE_bins'] = \"26 to 35\"\n",
    "x_test.loc[x_test['R_AGE'].between(36,45,inclusive = True), 'AGE_bins'] = \"36 to 45\"\n",
    "x_test.loc[x_test['R_AGE'].between(46,55,inclusive = True), 'AGE_bins'] = \"46 to 55\"\n",
    "x_test.loc[x_test['R_AGE'].between(56,65,inclusive = True), 'AGE_bins'] = \"56 to 65\"\n",
    "x_test.loc[x_test['R_AGE'].between(66,75,inclusive = True), 'AGE_bins'] = \"66 to 75\"\n",
    "x_test.loc[x_test['R_AGE']>75, 'AGE_bins'] = \">75\"\n"
   ]
  },
  {
   "cell_type": "code",
   "execution_count": 22,
   "metadata": {},
   "outputs": [
    {
     "name": "stdout",
     "output_type": "stream",
     "text": [
      "          counts  percentage\n",
      "56 to 65    5689   22.022220\n",
      "66 to 75    4441   17.191190\n",
      "46 to 55    3824   14.802772\n",
      "5 to 15     2492    9.646576\n",
      "36 to 45    2482    9.607866\n",
      "26 to 35    2473    9.573027\n",
      ">75         2351    9.100763\n",
      "16 to 25    2081    8.055588\n"
     ]
    },
    {
     "data": {
      "image/png": "[encoded data removed]",
      "text/plain": [
       "<Figure size 432x288 with 1 Axes>"
      ]
     },
     "metadata": {
      "needs_background": "light"
     },
     "output_type": "display_data"
    }
   ],
   "source": [
    "cat_col_prop(x_train,'AGE_bins')"
   ]
  },
  {
   "cell_type": "markdown",
   "metadata": {},
   "source": [
    "#### Educational Attainment (EDUC)"
   ]
  },
  {
   "cell_type": "code",
   "execution_count": 23,
   "metadata": {},
   "outputs": [
    {
     "name": "stdout",
     "output_type": "stream",
     "text": [
      "    counts  percentage\n",
      " 3    6432   24.898386\n",
      " 5    5786   22.397708\n",
      " 2    4990   19.316378\n",
      " 4    4913   19.018310\n",
      "-1    1970    7.625905\n",
      " 1    1723    6.669763\n",
      "-7      11    0.042581\n",
      "-8       8    0.030968\n"
     ]
    },
    {
     "data": {
      "image/png": "[encoded data removed]",
      "text/plain": [
       "<Figure size 432x288 with 1 Axes>"
      ]
     },
     "metadata": {
      "needs_background": "light"
     },
     "output_type": "display_data"
    }
   ],
   "source": [
    "cat_col_prop(x_train,'EDUC')\n",
    "# approx 8% missing values (<0). To take note of but will addresss in one-hot encoding"
   ]
  },
  {
   "cell_type": "markdown",
   "metadata": {},
   "source": [
    "#### Race (R_RACE)"
   ]
  },
  {
   "cell_type": "code",
   "execution_count": 24,
   "metadata": {},
   "outputs": [
    {
     "name": "stdout",
     "output_type": "stream",
     "text": [
      "     counts  percentage\n",
      " 1    23152   89.621802\n",
      " 3      833    3.224558\n",
      " 2      777    3.007781\n",
      " 6      550    2.129060\n",
      " 97     310    1.200015\n",
      "-7      124    0.480006\n",
      " 4       57    0.220648\n",
      " 5       19    0.073549\n",
      "-8       11    0.042581\n"
     ]
    },
    {
     "data": {
      "image/png": "[encoded data removed]",
      "text/plain": [
       "<Figure size 432x288 with 1 Axes>"
      ]
     },
     "metadata": {
      "needs_background": "light"
     },
     "output_type": "display_data"
    }
   ],
   "source": [
    "cat_col_prop(x_train,'R_RACE')\n",
    "# approx 1% missing values (<0). To take note of but will address in one-hot encoding\n",
    "# Significant proportion of members 'white'"
   ]
  },
  {
   "cell_type": "markdown",
   "metadata": {},
   "source": [
    "#### Gender (R_SEX)"
   ]
  },
  {
   "cell_type": "code",
   "execution_count": 25,
   "metadata": {},
   "outputs": [
    {
     "name": "stdout",
     "output_type": "stream",
     "text": [
      "    counts  percentage\n",
      " 2   13474   52.158092\n",
      " 1   12333   47.741261\n",
      "-7      23    0.089033\n",
      "-8       3    0.011613\n"
     ]
    },
    {
     "data": {
      "image/png": "[encoded data removed]",
      "text/plain": [
       "<Figure size 432x288 with 1 Axes>"
      ]
     },
     "metadata": {
      "needs_background": "light"
     },
     "output_type": "display_data"
    }
   ],
   "source": [
    "cat_col_prop(x_train, 'R_SEX')\n",
    "# <1% missing values. To take note but will be addressed in one-hot encoding"
   ]
  },
  {
   "cell_type": "markdown",
   "metadata": {},
   "source": [
    "#### Work From Home (WRK_HOME)"
   ]
  },
  {
   "cell_type": "code",
   "execution_count": 26,
   "metadata": {},
   "outputs": [
    {
     "name": "stdout",
     "output_type": "stream",
     "text": [
      "    counts  percentage\n",
      "-1   12893   49.909031\n",
      " 2   11027   42.685712\n",
      " 1    1391    5.384586\n",
      "-9     521    2.016800\n",
      "-7       1    0.003871\n"
     ]
    },
    {
     "data": {
      "image/png": "[encoded data removed]",
      "text/plain": [
       "<Figure size 432x288 with 1 Axes>"
      ]
     },
     "metadata": {
      "needs_background": "light"
     },
     "output_type": "display_data"
    }
   ],
   "source": [
    "cat_col_prop(x_train,'WRK_HOME')\n",
    "# Significant proportion -1 (50%) which is the appropriate skip (due to not working) - to address in one-hot"
   ]
  },
  {
   "cell_type": "markdown",
   "metadata": {},
   "source": [
    "#### Work - Part Time or Full Time (WKFTPT)"
   ]
  },
  {
   "cell_type": "code",
   "execution_count": 27,
   "metadata": {},
   "outputs": [
    {
     "name": "stdout",
     "output_type": "stream",
     "text": [
      "    counts  percentage\n",
      "-1   13414   51.925831\n",
      " 1    9663   37.405644\n",
      " 2    2750   10.645299\n",
      "-7       6    0.023226\n"
     ]
    },
    {
     "data": {
      "image/png": "[encoded data removed]",
      "text/plain": [
       "<Figure size 432x288 with 1 Axes>"
      ]
     },
     "metadata": {
      "needs_background": "light"
     },
     "output_type": "display_data"
    }
   ],
   "source": [
    "cat_col_prop(x_train,'WKFTPT')\n",
    "# Significant proportion -1 (52%) which is the appropriate skip (due to not working) - to address in one-hot"
   ]
  },
  {
   "cell_type": "markdown",
   "metadata": {},
   "source": [
    "#### Job Category (OCCAT)"
   ]
  },
  {
   "cell_type": "code",
   "execution_count": 28,
   "metadata": {},
   "outputs": [
    {
     "name": "stdout",
     "output_type": "stream",
     "text": [
      "     counts  percentage\n",
      "-1    12893   49.909031\n",
      " 4     6871   26.597763\n",
      " 1     2642   10.227229\n",
      " 3     1477    5.717493\n",
      " 2     1404    5.434909\n",
      "-9      521    2.016800\n",
      " 97      18    0.069678\n",
      "-8        4    0.015484\n",
      "-7        3    0.011613\n"
     ]
    },
    {
     "data": {
      "image/png": "[encoded data removed]",
      "text/plain": [
       "<Figure size 432x288 with 1 Axes>"
      ]
     },
     "metadata": {
      "needs_background": "light"
     },
     "output_type": "display_data"
    }
   ],
   "source": [
    "cat_col_prop(x_train,'OCCAT')\n",
    "# Significant proportion -1 (50%) which is the appropriate skip (due to not working) - to address in one-hot"
   ]
  },
  {
   "cell_type": "markdown",
   "metadata": {},
   "source": [
    "#### Driver Status (DRIVER)"
   ]
  },
  {
   "cell_type": "code",
   "execution_count": 29,
   "metadata": {},
   "outputs": [
    {
     "name": "stdout",
     "output_type": "stream",
     "text": [
      "    counts  percentage\n",
      " 1   21828   84.496574\n",
      "-1    2251    8.713661\n",
      " 2    1754    6.789765\n"
     ]
    },
    {
     "data": {
      "text/plain": [
       "<matplotlib.axes._subplots.AxesSubplot at 0x2b965338688>"
      ]
     },
     "execution_count": 29,
     "metadata": {},
     "output_type": "execute_result"
    },
    {
     "data": {
      "image/png": "[encoded data removed]",
      "text/plain": [
       "<Figure size 432x288 with 1 Axes>"
      ]
     },
     "metadata": {
      "needs_background": "light"
     },
     "output_type": "display_data"
    }
   ],
   "source": [
    "cat_col_prop(x_train,'DRIVER')\n",
    "\n",
    "#Significant proportion -1 (8.7%) (due to too young) - to address in one-hot encoding\n",
    "sns.boxplot(data = x_train, x='DRIVER',y='AGE_bins')"
   ]
  },
  {
   "cell_type": "markdown",
   "metadata": {},
   "source": [
    "#### Travel Day (TRAVDAY)"
   ]
  },
  {
   "cell_type": "code",
   "execution_count": 30,
   "metadata": {},
   "outputs": [
    {
     "name": "stdout",
     "output_type": "stream",
     "text": [
      "   counts  percentage\n",
      "2    3800   14.709867\n",
      "1    3775   14.613092\n",
      "7    3766   14.578253\n",
      "5    3746   14.500832\n",
      "6    3668   14.198893\n",
      "3    3595   13.916309\n",
      "4    3483   13.482755\n"
     ]
    },
    {
     "data": {
      "image/png": "[encoded data removed]",
      "text/plain": [
       "<Figure size 432x288 with 1 Axes>"
      ]
     },
     "metadata": {
      "needs_background": "light"
     },
     "output_type": "display_data"
    }
   ],
   "source": [
    "cat_col_prop(x_train,'TRAVDAY')"
   ]
  },
  {
   "cell_type": "markdown",
   "metadata": {},
   "source": [
    "#### Core Based Statiscal Area FIPS code (HH_CBSA)"
   ]
  },
  {
   "cell_type": "code",
   "execution_count": 31,
   "metadata": {},
   "outputs": [
    {
     "name": "stdout",
     "output_type": "stream",
     "text": [
      "       counts  percentage\n",
      "XXXXX   15330   59.342701\n",
      "35620    7799   30.190067\n",
      "40380    1478    5.721364\n",
      "15380    1226    4.745868\n"
     ]
    },
    {
     "data": {
      "image/png": "[encoded data removed]",
      "text/plain": [
       "<Figure size 432x288 with 1 Axes>"
      ]
     },
     "metadata": {
      "needs_background": "light"
     },
     "output_type": "display_data"
    }
   ],
   "source": [
    "#Core Based Statistical Area (CBSA) FIPS code for the respondent's home address\n",
    "\n",
    "cat_col_prop(x_train,'HH_CBSA')\n",
    "\n",
    "# significant number of households under the 'XXXXX=Suppressed, in an MSA of less than 1 million ' category"
   ]
  },
  {
   "cell_type": "markdown",
   "metadata": {},
   "source": [
    "####  Home Ownership (HOMEOWN)"
   ]
  },
  {
   "cell_type": "code",
   "execution_count": 32,
   "metadata": {},
   "outputs": [
    {
     "name": "stdout",
     "output_type": "stream",
     "text": [
      "     counts  percentage\n",
      " 1    21777   84.299152\n",
      " 2     3848   14.895676\n",
      " 97     206    0.797430\n",
      "-7        2    0.007742\n"
     ]
    },
    {
     "data": {
      "image/png": "[encoded data removed]",
      "text/plain": [
       "<Figure size 432x288 with 1 Axes>"
      ]
     },
     "metadata": {
      "needs_background": "light"
     },
     "output_type": "display_data"
    }
   ],
   "source": [
    "cat_col_prop(x_train,'HOMEOWN')\n",
    "#Small count with missing value 2. to address in one-hot encoding"
   ]
  },
  {
   "cell_type": "markdown",
   "metadata": {},
   "source": [
    "#### Household Vehicle Count (HHVEHCNT)"
   ]
  },
  {
   "cell_type": "code",
   "execution_count": 33,
   "metadata": {},
   "outputs": [
    {
     "name": "stdout",
     "output_type": "stream",
     "text": [
      "    counts  percentage\n",
      "2    11491   44.481864\n",
      "1     6771   26.210661\n",
      "3     4734   18.325398\n",
      "4     1790    6.929122\n",
      "5      672    2.601324\n",
      "6      244    0.944528\n",
      "7       82    0.317423\n",
      "8       23    0.089033\n",
      "11      12    0.046452\n",
      "9        9    0.034839\n",
      "12       5    0.019355\n",
      "________\n",
      "new HHVEHCNT\n",
      "    counts  percentage\n",
      "2    11491   44.481864\n",
      "1     6771   26.210661\n",
      "3     4734   18.325398\n",
      ">3    2837   10.982077\n"
     ]
    },
    {
     "data": {
      "image/png": "[encoded data removed]",
      "text/plain": [
       "<Figure size 432x288 with 1 Axes>"
      ]
     },
     "metadata": {
      "needs_background": "light"
     },
     "output_type": "display_data"
    }
   ],
   "source": [
    "#count of household vehicles\n",
    "\n",
    "cat_col_prop(x_train,'HHVEHCNT')\n",
    "\n",
    "# as group size significantly smaller from 4 and above to bin to a single group\n",
    "\n",
    "x_train['HHVEHCNT'][x_train['HHVEHCNT']>3] = \">3\"\n",
    "x_test['HHVEHCNT'][x_test['HHVEHCNT']>3] = \">3\"\n",
    "\n",
    "print(\"________\")\n",
    "print(\"new HHVEHCNT\")\n",
    "print(pd.concat([x_train['HHVEHCNT'].value_counts(),\n",
    "          x_train['HHVEHCNT'].value_counts(normalize = True).mul(100)],axis = 1, keys = ('counts','percentage'))\n",
    "    )"
   ]
  },
  {
   "cell_type": "markdown",
   "metadata": {},
   "source": [
    "#### Family Income (HHFAMINC)"
   ]
  },
  {
   "cell_type": "code",
   "execution_count": 34,
   "metadata": {},
   "outputs": [
    {
     "name": "stdout",
     "output_type": "stream",
     "text": [
      "     counts  percentage\n",
      " 6     4643   17.973135\n",
      " 7     3807   14.736964\n",
      " 8     3191   12.352417\n",
      " 5     2781   10.765300\n",
      " 4     2017    7.807843\n",
      " 9     1953    7.560098\n",
      " 11    1904    7.370418\n",
      " 10    1812    7.014284\n",
      " 3     1563    6.050401\n",
      "-7      748    2.895521\n",
      " 2      733    2.837456\n",
      " 1      569    2.202609\n",
      "-8      111    0.429683\n",
      "-9        1    0.003871\n"
     ]
    },
    {
     "data": {
      "image/png": "[encoded data removed]",
      "text/plain": [
       "<Figure size 432x288 with 1 Axes>"
      ]
     },
     "metadata": {
      "needs_background": "light"
     },
     "output_type": "display_data"
    }
   ],
   "source": [
    "cat_col_prop(x_train,'HHFAMINC')\n",
    "# approx 3% missing (<0) to address in one-hot encoding"
   ]
  },
  {
   "cell_type": "markdown",
   "metadata": {},
   "source": [
    "#### Adult Ratio  (NUMADLT)"
   ]
  },
  {
   "cell_type": "code",
   "execution_count": 35,
   "metadata": {},
   "outputs": [
    {
     "name": "stdout",
     "output_type": "stream",
     "text": [
      "    counts  percentage\n",
      "2    16418   63.554368\n",
      "1     4363   16.889250\n",
      "3     3503   13.560175\n",
      "4     1195    4.625866\n",
      "5      278    1.076143\n",
      "6       46    0.178067\n",
      "7       15    0.058065\n",
      "10       8    0.030968\n",
      "8        7    0.027097\n"
     ]
    },
    {
     "data": {
      "image/png": "[encoded data removed]",
      "text/plain": [
       "<Figure size 432x288 with 1 Axes>"
      ]
     },
     "metadata": {
      "needs_background": "light"
     },
     "output_type": "display_data"
    }
   ],
   "source": [
    "cat_col_prop(x_train, 'NUMADLT')\n",
    "#no missing values"
   ]
  },
  {
   "cell_type": "code",
   "execution_count": 36,
   "metadata": {},
   "outputs": [
    {
     "name": "stdout",
     "output_type": "stream",
     "text": [
      "Before\n",
      "          counts  percentage\n",
      "1.000000   17918   69.360895\n",
      "0.500000    2842   11.001432\n",
      "0.666667    1983    7.676228\n",
      "0.400000     888    3.437464\n",
      "0.750000     669    2.589711\n",
      "0.333333     503    1.947122\n",
      "0.600000     375    1.451632\n",
      "0.800000     213    0.824527\n",
      "0.250000      95    0.367747\n",
      "0.285714      80    0.309681\n",
      "0.714286      50    0.193551\n",
      "0.833333      36    0.139357\n",
      "0.428571      35    0.135486\n",
      "0.571429      31    0.120002\n",
      "0.375000      20    0.077420\n",
      "0.625000      19    0.073549\n",
      "0.222222      17    0.065807\n",
      "0.200000      17    0.065807\n",
      "0.444444      11    0.042581\n",
      "0.700000       9    0.034839\n",
      "0.166667       7    0.027097\n",
      "0.142857       6    0.023226\n",
      "0.857143       5    0.019355\n",
      "0.363636       4    0.015484\n",
      "\n",
      "After\n",
      "      counts  percentage\n",
      "1      17918   69.360895\n",
      ">0.5    6232   24.124182\n",
      "<0.5    1683    6.514923\n"
     ]
    },
    {
     "data": {
      "image/png": "[encoded data removed]",
      "text/plain": [
       "<Figure size 432x288 with 1 Axes>"
      ]
     },
     "metadata": {
      "needs_background": "light"
     },
     "output_type": "display_data"
    }
   ],
   "source": [
    "#Convert against proportion of Household size\n",
    "x_train['NUMADLT'] = x_train['NUMADLT']/x_train['HHSIZE']\n",
    "x_test['NUMADLT'] = x_test['NUMADLT']/x_test['HHSIZE']\n",
    "print('Before')\n",
    "cat_col_prop(x_train,'NUMADLT')\n",
    "#significant number of varying factors\n",
    "#to bin into groups\n",
    "x_train['NUMADLT_ratio'] = 'NA'\n",
    "x_train.loc[x_train['NUMADLT']==0, 'NUMADLT_ratio'] = '0'\n",
    "x_train.loc[x_train['NUMADLT'].between(0,0.5,inclusive = False),'NUMADLT_ratio'] = '<0.5'\n",
    "x_train.loc[x_train['NUMADLT'].between(0.5,1, inclusive = True),'NUMADLT_ratio'] = '>0.5'\n",
    "x_train.loc[x_train['NUMADLT']==1,'NUMADLT_ratio'] ='1'\n",
    "print('')\n",
    "print('After')\n",
    "cat_col_prop(x_train,'NUMADLT_ratio')\n",
    "\n",
    "\n",
    "x_test['NUMADLT_ratio'] = 'NA'\n",
    "x_test.loc[x_test['NUMADLT']==0, 'NUMADLT_ratio'] = '0'\n",
    "x_test.loc[x_test['NUMADLT'].between(0,0.5,inclusive = False),'NUMADLT_ratio'] = '<0.5'\n",
    "x_test.loc[x_test['NUMADLT'].between(0.5,1, inclusive = True),'NUMADLT_ratio'] = '>0.5'\n",
    "x_test.loc[x_test['NUMADLT']==1,'NUMADLT_ratio'] ='1'"
   ]
  },
  {
   "cell_type": "markdown",
   "metadata": {},
   "source": [
    "#### Young Child Ratio (YOUNGCHILD)"
   ]
  },
  {
   "cell_type": "code",
   "execution_count": 37,
   "metadata": {},
   "outputs": [
    {
     "name": "stdout",
     "output_type": "stream",
     "text": [
      "   counts  percentage\n",
      "0   23583   91.290210\n",
      "1    1683    6.514923\n",
      "2     510    1.974219\n",
      "3      51    0.197422\n",
      "5       4    0.015484\n",
      "4       2    0.007742\n"
     ]
    },
    {
     "data": {
      "image/png": "[encoded data removed]",
      "text/plain": [
       "<Figure size 432x288 with 1 Axes>"
      ]
     },
     "metadata": {
      "needs_background": "light"
     },
     "output_type": "display_data"
    }
   ],
   "source": [
    "cat_col_prop(x_train,'YOUNGCHILD')"
   ]
  },
  {
   "cell_type": "code",
   "execution_count": 38,
   "metadata": {},
   "outputs": [
    {
     "name": "stdout",
     "output_type": "stream",
     "text": [
      "      counts  percentage\n",
      "0      23583   91.290210\n",
      "<0.5    1943    7.521387\n",
      ">0.5     307    1.188402\n"
     ]
    },
    {
     "data": {
      "image/png": "[encoded data removed]",
      "text/plain": [
       "<Figure size 432x288 with 1 Axes>"
      ]
     },
     "metadata": {
      "needs_background": "light"
     },
     "output_type": "display_data"
    }
   ],
   "source": [
    "#Convert against proportion of Household size\n",
    "\n",
    "x_train['YOUNGCHILD'] = x_train['YOUNGCHILD']/x_train['HHSIZE']\n",
    "x_test['YOUNGCHILD'] = x_test['YOUNGCHILD']/x_test['HHSIZE']\n",
    "\n",
    "#Bin to groups\n",
    "x_train['YOUNGCHILD_ratio'] = 'NA'\n",
    "x_train.loc[x_train['YOUNGCHILD']==0,'YOUNGCHILD_ratio']= '0'\n",
    "x_train.loc[x_train['YOUNGCHILD'].between(0,0.5,inclusive = False),'YOUNGCHILD_ratio'] = '<0.5'\n",
    "x_train.loc[x_train['YOUNGCHILD'].between(0.5,1, inclusive = True),'YOUNGCHILD_ratio'] = '>0.5'\n",
    "x_train.loc[x_train['YOUNGCHILD']==1,'YOUNGCHILD_ratio'] ='1'\n",
    " \n",
    "\n",
    "cat_col_prop(x_train,'YOUNGCHILD_ratio')    \n",
    "\n",
    "x_test['YOUNGCHILD_ratio'] = 'NA'\n",
    "x_test.loc[x_test['YOUNGCHILD']==0,'YOUNGCHILD_ratio']= '0'\n",
    "x_test.loc[x_test['YOUNGCHILD'].between(0,0.5,inclusive = False),'YOUNGCHILD_ratio'] = '<0.5'\n",
    "x_test.loc[x_test['YOUNGCHILD'].between(0.5,1, inclusive = True),'YOUNGCHILD_ratio'] = '>0.5'\n",
    "x_test.loc[x_test['YOUNGCHILD']==1,'YOUNGCHILD_ratio'] ='1'\n",
    " \n"
   ]
  },
  {
   "cell_type": "markdown",
   "metadata": {},
   "source": [
    "#### Worker Count Proportion (WRKCOUNT)"
   ]
  },
  {
   "cell_type": "code",
   "execution_count": 39,
   "metadata": {},
   "outputs": [
    {
     "name": "stdout",
     "output_type": "stream",
     "text": [
      "   counts  percentage\n",
      "2    8892   34.421089\n",
      "1    7886   30.526846\n",
      "0    6795   26.303565\n",
      "3    1702    6.588472\n",
      "4     491    1.900670\n",
      "5      56    0.216777\n",
      "7       7    0.027097\n",
      "6       4    0.015484\n"
     ]
    },
    {
     "data": {
      "image/png": "[encoded data removed]",
      "text/plain": [
       "<Figure size 432x288 with 1 Axes>"
      ]
     },
     "metadata": {
      "needs_background": "light"
     },
     "output_type": "display_data"
    }
   ],
   "source": [
    "cat_col_prop(x_train,'WRKCOUNT')"
   ]
  },
  {
   "cell_type": "code",
   "execution_count": 40,
   "metadata": {},
   "outputs": [
    {
     "name": "stdout",
     "output_type": "stream",
     "text": [
      "      counts  percentage\n",
      ">0.5    8476   32.810746\n",
      "0       6795   26.303565\n",
      "1       6538   25.308714\n",
      "<0.5    4024   15.576975\n"
     ]
    },
    {
     "data": {
      "image/png": "[encoded data removed]",
      "text/plain": [
       "<Figure size 432x288 with 1 Axes>"
      ]
     },
     "metadata": {
      "needs_background": "light"
     },
     "output_type": "display_data"
    }
   ],
   "source": [
    "#Convert against proportion of Household size\n",
    "\n",
    "x_train['WRKCOUNT'] = x_train['WRKCOUNT']/x_train['HHSIZE']\n",
    "x_test['WRKCOUNT'] = x_test['WRKCOUNT']/x_test['HHSIZE']\n",
    "\n",
    "#Bin to groups\n",
    "x_train['WRKCOUNT_ratio'] = 'NA'\n",
    "x_train.loc[x_train['WRKCOUNT']==0,'WRKCOUNT_ratio']= '0'\n",
    "x_train.loc[x_train['WRKCOUNT'].between(0,0.5,inclusive = False),'WRKCOUNT_ratio'] = '<0.5'\n",
    "x_train.loc[x_train['WRKCOUNT'].between(0.5,1, inclusive = True),'WRKCOUNT_ratio'] = '>0.5'\n",
    "x_train.loc[x_train['WRKCOUNT']==1,'WRKCOUNT_ratio'] ='1'\n",
    "\n",
    "cat_col_prop(x_train,'WRKCOUNT_ratio')\n",
    "\n",
    "x_test['WRKCOUNT_ratio'] = 'NA'\n",
    "x_test.loc[x_test['WRKCOUNT']==0,'WRKCOUNT_ratio']= '0'\n",
    "x_test.loc[x_test['WRKCOUNT'].between(0,0.5,inclusive = False),'WRKCOUNT_ratio'] = '<0.5'\n",
    "x_test.loc[x_test['WRKCOUNT'].between(0.5,1, inclusive = True),'WRKCOUNT_ratio'] = '>0.5'\n",
    "x_test.loc[x_test['WRKCOUNT']==1,'WRKCOUNT_ratio'] ='1'\n",
    "\n",
    " "
   ]
  },
  {
   "cell_type": "markdown",
   "metadata": {},
   "source": [
    "#### Household Size (HHSIZE)"
   ]
  },
  {
   "cell_type": "code",
   "execution_count": 41,
   "metadata": {},
   "outputs": [
    {
     "name": "stdout",
     "output_type": "stream",
     "text": [
      "Before\n",
      "    counts  percentage\n",
      "2    11103   42.979909\n",
      "3     4445   17.206674\n",
      "4     3996   15.468587\n",
      "1     3744   14.493090\n",
      "5     1653    6.398792\n",
      "6      503    1.947122\n",
      "7      213    0.824527\n",
      "8      101    0.390973\n",
      "9       41    0.158712\n",
      "10      30    0.116131\n",
      "11       4    0.015484\n",
      "\n",
      "After\n",
      "    counts  percentage\n",
      "2    11103   42.979909\n",
      ">3    6541   25.320327\n",
      "3     4445   17.206674\n",
      "1     3744   14.493090\n"
     ]
    },
    {
     "data": {
      "image/png": "[encoded data removed]",
      "text/plain": [
       "<Figure size 432x288 with 1 Axes>"
      ]
     },
     "metadata": {
      "needs_background": "light"
     },
     "output_type": "display_data"
    }
   ],
   "source": [
    "#count of household members\n",
    "print(\"Before\")\n",
    "cat_col_prop(x_train,'HHSIZE')\n",
    "\n",
    "# to bin tail HHSIZE\n",
    "\n",
    "x_train['HHSIZE'][x_train['HHSIZE']>3] = \">3\"\n",
    "\n",
    "print(\"\")\n",
    "print(\"After\")\n",
    "\n",
    "cat_col_prop(x_train,'HHSIZE')\n",
    "\n",
    "x_test['HHSIZE'][x_test['HHSIZE']>3] = \">3\""
   ]
  },
  {
   "cell_type": "markdown",
   "metadata": {},
   "source": [
    "#### Metropolitan Statistical Area (MSACAT)\n"
   ]
  },
  {
   "cell_type": "code",
   "execution_count": 42,
   "metadata": {},
   "outputs": [
    {
     "name": "stdout",
     "output_type": "stream",
     "text": [
      "   counts  percentage\n",
      "3   11149   43.157976\n",
      "1    7799   30.190067\n",
      "4    4181   16.184725\n",
      "2    2704   10.467232\n"
     ]
    },
    {
     "data": {
      "image/png": "[encoded data removed]",
      "text/plain": [
       "<Figure size 432x288 with 1 Axes>"
      ]
     },
     "metadata": {
      "needs_background": "light"
     },
     "output_type": "display_data"
    }
   ],
   "source": [
    "cat_col_prop(x_train,'MSACAT')\n",
    "             \n",
    "#no missing values and relatively proportional distribution"
   ]
  },
  {
   "cell_type": "markdown",
   "metadata": {},
   "source": [
    "#### Population size of MSA (MSASIZE)"
   ]
  },
  {
   "cell_type": "code",
   "execution_count": 43,
   "metadata": {},
   "outputs": [
    {
     "name": "stdout",
     "output_type": "stream",
     "text": [
      "   counts  percentage\n",
      "5    7799   30.190067\n",
      "1    6507   25.188712\n",
      "6    4181   16.184725\n",
      "3    3498   13.540820\n",
      "4    2704   10.467232\n",
      "2    1144    4.428444\n"
     ]
    },
    {
     "data": {
      "image/png": "[encoded data removed]",
      "text/plain": [
       "<Figure size 432x288 with 1 Axes>"
      ]
     },
     "metadata": {
      "needs_background": "light"
     },
     "output_type": "display_data"
    }
   ],
   "source": [
    "cat_col_prop(x_train,'MSASIZE')\n",
    "             \n",
    "#no missing values and relatively proportional distribution"
   ]
  },
  {
   "cell_type": "markdown",
   "metadata": {},
   "source": [
    "#### House in Urban or Rural Area (URBAN)"
   ]
  },
  {
   "cell_type": "code",
   "execution_count": 44,
   "metadata": {},
   "outputs": [
    {
     "name": "stdout",
     "output_type": "stream",
     "text": [
      "Before\n",
      "   counts  percentage\n",
      "1   14518   56.199435\n",
      "4    8775   33.968180\n",
      "2    2535    9.813030\n",
      "3       5    0.019355\n",
      "\n",
      "After\n",
      "       counts  percentage\n",
      "urban   17053   66.012465\n",
      "rural    8780   33.987535\n"
     ]
    },
    {
     "data": {
      "image/png": "[encoded data removed]",
      "text/plain": [
       "<Figure size 432x288 with 1 Axes>"
      ]
     },
     "metadata": {
      "needs_background": "light"
     },
     "output_type": "display_data"
    }
   ],
   "source": [
    "print('Before')\n",
    "cat_col_prop(x_train,'URBAN')\n",
    "\n",
    "# combine 1 and 2 (in an urban area and in an urban cluster ) & combine 3 and 4 (surround by urban and not in urban)\n",
    "\n",
    "x_train['URBAN'][x_train['URBAN'].isin([1,2])] = 'urban'\n",
    "x_train['URBAN'][x_train['URBAN'].isin([3,4])] = 'rural'\n",
    "\n",
    "print(\"\")\n",
    "print('After')\n",
    "\n",
    "cat_col_prop(x_train, 'URBAN')\n",
    "\n",
    "x_test['URBAN'][x_test['URBAN'].isin([1,2])] = 'urban'\n",
    "x_test['URBAN'][x_test['URBAN'].isin([3,4])] = 'rural'"
   ]
  },
  {
   "cell_type": "markdown",
   "metadata": {},
   "source": [
    "#### URBANSIZE"
   ]
  },
  {
   "cell_type": "code",
   "execution_count": 45,
   "metadata": {},
   "outputs": [
    {
     "name": "stdout",
     "output_type": "stream",
     "text": [
      "   counts  percentage\n",
      "6   11315   43.800565\n",
      "5    5030   19.471219\n",
      "1    3961   15.333101\n",
      "3    2883   11.160144\n",
      "2    2644   10.234971\n"
     ]
    },
    {
     "data": {
      "image/png": "[encoded data removed]",
      "text/plain": [
       "<Figure size 432x288 with 1 Axes>"
      ]
     },
     "metadata": {
      "needs_background": "light"
     },
     "output_type": "display_data"
    }
   ],
   "source": [
    "#06 = not in an urbanised area \n",
    "#05 - 1 million with heavy rail \n",
    "\n",
    "#Relatively proportional classes\n",
    "cat_col_prop(x_train,'URBANSIZE')"
   ]
  },
  {
   "cell_type": "markdown",
   "metadata": {},
   "source": [
    "#### URBRUR"
   ]
  },
  {
   "cell_type": "code",
   "execution_count": 46,
   "metadata": {},
   "outputs": [
    {
     "name": "stdout",
     "output_type": "stream",
     "text": [
      "   counts  percentage\n",
      "1   17053   66.012465\n",
      "2    8780   33.987535\n"
     ]
    },
    {
     "data": {
      "image/png": "[encoded data removed]",
      "text/plain": [
       "<Figure size 432x288 with 1 Axes>"
      ]
     },
     "metadata": {
      "needs_background": "light"
     },
     "output_type": "display_data"
    }
   ],
   "source": [
    "cat_col_prop(x_train,'URBRUR')\n",
    "# missing values nor disproportion"
   ]
  },
  {
   "cell_type": "markdown",
   "metadata": {},
   "source": [
    "#### LIF_CYC "
   ]
  },
  {
   "cell_type": "code",
   "execution_count": 47,
   "metadata": {},
   "outputs": [
    {
     "name": "stdout",
     "output_type": "stream",
     "text": [
      "    counts  percentage\n",
      "10    7113   27.534549\n",
      "2     5969   23.106105\n",
      "6     3905   15.116324\n",
      "4     2551    9.874966\n",
      "1     1983    7.676228\n",
      "9     1761    6.816862\n",
      "8     1691    6.545891\n",
      "5      495    1.916154\n",
      "7      221    0.855495\n",
      "3      144    0.557427\n"
     ]
    },
    {
     "data": {
      "image/png": "[encoded data removed]",
      "text/plain": [
       "<Figure size 432x288 with 1 Axes>"
      ]
     },
     "metadata": {
      "needs_background": "light"
     },
     "output_type": "display_data"
    }
   ],
   "source": [
    "cat_col_prop(x_train,\"LIF_CYC\")\n",
    "\n",
    "# No major disproportion"
   ]
  },
  {
   "cell_type": "markdown",
   "metadata": {},
   "source": [
    "## 3. One-Hot- Encoding"
   ]
  },
  {
   "cell_type": "code",
   "execution_count": 48,
   "metadata": {},
   "outputs": [
    {
     "data": {
      "text/plain": [
       "R_AGE                 int64\n",
       "EDUC                  int64\n",
       "R_RACE                int64\n",
       "R_SEX                 int64\n",
       "WRK_HOME              int64\n",
       "WKFTPT                int64\n",
       "OCCAT                 int64\n",
       "DRIVER                int64\n",
       "TRAVDAY               int64\n",
       "HH_CBSA              object\n",
       "HOMEOWN               int64\n",
       "HHSIZE               object\n",
       "HHVEHCNT             object\n",
       "HHFAMINC              int64\n",
       "NUMADLT             float64\n",
       "YOUNGCHILD          float64\n",
       "WRKCOUNT            float64\n",
       "MSACAT                int64\n",
       "MSASIZE               int64\n",
       "URBAN                object\n",
       "URBANSIZE             int64\n",
       "URBRUR                int64\n",
       "LIF_CYC               int64\n",
       "AGE_bins             object\n",
       "NUMADLT_ratio        object\n",
       "YOUNGCHILD_ratio     object\n",
       "WRKCOUNT_ratio       object\n",
       "dtype: object"
      ]
     },
     "execution_count": 48,
     "metadata": {},
     "output_type": "execute_result"
    }
   ],
   "source": [
    "x_train.dtypes"
   ]
  },
  {
   "cell_type": "code",
   "execution_count": 49,
   "metadata": {},
   "outputs": [],
   "source": [
    "to_obj = ['EDUC','R_RACE','AGE_bins','HHFAMINC','HOMEOWN','R_SEX','TRAVDAY','WRK_HOME','WKFTPT','OCCAT','DRIVER','MSACAT','MSASIZE','URBAN','URBANSIZE','URBRUR','LIF_CYC']\n",
    "\n",
    "x_train[to_obj] = x_train[to_obj].astype(str)\n",
    "x_test[to_obj]= x_test[to_obj].astype(str)\n",
    "\n",
    "x_train.drop(['R_AGE'], axis = 1, inplace =True)\n",
    "x_test.drop(['R_AGE'],axis = 1, inplace = True)"
   ]
  },
  {
   "cell_type": "code",
   "execution_count": 50,
   "metadata": {},
   "outputs": [],
   "source": [
    "one_hot_col = [c for c in x_train if x_train[c].dtypes == 'O' ]\n",
    "x_train = pd.concat([x_train,pd.get_dummies(x_train[one_hot_col],prefix = one_hot_col)],axis = 1)\n",
    "x_train.drop(one_hot_col, axis = 1, inplace = True)\n",
    "\n",
    "x_test = pd.concat([x_test,pd.get_dummies(x_test[one_hot_col],prefix = one_hot_col)],axis = 1)\n",
    "x_test.drop(one_hot_col, axis = 1, inplace = True)"
   ]
  },
  {
   "cell_type": "code",
   "execution_count": 51,
   "metadata": {},
   "outputs": [],
   "source": [
    "\n",
    "#y_train = y_train.astype('int64')\n",
    "#y_test = y_test.astype('int64')"
   ]
  },
  {
   "cell_type": "code",
   "execution_count": 52,
   "metadata": {},
   "outputs": [],
   "source": [
    "#drop all negative value columns  \n",
    "\n",
    "na_cols_train =[c for c in x_train if ('NA' in c) or ('-' in c)]\n",
    "\n",
    "x_train.drop(na_cols_train, axis = 1, inplace = True)\n",
    "\n",
    "\n",
    "na_cols_test =[c for c in x_test if ('NA' in c) or ('-' in c)]\n",
    "x_test.drop(na_cols_test, axis = 1 , inplace = True)"
   ]
  },
  {
   "cell_type": "code",
   "execution_count": 53,
   "metadata": {},
   "outputs": [
    {
     "data": {
      "text/plain": [
       "(25833, 108)"
      ]
     },
     "execution_count": 53,
     "metadata": {},
     "output_type": "execute_result"
    }
   ],
   "source": [
    "x_train.shape"
   ]
  },
  {
   "cell_type": "code",
   "execution_count": 54,
   "metadata": {},
   "outputs": [
    {
     "data": {
      "text/plain": [
       "(6459, 108)"
      ]
     },
     "execution_count": 54,
     "metadata": {},
     "output_type": "execute_result"
    }
   ],
   "source": [
    "x_test.shape"
   ]
  },
  {
   "cell_type": "code",
   "execution_count": 55,
   "metadata": {},
   "outputs": [
    {
     "data": {
      "text/html": [
       "<div>\n",
       "<style scoped>\n",
       "    .dataframe tbody tr th:only-of-type {\n",
       "        vertical-align: middle;\n",
       "    }\n",
       "\n",
       "    .dataframe tbody tr th {\n",
       "        vertical-align: top;\n",
       "    }\n",
       "\n",
       "    .dataframe thead th {\n",
       "        text-align: right;\n",
       "    }\n",
       "</style>\n",
       "<table border=\"1\" class=\"dataframe\">\n",
       "  <thead>\n",
       "    <tr style=\"text-align: right;\">\n",
       "      <th></th>\n",
       "      <th>NUMADLT</th>\n",
       "      <th>YOUNGCHILD</th>\n",
       "      <th>WRKCOUNT</th>\n",
       "      <th>EDUC_1</th>\n",
       "      <th>EDUC_2</th>\n",
       "      <th>EDUC_3</th>\n",
       "      <th>EDUC_4</th>\n",
       "      <th>EDUC_5</th>\n",
       "      <th>R_RACE_1</th>\n",
       "      <th>R_RACE_2</th>\n",
       "      <th>...</th>\n",
       "      <th>NUMADLT_ratio_1</th>\n",
       "      <th>NUMADLT_ratio_&lt;0.5</th>\n",
       "      <th>NUMADLT_ratio_&gt;0.5</th>\n",
       "      <th>YOUNGCHILD_ratio_0</th>\n",
       "      <th>YOUNGCHILD_ratio_&lt;0.5</th>\n",
       "      <th>YOUNGCHILD_ratio_&gt;0.5</th>\n",
       "      <th>WRKCOUNT_ratio_0</th>\n",
       "      <th>WRKCOUNT_ratio_1</th>\n",
       "      <th>WRKCOUNT_ratio_&lt;0.5</th>\n",
       "      <th>WRKCOUNT_ratio_&gt;0.5</th>\n",
       "    </tr>\n",
       "  </thead>\n",
       "  <tbody>\n",
       "    <tr>\n",
       "      <th>11231</th>\n",
       "      <td>1.00</td>\n",
       "      <td>0.0</td>\n",
       "      <td>0.50</td>\n",
       "      <td>0</td>\n",
       "      <td>0</td>\n",
       "      <td>1</td>\n",
       "      <td>0</td>\n",
       "      <td>0</td>\n",
       "      <td>1</td>\n",
       "      <td>0</td>\n",
       "      <td>...</td>\n",
       "      <td>1</td>\n",
       "      <td>0</td>\n",
       "      <td>0</td>\n",
       "      <td>1</td>\n",
       "      <td>0</td>\n",
       "      <td>0</td>\n",
       "      <td>0</td>\n",
       "      <td>0</td>\n",
       "      <td>0</td>\n",
       "      <td>1</td>\n",
       "    </tr>\n",
       "    <tr>\n",
       "      <th>30915</th>\n",
       "      <td>0.75</td>\n",
       "      <td>0.0</td>\n",
       "      <td>0.25</td>\n",
       "      <td>0</td>\n",
       "      <td>0</td>\n",
       "      <td>1</td>\n",
       "      <td>0</td>\n",
       "      <td>0</td>\n",
       "      <td>1</td>\n",
       "      <td>0</td>\n",
       "      <td>...</td>\n",
       "      <td>0</td>\n",
       "      <td>0</td>\n",
       "      <td>1</td>\n",
       "      <td>1</td>\n",
       "      <td>0</td>\n",
       "      <td>0</td>\n",
       "      <td>0</td>\n",
       "      <td>0</td>\n",
       "      <td>1</td>\n",
       "      <td>0</td>\n",
       "    </tr>\n",
       "    <tr>\n",
       "      <th>2930</th>\n",
       "      <td>1.00</td>\n",
       "      <td>0.0</td>\n",
       "      <td>1.00</td>\n",
       "      <td>0</td>\n",
       "      <td>0</td>\n",
       "      <td>1</td>\n",
       "      <td>0</td>\n",
       "      <td>0</td>\n",
       "      <td>1</td>\n",
       "      <td>0</td>\n",
       "      <td>...</td>\n",
       "      <td>1</td>\n",
       "      <td>0</td>\n",
       "      <td>0</td>\n",
       "      <td>1</td>\n",
       "      <td>0</td>\n",
       "      <td>0</td>\n",
       "      <td>0</td>\n",
       "      <td>1</td>\n",
       "      <td>0</td>\n",
       "      <td>0</td>\n",
       "    </tr>\n",
       "    <tr>\n",
       "      <th>11668</th>\n",
       "      <td>1.00</td>\n",
       "      <td>0.0</td>\n",
       "      <td>1.00</td>\n",
       "      <td>0</td>\n",
       "      <td>0</td>\n",
       "      <td>0</td>\n",
       "      <td>1</td>\n",
       "      <td>0</td>\n",
       "      <td>1</td>\n",
       "      <td>0</td>\n",
       "      <td>...</td>\n",
       "      <td>1</td>\n",
       "      <td>0</td>\n",
       "      <td>0</td>\n",
       "      <td>1</td>\n",
       "      <td>0</td>\n",
       "      <td>0</td>\n",
       "      <td>0</td>\n",
       "      <td>1</td>\n",
       "      <td>0</td>\n",
       "      <td>0</td>\n",
       "    </tr>\n",
       "    <tr>\n",
       "      <th>10139</th>\n",
       "      <td>1.00</td>\n",
       "      <td>0.0</td>\n",
       "      <td>0.00</td>\n",
       "      <td>0</td>\n",
       "      <td>0</td>\n",
       "      <td>1</td>\n",
       "      <td>0</td>\n",
       "      <td>0</td>\n",
       "      <td>1</td>\n",
       "      <td>0</td>\n",
       "      <td>...</td>\n",
       "      <td>1</td>\n",
       "      <td>0</td>\n",
       "      <td>0</td>\n",
       "      <td>1</td>\n",
       "      <td>0</td>\n",
       "      <td>0</td>\n",
       "      <td>1</td>\n",
       "      <td>0</td>\n",
       "      <td>0</td>\n",
       "      <td>0</td>\n",
       "    </tr>\n",
       "    <tr>\n",
       "      <th>...</th>\n",
       "      <td>...</td>\n",
       "      <td>...</td>\n",
       "      <td>...</td>\n",
       "      <td>...</td>\n",
       "      <td>...</td>\n",
       "      <td>...</td>\n",
       "      <td>...</td>\n",
       "      <td>...</td>\n",
       "      <td>...</td>\n",
       "      <td>...</td>\n",
       "      <td>...</td>\n",
       "      <td>...</td>\n",
       "      <td>...</td>\n",
       "      <td>...</td>\n",
       "      <td>...</td>\n",
       "      <td>...</td>\n",
       "      <td>...</td>\n",
       "      <td>...</td>\n",
       "      <td>...</td>\n",
       "      <td>...</td>\n",
       "      <td>...</td>\n",
       "    </tr>\n",
       "    <tr>\n",
       "      <th>5270</th>\n",
       "      <td>0.60</td>\n",
       "      <td>0.0</td>\n",
       "      <td>0.40</td>\n",
       "      <td>1</td>\n",
       "      <td>0</td>\n",
       "      <td>0</td>\n",
       "      <td>0</td>\n",
       "      <td>0</td>\n",
       "      <td>0</td>\n",
       "      <td>1</td>\n",
       "      <td>...</td>\n",
       "      <td>0</td>\n",
       "      <td>0</td>\n",
       "      <td>1</td>\n",
       "      <td>1</td>\n",
       "      <td>0</td>\n",
       "      <td>0</td>\n",
       "      <td>0</td>\n",
       "      <td>0</td>\n",
       "      <td>1</td>\n",
       "      <td>0</td>\n",
       "    </tr>\n",
       "    <tr>\n",
       "      <th>25839</th>\n",
       "      <td>1.00</td>\n",
       "      <td>0.0</td>\n",
       "      <td>0.50</td>\n",
       "      <td>0</td>\n",
       "      <td>1</td>\n",
       "      <td>0</td>\n",
       "      <td>0</td>\n",
       "      <td>0</td>\n",
       "      <td>1</td>\n",
       "      <td>0</td>\n",
       "      <td>...</td>\n",
       "      <td>1</td>\n",
       "      <td>0</td>\n",
       "      <td>0</td>\n",
       "      <td>1</td>\n",
       "      <td>0</td>\n",
       "      <td>0</td>\n",
       "      <td>0</td>\n",
       "      <td>0</td>\n",
       "      <td>0</td>\n",
       "      <td>1</td>\n",
       "    </tr>\n",
       "    <tr>\n",
       "      <th>14829</th>\n",
       "      <td>1.00</td>\n",
       "      <td>0.0</td>\n",
       "      <td>0.00</td>\n",
       "      <td>0</td>\n",
       "      <td>0</td>\n",
       "      <td>1</td>\n",
       "      <td>0</td>\n",
       "      <td>0</td>\n",
       "      <td>1</td>\n",
       "      <td>0</td>\n",
       "      <td>...</td>\n",
       "      <td>1</td>\n",
       "      <td>0</td>\n",
       "      <td>0</td>\n",
       "      <td>1</td>\n",
       "      <td>0</td>\n",
       "      <td>0</td>\n",
       "      <td>1</td>\n",
       "      <td>0</td>\n",
       "      <td>0</td>\n",
       "      <td>0</td>\n",
       "    </tr>\n",
       "    <tr>\n",
       "      <th>1946</th>\n",
       "      <td>1.00</td>\n",
       "      <td>0.0</td>\n",
       "      <td>1.00</td>\n",
       "      <td>0</td>\n",
       "      <td>0</td>\n",
       "      <td>1</td>\n",
       "      <td>0</td>\n",
       "      <td>0</td>\n",
       "      <td>0</td>\n",
       "      <td>1</td>\n",
       "      <td>...</td>\n",
       "      <td>1</td>\n",
       "      <td>0</td>\n",
       "      <td>0</td>\n",
       "      <td>1</td>\n",
       "      <td>0</td>\n",
       "      <td>0</td>\n",
       "      <td>0</td>\n",
       "      <td>1</td>\n",
       "      <td>0</td>\n",
       "      <td>0</td>\n",
       "    </tr>\n",
       "    <tr>\n",
       "      <th>10750</th>\n",
       "      <td>0.50</td>\n",
       "      <td>0.0</td>\n",
       "      <td>0.25</td>\n",
       "      <td>0</td>\n",
       "      <td>0</td>\n",
       "      <td>0</td>\n",
       "      <td>0</td>\n",
       "      <td>1</td>\n",
       "      <td>0</td>\n",
       "      <td>0</td>\n",
       "      <td>...</td>\n",
       "      <td>0</td>\n",
       "      <td>0</td>\n",
       "      <td>1</td>\n",
       "      <td>1</td>\n",
       "      <td>0</td>\n",
       "      <td>0</td>\n",
       "      <td>0</td>\n",
       "      <td>0</td>\n",
       "      <td>1</td>\n",
       "      <td>0</td>\n",
       "    </tr>\n",
       "  </tbody>\n",
       "</table>\n",
       "<p>25833 rows × 108 columns</p>\n",
       "</div>"
      ],
      "text/plain": [
       "       NUMADLT  YOUNGCHILD  WRKCOUNT  EDUC_1  EDUC_2  EDUC_3  EDUC_4  EDUC_5  \\\n",
       "11231     1.00         0.0      0.50       0       0       1       0       0   \n",
       "30915     0.75         0.0      0.25       0       0       1       0       0   \n",
       "2930      1.00         0.0      1.00       0       0       1       0       0   \n",
       "11668     1.00         0.0      1.00       0       0       0       1       0   \n",
       "10139     1.00         0.0      0.00       0       0       1       0       0   \n",
       "...        ...         ...       ...     ...     ...     ...     ...     ...   \n",
       "5270      0.60         0.0      0.40       1       0       0       0       0   \n",
       "25839     1.00         0.0      0.50       0       1       0       0       0   \n",
       "14829     1.00         0.0      0.00       0       0       1       0       0   \n",
       "1946      1.00         0.0      1.00       0       0       1       0       0   \n",
       "10750     0.50         0.0      0.25       0       0       0       0       1   \n",
       "\n",
       "       R_RACE_1  R_RACE_2  ...  NUMADLT_ratio_1  NUMADLT_ratio_<0.5  \\\n",
       "11231         1         0  ...                1                   0   \n",
       "30915         1         0  ...                0                   0   \n",
       "2930          1         0  ...                1                   0   \n",
       "11668         1         0  ...                1                   0   \n",
       "10139         1         0  ...                1                   0   \n",
       "...         ...       ...  ...              ...                 ...   \n",
       "5270          0         1  ...                0                   0   \n",
       "25839         1         0  ...                1                   0   \n",
       "14829         1         0  ...                1                   0   \n",
       "1946          0         1  ...                1                   0   \n",
       "10750         0         0  ...                0                   0   \n",
       "\n",
       "       NUMADLT_ratio_>0.5  YOUNGCHILD_ratio_0  YOUNGCHILD_ratio_<0.5  \\\n",
       "11231                   0                   1                      0   \n",
       "30915                   1                   1                      0   \n",
       "2930                    0                   1                      0   \n",
       "11668                   0                   1                      0   \n",
       "10139                   0                   1                      0   \n",
       "...                   ...                 ...                    ...   \n",
       "5270                    1                   1                      0   \n",
       "25839                   0                   1                      0   \n",
       "14829                   0                   1                      0   \n",
       "1946                    0                   1                      0   \n",
       "10750                   1                   1                      0   \n",
       "\n",
       "       YOUNGCHILD_ratio_>0.5  WRKCOUNT_ratio_0  WRKCOUNT_ratio_1  \\\n",
       "11231                      0                 0                 0   \n",
       "30915                      0                 0                 0   \n",
       "2930                       0                 0                 1   \n",
       "11668                      0                 0                 1   \n",
       "10139                      0                 1                 0   \n",
       "...                      ...               ...               ...   \n",
       "5270                       0                 0                 0   \n",
       "25839                      0                 0                 0   \n",
       "14829                      0                 1                 0   \n",
       "1946                       0                 0                 1   \n",
       "10750                      0                 0                 0   \n",
       "\n",
       "       WRKCOUNT_ratio_<0.5  WRKCOUNT_ratio_>0.5  \n",
       "11231                    0                    1  \n",
       "30915                    1                    0  \n",
       "2930                     0                    0  \n",
       "11668                    0                    0  \n",
       "10139                    0                    0  \n",
       "...                    ...                  ...  \n",
       "5270                     1                    0  \n",
       "25839                    0                    1  \n",
       "14829                    0                    0  \n",
       "1946                     0                    0  \n",
       "10750                    1                    0  \n",
       "\n",
       "[25833 rows x 108 columns]"
      ]
     },
     "execution_count": 55,
     "metadata": {},
     "output_type": "execute_result"
    }
   ],
   "source": [
    "x_train"
   ]
  },
  {
   "cell_type": "markdown",
   "metadata": {},
   "source": [
    "## Models"
   ]
  },
  {
   "cell_type": "markdown",
   "metadata": {},
   "source": [
    "### Linear Regression"
   ]
  },
  {
   "cell_type": "code",
   "execution_count": 56,
   "metadata": {},
   "outputs": [],
   "source": [
    "#Checking for multicollinearity through variance Inflation Factor \n",
    "#VIF=1, Very Less Multicollinearity\n",
    "#VIF<5, Moderate Multicollinearity\n",
    "#VIF>5, Extreme Multicollinearity (This is what we have to avoid)\n",
    "\n",
    "import statsmodels.api as sm\n",
    "from statsmodels.stats.outliers_influence import variance_inflation_factor\n",
    "from sklearn import linear_model, model_selection, metrics\n"
   ]
  },
  {
   "cell_type": "code",
   "execution_count": 57,
   "metadata": {},
   "outputs": [],
   "source": [
    "LRmodel = linear_model.LinearRegression()  #create the linear regression \n",
    "LRmodel.fit(x_train,y_train) #train the model using the training set \n",
    "LR_pred = LRmodel.predict(x_test) #use this model to predict the test data set "
   ]
  },
  {
   "cell_type": "code",
   "execution_count": 58,
   "metadata": {},
   "outputs": [
    {
     "name": "stdout",
     "output_type": "stream",
     "text": [
      "R^2 score:\t\t\t\t 0.07285983438714871\n",
      "Explained Variance: \t\t\t 0.07301377435918877\n",
      "Mean Absolute Error: \t\t\t 1.9704476070212107\n",
      "Mean Squared Error:\t\t\t 6.308386905290409\n",
      "Root Mean Squared Error:\t\t 2.511650235460823\n",
      "Intercept:\t 5170063730475.789\n",
      "Coef:\t 108\n"
     ]
    }
   ],
   "source": [
    "print('R^2 score:\\t\\t\\t\\t',LRmodel.score(x_test, y_test)) #compute R^2 score \n",
    "print('Explained Variance: \\t\\t\\t', metrics.explained_variance_score(y_test, LR_pred)) #compute explained variance score\n",
    "print('Mean Absolute Error: \\t\\t\\t', metrics.mean_absolute_error(y_test, LR_pred)) #compute MAE results\n",
    "print('Mean Squared Error:\\t\\t\\t', metrics.mean_squared_error(y_test, LR_pred)) #compute MSE results\n",
    "print('Root Mean Squared Error:\\t\\t', metrics.mean_squared_error(y_test, LR_pred, squared = False)) #compute RSME results\n",
    "print('Intercept:\\t', LRmodel.intercept_) #find intercept value \n",
    "print('Coef:\\t', np.sum(LRmodel.coef_!=0))#find no of features used in regression model "
   ]
  },
  {
   "cell_type": "code",
   "execution_count": 59,
   "metadata": {},
   "outputs": [],
   "source": [
    "#x_train_sm= sm.add_constant(x_train)\n",
    "#ls=sm.OLS(y_train,x_train_sm).fit()\n",
    "#print(ls.summary())"
   ]
  },
  {
   "cell_type": "code",
   "execution_count": 60,
   "metadata": {},
   "outputs": [
    {
     "data": {
      "text/plain": [
       "<matplotlib.axes._subplots.AxesSubplot at 0x2b96fa9fbc8>"
      ]
     },
     "execution_count": 60,
     "metadata": {},
     "output_type": "execute_result"
    },
    {
     "data": {
      "image/png": "[encoded data removed]",
      "text/plain": [
       "<Figure size 432x288 with 1 Axes>"
      ]
     },
     "metadata": {
      "needs_background": "light"
     },
     "output_type": "display_data"
    }
   ],
   "source": [
    "sns.regplot(y_test,LR_pred) #plotting predictions "
   ]
  },
  {
   "cell_type": "code",
   "execution_count": 61,
   "metadata": {},
   "outputs": [
    {
     "name": "stdout",
     "output_type": "stream",
     "text": [
      "                   feature           VIF\n",
      "0                  NUMADLT  2.942640e+01\n",
      "1               YOUNGCHILD  2.050193e+01\n",
      "2                 WRKCOUNT  6.113980e+01\n",
      "3                   EDUC_1  6.216316e+00\n",
      "4                   EDUC_2  1.985220e+01\n",
      "..                     ...           ...\n",
      "103  YOUNGCHILD_ratio_>0.5  3.167719e+08\n",
      "104       WRKCOUNT_ratio_0  8.046134e+06\n",
      "105       WRKCOUNT_ratio_1  2.746632e+07\n",
      "106    WRKCOUNT_ratio_<0.5  3.786494e+08\n",
      "107    WRKCOUNT_ratio_>0.5  2.085891e+06\n",
      "\n",
      "[108 rows x 2 columns]\n"
     ]
    }
   ],
   "source": [
    "#calculate VIF scores to detect multicolinearity \n",
    "\n",
    "# VIF dataframe\n",
    "vif_data = pd.DataFrame()\n",
    "vif_data[\"feature\"] = x_train.columns\n",
    "  \n",
    "# calculating VIF for each feature\n",
    "vif_data[\"VIF\"] = [variance_inflation_factor(x_train.values, i)\n",
    "                          for i in range(len(x_train.columns))]\n",
    "  \n",
    "print(vif_data)"
   ]
  },
  {
   "cell_type": "code",
   "execution_count": 62,
   "metadata": {},
   "outputs": [
    {
     "data": {
      "text/html": [
       "<div>\n",
       "<style scoped>\n",
       "    .dataframe tbody tr th:only-of-type {\n",
       "        vertical-align: middle;\n",
       "    }\n",
       "\n",
       "    .dataframe tbody tr th {\n",
       "        vertical-align: top;\n",
       "    }\n",
       "\n",
       "    .dataframe thead th {\n",
       "        text-align: right;\n",
       "    }\n",
       "</style>\n",
       "<table border=\"1\" class=\"dataframe\">\n",
       "  <thead>\n",
       "    <tr style=\"text-align: right;\">\n",
       "      <th></th>\n",
       "      <th>feature</th>\n",
       "      <th>VIF</th>\n",
       "    </tr>\n",
       "  </thead>\n",
       "  <tbody>\n",
       "    <tr>\n",
       "      <th>88</th>\n",
       "      <td>LIF_CYC_8</td>\n",
       "      <td>2.187403e+10</td>\n",
       "    </tr>\n",
       "    <tr>\n",
       "      <th>87</th>\n",
       "      <td>LIF_CYC_7</td>\n",
       "      <td>1.313367e+10</td>\n",
       "    </tr>\n",
       "    <tr>\n",
       "      <th>49</th>\n",
       "      <td>HHVEHCNT_&gt;3</td>\n",
       "      <td>8.181074e+09</td>\n",
       "    </tr>\n",
       "    <tr>\n",
       "      <th>83</th>\n",
       "      <td>LIF_CYC_3</td>\n",
       "      <td>4.855068e+09</td>\n",
       "    </tr>\n",
       "    <tr>\n",
       "      <th>31</th>\n",
       "      <td>TRAVDAY_4</td>\n",
       "      <td>4.265746e+09</td>\n",
       "    </tr>\n",
       "    <tr>\n",
       "      <th>...</th>\n",
       "      <td>...</td>\n",
       "      <td>...</td>\n",
       "    </tr>\n",
       "    <tr>\n",
       "      <th>54</th>\n",
       "      <td>HHFAMINC_3</td>\n",
       "      <td>2.811139e+00</td>\n",
       "    </tr>\n",
       "    <tr>\n",
       "      <th>53</th>\n",
       "      <td>HHFAMINC_2</td>\n",
       "      <td>1.922553e+00</td>\n",
       "    </tr>\n",
       "    <tr>\n",
       "      <th>50</th>\n",
       "      <td>HHFAMINC_1</td>\n",
       "      <td>1.748481e+00</td>\n",
       "    </tr>\n",
       "    <tr>\n",
       "      <th>11</th>\n",
       "      <td>R_RACE_4</td>\n",
       "      <td>1.447967e+00</td>\n",
       "    </tr>\n",
       "    <tr>\n",
       "      <th>12</th>\n",
       "      <td>R_RACE_5</td>\n",
       "      <td>1.151761e+00</td>\n",
       "    </tr>\n",
       "  </tbody>\n",
       "</table>\n",
       "<p>108 rows × 2 columns</p>\n",
       "</div>"
      ],
      "text/plain": [
       "        feature           VIF\n",
       "88    LIF_CYC_8  2.187403e+10\n",
       "87    LIF_CYC_7  1.313367e+10\n",
       "49  HHVEHCNT_>3  8.181074e+09\n",
       "83    LIF_CYC_3  4.855068e+09\n",
       "31    TRAVDAY_4  4.265746e+09\n",
       "..          ...           ...\n",
       "54   HHFAMINC_3  2.811139e+00\n",
       "53   HHFAMINC_2  1.922553e+00\n",
       "50   HHFAMINC_1  1.748481e+00\n",
       "11     R_RACE_4  1.447967e+00\n",
       "12     R_RACE_5  1.151761e+00\n",
       "\n",
       "[108 rows x 2 columns]"
      ]
     },
     "execution_count": 62,
     "metadata": {},
     "output_type": "execute_result"
    }
   ],
   "source": [
    "vif_data.sort_values(by = 'VIF', ascending = False)"
   ]
  },
  {
   "cell_type": "code",
   "execution_count": 63,
   "metadata": {},
   "outputs": [
    {
     "name": "stdout",
     "output_type": "stream",
     "text": [
      "It contains 0 infinite values\n"
     ]
    }
   ],
   "source": [
    "# counting number of infinity features \n",
    "\n",
    "vif_data_inf = np.isinf(vif_data['VIF']).values.sum()\n",
    "print(\"It contains \" + str(vif_data_inf) + \" infinite values\")"
   ]
  },
  {
   "cell_type": "markdown",
   "metadata": {},
   "source": [
    "#### PCA - dimension reduction"
   ]
  },
  {
   "cell_type": "code",
   "execution_count": null,
   "metadata": {},
   "outputs": [],
   "source": []
  },
  {
   "cell_type": "code",
   "execution_count": null,
   "metadata": {},
   "outputs": [],
   "source": []
  },
  {
   "cell_type": "code",
   "execution_count": null,
   "metadata": {},
   "outputs": [],
   "source": []
  },
  {
   "cell_type": "code",
   "execution_count": null,
   "metadata": {},
   "outputs": [],
   "source": []
  },
  {
   "cell_type": "markdown",
   "metadata": {},
   "source": [
    "### Random Forest"
   ]
  },
  {
   "cell_type": "code",
   "execution_count": 74,
   "metadata": {},
   "outputs": [
    {
     "data": {
      "text/plain": [
       "RandomForestRegressor(max_features=50, n_estimators=1000, oob_score=True,\n",
       "                      random_state=2019)"
      ]
     },
     "execution_count": 74,
     "metadata": {},
     "output_type": "execute_result"
    }
   ],
   "source": [
    "from sklearn import tree, ensemble, model_selection, metrics\n",
    "\n",
    "rforest = ensemble.RandomForestRegressor(n_estimators = 1000, max_features = 50, oob_score = True, random_state = 2019)\n",
    "rforest.fit(x_train, y_train)\n"
   ]
  },
  {
   "cell_type": "code",
   "execution_count": 75,
   "metadata": {},
   "outputs": [
    {
     "data": {
      "text/plain": [
       "0.06210182558203847"
      ]
     },
     "execution_count": 75,
     "metadata": {},
     "output_type": "execute_result"
    }
   ],
   "source": [
    "rforest.score(x_test, y_test)"
   ]
  },
  {
   "cell_type": "code",
   "execution_count": 71,
   "metadata": {},
   "outputs": [
    {
     "data": {
      "text/plain": [
       "(6459, 108)"
      ]
     },
     "execution_count": 71,
     "metadata": {},
     "output_type": "execute_result"
    }
   ],
   "source": [
    "x_test.shape"
   ]
  },
  {
   "cell_type": "code",
   "execution_count": 72,
   "metadata": {},
   "outputs": [
    {
     "data": {
      "text/plain": [
       "<matplotlib.axes._subplots.AxesSubplot at 0x2b97b0e1f88>"
      ]
     },
     "execution_count": 72,
     "metadata": {},
     "output_type": "execute_result"
    },
    {
     "data": {
      "image/png": "[encoded data removed]",
      "text/plain": [
       "<Figure size 432x288 with 1 Axes>"
      ]
     },
     "metadata": {
      "needs_background": "light"
     },
     "output_type": "display_data"
    }
   ],
   "source": [
    "sns.histplot(data = y_train)"
   ]
  },
  {
   "cell_type": "code",
   "execution_count": 73,
   "metadata": {},
   "outputs": [
    {
     "data": {
      "text/plain": [
       "['NUMADLT',\n",
       " 'YOUNGCHILD',\n",
       " 'WRKCOUNT',\n",
       " 'EDUC_1',\n",
       " 'EDUC_2',\n",
       " 'EDUC_3',\n",
       " 'EDUC_4',\n",
       " 'EDUC_5',\n",
       " 'R_RACE_1',\n",
       " 'R_RACE_2',\n",
       " 'R_RACE_3',\n",
       " 'R_RACE_4',\n",
       " 'R_RACE_5',\n",
       " 'R_RACE_6',\n",
       " 'R_RACE_97',\n",
       " 'R_SEX_1',\n",
       " 'R_SEX_2',\n",
       " 'WRK_HOME_1',\n",
       " 'WRK_HOME_2',\n",
       " 'WKFTPT_1',\n",
       " 'WKFTPT_2',\n",
       " 'OCCAT_1',\n",
       " 'OCCAT_2',\n",
       " 'OCCAT_3',\n",
       " 'OCCAT_4',\n",
       " 'OCCAT_97',\n",
       " 'DRIVER_1',\n",
       " 'DRIVER_2',\n",
       " 'TRAVDAY_1',\n",
       " 'TRAVDAY_2',\n",
       " 'TRAVDAY_3',\n",
       " 'TRAVDAY_4',\n",
       " 'TRAVDAY_5',\n",
       " 'TRAVDAY_6',\n",
       " 'TRAVDAY_7',\n",
       " 'HH_CBSA_15380',\n",
       " 'HH_CBSA_35620',\n",
       " 'HH_CBSA_40380',\n",
       " 'HH_CBSA_XXXXX',\n",
       " 'HOMEOWN_1',\n",
       " 'HOMEOWN_2',\n",
       " 'HOMEOWN_97',\n",
       " 'HHSIZE_1',\n",
       " 'HHSIZE_2',\n",
       " 'HHSIZE_3',\n",
       " 'HHSIZE_>3',\n",
       " 'HHVEHCNT_1',\n",
       " 'HHVEHCNT_2',\n",
       " 'HHVEHCNT_3',\n",
       " 'HHVEHCNT_>3',\n",
       " 'HHFAMINC_1',\n",
       " 'HHFAMINC_10',\n",
       " 'HHFAMINC_11',\n",
       " 'HHFAMINC_2',\n",
       " 'HHFAMINC_3',\n",
       " 'HHFAMINC_4',\n",
       " 'HHFAMINC_5',\n",
       " 'HHFAMINC_6',\n",
       " 'HHFAMINC_7',\n",
       " 'HHFAMINC_8',\n",
       " 'HHFAMINC_9',\n",
       " 'MSACAT_1',\n",
       " 'MSACAT_2',\n",
       " 'MSACAT_3',\n",
       " 'MSACAT_4',\n",
       " 'MSASIZE_1',\n",
       " 'MSASIZE_2',\n",
       " 'MSASIZE_3',\n",
       " 'MSASIZE_4',\n",
       " 'MSASIZE_5',\n",
       " 'MSASIZE_6',\n",
       " 'URBAN_rural',\n",
       " 'URBAN_urban',\n",
       " 'URBANSIZE_1',\n",
       " 'URBANSIZE_2',\n",
       " 'URBANSIZE_3',\n",
       " 'URBANSIZE_5',\n",
       " 'URBANSIZE_6',\n",
       " 'URBRUR_1',\n",
       " 'URBRUR_2',\n",
       " 'LIF_CYC_1',\n",
       " 'LIF_CYC_10',\n",
       " 'LIF_CYC_2',\n",
       " 'LIF_CYC_3',\n",
       " 'LIF_CYC_4',\n",
       " 'LIF_CYC_5',\n",
       " 'LIF_CYC_6',\n",
       " 'LIF_CYC_7',\n",
       " 'LIF_CYC_8',\n",
       " 'LIF_CYC_9',\n",
       " 'AGE_bins_16 to 25',\n",
       " 'AGE_bins_26 to 35',\n",
       " 'AGE_bins_36 to 45',\n",
       " 'AGE_bins_46 to 55',\n",
       " 'AGE_bins_5 to 15',\n",
       " 'AGE_bins_56 to 65',\n",
       " 'AGE_bins_66 to 75',\n",
       " 'AGE_bins_>75',\n",
       " 'NUMADLT_ratio_1',\n",
       " 'NUMADLT_ratio_<0.5',\n",
       " 'NUMADLT_ratio_>0.5',\n",
       " 'YOUNGCHILD_ratio_0',\n",
       " 'YOUNGCHILD_ratio_<0.5',\n",
       " 'YOUNGCHILD_ratio_>0.5',\n",
       " 'WRKCOUNT_ratio_0',\n",
       " 'WRKCOUNT_ratio_1',\n",
       " 'WRKCOUNT_ratio_<0.5',\n",
       " 'WRKCOUNT_ratio_>0.5']"
      ]
     },
     "execution_count": 73,
     "metadata": {},
     "output_type": "execute_result"
    }
   ],
   "source": [
    "[c for c in x_train]"
   ]
  },
  {
   "cell_type": "code",
   "execution_count": null,
   "metadata": {},
   "outputs": [],
   "source": []
  }
 ],
 "metadata": {
  "kernelspec": {
   "display_name": "Python 3",
   "language": "python",
   "name": "python3"
  },
  "language_info": {
   "codemirror_mode": {
    "name": "ipython",
    "version": 3
   },
   "file_extension": ".py",
   "mimetype": "text/x-python",
   "name": "python",
   "nbconvert_exporter": "python",
   "pygments_lexer": "ipython3",
   "version": "3.7.4"
  }
 },
 "nbformat": 4,
 "nbformat_minor": 2
}
