{
 "cells": [
  {
   "cell_type": "code",
   "execution_count": 1,
   "metadata": {},
   "outputs": [],
   "source": [
    "import pandas as pd\n",
    "import numpy as np\n",
    "import datetime\n",
    "import matplotlib.pyplot as plt\n",
    "import seaborn as sns\n",
    "%matplotlib inline\n",
    "import warnings\n",
    "import math\n",
    "from scipy.stats import pearsonr\n",
    "import os\n",
    "\n",
    "warnings.filterwarnings('ignore')"
   ]
  },
  {
   "cell_type": "code",
   "execution_count": 2,
   "metadata": {},
   "outputs": [],
   "source": [
    "path = \"C:/Users/Seant/Desktop/aml_data\" #edit this path to change to your path folder\n",
    "\n",
    "#path = \"/Users/jayneteo/Dropbox/SMU MITB/Term 2 2021/AML/Project/NHTS/csv\" \n",
    "\n",
    "household = pd.read_csv(\"\".join([path,'/hhpub.csv']))\n",
    "person =  pd.read_csv(\"\".join([path,'/perpub.csv']))\n",
    "veh =  pd.read_csv(\"\".join([path,'/vehpub.csv']))\n",
    "trip =  pd.read_csv(\"\".join([path,'/trippub.csv']))\n",
    "\n",
    "\n",
    "#person = pd.read_csv('/Users/jayneteo/Dropbox/SMU MITB/Term 2 2021/AML/Project/NHTS/csv/perpub.csv')\n",
    "#veh = pd.read_csv('/Users/jayneteo/Dropbox/SMU MITB/Term 2 2021/AML/Project/NHTS/csv/vehpub.csv')\n",
    "#trip= pd.read_csv('/Users/jayneteo/Dropbox/SMU MITB/Term 2 2021/AML/Project/NHTS/csv/trippub.csv')\n",
    "\n",
    "\n"
   ]
  },
  {
   "cell_type": "code",
   "execution_count": 3,
   "metadata": {},
   "outputs": [],
   "source": [
    "#define function \n",
    "\n",
    "def cat_col_prop(data, col):\n",
    "    print(pd.concat([data[col].value_counts(),\n",
    "          data[col].value_counts(normalize = True).mul(100)],axis = 1, keys = ('counts','percentage')))\n",
    "\n",
    "    sns.countplot(data[col], order =  data[col].value_counts().index)"
   ]
  },
  {
   "cell_type": "markdown",
   "metadata": {},
   "source": [
    "## 1. Household"
   ]
  },
  {
   "cell_type": "code",
   "execution_count": 4,
   "metadata": {},
   "outputs": [],
   "source": [
    "# as only studying hh with car will also filter out hh with HHVEHCNT == 0\n",
    "ny = household[household['HHSTATE'] ==\"NY\"]\n",
    "ny = ny[ny['HHVEHCNT']>0]"
   ]
  },
  {
   "cell_type": "code",
   "execution_count": 5,
   "metadata": {},
   "outputs": [
    {
     "data": {
      "text/plain": [
       "(15636, 58)"
      ]
     },
     "execution_count": 5,
     "metadata": {},
     "output_type": "execute_result"
    }
   ],
   "source": [
    "#15636 households in NY with at least one vehicle\n",
    "ny.shape"
   ]
  },
  {
   "cell_type": "code",
   "execution_count": 6,
   "metadata": {
    "scrolled": true
   },
   "outputs": [
    {
     "data": {
      "text/plain": [
       "Index(['HOUSEID', 'TRAVDAY', 'SAMPSTRAT', 'HOMEOWN', 'HHSIZE', 'HHVEHCNT',\n",
       "       'HHFAMINC', 'PC', 'SPHONE', 'TAB', 'WALK', 'BIKE', 'CAR', 'TAXI', 'BUS',\n",
       "       'TRAIN', 'PARA', 'PRICE', 'PLACE', 'WALK2SAVE', 'BIKE2SAVE', 'PTRANS',\n",
       "       'HHRELATD', 'DRVRCNT', 'CNTTDHH', 'HHSTATE', 'HHSTFIPS', 'NUMADLT',\n",
       "       'YOUNGCHILD', 'WRKCOUNT', 'TDAYDATE', 'HHRESP', 'LIF_CYC', 'MSACAT',\n",
       "       'MSASIZE', 'RAIL', 'URBAN', 'URBANSIZE', 'URBRUR', 'SCRESP', 'CENSUS_D',\n",
       "       'CENSUS_R', 'CDIVMSAR', 'HH_RACE', 'HH_HISP', 'HH_CBSA', 'RESP_CNT',\n",
       "       'WEBUSE17', 'SMPLSRCE', 'WTHHFIN', 'HBHUR', 'HTHTNRNT', 'HTPPOPDN',\n",
       "       'HTRESDN', 'HTEEMPDN', 'HBHTNRNT', 'HBPPOPDN', 'HBRESDN'],\n",
       "      dtype='object')"
      ]
     },
     "execution_count": 6,
     "metadata": {},
     "output_type": "execute_result"
    }
   ],
   "source": [
    "ny.columns"
   ]
  },
  {
   "cell_type": "code",
   "execution_count": 7,
   "metadata": {},
   "outputs": [
    {
     "name": "stdout",
     "output_type": "stream",
     "text": [
      "min value: 0 should keep these values too 1411 occurences of total 15636 ( 9.024047070862114 %)\n"
     ]
    },
    {
     "data": {
      "image/png": "[encoded data removed]",
      "text/plain": [
       "<Figure size 432x288 with 1 Axes>"
      ]
     },
     "metadata": {
      "needs_background": "light"
     },
     "output_type": "display_data"
    }
   ],
   "source": [
    "# label - cause of the zero values may not be able to log\n",
    "sns.countplot(ny['CNTTDHH'])\n",
    "print(\"min value:\",str(min(ny['CNTTDHH'])),\"should keep these values too\",str(sum(ny['CNTTDHH']==0)), \"occurences of total\", len(ny), \"(\", str(sum(ny['CNTTDHH']==0)/len(ny)*100),\"%)\" )\n"
   ]
  },
  {
   "cell_type": "markdown",
   "metadata": {},
   "source": [
    "### MSACAT"
   ]
  },
  {
   "cell_type": "code",
   "execution_count": 8,
   "metadata": {},
   "outputs": [
    {
     "name": "stdout",
     "output_type": "stream",
     "text": [
      "   counts  percentage\n",
      "3    6936   44.359171\n",
      "1    4384   28.037861\n",
      "4    2635   16.852136\n",
      "2    1681   10.750831\n"
     ]
    },
    {
     "data": {
      "image/png": "[encoded data removed]",
      "text/plain": [
       "<Figure size 432x288 with 1 Axes>"
      ]
     },
     "metadata": {
      "needs_background": "light"
     },
     "output_type": "display_data"
    }
   ],
   "source": [
    "#Metropolitan Statistical Area (MSA) category for the household's home address\n",
    "#majority are in MSA = 3 >> MSA less than 1 million based on household's home\n",
    "\n",
    "\n",
    "ny['MSACAT'].value_counts()\n",
    "\n",
    "cat_col_prop(ny,'MSACAT')\n"
   ]
  },
  {
   "cell_type": "code",
   "execution_count": 9,
   "metadata": {},
   "outputs": [
    {
     "name": "stdout",
     "output_type": "stream",
     "text": [
      "   counts  percentage\n",
      "5    4384   28.037861\n",
      "1    4067   26.010489\n",
      "6    2635   16.852136\n",
      "3    2135   13.654387\n",
      "4    1681   10.750831\n",
      "2     734    4.694295\n"
     ]
    },
    {
     "data": {
      "image/png": "[encoded data removed]",
      "text/plain": [
       "<Figure size 432x288 with 1 Axes>"
      ]
     },
     "metadata": {
      "needs_background": "light"
     },
     "output_type": "display_data"
    }
   ],
   "source": [
    "#Population size category of the Metropolitan Statistical Area (MSA), from the 2010-2014 five-year American Community Survey (ACS) API.\n",
    "\n",
    "#05= In an MSA or CMSA of 3 million or more\n",
    "\n",
    "ny['MSASIZE'].value_counts()\n",
    "\n",
    "cat_col_prop(ny,'MSASIZE')"
   ]
  },
  {
   "cell_type": "code",
   "execution_count": 10,
   "metadata": {},
   "outputs": [
    {
     "name": "stdout",
     "output_type": "stream",
     "text": [
      "    counts  percentage\n",
      "23    6933   44.339985\n",
      "21    4380   28.012279\n",
      "24    2634   16.845741\n",
      "22    1680   10.744436\n",
      "51       3    0.019186\n",
      "13       2    0.012791\n",
      "33       1    0.006395\n",
      "52       1    0.006395\n",
      "54       1    0.006395\n",
      "31       1    0.006395\n"
     ]
    },
    {
     "data": {
      "image/png": "[encoded data removed]",
      "text/plain": [
       "<Figure size 432x288 with 1 Axes>"
      ]
     },
     "metadata": {
      "needs_background": "light"
     },
     "output_type": "display_data"
    }
   ],
   "source": [
    "#Grouping of household by 2 combination of census division, MSA status, \n",
    "#and presence of a subway system when population greater than 1 million\n",
    "\n",
    "#23=Mid-Atlantic (NY, NJ, PA) MSA of less than 1 million\n",
    "#21=Mid-Atlantic (NY, NJ, PA) MSA or CMSA of 1 million or more with heavy rail\n",
    "#24=Mid-Atlantic (NY, NJ, PA) Not in a MSA\n",
    "#22=Mid-Atlantic (NY, NJ, PA) MSA or CMSA of 1 million or more without heavy rail\n",
    "\n",
    "ny['CDIVMSAR'].value_counts()\n",
    "\n",
    "cat_col_prop(ny,'CDIVMSAR')"
   ]
  },
  {
   "cell_type": "code",
   "execution_count": 11,
   "metadata": {},
   "outputs": [
    {
     "name": "stdout",
     "output_type": "stream",
     "text": [
      "    counts  percentage\n",
      "23    6933   44.365521\n",
      "21    4380   28.028412\n",
      "24    2634   16.855443\n",
      "22    1680   10.750624\n"
     ]
    },
    {
     "data": {
      "image/png": "[encoded data removed]",
      "text/plain": [
       "<Figure size 432x288 with 1 Axes>"
      ]
     },
     "metadata": {
      "needs_background": "light"
     },
     "output_type": "display_data"
    }
   ],
   "source": [
    "ny = ny[ny['CDIVMSAR'].isin([21,22,23,24])]\n",
    "ny['CDIVMSAR'].value_counts()\n",
    "cat_col_prop(ny,'CDIVMSAR')"
   ]
  },
  {
   "cell_type": "markdown",
   "metadata": {},
   "source": [
    "### Core Based Statistical Area FIPS code"
   ]
  },
  {
   "cell_type": "code",
   "execution_count": 12,
   "metadata": {},
   "outputs": [
    {
     "name": "stdout",
     "output_type": "stream",
     "text": [
      "       counts  percentage\n",
      "XXXXX    9567   61.220964\n",
      "35620    4380   28.028412\n",
      "40380     901    5.765662\n",
      "15380     779    4.984962\n"
     ]
    },
    {
     "data": {
      "image/png": "[encoded data removed]",
      "text/plain": [
       "<Figure size 432x288 with 1 Axes>"
      ]
     },
     "metadata": {
      "needs_background": "light"
     },
     "output_type": "display_data"
    }
   ],
   "source": [
    "#Core Based Statistical Area (CBSA) FIPS code for the respondent's home address\n",
    "\n",
    "ny['HH_CBSA'].value_counts()\n",
    "\n",
    "cat_col_prop(ny,'HH_CBSA')\n",
    "\n",
    "# significant number of households under the 'XXXXX=Suppressed, in an MSA of less than 1 million ' category"
   ]
  },
  {
   "cell_type": "code",
   "execution_count": 13,
   "metadata": {
    "scrolled": true
   },
   "outputs": [
    {
     "data": {
      "text/html": [
       "<div>\n",
       "<style scoped>\n",
       "    .dataframe tbody tr th:only-of-type {\n",
       "        vertical-align: middle;\n",
       "    }\n",
       "\n",
       "    .dataframe tbody tr th {\n",
       "        vertical-align: top;\n",
       "    }\n",
       "\n",
       "    .dataframe thead th {\n",
       "        text-align: right;\n",
       "    }\n",
       "</style>\n",
       "<table border=\"1\" class=\"dataframe\">\n",
       "  <thead>\n",
       "    <tr style=\"text-align: right;\">\n",
       "      <th></th>\n",
       "      <th>HOUSEID</th>\n",
       "      <th>TRAVDAY</th>\n",
       "      <th>SAMPSTRAT</th>\n",
       "      <th>HOMEOWN</th>\n",
       "      <th>HHSIZE</th>\n",
       "      <th>HHVEHCNT</th>\n",
       "      <th>HHFAMINC</th>\n",
       "      <th>PC</th>\n",
       "      <th>SPHONE</th>\n",
       "      <th>TAB</th>\n",
       "      <th>...</th>\n",
       "      <th>SMPLSRCE</th>\n",
       "      <th>WTHHFIN</th>\n",
       "      <th>HBHUR</th>\n",
       "      <th>HTHTNRNT</th>\n",
       "      <th>HTPPOPDN</th>\n",
       "      <th>HTRESDN</th>\n",
       "      <th>HTEEMPDN</th>\n",
       "      <th>HBHTNRNT</th>\n",
       "      <th>HBPPOPDN</th>\n",
       "      <th>HBRESDN</th>\n",
       "    </tr>\n",
       "  </thead>\n",
       "  <tbody>\n",
       "    <tr>\n",
       "      <th>2</th>\n",
       "      <td>30000012</td>\n",
       "      <td>5</td>\n",
       "      <td>3</td>\n",
       "      <td>1</td>\n",
       "      <td>1</td>\n",
       "      <td>2</td>\n",
       "      <td>10</td>\n",
       "      <td>1</td>\n",
       "      <td>1</td>\n",
       "      <td>3</td>\n",
       "      <td>...</td>\n",
       "      <td>2</td>\n",
       "      <td>79.419586</td>\n",
       "      <td>C</td>\n",
       "      <td>80</td>\n",
       "      <td>17000</td>\n",
       "      <td>17000</td>\n",
       "      <td>5000</td>\n",
       "      <td>60</td>\n",
       "      <td>17000</td>\n",
       "      <td>7000</td>\n",
       "    </tr>\n",
       "    <tr>\n",
       "      <th>8</th>\n",
       "      <td>30000082</td>\n",
       "      <td>3</td>\n",
       "      <td>3</td>\n",
       "      <td>2</td>\n",
       "      <td>4</td>\n",
       "      <td>2</td>\n",
       "      <td>8</td>\n",
       "      <td>1</td>\n",
       "      <td>1</td>\n",
       "      <td>5</td>\n",
       "      <td>...</td>\n",
       "      <td>2</td>\n",
       "      <td>1148.809332</td>\n",
       "      <td>T</td>\n",
       "      <td>20</td>\n",
       "      <td>1500</td>\n",
       "      <td>300</td>\n",
       "      <td>750</td>\n",
       "      <td>30</td>\n",
       "      <td>750</td>\n",
       "      <td>300</td>\n",
       "    </tr>\n",
       "    <tr>\n",
       "      <th>15</th>\n",
       "      <td>30000130</td>\n",
       "      <td>1</td>\n",
       "      <td>1</td>\n",
       "      <td>1</td>\n",
       "      <td>2</td>\n",
       "      <td>1</td>\n",
       "      <td>5</td>\n",
       "      <td>-9</td>\n",
       "      <td>1</td>\n",
       "      <td>-9</td>\n",
       "      <td>...</td>\n",
       "      <td>1</td>\n",
       "      <td>3829.959655</td>\n",
       "      <td>U</td>\n",
       "      <td>60</td>\n",
       "      <td>30000</td>\n",
       "      <td>17000</td>\n",
       "      <td>5000</td>\n",
       "      <td>70</td>\n",
       "      <td>30000</td>\n",
       "      <td>17000</td>\n",
       "    </tr>\n",
       "    <tr>\n",
       "      <th>39</th>\n",
       "      <td>30000380</td>\n",
       "      <td>2</td>\n",
       "      <td>3</td>\n",
       "      <td>2</td>\n",
       "      <td>3</td>\n",
       "      <td>1</td>\n",
       "      <td>3</td>\n",
       "      <td>1</td>\n",
       "      <td>1</td>\n",
       "      <td>2</td>\n",
       "      <td>...</td>\n",
       "      <td>2</td>\n",
       "      <td>370.744472</td>\n",
       "      <td>S</td>\n",
       "      <td>50</td>\n",
       "      <td>3000</td>\n",
       "      <td>1500</td>\n",
       "      <td>1500</td>\n",
       "      <td>50</td>\n",
       "      <td>3000</td>\n",
       "      <td>1500</td>\n",
       "    </tr>\n",
       "    <tr>\n",
       "      <th>44</th>\n",
       "      <td>30000434</td>\n",
       "      <td>7</td>\n",
       "      <td>3</td>\n",
       "      <td>1</td>\n",
       "      <td>2</td>\n",
       "      <td>2</td>\n",
       "      <td>8</td>\n",
       "      <td>1</td>\n",
       "      <td>1</td>\n",
       "      <td>3</td>\n",
       "      <td>...</td>\n",
       "      <td>2</td>\n",
       "      <td>101.472420</td>\n",
       "      <td>R</td>\n",
       "      <td>30</td>\n",
       "      <td>1500</td>\n",
       "      <td>750</td>\n",
       "      <td>750</td>\n",
       "      <td>30</td>\n",
       "      <td>750</td>\n",
       "      <td>300</td>\n",
       "    </tr>\n",
       "  </tbody>\n",
       "</table>\n",
       "<p>5 rows × 58 columns</p>\n",
       "</div>"
      ],
      "text/plain": [
       "     HOUSEID  TRAVDAY  SAMPSTRAT  HOMEOWN  HHSIZE  HHVEHCNT  HHFAMINC  PC  \\\n",
       "2   30000012        5          3        1       1         2        10   1   \n",
       "8   30000082        3          3        2       4         2         8   1   \n",
       "15  30000130        1          1        1       2         1         5  -9   \n",
       "39  30000380        2          3        2       3         1         3   1   \n",
       "44  30000434        7          3        1       2         2         8   1   \n",
       "\n",
       "    SPHONE  TAB  ...  SMPLSRCE      WTHHFIN  HBHUR  HTHTNRNT  HTPPOPDN  \\\n",
       "2        1    3  ...         2    79.419586      C        80     17000   \n",
       "8        1    5  ...         2  1148.809332      T        20      1500   \n",
       "15       1   -9  ...         1  3829.959655      U        60     30000   \n",
       "39       1    2  ...         2   370.744472      S        50      3000   \n",
       "44       1    3  ...         2   101.472420      R        30      1500   \n",
       "\n",
       "    HTRESDN  HTEEMPDN  HBHTNRNT  HBPPOPDN  HBRESDN  \n",
       "2     17000      5000        60     17000     7000  \n",
       "8       300       750        30       750      300  \n",
       "15    17000      5000        70     30000    17000  \n",
       "39     1500      1500        50      3000     1500  \n",
       "44      750       750        30       750      300  \n",
       "\n",
       "[5 rows x 58 columns]"
      ]
     },
     "execution_count": 13,
     "metadata": {},
     "output_type": "execute_result"
    }
   ],
   "source": [
    "ny.head()"
   ]
  },
  {
   "cell_type": "markdown",
   "metadata": {},
   "source": [
    "### Travel Dayof Week Lower"
   ]
  },
  {
   "cell_type": "code",
   "execution_count": 14,
   "metadata": {},
   "outputs": [
    {
     "name": "stdout",
     "output_type": "stream",
     "text": [
      "   counts  percentage\n",
      "2    2272   14.538939\n",
      "5    2268   14.513342\n",
      "1    2250   14.398157\n",
      "7    2247   14.378959\n",
      "6    2227   14.250976\n",
      "3    2202   14.090996\n",
      "4    2161   13.828630\n"
     ]
    },
    {
     "data": {
      "image/png": "[encoded data removed]",
      "text/plain": [
       "<Figure size 432x288 with 1 Axes>"
      ]
     },
     "metadata": {
      "needs_background": "light"
     },
     "output_type": "display_data"
    }
   ],
   "source": [
    "#relatively equal number of days of the week\n",
    "ny['TRAVDAY'].value_counts()\n",
    "\n",
    "cat_col_prop(ny,'TRAVDAY')"
   ]
  },
  {
   "cell_type": "markdown",
   "metadata": {},
   "source": [
    "### Home ownership"
   ]
  },
  {
   "cell_type": "code",
   "execution_count": 15,
   "metadata": {},
   "outputs": [
    {
     "name": "stdout",
     "output_type": "stream",
     "text": [
      "     counts  percentage\n",
      " 1    12790   81.845524\n",
      " 2     2719   17.399373\n",
      " 97     117    0.748704\n",
      "-7        1    0.006399\n"
     ]
    },
    {
     "data": {
      "image/png": "[encoded data removed]",
      "text/plain": [
       "<Figure size 432x288 with 1 Axes>"
      ]
     },
     "metadata": {
      "needs_background": "light"
     },
     "output_type": "display_data"
    }
   ],
   "source": [
    "# Majority Own home while 17 percent rent the rest to replace with 'NA' (to remove while one hot encoding)\n",
    "\n",
    "cat_col_prop(ny,'HOMEOWN')\n",
    "\n",
    "ny['HOMEOWN'] = ny['HOMEOWN'].replace({1:\"HOME_OWN\",\n",
    "                                       2: \"HOME_RENT\",\n",
    "                                      97: \"NA\",\n",
    "                                      -7: \"NA\"})"
   ]
  },
  {
   "cell_type": "code",
   "execution_count": 16,
   "metadata": {},
   "outputs": [
    {
     "name": "stdout",
     "output_type": "stream",
     "text": [
      "           counts  percentage\n",
      "HOME_OWN    12790   81.845524\n",
      "HOME_RENT    2719   17.399373\n",
      "NA            118    0.755103\n"
     ]
    },
    {
     "data": {
      "image/png": "[encoded data removed]",
      "text/plain": [
       "<Figure size 432x288 with 1 Axes>"
      ]
     },
     "metadata": {
      "needs_background": "light"
     },
     "output_type": "display_data"
    }
   ],
   "source": [
    "cat_col_prop(ny,'HOMEOWN')"
   ]
  },
  {
   "cell_type": "markdown",
   "metadata": {},
   "source": [
    "### HHVEHCTN"
   ]
  },
  {
   "cell_type": "code",
   "execution_count": 17,
   "metadata": {},
   "outputs": [
    {
     "name": "stdout",
     "output_type": "stream",
     "text": [
      "    counts  percentage\n",
      "2     6329   40.500416\n",
      "1     5817   37.224035\n",
      "3     2257   14.442951\n",
      "4      795    5.087349\n",
      "5      281    1.798170\n",
      "6       92    0.588725\n",
      "7       34    0.217572\n",
      "8       12    0.076790\n",
      "9        6    0.038395\n",
      "11       2    0.012798\n",
      "12       2    0.012798\n",
      "________\n",
      "new HHVEHCNT\n",
      "    counts  percentage\n",
      "2     6329   40.500416\n",
      "1     5817   37.224035\n",
      ">2    3481   22.275549\n"
     ]
    },
    {
     "data": {
      "image/png": "[encoded data removed]",
      "text/plain": [
       "<Figure size 432x288 with 1 Axes>"
      ]
     },
     "metadata": {
      "needs_background": "light"
     },
     "output_type": "display_data"
    }
   ],
   "source": [
    "#count of household vehicles\n",
    "\n",
    "cat_col_prop(ny,'HHVEHCNT')\n",
    "\n",
    "ny['HHVEHCNT'][ny['HHVEHCNT']>2] = \">2\"\n",
    "\n",
    "print(\"________\")\n",
    "print(\"new HHVEHCNT\")\n",
    "print(pd.concat([ny['HHVEHCNT'].value_counts(),\n",
    "          ny['HHVEHCNT'].value_counts(normalize = True).mul(100)],axis = 1, keys = ('counts','percentage'))\n",
    "    )"
   ]
  },
  {
   "cell_type": "markdown",
   "metadata": {},
   "source": [
    "### HHFAMINC"
   ]
  },
  {
   "cell_type": "code",
   "execution_count": 18,
   "metadata": {},
   "outputs": [
    {
     "name": "stdout",
     "output_type": "stream",
     "text": [
      "     counts  percentage\n",
      " 6     2869   18.359250\n",
      " 7     2180   13.950214\n",
      " 5     1873   11.985666\n",
      " 8     1666   10.661035\n",
      " 4     1445    9.246816\n",
      " 3     1233    7.890190\n",
      " 9      960    6.143214\n",
      " 11     921    5.893646\n",
      " 10     884    5.656876\n",
      " 2      610    3.903500\n",
      "-7      489    3.129199\n",
      " 1      419    2.681257\n",
      "-8       76    0.486338\n",
      "-9        2    0.012798\n"
     ]
    },
    {
     "data": {
      "text/plain": [
       "<matplotlib.axes._subplots.AxesSubplot at 0x12ec14de3c8>"
      ]
     },
     "execution_count": 18,
     "metadata": {},
     "output_type": "execute_result"
    },
    {
     "data": {
      "image/png": "[encoded data removed]",
      "text/plain": [
       "<Figure size 432x288 with 1 Axes>"
      ]
     },
     "metadata": {
      "needs_background": "light"
     },
     "output_type": "display_data"
    }
   ],
   "source": [
    "# Household family income \n",
    "# Group all negative as 'NA'\n",
    "\n",
    "print(pd.concat([ny['HHFAMINC'].value_counts(),\n",
    "          ny['HHFAMINC'].value_counts(normalize = True).mul(100)],axis = 1, keys = ('counts','percentage'))\n",
    "     )\n",
    "\n",
    "ny['HHFAMINC'][ny['HHFAMINC'].isin([-9,-8,-7])]  = \"NA\"\n",
    "\n",
    "sns.countplot(data = ny, x= 'HHFAMINC', order = ny['HHFAMINC'].value_counts().index)"
   ]
  },
  {
   "cell_type": "markdown",
   "metadata": {},
   "source": [
    "### DRVRCNT"
   ]
  },
  {
   "cell_type": "code",
   "execution_count": 19,
   "metadata": {},
   "outputs": [
    {
     "name": "stdout",
     "output_type": "stream",
     "text": [
      "          counts  percentage\n",
      "1.000000   11705   74.902412\n",
      "0.500000    1759   11.256159\n",
      "0.666667     997    6.379983\n",
      "0.750000     267    1.708581\n",
      "0.333333     263    1.682985\n",
      "0.400000     259    1.657388\n",
      "0.600000      93    0.595124\n",
      "0.250000      66    0.422346\n",
      "0.800000      60    0.383951\n",
      "0.000000      56    0.358354\n",
      "0.200000      25    0.159980\n",
      "0.285714      14    0.089589\n",
      "0.428571      14    0.089589\n",
      "0.833333       9    0.057593\n",
      "0.166667       9    0.057593\n",
      "0.571429       7    0.044794\n",
      "0.142857       5    0.031996\n",
      "0.375000       5    0.031996\n",
      "0.222222       3    0.019198\n",
      "0.714286       3    0.019198\n",
      "0.300000       2    0.012798\n",
      "0.700000       1    0.006399\n",
      "0.555556       1    0.006399\n",
      "0.272727       1    0.006399\n",
      "0.111111       1    0.006399\n",
      "0.857143       1    0.006399\n",
      "0.625000       1    0.006399\n"
     ]
    },
    {
     "data": {
      "image/png": "[encoded data removed]",
      "text/plain": [
       "<Figure size 432x288 with 1 Axes>"
      ]
     },
     "metadata": {
      "needs_background": "light"
     },
     "output_type": "display_data"
    }
   ],
   "source": [
    "ny['DRVRCNTPROP'] = ny['DRVRCNT']/ny['HHSIZE']\n",
    "cat_col_prop(ny,'DRVRCNTPROP')"
   ]
  },
  {
   "cell_type": "code",
   "execution_count": 20,
   "metadata": {},
   "outputs": [
    {
     "name": "stdout",
     "output_type": "stream",
     "text": [
      "Pearson Corelation of:  0.8662411997810039 between DRVRCNT and NUMADLT. May remove one is too many variables\n"
     ]
    },
    {
     "data": {
      "text/plain": [
       "<matplotlib.axes._subplots.AxesSubplot at 0x12ec17273c8>"
      ]
     },
     "execution_count": 20,
     "metadata": {},
     "output_type": "execute_result"
    },
    {
     "data": {
      "image/png": "[encoded data removed]",
      "text/plain": [
       "<Figure size 432x288 with 1 Axes>"
      ]
     },
     "metadata": {
      "needs_background": "light"
     },
     "output_type": "display_data"
    }
   ],
   "source": [
    "#number of drivers in the household \n",
    "\n",
    "corr,_ = pearsonr(ny['DRVRCNT'],ny['NUMADLT'])\n",
    "print(\"Pearson Corelation of: \",str(corr), \"between DRVRCNT and NUMADLT. May remove one is too many variables\")\n",
    "\n",
    "sns.scatterplot(x = ny['DRVRCNT'], y = ny['NUMADLT'])\n"
   ]
  },
  {
   "cell_type": "code",
   "execution_count": 21,
   "metadata": {},
   "outputs": [
    {
     "name": "stdout",
     "output_type": "stream",
     "text": [
      "   counts  percentage\n",
      "2    8170   52.281308\n",
      "1    5846   37.409612\n",
      "3    1187    7.595828\n",
      "4     316    2.022141\n",
      "0      56    0.358354\n",
      "5      44    0.281564\n",
      "6       7    0.044794\n",
      "7       1    0.006399\n",
      "_______________________\n",
      "new value counts for DRVRCNT\n",
      "    counts  percentage\n",
      "2     8170   52.281308\n",
      "1     5846   37.409612\n",
      ">2    1555    9.950726\n",
      "0       56    0.358354\n"
     ]
    },
    {
     "data": {
      "image/png": "[encoded data removed]",
      "text/plain": [
       "<Figure size 432x288 with 1 Axes>"
      ]
     },
     "metadata": {
      "needs_background": "light"
     },
     "output_type": "display_data"
    }
   ],
   "source": [
    "cat_col_prop(ny,'DRVRCNT')\n",
    "\n",
    "# will bin those with >2 drivers together\n",
    "ny['DRVRCNT'][ny['DRVRCNT']>2] = \">2\"\n",
    "\n",
    "print(\"_______________________\")\n",
    "print(\"new value counts for DRVRCNT\")\n",
    "\n",
    "print(pd.concat([ny['DRVRCNT'].value_counts(),\n",
    "          ny['DRVRCNT'].value_counts(normalize = True).mul(100)],axis = 1, keys = ('counts','percentage'))\n",
    "     )"
   ]
  },
  {
   "cell_type": "code",
   "execution_count": 22,
   "metadata": {},
   "outputs": [
    {
     "name": "stdout",
     "output_type": "stream",
     "text": [
      "    counts  percentage\n",
      "2     8170   52.281308\n",
      "1     5846   37.409612\n",
      ">2    1555    9.950726\n",
      "0       56    0.358354\n"
     ]
    },
    {
     "data": {
      "image/png": "[encoded data removed]",
      "text/plain": [
       "<Figure size 432x288 with 1 Axes>"
      ]
     },
     "metadata": {
      "needs_background": "light"
     },
     "output_type": "display_data"
    }
   ],
   "source": [
    "cat_col_prop(ny,'DRVRCNT')"
   ]
  },
  {
   "cell_type": "code",
   "execution_count": 23,
   "metadata": {},
   "outputs": [
    {
     "data": {
      "text/html": [
       "<div>\n",
       "<style scoped>\n",
       "    .dataframe tbody tr th:only-of-type {\n",
       "        vertical-align: middle;\n",
       "    }\n",
       "\n",
       "    .dataframe tbody tr th {\n",
       "        vertical-align: top;\n",
       "    }\n",
       "\n",
       "    .dataframe thead th {\n",
       "        text-align: right;\n",
       "    }\n",
       "</style>\n",
       "<table border=\"1\" class=\"dataframe\">\n",
       "  <thead>\n",
       "    <tr style=\"text-align: right;\">\n",
       "      <th></th>\n",
       "      <th>HOUSEID</th>\n",
       "      <th>TRAVDAY</th>\n",
       "      <th>SAMPSTRAT</th>\n",
       "      <th>HHSIZE</th>\n",
       "      <th>PC</th>\n",
       "      <th>SPHONE</th>\n",
       "      <th>TAB</th>\n",
       "      <th>WALK</th>\n",
       "      <th>BIKE</th>\n",
       "      <th>CAR</th>\n",
       "      <th>...</th>\n",
       "      <th>SMPLSRCE</th>\n",
       "      <th>WTHHFIN</th>\n",
       "      <th>HTHTNRNT</th>\n",
       "      <th>HTPPOPDN</th>\n",
       "      <th>HTRESDN</th>\n",
       "      <th>HTEEMPDN</th>\n",
       "      <th>HBHTNRNT</th>\n",
       "      <th>HBPPOPDN</th>\n",
       "      <th>HBRESDN</th>\n",
       "      <th>DRVRCNTPROP</th>\n",
       "    </tr>\n",
       "  </thead>\n",
       "  <tbody>\n",
       "    <tr>\n",
       "      <th>count</th>\n",
       "      <td>5.600000e+01</td>\n",
       "      <td>56.000000</td>\n",
       "      <td>56.000000</td>\n",
       "      <td>56.000000</td>\n",
       "      <td>56.000000</td>\n",
       "      <td>56.000000</td>\n",
       "      <td>56.000000</td>\n",
       "      <td>56.000000</td>\n",
       "      <td>56.000000</td>\n",
       "      <td>56.000000</td>\n",
       "      <td>...</td>\n",
       "      <td>56.000000</td>\n",
       "      <td>56.000000</td>\n",
       "      <td>56.000000</td>\n",
       "      <td>56.000000</td>\n",
       "      <td>56.000000</td>\n",
       "      <td>56.000000</td>\n",
       "      <td>56.000000</td>\n",
       "      <td>56.000000</td>\n",
       "      <td>56.000000</td>\n",
       "      <td>56.0</td>\n",
       "    </tr>\n",
       "    <tr>\n",
       "      <th>mean</th>\n",
       "      <td>3.550968e+07</td>\n",
       "      <td>4.178571</td>\n",
       "      <td>2.714286</td>\n",
       "      <td>1.392857</td>\n",
       "      <td>2.607143</td>\n",
       "      <td>2.214286</td>\n",
       "      <td>2.839286</td>\n",
       "      <td>1.803571</td>\n",
       "      <td>2.553571</td>\n",
       "      <td>2.410714</td>\n",
       "      <td>...</td>\n",
       "      <td>1.928571</td>\n",
       "      <td>328.238331</td>\n",
       "      <td>26.000000</td>\n",
       "      <td>2998.053571</td>\n",
       "      <td>1402.517857</td>\n",
       "      <td>999.839286</td>\n",
       "      <td>25.107143</td>\n",
       "      <td>3134.660714</td>\n",
       "      <td>1448.053571</td>\n",
       "      <td>0.0</td>\n",
       "    </tr>\n",
       "    <tr>\n",
       "      <th>std</th>\n",
       "      <td>5.075576e+06</td>\n",
       "      <td>1.973526</td>\n",
       "      <td>1.090693</td>\n",
       "      <td>0.845922</td>\n",
       "      <td>3.251174</td>\n",
       "      <td>4.305237</td>\n",
       "      <td>4.035194</td>\n",
       "      <td>4.730634</td>\n",
       "      <td>5.141346</td>\n",
       "      <td>1.474348</td>\n",
       "      <td>...</td>\n",
       "      <td>0.259870</td>\n",
       "      <td>673.880020</td>\n",
       "      <td>17.964612</td>\n",
       "      <td>5539.648609</td>\n",
       "      <td>2823.995963</td>\n",
       "      <td>1461.105307</td>\n",
       "      <td>19.704802</td>\n",
       "      <td>5582.059093</td>\n",
       "      <td>2822.493961</td>\n",
       "      <td>0.0</td>\n",
       "    </tr>\n",
       "    <tr>\n",
       "      <th>min</th>\n",
       "      <td>3.008108e+07</td>\n",
       "      <td>1.000000</td>\n",
       "      <td>1.000000</td>\n",
       "      <td>1.000000</td>\n",
       "      <td>-9.000000</td>\n",
       "      <td>-9.000000</td>\n",
       "      <td>-9.000000</td>\n",
       "      <td>-9.000000</td>\n",
       "      <td>-9.000000</td>\n",
       "      <td>-1.000000</td>\n",
       "      <td>...</td>\n",
       "      <td>1.000000</td>\n",
       "      <td>15.259318</td>\n",
       "      <td>-9.000000</td>\n",
       "      <td>-9.000000</td>\n",
       "      <td>-9.000000</td>\n",
       "      <td>-9.000000</td>\n",
       "      <td>-9.000000</td>\n",
       "      <td>-9.000000</td>\n",
       "      <td>-9.000000</td>\n",
       "      <td>0.0</td>\n",
       "    </tr>\n",
       "    <tr>\n",
       "      <th>25%</th>\n",
       "      <td>3.032250e+07</td>\n",
       "      <td>3.000000</td>\n",
       "      <td>2.000000</td>\n",
       "      <td>1.000000</td>\n",
       "      <td>1.000000</td>\n",
       "      <td>1.000000</td>\n",
       "      <td>2.000000</td>\n",
       "      <td>1.000000</td>\n",
       "      <td>4.000000</td>\n",
       "      <td>2.000000</td>\n",
       "      <td>...</td>\n",
       "      <td>2.000000</td>\n",
       "      <td>53.999105</td>\n",
       "      <td>16.250000</td>\n",
       "      <td>50.000000</td>\n",
       "      <td>50.000000</td>\n",
       "      <td>25.000000</td>\n",
       "      <td>5.000000</td>\n",
       "      <td>300.000000</td>\n",
       "      <td>50.000000</td>\n",
       "      <td>0.0</td>\n",
       "    </tr>\n",
       "    <tr>\n",
       "      <th>50%</th>\n",
       "      <td>4.007016e+07</td>\n",
       "      <td>4.000000</td>\n",
       "      <td>3.000000</td>\n",
       "      <td>1.000000</td>\n",
       "      <td>3.000000</td>\n",
       "      <td>5.000000</td>\n",
       "      <td>5.000000</td>\n",
       "      <td>4.000000</td>\n",
       "      <td>5.000000</td>\n",
       "      <td>2.000000</td>\n",
       "      <td>...</td>\n",
       "      <td>2.000000</td>\n",
       "      <td>142.212181</td>\n",
       "      <td>20.000000</td>\n",
       "      <td>300.000000</td>\n",
       "      <td>300.000000</td>\n",
       "      <td>150.000000</td>\n",
       "      <td>20.000000</td>\n",
       "      <td>750.000000</td>\n",
       "      <td>300.000000</td>\n",
       "      <td>0.0</td>\n",
       "    </tr>\n",
       "    <tr>\n",
       "      <th>75%</th>\n",
       "      <td>4.039824e+07</td>\n",
       "      <td>6.000000</td>\n",
       "      <td>4.000000</td>\n",
       "      <td>1.250000</td>\n",
       "      <td>5.000000</td>\n",
       "      <td>5.000000</td>\n",
       "      <td>5.000000</td>\n",
       "      <td>5.000000</td>\n",
       "      <td>5.000000</td>\n",
       "      <td>3.000000</td>\n",
       "      <td>...</td>\n",
       "      <td>2.000000</td>\n",
       "      <td>290.463949</td>\n",
       "      <td>40.000000</td>\n",
       "      <td>3000.000000</td>\n",
       "      <td>1500.000000</td>\n",
       "      <td>1500.000000</td>\n",
       "      <td>40.000000</td>\n",
       "      <td>3000.000000</td>\n",
       "      <td>1500.000000</td>\n",
       "      <td>0.0</td>\n",
       "    </tr>\n",
       "    <tr>\n",
       "      <th>max</th>\n",
       "      <td>4.077127e+07</td>\n",
       "      <td>7.000000</td>\n",
       "      <td>4.000000</td>\n",
       "      <td>5.000000</td>\n",
       "      <td>5.000000</td>\n",
       "      <td>5.000000</td>\n",
       "      <td>5.000000</td>\n",
       "      <td>5.000000</td>\n",
       "      <td>5.000000</td>\n",
       "      <td>5.000000</td>\n",
       "      <td>...</td>\n",
       "      <td>2.000000</td>\n",
       "      <td>3834.854389</td>\n",
       "      <td>70.000000</td>\n",
       "      <td>30000.000000</td>\n",
       "      <td>17000.000000</td>\n",
       "      <td>5000.000000</td>\n",
       "      <td>90.000000</td>\n",
       "      <td>30000.000000</td>\n",
       "      <td>17000.000000</td>\n",
       "      <td>0.0</td>\n",
       "    </tr>\n",
       "  </tbody>\n",
       "</table>\n",
       "<p>8 rows × 52 columns</p>\n",
       "</div>"
      ],
      "text/plain": [
       "            HOUSEID    TRAVDAY  SAMPSTRAT     HHSIZE         PC     SPHONE  \\\n",
       "count  5.600000e+01  56.000000  56.000000  56.000000  56.000000  56.000000   \n",
       "mean   3.550968e+07   4.178571   2.714286   1.392857   2.607143   2.214286   \n",
       "std    5.075576e+06   1.973526   1.090693   0.845922   3.251174   4.305237   \n",
       "min    3.008108e+07   1.000000   1.000000   1.000000  -9.000000  -9.000000   \n",
       "25%    3.032250e+07   3.000000   2.000000   1.000000   1.000000   1.000000   \n",
       "50%    4.007016e+07   4.000000   3.000000   1.000000   3.000000   5.000000   \n",
       "75%    4.039824e+07   6.000000   4.000000   1.250000   5.000000   5.000000   \n",
       "max    4.077127e+07   7.000000   4.000000   5.000000   5.000000   5.000000   \n",
       "\n",
       "             TAB       WALK       BIKE        CAR  ...   SMPLSRCE  \\\n",
       "count  56.000000  56.000000  56.000000  56.000000  ...  56.000000   \n",
       "mean    2.839286   1.803571   2.553571   2.410714  ...   1.928571   \n",
       "std     4.035194   4.730634   5.141346   1.474348  ...   0.259870   \n",
       "min    -9.000000  -9.000000  -9.000000  -1.000000  ...   1.000000   \n",
       "25%     2.000000   1.000000   4.000000   2.000000  ...   2.000000   \n",
       "50%     5.000000   4.000000   5.000000   2.000000  ...   2.000000   \n",
       "75%     5.000000   5.000000   5.000000   3.000000  ...   2.000000   \n",
       "max     5.000000   5.000000   5.000000   5.000000  ...   2.000000   \n",
       "\n",
       "           WTHHFIN   HTHTNRNT      HTPPOPDN       HTRESDN     HTEEMPDN  \\\n",
       "count    56.000000  56.000000     56.000000     56.000000    56.000000   \n",
       "mean    328.238331  26.000000   2998.053571   1402.517857   999.839286   \n",
       "std     673.880020  17.964612   5539.648609   2823.995963  1461.105307   \n",
       "min      15.259318  -9.000000     -9.000000     -9.000000    -9.000000   \n",
       "25%      53.999105  16.250000     50.000000     50.000000    25.000000   \n",
       "50%     142.212181  20.000000    300.000000    300.000000   150.000000   \n",
       "75%     290.463949  40.000000   3000.000000   1500.000000  1500.000000   \n",
       "max    3834.854389  70.000000  30000.000000  17000.000000  5000.000000   \n",
       "\n",
       "        HBHTNRNT      HBPPOPDN       HBRESDN  DRVRCNTPROP  \n",
       "count  56.000000     56.000000     56.000000         56.0  \n",
       "mean   25.107143   3134.660714   1448.053571          0.0  \n",
       "std    19.704802   5582.059093   2822.493961          0.0  \n",
       "min    -9.000000     -9.000000     -9.000000          0.0  \n",
       "25%     5.000000    300.000000     50.000000          0.0  \n",
       "50%    20.000000    750.000000    300.000000          0.0  \n",
       "75%    40.000000   3000.000000   1500.000000          0.0  \n",
       "max    90.000000  30000.000000  17000.000000          0.0  \n",
       "\n",
       "[8 rows x 52 columns]"
      ]
     },
     "execution_count": 23,
     "metadata": {},
     "output_type": "execute_result"
    }
   ],
   "source": [
    "# interestingly got 0.3% (56) of the household got 0 drivers but have cars \n",
    "ny[ny['DRVRCNT']==0].describe() "
   ]
  },
  {
   "cell_type": "code",
   "execution_count": 24,
   "metadata": {},
   "outputs": [
    {
     "name": "stdout",
     "output_type": "stream",
     "text": [
      "    counts  percentage\n",
      "2     8170   52.281308\n",
      "1     5846   37.409612\n",
      ">2    1555    9.950726\n",
      "0       56    0.358354\n"
     ]
    }
   ],
   "source": [
    "print(pd.concat([ny['DRVRCNT'].value_counts(),\n",
    "          ny['DRVRCNT'].value_counts(normalize = True).mul(100)],axis = 1, keys = ('counts','percentage'))\n",
    "     )"
   ]
  },
  {
   "cell_type": "markdown",
   "metadata": {},
   "source": [
    "### PROPORTION OF NUMADLT / YOUNGCHILD / WRKCOUNT IN A HOUSEHOLD"
   ]
  },
  {
   "cell_type": "code",
   "execution_count": 25,
   "metadata": {},
   "outputs": [
    {
     "name": "stdout",
     "output_type": "stream",
     "text": [
      "    counts  percentage\n",
      "2     8870   56.760735\n",
      "1     5015   32.091892\n",
      "3     1316    8.421322\n",
      "4      348    2.226915\n",
      "5       66    0.422346\n",
      "6        8    0.051193\n",
      "7        2    0.012798\n",
      "8        1    0.006399\n",
      "10       1    0.006399\n",
      "      counts  percentage\n",
      "1      12702   81.282396\n",
      ">0.5    2416   15.460421\n",
      "<0.5     509    3.257183\n"
     ]
    },
    {
     "data": {
      "image/png": "[encoded data removed]",
      "text/plain": [
       "<Figure size 432x288 with 1 Axes>"
      ]
     },
     "metadata": {
      "needs_background": "light"
     },
     "output_type": "display_data"
    }
   ],
   "source": [
    "#Proportion of adults in a family \n",
    "\n",
    "cat_col_prop(ny,'NUMADLT')\n",
    "\n",
    "ny['NUMADLT'] = ny['NUMADLT']/ny['HHSIZE']\n",
    "\n",
    "#Bin into groups\n",
    "ny['NUMADLT_ratio'] = 'NA'\n",
    "\n",
    "ny.loc[ny['NUMADLT']==0,'NUMADLT_ratio']= '0'\n",
    "ny.loc[ny['NUMADLT'].between(0,0.5,inclusive = False),'NUMADLT_ratio'] = '<0.5'\n",
    "ny.loc[ny['NUMADLT'].between(0.5,1, inclusive = True),'NUMADLT_ratio'] = '>0.5'\n",
    "ny.loc[ny['NUMADLT']==1,'NUMADLT_ratio'] ='1'\n",
    " \n",
    "\n",
    "\n",
    "print(pd.concat([ny['NUMADLT_ratio'].value_counts(),\n",
    "          ny['NUMADLT_ratio'].value_counts(normalize = True).mul(100)],axis = 1, keys = ('counts','percentage'))\n",
    "     )\n",
    "\n",
    "#about 80% of families comprises of adults "
   ]
  },
  {
   "cell_type": "code",
   "execution_count": 26,
   "metadata": {},
   "outputs": [
    {
     "name": "stdout",
     "output_type": "stream",
     "text": [
      "   counts  percentage\n",
      "0    5354   34.261215\n",
      "1    5303   33.934856\n",
      "2    4229   27.062136\n",
      "3     586    3.749920\n",
      "4     141    0.902285\n",
      "5      12    0.076790\n",
      "6       1    0.006399\n",
      "7       1    0.006399\n",
      "      counts  percentage\n",
      "0       5354   34.261215\n",
      "1       4889   31.285595\n",
      ">0.5    3990   25.532732\n",
      "<0.5    1394    8.920458\n"
     ]
    },
    {
     "data": {
      "image/png": "[encoded data removed]",
      "text/plain": [
       "<Figure size 432x288 with 1 Axes>"
      ]
     },
     "metadata": {
      "needs_background": "light"
     },
     "output_type": "display_data"
    }
   ],
   "source": [
    "#Proportion of workers in the household \n",
    "#0 makes up nearly 34% - meaning they are all retired?\n",
    "\n",
    "cat_col_prop(ny,'WRKCOUNT')\n",
    "\n",
    "ny['WRKCOUNT'] = ny['WRKCOUNT']/ny['HHSIZE']\n",
    "\n",
    "\n",
    "#Bin to groups\n",
    "ny['WRKCOUNT_ratio'] = 'NA'\n",
    "ny.loc[ny['WRKCOUNT']==0,'WRKCOUNT_ratio']= '0'\n",
    "ny.loc[ny['WRKCOUNT'].between(0,0.5,inclusive = False),'WRKCOUNT_ratio'] = '<0.5'\n",
    "ny.loc[ny['WRKCOUNT'].between(0.5,1, inclusive = True),'WRKCOUNT_ratio'] = '>0.5'\n",
    "ny.loc[ny['WRKCOUNT']==1,'WRKCOUNT_ratio'] ='1'\n",
    " \n",
    "\n",
    "\n",
    "print(pd.concat([ny['WRKCOUNT_ratio'].value_counts(),\n",
    "          ny['WRKCOUNT_ratio'].value_counts(normalize = True).mul(100)],axis = 1, keys = ('counts','percentage'))\n",
    "     )\n"
   ]
  },
  {
   "cell_type": "code",
   "execution_count": 27,
   "metadata": {},
   "outputs": [
    {
     "name": "stdout",
     "output_type": "stream",
     "text": [
      "   counts  percentage\n",
      "0   14598   93.415243\n",
      "1     749    4.792986\n",
      "2     256    1.638190\n",
      "3      22    0.140782\n",
      "4       1    0.006399\n",
      "5       1    0.006399\n",
      "      counts  percentage\n",
      "0      14598   93.415243\n",
      "<0.5     816    5.221732\n",
      ">0.5     213    1.363026\n"
     ]
    },
    {
     "data": {
      "image/png": "[encoded data removed]",
      "text/plain": [
       "<Figure size 432x288 with 1 Axes>"
      ]
     },
     "metadata": {
      "needs_background": "light"
     },
     "output_type": "display_data"
    }
   ],
   "source": [
    "#proportion of family with children\n",
    "\n",
    "cat_col_prop(ny,'YOUNGCHILD')\n",
    "\n",
    "ny['YOUNGCHILD'] = ny['YOUNGCHILD']/ny['HHSIZE']\n",
    "\n",
    "\n",
    "#Bin to groups\n",
    "ny['YOUNGCHILD_ratio'] = 'NA'\n",
    "ny.loc[ny['YOUNGCHILD']==0,'YOUNGCHILD_ratio']= '0'\n",
    "ny.loc[ny['YOUNGCHILD'].between(0,0.5,inclusive = False),'YOUNGCHILD_ratio'] = '<0.5'\n",
    "ny.loc[ny['YOUNGCHILD'].between(0.5,1, inclusive = True),'YOUNGCHILD_ratio'] = '>0.5'\n",
    "ny.loc[ny['YOUNGCHILD']==1,'YOUNGCHILD_ratio'] ='1'\n",
    " \n",
    "\n",
    "\n",
    "print(pd.concat([ny['YOUNGCHILD_ratio'].value_counts(),\n",
    "          ny['YOUNGCHILD_ratio'].value_counts(normalize = True).mul(100)],axis = 1, keys = ('counts','percentage'))\n",
    "     )\n"
   ]
  },
  {
   "cell_type": "code",
   "execution_count": 28,
   "metadata": {},
   "outputs": [
    {
     "name": "stdout",
     "output_type": "stream",
     "text": [
      "    counts  percentage\n",
      "10    4195   26.844564\n",
      "2     3391   21.699622\n",
      "1     2467   15.786779\n",
      "9     2221   14.212581\n",
      "6     1214    7.768606\n",
      "4     1084    6.936712\n",
      "8      604    3.865105\n",
      "5      228    1.459013\n",
      "7      131    0.838293\n",
      "3       92    0.588725\n"
     ]
    },
    {
     "data": {
      "image/png": "[encoded data removed]",
      "text/plain": [
       "<Figure size 432x288 with 1 Axes>"
      ]
     },
     "metadata": {
      "needs_background": "light"
     },
     "output_type": "display_data"
    }
   ],
   "source": [
    "#Life Cycle classification for the C 2 household, derived by attributes pertaining to age, relationship, and work status.\n",
    "\n",
    "#10=2+ adults, retired, no children\n",
    "#02=2+ adults, no children\n",
    "#01=one adult, no children\n",
    "#09=one adult, retired, no children\n",
    "\n",
    "cat_col_prop(ny,'LIF_CYC')"
   ]
  },
  {
   "cell_type": "markdown",
   "metadata": {},
   "source": [
    "### HHSIZE"
   ]
  },
  {
   "cell_type": "code",
   "execution_count": 29,
   "metadata": {},
   "outputs": [
    {
     "name": "stdout",
     "output_type": "stream",
     "text": [
      "    counts  percentage\n",
      "2     6925   44.314328\n",
      "1     4688   29.999360\n",
      "3     1963   12.561592\n",
      "4     1388    8.882063\n",
      "5      467    2.988417\n",
      "6      123    0.787099\n",
      "7       44    0.281564\n",
      "8       17    0.108786\n",
      "9        7    0.044794\n",
      "10       4    0.025597\n",
      "11       1    0.006399\n",
      "________\n",
      "new HHSIZE\n",
      "    counts  percentage\n",
      "2     6925   44.314328\n",
      "1     4688   29.999360\n",
      ">3    2051   13.124720\n",
      "3     1963   12.561592\n"
     ]
    },
    {
     "data": {
      "image/png": "[encoded data removed]",
      "text/plain": [
       "<Figure size 432x288 with 1 Axes>"
      ]
     },
     "metadata": {
      "needs_background": "light"
     },
     "output_type": "display_data"
    }
   ],
   "source": [
    "#count of household members\n",
    "\n",
    "cat_col_prop(ny,'HHSIZE')\n",
    "\n",
    "# to bin tail HHSIZE\n",
    "\n",
    "ny['HHSIZE'][ny['HHSIZE']>3] = \">3\"\n",
    "\n",
    "print(\"________\")\n",
    "print(\"new HHSIZE\")\n",
    "print(pd.concat([ny['HHSIZE'].value_counts(),\n",
    "          ny['HHSIZE'].value_counts(normalize = True).mul(100)],axis = 1, keys = ('counts','percentage'))\n",
    "    )"
   ]
  },
  {
   "cell_type": "markdown",
   "metadata": {},
   "source": [
    "### URBAN/ URBBUR/ URBANSIZE"
   ]
  },
  {
   "cell_type": "code",
   "execution_count": 30,
   "metadata": {},
   "outputs": [
    {
     "name": "stdout",
     "output_type": "stream",
     "text": [
      "   counts  percentage\n",
      "1   10388   66.474691\n",
      "2    5239   33.525309\n"
     ]
    },
    {
     "data": {
      "image/png": "[encoded data removed]",
      "text/plain": [
       "<Figure size 432x288 with 1 Axes>"
      ]
     },
     "metadata": {
      "needs_background": "light"
     },
     "output_type": "display_data"
    }
   ],
   "source": [
    "#house in urban / rural areas \n",
    "\n",
    "cat_col_prop(ny,'URBRUR')\n"
   ]
  },
  {
   "cell_type": "code",
   "execution_count": 31,
   "metadata": {},
   "outputs": [
    {
     "name": "stdout",
     "output_type": "stream",
     "text": [
      "   counts  percentage\n",
      "6    6872   43.975171\n",
      "5    2787   17.834517\n",
      "1    2525   16.157932\n",
      "3    1841   11.780892\n",
      "2    1602   10.251488\n"
     ]
    },
    {
     "data": {
      "image/png": "[encoded data removed]",
      "text/plain": [
       "<Figure size 432x288 with 1 Axes>"
      ]
     },
     "metadata": {
      "needs_background": "light"
     },
     "output_type": "display_data"
    }
   ],
   "source": [
    "#06 = not in an urbanised area \n",
    "#05 - 1 million with heavy rail \n",
    "\n",
    "\n",
    "cat_col_prop(ny,'URBANSIZE')"
   ]
  },
  {
   "cell_type": "code",
   "execution_count": 32,
   "metadata": {},
   "outputs": [],
   "source": [
    "# Final columns selected for HH\n",
    "\n",
    "ny = ny[['HOUSEID','HH_CBSA','HOMEOWN','HHSIZE','HHVEHCNT','HHFAMINC','NUMADLT_ratio','YOUNGCHILD_ratio','WRKCOUNT_ratio','MSACAT','MSASIZE','URBAN','URBANSIZE','URBRUR','LIF_CYC']]\n"
   ]
  },
  {
   "cell_type": "markdown",
   "metadata": {},
   "source": [
    "## 2. Trip"
   ]
  },
  {
   "cell_type": "markdown",
   "metadata": {},
   "source": [
    "## key issue: Data leakage. \n",
    "\n",
    "1. Would be good if can somehow only get the driver trips only (remove duplicate passenger trips)\n",
    "\n",
    "2. Should use like popular routes distances rather than the actual route info (e.g. think of what a new person if surveyed can answer on the spot) e.g. which route you frequent the most and how far is it"
   ]
  },
  {
   "cell_type": "code",
   "execution_count": 33,
   "metadata": {},
   "outputs": [
    {
     "data": {
      "text/html": [
       "<div>\n",
       "<style scoped>\n",
       "    .dataframe tbody tr th:only-of-type {\n",
       "        vertical-align: middle;\n",
       "    }\n",
       "\n",
       "    .dataframe tbody tr th {\n",
       "        vertical-align: top;\n",
       "    }\n",
       "\n",
       "    .dataframe thead th {\n",
       "        text-align: right;\n",
       "    }\n",
       "</style>\n",
       "<table border=\"1\" class=\"dataframe\">\n",
       "  <thead>\n",
       "    <tr style=\"text-align: right;\">\n",
       "      <th></th>\n",
       "      <th>HOUSEID</th>\n",
       "      <th>PERSONID</th>\n",
       "      <th>TDTRPNUM</th>\n",
       "      <th>STRTTIME</th>\n",
       "      <th>ENDTIME</th>\n",
       "      <th>TRVLCMIN</th>\n",
       "      <th>TRPMILES</th>\n",
       "      <th>TRPTRANS</th>\n",
       "      <th>TRPACCMP</th>\n",
       "      <th>TRPHHACC</th>\n",
       "      <th>...</th>\n",
       "      <th>OBHTNRNT</th>\n",
       "      <th>OBPPOPDN</th>\n",
       "      <th>OBRESDN</th>\n",
       "      <th>DTHTNRNT</th>\n",
       "      <th>DTPPOPDN</th>\n",
       "      <th>DTRESDN</th>\n",
       "      <th>DTEEMPDN</th>\n",
       "      <th>DBHTNRNT</th>\n",
       "      <th>DBPPOPDN</th>\n",
       "      <th>DBRESDN</th>\n",
       "    </tr>\n",
       "  </thead>\n",
       "  <tbody>\n",
       "    <tr>\n",
       "      <th>0</th>\n",
       "      <td>30000007</td>\n",
       "      <td>1</td>\n",
       "      <td>1</td>\n",
       "      <td>1000</td>\n",
       "      <td>1015</td>\n",
       "      <td>15</td>\n",
       "      <td>5.244</td>\n",
       "      <td>3</td>\n",
       "      <td>0</td>\n",
       "      <td>0</td>\n",
       "      <td>...</td>\n",
       "      <td>20</td>\n",
       "      <td>750</td>\n",
       "      <td>300</td>\n",
       "      <td>50</td>\n",
       "      <td>750</td>\n",
       "      <td>300</td>\n",
       "      <td>350</td>\n",
       "      <td>30</td>\n",
       "      <td>300</td>\n",
       "      <td>300</td>\n",
       "    </tr>\n",
       "    <tr>\n",
       "      <th>1</th>\n",
       "      <td>30000007</td>\n",
       "      <td>1</td>\n",
       "      <td>2</td>\n",
       "      <td>1510</td>\n",
       "      <td>1530</td>\n",
       "      <td>20</td>\n",
       "      <td>5.149</td>\n",
       "      <td>3</td>\n",
       "      <td>0</td>\n",
       "      <td>0</td>\n",
       "      <td>...</td>\n",
       "      <td>30</td>\n",
       "      <td>300</td>\n",
       "      <td>300</td>\n",
       "      <td>50</td>\n",
       "      <td>1500</td>\n",
       "      <td>750</td>\n",
       "      <td>750</td>\n",
       "      <td>20</td>\n",
       "      <td>750</td>\n",
       "      <td>300</td>\n",
       "    </tr>\n",
       "    <tr>\n",
       "      <th>2</th>\n",
       "      <td>30000007</td>\n",
       "      <td>2</td>\n",
       "      <td>1</td>\n",
       "      <td>700</td>\n",
       "      <td>900</td>\n",
       "      <td>120</td>\n",
       "      <td>84.004</td>\n",
       "      <td>6</td>\n",
       "      <td>0</td>\n",
       "      <td>0</td>\n",
       "      <td>...</td>\n",
       "      <td>40</td>\n",
       "      <td>1500</td>\n",
       "      <td>750</td>\n",
       "      <td>50</td>\n",
       "      <td>1500</td>\n",
       "      <td>750</td>\n",
       "      <td>750</td>\n",
       "      <td>20</td>\n",
       "      <td>750</td>\n",
       "      <td>300</td>\n",
       "    </tr>\n",
       "    <tr>\n",
       "      <th>3</th>\n",
       "      <td>30000007</td>\n",
       "      <td>2</td>\n",
       "      <td>2</td>\n",
       "      <td>1800</td>\n",
       "      <td>2030</td>\n",
       "      <td>150</td>\n",
       "      <td>81.628</td>\n",
       "      <td>6</td>\n",
       "      <td>0</td>\n",
       "      <td>0</td>\n",
       "      <td>...</td>\n",
       "      <td>20</td>\n",
       "      <td>750</td>\n",
       "      <td>300</td>\n",
       "      <td>40</td>\n",
       "      <td>1500</td>\n",
       "      <td>750</td>\n",
       "      <td>750</td>\n",
       "      <td>40</td>\n",
       "      <td>1500</td>\n",
       "      <td>750</td>\n",
       "    </tr>\n",
       "    <tr>\n",
       "      <th>4</th>\n",
       "      <td>30000007</td>\n",
       "      <td>3</td>\n",
       "      <td>1</td>\n",
       "      <td>845</td>\n",
       "      <td>900</td>\n",
       "      <td>15</td>\n",
       "      <td>2.250</td>\n",
       "      <td>3</td>\n",
       "      <td>0</td>\n",
       "      <td>0</td>\n",
       "      <td>...</td>\n",
       "      <td>20</td>\n",
       "      <td>750</td>\n",
       "      <td>300</td>\n",
       "      <td>50</td>\n",
       "      <td>750</td>\n",
       "      <td>300</td>\n",
       "      <td>350</td>\n",
       "      <td>60</td>\n",
       "      <td>750</td>\n",
       "      <td>300</td>\n",
       "    </tr>\n",
       "  </tbody>\n",
       "</table>\n",
       "<p>5 rows × 115 columns</p>\n",
       "</div>"
      ],
      "text/plain": [
       "    HOUSEID  PERSONID  TDTRPNUM  STRTTIME  ENDTIME  TRVLCMIN  TRPMILES  \\\n",
       "0  30000007         1         1      1000     1015        15     5.244   \n",
       "1  30000007         1         2      1510     1530        20     5.149   \n",
       "2  30000007         2         1       700      900       120    84.004   \n",
       "3  30000007         2         2      1800     2030       150    81.628   \n",
       "4  30000007         3         1       845      900        15     2.250   \n",
       "\n",
       "   TRPTRANS  TRPACCMP  TRPHHACC  ...  OBHTNRNT  OBPPOPDN  OBRESDN  DTHTNRNT  \\\n",
       "0         3         0         0  ...        20       750      300        50   \n",
       "1         3         0         0  ...        30       300      300        50   \n",
       "2         6         0         0  ...        40      1500      750        50   \n",
       "3         6         0         0  ...        20       750      300        40   \n",
       "4         3         0         0  ...        20       750      300        50   \n",
       "\n",
       "   DTPPOPDN  DTRESDN  DTEEMPDN  DBHTNRNT  DBPPOPDN  DBRESDN  \n",
       "0       750      300       350        30       300      300  \n",
       "1      1500      750       750        20       750      300  \n",
       "2      1500      750       750        20       750      300  \n",
       "3      1500      750       750        40      1500      750  \n",
       "4       750      300       350        60       750      300  \n",
       "\n",
       "[5 rows x 115 columns]"
      ]
     },
     "execution_count": 33,
     "metadata": {},
     "output_type": "execute_result"
    }
   ],
   "source": [
    "trip.head()"
   ]
  },
  {
   "cell_type": "code",
   "execution_count": 34,
   "metadata": {},
   "outputs": [
    {
     "data": {
      "text/plain": [
       "['HOUSEID',\n",
       " 'PERSONID',\n",
       " 'TDTRPNUM',\n",
       " 'STRTTIME',\n",
       " 'ENDTIME',\n",
       " 'TRVLCMIN',\n",
       " 'TRPMILES',\n",
       " 'TRPTRANS',\n",
       " 'TRPACCMP',\n",
       " 'TRPHHACC',\n",
       " 'VEHID',\n",
       " 'TRWAITTM',\n",
       " 'NUMTRANS',\n",
       " 'TRACCTM',\n",
       " 'DROP_PRK',\n",
       " 'TREGRTM',\n",
       " 'WHODROVE',\n",
       " 'WHYFROM',\n",
       " 'LOOP_TRIP',\n",
       " 'TRPHHVEH',\n",
       " 'HHMEMDRV',\n",
       " 'HH_ONTD',\n",
       " 'NONHHCNT',\n",
       " 'NUMONTRP',\n",
       " 'PSGR_FLG',\n",
       " 'PUBTRANS',\n",
       " 'TRIPPURP',\n",
       " 'DWELTIME',\n",
       " 'TDWKND',\n",
       " 'VMT_MILE',\n",
       " 'DRVR_FLG',\n",
       " 'WHYTRP1S',\n",
       " 'ONTD_P1',\n",
       " 'ONTD_P2',\n",
       " 'ONTD_P3',\n",
       " 'ONTD_P4',\n",
       " 'ONTD_P5',\n",
       " 'ONTD_P6',\n",
       " 'ONTD_P7',\n",
       " 'ONTD_P8',\n",
       " 'ONTD_P9',\n",
       " 'ONTD_P10',\n",
       " 'ONTD_P11',\n",
       " 'ONTD_P12',\n",
       " 'ONTD_P13',\n",
       " 'TDCASEID',\n",
       " 'TRACC_WLK',\n",
       " 'TRACC_POV',\n",
       " 'TRACC_BUS',\n",
       " 'TRACC_CRL',\n",
       " 'TRACC_SUB',\n",
       " 'TRACC_OTH',\n",
       " 'TREGR_WLK',\n",
       " 'TREGR_POV',\n",
       " 'TREGR_BUS',\n",
       " 'TREGR_CRL',\n",
       " 'TREGR_SUB',\n",
       " 'TREGR_OTH',\n",
       " 'WHYTO',\n",
       " 'TRAVDAY',\n",
       " 'HOMEOWN',\n",
       " 'HHSIZE',\n",
       " 'HHVEHCNT',\n",
       " 'HHFAMINC',\n",
       " 'DRVRCNT',\n",
       " 'HHSTATE',\n",
       " 'HHSTFIPS',\n",
       " 'NUMADLT',\n",
       " 'WRKCOUNT',\n",
       " 'TDAYDATE',\n",
       " 'HHRESP',\n",
       " 'LIF_CYC',\n",
       " 'MSACAT',\n",
       " 'MSASIZE',\n",
       " 'RAIL',\n",
       " 'URBAN',\n",
       " 'URBANSIZE',\n",
       " 'URBRUR',\n",
       " 'GASPRICE',\n",
       " 'CENSUS_D',\n",
       " 'CENSUS_R',\n",
       " 'CDIVMSAR',\n",
       " 'HH_RACE',\n",
       " 'HH_HISP',\n",
       " 'HH_CBSA',\n",
       " 'SMPLSRCE',\n",
       " 'R_AGE',\n",
       " 'EDUC',\n",
       " 'R_SEX',\n",
       " 'PRMACT',\n",
       " 'PROXY',\n",
       " 'WORKER',\n",
       " 'DRIVER',\n",
       " 'WTTRDFIN',\n",
       " 'WHYTRP90',\n",
       " 'TRPMILAD',\n",
       " 'R_AGE_IMP',\n",
       " 'R_SEX_IMP',\n",
       " 'VEHTYPE',\n",
       " 'OBHUR',\n",
       " 'DBHUR',\n",
       " 'OTHTNRNT',\n",
       " 'OTPPOPDN',\n",
       " 'OTRESDN',\n",
       " 'OTEEMPDN',\n",
       " 'OBHTNRNT',\n",
       " 'OBPPOPDN',\n",
       " 'OBRESDN',\n",
       " 'DTHTNRNT',\n",
       " 'DTPPOPDN',\n",
       " 'DTRESDN',\n",
       " 'DTEEMPDN',\n",
       " 'DBHTNRNT',\n",
       " 'DBPPOPDN',\n",
       " 'DBRESDN']"
      ]
     },
     "execution_count": 34,
     "metadata": {},
     "output_type": "execute_result"
    }
   ],
   "source": [
    "[c for c in trip.columns]"
   ]
  },
  {
   "cell_type": "code",
   "execution_count": 35,
   "metadata": {},
   "outputs": [],
   "source": [
    "# to get only tripcounts of the driver only\n",
    "\n",
    "#trip = trip[trip['PERSONID']==trip['WHODROVE']]"
   ]
  },
  {
   "cell_type": "code",
   "execution_count": 36,
   "metadata": {},
   "outputs": [],
   "source": [
    "trip = trip[['HOUSEID','PERSONID','TRAVDAY','TRPMILES','TRPHHVEH','TRPTRANS','WHYTRP1S','WHYTRP90','TRVLCMIN',\n",
    "'TRWAITTM']]\n",
    "ny_trip = trip[trip['HOUSEID'].isin(ny['HOUSEID'])]"
   ]
  },
  {
   "cell_type": "code",
   "execution_count": 37,
   "metadata": {},
   "outputs": [
    {
     "data": {
      "text/plain": [
       "(113540, 10)"
      ]
     },
     "execution_count": 37,
     "metadata": {},
     "output_type": "execute_result"
    }
   ],
   "source": [
    "ny_trip.shape"
   ]
  },
  {
   "cell_type": "code",
   "execution_count": 38,
   "metadata": {},
   "outputs": [
    {
     "data": {
      "text/plain": [
       "0.9823410251893606"
      ]
     },
     "execution_count": 38,
     "metadata": {},
     "output_type": "execute_result"
    }
   ],
   "source": [
    "sum(ny_trip['TRWAITTM']<0)/ny_trip.shape[0]"
   ]
  },
  {
   "cell_type": "markdown",
   "metadata": {},
   "source": [
    "### Trip Transport"
   ]
  },
  {
   "cell_type": "code",
   "execution_count": 39,
   "metadata": {},
   "outputs": [],
   "source": [
    "ny_trip['TRPTRANS'].value_counts()\n",
    "# TO CHECK 8 - do we want to count motorbike/mopeds as vehicles???\n",
    "ny_trip = ny_trip[ny_trip['TRPTRANS'].isin([3,4,5,6,8])]\n"
   ]
  },
  {
   "cell_type": "code",
   "execution_count": 40,
   "metadata": {},
   "outputs": [
    {
     "data": {
      "text/html": [
       "<div>\n",
       "<style scoped>\n",
       "    .dataframe tbody tr th:only-of-type {\n",
       "        vertical-align: middle;\n",
       "    }\n",
       "\n",
       "    .dataframe tbody tr th {\n",
       "        vertical-align: top;\n",
       "    }\n",
       "\n",
       "    .dataframe thead th {\n",
       "        text-align: right;\n",
       "    }\n",
       "</style>\n",
       "<table border=\"1\" class=\"dataframe\">\n",
       "  <thead>\n",
       "    <tr style=\"text-align: right;\">\n",
       "      <th></th>\n",
       "      <th>counts</th>\n",
       "      <th>percentages</th>\n",
       "    </tr>\n",
       "  </thead>\n",
       "  <tbody>\n",
       "    <tr>\n",
       "      <th>6</th>\n",
       "      <td>15075</td>\n",
       "      <td>15.521236</td>\n",
       "    </tr>\n",
       "    <tr>\n",
       "      <th>7</th>\n",
       "      <td>14306</td>\n",
       "      <td>14.729472</td>\n",
       "    </tr>\n",
       "    <tr>\n",
       "      <th>5</th>\n",
       "      <td>14099</td>\n",
       "      <td>14.516345</td>\n",
       "    </tr>\n",
       "    <tr>\n",
       "      <th>4</th>\n",
       "      <td>14056</td>\n",
       "      <td>14.472072</td>\n",
       "    </tr>\n",
       "    <tr>\n",
       "      <th>3</th>\n",
       "      <td>13802</td>\n",
       "      <td>14.210553</td>\n",
       "    </tr>\n",
       "    <tr>\n",
       "      <th>2</th>\n",
       "      <td>13617</td>\n",
       "      <td>14.020077</td>\n",
       "    </tr>\n",
       "    <tr>\n",
       "      <th>1</th>\n",
       "      <td>12170</td>\n",
       "      <td>12.530245</td>\n",
       "    </tr>\n",
       "  </tbody>\n",
       "</table>\n",
       "</div>"
      ],
      "text/plain": [
       "   counts  percentages\n",
       "6   15075    15.521236\n",
       "7   14306    14.729472\n",
       "5   14099    14.516345\n",
       "4   14056    14.472072\n",
       "3   13802    14.210553\n",
       "2   13617    14.020077\n",
       "1   12170    12.530245"
      ]
     },
     "execution_count": 40,
     "metadata": {},
     "output_type": "execute_result"
    },
    {
     "data": {
      "image/png": "[encoded data removed]",
      "text/plain": [
       "<Figure size 432x288 with 1 Axes>"
      ]
     },
     "metadata": {
      "needs_background": "light"
     },
     "output_type": "display_data"
    }
   ],
   "source": [
    "sns.histplot(ny_trip['TRAVDAY'])\n",
    "\n",
    "pd.concat([ny_trip['TRAVDAY'].value_counts(),\n",
    "           ny_trip['TRAVDAY'].value_counts(normalize = True).mul(100)],\n",
    "          axis = 1, keys=('counts','percentages'))"
   ]
  },
  {
   "cell_type": "code",
   "execution_count": 41,
   "metadata": {},
   "outputs": [
    {
     "name": "stdout",
     "output_type": "stream",
     "text": [
      "# of trips with dist <=0, 24  out of 97125\n"
     ]
    }
   ],
   "source": [
    "# since only 24 lines with trip distance <= 0, removed lines\n",
    "print('# of trips with dist <=0,', str(sum(ny_trip['TRPMILES']<=0)),' out of', str(len(ny_trip)))\n",
    "\n",
    "ny_trip = ny_trip[ny_trip['TRPMILES']>0]"
   ]
  },
  {
   "cell_type": "code",
   "execution_count": 42,
   "metadata": {},
   "outputs": [
    {
     "name": "stdout",
     "output_type": "stream",
     "text": [
      "98  trips missing TRVLCMIN info so will just remove since only  0.10092584010463332 %\n"
     ]
    }
   ],
   "source": [
    "print(str(sum(ny_trip['TRVLCMIN']<=0)), ' trips missing TRVLCMIN info so will just remove since only ',str(sum(ny_trip['TRVLCMIN']<=0)/len(ny_trip)*100),\"%\")\n",
    "\n",
    "ny_trip = ny_trip[ny_trip['TRVLCMIN']>0]"
   ]
  },
  {
   "cell_type": "code",
   "execution_count": 43,
   "metadata": {},
   "outputs": [
    {
     "data": {
      "text/html": [
       "<div>\n",
       "<style scoped>\n",
       "    .dataframe tbody tr th:only-of-type {\n",
       "        vertical-align: middle;\n",
       "    }\n",
       "\n",
       "    .dataframe tbody tr th {\n",
       "        vertical-align: top;\n",
       "    }\n",
       "\n",
       "    .dataframe thead th {\n",
       "        text-align: right;\n",
       "    }\n",
       "</style>\n",
       "<table border=\"1\" class=\"dataframe\">\n",
       "  <thead>\n",
       "    <tr style=\"text-align: right;\">\n",
       "      <th></th>\n",
       "      <th>HOUSEID</th>\n",
       "      <th>PERSONID</th>\n",
       "      <th>n_trips</th>\n",
       "    </tr>\n",
       "  </thead>\n",
       "  <tbody>\n",
       "    <tr>\n",
       "      <th>0</th>\n",
       "      <td>30000012</td>\n",
       "      <td>1</td>\n",
       "      <td>9</td>\n",
       "    </tr>\n",
       "    <tr>\n",
       "      <th>1</th>\n",
       "      <td>30000082</td>\n",
       "      <td>1</td>\n",
       "      <td>5</td>\n",
       "    </tr>\n",
       "    <tr>\n",
       "      <th>2</th>\n",
       "      <td>30000082</td>\n",
       "      <td>2</td>\n",
       "      <td>5</td>\n",
       "    </tr>\n",
       "    <tr>\n",
       "      <th>3</th>\n",
       "      <td>30000380</td>\n",
       "      <td>1</td>\n",
       "      <td>3</td>\n",
       "    </tr>\n",
       "    <tr>\n",
       "      <th>4</th>\n",
       "      <td>30000380</td>\n",
       "      <td>2</td>\n",
       "      <td>8</td>\n",
       "    </tr>\n",
       "  </tbody>\n",
       "</table>\n",
       "</div>"
      ],
      "text/plain": [
       "    HOUSEID  PERSONID  n_trips\n",
       "0  30000012         1        9\n",
       "1  30000082         1        5\n",
       "2  30000082         2        5\n",
       "3  30000380         1        3\n",
       "4  30000380         2        8"
      ]
     },
     "execution_count": 43,
     "metadata": {},
     "output_type": "execute_result"
    }
   ],
   "source": [
    "ny_trip_count = ny_trip[['HOUSEID','PERSONID','TRAVDAY']].groupby(['HOUSEID','PERSONID']).agg('count').reset_index().rename(columns = {'TRAVDAY':'n_trips'})\n",
    "\n",
    "ny_trip_count.head()"
   ]
  },
  {
   "cell_type": "markdown",
   "metadata": {},
   "source": [
    "## 3. People"
   ]
  },
  {
   "cell_type": "code",
   "execution_count": 44,
   "metadata": {},
   "outputs": [
    {
     "data": {
      "text/plain": [
       "['HOUSEID',\n",
       " 'PERSONID',\n",
       " 'R_AGE',\n",
       " 'EDUC',\n",
       " 'R_HISP',\n",
       " 'R_RELAT',\n",
       " 'R_SEX',\n",
       " 'R_RACE',\n",
       " 'PRMACT',\n",
       " 'PAYPROF',\n",
       " 'GT1JBLWK',\n",
       " 'WRK_HOME',\n",
       " 'WKFTPT',\n",
       " 'WRKTRANS',\n",
       " 'LSTTRDAY17',\n",
       " 'OCCAT',\n",
       " 'SCHTYP',\n",
       " 'NWALKTRP',\n",
       " 'WALK4EX',\n",
       " 'NBIKETRP',\n",
       " 'BIKE4EX',\n",
       " 'BIKESHARE',\n",
       " 'PTUSED',\n",
       " 'MCUSED',\n",
       " 'CARSHARE',\n",
       " 'RIDESHARE',\n",
       " 'CARRODE',\n",
       " 'TIMETOWK',\n",
       " 'NOCONG',\n",
       " 'PUBTIME',\n",
       " 'WRKTIME',\n",
       " 'WKRMHM',\n",
       " 'FLEXTIME',\n",
       " 'WKFMHMXX',\n",
       " 'SCHTRN1',\n",
       " 'SCHTRN2',\n",
       " 'DELIVER',\n",
       " 'MEDCOND',\n",
       " 'MEDCOND6',\n",
       " 'HEALTH',\n",
       " 'PHYACT',\n",
       " 'VPACT',\n",
       " 'LPACT',\n",
       " 'BORNINUS',\n",
       " 'YRTOUS',\n",
       " 'YEARMILE',\n",
       " 'PROXY',\n",
       " 'WHOPROXY',\n",
       " 'USEPUBTR',\n",
       " 'SAMEPLC',\n",
       " 'W_NONE',\n",
       " 'W_CANE',\n",
       " 'W_WLKR',\n",
       " 'W_WHCANE',\n",
       " 'W_DOG',\n",
       " 'W_CRUTCH',\n",
       " 'W_SCOOTR',\n",
       " 'W_CHAIR',\n",
       " 'W_MTRCHR',\n",
       " 'WORKER',\n",
       " 'DIARY',\n",
       " 'OUTCNTRY',\n",
       " 'FRSTHM17',\n",
       " 'CNTTDTR',\n",
       " 'GCDWORK',\n",
       " 'WKSTFIPS',\n",
       " 'DRIVER',\n",
       " 'OUTOFTWN',\n",
       " 'DISTTOWK17',\n",
       " 'DISTTOSC17',\n",
       " 'R_AGE_IMP',\n",
       " 'R_SEX_IMP',\n",
       " 'ALT_16',\n",
       " 'ALT_23',\n",
       " 'ALT_45',\n",
       " 'WALK_DEF',\n",
       " 'WALK_GKQ',\n",
       " 'BIKE_DFR',\n",
       " 'BIKE_GKP',\n",
       " 'CONDTRAV',\n",
       " 'CONDRIDE',\n",
       " 'CONDNIGH',\n",
       " 'CONDRIVE',\n",
       " 'CONDPUB',\n",
       " 'CONDSPEC',\n",
       " 'CONDTAX',\n",
       " 'TRAVDAY',\n",
       " 'HOMEOWN',\n",
       " 'HHSIZE',\n",
       " 'HHVEHCNT',\n",
       " 'HHFAMINC',\n",
       " 'DRVRCNT',\n",
       " 'HHSTATE',\n",
       " 'HHSTFIPS',\n",
       " 'NUMADLT',\n",
       " 'WRKCOUNT',\n",
       " 'TDAYDATE',\n",
       " 'HHRESP',\n",
       " 'LIF_CYC',\n",
       " 'MSACAT',\n",
       " 'MSASIZE',\n",
       " 'RAIL',\n",
       " 'URBAN',\n",
       " 'URBANSIZE',\n",
       " 'URBRUR',\n",
       " 'CENSUS_D',\n",
       " 'CENSUS_R',\n",
       " 'CDIVMSAR',\n",
       " 'HH_RACE',\n",
       " 'HH_HISP',\n",
       " 'HH_CBSA',\n",
       " 'SMPLSRCE',\n",
       " 'WTPERFIN',\n",
       " 'HBHUR',\n",
       " 'HTHTNRNT',\n",
       " 'HTPPOPDN',\n",
       " 'HTRESDN',\n",
       " 'HTEEMPDN',\n",
       " 'HBHTNRNT',\n",
       " 'HBPPOPDN',\n",
       " 'HBRESDN']"
      ]
     },
     "execution_count": 44,
     "metadata": {},
     "output_type": "execute_result"
    }
   ],
   "source": [
    "[c for c in person]"
   ]
  },
  {
   "cell_type": "code",
   "execution_count": 47,
   "metadata": {},
   "outputs": [],
   "source": [
    "# Fitlering NY Drivers only\n",
    "\n",
    "#nyorker = person[(person['HOUSEID'].isin(ny['HOUSEID'])) & (person['DRIVER']==1)]\n",
    "nyorker = person[person['HOUSEID'].isin(ny['HOUSEID'])]"
   ]
  },
  {
   "cell_type": "code",
   "execution_count": 48,
   "metadata": {},
   "outputs": [],
   "source": [
    "nyorker = nyorker[['HOUSEID','PERSONID','R_AGE','EDUC','R_RACE','R_SEX','WRK_HOME','WKFTPT','OCCAT','DRIVER']]"
   ]
  },
  {
   "cell_type": "markdown",
   "metadata": {},
   "source": [
    "## Age"
   ]
  },
  {
   "cell_type": "code",
   "execution_count": 49,
   "metadata": {},
   "outputs": [
    {
     "name": "stdout",
     "output_type": "stream",
     "text": [
      "78 count of people with no age.  0.00029519289720475033 %. Prolly can remove\n",
      "     counts  percentage\n",
      " 65     815    2.525253\n",
      " 60     751    2.326950\n",
      " 64     746    2.311458\n",
      " 62     740    2.292867\n",
      " 63     716    2.218504\n",
      "..      ...         ...\n",
      " 87     129    0.399703\n",
      " 86     129    0.399703\n",
      " 88      94    0.291256\n",
      "-7       68    0.210696\n",
      "-8       10    0.030985\n",
      "\n",
      "[87 rows x 2 columns]\n"
     ]
    },
    {
     "data": {
      "image/png": "[encoded data removed]",
      "text/plain": [
       "<Figure size 432x288 with 1 Axes>"
      ]
     },
     "metadata": {
      "needs_background": "light"
     },
     "output_type": "display_data"
    }
   ],
   "source": [
    "print(str(sum(nyorker['R_AGE']<0)), \"count of people with no age. \",str(sum(nyorker['R_AGE']<0)/person.shape[0]),\"%. Prolly can remove\")\n",
    "cat_col_prop(nyorker,'R_AGE')\n"
   ]
  },
  {
   "cell_type": "code",
   "execution_count": 50,
   "metadata": {},
   "outputs": [
    {
     "name": "stdout",
     "output_type": "stream",
     "text": [
      "     counts  percentage\n",
      " 65     815    2.525253\n",
      " 60     751    2.326950\n",
      " 64     746    2.311458\n",
      " 62     740    2.292867\n",
      " 63     716    2.218504\n",
      "..      ...         ...\n",
      " 87     129    0.399703\n",
      " 86     129    0.399703\n",
      " 88      94    0.291256\n",
      "-7       68    0.210696\n",
      "-8       10    0.030985\n",
      "\n",
      "[87 rows x 2 columns]\n",
      "\n",
      "3823 people below the age of 18 0.11845448348515833 %\n"
     ]
    },
    {
     "data": {
      "text/plain": [
       "<matplotlib.axes._subplots.AxesSubplot at 0x12ec8884b48>"
      ]
     },
     "execution_count": 50,
     "metadata": {},
     "output_type": "execute_result"
    },
    {
     "data": {
      "image/png": "[encoded data removed]",
      "text/plain": [
       "<Figure size 432x288 with 1 Axes>"
      ]
     },
     "metadata": {
      "needs_background": "light"
     },
     "output_type": "display_data"
    }
   ],
   "source": [
    "print(pd.concat([nyorker['R_AGE'].value_counts(),\n",
    "          nyorker['R_AGE'].value_counts(normalize = True).mul(100)],axis = 1, keys = ('counts','percentage'))\n",
    "     )\n",
    "print('')\n",
    "print(str(sum(nyorker['R_AGE']<18)), 'people below the age of 18', str(sum(nyorker['R_AGE']<18)/len(nyorker['R_AGE'])),\"%\")\n",
    "\n",
    "\n",
    "sns.histplot(nyorker['R_AGE'])\n",
    "\n",
    "# Interesting that a lot of the respondants are older but dont think need to change\n",
    "# possibly something to do with the fact that the survey was done via landline calls??"
   ]
  },
  {
   "cell_type": "markdown",
   "metadata": {},
   "source": [
    "## EDUC"
   ]
  },
  {
   "cell_type": "code",
   "execution_count": 51,
   "metadata": {},
   "outputs": [
    {
     "name": "stdout",
     "output_type": "stream",
     "text": [
      "    counts  percentage\n",
      " 3    7976   24.713392\n",
      " 5    7201   22.312078\n",
      " 2    6254   19.377827\n",
      " 4    6225   19.287972\n",
      "-1    2466    7.640825\n",
      " 1    2128    6.593543\n",
      "-7      15    0.046477\n",
      "-8       9    0.027886\n"
     ]
    },
    {
     "data": {
      "image/png": "[encoded data removed]",
      "text/plain": [
       "<Figure size 432x288 with 1 Axes>"
      ]
     },
     "metadata": {
      "needs_background": "light"
     },
     "output_type": "display_data"
    }
   ],
   "source": [
    "cat_col_prop(nyorker,'EDUC',)"
   ]
  },
  {
   "cell_type": "code",
   "execution_count": 52,
   "metadata": {},
   "outputs": [
    {
     "name": "stdout",
     "output_type": "stream",
     "text": [
      "     counts  percentage\n",
      " 1    28887   89.505484\n",
      " 3     1035    3.206916\n",
      " 2     1001    3.101568\n",
      " 6      694    2.150338\n",
      " 97     388    1.202206\n",
      "-7      151    0.467869\n",
      " 4       79    0.244779\n",
      " 5       22    0.068166\n",
      "-8       17    0.052674\n"
     ]
    },
    {
     "data": {
      "image/png": "[encoded data removed]",
      "text/plain": [
       "<Figure size 432x288 with 1 Axes>"
      ]
     },
     "metadata": {
      "needs_background": "light"
     },
     "output_type": "display_data"
    }
   ],
   "source": [
    "cat_col_prop(nyorker,'R_RACE')\n",
    "\n",
    "# High proporition of white"
   ]
  },
  {
   "cell_type": "code",
   "execution_count": 53,
   "metadata": {},
   "outputs": [
    {
     "name": "stdout",
     "output_type": "stream",
     "text": [
      "    counts  percentage\n",
      " 2   16837   52.168929\n",
      " 1   15405   47.731920\n",
      "-7      28    0.086757\n",
      "-8       4    0.012394\n"
     ]
    },
    {
     "data": {
      "image/png": "[encoded data removed]",
      "text/plain": [
       "<Figure size 432x288 with 1 Axes>"
      ]
     },
     "metadata": {
      "needs_background": "light"
     },
     "output_type": "display_data"
    }
   ],
   "source": [
    "cat_col_prop(nyorker,'R_SEX')"
   ]
  },
  {
   "cell_type": "code",
   "execution_count": 54,
   "metadata": {},
   "outputs": [
    {
     "name": "stdout",
     "output_type": "stream",
     "text": [
      "    counts  percentage\n",
      "-1   16118   49.941129\n",
      " 2   13768   42.659726\n",
      " 1    1736    5.378943\n",
      "-9     651    2.017104\n",
      "-7       1    0.003098\n",
      "prolly split -1: not working, 2:No, 1: Yes\n"
     ]
    },
    {
     "data": {
      "image/png": "[encoded data removed]",
      "text/plain": [
       "<Figure size 432x288 with 1 Axes>"
      ]
     },
     "metadata": {
      "needs_background": "light"
     },
     "output_type": "display_data"
    }
   ],
   "source": [
    "cat_col_prop(nyorker,'WRK_HOME')\n",
    "\n",
    "print('prolly split -1: not working, 2:No, 1: Yes')"
   ]
  },
  {
   "cell_type": "code",
   "execution_count": 55,
   "metadata": {},
   "outputs": [
    {
     "name": "stdout",
     "output_type": "stream",
     "text": [
      "    counts  percentage\n",
      "-1   16769   51.958233\n",
      " 1   12009   37.209518\n",
      " 2    3487   10.804363\n",
      "-7       7    0.021689\n",
      "-8       2    0.006197\n",
      "similiar regarding the non workers 51%\n"
     ]
    },
    {
     "data": {
      "image/png": "[encoded data removed]",
      "text/plain": [
       "<Figure size 432x288 with 1 Axes>"
      ]
     },
     "metadata": {
      "needs_background": "light"
     },
     "output_type": "display_data"
    }
   ],
   "source": [
    "cat_col_prop(nyorker,'WKFTPT')\n",
    "\n",
    "print('similiar regarding the non workers 51%')"
   ]
  },
  {
   "cell_type": "code",
   "execution_count": 56,
   "metadata": {},
   "outputs": [
    {
     "name": "stdout",
     "output_type": "stream",
     "text": [
      "     counts  percentage\n",
      "-1    16118   49.941129\n",
      " 4     8526   26.417550\n",
      " 1     3294   10.206358\n",
      " 3     1877    5.815827\n",
      " 2     1781    5.518374\n",
      "-9      651    2.017104\n",
      " 97      19    0.058871\n",
      "-8        5    0.015492\n",
      "-7        3    0.009295\n",
      "similiar not working\n"
     ]
    },
    {
     "data": {
      "image/png": "[encoded data removed]",
      "text/plain": [
       "<Figure size 432x288 with 1 Axes>"
      ]
     },
     "metadata": {
      "needs_background": "light"
     },
     "output_type": "display_data"
    }
   ],
   "source": [
    "cat_col_prop(nyorker,'OCCAT')\n",
    "print('similiar not working')"
   ]
  },
  {
   "cell_type": "code",
   "execution_count": 57,
   "metadata": {},
   "outputs": [],
   "source": [
    "df = nyorker.merge(ny, how='left', left_on = 'HOUSEID', right_on = 'HOUSEID')\n"
   ]
  },
  {
   "cell_type": "code",
   "execution_count": 58,
   "metadata": {},
   "outputs": [],
   "source": [
    "df = df.merge(ny_trip_count,how = 'left', left_on = ['HOUSEID','PERSONID'], right_on = ['HOUSEID','PERSONID'])"
   ]
  },
  {
   "cell_type": "code",
   "execution_count": 59,
   "metadata": {},
   "outputs": [
    {
     "data": {
      "text/plain": [
       "(24412, 25)"
      ]
     },
     "execution_count": 59,
     "metadata": {},
     "output_type": "execute_result"
    }
   ],
   "source": [
    "df = df[df['n_trips'].notna()] \n",
    "df.shape"
   ]
  },
  {
   "cell_type": "markdown",
   "metadata": {},
   "source": [
    "## One Hot Encoding"
   ]
  },
  {
   "cell_type": "code",
   "execution_count": 60,
   "metadata": {},
   "outputs": [
    {
     "data": {
      "text/plain": [
       "HOUSEID               int64\n",
       "PERSONID              int64\n",
       "R_AGE                 int64\n",
       "EDUC                  int64\n",
       "R_RACE                int64\n",
       "R_SEX                 int64\n",
       "WRK_HOME              int64\n",
       "WKFTPT                int64\n",
       "OCCAT                 int64\n",
       "DRIVER                int64\n",
       "HH_CBSA              object\n",
       "HOMEOWN              object\n",
       "HHSIZE               object\n",
       "HHVEHCNT             object\n",
       "HHFAMINC             object\n",
       "NUMADLT_ratio        object\n",
       "YOUNGCHILD_ratio     object\n",
       "WRKCOUNT_ratio       object\n",
       "MSACAT                int64\n",
       "MSASIZE               int64\n",
       "URBAN                 int64\n",
       "URBANSIZE             int64\n",
       "URBRUR                int64\n",
       "LIF_CYC               int64\n",
       "n_trips             float64\n",
       "dtype: object"
      ]
     },
     "execution_count": 60,
     "metadata": {},
     "output_type": "execute_result"
    }
   ],
   "source": [
    "df.dtypes"
   ]
  },
  {
   "cell_type": "code",
   "execution_count": 61,
   "metadata": {},
   "outputs": [],
   "source": [
    "to_obj = ['HOUSEID','PERSONID','EDUC','R_RACE','R_SEX','WRK_HOME','WKFTPT','OCCAT','DRIVER','MSACAT','MSASIZE','URBAN','URBANSIZE','URBRUR','LIF_CYC']\n",
    "\n",
    "df[to_obj] = df[to_obj].astype(str)\n",
    "\n",
    "df['n_trips'] = df['n_trips'].astype('int64')"
   ]
  },
  {
   "cell_type": "code",
   "execution_count": 62,
   "metadata": {},
   "outputs": [
    {
     "data": {
      "text/plain": [
       "HOUSEID             object\n",
       "PERSONID            object\n",
       "R_AGE                int64\n",
       "EDUC                object\n",
       "R_RACE              object\n",
       "R_SEX               object\n",
       "WRK_HOME            object\n",
       "WKFTPT              object\n",
       "OCCAT               object\n",
       "DRIVER              object\n",
       "HH_CBSA             object\n",
       "HOMEOWN             object\n",
       "HHSIZE              object\n",
       "HHVEHCNT            object\n",
       "HHFAMINC            object\n",
       "NUMADLT_ratio       object\n",
       "YOUNGCHILD_ratio    object\n",
       "WRKCOUNT_ratio      object\n",
       "MSACAT              object\n",
       "MSASIZE             object\n",
       "URBAN               object\n",
       "URBANSIZE           object\n",
       "URBRUR              object\n",
       "LIF_CYC             object\n",
       "n_trips              int64\n",
       "dtype: object"
      ]
     },
     "execution_count": 62,
     "metadata": {},
     "output_type": "execute_result"
    }
   ],
   "source": [
    "df.dtypes"
   ]
  },
  {
   "cell_type": "code",
   "execution_count": 63,
   "metadata": {},
   "outputs": [],
   "source": [
    "df.drop(['HOUSEID','PERSONID'],axis=1,inplace = True)"
   ]
  },
  {
   "cell_type": "code",
   "execution_count": 64,
   "metadata": {},
   "outputs": [],
   "source": [
    "one_hot_col = [c for c in df if df[c].dtypes == 'O' ]\n",
    "df = pd.concat([df,pd.get_dummies(df[one_hot_col],prefix = one_hot_col)],axis = 1)\n",
    "df.drop(one_hot_col, axis = 1, inplace = True)"
   ]
  },
  {
   "cell_type": "code",
   "execution_count": 65,
   "metadata": {},
   "outputs": [
    {
     "data": {
      "text/html": [
       "<div>\n",
       "<style scoped>\n",
       "    .dataframe tbody tr th:only-of-type {\n",
       "        vertical-align: middle;\n",
       "    }\n",
       "\n",
       "    .dataframe tbody tr th {\n",
       "        vertical-align: top;\n",
       "    }\n",
       "\n",
       "    .dataframe thead th {\n",
       "        text-align: right;\n",
       "    }\n",
       "</style>\n",
       "<table border=\"1\" class=\"dataframe\">\n",
       "  <thead>\n",
       "    <tr style=\"text-align: right;\">\n",
       "      <th></th>\n",
       "      <th>R_AGE</th>\n",
       "      <th>n_trips</th>\n",
       "      <th>EDUC_-1</th>\n",
       "      <th>EDUC_-7</th>\n",
       "      <th>EDUC_-8</th>\n",
       "      <th>EDUC_1</th>\n",
       "      <th>EDUC_2</th>\n",
       "      <th>EDUC_3</th>\n",
       "      <th>EDUC_4</th>\n",
       "      <th>EDUC_5</th>\n",
       "      <th>...</th>\n",
       "      <th>LIF_CYC_1</th>\n",
       "      <th>LIF_CYC_10</th>\n",
       "      <th>LIF_CYC_2</th>\n",
       "      <th>LIF_CYC_3</th>\n",
       "      <th>LIF_CYC_4</th>\n",
       "      <th>LIF_CYC_5</th>\n",
       "      <th>LIF_CYC_6</th>\n",
       "      <th>LIF_CYC_7</th>\n",
       "      <th>LIF_CYC_8</th>\n",
       "      <th>LIF_CYC_9</th>\n",
       "    </tr>\n",
       "  </thead>\n",
       "  <tbody>\n",
       "    <tr>\n",
       "      <th>0</th>\n",
       "      <td>45</td>\n",
       "      <td>9</td>\n",
       "      <td>0</td>\n",
       "      <td>0</td>\n",
       "      <td>0</td>\n",
       "      <td>0</td>\n",
       "      <td>0</td>\n",
       "      <td>0</td>\n",
       "      <td>0</td>\n",
       "      <td>1</td>\n",
       "      <td>...</td>\n",
       "      <td>1</td>\n",
       "      <td>0</td>\n",
       "      <td>0</td>\n",
       "      <td>0</td>\n",
       "      <td>0</td>\n",
       "      <td>0</td>\n",
       "      <td>0</td>\n",
       "      <td>0</td>\n",
       "      <td>0</td>\n",
       "      <td>0</td>\n",
       "    </tr>\n",
       "    <tr>\n",
       "      <th>1</th>\n",
       "      <td>39</td>\n",
       "      <td>5</td>\n",
       "      <td>0</td>\n",
       "      <td>0</td>\n",
       "      <td>0</td>\n",
       "      <td>0</td>\n",
       "      <td>0</td>\n",
       "      <td>0</td>\n",
       "      <td>0</td>\n",
       "      <td>1</td>\n",
       "      <td>...</td>\n",
       "      <td>0</td>\n",
       "      <td>0</td>\n",
       "      <td>0</td>\n",
       "      <td>0</td>\n",
       "      <td>1</td>\n",
       "      <td>0</td>\n",
       "      <td>0</td>\n",
       "      <td>0</td>\n",
       "      <td>0</td>\n",
       "      <td>0</td>\n",
       "    </tr>\n",
       "    <tr>\n",
       "      <th>2</th>\n",
       "      <td>38</td>\n",
       "      <td>5</td>\n",
       "      <td>0</td>\n",
       "      <td>0</td>\n",
       "      <td>0</td>\n",
       "      <td>0</td>\n",
       "      <td>0</td>\n",
       "      <td>0</td>\n",
       "      <td>1</td>\n",
       "      <td>0</td>\n",
       "      <td>...</td>\n",
       "      <td>0</td>\n",
       "      <td>0</td>\n",
       "      <td>0</td>\n",
       "      <td>0</td>\n",
       "      <td>1</td>\n",
       "      <td>0</td>\n",
       "      <td>0</td>\n",
       "      <td>0</td>\n",
       "      <td>0</td>\n",
       "      <td>0</td>\n",
       "    </tr>\n",
       "    <tr>\n",
       "      <th>5</th>\n",
       "      <td>52</td>\n",
       "      <td>3</td>\n",
       "      <td>0</td>\n",
       "      <td>0</td>\n",
       "      <td>0</td>\n",
       "      <td>0</td>\n",
       "      <td>0</td>\n",
       "      <td>1</td>\n",
       "      <td>0</td>\n",
       "      <td>0</td>\n",
       "      <td>...</td>\n",
       "      <td>0</td>\n",
       "      <td>0</td>\n",
       "      <td>0</td>\n",
       "      <td>0</td>\n",
       "      <td>0</td>\n",
       "      <td>0</td>\n",
       "      <td>1</td>\n",
       "      <td>0</td>\n",
       "      <td>0</td>\n",
       "      <td>0</td>\n",
       "    </tr>\n",
       "    <tr>\n",
       "      <th>6</th>\n",
       "      <td>46</td>\n",
       "      <td>8</td>\n",
       "      <td>0</td>\n",
       "      <td>0</td>\n",
       "      <td>0</td>\n",
       "      <td>0</td>\n",
       "      <td>0</td>\n",
       "      <td>1</td>\n",
       "      <td>0</td>\n",
       "      <td>0</td>\n",
       "      <td>...</td>\n",
       "      <td>0</td>\n",
       "      <td>0</td>\n",
       "      <td>0</td>\n",
       "      <td>0</td>\n",
       "      <td>0</td>\n",
       "      <td>0</td>\n",
       "      <td>1</td>\n",
       "      <td>0</td>\n",
       "      <td>0</td>\n",
       "      <td>0</td>\n",
       "    </tr>\n",
       "    <tr>\n",
       "      <th>...</th>\n",
       "      <td>...</td>\n",
       "      <td>...</td>\n",
       "      <td>...</td>\n",
       "      <td>...</td>\n",
       "      <td>...</td>\n",
       "      <td>...</td>\n",
       "      <td>...</td>\n",
       "      <td>...</td>\n",
       "      <td>...</td>\n",
       "      <td>...</td>\n",
       "      <td>...</td>\n",
       "      <td>...</td>\n",
       "      <td>...</td>\n",
       "      <td>...</td>\n",
       "      <td>...</td>\n",
       "      <td>...</td>\n",
       "      <td>...</td>\n",
       "      <td>...</td>\n",
       "      <td>...</td>\n",
       "      <td>...</td>\n",
       "      <td>...</td>\n",
       "    </tr>\n",
       "    <tr>\n",
       "      <th>32269</th>\n",
       "      <td>50</td>\n",
       "      <td>9</td>\n",
       "      <td>0</td>\n",
       "      <td>0</td>\n",
       "      <td>0</td>\n",
       "      <td>0</td>\n",
       "      <td>0</td>\n",
       "      <td>0</td>\n",
       "      <td>1</td>\n",
       "      <td>0</td>\n",
       "      <td>...</td>\n",
       "      <td>0</td>\n",
       "      <td>0</td>\n",
       "      <td>0</td>\n",
       "      <td>0</td>\n",
       "      <td>0</td>\n",
       "      <td>0</td>\n",
       "      <td>0</td>\n",
       "      <td>0</td>\n",
       "      <td>1</td>\n",
       "      <td>0</td>\n",
       "    </tr>\n",
       "    <tr>\n",
       "      <th>32270</th>\n",
       "      <td>17</td>\n",
       "      <td>5</td>\n",
       "      <td>0</td>\n",
       "      <td>0</td>\n",
       "      <td>0</td>\n",
       "      <td>1</td>\n",
       "      <td>0</td>\n",
       "      <td>0</td>\n",
       "      <td>0</td>\n",
       "      <td>0</td>\n",
       "      <td>...</td>\n",
       "      <td>0</td>\n",
       "      <td>0</td>\n",
       "      <td>0</td>\n",
       "      <td>0</td>\n",
       "      <td>0</td>\n",
       "      <td>0</td>\n",
       "      <td>0</td>\n",
       "      <td>0</td>\n",
       "      <td>1</td>\n",
       "      <td>0</td>\n",
       "    </tr>\n",
       "    <tr>\n",
       "      <th>32271</th>\n",
       "      <td>81</td>\n",
       "      <td>7</td>\n",
       "      <td>0</td>\n",
       "      <td>0</td>\n",
       "      <td>0</td>\n",
       "      <td>0</td>\n",
       "      <td>1</td>\n",
       "      <td>0</td>\n",
       "      <td>0</td>\n",
       "      <td>0</td>\n",
       "      <td>...</td>\n",
       "      <td>0</td>\n",
       "      <td>0</td>\n",
       "      <td>0</td>\n",
       "      <td>0</td>\n",
       "      <td>0</td>\n",
       "      <td>0</td>\n",
       "      <td>0</td>\n",
       "      <td>0</td>\n",
       "      <td>0</td>\n",
       "      <td>1</td>\n",
       "    </tr>\n",
       "    <tr>\n",
       "      <th>32272</th>\n",
       "      <td>75</td>\n",
       "      <td>4</td>\n",
       "      <td>0</td>\n",
       "      <td>0</td>\n",
       "      <td>0</td>\n",
       "      <td>0</td>\n",
       "      <td>0</td>\n",
       "      <td>1</td>\n",
       "      <td>0</td>\n",
       "      <td>0</td>\n",
       "      <td>...</td>\n",
       "      <td>0</td>\n",
       "      <td>1</td>\n",
       "      <td>0</td>\n",
       "      <td>0</td>\n",
       "      <td>0</td>\n",
       "      <td>0</td>\n",
       "      <td>0</td>\n",
       "      <td>0</td>\n",
       "      <td>0</td>\n",
       "      <td>0</td>\n",
       "    </tr>\n",
       "    <tr>\n",
       "      <th>32273</th>\n",
       "      <td>70</td>\n",
       "      <td>3</td>\n",
       "      <td>0</td>\n",
       "      <td>0</td>\n",
       "      <td>0</td>\n",
       "      <td>0</td>\n",
       "      <td>1</td>\n",
       "      <td>0</td>\n",
       "      <td>0</td>\n",
       "      <td>0</td>\n",
       "      <td>...</td>\n",
       "      <td>0</td>\n",
       "      <td>1</td>\n",
       "      <td>0</td>\n",
       "      <td>0</td>\n",
       "      <td>0</td>\n",
       "      <td>0</td>\n",
       "      <td>0</td>\n",
       "      <td>0</td>\n",
       "      <td>0</td>\n",
       "      <td>0</td>\n",
       "    </tr>\n",
       "  </tbody>\n",
       "</table>\n",
       "<p>24412 rows × 112 columns</p>\n",
       "</div>"
      ],
      "text/plain": [
       "       R_AGE  n_trips  EDUC_-1  EDUC_-7  EDUC_-8  EDUC_1  EDUC_2  EDUC_3  \\\n",
       "0         45        9        0        0        0       0       0       0   \n",
       "1         39        5        0        0        0       0       0       0   \n",
       "2         38        5        0        0        0       0       0       0   \n",
       "5         52        3        0        0        0       0       0       1   \n",
       "6         46        8        0        0        0       0       0       1   \n",
       "...      ...      ...      ...      ...      ...     ...     ...     ...   \n",
       "32269     50        9        0        0        0       0       0       0   \n",
       "32270     17        5        0        0        0       1       0       0   \n",
       "32271     81        7        0        0        0       0       1       0   \n",
       "32272     75        4        0        0        0       0       0       1   \n",
       "32273     70        3        0        0        0       0       1       0   \n",
       "\n",
       "       EDUC_4  EDUC_5  ...  LIF_CYC_1  LIF_CYC_10  LIF_CYC_2  LIF_CYC_3  \\\n",
       "0           0       1  ...          1           0          0          0   \n",
       "1           0       1  ...          0           0          0          0   \n",
       "2           1       0  ...          0           0          0          0   \n",
       "5           0       0  ...          0           0          0          0   \n",
       "6           0       0  ...          0           0          0          0   \n",
       "...       ...     ...  ...        ...         ...        ...        ...   \n",
       "32269       1       0  ...          0           0          0          0   \n",
       "32270       0       0  ...          0           0          0          0   \n",
       "32271       0       0  ...          0           0          0          0   \n",
       "32272       0       0  ...          0           1          0          0   \n",
       "32273       0       0  ...          0           1          0          0   \n",
       "\n",
       "       LIF_CYC_4  LIF_CYC_5  LIF_CYC_6  LIF_CYC_7  LIF_CYC_8  LIF_CYC_9  \n",
       "0              0          0          0          0          0          0  \n",
       "1              1          0          0          0          0          0  \n",
       "2              1          0          0          0          0          0  \n",
       "5              0          0          1          0          0          0  \n",
       "6              0          0          1          0          0          0  \n",
       "...          ...        ...        ...        ...        ...        ...  \n",
       "32269          0          0          0          0          1          0  \n",
       "32270          0          0          0          0          1          0  \n",
       "32271          0          0          0          0          0          1  \n",
       "32272          0          0          0          0          0          0  \n",
       "32273          0          0          0          0          0          0  \n",
       "\n",
       "[24412 rows x 112 columns]"
      ]
     },
     "execution_count": 65,
     "metadata": {},
     "output_type": "execute_result"
    }
   ],
   "source": [
    "df"
   ]
  },
  {
   "cell_type": "code",
   "execution_count": 66,
   "metadata": {},
   "outputs": [],
   "source": [
    "#drop all negative value columns (ensure )\n",
    "\n",
    "na_cols =[c for c in df if ('NA' in c) or ('-' in c)]\n",
    "\n",
    "df.drop(na_cols, axis = 1, inplace = True)"
   ]
  },
  {
   "cell_type": "code",
   "execution_count": 67,
   "metadata": {},
   "outputs": [
    {
     "data": {
      "text/plain": [
       "['R_AGE',\n",
       " 'n_trips',\n",
       " 'EDUC_1',\n",
       " 'EDUC_2',\n",
       " 'EDUC_3',\n",
       " 'EDUC_4',\n",
       " 'EDUC_5',\n",
       " 'R_RACE_1',\n",
       " 'R_RACE_2',\n",
       " 'R_RACE_3',\n",
       " 'R_RACE_4',\n",
       " 'R_RACE_5',\n",
       " 'R_RACE_6',\n",
       " 'R_RACE_97',\n",
       " 'R_SEX_1',\n",
       " 'R_SEX_2',\n",
       " 'WRK_HOME_1',\n",
       " 'WRK_HOME_2',\n",
       " 'WKFTPT_1',\n",
       " 'WKFTPT_2',\n",
       " 'OCCAT_1',\n",
       " 'OCCAT_2',\n",
       " 'OCCAT_3',\n",
       " 'OCCAT_4',\n",
       " 'OCCAT_97',\n",
       " 'DRIVER_1',\n",
       " 'DRIVER_2',\n",
       " 'HH_CBSA_15380',\n",
       " 'HH_CBSA_35620',\n",
       " 'HH_CBSA_40380',\n",
       " 'HH_CBSA_XXXXX',\n",
       " 'HOMEOWN_HOME_OWN',\n",
       " 'HOMEOWN_HOME_RENT',\n",
       " 'HHSIZE_1',\n",
       " 'HHSIZE_2',\n",
       " 'HHSIZE_3',\n",
       " 'HHSIZE_>3',\n",
       " 'HHVEHCNT_1',\n",
       " 'HHVEHCNT_2',\n",
       " 'HHVEHCNT_>2',\n",
       " 'HHFAMINC_1',\n",
       " 'HHFAMINC_2',\n",
       " 'HHFAMINC_3',\n",
       " 'HHFAMINC_4',\n",
       " 'HHFAMINC_5',\n",
       " 'HHFAMINC_6',\n",
       " 'HHFAMINC_7',\n",
       " 'HHFAMINC_8',\n",
       " 'HHFAMINC_9',\n",
       " 'HHFAMINC_10',\n",
       " 'HHFAMINC_11',\n",
       " 'NUMADLT_ratio_1',\n",
       " 'NUMADLT_ratio_<0.5',\n",
       " 'NUMADLT_ratio_>0.5',\n",
       " 'YOUNGCHILD_ratio_0',\n",
       " 'YOUNGCHILD_ratio_<0.5',\n",
       " 'YOUNGCHILD_ratio_>0.5',\n",
       " 'WRKCOUNT_ratio_0',\n",
       " 'WRKCOUNT_ratio_1',\n",
       " 'WRKCOUNT_ratio_<0.5',\n",
       " 'WRKCOUNT_ratio_>0.5',\n",
       " 'MSACAT_1',\n",
       " 'MSACAT_2',\n",
       " 'MSACAT_3',\n",
       " 'MSACAT_4',\n",
       " 'MSASIZE_1',\n",
       " 'MSASIZE_2',\n",
       " 'MSASIZE_3',\n",
       " 'MSASIZE_4',\n",
       " 'MSASIZE_5',\n",
       " 'MSASIZE_6',\n",
       " 'URBAN_1',\n",
       " 'URBAN_2',\n",
       " 'URBAN_3',\n",
       " 'URBAN_4',\n",
       " 'URBANSIZE_1',\n",
       " 'URBANSIZE_2',\n",
       " 'URBANSIZE_3',\n",
       " 'URBANSIZE_5',\n",
       " 'URBANSIZE_6',\n",
       " 'URBRUR_1',\n",
       " 'URBRUR_2',\n",
       " 'LIF_CYC_1',\n",
       " 'LIF_CYC_10',\n",
       " 'LIF_CYC_2',\n",
       " 'LIF_CYC_3',\n",
       " 'LIF_CYC_4',\n",
       " 'LIF_CYC_5',\n",
       " 'LIF_CYC_6',\n",
       " 'LIF_CYC_7',\n",
       " 'LIF_CYC_8',\n",
       " 'LIF_CYC_9']"
      ]
     },
     "execution_count": 67,
     "metadata": {},
     "output_type": "execute_result"
    }
   ],
   "source": [
    "[c for c in df]"
   ]
  },
  {
   "cell_type": "code",
   "execution_count": 68,
   "metadata": {},
   "outputs": [
    {
     "data": {
      "text/plain": [
       "(24412, 92)"
      ]
     },
     "execution_count": 68,
     "metadata": {},
     "output_type": "execute_result"
    }
   ],
   "source": [
    "df.shape"
   ]
  },
  {
   "cell_type": "markdown",
   "metadata": {},
   "source": [
    "## Models"
   ]
  },
  {
   "cell_type": "markdown",
   "metadata": {},
   "source": [
    "### Linear Models"
   ]
  },
  {
   "cell_type": "code",
   "execution_count": null,
   "metadata": {},
   "outputs": [],
   "source": []
  },
  {
   "cell_type": "markdown",
   "metadata": {},
   "source": [
    "### Tree Based Models"
   ]
  },
  {
   "cell_type": "code",
   "execution_count": null,
   "metadata": {},
   "outputs": [],
   "source": []
  },
  {
   "cell_type": "markdown",
   "metadata": {},
   "source": [
    "### Neural Network"
   ]
  },
  {
   "cell_type": "code",
   "execution_count": null,
   "metadata": {},
   "outputs": [],
   "source": [
    "from sklearn.model_selection import GridSearchCV\n",
    "from keras.model import Sequential\n",
    "from keras.layers import Dense\n",
    "\n",
    "def create_model_deep():\n",
    "    model = Sequential()\n"
   ]
  }
 ],
 "metadata": {
  "kernelspec": {
   "display_name": "Python 3",
   "language": "python",
   "name": "python3"
  },
  "language_info": {
   "codemirror_mode": {
    "name": "ipython",
    "version": 3
   },
   "file_extension": ".py",
   "mimetype": "text/x-python",
   "name": "python",
   "nbconvert_exporter": "python",
   "pygments_lexer": "ipython3",
   "version": "3.7.4"
  }
 },
 "nbformat": 4,
 "nbformat_minor": 2
}
