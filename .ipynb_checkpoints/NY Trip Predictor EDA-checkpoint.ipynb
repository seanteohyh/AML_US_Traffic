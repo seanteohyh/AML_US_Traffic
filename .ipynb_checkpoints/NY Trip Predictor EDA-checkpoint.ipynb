{
 "cells": [
  {
   "cell_type": "code",
   "execution_count": 1,
   "metadata": {},
   "outputs": [],
   "source": [
    "import pandas as pd\n",
    "import numpy as np\n",
    "import datetime\n",
    "import matplotlib.pyplot as plt\n",
    "import seaborn as sns\n",
    "%matplotlib inline\n",
    "import warnings\n",
    "import math\n",
    "from scipy.stats import pearsonr\n",
    "\n",
    "warnings.filterwarnings('ignore')"
   ]
  },
  {
   "cell_type": "code",
   "execution_count": 2,
   "metadata": {},
   "outputs": [],
   "source": [
    "household = pd.read_csv('C:/Users/Seant/Desktop/aml_data/hhpub.csv')\n",
    "person = pd.read_csv('C:/Users/Seant/Desktop/aml_data/perpub.csv')\n",
    "veh = pd.read_csv('C:/Users/Seant/Desktop/aml_data/vehpub.csv')\n",
    "trip= pd.read_csv('C:/Users/Seant/Desktop/aml_data/trippub.csv')"
   ]
  },
  {
   "cell_type": "code",
   "execution_count": 3,
   "metadata": {},
   "outputs": [],
   "source": [
    "# as only studying hh with car will also filter out hh with HHVEHCNT == 0\n",
    "ny = household[household['HHSTATE'] ==\"NY\"]\n",
    "ny = ny[ny['HHVEHCNT']>0]"
   ]
  },
  {
   "cell_type": "code",
   "execution_count": 4,
   "metadata": {},
   "outputs": [],
   "source": [
    "def cat_col_prop(data, col):\n",
    "    print(pd.concat([data[col].value_counts(),\n",
    "          data[col].value_counts(normalize = True).mul(100)],axis = 1, keys = ('counts','percentage')))\n",
    "\n",
    "    sns.histplot(data[col])"
   ]
  },
  {
   "cell_type": "markdown",
   "metadata": {},
   "source": [
    "## 1. Household"
   ]
  },
  {
   "cell_type": "code",
   "execution_count": 5,
   "metadata": {},
   "outputs": [
    {
     "data": {
      "text/plain": [
       "(15636, 58)"
      ]
     },
     "execution_count": 5,
     "metadata": {},
     "output_type": "execute_result"
    }
   ],
   "source": [
    "#15636 households in NY with at least one vehicle\n",
    "ny.shape"
   ]
  },
  {
   "cell_type": "code",
   "execution_count": 6,
   "metadata": {
    "scrolled": true
   },
   "outputs": [
    {
     "data": {
      "text/plain": [
       "Index(['HOUSEID', 'TRAVDAY', 'SAMPSTRAT', 'HOMEOWN', 'HHSIZE', 'HHVEHCNT',\n",
       "       'HHFAMINC', 'PC', 'SPHONE', 'TAB', 'WALK', 'BIKE', 'CAR', 'TAXI', 'BUS',\n",
       "       'TRAIN', 'PARA', 'PRICE', 'PLACE', 'WALK2SAVE', 'BIKE2SAVE', 'PTRANS',\n",
       "       'HHRELATD', 'DRVRCNT', 'CNTTDHH', 'HHSTATE', 'HHSTFIPS', 'NUMADLT',\n",
       "       'YOUNGCHILD', 'WRKCOUNT', 'TDAYDATE', 'HHRESP', 'LIF_CYC', 'MSACAT',\n",
       "       'MSASIZE', 'RAIL', 'URBAN', 'URBANSIZE', 'URBRUR', 'SCRESP', 'CENSUS_D',\n",
       "       'CENSUS_R', 'CDIVMSAR', 'HH_RACE', 'HH_HISP', 'HH_CBSA', 'RESP_CNT',\n",
       "       'WEBUSE17', 'SMPLSRCE', 'WTHHFIN', 'HBHUR', 'HTHTNRNT', 'HTPPOPDN',\n",
       "       'HTRESDN', 'HTEEMPDN', 'HBHTNRNT', 'HBPPOPDN', 'HBRESDN'],\n",
       "      dtype='object')"
      ]
     },
     "execution_count": 6,
     "metadata": {},
     "output_type": "execute_result"
    }
   ],
   "source": [
    "ny.columns"
   ]
  },
  {
   "cell_type": "code",
   "execution_count": 7,
   "metadata": {},
   "outputs": [
    {
     "name": "stdout",
     "output_type": "stream",
     "text": [
      "min value: 0 should keep these values too 1411 occurences of total 15636 ( 9.024047070862114 %)\n"
     ]
    },
    {
     "data": {
      "image/png": "[encoded data removed]",
      "text/plain": [
       "<Figure size 432x288 with 1 Axes>"
      ]
     },
     "metadata": {
      "needs_background": "light"
     },
     "output_type": "display_data"
    }
   ],
   "source": [
    "# label - cause of the zero values may not be able to log\n",
    "sns.histplot(ny['CNTTDHH'])\n",
    "print(\"min value:\",str(min(ny['CNTTDHH'])),\"should keep these values too\",str(sum(ny['CNTTDHH']==0)), \"occurences of total\", len(ny), \"(\", str(sum(ny['CNTTDHH']==0)/len(ny)*100),\"%)\" )\n"
   ]
  },
  {
   "cell_type": "markdown",
   "metadata": {},
   "source": [
    "### MSACAT"
   ]
  },
  {
   "cell_type": "code",
   "execution_count": 8,
   "metadata": {},
   "outputs": [
    {
     "name": "stdout",
     "output_type": "stream",
     "text": [
      "   counts  percentage\n",
      "3    6936   44.359171\n",
      "1    4384   28.037861\n",
      "4    2635   16.852136\n",
      "2    1681   10.750831\n"
     ]
    },
    {
     "data": {
      "image/png": "[encoded data removed]",
      "text/plain": [
       "<Figure size 432x288 with 1 Axes>"
      ]
     },
     "metadata": {
      "needs_background": "light"
     },
     "output_type": "display_data"
    }
   ],
   "source": [
    "ny['MSACAT'].value_counts()\n",
    "\n",
    "cat_col_prop(ny,'MSACAT')\n"
   ]
  },
  {
   "cell_type": "code",
   "execution_count": 9,
   "metadata": {},
   "outputs": [
    {
     "name": "stdout",
     "output_type": "stream",
     "text": [
      "   counts  percentage\n",
      "5    4384   28.037861\n",
      "1    4067   26.010489\n",
      "6    2635   16.852136\n",
      "3    2135   13.654387\n",
      "4    1681   10.750831\n",
      "2     734    4.694295\n"
     ]
    },
    {
     "data": {
      "image/png": "[encoded data removed]",
      "text/plain": [
       "<Figure size 432x288 with 1 Axes>"
      ]
     },
     "metadata": {
      "needs_background": "light"
     },
     "output_type": "display_data"
    }
   ],
   "source": [
    "ny['MSASIZE'].value_counts()\n",
    "\n",
    "cat_col_prop(ny,'MSASIZE')"
   ]
  },
  {
   "cell_type": "code",
   "execution_count": 10,
   "metadata": {},
   "outputs": [
    {
     "name": "stdout",
     "output_type": "stream",
     "text": [
      "    counts  percentage\n",
      "23    6933   44.339985\n",
      "21    4380   28.012279\n",
      "24    2634   16.845741\n",
      "22    1680   10.744436\n",
      "51       3    0.019186\n",
      "13       2    0.012791\n",
      "33       1    0.006395\n",
      "52       1    0.006395\n",
      "54       1    0.006395\n",
      "31       1    0.006395\n"
     ]
    },
    {
     "data": {
      "image/png": "[encoded data removed]",
      "text/plain": [
       "<Figure size 432x288 with 1 Axes>"
      ]
     },
     "metadata": {
      "needs_background": "light"
     },
     "output_type": "display_data"
    }
   ],
   "source": [
    "ny['CDIVMSAR'].value_counts()\n",
    "\n",
    "cat_col_prop(ny,'CDIVMSAR')"
   ]
  },
  {
   "cell_type": "markdown",
   "metadata": {},
   "source": [
    "### Core Based Statistical Area FIPS code"
   ]
  },
  {
   "cell_type": "code",
   "execution_count": 11,
   "metadata": {},
   "outputs": [
    {
     "name": "stdout",
     "output_type": "stream",
     "text": [
      "       counts  percentage\n",
      "XXXXX    9571   61.211307\n",
      "35620    4384   28.037861\n",
      "40380     902    5.768739\n",
      "15380     779    4.982093\n"
     ]
    },
    {
     "data": {
      "image/png": "[encoded data removed]",
      "text/plain": [
       "<Figure size 432x288 with 1 Axes>"
      ]
     },
     "metadata": {
      "needs_background": "light"
     },
     "output_type": "display_data"
    }
   ],
   "source": [
    "ny['HH_CBSA'].value_counts()\n",
    "\n",
    "cat_col_prop(ny,'HH_CBSA')\n",
    "\n",
    "# significant number of households under the 'XXXXX=Suppressed, in an MSA of less than 1 million ' category"
   ]
  },
  {
   "cell_type": "code",
   "execution_count": 12,
   "metadata": {
    "scrolled": true
   },
   "outputs": [
    {
     "data": {
      "text/html": [
       "<div>\n",
       "<style scoped>\n",
       "    .dataframe tbody tr th:only-of-type {\n",
       "        vertical-align: middle;\n",
       "    }\n",
       "\n",
       "    .dataframe tbody tr th {\n",
       "        vertical-align: top;\n",
       "    }\n",
       "\n",
       "    .dataframe thead th {\n",
       "        text-align: right;\n",
       "    }\n",
       "</style>\n",
       "<table border=\"1\" class=\"dataframe\">\n",
       "  <thead>\n",
       "    <tr style=\"text-align: right;\">\n",
       "      <th></th>\n",
       "      <th>HOUSEID</th>\n",
       "      <th>TRAVDAY</th>\n",
       "      <th>SAMPSTRAT</th>\n",
       "      <th>HOMEOWN</th>\n",
       "      <th>HHSIZE</th>\n",
       "      <th>HHVEHCNT</th>\n",
       "      <th>HHFAMINC</th>\n",
       "      <th>PC</th>\n",
       "      <th>SPHONE</th>\n",
       "      <th>TAB</th>\n",
       "      <th>...</th>\n",
       "      <th>SMPLSRCE</th>\n",
       "      <th>WTHHFIN</th>\n",
       "      <th>HBHUR</th>\n",
       "      <th>HTHTNRNT</th>\n",
       "      <th>HTPPOPDN</th>\n",
       "      <th>HTRESDN</th>\n",
       "      <th>HTEEMPDN</th>\n",
       "      <th>HBHTNRNT</th>\n",
       "      <th>HBPPOPDN</th>\n",
       "      <th>HBRESDN</th>\n",
       "    </tr>\n",
       "  </thead>\n",
       "  <tbody>\n",
       "    <tr>\n",
       "      <th>2</th>\n",
       "      <td>30000012</td>\n",
       "      <td>5</td>\n",
       "      <td>3</td>\n",
       "      <td>1</td>\n",
       "      <td>1</td>\n",
       "      <td>2</td>\n",
       "      <td>10</td>\n",
       "      <td>1</td>\n",
       "      <td>1</td>\n",
       "      <td>3</td>\n",
       "      <td>...</td>\n",
       "      <td>2</td>\n",
       "      <td>79.419586</td>\n",
       "      <td>C</td>\n",
       "      <td>80</td>\n",
       "      <td>17000</td>\n",
       "      <td>17000</td>\n",
       "      <td>5000</td>\n",
       "      <td>60</td>\n",
       "      <td>17000</td>\n",
       "      <td>7000</td>\n",
       "    </tr>\n",
       "    <tr>\n",
       "      <th>8</th>\n",
       "      <td>30000082</td>\n",
       "      <td>3</td>\n",
       "      <td>3</td>\n",
       "      <td>2</td>\n",
       "      <td>4</td>\n",
       "      <td>2</td>\n",
       "      <td>8</td>\n",
       "      <td>1</td>\n",
       "      <td>1</td>\n",
       "      <td>5</td>\n",
       "      <td>...</td>\n",
       "      <td>2</td>\n",
       "      <td>1148.809332</td>\n",
       "      <td>T</td>\n",
       "      <td>20</td>\n",
       "      <td>1500</td>\n",
       "      <td>300</td>\n",
       "      <td>750</td>\n",
       "      <td>30</td>\n",
       "      <td>750</td>\n",
       "      <td>300</td>\n",
       "    </tr>\n",
       "    <tr>\n",
       "      <th>15</th>\n",
       "      <td>30000130</td>\n",
       "      <td>1</td>\n",
       "      <td>1</td>\n",
       "      <td>1</td>\n",
       "      <td>2</td>\n",
       "      <td>1</td>\n",
       "      <td>5</td>\n",
       "      <td>-9</td>\n",
       "      <td>1</td>\n",
       "      <td>-9</td>\n",
       "      <td>...</td>\n",
       "      <td>1</td>\n",
       "      <td>3829.959655</td>\n",
       "      <td>U</td>\n",
       "      <td>60</td>\n",
       "      <td>30000</td>\n",
       "      <td>17000</td>\n",
       "      <td>5000</td>\n",
       "      <td>70</td>\n",
       "      <td>30000</td>\n",
       "      <td>17000</td>\n",
       "    </tr>\n",
       "    <tr>\n",
       "      <th>39</th>\n",
       "      <td>30000380</td>\n",
       "      <td>2</td>\n",
       "      <td>3</td>\n",
       "      <td>2</td>\n",
       "      <td>3</td>\n",
       "      <td>1</td>\n",
       "      <td>3</td>\n",
       "      <td>1</td>\n",
       "      <td>1</td>\n",
       "      <td>2</td>\n",
       "      <td>...</td>\n",
       "      <td>2</td>\n",
       "      <td>370.744472</td>\n",
       "      <td>S</td>\n",
       "      <td>50</td>\n",
       "      <td>3000</td>\n",
       "      <td>1500</td>\n",
       "      <td>1500</td>\n",
       "      <td>50</td>\n",
       "      <td>3000</td>\n",
       "      <td>1500</td>\n",
       "    </tr>\n",
       "    <tr>\n",
       "      <th>44</th>\n",
       "      <td>30000434</td>\n",
       "      <td>7</td>\n",
       "      <td>3</td>\n",
       "      <td>1</td>\n",
       "      <td>2</td>\n",
       "      <td>2</td>\n",
       "      <td>8</td>\n",
       "      <td>1</td>\n",
       "      <td>1</td>\n",
       "      <td>3</td>\n",
       "      <td>...</td>\n",
       "      <td>2</td>\n",
       "      <td>101.472420</td>\n",
       "      <td>R</td>\n",
       "      <td>30</td>\n",
       "      <td>1500</td>\n",
       "      <td>750</td>\n",
       "      <td>750</td>\n",
       "      <td>30</td>\n",
       "      <td>750</td>\n",
       "      <td>300</td>\n",
       "    </tr>\n",
       "  </tbody>\n",
       "</table>\n",
       "<p>5 rows × 58 columns</p>\n",
       "</div>"
      ],
      "text/plain": [
       "     HOUSEID  TRAVDAY  SAMPSTRAT  HOMEOWN  HHSIZE  HHVEHCNT  HHFAMINC  PC  \\\n",
       "2   30000012        5          3        1       1         2        10   1   \n",
       "8   30000082        3          3        2       4         2         8   1   \n",
       "15  30000130        1          1        1       2         1         5  -9   \n",
       "39  30000380        2          3        2       3         1         3   1   \n",
       "44  30000434        7          3        1       2         2         8   1   \n",
       "\n",
       "    SPHONE  TAB  ...  SMPLSRCE      WTHHFIN  HBHUR  HTHTNRNT  HTPPOPDN  \\\n",
       "2        1    3  ...         2    79.419586      C        80     17000   \n",
       "8        1    5  ...         2  1148.809332      T        20      1500   \n",
       "15       1   -9  ...         1  3829.959655      U        60     30000   \n",
       "39       1    2  ...         2   370.744472      S        50      3000   \n",
       "44       1    3  ...         2   101.472420      R        30      1500   \n",
       "\n",
       "    HTRESDN  HTEEMPDN  HBHTNRNT  HBPPOPDN  HBRESDN  \n",
       "2     17000      5000        60     17000     7000  \n",
       "8       300       750        30       750      300  \n",
       "15    17000      5000        70     30000    17000  \n",
       "39     1500      1500        50      3000     1500  \n",
       "44      750       750        30       750      300  \n",
       "\n",
       "[5 rows x 58 columns]"
      ]
     },
     "execution_count": 12,
     "metadata": {},
     "output_type": "execute_result"
    }
   ],
   "source": [
    "ny.head()"
   ]
  },
  {
   "cell_type": "markdown",
   "metadata": {},
   "source": [
    "### Travel Dayof Week Lower"
   ]
  },
  {
   "cell_type": "code",
   "execution_count": 13,
   "metadata": {},
   "outputs": [
    {
     "data": {
      "text/plain": [
       "2    2274\n",
       "5    2269\n",
       "1    2251\n",
       "7    2247\n",
       "6    2228\n",
       "3    2203\n",
       "4    2164\n",
       "Name: TRAVDAY, dtype: int64"
      ]
     },
     "execution_count": 13,
     "metadata": {},
     "output_type": "execute_result"
    }
   ],
   "source": [
    "#relatively equal number of days of the week\n",
    "ny['TRAVDAY'].value_counts()"
   ]
  },
  {
   "cell_type": "markdown",
   "metadata": {},
   "source": [
    "### Home ownership"
   ]
  },
  {
   "cell_type": "code",
   "execution_count": 14,
   "metadata": {},
   "outputs": [
    {
     "name": "stdout",
     "output_type": "stream",
     "text": [
      "     counts  percentage\n",
      " 1    12796   81.836787\n",
      " 2     2722   17.408544\n",
      " 97     117    0.748273\n",
      "-7        1    0.006395\n"
     ]
    },
    {
     "data": {
      "image/png": "[encoded data removed]",
      "text/plain": [
       "<Figure size 432x288 with 1 Axes>"
      ]
     },
     "metadata": {
      "needs_background": "light"
     },
     "output_type": "display_data"
    }
   ],
   "source": [
    "# Majority Own home while 17 percent rent the rest to replace with 'NA' (to remove while one hot encoding)\n",
    "\n",
    "cat_col_prop(ny,'HOMEOWN')\n",
    "\n",
    "ny['HOMEOWN'] = ny['HOMEOWN'].replace({1:\"HOME_OWN\",\n",
    "                                       2: \"HOME_RENT\",\n",
    "                                      97: \"NA\",\n",
    "                                      -7: \"NA\"})"
   ]
  },
  {
   "cell_type": "markdown",
   "metadata": {},
   "source": [
    "### HHVEHCTN"
   ]
  },
  {
   "cell_type": "code",
   "execution_count": 15,
   "metadata": {},
   "outputs": [
    {
     "name": "stdout",
     "output_type": "stream",
     "text": [
      "    counts  percentage\n",
      "2     6334   40.509082\n",
      "1     5821   37.228191\n",
      "3     2257   14.434638\n",
      "4      795    5.084421\n",
      "5      281    1.797135\n",
      "6       92    0.588386\n",
      "7       34    0.217447\n",
      "8       12    0.076746\n",
      "9        6    0.038373\n",
      "11       2    0.012791\n",
      "12       2    0.012791\n",
      "________\n",
      "new HHVEHCNT\n",
      "    counts  percentage\n",
      "2     6334   40.509082\n",
      "1     5821   37.228191\n",
      ">2    3481   22.262727\n"
     ]
    },
    {
     "data": {
      "image/png": "[encoded data removed]",
      "text/plain": [
       "<Figure size 432x288 with 1 Axes>"
      ]
     },
     "metadata": {
      "needs_background": "light"
     },
     "output_type": "display_data"
    }
   ],
   "source": [
    "cat_col_prop(ny,'HHVEHCNT')\n",
    "\n",
    "ny['HHVEHCNT'][ny['HHVEHCNT']>2] = \">2\"\n",
    "\n",
    "print(\"________\")\n",
    "print(\"new HHVEHCNT\")\n",
    "print(pd.concat([ny['HHVEHCNT'].value_counts(),\n",
    "          ny['HHVEHCNT'].value_counts(normalize = True).mul(100)],axis = 1, keys = ('counts','percentage'))\n",
    "    )"
   ]
  },
  {
   "cell_type": "markdown",
   "metadata": {},
   "source": [
    "### HHFAMINC"
   ]
  },
  {
   "cell_type": "code",
   "execution_count": 16,
   "metadata": {},
   "outputs": [
    {
     "name": "stdout",
     "output_type": "stream",
     "text": [
      "     counts  percentage\n",
      " 6     2870   18.355078\n",
      " 7     2180   13.942185\n",
      " 5     1874   11.985162\n",
      " 8     1667   10.661294\n",
      " 4     1446    9.247889\n",
      " 3     1234    7.892044\n",
      " 9      961    6.146073\n",
      " 11     922    5.896649\n",
      " 10     886    5.666411\n",
      " 2      610    3.901254\n",
      "-7      489    3.127398\n",
      " 1      419    2.679713\n",
      "-8       76    0.486058\n",
      "-9        2    0.012791\n"
     ]
    },
    {
     "data": {
      "text/plain": [
       "<matplotlib.axes._subplots.AxesSubplot at 0x1d28067fd48>"
      ]
     },
     "execution_count": 16,
     "metadata": {},
     "output_type": "execute_result"
    },
    {
     "data": {
      "image/png": "[encoded data removed]",
      "text/plain": [
       "<Figure size 432x288 with 1 Axes>"
      ]
     },
     "metadata": {
      "needs_background": "light"
     },
     "output_type": "display_data"
    }
   ],
   "source": [
    "# Group all negative as 'NA'\n",
    "\n",
    "print(pd.concat([ny['HHFAMINC'].value_counts(),\n",
    "          ny['HHFAMINC'].value_counts(normalize = True).mul(100)],axis = 1, keys = ('counts','percentage'))\n",
    "     )\n",
    "\n",
    "ny['HHFAMINC'][ny['HHFAMINC'].isin([-9,-8,-7])]  = \"NA\"\n",
    "\n",
    "sns.countplot(data = ny, x= 'HHFAMINC')"
   ]
  },
  {
   "cell_type": "markdown",
   "metadata": {},
   "source": [
    "### DRVRCNT"
   ]
  },
  {
   "cell_type": "code",
   "execution_count": 17,
   "metadata": {},
   "outputs": [
    {
     "name": "stdout",
     "output_type": "stream",
     "text": [
      "Pearson Corelation of:  0.8662732357377938 between DRVRCNT and NUMADLT. May remove one is too many variables\n"
     ]
    },
    {
     "data": {
      "text/plain": [
       "<matplotlib.axes._subplots.AxesSubplot at 0x1d280ce1908>"
      ]
     },
     "execution_count": 17,
     "metadata": {},
     "output_type": "execute_result"
    },
    {
     "data": {
      "image/png": "[encoded data removed]",
      "text/plain": [
       "<Figure size 432x288 with 1 Axes>"
      ]
     },
     "metadata": {
      "needs_background": "light"
     },
     "output_type": "display_data"
    }
   ],
   "source": [
    "\n",
    "corr,_ = pearsonr(ny['DRVRCNT'],ny['NUMADLT'])\n",
    "print(\"Pearson Corelation of: \",str(corr), \"between DRVRCNT and NUMADLT. May remove one is too many variables\")\n",
    "\n",
    "sns.scatterplot(x = ny['DRVRCNT'], y = ny['NUMADLT'])\n",
    "#"
   ]
  },
  {
   "cell_type": "code",
   "execution_count": 18,
   "metadata": {},
   "outputs": [
    {
     "name": "stdout",
     "output_type": "stream",
     "text": [
      "   counts  percentage\n",
      "2    8176   52.289588\n",
      "1    5849   37.407265\n",
      "3    1187    7.591456\n",
      "4     316    2.020977\n",
      "0      56    0.358148\n",
      "5      44    0.281402\n",
      "6       7    0.044768\n",
      "7       1    0.006395\n",
      "_______________________\n",
      "new value counts for DRVRCNT\n",
      "    counts  percentage\n",
      "2     8176   52.289588\n",
      "1     5849   37.407265\n",
      ">2    1555    9.944999\n",
      "0       56    0.358148\n"
     ]
    },
    {
     "data": {
      "image/png": "[encoded data removed]",
      "text/plain": [
       "<Figure size 432x288 with 1 Axes>"
      ]
     },
     "metadata": {
      "needs_background": "light"
     },
     "output_type": "display_data"
    }
   ],
   "source": [
    "cat_col_prop(ny,'DRVRCNT')\n",
    "\n",
    "# will bin those with >2 drivers together\n",
    "ny['DRVRCNT'][ny['DRVRCNT']>2] = \">2\"\n",
    "\n",
    "print(\"_______________________\")\n",
    "print(\"new value counts for DRVRCNT\")\n",
    "\n",
    "print(pd.concat([ny['DRVRCNT'].value_counts(),\n",
    "          ny['DRVRCNT'].value_counts(normalize = True).mul(100)],axis = 1, keys = ('counts','percentage'))\n",
    "     )"
   ]
  },
  {
   "cell_type": "code",
   "execution_count": 19,
   "metadata": {},
   "outputs": [
    {
     "data": {
      "text/html": [
       "<div>\n",
       "<style scoped>\n",
       "    .dataframe tbody tr th:only-of-type {\n",
       "        vertical-align: middle;\n",
       "    }\n",
       "\n",
       "    .dataframe tbody tr th {\n",
       "        vertical-align: top;\n",
       "    }\n",
       "\n",
       "    .dataframe thead th {\n",
       "        text-align: right;\n",
       "    }\n",
       "</style>\n",
       "<table border=\"1\" class=\"dataframe\">\n",
       "  <thead>\n",
       "    <tr style=\"text-align: right;\">\n",
       "      <th></th>\n",
       "      <th>HOUSEID</th>\n",
       "      <th>TRAVDAY</th>\n",
       "      <th>SAMPSTRAT</th>\n",
       "      <th>HHSIZE</th>\n",
       "      <th>PC</th>\n",
       "      <th>SPHONE</th>\n",
       "      <th>TAB</th>\n",
       "      <th>WALK</th>\n",
       "      <th>BIKE</th>\n",
       "      <th>CAR</th>\n",
       "      <th>...</th>\n",
       "      <th>WEBUSE17</th>\n",
       "      <th>SMPLSRCE</th>\n",
       "      <th>WTHHFIN</th>\n",
       "      <th>HTHTNRNT</th>\n",
       "      <th>HTPPOPDN</th>\n",
       "      <th>HTRESDN</th>\n",
       "      <th>HTEEMPDN</th>\n",
       "      <th>HBHTNRNT</th>\n",
       "      <th>HBPPOPDN</th>\n",
       "      <th>HBRESDN</th>\n",
       "    </tr>\n",
       "  </thead>\n",
       "  <tbody>\n",
       "    <tr>\n",
       "      <th>count</th>\n",
       "      <td>5.600000e+01</td>\n",
       "      <td>56.000000</td>\n",
       "      <td>56.000000</td>\n",
       "      <td>56.000000</td>\n",
       "      <td>56.000000</td>\n",
       "      <td>56.000000</td>\n",
       "      <td>56.000000</td>\n",
       "      <td>56.000000</td>\n",
       "      <td>56.000000</td>\n",
       "      <td>56.000000</td>\n",
       "      <td>...</td>\n",
       "      <td>56.000000</td>\n",
       "      <td>56.000000</td>\n",
       "      <td>56.000000</td>\n",
       "      <td>56.000000</td>\n",
       "      <td>56.000000</td>\n",
       "      <td>56.000000</td>\n",
       "      <td>56.000000</td>\n",
       "      <td>56.000000</td>\n",
       "      <td>56.000000</td>\n",
       "      <td>56.000000</td>\n",
       "    </tr>\n",
       "    <tr>\n",
       "      <th>mean</th>\n",
       "      <td>3.550968e+07</td>\n",
       "      <td>4.178571</td>\n",
       "      <td>2.714286</td>\n",
       "      <td>1.392857</td>\n",
       "      <td>2.607143</td>\n",
       "      <td>2.214286</td>\n",
       "      <td>2.839286</td>\n",
       "      <td>1.803571</td>\n",
       "      <td>2.553571</td>\n",
       "      <td>2.410714</td>\n",
       "      <td>...</td>\n",
       "      <td>2.321429</td>\n",
       "      <td>1.928571</td>\n",
       "      <td>328.238331</td>\n",
       "      <td>26.000000</td>\n",
       "      <td>2998.053571</td>\n",
       "      <td>1402.517857</td>\n",
       "      <td>999.839286</td>\n",
       "      <td>25.107143</td>\n",
       "      <td>3134.660714</td>\n",
       "      <td>1448.053571</td>\n",
       "    </tr>\n",
       "    <tr>\n",
       "      <th>std</th>\n",
       "      <td>5.075576e+06</td>\n",
       "      <td>1.973526</td>\n",
       "      <td>1.090693</td>\n",
       "      <td>0.845922</td>\n",
       "      <td>3.251174</td>\n",
       "      <td>4.305237</td>\n",
       "      <td>4.035194</td>\n",
       "      <td>4.730634</td>\n",
       "      <td>5.141346</td>\n",
       "      <td>1.474348</td>\n",
       "      <td>...</td>\n",
       "      <td>2.867417</td>\n",
       "      <td>0.259870</td>\n",
       "      <td>673.880020</td>\n",
       "      <td>17.964612</td>\n",
       "      <td>5539.648609</td>\n",
       "      <td>2823.995963</td>\n",
       "      <td>1461.105307</td>\n",
       "      <td>19.704802</td>\n",
       "      <td>5582.059093</td>\n",
       "      <td>2822.493961</td>\n",
       "    </tr>\n",
       "    <tr>\n",
       "      <th>min</th>\n",
       "      <td>3.008108e+07</td>\n",
       "      <td>1.000000</td>\n",
       "      <td>1.000000</td>\n",
       "      <td>1.000000</td>\n",
       "      <td>-9.000000</td>\n",
       "      <td>-9.000000</td>\n",
       "      <td>-9.000000</td>\n",
       "      <td>-9.000000</td>\n",
       "      <td>-9.000000</td>\n",
       "      <td>-1.000000</td>\n",
       "      <td>...</td>\n",
       "      <td>-9.000000</td>\n",
       "      <td>1.000000</td>\n",
       "      <td>15.259318</td>\n",
       "      <td>-9.000000</td>\n",
       "      <td>-9.000000</td>\n",
       "      <td>-9.000000</td>\n",
       "      <td>-9.000000</td>\n",
       "      <td>-9.000000</td>\n",
       "      <td>-9.000000</td>\n",
       "      <td>-9.000000</td>\n",
       "    </tr>\n",
       "    <tr>\n",
       "      <th>25%</th>\n",
       "      <td>3.032250e+07</td>\n",
       "      <td>3.000000</td>\n",
       "      <td>2.000000</td>\n",
       "      <td>1.000000</td>\n",
       "      <td>1.000000</td>\n",
       "      <td>1.000000</td>\n",
       "      <td>2.000000</td>\n",
       "      <td>1.000000</td>\n",
       "      <td>4.000000</td>\n",
       "      <td>2.000000</td>\n",
       "      <td>...</td>\n",
       "      <td>1.000000</td>\n",
       "      <td>2.000000</td>\n",
       "      <td>53.999105</td>\n",
       "      <td>16.250000</td>\n",
       "      <td>50.000000</td>\n",
       "      <td>50.000000</td>\n",
       "      <td>25.000000</td>\n",
       "      <td>5.000000</td>\n",
       "      <td>300.000000</td>\n",
       "      <td>50.000000</td>\n",
       "    </tr>\n",
       "    <tr>\n",
       "      <th>50%</th>\n",
       "      <td>4.007016e+07</td>\n",
       "      <td>4.000000</td>\n",
       "      <td>3.000000</td>\n",
       "      <td>1.000000</td>\n",
       "      <td>3.000000</td>\n",
       "      <td>5.000000</td>\n",
       "      <td>5.000000</td>\n",
       "      <td>4.000000</td>\n",
       "      <td>5.000000</td>\n",
       "      <td>2.000000</td>\n",
       "      <td>...</td>\n",
       "      <td>1.500000</td>\n",
       "      <td>2.000000</td>\n",
       "      <td>142.212181</td>\n",
       "      <td>20.000000</td>\n",
       "      <td>300.000000</td>\n",
       "      <td>300.000000</td>\n",
       "      <td>150.000000</td>\n",
       "      <td>20.000000</td>\n",
       "      <td>750.000000</td>\n",
       "      <td>300.000000</td>\n",
       "    </tr>\n",
       "    <tr>\n",
       "      <th>75%</th>\n",
       "      <td>4.039824e+07</td>\n",
       "      <td>6.000000</td>\n",
       "      <td>4.000000</td>\n",
       "      <td>1.250000</td>\n",
       "      <td>5.000000</td>\n",
       "      <td>5.000000</td>\n",
       "      <td>5.000000</td>\n",
       "      <td>5.000000</td>\n",
       "      <td>5.000000</td>\n",
       "      <td>3.000000</td>\n",
       "      <td>...</td>\n",
       "      <td>5.000000</td>\n",
       "      <td>2.000000</td>\n",
       "      <td>290.463949</td>\n",
       "      <td>40.000000</td>\n",
       "      <td>3000.000000</td>\n",
       "      <td>1500.000000</td>\n",
       "      <td>1500.000000</td>\n",
       "      <td>40.000000</td>\n",
       "      <td>3000.000000</td>\n",
       "      <td>1500.000000</td>\n",
       "    </tr>\n",
       "    <tr>\n",
       "      <th>max</th>\n",
       "      <td>4.077127e+07</td>\n",
       "      <td>7.000000</td>\n",
       "      <td>4.000000</td>\n",
       "      <td>5.000000</td>\n",
       "      <td>5.000000</td>\n",
       "      <td>5.000000</td>\n",
       "      <td>5.000000</td>\n",
       "      <td>5.000000</td>\n",
       "      <td>5.000000</td>\n",
       "      <td>5.000000</td>\n",
       "      <td>...</td>\n",
       "      <td>5.000000</td>\n",
       "      <td>2.000000</td>\n",
       "      <td>3834.854389</td>\n",
       "      <td>70.000000</td>\n",
       "      <td>30000.000000</td>\n",
       "      <td>17000.000000</td>\n",
       "      <td>5000.000000</td>\n",
       "      <td>90.000000</td>\n",
       "      <td>30000.000000</td>\n",
       "      <td>17000.000000</td>\n",
       "    </tr>\n",
       "  </tbody>\n",
       "</table>\n",
       "<p>8 rows × 51 columns</p>\n",
       "</div>"
      ],
      "text/plain": [
       "            HOUSEID    TRAVDAY  SAMPSTRAT     HHSIZE         PC     SPHONE  \\\n",
       "count  5.600000e+01  56.000000  56.000000  56.000000  56.000000  56.000000   \n",
       "mean   3.550968e+07   4.178571   2.714286   1.392857   2.607143   2.214286   \n",
       "std    5.075576e+06   1.973526   1.090693   0.845922   3.251174   4.305237   \n",
       "min    3.008108e+07   1.000000   1.000000   1.000000  -9.000000  -9.000000   \n",
       "25%    3.032250e+07   3.000000   2.000000   1.000000   1.000000   1.000000   \n",
       "50%    4.007016e+07   4.000000   3.000000   1.000000   3.000000   5.000000   \n",
       "75%    4.039824e+07   6.000000   4.000000   1.250000   5.000000   5.000000   \n",
       "max    4.077127e+07   7.000000   4.000000   5.000000   5.000000   5.000000   \n",
       "\n",
       "             TAB       WALK       BIKE        CAR  ...   WEBUSE17   SMPLSRCE  \\\n",
       "count  56.000000  56.000000  56.000000  56.000000  ...  56.000000  56.000000   \n",
       "mean    2.839286   1.803571   2.553571   2.410714  ...   2.321429   1.928571   \n",
       "std     4.035194   4.730634   5.141346   1.474348  ...   2.867417   0.259870   \n",
       "min    -9.000000  -9.000000  -9.000000  -1.000000  ...  -9.000000   1.000000   \n",
       "25%     2.000000   1.000000   4.000000   2.000000  ...   1.000000   2.000000   \n",
       "50%     5.000000   4.000000   5.000000   2.000000  ...   1.500000   2.000000   \n",
       "75%     5.000000   5.000000   5.000000   3.000000  ...   5.000000   2.000000   \n",
       "max     5.000000   5.000000   5.000000   5.000000  ...   5.000000   2.000000   \n",
       "\n",
       "           WTHHFIN   HTHTNRNT      HTPPOPDN       HTRESDN     HTEEMPDN  \\\n",
       "count    56.000000  56.000000     56.000000     56.000000    56.000000   \n",
       "mean    328.238331  26.000000   2998.053571   1402.517857   999.839286   \n",
       "std     673.880020  17.964612   5539.648609   2823.995963  1461.105307   \n",
       "min      15.259318  -9.000000     -9.000000     -9.000000    -9.000000   \n",
       "25%      53.999105  16.250000     50.000000     50.000000    25.000000   \n",
       "50%     142.212181  20.000000    300.000000    300.000000   150.000000   \n",
       "75%     290.463949  40.000000   3000.000000   1500.000000  1500.000000   \n",
       "max    3834.854389  70.000000  30000.000000  17000.000000  5000.000000   \n",
       "\n",
       "        HBHTNRNT      HBPPOPDN       HBRESDN  \n",
       "count  56.000000     56.000000     56.000000  \n",
       "mean   25.107143   3134.660714   1448.053571  \n",
       "std    19.704802   5582.059093   2822.493961  \n",
       "min    -9.000000     -9.000000     -9.000000  \n",
       "25%     5.000000    300.000000     50.000000  \n",
       "50%    20.000000    750.000000    300.000000  \n",
       "75%    40.000000   3000.000000   1500.000000  \n",
       "max    90.000000  30000.000000  17000.000000  \n",
       "\n",
       "[8 rows x 51 columns]"
      ]
     },
     "execution_count": 19,
     "metadata": {},
     "output_type": "execute_result"
    }
   ],
   "source": [
    "# interestingly got 0.3% of the household got 0 drivers but have cars \n",
    "ny[ny['DRVRCNT']==0].describe() "
   ]
  },
  {
   "cell_type": "code",
   "execution_count": 20,
   "metadata": {},
   "outputs": [
    {
     "name": "stdout",
     "output_type": "stream",
     "text": [
      "    counts  percentage\n",
      "2     8176   52.289588\n",
      "1     5849   37.407265\n",
      ">2    1555    9.944999\n",
      "0       56    0.358148\n"
     ]
    }
   ],
   "source": [
    "print(pd.concat([ny['DRVRCNT'].value_counts(),\n",
    "          ny['DRVRCNT'].value_counts(normalize = True).mul(100)],axis = 1, keys = ('counts','percentage'))\n",
    "     )"
   ]
  },
  {
   "cell_type": "markdown",
   "metadata": {},
   "source": [
    "### NUMADLT / YOUNGCHILD / WRKCOUNT"
   ]
  },
  {
   "cell_type": "code",
   "execution_count": 21,
   "metadata": {},
   "outputs": [
    {
     "name": "stdout",
     "output_type": "stream",
     "text": [
      "    counts  percentage\n",
      "2     8876   56.766436\n",
      "1     5018   32.092607\n",
      "3     1316    8.416475\n",
      "4      348    2.225633\n",
      "5       66    0.422103\n",
      "6        8    0.051164\n",
      "7        2    0.012791\n",
      "8        1    0.006395\n",
      "10       1    0.006395\n",
      "      counts  percentage\n",
      "1      12708   81.273983\n",
      ">0.5    2419   15.470709\n",
      "<0.5     509    3.255308\n"
     ]
    },
    {
     "data": {
      "image/png": "[encoded data removed]",
      "text/plain": [
       "<Figure size 432x288 with 1 Axes>"
      ]
     },
     "metadata": {
      "needs_background": "light"
     },
     "output_type": "display_data"
    }
   ],
   "source": [
    "cat_col_prop(ny,'NUMADLT')\n",
    "\n",
    "ny['NUMADLT'] = ny['NUMADLT']/ny['HHSIZE']\n",
    "\n",
    "#Bin into groups\n",
    "ny['NUMADLT_ratio'] = 'NA'\n",
    "\n",
    "ny.loc[ny['NUMADLT']==0,'NUMADLT_ratio']= '0'\n",
    "ny.loc[ny['NUMADLT'].between(0,0.5,inclusive = False),'NUMADLT_ratio'] = '<0.5'\n",
    "ny.loc[ny['NUMADLT'].between(0.5,1, inclusive = True),'NUMADLT_ratio'] = '>0.5'\n",
    "ny.loc[ny['NUMADLT']==1,'NUMADLT_ratio'] ='1'\n",
    " \n",
    "\n",
    "\n",
    "print(pd.concat([ny['NUMADLT_ratio'].value_counts(),\n",
    "          ny['NUMADLT_ratio'].value_counts(normalize = True).mul(100)],axis = 1, keys = ('counts','percentage'))\n",
    "     )"
   ]
  },
  {
   "cell_type": "code",
   "execution_count": 22,
   "metadata": {},
   "outputs": [
    {
     "name": "stdout",
     "output_type": "stream",
     "text": [
      "   counts  percentage\n",
      "0    5356   34.254285\n",
      "1    5307   33.940906\n",
      "2    4232   27.065746\n",
      "3     586    3.747762\n",
      "4     141    0.901765\n",
      "5      12    0.076746\n",
      "6       1    0.006395\n",
      "7       1    0.006395\n",
      "      counts  percentage\n",
      "0       5356   34.254285\n",
      "1       4893   31.293170\n",
      ">0.5    3991   25.524431\n",
      "<0.5    1396    8.928115\n"
     ]
    },
    {
     "data": {
      "image/png": "[encoded data removed]",
      "text/plain": [
       "<Figure size 432x288 with 1 Axes>"
      ]
     },
     "metadata": {
      "needs_background": "light"
     },
     "output_type": "display_data"
    }
   ],
   "source": [
    "cat_col_prop(ny,'WRKCOUNT')\n",
    "\n",
    "ny['WRKCOUNT'] = ny['WRKCOUNT']/ny['HHSIZE']\n",
    "\n",
    "\n",
    "#Bin to groups\n",
    "ny['WRKCOUNT_ratio'] = 'NA'\n",
    "ny.loc[ny['WRKCOUNT']==0,'WRKCOUNT_ratio']= '0'\n",
    "ny.loc[ny['WRKCOUNT'].between(0,0.5,inclusive = False),'WRKCOUNT_ratio'] = '<0.5'\n",
    "ny.loc[ny['WRKCOUNT'].between(0.5,1, inclusive = True),'WRKCOUNT_ratio'] = '>0.5'\n",
    "ny.loc[ny['WRKCOUNT']==1,'WRKCOUNT_ratio'] ='1'\n",
    " \n",
    "\n",
    "\n",
    "print(pd.concat([ny['WRKCOUNT_ratio'].value_counts(),\n",
    "          ny['WRKCOUNT_ratio'].value_counts(normalize = True).mul(100)],axis = 1, keys = ('counts','percentage'))\n",
    "     )\n"
   ]
  },
  {
   "cell_type": "code",
   "execution_count": 23,
   "metadata": {},
   "outputs": [
    {
     "name": "stdout",
     "output_type": "stream",
     "text": [
      "   counts  percentage\n",
      "0   14606   93.412638\n",
      "1     750    4.796623\n",
      "2     256    1.637247\n",
      "3      22    0.140701\n",
      "4       1    0.006395\n",
      "5       1    0.006395\n",
      "      counts  percentage\n",
      "0      14606   93.412638\n",
      "<0.5     817    5.225122\n",
      ">0.5     213    1.362241\n"
     ]
    },
    {
     "data": {
      "image/png": "[encoded data removed]",
      "text/plain": [
       "<Figure size 432x288 with 1 Axes>"
      ]
     },
     "metadata": {
      "needs_background": "light"
     },
     "output_type": "display_data"
    }
   ],
   "source": [
    "cat_col_prop(ny,'YOUNGCHILD')\n",
    "\n",
    "ny['YOUNGCHILD'] = ny['YOUNGCHILD']/ny['HHSIZE']\n",
    "\n",
    "\n",
    "#Bin to groups\n",
    "ny['YOUNGCHILD_ratio'] = 'NA'\n",
    "ny.loc[ny['YOUNGCHILD']==0,'YOUNGCHILD_ratio']= '0'\n",
    "ny.loc[ny['YOUNGCHILD'].between(0,0.5,inclusive = False),'YOUNGCHILD_ratio'] = '<0.5'\n",
    "ny.loc[ny['YOUNGCHILD'].between(0.5,1, inclusive = True),'YOUNGCHILD_ratio'] = '>0.5'\n",
    "ny.loc[ny['YOUNGCHILD']==1,'YOUNGCHILD_ratio'] ='1'\n",
    " \n",
    "\n",
    "\n",
    "print(pd.concat([ny['YOUNGCHILD_ratio'].value_counts(),\n",
    "          ny['YOUNGCHILD_ratio'].value_counts(normalize = True).mul(100)],axis = 1, keys = ('counts','percentage'))\n",
    "     )\n"
   ]
  },
  {
   "cell_type": "code",
   "execution_count": 24,
   "metadata": {},
   "outputs": [
    {
     "name": "stdout",
     "output_type": "stream",
     "text": [
      "    counts  percentage\n",
      "10    4197   26.841903\n",
      "2     3392   21.693528\n",
      "1     2469   15.790483\n",
      "9     2222   14.210796\n",
      "6     1216    7.776925\n",
      "4     1085    6.939115\n",
      "8      604    3.862881\n",
      "5      228    1.458173\n",
      "7      131    0.837810\n",
      "3       92    0.588386\n"
     ]
    },
    {
     "data": {
      "image/png": "[encoded data removed]",
      "text/plain": [
       "<Figure size 432x288 with 1 Axes>"
      ]
     },
     "metadata": {
      "needs_background": "light"
     },
     "output_type": "display_data"
    }
   ],
   "source": [
    "cat_col_prop(ny,'LIF_CYC')"
   ]
  },
  {
   "cell_type": "markdown",
   "metadata": {},
   "source": [
    "### HHSIZE"
   ]
  },
  {
   "cell_type": "code",
   "execution_count": 25,
   "metadata": {},
   "outputs": [
    {
     "name": "stdout",
     "output_type": "stream",
     "text": [
      "    counts  percentage\n",
      "2     6928   44.308007\n",
      "1     4691   30.001279\n",
      "3     1965   12.567153\n",
      "4     1389    8.883346\n",
      "5      467    2.986697\n",
      "6      123    0.786646\n",
      "7       44    0.281402\n",
      "8       17    0.108723\n",
      "9        7    0.044768\n",
      "10       4    0.025582\n",
      "11       1    0.006395\n",
      "________\n",
      "new HHSIZE\n",
      "    counts  percentage\n",
      "2     6928   44.308007\n",
      "1     4691   30.001279\n",
      ">3    2052   13.123561\n",
      "3     1965   12.567153\n"
     ]
    },
    {
     "data": {
      "image/png": "[encoded data removed]",
      "text/plain": [
       "<Figure size 432x288 with 1 Axes>"
      ]
     },
     "metadata": {
      "needs_background": "light"
     },
     "output_type": "display_data"
    }
   ],
   "source": [
    "\n",
    "cat_col_prop(ny,'HHSIZE')\n",
    "\n",
    "# to bin tail HHSIZE\n",
    "\n",
    "ny['HHSIZE'][ny['HHSIZE']>3] = \">3\"\n",
    "\n",
    "print(\"________\")\n",
    "print(\"new HHSIZE\")\n",
    "print(pd.concat([ny['HHSIZE'].value_counts(),\n",
    "          ny['HHSIZE'].value_counts(normalize = True).mul(100)],axis = 1, keys = ('counts','percentage'))\n",
    "    )"
   ]
  },
  {
   "cell_type": "markdown",
   "metadata": {},
   "source": [
    "### URBAN/ URBBUR/ URBANSIZE"
   ]
  },
  {
   "cell_type": "code",
   "execution_count": 26,
   "metadata": {},
   "outputs": [
    {
     "name": "stdout",
     "output_type": "stream",
     "text": [
      "   counts  percentage\n",
      "1   10394   66.474802\n",
      "2    5242   33.525198\n"
     ]
    },
    {
     "data": {
      "image/png": "[encoded data removed]",
      "text/plain": [
       "<Figure size 432x288 with 1 Axes>"
      ]
     },
     "metadata": {
      "needs_background": "light"
     },
     "output_type": "display_data"
    }
   ],
   "source": [
    "\n",
    "cat_col_prop(ny,'URBRUR')\n",
    "\n"
   ]
  },
  {
   "cell_type": "code",
   "execution_count": 27,
   "metadata": {},
   "outputs": [
    {
     "name": "stdout",
     "output_type": "stream",
     "text": [
      "   counts  percentage\n",
      "6    6877   43.981837\n",
      "5    2789   17.837043\n",
      "1    2527   16.161422\n",
      "3    1841   11.774111\n",
      "2    1602   10.245587\n"
     ]
    },
    {
     "data": {
      "image/png": "[encoded data removed]",
      "text/plain": [
       "<Figure size 432x288 with 1 Axes>"
      ]
     },
     "metadata": {
      "needs_background": "light"
     },
     "output_type": "display_data"
    }
   ],
   "source": [
    "cat_col_prop(ny,'URBANSIZE')"
   ]
  },
  {
   "cell_type": "code",
   "execution_count": 28,
   "metadata": {},
   "outputs": [],
   "source": [
    "# Final columns selected for HH\n",
    "\n",
    "ny = ny[['HOUSEID','HH_CBSA','HOMEOWN','HHSIZE','HHVEHCNT','HHFAMINC','NUMADLT_ratio','YOUNGCHILD_ratio','WRKCOUNT_ratio','MSACAT','MSASIZE','URBAN','URBANSIZE','URBRUR','LIF_CYC']]\n"
   ]
  },
  {
   "cell_type": "markdown",
   "metadata": {},
   "source": [
    "## 2. Trip"
   ]
  },
  {
   "cell_type": "markdown",
   "metadata": {},
   "source": [
    "## key issue: Data leakage. \n",
    "\n",
    "1. Would be good if can somehow only get the driver trips only (remove duplicate passenger trips)\n",
    "\n",
    "2. Should use like popular routes distances rather than the actual route info (e.g. think of what a new person if surveyed can answer on the spot) e.g. which route you frequent the most and how far is it"
   ]
  },
  {
   "cell_type": "code",
   "execution_count": 23,
   "metadata": {},
   "outputs": [
    {
     "data": {
      "text/html": [
       "<div>\n",
       "<style scoped>\n",
       "    .dataframe tbody tr th:only-of-type {\n",
       "        vertical-align: middle;\n",
       "    }\n",
       "\n",
       "    .dataframe tbody tr th {\n",
       "        vertical-align: top;\n",
       "    }\n",
       "\n",
       "    .dataframe thead th {\n",
       "        text-align: right;\n",
       "    }\n",
       "</style>\n",
       "<table border=\"1\" class=\"dataframe\">\n",
       "  <thead>\n",
       "    <tr style=\"text-align: right;\">\n",
       "      <th></th>\n",
       "      <th>HOUSEID</th>\n",
       "      <th>PERSONID</th>\n",
       "      <th>TDTRPNUM</th>\n",
       "      <th>STRTTIME</th>\n",
       "      <th>ENDTIME</th>\n",
       "      <th>TRVLCMIN</th>\n",
       "      <th>TRPMILES</th>\n",
       "      <th>TRPTRANS</th>\n",
       "      <th>TRPACCMP</th>\n",
       "      <th>TRPHHACC</th>\n",
       "      <th>...</th>\n",
       "      <th>OBHTNRNT</th>\n",
       "      <th>OBPPOPDN</th>\n",
       "      <th>OBRESDN</th>\n",
       "      <th>DTHTNRNT</th>\n",
       "      <th>DTPPOPDN</th>\n",
       "      <th>DTRESDN</th>\n",
       "      <th>DTEEMPDN</th>\n",
       "      <th>DBHTNRNT</th>\n",
       "      <th>DBPPOPDN</th>\n",
       "      <th>DBRESDN</th>\n",
       "    </tr>\n",
       "  </thead>\n",
       "  <tbody>\n",
       "    <tr>\n",
       "      <th>0</th>\n",
       "      <td>30000007</td>\n",
       "      <td>1</td>\n",
       "      <td>1</td>\n",
       "      <td>1000</td>\n",
       "      <td>1015</td>\n",
       "      <td>15</td>\n",
       "      <td>5.244</td>\n",
       "      <td>3</td>\n",
       "      <td>0</td>\n",
       "      <td>0</td>\n",
       "      <td>...</td>\n",
       "      <td>20</td>\n",
       "      <td>750</td>\n",
       "      <td>300</td>\n",
       "      <td>50</td>\n",
       "      <td>750</td>\n",
       "      <td>300</td>\n",
       "      <td>350</td>\n",
       "      <td>30</td>\n",
       "      <td>300</td>\n",
       "      <td>300</td>\n",
       "    </tr>\n",
       "    <tr>\n",
       "      <th>1</th>\n",
       "      <td>30000007</td>\n",
       "      <td>1</td>\n",
       "      <td>2</td>\n",
       "      <td>1510</td>\n",
       "      <td>1530</td>\n",
       "      <td>20</td>\n",
       "      <td>5.149</td>\n",
       "      <td>3</td>\n",
       "      <td>0</td>\n",
       "      <td>0</td>\n",
       "      <td>...</td>\n",
       "      <td>30</td>\n",
       "      <td>300</td>\n",
       "      <td>300</td>\n",
       "      <td>50</td>\n",
       "      <td>1500</td>\n",
       "      <td>750</td>\n",
       "      <td>750</td>\n",
       "      <td>20</td>\n",
       "      <td>750</td>\n",
       "      <td>300</td>\n",
       "    </tr>\n",
       "    <tr>\n",
       "      <th>2</th>\n",
       "      <td>30000007</td>\n",
       "      <td>2</td>\n",
       "      <td>1</td>\n",
       "      <td>700</td>\n",
       "      <td>900</td>\n",
       "      <td>120</td>\n",
       "      <td>84.004</td>\n",
       "      <td>6</td>\n",
       "      <td>0</td>\n",
       "      <td>0</td>\n",
       "      <td>...</td>\n",
       "      <td>40</td>\n",
       "      <td>1500</td>\n",
       "      <td>750</td>\n",
       "      <td>50</td>\n",
       "      <td>1500</td>\n",
       "      <td>750</td>\n",
       "      <td>750</td>\n",
       "      <td>20</td>\n",
       "      <td>750</td>\n",
       "      <td>300</td>\n",
       "    </tr>\n",
       "    <tr>\n",
       "      <th>3</th>\n",
       "      <td>30000007</td>\n",
       "      <td>2</td>\n",
       "      <td>2</td>\n",
       "      <td>1800</td>\n",
       "      <td>2030</td>\n",
       "      <td>150</td>\n",
       "      <td>81.628</td>\n",
       "      <td>6</td>\n",
       "      <td>0</td>\n",
       "      <td>0</td>\n",
       "      <td>...</td>\n",
       "      <td>20</td>\n",
       "      <td>750</td>\n",
       "      <td>300</td>\n",
       "      <td>40</td>\n",
       "      <td>1500</td>\n",
       "      <td>750</td>\n",
       "      <td>750</td>\n",
       "      <td>40</td>\n",
       "      <td>1500</td>\n",
       "      <td>750</td>\n",
       "    </tr>\n",
       "    <tr>\n",
       "      <th>4</th>\n",
       "      <td>30000007</td>\n",
       "      <td>3</td>\n",
       "      <td>1</td>\n",
       "      <td>845</td>\n",
       "      <td>900</td>\n",
       "      <td>15</td>\n",
       "      <td>2.250</td>\n",
       "      <td>3</td>\n",
       "      <td>0</td>\n",
       "      <td>0</td>\n",
       "      <td>...</td>\n",
       "      <td>20</td>\n",
       "      <td>750</td>\n",
       "      <td>300</td>\n",
       "      <td>50</td>\n",
       "      <td>750</td>\n",
       "      <td>300</td>\n",
       "      <td>350</td>\n",
       "      <td>60</td>\n",
       "      <td>750</td>\n",
       "      <td>300</td>\n",
       "    </tr>\n",
       "  </tbody>\n",
       "</table>\n",
       "<p>5 rows × 115 columns</p>\n",
       "</div>"
      ],
      "text/plain": [
       "    HOUSEID  PERSONID  TDTRPNUM  STRTTIME  ENDTIME  TRVLCMIN  TRPMILES  \\\n",
       "0  30000007         1         1      1000     1015        15     5.244   \n",
       "1  30000007         1         2      1510     1530        20     5.149   \n",
       "2  30000007         2         1       700      900       120    84.004   \n",
       "3  30000007         2         2      1800     2030       150    81.628   \n",
       "4  30000007         3         1       845      900        15     2.250   \n",
       "\n",
       "   TRPTRANS  TRPACCMP  TRPHHACC  ...  OBHTNRNT  OBPPOPDN  OBRESDN  DTHTNRNT  \\\n",
       "0         3         0         0  ...        20       750      300        50   \n",
       "1         3         0         0  ...        30       300      300        50   \n",
       "2         6         0         0  ...        40      1500      750        50   \n",
       "3         6         0         0  ...        20       750      300        40   \n",
       "4         3         0         0  ...        20       750      300        50   \n",
       "\n",
       "   DTPPOPDN  DTRESDN  DTEEMPDN  DBHTNRNT  DBPPOPDN  DBRESDN  \n",
       "0       750      300       350        30       300      300  \n",
       "1      1500      750       750        20       750      300  \n",
       "2      1500      750       750        20       750      300  \n",
       "3      1500      750       750        40      1500      750  \n",
       "4       750      300       350        60       750      300  \n",
       "\n",
       "[5 rows x 115 columns]"
      ]
     },
     "execution_count": 23,
     "metadata": {},
     "output_type": "execute_result"
    }
   ],
   "source": [
    "trip.head()"
   ]
  },
  {
   "cell_type": "code",
   "execution_count": 24,
   "metadata": {},
   "outputs": [
    {
     "data": {
      "text/plain": [
       "['HOUSEID',\n",
       " 'PERSONID',\n",
       " 'TDTRPNUM',\n",
       " 'STRTTIME',\n",
       " 'ENDTIME',\n",
       " 'TRVLCMIN',\n",
       " 'TRPMILES',\n",
       " 'TRPTRANS',\n",
       " 'TRPACCMP',\n",
       " 'TRPHHACC',\n",
       " 'VEHID',\n",
       " 'TRWAITTM',\n",
       " 'NUMTRANS',\n",
       " 'TRACCTM',\n",
       " 'DROP_PRK',\n",
       " 'TREGRTM',\n",
       " 'WHODROVE',\n",
       " 'WHYFROM',\n",
       " 'LOOP_TRIP',\n",
       " 'TRPHHVEH',\n",
       " 'HHMEMDRV',\n",
       " 'HH_ONTD',\n",
       " 'NONHHCNT',\n",
       " 'NUMONTRP',\n",
       " 'PSGR_FLG',\n",
       " 'PUBTRANS',\n",
       " 'TRIPPURP',\n",
       " 'DWELTIME',\n",
       " 'TDWKND',\n",
       " 'VMT_MILE',\n",
       " 'DRVR_FLG',\n",
       " 'WHYTRP1S',\n",
       " 'ONTD_P1',\n",
       " 'ONTD_P2',\n",
       " 'ONTD_P3',\n",
       " 'ONTD_P4',\n",
       " 'ONTD_P5',\n",
       " 'ONTD_P6',\n",
       " 'ONTD_P7',\n",
       " 'ONTD_P8',\n",
       " 'ONTD_P9',\n",
       " 'ONTD_P10',\n",
       " 'ONTD_P11',\n",
       " 'ONTD_P12',\n",
       " 'ONTD_P13',\n",
       " 'TDCASEID',\n",
       " 'TRACC_WLK',\n",
       " 'TRACC_POV',\n",
       " 'TRACC_BUS',\n",
       " 'TRACC_CRL',\n",
       " 'TRACC_SUB',\n",
       " 'TRACC_OTH',\n",
       " 'TREGR_WLK',\n",
       " 'TREGR_POV',\n",
       " 'TREGR_BUS',\n",
       " 'TREGR_CRL',\n",
       " 'TREGR_SUB',\n",
       " 'TREGR_OTH',\n",
       " 'WHYTO',\n",
       " 'TRAVDAY',\n",
       " 'HOMEOWN',\n",
       " 'HHSIZE',\n",
       " 'HHVEHCNT',\n",
       " 'HHFAMINC',\n",
       " 'DRVRCNT',\n",
       " 'HHSTATE',\n",
       " 'HHSTFIPS',\n",
       " 'NUMADLT',\n",
       " 'WRKCOUNT',\n",
       " 'TDAYDATE',\n",
       " 'HHRESP',\n",
       " 'LIF_CYC',\n",
       " 'MSACAT',\n",
       " 'MSASIZE',\n",
       " 'RAIL',\n",
       " 'URBAN',\n",
       " 'URBANSIZE',\n",
       " 'URBRUR',\n",
       " 'GASPRICE',\n",
       " 'CENSUS_D',\n",
       " 'CENSUS_R',\n",
       " 'CDIVMSAR',\n",
       " 'HH_RACE',\n",
       " 'HH_HISP',\n",
       " 'HH_CBSA',\n",
       " 'SMPLSRCE',\n",
       " 'R_AGE',\n",
       " 'EDUC',\n",
       " 'R_SEX',\n",
       " 'PRMACT',\n",
       " 'PROXY',\n",
       " 'WORKER',\n",
       " 'DRIVER',\n",
       " 'WTTRDFIN',\n",
       " 'WHYTRP90',\n",
       " 'TRPMILAD',\n",
       " 'R_AGE_IMP',\n",
       " 'R_SEX_IMP',\n",
       " 'VEHTYPE',\n",
       " 'OBHUR',\n",
       " 'DBHUR',\n",
       " 'OTHTNRNT',\n",
       " 'OTPPOPDN',\n",
       " 'OTRESDN',\n",
       " 'OTEEMPDN',\n",
       " 'OBHTNRNT',\n",
       " 'OBPPOPDN',\n",
       " 'OBRESDN',\n",
       " 'DTHTNRNT',\n",
       " 'DTPPOPDN',\n",
       " 'DTRESDN',\n",
       " 'DTEEMPDN',\n",
       " 'DBHTNRNT',\n",
       " 'DBPPOPDN',\n",
       " 'DBRESDN']"
      ]
     },
     "execution_count": 24,
     "metadata": {},
     "output_type": "execute_result"
    }
   ],
   "source": [
    "[c for c in trip.columns]"
   ]
  },
  {
   "cell_type": "code",
   "execution_count": 25,
   "metadata": {},
   "outputs": [],
   "source": [
    "trip = trip[['HOUSEID','PERSONID','TRAVDAY','TRPMILES','TRPHHVEH','TRPTRANS','WHYTRP1S','WHYTRP90','TRVLCMIN',\n",
    "'TRWAITTM']]\n",
    "ny_trip = trip[trip['HOUSEID'].isin(ny['HOUSEID'])]"
   ]
  },
  {
   "cell_type": "code",
   "execution_count": 26,
   "metadata": {},
   "outputs": [
    {
     "data": {
      "text/plain": [
       "(113616, 10)"
      ]
     },
     "execution_count": 26,
     "metadata": {},
     "output_type": "execute_result"
    }
   ],
   "source": [
    "ny_trip.shape"
   ]
  },
  {
   "cell_type": "code",
   "execution_count": 27,
   "metadata": {},
   "outputs": [
    {
     "data": {
      "text/plain": [
       "0.982352837628503"
      ]
     },
     "execution_count": 27,
     "metadata": {},
     "output_type": "execute_result"
    }
   ],
   "source": [
    "sum(ny_trip['TRWAITTM']<0)/ny_trip.shape[0]"
   ]
  },
  {
   "cell_type": "markdown",
   "metadata": {},
   "source": [
    "### Trip Transport"
   ]
  },
  {
   "cell_type": "code",
   "execution_count": 28,
   "metadata": {},
   "outputs": [],
   "source": [
    "ny_trip['TRPTRANS'].value_counts()\n",
    "# TO CHECK 8 - do we want to count motorbike/mopeds as vehicles???\n",
    "ny_trip = ny_trip[ny_trip['TRPTRANS'].isin([3,4,5,6,8])]\n"
   ]
  },
  {
   "cell_type": "code",
   "execution_count": 29,
   "metadata": {},
   "outputs": [
    {
     "data": {
      "text/html": [
       "<div>\n",
       "<style scoped>\n",
       "    .dataframe tbody tr th:only-of-type {\n",
       "        vertical-align: middle;\n",
       "    }\n",
       "\n",
       "    .dataframe tbody tr th {\n",
       "        vertical-align: top;\n",
       "    }\n",
       "\n",
       "    .dataframe thead th {\n",
       "        text-align: right;\n",
       "    }\n",
       "</style>\n",
       "<table border=\"1\" class=\"dataframe\">\n",
       "  <thead>\n",
       "    <tr style=\"text-align: right;\">\n",
       "      <th></th>\n",
       "      <th>counts</th>\n",
       "      <th>percentages</th>\n",
       "    </tr>\n",
       "  </thead>\n",
       "  <tbody>\n",
       "    <tr>\n",
       "      <th>6</th>\n",
       "      <td>15094</td>\n",
       "      <td>15.530085</td>\n",
       "    </tr>\n",
       "    <tr>\n",
       "      <th>7</th>\n",
       "      <td>14306</td>\n",
       "      <td>14.719318</td>\n",
       "    </tr>\n",
       "    <tr>\n",
       "      <th>5</th>\n",
       "      <td>14099</td>\n",
       "      <td>14.506338</td>\n",
       "    </tr>\n",
       "    <tr>\n",
       "      <th>4</th>\n",
       "      <td>14081</td>\n",
       "      <td>14.487818</td>\n",
       "    </tr>\n",
       "    <tr>\n",
       "      <th>3</th>\n",
       "      <td>13809</td>\n",
       "      <td>14.207960</td>\n",
       "    </tr>\n",
       "    <tr>\n",
       "      <th>2</th>\n",
       "      <td>13625</td>\n",
       "      <td>14.018644</td>\n",
       "    </tr>\n",
       "    <tr>\n",
       "      <th>1</th>\n",
       "      <td>12178</td>\n",
       "      <td>12.529838</td>\n",
       "    </tr>\n",
       "  </tbody>\n",
       "</table>\n",
       "</div>"
      ],
      "text/plain": [
       "   counts  percentages\n",
       "6   15094    15.530085\n",
       "7   14306    14.719318\n",
       "5   14099    14.506338\n",
       "4   14081    14.487818\n",
       "3   13809    14.207960\n",
       "2   13625    14.018644\n",
       "1   12178    12.529838"
      ]
     },
     "execution_count": 29,
     "metadata": {},
     "output_type": "execute_result"
    },
    {
     "data": {
      "image/png": "[encoded data removed]",
      "text/plain": [
       "<Figure size 432x288 with 1 Axes>"
      ]
     },
     "metadata": {
      "needs_background": "light"
     },
     "output_type": "display_data"
    }
   ],
   "source": [
    "sns.histplot(ny_trip['TRAVDAY'])\n",
    "\n",
    "pd.concat([ny_trip['TRAVDAY'].value_counts(),\n",
    "           ny_trip['TRAVDAY'].value_counts(normalize = True).mul(100)],\n",
    "          axis = 1, keys=('counts','percentages'))"
   ]
  },
  {
   "cell_type": "markdown",
   "metadata": {},
   "source": [
    "## Why Trip"
   ]
  },
  {
   "cell_type": "code",
   "execution_count": 30,
   "metadata": {},
   "outputs": [
    {
     "name": "stdout",
     "output_type": "stream",
     "text": [
      "# of trips with dist <=0 24  out of 97192\n"
     ]
    }
   ],
   "source": [
    "# since only 24 lines with trip distance <= 0, removed lines\n",
    "print('# of trips with dist <=0', str(sum(ny_trip['TRPMILES']<=0)),' out of', str(len(ny_trip)))\n",
    "\n",
    "ny_trip = ny_trip[ny_trip['TRPMILES']>0]"
   ]
  },
  {
   "cell_type": "code",
   "execution_count": 31,
   "metadata": {},
   "outputs": [],
   "source": [
    "purpose_summ = ny_trip.groupby(['HOUSEID','PERSONID','WHYTRP90']).agg(avg = ('TRPMILES','mean'),\n",
    "                                            med = ('TRPMILES', 'median'),\n",
    "                                        mod  = ('TRPMILES', lambda x: x.value_counts().index[0])\n",
    "                                           ).unstack().reset_index()"
   ]
  },
  {
   "cell_type": "code",
   "execution_count": 32,
   "metadata": {},
   "outputs": [
    {
     "data": {
      "text/html": [
       "<div>\n",
       "<style scoped>\n",
       "    .dataframe tbody tr th:only-of-type {\n",
       "        vertical-align: middle;\n",
       "    }\n",
       "\n",
       "    .dataframe tbody tr th {\n",
       "        vertical-align: top;\n",
       "    }\n",
       "\n",
       "    .dataframe thead th {\n",
       "        text-align: right;\n",
       "    }\n",
       "</style>\n",
       "<table border=\"1\" class=\"dataframe\">\n",
       "  <thead>\n",
       "    <tr style=\"text-align: right;\">\n",
       "      <th></th>\n",
       "      <th></th>\n",
       "      <th></th>\n",
       "      <th>avg</th>\n",
       "      <th>med</th>\n",
       "      <th>mod</th>\n",
       "      <th>skew</th>\n",
       "      <th>count</th>\n",
       "    </tr>\n",
       "    <tr>\n",
       "      <th>HOUSEID</th>\n",
       "      <th>PERSONID</th>\n",
       "      <th>WHYTRP90</th>\n",
       "      <th></th>\n",
       "      <th></th>\n",
       "      <th></th>\n",
       "      <th></th>\n",
       "      <th></th>\n",
       "    </tr>\n",
       "  </thead>\n",
       "  <tbody>\n",
       "    <tr>\n",
       "      <th rowspan=\"4\" valign=\"top\">30000012</th>\n",
       "      <th rowspan=\"4\" valign=\"top\">1</th>\n",
       "      <th>1</th>\n",
       "      <td>7.95250</td>\n",
       "      <td>7.9525</td>\n",
       "      <td>6.818</td>\n",
       "      <td>NaN</td>\n",
       "      <td>2</td>\n",
       "    </tr>\n",
       "    <tr>\n",
       "      <th>2</th>\n",
       "      <td>4.29100</td>\n",
       "      <td>4.2910</td>\n",
       "      <td>4.291</td>\n",
       "      <td>NaN</td>\n",
       "      <td>1</td>\n",
       "    </tr>\n",
       "    <tr>\n",
       "      <th>8</th>\n",
       "      <td>48.87900</td>\n",
       "      <td>48.8790</td>\n",
       "      <td>49.457</td>\n",
       "      <td>NaN</td>\n",
       "      <td>2</td>\n",
       "    </tr>\n",
       "    <tr>\n",
       "      <th>10</th>\n",
       "      <td>2.21575</td>\n",
       "      <td>2.2270</td>\n",
       "      <td>3.395</td>\n",
       "      <td>-0.000946</td>\n",
       "      <td>4</td>\n",
       "    </tr>\n",
       "    <tr>\n",
       "      <th>30000082</th>\n",
       "      <th>1</th>\n",
       "      <th>1</th>\n",
       "      <td>1.75200</td>\n",
       "      <td>1.7520</td>\n",
       "      <td>0.777</td>\n",
       "      <td>NaN</td>\n",
       "      <td>2</td>\n",
       "    </tr>\n",
       "    <tr>\n",
       "      <th>...</th>\n",
       "      <th>...</th>\n",
       "      <th>...</th>\n",
       "      <td>...</td>\n",
       "      <td>...</td>\n",
       "      <td>...</td>\n",
       "      <td>...</td>\n",
       "      <td>...</td>\n",
       "    </tr>\n",
       "    <tr>\n",
       "      <th>40793974</th>\n",
       "      <th>1</th>\n",
       "      <th>10</th>\n",
       "      <td>3.62175</td>\n",
       "      <td>3.6370</td>\n",
       "      <td>3.496</td>\n",
       "      <td>-0.073407</td>\n",
       "      <td>4</td>\n",
       "    </tr>\n",
       "    <tr>\n",
       "      <th rowspan=\"4\" valign=\"top\">40794020</th>\n",
       "      <th rowspan=\"2\" valign=\"top\">1</th>\n",
       "      <th>3</th>\n",
       "      <td>5.26600</td>\n",
       "      <td>5.2660</td>\n",
       "      <td>5.266</td>\n",
       "      <td>NaN</td>\n",
       "      <td>2</td>\n",
       "    </tr>\n",
       "    <tr>\n",
       "      <th>4</th>\n",
       "      <td>0.83600</td>\n",
       "      <td>0.8360</td>\n",
       "      <td>0.836</td>\n",
       "      <td>NaN</td>\n",
       "      <td>2</td>\n",
       "    </tr>\n",
       "    <tr>\n",
       "      <th rowspan=\"2\" valign=\"top\">2</th>\n",
       "      <th>3</th>\n",
       "      <td>5.30200</td>\n",
       "      <td>5.3020</td>\n",
       "      <td>5.302</td>\n",
       "      <td>NaN</td>\n",
       "      <td>1</td>\n",
       "    </tr>\n",
       "    <tr>\n",
       "      <th>6</th>\n",
       "      <td>18.71050</td>\n",
       "      <td>18.7105</td>\n",
       "      <td>22.182</td>\n",
       "      <td>NaN</td>\n",
       "      <td>2</td>\n",
       "    </tr>\n",
       "  </tbody>\n",
       "</table>\n",
       "<p>48292 rows × 5 columns</p>\n",
       "</div>"
      ],
      "text/plain": [
       "                                 avg      med     mod      skew  count\n",
       "HOUSEID  PERSONID WHYTRP90                                            \n",
       "30000012 1        1          7.95250   7.9525   6.818       NaN      2\n",
       "                  2          4.29100   4.2910   4.291       NaN      1\n",
       "                  8         48.87900  48.8790  49.457       NaN      2\n",
       "                  10         2.21575   2.2270   3.395 -0.000946      4\n",
       "30000082 1        1          1.75200   1.7520   0.777       NaN      2\n",
       "...                              ...      ...     ...       ...    ...\n",
       "40793974 1        10         3.62175   3.6370   3.496 -0.073407      4\n",
       "40794020 1        3          5.26600   5.2660   5.266       NaN      2\n",
       "                  4          0.83600   0.8360   0.836       NaN      2\n",
       "         2        3          5.30200   5.3020   5.302       NaN      1\n",
       "                  6         18.71050  18.7105  22.182       NaN      2\n",
       "\n",
       "[48292 rows x 5 columns]"
      ]
     },
     "execution_count": 32,
     "metadata": {},
     "output_type": "execute_result"
    }
   ],
   "source": [
    "ny_trip.groupby(['HOUSEID','PERSONID','WHYTRP90']).agg(avg = ('TRPMILES','mean'),\n",
    "                                            med = ('TRPMILES', 'median'),\n",
    "                                        mod  = ('TRPMILES', lambda x: x.value_counts().index[0]),\n",
    "                                            skew = ('TRPMILES','skew'),\n",
    "                                            count = ('TRPMILES','count')\n",
    "                                           )"
   ]
  },
  {
   "cell_type": "code",
   "execution_count": 33,
   "metadata": {},
   "outputs": [
    {
     "data": {
      "text/html": [
       "<div>\n",
       "<style scoped>\n",
       "    .dataframe tbody tr th:only-of-type {\n",
       "        vertical-align: middle;\n",
       "    }\n",
       "\n",
       "    .dataframe tbody tr th {\n",
       "        vertical-align: top;\n",
       "    }\n",
       "\n",
       "    .dataframe thead th {\n",
       "        text-align: right;\n",
       "    }\n",
       "</style>\n",
       "<table border=\"1\" class=\"dataframe\">\n",
       "  <thead>\n",
       "    <tr style=\"text-align: right;\">\n",
       "      <th></th>\n",
       "      <th></th>\n",
       "      <th>avg</th>\n",
       "      <th>med</th>\n",
       "      <th>mod</th>\n",
       "    </tr>\n",
       "    <tr>\n",
       "      <th>HOUSEID</th>\n",
       "      <th>PERSONID</th>\n",
       "      <th></th>\n",
       "      <th></th>\n",
       "      <th></th>\n",
       "    </tr>\n",
       "  </thead>\n",
       "  <tbody>\n",
       "    <tr>\n",
       "      <th>30000012</th>\n",
       "      <th>1</th>\n",
       "      <td>7.9525</td>\n",
       "      <td>7.9525</td>\n",
       "      <td>6.818</td>\n",
       "    </tr>\n",
       "    <tr>\n",
       "      <th>30000082</th>\n",
       "      <th>1</th>\n",
       "      <td>1.7520</td>\n",
       "      <td>1.7520</td>\n",
       "      <td>0.777</td>\n",
       "    </tr>\n",
       "    <tr>\n",
       "      <th>30000380</th>\n",
       "      <th>2</th>\n",
       "      <td>1.1815</td>\n",
       "      <td>1.1815</td>\n",
       "      <td>1.191</td>\n",
       "    </tr>\n",
       "    <tr>\n",
       "      <th>30000436</th>\n",
       "      <th>1</th>\n",
       "      <td>1.2465</td>\n",
       "      <td>1.2465</td>\n",
       "      <td>0.678</td>\n",
       "    </tr>\n",
       "    <tr>\n",
       "      <th>30000439</th>\n",
       "      <th>4</th>\n",
       "      <td>0.0815</td>\n",
       "      <td>0.0815</td>\n",
       "      <td>0.082</td>\n",
       "    </tr>\n",
       "    <tr>\n",
       "      <th>...</th>\n",
       "      <th>...</th>\n",
       "      <td>...</td>\n",
       "      <td>...</td>\n",
       "      <td>...</td>\n",
       "    </tr>\n",
       "    <tr>\n",
       "      <th>40792484</th>\n",
       "      <th>1</th>\n",
       "      <td>2.5350</td>\n",
       "      <td>2.5350</td>\n",
       "      <td>2.535</td>\n",
       "    </tr>\n",
       "    <tr>\n",
       "      <th rowspan=\"2\" valign=\"top\">40792552</th>\n",
       "      <th>1</th>\n",
       "      <td>9.6435</td>\n",
       "      <td>9.6435</td>\n",
       "      <td>9.771</td>\n",
       "    </tr>\n",
       "    <tr>\n",
       "      <th>2</th>\n",
       "      <td>10.6285</td>\n",
       "      <td>10.6285</td>\n",
       "      <td>10.949</td>\n",
       "    </tr>\n",
       "    <tr>\n",
       "      <th rowspan=\"2\" valign=\"top\">40793555</th>\n",
       "      <th>3</th>\n",
       "      <td>1.5440</td>\n",
       "      <td>1.5440</td>\n",
       "      <td>2.140</td>\n",
       "    </tr>\n",
       "    <tr>\n",
       "      <th>4</th>\n",
       "      <td>20.2440</td>\n",
       "      <td>20.2440</td>\n",
       "      <td>20.688</td>\n",
       "    </tr>\n",
       "  </tbody>\n",
       "</table>\n",
       "<p>8125 rows × 3 columns</p>\n",
       "</div>"
      ],
      "text/plain": [
       "                       avg      med     mod\n",
       "HOUSEID  PERSONID                          \n",
       "30000012 1          7.9525   7.9525   6.818\n",
       "30000082 1          1.7520   1.7520   0.777\n",
       "30000380 2          1.1815   1.1815   1.191\n",
       "30000436 1          1.2465   1.2465   0.678\n",
       "30000439 4          0.0815   0.0815   0.082\n",
       "...                    ...      ...     ...\n",
       "40792484 1          2.5350   2.5350   2.535\n",
       "40792552 1          9.6435   9.6435   9.771\n",
       "         2         10.6285  10.6285  10.949\n",
       "40793555 3          1.5440   1.5440   2.140\n",
       "         4         20.2440  20.2440  20.688\n",
       "\n",
       "[8125 rows x 3 columns]"
      ]
     },
     "execution_count": 33,
     "metadata": {},
     "output_type": "execute_result"
    }
   ],
   "source": [
    "ny_trip[['TRPMILES','HOUSEID','PERSONID']][ny_trip['WHYTRP90']==1].groupby(['HOUSEID','PERSONID']).agg(avg = ('TRPMILES','mean'),\n",
    "                                            med = ('TRPMILES', 'median'),\n",
    "                                        mod  = ('TRPMILES', lambda x: x.value_counts().index[0])\n",
    "                                           )"
   ]
  },
  {
   "cell_type": "code",
   "execution_count": 34,
   "metadata": {},
   "outputs": [
    {
     "data": {
      "text/html": [
       "<div>\n",
       "<style scoped>\n",
       "    .dataframe tbody tr th:only-of-type {\n",
       "        vertical-align: middle;\n",
       "    }\n",
       "\n",
       "    .dataframe tbody tr th {\n",
       "        vertical-align: top;\n",
       "    }\n",
       "\n",
       "    .dataframe thead tr th {\n",
       "        text-align: left;\n",
       "    }\n",
       "</style>\n",
       "<table border=\"1\" class=\"dataframe\">\n",
       "  <thead>\n",
       "    <tr>\n",
       "      <th></th>\n",
       "      <th>HOUSEID</th>\n",
       "      <th>PERSONID</th>\n",
       "      <th colspan=\"8\" halign=\"left\">avg</th>\n",
       "      <th>...</th>\n",
       "      <th colspan=\"10\" halign=\"left\">mod</th>\n",
       "    </tr>\n",
       "    <tr>\n",
       "      <th>WHYTRP90</th>\n",
       "      <th></th>\n",
       "      <th></th>\n",
       "      <th>1</th>\n",
       "      <th>2</th>\n",
       "      <th>3</th>\n",
       "      <th>4</th>\n",
       "      <th>5</th>\n",
       "      <th>6</th>\n",
       "      <th>8</th>\n",
       "      <th>10</th>\n",
       "      <th>...</th>\n",
       "      <th>1</th>\n",
       "      <th>2</th>\n",
       "      <th>3</th>\n",
       "      <th>4</th>\n",
       "      <th>5</th>\n",
       "      <th>6</th>\n",
       "      <th>8</th>\n",
       "      <th>10</th>\n",
       "      <th>11</th>\n",
       "      <th>99</th>\n",
       "    </tr>\n",
       "  </thead>\n",
       "  <tbody>\n",
       "    <tr>\n",
       "      <th>0</th>\n",
       "      <td>30000012</td>\n",
       "      <td>1</td>\n",
       "      <td>7.9525</td>\n",
       "      <td>4.291000</td>\n",
       "      <td>NaN</td>\n",
       "      <td>NaN</td>\n",
       "      <td>NaN</td>\n",
       "      <td>NaN</td>\n",
       "      <td>48.879</td>\n",
       "      <td>2.21575</td>\n",
       "      <td>...</td>\n",
       "      <td>6.818</td>\n",
       "      <td>4.291</td>\n",
       "      <td>NaN</td>\n",
       "      <td>NaN</td>\n",
       "      <td>NaN</td>\n",
       "      <td>NaN</td>\n",
       "      <td>49.457</td>\n",
       "      <td>3.395</td>\n",
       "      <td>NaN</td>\n",
       "      <td>NaN</td>\n",
       "    </tr>\n",
       "    <tr>\n",
       "      <th>1</th>\n",
       "      <td>30000082</td>\n",
       "      <td>1</td>\n",
       "      <td>1.7520</td>\n",
       "      <td>NaN</td>\n",
       "      <td>NaN</td>\n",
       "      <td>1.8925</td>\n",
       "      <td>NaN</td>\n",
       "      <td>NaN</td>\n",
       "      <td>NaN</td>\n",
       "      <td>1.43200</td>\n",
       "      <td>...</td>\n",
       "      <td>0.777</td>\n",
       "      <td>NaN</td>\n",
       "      <td>NaN</td>\n",
       "      <td>1.075</td>\n",
       "      <td>NaN</td>\n",
       "      <td>NaN</td>\n",
       "      <td>NaN</td>\n",
       "      <td>1.432</td>\n",
       "      <td>NaN</td>\n",
       "      <td>NaN</td>\n",
       "    </tr>\n",
       "    <tr>\n",
       "      <th>2</th>\n",
       "      <td>30000082</td>\n",
       "      <td>2</td>\n",
       "      <td>NaN</td>\n",
       "      <td>34.280667</td>\n",
       "      <td>2.136000</td>\n",
       "      <td>NaN</td>\n",
       "      <td>NaN</td>\n",
       "      <td>NaN</td>\n",
       "      <td>NaN</td>\n",
       "      <td>88.58100</td>\n",
       "      <td>...</td>\n",
       "      <td>NaN</td>\n",
       "      <td>29.293</td>\n",
       "      <td>2.136</td>\n",
       "      <td>NaN</td>\n",
       "      <td>NaN</td>\n",
       "      <td>NaN</td>\n",
       "      <td>NaN</td>\n",
       "      <td>88.581</td>\n",
       "      <td>NaN</td>\n",
       "      <td>NaN</td>\n",
       "    </tr>\n",
       "    <tr>\n",
       "      <th>3</th>\n",
       "      <td>30000380</td>\n",
       "      <td>1</td>\n",
       "      <td>NaN</td>\n",
       "      <td>NaN</td>\n",
       "      <td>1.896667</td>\n",
       "      <td>NaN</td>\n",
       "      <td>NaN</td>\n",
       "      <td>NaN</td>\n",
       "      <td>NaN</td>\n",
       "      <td>NaN</td>\n",
       "      <td>...</td>\n",
       "      <td>NaN</td>\n",
       "      <td>NaN</td>\n",
       "      <td>0.713</td>\n",
       "      <td>NaN</td>\n",
       "      <td>NaN</td>\n",
       "      <td>NaN</td>\n",
       "      <td>NaN</td>\n",
       "      <td>NaN</td>\n",
       "      <td>NaN</td>\n",
       "      <td>NaN</td>\n",
       "    </tr>\n",
       "    <tr>\n",
       "      <th>4</th>\n",
       "      <td>30000380</td>\n",
       "      <td>2</td>\n",
       "      <td>1.1815</td>\n",
       "      <td>NaN</td>\n",
       "      <td>1.896667</td>\n",
       "      <td>NaN</td>\n",
       "      <td>NaN</td>\n",
       "      <td>2.206333</td>\n",
       "      <td>NaN</td>\n",
       "      <td>NaN</td>\n",
       "      <td>...</td>\n",
       "      <td>1.191</td>\n",
       "      <td>NaN</td>\n",
       "      <td>0.713</td>\n",
       "      <td>NaN</td>\n",
       "      <td>NaN</td>\n",
       "      <td>3.318</td>\n",
       "      <td>NaN</td>\n",
       "      <td>NaN</td>\n",
       "      <td>NaN</td>\n",
       "      <td>NaN</td>\n",
       "    </tr>\n",
       "    <tr>\n",
       "      <th>...</th>\n",
       "      <td>...</td>\n",
       "      <td>...</td>\n",
       "      <td>...</td>\n",
       "      <td>...</td>\n",
       "      <td>...</td>\n",
       "      <td>...</td>\n",
       "      <td>...</td>\n",
       "      <td>...</td>\n",
       "      <td>...</td>\n",
       "      <td>...</td>\n",
       "      <td>...</td>\n",
       "      <td>...</td>\n",
       "      <td>...</td>\n",
       "      <td>...</td>\n",
       "      <td>...</td>\n",
       "      <td>...</td>\n",
       "      <td>...</td>\n",
       "      <td>...</td>\n",
       "      <td>...</td>\n",
       "      <td>...</td>\n",
       "      <td>...</td>\n",
       "    </tr>\n",
       "    <tr>\n",
       "      <th>24432</th>\n",
       "      <td>40793808</td>\n",
       "      <td>2</td>\n",
       "      <td>NaN</td>\n",
       "      <td>NaN</td>\n",
       "      <td>3.048000</td>\n",
       "      <td>4.4740</td>\n",
       "      <td>NaN</td>\n",
       "      <td>NaN</td>\n",
       "      <td>NaN</td>\n",
       "      <td>1.81450</td>\n",
       "      <td>...</td>\n",
       "      <td>NaN</td>\n",
       "      <td>NaN</td>\n",
       "      <td>2.243</td>\n",
       "      <td>5.435</td>\n",
       "      <td>NaN</td>\n",
       "      <td>NaN</td>\n",
       "      <td>NaN</td>\n",
       "      <td>2.745</td>\n",
       "      <td>NaN</td>\n",
       "      <td>NaN</td>\n",
       "    </tr>\n",
       "    <tr>\n",
       "      <th>24433</th>\n",
       "      <td>40793808</td>\n",
       "      <td>3</td>\n",
       "      <td>NaN</td>\n",
       "      <td>NaN</td>\n",
       "      <td>4.068750</td>\n",
       "      <td>NaN</td>\n",
       "      <td>NaN</td>\n",
       "      <td>NaN</td>\n",
       "      <td>NaN</td>\n",
       "      <td>0.88400</td>\n",
       "      <td>...</td>\n",
       "      <td>NaN</td>\n",
       "      <td>NaN</td>\n",
       "      <td>5.868</td>\n",
       "      <td>NaN</td>\n",
       "      <td>NaN</td>\n",
       "      <td>NaN</td>\n",
       "      <td>NaN</td>\n",
       "      <td>0.884</td>\n",
       "      <td>NaN</td>\n",
       "      <td>NaN</td>\n",
       "    </tr>\n",
       "    <tr>\n",
       "      <th>24434</th>\n",
       "      <td>40793974</td>\n",
       "      <td>1</td>\n",
       "      <td>NaN</td>\n",
       "      <td>NaN</td>\n",
       "      <td>6.609500</td>\n",
       "      <td>NaN</td>\n",
       "      <td>NaN</td>\n",
       "      <td>NaN</td>\n",
       "      <td>5.018</td>\n",
       "      <td>3.62175</td>\n",
       "      <td>...</td>\n",
       "      <td>NaN</td>\n",
       "      <td>NaN</td>\n",
       "      <td>5.139</td>\n",
       "      <td>NaN</td>\n",
       "      <td>NaN</td>\n",
       "      <td>NaN</td>\n",
       "      <td>5.018</td>\n",
       "      <td>3.496</td>\n",
       "      <td>NaN</td>\n",
       "      <td>NaN</td>\n",
       "    </tr>\n",
       "    <tr>\n",
       "      <th>24435</th>\n",
       "      <td>40794020</td>\n",
       "      <td>1</td>\n",
       "      <td>NaN</td>\n",
       "      <td>NaN</td>\n",
       "      <td>5.266000</td>\n",
       "      <td>0.8360</td>\n",
       "      <td>NaN</td>\n",
       "      <td>NaN</td>\n",
       "      <td>NaN</td>\n",
       "      <td>NaN</td>\n",
       "      <td>...</td>\n",
       "      <td>NaN</td>\n",
       "      <td>NaN</td>\n",
       "      <td>5.266</td>\n",
       "      <td>0.836</td>\n",
       "      <td>NaN</td>\n",
       "      <td>NaN</td>\n",
       "      <td>NaN</td>\n",
       "      <td>NaN</td>\n",
       "      <td>NaN</td>\n",
       "      <td>NaN</td>\n",
       "    </tr>\n",
       "    <tr>\n",
       "      <th>24436</th>\n",
       "      <td>40794020</td>\n",
       "      <td>2</td>\n",
       "      <td>NaN</td>\n",
       "      <td>NaN</td>\n",
       "      <td>5.302000</td>\n",
       "      <td>NaN</td>\n",
       "      <td>NaN</td>\n",
       "      <td>18.710500</td>\n",
       "      <td>NaN</td>\n",
       "      <td>NaN</td>\n",
       "      <td>...</td>\n",
       "      <td>NaN</td>\n",
       "      <td>NaN</td>\n",
       "      <td>5.302</td>\n",
       "      <td>NaN</td>\n",
       "      <td>NaN</td>\n",
       "      <td>22.182</td>\n",
       "      <td>NaN</td>\n",
       "      <td>NaN</td>\n",
       "      <td>NaN</td>\n",
       "      <td>NaN</td>\n",
       "    </tr>\n",
       "  </tbody>\n",
       "</table>\n",
       "<p>24437 rows × 32 columns</p>\n",
       "</div>"
      ],
      "text/plain": [
       "           HOUSEID PERSONID     avg                                   \\\n",
       "WHYTRP90                          1          2         3       4   5   \n",
       "0         30000012        1  7.9525   4.291000       NaN     NaN NaN   \n",
       "1         30000082        1  1.7520        NaN       NaN  1.8925 NaN   \n",
       "2         30000082        2     NaN  34.280667  2.136000     NaN NaN   \n",
       "3         30000380        1     NaN        NaN  1.896667     NaN NaN   \n",
       "4         30000380        2  1.1815        NaN  1.896667     NaN NaN   \n",
       "...            ...      ...     ...        ...       ...     ...  ..   \n",
       "24432     40793808        2     NaN        NaN  3.048000  4.4740 NaN   \n",
       "24433     40793808        3     NaN        NaN  4.068750     NaN NaN   \n",
       "24434     40793974        1     NaN        NaN  6.609500     NaN NaN   \n",
       "24435     40794020        1     NaN        NaN  5.266000  0.8360 NaN   \n",
       "24436     40794020        2     NaN        NaN  5.302000     NaN NaN   \n",
       "\n",
       "                                       ...    mod                            \\\n",
       "WHYTRP90          6       8        10  ...      1       2      3      4   5   \n",
       "0               NaN  48.879   2.21575  ...  6.818   4.291    NaN    NaN NaN   \n",
       "1               NaN     NaN   1.43200  ...  0.777     NaN    NaN  1.075 NaN   \n",
       "2               NaN     NaN  88.58100  ...    NaN  29.293  2.136    NaN NaN   \n",
       "3               NaN     NaN       NaN  ...    NaN     NaN  0.713    NaN NaN   \n",
       "4          2.206333     NaN       NaN  ...  1.191     NaN  0.713    NaN NaN   \n",
       "...             ...     ...       ...  ...    ...     ...    ...    ...  ..   \n",
       "24432           NaN     NaN   1.81450  ...    NaN     NaN  2.243  5.435 NaN   \n",
       "24433           NaN     NaN   0.88400  ...    NaN     NaN  5.868    NaN NaN   \n",
       "24434           NaN   5.018   3.62175  ...    NaN     NaN  5.139    NaN NaN   \n",
       "24435           NaN     NaN       NaN  ...    NaN     NaN  5.266  0.836 NaN   \n",
       "24436     18.710500     NaN       NaN  ...    NaN     NaN  5.302    NaN NaN   \n",
       "\n",
       "                                          \n",
       "WHYTRP90       6       8      10  11  99  \n",
       "0            NaN  49.457   3.395 NaN NaN  \n",
       "1            NaN     NaN   1.432 NaN NaN  \n",
       "2            NaN     NaN  88.581 NaN NaN  \n",
       "3            NaN     NaN     NaN NaN NaN  \n",
       "4          3.318     NaN     NaN NaN NaN  \n",
       "...          ...     ...     ...  ..  ..  \n",
       "24432        NaN     NaN   2.745 NaN NaN  \n",
       "24433        NaN     NaN   0.884 NaN NaN  \n",
       "24434        NaN   5.018   3.496 NaN NaN  \n",
       "24435        NaN     NaN     NaN NaN NaN  \n",
       "24436     22.182     NaN     NaN NaN NaN  \n",
       "\n",
       "[24437 rows x 32 columns]"
      ]
     },
     "execution_count": 34,
     "metadata": {},
     "output_type": "execute_result"
    }
   ],
   "source": [
    "purpose_summ"
   ]
  },
  {
   "cell_type": "code",
   "execution_count": 35,
   "metadata": {},
   "outputs": [],
   "source": [
    "ny_trip['hh_person_id'] = ny_trip['HOUSEID'].astype('str')+'-'+ ny_trip['PERSONID'].astype('str')\n"
   ]
  },
  {
   "cell_type": "code",
   "execution_count": 36,
   "metadata": {},
   "outputs": [
    {
     "data": {
      "text/plain": [
       "8         30000012-1\n",
       "9         30000012-1\n",
       "10        30000012-1\n",
       "11        30000012-1\n",
       "12        30000012-1\n",
       "             ...    \n",
       "923363    40794020-1\n",
       "923364    40794020-1\n",
       "923367    40794020-2\n",
       "923368    40794020-2\n",
       "923369    40794020-2\n",
       "Name: hh_person_id, Length: 97168, dtype: object"
      ]
     },
     "execution_count": 36,
     "metadata": {},
     "output_type": "execute_result"
    }
   ],
   "source": [
    "ny_trip['hh_person_id']"
   ]
  },
  {
   "cell_type": "code",
   "execution_count": 37,
   "metadata": {},
   "outputs": [],
   "source": [
    "why = ny_trip.groupby(['hh_person_id','WHYTRP90']).agg(#avg = ('TRPMILES','mean'),\n",
    "                                            med = ('TRPMILES', 'median'),\n",
    "                                        #mod  = ('TRPMILES', lambda x: x.value_counts().index[0])\n",
    "                                           ).unstack().reset_index()"
   ]
  },
  {
   "cell_type": "code",
   "execution_count": 38,
   "metadata": {},
   "outputs": [
    {
     "data": {
      "text/plain": [
       "[('hh_person_id', ''),\n",
       " ('med', 1),\n",
       " ('med', 2),\n",
       " ('med', 3),\n",
       " ('med', 4),\n",
       " ('med', 5),\n",
       " ('med', 6),\n",
       " ('med', 8),\n",
       " ('med', 10),\n",
       " ('med', 11),\n",
       " ('med', 99)]"
      ]
     },
     "execution_count": 38,
     "metadata": {},
     "output_type": "execute_result"
    }
   ],
   "source": [
    "[c for c in why]"
   ]
  },
  {
   "cell_type": "code",
   "execution_count": 39,
   "metadata": {},
   "outputs": [
    {
     "data": {
      "text/plain": [
       "<matplotlib.axes._subplots.AxesSubplot at 0x23e29501fc8>"
      ]
     },
     "execution_count": 39,
     "metadata": {},
     "output_type": "execute_result"
    },
    {
     "data": {
      "image/png": "[encoded data removed]",
      "text/plain": [
       "<Figure size 432x288 with 1 Axes>"
      ]
     },
     "metadata": {
      "needs_background": "light"
     },
     "output_type": "display_data"
    }
   ],
   "source": [
    "sns.histplot(why[('med',1)])"
   ]
  },
  {
   "cell_type": "code",
   "execution_count": 40,
   "metadata": {},
   "outputs": [
    {
     "data": {
      "text/html": [
       "<div>\n",
       "<style scoped>\n",
       "    .dataframe tbody tr th:only-of-type {\n",
       "        vertical-align: middle;\n",
       "    }\n",
       "\n",
       "    .dataframe tbody tr th {\n",
       "        vertical-align: top;\n",
       "    }\n",
       "\n",
       "    .dataframe thead tr th {\n",
       "        text-align: left;\n",
       "    }\n",
       "</style>\n",
       "<table border=\"1\" class=\"dataframe\">\n",
       "  <thead>\n",
       "    <tr>\n",
       "      <th></th>\n",
       "      <th>hh_person_id</th>\n",
       "      <th colspan=\"10\" halign=\"left\">med</th>\n",
       "    </tr>\n",
       "    <tr>\n",
       "      <th>WHYTRP90</th>\n",
       "      <th></th>\n",
       "      <th>1</th>\n",
       "      <th>2</th>\n",
       "      <th>3</th>\n",
       "      <th>4</th>\n",
       "      <th>5</th>\n",
       "      <th>6</th>\n",
       "      <th>8</th>\n",
       "      <th>10</th>\n",
       "      <th>11</th>\n",
       "      <th>99</th>\n",
       "    </tr>\n",
       "  </thead>\n",
       "  <tbody>\n",
       "    <tr>\n",
       "      <th>0</th>\n",
       "      <td>30000012-1</td>\n",
       "      <td>7.9525</td>\n",
       "      <td>4.291</td>\n",
       "      <td>NaN</td>\n",
       "      <td>NaN</td>\n",
       "      <td>NaN</td>\n",
       "      <td>NaN</td>\n",
       "      <td>48.879</td>\n",
       "      <td>2.2270</td>\n",
       "      <td>NaN</td>\n",
       "      <td>NaN</td>\n",
       "    </tr>\n",
       "    <tr>\n",
       "      <th>1</th>\n",
       "      <td>30000082-1</td>\n",
       "      <td>1.7520</td>\n",
       "      <td>NaN</td>\n",
       "      <td>NaN</td>\n",
       "      <td>1.8925</td>\n",
       "      <td>NaN</td>\n",
       "      <td>NaN</td>\n",
       "      <td>NaN</td>\n",
       "      <td>1.4320</td>\n",
       "      <td>NaN</td>\n",
       "      <td>NaN</td>\n",
       "    </tr>\n",
       "    <tr>\n",
       "      <th>2</th>\n",
       "      <td>30000082-2</td>\n",
       "      <td>NaN</td>\n",
       "      <td>29.293</td>\n",
       "      <td>2.1360</td>\n",
       "      <td>NaN</td>\n",
       "      <td>NaN</td>\n",
       "      <td>NaN</td>\n",
       "      <td>NaN</td>\n",
       "      <td>88.5810</td>\n",
       "      <td>NaN</td>\n",
       "      <td>NaN</td>\n",
       "    </tr>\n",
       "    <tr>\n",
       "      <th>3</th>\n",
       "      <td>30000380-1</td>\n",
       "      <td>NaN</td>\n",
       "      <td>NaN</td>\n",
       "      <td>2.2100</td>\n",
       "      <td>NaN</td>\n",
       "      <td>NaN</td>\n",
       "      <td>NaN</td>\n",
       "      <td>NaN</td>\n",
       "      <td>NaN</td>\n",
       "      <td>NaN</td>\n",
       "      <td>NaN</td>\n",
       "    </tr>\n",
       "    <tr>\n",
       "      <th>4</th>\n",
       "      <td>30000380-2</td>\n",
       "      <td>1.1815</td>\n",
       "      <td>NaN</td>\n",
       "      <td>2.2100</td>\n",
       "      <td>NaN</td>\n",
       "      <td>NaN</td>\n",
       "      <td>1.9610</td>\n",
       "      <td>NaN</td>\n",
       "      <td>NaN</td>\n",
       "      <td>NaN</td>\n",
       "      <td>NaN</td>\n",
       "    </tr>\n",
       "    <tr>\n",
       "      <th>...</th>\n",
       "      <td>...</td>\n",
       "      <td>...</td>\n",
       "      <td>...</td>\n",
       "      <td>...</td>\n",
       "      <td>...</td>\n",
       "      <td>...</td>\n",
       "      <td>...</td>\n",
       "      <td>...</td>\n",
       "      <td>...</td>\n",
       "      <td>...</td>\n",
       "      <td>...</td>\n",
       "    </tr>\n",
       "    <tr>\n",
       "      <th>24432</th>\n",
       "      <td>40793808-2</td>\n",
       "      <td>NaN</td>\n",
       "      <td>NaN</td>\n",
       "      <td>2.2430</td>\n",
       "      <td>4.4740</td>\n",
       "      <td>NaN</td>\n",
       "      <td>NaN</td>\n",
       "      <td>NaN</td>\n",
       "      <td>1.8145</td>\n",
       "      <td>NaN</td>\n",
       "      <td>NaN</td>\n",
       "    </tr>\n",
       "    <tr>\n",
       "      <th>24433</th>\n",
       "      <td>40793808-3</td>\n",
       "      <td>NaN</td>\n",
       "      <td>NaN</td>\n",
       "      <td>4.9635</td>\n",
       "      <td>NaN</td>\n",
       "      <td>NaN</td>\n",
       "      <td>NaN</td>\n",
       "      <td>NaN</td>\n",
       "      <td>0.8840</td>\n",
       "      <td>NaN</td>\n",
       "      <td>NaN</td>\n",
       "    </tr>\n",
       "    <tr>\n",
       "      <th>24434</th>\n",
       "      <td>40793974-1</td>\n",
       "      <td>NaN</td>\n",
       "      <td>NaN</td>\n",
       "      <td>6.6095</td>\n",
       "      <td>NaN</td>\n",
       "      <td>NaN</td>\n",
       "      <td>NaN</td>\n",
       "      <td>5.018</td>\n",
       "      <td>3.6370</td>\n",
       "      <td>NaN</td>\n",
       "      <td>NaN</td>\n",
       "    </tr>\n",
       "    <tr>\n",
       "      <th>24435</th>\n",
       "      <td>40794020-1</td>\n",
       "      <td>NaN</td>\n",
       "      <td>NaN</td>\n",
       "      <td>5.2660</td>\n",
       "      <td>0.8360</td>\n",
       "      <td>NaN</td>\n",
       "      <td>NaN</td>\n",
       "      <td>NaN</td>\n",
       "      <td>NaN</td>\n",
       "      <td>NaN</td>\n",
       "      <td>NaN</td>\n",
       "    </tr>\n",
       "    <tr>\n",
       "      <th>24436</th>\n",
       "      <td>40794020-2</td>\n",
       "      <td>NaN</td>\n",
       "      <td>NaN</td>\n",
       "      <td>5.3020</td>\n",
       "      <td>NaN</td>\n",
       "      <td>NaN</td>\n",
       "      <td>18.7105</td>\n",
       "      <td>NaN</td>\n",
       "      <td>NaN</td>\n",
       "      <td>NaN</td>\n",
       "      <td>NaN</td>\n",
       "    </tr>\n",
       "  </tbody>\n",
       "</table>\n",
       "<p>24437 rows × 11 columns</p>\n",
       "</div>"
      ],
      "text/plain": [
       "         hh_person_id     med                                               \\\n",
       "WHYTRP90                    1       2       3       4   5        6       8   \n",
       "0          30000012-1  7.9525   4.291     NaN     NaN NaN      NaN  48.879   \n",
       "1          30000082-1  1.7520     NaN     NaN  1.8925 NaN      NaN     NaN   \n",
       "2          30000082-2     NaN  29.293  2.1360     NaN NaN      NaN     NaN   \n",
       "3          30000380-1     NaN     NaN  2.2100     NaN NaN      NaN     NaN   \n",
       "4          30000380-2  1.1815     NaN  2.2100     NaN NaN   1.9610     NaN   \n",
       "...               ...     ...     ...     ...     ...  ..      ...     ...   \n",
       "24432      40793808-2     NaN     NaN  2.2430  4.4740 NaN      NaN     NaN   \n",
       "24433      40793808-3     NaN     NaN  4.9635     NaN NaN      NaN     NaN   \n",
       "24434      40793974-1     NaN     NaN  6.6095     NaN NaN      NaN   5.018   \n",
       "24435      40794020-1     NaN     NaN  5.2660  0.8360 NaN      NaN     NaN   \n",
       "24436      40794020-2     NaN     NaN  5.3020     NaN NaN  18.7105     NaN   \n",
       "\n",
       "                           \n",
       "WHYTRP90       10  11  99  \n",
       "0          2.2270 NaN NaN  \n",
       "1          1.4320 NaN NaN  \n",
       "2         88.5810 NaN NaN  \n",
       "3             NaN NaN NaN  \n",
       "4             NaN NaN NaN  \n",
       "...           ...  ..  ..  \n",
       "24432      1.8145 NaN NaN  \n",
       "24433      0.8840 NaN NaN  \n",
       "24434      3.6370 NaN NaN  \n",
       "24435         NaN NaN NaN  \n",
       "24436         NaN NaN NaN  \n",
       "\n",
       "[24437 rows x 11 columns]"
      ]
     },
     "execution_count": 40,
     "metadata": {},
     "output_type": "execute_result"
    }
   ],
   "source": [
    "why"
   ]
  },
  {
   "cell_type": "code",
   "execution_count": 41,
   "metadata": {},
   "outputs": [],
   "source": [
    "why_col = why.columns"
   ]
  },
  {
   "cell_type": "code",
   "execution_count": 42,
   "metadata": {},
   "outputs": [],
   "source": [
    "new  = pd.DataFrame()\n",
    "for i in range(1, len(why.columns)):\n",
    "    new[why_col[i]] = ~np.isnan(why.iloc[:,i])"
   ]
  },
  {
   "cell_type": "code",
   "execution_count": 43,
   "metadata": {
    "scrolled": true
   },
   "outputs": [
    {
     "data": {
      "text/html": [
       "<div>\n",
       "<style scoped>\n",
       "    .dataframe tbody tr th:only-of-type {\n",
       "        vertical-align: middle;\n",
       "    }\n",
       "\n",
       "    .dataframe tbody tr th {\n",
       "        vertical-align: top;\n",
       "    }\n",
       "\n",
       "    .dataframe thead th {\n",
       "        text-align: right;\n",
       "    }\n",
       "</style>\n",
       "<table border=\"1\" class=\"dataframe\">\n",
       "  <thead>\n",
       "    <tr style=\"text-align: right;\">\n",
       "      <th></th>\n",
       "      <th>level_0</th>\n",
       "      <th>level_1</th>\n",
       "      <th>0</th>\n",
       "    </tr>\n",
       "  </thead>\n",
       "  <tbody>\n",
       "    <tr>\n",
       "      <th>0</th>\n",
       "      <td>0</td>\n",
       "      <td>(med, 1)</td>\n",
       "      <td>True</td>\n",
       "    </tr>\n",
       "    <tr>\n",
       "      <th>1</th>\n",
       "      <td>0</td>\n",
       "      <td>(med, 2)</td>\n",
       "      <td>True</td>\n",
       "    </tr>\n",
       "    <tr>\n",
       "      <th>2</th>\n",
       "      <td>0</td>\n",
       "      <td>(med, 3)</td>\n",
       "      <td>False</td>\n",
       "    </tr>\n",
       "    <tr>\n",
       "      <th>3</th>\n",
       "      <td>0</td>\n",
       "      <td>(med, 4)</td>\n",
       "      <td>False</td>\n",
       "    </tr>\n",
       "    <tr>\n",
       "      <th>4</th>\n",
       "      <td>0</td>\n",
       "      <td>(med, 5)</td>\n",
       "      <td>False</td>\n",
       "    </tr>\n",
       "    <tr>\n",
       "      <th>...</th>\n",
       "      <td>...</td>\n",
       "      <td>...</td>\n",
       "      <td>...</td>\n",
       "    </tr>\n",
       "    <tr>\n",
       "      <th>244365</th>\n",
       "      <td>24436</td>\n",
       "      <td>(med, 6)</td>\n",
       "      <td>True</td>\n",
       "    </tr>\n",
       "    <tr>\n",
       "      <th>244366</th>\n",
       "      <td>24436</td>\n",
       "      <td>(med, 8)</td>\n",
       "      <td>False</td>\n",
       "    </tr>\n",
       "    <tr>\n",
       "      <th>244367</th>\n",
       "      <td>24436</td>\n",
       "      <td>(med, 10)</td>\n",
       "      <td>False</td>\n",
       "    </tr>\n",
       "    <tr>\n",
       "      <th>244368</th>\n",
       "      <td>24436</td>\n",
       "      <td>(med, 11)</td>\n",
       "      <td>False</td>\n",
       "    </tr>\n",
       "    <tr>\n",
       "      <th>244369</th>\n",
       "      <td>24436</td>\n",
       "      <td>(med, 99)</td>\n",
       "      <td>False</td>\n",
       "    </tr>\n",
       "  </tbody>\n",
       "</table>\n",
       "<p>244370 rows × 3 columns</p>\n",
       "</div>"
      ],
      "text/plain": [
       "        level_0    level_1      0\n",
       "0             0   (med, 1)   True\n",
       "1             0   (med, 2)   True\n",
       "2             0   (med, 3)  False\n",
       "3             0   (med, 4)  False\n",
       "4             0   (med, 5)  False\n",
       "...         ...        ...    ...\n",
       "244365    24436   (med, 6)   True\n",
       "244366    24436   (med, 8)  False\n",
       "244367    24436  (med, 10)  False\n",
       "244368    24436  (med, 11)  False\n",
       "244369    24436  (med, 99)  False\n",
       "\n",
       "[244370 rows x 3 columns]"
      ]
     },
     "execution_count": 43,
     "metadata": {},
     "output_type": "execute_result"
    }
   ],
   "source": [
    "chart_data = new.stack().reset_index()\n",
    "chart_data"
   ]
  },
  {
   "cell_type": "code",
   "execution_count": 44,
   "metadata": {},
   "outputs": [
    {
     "data": {
      "image/png": "[encoded data removed]",
      "text/plain": [
       "<Figure size 1008x1008 with 1 Axes>"
      ]
     },
     "metadata": {},
     "output_type": "display_data"
    }
   ],
   "source": [
    "import matplotlib.patches as mpatches\n",
    "\n",
    "sns.set(style=\"darkgrid\")\n",
    "plt.figure(figsize=(14, 14))\n",
    "\n",
    "full_data = chart_data.groupby('level_1')[0].count().reset_index()\n",
    "\n",
    "bar1= sns.barplot(data = full_data, x = \"level_1\", y = 0, color = 'lightblue')\n",
    "\n",
    "has_value = chart_data[chart_data[0]==True]\n",
    "\n",
    "bar2 = sns.barplot(data = has_value, estimator = sum, ci = None, x = \"level_1\", y = 0, color = 'darkblue')\n",
    "\n",
    "bottom_bar = mpatches.Patch(color = 'darkblue', label = 'has value')\n",
    "top_bar = mpatches.Patch(color = 'lightblue', label = 'missing value')\n",
    "\n",
    "plt.title('Proportion of Unique Person with/without Trip Purpose 90s', fontsize = 24)\n",
    "plt.legend(handles = [top_bar, bottom_bar])\n",
    "plt.show()"
   ]
  },
  {
   "cell_type": "markdown",
   "metadata": {},
   "source": [
    "## Instead use feature cross of most common reason x dist cat for that reason"
   ]
  },
  {
   "cell_type": "code",
   "execution_count": 45,
   "metadata": {},
   "outputs": [
    {
     "data": {
      "text/plain": [
       "<matplotlib.axes._subplots.AxesSubplot at 0x23e2834abc8>"
      ]
     },
     "execution_count": 45,
     "metadata": {},
     "output_type": "execute_result"
    },
    {
     "data": {
      "image/png": "[encoded data removed]",
      "text/plain": [
       "<Figure size 432x288 with 1 Axes>"
      ]
     },
     "metadata": {},
     "output_type": "display_data"
    }
   ],
   "source": [
    "sns.distplot(ny_trip['TRPMILES'])"
   ]
  },
  {
   "cell_type": "code",
   "execution_count": 46,
   "metadata": {},
   "outputs": [
    {
     "data": {
      "text/html": [
       "<div>\n",
       "<style scoped>\n",
       "    .dataframe tbody tr th:only-of-type {\n",
       "        vertical-align: middle;\n",
       "    }\n",
       "\n",
       "    .dataframe tbody tr th {\n",
       "        vertical-align: top;\n",
       "    }\n",
       "\n",
       "    .dataframe thead th {\n",
       "        text-align: right;\n",
       "    }\n",
       "</style>\n",
       "<table border=\"1\" class=\"dataframe\">\n",
       "  <thead>\n",
       "    <tr style=\"text-align: right;\">\n",
       "      <th></th>\n",
       "      <th>HOUSEID</th>\n",
       "      <th>PERSONID</th>\n",
       "      <th>TRAVDAY</th>\n",
       "      <th>TRPMILES</th>\n",
       "      <th>TRPHHVEH</th>\n",
       "      <th>TRPTRANS</th>\n",
       "      <th>WHYTRP1S</th>\n",
       "      <th>WHYTRP90</th>\n",
       "      <th>TRVLCMIN</th>\n",
       "      <th>TRWAITTM</th>\n",
       "      <th>hh_person_id</th>\n",
       "    </tr>\n",
       "  </thead>\n",
       "  <tbody>\n",
       "    <tr>\n",
       "      <th>6354</th>\n",
       "      <td>30007462</td>\n",
       "      <td>1</td>\n",
       "      <td>2</td>\n",
       "      <td>386.648</td>\n",
       "      <td>1</td>\n",
       "      <td>3</td>\n",
       "      <td>1</td>\n",
       "      <td>8</td>\n",
       "      <td>440</td>\n",
       "      <td>-1</td>\n",
       "      <td>30007462-1</td>\n",
       "    </tr>\n",
       "    <tr>\n",
       "      <th>6360</th>\n",
       "      <td>30007462</td>\n",
       "      <td>2</td>\n",
       "      <td>2</td>\n",
       "      <td>389.762</td>\n",
       "      <td>1</td>\n",
       "      <td>3</td>\n",
       "      <td>1</td>\n",
       "      <td>8</td>\n",
       "      <td>440</td>\n",
       "      <td>-1</td>\n",
       "      <td>30007462-2</td>\n",
       "    </tr>\n",
       "    <tr>\n",
       "      <th>17581</th>\n",
       "      <td>30020018</td>\n",
       "      <td>1</td>\n",
       "      <td>4</td>\n",
       "      <td>307.460</td>\n",
       "      <td>1</td>\n",
       "      <td>5</td>\n",
       "      <td>1</td>\n",
       "      <td>10</td>\n",
       "      <td>365</td>\n",
       "      <td>-1</td>\n",
       "      <td>30020018-1</td>\n",
       "    </tr>\n",
       "    <tr>\n",
       "      <th>18764</th>\n",
       "      <td>30021241</td>\n",
       "      <td>1</td>\n",
       "      <td>5</td>\n",
       "      <td>306.353</td>\n",
       "      <td>1</td>\n",
       "      <td>3</td>\n",
       "      <td>40</td>\n",
       "      <td>3</td>\n",
       "      <td>335</td>\n",
       "      <td>-1</td>\n",
       "      <td>30021241-1</td>\n",
       "    </tr>\n",
       "    <tr>\n",
       "      <th>20651</th>\n",
       "      <td>30023489</td>\n",
       "      <td>1</td>\n",
       "      <td>7</td>\n",
       "      <td>260.981</td>\n",
       "      <td>1</td>\n",
       "      <td>4</td>\n",
       "      <td>50</td>\n",
       "      <td>8</td>\n",
       "      <td>305</td>\n",
       "      <td>-1</td>\n",
       "      <td>30023489-1</td>\n",
       "    </tr>\n",
       "    <tr>\n",
       "      <th>...</th>\n",
       "      <td>...</td>\n",
       "      <td>...</td>\n",
       "      <td>...</td>\n",
       "      <td>...</td>\n",
       "      <td>...</td>\n",
       "      <td>...</td>\n",
       "      <td>...</td>\n",
       "      <td>...</td>\n",
       "      <td>...</td>\n",
       "      <td>...</td>\n",
       "      <td>...</td>\n",
       "    </tr>\n",
       "    <tr>\n",
       "      <th>894684</th>\n",
       "      <td>40737760</td>\n",
       "      <td>2</td>\n",
       "      <td>1</td>\n",
       "      <td>207.956</td>\n",
       "      <td>1</td>\n",
       "      <td>3</td>\n",
       "      <td>10</td>\n",
       "      <td>2</td>\n",
       "      <td>240</td>\n",
       "      <td>-1</td>\n",
       "      <td>40737760-2</td>\n",
       "    </tr>\n",
       "    <tr>\n",
       "      <th>896928</th>\n",
       "      <td>40742011</td>\n",
       "      <td>1</td>\n",
       "      <td>1</td>\n",
       "      <td>228.669</td>\n",
       "      <td>1</td>\n",
       "      <td>6</td>\n",
       "      <td>1</td>\n",
       "      <td>11</td>\n",
       "      <td>270</td>\n",
       "      <td>-1</td>\n",
       "      <td>40742011-1</td>\n",
       "    </tr>\n",
       "    <tr>\n",
       "      <th>896929</th>\n",
       "      <td>40742011</td>\n",
       "      <td>2</td>\n",
       "      <td>1</td>\n",
       "      <td>228.669</td>\n",
       "      <td>1</td>\n",
       "      <td>6</td>\n",
       "      <td>1</td>\n",
       "      <td>11</td>\n",
       "      <td>270</td>\n",
       "      <td>-1</td>\n",
       "      <td>40742011-2</td>\n",
       "    </tr>\n",
       "    <tr>\n",
       "      <th>920681</th>\n",
       "      <td>40788901</td>\n",
       "      <td>1</td>\n",
       "      <td>5</td>\n",
       "      <td>273.158</td>\n",
       "      <td>1</td>\n",
       "      <td>3</td>\n",
       "      <td>1</td>\n",
       "      <td>3</td>\n",
       "      <td>225</td>\n",
       "      <td>-1</td>\n",
       "      <td>40788901-1</td>\n",
       "    </tr>\n",
       "    <tr>\n",
       "      <th>920687</th>\n",
       "      <td>40788901</td>\n",
       "      <td>2</td>\n",
       "      <td>5</td>\n",
       "      <td>273.158</td>\n",
       "      <td>1</td>\n",
       "      <td>3</td>\n",
       "      <td>1</td>\n",
       "      <td>3</td>\n",
       "      <td>225</td>\n",
       "      <td>-1</td>\n",
       "      <td>40788901-2</td>\n",
       "    </tr>\n",
       "  </tbody>\n",
       "</table>\n",
       "<p>223 rows × 11 columns</p>\n",
       "</div>"
      ],
      "text/plain": [
       "         HOUSEID  PERSONID  TRAVDAY  TRPMILES  TRPHHVEH  TRPTRANS  WHYTRP1S  \\\n",
       "6354    30007462         1        2   386.648         1         3         1   \n",
       "6360    30007462         2        2   389.762         1         3         1   \n",
       "17581   30020018         1        4   307.460         1         5         1   \n",
       "18764   30021241         1        5   306.353         1         3        40   \n",
       "20651   30023489         1        7   260.981         1         4        50   \n",
       "...          ...       ...      ...       ...       ...       ...       ...   \n",
       "894684  40737760         2        1   207.956         1         3        10   \n",
       "896928  40742011         1        1   228.669         1         6         1   \n",
       "896929  40742011         2        1   228.669         1         6         1   \n",
       "920681  40788901         1        5   273.158         1         3         1   \n",
       "920687  40788901         2        5   273.158         1         3         1   \n",
       "\n",
       "        WHYTRP90  TRVLCMIN  TRWAITTM hh_person_id  \n",
       "6354           8       440        -1   30007462-1  \n",
       "6360           8       440        -1   30007462-2  \n",
       "17581         10       365        -1   30020018-1  \n",
       "18764          3       335        -1   30021241-1  \n",
       "20651          8       305        -1   30023489-1  \n",
       "...          ...       ...       ...          ...  \n",
       "894684         2       240        -1   40737760-2  \n",
       "896928        11       270        -1   40742011-1  \n",
       "896929        11       270        -1   40742011-2  \n",
       "920681         3       225        -1   40788901-1  \n",
       "920687         3       225        -1   40788901-2  \n",
       "\n",
       "[223 rows x 11 columns]"
      ]
     },
     "execution_count": 46,
     "metadata": {},
     "output_type": "execute_result"
    }
   ],
   "source": [
    "ny_trip[ny_trip['TRPMILES']> 200]"
   ]
  },
  {
   "cell_type": "code",
   "execution_count": 47,
   "metadata": {},
   "outputs": [
    {
     "data": {
      "text/plain": [
       "<matplotlib.axes._subplots.AxesSubplot at 0x23e287faf08>"
      ]
     },
     "execution_count": 47,
     "metadata": {},
     "output_type": "execute_result"
    },
    {
     "data": {
      "image/png": "[encoded data removed]",
      "text/plain": [
       "<Figure size 432x288 with 1 Axes>"
      ]
     },
     "metadata": {},
     "output_type": "display_data"
    }
   ],
   "source": [
    "sns.scatterplot(data = ny_trip, x='TRVLCMIN', y = 'TRPMILES')"
   ]
  },
  {
   "cell_type": "code",
   "execution_count": 48,
   "metadata": {},
   "outputs": [
    {
     "data": {
      "text/html": [
       "<div>\n",
       "<style scoped>\n",
       "    .dataframe tbody tr th:only-of-type {\n",
       "        vertical-align: middle;\n",
       "    }\n",
       "\n",
       "    .dataframe tbody tr th {\n",
       "        vertical-align: top;\n",
       "    }\n",
       "\n",
       "    .dataframe thead th {\n",
       "        text-align: right;\n",
       "    }\n",
       "</style>\n",
       "<table border=\"1\" class=\"dataframe\">\n",
       "  <thead>\n",
       "    <tr style=\"text-align: right;\">\n",
       "      <th></th>\n",
       "      <th>HOUSEID</th>\n",
       "      <th>PERSONID</th>\n",
       "      <th>TRAVDAY</th>\n",
       "      <th>TRPMILES</th>\n",
       "      <th>TRPHHVEH</th>\n",
       "      <th>TRPTRANS</th>\n",
       "      <th>WHYTRP1S</th>\n",
       "      <th>WHYTRP90</th>\n",
       "      <th>TRVLCMIN</th>\n",
       "      <th>TRWAITTM</th>\n",
       "      <th>hh_person_id</th>\n",
       "    </tr>\n",
       "  </thead>\n",
       "  <tbody>\n",
       "    <tr>\n",
       "      <th>38630</th>\n",
       "      <td>30042582</td>\n",
       "      <td>1</td>\n",
       "      <td>2</td>\n",
       "      <td>224.420</td>\n",
       "      <td>1</td>\n",
       "      <td>4</td>\n",
       "      <td>40</td>\n",
       "      <td>3</td>\n",
       "      <td>-9</td>\n",
       "      <td>-1</td>\n",
       "      <td>30042582-1</td>\n",
       "    </tr>\n",
       "    <tr>\n",
       "      <th>38631</th>\n",
       "      <td>30042582</td>\n",
       "      <td>1</td>\n",
       "      <td>2</td>\n",
       "      <td>222.529</td>\n",
       "      <td>1</td>\n",
       "      <td>4</td>\n",
       "      <td>40</td>\n",
       "      <td>3</td>\n",
       "      <td>-9</td>\n",
       "      <td>-1</td>\n",
       "      <td>30042582-1</td>\n",
       "    </tr>\n",
       "    <tr>\n",
       "      <th>38640</th>\n",
       "      <td>30042582</td>\n",
       "      <td>3</td>\n",
       "      <td>2</td>\n",
       "      <td>232.717</td>\n",
       "      <td>1</td>\n",
       "      <td>4</td>\n",
       "      <td>40</td>\n",
       "      <td>3</td>\n",
       "      <td>-9</td>\n",
       "      <td>-1</td>\n",
       "      <td>30042582-3</td>\n",
       "    </tr>\n",
       "    <tr>\n",
       "      <th>38641</th>\n",
       "      <td>30042582</td>\n",
       "      <td>3</td>\n",
       "      <td>2</td>\n",
       "      <td>222.529</td>\n",
       "      <td>1</td>\n",
       "      <td>4</td>\n",
       "      <td>40</td>\n",
       "      <td>3</td>\n",
       "      <td>-9</td>\n",
       "      <td>-1</td>\n",
       "      <td>30042582-3</td>\n",
       "    </tr>\n",
       "    <tr>\n",
       "      <th>52901</th>\n",
       "      <td>30058065</td>\n",
       "      <td>1</td>\n",
       "      <td>2</td>\n",
       "      <td>137.565</td>\n",
       "      <td>1</td>\n",
       "      <td>3</td>\n",
       "      <td>40</td>\n",
       "      <td>3</td>\n",
       "      <td>95</td>\n",
       "      <td>-1</td>\n",
       "      <td>30058065-1</td>\n",
       "    </tr>\n",
       "    <tr>\n",
       "      <th>...</th>\n",
       "      <td>...</td>\n",
       "      <td>...</td>\n",
       "      <td>...</td>\n",
       "      <td>...</td>\n",
       "      <td>...</td>\n",
       "      <td>...</td>\n",
       "      <td>...</td>\n",
       "      <td>...</td>\n",
       "      <td>...</td>\n",
       "      <td>...</td>\n",
       "      <td>...</td>\n",
       "    </tr>\n",
       "    <tr>\n",
       "      <th>784688</th>\n",
       "      <td>40530824</td>\n",
       "      <td>3</td>\n",
       "      <td>1</td>\n",
       "      <td>102.089</td>\n",
       "      <td>1</td>\n",
       "      <td>3</td>\n",
       "      <td>1</td>\n",
       "      <td>10</td>\n",
       "      <td>85</td>\n",
       "      <td>-1</td>\n",
       "      <td>40530824-3</td>\n",
       "    </tr>\n",
       "    <tr>\n",
       "      <th>798326</th>\n",
       "      <td>40556200</td>\n",
       "      <td>2</td>\n",
       "      <td>5</td>\n",
       "      <td>333.349</td>\n",
       "      <td>1</td>\n",
       "      <td>4</td>\n",
       "      <td>50</td>\n",
       "      <td>8</td>\n",
       "      <td>-9</td>\n",
       "      <td>-1</td>\n",
       "      <td>40556200-2</td>\n",
       "    </tr>\n",
       "    <tr>\n",
       "      <th>798327</th>\n",
       "      <td>40556200</td>\n",
       "      <td>2</td>\n",
       "      <td>5</td>\n",
       "      <td>330.457</td>\n",
       "      <td>1</td>\n",
       "      <td>4</td>\n",
       "      <td>40</td>\n",
       "      <td>3</td>\n",
       "      <td>-9</td>\n",
       "      <td>-1</td>\n",
       "      <td>40556200-2</td>\n",
       "    </tr>\n",
       "    <tr>\n",
       "      <th>845025</th>\n",
       "      <td>40645089</td>\n",
       "      <td>1</td>\n",
       "      <td>7</td>\n",
       "      <td>175.873</td>\n",
       "      <td>2</td>\n",
       "      <td>3</td>\n",
       "      <td>50</td>\n",
       "      <td>8</td>\n",
       "      <td>-9</td>\n",
       "      <td>-1</td>\n",
       "      <td>40645089-1</td>\n",
       "    </tr>\n",
       "    <tr>\n",
       "      <th>845029</th>\n",
       "      <td>40645089</td>\n",
       "      <td>2</td>\n",
       "      <td>7</td>\n",
       "      <td>175.873</td>\n",
       "      <td>2</td>\n",
       "      <td>3</td>\n",
       "      <td>50</td>\n",
       "      <td>8</td>\n",
       "      <td>-9</td>\n",
       "      <td>-1</td>\n",
       "      <td>40645089-2</td>\n",
       "    </tr>\n",
       "  </tbody>\n",
       "</table>\n",
       "<p>79 rows × 11 columns</p>\n",
       "</div>"
      ],
      "text/plain": [
       "         HOUSEID  PERSONID  TRAVDAY  TRPMILES  TRPHHVEH  TRPTRANS  WHYTRP1S  \\\n",
       "38630   30042582         1        2   224.420         1         4        40   \n",
       "38631   30042582         1        2   222.529         1         4        40   \n",
       "38640   30042582         3        2   232.717         1         4        40   \n",
       "38641   30042582         3        2   222.529         1         4        40   \n",
       "52901   30058065         1        2   137.565         1         3        40   \n",
       "...          ...       ...      ...       ...       ...       ...       ...   \n",
       "784688  40530824         3        1   102.089         1         3         1   \n",
       "798326  40556200         2        5   333.349         1         4        50   \n",
       "798327  40556200         2        5   330.457         1         4        40   \n",
       "845025  40645089         1        7   175.873         2         3        50   \n",
       "845029  40645089         2        7   175.873         2         3        50   \n",
       "\n",
       "        WHYTRP90  TRVLCMIN  TRWAITTM hh_person_id  \n",
       "38630          3        -9        -1   30042582-1  \n",
       "38631          3        -9        -1   30042582-1  \n",
       "38640          3        -9        -1   30042582-3  \n",
       "38641          3        -9        -1   30042582-3  \n",
       "52901          3        95        -1   30058065-1  \n",
       "...          ...       ...       ...          ...  \n",
       "784688        10        85        -1   40530824-3  \n",
       "798326         8        -9        -1   40556200-2  \n",
       "798327         3        -9        -1   40556200-2  \n",
       "845025         8        -9        -1   40645089-1  \n",
       "845029         8        -9        -1   40645089-2  \n",
       "\n",
       "[79 rows x 11 columns]"
      ]
     },
     "execution_count": 48,
     "metadata": {},
     "output_type": "execute_result"
    }
   ],
   "source": [
    "ny_trip[(ny_trip['TRVLCMIN']<100) & (ny_trip['TRPMILES']>100)]"
   ]
  },
  {
   "cell_type": "code",
   "execution_count": 49,
   "metadata": {},
   "outputs": [
    {
     "name": "stdout",
     "output_type": "stream",
     "text": [
      "98  trips missing TRVLCMIN info so will just remove since only  0.1008562489708546 %\n"
     ]
    }
   ],
   "source": [
    "print(str(sum(ny_trip['TRVLCMIN']<=0)), ' trips missing TRVLCMIN info so will just remove since only ',str(sum(ny_trip['TRVLCMIN']<=0)/len(ny_trip)*100),\"%\")"
   ]
  },
  {
   "cell_type": "code",
   "execution_count": 50,
   "metadata": {},
   "outputs": [],
   "source": [
    "ny_trip = ny_trip[ny_trip['TRVLCMIN']>0]"
   ]
  },
  {
   "cell_type": "code",
   "execution_count": 51,
   "metadata": {},
   "outputs": [],
   "source": [
    "#bin distances to 5 groups (qcut)\n",
    "\n",
    "ny_trip['trip distance bins'] = pd.qcut(ny_trip['TRPMILES'],5)"
   ]
  },
  {
   "cell_type": "code",
   "execution_count": 52,
   "metadata": {},
   "outputs": [
    {
     "data": {
      "text/html": [
       "<div>\n",
       "<style scoped>\n",
       "    .dataframe tbody tr th:only-of-type {\n",
       "        vertical-align: middle;\n",
       "    }\n",
       "\n",
       "    .dataframe tbody tr th {\n",
       "        vertical-align: top;\n",
       "    }\n",
       "\n",
       "    .dataframe thead th {\n",
       "        text-align: right;\n",
       "    }\n",
       "</style>\n",
       "<table border=\"1\" class=\"dataframe\">\n",
       "  <thead>\n",
       "    <tr style=\"text-align: right;\">\n",
       "      <th></th>\n",
       "      <th>WHYTRP90</th>\n",
       "    </tr>\n",
       "    <tr>\n",
       "      <th>hh_person_id</th>\n",
       "      <th></th>\n",
       "    </tr>\n",
       "  </thead>\n",
       "  <tbody>\n",
       "    <tr>\n",
       "      <th>30000012-1</th>\n",
       "      <td>10</td>\n",
       "    </tr>\n",
       "    <tr>\n",
       "      <th>30000082-1</th>\n",
       "      <td>[1, 4]</td>\n",
       "    </tr>\n",
       "    <tr>\n",
       "      <th>30000082-2</th>\n",
       "      <td>2</td>\n",
       "    </tr>\n",
       "    <tr>\n",
       "      <th>30000380-1</th>\n",
       "      <td>3</td>\n",
       "    </tr>\n",
       "    <tr>\n",
       "      <th>30000380-2</th>\n",
       "      <td>[3, 6]</td>\n",
       "    </tr>\n",
       "    <tr>\n",
       "      <th>...</th>\n",
       "      <td>...</td>\n",
       "    </tr>\n",
       "    <tr>\n",
       "      <th>40793808-2</th>\n",
       "      <td>3</td>\n",
       "    </tr>\n",
       "    <tr>\n",
       "      <th>40793808-3</th>\n",
       "      <td>3</td>\n",
       "    </tr>\n",
       "    <tr>\n",
       "      <th>40793974-1</th>\n",
       "      <td>10</td>\n",
       "    </tr>\n",
       "    <tr>\n",
       "      <th>40794020-1</th>\n",
       "      <td>[3, 4]</td>\n",
       "    </tr>\n",
       "    <tr>\n",
       "      <th>40794020-2</th>\n",
       "      <td>6</td>\n",
       "    </tr>\n",
       "  </tbody>\n",
       "</table>\n",
       "<p>24428 rows × 1 columns</p>\n",
       "</div>"
      ],
      "text/plain": [
       "             WHYTRP90\n",
       "hh_person_id         \n",
       "30000012-1         10\n",
       "30000082-1     [1, 4]\n",
       "30000082-2          2\n",
       "30000380-1          3\n",
       "30000380-2     [3, 6]\n",
       "...               ...\n",
       "40793808-2          3\n",
       "40793808-3          3\n",
       "40793974-1         10\n",
       "40794020-1     [3, 4]\n",
       "40794020-2          6\n",
       "\n",
       "[24428 rows x 1 columns]"
      ]
     },
     "execution_count": 52,
     "metadata": {},
     "output_type": "execute_result"
    }
   ],
   "source": [
    "ny_trip.groupby('hh_person_id').agg({'WHYTRP90':pd.Series.mode})\n",
    "\n",
    "\n",
    "# NEED HELP HERE WANT TO GET THE MODE WHY and then the MODE distance for the respective WHY for that person \n",
    "# e.g. Person A - work - 100 mile\n",
    "#      Person B - school - 1 mile\n",
    "#      Person C - work - 10 mile"
   ]
  },
  {
   "cell_type": "code",
   "execution_count": 53,
   "metadata": {},
   "outputs": [],
   "source": [
    "## For Trip To me only the above feature cross or if want to do like urbanness of dest can also take via similiar approach e.g. the urbaness of the most common why"
   ]
  },
  {
   "cell_type": "markdown",
   "metadata": {},
   "source": [
    "## 3. People"
   ]
  },
  {
   "cell_type": "code",
   "execution_count": 29,
   "metadata": {},
   "outputs": [
    {
     "data": {
      "text/plain": [
       "['HOUSEID',\n",
       " 'PERSONID',\n",
       " 'R_AGE',\n",
       " 'EDUC',\n",
       " 'R_HISP',\n",
       " 'R_RELAT',\n",
       " 'R_SEX',\n",
       " 'R_RACE',\n",
       " 'PRMACT',\n",
       " 'PAYPROF',\n",
       " 'GT1JBLWK',\n",
       " 'WRK_HOME',\n",
       " 'WKFTPT',\n",
       " 'WRKTRANS',\n",
       " 'LSTTRDAY17',\n",
       " 'OCCAT',\n",
       " 'SCHTYP',\n",
       " 'NWALKTRP',\n",
       " 'WALK4EX',\n",
       " 'NBIKETRP',\n",
       " 'BIKE4EX',\n",
       " 'BIKESHARE',\n",
       " 'PTUSED',\n",
       " 'MCUSED',\n",
       " 'CARSHARE',\n",
       " 'RIDESHARE',\n",
       " 'CARRODE',\n",
       " 'TIMETOWK',\n",
       " 'NOCONG',\n",
       " 'PUBTIME',\n",
       " 'WRKTIME',\n",
       " 'WKRMHM',\n",
       " 'FLEXTIME',\n",
       " 'WKFMHMXX',\n",
       " 'SCHTRN1',\n",
       " 'SCHTRN2',\n",
       " 'DELIVER',\n",
       " 'MEDCOND',\n",
       " 'MEDCOND6',\n",
       " 'HEALTH',\n",
       " 'PHYACT',\n",
       " 'VPACT',\n",
       " 'LPACT',\n",
       " 'BORNINUS',\n",
       " 'YRTOUS',\n",
       " 'YEARMILE',\n",
       " 'PROXY',\n",
       " 'WHOPROXY',\n",
       " 'USEPUBTR',\n",
       " 'SAMEPLC',\n",
       " 'W_NONE',\n",
       " 'W_CANE',\n",
       " 'W_WLKR',\n",
       " 'W_WHCANE',\n",
       " 'W_DOG',\n",
       " 'W_CRUTCH',\n",
       " 'W_SCOOTR',\n",
       " 'W_CHAIR',\n",
       " 'W_MTRCHR',\n",
       " 'WORKER',\n",
       " 'DIARY',\n",
       " 'OUTCNTRY',\n",
       " 'FRSTHM17',\n",
       " 'CNTTDTR',\n",
       " 'GCDWORK',\n",
       " 'WKSTFIPS',\n",
       " 'DRIVER',\n",
       " 'OUTOFTWN',\n",
       " 'DISTTOWK17',\n",
       " 'DISTTOSC17',\n",
       " 'R_AGE_IMP',\n",
       " 'R_SEX_IMP',\n",
       " 'ALT_16',\n",
       " 'ALT_23',\n",
       " 'ALT_45',\n",
       " 'WALK_DEF',\n",
       " 'WALK_GKQ',\n",
       " 'BIKE_DFR',\n",
       " 'BIKE_GKP',\n",
       " 'CONDTRAV',\n",
       " 'CONDRIDE',\n",
       " 'CONDNIGH',\n",
       " 'CONDRIVE',\n",
       " 'CONDPUB',\n",
       " 'CONDSPEC',\n",
       " 'CONDTAX',\n",
       " 'TRAVDAY',\n",
       " 'HOMEOWN',\n",
       " 'HHSIZE',\n",
       " 'HHVEHCNT',\n",
       " 'HHFAMINC',\n",
       " 'DRVRCNT',\n",
       " 'HHSTATE',\n",
       " 'HHSTFIPS',\n",
       " 'NUMADLT',\n",
       " 'WRKCOUNT',\n",
       " 'TDAYDATE',\n",
       " 'HHRESP',\n",
       " 'LIF_CYC',\n",
       " 'MSACAT',\n",
       " 'MSASIZE',\n",
       " 'RAIL',\n",
       " 'URBAN',\n",
       " 'URBANSIZE',\n",
       " 'URBRUR',\n",
       " 'CENSUS_D',\n",
       " 'CENSUS_R',\n",
       " 'CDIVMSAR',\n",
       " 'HH_RACE',\n",
       " 'HH_HISP',\n",
       " 'HH_CBSA',\n",
       " 'SMPLSRCE',\n",
       " 'WTPERFIN',\n",
       " 'HBHUR',\n",
       " 'HTHTNRNT',\n",
       " 'HTPPOPDN',\n",
       " 'HTRESDN',\n",
       " 'HTEEMPDN',\n",
       " 'HBHTNRNT',\n",
       " 'HBPPOPDN',\n",
       " 'HBRESDN']"
      ]
     },
     "execution_count": 29,
     "metadata": {},
     "output_type": "execute_result"
    }
   ],
   "source": [
    "[c for c in person]"
   ]
  },
  {
   "cell_type": "code",
   "execution_count": 30,
   "metadata": {},
   "outputs": [],
   "source": [
    "# Fitlering NY Drivers only\n",
    "\n",
    "nyorker = person[(person['HOUSEID'].isin(ny['HOUSEID'])) & (person['DRIVER']==1)]"
   ]
  },
  {
   "cell_type": "code",
   "execution_count": 31,
   "metadata": {},
   "outputs": [],
   "source": [
    "nyorker['hh_person_id'] = nyorker['HOUSEID'].astype('str') + '-' + nyorker['PERSONID'].astype('str')"
   ]
  },
  {
   "cell_type": "code",
   "execution_count": 32,
   "metadata": {},
   "outputs": [
    {
     "data": {
      "text/plain": [
       "['HOUSEID',\n",
       " 'PERSONID',\n",
       " 'R_AGE',\n",
       " 'EDUC',\n",
       " 'R_HISP',\n",
       " 'R_RELAT',\n",
       " 'R_SEX',\n",
       " 'R_RACE',\n",
       " 'PRMACT',\n",
       " 'PAYPROF',\n",
       " 'GT1JBLWK',\n",
       " 'WRK_HOME',\n",
       " 'WKFTPT',\n",
       " 'WRKTRANS',\n",
       " 'LSTTRDAY17',\n",
       " 'OCCAT',\n",
       " 'SCHTYP',\n",
       " 'NWALKTRP',\n",
       " 'WALK4EX',\n",
       " 'NBIKETRP',\n",
       " 'BIKE4EX',\n",
       " 'BIKESHARE',\n",
       " 'PTUSED',\n",
       " 'MCUSED',\n",
       " 'CARSHARE',\n",
       " 'RIDESHARE',\n",
       " 'CARRODE',\n",
       " 'TIMETOWK',\n",
       " 'NOCONG',\n",
       " 'PUBTIME',\n",
       " 'WRKTIME',\n",
       " 'WKRMHM',\n",
       " 'FLEXTIME',\n",
       " 'WKFMHMXX',\n",
       " 'SCHTRN1',\n",
       " 'SCHTRN2',\n",
       " 'DELIVER',\n",
       " 'MEDCOND',\n",
       " 'MEDCOND6',\n",
       " 'HEALTH',\n",
       " 'PHYACT',\n",
       " 'VPACT',\n",
       " 'LPACT',\n",
       " 'BORNINUS',\n",
       " 'YRTOUS',\n",
       " 'YEARMILE',\n",
       " 'PROXY',\n",
       " 'WHOPROXY',\n",
       " 'USEPUBTR',\n",
       " 'SAMEPLC',\n",
       " 'W_NONE',\n",
       " 'W_CANE',\n",
       " 'W_WLKR',\n",
       " 'W_WHCANE',\n",
       " 'W_DOG',\n",
       " 'W_CRUTCH',\n",
       " 'W_SCOOTR',\n",
       " 'W_CHAIR',\n",
       " 'W_MTRCHR',\n",
       " 'WORKER',\n",
       " 'DIARY',\n",
       " 'OUTCNTRY',\n",
       " 'FRSTHM17',\n",
       " 'CNTTDTR',\n",
       " 'GCDWORK',\n",
       " 'WKSTFIPS',\n",
       " 'DRIVER',\n",
       " 'OUTOFTWN',\n",
       " 'DISTTOWK17',\n",
       " 'DISTTOSC17',\n",
       " 'R_AGE_IMP',\n",
       " 'R_SEX_IMP',\n",
       " 'ALT_16',\n",
       " 'ALT_23',\n",
       " 'ALT_45',\n",
       " 'WALK_DEF',\n",
       " 'WALK_GKQ',\n",
       " 'BIKE_DFR',\n",
       " 'BIKE_GKP',\n",
       " 'CONDTRAV',\n",
       " 'CONDRIDE',\n",
       " 'CONDNIGH',\n",
       " 'CONDRIVE',\n",
       " 'CONDPUB',\n",
       " 'CONDSPEC',\n",
       " 'CONDTAX',\n",
       " 'TRAVDAY',\n",
       " 'HOMEOWN',\n",
       " 'HHSIZE',\n",
       " 'HHVEHCNT',\n",
       " 'HHFAMINC',\n",
       " 'DRVRCNT',\n",
       " 'HHSTATE',\n",
       " 'HHSTFIPS',\n",
       " 'NUMADLT',\n",
       " 'WRKCOUNT',\n",
       " 'TDAYDATE',\n",
       " 'HHRESP',\n",
       " 'LIF_CYC',\n",
       " 'MSACAT',\n",
       " 'MSASIZE',\n",
       " 'RAIL',\n",
       " 'URBAN',\n",
       " 'URBANSIZE',\n",
       " 'URBRUR',\n",
       " 'CENSUS_D',\n",
       " 'CENSUS_R',\n",
       " 'CDIVMSAR',\n",
       " 'HH_RACE',\n",
       " 'HH_HISP',\n",
       " 'HH_CBSA',\n",
       " 'SMPLSRCE',\n",
       " 'WTPERFIN',\n",
       " 'HBHUR',\n",
       " 'HTHTNRNT',\n",
       " 'HTPPOPDN',\n",
       " 'HTRESDN',\n",
       " 'HTEEMPDN',\n",
       " 'HBHTNRNT',\n",
       " 'HBPPOPDN',\n",
       " 'HBRESDN']"
      ]
     },
     "execution_count": 32,
     "metadata": {},
     "output_type": "execute_result"
    }
   ],
   "source": [
    "[c for c in person]"
   ]
  },
  {
   "cell_type": "code",
   "execution_count": 33,
   "metadata": {},
   "outputs": [],
   "source": [
    "nyorker = nyorker[['HOUSEID','PERSONID','R_AGE','EDUC','R_RACE','R_SEX','WRK_HOME','WKFTPT','OCCAT','DRIVER']]"
   ]
  },
  {
   "cell_type": "markdown",
   "metadata": {},
   "source": [
    "## Age"
   ]
  },
  {
   "cell_type": "code",
   "execution_count": 34,
   "metadata": {},
   "outputs": [
    {
     "name": "stdout",
     "output_type": "stream",
     "text": [
      "52 count of people with no age.  0.00019679526480316688 %. Prolly can remove\n"
     ]
    }
   ],
   "source": [
    "print(str(sum(nyorker['R_AGE']<0)), \"count of people with no age. \",str(sum(nyorker['R_AGE']<0)/person.shape[0]),\"%. Prolly can remove\")"
   ]
  },
  {
   "cell_type": "code",
   "execution_count": 35,
   "metadata": {},
   "outputs": [
    {
     "name": "stdout",
     "output_type": "stream",
     "text": [
      "     counts  percentage\n",
      " 65     780    2.857666\n",
      " 64     725    2.656164\n",
      " 60     719    2.634182\n",
      " 62     717    2.626855\n",
      " 63     698    2.557245\n",
      "..      ...         ...\n",
      " 86      99    0.362704\n",
      " 87      99    0.362704\n",
      " 88      73    0.267448\n",
      "-7       44    0.161202\n",
      "-8        8    0.029309\n",
      "\n",
      "[76 rows x 2 columns]\n",
      "\n",
      "394 people below the age of 18 0.014434878182817365 %\n"
     ]
    },
    {
     "data": {
      "text/plain": [
       "<matplotlib.axes._subplots.AxesSubplot at 0x1d2809a91c8>"
      ]
     },
     "execution_count": 35,
     "metadata": {},
     "output_type": "execute_result"
    },
    {
     "data": {
      "image/png": "[encoded data removed]",
      "text/plain": [
       "<Figure size 432x288 with 1 Axes>"
      ]
     },
     "metadata": {
      "needs_background": "light"
     },
     "output_type": "display_data"
    }
   ],
   "source": [
    "print(pd.concat([nyorker['R_AGE'].value_counts(),\n",
    "          nyorker['R_AGE'].value_counts(normalize = True).mul(100)],axis = 1, keys = ('counts','percentage'))\n",
    "     )\n",
    "print('')\n",
    "print(str(sum(nyorker['R_AGE']<18)), 'people below the age of 18', str(sum(nyorker['R_AGE']<18)/len(nyorker['R_AGE'])),\"%\")\n",
    "\n",
    "\n",
    "sns.histplot(nyorker['R_AGE'])\n",
    "\n",
    "# Interesting that a lot of the respondants are older but dont think need to change\n",
    "# possibly something to do with the fact that the survey was done via landline calls??"
   ]
  },
  {
   "cell_type": "markdown",
   "metadata": {},
   "source": [
    "## EDUC"
   ]
  },
  {
   "cell_type": "code",
   "execution_count": 36,
   "metadata": {},
   "outputs": [
    {
     "name": "stdout",
     "output_type": "stream",
     "text": [
      "    counts  percentage\n",
      " 3    7620   27.917201\n",
      " 5    7059   25.861879\n",
      " 4    6044   22.143250\n",
      " 2    5623   20.600843\n",
      " 1     931    3.410881\n",
      "-7      15    0.054955\n",
      "-8       3    0.010991\n"
     ]
    },
    {
     "data": {
      "image/png": "[encoded data removed]",
      "text/plain": [
       "<Figure size 432x288 with 1 Axes>"
      ]
     },
     "metadata": {
      "needs_background": "light"
     },
     "output_type": "display_data"
    }
   ],
   "source": [
    "cat_col_prop(nyorker,'EDUC',)"
   ]
  },
  {
   "cell_type": "code",
   "execution_count": 37,
   "metadata": {},
   "outputs": [
    {
     "name": "stdout",
     "output_type": "stream",
     "text": [
      "     counts  percentage\n",
      " 1    24886   91.174208\n",
      " 3      754    2.762411\n",
      " 2      712    2.608536\n",
      " 6      436    1.597362\n",
      " 97     279    1.022165\n",
      "-7      132    0.483605\n",
      " 4       66    0.241803\n",
      " 5       19    0.069610\n",
      "-8       11    0.040300\n"
     ]
    },
    {
     "data": {
      "image/png": "[encoded data removed]",
      "text/plain": [
       "<Figure size 432x288 with 1 Axes>"
      ]
     },
     "metadata": {
      "needs_background": "light"
     },
     "output_type": "display_data"
    }
   ],
   "source": [
    "cat_col_prop(nyorker,'R_RACE')\n",
    "\n",
    "# High proporition of white"
   ]
  },
  {
   "cell_type": "code",
   "execution_count": 38,
   "metadata": {},
   "outputs": [
    {
     "name": "stdout",
     "output_type": "stream",
     "text": [
      "    counts  percentage\n",
      " 2   14163   51.888624\n",
      " 1   13110   48.030775\n",
      "-7      20    0.073273\n",
      "-8       2    0.007327\n"
     ]
    },
    {
     "data": {
      "image/png": "[encoded data removed]",
      "text/plain": [
       "<Figure size 432x288 with 1 Axes>"
      ]
     },
     "metadata": {
      "needs_background": "light"
     },
     "output_type": "display_data"
    }
   ],
   "source": [
    "cat_col_prop(nyorker,'R_SEX')"
   ]
  },
  {
   "cell_type": "code",
   "execution_count": 39,
   "metadata": {},
   "outputs": [
    {
     "name": "stdout",
     "output_type": "stream",
     "text": [
      "    counts  percentage\n",
      " 2   13423   49.177505\n",
      "-1   11554   42.330097\n",
      " 1    1694    6.206265\n",
      "-9     623    2.282469\n",
      "-7       1    0.003664\n",
      "prolly split -1: not working, 2:No, 1: Yes\n"
     ]
    },
    {
     "data": {
      "image/png": "[encoded data removed]",
      "text/plain": [
       "<Figure size 432x288 with 1 Axes>"
      ]
     },
     "metadata": {
      "needs_background": "light"
     },
     "output_type": "display_data"
    }
   ],
   "source": [
    "cat_col_prop(nyorker,'WRK_HOME')\n",
    "\n",
    "print('prolly split -1: not working, 2:No, 1: Yes')"
   ]
  },
  {
   "cell_type": "code",
   "execution_count": 40,
   "metadata": {},
   "outputs": [
    {
     "name": "stdout",
     "output_type": "stream",
     "text": [
      "    counts  percentage\n",
      "-1   12177   44.612566\n",
      " 1   11807   43.257007\n",
      " 2    3302   12.097454\n",
      "-7       7    0.025646\n",
      "-8       2    0.007327\n",
      "similiar regarding the non workers 51%\n"
     ]
    },
    {
     "data": {
      "image/png": "[encoded data removed]",
      "text/plain": [
       "<Figure size 432x288 with 1 Axes>"
      ]
     },
     "metadata": {
      "needs_background": "light"
     },
     "output_type": "display_data"
    }
   ],
   "source": [
    "cat_col_prop(nyorker,'WKFTPT')\n",
    "\n",
    "print('similiar regarding the non workers 51%')"
   ]
  },
  {
   "cell_type": "code",
   "execution_count": 41,
   "metadata": {},
   "outputs": [
    {
     "name": "stdout",
     "output_type": "stream",
     "text": [
      "     counts  percentage\n",
      "-1    11554   42.330097\n",
      " 4     8417   30.837150\n",
      " 1     3118   11.423338\n",
      " 3     1826    6.689870\n",
      " 2     1731    6.341821\n",
      "-9      623    2.282469\n",
      " 97      18    0.065946\n",
      "-8        5    0.018318\n",
      "-7        3    0.010991\n",
      "similiar not working\n"
     ]
    },
    {
     "data": {
      "image/png": "[encoded data removed]",
      "text/plain": [
       "<Figure size 432x288 with 1 Axes>"
      ]
     },
     "metadata": {
      "needs_background": "light"
     },
     "output_type": "display_data"
    }
   ],
   "source": [
    "cat_col_prop(nyorker,'OCCAT')\n",
    "print('similiar not working')"
   ]
  },
  {
   "cell_type": "code",
   "execution_count": 47,
   "metadata": {},
   "outputs": [
    {
     "data": {
      "text/html": [
       "<div>\n",
       "<style scoped>\n",
       "    .dataframe tbody tr th:only-of-type {\n",
       "        vertical-align: middle;\n",
       "    }\n",
       "\n",
       "    .dataframe tbody tr th {\n",
       "        vertical-align: top;\n",
       "    }\n",
       "\n",
       "    .dataframe thead th {\n",
       "        text-align: right;\n",
       "    }\n",
       "</style>\n",
       "<table border=\"1\" class=\"dataframe\">\n",
       "  <thead>\n",
       "    <tr style=\"text-align: right;\">\n",
       "      <th></th>\n",
       "      <th>HOUSEID</th>\n",
       "      <th>PERSONID</th>\n",
       "      <th>R_AGE</th>\n",
       "      <th>EDUC</th>\n",
       "      <th>R_RACE</th>\n",
       "      <th>R_SEX</th>\n",
       "      <th>WRK_HOME</th>\n",
       "      <th>WKFTPT</th>\n",
       "      <th>OCCAT</th>\n",
       "      <th>DRIVER</th>\n",
       "      <th>...</th>\n",
       "      <th>HHFAMINC</th>\n",
       "      <th>NUMADLT_ratio</th>\n",
       "      <th>YOUNGCHILD_ratio</th>\n",
       "      <th>WRKCOUNT_ratio</th>\n",
       "      <th>MSACAT</th>\n",
       "      <th>MSASIZE</th>\n",
       "      <th>URBAN</th>\n",
       "      <th>URBANSIZE</th>\n",
       "      <th>URBRUR</th>\n",
       "      <th>LIF_CYC</th>\n",
       "    </tr>\n",
       "  </thead>\n",
       "  <tbody>\n",
       "    <tr>\n",
       "      <th>0</th>\n",
       "      <td>30000012</td>\n",
       "      <td>1</td>\n",
       "      <td>45</td>\n",
       "      <td>5</td>\n",
       "      <td>1</td>\n",
       "      <td>2</td>\n",
       "      <td>2</td>\n",
       "      <td>1</td>\n",
       "      <td>4</td>\n",
       "      <td>1</td>\n",
       "      <td>...</td>\n",
       "      <td>10</td>\n",
       "      <td>1</td>\n",
       "      <td>0</td>\n",
       "      <td>1</td>\n",
       "      <td>3</td>\n",
       "      <td>3</td>\n",
       "      <td>1</td>\n",
       "      <td>3</td>\n",
       "      <td>1</td>\n",
       "      <td>1</td>\n",
       "    </tr>\n",
       "    <tr>\n",
       "      <th>1</th>\n",
       "      <td>30000082</td>\n",
       "      <td>1</td>\n",
       "      <td>39</td>\n",
       "      <td>5</td>\n",
       "      <td>1</td>\n",
       "      <td>2</td>\n",
       "      <td>2</td>\n",
       "      <td>1</td>\n",
       "      <td>2</td>\n",
       "      <td>1</td>\n",
       "      <td>...</td>\n",
       "      <td>8</td>\n",
       "      <td>&gt;0.5</td>\n",
       "      <td>&gt;0.5</td>\n",
       "      <td>&gt;0.5</td>\n",
       "      <td>3</td>\n",
       "      <td>3</td>\n",
       "      <td>1</td>\n",
       "      <td>3</td>\n",
       "      <td>1</td>\n",
       "      <td>4</td>\n",
       "    </tr>\n",
       "    <tr>\n",
       "      <th>2</th>\n",
       "      <td>30000082</td>\n",
       "      <td>2</td>\n",
       "      <td>38</td>\n",
       "      <td>4</td>\n",
       "      <td>1</td>\n",
       "      <td>1</td>\n",
       "      <td>2</td>\n",
       "      <td>1</td>\n",
       "      <td>4</td>\n",
       "      <td>1</td>\n",
       "      <td>...</td>\n",
       "      <td>8</td>\n",
       "      <td>&gt;0.5</td>\n",
       "      <td>&gt;0.5</td>\n",
       "      <td>&gt;0.5</td>\n",
       "      <td>3</td>\n",
       "      <td>3</td>\n",
       "      <td>1</td>\n",
       "      <td>3</td>\n",
       "      <td>1</td>\n",
       "      <td>4</td>\n",
       "    </tr>\n",
       "    <tr>\n",
       "      <th>3</th>\n",
       "      <td>30000130</td>\n",
       "      <td>1</td>\n",
       "      <td>45</td>\n",
       "      <td>5</td>\n",
       "      <td>1</td>\n",
       "      <td>2</td>\n",
       "      <td>2</td>\n",
       "      <td>1</td>\n",
       "      <td>2</td>\n",
       "      <td>1</td>\n",
       "      <td>...</td>\n",
       "      <td>5</td>\n",
       "      <td>1</td>\n",
       "      <td>0</td>\n",
       "      <td>1</td>\n",
       "      <td>1</td>\n",
       "      <td>5</td>\n",
       "      <td>1</td>\n",
       "      <td>5</td>\n",
       "      <td>1</td>\n",
       "      <td>2</td>\n",
       "    </tr>\n",
       "    <tr>\n",
       "      <th>4</th>\n",
       "      <td>30000130</td>\n",
       "      <td>2</td>\n",
       "      <td>45</td>\n",
       "      <td>4</td>\n",
       "      <td>1</td>\n",
       "      <td>1</td>\n",
       "      <td>2</td>\n",
       "      <td>1</td>\n",
       "      <td>2</td>\n",
       "      <td>1</td>\n",
       "      <td>...</td>\n",
       "      <td>5</td>\n",
       "      <td>1</td>\n",
       "      <td>0</td>\n",
       "      <td>1</td>\n",
       "      <td>1</td>\n",
       "      <td>5</td>\n",
       "      <td>1</td>\n",
       "      <td>5</td>\n",
       "      <td>1</td>\n",
       "      <td>2</td>\n",
       "    </tr>\n",
       "    <tr>\n",
       "      <th>...</th>\n",
       "      <td>...</td>\n",
       "      <td>...</td>\n",
       "      <td>...</td>\n",
       "      <td>...</td>\n",
       "      <td>...</td>\n",
       "      <td>...</td>\n",
       "      <td>...</td>\n",
       "      <td>...</td>\n",
       "      <td>...</td>\n",
       "      <td>...</td>\n",
       "      <td>...</td>\n",
       "      <td>...</td>\n",
       "      <td>...</td>\n",
       "      <td>...</td>\n",
       "      <td>...</td>\n",
       "      <td>...</td>\n",
       "      <td>...</td>\n",
       "      <td>...</td>\n",
       "      <td>...</td>\n",
       "      <td>...</td>\n",
       "      <td>...</td>\n",
       "    </tr>\n",
       "    <tr>\n",
       "      <th>27290</th>\n",
       "      <td>40793808</td>\n",
       "      <td>1</td>\n",
       "      <td>59</td>\n",
       "      <td>4</td>\n",
       "      <td>1</td>\n",
       "      <td>1</td>\n",
       "      <td>1</td>\n",
       "      <td>2</td>\n",
       "      <td>4</td>\n",
       "      <td>1</td>\n",
       "      <td>...</td>\n",
       "      <td>7</td>\n",
       "      <td>&gt;0.5</td>\n",
       "      <td>0</td>\n",
       "      <td>&gt;0.5</td>\n",
       "      <td>3</td>\n",
       "      <td>1</td>\n",
       "      <td>1</td>\n",
       "      <td>1</td>\n",
       "      <td>1</td>\n",
       "      <td>8</td>\n",
       "    </tr>\n",
       "    <tr>\n",
       "      <th>27291</th>\n",
       "      <td>40793808</td>\n",
       "      <td>2</td>\n",
       "      <td>50</td>\n",
       "      <td>4</td>\n",
       "      <td>1</td>\n",
       "      <td>2</td>\n",
       "      <td>2</td>\n",
       "      <td>1</td>\n",
       "      <td>4</td>\n",
       "      <td>1</td>\n",
       "      <td>...</td>\n",
       "      <td>7</td>\n",
       "      <td>&gt;0.5</td>\n",
       "      <td>0</td>\n",
       "      <td>&gt;0.5</td>\n",
       "      <td>3</td>\n",
       "      <td>1</td>\n",
       "      <td>1</td>\n",
       "      <td>1</td>\n",
       "      <td>1</td>\n",
       "      <td>8</td>\n",
       "    </tr>\n",
       "    <tr>\n",
       "      <th>27292</th>\n",
       "      <td>40793974</td>\n",
       "      <td>1</td>\n",
       "      <td>81</td>\n",
       "      <td>2</td>\n",
       "      <td>1</td>\n",
       "      <td>1</td>\n",
       "      <td>-1</td>\n",
       "      <td>-1</td>\n",
       "      <td>-1</td>\n",
       "      <td>1</td>\n",
       "      <td>...</td>\n",
       "      <td>3</td>\n",
       "      <td>1</td>\n",
       "      <td>0</td>\n",
       "      <td>0</td>\n",
       "      <td>3</td>\n",
       "      <td>1</td>\n",
       "      <td>1</td>\n",
       "      <td>1</td>\n",
       "      <td>1</td>\n",
       "      <td>9</td>\n",
       "    </tr>\n",
       "    <tr>\n",
       "      <th>27293</th>\n",
       "      <td>40794020</td>\n",
       "      <td>1</td>\n",
       "      <td>75</td>\n",
       "      <td>3</td>\n",
       "      <td>1</td>\n",
       "      <td>1</td>\n",
       "      <td>-1</td>\n",
       "      <td>-1</td>\n",
       "      <td>-1</td>\n",
       "      <td>1</td>\n",
       "      <td>...</td>\n",
       "      <td>8</td>\n",
       "      <td>1</td>\n",
       "      <td>0</td>\n",
       "      <td>0</td>\n",
       "      <td>4</td>\n",
       "      <td>6</td>\n",
       "      <td>4</td>\n",
       "      <td>6</td>\n",
       "      <td>2</td>\n",
       "      <td>10</td>\n",
       "    </tr>\n",
       "    <tr>\n",
       "      <th>27294</th>\n",
       "      <td>40794020</td>\n",
       "      <td>2</td>\n",
       "      <td>70</td>\n",
       "      <td>2</td>\n",
       "      <td>1</td>\n",
       "      <td>2</td>\n",
       "      <td>-1</td>\n",
       "      <td>-1</td>\n",
       "      <td>-1</td>\n",
       "      <td>1</td>\n",
       "      <td>...</td>\n",
       "      <td>8</td>\n",
       "      <td>1</td>\n",
       "      <td>0</td>\n",
       "      <td>0</td>\n",
       "      <td>4</td>\n",
       "      <td>6</td>\n",
       "      <td>4</td>\n",
       "      <td>6</td>\n",
       "      <td>2</td>\n",
       "      <td>10</td>\n",
       "    </tr>\n",
       "  </tbody>\n",
       "</table>\n",
       "<p>27295 rows × 24 columns</p>\n",
       "</div>"
      ],
      "text/plain": [
       "        HOUSEID  PERSONID  R_AGE  EDUC  R_RACE  R_SEX  WRK_HOME  WKFTPT  \\\n",
       "0      30000012         1     45     5       1      2         2       1   \n",
       "1      30000082         1     39     5       1      2         2       1   \n",
       "2      30000082         2     38     4       1      1         2       1   \n",
       "3      30000130         1     45     5       1      2         2       1   \n",
       "4      30000130         2     45     4       1      1         2       1   \n",
       "...         ...       ...    ...   ...     ...    ...       ...     ...   \n",
       "27290  40793808         1     59     4       1      1         1       2   \n",
       "27291  40793808         2     50     4       1      2         2       1   \n",
       "27292  40793974         1     81     2       1      1        -1      -1   \n",
       "27293  40794020         1     75     3       1      1        -1      -1   \n",
       "27294  40794020         2     70     2       1      2        -1      -1   \n",
       "\n",
       "       OCCAT  DRIVER  ... HHFAMINC NUMADLT_ratio YOUNGCHILD_ratio  \\\n",
       "0          4       1  ...       10             1                0   \n",
       "1          2       1  ...        8          >0.5             >0.5   \n",
       "2          4       1  ...        8          >0.5             >0.5   \n",
       "3          2       1  ...        5             1                0   \n",
       "4          2       1  ...        5             1                0   \n",
       "...      ...     ...  ...      ...           ...              ...   \n",
       "27290      4       1  ...        7          >0.5                0   \n",
       "27291      4       1  ...        7          >0.5                0   \n",
       "27292     -1       1  ...        3             1                0   \n",
       "27293     -1       1  ...        8             1                0   \n",
       "27294     -1       1  ...        8             1                0   \n",
       "\n",
       "      WRKCOUNT_ratio MSACAT MSASIZE URBAN URBANSIZE  URBRUR  LIF_CYC  \n",
       "0                  1      3       3     1         3       1        1  \n",
       "1               >0.5      3       3     1         3       1        4  \n",
       "2               >0.5      3       3     1         3       1        4  \n",
       "3                  1      1       5     1         5       1        2  \n",
       "4                  1      1       5     1         5       1        2  \n",
       "...              ...    ...     ...   ...       ...     ...      ...  \n",
       "27290           >0.5      3       1     1         1       1        8  \n",
       "27291           >0.5      3       1     1         1       1        8  \n",
       "27292              0      3       1     1         1       1        9  \n",
       "27293              0      4       6     4         6       2       10  \n",
       "27294              0      4       6     4         6       2       10  \n",
       "\n",
       "[27295 rows x 24 columns]"
      ]
     },
     "execution_count": 47,
     "metadata": {},
     "output_type": "execute_result"
    }
   ],
   "source": [
    "df = nyorker.merge(ny, how='left', left_on = 'HOUSEID', right_on = 'HOUSEID')\n",
    "df"
   ]
  },
  {
   "cell_type": "code",
   "execution_count": 48,
   "metadata": {},
   "outputs": [
    {
     "data": {
      "text/plain": [
       "(27295, 24)"
      ]
     },
     "execution_count": 48,
     "metadata": {},
     "output_type": "execute_result"
    }
   ],
   "source": [
    "df.shape"
   ]
  },
  {
   "cell_type": "code",
   "execution_count": null,
   "metadata": {},
   "outputs": [],
   "source": [
    "# Merge with Trips to get the Y"
   ]
  }
 ],
 "metadata": {
  "kernelspec": {
   "display_name": "Python 3",
   "language": "python",
   "name": "python3"
  },
  "language_info": {
   "codemirror_mode": {
    "name": "ipython",
    "version": 3
   },
   "file_extension": ".py",
   "mimetype": "text/x-python",
   "name": "python",
   "nbconvert_exporter": "python",
   "pygments_lexer": "ipython3",
   "version": "3.7.4"
  }
 },
 "nbformat": 4,
 "nbformat_minor": 2
}
