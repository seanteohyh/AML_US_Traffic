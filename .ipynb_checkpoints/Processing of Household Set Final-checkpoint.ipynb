{
 "cells": [
  {
   "cell_type": "code",
   "execution_count": 1,
   "metadata": {},
   "outputs": [],
   "source": [
    "import pandas as pd \n",
    "pd.set_option('max_columns', None)\n",
    "import pandas as pd\n",
    "import numpy as np\n",
    "import datetime\n",
    "import matplotlib.pyplot as plt\n",
    "import seaborn as sns\n",
    "%matplotlib inline\n",
    "import warnings\n",
    "import math\n",
    "from scipy.stats import pearsonr\n",
    "import os"
   ]
  },
  {
   "cell_type": "code",
   "execution_count": 2,
   "metadata": {},
   "outputs": [],
   "source": [
    "# getting the correct vehicle count\n",
    "vehicles = pd.read_csv('/Users/weijilim/Downloads/csv/vehpub.csv')"
   ]
  },
  {
   "cell_type": "code",
   "execution_count": 3,
   "metadata": {},
   "outputs": [],
   "source": [
    "vehicles_ny = vehicles[vehicles['HHSTATE'] == 'NY']"
   ]
  },
  {
   "cell_type": "code",
   "execution_count": 4,
   "metadata": {},
   "outputs": [
    {
     "data": {
      "text/html": [
       "<div>\n",
       "<style scoped>\n",
       "    .dataframe tbody tr th:only-of-type {\n",
       "        vertical-align: middle;\n",
       "    }\n",
       "\n",
       "    .dataframe tbody tr th {\n",
       "        vertical-align: top;\n",
       "    }\n",
       "\n",
       "    .dataframe thead th {\n",
       "        text-align: right;\n",
       "    }\n",
       "</style>\n",
       "<table border=\"1\" class=\"dataframe\">\n",
       "  <thead>\n",
       "    <tr style=\"text-align: right;\">\n",
       "      <th></th>\n",
       "      <th>HOUSEID</th>\n",
       "      <th>VEHID</th>\n",
       "      <th>VEHYEAR</th>\n",
       "      <th>VEHAGE</th>\n",
       "      <th>MAKE</th>\n",
       "      <th>MODEL</th>\n",
       "      <th>FUELTYPE</th>\n",
       "      <th>VEHTYPE</th>\n",
       "      <th>WHOMAIN</th>\n",
       "      <th>OD_READ</th>\n",
       "      <th>HFUEL</th>\n",
       "      <th>VEHOWNED</th>\n",
       "      <th>VEHOWNMO</th>\n",
       "      <th>ANNMILES</th>\n",
       "      <th>HYBRID</th>\n",
       "      <th>PERSONID</th>\n",
       "      <th>TRAVDAY</th>\n",
       "      <th>HOMEOWN</th>\n",
       "      <th>HHSIZE</th>\n",
       "      <th>HHVEHCNT</th>\n",
       "      <th>HHFAMINC</th>\n",
       "      <th>DRVRCNT</th>\n",
       "      <th>HHSTATE</th>\n",
       "      <th>HHSTFIPS</th>\n",
       "      <th>NUMADLT</th>\n",
       "      <th>WRKCOUNT</th>\n",
       "      <th>TDAYDATE</th>\n",
       "      <th>LIF_CYC</th>\n",
       "      <th>MSACAT</th>\n",
       "      <th>MSASIZE</th>\n",
       "      <th>RAIL</th>\n",
       "      <th>URBAN</th>\n",
       "      <th>URBANSIZE</th>\n",
       "      <th>URBRUR</th>\n",
       "      <th>CENSUS_D</th>\n",
       "      <th>CENSUS_R</th>\n",
       "      <th>CDIVMSAR</th>\n",
       "      <th>HH_RACE</th>\n",
       "      <th>HH_HISP</th>\n",
       "      <th>HH_CBSA</th>\n",
       "      <th>SMPLSRCE</th>\n",
       "      <th>WTHHFIN</th>\n",
       "      <th>BESTMILE</th>\n",
       "      <th>BEST_FLG</th>\n",
       "      <th>BEST_EDT</th>\n",
       "      <th>BEST_OUT</th>\n",
       "      <th>HBHUR</th>\n",
       "      <th>HTHTNRNT</th>\n",
       "      <th>HTPPOPDN</th>\n",
       "      <th>HTRESDN</th>\n",
       "      <th>HTEEMPDN</th>\n",
       "      <th>HBHTNRNT</th>\n",
       "      <th>HBPPOPDN</th>\n",
       "      <th>HBRESDN</th>\n",
       "      <th>GSYRGAL</th>\n",
       "      <th>GSTOTCST</th>\n",
       "      <th>FEGEMPG</th>\n",
       "      <th>FEGEMPGA</th>\n",
       "      <th>GSCOST</th>\n",
       "      <th>FEGEMPGF</th>\n",
       "    </tr>\n",
       "  </thead>\n",
       "  <tbody>\n",
       "    <tr>\n",
       "      <th>9</th>\n",
       "      <td>30000012</td>\n",
       "      <td>1</td>\n",
       "      <td>2011</td>\n",
       "      <td>6</td>\n",
       "      <td>58</td>\n",
       "      <td>58037</td>\n",
       "      <td>1</td>\n",
       "      <td>1</td>\n",
       "      <td>1</td>\n",
       "      <td>70115</td>\n",
       "      <td>-1</td>\n",
       "      <td>1</td>\n",
       "      <td>-1</td>\n",
       "      <td>11000</td>\n",
       "      <td>2</td>\n",
       "      <td>1</td>\n",
       "      <td>5</td>\n",
       "      <td>1</td>\n",
       "      <td>1</td>\n",
       "      <td>2</td>\n",
       "      <td>10</td>\n",
       "      <td>1</td>\n",
       "      <td>NY</td>\n",
       "      <td>36</td>\n",
       "      <td>1</td>\n",
       "      <td>1</td>\n",
       "      <td>201607</td>\n",
       "      <td>1</td>\n",
       "      <td>3</td>\n",
       "      <td>3</td>\n",
       "      <td>2</td>\n",
       "      <td>1</td>\n",
       "      <td>3</td>\n",
       "      <td>1</td>\n",
       "      <td>2</td>\n",
       "      <td>1</td>\n",
       "      <td>23</td>\n",
       "      <td>1</td>\n",
       "      <td>2</td>\n",
       "      <td>XXXXX</td>\n",
       "      <td>2</td>\n",
       "      <td>79.419586</td>\n",
       "      <td>4616.917047</td>\n",
       "      <td>1</td>\n",
       "      <td>-1</td>\n",
       "      <td>-1</td>\n",
       "      <td>C</td>\n",
       "      <td>80</td>\n",
       "      <td>17000</td>\n",
       "      <td>17000</td>\n",
       "      <td>5000</td>\n",
       "      <td>60</td>\n",
       "      <td>17000</td>\n",
       "      <td>7000</td>\n",
       "      <td>219.853193</td>\n",
       "      <td>542.011404</td>\n",
       "      <td>21</td>\n",
       "      <td>-9</td>\n",
       "      <td>2.465333</td>\n",
       "      <td>1</td>\n",
       "    </tr>\n",
       "    <tr>\n",
       "      <th>10</th>\n",
       "      <td>30000012</td>\n",
       "      <td>2</td>\n",
       "      <td>2004</td>\n",
       "      <td>13</td>\n",
       "      <td>12</td>\n",
       "      <td>12473</td>\n",
       "      <td>1</td>\n",
       "      <td>3</td>\n",
       "      <td>1</td>\n",
       "      <td>68204</td>\n",
       "      <td>-1</td>\n",
       "      <td>1</td>\n",
       "      <td>-1</td>\n",
       "      <td>6000</td>\n",
       "      <td>2</td>\n",
       "      <td>1</td>\n",
       "      <td>5</td>\n",
       "      <td>1</td>\n",
       "      <td>1</td>\n",
       "      <td>2</td>\n",
       "      <td>10</td>\n",
       "      <td>1</td>\n",
       "      <td>NY</td>\n",
       "      <td>36</td>\n",
       "      <td>1</td>\n",
       "      <td>1</td>\n",
       "      <td>201607</td>\n",
       "      <td>1</td>\n",
       "      <td>3</td>\n",
       "      <td>3</td>\n",
       "      <td>2</td>\n",
       "      <td>1</td>\n",
       "      <td>3</td>\n",
       "      <td>1</td>\n",
       "      <td>2</td>\n",
       "      <td>1</td>\n",
       "      <td>23</td>\n",
       "      <td>1</td>\n",
       "      <td>2</td>\n",
       "      <td>XXXXX</td>\n",
       "      <td>2</td>\n",
       "      <td>79.419586</td>\n",
       "      <td>4002.551052</td>\n",
       "      <td>1</td>\n",
       "      <td>-1</td>\n",
       "      <td>-1</td>\n",
       "      <td>C</td>\n",
       "      <td>80</td>\n",
       "      <td>17000</td>\n",
       "      <td>17000</td>\n",
       "      <td>5000</td>\n",
       "      <td>60</td>\n",
       "      <td>17000</td>\n",
       "      <td>7000</td>\n",
       "      <td>250.159441</td>\n",
       "      <td>616.726408</td>\n",
       "      <td>16</td>\n",
       "      <td>-9</td>\n",
       "      <td>2.465333</td>\n",
       "      <td>1</td>\n",
       "    </tr>\n",
       "    <tr>\n",
       "      <th>25</th>\n",
       "      <td>30000082</td>\n",
       "      <td>1</td>\n",
       "      <td>2011</td>\n",
       "      <td>6</td>\n",
       "      <td>41</td>\n",
       "      <td>41051</td>\n",
       "      <td>1</td>\n",
       "      <td>1</td>\n",
       "      <td>2</td>\n",
       "      <td>83644</td>\n",
       "      <td>-1</td>\n",
       "      <td>1</td>\n",
       "      <td>-1</td>\n",
       "      <td>15000</td>\n",
       "      <td>2</td>\n",
       "      <td>2</td>\n",
       "      <td>3</td>\n",
       "      <td>2</td>\n",
       "      <td>4</td>\n",
       "      <td>2</td>\n",
       "      <td>8</td>\n",
       "      <td>2</td>\n",
       "      <td>NY</td>\n",
       "      <td>36</td>\n",
       "      <td>2</td>\n",
       "      <td>2</td>\n",
       "      <td>201605</td>\n",
       "      <td>4</td>\n",
       "      <td>3</td>\n",
       "      <td>3</td>\n",
       "      <td>2</td>\n",
       "      <td>1</td>\n",
       "      <td>3</td>\n",
       "      <td>1</td>\n",
       "      <td>2</td>\n",
       "      <td>1</td>\n",
       "      <td>23</td>\n",
       "      <td>1</td>\n",
       "      <td>2</td>\n",
       "      <td>XXXXX</td>\n",
       "      <td>2</td>\n",
       "      <td>1148.809332</td>\n",
       "      <td>12366.599911</td>\n",
       "      <td>1</td>\n",
       "      <td>-1</td>\n",
       "      <td>-1</td>\n",
       "      <td>T</td>\n",
       "      <td>20</td>\n",
       "      <td>1500</td>\n",
       "      <td>300</td>\n",
       "      <td>750</td>\n",
       "      <td>30</td>\n",
       "      <td>750</td>\n",
       "      <td>300</td>\n",
       "      <td>494.663996</td>\n",
       "      <td>1219.511639</td>\n",
       "      <td>25</td>\n",
       "      <td>-9</td>\n",
       "      <td>2.465333</td>\n",
       "      <td>1</td>\n",
       "    </tr>\n",
       "    <tr>\n",
       "      <th>26</th>\n",
       "      <td>30000082</td>\n",
       "      <td>2</td>\n",
       "      <td>2007</td>\n",
       "      <td>10</td>\n",
       "      <td>49</td>\n",
       "      <td>49051</td>\n",
       "      <td>1</td>\n",
       "      <td>1</td>\n",
       "      <td>1</td>\n",
       "      <td>120615</td>\n",
       "      <td>-1</td>\n",
       "      <td>1</td>\n",
       "      <td>-1</td>\n",
       "      <td>8000</td>\n",
       "      <td>2</td>\n",
       "      <td>1</td>\n",
       "      <td>3</td>\n",
       "      <td>2</td>\n",
       "      <td>4</td>\n",
       "      <td>2</td>\n",
       "      <td>8</td>\n",
       "      <td>2</td>\n",
       "      <td>NY</td>\n",
       "      <td>36</td>\n",
       "      <td>2</td>\n",
       "      <td>2</td>\n",
       "      <td>201605</td>\n",
       "      <td>4</td>\n",
       "      <td>3</td>\n",
       "      <td>3</td>\n",
       "      <td>2</td>\n",
       "      <td>1</td>\n",
       "      <td>3</td>\n",
       "      <td>1</td>\n",
       "      <td>2</td>\n",
       "      <td>1</td>\n",
       "      <td>23</td>\n",
       "      <td>1</td>\n",
       "      <td>2</td>\n",
       "      <td>XXXXX</td>\n",
       "      <td>2</td>\n",
       "      <td>1148.809332</td>\n",
       "      <td>13364.831987</td>\n",
       "      <td>1</td>\n",
       "      <td>-1</td>\n",
       "      <td>-1</td>\n",
       "      <td>T</td>\n",
       "      <td>20</td>\n",
       "      <td>1500</td>\n",
       "      <td>300</td>\n",
       "      <td>750</td>\n",
       "      <td>30</td>\n",
       "      <td>750</td>\n",
       "      <td>300</td>\n",
       "      <td>417.651000</td>\n",
       "      <td>1029.648931</td>\n",
       "      <td>32</td>\n",
       "      <td>-9</td>\n",
       "      <td>2.465333</td>\n",
       "      <td>1</td>\n",
       "    </tr>\n",
       "    <tr>\n",
       "      <th>38</th>\n",
       "      <td>30000130</td>\n",
       "      <td>1</td>\n",
       "      <td>2013</td>\n",
       "      <td>4</td>\n",
       "      <td>49</td>\n",
       "      <td>49403</td>\n",
       "      <td>1</td>\n",
       "      <td>3</td>\n",
       "      <td>1</td>\n",
       "      <td>-88</td>\n",
       "      <td>-1</td>\n",
       "      <td>1</td>\n",
       "      <td>-1</td>\n",
       "      <td>-9</td>\n",
       "      <td>2</td>\n",
       "      <td>1</td>\n",
       "      <td>1</td>\n",
       "      <td>1</td>\n",
       "      <td>2</td>\n",
       "      <td>1</td>\n",
       "      <td>5</td>\n",
       "      <td>2</td>\n",
       "      <td>NY</td>\n",
       "      <td>36</td>\n",
       "      <td>2</td>\n",
       "      <td>2</td>\n",
       "      <td>201605</td>\n",
       "      <td>2</td>\n",
       "      <td>1</td>\n",
       "      <td>5</td>\n",
       "      <td>1</td>\n",
       "      <td>1</td>\n",
       "      <td>5</td>\n",
       "      <td>1</td>\n",
       "      <td>2</td>\n",
       "      <td>1</td>\n",
       "      <td>21</td>\n",
       "      <td>1</td>\n",
       "      <td>2</td>\n",
       "      <td>35620</td>\n",
       "      <td>1</td>\n",
       "      <td>3829.959655</td>\n",
       "      <td>10441.887017</td>\n",
       "      <td>2</td>\n",
       "      <td>-1</td>\n",
       "      <td>-1</td>\n",
       "      <td>U</td>\n",
       "      <td>60</td>\n",
       "      <td>30000</td>\n",
       "      <td>17000</td>\n",
       "      <td>5000</td>\n",
       "      <td>70</td>\n",
       "      <td>30000</td>\n",
       "      <td>17000</td>\n",
       "      <td>522.094351</td>\n",
       "      <td>1287.136606</td>\n",
       "      <td>20</td>\n",
       "      <td>-9</td>\n",
       "      <td>2.465333</td>\n",
       "      <td>1</td>\n",
       "    </tr>\n",
       "    <tr>\n",
       "      <th>...</th>\n",
       "      <td>...</td>\n",
       "      <td>...</td>\n",
       "      <td>...</td>\n",
       "      <td>...</td>\n",
       "      <td>...</td>\n",
       "      <td>...</td>\n",
       "      <td>...</td>\n",
       "      <td>...</td>\n",
       "      <td>...</td>\n",
       "      <td>...</td>\n",
       "      <td>...</td>\n",
       "      <td>...</td>\n",
       "      <td>...</td>\n",
       "      <td>...</td>\n",
       "      <td>...</td>\n",
       "      <td>...</td>\n",
       "      <td>...</td>\n",
       "      <td>...</td>\n",
       "      <td>...</td>\n",
       "      <td>...</td>\n",
       "      <td>...</td>\n",
       "      <td>...</td>\n",
       "      <td>...</td>\n",
       "      <td>...</td>\n",
       "      <td>...</td>\n",
       "      <td>...</td>\n",
       "      <td>...</td>\n",
       "      <td>...</td>\n",
       "      <td>...</td>\n",
       "      <td>...</td>\n",
       "      <td>...</td>\n",
       "      <td>...</td>\n",
       "      <td>...</td>\n",
       "      <td>...</td>\n",
       "      <td>...</td>\n",
       "      <td>...</td>\n",
       "      <td>...</td>\n",
       "      <td>...</td>\n",
       "      <td>...</td>\n",
       "      <td>...</td>\n",
       "      <td>...</td>\n",
       "      <td>...</td>\n",
       "      <td>...</td>\n",
       "      <td>...</td>\n",
       "      <td>...</td>\n",
       "      <td>...</td>\n",
       "      <td>...</td>\n",
       "      <td>...</td>\n",
       "      <td>...</td>\n",
       "      <td>...</td>\n",
       "      <td>...</td>\n",
       "      <td>...</td>\n",
       "      <td>...</td>\n",
       "      <td>...</td>\n",
       "      <td>...</td>\n",
       "      <td>...</td>\n",
       "      <td>...</td>\n",
       "      <td>...</td>\n",
       "      <td>...</td>\n",
       "      <td>...</td>\n",
       "    </tr>\n",
       "    <tr>\n",
       "      <th>256052</th>\n",
       "      <td>40793974</td>\n",
       "      <td>1</td>\n",
       "      <td>2015</td>\n",
       "      <td>2</td>\n",
       "      <td>55</td>\n",
       "      <td>55033</td>\n",
       "      <td>1</td>\n",
       "      <td>1</td>\n",
       "      <td>1</td>\n",
       "      <td>9340</td>\n",
       "      <td>-1</td>\n",
       "      <td>1</td>\n",
       "      <td>-1</td>\n",
       "      <td>9000</td>\n",
       "      <td>2</td>\n",
       "      <td>1</td>\n",
       "      <td>3</td>\n",
       "      <td>2</td>\n",
       "      <td>1</td>\n",
       "      <td>1</td>\n",
       "      <td>3</td>\n",
       "      <td>1</td>\n",
       "      <td>NY</td>\n",
       "      <td>36</td>\n",
       "      <td>1</td>\n",
       "      <td>0</td>\n",
       "      <td>201701</td>\n",
       "      <td>9</td>\n",
       "      <td>3</td>\n",
       "      <td>1</td>\n",
       "      <td>2</td>\n",
       "      <td>1</td>\n",
       "      <td>1</td>\n",
       "      <td>1</td>\n",
       "      <td>2</td>\n",
       "      <td>1</td>\n",
       "      <td>23</td>\n",
       "      <td>1</td>\n",
       "      <td>2</td>\n",
       "      <td>XXXXX</td>\n",
       "      <td>2</td>\n",
       "      <td>15.543410</td>\n",
       "      <td>157.658682</td>\n",
       "      <td>1</td>\n",
       "      <td>-1</td>\n",
       "      <td>-1</td>\n",
       "      <td>R</td>\n",
       "      <td>20</td>\n",
       "      <td>300</td>\n",
       "      <td>300</td>\n",
       "      <td>150</td>\n",
       "      <td>20</td>\n",
       "      <td>300</td>\n",
       "      <td>50</td>\n",
       "      <td>5.839210</td>\n",
       "      <td>14.395600</td>\n",
       "      <td>27</td>\n",
       "      <td>-9</td>\n",
       "      <td>2.465333</td>\n",
       "      <td>1</td>\n",
       "    </tr>\n",
       "    <tr>\n",
       "      <th>256061</th>\n",
       "      <td>40794020</td>\n",
       "      <td>1</td>\n",
       "      <td>2014</td>\n",
       "      <td>3</td>\n",
       "      <td>02</td>\n",
       "      <td>2422</td>\n",
       "      <td>1</td>\n",
       "      <td>1</td>\n",
       "      <td>2</td>\n",
       "      <td>40011</td>\n",
       "      <td>-1</td>\n",
       "      <td>1</td>\n",
       "      <td>-1</td>\n",
       "      <td>14000</td>\n",
       "      <td>2</td>\n",
       "      <td>2</td>\n",
       "      <td>3</td>\n",
       "      <td>1</td>\n",
       "      <td>2</td>\n",
       "      <td>4</td>\n",
       "      <td>8</td>\n",
       "      <td>2</td>\n",
       "      <td>NY</td>\n",
       "      <td>36</td>\n",
       "      <td>2</td>\n",
       "      <td>0</td>\n",
       "      <td>201702</td>\n",
       "      <td>10</td>\n",
       "      <td>4</td>\n",
       "      <td>6</td>\n",
       "      <td>2</td>\n",
       "      <td>4</td>\n",
       "      <td>6</td>\n",
       "      <td>2</td>\n",
       "      <td>2</td>\n",
       "      <td>1</td>\n",
       "      <td>24</td>\n",
       "      <td>1</td>\n",
       "      <td>2</td>\n",
       "      <td>XXXXX</td>\n",
       "      <td>2</td>\n",
       "      <td>72.789109</td>\n",
       "      <td>9891.869239</td>\n",
       "      <td>1</td>\n",
       "      <td>-1</td>\n",
       "      <td>-1</td>\n",
       "      <td>R</td>\n",
       "      <td>5</td>\n",
       "      <td>50</td>\n",
       "      <td>50</td>\n",
       "      <td>25</td>\n",
       "      <td>5</td>\n",
       "      <td>50</td>\n",
       "      <td>50</td>\n",
       "      <td>549.548291</td>\n",
       "      <td>1354.819720</td>\n",
       "      <td>18</td>\n",
       "      <td>-9</td>\n",
       "      <td>2.465333</td>\n",
       "      <td>1</td>\n",
       "    </tr>\n",
       "    <tr>\n",
       "      <th>256062</th>\n",
       "      <td>40794020</td>\n",
       "      <td>2</td>\n",
       "      <td>2013</td>\n",
       "      <td>4</td>\n",
       "      <td>20</td>\n",
       "      <td>20481</td>\n",
       "      <td>1</td>\n",
       "      <td>4</td>\n",
       "      <td>1</td>\n",
       "      <td>24532</td>\n",
       "      <td>-1</td>\n",
       "      <td>2</td>\n",
       "      <td>11</td>\n",
       "      <td>4364</td>\n",
       "      <td>2</td>\n",
       "      <td>1</td>\n",
       "      <td>3</td>\n",
       "      <td>1</td>\n",
       "      <td>2</td>\n",
       "      <td>4</td>\n",
       "      <td>8</td>\n",
       "      <td>2</td>\n",
       "      <td>NY</td>\n",
       "      <td>36</td>\n",
       "      <td>2</td>\n",
       "      <td>0</td>\n",
       "      <td>201702</td>\n",
       "      <td>10</td>\n",
       "      <td>4</td>\n",
       "      <td>6</td>\n",
       "      <td>2</td>\n",
       "      <td>4</td>\n",
       "      <td>6</td>\n",
       "      <td>2</td>\n",
       "      <td>2</td>\n",
       "      <td>1</td>\n",
       "      <td>24</td>\n",
       "      <td>1</td>\n",
       "      <td>2</td>\n",
       "      <td>XXXXX</td>\n",
       "      <td>2</td>\n",
       "      <td>72.789109</td>\n",
       "      <td>5098.662877</td>\n",
       "      <td>1</td>\n",
       "      <td>-1</td>\n",
       "      <td>-1</td>\n",
       "      <td>R</td>\n",
       "      <td>5</td>\n",
       "      <td>50</td>\n",
       "      <td>50</td>\n",
       "      <td>25</td>\n",
       "      <td>5</td>\n",
       "      <td>50</td>\n",
       "      <td>50</td>\n",
       "      <td>318.666430</td>\n",
       "      <td>785.618972</td>\n",
       "      <td>16</td>\n",
       "      <td>-9</td>\n",
       "      <td>2.465333</td>\n",
       "      <td>1</td>\n",
       "    </tr>\n",
       "    <tr>\n",
       "      <th>256063</th>\n",
       "      <td>40794020</td>\n",
       "      <td>3</td>\n",
       "      <td>2001</td>\n",
       "      <td>16</td>\n",
       "      <td>07</td>\n",
       "      <td>7880</td>\n",
       "      <td>1</td>\n",
       "      <td>5</td>\n",
       "      <td>1</td>\n",
       "      <td>149000</td>\n",
       "      <td>-1</td>\n",
       "      <td>2</td>\n",
       "      <td>4</td>\n",
       "      <td>1500</td>\n",
       "      <td>2</td>\n",
       "      <td>1</td>\n",
       "      <td>3</td>\n",
       "      <td>1</td>\n",
       "      <td>2</td>\n",
       "      <td>4</td>\n",
       "      <td>8</td>\n",
       "      <td>2</td>\n",
       "      <td>NY</td>\n",
       "      <td>36</td>\n",
       "      <td>2</td>\n",
       "      <td>0</td>\n",
       "      <td>201702</td>\n",
       "      <td>10</td>\n",
       "      <td>4</td>\n",
       "      <td>6</td>\n",
       "      <td>2</td>\n",
       "      <td>4</td>\n",
       "      <td>6</td>\n",
       "      <td>2</td>\n",
       "      <td>2</td>\n",
       "      <td>1</td>\n",
       "      <td>24</td>\n",
       "      <td>1</td>\n",
       "      <td>2</td>\n",
       "      <td>XXXXX</td>\n",
       "      <td>2</td>\n",
       "      <td>72.789109</td>\n",
       "      <td>1500.000000</td>\n",
       "      <td>7</td>\n",
       "      <td>-1</td>\n",
       "      <td>-1</td>\n",
       "      <td>R</td>\n",
       "      <td>5</td>\n",
       "      <td>50</td>\n",
       "      <td>50</td>\n",
       "      <td>25</td>\n",
       "      <td>5</td>\n",
       "      <td>50</td>\n",
       "      <td>50</td>\n",
       "      <td>125.000000</td>\n",
       "      <td>308.166667</td>\n",
       "      <td>12</td>\n",
       "      <td>-9</td>\n",
       "      <td>2.465333</td>\n",
       "      <td>3</td>\n",
       "    </tr>\n",
       "    <tr>\n",
       "      <th>256064</th>\n",
       "      <td>40794020</td>\n",
       "      <td>4</td>\n",
       "      <td>2000</td>\n",
       "      <td>17</td>\n",
       "      <td>51</td>\n",
       "      <td>XXXXX</td>\n",
       "      <td>2</td>\n",
       "      <td>5</td>\n",
       "      <td>1</td>\n",
       "      <td>646978</td>\n",
       "      <td>-1</td>\n",
       "      <td>1</td>\n",
       "      <td>-1</td>\n",
       "      <td>100</td>\n",
       "      <td>2</td>\n",
       "      <td>1</td>\n",
       "      <td>3</td>\n",
       "      <td>1</td>\n",
       "      <td>2</td>\n",
       "      <td>4</td>\n",
       "      <td>8</td>\n",
       "      <td>2</td>\n",
       "      <td>NY</td>\n",
       "      <td>36</td>\n",
       "      <td>2</td>\n",
       "      <td>0</td>\n",
       "      <td>201702</td>\n",
       "      <td>10</td>\n",
       "      <td>4</td>\n",
       "      <td>6</td>\n",
       "      <td>2</td>\n",
       "      <td>4</td>\n",
       "      <td>6</td>\n",
       "      <td>2</td>\n",
       "      <td>2</td>\n",
       "      <td>1</td>\n",
       "      <td>24</td>\n",
       "      <td>1</td>\n",
       "      <td>2</td>\n",
       "      <td>XXXXX</td>\n",
       "      <td>2</td>\n",
       "      <td>72.789109</td>\n",
       "      <td>100.000000</td>\n",
       "      <td>7</td>\n",
       "      <td>-1</td>\n",
       "      <td>1</td>\n",
       "      <td>R</td>\n",
       "      <td>5</td>\n",
       "      <td>50</td>\n",
       "      <td>50</td>\n",
       "      <td>25</td>\n",
       "      <td>5</td>\n",
       "      <td>50</td>\n",
       "      <td>50</td>\n",
       "      <td>6.666667</td>\n",
       "      <td>17.111111</td>\n",
       "      <td>15</td>\n",
       "      <td>-9</td>\n",
       "      <td>2.566667</td>\n",
       "      <td>1</td>\n",
       "    </tr>\n",
       "  </tbody>\n",
       "</table>\n",
       "<p>30831 rows × 60 columns</p>\n",
       "</div>"
      ],
      "text/plain": [
       "         HOUSEID  VEHID  VEHYEAR  VEHAGE MAKE  MODEL  FUELTYPE  VEHTYPE  \\\n",
       "9       30000012      1     2011       6   58  58037         1        1   \n",
       "10      30000012      2     2004      13   12  12473         1        3   \n",
       "25      30000082      1     2011       6   41  41051         1        1   \n",
       "26      30000082      2     2007      10   49  49051         1        1   \n",
       "38      30000130      1     2013       4   49  49403         1        3   \n",
       "...          ...    ...      ...     ...  ...    ...       ...      ...   \n",
       "256052  40793974      1     2015       2   55  55033         1        1   \n",
       "256061  40794020      1     2014       3   02   2422         1        1   \n",
       "256062  40794020      2     2013       4   20  20481         1        4   \n",
       "256063  40794020      3     2001      16   07   7880         1        5   \n",
       "256064  40794020      4     2000      17   51  XXXXX         2        5   \n",
       "\n",
       "        WHOMAIN  OD_READ  HFUEL  VEHOWNED  VEHOWNMO  ANNMILES  HYBRID  \\\n",
       "9             1    70115     -1         1        -1     11000       2   \n",
       "10            1    68204     -1         1        -1      6000       2   \n",
       "25            2    83644     -1         1        -1     15000       2   \n",
       "26            1   120615     -1         1        -1      8000       2   \n",
       "38            1      -88     -1         1        -1        -9       2   \n",
       "...         ...      ...    ...       ...       ...       ...     ...   \n",
       "256052        1     9340     -1         1        -1      9000       2   \n",
       "256061        2    40011     -1         1        -1     14000       2   \n",
       "256062        1    24532     -1         2        11      4364       2   \n",
       "256063        1   149000     -1         2         4      1500       2   \n",
       "256064        1   646978     -1         1        -1       100       2   \n",
       "\n",
       "        PERSONID  TRAVDAY  HOMEOWN  HHSIZE  HHVEHCNT  HHFAMINC  DRVRCNT  \\\n",
       "9              1        5        1       1         2        10        1   \n",
       "10             1        5        1       1         2        10        1   \n",
       "25             2        3        2       4         2         8        2   \n",
       "26             1        3        2       4         2         8        2   \n",
       "38             1        1        1       2         1         5        2   \n",
       "...          ...      ...      ...     ...       ...       ...      ...   \n",
       "256052         1        3        2       1         1         3        1   \n",
       "256061         2        3        1       2         4         8        2   \n",
       "256062         1        3        1       2         4         8        2   \n",
       "256063         1        3        1       2         4         8        2   \n",
       "256064         1        3        1       2         4         8        2   \n",
       "\n",
       "       HHSTATE  HHSTFIPS  NUMADLT  WRKCOUNT  TDAYDATE  LIF_CYC  MSACAT  \\\n",
       "9           NY        36        1         1    201607        1       3   \n",
       "10          NY        36        1         1    201607        1       3   \n",
       "25          NY        36        2         2    201605        4       3   \n",
       "26          NY        36        2         2    201605        4       3   \n",
       "38          NY        36        2         2    201605        2       1   \n",
       "...        ...       ...      ...       ...       ...      ...     ...   \n",
       "256052      NY        36        1         0    201701        9       3   \n",
       "256061      NY        36        2         0    201702       10       4   \n",
       "256062      NY        36        2         0    201702       10       4   \n",
       "256063      NY        36        2         0    201702       10       4   \n",
       "256064      NY        36        2         0    201702       10       4   \n",
       "\n",
       "        MSASIZE  RAIL  URBAN  URBANSIZE  URBRUR  CENSUS_D  CENSUS_R  CDIVMSAR  \\\n",
       "9             3     2      1          3       1         2         1        23   \n",
       "10            3     2      1          3       1         2         1        23   \n",
       "25            3     2      1          3       1         2         1        23   \n",
       "26            3     2      1          3       1         2         1        23   \n",
       "38            5     1      1          5       1         2         1        21   \n",
       "...         ...   ...    ...        ...     ...       ...       ...       ...   \n",
       "256052        1     2      1          1       1         2         1        23   \n",
       "256061        6     2      4          6       2         2         1        24   \n",
       "256062        6     2      4          6       2         2         1        24   \n",
       "256063        6     2      4          6       2         2         1        24   \n",
       "256064        6     2      4          6       2         2         1        24   \n",
       "\n",
       "        HH_RACE  HH_HISP HH_CBSA  SMPLSRCE      WTHHFIN      BESTMILE  \\\n",
       "9             1        2   XXXXX         2    79.419586   4616.917047   \n",
       "10            1        2   XXXXX         2    79.419586   4002.551052   \n",
       "25            1        2   XXXXX         2  1148.809332  12366.599911   \n",
       "26            1        2   XXXXX         2  1148.809332  13364.831987   \n",
       "38            1        2   35620         1  3829.959655  10441.887017   \n",
       "...         ...      ...     ...       ...          ...           ...   \n",
       "256052        1        2   XXXXX         2    15.543410    157.658682   \n",
       "256061        1        2   XXXXX         2    72.789109   9891.869239   \n",
       "256062        1        2   XXXXX         2    72.789109   5098.662877   \n",
       "256063        1        2   XXXXX         2    72.789109   1500.000000   \n",
       "256064        1        2   XXXXX         2    72.789109    100.000000   \n",
       "\n",
       "        BEST_FLG  BEST_EDT  BEST_OUT HBHUR  HTHTNRNT  HTPPOPDN  HTRESDN  \\\n",
       "9              1        -1        -1     C        80     17000    17000   \n",
       "10             1        -1        -1     C        80     17000    17000   \n",
       "25             1        -1        -1     T        20      1500      300   \n",
       "26             1        -1        -1     T        20      1500      300   \n",
       "38             2        -1        -1     U        60     30000    17000   \n",
       "...          ...       ...       ...   ...       ...       ...      ...   \n",
       "256052         1        -1        -1     R        20       300      300   \n",
       "256061         1        -1        -1     R         5        50       50   \n",
       "256062         1        -1        -1     R         5        50       50   \n",
       "256063         7        -1        -1     R         5        50       50   \n",
       "256064         7        -1         1     R         5        50       50   \n",
       "\n",
       "        HTEEMPDN  HBHTNRNT  HBPPOPDN  HBRESDN     GSYRGAL     GSTOTCST  \\\n",
       "9           5000        60     17000     7000  219.853193   542.011404   \n",
       "10          5000        60     17000     7000  250.159441   616.726408   \n",
       "25           750        30       750      300  494.663996  1219.511639   \n",
       "26           750        30       750      300  417.651000  1029.648931   \n",
       "38          5000        70     30000    17000  522.094351  1287.136606   \n",
       "...          ...       ...       ...      ...         ...          ...   \n",
       "256052       150        20       300       50    5.839210    14.395600   \n",
       "256061        25         5        50       50  549.548291  1354.819720   \n",
       "256062        25         5        50       50  318.666430   785.618972   \n",
       "256063        25         5        50       50  125.000000   308.166667   \n",
       "256064        25         5        50       50    6.666667    17.111111   \n",
       "\n",
       "        FEGEMPG  FEGEMPGA    GSCOST  FEGEMPGF  \n",
       "9            21        -9  2.465333         1  \n",
       "10           16        -9  2.465333         1  \n",
       "25           25        -9  2.465333         1  \n",
       "26           32        -9  2.465333         1  \n",
       "38           20        -9  2.465333         1  \n",
       "...         ...       ...       ...       ...  \n",
       "256052       27        -9  2.465333         1  \n",
       "256061       18        -9  2.465333         1  \n",
       "256062       16        -9  2.465333         1  \n",
       "256063       12        -9  2.465333         3  \n",
       "256064       15        -9  2.566667         1  \n",
       "\n",
       "[30831 rows x 60 columns]"
      ]
     },
     "execution_count": 4,
     "metadata": {},
     "output_type": "execute_result"
    }
   ],
   "source": [
    "vehicles_ny"
   ]
  },
  {
   "cell_type": "code",
   "execution_count": 5,
   "metadata": {},
   "outputs": [
    {
     "name": "stderr",
     "output_type": "stream",
     "text": [
      "/opt/anaconda3/lib/python3.7/site-packages/pandas/core/frame.py:3607: SettingWithCopyWarning: \n",
      "A value is trying to be set on a copy of a slice from a DataFrame.\n",
      "Try using .loc[row_indexer,col_indexer] = value instead\n",
      "\n",
      "See the caveats in the documentation: https://pandas.pydata.org/pandas-docs/stable/user_guide/indexing.html#returning-a-view-versus-a-copy\n",
      "  self._set_item(key, value)\n"
     ]
    },
    {
     "data": {
      "text/plain": [
       "1     15765\n",
       "3      7882\n",
       "4      3980\n",
       "2      1688\n",
       "99     1366\n",
       "5       150\n",
       "Name: VEHTYPE, dtype: int64"
      ]
     },
     "execution_count": 5,
     "metadata": {},
     "output_type": "execute_result"
    }
   ],
   "source": [
    "# checking the vehtype\n",
    "\n",
    "# remove any vehtype > 5 and <0 after which proceed to do counting \n",
    "vehicles_ny['VEHTYPE'] = vehicles_ny['VEHTYPE'].apply(lambda x: 99 if x > 5 else x)\n",
    "vehicles_ny['VEHTYPE'] = vehicles_ny['VEHTYPE'].apply(lambda x: 99 if x < 0 else x)\n",
    "#cars_ny = cars_ny[cars_ny['VEHTYPE']<=5]\n",
    "vehicles_ny.VEHTYPE.value_counts()"
   ]
  },
  {
   "cell_type": "code",
   "execution_count": 6,
   "metadata": {},
   "outputs": [
    {
     "data": {
      "text/plain": [
       "2     6334\n",
       "1     5821\n",
       "3     2257\n",
       "4      795\n",
       "5      281\n",
       "6       92\n",
       "7       34\n",
       "8       12\n",
       "9        6\n",
       "11       2\n",
       "12       2\n",
       "Name: count, dtype: int64"
      ]
     },
     "execution_count": 6,
     "metadata": {},
     "output_type": "execute_result"
    }
   ],
   "source": [
    "# updated vehcount - this is for those who own vehicles, those with no vehicles are zero in the household\n",
    "import numpy as np\n",
    "updated_veh = vehicles_ny.groupby(['HOUSEID'])[\"VEHTYPE\"].count().reset_index(name=\"count\") # get the gender size\n",
    "updated_veh['count'].value_counts()\n",
    "\n",
    "# based on this check: all HHVEHCNT still contain car in 1 manner or another, continue to use HHVEHCNT"
   ]
  },
  {
   "cell_type": "code",
   "execution_count": 3,
   "metadata": {},
   "outputs": [
    {
     "data": {
      "text/html": [
       "<div>\n",
       "<style scoped>\n",
       "    .dataframe tbody tr th:only-of-type {\n",
       "        vertical-align: middle;\n",
       "    }\n",
       "\n",
       "    .dataframe tbody tr th {\n",
       "        vertical-align: top;\n",
       "    }\n",
       "\n",
       "    .dataframe thead th {\n",
       "        text-align: right;\n",
       "    }\n",
       "</style>\n",
       "<table border=\"1\" class=\"dataframe\">\n",
       "  <thead>\n",
       "    <tr style=\"text-align: right;\">\n",
       "      <th></th>\n",
       "      <th>HOUSEID</th>\n",
       "      <th>TRAVDAY</th>\n",
       "      <th>SAMPSTRAT</th>\n",
       "      <th>HOMEOWN</th>\n",
       "      <th>HHSIZE</th>\n",
       "      <th>HHVEHCNT</th>\n",
       "      <th>HHFAMINC</th>\n",
       "      <th>PC</th>\n",
       "      <th>SPHONE</th>\n",
       "      <th>TAB</th>\n",
       "      <th>WALK</th>\n",
       "      <th>BIKE</th>\n",
       "      <th>CAR</th>\n",
       "      <th>TAXI</th>\n",
       "      <th>BUS</th>\n",
       "      <th>TRAIN</th>\n",
       "      <th>PARA</th>\n",
       "      <th>PRICE</th>\n",
       "      <th>PLACE</th>\n",
       "      <th>WALK2SAVE</th>\n",
       "      <th>BIKE2SAVE</th>\n",
       "      <th>PTRANS</th>\n",
       "      <th>HHRELATD</th>\n",
       "      <th>DRVRCNT</th>\n",
       "      <th>CNTTDHH</th>\n",
       "      <th>HHSTATE</th>\n",
       "      <th>HHSTFIPS</th>\n",
       "      <th>NUMADLT</th>\n",
       "      <th>YOUNGCHILD</th>\n",
       "      <th>WRKCOUNT</th>\n",
       "      <th>TDAYDATE</th>\n",
       "      <th>HHRESP</th>\n",
       "      <th>LIF_CYC</th>\n",
       "      <th>MSACAT</th>\n",
       "      <th>MSASIZE</th>\n",
       "      <th>RAIL</th>\n",
       "      <th>URBAN</th>\n",
       "      <th>URBANSIZE</th>\n",
       "      <th>URBRUR</th>\n",
       "      <th>SCRESP</th>\n",
       "      <th>CENSUS_D</th>\n",
       "      <th>CENSUS_R</th>\n",
       "      <th>CDIVMSAR</th>\n",
       "      <th>HH_RACE</th>\n",
       "      <th>HH_HISP</th>\n",
       "      <th>HH_CBSA</th>\n",
       "      <th>RESP_CNT</th>\n",
       "      <th>WEBUSE17</th>\n",
       "      <th>SMPLSRCE</th>\n",
       "      <th>WTHHFIN</th>\n",
       "      <th>HBHUR</th>\n",
       "      <th>HTHTNRNT</th>\n",
       "      <th>HTPPOPDN</th>\n",
       "      <th>HTRESDN</th>\n",
       "      <th>HTEEMPDN</th>\n",
       "      <th>HBHTNRNT</th>\n",
       "      <th>HBPPOPDN</th>\n",
       "      <th>HBRESDN</th>\n",
       "    </tr>\n",
       "  </thead>\n",
       "  <tbody>\n",
       "    <tr>\n",
       "      <th>2</th>\n",
       "      <td>30000012</td>\n",
       "      <td>5</td>\n",
       "      <td>3</td>\n",
       "      <td>1</td>\n",
       "      <td>1</td>\n",
       "      <td>2</td>\n",
       "      <td>10</td>\n",
       "      <td>1</td>\n",
       "      <td>1</td>\n",
       "      <td>3</td>\n",
       "      <td>2</td>\n",
       "      <td>5</td>\n",
       "      <td>1</td>\n",
       "      <td>5</td>\n",
       "      <td>4</td>\n",
       "      <td>4</td>\n",
       "      <td>5</td>\n",
       "      <td>2</td>\n",
       "      <td>1</td>\n",
       "      <td>2</td>\n",
       "      <td>3</td>\n",
       "      <td>5</td>\n",
       "      <td>2</td>\n",
       "      <td>1</td>\n",
       "      <td>9</td>\n",
       "      <td>NY</td>\n",
       "      <td>36</td>\n",
       "      <td>1</td>\n",
       "      <td>0</td>\n",
       "      <td>1</td>\n",
       "      <td>201607</td>\n",
       "      <td>1</td>\n",
       "      <td>1</td>\n",
       "      <td>3</td>\n",
       "      <td>3</td>\n",
       "      <td>2</td>\n",
       "      <td>1</td>\n",
       "      <td>3</td>\n",
       "      <td>1</td>\n",
       "      <td>1</td>\n",
       "      <td>2</td>\n",
       "      <td>1</td>\n",
       "      <td>23</td>\n",
       "      <td>1</td>\n",
       "      <td>2</td>\n",
       "      <td>XXXXX</td>\n",
       "      <td>1</td>\n",
       "      <td>1</td>\n",
       "      <td>2</td>\n",
       "      <td>79.419586</td>\n",
       "      <td>C</td>\n",
       "      <td>80</td>\n",
       "      <td>17000</td>\n",
       "      <td>17000</td>\n",
       "      <td>5000</td>\n",
       "      <td>60</td>\n",
       "      <td>17000</td>\n",
       "      <td>7000</td>\n",
       "    </tr>\n",
       "    <tr>\n",
       "      <th>8</th>\n",
       "      <td>30000082</td>\n",
       "      <td>3</td>\n",
       "      <td>3</td>\n",
       "      <td>2</td>\n",
       "      <td>4</td>\n",
       "      <td>2</td>\n",
       "      <td>8</td>\n",
       "      <td>1</td>\n",
       "      <td>1</td>\n",
       "      <td>5</td>\n",
       "      <td>-9</td>\n",
       "      <td>5</td>\n",
       "      <td>1</td>\n",
       "      <td>5</td>\n",
       "      <td>5</td>\n",
       "      <td>5</td>\n",
       "      <td>5</td>\n",
       "      <td>3</td>\n",
       "      <td>3</td>\n",
       "      <td>5</td>\n",
       "      <td>5</td>\n",
       "      <td>5</td>\n",
       "      <td>1</td>\n",
       "      <td>2</td>\n",
       "      <td>12</td>\n",
       "      <td>NY</td>\n",
       "      <td>36</td>\n",
       "      <td>2</td>\n",
       "      <td>2</td>\n",
       "      <td>2</td>\n",
       "      <td>201605</td>\n",
       "      <td>1</td>\n",
       "      <td>4</td>\n",
       "      <td>3</td>\n",
       "      <td>3</td>\n",
       "      <td>2</td>\n",
       "      <td>1</td>\n",
       "      <td>3</td>\n",
       "      <td>1</td>\n",
       "      <td>1</td>\n",
       "      <td>2</td>\n",
       "      <td>1</td>\n",
       "      <td>23</td>\n",
       "      <td>1</td>\n",
       "      <td>2</td>\n",
       "      <td>XXXXX</td>\n",
       "      <td>4</td>\n",
       "      <td>1</td>\n",
       "      <td>2</td>\n",
       "      <td>1148.809332</td>\n",
       "      <td>T</td>\n",
       "      <td>20</td>\n",
       "      <td>1500</td>\n",
       "      <td>300</td>\n",
       "      <td>750</td>\n",
       "      <td>30</td>\n",
       "      <td>750</td>\n",
       "      <td>300</td>\n",
       "    </tr>\n",
       "    <tr>\n",
       "      <th>15</th>\n",
       "      <td>30000130</td>\n",
       "      <td>1</td>\n",
       "      <td>1</td>\n",
       "      <td>1</td>\n",
       "      <td>2</td>\n",
       "      <td>1</td>\n",
       "      <td>5</td>\n",
       "      <td>-9</td>\n",
       "      <td>1</td>\n",
       "      <td>-9</td>\n",
       "      <td>-9</td>\n",
       "      <td>-9</td>\n",
       "      <td>-1</td>\n",
       "      <td>-9</td>\n",
       "      <td>1</td>\n",
       "      <td>1</td>\n",
       "      <td>-9</td>\n",
       "      <td>1</td>\n",
       "      <td>1</td>\n",
       "      <td>1</td>\n",
       "      <td>-9</td>\n",
       "      <td>1</td>\n",
       "      <td>1</td>\n",
       "      <td>2</td>\n",
       "      <td>4</td>\n",
       "      <td>NY</td>\n",
       "      <td>36</td>\n",
       "      <td>2</td>\n",
       "      <td>0</td>\n",
       "      <td>2</td>\n",
       "      <td>201605</td>\n",
       "      <td>1</td>\n",
       "      <td>2</td>\n",
       "      <td>1</td>\n",
       "      <td>5</td>\n",
       "      <td>1</td>\n",
       "      <td>1</td>\n",
       "      <td>5</td>\n",
       "      <td>1</td>\n",
       "      <td>1</td>\n",
       "      <td>2</td>\n",
       "      <td>1</td>\n",
       "      <td>21</td>\n",
       "      <td>1</td>\n",
       "      <td>2</td>\n",
       "      <td>35620</td>\n",
       "      <td>2</td>\n",
       "      <td>1</td>\n",
       "      <td>1</td>\n",
       "      <td>3829.959655</td>\n",
       "      <td>U</td>\n",
       "      <td>60</td>\n",
       "      <td>30000</td>\n",
       "      <td>17000</td>\n",
       "      <td>5000</td>\n",
       "      <td>70</td>\n",
       "      <td>30000</td>\n",
       "      <td>17000</td>\n",
       "    </tr>\n",
       "    <tr>\n",
       "      <th>39</th>\n",
       "      <td>30000380</td>\n",
       "      <td>2</td>\n",
       "      <td>3</td>\n",
       "      <td>2</td>\n",
       "      <td>3</td>\n",
       "      <td>1</td>\n",
       "      <td>3</td>\n",
       "      <td>1</td>\n",
       "      <td>1</td>\n",
       "      <td>2</td>\n",
       "      <td>-9</td>\n",
       "      <td>-9</td>\n",
       "      <td>1</td>\n",
       "      <td>4</td>\n",
       "      <td>4</td>\n",
       "      <td>-9</td>\n",
       "      <td>-9</td>\n",
       "      <td>1</td>\n",
       "      <td>-9</td>\n",
       "      <td>-9</td>\n",
       "      <td>-9</td>\n",
       "      <td>-9</td>\n",
       "      <td>1</td>\n",
       "      <td>2</td>\n",
       "      <td>18</td>\n",
       "      <td>NY</td>\n",
       "      <td>36</td>\n",
       "      <td>2</td>\n",
       "      <td>0</td>\n",
       "      <td>1</td>\n",
       "      <td>201610</td>\n",
       "      <td>1</td>\n",
       "      <td>6</td>\n",
       "      <td>3</td>\n",
       "      <td>1</td>\n",
       "      <td>2</td>\n",
       "      <td>1</td>\n",
       "      <td>1</td>\n",
       "      <td>1</td>\n",
       "      <td>1</td>\n",
       "      <td>2</td>\n",
       "      <td>1</td>\n",
       "      <td>23</td>\n",
       "      <td>1</td>\n",
       "      <td>2</td>\n",
       "      <td>XXXXX</td>\n",
       "      <td>3</td>\n",
       "      <td>1</td>\n",
       "      <td>2</td>\n",
       "      <td>370.744472</td>\n",
       "      <td>S</td>\n",
       "      <td>50</td>\n",
       "      <td>3000</td>\n",
       "      <td>1500</td>\n",
       "      <td>1500</td>\n",
       "      <td>50</td>\n",
       "      <td>3000</td>\n",
       "      <td>1500</td>\n",
       "    </tr>\n",
       "    <tr>\n",
       "      <th>44</th>\n",
       "      <td>30000434</td>\n",
       "      <td>7</td>\n",
       "      <td>3</td>\n",
       "      <td>1</td>\n",
       "      <td>2</td>\n",
       "      <td>2</td>\n",
       "      <td>8</td>\n",
       "      <td>1</td>\n",
       "      <td>1</td>\n",
       "      <td>3</td>\n",
       "      <td>1</td>\n",
       "      <td>2</td>\n",
       "      <td>1</td>\n",
       "      <td>5</td>\n",
       "      <td>5</td>\n",
       "      <td>4</td>\n",
       "      <td>5</td>\n",
       "      <td>-9</td>\n",
       "      <td>2</td>\n",
       "      <td>2</td>\n",
       "      <td>3</td>\n",
       "      <td>3</td>\n",
       "      <td>1</td>\n",
       "      <td>2</td>\n",
       "      <td>6</td>\n",
       "      <td>NY</td>\n",
       "      <td>36</td>\n",
       "      <td>2</td>\n",
       "      <td>0</td>\n",
       "      <td>2</td>\n",
       "      <td>201605</td>\n",
       "      <td>1</td>\n",
       "      <td>2</td>\n",
       "      <td>3</td>\n",
       "      <td>2</td>\n",
       "      <td>2</td>\n",
       "      <td>4</td>\n",
       "      <td>6</td>\n",
       "      <td>2</td>\n",
       "      <td>1</td>\n",
       "      <td>2</td>\n",
       "      <td>1</td>\n",
       "      <td>23</td>\n",
       "      <td>1</td>\n",
       "      <td>2</td>\n",
       "      <td>XXXXX</td>\n",
       "      <td>2</td>\n",
       "      <td>1</td>\n",
       "      <td>2</td>\n",
       "      <td>101.472420</td>\n",
       "      <td>R</td>\n",
       "      <td>30</td>\n",
       "      <td>1500</td>\n",
       "      <td>750</td>\n",
       "      <td>750</td>\n",
       "      <td>30</td>\n",
       "      <td>750</td>\n",
       "      <td>300</td>\n",
       "    </tr>\n",
       "    <tr>\n",
       "      <th>...</th>\n",
       "      <td>...</td>\n",
       "      <td>...</td>\n",
       "      <td>...</td>\n",
       "      <td>...</td>\n",
       "      <td>...</td>\n",
       "      <td>...</td>\n",
       "      <td>...</td>\n",
       "      <td>...</td>\n",
       "      <td>...</td>\n",
       "      <td>...</td>\n",
       "      <td>...</td>\n",
       "      <td>...</td>\n",
       "      <td>...</td>\n",
       "      <td>...</td>\n",
       "      <td>...</td>\n",
       "      <td>...</td>\n",
       "      <td>...</td>\n",
       "      <td>...</td>\n",
       "      <td>...</td>\n",
       "      <td>...</td>\n",
       "      <td>...</td>\n",
       "      <td>...</td>\n",
       "      <td>...</td>\n",
       "      <td>...</td>\n",
       "      <td>...</td>\n",
       "      <td>...</td>\n",
       "      <td>...</td>\n",
       "      <td>...</td>\n",
       "      <td>...</td>\n",
       "      <td>...</td>\n",
       "      <td>...</td>\n",
       "      <td>...</td>\n",
       "      <td>...</td>\n",
       "      <td>...</td>\n",
       "      <td>...</td>\n",
       "      <td>...</td>\n",
       "      <td>...</td>\n",
       "      <td>...</td>\n",
       "      <td>...</td>\n",
       "      <td>...</td>\n",
       "      <td>...</td>\n",
       "      <td>...</td>\n",
       "      <td>...</td>\n",
       "      <td>...</td>\n",
       "      <td>...</td>\n",
       "      <td>...</td>\n",
       "      <td>...</td>\n",
       "      <td>...</td>\n",
       "      <td>...</td>\n",
       "      <td>...</td>\n",
       "      <td>...</td>\n",
       "      <td>...</td>\n",
       "      <td>...</td>\n",
       "      <td>...</td>\n",
       "      <td>...</td>\n",
       "      <td>...</td>\n",
       "      <td>...</td>\n",
       "      <td>...</td>\n",
       "    </tr>\n",
       "    <tr>\n",
       "      <th>129645</th>\n",
       "      <td>40793685</td>\n",
       "      <td>1</td>\n",
       "      <td>3</td>\n",
       "      <td>1</td>\n",
       "      <td>2</td>\n",
       "      <td>1</td>\n",
       "      <td>5</td>\n",
       "      <td>2</td>\n",
       "      <td>1</td>\n",
       "      <td>1</td>\n",
       "      <td>-9</td>\n",
       "      <td>-9</td>\n",
       "      <td>1</td>\n",
       "      <td>-9</td>\n",
       "      <td>-9</td>\n",
       "      <td>-9</td>\n",
       "      <td>-9</td>\n",
       "      <td>4</td>\n",
       "      <td>4</td>\n",
       "      <td>4</td>\n",
       "      <td>4</td>\n",
       "      <td>4</td>\n",
       "      <td>1</td>\n",
       "      <td>2</td>\n",
       "      <td>5</td>\n",
       "      <td>NY</td>\n",
       "      <td>36</td>\n",
       "      <td>2</td>\n",
       "      <td>0</td>\n",
       "      <td>0</td>\n",
       "      <td>201703</td>\n",
       "      <td>1</td>\n",
       "      <td>10</td>\n",
       "      <td>3</td>\n",
       "      <td>2</td>\n",
       "      <td>2</td>\n",
       "      <td>1</td>\n",
       "      <td>1</td>\n",
       "      <td>1</td>\n",
       "      <td>1</td>\n",
       "      <td>2</td>\n",
       "      <td>1</td>\n",
       "      <td>23</td>\n",
       "      <td>1</td>\n",
       "      <td>2</td>\n",
       "      <td>XXXXX</td>\n",
       "      <td>2</td>\n",
       "      <td>1</td>\n",
       "      <td>2</td>\n",
       "      <td>84.081993</td>\n",
       "      <td>T</td>\n",
       "      <td>40</td>\n",
       "      <td>1500</td>\n",
       "      <td>750</td>\n",
       "      <td>750</td>\n",
       "      <td>30</td>\n",
       "      <td>1500</td>\n",
       "      <td>750</td>\n",
       "    </tr>\n",
       "    <tr>\n",
       "      <th>129651</th>\n",
       "      <td>40793808</td>\n",
       "      <td>7</td>\n",
       "      <td>3</td>\n",
       "      <td>1</td>\n",
       "      <td>3</td>\n",
       "      <td>3</td>\n",
       "      <td>7</td>\n",
       "      <td>1</td>\n",
       "      <td>1</td>\n",
       "      <td>3</td>\n",
       "      <td>1</td>\n",
       "      <td>4</td>\n",
       "      <td>1</td>\n",
       "      <td>5</td>\n",
       "      <td>4</td>\n",
       "      <td>5</td>\n",
       "      <td>5</td>\n",
       "      <td>3</td>\n",
       "      <td>3</td>\n",
       "      <td>3</td>\n",
       "      <td>3</td>\n",
       "      <td>3</td>\n",
       "      <td>1</td>\n",
       "      <td>2</td>\n",
       "      <td>16</td>\n",
       "      <td>NY</td>\n",
       "      <td>36</td>\n",
       "      <td>2</td>\n",
       "      <td>0</td>\n",
       "      <td>2</td>\n",
       "      <td>201612</td>\n",
       "      <td>2</td>\n",
       "      <td>8</td>\n",
       "      <td>3</td>\n",
       "      <td>1</td>\n",
       "      <td>2</td>\n",
       "      <td>1</td>\n",
       "      <td>1</td>\n",
       "      <td>1</td>\n",
       "      <td>1</td>\n",
       "      <td>2</td>\n",
       "      <td>1</td>\n",
       "      <td>23</td>\n",
       "      <td>1</td>\n",
       "      <td>2</td>\n",
       "      <td>XXXXX</td>\n",
       "      <td>3</td>\n",
       "      <td>1</td>\n",
       "      <td>2</td>\n",
       "      <td>141.856476</td>\n",
       "      <td>C</td>\n",
       "      <td>50</td>\n",
       "      <td>7000</td>\n",
       "      <td>3000</td>\n",
       "      <td>3000</td>\n",
       "      <td>50</td>\n",
       "      <td>3000</td>\n",
       "      <td>3000</td>\n",
       "    </tr>\n",
       "    <tr>\n",
       "      <th>129662</th>\n",
       "      <td>40793974</td>\n",
       "      <td>3</td>\n",
       "      <td>3</td>\n",
       "      <td>2</td>\n",
       "      <td>1</td>\n",
       "      <td>1</td>\n",
       "      <td>3</td>\n",
       "      <td>1</td>\n",
       "      <td>5</td>\n",
       "      <td>5</td>\n",
       "      <td>2</td>\n",
       "      <td>5</td>\n",
       "      <td>1</td>\n",
       "      <td>5</td>\n",
       "      <td>5</td>\n",
       "      <td>5</td>\n",
       "      <td>5</td>\n",
       "      <td>1</td>\n",
       "      <td>2</td>\n",
       "      <td>3</td>\n",
       "      <td>3</td>\n",
       "      <td>3</td>\n",
       "      <td>2</td>\n",
       "      <td>1</td>\n",
       "      <td>7</td>\n",
       "      <td>NY</td>\n",
       "      <td>36</td>\n",
       "      <td>1</td>\n",
       "      <td>0</td>\n",
       "      <td>0</td>\n",
       "      <td>201701</td>\n",
       "      <td>1</td>\n",
       "      <td>9</td>\n",
       "      <td>3</td>\n",
       "      <td>1</td>\n",
       "      <td>2</td>\n",
       "      <td>1</td>\n",
       "      <td>1</td>\n",
       "      <td>1</td>\n",
       "      <td>1</td>\n",
       "      <td>2</td>\n",
       "      <td>1</td>\n",
       "      <td>23</td>\n",
       "      <td>1</td>\n",
       "      <td>2</td>\n",
       "      <td>XXXXX</td>\n",
       "      <td>1</td>\n",
       "      <td>1</td>\n",
       "      <td>2</td>\n",
       "      <td>15.543410</td>\n",
       "      <td>R</td>\n",
       "      <td>20</td>\n",
       "      <td>300</td>\n",
       "      <td>300</td>\n",
       "      <td>150</td>\n",
       "      <td>20</td>\n",
       "      <td>300</td>\n",
       "      <td>50</td>\n",
       "    </tr>\n",
       "    <tr>\n",
       "      <th>129668</th>\n",
       "      <td>40794020</td>\n",
       "      <td>3</td>\n",
       "      <td>4</td>\n",
       "      <td>1</td>\n",
       "      <td>2</td>\n",
       "      <td>4</td>\n",
       "      <td>8</td>\n",
       "      <td>1</td>\n",
       "      <td>5</td>\n",
       "      <td>5</td>\n",
       "      <td>4</td>\n",
       "      <td>5</td>\n",
       "      <td>1</td>\n",
       "      <td>5</td>\n",
       "      <td>4</td>\n",
       "      <td>5</td>\n",
       "      <td>5</td>\n",
       "      <td>2</td>\n",
       "      <td>2</td>\n",
       "      <td>5</td>\n",
       "      <td>5</td>\n",
       "      <td>5</td>\n",
       "      <td>1</td>\n",
       "      <td>2</td>\n",
       "      <td>11</td>\n",
       "      <td>NY</td>\n",
       "      <td>36</td>\n",
       "      <td>2</td>\n",
       "      <td>0</td>\n",
       "      <td>0</td>\n",
       "      <td>201702</td>\n",
       "      <td>1</td>\n",
       "      <td>10</td>\n",
       "      <td>4</td>\n",
       "      <td>6</td>\n",
       "      <td>2</td>\n",
       "      <td>4</td>\n",
       "      <td>6</td>\n",
       "      <td>2</td>\n",
       "      <td>1</td>\n",
       "      <td>2</td>\n",
       "      <td>1</td>\n",
       "      <td>24</td>\n",
       "      <td>1</td>\n",
       "      <td>2</td>\n",
       "      <td>XXXXX</td>\n",
       "      <td>2</td>\n",
       "      <td>1</td>\n",
       "      <td>2</td>\n",
       "      <td>72.789109</td>\n",
       "      <td>R</td>\n",
       "      <td>5</td>\n",
       "      <td>50</td>\n",
       "      <td>50</td>\n",
       "      <td>25</td>\n",
       "      <td>5</td>\n",
       "      <td>50</td>\n",
       "      <td>50</td>\n",
       "    </tr>\n",
       "    <tr>\n",
       "      <th>129689</th>\n",
       "      <td>40794249</td>\n",
       "      <td>2</td>\n",
       "      <td>3</td>\n",
       "      <td>2</td>\n",
       "      <td>1</td>\n",
       "      <td>0</td>\n",
       "      <td>2</td>\n",
       "      <td>5</td>\n",
       "      <td>5</td>\n",
       "      <td>5</td>\n",
       "      <td>4</td>\n",
       "      <td>5</td>\n",
       "      <td>3</td>\n",
       "      <td>5</td>\n",
       "      <td>5</td>\n",
       "      <td>5</td>\n",
       "      <td>5</td>\n",
       "      <td>3</td>\n",
       "      <td>3</td>\n",
       "      <td>3</td>\n",
       "      <td>5</td>\n",
       "      <td>5</td>\n",
       "      <td>2</td>\n",
       "      <td>1</td>\n",
       "      <td>2</td>\n",
       "      <td>NY</td>\n",
       "      <td>36</td>\n",
       "      <td>1</td>\n",
       "      <td>0</td>\n",
       "      <td>0</td>\n",
       "      <td>201702</td>\n",
       "      <td>1</td>\n",
       "      <td>9</td>\n",
       "      <td>3</td>\n",
       "      <td>2</td>\n",
       "      <td>2</td>\n",
       "      <td>2</td>\n",
       "      <td>6</td>\n",
       "      <td>1</td>\n",
       "      <td>1</td>\n",
       "      <td>2</td>\n",
       "      <td>1</td>\n",
       "      <td>23</td>\n",
       "      <td>1</td>\n",
       "      <td>2</td>\n",
       "      <td>XXXXX</td>\n",
       "      <td>1</td>\n",
       "      <td>5</td>\n",
       "      <td>2</td>\n",
       "      <td>55.958285</td>\n",
       "      <td>-9</td>\n",
       "      <td>-9</td>\n",
       "      <td>-9</td>\n",
       "      <td>-9</td>\n",
       "      <td>-9</td>\n",
       "      <td>-9</td>\n",
       "      <td>-9</td>\n",
       "      <td>-9</td>\n",
       "    </tr>\n",
       "  </tbody>\n",
       "</table>\n",
       "<p>17178 rows × 58 columns</p>\n",
       "</div>"
      ],
      "text/plain": [
       "         HOUSEID  TRAVDAY  SAMPSTRAT  HOMEOWN  HHSIZE  HHVEHCNT  HHFAMINC  PC  \\\n",
       "2       30000012        5          3        1       1         2        10   1   \n",
       "8       30000082        3          3        2       4         2         8   1   \n",
       "15      30000130        1          1        1       2         1         5  -9   \n",
       "39      30000380        2          3        2       3         1         3   1   \n",
       "44      30000434        7          3        1       2         2         8   1   \n",
       "...          ...      ...        ...      ...     ...       ...       ...  ..   \n",
       "129645  40793685        1          3        1       2         1         5   2   \n",
       "129651  40793808        7          3        1       3         3         7   1   \n",
       "129662  40793974        3          3        2       1         1         3   1   \n",
       "129668  40794020        3          4        1       2         4         8   1   \n",
       "129689  40794249        2          3        2       1         0         2   5   \n",
       "\n",
       "        SPHONE  TAB  WALK  BIKE  CAR  TAXI  BUS  TRAIN  PARA  PRICE  PLACE  \\\n",
       "2            1    3     2     5    1     5    4      4     5      2      1   \n",
       "8            1    5    -9     5    1     5    5      5     5      3      3   \n",
       "15           1   -9    -9    -9   -1    -9    1      1    -9      1      1   \n",
       "39           1    2    -9    -9    1     4    4     -9    -9      1     -9   \n",
       "44           1    3     1     2    1     5    5      4     5     -9      2   \n",
       "...        ...  ...   ...   ...  ...   ...  ...    ...   ...    ...    ...   \n",
       "129645       1    1    -9    -9    1    -9   -9     -9    -9      4      4   \n",
       "129651       1    3     1     4    1     5    4      5     5      3      3   \n",
       "129662       5    5     2     5    1     5    5      5     5      1      2   \n",
       "129668       5    5     4     5    1     5    4      5     5      2      2   \n",
       "129689       5    5     4     5    3     5    5      5     5      3      3   \n",
       "\n",
       "        WALK2SAVE  BIKE2SAVE  PTRANS  HHRELATD  DRVRCNT  CNTTDHH HHSTATE  \\\n",
       "2               2          3       5         2        1        9      NY   \n",
       "8               5          5       5         1        2       12      NY   \n",
       "15              1         -9       1         1        2        4      NY   \n",
       "39             -9         -9      -9         1        2       18      NY   \n",
       "44              2          3       3         1        2        6      NY   \n",
       "...           ...        ...     ...       ...      ...      ...     ...   \n",
       "129645          4          4       4         1        2        5      NY   \n",
       "129651          3          3       3         1        2       16      NY   \n",
       "129662          3          3       3         2        1        7      NY   \n",
       "129668          5          5       5         1        2       11      NY   \n",
       "129689          3          5       5         2        1        2      NY   \n",
       "\n",
       "        HHSTFIPS  NUMADLT  YOUNGCHILD  WRKCOUNT  TDAYDATE  HHRESP  LIF_CYC  \\\n",
       "2             36        1           0         1    201607       1        1   \n",
       "8             36        2           2         2    201605       1        4   \n",
       "15            36        2           0         2    201605       1        2   \n",
       "39            36        2           0         1    201610       1        6   \n",
       "44            36        2           0         2    201605       1        2   \n",
       "...          ...      ...         ...       ...       ...     ...      ...   \n",
       "129645        36        2           0         0    201703       1       10   \n",
       "129651        36        2           0         2    201612       2        8   \n",
       "129662        36        1           0         0    201701       1        9   \n",
       "129668        36        2           0         0    201702       1       10   \n",
       "129689        36        1           0         0    201702       1        9   \n",
       "\n",
       "        MSACAT  MSASIZE  RAIL  URBAN  URBANSIZE  URBRUR  SCRESP  CENSUS_D  \\\n",
       "2            3        3     2      1          3       1       1         2   \n",
       "8            3        3     2      1          3       1       1         2   \n",
       "15           1        5     1      1          5       1       1         2   \n",
       "39           3        1     2      1          1       1       1         2   \n",
       "44           3        2     2      4          6       2       1         2   \n",
       "...        ...      ...   ...    ...        ...     ...     ...       ...   \n",
       "129645       3        2     2      1          1       1       1         2   \n",
       "129651       3        1     2      1          1       1       1         2   \n",
       "129662       3        1     2      1          1       1       1         2   \n",
       "129668       4        6     2      4          6       2       1         2   \n",
       "129689       3        2     2      2          6       1       1         2   \n",
       "\n",
       "        CENSUS_R  CDIVMSAR  HH_RACE  HH_HISP HH_CBSA  RESP_CNT  WEBUSE17  \\\n",
       "2              1        23        1        2   XXXXX         1         1   \n",
       "8              1        23        1        2   XXXXX         4         1   \n",
       "15             1        21        1        2   35620         2         1   \n",
       "39             1        23        1        2   XXXXX         3         1   \n",
       "44             1        23        1        2   XXXXX         2         1   \n",
       "...          ...       ...      ...      ...     ...       ...       ...   \n",
       "129645         1        23        1        2   XXXXX         2         1   \n",
       "129651         1        23        1        2   XXXXX         3         1   \n",
       "129662         1        23        1        2   XXXXX         1         1   \n",
       "129668         1        24        1        2   XXXXX         2         1   \n",
       "129689         1        23        1        2   XXXXX         1         5   \n",
       "\n",
       "        SMPLSRCE      WTHHFIN HBHUR  HTHTNRNT  HTPPOPDN  HTRESDN  HTEEMPDN  \\\n",
       "2              2    79.419586     C        80     17000    17000      5000   \n",
       "8              2  1148.809332     T        20      1500      300       750   \n",
       "15             1  3829.959655     U        60     30000    17000      5000   \n",
       "39             2   370.744472     S        50      3000     1500      1500   \n",
       "44             2   101.472420     R        30      1500      750       750   \n",
       "...          ...          ...   ...       ...       ...      ...       ...   \n",
       "129645         2    84.081993     T        40      1500      750       750   \n",
       "129651         2   141.856476     C        50      7000     3000      3000   \n",
       "129662         2    15.543410     R        20       300      300       150   \n",
       "129668         2    72.789109     R         5        50       50        25   \n",
       "129689         2    55.958285    -9        -9        -9       -9        -9   \n",
       "\n",
       "        HBHTNRNT  HBPPOPDN  HBRESDN  \n",
       "2             60     17000     7000  \n",
       "8             30       750      300  \n",
       "15            70     30000    17000  \n",
       "39            50      3000     1500  \n",
       "44            30       750      300  \n",
       "...          ...       ...      ...  \n",
       "129645        30      1500      750  \n",
       "129651        50      3000     3000  \n",
       "129662        20       300       50  \n",
       "129668         5        50       50  \n",
       "129689        -9        -9       -9  \n",
       "\n",
       "[17178 rows x 58 columns]"
      ]
     },
     "execution_count": 3,
     "metadata": {},
     "output_type": "execute_result"
    }
   ],
   "source": [
    "# check back with the household data \n",
    "households = pd.read_csv('/Users/weijilim/Downloads/csv/hhpub.csv')\n",
    "NY_households = households[households['HHSTATE'] == 'NY']\n",
    "NY_households"
   ]
  },
  {
   "cell_type": "markdown",
   "metadata": {},
   "source": [
    "## Initial Dropping of Columns via Heuristics"
   ]
  },
  {
   "cell_type": "code",
   "execution_count": 4,
   "metadata": {},
   "outputs": [],
   "source": [
    "# first round of dropping: heuristics \n",
    "# this represents values that are too macro in nature that can be useful\n",
    "# columns dropped: 'CENSUS_D', 'CENSUS_R', 'HBHTNRNT', 'HBHUR', 'HBPPOPDN', 'HBRESDN', 'HHRESP', 'HHSTATE','HTEEMPDN','HTHTNRNT', 'HTPPOPDN', 'HTRESDN'\n",
    "cleaned_ny = NY_households.drop(columns=['CENSUS_D', 'CENSUS_R', 'HBHTNRNT', 'HBHUR', 'HBPPOPDN', 'HBRESDN', 'HHRESP', 'HHSTATE','HTEEMPDN','HTHTNRNT', 'HTPPOPDN', 'HTRESDN'])\n",
    "\n",
    "# second round of cleaning: survey methods, travel-related info\n",
    "# columns dropped: 'RESP_CNT','SAMPSTRAT','SCRESP','TDAYDATE','WTHHFIN','CAR'\n",
    "#'CAR' is removed as we are looking at car owners. This will cause data leakage\n",
    "cleaned_ny = cleaned_ny.drop(columns=['RESP_CNT','SAMPSTRAT','SCRESP','TDAYDATE','WTHHFIN','CAR'])\n"
   ]
  },
  {
   "cell_type": "markdown",
   "metadata": {},
   "source": [
    "## EDA, binning and final round of dropping\n",
    "Similar metrics will be looked into and checked further on their distribution. Binning will also be done. In addition, the features will also be checked if they have missing information. These features will then be dropped."
   ]
  },
  {
   "cell_type": "code",
   "execution_count": 5,
   "metadata": {},
   "outputs": [],
   "source": [
    "#define function \n",
    "import seaborn as sns\n",
    "def cat_col_prop(data, col):\n",
    "    print(pd.concat([data[col].value_counts(),\n",
    "          data[col].value_counts(normalize = True).mul(100)],axis = 1, keys = ('counts','percentage')))\n",
    "\n",
    "    sns.countplot(data[col], order =  data[col].value_counts().index)"
   ]
  },
  {
   "cell_type": "markdown",
   "metadata": {},
   "source": [
    "## Location-based Metrics: MSACAT, HH_CBSA, MSASIZE, CDIVMSAR"
   ]
  },
  {
   "cell_type": "code",
   "execution_count": 6,
   "metadata": {},
   "outputs": [
    {
     "name": "stdout",
     "output_type": "stream",
     "text": [
      "   counts  percentage\n",
      "3    7421   43.200605\n",
      "1    5142   29.933636\n",
      "4    2807   16.340668\n",
      "2    1808   10.525090\n"
     ]
    },
    {
     "name": "stderr",
     "output_type": "stream",
     "text": [
      "/opt/anaconda3/lib/python3.7/site-packages/seaborn/_decorators.py:43: FutureWarning: Pass the following variable as a keyword arg: x. From version 0.12, the only valid positional argument will be `data`, and passing other arguments without an explicit keyword will result in an error or misinterpretation.\n",
      "  FutureWarning\n"
     ]
    },
    {
     "data": {
      "image/png": "[encoded data removed]",
      "text/plain": [
       "<Figure size 432x288 with 1 Axes>"
      ]
     },
     "metadata": {
      "needs_background": "light"
     },
     "output_type": "display_data"
    }
   ],
   "source": [
    "cleaned_ny['MSACAT'].value_counts()\n",
    "\n",
    "cat_col_prop(cleaned_ny,'MSACAT')"
   ]
  },
  {
   "cell_type": "code",
   "execution_count": 7,
   "metadata": {},
   "outputs": [
    {
     "name": "stdout",
     "output_type": "stream",
     "text": [
      "       counts  percentage\n",
      "XXXXX   10228   59.541274\n",
      "35620    5142   29.933636\n",
      "40380     963    5.606008\n",
      "15380     845    4.919083\n"
     ]
    },
    {
     "name": "stderr",
     "output_type": "stream",
     "text": [
      "/opt/anaconda3/lib/python3.7/site-packages/seaborn/_decorators.py:43: FutureWarning: Pass the following variable as a keyword arg: x. From version 0.12, the only valid positional argument will be `data`, and passing other arguments without an explicit keyword will result in an error or misinterpretation.\n",
      "  FutureWarning\n"
     ]
    },
    {
     "data": {
      "image/png": "[encoded data removed]",
      "text/plain": [
       "<Figure size 432x288 with 1 Axes>"
      ]
     },
     "metadata": {
      "needs_background": "light"
     },
     "output_type": "display_data"
    }
   ],
   "source": [
    "cleaned_ny['HH_CBSA'].value_counts()\n",
    "\n",
    "cat_col_prop(cleaned_ny,'HH_CBSA')"
   ]
  },
  {
   "cell_type": "code",
   "execution_count": 8,
   "metadata": {},
   "outputs": [
    {
     "name": "stdout",
     "output_type": "stream",
     "text": [
      "   counts  percentage\n",
      "5    5142   29.933636\n",
      "1    4371   25.445337\n",
      "6    2807   16.340668\n",
      "3    2270   13.214577\n",
      "4    1808   10.525090\n",
      "2     780    4.540692\n"
     ]
    },
    {
     "name": "stderr",
     "output_type": "stream",
     "text": [
      "/opt/anaconda3/lib/python3.7/site-packages/seaborn/_decorators.py:43: FutureWarning: Pass the following variable as a keyword arg: x. From version 0.12, the only valid positional argument will be `data`, and passing other arguments without an explicit keyword will result in an error or misinterpretation.\n",
      "  FutureWarning\n"
     ]
    },
    {
     "data": {
      "image/png": "[encoded data removed]",
      "text/plain": [
       "<Figure size 432x288 with 1 Axes>"
      ]
     },
     "metadata": {
      "needs_background": "light"
     },
     "output_type": "display_data"
    }
   ],
   "source": [
    "cleaned_ny['MSASIZE'].value_counts()\n",
    "\n",
    "cat_col_prop(cleaned_ny,'MSASIZE')"
   ]
  },
  {
   "cell_type": "code",
   "execution_count": 9,
   "metadata": {},
   "outputs": [
    {
     "name": "stdout",
     "output_type": "stream",
     "text": [
      "    counts  percentage\n",
      "23    7418   43.183141\n",
      "21    5138   29.910350\n",
      "24    2806   16.334847\n",
      "22    1807   10.519269\n",
      "51       3    0.017464\n",
      "13       2    0.011643\n",
      "52       1    0.005821\n",
      "31       1    0.005821\n",
      "33       1    0.005821\n",
      "54       1    0.005821\n"
     ]
    },
    {
     "name": "stderr",
     "output_type": "stream",
     "text": [
      "/opt/anaconda3/lib/python3.7/site-packages/seaborn/_decorators.py:43: FutureWarning: Pass the following variable as a keyword arg: x. From version 0.12, the only valid positional argument will be `data`, and passing other arguments without an explicit keyword will result in an error or misinterpretation.\n",
      "  FutureWarning\n"
     ]
    },
    {
     "data": {
      "image/png": "[encoded data removed]",
      "text/plain": [
       "<Figure size 432x288 with 1 Axes>"
      ]
     },
     "metadata": {
      "needs_background": "light"
     },
     "output_type": "display_data"
    }
   ],
   "source": [
    "cleaned_ny['CDIVMSAR'].value_counts()\n",
    "\n",
    "cat_col_prop(cleaned_ny,'CDIVMSAR')"
   ]
  },
  {
   "cell_type": "markdown",
   "metadata": {},
   "source": [
    "HH_CBSA has more than 50% missing values and CDIVMSAR offers more granular information for location. Hence, CDVIMSAR will be selected."
   ]
  },
  {
   "cell_type": "code",
   "execution_count": 10,
   "metadata": {},
   "outputs": [],
   "source": [
    "cleaned_ny = cleaned_ny.drop(columns=['HH_CBSA','MSACAT','MSASIZE'])"
   ]
  },
  {
   "cell_type": "markdown",
   "metadata": {},
   "source": [
    "## Location-based Metrics: Internet Usage (SPHONE, TAB, WEBUSE17, PC)\n",
    "There are 4 metrics to look at internet usage. We will take a look and see which one to use in the end"
   ]
  },
  {
   "cell_type": "code",
   "execution_count": 11,
   "metadata": {},
   "outputs": [
    {
     "name": "stdout",
     "output_type": "stream",
     "text": [
      "    counts  percentage\n",
      " 1   10615   61.794155\n",
      " 5    4549   26.481546\n",
      " 2     855    4.977297\n",
      "-9     507    2.951450\n",
      " 3     422    2.456631\n",
      " 4     227    1.321458\n",
      "-8       2    0.011643\n",
      "-7       1    0.005821\n"
     ]
    },
    {
     "name": "stderr",
     "output_type": "stream",
     "text": [
      "/opt/anaconda3/lib/python3.7/site-packages/seaborn/_decorators.py:43: FutureWarning: Pass the following variable as a keyword arg: x. From version 0.12, the only valid positional argument will be `data`, and passing other arguments without an explicit keyword will result in an error or misinterpretation.\n",
      "  FutureWarning\n"
     ]
    },
    {
     "data": {
      "image/png": "[encoded data removed]",
      "text/plain": [
       "<Figure size 432x288 with 1 Axes>"
      ]
     },
     "metadata": {
      "needs_background": "light"
     },
     "output_type": "display_data"
    }
   ],
   "source": [
    "cleaned_ny['SPHONE'].value_counts()\n",
    "\n",
    "cat_col_prop(cleaned_ny,'SPHONE')"
   ]
  },
  {
   "cell_type": "code",
   "execution_count": 12,
   "metadata": {},
   "outputs": [
    {
     "name": "stdout",
     "output_type": "stream",
     "text": [
      "    counts  percentage\n",
      " 5    6661   38.776342\n",
      " 1    5398   31.423914\n",
      " 2    2130   12.399581\n",
      " 3    1460    8.499243\n",
      " 4     848    4.936547\n",
      "-9     680    3.958552\n",
      "-7       1    0.005821\n"
     ]
    },
    {
     "name": "stderr",
     "output_type": "stream",
     "text": [
      "/opt/anaconda3/lib/python3.7/site-packages/seaborn/_decorators.py:43: FutureWarning: Pass the following variable as a keyword arg: x. From version 0.12, the only valid positional argument will be `data`, and passing other arguments without an explicit keyword will result in an error or misinterpretation.\n",
      "  FutureWarning\n"
     ]
    },
    {
     "data": {
      "image/png": "[encoded data removed]",
      "text/plain": [
       "<Figure size 432x288 with 1 Axes>"
      ]
     },
     "metadata": {
      "needs_background": "light"
     },
     "output_type": "display_data"
    }
   ],
   "source": [
    "cleaned_ny['TAB'].value_counts()\n",
    "\n",
    "cat_col_prop(cleaned_ny,'TAB')"
   ]
  },
  {
   "cell_type": "code",
   "execution_count": 13,
   "metadata": {},
   "outputs": [
    {
     "name": "stdout",
     "output_type": "stream",
     "text": [
      "    counts  percentage\n",
      " 1   11987   69.781115\n",
      " 2    1884   10.967517\n",
      " 5    1844   10.734661\n",
      " 3     760    4.424264\n",
      " 4     381    2.217953\n",
      "-9     322    1.874491\n"
     ]
    },
    {
     "name": "stderr",
     "output_type": "stream",
     "text": [
      "/opt/anaconda3/lib/python3.7/site-packages/seaborn/_decorators.py:43: FutureWarning: Pass the following variable as a keyword arg: x. From version 0.12, the only valid positional argument will be `data`, and passing other arguments without an explicit keyword will result in an error or misinterpretation.\n",
      "  FutureWarning\n"
     ]
    },
    {
     "data": {
      "image/png": "[encoded data removed]",
      "text/plain": [
       "<Figure size 432x288 with 1 Axes>"
      ]
     },
     "metadata": {
      "needs_background": "light"
     },
     "output_type": "display_data"
    }
   ],
   "source": [
    "cleaned_ny['PC'].value_counts()\n",
    "\n",
    "cat_col_prop(cleaned_ny,'PC')"
   ]
  },
  {
   "cell_type": "code",
   "execution_count": 14,
   "metadata": {},
   "outputs": [
    {
     "name": "stdout",
     "output_type": "stream",
     "text": [
      "    counts  percentage\n",
      " 1   14645   85.254395\n",
      " 5    1175    6.840144\n",
      " 2     860    5.006404\n",
      " 3     265    1.542671\n",
      " 4     135    0.785889\n",
      "-9      98    0.570497\n"
     ]
    },
    {
     "name": "stderr",
     "output_type": "stream",
     "text": [
      "/opt/anaconda3/lib/python3.7/site-packages/seaborn/_decorators.py:43: FutureWarning: Pass the following variable as a keyword arg: x. From version 0.12, the only valid positional argument will be `data`, and passing other arguments without an explicit keyword will result in an error or misinterpretation.\n",
      "  FutureWarning\n"
     ]
    },
    {
     "data": {
      "image/png": "[encoded data removed]",
      "text/plain": [
       "<Figure size 432x288 with 1 Axes>"
      ]
     },
     "metadata": {
      "needs_background": "light"
     },
     "output_type": "display_data"
    }
   ],
   "source": [
    "cleaned_ny['WEBUSE17'].value_counts()\n",
    "\n",
    "cat_col_prop(cleaned_ny,'WEBUSE17')"
   ]
  },
  {
   "cell_type": "markdown",
   "metadata": {},
   "source": [
    "All these columns are essentially talking about how the household access the internet. Hence, the overall metric, WEBUSE17 will be used. In addition, the distribution is quite skewed. Hence a possible binning will be done."
   ]
  },
  {
   "cell_type": "code",
   "execution_count": 15,
   "metadata": {},
   "outputs": [
    {
     "name": "stdout",
     "output_type": "stream",
     "text": [
      "        counts  percentage\n",
      "Daily    14645   85.254395\n",
      "Rarely    1260    7.334963\n",
      "Never     1175    6.840144\n",
      "NA          98    0.570497\n"
     ]
    },
    {
     "name": "stderr",
     "output_type": "stream",
     "text": [
      "/opt/anaconda3/lib/python3.7/site-packages/seaborn/_decorators.py:43: FutureWarning: Pass the following variable as a keyword arg: x. From version 0.12, the only valid positional argument will be `data`, and passing other arguments without an explicit keyword will result in an error or misinterpretation.\n",
      "  FutureWarning\n"
     ]
    },
    {
     "data": {
      "image/png": "[encoded data removed]",
      "text/plain": [
       "<Figure size 432x288 with 1 Axes>"
      ]
     },
     "metadata": {
      "needs_background": "light"
     },
     "output_type": "display_data"
    }
   ],
   "source": [
    "cleaned_ny['WEBUSE17'] = cleaned_ny['WEBUSE17'].replace({1:\"Daily\",\n",
    "                                       2: \"Rarely\",\n",
    "                                      3: \"Rarely\",\n",
    "                                      4: \"Rarely\",\n",
    "                                      5: \"Never\",                   \n",
    "                                      -9: \"NA\",\n",
    "                                      })\n",
    "cat_col_prop(cleaned_ny,'WEBUSE17')"
   ]
  },
  {
   "cell_type": "code",
   "execution_count": 16,
   "metadata": {},
   "outputs": [],
   "source": [
    "cleaned_ny = cleaned_ny.drop(columns=['TAB','PC','SPHONE'])"
   ]
  },
  {
   "cell_type": "markdown",
   "metadata": {},
   "source": [
    "## Question-based Feature: PRICE, PLACE, BIKE2SAVE, WALK2SAVE\n",
    "\n",
    "These are questions that people answer that can possibly help shed some behaviour/decision choices for their household. Good to include"
   ]
  },
  {
   "cell_type": "code",
   "execution_count": 17,
   "metadata": {},
   "outputs": [
    {
     "name": "stdout",
     "output_type": "stream",
     "text": [
      "    counts  percentage\n",
      "3     5717   33.280941\n",
      "2     5147   29.962743\n",
      "4     3055   17.784375\n",
      "1     1881   10.950052\n",
      "5      973    5.664222\n",
      "NA     405    2.357667\n"
     ]
    },
    {
     "name": "stderr",
     "output_type": "stream",
     "text": [
      "/opt/anaconda3/lib/python3.7/site-packages/seaborn/_decorators.py:43: FutureWarning: Pass the following variable as a keyword arg: x. From version 0.12, the only valid positional argument will be `data`, and passing other arguments without an explicit keyword will result in an error or misinterpretation.\n",
      "  FutureWarning\n"
     ]
    },
    {
     "data": {
      "image/png": "[encoded data removed]",
      "text/plain": [
       "<Figure size 432x288 with 1 Axes>"
      ]
     },
     "metadata": {
      "needs_background": "light"
     },
     "output_type": "display_data"
    }
   ],
   "source": [
    "cleaned_ny['PLACE'].value_counts()\n",
    "\n",
    "#cat_col_prop(cleaned_ny,'PLACE')\n",
    "\n",
    "cleaned_ny['PLACE'] = cleaned_ny['PLACE'].replace({                   \n",
    "                                      -9: \"NA\"\n",
    "                                      })\n",
    "cat_col_prop(cleaned_ny,'PLACE')"
   ]
  },
  {
   "cell_type": "code",
   "execution_count": 18,
   "metadata": {},
   "outputs": [
    {
     "name": "stdout",
     "output_type": "stream",
     "text": [
      "    counts  percentage\n",
      "5     6064   35.300966\n",
      "4     4225   24.595413\n",
      "3     3483   20.275934\n",
      "2     1744   10.152521\n",
      "1     1034    6.019327\n",
      "NA     628    3.655839\n"
     ]
    },
    {
     "name": "stderr",
     "output_type": "stream",
     "text": [
      "/opt/anaconda3/lib/python3.7/site-packages/seaborn/_decorators.py:43: FutureWarning: Pass the following variable as a keyword arg: x. From version 0.12, the only valid positional argument will be `data`, and passing other arguments without an explicit keyword will result in an error or misinterpretation.\n",
      "  FutureWarning\n"
     ]
    },
    {
     "data": {
      "image/png": "[encoded data removed]",
      "text/plain": [
       "<Figure size 432x288 with 1 Axes>"
      ]
     },
     "metadata": {
      "needs_background": "light"
     },
     "output_type": "display_data"
    }
   ],
   "source": [
    "cleaned_ny['PTRANS'].value_counts()\n",
    "\n",
    "cleaned_ny['PTRANS'] = cleaned_ny['PTRANS'].replace({                   \n",
    "                                      -9: \"NA\",\n",
    "                                      -7: \"NA\"})\n",
    "cat_col_prop(cleaned_ny,'PTRANS')"
   ]
  },
  {
   "cell_type": "code",
   "execution_count": 19,
   "metadata": {},
   "outputs": [
    {
     "name": "stdout",
     "output_type": "stream",
     "text": [
      "    counts  percentage\n",
      "2     4733   27.552684\n",
      "3     3811   22.185353\n",
      "4     3518   20.479683\n",
      "1     2984   17.371056\n",
      "5     1954   11.375015\n",
      "NA     178    1.036209\n"
     ]
    },
    {
     "name": "stderr",
     "output_type": "stream",
     "text": [
      "/opt/anaconda3/lib/python3.7/site-packages/seaborn/_decorators.py:43: FutureWarning: Pass the following variable as a keyword arg: x. From version 0.12, the only valid positional argument will be `data`, and passing other arguments without an explicit keyword will result in an error or misinterpretation.\n",
      "  FutureWarning\n"
     ]
    },
    {
     "data": {
      "image/png": "[encoded data removed]",
      "text/plain": [
       "<Figure size 432x288 with 1 Axes>"
      ]
     },
     "metadata": {
      "needs_background": "light"
     },
     "output_type": "display_data"
    }
   ],
   "source": [
    "cleaned_ny['PRICE'].value_counts()\n",
    "\n",
    "#cat_col_prop(cleaned_ny,'PRICE')\n",
    "\n",
    "cleaned_ny['PRICE'] = cleaned_ny['PRICE'].replace({                   \n",
    "                                      -9: \"NA\"\n",
    "                                      })\n",
    "cat_col_prop(cleaned_ny,'PRICE')"
   ]
  },
  {
   "cell_type": "code",
   "execution_count": 20,
   "metadata": {},
   "outputs": [
    {
     "name": "stdout",
     "output_type": "stream",
     "text": [
      "    counts  percentage\n",
      "5     6935   40.371405\n",
      "4     4631   26.958901\n",
      "3     3564   20.747468\n",
      "2      864    5.029689\n",
      "NA     831    4.837583\n",
      "1      353    2.054954\n"
     ]
    },
    {
     "name": "stderr",
     "output_type": "stream",
     "text": [
      "/opt/anaconda3/lib/python3.7/site-packages/seaborn/_decorators.py:43: FutureWarning: Pass the following variable as a keyword arg: x. From version 0.12, the only valid positional argument will be `data`, and passing other arguments without an explicit keyword will result in an error or misinterpretation.\n",
      "  FutureWarning\n"
     ]
    },
    {
     "data": {
      "image/png": "[encoded data removed]",
      "text/plain": [
       "<Figure size 432x288 with 1 Axes>"
      ]
     },
     "metadata": {
      "needs_background": "light"
     },
     "output_type": "display_data"
    }
   ],
   "source": [
    "cleaned_ny['BIKE2SAVE'].value_counts()\n",
    "\n",
    "#cat_col_prop(cleaned_ny,'BIKE2SAVE')\n",
    "\n",
    "cleaned_ny['BIKE2SAVE'] = cleaned_ny['BIKE2SAVE'].replace({\n",
    "                                      -7: \"NA\",\n",
    "                                      -9: \"NA\"\n",
    "                                      })\n",
    "cat_col_prop(cleaned_ny,'BIKE2SAVE')"
   ]
  },
  {
   "cell_type": "code",
   "execution_count": 21,
   "metadata": {},
   "outputs": [
    {
     "name": "stdout",
     "output_type": "stream",
     "text": [
      "    counts  percentage\n",
      "4     5163   30.055885\n",
      "5     4535   26.400047\n",
      "3     3477   20.241006\n",
      "2     2398   13.959716\n",
      "1     1014    5.902899\n",
      "NA     591    3.440447\n"
     ]
    },
    {
     "name": "stderr",
     "output_type": "stream",
     "text": [
      "/opt/anaconda3/lib/python3.7/site-packages/seaborn/_decorators.py:43: FutureWarning: Pass the following variable as a keyword arg: x. From version 0.12, the only valid positional argument will be `data`, and passing other arguments without an explicit keyword will result in an error or misinterpretation.\n",
      "  FutureWarning\n"
     ]
    },
    {
     "data": {
      "image/png": "[encoded data removed]",
      "text/plain": [
       "<Figure size 432x288 with 1 Axes>"
      ]
     },
     "metadata": {
      "needs_background": "light"
     },
     "output_type": "display_data"
    }
   ],
   "source": [
    "cleaned_ny['WALK2SAVE'].value_counts()\n",
    "\n",
    "#cat_col_prop(cleaned_ny,'WALK2SAVE')\n",
    "\n",
    "cleaned_ny['WALK2SAVE'] = cleaned_ny['WALK2SAVE'].replace({\n",
    "                                      -7: \"NA\",\n",
    "                                      -9: \"NA\"\n",
    "                                      })\n",
    "cat_col_prop(cleaned_ny,'WALK2SAVE')"
   ]
  },
  {
   "cell_type": "markdown",
   "metadata": {},
   "source": [
    "These metrics will be used, wth the negative values being replaced as NA."
   ]
  },
  {
   "cell_type": "markdown",
   "metadata": {},
   "source": [
    "## Measure of Urbanness: URBAN, URBANSIZE, URBAN\n",
    "these features measure the urbanness of the households. "
   ]
  },
  {
   "cell_type": "code",
   "execution_count": 22,
   "metadata": {},
   "outputs": [
    {
     "name": "stdout",
     "output_type": "stream",
     "text": [
      "   counts  percentage\n",
      "1    9982   58.109209\n",
      "4    5357   31.185237\n",
      "2    1836   10.688089\n",
      "3       3    0.017464\n"
     ]
    },
    {
     "name": "stderr",
     "output_type": "stream",
     "text": [
      "/opt/anaconda3/lib/python3.7/site-packages/seaborn/_decorators.py:43: FutureWarning: Pass the following variable as a keyword arg: x. From version 0.12, the only valid positional argument will be `data`, and passing other arguments without an explicit keyword will result in an error or misinterpretation.\n",
      "  FutureWarning\n"
     ]
    },
    {
     "data": {
      "image/png": "[encoded data removed]",
      "text/plain": [
       "<Figure size 432x288 with 1 Axes>"
      ]
     },
     "metadata": {
      "needs_background": "light"
     },
     "output_type": "display_data"
    }
   ],
   "source": [
    "cleaned_ny['URBAN'].value_counts()\n",
    "\n",
    "cat_col_prop(cleaned_ny,'URBAN')"
   ]
  },
  {
   "cell_type": "code",
   "execution_count": 23,
   "metadata": {},
   "outputs": [
    {
     "name": "stdout",
     "output_type": "stream",
     "text": [
      "   counts  percentage\n",
      "1   11818   68.797299\n",
      "2    5360   31.202701\n"
     ]
    },
    {
     "name": "stderr",
     "output_type": "stream",
     "text": [
      "/opt/anaconda3/lib/python3.7/site-packages/seaborn/_decorators.py:43: FutureWarning: Pass the following variable as a keyword arg: x. From version 0.12, the only valid positional argument will be `data`, and passing other arguments without an explicit keyword will result in an error or misinterpretation.\n",
      "  FutureWarning\n"
     ]
    },
    {
     "data": {
      "image/png": "[encoded data removed]",
      "text/plain": [
       "<Figure size 432x288 with 1 Axes>"
      ]
     },
     "metadata": {
      "needs_background": "light"
     },
     "output_type": "display_data"
    }
   ],
   "source": [
    "cleaned_ny['URBRUR'].value_counts()\n",
    "\n",
    "cat_col_prop(cleaned_ny,'URBRUR')"
   ]
  },
  {
   "cell_type": "code",
   "execution_count": 24,
   "metadata": {},
   "outputs": [
    {
     "name": "stdout",
     "output_type": "stream",
     "text": [
      "   counts  percentage\n",
      "6    7196   41.890791\n",
      "5    3486   20.293399\n",
      "1    2795   16.270812\n",
      "3    2002   11.654442\n",
      "2    1699    9.890558\n"
     ]
    },
    {
     "name": "stderr",
     "output_type": "stream",
     "text": [
      "/opt/anaconda3/lib/python3.7/site-packages/seaborn/_decorators.py:43: FutureWarning: Pass the following variable as a keyword arg: x. From version 0.12, the only valid positional argument will be `data`, and passing other arguments without an explicit keyword will result in an error or misinterpretation.\n",
      "  FutureWarning\n"
     ]
    },
    {
     "data": {
      "image/png": "[encoded data removed]",
      "text/plain": [
       "<Figure size 432x288 with 1 Axes>"
      ]
     },
     "metadata": {
      "needs_background": "light"
     },
     "output_type": "display_data"
    }
   ],
   "source": [
    "cleaned_ny['URBANSIZE'].value_counts()\n",
    "\n",
    "cat_col_prop(cleaned_ny,'URBANSIZE')"
   ]
  },
  {
   "cell_type": "markdown",
   "metadata": {},
   "source": [
    "Based on the distribution, URBAN has more granular categorical information regarding where the household is based at. Although URBANSIZE might have more feature defintions, it is referring to the size, which makes it hard to ascertain. However, both features are talking about different areas. Hence, we will keep both at the moment. On the other hand, URBRUR will be dropped first."
   ]
  },
  {
   "cell_type": "code",
   "execution_count": 25,
   "metadata": {},
   "outputs": [],
   "source": [
    "cleaned_ny = cleaned_ny.drop(columns=['URBRUR'])"
   ]
  },
  {
   "cell_type": "code",
   "execution_count": 26,
   "metadata": {},
   "outputs": [
    {
     "name": "stdout",
     "output_type": "stream",
     "text": [
      "Pearson Corelation of:  0.6974092332818764 between URBAN and URBANSIZE. May remove one if too many variables\n"
     ]
    }
   ],
   "source": [
    "corr,_ = pearsonr(cleaned_ny['URBAN'],cleaned_ny['URBANSIZE'])\n",
    "print(\"Pearson Corelation of: \",str(corr), \"between URBAN and URBANSIZE. May remove one if too many variables\")\n",
    "\n"
   ]
  },
  {
   "cell_type": "code",
   "execution_count": 27,
   "metadata": {},
   "outputs": [
    {
     "data": {
      "text/html": [
       "<div>\n",
       "<style scoped>\n",
       "    .dataframe tbody tr th:only-of-type {\n",
       "        vertical-align: middle;\n",
       "    }\n",
       "\n",
       "    .dataframe tbody tr th {\n",
       "        vertical-align: top;\n",
       "    }\n",
       "\n",
       "    .dataframe thead th {\n",
       "        text-align: right;\n",
       "    }\n",
       "</style>\n",
       "<table border=\"1\" class=\"dataframe\">\n",
       "  <thead>\n",
       "    <tr style=\"text-align: right;\">\n",
       "      <th></th>\n",
       "      <th>HOUSEID</th>\n",
       "      <th>TRAVDAY</th>\n",
       "      <th>HOMEOWN</th>\n",
       "      <th>HHSIZE</th>\n",
       "      <th>HHVEHCNT</th>\n",
       "      <th>HHFAMINC</th>\n",
       "      <th>WALK</th>\n",
       "      <th>BIKE</th>\n",
       "      <th>TAXI</th>\n",
       "      <th>BUS</th>\n",
       "      <th>TRAIN</th>\n",
       "      <th>PARA</th>\n",
       "      <th>PRICE</th>\n",
       "      <th>PLACE</th>\n",
       "      <th>WALK2SAVE</th>\n",
       "      <th>BIKE2SAVE</th>\n",
       "      <th>PTRANS</th>\n",
       "      <th>HHRELATD</th>\n",
       "      <th>DRVRCNT</th>\n",
       "      <th>CNTTDHH</th>\n",
       "      <th>HHSTFIPS</th>\n",
       "      <th>NUMADLT</th>\n",
       "      <th>YOUNGCHILD</th>\n",
       "      <th>WRKCOUNT</th>\n",
       "      <th>LIF_CYC</th>\n",
       "      <th>RAIL</th>\n",
       "      <th>URBAN</th>\n",
       "      <th>URBANSIZE</th>\n",
       "      <th>CDIVMSAR</th>\n",
       "      <th>HH_RACE</th>\n",
       "      <th>HH_HISP</th>\n",
       "      <th>WEBUSE17</th>\n",
       "      <th>SMPLSRCE</th>\n",
       "    </tr>\n",
       "  </thead>\n",
       "  <tbody>\n",
       "    <tr>\n",
       "      <th>2</th>\n",
       "      <td>30000012</td>\n",
       "      <td>5</td>\n",
       "      <td>1</td>\n",
       "      <td>1</td>\n",
       "      <td>2</td>\n",
       "      <td>10</td>\n",
       "      <td>2</td>\n",
       "      <td>5</td>\n",
       "      <td>5</td>\n",
       "      <td>4</td>\n",
       "      <td>4</td>\n",
       "      <td>5</td>\n",
       "      <td>2</td>\n",
       "      <td>1</td>\n",
       "      <td>2</td>\n",
       "      <td>3</td>\n",
       "      <td>5</td>\n",
       "      <td>2</td>\n",
       "      <td>1</td>\n",
       "      <td>9</td>\n",
       "      <td>36</td>\n",
       "      <td>1</td>\n",
       "      <td>0</td>\n",
       "      <td>1</td>\n",
       "      <td>1</td>\n",
       "      <td>2</td>\n",
       "      <td>1</td>\n",
       "      <td>3</td>\n",
       "      <td>23</td>\n",
       "      <td>1</td>\n",
       "      <td>2</td>\n",
       "      <td>Daily</td>\n",
       "      <td>2</td>\n",
       "    </tr>\n",
       "    <tr>\n",
       "      <th>8</th>\n",
       "      <td>30000082</td>\n",
       "      <td>3</td>\n",
       "      <td>2</td>\n",
       "      <td>4</td>\n",
       "      <td>2</td>\n",
       "      <td>8</td>\n",
       "      <td>-9</td>\n",
       "      <td>5</td>\n",
       "      <td>5</td>\n",
       "      <td>5</td>\n",
       "      <td>5</td>\n",
       "      <td>5</td>\n",
       "      <td>3</td>\n",
       "      <td>3</td>\n",
       "      <td>5</td>\n",
       "      <td>5</td>\n",
       "      <td>5</td>\n",
       "      <td>1</td>\n",
       "      <td>2</td>\n",
       "      <td>12</td>\n",
       "      <td>36</td>\n",
       "      <td>2</td>\n",
       "      <td>2</td>\n",
       "      <td>2</td>\n",
       "      <td>4</td>\n",
       "      <td>2</td>\n",
       "      <td>1</td>\n",
       "      <td>3</td>\n",
       "      <td>23</td>\n",
       "      <td>1</td>\n",
       "      <td>2</td>\n",
       "      <td>Daily</td>\n",
       "      <td>2</td>\n",
       "    </tr>\n",
       "    <tr>\n",
       "      <th>15</th>\n",
       "      <td>30000130</td>\n",
       "      <td>1</td>\n",
       "      <td>1</td>\n",
       "      <td>2</td>\n",
       "      <td>1</td>\n",
       "      <td>5</td>\n",
       "      <td>-9</td>\n",
       "      <td>-9</td>\n",
       "      <td>-9</td>\n",
       "      <td>1</td>\n",
       "      <td>1</td>\n",
       "      <td>-9</td>\n",
       "      <td>1</td>\n",
       "      <td>1</td>\n",
       "      <td>1</td>\n",
       "      <td>NA</td>\n",
       "      <td>1</td>\n",
       "      <td>1</td>\n",
       "      <td>2</td>\n",
       "      <td>4</td>\n",
       "      <td>36</td>\n",
       "      <td>2</td>\n",
       "      <td>0</td>\n",
       "      <td>2</td>\n",
       "      <td>2</td>\n",
       "      <td>1</td>\n",
       "      <td>1</td>\n",
       "      <td>5</td>\n",
       "      <td>21</td>\n",
       "      <td>1</td>\n",
       "      <td>2</td>\n",
       "      <td>Daily</td>\n",
       "      <td>1</td>\n",
       "    </tr>\n",
       "    <tr>\n",
       "      <th>39</th>\n",
       "      <td>30000380</td>\n",
       "      <td>2</td>\n",
       "      <td>2</td>\n",
       "      <td>3</td>\n",
       "      <td>1</td>\n",
       "      <td>3</td>\n",
       "      <td>-9</td>\n",
       "      <td>-9</td>\n",
       "      <td>4</td>\n",
       "      <td>4</td>\n",
       "      <td>-9</td>\n",
       "      <td>-9</td>\n",
       "      <td>1</td>\n",
       "      <td>NA</td>\n",
       "      <td>NA</td>\n",
       "      <td>NA</td>\n",
       "      <td>NA</td>\n",
       "      <td>1</td>\n",
       "      <td>2</td>\n",
       "      <td>18</td>\n",
       "      <td>36</td>\n",
       "      <td>2</td>\n",
       "      <td>0</td>\n",
       "      <td>1</td>\n",
       "      <td>6</td>\n",
       "      <td>2</td>\n",
       "      <td>1</td>\n",
       "      <td>1</td>\n",
       "      <td>23</td>\n",
       "      <td>1</td>\n",
       "      <td>2</td>\n",
       "      <td>Daily</td>\n",
       "      <td>2</td>\n",
       "    </tr>\n",
       "    <tr>\n",
       "      <th>44</th>\n",
       "      <td>30000434</td>\n",
       "      <td>7</td>\n",
       "      <td>1</td>\n",
       "      <td>2</td>\n",
       "      <td>2</td>\n",
       "      <td>8</td>\n",
       "      <td>1</td>\n",
       "      <td>2</td>\n",
       "      <td>5</td>\n",
       "      <td>5</td>\n",
       "      <td>4</td>\n",
       "      <td>5</td>\n",
       "      <td>NA</td>\n",
       "      <td>2</td>\n",
       "      <td>2</td>\n",
       "      <td>3</td>\n",
       "      <td>3</td>\n",
       "      <td>1</td>\n",
       "      <td>2</td>\n",
       "      <td>6</td>\n",
       "      <td>36</td>\n",
       "      <td>2</td>\n",
       "      <td>0</td>\n",
       "      <td>2</td>\n",
       "      <td>2</td>\n",
       "      <td>2</td>\n",
       "      <td>4</td>\n",
       "      <td>6</td>\n",
       "      <td>23</td>\n",
       "      <td>1</td>\n",
       "      <td>2</td>\n",
       "      <td>Daily</td>\n",
       "      <td>2</td>\n",
       "    </tr>\n",
       "    <tr>\n",
       "      <th>...</th>\n",
       "      <td>...</td>\n",
       "      <td>...</td>\n",
       "      <td>...</td>\n",
       "      <td>...</td>\n",
       "      <td>...</td>\n",
       "      <td>...</td>\n",
       "      <td>...</td>\n",
       "      <td>...</td>\n",
       "      <td>...</td>\n",
       "      <td>...</td>\n",
       "      <td>...</td>\n",
       "      <td>...</td>\n",
       "      <td>...</td>\n",
       "      <td>...</td>\n",
       "      <td>...</td>\n",
       "      <td>...</td>\n",
       "      <td>...</td>\n",
       "      <td>...</td>\n",
       "      <td>...</td>\n",
       "      <td>...</td>\n",
       "      <td>...</td>\n",
       "      <td>...</td>\n",
       "      <td>...</td>\n",
       "      <td>...</td>\n",
       "      <td>...</td>\n",
       "      <td>...</td>\n",
       "      <td>...</td>\n",
       "      <td>...</td>\n",
       "      <td>...</td>\n",
       "      <td>...</td>\n",
       "      <td>...</td>\n",
       "      <td>...</td>\n",
       "      <td>...</td>\n",
       "    </tr>\n",
       "    <tr>\n",
       "      <th>129645</th>\n",
       "      <td>40793685</td>\n",
       "      <td>1</td>\n",
       "      <td>1</td>\n",
       "      <td>2</td>\n",
       "      <td>1</td>\n",
       "      <td>5</td>\n",
       "      <td>-9</td>\n",
       "      <td>-9</td>\n",
       "      <td>-9</td>\n",
       "      <td>-9</td>\n",
       "      <td>-9</td>\n",
       "      <td>-9</td>\n",
       "      <td>4</td>\n",
       "      <td>4</td>\n",
       "      <td>4</td>\n",
       "      <td>4</td>\n",
       "      <td>4</td>\n",
       "      <td>1</td>\n",
       "      <td>2</td>\n",
       "      <td>5</td>\n",
       "      <td>36</td>\n",
       "      <td>2</td>\n",
       "      <td>0</td>\n",
       "      <td>0</td>\n",
       "      <td>10</td>\n",
       "      <td>2</td>\n",
       "      <td>1</td>\n",
       "      <td>1</td>\n",
       "      <td>23</td>\n",
       "      <td>1</td>\n",
       "      <td>2</td>\n",
       "      <td>Daily</td>\n",
       "      <td>2</td>\n",
       "    </tr>\n",
       "    <tr>\n",
       "      <th>129651</th>\n",
       "      <td>40793808</td>\n",
       "      <td>7</td>\n",
       "      <td>1</td>\n",
       "      <td>3</td>\n",
       "      <td>3</td>\n",
       "      <td>7</td>\n",
       "      <td>1</td>\n",
       "      <td>4</td>\n",
       "      <td>5</td>\n",
       "      <td>4</td>\n",
       "      <td>5</td>\n",
       "      <td>5</td>\n",
       "      <td>3</td>\n",
       "      <td>3</td>\n",
       "      <td>3</td>\n",
       "      <td>3</td>\n",
       "      <td>3</td>\n",
       "      <td>1</td>\n",
       "      <td>2</td>\n",
       "      <td>16</td>\n",
       "      <td>36</td>\n",
       "      <td>2</td>\n",
       "      <td>0</td>\n",
       "      <td>2</td>\n",
       "      <td>8</td>\n",
       "      <td>2</td>\n",
       "      <td>1</td>\n",
       "      <td>1</td>\n",
       "      <td>23</td>\n",
       "      <td>1</td>\n",
       "      <td>2</td>\n",
       "      <td>Daily</td>\n",
       "      <td>2</td>\n",
       "    </tr>\n",
       "    <tr>\n",
       "      <th>129662</th>\n",
       "      <td>40793974</td>\n",
       "      <td>3</td>\n",
       "      <td>2</td>\n",
       "      <td>1</td>\n",
       "      <td>1</td>\n",
       "      <td>3</td>\n",
       "      <td>2</td>\n",
       "      <td>5</td>\n",
       "      <td>5</td>\n",
       "      <td>5</td>\n",
       "      <td>5</td>\n",
       "      <td>5</td>\n",
       "      <td>1</td>\n",
       "      <td>2</td>\n",
       "      <td>3</td>\n",
       "      <td>3</td>\n",
       "      <td>3</td>\n",
       "      <td>2</td>\n",
       "      <td>1</td>\n",
       "      <td>7</td>\n",
       "      <td>36</td>\n",
       "      <td>1</td>\n",
       "      <td>0</td>\n",
       "      <td>0</td>\n",
       "      <td>9</td>\n",
       "      <td>2</td>\n",
       "      <td>1</td>\n",
       "      <td>1</td>\n",
       "      <td>23</td>\n",
       "      <td>1</td>\n",
       "      <td>2</td>\n",
       "      <td>Daily</td>\n",
       "      <td>2</td>\n",
       "    </tr>\n",
       "    <tr>\n",
       "      <th>129668</th>\n",
       "      <td>40794020</td>\n",
       "      <td>3</td>\n",
       "      <td>1</td>\n",
       "      <td>2</td>\n",
       "      <td>4</td>\n",
       "      <td>8</td>\n",
       "      <td>4</td>\n",
       "      <td>5</td>\n",
       "      <td>5</td>\n",
       "      <td>4</td>\n",
       "      <td>5</td>\n",
       "      <td>5</td>\n",
       "      <td>2</td>\n",
       "      <td>2</td>\n",
       "      <td>5</td>\n",
       "      <td>5</td>\n",
       "      <td>5</td>\n",
       "      <td>1</td>\n",
       "      <td>2</td>\n",
       "      <td>11</td>\n",
       "      <td>36</td>\n",
       "      <td>2</td>\n",
       "      <td>0</td>\n",
       "      <td>0</td>\n",
       "      <td>10</td>\n",
       "      <td>2</td>\n",
       "      <td>4</td>\n",
       "      <td>6</td>\n",
       "      <td>24</td>\n",
       "      <td>1</td>\n",
       "      <td>2</td>\n",
       "      <td>Daily</td>\n",
       "      <td>2</td>\n",
       "    </tr>\n",
       "    <tr>\n",
       "      <th>129689</th>\n",
       "      <td>40794249</td>\n",
       "      <td>2</td>\n",
       "      <td>2</td>\n",
       "      <td>1</td>\n",
       "      <td>0</td>\n",
       "      <td>2</td>\n",
       "      <td>4</td>\n",
       "      <td>5</td>\n",
       "      <td>5</td>\n",
       "      <td>5</td>\n",
       "      <td>5</td>\n",
       "      <td>5</td>\n",
       "      <td>3</td>\n",
       "      <td>3</td>\n",
       "      <td>3</td>\n",
       "      <td>5</td>\n",
       "      <td>5</td>\n",
       "      <td>2</td>\n",
       "      <td>1</td>\n",
       "      <td>2</td>\n",
       "      <td>36</td>\n",
       "      <td>1</td>\n",
       "      <td>0</td>\n",
       "      <td>0</td>\n",
       "      <td>9</td>\n",
       "      <td>2</td>\n",
       "      <td>2</td>\n",
       "      <td>6</td>\n",
       "      <td>23</td>\n",
       "      <td>1</td>\n",
       "      <td>2</td>\n",
       "      <td>Never</td>\n",
       "      <td>2</td>\n",
       "    </tr>\n",
       "  </tbody>\n",
       "</table>\n",
       "<p>17178 rows × 33 columns</p>\n",
       "</div>"
      ],
      "text/plain": [
       "         HOUSEID  TRAVDAY  HOMEOWN  HHSIZE  HHVEHCNT  HHFAMINC  WALK  BIKE  \\\n",
       "2       30000012        5        1       1         2        10     2     5   \n",
       "8       30000082        3        2       4         2         8    -9     5   \n",
       "15      30000130        1        1       2         1         5    -9    -9   \n",
       "39      30000380        2        2       3         1         3    -9    -9   \n",
       "44      30000434        7        1       2         2         8     1     2   \n",
       "...          ...      ...      ...     ...       ...       ...   ...   ...   \n",
       "129645  40793685        1        1       2         1         5    -9    -9   \n",
       "129651  40793808        7        1       3         3         7     1     4   \n",
       "129662  40793974        3        2       1         1         3     2     5   \n",
       "129668  40794020        3        1       2         4         8     4     5   \n",
       "129689  40794249        2        2       1         0         2     4     5   \n",
       "\n",
       "        TAXI  BUS  TRAIN  PARA PRICE PLACE WALK2SAVE BIKE2SAVE PTRANS  \\\n",
       "2          5    4      4     5     2     1         2         3      5   \n",
       "8          5    5      5     5     3     3         5         5      5   \n",
       "15        -9    1      1    -9     1     1         1        NA      1   \n",
       "39         4    4     -9    -9     1    NA        NA        NA     NA   \n",
       "44         5    5      4     5    NA     2         2         3      3   \n",
       "...      ...  ...    ...   ...   ...   ...       ...       ...    ...   \n",
       "129645    -9   -9     -9    -9     4     4         4         4      4   \n",
       "129651     5    4      5     5     3     3         3         3      3   \n",
       "129662     5    5      5     5     1     2         3         3      3   \n",
       "129668     5    4      5     5     2     2         5         5      5   \n",
       "129689     5    5      5     5     3     3         3         5      5   \n",
       "\n",
       "        HHRELATD  DRVRCNT  CNTTDHH  HHSTFIPS  NUMADLT  YOUNGCHILD  WRKCOUNT  \\\n",
       "2              2        1        9        36        1           0         1   \n",
       "8              1        2       12        36        2           2         2   \n",
       "15             1        2        4        36        2           0         2   \n",
       "39             1        2       18        36        2           0         1   \n",
       "44             1        2        6        36        2           0         2   \n",
       "...          ...      ...      ...       ...      ...         ...       ...   \n",
       "129645         1        2        5        36        2           0         0   \n",
       "129651         1        2       16        36        2           0         2   \n",
       "129662         2        1        7        36        1           0         0   \n",
       "129668         1        2       11        36        2           0         0   \n",
       "129689         2        1        2        36        1           0         0   \n",
       "\n",
       "        LIF_CYC  RAIL  URBAN  URBANSIZE  CDIVMSAR  HH_RACE  HH_HISP WEBUSE17  \\\n",
       "2             1     2      1          3        23        1        2    Daily   \n",
       "8             4     2      1          3        23        1        2    Daily   \n",
       "15            2     1      1          5        21        1        2    Daily   \n",
       "39            6     2      1          1        23        1        2    Daily   \n",
       "44            2     2      4          6        23        1        2    Daily   \n",
       "...         ...   ...    ...        ...       ...      ...      ...      ...   \n",
       "129645       10     2      1          1        23        1        2    Daily   \n",
       "129651        8     2      1          1        23        1        2    Daily   \n",
       "129662        9     2      1          1        23        1        2    Daily   \n",
       "129668       10     2      4          6        24        1        2    Daily   \n",
       "129689        9     2      2          6        23        1        2    Never   \n",
       "\n",
       "        SMPLSRCE  \n",
       "2              2  \n",
       "8              2  \n",
       "15             1  \n",
       "39             2  \n",
       "44             2  \n",
       "...          ...  \n",
       "129645         2  \n",
       "129651         2  \n",
       "129662         2  \n",
       "129668         2  \n",
       "129689         2  \n",
       "\n",
       "[17178 rows x 33 columns]"
      ]
     },
     "execution_count": 27,
     "metadata": {},
     "output_type": "execute_result"
    }
   ],
   "source": [
    "# Intermediary check\n",
    "cleaned_ny"
   ]
  },
  {
   "cell_type": "markdown",
   "metadata": {},
   "source": [
    "## Household Indicators: NUMADLT, YOUNGCHILD, LIF_CYC, HOMEOWN, HH_HISP, HH_RACE, HH_FAMINC, DRVRCNT, WRKCOUNT\n",
    "\n",
    "We will look into the household indicators for the households."
   ]
  },
  {
   "cell_type": "code",
   "execution_count": 28,
   "metadata": {},
   "outputs": [
    {
     "name": "stdout",
     "output_type": "stream",
     "text": [
      "          counts  percentage\n",
      "1.000000   12090   70.380720\n",
      "0.500000    1831   10.658982\n",
      "0.000000    1072    6.240540\n",
      "0.666667    1020    5.937827\n",
      "0.333333     291    1.694027\n",
      "0.750000     269    1.565956\n",
      "0.400000     261    1.519385\n",
      "0.600000      95    0.553033\n",
      "0.250000      80    0.465712\n",
      "0.800000      60    0.349284\n",
      "0.200000      29    0.168821\n",
      "0.428571      14    0.081500\n",
      "0.285714      14    0.081500\n",
      "0.166667      11    0.064035\n",
      "0.833333       9    0.052393\n",
      "0.571429       7    0.040750\n",
      "0.375000       5    0.029107\n",
      "0.142857       5    0.029107\n",
      "0.714286       3    0.017464\n",
      "0.222222       3    0.017464\n",
      "0.300000       2    0.011643\n",
      "0.700000       1    0.005821\n",
      "0.111111       1    0.005821\n",
      "0.857143       1    0.005821\n",
      "0.125000       1    0.005821\n",
      "0.272727       1    0.005821\n",
      "0.555556       1    0.005821\n",
      "0.625000       1    0.005821\n"
     ]
    },
    {
     "name": "stderr",
     "output_type": "stream",
     "text": [
      "/opt/anaconda3/lib/python3.7/site-packages/seaborn/_decorators.py:43: FutureWarning: Pass the following variable as a keyword arg: x. From version 0.12, the only valid positional argument will be `data`, and passing other arguments without an explicit keyword will result in an error or misinterpretation.\n",
      "  FutureWarning\n"
     ]
    },
    {
     "data": {
      "image/png": "[encoded data removed]",
      "text/plain": [
       "<Figure size 432x288 with 1 Axes>"
      ]
     },
     "metadata": {
      "needs_background": "light"
     },
     "output_type": "display_data"
    }
   ],
   "source": [
    "# DRVRCNT - we will use HHSIZE throughout\n",
    "\n",
    "cleaned_ny['DRVRCNTPROP'] = cleaned_ny['DRVRCNT']/cleaned_ny['HHSIZE']\n",
    "cat_col_prop(cleaned_ny,'DRVRCNTPROP')"
   ]
  },
  {
   "cell_type": "code",
   "execution_count": 29,
   "metadata": {},
   "outputs": [
    {
     "name": "stdout",
     "output_type": "stream",
     "text": [
      "   counts  percentage\n",
      "2    8271   48.148795\n",
      "1    6272   36.511817\n",
      "3    1194    6.950751\n",
      "0    1072    6.240540\n",
      "4     317    1.845384\n",
      "5      44    0.256142\n",
      "6       7    0.040750\n",
      "7       1    0.005821\n"
     ]
    },
    {
     "name": "stderr",
     "output_type": "stream",
     "text": [
      "/opt/anaconda3/lib/python3.7/site-packages/seaborn/_decorators.py:43: FutureWarning: Pass the following variable as a keyword arg: x. From version 0.12, the only valid positional argument will be `data`, and passing other arguments without an explicit keyword will result in an error or misinterpretation.\n",
      "  FutureWarning\n"
     ]
    },
    {
     "data": {
      "image/png": "[encoded data removed]",
      "text/plain": [
       "<Figure size 432x288 with 1 Axes>"
      ]
     },
     "metadata": {
      "needs_background": "light"
     },
     "output_type": "display_data"
    }
   ],
   "source": [
    "cat_col_prop(cleaned_ny,'DRVRCNT')"
   ]
  },
  {
   "cell_type": "code",
   "execution_count": 30,
   "metadata": {},
   "outputs": [
    {
     "name": "stdout",
     "output_type": "stream",
     "text": [
      "Pearson Corelation of:  0.813055625030068 between DRVRCNT and NUMADLT. May remove one if too many variables\n"
     ]
    },
    {
     "data": {
      "text/plain": [
       "<matplotlib.axes._subplots.AxesSubplot at 0x7f96ddf5d9d0>"
      ]
     },
     "execution_count": 30,
     "metadata": {},
     "output_type": "execute_result"
    },
    {
     "data": {
      "image/png": "[encoded data removed]",
      "text/plain": [
       "<Figure size 432x288 with 1 Axes>"
      ]
     },
     "metadata": {
      "needs_background": "light"
     },
     "output_type": "display_data"
    }
   ],
   "source": [
    "#number of drivers in the household compare with Adults\n",
    "\n",
    "corr,_ = pearsonr(cleaned_ny['DRVRCNT'],cleaned_ny['NUMADLT'])\n",
    "print(\"Pearson Corelation of: \",str(corr), \"between DRVRCNT and NUMADLT. May remove one if too many variables\")\n",
    "\n",
    "sns.scatterplot(x = cleaned_ny['DRVRCNT'], y = cleaned_ny['NUMADLT'])"
   ]
  },
  {
   "cell_type": "code",
   "execution_count": 31,
   "metadata": {},
   "outputs": [
    {
     "name": "stdout",
     "output_type": "stream",
     "text": [
      "_______________________\n",
      "new value counts for DRVRCNT\n",
      "    counts  percentage\n",
      "2     8271   48.148795\n",
      "1     6272   36.511817\n",
      ">2    1563    9.098847\n",
      "0     1072    6.240540\n"
     ]
    },
    {
     "name": "stderr",
     "output_type": "stream",
     "text": [
      "/opt/anaconda3/lib/python3.7/site-packages/ipykernel_launcher.py:2: SettingWithCopyWarning: \n",
      "A value is trying to be set on a copy of a slice from a DataFrame\n",
      "\n",
      "See the caveats in the documentation: https://pandas.pydata.org/pandas-docs/stable/user_guide/indexing.html#returning-a-view-versus-a-copy\n",
      "  \n"
     ]
    }
   ],
   "source": [
    "\n",
    "\n",
    "# will bin those with >2 drivers together\n",
    "cleaned_ny['DRVRCNT'][cleaned_ny['DRVRCNT']>2] = \">2\"\n",
    "\n",
    "print(\"_______________________\")\n",
    "print(\"new value counts for DRVRCNT\")\n",
    "\n",
    "print(pd.concat([cleaned_ny['DRVRCNT'].value_counts(),\n",
    "          cleaned_ny['DRVRCNT'].value_counts(normalize = True).mul(100)],axis = 1, keys = ('counts','percentage'))\n",
    "     )"
   ]
  },
  {
   "cell_type": "code",
   "execution_count": 32,
   "metadata": {},
   "outputs": [
    {
     "name": "stdout",
     "output_type": "stream",
     "text": [
      "    counts  percentage\n",
      " 2   16507   96.093841\n",
      " 1     634    3.690767\n",
      "-7      37    0.215392\n",
      "     counts  percentage\n",
      " 1    15333   89.259518\n",
      " 2      672    3.911980\n",
      " 3      460    2.677844\n",
      " 6      340    1.979276\n",
      " 97     199    1.158458\n",
      "-7       88    0.512283\n",
      " 4       59    0.343463\n",
      " 5       14    0.081500\n",
      "-8       13    0.075678\n"
     ]
    },
    {
     "name": "stderr",
     "output_type": "stream",
     "text": [
      "/opt/anaconda3/lib/python3.7/site-packages/seaborn/_decorators.py:43: FutureWarning: Pass the following variable as a keyword arg: x. From version 0.12, the only valid positional argument will be `data`, and passing other arguments without an explicit keyword will result in an error or misinterpretation.\n",
      "  FutureWarning\n",
      "/opt/anaconda3/lib/python3.7/site-packages/seaborn/_decorators.py:43: FutureWarning: Pass the following variable as a keyword arg: x. From version 0.12, the only valid positional argument will be `data`, and passing other arguments without an explicit keyword will result in an error or misinterpretation.\n",
      "  FutureWarning\n"
     ]
    },
    {
     "data": {
      "image/png": "[encoded data removed]",
      "text/plain": [
       "<Figure size 432x288 with 1 Axes>"
      ]
     },
     "metadata": {
      "needs_background": "light"
     },
     "output_type": "display_data"
    }
   ],
   "source": [
    "# looking at race level \n",
    "cat_col_prop(cleaned_ny,'HH_HISP')\n",
    "cat_col_prop(cleaned_ny,'HH_RACE')"
   ]
  },
  {
   "cell_type": "markdown",
   "metadata": {},
   "source": [
    "From this we can see that almost all of the households are 1, which is yes and white respectively. This is super imbalanced and will be dropped."
   ]
  },
  {
   "cell_type": "code",
   "execution_count": 33,
   "metadata": {},
   "outputs": [],
   "source": [
    "cleaned_ny = cleaned_ny.drop(columns=['HH_HISP','HH_RACE'])"
   ]
  },
  {
   "cell_type": "code",
   "execution_count": 34,
   "metadata": {},
   "outputs": [
    {
     "name": "stdout",
     "output_type": "stream",
     "text": [
      "           counts  percentage\n",
      "HOME_OWN    13115   76.347654\n",
      "HOME_RENT    3933   22.895564\n",
      "NA            130    0.756782\n"
     ]
    },
    {
     "name": "stderr",
     "output_type": "stream",
     "text": [
      "/opt/anaconda3/lib/python3.7/site-packages/seaborn/_decorators.py:43: FutureWarning: Pass the following variable as a keyword arg: x. From version 0.12, the only valid positional argument will be `data`, and passing other arguments without an explicit keyword will result in an error or misinterpretation.\n",
      "  FutureWarning\n"
     ]
    },
    {
     "data": {
      "image/png": "[encoded data removed]",
      "text/plain": [
       "<Figure size 432x288 with 1 Axes>"
      ]
     },
     "metadata": {
      "needs_background": "light"
     },
     "output_type": "display_data"
    }
   ],
   "source": [
    "#cat_col_prop(cleaned_ny,'HOMEOWN') - replace negative values with NA\n",
    "\n",
    "cleaned_ny['HOMEOWN'] = cleaned_ny['HOMEOWN'].replace({1:\"HOME_OWN\",\n",
    "                                       2: \"HOME_RENT\",\n",
    "                                      97: \"NA\",\n",
    "                                      -7: \"NA\"})\n",
    "\n",
    "cat_col_prop(cleaned_ny,'HOMEOWN')"
   ]
  },
  {
   "cell_type": "code",
   "execution_count": 35,
   "metadata": {},
   "outputs": [
    {
     "name": "stdout",
     "output_type": "stream",
     "text": [
      "    counts  percentage\n",
      "6     2975   17.318663\n",
      "7     2260   13.156363\n",
      "5     1982   11.538014\n",
      "8     1712    9.966236\n",
      "4     1583    9.215275\n",
      "3     1475    8.586564\n",
      "9      981    5.710793\n",
      "11     967    5.629293\n",
      "10     911    5.303295\n",
      "2      859    5.000582\n",
      "1      827    4.814297\n",
      "NA     646    3.760624\n"
     ]
    },
    {
     "name": "stderr",
     "output_type": "stream",
     "text": [
      "/opt/anaconda3/lib/python3.7/site-packages/ipykernel_launcher.py:3: SettingWithCopyWarning: \n",
      "A value is trying to be set on a copy of a slice from a DataFrame\n",
      "\n",
      "See the caveats in the documentation: https://pandas.pydata.org/pandas-docs/stable/user_guide/indexing.html#returning-a-view-versus-a-copy\n",
      "  This is separate from the ipykernel package so we can avoid doing imports until\n",
      "/opt/anaconda3/lib/python3.7/site-packages/seaborn/_decorators.py:43: FutureWarning: Pass the following variable as a keyword arg: x. From version 0.12, the only valid positional argument will be `data`, and passing other arguments without an explicit keyword will result in an error or misinterpretation.\n",
      "  FutureWarning\n"
     ]
    },
    {
     "data": {
      "image/png": "[encoded data removed]",
      "text/plain": [
       "<Figure size 432x288 with 1 Axes>"
      ]
     },
     "metadata": {
      "needs_background": "light"
     },
     "output_type": "display_data"
    }
   ],
   "source": [
    "#cat_col_prop(cleaned_ny,'HHFAMINC')\n",
    "\n",
    "cleaned_ny['HHFAMINC'][cleaned_ny['HHFAMINC'].isin([-9,-8,-7])]  = \"NA\"\n",
    "\n",
    "cat_col_prop(cleaned_ny,'HHFAMINC')\n",
    "#sns.countplot(data = cleaned_ny, x= 'HHFAMINC', order = cleaned_ny['HHFAMINC'].value_counts().index)"
   ]
  },
  {
   "cell_type": "code",
   "execution_count": 36,
   "metadata": {},
   "outputs": [
    {
     "name": "stdout",
     "output_type": "stream",
     "text": [
      "   counts  percentage\n",
      "0    6280   36.558389\n",
      "1    5785   33.676796\n",
      "2    4354   25.346373\n",
      "3     602    3.504482\n",
      "4     143    0.832460\n",
      "5      12    0.069857\n",
      "6       1    0.005821\n",
      "7       1    0.005821\n",
      "      counts  percentage\n",
      "0       6280   36.558389\n",
      "1       5303   30.870881\n",
      ">0.5    4126   24.019094\n",
      "<0.5    1469    8.551636\n"
     ]
    },
    {
     "name": "stderr",
     "output_type": "stream",
     "text": [
      "/opt/anaconda3/lib/python3.7/site-packages/seaborn/_decorators.py:43: FutureWarning: Pass the following variable as a keyword arg: x. From version 0.12, the only valid positional argument will be `data`, and passing other arguments without an explicit keyword will result in an error or misinterpretation.\n",
      "  FutureWarning\n",
      "/opt/anaconda3/lib/python3.7/site-packages/ipykernel_launcher.py:12: FutureWarning: Boolean inputs to the `inclusive` argument are deprecated infavour of `both` or `neither`.\n",
      "  if sys.path[0] == '':\n",
      "/opt/anaconda3/lib/python3.7/site-packages/ipykernel_launcher.py:13: FutureWarning: Boolean inputs to the `inclusive` argument are deprecated infavour of `both` or `neither`.\n",
      "  del sys.path[0]\n"
     ]
    },
    {
     "data": {
      "image/png": "[encoded data removed]",
      "text/plain": [
       "<Figure size 432x288 with 1 Axes>"
      ]
     },
     "metadata": {
      "needs_background": "light"
     },
     "output_type": "display_data"
    }
   ],
   "source": [
    "#Proportion of workers in the household \n",
    "#0 makes up nearly 34% - meaning they are all retired?\n",
    "\n",
    "cat_col_prop(cleaned_ny,'WRKCOUNT')\n",
    "\n",
    "cleaned_ny['WRKCOUNT'] = cleaned_ny['WRKCOUNT']/cleaned_ny['HHSIZE']\n",
    "\n",
    "\n",
    "#Bin to groups\n",
    "cleaned_ny['WRKCOUNT_ratio'] = 'NA'\n",
    "cleaned_ny.loc[cleaned_ny['WRKCOUNT']==0,'WRKCOUNT_ratio']= '0'\n",
    "cleaned_ny.loc[cleaned_ny['WRKCOUNT'].between(0,0.5,inclusive = False),'WRKCOUNT_ratio'] = '<0.5'\n",
    "cleaned_ny.loc[cleaned_ny['WRKCOUNT'].between(0.5,1, inclusive = True),'WRKCOUNT_ratio'] = '>0.5'\n",
    "cleaned_ny.loc[cleaned_ny['WRKCOUNT']==1,'WRKCOUNT_ratio'] ='1'\n",
    " \n",
    "\n",
    "\n",
    "print(pd.concat([cleaned_ny['WRKCOUNT_ratio'].value_counts(),\n",
    "          cleaned_ny['WRKCOUNT_ratio'].value_counts(normalize = True).mul(100)],axis = 1, keys = ('counts','percentage'))\n",
    "     )\n",
    "\n"
   ]
  },
  {
   "cell_type": "code",
   "execution_count": 37,
   "metadata": {},
   "outputs": [
    {
     "name": "stdout",
     "output_type": "stream",
     "text": [
      "    counts  percentage\n",
      "2     9215   53.644196\n",
      "1     6152   35.813250\n",
      "3     1374    7.998603\n",
      "4      358    2.084061\n",
      "5       67    0.390034\n",
      "6        8    0.046571\n",
      "7        2    0.011643\n",
      "10       1    0.005821\n",
      "8        1    0.005821\n"
     ]
    },
    {
     "name": "stderr",
     "output_type": "stream",
     "text": [
      "/opt/anaconda3/lib/python3.7/site-packages/seaborn/_decorators.py:43: FutureWarning: Pass the following variable as a keyword arg: x. From version 0.12, the only valid positional argument will be `data`, and passing other arguments without an explicit keyword will result in an error or misinterpretation.\n",
      "  FutureWarning\n",
      "/opt/anaconda3/lib/python3.7/site-packages/ipykernel_launcher.py:11: FutureWarning: Boolean inputs to the `inclusive` argument are deprecated infavour of `both` or `neither`.\n",
      "  # This is added back by InteractiveShellApp.init_path()\n",
      "/opt/anaconda3/lib/python3.7/site-packages/ipykernel_launcher.py:12: FutureWarning: Boolean inputs to the `inclusive` argument are deprecated infavour of `both` or `neither`.\n",
      "  if sys.path[0] == '':\n"
     ]
    },
    {
     "data": {
      "image/png": "[encoded data removed]",
      "text/plain": [
       "<Figure size 432x288 with 1 Axes>"
      ]
     },
     "metadata": {
      "needs_background": "light"
     },
     "output_type": "display_data"
    }
   ],
   "source": [
    "#Proportion of adults in a family \n",
    "\n",
    "cat_col_prop(cleaned_ny,'NUMADLT')\n",
    "\n",
    "cleaned_ny['NUMADLT'] = cleaned_ny['NUMADLT']/cleaned_ny['HHSIZE']\n",
    "\n",
    "#Bin into groups\n",
    "cleaned_ny['NUMADLT_ratio'] = 'NA'\n",
    "\n",
    "cleaned_ny.loc[cleaned_ny['NUMADLT']==0,'NUMADLT_ratio']= '0'\n",
    "cleaned_ny.loc[cleaned_ny['NUMADLT'].between(0,0.5,inclusive = False),'NUMADLT_ratio'] = '<0.5'\n",
    "cleaned_ny.loc[cleaned_ny['NUMADLT'].between(0.5,1, inclusive = True),'NUMADLT_ratio'] = '>0.5'\n",
    "cleaned_ny.loc[cleaned_ny['NUMADLT']==1,'NUMADLT_ratio'] ='1'\n",
    " \n",
    "\n",
    "#about 80% of families comprises of adults "
   ]
  },
  {
   "cell_type": "code",
   "execution_count": 38,
   "metadata": {},
   "outputs": [
    {
     "name": "stdout",
     "output_type": "stream",
     "text": [
      "      counts  percentage\n",
      "1      14098   82.070090\n",
      ">0.5    2528   14.716498\n",
      "<0.5     552    3.213413\n"
     ]
    },
    {
     "name": "stderr",
     "output_type": "stream",
     "text": [
      "/opt/anaconda3/lib/python3.7/site-packages/seaborn/_decorators.py:43: FutureWarning: Pass the following variable as a keyword arg: x. From version 0.12, the only valid positional argument will be `data`, and passing other arguments without an explicit keyword will result in an error or misinterpretation.\n",
      "  FutureWarning\n"
     ]
    },
    {
     "data": {
      "image/png": "[encoded data removed]",
      "text/plain": [
       "<Figure size 432x288 with 1 Axes>"
      ]
     },
     "metadata": {
      "needs_background": "light"
     },
     "output_type": "display_data"
    }
   ],
   "source": [
    "cat_col_prop(cleaned_ny,'NUMADLT_ratio')"
   ]
  },
  {
   "cell_type": "code",
   "execution_count": 39,
   "metadata": {},
   "outputs": [
    {
     "name": "stdout",
     "output_type": "stream",
     "text": [
      "   counts  percentage\n",
      "1   11189   65.135639\n",
      "2    5989   34.864361\n"
     ]
    },
    {
     "name": "stderr",
     "output_type": "stream",
     "text": [
      "/opt/anaconda3/lib/python3.7/site-packages/seaborn/_decorators.py:43: FutureWarning: Pass the following variable as a keyword arg: x. From version 0.12, the only valid positional argument will be `data`, and passing other arguments without an explicit keyword will result in an error or misinterpretation.\n",
      "  FutureWarning\n"
     ]
    },
    {
     "data": {
      "image/png": "[encoded data removed]",
      "text/plain": [
       "<Figure size 432x288 with 1 Axes>"
      ]
     },
     "metadata": {
      "needs_background": "light"
     },
     "output_type": "display_data"
    }
   ],
   "source": [
    "cat_col_prop(cleaned_ny,'HHRELATD')"
   ]
  },
  {
   "cell_type": "code",
   "execution_count": 40,
   "metadata": {},
   "outputs": [
    {
     "name": "stdout",
     "output_type": "stream",
     "text": [
      "    counts  percentage\n",
      "10    4296   25.008732\n",
      "2     3577   20.823146\n",
      "1     3120   18.162766\n",
      "9     2649   15.420887\n",
      "6     1254    7.300035\n",
      "4     1127    6.560717\n",
      "8      621    3.615089\n",
      "5      267    1.554314\n",
      "7      156    0.908138\n",
      "3      111    0.646175\n"
     ]
    },
    {
     "name": "stderr",
     "output_type": "stream",
     "text": [
      "/opt/anaconda3/lib/python3.7/site-packages/seaborn/_decorators.py:43: FutureWarning: Pass the following variable as a keyword arg: x. From version 0.12, the only valid positional argument will be `data`, and passing other arguments without an explicit keyword will result in an error or misinterpretation.\n",
      "  FutureWarning\n"
     ]
    },
    {
     "data": {
      "image/png": "[encoded data removed]",
      "text/plain": [
       "<Figure size 432x288 with 1 Axes>"
      ]
     },
     "metadata": {
      "needs_background": "light"
     },
     "output_type": "display_data"
    }
   ],
   "source": [
    "cat_col_prop(cleaned_ny,'LIF_CYC')"
   ]
  },
  {
   "cell_type": "code",
   "execution_count": 41,
   "metadata": {},
   "outputs": [
    {
     "name": "stdout",
     "output_type": "stream",
     "text": [
      "      counts  percentage\n",
      "0      16093   93.683782\n",
      "<0.5     858    4.994761\n",
      ">0.5     227    1.321458\n"
     ]
    },
    {
     "name": "stderr",
     "output_type": "stream",
     "text": [
      "/opt/anaconda3/lib/python3.7/site-packages/ipykernel_launcher.py:11: FutureWarning: Boolean inputs to the `inclusive` argument are deprecated infavour of `both` or `neither`.\n",
      "  # This is added back by InteractiveShellApp.init_path()\n",
      "/opt/anaconda3/lib/python3.7/site-packages/ipykernel_launcher.py:12: FutureWarning: Boolean inputs to the `inclusive` argument are deprecated infavour of `both` or `neither`.\n",
      "  if sys.path[0] == '':\n",
      "/opt/anaconda3/lib/python3.7/site-packages/seaborn/_decorators.py:43: FutureWarning: Pass the following variable as a keyword arg: x. From version 0.12, the only valid positional argument will be `data`, and passing other arguments without an explicit keyword will result in an error or misinterpretation.\n",
      "  FutureWarning\n"
     ]
    },
    {
     "data": {
      "image/png": "[encoded data removed]",
      "text/plain": [
       "<Figure size 432x288 with 1 Axes>"
      ]
     },
     "metadata": {
      "needs_background": "light"
     },
     "output_type": "display_data"
    }
   ],
   "source": [
    "#proportion of family with children\n",
    "\n",
    "#cat_col_prop(cleaned_ny,'YOUNGCHILD')\n",
    "\n",
    "cleaned_ny['YOUNGCHILD'] = cleaned_ny['YOUNGCHILD']/cleaned_ny['HHSIZE']\n",
    "\n",
    "\n",
    "#Bin to groups\n",
    "cleaned_ny['YOUNGCHILD_ratio'] = 'NA'\n",
    "cleaned_ny.loc[cleaned_ny['YOUNGCHILD']==0,'YOUNGCHILD_ratio']= '0'\n",
    "cleaned_ny.loc[cleaned_ny['YOUNGCHILD'].between(0,0.5,inclusive = False),'YOUNGCHILD_ratio'] = '<0.5'\n",
    "cleaned_ny.loc[cleaned_ny['YOUNGCHILD'].between(0.5,1, inclusive = True),'YOUNGCHILD_ratio'] = '>0.5'\n",
    "cleaned_ny.loc[cleaned_ny['YOUNGCHILD']==1,'YOUNGCHILD_ratio'] ='1'\n",
    " \n",
    "\n",
    "\n",
    "cat_col_prop(cleaned_ny,'YOUNGCHILD_ratio')\n",
    "\n"
   ]
  },
  {
   "cell_type": "code",
   "execution_count": 42,
   "metadata": {},
   "outputs": [
    {
     "name": "stdout",
     "output_type": "stream",
     "text": [
      "    counts  percentage\n",
      "2     7218   42.018861\n",
      "1     5769   33.583654\n",
      ">2    4191   24.397485\n"
     ]
    },
    {
     "name": "stderr",
     "output_type": "stream",
     "text": [
      "/opt/anaconda3/lib/python3.7/site-packages/seaborn/_decorators.py:43: FutureWarning: Pass the following variable as a keyword arg: x. From version 0.12, the only valid positional argument will be `data`, and passing other arguments without an explicit keyword will result in an error or misinterpretation.\n",
      "  FutureWarning\n"
     ]
    },
    {
     "data": {
      "image/png": "[encoded data removed]",
      "text/plain": [
       "<Figure size 432x288 with 1 Axes>"
      ]
     },
     "metadata": {
      "needs_background": "light"
     },
     "output_type": "display_data"
    }
   ],
   "source": [
    "# Household size \n",
    "#cat_col_prop(cleaned_ny,'HHSIZE')\n",
    "\n",
    "cleaned_ny['HHSIZE_cleaned'] = cleaned_ny['HHSIZE'].replace({\n",
    "                                      3:\">2\",\n",
    "                                      4:\">2\",\n",
    "                                      5:\">2\",\n",
    "                                      6:\">2\",\n",
    "    7:\">2\",\n",
    "    8:\">2\",\n",
    "    9:\">2\",\n",
    "    10:\">2\",\n",
    "    11:\">2\"\n",
    "                                      })\n",
    "cat_col_prop(cleaned_ny,'HHSIZE_cleaned')"
   ]
  },
  {
   "cell_type": "markdown",
   "metadata": {},
   "source": [
    "Most of the household indicators can be useful in determining car ownership. Hence, some of these will be binned as well with most of the values being kept."
   ]
  },
  {
   "cell_type": "markdown",
   "metadata": {},
   "source": [
    "## Travel Indicators - BIKE, PARA, WALK, BUS, RAIL\n",
    "\n",
    "This will shed some light on the public transport usage for the households."
   ]
  },
  {
   "cell_type": "code",
   "execution_count": 43,
   "metadata": {},
   "outputs": [
    {
     "name": "stdout",
     "output_type": "stream",
     "text": [
      "   counts  percentage\n",
      "2   12036   70.066364\n",
      "1    5142   29.933636\n"
     ]
    },
    {
     "name": "stderr",
     "output_type": "stream",
     "text": [
      "/opt/anaconda3/lib/python3.7/site-packages/seaborn/_decorators.py:43: FutureWarning: Pass the following variable as a keyword arg: x. From version 0.12, the only valid positional argument will be `data`, and passing other arguments without an explicit keyword will result in an error or misinterpretation.\n",
      "  FutureWarning\n"
     ]
    },
    {
     "data": {
      "image/png": "[encoded data removed]",
      "text/plain": [
       "<Figure size 432x288 with 1 Axes>"
      ]
     },
     "metadata": {
      "needs_background": "light"
     },
     "output_type": "display_data"
    }
   ],
   "source": [
    "cat_col_prop(cleaned_ny,'RAIL')"
   ]
  },
  {
   "cell_type": "code",
   "execution_count": 44,
   "metadata": {},
   "outputs": [
    {
     "name": "stdout",
     "output_type": "stream",
     "text": [
      "    counts  percentage\n",
      " 5   10770   62.696472\n",
      " 4    2717   15.816742\n",
      "-9    1882   10.955874\n",
      " 3     969    5.640936\n",
      " 2     636    3.702410\n",
      " 1     204    1.187565\n",
      "        counts  percentage\n",
      "Never    10770   62.696472\n",
      "Rarely    4322   25.160088\n",
      "NA        1882   10.955874\n",
      "Daily      204    1.187565\n"
     ]
    },
    {
     "name": "stderr",
     "output_type": "stream",
     "text": [
      "/opt/anaconda3/lib/python3.7/site-packages/seaborn/_decorators.py:43: FutureWarning: Pass the following variable as a keyword arg: x. From version 0.12, the only valid positional argument will be `data`, and passing other arguments without an explicit keyword will result in an error or misinterpretation.\n",
      "  FutureWarning\n",
      "/opt/anaconda3/lib/python3.7/site-packages/seaborn/_decorators.py:43: FutureWarning: Pass the following variable as a keyword arg: x. From version 0.12, the only valid positional argument will be `data`, and passing other arguments without an explicit keyword will result in an error or misinterpretation.\n",
      "  FutureWarning\n"
     ]
    },
    {
     "data": {
      "image/png": "[encoded data removed]",
      "text/plain": [
       "<Figure size 432x288 with 1 Axes>"
      ]
     },
     "metadata": {
      "needs_background": "light"
     },
     "output_type": "display_data"
    }
   ],
   "source": [
    "cat_col_prop(cleaned_ny,'BIKE')\n",
    "\n",
    "cleaned_ny['BIKE'] = cleaned_ny['BIKE'].replace({1:\"Daily\",\n",
    "                                       2: \"Rarely\",\n",
    "                                      3: \"Rarely\",\n",
    "                                      4: \"Rarely\",\n",
    "                                      5: \"Never\",                   \n",
    "                                      -9: \"NA\",\n",
    "                                      })\n",
    "cat_col_prop(cleaned_ny,'BIKE')"
   ]
  },
  {
   "cell_type": "code",
   "execution_count": 45,
   "metadata": {},
   "outputs": [
    {
     "name": "stdout",
     "output_type": "stream",
     "text": [
      "    counts  percentage\n",
      " 5   14676   85.434859\n",
      "-9    2117   12.323903\n",
      " 4     234    1.362207\n",
      " 3      78    0.454069\n",
      " 2      41    0.238677\n",
      " 1      25    0.145535\n",
      "-8       4    0.023286\n",
      "-7       3    0.017464\n"
     ]
    },
    {
     "name": "stderr",
     "output_type": "stream",
     "text": [
      "/opt/anaconda3/lib/python3.7/site-packages/seaborn/_decorators.py:43: FutureWarning: Pass the following variable as a keyword arg: x. From version 0.12, the only valid positional argument will be `data`, and passing other arguments without an explicit keyword will result in an error or misinterpretation.\n",
      "  FutureWarning\n"
     ]
    },
    {
     "data": {
      "image/png": "[encoded data removed]",
      "text/plain": [
       "<Figure size 432x288 with 1 Axes>"
      ]
     },
     "metadata": {
      "needs_background": "light"
     },
     "output_type": "display_data"
    }
   ],
   "source": [
    "cat_col_prop(cleaned_ny,'PARA') # will drop as it is not a common mode of travel\n"
   ]
  },
  {
   "cell_type": "code",
   "execution_count": 46,
   "metadata": {},
   "outputs": [],
   "source": [
    "cleaned_ny = cleaned_ny.drop(columns=['PARA'])"
   ]
  },
  {
   "cell_type": "code",
   "execution_count": 47,
   "metadata": {},
   "outputs": [
    {
     "name": "stdout",
     "output_type": "stream",
     "text": [
      "    counts  percentage\n",
      " 1    3831   22.301781\n",
      " 5    3576   20.817324\n",
      " 2    2989   17.400163\n",
      " 4    2973   17.307021\n",
      " 3    2443   14.221679\n",
      "-9    1366    7.952032\n",
      "    counts  percentage\n",
      "1     3831   22.301781\n",
      "5     3576   20.817324\n",
      "2     2989   17.400163\n",
      "4     2973   17.307021\n",
      "3     2443   14.221679\n",
      "NA    1366    7.952032\n"
     ]
    },
    {
     "name": "stderr",
     "output_type": "stream",
     "text": [
      "/opt/anaconda3/lib/python3.7/site-packages/seaborn/_decorators.py:43: FutureWarning: Pass the following variable as a keyword arg: x. From version 0.12, the only valid positional argument will be `data`, and passing other arguments without an explicit keyword will result in an error or misinterpretation.\n",
      "  FutureWarning\n",
      "/opt/anaconda3/lib/python3.7/site-packages/seaborn/_decorators.py:43: FutureWarning: Pass the following variable as a keyword arg: x. From version 0.12, the only valid positional argument will be `data`, and passing other arguments without an explicit keyword will result in an error or misinterpretation.\n",
      "  FutureWarning\n"
     ]
    },
    {
     "data": {
      "image/png": "[encoded data removed]",
      "text/plain": [
       "<Figure size 432x288 with 1 Axes>"
      ]
     },
     "metadata": {
      "needs_background": "light"
     },
     "output_type": "display_data"
    }
   ],
   "source": [
    "cat_col_prop(cleaned_ny,'WALK')\n",
    "# quite well spread, no need to bin\n",
    "cleaned_ny['WALK'] = cleaned_ny['WALK'].replace({\n",
    "-9:\"NA\"                    })\n",
    "cat_col_prop(cleaned_ny,'WALK')"
   ]
  },
  {
   "cell_type": "markdown",
   "metadata": {},
   "source": [
    "## Final Household Set for Merging\n",
    "\n",
    "Things that can be selected but check through logistic score first:\n",
    "\n",
    "NUMADLT, YOUNGCHILD, WRKCOUNT, LIF_CYCLE\n",
    "\n",
    "URBAN, URBANSIZE"
   ]
  },
  {
   "cell_type": "code",
   "execution_count": 52,
   "metadata": {},
   "outputs": [],
   "source": [
    "#cleaned_ny\n",
    "\n",
    "# drop travday, smplsrce, drvrntcnt, hhstfips\n",
    "#cleaned_ny = cleaned_ny.drop(columns=['TRAVDAY','SMPLSRCE','DRVRCNT'])\n",
    "\n",
    "# convert vehcnt to binary \n",
    "cleaned_ny['VEHOWN'] = cleaned_ny['HHVEHCNT'].apply(lambda x: 1 if x > 0 else 0)"
   ]
  },
  {
   "cell_type": "code",
   "execution_count": 54,
   "metadata": {},
   "outputs": [],
   "source": [
    "\n",
    "\n",
    "# drop vehcnt \n",
    "cleaned_ny = cleaned_ny.drop(columns=['HHVEHCNT','HHSTFIPS'])\n",
    "cleaned_ny = cleaned_ny.drop(columns=['HHSIZE'])"
   ]
  },
  {
   "cell_type": "code",
   "execution_count": 57,
   "metadata": {},
   "outputs": [
    {
     "data": {
      "text/html": [
       "<div>\n",
       "<style scoped>\n",
       "    .dataframe tbody tr th:only-of-type {\n",
       "        vertical-align: middle;\n",
       "    }\n",
       "\n",
       "    .dataframe tbody tr th {\n",
       "        vertical-align: top;\n",
       "    }\n",
       "\n",
       "    .dataframe thead th {\n",
       "        text-align: right;\n",
       "    }\n",
       "</style>\n",
       "<table border=\"1\" class=\"dataframe\">\n",
       "  <thead>\n",
       "    <tr style=\"text-align: right;\">\n",
       "      <th></th>\n",
       "      <th>HOUSEID</th>\n",
       "      <th>HOMEOWN</th>\n",
       "      <th>HHFAMINC</th>\n",
       "      <th>WALK</th>\n",
       "      <th>BIKE</th>\n",
       "      <th>TAXI</th>\n",
       "      <th>BUS</th>\n",
       "      <th>TRAIN</th>\n",
       "      <th>PRICE</th>\n",
       "      <th>PLACE</th>\n",
       "      <th>WALK2SAVE</th>\n",
       "      <th>BIKE2SAVE</th>\n",
       "      <th>PTRANS</th>\n",
       "      <th>HHRELATD</th>\n",
       "      <th>CNTTDHH</th>\n",
       "      <th>NUMADLT</th>\n",
       "      <th>YOUNGCHILD</th>\n",
       "      <th>WRKCOUNT</th>\n",
       "      <th>LIF_CYC</th>\n",
       "      <th>RAIL</th>\n",
       "      <th>URBAN</th>\n",
       "      <th>URBANSIZE</th>\n",
       "      <th>CDIVMSAR</th>\n",
       "      <th>WEBUSE17</th>\n",
       "      <th>DRVRCNTPROP</th>\n",
       "      <th>WRKCOUNT_ratio</th>\n",
       "      <th>NUMADLT_ratio</th>\n",
       "      <th>YOUNGCHILD_ratio</th>\n",
       "      <th>HHSIZE_cleaned</th>\n",
       "      <th>VEHOWN</th>\n",
       "    </tr>\n",
       "  </thead>\n",
       "  <tbody>\n",
       "    <tr>\n",
       "      <th>2</th>\n",
       "      <td>30000012</td>\n",
       "      <td>HOME_OWN</td>\n",
       "      <td>10</td>\n",
       "      <td>2</td>\n",
       "      <td>Never</td>\n",
       "      <td>5</td>\n",
       "      <td>4</td>\n",
       "      <td>4</td>\n",
       "      <td>2</td>\n",
       "      <td>1</td>\n",
       "      <td>2</td>\n",
       "      <td>3</td>\n",
       "      <td>5</td>\n",
       "      <td>2</td>\n",
       "      <td>9</td>\n",
       "      <td>1.000000</td>\n",
       "      <td>0.0</td>\n",
       "      <td>1.000000</td>\n",
       "      <td>1</td>\n",
       "      <td>2</td>\n",
       "      <td>1</td>\n",
       "      <td>3</td>\n",
       "      <td>23</td>\n",
       "      <td>Daily</td>\n",
       "      <td>1.000000</td>\n",
       "      <td>1</td>\n",
       "      <td>1</td>\n",
       "      <td>0</td>\n",
       "      <td>1</td>\n",
       "      <td>1</td>\n",
       "    </tr>\n",
       "    <tr>\n",
       "      <th>8</th>\n",
       "      <td>30000082</td>\n",
       "      <td>HOME_RENT</td>\n",
       "      <td>8</td>\n",
       "      <td>NA</td>\n",
       "      <td>Never</td>\n",
       "      <td>5</td>\n",
       "      <td>5</td>\n",
       "      <td>5</td>\n",
       "      <td>3</td>\n",
       "      <td>3</td>\n",
       "      <td>5</td>\n",
       "      <td>5</td>\n",
       "      <td>5</td>\n",
       "      <td>1</td>\n",
       "      <td>12</td>\n",
       "      <td>0.500000</td>\n",
       "      <td>0.5</td>\n",
       "      <td>0.500000</td>\n",
       "      <td>4</td>\n",
       "      <td>2</td>\n",
       "      <td>1</td>\n",
       "      <td>3</td>\n",
       "      <td>23</td>\n",
       "      <td>Daily</td>\n",
       "      <td>0.500000</td>\n",
       "      <td>&gt;0.5</td>\n",
       "      <td>&gt;0.5</td>\n",
       "      <td>&gt;0.5</td>\n",
       "      <td>&gt;2</td>\n",
       "      <td>1</td>\n",
       "    </tr>\n",
       "    <tr>\n",
       "      <th>15</th>\n",
       "      <td>30000130</td>\n",
       "      <td>HOME_OWN</td>\n",
       "      <td>5</td>\n",
       "      <td>NA</td>\n",
       "      <td>NA</td>\n",
       "      <td>-9</td>\n",
       "      <td>1</td>\n",
       "      <td>1</td>\n",
       "      <td>1</td>\n",
       "      <td>1</td>\n",
       "      <td>1</td>\n",
       "      <td>NA</td>\n",
       "      <td>1</td>\n",
       "      <td>1</td>\n",
       "      <td>4</td>\n",
       "      <td>1.000000</td>\n",
       "      <td>0.0</td>\n",
       "      <td>1.000000</td>\n",
       "      <td>2</td>\n",
       "      <td>1</td>\n",
       "      <td>1</td>\n",
       "      <td>5</td>\n",
       "      <td>21</td>\n",
       "      <td>Daily</td>\n",
       "      <td>1.000000</td>\n",
       "      <td>1</td>\n",
       "      <td>1</td>\n",
       "      <td>0</td>\n",
       "      <td>2</td>\n",
       "      <td>1</td>\n",
       "    </tr>\n",
       "    <tr>\n",
       "      <th>39</th>\n",
       "      <td>30000380</td>\n",
       "      <td>HOME_RENT</td>\n",
       "      <td>3</td>\n",
       "      <td>NA</td>\n",
       "      <td>NA</td>\n",
       "      <td>4</td>\n",
       "      <td>4</td>\n",
       "      <td>-9</td>\n",
       "      <td>1</td>\n",
       "      <td>NA</td>\n",
       "      <td>NA</td>\n",
       "      <td>NA</td>\n",
       "      <td>NA</td>\n",
       "      <td>1</td>\n",
       "      <td>18</td>\n",
       "      <td>0.666667</td>\n",
       "      <td>0.0</td>\n",
       "      <td>0.333333</td>\n",
       "      <td>6</td>\n",
       "      <td>2</td>\n",
       "      <td>1</td>\n",
       "      <td>1</td>\n",
       "      <td>23</td>\n",
       "      <td>Daily</td>\n",
       "      <td>0.666667</td>\n",
       "      <td>&lt;0.5</td>\n",
       "      <td>&gt;0.5</td>\n",
       "      <td>0</td>\n",
       "      <td>&gt;2</td>\n",
       "      <td>1</td>\n",
       "    </tr>\n",
       "    <tr>\n",
       "      <th>44</th>\n",
       "      <td>30000434</td>\n",
       "      <td>HOME_OWN</td>\n",
       "      <td>8</td>\n",
       "      <td>1</td>\n",
       "      <td>Rarely</td>\n",
       "      <td>5</td>\n",
       "      <td>5</td>\n",
       "      <td>4</td>\n",
       "      <td>NA</td>\n",
       "      <td>2</td>\n",
       "      <td>2</td>\n",
       "      <td>3</td>\n",
       "      <td>3</td>\n",
       "      <td>1</td>\n",
       "      <td>6</td>\n",
       "      <td>1.000000</td>\n",
       "      <td>0.0</td>\n",
       "      <td>1.000000</td>\n",
       "      <td>2</td>\n",
       "      <td>2</td>\n",
       "      <td>4</td>\n",
       "      <td>6</td>\n",
       "      <td>23</td>\n",
       "      <td>Daily</td>\n",
       "      <td>1.000000</td>\n",
       "      <td>1</td>\n",
       "      <td>1</td>\n",
       "      <td>0</td>\n",
       "      <td>2</td>\n",
       "      <td>1</td>\n",
       "    </tr>\n",
       "    <tr>\n",
       "      <th>...</th>\n",
       "      <td>...</td>\n",
       "      <td>...</td>\n",
       "      <td>...</td>\n",
       "      <td>...</td>\n",
       "      <td>...</td>\n",
       "      <td>...</td>\n",
       "      <td>...</td>\n",
       "      <td>...</td>\n",
       "      <td>...</td>\n",
       "      <td>...</td>\n",
       "      <td>...</td>\n",
       "      <td>...</td>\n",
       "      <td>...</td>\n",
       "      <td>...</td>\n",
       "      <td>...</td>\n",
       "      <td>...</td>\n",
       "      <td>...</td>\n",
       "      <td>...</td>\n",
       "      <td>...</td>\n",
       "      <td>...</td>\n",
       "      <td>...</td>\n",
       "      <td>...</td>\n",
       "      <td>...</td>\n",
       "      <td>...</td>\n",
       "      <td>...</td>\n",
       "      <td>...</td>\n",
       "      <td>...</td>\n",
       "      <td>...</td>\n",
       "      <td>...</td>\n",
       "      <td>...</td>\n",
       "    </tr>\n",
       "    <tr>\n",
       "      <th>129645</th>\n",
       "      <td>40793685</td>\n",
       "      <td>HOME_OWN</td>\n",
       "      <td>5</td>\n",
       "      <td>NA</td>\n",
       "      <td>NA</td>\n",
       "      <td>-9</td>\n",
       "      <td>-9</td>\n",
       "      <td>-9</td>\n",
       "      <td>4</td>\n",
       "      <td>4</td>\n",
       "      <td>4</td>\n",
       "      <td>4</td>\n",
       "      <td>4</td>\n",
       "      <td>1</td>\n",
       "      <td>5</td>\n",
       "      <td>1.000000</td>\n",
       "      <td>0.0</td>\n",
       "      <td>0.000000</td>\n",
       "      <td>10</td>\n",
       "      <td>2</td>\n",
       "      <td>1</td>\n",
       "      <td>1</td>\n",
       "      <td>23</td>\n",
       "      <td>Daily</td>\n",
       "      <td>1.000000</td>\n",
       "      <td>0</td>\n",
       "      <td>1</td>\n",
       "      <td>0</td>\n",
       "      <td>2</td>\n",
       "      <td>1</td>\n",
       "    </tr>\n",
       "    <tr>\n",
       "      <th>129651</th>\n",
       "      <td>40793808</td>\n",
       "      <td>HOME_OWN</td>\n",
       "      <td>7</td>\n",
       "      <td>1</td>\n",
       "      <td>Rarely</td>\n",
       "      <td>5</td>\n",
       "      <td>4</td>\n",
       "      <td>5</td>\n",
       "      <td>3</td>\n",
       "      <td>3</td>\n",
       "      <td>3</td>\n",
       "      <td>3</td>\n",
       "      <td>3</td>\n",
       "      <td>1</td>\n",
       "      <td>16</td>\n",
       "      <td>0.666667</td>\n",
       "      <td>0.0</td>\n",
       "      <td>0.666667</td>\n",
       "      <td>8</td>\n",
       "      <td>2</td>\n",
       "      <td>1</td>\n",
       "      <td>1</td>\n",
       "      <td>23</td>\n",
       "      <td>Daily</td>\n",
       "      <td>0.666667</td>\n",
       "      <td>&gt;0.5</td>\n",
       "      <td>&gt;0.5</td>\n",
       "      <td>0</td>\n",
       "      <td>&gt;2</td>\n",
       "      <td>1</td>\n",
       "    </tr>\n",
       "    <tr>\n",
       "      <th>129662</th>\n",
       "      <td>40793974</td>\n",
       "      <td>HOME_RENT</td>\n",
       "      <td>3</td>\n",
       "      <td>2</td>\n",
       "      <td>Never</td>\n",
       "      <td>5</td>\n",
       "      <td>5</td>\n",
       "      <td>5</td>\n",
       "      <td>1</td>\n",
       "      <td>2</td>\n",
       "      <td>3</td>\n",
       "      <td>3</td>\n",
       "      <td>3</td>\n",
       "      <td>2</td>\n",
       "      <td>7</td>\n",
       "      <td>1.000000</td>\n",
       "      <td>0.0</td>\n",
       "      <td>0.000000</td>\n",
       "      <td>9</td>\n",
       "      <td>2</td>\n",
       "      <td>1</td>\n",
       "      <td>1</td>\n",
       "      <td>23</td>\n",
       "      <td>Daily</td>\n",
       "      <td>1.000000</td>\n",
       "      <td>0</td>\n",
       "      <td>1</td>\n",
       "      <td>0</td>\n",
       "      <td>1</td>\n",
       "      <td>1</td>\n",
       "    </tr>\n",
       "    <tr>\n",
       "      <th>129668</th>\n",
       "      <td>40794020</td>\n",
       "      <td>HOME_OWN</td>\n",
       "      <td>8</td>\n",
       "      <td>4</td>\n",
       "      <td>Never</td>\n",
       "      <td>5</td>\n",
       "      <td>4</td>\n",
       "      <td>5</td>\n",
       "      <td>2</td>\n",
       "      <td>2</td>\n",
       "      <td>5</td>\n",
       "      <td>5</td>\n",
       "      <td>5</td>\n",
       "      <td>1</td>\n",
       "      <td>11</td>\n",
       "      <td>1.000000</td>\n",
       "      <td>0.0</td>\n",
       "      <td>0.000000</td>\n",
       "      <td>10</td>\n",
       "      <td>2</td>\n",
       "      <td>4</td>\n",
       "      <td>6</td>\n",
       "      <td>24</td>\n",
       "      <td>Daily</td>\n",
       "      <td>1.000000</td>\n",
       "      <td>0</td>\n",
       "      <td>1</td>\n",
       "      <td>0</td>\n",
       "      <td>2</td>\n",
       "      <td>1</td>\n",
       "    </tr>\n",
       "    <tr>\n",
       "      <th>129689</th>\n",
       "      <td>40794249</td>\n",
       "      <td>HOME_RENT</td>\n",
       "      <td>2</td>\n",
       "      <td>4</td>\n",
       "      <td>Never</td>\n",
       "      <td>5</td>\n",
       "      <td>5</td>\n",
       "      <td>5</td>\n",
       "      <td>3</td>\n",
       "      <td>3</td>\n",
       "      <td>3</td>\n",
       "      <td>5</td>\n",
       "      <td>5</td>\n",
       "      <td>2</td>\n",
       "      <td>2</td>\n",
       "      <td>1.000000</td>\n",
       "      <td>0.0</td>\n",
       "      <td>0.000000</td>\n",
       "      <td>9</td>\n",
       "      <td>2</td>\n",
       "      <td>2</td>\n",
       "      <td>6</td>\n",
       "      <td>23</td>\n",
       "      <td>Never</td>\n",
       "      <td>1.000000</td>\n",
       "      <td>0</td>\n",
       "      <td>1</td>\n",
       "      <td>0</td>\n",
       "      <td>1</td>\n",
       "      <td>0</td>\n",
       "    </tr>\n",
       "  </tbody>\n",
       "</table>\n",
       "<p>17178 rows × 30 columns</p>\n",
       "</div>"
      ],
      "text/plain": [
       "         HOUSEID    HOMEOWN HHFAMINC WALK    BIKE  TAXI  BUS  TRAIN PRICE  \\\n",
       "2       30000012   HOME_OWN       10    2   Never     5    4      4     2   \n",
       "8       30000082  HOME_RENT        8   NA   Never     5    5      5     3   \n",
       "15      30000130   HOME_OWN        5   NA      NA    -9    1      1     1   \n",
       "39      30000380  HOME_RENT        3   NA      NA     4    4     -9     1   \n",
       "44      30000434   HOME_OWN        8    1  Rarely     5    5      4    NA   \n",
       "...          ...        ...      ...  ...     ...   ...  ...    ...   ...   \n",
       "129645  40793685   HOME_OWN        5   NA      NA    -9   -9     -9     4   \n",
       "129651  40793808   HOME_OWN        7    1  Rarely     5    4      5     3   \n",
       "129662  40793974  HOME_RENT        3    2   Never     5    5      5     1   \n",
       "129668  40794020   HOME_OWN        8    4   Never     5    4      5     2   \n",
       "129689  40794249  HOME_RENT        2    4   Never     5    5      5     3   \n",
       "\n",
       "       PLACE WALK2SAVE BIKE2SAVE PTRANS  HHRELATD  CNTTDHH   NUMADLT  \\\n",
       "2          1         2         3      5         2        9  1.000000   \n",
       "8          3         5         5      5         1       12  0.500000   \n",
       "15         1         1        NA      1         1        4  1.000000   \n",
       "39        NA        NA        NA     NA         1       18  0.666667   \n",
       "44         2         2         3      3         1        6  1.000000   \n",
       "...      ...       ...       ...    ...       ...      ...       ...   \n",
       "129645     4         4         4      4         1        5  1.000000   \n",
       "129651     3         3         3      3         1       16  0.666667   \n",
       "129662     2         3         3      3         2        7  1.000000   \n",
       "129668     2         5         5      5         1       11  1.000000   \n",
       "129689     3         3         5      5         2        2  1.000000   \n",
       "\n",
       "        YOUNGCHILD  WRKCOUNT  LIF_CYC  RAIL  URBAN  URBANSIZE  CDIVMSAR  \\\n",
       "2              0.0  1.000000        1     2      1          3        23   \n",
       "8              0.5  0.500000        4     2      1          3        23   \n",
       "15             0.0  1.000000        2     1      1          5        21   \n",
       "39             0.0  0.333333        6     2      1          1        23   \n",
       "44             0.0  1.000000        2     2      4          6        23   \n",
       "...            ...       ...      ...   ...    ...        ...       ...   \n",
       "129645         0.0  0.000000       10     2      1          1        23   \n",
       "129651         0.0  0.666667        8     2      1          1        23   \n",
       "129662         0.0  0.000000        9     2      1          1        23   \n",
       "129668         0.0  0.000000       10     2      4          6        24   \n",
       "129689         0.0  0.000000        9     2      2          6        23   \n",
       "\n",
       "       WEBUSE17  DRVRCNTPROP WRKCOUNT_ratio NUMADLT_ratio YOUNGCHILD_ratio  \\\n",
       "2         Daily     1.000000              1             1                0   \n",
       "8         Daily     0.500000           >0.5          >0.5             >0.5   \n",
       "15        Daily     1.000000              1             1                0   \n",
       "39        Daily     0.666667           <0.5          >0.5                0   \n",
       "44        Daily     1.000000              1             1                0   \n",
       "...         ...          ...            ...           ...              ...   \n",
       "129645    Daily     1.000000              0             1                0   \n",
       "129651    Daily     0.666667           >0.5          >0.5                0   \n",
       "129662    Daily     1.000000              0             1                0   \n",
       "129668    Daily     1.000000              0             1                0   \n",
       "129689    Never     1.000000              0             1                0   \n",
       "\n",
       "       HHSIZE_cleaned  VEHOWN  \n",
       "2                   1       1  \n",
       "8                  >2       1  \n",
       "15                  2       1  \n",
       "39                 >2       1  \n",
       "44                  2       1  \n",
       "...               ...     ...  \n",
       "129645              2       1  \n",
       "129651             >2       1  \n",
       "129662              1       1  \n",
       "129668              2       1  \n",
       "129689              1       0  \n",
       "\n",
       "[17178 rows x 30 columns]"
      ]
     },
     "execution_count": 57,
     "metadata": {},
     "output_type": "execute_result"
    }
   ],
   "source": [
    "cleaned_ny"
   ]
  },
  {
   "cell_type": "markdown",
   "metadata": {},
   "source": [
    "## Check Feature against Logistic Score (TBD)"
   ]
  },
  {
   "cell_type": "markdown",
   "metadata": {},
   "source": [
    "There might be a need to do over/undersampling at this stage."
   ]
  },
  {
   "cell_type": "markdown",
   "metadata": {},
   "source": [
    "## One Hot Encoding (TBD)"
   ]
  },
  {
   "cell_type": "code",
   "execution_count": null,
   "metadata": {},
   "outputs": [],
   "source": [
    "df.dtypes"
   ]
  },
  {
   "cell_type": "code",
   "execution_count": null,
   "metadata": {},
   "outputs": [],
   "source": [
    "to_obj = ['HOUSEID','PERSONID','EDUC','R_RACE','R_SEX','WRK_HOME','WKFTPT','OCCAT','DRIVER','MSACAT','MSASIZE','URBAN','URBANSIZE','URBRUR','LIF_CYC']\n",
    "\n",
    "df[to_obj] = df[to_obj].astype(str)\n",
    "\n",
    "df['n_trips'] = df['n_trips'].astype('int64')"
   ]
  },
  {
   "cell_type": "code",
   "execution_count": null,
   "metadata": {},
   "outputs": [],
   "source": [
    "df.drop(['HOUSEID','PERSONID'],axis=1,inplace = True)"
   ]
  },
  {
   "cell_type": "code",
   "execution_count": null,
   "metadata": {},
   "outputs": [],
   "source": [
    "one_hot_col = [c for c in df if df[c].dtypes == 'O' ]"
   ]
  },
  {
   "cell_type": "code",
   "execution_count": null,
   "metadata": {},
   "outputs": [],
   "source": [
    "pd.get_dummies(df[one_hot_col],prefix = one_hot_col)"
   ]
  }
 ],
 "metadata": {
  "kernelspec": {
   "display_name": "Python 3",
   "language": "python",
   "name": "python3"
  },
  "language_info": {
   "codemirror_mode": {
    "name": "ipython",
    "version": 3
   },
   "file_extension": ".py",
   "mimetype": "text/x-python",
   "name": "python",
   "nbconvert_exporter": "python",
   "pygments_lexer": "ipython3",
   "version": "3.7.6"
  }
 },
 "nbformat": 4,
 "nbformat_minor": 4
}
