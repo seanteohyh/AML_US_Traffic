{
 "cells": [
  {
   "cell_type": "markdown",
   "metadata": {},
   "source": [
    "# NY HH Person Trip Predictor"
   ]
  },
  {
   "cell_type": "code",
   "execution_count": 1,
   "metadata": {},
   "outputs": [],
   "source": [
    "import pandas as pd\n",
    "import numpy as np\n",
    "import datetime\n",
    "import matplotlib.pyplot as plt\n",
    "import seaborn as sns\n",
    "%matplotlib inline\n",
    "from sklearn import model_selection\n",
    "import warnings\n",
    "import math\n",
    "\n",
    "warnings.filterwarnings('ignore')"
   ]
  },
  {
   "cell_type": "code",
   "execution_count": 2,
   "metadata": {},
   "outputs": [],
   "source": [
    "path = \"C:/Users/Seant/Desktop/aml_data\" #edit this path to change to your path folder\n",
    "\n",
    "#path = \"/Users/jayneteo/Dropbox/SMU MITB/Term 2 2021/AML/Project/NHTS/csv\" \n",
    "\n",
    "household = pd.read_csv(\"\".join([path,'/hhpub.csv']))\n",
    "person =  pd.read_csv(\"\".join([path,'/perpub.csv']))\n",
    "trip =  pd.read_csv(\"\".join([path,'/trippub.csv']))"
   ]
  },
  {
   "cell_type": "code",
   "execution_count": 3,
   "metadata": {},
   "outputs": [],
   "source": [
    "#define function \n",
    "\n",
    "def cat_col_prop(data, col):\n",
    "    print(pd.concat([data[col].value_counts(),\n",
    "          data[col].value_counts(normalize = True).mul(100)],axis = 1, keys = ('counts','percentage')))\n",
    "\n",
    "    sns.countplot(data[col], order =  data[col].value_counts().index)"
   ]
  },
  {
   "cell_type": "markdown",
   "metadata": {},
   "source": [
    "## 1. Merging of Data"
   ]
  },
  {
   "cell_type": "markdown",
   "metadata": {},
   "source": [
    "### 1.1. Household"
   ]
  },
  {
   "cell_type": "code",
   "execution_count": 4,
   "metadata": {},
   "outputs": [],
   "source": [
    "#filtering NY Households\n",
    "ny = household[household['HHSTATE'] == \"NY\"]\n",
    "\n",
    "# as only studying hh with car will also filter out hh with HHVEHCNT == 0\n",
    "ny = ny[ny['HHVEHCNT']>0]"
   ]
  },
  {
   "cell_type": "code",
   "execution_count": 5,
   "metadata": {},
   "outputs": [],
   "source": [
    "# selection of columns based on prior background inference of potential features\n",
    "ny = ny[['HOUSEID','HH_CBSA','HOMEOWN','HHSIZE','HHVEHCNT','HHFAMINC','NUMADLT','YOUNGCHILD','WRKCOUNT','MSACAT','MSASIZE','URBAN','URBANSIZE','URBRUR','LIF_CYC','TRAVDAY']]"
   ]
  },
  {
   "cell_type": "markdown",
   "metadata": {},
   "source": [
    "### 1.2 Trips"
   ]
  },
  {
   "cell_type": "code",
   "execution_count": 6,
   "metadata": {},
   "outputs": [],
   "source": [
    "ny_trip = trip[trip['HOUSEID'].isin(ny['HOUSEID'])]"
   ]
  },
  {
   "cell_type": "code",
   "execution_count": 7,
   "metadata": {},
   "outputs": [],
   "source": [
    "# selecting trips that were done using either 3.Car, 4.SUV, 5.Van\n",
    "ny_trip = ny_trip[ny_trip['TRPTRANS'].isin([3,4,5])]"
   ]
  },
  {
   "cell_type": "code",
   "execution_count": 8,
   "metadata": {},
   "outputs": [
    {
     "name": "stdout",
     "output_type": "stream",
     "text": [
      "# of trips with dist <=0, 22  out of 87307\n"
     ]
    }
   ],
   "source": [
    "# since only 24 lines with trip distance <= 0, removed lines\n",
    "print('# of trips with dist <=0,', str(sum(ny_trip['TRPMILES']<=0)),' out of', str(len(ny_trip)))\n",
    "ny_trip = ny_trip[ny_trip['TRPMILES']>0]"
   ]
  },
  {
   "cell_type": "code",
   "execution_count": 9,
   "metadata": {},
   "outputs": [
    {
     "name": "stdout",
     "output_type": "stream",
     "text": [
      "84  trips missing TRVLCMIN info so will just remove since only  0.09623646674686373 %\n"
     ]
    }
   ],
   "source": [
    "print(str(sum(ny_trip['TRVLCMIN']<=0)), ' trips missing TRVLCMIN info so will just remove since only ',str(sum(ny_trip['TRVLCMIN']<=0)/len(ny_trip)*100),\"%\")\n",
    "ny_trip = ny_trip[ny_trip['TRVLCMIN']>0]"
   ]
  },
  {
   "cell_type": "code",
   "execution_count": 10,
   "metadata": {},
   "outputs": [],
   "source": [
    "# Summarise to Person trip counts \n",
    "ny_trip_count = ny_trip[['HOUSEID','PERSONID']].groupby(['HOUSEID']).agg('count').reset_index().rename(columns = {'PERSONID':'n_trips'})"
   ]
  },
  {
   "cell_type": "code",
   "execution_count": 11,
   "metadata": {},
   "outputs": [
    {
     "data": {
      "text/html": [
       "<div>\n",
       "<style scoped>\n",
       "    .dataframe tbody tr th:only-of-type {\n",
       "        vertical-align: middle;\n",
       "    }\n",
       "\n",
       "    .dataframe tbody tr th {\n",
       "        vertical-align: top;\n",
       "    }\n",
       "\n",
       "    .dataframe thead th {\n",
       "        text-align: right;\n",
       "    }\n",
       "</style>\n",
       "<table border=\"1\" class=\"dataframe\">\n",
       "  <thead>\n",
       "    <tr style=\"text-align: right;\">\n",
       "      <th></th>\n",
       "      <th>HOUSEID</th>\n",
       "      <th>n_trips</th>\n",
       "    </tr>\n",
       "  </thead>\n",
       "  <tbody>\n",
       "    <tr>\n",
       "      <th>0</th>\n",
       "      <td>30000012</td>\n",
       "      <td>9</td>\n",
       "    </tr>\n",
       "    <tr>\n",
       "      <th>1</th>\n",
       "      <td>30000082</td>\n",
       "      <td>10</td>\n",
       "    </tr>\n",
       "    <tr>\n",
       "      <th>2</th>\n",
       "      <td>30000380</td>\n",
       "      <td>14</td>\n",
       "    </tr>\n",
       "    <tr>\n",
       "      <th>3</th>\n",
       "      <td>30000434</td>\n",
       "      <td>6</td>\n",
       "    </tr>\n",
       "    <tr>\n",
       "      <th>4</th>\n",
       "      <td>30000436</td>\n",
       "      <td>3</td>\n",
       "    </tr>\n",
       "  </tbody>\n",
       "</table>\n",
       "</div>"
      ],
      "text/plain": [
       "    HOUSEID  n_trips\n",
       "0  30000012        9\n",
       "1  30000082       10\n",
       "2  30000380       14\n",
       "3  30000434        6\n",
       "4  30000436        3"
      ]
     },
     "execution_count": 11,
     "metadata": {},
     "output_type": "execute_result"
    }
   ],
   "source": [
    "ny_trip_count.head()"
   ]
  },
  {
   "cell_type": "code",
   "execution_count": 12,
   "metadata": {},
   "outputs": [
    {
     "data": {
      "image/png": "[encoded data removed]",
      "text/plain": [
       "<Figure size 432x288 with 1 Axes>"
      ]
     },
     "metadata": {
      "needs_background": "light"
     },
     "output_type": "display_data"
    }
   ],
   "source": [
    "# Joining back to Household\n",
    "ny = ny.merge(ny_trip_count, how = 'left')\n",
    "sns.histplot(ny['n_trips'])\n",
    "ny['n_trips'][ny['n_trips'].isna()] = 0\n",
    "ny = ny[ny['n_trips']<30]"
   ]
  },
  {
   "cell_type": "code",
   "execution_count": 13,
   "metadata": {},
   "outputs": [],
   "source": [
    "# Train, test, split\n",
    "\n",
    "x_col = [c for c in ny if c != 'n_trips']\n",
    "x_df = ny[x_col]\n",
    "y_df = ny['n_trips']\n",
    "\n",
    "x_train,x_test, y_train, y_test = model_selection.train_test_split(x_df, y_df, test_size = 0.2, random_state = 888)"
   ]
  },
  {
   "cell_type": "markdown",
   "metadata": {},
   "source": [
    "## 1.3 People"
   ]
  },
  {
   "cell_type": "code",
   "execution_count": 14,
   "metadata": {},
   "outputs": [],
   "source": [
    "# filtering people from New York\n",
    "nyorker = person[person['HOUSEID'].isin(ny['HOUSEID'])]"
   ]
  },
  {
   "cell_type": "code",
   "execution_count": 15,
   "metadata": {},
   "outputs": [],
   "source": [
    "# selection of columns based on prior background inference of potential features\n",
    "nyorker = nyorker[['HOUSEID','R_AGE','EDUC','R_RACE','R_SEX','WRK_HOME','WKFTPT','OCCAT','DRIVER']]"
   ]
  },
  {
   "cell_type": "code",
   "execution_count": 16,
   "metadata": {},
   "outputs": [
    {
     "data": {
      "image/png": "[encoded data removed]",
      "text/plain": [
       "<Figure size 432x288 with 1 Axes>"
      ]
     },
     "metadata": {
      "needs_background": "light"
     },
     "output_type": "display_data"
    }
   ],
   "source": [
    "# bin age \n",
    "sns.histplot(nyorker['R_AGE'])\n",
    "\n",
    "#impute missing values with mean age of training data \n",
    "\n",
    "nyorker['R_AGE'][nyorker['R_AGE']<0] = round(nyorker['R_AGE'][(nyorker['HOUSEID'].isin(x_train['HOUSEID']))&(nyorker['R_AGE']>0)].mean()) "
   ]
  },
  {
   "cell_type": "code",
   "execution_count": 17,
   "metadata": {},
   "outputs": [
    {
     "name": "stdout",
     "output_type": "stream",
     "text": [
      "          counts  percentage\n",
      "56 to 65    6992   21.790756\n",
      "66 to 75    5569   17.355939\n",
      "46 to 55    4760   14.834668\n",
      "26 to 35    3113    9.701748\n",
      "36 to 45    3057    9.527223\n",
      "5 to 15     3027    9.433727\n",
      ">75         2957    9.215570\n",
      "16 to 25    2612    8.140368\n"
     ]
    },
    {
     "data": {
      "image/png": "[encoded data removed]",
      "text/plain": [
       "<Figure size 432x288 with 1 Axes>"
      ]
     },
     "metadata": {
      "needs_background": "light"
     },
     "output_type": "display_data"
    }
   ],
   "source": [
    "# Bin age to groups \n",
    "nyorker['AGE_bins'] = 'NA'\n",
    "nyorker.loc[nyorker['R_AGE'].between(5,15,inclusive = True), 'AGE_bins'] = \"5 to 15\"\n",
    "nyorker.loc[nyorker['R_AGE'].between(16,25,inclusive = True), 'AGE_bins'] = \"16 to 25\"\n",
    "nyorker.loc[nyorker['R_AGE'].between(26,35,inclusive = True), 'AGE_bins'] = \"26 to 35\"\n",
    "nyorker.loc[nyorker['R_AGE'].between(36,45,inclusive = True), 'AGE_bins'] = \"36 to 45\"\n",
    "nyorker.loc[nyorker['R_AGE'].between(46,55,inclusive = True), 'AGE_bins'] = \"46 to 55\"\n",
    "nyorker.loc[nyorker['R_AGE'].between(56,65,inclusive = True), 'AGE_bins'] = \"56 to 65\"\n",
    "nyorker.loc[nyorker['R_AGE'].between(66,75,inclusive = True), 'AGE_bins'] = \"66 to 75\"\n",
    "nyorker.loc[nyorker['R_AGE']>75, 'AGE_bins'] = \">75\"\n",
    "\n",
    "cat_col_prop(nyorker,'AGE_bins')"
   ]
  },
  {
   "cell_type": "code",
   "execution_count": 18,
   "metadata": {},
   "outputs": [],
   "source": [
    "# one -hot all categorical featuers first\n",
    "\n",
    "to_obj = ['AGE_bins','EDUC','R_RACE','R_SEX','WRK_HOME','WKFTPT','OCCAT','DRIVER']\n",
    "\n",
    "nyorker[to_obj] = nyorker[to_obj].astype(str)\n",
    "mean_age = nyorker[['HOUSEID','R_AGE']].groupby(['HOUSEID']).mean().reset_index().rename(columns = {'R_AGE':'mean_age'})\n",
    "nyorker.drop(['R_AGE'],axis = 1 , inplace = True)\n",
    "\n",
    "one_hot_col = [c for c in nyorker if nyorker[c].dtypes == 'O']\n",
    "nyorker = pd.concat([nyorker,pd.get_dummies(nyorker[one_hot_col],prefix = one_hot_col)],axis = 1)\n",
    "nyorker.drop(one_hot_col, axis = 1, inplace = True)"
   ]
  },
  {
   "cell_type": "code",
   "execution_count": 19,
   "metadata": {},
   "outputs": [
    {
     "data": {
      "text/html": [
       "<div>\n",
       "<style scoped>\n",
       "    .dataframe tbody tr th:only-of-type {\n",
       "        vertical-align: middle;\n",
       "    }\n",
       "\n",
       "    .dataframe tbody tr th {\n",
       "        vertical-align: top;\n",
       "    }\n",
       "\n",
       "    .dataframe thead th {\n",
       "        text-align: right;\n",
       "    }\n",
       "</style>\n",
       "<table border=\"1\" class=\"dataframe\">\n",
       "  <thead>\n",
       "    <tr style=\"text-align: right;\">\n",
       "      <th></th>\n",
       "      <th>HOUSEID</th>\n",
       "      <th>mean_age</th>\n",
       "    </tr>\n",
       "  </thead>\n",
       "  <tbody>\n",
       "    <tr>\n",
       "      <th>0</th>\n",
       "      <td>30000012</td>\n",
       "      <td>45.000000</td>\n",
       "    </tr>\n",
       "    <tr>\n",
       "      <th>1</th>\n",
       "      <td>30000082</td>\n",
       "      <td>38.500000</td>\n",
       "    </tr>\n",
       "    <tr>\n",
       "      <th>2</th>\n",
       "      <td>30000130</td>\n",
       "      <td>45.000000</td>\n",
       "    </tr>\n",
       "    <tr>\n",
       "      <th>3</th>\n",
       "      <td>30000380</td>\n",
       "      <td>37.333333</td>\n",
       "    </tr>\n",
       "    <tr>\n",
       "      <th>4</th>\n",
       "      <td>30000434</td>\n",
       "      <td>67.500000</td>\n",
       "    </tr>\n",
       "    <tr>\n",
       "      <th>...</th>\n",
       "      <td>...</td>\n",
       "      <td>...</td>\n",
       "    </tr>\n",
       "    <tr>\n",
       "      <th>15589</th>\n",
       "      <td>40793669</td>\n",
       "      <td>24.000000</td>\n",
       "    </tr>\n",
       "    <tr>\n",
       "      <th>15590</th>\n",
       "      <td>40793685</td>\n",
       "      <td>67.500000</td>\n",
       "    </tr>\n",
       "    <tr>\n",
       "      <th>15591</th>\n",
       "      <td>40793808</td>\n",
       "      <td>42.000000</td>\n",
       "    </tr>\n",
       "    <tr>\n",
       "      <th>15592</th>\n",
       "      <td>40793974</td>\n",
       "      <td>81.000000</td>\n",
       "    </tr>\n",
       "    <tr>\n",
       "      <th>15593</th>\n",
       "      <td>40794020</td>\n",
       "      <td>72.500000</td>\n",
       "    </tr>\n",
       "  </tbody>\n",
       "</table>\n",
       "<p>15594 rows × 2 columns</p>\n",
       "</div>"
      ],
      "text/plain": [
       "        HOUSEID   mean_age\n",
       "0      30000012  45.000000\n",
       "1      30000082  38.500000\n",
       "2      30000130  45.000000\n",
       "3      30000380  37.333333\n",
       "4      30000434  67.500000\n",
       "...         ...        ...\n",
       "15589  40793669  24.000000\n",
       "15590  40793685  67.500000\n",
       "15591  40793808  42.000000\n",
       "15592  40793974  81.000000\n",
       "15593  40794020  72.500000\n",
       "\n",
       "[15594 rows x 2 columns]"
      ]
     },
     "execution_count": 19,
     "metadata": {},
     "output_type": "execute_result"
    }
   ],
   "source": [
    "mean_age"
   ]
  },
  {
   "cell_type": "code",
   "execution_count": 20,
   "metadata": {},
   "outputs": [],
   "source": [
    "na_cols =[c for c in nyorker if ('NA' in c) or ('-' in c)]\n",
    "\n",
    "nyorker.drop(na_cols, axis = 1, inplace = True)\n"
   ]
  },
  {
   "cell_type": "code",
   "execution_count": 21,
   "metadata": {},
   "outputs": [],
   "source": [
    "# get counts of each bin\n",
    "nyorker = nyorker.groupby('HOUSEID').sum()\n",
    "nyorker = nyorker.merge(mean_age, how = 'left', left_on = 'HOUSEID', right_on= 'HOUSEID')"
   ]
  },
  {
   "cell_type": "code",
   "execution_count": 22,
   "metadata": {},
   "outputs": [],
   "source": [
    "x_train = x_train.merge(nyorker, how = 'left', left_on = 'HOUSEID', right_on = 'HOUSEID')\n",
    "x_test = x_test.merge(nyorker, how = 'left', left_on = 'HOUSEID', right_on = 'HOUSEID')"
   ]
  },
  {
   "cell_type": "markdown",
   "metadata": {},
   "source": [
    "## 2. EDA & Feature Engineering"
   ]
  },
  {
   "cell_type": "code",
   "execution_count": 23,
   "metadata": {},
   "outputs": [
    {
     "name": "stdout",
     "output_type": "stream",
     "text": [
      "<class 'pandas.core.frame.DataFrame'>\n",
      "Int64Index: 12475 entries, 0 to 12474\n",
      "Data columns (total 50 columns):\n",
      " #   Column             Non-Null Count  Dtype  \n",
      "---  ------             --------------  -----  \n",
      " 0   HOUSEID            12475 non-null  int64  \n",
      " 1   HH_CBSA            12475 non-null  object \n",
      " 2   HOMEOWN            12475 non-null  int64  \n",
      " 3   HHSIZE             12475 non-null  int64  \n",
      " 4   HHVEHCNT           12475 non-null  int64  \n",
      " 5   HHFAMINC           12475 non-null  int64  \n",
      " 6   NUMADLT            12475 non-null  int64  \n",
      " 7   YOUNGCHILD         12475 non-null  int64  \n",
      " 8   WRKCOUNT           12475 non-null  int64  \n",
      " 9   MSACAT             12475 non-null  int64  \n",
      " 10  MSASIZE            12475 non-null  int64  \n",
      " 11  URBAN              12475 non-null  int64  \n",
      " 12  URBANSIZE          12475 non-null  int64  \n",
      " 13  URBRUR             12475 non-null  int64  \n",
      " 14  LIF_CYC            12475 non-null  int64  \n",
      " 15  TRAVDAY            12475 non-null  int64  \n",
      " 16  EDUC_1             12475 non-null  uint8  \n",
      " 17  EDUC_2             12475 non-null  uint8  \n",
      " 18  EDUC_3             12475 non-null  uint8  \n",
      " 19  EDUC_4             12475 non-null  uint8  \n",
      " 20  EDUC_5             12475 non-null  uint8  \n",
      " 21  R_RACE_1           12475 non-null  uint8  \n",
      " 22  R_RACE_2           12475 non-null  uint8  \n",
      " 23  R_RACE_3           12475 non-null  uint8  \n",
      " 24  R_RACE_4           12475 non-null  uint8  \n",
      " 25  R_RACE_5           12475 non-null  uint8  \n",
      " 26  R_RACE_6           12475 non-null  uint8  \n",
      " 27  R_RACE_97          12475 non-null  uint8  \n",
      " 28  R_SEX_1            12475 non-null  uint8  \n",
      " 29  R_SEX_2            12475 non-null  uint8  \n",
      " 30  WRK_HOME_1         12475 non-null  uint8  \n",
      " 31  WRK_HOME_2         12475 non-null  uint8  \n",
      " 32  WKFTPT_1           12475 non-null  uint8  \n",
      " 33  WKFTPT_2           12475 non-null  uint8  \n",
      " 34  OCCAT_1            12475 non-null  uint8  \n",
      " 35  OCCAT_2            12475 non-null  uint8  \n",
      " 36  OCCAT_3            12475 non-null  uint8  \n",
      " 37  OCCAT_4            12475 non-null  uint8  \n",
      " 38  OCCAT_97           12475 non-null  uint8  \n",
      " 39  DRIVER_1           12475 non-null  uint8  \n",
      " 40  DRIVER_2           12475 non-null  uint8  \n",
      " 41  AGE_bins_16 to 25  12475 non-null  uint8  \n",
      " 42  AGE_bins_26 to 35  12475 non-null  uint8  \n",
      " 43  AGE_bins_36 to 45  12475 non-null  uint8  \n",
      " 44  AGE_bins_46 to 55  12475 non-null  uint8  \n",
      " 45  AGE_bins_5 to 15   12475 non-null  uint8  \n",
      " 46  AGE_bins_56 to 65  12475 non-null  uint8  \n",
      " 47  AGE_bins_66 to 75  12475 non-null  uint8  \n",
      " 48  AGE_bins_>75       12475 non-null  uint8  \n",
      " 49  mean_age           12475 non-null  float64\n",
      "dtypes: float64(1), int64(15), object(1), uint8(33)\n",
      "memory usage: 2.1+ MB\n"
     ]
    }
   ],
   "source": [
    "x_train.info()"
   ]
  },
  {
   "cell_type": "markdown",
   "metadata": {},
   "source": [
    "#### Person Columns"
   ]
  },
  {
   "cell_type": "code",
   "execution_count": 24,
   "metadata": {},
   "outputs": [
    {
     "name": "stdout",
     "output_type": "stream",
     "text": [
      "EDUC_1\n",
      "   counts  percentage\n",
      "0   11099    88.96994\n",
      "1    1376    11.03006\n",
      "EDUC_2\n",
      "   counts  percentage\n",
      "0    8611   69.026052\n",
      "1    3864   30.973948\n",
      "EDUC_3\n",
      "   counts  percentage\n",
      "0    7412    59.41483\n",
      "1    5063    40.58517\n",
      "EDUC_4\n",
      "   counts  percentage\n",
      "0    8429   67.567134\n",
      "1    4046   32.432866\n",
      "EDUC_5\n",
      "   counts  percentage\n",
      "0    8075   64.729459\n",
      "1    4400   35.270541\n",
      "R_RACE_1\n",
      "   counts  percentage\n",
      "1   11590   92.905812\n",
      "0     885    7.094188\n",
      "R_RACE_2\n",
      "   counts  percentage\n",
      "0   12038   96.496994\n",
      "1     437    3.503006\n",
      "R_RACE_3\n",
      "   counts  percentage\n",
      "0   12050   96.593186\n",
      "1     425    3.406814\n",
      "R_RACE_4\n",
      "   counts  percentage\n",
      "0   12420   99.559118\n",
      "1      55    0.440882\n",
      "R_RACE_5\n",
      "   counts  percentage\n",
      "0   12462   99.895792\n",
      "1      13    0.104208\n",
      "R_RACE_6\n",
      "   counts  percentage\n",
      "0   12080   96.833667\n",
      "1     395    3.166333\n",
      "R_RACE_97\n",
      "   counts  percentage\n",
      "0   12292   98.533066\n",
      "1     183    1.466934\n",
      "R_SEX_1\n",
      "   counts  percentage\n",
      "1    9866   79.086172\n",
      "0    2609   20.913828\n",
      "WRK_HOME_1\n",
      "   counts  percentage\n",
      "0   11222   89.955912\n",
      "1    1253   10.044088\n",
      "WKFTPT_1\n",
      "   counts  percentage\n",
      "1    6778   54.332665\n",
      "0    5697   45.667335\n",
      "OCCAT_1\n",
      "   counts  percentage\n",
      "0   10196   81.731463\n",
      "1    2279   18.268537\n",
      "OCCAT_2\n",
      "   counts  percentage\n",
      "0   11118   89.122244\n",
      "1    1357   10.877756\n",
      "OCCAT_3\n",
      "   counts  percentage\n",
      "0   11109     89.0501\n",
      "1    1366     10.9499\n",
      "OCCAT_4\n",
      "   counts  percentage\n",
      "0    7288   58.420842\n",
      "1    5187   41.579158\n",
      "OCCAT_97\n",
      "   counts  percentage\n",
      "0   12461   99.887776\n",
      "1      14    0.112224\n",
      "DRIVER_1\n",
      "   counts  percentage\n",
      "1   12430   99.639279\n",
      "0      45    0.360721\n",
      "AGE_bins_16 to 25\n",
      "   counts  percentage\n",
      "0   10847     86.9499\n",
      "1    1628     13.0501\n",
      "AGE_bins_26 to 35\n",
      "   counts  percentage\n",
      "0   10680   85.611222\n",
      "1    1795   14.388778\n",
      "AGE_bins_36 to 45\n",
      "   counts  percentage\n",
      "0   10696   85.739479\n",
      "1    1779   14.260521\n",
      "AGE_bins_46 to 55\n",
      "   counts  percentage\n",
      "0    9607    77.01002\n",
      "1    2868    22.98998\n",
      "AGE_bins_5 to 15\n",
      "   counts  percentage\n",
      "0   10891   87.302605\n",
      "1    1584   12.697395\n",
      "AGE_bins_56 to 65\n",
      "   counts  percentage\n",
      "0    8325   66.733467\n",
      "1    4150   33.266533\n",
      "AGE_bins_66 to 75\n",
      "   counts  percentage\n",
      "0    9151   73.354709\n",
      "1    3324   26.645291\n",
      "AGE_bins_>75\n",
      "   counts  percentage\n",
      "0   10619   85.122244\n",
      "1    1856   14.877756\n"
     ]
    },
    {
     "data": {
      "image/png": "[encoded data removed]",
      "text/plain": [
       "<Figure size 432x288 with 1 Axes>"
      ]
     },
     "metadata": {
      "needs_background": "light"
     },
     "output_type": "display_data"
    }
   ],
   "source": [
    "# Drop binary columns \n",
    "x_train.drop(['R_SEX_2','WRK_HOME_2','WKFTPT_2','DRIVER_2'],axis = 1 , inplace = True)\n",
    "x_test.drop(['R_SEX_2','WRK_HOME_2','WKFTPT_2','DRIVER_2'],axis = 1 , inplace = True)\n",
    "\n",
    "# binarize rest of columns \n",
    "age_col = [c for c in x_train if any([x in c for x in to_obj])]\n",
    "\n",
    "for col in age_col:\n",
    "    print(col)\n",
    "    \n",
    "    #conversion of all to binary as no substantial difference \n",
    "    x_train[col][x_train[col]>0] = 1\n",
    "    x_train[col][x_train[col]==0] = 0\n",
    "    cat_col_prop(x_train, col)\n",
    "    x_test[col][x_test[col]>0] = 1\n",
    "    x_test[col][x_test[col]==0] = 0"
   ]
  },
  {
   "cell_type": "markdown",
   "metadata": {},
   "source": [
    "#### Core Based Statiscal Area FIPS code (HH_CBSA)"
   ]
  },
  {
   "cell_type": "code",
   "execution_count": 25,
   "metadata": {},
   "outputs": [
    {
     "name": "stdout",
     "output_type": "stream",
     "text": [
      "       counts  percentage\n",
      "XXXXX    7664   61.434870\n",
      "35620    3480   27.895792\n",
      "40380     713    5.715431\n",
      "15380     618    4.953908\n"
     ]
    },
    {
     "data": {
      "image/png": "[encoded data removed]",
      "text/plain": [
       "<Figure size 432x288 with 1 Axes>"
      ]
     },
     "metadata": {
      "needs_background": "light"
     },
     "output_type": "display_data"
    }
   ],
   "source": [
    "#Core Based Statistical Area (CBSA) FIPS code for the respondent's home address\n",
    "\n",
    "cat_col_prop(x_train,'HH_CBSA')\n",
    "\n",
    "# To note significant number of households under the 'XXXXX=Suppressed, in an MSA of less than 1 million ' category"
   ]
  },
  {
   "cell_type": "markdown",
   "metadata": {},
   "source": [
    "####  Home Ownership (HOMEOWN)"
   ]
  },
  {
   "cell_type": "code",
   "execution_count": 26,
   "metadata": {},
   "outputs": [
    {
     "name": "stdout",
     "output_type": "stream",
     "text": [
      "     counts  percentage\n",
      " 1    10174   81.555110\n",
      " 2     2208   17.699399\n",
      " 97      92    0.737475\n",
      "-7        1    0.008016\n"
     ]
    },
    {
     "data": {
      "image/png": "[encoded data removed]",
      "text/plain": [
       "<Figure size 432x288 with 1 Axes>"
      ]
     },
     "metadata": {
      "needs_background": "light"
     },
     "output_type": "display_data"
    }
   ],
   "source": [
    "cat_col_prop(x_train,'HOMEOWN')\n",
    "#Small count with missing value 2. to address in one-hot encoding"
   ]
  },
  {
   "cell_type": "markdown",
   "metadata": {},
   "source": [
    "#### Household Vehicle Count (HHVEHCNT)"
   ]
  },
  {
   "cell_type": "code",
   "execution_count": 27,
   "metadata": {},
   "outputs": [
    {
     "name": "stdout",
     "output_type": "stream",
     "text": [
      "    counts  percentage\n",
      "2     5003   40.104208\n",
      "1     4665   37.394790\n",
      "3     1822   14.605210\n",
      "4      643    5.154309\n",
      "5      221    1.771543\n",
      "6       77    0.617234\n",
      "7       29    0.232465\n",
      "8        8    0.064128\n",
      "9        4    0.032064\n",
      "11       2    0.016032\n",
      "12       1    0.008016\n"
     ]
    },
    {
     "data": {
      "image/png": "[encoded data removed]",
      "text/plain": [
       "<Figure size 432x288 with 1 Axes>"
      ]
     },
     "metadata": {
      "needs_background": "light"
     },
     "output_type": "display_data"
    }
   ],
   "source": [
    "#count of household vehicles\n",
    "\n",
    "cat_col_prop(x_train,'HHVEHCNT')\n",
    "\n",
    "\n",
    "# as group size significantly smaller from 4 and above to bin to a single group\n",
    "\n",
    "x_train['HHVEHCNT'][x_train['HHVEHCNT']>3] = \">3\"\n",
    "x_test['HHVEHCNT'][x_test['HHVEHCNT']>3] = \">3\"\n"
   ]
  },
  {
   "cell_type": "markdown",
   "metadata": {},
   "source": [
    "#### Family Income (HHFAMINC)"
   ]
  },
  {
   "cell_type": "code",
   "execution_count": 28,
   "metadata": {},
   "outputs": [
    {
     "name": "stdout",
     "output_type": "stream",
     "text": [
      "     counts  percentage\n",
      " 6     2305   18.476954\n",
      " 7     1717   13.763527\n",
      " 5     1502   12.040080\n",
      " 8     1329   10.653307\n",
      " 4     1178    9.442886\n",
      " 3      980    7.855711\n",
      " 9      760    6.092184\n",
      " 11     725    5.811623\n",
      " 10     693    5.555110\n",
      " 2      512    4.104208\n",
      "-7      381    3.054108\n",
      " 1      331    2.653307\n",
      "-8       60    0.480962\n",
      "-9        2    0.016032\n"
     ]
    },
    {
     "data": {
      "image/png": "[encoded data removed]",
      "text/plain": [
       "<Figure size 432x288 with 1 Axes>"
      ]
     },
     "metadata": {
      "needs_background": "light"
     },
     "output_type": "display_data"
    }
   ],
   "source": [
    "cat_col_prop(x_train,'HHFAMINC')\n",
    "# approx 3% missing (<0) to address in one-hot encoding"
   ]
  },
  {
   "cell_type": "markdown",
   "metadata": {},
   "source": [
    "#### Number of Adult  (NUMADLT)"
   ]
  },
  {
   "cell_type": "code",
   "execution_count": 29,
   "metadata": {},
   "outputs": [
    {
     "name": "stdout",
     "output_type": "stream",
     "text": [
      "    counts  percentage\n",
      "2     7054   56.545090\n",
      "1     4034   32.336673\n",
      "3     1057    8.472946\n",
      "4      268    2.148297\n",
      "5       51    0.408818\n",
      "6        8    0.064128\n",
      "7        2    0.016032\n",
      "10       1    0.008016\n"
     ]
    },
    {
     "data": {
      "image/png": "[encoded data removed]",
      "text/plain": [
       "<Figure size 432x288 with 1 Axes>"
      ]
     },
     "metadata": {
      "needs_background": "light"
     },
     "output_type": "display_data"
    }
   ],
   "source": [
    "cat_col_prop(x_train, 'NUMADLT')\n",
    "#no missing values\n",
    "\n",
    "# as group size significantly smaller from 3 and above to bin to a single group\n",
    "\n",
    "x_train['NUMADLT'][x_train['NUMADLT']>2] = \">2\"\n",
    "x_test['NUMADLT'][x_test['NUMADLT']>2] = \">2\""
   ]
  },
  {
   "cell_type": "markdown",
   "metadata": {},
   "source": [
    "#### Number of Young Child (YOUNGCHILD)"
   ]
  },
  {
   "cell_type": "code",
   "execution_count": 30,
   "metadata": {},
   "outputs": [
    {
     "name": "stdout",
     "output_type": "stream",
     "text": [
      "   counts  percentage\n",
      "0   11645   93.346693\n",
      "1     606    4.857715\n",
      "2     205    1.643287\n",
      "3      17    0.136273\n",
      "4       1    0.008016\n",
      "5       1    0.008016\n"
     ]
    },
    {
     "data": {
      "image/png": "[encoded data removed]",
      "text/plain": [
       "<Figure size 432x288 with 1 Axes>"
      ]
     },
     "metadata": {
      "needs_background": "light"
     },
     "output_type": "display_data"
    }
   ],
   "source": [
    "cat_col_prop(x_train,'YOUNGCHILD')\n",
    "\n",
    "# as group size significantly smaller from 1 and above to binarize column\n",
    "x_train['YOUNGCHILD'][x_train['YOUNGCHILD']>0] = \"1\"\n",
    "x_test['YOUNGCHILD'][x_test['YOUNGCHILD']>0] = \"1\""
   ]
  },
  {
   "cell_type": "markdown",
   "metadata": {},
   "source": [
    "#### Worker Count (WRKCOUNT)"
   ]
  },
  {
   "cell_type": "code",
   "execution_count": 31,
   "metadata": {},
   "outputs": [
    {
     "name": "stdout",
     "output_type": "stream",
     "text": [
      "   counts  percentage\n",
      "0    4298   34.452906\n",
      "1    4214   33.779559\n",
      "2    3372   27.030060\n",
      "3     467    3.743487\n",
      "4     111    0.889780\n",
      "5      12    0.096192\n",
      "6       1    0.008016\n"
     ]
    },
    {
     "data": {
      "image/png": "[encoded data removed]",
      "text/plain": [
       "<Figure size 432x288 with 1 Axes>"
      ]
     },
     "metadata": {
      "needs_background": "light"
     },
     "output_type": "display_data"
    }
   ],
   "source": [
    "cat_col_prop(x_train,'WRKCOUNT')\n",
    "\n",
    "# as group size significantly smaller from 2 and above to bin to a single group\n",
    "\n",
    "x_train['WRKCOUNT'][x_train['WRKCOUNT']>1] = \">1\"\n",
    "x_test['WRKCOUNT'][x_test['WRKCOUNT']>1] = \">1\""
   ]
  },
  {
   "cell_type": "markdown",
   "metadata": {},
   "source": [
    "### Household Size (HHSIZE)"
   ]
  },
  {
   "cell_type": "code",
   "execution_count": 32,
   "metadata": {},
   "outputs": [
    {
     "name": "stdout",
     "output_type": "stream",
     "text": [
      "    counts  percentage\n",
      "2     5529   44.320641\n",
      "1     3765   30.180361\n",
      "3     1572   12.601202\n",
      "4     1101    8.825651\n",
      "5      355    2.845691\n",
      "6      101    0.809619\n",
      "7       30    0.240481\n",
      "8       13    0.104208\n",
      "9        6    0.048096\n",
      "10       2    0.016032\n",
      "11       1    0.008016\n"
     ]
    },
    {
     "data": {
      "image/png": "[encoded data removed]",
      "text/plain": [
       "<Figure size 432x288 with 1 Axes>"
      ]
     },
     "metadata": {
      "needs_background": "light"
     },
     "output_type": "display_data"
    }
   ],
   "source": [
    "cat_col_prop(x_train,'HHSIZE')\n",
    "\n",
    "# as group size significantly smaller from 4 and above to bin to a single group\n",
    "x_train['HHSIZE'][x_train['HHSIZE']>3] = \">3\"\n",
    "x_test['HHSIZE'][x_test['HHSIZE']>3] = \">3\""
   ]
  },
  {
   "cell_type": "markdown",
   "metadata": {},
   "source": [
    "#### Metropolitan Statistical Area (MSACAT)\n"
   ]
  },
  {
   "cell_type": "code",
   "execution_count": 33,
   "metadata": {},
   "outputs": [
    {
     "name": "stdout",
     "output_type": "stream",
     "text": [
      "   counts  percentage\n",
      "3    5549   44.480962\n",
      "1    3480   27.895792\n",
      "4    2115   16.953908\n",
      "2    1331   10.669339\n"
     ]
    },
    {
     "data": {
      "image/png": "[encoded data removed]",
      "text/plain": [
       "<Figure size 432x288 with 1 Axes>"
      ]
     },
     "metadata": {
      "needs_background": "light"
     },
     "output_type": "display_data"
    }
   ],
   "source": [
    "cat_col_prop(x_train,'MSACAT')\n",
    "#no missing values and relatively proportional distribution"
   ]
  },
  {
   "cell_type": "markdown",
   "metadata": {},
   "source": [
    "#### Population size of MSA (MSASIZE)"
   ]
  },
  {
   "cell_type": "code",
   "execution_count": 34,
   "metadata": {},
   "outputs": [
    {
     "name": "stdout",
     "output_type": "stream",
     "text": [
      "   counts  percentage\n",
      "5    3480   27.895792\n",
      "1    3271   26.220441\n",
      "6    2115   16.953908\n",
      "3    1686   13.515030\n",
      "4    1331   10.669339\n",
      "2     592    4.745491\n"
     ]
    },
    {
     "data": {
      "image/png": "[encoded data removed]",
      "text/plain": [
       "<Figure size 432x288 with 1 Axes>"
      ]
     },
     "metadata": {
      "needs_background": "light"
     },
     "output_type": "display_data"
    }
   ],
   "source": [
    "cat_col_prop(x_train,'MSASIZE')\n",
    "             \n",
    "#no missing values and relatively proportional distribution"
   ]
  },
  {
   "cell_type": "markdown",
   "metadata": {},
   "source": [
    "#### URBANSIZE"
   ]
  },
  {
   "cell_type": "code",
   "execution_count": 35,
   "metadata": {},
   "outputs": [
    {
     "name": "stdout",
     "output_type": "stream",
     "text": [
      "   counts  percentage\n",
      "6    5501   44.096192\n",
      "5    2203   17.659319\n",
      "1    2043   16.376754\n",
      "3    1462   11.719439\n",
      "2    1266   10.148297\n"
     ]
    },
    {
     "data": {
      "image/png": "[encoded data removed]",
      "text/plain": [
       "<Figure size 432x288 with 1 Axes>"
      ]
     },
     "metadata": {
      "needs_background": "light"
     },
     "output_type": "display_data"
    }
   ],
   "source": [
    "#06 = not in an urbanised area \n",
    "#05 - 1 million with heavy rail \n",
    "\n",
    "#Relatively proportional classes\n",
    "cat_col_prop(x_train,'URBANSIZE')"
   ]
  },
  {
   "cell_type": "markdown",
   "metadata": {},
   "source": [
    "#### URBRUR"
   ]
  },
  {
   "cell_type": "code",
   "execution_count": 36,
   "metadata": {},
   "outputs": [
    {
     "name": "stdout",
     "output_type": "stream",
     "text": [
      "   counts  percentage\n",
      "1    8268   66.276553\n",
      "2    4207   33.723447\n"
     ]
    },
    {
     "data": {
      "image/png": "[encoded data removed]",
      "text/plain": [
       "<Figure size 432x288 with 1 Axes>"
      ]
     },
     "metadata": {
      "needs_background": "light"
     },
     "output_type": "display_data"
    }
   ],
   "source": [
    "cat_col_prop(x_train,'URBRUR')\n",
    "# missing values nor disproportion"
   ]
  },
  {
   "cell_type": "markdown",
   "metadata": {},
   "source": [
    "#### LIF_CYC "
   ]
  },
  {
   "cell_type": "code",
   "execution_count": 37,
   "metadata": {},
   "outputs": [
    {
     "name": "stdout",
     "output_type": "stream",
     "text": [
      "    counts  percentage\n",
      "10    3330   26.693387\n",
      "2     2710   21.723447\n",
      "1     1970   15.791583\n",
      "9     1795   14.388778\n",
      "6      941    7.543086\n",
      "4      858    6.877756\n",
      "8      497    3.983968\n",
      "5      184    1.474950\n",
      "7      112    0.897796\n",
      "3       78    0.625251\n"
     ]
    },
    {
     "data": {
      "image/png": "[encoded data removed]",
      "text/plain": [
       "<Figure size 432x288 with 1 Axes>"
      ]
     },
     "metadata": {
      "needs_background": "light"
     },
     "output_type": "display_data"
    }
   ],
   "source": [
    "cat_col_prop(x_train,\"LIF_CYC\")\n",
    "\n",
    "# No major disproportion"
   ]
  },
  {
   "cell_type": "markdown",
   "metadata": {},
   "source": [
    "## 3. One-Hot- Encoding"
   ]
  },
  {
   "cell_type": "code",
   "execution_count": 38,
   "metadata": {},
   "outputs": [
    {
     "data": {
      "text/plain": [
       "HOUSEID                int64\n",
       "HH_CBSA               object\n",
       "HOMEOWN                int64\n",
       "HHSIZE                object\n",
       "HHVEHCNT              object\n",
       "HHFAMINC               int64\n",
       "NUMADLT               object\n",
       "YOUNGCHILD            object\n",
       "WRKCOUNT              object\n",
       "MSACAT                 int64\n",
       "MSASIZE                int64\n",
       "URBAN                  int64\n",
       "URBANSIZE              int64\n",
       "URBRUR                 int64\n",
       "LIF_CYC                int64\n",
       "TRAVDAY                int64\n",
       "EDUC_1                 uint8\n",
       "EDUC_2                 uint8\n",
       "EDUC_3                 uint8\n",
       "EDUC_4                 uint8\n",
       "EDUC_5                 uint8\n",
       "R_RACE_1               uint8\n",
       "R_RACE_2               uint8\n",
       "R_RACE_3               uint8\n",
       "R_RACE_4               uint8\n",
       "R_RACE_5               uint8\n",
       "R_RACE_6               uint8\n",
       "R_RACE_97              uint8\n",
       "R_SEX_1                uint8\n",
       "WRK_HOME_1             uint8\n",
       "WKFTPT_1               uint8\n",
       "OCCAT_1                uint8\n",
       "OCCAT_2                uint8\n",
       "OCCAT_3                uint8\n",
       "OCCAT_4                uint8\n",
       "OCCAT_97               uint8\n",
       "DRIVER_1               uint8\n",
       "AGE_bins_16 to 25      uint8\n",
       "AGE_bins_26 to 35      uint8\n",
       "AGE_bins_36 to 45      uint8\n",
       "AGE_bins_46 to 55      uint8\n",
       "AGE_bins_5 to 15       uint8\n",
       "AGE_bins_56 to 65      uint8\n",
       "AGE_bins_66 to 75      uint8\n",
       "AGE_bins_>75           uint8\n",
       "mean_age             float64\n",
       "dtype: object"
      ]
     },
     "execution_count": 38,
     "metadata": {},
     "output_type": "execute_result"
    }
   ],
   "source": [
    "x_train.dtypes"
   ]
  },
  {
   "cell_type": "code",
   "execution_count": 39,
   "metadata": {},
   "outputs": [],
   "source": [
    "to_obj = ['TRAVDAY','MSACAT','MSASIZE','URBAN','URBANSIZE','URBRUR','LIF_CYC']\n",
    "x_train[to_obj] = x_train[to_obj].astype(str)\n",
    "x_test[to_obj]= x_test[to_obj].astype(str)"
   ]
  },
  {
   "cell_type": "code",
   "execution_count": 40,
   "metadata": {},
   "outputs": [],
   "source": [
    "one_hot_col = [c for c in x_train if x_train[c].dtypes == 'O' ]\n",
    "x_train = pd.concat([x_train,pd.get_dummies(x_train[one_hot_col],prefix = one_hot_col)],axis = 1)\n",
    "x_train.drop(one_hot_col, axis = 1, inplace = True)\n",
    "\n",
    "x_test = pd.concat([x_test,pd.get_dummies(x_test[one_hot_col],prefix = one_hot_col)],axis = 1)\n",
    "x_test.drop(one_hot_col, axis = 1, inplace = True)"
   ]
  },
  {
   "cell_type": "code",
   "execution_count": 41,
   "metadata": {},
   "outputs": [],
   "source": [
    "#drop all negative value columns  \n",
    "\n",
    "na_cols_train =[c for c in x_train if ('NA' in c) or ('-' in c)]\n",
    "\n",
    "x_train.drop(na_cols_train, axis = 1, inplace = True)\n",
    "\n",
    "\n",
    "na_cols_test =[c for c in x_test if ('NA' in c) or ('-' in c)]\n",
    "x_test.drop(na_cols_test, axis = 1 , inplace = True)"
   ]
  },
  {
   "cell_type": "code",
   "execution_count": 42,
   "metadata": {},
   "outputs": [
    {
     "data": {
      "text/plain": [
       "(12475, 91)"
      ]
     },
     "execution_count": 42,
     "metadata": {},
     "output_type": "execute_result"
    }
   ],
   "source": [
    "x_train.shape"
   ]
  },
  {
   "cell_type": "code",
   "execution_count": 43,
   "metadata": {},
   "outputs": [
    {
     "data": {
      "text/plain": [
       "(3119, 90)"
      ]
     },
     "execution_count": 43,
     "metadata": {},
     "output_type": "execute_result"
    }
   ],
   "source": [
    "x_test.shape"
   ]
  },
  {
   "cell_type": "code",
   "execution_count": 44,
   "metadata": {},
   "outputs": [
    {
     "data": {
      "text/plain": [
       "['URBAN_3']"
      ]
     },
     "execution_count": 44,
     "metadata": {},
     "output_type": "execute_result"
    }
   ],
   "source": [
    "y_list = [c for c in x_test]\n",
    "missing_col = [c for c in x_train if c not in y_list]\n",
    "\n",
    "x_test[missing_col] = 0\n",
    "missing_col"
   ]
  },
  {
   "cell_type": "code",
   "execution_count": 45,
   "metadata": {},
   "outputs": [
    {
     "data": {
      "text/plain": [
       "<matplotlib.axes._subplots.AxesSubplot at 0x14dffe52508>"
      ]
     },
     "execution_count": 45,
     "metadata": {},
     "output_type": "execute_result"
    },
    {
     "data": {
      "image/png": "[encoded data removed]",
      "text/plain": [
       "<Figure size 432x288 with 1 Axes>"
      ]
     },
     "metadata": {
      "needs_background": "light"
     },
     "output_type": "display_data"
    }
   ],
   "source": [
    "sns.histplot(y_train)"
   ]
  },
  {
   "cell_type": "markdown",
   "metadata": {},
   "source": [
    "## 4.Models"
   ]
  },
  {
   "cell_type": "markdown",
   "metadata": {},
   "source": [
    "### Linear Regression"
   ]
  },
  {
   "cell_type": "code",
   "execution_count": 46,
   "metadata": {},
   "outputs": [],
   "source": [
    "#Checking for multicollinearity through variance Inflation Factor \n",
    "#VIF=1, Very Less Multicollinearity\n",
    "#VIF<5, Moderate Multicollinearity\n",
    "#VIF>5, Extreme Multicollinearity (This is what we have to avoid)\n",
    "\n",
    "import statsmodels.api as sm\n",
    "from statsmodels.stats.outliers_influence import variance_inflation_factor\n",
    "from sklearn import linear_model, model_selection, metrics\n"
   ]
  },
  {
   "cell_type": "code",
   "execution_count": 47,
   "metadata": {},
   "outputs": [],
   "source": [
    "LRmodel = linear_model.LinearRegression()  #create the linear regression \n",
    "LRmodel.fit(x_train,y_train) #train the model using the training set \n",
    "LR_pred = LRmodel.predict(x_test) #use this model to predict the test data set "
   ]
  },
  {
   "cell_type": "code",
   "execution_count": 48,
   "metadata": {},
   "outputs": [
    {
     "name": "stdout",
     "output_type": "stream",
     "text": [
      "R^2 score:\t\t\t\t 0.13312441156401966\n",
      "Explained Variance: \t\t\t 0.14067470107607327\n",
      "Mean Absolute Error: \t\t\t 3.5155840348578127\n",
      "Mean Squared Error:\t\t\t 21.534898990840375\n",
      "Root Mean Squared Error:\t\t 4.640570976813131\n",
      "Intercept:\t 4.974180680966002\n",
      "Coef:\t 91\n"
     ]
    }
   ],
   "source": [
    "print('R^2 score:\\t\\t\\t\\t',LRmodel.score(x_test, y_test)) #compute R^2 score \n",
    "print('Explained Variance: \\t\\t\\t', metrics.explained_variance_score(y_test, LR_pred)) #compute explained variance score\n",
    "print('Mean Absolute Error: \\t\\t\\t', metrics.mean_absolute_error(y_test, LR_pred)) #compute MAE results\n",
    "print('Mean Squared Error:\\t\\t\\t', metrics.mean_squared_error(y_test, LR_pred)) #compute MSE results\n",
    "print('Root Mean Squared Error:\\t\\t', metrics.mean_squared_error(y_test, LR_pred, squared = False)) #compute RSME results\n",
    "print('Intercept:\\t', LRmodel.intercept_) #find intercept value \n",
    "print('Coef:\\t', np.sum(LRmodel.coef_!=0))#find no of features used in regression model "
   ]
  },
  {
   "cell_type": "markdown",
   "metadata": {},
   "source": [
    "### Random Forest"
   ]
  },
  {
   "cell_type": "code",
   "execution_count": 49,
   "metadata": {},
   "outputs": [
    {
     "data": {
      "text/plain": [
       "RandomForestRegressor(max_features=50, n_estimators=1000, oob_score=True,\n",
       "                      random_state=2019)"
      ]
     },
     "execution_count": 49,
     "metadata": {},
     "output_type": "execute_result"
    }
   ],
   "source": [
    "from sklearn import tree, ensemble, model_selection, metrics\n",
    "\n",
    "rforest = ensemble.RandomForestRegressor(n_estimators = 1000, max_features = 50, oob_score = True, random_state = 2019)\n",
    "rforest.fit(x_train, y_train)"
   ]
  },
  {
   "cell_type": "code",
   "execution_count": 50,
   "metadata": {},
   "outputs": [
    {
     "data": {
      "text/plain": [
       "0.19062636959864665"
      ]
     },
     "execution_count": 50,
     "metadata": {},
     "output_type": "execute_result"
    }
   ],
   "source": [
    "rforest.score(x_test, y_test)"
   ]
  },
  {
   "cell_type": "code",
   "execution_count": null,
   "metadata": {},
   "outputs": [],
   "source": []
  }
 ],
 "metadata": {
  "kernelspec": {
   "display_name": "Python 3",
   "language": "python",
   "name": "python3"
  },
  "language_info": {
   "codemirror_mode": {
    "name": "ipython",
    "version": 3
   },
   "file_extension": ".py",
   "mimetype": "text/x-python",
   "name": "python",
   "nbconvert_exporter": "python",
   "pygments_lexer": "ipython3",
   "version": "3.7.4"
  }
 },
 "nbformat": 4,
 "nbformat_minor": 2
}
